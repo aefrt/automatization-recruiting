{
 "cells": [
  {
   "cell_type": "markdown",
   "id": "41b3e9f1-17cd-448d-bde7-9cfef4b30262",
   "metadata": {},
   "source": [
    "## ВКР: анализ данных"
   ]
  },
  {
   "cell_type": "markdown",
   "id": "603a9da5-cd31-436e-ac09-53a4989c2552",
   "metadata": {},
   "source": [
    "Автоматизация подбора персонала\n",
    "\n",
    "Копчев Владислав, БПМИ197"
   ]
  },
  {
   "cell_type": "markdown",
   "id": "2aa41204-e166-4fbb-aacc-c60461c4c663",
   "metadata": {},
   "source": [
    "В данном ноутбуке предобработанные в ноутбуке `preprocessing.ipynb` данные мы будем анализировать и делать из них полезные для принятия HR-решений выводы."
   ]
  },
  {
   "cell_type": "markdown",
   "id": "9b7a3e77-82be-45ab-b8c0-0327d7e7ff03",
   "metadata": {},
   "source": [
    "### Библиотеки"
   ]
  },
  {
   "cell_type": "markdown",
   "id": "03eee3b0-f0de-4cfa-814a-d498e7dc8bd2",
   "metadata": {},
   "source": [
    "Импорт библиотек:"
   ]
  },
  {
   "cell_type": "code",
   "execution_count": 4,
   "id": "51390a49-af19-4714-8209-35086ee596b8",
   "metadata": {},
   "outputs": [],
   "source": [
    "from bs4 import BeautifulSoup\n",
    "import requests\n",
    "import pandas as pd\n",
    "from selenium import webdriver\n",
    "from selenium.webdriver.common.keys import Keys\n",
    "from selenium.webdriver.common.by import By\n",
    "from selenium.webdriver.support.ui import Select\n",
    "# !pip install transliterate\n",
    "from transliterate import translit\n",
    "import re\n",
    "import numpy as np\n",
    "\n",
    "from scipy.spatial import distance\n",
    "from sklearn.preprocessing import StandardScaler\n",
    "from sklearn.decomposition import PCA\n",
    "import seaborn as sns\n",
    "from sklearn.cluster import KMeans\n",
    "import matplotlib.pyplot as plt\n",
    "import numpy as np\n",
    "from sklearn.linear_model import LinearRegression\n",
    "from sklearn.linear_model import LogisticRegression\n",
    "from sklearn.metrics import accuracy_score\n",
    "from sklearn.preprocessing import LabelEncoder"
   ]
  },
  {
   "cell_type": "markdown",
   "id": "558d8586-b380-4bf8-b610-6390cef770a1",
   "metadata": {},
   "source": [
    "Мы имеем таблицу с данными, в которых все признаки приведены к простому виду, выделены новые полезные признаки, была произведена суммаризация раздела \"О себе\". Теперь мы произведем токенизацию раздела \"О себе\" на совокупность 3-грамм, которые мы и будем считать токенами, после чего построим эмбеддинги."
   ]
  },
  {
   "cell_type": "markdown",
   "id": "7f01112b-3e50-44a8-a334-da5e366a2aca",
   "metadata": {},
   "source": [
    "**Токенизация раздела \"О себе\" на 1-граммы:**"
   ]
  },
  {
   "cell_type": "code",
   "execution_count": 2,
   "id": "e4fdb3b1-b935-4a9a-835f-5fd43b695d29",
   "metadata": {},
   "outputs": [],
   "source": [
    "df = pd.read_csv('resumes_features.csv')"
   ]
  },
  {
   "cell_type": "code",
   "execution_count": 38,
   "id": "46b66f6a-da01-4cd5-b768-1b5328ec17b3",
   "metadata": {},
   "outputs": [],
   "source": [
    "df.drop(list(df)[0], axis=1, inplace=True)\n",
    "df.reset_index(inplace=True)\n",
    "df.drop(list(df)[0], axis=1, inplace=True)"
   ]
  },
  {
   "cell_type": "code",
   "execution_count": 39,
   "id": "cc91a73b-4481-4eaa-ab8a-cda931bd3c81",
   "metadata": {},
   "outputs": [
    {
     "data": {
      "text/html": [
       "<div>\n",
       "<style scoped>\n",
       "    .dataframe tbody tr th:only-of-type {\n",
       "        vertical-align: middle;\n",
       "    }\n",
       "\n",
       "    .dataframe tbody tr th {\n",
       "        vertical-align: top;\n",
       "    }\n",
       "\n",
       "    .dataframe thead th {\n",
       "        text-align: right;\n",
       "    }\n",
       "</style>\n",
       "<table border=\"1\" class=\"dataframe\">\n",
       "  <thead>\n",
       "    <tr style=\"text-align: right;\">\n",
       "      <th></th>\n",
       "      <th>Ссылка</th>\n",
       "      <th>Название</th>\n",
       "      <th>Коммандировка</th>\n",
       "      <th>Опыт</th>\n",
       "      <th>О себе</th>\n",
       "      <th>Образование</th>\n",
       "      <th>Интересы</th>\n",
       "      <th>Навыки</th>\n",
       "      <th>Образование-1</th>\n",
       "      <th>Образование-2</th>\n",
       "      <th>...</th>\n",
       "      <th>93</th>\n",
       "      <th>94</th>\n",
       "      <th>95</th>\n",
       "      <th>96</th>\n",
       "      <th>97</th>\n",
       "      <th>98</th>\n",
       "      <th>99</th>\n",
       "      <th>clust</th>\n",
       "      <th>DA, predicted</th>\n",
       "      <th>DS, predicted</th>\n",
       "    </tr>\n",
       "  </thead>\n",
       "  <tbody>\n",
       "    <tr>\n",
       "      <th>310</th>\n",
       "      <td>https://hh.ru/resume/37e441d7000584d8630039ed1...</td>\n",
       "      <td>Системный аналитик, Системный архитектор IoT</td>\n",
       "      <td>Москва, не готов к переезду, готов к командиро...</td>\n",
       "      <td>Опыт работы 14 лет 5 месяцев</td>\n",
       "      <td>Профессиональный пользователь пакета Microsoft...</td>\n",
       "      <td>Высшее образование\\n2013\\nМосковский государст...</td>\n",
       "      <td>Специализации:\\nРуководитель группы разработки...</td>\n",
       "      <td>---</td>\n",
       "      <td>Московский государственный строительный универ...</td>\n",
       "      <td>Военно-космическая академия им. А.Ф. Можайског...</td>\n",
       "      <td>...</td>\n",
       "      <td>0.00017</td>\n",
       "      <td>-0.000993</td>\n",
       "      <td>0.001864</td>\n",
       "      <td>-0.001281</td>\n",
       "      <td>-0.001077</td>\n",
       "      <td>-0.001738</td>\n",
       "      <td>-0.000656</td>\n",
       "      <td>1</td>\n",
       "      <td>0.0</td>\n",
       "      <td>0.0</td>\n",
       "    </tr>\n",
       "  </tbody>\n",
       "</table>\n",
       "<p>1 rows × 140 columns</p>\n",
       "</div>"
      ],
      "text/plain": [
       "                                                Ссылка  \\\n",
       "310  https://hh.ru/resume/37e441d7000584d8630039ed1...   \n",
       "\n",
       "                                         Название  \\\n",
       "310  Системный аналитик, Системный архитектор IoT   \n",
       "\n",
       "                                         Коммандировка  \\\n",
       "310  Москва, не готов к переезду, готов к командиро...   \n",
       "\n",
       "                             Опыт  \\\n",
       "310  Опыт работы 14 лет 5 месяцев   \n",
       "\n",
       "                                                О себе  \\\n",
       "310  Профессиональный пользователь пакета Microsoft...   \n",
       "\n",
       "                                           Образование  \\\n",
       "310  Высшее образование\\n2013\\nМосковский государст...   \n",
       "\n",
       "                                              Интересы Навыки  \\\n",
       "310  Специализации:\\nРуководитель группы разработки...    ---   \n",
       "\n",
       "                                         Образование-1  \\\n",
       "310  Московский государственный строительный универ...   \n",
       "\n",
       "                                         Образование-2  ...       93  \\\n",
       "310  Военно-космическая академия им. А.Ф. Можайског...  ...  0.00017   \n",
       "\n",
       "           94        95        96        97        98        99 clust  \\\n",
       "310 -0.000993  0.001864 -0.001281 -0.001077 -0.001738 -0.000656     1   \n",
       "\n",
       "     DA, predicted  DS, predicted  \n",
       "310            0.0            0.0  \n",
       "\n",
       "[1 rows x 140 columns]"
      ]
     },
     "execution_count": 39,
     "metadata": {},
     "output_type": "execute_result"
    }
   ],
   "source": [
    "df.sample(1)"
   ]
  },
  {
   "cell_type": "markdown",
   "id": "3f65e082-e795-4015-9121-68bf3c4509e3",
   "metadata": {},
   "source": [
    "Для начала построим разбиение на 1-граммы (в коде также мы уберем пробелы и ненужные символы, стоп-слова, приведем слова к нормальной форме):"
   ]
  },
  {
   "cell_type": "code",
   "execution_count": 630,
   "id": "92c1cb6b-b792-489c-8bcc-16b1a72fbeda",
   "metadata": {},
   "outputs": [],
   "source": [
    "import nltk\n",
    "# nltk.download('stopwords')\n",
    "\n",
    "import re\n",
    "from pymorphy2 import MorphAnalyzer\n",
    "from nltk.corpus import stopwords\n",
    "patterns = \"[0-9!#$%&'()*+,./:;<=>?@[\\]^_`{|}~—\\\"\\-]+\"\n",
    "stopwords_ru = stopwords.words(\"russian\")\n",
    "morph = MorphAnalyzer()\n",
    "def lemmatize(doc):\n",
    "    # print(doc)\n",
    "    doc = re.sub(patterns, ' ', doc)\n",
    "    tokens = []\n",
    "    for token in doc.split():\n",
    "        if token and token not in stopwords_ru and morph.normal_forms(token)[0] not in stopwords_ru:  # ВОТ откуда там стоп-слвоа — В not in stopwords_ru -> normal(В) = в\n",
    "            # print(token)\n",
    "            token = token.strip()\n",
    "            token = morph.normal_forms(token)[0]\n",
    "            tokens.append(token)\n",
    "    if len(tokens) > 2:\n",
    "        return tokens\n",
    "    return None\n",
    "\n",
    "df2 = pd.DataFrame(df['О себе, summarized'])\n",
    "\n",
    "for col_ind in df2.index:\n",
    "    col = df2.loc[col_ind]['О себе, summarized']\n",
    "    if col:\n",
    "        df2.loc[col_ind]['О себе, summarized'] = lemmatize(str(col))\n",
    "        #print(lemmatize(str(col)))\n",
    "        \n",
    "data = df2['О себе, summarized']\n",
    "\n",
    "from collections import defaultdict\n",
    "word_freq = defaultdict(int)\n",
    "for tokens in data.iloc[:]:\n",
    "    if tokens:\n",
    "        for token in tokens:\n",
    "            word_freq[token] += 1"
   ]
  },
  {
   "cell_type": "markdown",
   "id": "478ba7b2-a1f8-4e8c-bf30-1878321046dd",
   "metadata": {},
   "source": [
    "Видим, что разбиение прошло успещно:"
   ]
  },
  {
   "cell_type": "code",
   "execution_count": 631,
   "id": "441d3f94-0b4d-4518-a883-52eb40437033",
   "metadata": {},
   "outputs": [
    {
     "data": {
      "text/html": [
       "<div>\n",
       "<style scoped>\n",
       "    .dataframe tbody tr th:only-of-type {\n",
       "        vertical-align: middle;\n",
       "    }\n",
       "\n",
       "    .dataframe tbody tr th {\n",
       "        vertical-align: top;\n",
       "    }\n",
       "\n",
       "    .dataframe thead th {\n",
       "        text-align: right;\n",
       "    }\n",
       "</style>\n",
       "<table border=\"1\" class=\"dataframe\">\n",
       "  <thead>\n",
       "    <tr style=\"text-align: right;\">\n",
       "      <th></th>\n",
       "      <th>О себе, summarized</th>\n",
       "    </tr>\n",
       "  </thead>\n",
       "  <tbody>\n",
       "    <tr>\n",
       "      <th>495</th>\n",
       "      <td>[опыт, управление, отдел, оперативный, стратег...</td>\n",
       "    </tr>\n",
       "    <tr>\n",
       "      <th>1328</th>\n",
       "      <td>[магистратура, мгу, поступить, «таргетолог», э...</td>\n",
       "    </tr>\n",
       "    <tr>\n",
       "      <th>1064</th>\n",
       "      <td>[информационно, аналитический, знание, пк, exc...</td>\n",
       "    </tr>\n",
       "  </tbody>\n",
       "</table>\n",
       "</div>"
      ],
      "text/plain": [
       "                                     О себе, summarized\n",
       "495   [опыт, управление, отдел, оперативный, стратег...\n",
       "1328  [магистратура, мгу, поступить, «таргетолог», э...\n",
       "1064  [информационно, аналитический, знание, пк, exc..."
      ]
     },
     "execution_count": 631,
     "metadata": {},
     "output_type": "execute_result"
    }
   ],
   "source": [
    "df2.sample(3)"
   ]
  },
  {
   "cell_type": "markdown",
   "id": "070636cb-f089-4ca5-bbdc-9199e1403686",
   "metadata": {},
   "source": [
    "Теперь построим 2-граммы по 1-граммам:"
   ]
  },
  {
   "cell_type": "code",
   "execution_count": 632,
   "id": "b7c5b2b3-9db9-47ad-bfc6-d9dfd4832532",
   "metadata": {},
   "outputs": [],
   "source": [
    "from nltk.util import ngrams\n",
    "from nltk import word_tokenize \n",
    "\n",
    "tokens2 = []\n",
    "\n",
    "for x in df2['О себе, summarized']:\n",
    "    if x is not None:\n",
    "        bigrams = []\n",
    "        for bg in list(ngrams(x, 2)):\n",
    "            bigrams.append(' '.join(bg))\n",
    "        tokens2.append(bigrams)\n",
    "    else:\n",
    "        tokens2.append(None)\n",
    "        \n",
    "df2['О себе 2'] = tokens2"
   ]
  },
  {
   "cell_type": "code",
   "execution_count": 633,
   "id": "5c3110b2-4298-432f-a886-ff038030c442",
   "metadata": {},
   "outputs": [
    {
     "data": {
      "text/html": [
       "<div>\n",
       "<style scoped>\n",
       "    .dataframe tbody tr th:only-of-type {\n",
       "        vertical-align: middle;\n",
       "    }\n",
       "\n",
       "    .dataframe tbody tr th {\n",
       "        vertical-align: top;\n",
       "    }\n",
       "\n",
       "    .dataframe thead th {\n",
       "        text-align: right;\n",
       "    }\n",
       "</style>\n",
       "<table border=\"1\" class=\"dataframe\">\n",
       "  <thead>\n",
       "    <tr style=\"text-align: right;\">\n",
       "      <th></th>\n",
       "      <th>О себе, summarized</th>\n",
       "      <th>О себе 2</th>\n",
       "    </tr>\n",
       "  </thead>\n",
       "  <tbody>\n",
       "    <tr>\n",
       "      <th>1728</th>\n",
       "      <td>[germany, турция, анга, турк, казахстан, узбек...</td>\n",
       "      <td>[germany турция, турция анга, анга турк, турк ...</td>\n",
       "    </tr>\n",
       "    <tr>\n",
       "      <th>2442</th>\n",
       "      <td>[находиться, поиск, работа, данный, момент, за...</td>\n",
       "      <td>[находиться поиск, поиск работа, работа данный...</td>\n",
       "    </tr>\n",
       "    <tr>\n",
       "      <th>2386</th>\n",
       "      <td>[данный, момент, открыть, предложение, постоян...</td>\n",
       "      <td>[данный момент, момент открыть, открыть предло...</td>\n",
       "    </tr>\n",
       "  </tbody>\n",
       "</table>\n",
       "</div>"
      ],
      "text/plain": [
       "                                     О себе, summarized  \\\n",
       "1728  [germany, турция, анга, турк, казахстан, узбек...   \n",
       "2442  [находиться, поиск, работа, данный, момент, за...   \n",
       "2386  [данный, момент, открыть, предложение, постоян...   \n",
       "\n",
       "                                               О себе 2  \n",
       "1728  [germany турция, турция анга, анга турк, турк ...  \n",
       "2442  [находиться поиск, поиск работа, работа данный...  \n",
       "2386  [данный момент, момент открыть, открыть предло...  "
      ]
     },
     "execution_count": 633,
     "metadata": {},
     "output_type": "execute_result"
    }
   ],
   "source": [
    "df2.sample(3)"
   ]
  },
  {
   "cell_type": "markdown",
   "id": "0539c9f1-a782-4045-bd1b-e08d304a1ea1",
   "metadata": {},
   "source": [
    "Аналогичным образом, наконец, построим 3-граммы:"
   ]
  },
  {
   "cell_type": "code",
   "execution_count": 634,
   "id": "d31d45f6-3bc9-49e6-935f-9d223a89140f",
   "metadata": {},
   "outputs": [],
   "source": [
    "from nltk.util import ngrams\n",
    "from nltk import word_tokenize \n",
    "\n",
    "tokens3 = []\n",
    "\n",
    "for x in df2['О себе, summarized']:\n",
    "    if x is not None:\n",
    "        trigrams = []\n",
    "        for tg in list(ngrams(x, 3)):\n",
    "            trigrams.append(' '.join(tg))\n",
    "        tokens3.append(trigrams)\n",
    "    else:\n",
    "        tokens3.append(None)\n",
    "        \n",
    "df2['О себе 3'] = tokens3"
   ]
  },
  {
   "cell_type": "code",
   "execution_count": 635,
   "id": "dcbb261e-6da7-4f58-a062-2e625a7f33a7",
   "metadata": {},
   "outputs": [
    {
     "data": {
      "text/html": [
       "<div>\n",
       "<style scoped>\n",
       "    .dataframe tbody tr th:only-of-type {\n",
       "        vertical-align: middle;\n",
       "    }\n",
       "\n",
       "    .dataframe tbody tr th {\n",
       "        vertical-align: top;\n",
       "    }\n",
       "\n",
       "    .dataframe thead th {\n",
       "        text-align: right;\n",
       "    }\n",
       "</style>\n",
       "<table border=\"1\" class=\"dataframe\">\n",
       "  <thead>\n",
       "    <tr style=\"text-align: right;\">\n",
       "      <th></th>\n",
       "      <th>О себе, summarized</th>\n",
       "      <th>О себе 2</th>\n",
       "      <th>О себе 3</th>\n",
       "    </tr>\n",
       "  </thead>\n",
       "  <tbody>\n",
       "    <tr>\n",
       "      <th>469</th>\n",
       "      <td>None</td>\n",
       "      <td>None</td>\n",
       "      <td>None</td>\n",
       "    </tr>\n",
       "    <tr>\n",
       "      <th>1194</th>\n",
       "      <td>[gingtor, c, gestori, best, microsoft, excel, ...</td>\n",
       "      <td>[gingtor c, c gestori, gestori best, best micr...</td>\n",
       "      <td>[gingtor c gestori, c gestori best, gestori be...</td>\n",
       "    </tr>\n",
       "    <tr>\n",
       "      <th>2187</th>\n",
       "      <td>[настоящий, время, работать, консалтинговый, к...</td>\n",
       "      <td>[настоящий время, время работать, работать кон...</td>\n",
       "      <td>[настоящий время работать, время работать конс...</td>\n",
       "    </tr>\n",
       "  </tbody>\n",
       "</table>\n",
       "</div>"
      ],
      "text/plain": [
       "                                     О себе, summarized  \\\n",
       "469                                                None   \n",
       "1194  [gingtor, c, gestori, best, microsoft, excel, ...   \n",
       "2187  [настоящий, время, работать, консалтинговый, к...   \n",
       "\n",
       "                                               О себе 2  \\\n",
       "469                                                None   \n",
       "1194  [gingtor c, c gestori, gestori best, best micr...   \n",
       "2187  [настоящий время, время работать, работать кон...   \n",
       "\n",
       "                                               О себе 3  \n",
       "469                                                None  \n",
       "1194  [gingtor c gestori, c gestori best, gestori be...  \n",
       "2187  [настоящий время работать, время работать конс...  "
      ]
     },
     "execution_count": 635,
     "metadata": {},
     "output_type": "execute_result"
    }
   ],
   "source": [
    "df2.sample(3)"
   ]
  },
  {
   "cell_type": "markdown",
   "id": "b1183f3e-34c4-47e7-ac42-cffecec2f4db",
   "metadata": {},
   "source": [
    "**Построение эмбеддингов**"
   ]
  },
  {
   "cell_type": "markdown",
   "id": "0799b562-8e18-4739-b68f-02fdb6791a20",
   "metadata": {},
   "source": [
    "Теперь перейдем к построению эмбеддингов. Будем использовать метод построения эмбеддингов word2vec. Определим векторное представление триграммы как среднее векторных представлений слов внутри нее."
   ]
  },
  {
   "cell_type": "code",
   "execution_count": 627,
   "id": "9593813d-29e2-4b63-b740-b7384b0b3304",
   "metadata": {},
   "outputs": [],
   "source": [
    "from gensim.test.utils import common_texts\n",
    "from gensim.models import Word2Vec"
   ]
  },
  {
   "cell_type": "markdown",
   "id": "f8f8ebcb-6540-4a10-8aeb-1ee2868c4370",
   "metadata": {},
   "source": [
    "Избавимся от пропусков, чтобы не было проблем с применением метода:"
   ]
  },
  {
   "cell_type": "code",
   "execution_count": 628,
   "id": "b624a13b-a46b-4e93-99bd-4c2837f60f1e",
   "metadata": {},
   "outputs": [
    {
     "ename": "NameError",
     "evalue": "name 'df2' is not defined",
     "output_type": "error",
     "traceback": [
      "\u001b[0;31m---------------------------------------------------------------------------\u001b[0m",
      "\u001b[0;31mNameError\u001b[0m                                 Traceback (most recent call last)",
      "Cell \u001b[0;32mIn[628], line 1\u001b[0m\n\u001b[0;32m----> 1\u001b[0m \u001b[43mdf2\u001b[49m\u001b[38;5;241m.\u001b[39mloc[df2[\u001b[38;5;124m'\u001b[39m\u001b[38;5;124mО себе 3\u001b[39m\u001b[38;5;124m'\u001b[39m]\u001b[38;5;241m.\u001b[39misna(), \u001b[38;5;124m'\u001b[39m\u001b[38;5;124mО себе 3\u001b[39m\u001b[38;5;124m'\u001b[39m] \u001b[38;5;241m=\u001b[39m \u001b[38;5;124m'\u001b[39m\u001b[38;5;124m-\u001b[39m\u001b[38;5;124m'\u001b[39m\n",
      "\u001b[0;31mNameError\u001b[0m: name 'df2' is not defined"
     ]
    }
   ],
   "source": [
    "df2.loc[df2['О себе 3'].isna(), 'О себе 3'] = '-'"
   ]
  },
  {
   "cell_type": "code",
   "execution_count": 629,
   "id": "0d6e33c5-d046-469b-9228-ccf0ddf57fd0",
   "metadata": {},
   "outputs": [
    {
     "ename": "NameError",
     "evalue": "name 'df2' is not defined",
     "output_type": "error",
     "traceback": [
      "\u001b[0;31m---------------------------------------------------------------------------\u001b[0m",
      "\u001b[0;31mNameError\u001b[0m                                 Traceback (most recent call last)",
      "Cell \u001b[0;32mIn[629], line 1\u001b[0m\n\u001b[0;32m----> 1\u001b[0m \u001b[43mdf2\u001b[49m[df2[\u001b[38;5;124m'\u001b[39m\u001b[38;5;124mО себе 3\u001b[39m\u001b[38;5;124m'\u001b[39m]\u001b[38;5;241m.\u001b[39misna()][\u001b[38;5;124m'\u001b[39m\u001b[38;5;124mО себе 3\u001b[39m\u001b[38;5;124m'\u001b[39m]\n",
      "\u001b[0;31mNameError\u001b[0m: name 'df2' is not defined"
     ]
    }
   ],
   "source": [
    "df2[df2['О себе 3'].isna()]['О себе 3']"
   ]
  },
  {
   "cell_type": "markdown",
   "id": "be56112f-15e2-45a6-9bd3-a926122545f6",
   "metadata": {},
   "source": [
    "Обучим модель:"
   ]
  },
  {
   "cell_type": "code",
   "execution_count": 14,
   "id": "5a19a055-7bfd-462e-89e2-a9434e0a0ecf",
   "metadata": {},
   "outputs": [],
   "source": [
    "model = Word2Vec(sentences=df2['О себе 3'], vector_size=100, window=5, min_count=1, workers=4)\n",
    "model.save(\"word2vec.model\")"
   ]
  },
  {
   "cell_type": "code",
   "execution_count": 15,
   "id": "fd3869ea-2216-460b-b8c9-e49b584c4862",
   "metadata": {},
   "outputs": [],
   "source": [
    "model = Word2Vec.load(\"word2vec.model\")"
   ]
  },
  {
   "cell_type": "code",
   "execution_count": 16,
   "id": "1865db88-f445-4dd0-afc6-2ef1ecbe4217",
   "metadata": {},
   "outputs": [
    {
     "data": {
      "text/plain": [
       "(41876, 42180)"
      ]
     },
     "execution_count": 16,
     "metadata": {},
     "output_type": "execute_result"
    }
   ],
   "source": [
    "model.train(df2['О себе 3'], total_examples=len(df2['О себе 3']), epochs=1)"
   ]
  },
  {
   "cell_type": "markdown",
   "id": "5a558727-c2cc-4833-b7fb-8e09df95c376",
   "metadata": {},
   "source": [
    "Посмотрим, что получилось, на примере:"
   ]
  },
  {
   "cell_type": "code",
   "execution_count": 17,
   "id": "e9f1156f-4f7b-4a15-b663-afe3d7d40b21",
   "metadata": {},
   "outputs": [],
   "source": [
    "vector = model.wv['нестандартный подход решение']  # get numpy vector of a word\n",
    "sims = model.wv.most_similar('нестандартный подход решение', topn=10)  # get other similar words"
   ]
  },
  {
   "cell_type": "code",
   "execution_count": 18,
   "id": "6b94ed60-5c69-4fe1-953c-8d96cdde5c89",
   "metadata": {},
   "outputs": [
    {
     "data": {
      "text/plain": [
       "array([-1.3731245e-03, -6.0318043e-03, -3.5993960e-03,  2.5822169e-03,\n",
       "       -3.4403072e-03,  3.3114718e-03, -2.0716081e-03,  5.8788578e-03,\n",
       "       -4.5993789e-03,  5.1936433e-03, -2.5904092e-03,  5.9636827e-03,\n",
       "       -9.9275867e-03,  1.7212337e-03, -2.5866113e-03, -6.9463714e-03,\n",
       "       -8.2352059e-03, -9.2737109e-04, -6.6999276e-03,  4.5005055e-03,\n",
       "        9.6941441e-03, -3.3452783e-03, -8.4236860e-03, -7.1765189e-03,\n",
       "       -8.6161762e-04,  2.2426036e-03, -3.3088059e-03,  8.5418178e-03,\n",
       "       -8.6569004e-03, -4.7039846e-03,  2.3342683e-03,  9.0949526e-03,\n",
       "        9.0479385e-03, -7.4489028e-03, -4.0854472e-03,  3.8165792e-03,\n",
       "       -5.9477882e-03,  1.6138772e-03,  7.3215081e-03, -8.3467728e-03,\n",
       "        1.2400823e-03, -2.4832943e-03, -5.1095095e-03,  4.7095730e-03,\n",
       "        8.0008730e-03,  4.9701151e-03, -1.2227132e-03,  3.8748691e-03,\n",
       "        4.9864613e-03,  1.0214840e-03,  6.2998715e-03,  3.4828477e-03,\n",
       "       -1.4472615e-03, -5.2840170e-04, -7.4826432e-03,  6.5560493e-04,\n",
       "        4.4457830e-04,  6.1480845e-03,  8.0713548e-04, -4.1159093e-03,\n",
       "        7.5003607e-03, -8.9601278e-03, -5.1719430e-03, -2.6184991e-03,\n",
       "       -4.5793653e-03, -9.4216466e-03, -6.7380294e-03,  3.9011510e-03,\n",
       "       -3.0898998e-05,  5.6695980e-03,  1.0265274e-03,  2.0175197e-03,\n",
       "        9.7118206e-03,  9.5987581e-03, -5.3602974e-03,  4.3392517e-03,\n",
       "        3.4550771e-03, -4.8089745e-03,  7.8220963e-03,  5.0850920e-03,\n",
       "        4.2219842e-03, -4.9174163e-03, -7.8273891e-03,  4.0979013e-03,\n",
       "       -8.1167221e-03, -8.7943440e-04,  9.8153707e-03,  3.1159068e-03,\n",
       "       -1.2583637e-03,  7.2605023e-03, -2.8161732e-03, -7.0074890e-03,\n",
       "       -5.7382970e-03, -6.5847863e-03, -3.2827619e-03, -8.6561181e-03,\n",
       "        4.0421337e-03,  1.5368327e-05,  4.7157858e-03,  3.7502572e-03],\n",
       "      dtype=float32)"
      ]
     },
     "execution_count": 18,
     "metadata": {},
     "output_type": "execute_result"
    }
   ],
   "source": [
    "vector"
   ]
  },
  {
   "cell_type": "code",
   "execution_count": 19,
   "id": "024bfcd3-e7a8-456d-a0b6-1708861b030e",
   "metadata": {},
   "outputs": [
    {
     "data": {
      "text/plain": [
       "[('ум способность работать', 0.4240112006664276),\n",
       " ('крупный российский агентство', 0.4139818549156189),\n",
       " ('подготовка рисовый руководство', 0.37553510069847107),\n",
       " ('письменный речь быстрый', 0.37198811769485474),\n",
       " ('человек направление проектирование', 0.3690244257450104),\n",
       " ('опыт управление опыт', 0.3580234944820404),\n",
       " ('эффективный проектный группа', 0.3470478653907776),\n",
       " ('строить bi дашборд', 0.34674718976020813),\n",
       " ('исполнительность коммуникабельность неконфликтность', 0.3419499397277832),\n",
       " ('дважды выигрывать золото', 0.34025755524635315)]"
      ]
     },
     "execution_count": 19,
     "metadata": {},
     "output_type": "execute_result"
    }
   ],
   "source": [
    "sims"
   ]
  },
  {
   "cell_type": "markdown",
   "id": "7762da35-4f02-49da-9ff4-c0946ac0e580",
   "metadata": {},
   "source": [
    "Вектор построен корректно, похожие триграммы подобраны неплохо с точки зрения соответствия смыслу."
   ]
  },
  {
   "cell_type": "markdown",
   "id": "65893361-3757-494d-b673-a711f957fa88",
   "metadata": {},
   "source": [
    "Итак, мы построили эмбеддинги. Теперь создадим табличку, где каждому резюме будет соответстовать вектор из среднего координат входящих в раздел \"О себе\" триграмм."
   ]
  },
  {
   "cell_type": "code",
   "execution_count": 29,
   "id": "f6602d86-6244-4a43-b2e4-fd33999ffb1b",
   "metadata": {
    "tags": []
   },
   "outputs": [],
   "source": [
    "our_data = pd.DataFrame(df2['О себе 3'])\n",
    "our_data['emb'] = 0\n",
    "embs = []\n",
    "for x in our_data['О себе 3']:\n",
    "    cur_embs = []\n",
    "    for y in x:\n",
    "        cur_embs.append(model.wv[y])\n",
    "    embs.append(cur_embs)\n",
    "our_data['emb'] = embs\n",
    "\n",
    "embs_flattened = []\n",
    "for x in our_data['emb']:\n",
    "    x_flat = np.array(x[0])\n",
    "    for z in x[1:]:\n",
    "        x_flat += np.array(z)\n",
    "    embs_flattened.append(x_flat / len(x))\n",
    "our_data['flat_emb'] = embs_flattened"
   ]
  },
  {
   "cell_type": "markdown",
   "id": "f261b3d9-ba32-4e82-ad11-56b0c5285c05",
   "metadata": {},
   "source": [
    "Посмотрим, получилось ли:"
   ]
  },
  {
   "cell_type": "code",
   "execution_count": 21,
   "id": "22cbe81f-88f1-48ca-8360-80fbab1fa6da",
   "metadata": {
    "tags": []
   },
   "outputs": [
    {
     "data": {
      "text/plain": [
       "array([-8.9733534e-05, -1.4903427e-03, -4.3309329e-04, -1.5185707e-03,\n",
       "        1.9882689e-04, -6.6812884e-04, -1.1088067e-03,  2.9330113e-04,\n",
       "        9.5741008e-04,  7.9226325e-04, -4.5761393e-04,  1.3036334e-03,\n",
       "        3.0163347e-04,  5.6685449e-04, -1.5547237e-04, -3.5465771e-04,\n",
       "       -9.5194695e-04, -8.5084222e-04,  9.9103898e-05,  3.0845238e-04,\n",
       "        1.2035813e-03, -1.1699978e-03, -2.6567779e-05, -1.9479783e-04,\n",
       "        2.9402881e-04, -2.6503281e-04, -4.2525877e-04, -6.3762459e-04,\n",
       "       -2.9430827e-04,  1.7190410e-03,  4.8069819e-04, -1.1875946e-03,\n",
       "        8.0915407e-04, -1.0336726e-03,  5.0132314e-04,  4.6027318e-04,\n",
       "        2.9451874e-04, -6.0084224e-04, -1.2486427e-04, -1.5228057e-03,\n",
       "       -2.5097869e-04, -7.7927712e-04, -7.1896962e-04,  2.7975603e-04,\n",
       "        5.3477060e-04, -1.3926753e-03,  1.2968958e-03,  9.6351636e-04,\n",
       "       -6.8623159e-04,  1.6484027e-04, -1.1463751e-03,  3.0750301e-04,\n",
       "       -3.1464504e-05, -1.7463832e-04, -7.8397139e-04,  3.4595936e-04,\n",
       "        1.1393812e-03, -2.5361852e-04, -7.0500007e-04,  3.5538297e-04,\n",
       "       -2.9945071e-04, -9.5416140e-04,  4.8399280e-04,  3.8975736e-04,\n",
       "        4.4460865e-04, -9.9292782e-04,  4.8779251e-04,  8.2974968e-04,\n",
       "       -1.1504121e-03,  1.9513671e-03, -1.1348671e-03,  5.9134106e-04,\n",
       "       -6.4521318e-04, -2.3486142e-05, -1.2264453e-03,  9.5286407e-05,\n",
       "       -7.9298130e-04,  1.2956584e-03,  7.6648482e-04, -6.9220935e-04,\n",
       "        1.8867136e-03, -6.5198110e-04,  1.9363644e-04,  8.5790287e-04,\n",
       "        1.5234649e-03,  1.2318745e-04, -1.9709814e-04,  1.0888701e-04,\n",
       "        8.5639232e-04, -8.7870838e-04, -2.1370503e-03,  3.4923333e-04,\n",
       "        1.6500587e-03, -3.3267486e-04, -2.6521244e-04, -1.1772292e-03,\n",
       "        2.2291484e-04, -4.7278960e-04,  7.4049889e-04,  8.2002400e-05],\n",
       "      dtype=float32)"
      ]
     },
     "execution_count": 21,
     "metadata": {},
     "output_type": "execute_result"
    }
   ],
   "source": [
    "our_data['flat_emb'][0]"
   ]
  },
  {
   "cell_type": "markdown",
   "id": "65dc72ad-ebf2-4366-a5c9-224099b63334",
   "metadata": {},
   "source": [
    "Действительно, получился вектор из $\\mathbb{R}^{100}$, где $i$-я координата — среднее $i$-х координат эмбеддингов входящих в текст эмбеддингов."
   ]
  },
  {
   "cell_type": "markdown",
   "id": "fe178893-df17-43de-a8af-79dcacd897a9",
   "metadata": {},
   "source": [
    "Уберем пропуски и запишем в `X` наши векторы:"
   ]
  },
  {
   "cell_type": "code",
   "execution_count": 22,
   "id": "008f557e-c283-472f-b483-af3ee8a7e762",
   "metadata": {},
   "outputs": [
    {
     "data": {
      "text/plain": [
       "array([[-8.9733534e-05, -1.4903427e-03, -4.3309329e-04, ...,\n",
       "        -4.7278960e-04,  7.4049889e-04,  8.2002400e-05],\n",
       "       [ 7.1607722e-04, -1.2704127e-03, -5.6693643e-05, ...,\n",
       "        -2.4448699e-04, -3.1193434e-03,  1.4831709e-03],\n",
       "       [-2.3151714e-04,  9.5034664e-04,  2.2582016e-03, ...,\n",
       "        -3.0662972e-04, -3.3801503e-04, -4.9993146e-04],\n",
       "       ...,\n",
       "       [ 2.5609378e-03,  2.2070701e-03,  4.0568793e-03, ...,\n",
       "         2.6059463e-03, -1.6657362e-03,  9.2574046e-06],\n",
       "       [-5.3622725e-04,  2.3643016e-04,  5.1033497e-03, ...,\n",
       "        -7.0415614e-03,  9.0145587e-04,  6.3925339e-03],\n",
       "       [-5.3622725e-04,  2.3643016e-04,  5.1033497e-03, ...,\n",
       "        -7.0415614e-03,  9.0145587e-04,  6.3925339e-03]], dtype=float32)"
      ]
     },
     "execution_count": 22,
     "metadata": {},
     "output_type": "execute_result"
    }
   ],
   "source": [
    "our_data['flat_emb'].dropna()\n",
    "X = list(our_data['flat_emb'].dropna())\n",
    "X = np.asarray(X)\n",
    "X"
   ]
  },
  {
   "cell_type": "markdown",
   "id": "70dcbf31-e49c-4c24-98c9-29ce421748ea",
   "metadata": {},
   "source": [
    "Осталось проверить, правда ли имеющие близкое к 0 [cosine distance](https://medium.com/geekculture/cosine-similarity-and-cosine-distance-48eed889a5c4) векторы похожи, а близкое к 1 — различны."
   ]
  },
  {
   "cell_type": "markdown",
   "id": "e5644119-4528-4e8e-af57-6691547a977e",
   "metadata": {},
   "source": [
    "Пример ортогональных векторов:"
   ]
  },
  {
   "cell_type": "code",
   "execution_count": 23,
   "id": "f3b4a56b-361e-4439-bdb7-bb805d0d2689",
   "metadata": {},
   "outputs": [
    {
     "data": {
      "text/plain": [
       "'Уверенный пользователь ПК, Ms Word, Ms Excel, 1С, Power Point, Internet Explorer, amoCRM, Bitrix24 и офисной техники; Правовых систем Гарант и Консультант +; Знание законодательства; Работа с входящей и исходящей корреспонденцией, Этика делового общения, общения с клиентами; Навыки работы по взаимодействию с государственными органами и общественными организациями; Неоднократное участие в судебных заседаниях; Анализ данных, составление договоров, запросов, отзывов, заявлений, уведомлений.'"
      ]
     },
     "execution_count": 23,
     "metadata": {},
     "output_type": "execute_result"
    }
   ],
   "source": [
    "df['О себе, summarized'][0]"
   ]
  },
  {
   "cell_type": "code",
   "execution_count": 24,
   "id": "bc0f35b8-9ce8-4aed-924a-931804a4649c",
   "metadata": {},
   "outputs": [
    {
     "data": {
      "text/plain": [
       "'В настоящее время занимаюсь благотворительной деятельностью. В свободное время занимаюсь бегом, плаванием, рисую в стиле фантази (карандаш), много путешествую, интересуюсь различиями культур и обычаями народов мира.'"
      ]
     },
     "execution_count": 24,
     "metadata": {},
     "output_type": "execute_result"
    }
   ],
   "source": [
    "df['О себе, summarized'][1]"
   ]
  },
  {
   "cell_type": "code",
   "execution_count": 25,
   "id": "6f41d732-89f2-4e0b-9992-dc378cc7c82a",
   "metadata": {},
   "outputs": [
    {
     "data": {
      "text/plain": [
       "0.9519143626093864"
      ]
     },
     "execution_count": 25,
     "metadata": {},
     "output_type": "execute_result"
    }
   ],
   "source": [
    "distance.cosine(X[0], X[1])"
   ]
  },
  {
   "cell_type": "markdown",
   "id": "af4edc21-2cba-4e67-9f55-b23618364a8f",
   "metadata": {},
   "source": [
    "Действительно, мы вижим, что резбме различны."
   ]
  },
  {
   "cell_type": "markdown",
   "id": "d78b79f1-76e8-4006-8e44-2676a7b895a3",
   "metadata": {},
   "source": [
    "Пример коллинеарных:"
   ]
  },
  {
   "cell_type": "code",
   "execution_count": 87,
   "id": "4118ce79-3a2b-411b-9456-792e03e3eb0d",
   "metadata": {},
   "outputs": [
    {
     "data": {
      "text/plain": [
       "'Нахожусь в отпуске по уходу за ребенком. На данный момент у меня нет официального места работы.'"
      ]
     },
     "execution_count": 87,
     "metadata": {},
     "output_type": "execute_result"
    }
   ],
   "source": [
    "df['О себе, summarized'][14]"
   ]
  },
  {
   "cell_type": "code",
   "execution_count": 88,
   "id": "0c371739-5b2e-4ebe-ac34-d38d2467c8e1",
   "metadata": {},
   "outputs": [
    {
     "data": {
      "text/plain": [
       "'Нахожусь в отпуске по уходу за ребенком. На данный момент у меня нет вакантных должностей.'"
      ]
     },
     "execution_count": 88,
     "metadata": {},
     "output_type": "execute_result"
    }
   ],
   "source": [
    "df['О себе, summarized'][84]"
   ]
  },
  {
   "cell_type": "code",
   "execution_count": 118,
   "id": "c1e593a2-1c5e-4669-b235-19f8483fab23",
   "metadata": {},
   "outputs": [
    {
     "data": {
      "text/plain": [
       "0.30464255809783936"
      ]
     },
     "execution_count": 118,
     "metadata": {},
     "output_type": "execute_result"
    }
   ],
   "source": [
    "distance.cosine(X[14], X[84])"
   ]
  },
  {
   "cell_type": "markdown",
   "id": "42118426-b2f1-431a-9200-b613a5d66690",
   "metadata": {},
   "source": [
    "Видно, что резюме похожи. "
   ]
  },
  {
   "cell_type": "markdown",
   "id": "e3075ffb-7385-495b-a8e1-357f619780f2",
   "metadata": {},
   "source": [
    "Осталось записать эти векторы в 100 столбцов нашей таблицы:"
   ]
  },
  {
   "cell_type": "code",
   "execution_count": 30,
   "id": "943c8c17-d738-4b91-b6be-dc08c367f997",
   "metadata": {
    "tags": []
   },
   "outputs": [],
   "source": [
    "for col in list(pd.DataFrame(X)):\n",
    "    df[str(col)] = pd.DataFrame(X)[col]"
   ]
  },
  {
   "cell_type": "code",
   "execution_count": 31,
   "id": "9da1f8d3-ee63-43a9-8924-8714d799c4c8",
   "metadata": {},
   "outputs": [
    {
     "data": {
      "text/html": [
       "<div>\n",
       "<style scoped>\n",
       "    .dataframe tbody tr th:only-of-type {\n",
       "        vertical-align: middle;\n",
       "    }\n",
       "\n",
       "    .dataframe tbody tr th {\n",
       "        vertical-align: top;\n",
       "    }\n",
       "\n",
       "    .dataframe thead th {\n",
       "        text-align: right;\n",
       "    }\n",
       "</style>\n",
       "<table border=\"1\" class=\"dataframe\">\n",
       "  <thead>\n",
       "    <tr style=\"text-align: right;\">\n",
       "      <th></th>\n",
       "      <th>Ссылка</th>\n",
       "      <th>Название</th>\n",
       "      <th>Коммандировка</th>\n",
       "      <th>Опыт</th>\n",
       "      <th>О себе</th>\n",
       "      <th>Образование</th>\n",
       "      <th>Интересы</th>\n",
       "      <th>Навыки</th>\n",
       "      <th>Образование-1</th>\n",
       "      <th>Образование-2</th>\n",
       "      <th>...</th>\n",
       "      <th>93</th>\n",
       "      <th>94</th>\n",
       "      <th>95</th>\n",
       "      <th>96</th>\n",
       "      <th>97</th>\n",
       "      <th>98</th>\n",
       "      <th>99</th>\n",
       "      <th>clust</th>\n",
       "      <th>DA, predicted</th>\n",
       "      <th>DS, predicted</th>\n",
       "    </tr>\n",
       "  </thead>\n",
       "  <tbody>\n",
       "    <tr>\n",
       "      <th>572</th>\n",
       "      <td>https://hh.ru/resume/15059d4a00075b2d080039ed1...</td>\n",
       "      <td>Руководитель направления</td>\n",
       "      <td>Санкт-Петербург, готов к переезду (Москва), го...</td>\n",
       "      <td>Опыт работы 3 года 4 месяца</td>\n",
       "      <td>Спортивные достижения: 1 разряд по горным лыжа...</td>\n",
       "      <td>Высшее образование (Магистр)\\n2022\\nСанкт-Пете...</td>\n",
       "      <td>Специализации:\\nФинансовый аналитик, инвестици...</td>\n",
       "      <td>Работа с компьютерными программами, программы ...</td>\n",
       "      <td>Санкт-Петербургский государственный университе...</td>\n",
       "      <td>Санкт-Петербургский государственный университе...</td>\n",
       "      <td>...</td>\n",
       "      <td>-0.004212</td>\n",
       "      <td>-0.004020</td>\n",
       "      <td>-0.000416</td>\n",
       "      <td>-0.003047</td>\n",
       "      <td>-0.002197</td>\n",
       "      <td>0.001849</td>\n",
       "      <td>0.004545</td>\n",
       "      <td>1</td>\n",
       "      <td>2.0</td>\n",
       "      <td>0.0</td>\n",
       "    </tr>\n",
       "    <tr>\n",
       "      <th>1188</th>\n",
       "      <td>https://hh.ru/resume/569cbc39000738c8b40039ed1...</td>\n",
       "      <td>Старший финансовый аналитик</td>\n",
       "      <td>Москва, м. Речной вокзал, не готова к переезду...</td>\n",
       "      <td>Опыт работы 14 лет 2 месяца</td>\n",
       "      <td>Ключевые компетенции:\\n- Практические знания у...</td>\n",
       "      <td>Высшее образование\\n2011\\nМосковский государст...</td>\n",
       "      <td>Специализации:\\nФинансовый менеджер\\nФинансовы...</td>\n",
       "      <td>---</td>\n",
       "      <td>Московский государственный открытый университе...</td>\n",
       "      <td>NaN</td>\n",
       "      <td>...</td>\n",
       "      <td>0.001322</td>\n",
       "      <td>0.000618</td>\n",
       "      <td>-0.001609</td>\n",
       "      <td>0.001224</td>\n",
       "      <td>-0.000831</td>\n",
       "      <td>0.000022</td>\n",
       "      <td>0.002731</td>\n",
       "      <td>1</td>\n",
       "      <td>0.0</td>\n",
       "      <td>0.0</td>\n",
       "    </tr>\n",
       "  </tbody>\n",
       "</table>\n",
       "<p>2 rows × 140 columns</p>\n",
       "</div>"
      ],
      "text/plain": [
       "                                                 Ссылка  \\\n",
       "572   https://hh.ru/resume/15059d4a00075b2d080039ed1...   \n",
       "1188  https://hh.ru/resume/569cbc39000738c8b40039ed1...   \n",
       "\n",
       "                         Название  \\\n",
       "572      Руководитель направления   \n",
       "1188  Старший финансовый аналитик   \n",
       "\n",
       "                                          Коммандировка  \\\n",
       "572   Санкт-Петербург, готов к переезду (Москва), го...   \n",
       "1188  Москва, м. Речной вокзал, не готова к переезду...   \n",
       "\n",
       "                             Опыт  \\\n",
       "572   Опыт работы 3 года 4 месяца   \n",
       "1188  Опыт работы 14 лет 2 месяца   \n",
       "\n",
       "                                                 О себе  \\\n",
       "572   Спортивные достижения: 1 разряд по горным лыжа...   \n",
       "1188  Ключевые компетенции:\\n- Практические знания у...   \n",
       "\n",
       "                                            Образование  \\\n",
       "572   Высшее образование (Магистр)\\n2022\\nСанкт-Пете...   \n",
       "1188  Высшее образование\\n2011\\nМосковский государст...   \n",
       "\n",
       "                                               Интересы  \\\n",
       "572   Специализации:\\nФинансовый аналитик, инвестици...   \n",
       "1188  Специализации:\\nФинансовый менеджер\\nФинансовы...   \n",
       "\n",
       "                                                 Навыки  \\\n",
       "572   Работа с компьютерными программами, программы ...   \n",
       "1188                                                ---   \n",
       "\n",
       "                                          Образование-1  \\\n",
       "572   Санкт-Петербургский государственный университе...   \n",
       "1188  Московский государственный открытый университе...   \n",
       "\n",
       "                                          Образование-2  ...        93  \\\n",
       "572   Санкт-Петербургский государственный университе...  ... -0.004212   \n",
       "1188                                                NaN  ...  0.001322   \n",
       "\n",
       "            94        95        96        97        98        99 clust  \\\n",
       "572  -0.004020 -0.000416 -0.003047 -0.002197  0.001849  0.004545     1   \n",
       "1188  0.000618 -0.001609  0.001224 -0.000831  0.000022  0.002731     1   \n",
       "\n",
       "      DA, predicted  DS, predicted  \n",
       "572             2.0            0.0  \n",
       "1188            0.0            0.0  \n",
       "\n",
       "[2 rows x 140 columns]"
      ]
     },
     "execution_count": 31,
     "metadata": {},
     "output_type": "execute_result"
    }
   ],
   "source": [
    "df.sample(2)"
   ]
  },
  {
   "cell_type": "markdown",
   "id": "2db75fdf-2093-45a5-9f7d-eb98f02d9f1d",
   "metadata": {},
   "source": [
    "Сохраним то, что получилось:"
   ]
  },
  {
   "cell_type": "code",
   "execution_count": null,
   "id": "7c725198-aaec-4536-8b42-3ceb565cd6ca",
   "metadata": {},
   "outputs": [],
   "source": [
    "df.to_csv('resumes_features.csv')"
   ]
  },
  {
   "cell_type": "markdown",
   "id": "cddb7f94-1bc9-4590-99c0-c88616fd899e",
   "metadata": {},
   "source": [
    "**Трансформация признаков**"
   ]
  },
  {
   "cell_type": "markdown",
   "id": "e3a0cdd5-7b90-40a6-b575-4577499128d2",
   "metadata": {},
   "source": [
    "Мы будем обучаться не на всех признаках, а только на специально отобранных. А именно:\n",
    "- Кол-во образований\n",
    "- Опыт нормализованный\n",
    "- Топовость образования\n",
    "- Справочник по интересам\n",
    "- Релокация?\n",
    "- Коммандировка?\n",
    "- Город?\n",
    "- Уровень оборазования нормализованный\n",
    "- Карьерный рост\n",
    "- Аналитические комбинации слов в навыках\n",
    "- 100 word2vec-векторов входящих в \"О себе\" триграмм"
   ]
  },
  {
   "cell_type": "markdown",
   "id": "71a11fb3-3baa-4281-b920-6d40a27cf249",
   "metadata": {},
   "source": [
    "Обработаем числовые признаки:"
   ]
  },
  {
   "cell_type": "code",
   "execution_count": 32,
   "id": "8b405f8a-aeb7-4b7c-9146-28cf1bc8725a",
   "metadata": {},
   "outputs": [
    {
     "ename": "TypeError",
     "evalue": "cannot use a string pattern on a bytes-like object",
     "output_type": "error",
     "traceback": [
      "\u001b[0;31m---------------------------------------------------------------------------\u001b[0m",
      "\u001b[0;31mTypeError\u001b[0m                                 Traceback (most recent call last)",
      "Cell \u001b[0;32mIn[32], line 5\u001b[0m\n\u001b[1;32m      3\u001b[0m txt \u001b[38;5;241m=\u001b[39m df\u001b[38;5;241m.\u001b[39mloc[i, \u001b[38;5;124m'\u001b[39m\u001b[38;5;124mОпыт нормализованный\u001b[39m\u001b[38;5;124m'\u001b[39m]\n\u001b[1;32m      4\u001b[0m \u001b[38;5;66;03m# print(txt)\u001b[39;00m\n\u001b[0;32m----> 5\u001b[0m \u001b[38;5;28;01mif\u001b[39;00m \u001b[43mre\u001b[49m\u001b[38;5;241;43m.\u001b[39;49m\u001b[43msearch\u001b[49m\u001b[43m(\u001b[49m\u001b[38;5;124;43m'\u001b[39;49m\u001b[38;5;124;43m[а-яА-Я]\u001b[39;49m\u001b[38;5;124;43m'\u001b[39;49m\u001b[43m,\u001b[49m\u001b[43m \u001b[49m\u001b[43mtxt\u001b[49m\u001b[43m)\u001b[49m:\n\u001b[1;32m      6\u001b[0m     txt \u001b[38;5;241m=\u001b[39m \u001b[38;5;241m-\u001b[39m\u001b[38;5;241m1\u001b[39m\n\u001b[1;32m      7\u001b[0m \u001b[38;5;28;01melif\u001b[39;00m txt[\u001b[38;5;241m-\u001b[39m\u001b[38;5;241m1\u001b[39m] \u001b[38;5;241m==\u001b[39m \u001b[38;5;124m'\u001b[39m\u001b[38;5;124m;\u001b[39m\u001b[38;5;124m'\u001b[39m:\n",
      "File \u001b[0;32m~/miniconda3/lib/python3.9/re.py:201\u001b[0m, in \u001b[0;36msearch\u001b[0;34m(pattern, string, flags)\u001b[0m\n\u001b[1;32m    198\u001b[0m \u001b[38;5;28;01mdef\u001b[39;00m \u001b[38;5;21msearch\u001b[39m(pattern, string, flags\u001b[38;5;241m=\u001b[39m\u001b[38;5;241m0\u001b[39m):\n\u001b[1;32m    199\u001b[0m     \u001b[38;5;124;03m\"\"\"Scan through string looking for a match to the pattern, returning\u001b[39;00m\n\u001b[1;32m    200\u001b[0m \u001b[38;5;124;03m    a Match object, or None if no match was found.\"\"\"\u001b[39;00m\n\u001b[0;32m--> 201\u001b[0m     \u001b[38;5;28;01mreturn\u001b[39;00m \u001b[43m_compile\u001b[49m\u001b[43m(\u001b[49m\u001b[43mpattern\u001b[49m\u001b[43m,\u001b[49m\u001b[43m \u001b[49m\u001b[43mflags\u001b[49m\u001b[43m)\u001b[49m\u001b[38;5;241;43m.\u001b[39;49m\u001b[43msearch\u001b[49m\u001b[43m(\u001b[49m\u001b[43mstring\u001b[49m\u001b[43m)\u001b[49m\n",
      "\u001b[0;31mTypeError\u001b[0m: cannot use a string pattern on a bytes-like object"
     ]
    }
   ],
   "source": [
    "txts = []\n",
    "for i in range(df.shape[0]):\n",
    "    txt = df.loc[i, 'Опыт нормализованный']\n",
    "    # print(txt)\n",
    "    if re.search('[а-яА-Я]', txt):\n",
    "        txt = -1\n",
    "    elif txt[-1] == ';':\n",
    "        txt = int(txt[:txt.find(';')])\n",
    "    else:\n",
    "        txt = int(txt[:txt.find(';')]) + int(txt[txt.find(';')+1:]) / 12\n",
    "    txts.append(txt)\n",
    "df.loc[:, 'Опыт нормализованный'] = txts"
   ]
  },
  {
   "cell_type": "markdown",
   "id": "1244892c-ba82-4a35-ae4d-95ef383aade1",
   "metadata": {},
   "source": [
    "Обработаем категориальные (нам подойдет именно `LabelEncoder`, так как, к примеру, высшее образование лучше среднего, наличие аналитических комбинаций лучше отсутствия, проживание в Москве предпочтительнее для компании, чем необходимость релокации в Москву):"
   ]
  },
  {
   "cell_type": "code",
   "execution_count": null,
   "id": "b6f5f733-37a4-4ee6-b800-da08e150a605",
   "metadata": {
    "tags": []
   },
   "outputs": [],
   "source": [
    "categorial = ['Топовость образования', 'Справочник по интересам', 'Релокация?', 'Коммандировка?', 'Город?', 'Уровень оборазования нормализованный', 'Карьерный рост', 'Аналитические комбинации слов в навыках']\n",
    "le = LabelEncoder()\n",
    "for col in categorial:\n",
    "    df[col] = le.fit_transform(df[col])\n",
    "    le_name_mapping = dict(zip(le.classes_, le.transform(le.classes_)))\n",
    "    print(col, \":\", le_name_mapping)\n",
    "df"
   ]
  },
  {
   "cell_type": "markdown",
   "id": "79d596d8-0ed9-403a-9553-5794c387fd2a",
   "metadata": {},
   "source": [
    "Вот как теперь выглядит наша таблица:"
   ]
  },
  {
   "cell_type": "code",
   "execution_count": 40,
   "id": "7a9b602f-144b-4817-b7cb-886893c6066c",
   "metadata": {},
   "outputs": [
    {
     "data": {
      "text/html": [
       "<div>\n",
       "<style scoped>\n",
       "    .dataframe tbody tr th:only-of-type {\n",
       "        vertical-align: middle;\n",
       "    }\n",
       "\n",
       "    .dataframe tbody tr th {\n",
       "        vertical-align: top;\n",
       "    }\n",
       "\n",
       "    .dataframe thead th {\n",
       "        text-align: right;\n",
       "    }\n",
       "</style>\n",
       "<table border=\"1\" class=\"dataframe\">\n",
       "  <thead>\n",
       "    <tr style=\"text-align: right;\">\n",
       "      <th></th>\n",
       "      <th>Кол-во образований</th>\n",
       "      <th>Опыт нормализованный</th>\n",
       "      <th>Топовость образования</th>\n",
       "      <th>Справочник по интересам</th>\n",
       "      <th>Релокация?</th>\n",
       "      <th>Коммандировка?</th>\n",
       "      <th>Город?</th>\n",
       "      <th>Уровень оборазования нормализованный</th>\n",
       "      <th>Карьерный рост</th>\n",
       "      <th>Аналитические комбинации слов в навыках</th>\n",
       "      <th>...</th>\n",
       "      <th>90</th>\n",
       "      <th>91</th>\n",
       "      <th>92</th>\n",
       "      <th>93</th>\n",
       "      <th>94</th>\n",
       "      <th>95</th>\n",
       "      <th>96</th>\n",
       "      <th>97</th>\n",
       "      <th>98</th>\n",
       "      <th>99</th>\n",
       "    </tr>\n",
       "  </thead>\n",
       "  <tbody>\n",
       "    <tr>\n",
       "      <th>0</th>\n",
       "      <td>2</td>\n",
       "      <td>7.083333</td>\n",
       "      <td>0</td>\n",
       "      <td>0</td>\n",
       "      <td>3</td>\n",
       "      <td>3</td>\n",
       "      <td>39</td>\n",
       "      <td>1</td>\n",
       "      <td>0</td>\n",
       "      <td>1</td>\n",
       "      <td>...</td>\n",
       "      <td>-0.002147</td>\n",
       "      <td>0.000352</td>\n",
       "      <td>0.001681</td>\n",
       "      <td>-0.000292</td>\n",
       "      <td>-0.000272</td>\n",
       "      <td>-1.206897e-03</td>\n",
       "      <td>0.000227</td>\n",
       "      <td>-0.000444</td>\n",
       "      <td>0.000766</td>\n",
       "      <td>0.000081</td>\n",
       "    </tr>\n",
       "    <tr>\n",
       "      <th>1</th>\n",
       "      <td>1</td>\n",
       "      <td>17.250000</td>\n",
       "      <td>0</td>\n",
       "      <td>0</td>\n",
       "      <td>2</td>\n",
       "      <td>1</td>\n",
       "      <td>39</td>\n",
       "      <td>1</td>\n",
       "      <td>0</td>\n",
       "      <td>0</td>\n",
       "      <td>...</td>\n",
       "      <td>0.003384</td>\n",
       "      <td>-0.000102</td>\n",
       "      <td>0.000081</td>\n",
       "      <td>0.000894</td>\n",
       "      <td>-0.002202</td>\n",
       "      <td>1.397842e-03</td>\n",
       "      <td>-0.001827</td>\n",
       "      <td>-0.000243</td>\n",
       "      <td>-0.003129</td>\n",
       "      <td>0.001458</td>\n",
       "    </tr>\n",
       "    <tr>\n",
       "      <th>2</th>\n",
       "      <td>1</td>\n",
       "      <td>18.333333</td>\n",
       "      <td>0</td>\n",
       "      <td>0</td>\n",
       "      <td>2</td>\n",
       "      <td>1</td>\n",
       "      <td>91</td>\n",
       "      <td>1</td>\n",
       "      <td>0</td>\n",
       "      <td>0</td>\n",
       "      <td>...</td>\n",
       "      <td>-0.000932</td>\n",
       "      <td>-0.000671</td>\n",
       "      <td>-0.000236</td>\n",
       "      <td>0.000330</td>\n",
       "      <td>0.001575</td>\n",
       "      <td>2.981558e-04</td>\n",
       "      <td>0.002110</td>\n",
       "      <td>-0.000275</td>\n",
       "      <td>-0.000312</td>\n",
       "      <td>-0.000437</td>\n",
       "    </tr>\n",
       "    <tr>\n",
       "      <th>3</th>\n",
       "      <td>2</td>\n",
       "      <td>17.416667</td>\n",
       "      <td>0</td>\n",
       "      <td>0</td>\n",
       "      <td>0</td>\n",
       "      <td>0</td>\n",
       "      <td>39</td>\n",
       "      <td>1</td>\n",
       "      <td>1</td>\n",
       "      <td>0</td>\n",
       "      <td>...</td>\n",
       "      <td>-0.003156</td>\n",
       "      <td>0.002909</td>\n",
       "      <td>0.000544</td>\n",
       "      <td>0.001400</td>\n",
       "      <td>0.002620</td>\n",
       "      <td>6.619219e-04</td>\n",
       "      <td>0.001653</td>\n",
       "      <td>-0.000912</td>\n",
       "      <td>-0.000753</td>\n",
       "      <td>0.000754</td>\n",
       "    </tr>\n",
       "    <tr>\n",
       "      <th>4</th>\n",
       "      <td>1</td>\n",
       "      <td>7.833333</td>\n",
       "      <td>0</td>\n",
       "      <td>0</td>\n",
       "      <td>0</td>\n",
       "      <td>0</td>\n",
       "      <td>32</td>\n",
       "      <td>8</td>\n",
       "      <td>1</td>\n",
       "      <td>0</td>\n",
       "      <td>...</td>\n",
       "      <td>0.001616</td>\n",
       "      <td>-0.000626</td>\n",
       "      <td>0.002497</td>\n",
       "      <td>-0.002705</td>\n",
       "      <td>0.000145</td>\n",
       "      <td>-1.641789e-07</td>\n",
       "      <td>0.005385</td>\n",
       "      <td>0.000633</td>\n",
       "      <td>-0.000351</td>\n",
       "      <td>-0.003165</td>\n",
       "    </tr>\n",
       "    <tr>\n",
       "      <th>...</th>\n",
       "      <td>...</td>\n",
       "      <td>...</td>\n",
       "      <td>...</td>\n",
       "      <td>...</td>\n",
       "      <td>...</td>\n",
       "      <td>...</td>\n",
       "      <td>...</td>\n",
       "      <td>...</td>\n",
       "      <td>...</td>\n",
       "      <td>...</td>\n",
       "      <td>...</td>\n",
       "      <td>...</td>\n",
       "      <td>...</td>\n",
       "      <td>...</td>\n",
       "      <td>...</td>\n",
       "      <td>...</td>\n",
       "      <td>...</td>\n",
       "      <td>...</td>\n",
       "      <td>...</td>\n",
       "      <td>...</td>\n",
       "      <td>...</td>\n",
       "    </tr>\n",
       "    <tr>\n",
       "      <th>2720</th>\n",
       "      <td>1</td>\n",
       "      <td>8.916667</td>\n",
       "      <td>0</td>\n",
       "      <td>1</td>\n",
       "      <td>5</td>\n",
       "      <td>3</td>\n",
       "      <td>39</td>\n",
       "      <td>1</td>\n",
       "      <td>1</td>\n",
       "      <td>0</td>\n",
       "      <td>...</td>\n",
       "      <td>-0.000474</td>\n",
       "      <td>0.000045</td>\n",
       "      <td>-0.002575</td>\n",
       "      <td>0.001634</td>\n",
       "      <td>-0.003021</td>\n",
       "      <td>-5.501702e-03</td>\n",
       "      <td>0.002582</td>\n",
       "      <td>-0.000392</td>\n",
       "      <td>0.005978</td>\n",
       "      <td>-0.003172</td>\n",
       "    </tr>\n",
       "    <tr>\n",
       "      <th>2721</th>\n",
       "      <td>1</td>\n",
       "      <td>3.333333</td>\n",
       "      <td>0</td>\n",
       "      <td>1</td>\n",
       "      <td>0</td>\n",
       "      <td>2</td>\n",
       "      <td>39</td>\n",
       "      <td>5</td>\n",
       "      <td>1</td>\n",
       "      <td>0</td>\n",
       "      <td>...</td>\n",
       "      <td>-0.001979</td>\n",
       "      <td>0.003901</td>\n",
       "      <td>0.001973</td>\n",
       "      <td>-0.003310</td>\n",
       "      <td>0.011862</td>\n",
       "      <td>2.661309e-03</td>\n",
       "      <td>0.006801</td>\n",
       "      <td>-0.001823</td>\n",
       "      <td>-0.000610</td>\n",
       "      <td>-0.008534</td>\n",
       "    </tr>\n",
       "    <tr>\n",
       "      <th>2722</th>\n",
       "      <td>1</td>\n",
       "      <td>19.083333</td>\n",
       "      <td>0</td>\n",
       "      <td>0</td>\n",
       "      <td>2</td>\n",
       "      <td>3</td>\n",
       "      <td>39</td>\n",
       "      <td>1</td>\n",
       "      <td>1</td>\n",
       "      <td>0</td>\n",
       "      <td>...</td>\n",
       "      <td>0.000261</td>\n",
       "      <td>0.001383</td>\n",
       "      <td>-0.001468</td>\n",
       "      <td>-0.003124</td>\n",
       "      <td>0.002176</td>\n",
       "      <td>-7.177151e-04</td>\n",
       "      <td>-0.001517</td>\n",
       "      <td>0.002639</td>\n",
       "      <td>-0.001644</td>\n",
       "      <td>-0.000034</td>\n",
       "    </tr>\n",
       "    <tr>\n",
       "      <th>2723</th>\n",
       "      <td>2</td>\n",
       "      <td>12.416667</td>\n",
       "      <td>0</td>\n",
       "      <td>0</td>\n",
       "      <td>0</td>\n",
       "      <td>0</td>\n",
       "      <td>39</td>\n",
       "      <td>1</td>\n",
       "      <td>0</td>\n",
       "      <td>0</td>\n",
       "      <td>...</td>\n",
       "      <td>0.001631</td>\n",
       "      <td>0.000190</td>\n",
       "      <td>0.003474</td>\n",
       "      <td>0.000218</td>\n",
       "      <td>0.009619</td>\n",
       "      <td>5.060604e-03</td>\n",
       "      <td>-0.008917</td>\n",
       "      <td>-0.007042</td>\n",
       "      <td>0.000901</td>\n",
       "      <td>0.006393</td>\n",
       "    </tr>\n",
       "    <tr>\n",
       "      <th>2724</th>\n",
       "      <td>1</td>\n",
       "      <td>13.583333</td>\n",
       "      <td>0</td>\n",
       "      <td>0</td>\n",
       "      <td>5</td>\n",
       "      <td>3</td>\n",
       "      <td>39</td>\n",
       "      <td>1</td>\n",
       "      <td>0</td>\n",
       "      <td>0</td>\n",
       "      <td>...</td>\n",
       "      <td>0.001631</td>\n",
       "      <td>0.000190</td>\n",
       "      <td>0.003474</td>\n",
       "      <td>0.000218</td>\n",
       "      <td>0.009619</td>\n",
       "      <td>5.060604e-03</td>\n",
       "      <td>-0.008917</td>\n",
       "      <td>-0.007042</td>\n",
       "      <td>0.000901</td>\n",
       "      <td>0.006393</td>\n",
       "    </tr>\n",
       "  </tbody>\n",
       "</table>\n",
       "<p>2725 rows × 111 columns</p>\n",
       "</div>"
      ],
      "text/plain": [
       "      Кол-во образований  Опыт нормализованный  Топовость образования  \\\n",
       "0                      2              7.083333                      0   \n",
       "1                      1             17.250000                      0   \n",
       "2                      1             18.333333                      0   \n",
       "3                      2             17.416667                      0   \n",
       "4                      1              7.833333                      0   \n",
       "...                  ...                   ...                    ...   \n",
       "2720                   1              8.916667                      0   \n",
       "2721                   1              3.333333                      0   \n",
       "2722                   1             19.083333                      0   \n",
       "2723                   2             12.416667                      0   \n",
       "2724                   1             13.583333                      0   \n",
       "\n",
       "      Справочник по интересам  Релокация?  Коммандировка?  Город?  \\\n",
       "0                           0           3               3      39   \n",
       "1                           0           2               1      39   \n",
       "2                           0           2               1      91   \n",
       "3                           0           0               0      39   \n",
       "4                           0           0               0      32   \n",
       "...                       ...         ...             ...     ...   \n",
       "2720                        1           5               3      39   \n",
       "2721                        1           0               2      39   \n",
       "2722                        0           2               3      39   \n",
       "2723                        0           0               0      39   \n",
       "2724                        0           5               3      39   \n",
       "\n",
       "      Уровень оборазования нормализованный  Карьерный рост  \\\n",
       "0                                        1               0   \n",
       "1                                        1               0   \n",
       "2                                        1               0   \n",
       "3                                        1               1   \n",
       "4                                        8               1   \n",
       "...                                    ...             ...   \n",
       "2720                                     1               1   \n",
       "2721                                     5               1   \n",
       "2722                                     1               1   \n",
       "2723                                     1               0   \n",
       "2724                                     1               0   \n",
       "\n",
       "      Аналитические комбинации слов в навыках  ...        90        91  \\\n",
       "0                                           1  ... -0.002147  0.000352   \n",
       "1                                           0  ...  0.003384 -0.000102   \n",
       "2                                           0  ... -0.000932 -0.000671   \n",
       "3                                           0  ... -0.003156  0.002909   \n",
       "4                                           0  ...  0.001616 -0.000626   \n",
       "...                                       ...  ...       ...       ...   \n",
       "2720                                        0  ... -0.000474  0.000045   \n",
       "2721                                        0  ... -0.001979  0.003901   \n",
       "2722                                        0  ...  0.000261  0.001383   \n",
       "2723                                        0  ...  0.001631  0.000190   \n",
       "2724                                        0  ...  0.001631  0.000190   \n",
       "\n",
       "            92        93        94            95        96        97  \\\n",
       "0     0.001681 -0.000292 -0.000272 -1.206897e-03  0.000227 -0.000444   \n",
       "1     0.000081  0.000894 -0.002202  1.397842e-03 -0.001827 -0.000243   \n",
       "2    -0.000236  0.000330  0.001575  2.981558e-04  0.002110 -0.000275   \n",
       "3     0.000544  0.001400  0.002620  6.619219e-04  0.001653 -0.000912   \n",
       "4     0.002497 -0.002705  0.000145 -1.641789e-07  0.005385  0.000633   \n",
       "...        ...       ...       ...           ...       ...       ...   \n",
       "2720 -0.002575  0.001634 -0.003021 -5.501702e-03  0.002582 -0.000392   \n",
       "2721  0.001973 -0.003310  0.011862  2.661309e-03  0.006801 -0.001823   \n",
       "2722 -0.001468 -0.003124  0.002176 -7.177151e-04 -0.001517  0.002639   \n",
       "2723  0.003474  0.000218  0.009619  5.060604e-03 -0.008917 -0.007042   \n",
       "2724  0.003474  0.000218  0.009619  5.060604e-03 -0.008917 -0.007042   \n",
       "\n",
       "            98        99  \n",
       "0     0.000766  0.000081  \n",
       "1    -0.003129  0.001458  \n",
       "2    -0.000312 -0.000437  \n",
       "3    -0.000753  0.000754  \n",
       "4    -0.000351 -0.003165  \n",
       "...        ...       ...  \n",
       "2720  0.005978 -0.003172  \n",
       "2721 -0.000610 -0.008534  \n",
       "2722 -0.001644 -0.000034  \n",
       "2723  0.000901  0.006393  \n",
       "2724  0.000901  0.006393  \n",
       "\n",
       "[2725 rows x 111 columns]"
      ]
     },
     "execution_count": 40,
     "metadata": {},
     "output_type": "execute_result"
    }
   ],
   "source": [
    "df.loc[:, ['Кол-во образований', 'Опыт нормализованный', 'Топовость образования', 'Справочник по интересам', 'Релокация?', 'Коммандировка?', 'Город?', 'Уровень оборазования нормализованный', 'Карьерный рост', 'Аналитические комбинации слов в навыках'] + list(df)[36:-3]]"
   ]
  },
  {
   "cell_type": "markdown",
   "id": "4d1be651-2581-4ba4-8543-19d84ac0eb10",
   "metadata": {},
   "source": [
    "Сохраним то, что получилось:"
   ]
  },
  {
   "cell_type": "code",
   "execution_count": 76,
   "id": "55f59c99-c5ba-4bf2-8b54-8393f02c4e59",
   "metadata": {},
   "outputs": [],
   "source": [
    "df.to_csv('resumes_features.csv')"
   ]
  },
  {
   "cell_type": "markdown",
   "id": "d8a50e43-c0a5-49e4-955c-0ef2fe25e890",
   "metadata": {},
   "source": [
    "**Разметка данных 2**"
   ]
  },
  {
   "cell_type": "markdown",
   "id": "5a417b7d-fc08-482a-8e27-560cfaab7b01",
   "metadata": {},
   "source": [
    "В ноутбуке `preprocessing.ipynb` было размечено ~100 резюме. Но для хорошей работы моделей нужно больше — разметим еще ~170 резюме, чтобы размечено было около 10% всех резюме в нашей выборке."
   ]
  },
  {
   "cell_type": "code",
   "execution_count": 776,
   "id": "14c309de-8127-48bd-86ac-a6ef60f75fce",
   "metadata": {},
   "outputs": [],
   "source": [
    "# count = 0"
   ]
  },
  {
   "cell_type": "code",
   "execution_count": 1039,
   "id": "84ac5e79-eced-443d-8c4e-385240d3d7af",
   "metadata": {},
   "outputs": [
    {
     "name": "stdout",
     "output_type": "stream",
     "text": [
      "Осталось разметить: -18\n"
     ]
    }
   ],
   "source": [
    "print('Осталось разметить:', 170 - count)"
   ]
  },
  {
   "cell_type": "code",
   "execution_count": 1040,
   "id": "407cc5dd-bfb6-42ba-9783-b1f7e6c99aa3",
   "metadata": {},
   "outputs": [
    {
     "name": "stdout",
     "output_type": "stream",
     "text": [
      "https://hh.ru/resume/16177621000303e1b60039ed1f3043514a3878?query=%D0%B0%D0%BD%D0%B0%D0%BB%D0%B8%D1%82%D0%B8%D0%BA+%D0%BF%D1%80%D0%BE%D0%B4%D0%B0%D0%B6&source=search&hhtmFrom=resumes_catalog\n",
      "Руководитель подразделения продаж\n"
     ]
    }
   ],
   "source": [
    "df_sample = df.sample(1).loc[:, ['Ссылка', 'Название', 'DA', 'DS']]\n",
    "print(df_sample['Ссылка'].iloc[0])\n",
    "print(df_sample['Название'].iloc[0])"
   ]
  },
  {
   "cell_type": "code",
   "execution_count": 1041,
   "id": "33a8609c-3339-46fd-91a4-ddbdf8c6355a",
   "metadata": {
    "tags": []
   },
   "outputs": [
    {
     "data": {
      "text/plain": [
       "Название    Руководитель подразделения продаж\n",
       "DA                                        NaN\n",
       "DS                                        NaN\n",
       "Name: 2012, dtype: object"
      ]
     },
     "execution_count": 1041,
     "metadata": {},
     "output_type": "execute_result"
    }
   ],
   "source": [
    "df.loc[df_sample.index[0], ['Название', 'DA', 'DS']]"
   ]
  },
  {
   "cell_type": "code",
   "execution_count": 1042,
   "id": "c9e09953-19fc-45d3-b600-e3a678a1ea67",
   "metadata": {},
   "outputs": [],
   "source": [
    "df.loc[df_sample.index[0], 'DA'] = 0\n",
    "df.loc[df_sample.index[0], 'DS'] = 0"
   ]
  },
  {
   "cell_type": "code",
   "execution_count": 1043,
   "id": "2fb660f8-27f5-49a9-8354-1985742b24bf",
   "metadata": {},
   "outputs": [],
   "source": [
    "count += 1"
   ]
  },
  {
   "cell_type": "code",
   "execution_count": 1231,
   "id": "ccc8db66-b80d-4d96-9fe0-cc72a0327203",
   "metadata": {},
   "outputs": [],
   "source": [
    "df.to_csv('resumes_features.csv')"
   ]
  },
  {
   "cell_type": "markdown",
   "id": "d99a5e42-8740-4827-8cfb-7881d7304bfd",
   "metadata": {},
   "source": [
    "**Классификация**"
   ]
  },
  {
   "cell_type": "markdown",
   "id": "fbdbe66b-54cc-4d10-85b6-4d4b02bdfd7b",
   "metadata": {},
   "source": [
    "Наконец, перейдем к построению скоринговой модели (решим задачу классификации):"
   ]
  },
  {
   "cell_type": "code",
   "execution_count": 8,
   "id": "a66da45e-8de8-4088-82b6-5905c8d6d545",
   "metadata": {},
   "outputs": [],
   "source": [
    "df = pd.read_csv('resumes_features.csv')"
   ]
  },
  {
   "cell_type": "code",
   "execution_count": 9,
   "id": "f2701738-77ae-4774-967d-3173d07e656b",
   "metadata": {},
   "outputs": [],
   "source": [
    "df.drop(list(df)[0], axis=1, inplace=True)\n",
    "df.reset_index(inplace=True)\n",
    "df.drop(list(df)[0], axis=1, inplace=True)"
   ]
  },
  {
   "cell_type": "code",
   "execution_count": 10,
   "id": "c22bdd4e-2442-4b04-a9d4-07fccda80b0e",
   "metadata": {},
   "outputs": [
    {
     "data": {
      "text/html": [
       "<div>\n",
       "<style scoped>\n",
       "    .dataframe tbody tr th:only-of-type {\n",
       "        vertical-align: middle;\n",
       "    }\n",
       "\n",
       "    .dataframe tbody tr th {\n",
       "        vertical-align: top;\n",
       "    }\n",
       "\n",
       "    .dataframe thead th {\n",
       "        text-align: right;\n",
       "    }\n",
       "</style>\n",
       "<table border=\"1\" class=\"dataframe\">\n",
       "  <thead>\n",
       "    <tr style=\"text-align: right;\">\n",
       "      <th></th>\n",
       "      <th>Ссылка</th>\n",
       "      <th>Название</th>\n",
       "      <th>Коммандировка</th>\n",
       "      <th>Опыт</th>\n",
       "      <th>О себе</th>\n",
       "      <th>Образование</th>\n",
       "      <th>Интересы</th>\n",
       "      <th>Навыки</th>\n",
       "      <th>Образование-1</th>\n",
       "      <th>Образование-2</th>\n",
       "      <th>...</th>\n",
       "      <th>93</th>\n",
       "      <th>94</th>\n",
       "      <th>95</th>\n",
       "      <th>96</th>\n",
       "      <th>97</th>\n",
       "      <th>98</th>\n",
       "      <th>99</th>\n",
       "      <th>clust</th>\n",
       "      <th>DA, predicted</th>\n",
       "      <th>DS, predicted</th>\n",
       "    </tr>\n",
       "  </thead>\n",
       "  <tbody>\n",
       "    <tr>\n",
       "      <th>1371</th>\n",
       "      <td>https://hh.ru/resume/5aaa6c3b00037117ce0039ed1...</td>\n",
       "      <td>Внешний аудит, анализ и тд. д., налоговое (бух...</td>\n",
       "      <td>Москва, м. Выхино, не готов к переезду, готов ...</td>\n",
       "      <td>Опыт работы 15 лет 8 месяцев</td>\n",
       "      <td>---</td>\n",
       "      <td>Высшее образование\\n1996\\nВсероссийский заочны...</td>\n",
       "      <td>Специализации:\\nБухгалтер\\nЗанятость: частична...</td>\n",
       "      <td>---</td>\n",
       "      <td>Всероссийский заочный финансово-экономический ...</td>\n",
       "      <td>NaN</td>\n",
       "      <td>...</td>\n",
       "      <td>0.000218</td>\n",
       "      <td>0.009619</td>\n",
       "      <td>0.005061</td>\n",
       "      <td>-0.008917</td>\n",
       "      <td>-0.007042</td>\n",
       "      <td>0.000901</td>\n",
       "      <td>0.006393</td>\n",
       "      <td>2</td>\n",
       "      <td>0.0</td>\n",
       "      <td>0.0</td>\n",
       "    </tr>\n",
       "  </tbody>\n",
       "</table>\n",
       "<p>1 rows × 140 columns</p>\n",
       "</div>"
      ],
      "text/plain": [
       "                                                 Ссылка  \\\n",
       "1371  https://hh.ru/resume/5aaa6c3b00037117ce0039ed1...   \n",
       "\n",
       "                                               Название  \\\n",
       "1371  Внешний аудит, анализ и тд. д., налоговое (бух...   \n",
       "\n",
       "                                          Коммандировка  \\\n",
       "1371  Москва, м. Выхино, не готов к переезду, готов ...   \n",
       "\n",
       "                              Опыт О себе  \\\n",
       "1371  Опыт работы 15 лет 8 месяцев    ---   \n",
       "\n",
       "                                            Образование  \\\n",
       "1371  Высшее образование\\n1996\\nВсероссийский заочны...   \n",
       "\n",
       "                                               Интересы Навыки  \\\n",
       "1371  Специализации:\\nБухгалтер\\nЗанятость: частична...    ---   \n",
       "\n",
       "                                          Образование-1 Образование-2  ...  \\\n",
       "1371  Всероссийский заочный финансово-экономический ...           NaN  ...   \n",
       "\n",
       "            93        94        95        96        97        98        99  \\\n",
       "1371  0.000218  0.009619  0.005061 -0.008917 -0.007042  0.000901  0.006393   \n",
       "\n",
       "     clust  DA, predicted  DS, predicted  \n",
       "1371     2            0.0            0.0  \n",
       "\n",
       "[1 rows x 140 columns]"
      ]
     },
     "execution_count": 10,
     "metadata": {},
     "output_type": "execute_result"
    }
   ],
   "source": [
    "df.sample(1)"
   ]
  },
  {
   "cell_type": "markdown",
   "id": "1942e2b4-ade6-463f-b325-dc8ec4942fd5",
   "metadata": {},
   "source": [
    "Для [оценки качества](https://stats.stackexchange.com/questions/12702/what-are-the-measure-for-accuracy-of-multilabel-data) по $F_1$-мере заведем специальный словарь:"
   ]
  },
  {
   "cell_type": "code",
   "execution_count": 447,
   "id": "1ade83f2-c663-42c2-94f4-8f6292995d49",
   "metadata": {},
   "outputs": [],
   "source": [
    "from sklearn.metrics import f1_score"
   ]
  },
  {
   "cell_type": "code",
   "execution_count": 448,
   "id": "d60aece3-6eea-4433-8529-0d013ea3d380",
   "metadata": {},
   "outputs": [],
   "source": [
    "from sklearn.semi_supervised import SelfTrainingClassifier"
   ]
  },
  {
   "cell_type": "code",
   "execution_count": 449,
   "id": "7f66a8a5-bf22-4660-b4cc-87482cc49fec",
   "metadata": {},
   "outputs": [],
   "source": [
    "from sklearn.model_selection import GridSearchCV\n",
    "from sklearn.metrics import f1_score\n",
    "parameters = {\n",
    "    \"loss\":[\"deviance\", \"exponential\"],\n",
    "    \"learning_rate\": [0.01, 0.025, 0.05, 0.075, 0.1, 0.15, 0.2],\n",
    "    \"min_samples_split\": np.linspace(0.1, 0.5, 12),\n",
    "    \"min_samples_leaf\": np.linspace(0.1, 0.5, 12),\n",
    "    \"max_depth\":[3,5,8],\n",
    "    \"subsample\":[0.5, 0.618, 0.8, 0.85, 0.9, 0.95, 1.0],\n",
    "    \"n_estimators\":[10],\n",
    "    # \"base_estimator__loss\":[\"deviance\", \"exponential\"],\n",
    "    # \"base_estimator__learning_rate\": [0.01, 0.025, 0.05, 0.075, 0.1, 0.15, 0.2],\n",
    "    # \"base_estimator__min_samples_split\": np.linspace(0.1, 0.5, 12),\n",
    "    # \"base_estimator__min_samples_leaf\": np.linspace(0.1, 0.5, 12),\n",
    "    # \"base_estimator__max_depth\":[3,5,8],\n",
    "    # \"base_estimator__subsample\":[0.5, 0.618, 0.8, 0.85, 0.9, 0.95, 1.0],\n",
    "    # \"estimator__base_estimatorn_estimators\":[10],\n",
    "    }"
   ]
  },
  {
   "cell_type": "code",
   "execution_count": 450,
   "id": "2af9d224-22d5-4159-9994-d64e719dfb0e",
   "metadata": {},
   "outputs": [],
   "source": [
    "lr_svm_rf_dict = {\n",
    "                    'not semi-supervised': [66, 73, 72], \n",
    "                    'semi-supervised': [70, 72, 70]\n",
    "                }"
   ]
  },
  {
   "cell_type": "markdown",
   "id": "142d1810-c99b-41da-a5a4-597e78099c8d",
   "metadata": {},
   "source": [
    "Начнем с логистической регрессии (она [подходит](https://scikit-learn.org/stable/modules/multiclass.html#multilabel-classification-format) для мульти-классовой классификации):"
   ]
  },
  {
   "cell_type": "code",
   "execution_count": 451,
   "id": "c0f4532e-b9c6-47d1-a3e2-999ee35df481",
   "metadata": {
    "tags": []
   },
   "outputs": [],
   "source": [
    "acc = 0.\n",
    "k = 25\n",
    "reg = LogisticRegression(max_iter=10000)\n",
    "self_training_model = GridSearchCV(\n",
    "            SelfTrainingClassifier(reg), parameters, scoring=f1_score, n_jobs= -1, cv = 3\n",
    "        )\n",
    "\n",
    "for i in range(k):\n",
    "    X = df.loc[df['DA'] != -1].loc[:, list(df)[36:-3] + ['Кол-во образований', 'Опыт нормализованный','Топовость образования', 'Справочник по интересам', 'Релокация?', 'Коммандировка?', 'Город?', 'Уровень оборазования нормализованный', 'Карьерный рост', 'Аналитические комбинации слов в навыках']]\n",
    "    y = df.loc[df['DA'] != -1, 'DA']\n",
    "    \n",
    "    X_train = X.sample(200)\n",
    "    y_train = y[X_train.index]\n",
    "    \n",
    "    X_test = X.drop(X_train.index)\n",
    "    y_test = y.drop(y_train.index)\n",
    "    \n",
    "    reg.fit(X_train, y_train)\n",
    "    acc += f1_score(y_test, reg.predict(X_test), average='weighted')\n",
    "    accs.append(f1_score(y_test, reg.predict(X_test), average='weighted'))"
   ]
  },
  {
   "cell_type": "code",
   "execution_count": 452,
   "id": "fa33e774-f049-44a1-9295-e3ac2e93fb05",
   "metadata": {},
   "outputs": [
    {
     "data": {
      "text/plain": [
       "(0.7040293040293041, 0.9049074545763287)"
      ]
     },
     "execution_count": 452,
     "metadata": {},
     "output_type": "execute_result"
    }
   ],
   "source": [
    "np.min(accs), np.max(accs)"
   ]
  },
  {
   "cell_type": "code",
   "execution_count": 453,
   "id": "d00b4a7a-7fd7-48c1-b26f-7b0a419733de",
   "metadata": {},
   "outputs": [
    {
     "data": {
      "text/plain": [
       "0.8846153846153846"
      ]
     },
     "execution_count": 453,
     "metadata": {},
     "output_type": "execute_result"
    }
   ],
   "source": [
    "tf = pd.DataFrame(np.array(reg.predict(X_test))==np.array(y_test)).value_counts()\n",
    "tf[True] / (tf[True]+tf[False])"
   ]
  },
  {
   "cell_type": "code",
   "execution_count": 454,
   "id": "bf56da2c-fadf-4254-8201-1994ca7e0f49",
   "metadata": {},
   "outputs": [],
   "source": [
    "lr_svm_rf_dict['not semi-supervised'][0] = acc / k"
   ]
  },
  {
   "cell_type": "code",
   "execution_count": 455,
   "id": "d6c6f63b-305f-4d61-8174-7a0351d66e1d",
   "metadata": {},
   "outputs": [
    {
     "data": {
      "text/plain": [
       "0.0    74\n",
       "1.0     4\n",
       "dtype: int64"
      ]
     },
     "execution_count": 455,
     "metadata": {},
     "output_type": "execute_result"
    }
   ],
   "source": [
    "pd.DataFrame(reg.predict(X_test)).value_counts()"
   ]
  },
  {
   "cell_type": "code",
   "execution_count": 456,
   "id": "a024dba6-0665-43ea-88d4-8748b3a1e36f",
   "metadata": {},
   "outputs": [
    {
     "data": {
      "text/plain": [
       "0.31724137931034485"
      ]
     },
     "execution_count": 456,
     "metadata": {},
     "output_type": "execute_result"
    }
   ],
   "source": [
    "f1_score(y_test, reg.predict(X_test), average='macro')"
   ]
  },
  {
   "cell_type": "markdown",
   "id": "650408d9-7783-4863-bb13-80fc71caff07",
   "metadata": {},
   "source": [
    "Теперь попробуем решающие деревья:"
   ]
  },
  {
   "cell_type": "code",
   "execution_count": 457,
   "id": "9f4aca19-75bd-431d-a355-1e91d6d186ac",
   "metadata": {},
   "outputs": [],
   "source": [
    "from sklearn import svm\n",
    "from sklearn.naive_bayes import GaussianNB\n",
    "from sklearn.tree import DecisionTreeClassifier"
   ]
  },
  {
   "cell_type": "code",
   "execution_count": 458,
   "id": "c290b950-2ea9-4f98-83f8-5f18f91d0a8f",
   "metadata": {
    "tags": []
   },
   "outputs": [],
   "source": [
    "acc = 0.\n",
    "k = 20\n",
    "clf = DecisionTreeClassifier()\n",
    "self_training_model = GridSearchCV(\n",
    "            SelfTrainingClassifier(clf), parameters, scoring=f1_score, n_jobs= -1, cv = 3\n",
    "        )\n",
    "\n",
    "for i in range(k):\n",
    "    X = df.loc[df['DA'] != -1].loc[:, list(df)[36:-3] + ['Кол-во образований', 'Опыт нормализованный','Топовость образования', 'Справочник по интересам', 'Релокация?', 'Коммандировка?', 'Город?', 'Уровень оборазования нормализованный', 'Карьерный рост', 'Аналитические комбинации слов в навыках']]\n",
    "    y = df.loc[df['DA'] != -1, 'DA']\n",
    "    \n",
    "    X_train = X.sample(200)\n",
    "    y_train = y[X_train.index]\n",
    "    \n",
    "    X_test = X.drop(X_train.index)\n",
    "    y_test = y.drop(y_train.index)\n",
    "    \n",
    "    clf.fit(X_train, y_train)\n",
    "    acc += f1_score(y_test, clf.predict(X_test), average='weighted')\n",
    "    accs.append(f1_score(y_test, clf.predict(X_test), average='weighted'))"
   ]
  },
  {
   "cell_type": "code",
   "execution_count": 459,
   "id": "43742a19-72df-4680-b175-6e56089c13a9",
   "metadata": {},
   "outputs": [
    {
     "data": {
      "text/plain": [
       "(0.6714981176961091, 0.9049074545763287)"
      ]
     },
     "execution_count": 459,
     "metadata": {},
     "output_type": "execute_result"
    }
   ],
   "source": [
    "np.min(accs), np.max(accs)"
   ]
  },
  {
   "cell_type": "code",
   "execution_count": 460,
   "id": "af055f42-7a8c-4b4f-bf8f-17ef00d013be",
   "metadata": {},
   "outputs": [],
   "source": [
    "lr_svm_rf_dict['not semi-supervised'][1] = acc / k"
   ]
  },
  {
   "cell_type": "code",
   "execution_count": 461,
   "id": "b9b59fa6-b872-4abd-a5f9-b0ff1f18b7a1",
   "metadata": {},
   "outputs": [
    {
     "data": {
      "text/plain": [
       "0.782051282051282"
      ]
     },
     "execution_count": 461,
     "metadata": {},
     "output_type": "execute_result"
    }
   ],
   "source": [
    "tf = pd.DataFrame(np.array(clf.predict(X_test))==np.array(y_test)).value_counts()\n",
    "tf[True] / (tf[True]+tf[False])"
   ]
  },
  {
   "cell_type": "code",
   "execution_count": 462,
   "id": "26107b93-4d6b-4755-a526-7fcfec044640",
   "metadata": {},
   "outputs": [
    {
     "data": {
      "text/plain": [
       "0.5009228497600591"
      ]
     },
     "execution_count": 462,
     "metadata": {},
     "output_type": "execute_result"
    }
   ],
   "source": [
    "f1_score(y_test, clf.predict(X_test), average='macro')"
   ]
  },
  {
   "cell_type": "code",
   "execution_count": 463,
   "id": "64d9d025-0405-4e1f-ba53-580030cb6529",
   "metadata": {},
   "outputs": [
    {
     "data": {
      "text/plain": [
       "0.0    63\n",
       "1.0    12\n",
       "2.0     3\n",
       "dtype: int64"
      ]
     },
     "execution_count": 463,
     "metadata": {},
     "output_type": "execute_result"
    }
   ],
   "source": [
    "pd.DataFrame(clf.predict(X_test)).value_counts()"
   ]
  },
  {
   "cell_type": "markdown",
   "id": "022af304-1205-4c5e-8096-fc4f187df830",
   "metadata": {},
   "source": [
    "И, наконец, kNN:"
   ]
  },
  {
   "cell_type": "code",
   "execution_count": 464,
   "id": "eef38dce-e1a4-4c0c-8ebb-d7ebf529341f",
   "metadata": {},
   "outputs": [],
   "source": [
    "from sklearn.ensemble import RandomForestClassifier\n",
    "from sklearn.neighbors import KNeighborsClassifier"
   ]
  },
  {
   "cell_type": "code",
   "execution_count": 465,
   "id": "10944d5a-47c9-4e47-a3f1-63866d3d2a72",
   "metadata": {
    "tags": []
   },
   "outputs": [],
   "source": [
    "acc = 0.\n",
    "k = 25\n",
    "clf = KNeighborsClassifier()\n",
    "self_training_model = GridSearchCV(\n",
    "            SelfTrainingClassifier(clf), parameters, scoring=f1_score, n_jobs= -1, cv = 3\n",
    "        )\n",
    "\n",
    "for i in range(k):\n",
    "    X = df.loc[df['DA'] != -1].loc[:, list(df)[36:-3] + ['Кол-во образований', 'Опыт нормализованный','Топовость образования', 'Справочник по интересам', 'Релокация?', 'Коммандировка?', 'Город?', 'Уровень оборазования нормализованный', 'Карьерный рост', 'Аналитические комбинации слов в навыках']]\n",
    "    y = df.loc[df['DA'] != -1, 'DA']\n",
    "    \n",
    "    X_train = X.sample(200)\n",
    "    y_train = y[X_train.index]\n",
    "    \n",
    "    X_test = X.drop(X_train.index)\n",
    "    y_test = y.drop(y_train.index)\n",
    "    \n",
    "    clf.fit(X_train, y_train)\n",
    "    acc += f1_score(y_test, clf.predict(X_test), average='weighted')\n",
    "    accs.append(f1_score(y_test, clf.predict(X_test), average='weighted'))"
   ]
  },
  {
   "cell_type": "code",
   "execution_count": 466,
   "id": "2dd78b89-52b1-4e81-b539-356cbc777095",
   "metadata": {},
   "outputs": [
    {
     "data": {
      "text/plain": [
       "(0.6714981176961091, 0.9049074545763287)"
      ]
     },
     "execution_count": 466,
     "metadata": {},
     "output_type": "execute_result"
    }
   ],
   "source": [
    "np.min(accs), np.max(accs)"
   ]
  },
  {
   "cell_type": "code",
   "execution_count": 467,
   "id": "ea471a34-52bf-485f-a5cd-8d46045d3365",
   "metadata": {},
   "outputs": [],
   "source": [
    "lr_svm_rf_dict['not semi-supervised'][2] = acc / k"
   ]
  },
  {
   "cell_type": "code",
   "execution_count": 468,
   "id": "40c786c0-3ae1-49da-beb2-2611ea763b04",
   "metadata": {},
   "outputs": [
    {
     "data": {
      "text/plain": [
       "0.9102564102564102"
      ]
     },
     "execution_count": 468,
     "metadata": {},
     "output_type": "execute_result"
    }
   ],
   "source": [
    "tf = pd.DataFrame(np.array(clf.predict(X_test))==np.array(y_test)).value_counts()\n",
    "tf[True] / (tf[True]+tf[False])"
   ]
  },
  {
   "cell_type": "code",
   "execution_count": 469,
   "id": "3a82e3f5-9436-4dd3-887d-aa8033419090",
   "metadata": {},
   "outputs": [
    {
     "data": {
      "text/plain": [
       "0.0    76\n",
       "1.0     1\n",
       "2.0     1\n",
       "dtype: int64"
      ]
     },
     "execution_count": 469,
     "metadata": {},
     "output_type": "execute_result"
    }
   ],
   "source": [
    "pd.DataFrame(clf.predict(X_test)).value_counts()"
   ]
  },
  {
   "cell_type": "code",
   "execution_count": 470,
   "id": "db950d96-d61e-46e7-a3bf-686a33e19829",
   "metadata": {},
   "outputs": [
    {
     "data": {
      "text/plain": [
       "0.4285714285714286"
      ]
     },
     "execution_count": 470,
     "metadata": {},
     "output_type": "execute_result"
    }
   ],
   "source": [
    "f1_score(y_test, clf.predict(X_test), average='macro')"
   ]
  },
  {
   "cell_type": "markdown",
   "id": "e8982f52-4103-4178-a38a-87e09d419b49",
   "metadata": {},
   "source": [
    "Теперь попробуем [semi-supervised](https://medium.datadriveninvestor.com/the-ultimate-advanced-guide-of-semi-supervised-learning-3f772ed20927) версию деревьев:"
   ]
  },
  {
   "cell_type": "markdown",
   "id": "c9fffd1e-c78d-4afa-9aac-4b8dbc38a59b",
   "metadata": {},
   "source": [
    "Для этого `np.nan` заменим на `-1`:"
   ]
  },
  {
   "cell_type": "code",
   "execution_count": 471,
   "id": "475d5ec3-75f8-42e4-9b51-3d32773982f3",
   "metadata": {},
   "outputs": [],
   "source": [
    "df.loc[~df['DA'].notna(), 'DA'] = -1"
   ]
  },
  {
   "cell_type": "code",
   "execution_count": 472,
   "id": "d5cf8549-9ae5-43f2-87f7-239f4c32eea9",
   "metadata": {},
   "outputs": [
    {
     "data": {
      "text/plain": [
       "dict_keys(['cv', 'error_score', 'estimator__base_estimator__algorithm', 'estimator__base_estimator__leaf_size', 'estimator__base_estimator__metric', 'estimator__base_estimator__metric_params', 'estimator__base_estimator__n_jobs', 'estimator__base_estimator__n_neighbors', 'estimator__base_estimator__p', 'estimator__base_estimator__weights', 'estimator__base_estimator', 'estimator__criterion', 'estimator__k_best', 'estimator__max_iter', 'estimator__threshold', 'estimator__verbose', 'estimator', 'n_jobs', 'param_grid', 'pre_dispatch', 'refit', 'return_train_score', 'scoring', 'verbose'])"
      ]
     },
     "execution_count": 472,
     "metadata": {},
     "output_type": "execute_result"
    }
   ],
   "source": [
    "self_training_model.get_params().keys()"
   ]
  },
  {
   "cell_type": "code",
   "execution_count": 473,
   "id": "0c2c4608-99ce-40cc-8d6f-b5b32ee7af68",
   "metadata": {
    "tags": []
   },
   "outputs": [],
   "source": [
    "acc = 0.\n",
    "k = 25\n",
    "svc = DecisionTreeClassifier()\n",
    "self_training_model = SelfTrainingClassifier(svc)\n",
    "\n",
    "for i in range(k):\n",
    "    X = df.loc[df['DA'] != -1].loc[:, list(df)[36:-3] + ['Кол-во образований', 'Опыт нормализованный','Топовость образования', 'Справочник по интересам', 'Релокация?', 'Коммандировка?', 'Город?', 'Уровень оборазования нормализованный', 'Карьерный рост', 'Аналитические комбинации слов в навыках']]\n",
    "    y = df.loc[df['DA'] != -1, 'DA']\n",
    "    X_2 = df.loc[:, list(df)[36:-3] + ['Кол-во образований', 'Опыт нормализованный','Топовость образования', 'Справочник по интересам', 'Релокация?', 'Коммандировка?', 'Город?', 'Уровень оборазования нормализованный', 'Карьерный рост', 'Аналитические комбинации слов в навыках']]\n",
    "    y_2 = df.loc[:, 'DA']\n",
    "    \n",
    "    X_train = X.sample(200)\n",
    "    y_train = y[X_train.index]\n",
    "    \n",
    "    X_test = X.drop(X_train.index)\n",
    "    y_test = y.drop(y_train.index)\n",
    "    \n",
    "    X_train = X_2.drop(X_test.index)\n",
    "    y_train = y_2.drop(y_test.index)\n",
    "    \n",
    "    X_2.drop(X_test.index, inplace=True)\n",
    "    y_2.drop(y_test.index, inplace=True)\n",
    "    \n",
    "    self_training_model.fit(X_2, y_2)\n",
    "    acc += f1_score(y_test, self_training_model.predict(X_test), average='weighted')\n",
    "    accs.append(f1_score(y_test, self_training_model.predict(X_test), average='weighted'))"
   ]
  },
  {
   "cell_type": "code",
   "execution_count": 474,
   "id": "97507952-a3c0-4f52-9403-379b24fff915",
   "metadata": {},
   "outputs": [
    {
     "data": {
      "text/plain": [
       "(0.6714981176961091, 0.9049074545763287)"
      ]
     },
     "execution_count": 474,
     "metadata": {},
     "output_type": "execute_result"
    }
   ],
   "source": [
    "np.min(accs), np.max(accs)"
   ]
  },
  {
   "cell_type": "code",
   "execution_count": 475,
   "id": "f559050a-1371-41c8-8c5f-03a32946cec5",
   "metadata": {},
   "outputs": [],
   "source": [
    "lr_svm_rf_dict['semi-supervised'][1] = acc / k"
   ]
  },
  {
   "cell_type": "code",
   "execution_count": 476,
   "id": "c5d7cac0-2059-4b7c-923d-71e33093c083",
   "metadata": {},
   "outputs": [
    {
     "data": {
      "text/plain": [
       "0.7564102564102564"
      ]
     },
     "execution_count": 476,
     "metadata": {},
     "output_type": "execute_result"
    }
   ],
   "source": [
    "tf = pd.DataFrame(np.array(self_training_model.predict(X_test))==np.array(y_test)).value_counts()\n",
    "tf[True] / (tf[True]+tf[False])"
   ]
  },
  {
   "cell_type": "code",
   "execution_count": 477,
   "id": "e858a72c-131d-4c38-a75d-3a214ae74451",
   "metadata": {},
   "outputs": [
    {
     "data": {
      "text/plain": [
       "0.29353233830845765"
      ]
     },
     "execution_count": 477,
     "metadata": {},
     "output_type": "execute_result"
    }
   ],
   "source": [
    "f1_score(y_test, self_training_model.predict(X_test), average='macro')"
   ]
  },
  {
   "cell_type": "code",
   "execution_count": 478,
   "id": "456105ed-a438-41b5-a903-05eefc986efa",
   "metadata": {},
   "outputs": [
    {
     "data": {
      "text/plain": [
       "0.0    64\n",
       "1.0    11\n",
       "2.0     3\n",
       "dtype: int64"
      ]
     },
     "execution_count": 478,
     "metadata": {},
     "output_type": "execute_result"
    }
   ],
   "source": [
    "pd.DataFrame(self_training_model.predict(X_test)).value_counts()"
   ]
  },
  {
   "cell_type": "markdown",
   "id": "5c1347ce-62a9-4d0b-9930-1dcbd30beaf3",
   "metadata": {},
   "source": [
    "Теперь kNN:"
   ]
  },
  {
   "cell_type": "code",
   "execution_count": 479,
   "id": "047b4e42-c564-44e5-b3f7-b84d856744d7",
   "metadata": {
    "tags": []
   },
   "outputs": [],
   "source": [
    "acc = 0.\n",
    "k = 25\n",
    "clf = KNeighborsClassifier()\n",
    "self_training_model = SelfTrainingClassifier(clf)\n",
    "\n",
    "for i in range(k):\n",
    "    X = df.loc[df['DA'] != -1].loc[:, list(df)[36:-3] + ['Кол-во образований', 'Опыт нормализованный','Топовость образования', 'Справочник по интересам', 'Релокация?', 'Коммандировка?', 'Город?', 'Уровень оборазования нормализованный', 'Карьерный рост', 'Аналитические комбинации слов в навыках']]\n",
    "    y = df.loc[df['DA'] != -1, 'DA']\n",
    "    X_2 = df.loc[:, list(df)[36:-3] + ['Кол-во образований', 'Опыт нормализованный','Топовость образования', 'Справочник по интересам', 'Релокация?', 'Коммандировка?', 'Город?', 'Уровень оборазования нормализованный', 'Карьерный рост', 'Аналитические комбинации слов в навыках']]\n",
    "    y_2 = df.loc[:, 'DA']\n",
    "    \n",
    "    X_train = X.sample(200)\n",
    "    y_train = y[X_train.index]\n",
    "    \n",
    "    X_test = X.drop(X_train.index)\n",
    "    y_test = y.drop(y_train.index)\n",
    "    \n",
    "    X_train = X_2.drop(X_test.index)\n",
    "    y_train = y_2.drop(y_test.index)\n",
    "    \n",
    "    X_2.drop(X_test.index, inplace=True)\n",
    "    y_2.drop(y_test.index, inplace=True)\n",
    "    \n",
    "    self_training_model.fit(X_2, y_2)\n",
    "    acc += f1_score(y_test, self_training_model.predict(X_test), average='weighted')\n",
    "    accs.append(f1_score(y_test, self_training_model.predict(X_test), average='weighted'))"
   ]
  },
  {
   "cell_type": "code",
   "execution_count": 480,
   "id": "e9b4ffb3-9b7e-4217-9598-cd1131b81258",
   "metadata": {},
   "outputs": [
    {
     "data": {
      "text/plain": [
       "(0.6714981176961091, 0.9808105872622002)"
      ]
     },
     "execution_count": 480,
     "metadata": {},
     "output_type": "execute_result"
    }
   ],
   "source": [
    "np.min(accs), np.max(accs)"
   ]
  },
  {
   "cell_type": "code",
   "execution_count": 481,
   "id": "ccb387cd-c067-4a2d-8fda-467858c0657e",
   "metadata": {},
   "outputs": [
    {
     "data": {
      "text/plain": [
       "0.0    78\n",
       "dtype: int64"
      ]
     },
     "execution_count": 481,
     "metadata": {},
     "output_type": "execute_result"
    }
   ],
   "source": [
    "pd.DataFrame(self_training_model.predict(X_test)).value_counts()"
   ]
  },
  {
   "cell_type": "code",
   "execution_count": 482,
   "id": "4e1303b5-d48c-499c-9891-dd71a343d19d",
   "metadata": {},
   "outputs": [
    {
     "data": {
      "text/plain": [
       "0.8589743589743589"
      ]
     },
     "execution_count": 482,
     "metadata": {},
     "output_type": "execute_result"
    }
   ],
   "source": [
    "tf = pd.DataFrame(np.array(self_training_model.predict(X_test))==np.array(y_test)).value_counts()\n",
    "tf[True] / (tf[True]+tf[False])"
   ]
  },
  {
   "cell_type": "code",
   "execution_count": 483,
   "id": "b891f5b4-d7d2-4028-ac3a-b0da7c22e68c",
   "metadata": {},
   "outputs": [
    {
     "data": {
      "text/plain": [
       "0.3080459770114942"
      ]
     },
     "execution_count": 483,
     "metadata": {},
     "output_type": "execute_result"
    }
   ],
   "source": [
    "f1_score(y_test, self_training_model.predict(X_test), average='macro')"
   ]
  },
  {
   "cell_type": "code",
   "execution_count": 484,
   "id": "93474908-2428-4fed-8c77-f34a631ab1e3",
   "metadata": {},
   "outputs": [],
   "source": [
    "lr_svm_rf_dict['semi-supervised'][2] = acc / k"
   ]
  },
  {
   "cell_type": "markdown",
   "id": "a384da67-4d1b-4896-80fb-51498778a546",
   "metadata": {},
   "source": [
    "Теперь LR:"
   ]
  },
  {
   "cell_type": "code",
   "execution_count": 485,
   "id": "6dd5882d-efc1-4443-95f6-ee80eb38f566",
   "metadata": {
    "tags": []
   },
   "outputs": [],
   "source": [
    "acc = 0.\n",
    "k = 25\n",
    "clf = LogisticRegression(max_iter=10000)\n",
    "self_training_model = SelfTrainingClassifier(clf)\n",
    "\n",
    "for i in range(k):\n",
    "    X = df.loc[df['DA'] != -1].loc[:, list(df)[36:-3] + ['Кол-во образований', 'Опыт нормализованный','Топовость образования', 'Справочник по интересам', 'Релокация?', 'Коммандировка?', 'Город?', 'Уровень оборазования нормализованный', 'Карьерный рост', 'Аналитические комбинации слов в навыках']]\n",
    "    y = df.loc[df['DA'] != -1, 'DA']\n",
    "    X_2 = df.loc[:, list(df)[36:-3] + ['Кол-во образований', 'Опыт нормализованный','Топовость образования', 'Справочник по интересам', 'Релокация?', 'Коммандировка?', 'Город?', 'Уровень оборазования нормализованный', 'Карьерный рост', 'Аналитические комбинации слов в навыках']]\n",
    "    y_2 = df.loc[:, 'DA']\n",
    "    \n",
    "    X_train = X.sample(200)\n",
    "    y_train = y[X_train.index]\n",
    "    \n",
    "    X_test = X.drop(X_train.index)\n",
    "    y_test = y.drop(y_train.index)\n",
    "    \n",
    "    X_train = X_2.drop(X_test.index)\n",
    "    y_train = y_2.drop(y_test.index)\n",
    "    \n",
    "    X_2.drop(X_test.index, inplace=True)\n",
    "    y_2.drop(y_test.index, inplace=True)\n",
    "    \n",
    "    self_training_model.fit(X_2, y_2)\n",
    "    acc += f1_score(y_test, self_training_model.predict(X_test), average='weighted')\n",
    "    accs.append(f1_score(y_test, self_training_model.predict(X_test), average='weighted'))"
   ]
  },
  {
   "cell_type": "code",
   "execution_count": 486,
   "id": "fa09f65a-3426-49f4-b658-2da626861e05",
   "metadata": {},
   "outputs": [
    {
     "data": {
      "text/plain": [
       "(0.6714981176961091, 0.9808105872622002)"
      ]
     },
     "execution_count": 486,
     "metadata": {},
     "output_type": "execute_result"
    }
   ],
   "source": [
    "np.min(accs), np.max(accs)"
   ]
  },
  {
   "cell_type": "code",
   "execution_count": 487,
   "id": "c4a1964a-0f23-41c0-8feb-c6bf177ca418",
   "metadata": {},
   "outputs": [],
   "source": [
    "lr_svm_rf_dict['semi-supervised'][0] = acc / k"
   ]
  },
  {
   "cell_type": "code",
   "execution_count": 488,
   "id": "ff0fb7e4-9ab5-4832-8f86-4b329e0f6414",
   "metadata": {},
   "outputs": [
    {
     "data": {
      "text/plain": [
       "0.8589743589743589"
      ]
     },
     "execution_count": 488,
     "metadata": {},
     "output_type": "execute_result"
    }
   ],
   "source": [
    "tf = pd.DataFrame(np.array(self_training_model.predict(X_test))==np.array(y_test)).value_counts()\n",
    "tf[True] / (tf[True]+tf[False])"
   ]
  },
  {
   "cell_type": "code",
   "execution_count": 489,
   "id": "2c02c7d6-af4a-43b0-8bb7-ff1363c666cd",
   "metadata": {},
   "outputs": [
    {
     "data": {
      "text/plain": [
       "0.3080459770114942"
      ]
     },
     "execution_count": 489,
     "metadata": {},
     "output_type": "execute_result"
    }
   ],
   "source": [
    "f1_score(y_test, self_training_model.predict(X_test), average='macro')"
   ]
  },
  {
   "cell_type": "code",
   "execution_count": 490,
   "id": "6be0dbac-d39c-4215-b98b-4af7e598ec31",
   "metadata": {},
   "outputs": [
    {
     "data": {
      "text/plain": [
       "0.0    78\n",
       "dtype: int64"
      ]
     },
     "execution_count": 490,
     "metadata": {},
     "output_type": "execute_result"
    }
   ],
   "source": [
    "pd.DataFrame(self_training_model.predict(X_test)).value_counts()"
   ]
  },
  {
   "cell_type": "markdown",
   "id": "db9f584d-4ded-4d3f-9afd-847078546b3b",
   "metadata": {},
   "source": [
    "Попробуем еще"
   ]
  },
  {
   "cell_type": "code",
   "execution_count": 491,
   "id": "3786b09d-512f-4e3d-abae-287167ee9053",
   "metadata": {},
   "outputs": [],
   "source": [
    "another_dict = dict()"
   ]
  },
  {
   "cell_type": "code",
   "execution_count": 492,
   "id": "2870bff9-62aa-47d2-b325-780052d5f86b",
   "metadata": {},
   "outputs": [],
   "source": [
    "from sklearn.semi_supervised import LabelPropagation"
   ]
  },
  {
   "cell_type": "code",
   "execution_count": 493,
   "id": "fba69d3e-63e3-417c-b44b-3a3ab7fcd13e",
   "metadata": {
    "tags": []
   },
   "outputs": [],
   "source": [
    "acc = 0.\n",
    "k = 25\n",
    "clf = LogisticRegression(max_iter=10000)\n",
    "self_training_model = LabelPropagation(kernel='rbf', gamma=9e-6, max_iter=100000, tol=0.0001)\n",
    "\n",
    "for i in range(k):\n",
    "    X = df.loc[df['DA'] != -1].loc[:, list(df)[36:-3] + ['Кол-во образований', 'Опыт нормализованный','Топовость образования', 'Справочник по интересам', 'Релокация?', 'Коммандировка?', 'Город?', 'Уровень оборазования нормализованный', 'Карьерный рост', 'Аналитические комбинации слов в навыках']]\n",
    "    y = df.loc[df['DA'] != -1, 'DA']\n",
    "    X_2 = df.loc[:, list(df)[36:-3] + ['Кол-во образований', 'Опыт нормализованный','Топовость образования', 'Справочник по интересам', 'Релокация?', 'Коммандировка?', 'Город?', 'Уровень оборазования нормализованный', 'Карьерный рост', 'Аналитические комбинации слов в навыках']]\n",
    "    y_2 = df.loc[:, 'DA']\n",
    "    \n",
    "    X_train = X.sample(200)\n",
    "    y_train = y[X_train.index]\n",
    "    \n",
    "    X_test = X.drop(X_train.index)\n",
    "    y_test = y.drop(y_train.index)\n",
    "    \n",
    "    X_train = X_2.drop(X_test.index)\n",
    "    y_train = y_2.drop(y_test.index)\n",
    "    \n",
    "    X_2.drop(X_test.index, inplace=True)\n",
    "    y_2.drop(y_test.index, inplace=True)\n",
    "    \n",
    "    self_training_model.fit(X_2, y_2)\n",
    "    acc += f1_score(y_test, self_training_model.predict(X_test), average='weighted')\n",
    "    accs.append(f1_score(y_test, self_training_model.predict(X_test), average='weighted'))"
   ]
  },
  {
   "cell_type": "code",
   "execution_count": 494,
   "id": "fb283ac6-ddba-4a17-85a7-13ed9a79db6d",
   "metadata": {},
   "outputs": [
    {
     "data": {
      "text/plain": [
       "0.7968769681208737"
      ]
     },
     "execution_count": 494,
     "metadata": {},
     "output_type": "execute_result"
    }
   ],
   "source": [
    "acc / k"
   ]
  },
  {
   "cell_type": "code",
   "execution_count": 495,
   "id": "ff2af4f1-7b8c-440c-9608-7af9b2eb656e",
   "metadata": {},
   "outputs": [
    {
     "data": {
      "text/plain": [
       "0.0    78\n",
       "dtype: int64"
      ]
     },
     "execution_count": 495,
     "metadata": {},
     "output_type": "execute_result"
    }
   ],
   "source": [
    "pd.DataFrame(self_training_model.predict(X_test)).value_counts()"
   ]
  },
  {
   "cell_type": "code",
   "execution_count": 496,
   "id": "cf65bd9e-ee68-4472-87b5-02bc8fbf8bf3",
   "metadata": {},
   "outputs": [
    {
     "data": {
      "text/plain": [
       "(0.6714981176961091, 0.9808105872622002)"
      ]
     },
     "execution_count": 496,
     "metadata": {},
     "output_type": "execute_result"
    }
   ],
   "source": [
    "np.min(accs), np.max(accs)"
   ]
  },
  {
   "cell_type": "code",
   "execution_count": 497,
   "id": "ad457f65-81b7-4608-9387-6fd1c9d901c5",
   "metadata": {},
   "outputs": [],
   "source": [
    "another_dict['LP'] = acc / k"
   ]
  },
  {
   "cell_type": "code",
   "execution_count": 498,
   "id": "a95e1ae4-ee53-4416-9459-fa796d8e5554",
   "metadata": {},
   "outputs": [],
   "source": [
    "from sklearn.semi_supervised import LabelSpreading"
   ]
  },
  {
   "cell_type": "code",
   "execution_count": 499,
   "id": "c2911947-6baa-4b33-aba5-aa38428f53b7",
   "metadata": {
    "tags": []
   },
   "outputs": [],
   "source": [
    "acc = 0.\n",
    "k = 25\n",
    "clf = LogisticRegression(max_iter=10000)\n",
    "self_training_model = LabelSpreading()\n",
    "\n",
    "for i in range(k):\n",
    "    X = df.loc[df['DA'] != -1].loc[:, list(df)[36:-3] + ['Кол-во образований', 'Опыт нормализованный','Топовость образования', 'Справочник по интересам', 'Релокация?', 'Коммандировка?', 'Город?', 'Уровень оборазования нормализованный', 'Карьерный рост', 'Аналитические комбинации слов в навыках']]\n",
    "    y = df.loc[df['DA'] != -1, 'DA']\n",
    "    X_2 = df.loc[:, list(df)[36:-3] + ['Кол-во образований', 'Опыт нормализованный','Топовость образования', 'Справочник по интересам', 'Релокация?', 'Коммандировка?', 'Город?', 'Уровень оборазования нормализованный', 'Карьерный рост', 'Аналитические комбинации слов в навыках']]\n",
    "    y_2 = df.loc[:, 'DA']\n",
    "    \n",
    "    X_train = X.sample(200)\n",
    "    y_train = y[X_train.index]\n",
    "    \n",
    "    X_test = X.drop(X_train.index)\n",
    "    y_test = y.drop(y_train.index)\n",
    "    \n",
    "    X_train = X_2.drop(X_test.index)\n",
    "    y_train = y_2.drop(y_test.index)\n",
    "    \n",
    "    X_2.drop(X_test.index, inplace=True)\n",
    "    y_2.drop(y_test.index, inplace=True)\n",
    "    \n",
    "    self_training_model.fit(X_2, y_2)\n",
    "    acc += f1_score(y_test, self_training_model.predict(X_test), average='weighted')\n",
    "    accs.append(f1_score(y_test, self_training_model.predict(X_test), average='weighted'))"
   ]
  },
  {
   "cell_type": "code",
   "execution_count": 500,
   "id": "4e7cb447-c5da-4ca3-b829-be5adc0d656d",
   "metadata": {},
   "outputs": [
    {
     "data": {
      "text/plain": [
       "0.7942818404524737"
      ]
     },
     "execution_count": 500,
     "metadata": {},
     "output_type": "execute_result"
    }
   ],
   "source": [
    "acc / k"
   ]
  },
  {
   "cell_type": "code",
   "execution_count": 501,
   "id": "6ed4a379-2adf-40b9-80e2-9343acdfa25d",
   "metadata": {},
   "outputs": [
    {
     "data": {
      "text/plain": [
       "0.0    74\n",
       "1.0     2\n",
       "2.0     2\n",
       "dtype: int64"
      ]
     },
     "execution_count": 501,
     "metadata": {},
     "output_type": "execute_result"
    }
   ],
   "source": [
    "pd.DataFrame(self_training_model.predict(X_test)).value_counts()"
   ]
  },
  {
   "cell_type": "code",
   "execution_count": 502,
   "id": "22c84514-5658-4619-9bb5-d3b3c1c98d6a",
   "metadata": {},
   "outputs": [
    {
     "data": {
      "text/plain": [
       "(0.6714981176961091, 0.9808105872622002)"
      ]
     },
     "execution_count": 502,
     "metadata": {},
     "output_type": "execute_result"
    }
   ],
   "source": [
    "np.min(accs), np.max(accs)"
   ]
  },
  {
   "cell_type": "code",
   "execution_count": 503,
   "id": "894f1d47-a2ea-455f-a0a6-654acaba7286",
   "metadata": {},
   "outputs": [],
   "source": [
    "another_dict['LS'] = acc / k"
   ]
  },
  {
   "cell_type": "code",
   "execution_count": 504,
   "id": "6c5926b8-2fcf-4afe-94b0-6dc2fcd08bfb",
   "metadata": {},
   "outputs": [],
   "source": [
    "from semisupervised import S3VM"
   ]
  },
  {
   "cell_type": "code",
   "execution_count": 505,
   "id": "eae8c39e-d85a-4084-8ecb-97d8311640be",
   "metadata": {
    "collapsed": true,
    "jupyter": {
     "outputs_hidden": true
    },
    "tags": []
   },
   "outputs": [
    {
     "name": "stderr",
     "output_type": "stream",
     "text": [
      "/Users/vladkopchev/miniconda3/lib/python3.9/site-packages/numpy/matrixlib/defmatrix.py:69: PendingDeprecationWarning: the matrix subclass is not the recommended way to represent matrices or deal with linear algebra (see https://docs.scipy.org/doc/numpy/user/numpy-for-matlab-users.html). Please adjust your code to use regular ndarray.\n",
      "  return matrix(data, dtype=dtype, copy=False)\n",
      "/Users/vladkopchev/miniconda3/lib/python3.9/site-packages/numpy/matrixlib/defmatrix.py:1109: PendingDeprecationWarning: the matrix subclass is not the recommended way to represent matrices or deal with linear algebra (see https://docs.scipy.org/doc/numpy/user/numpy-for-matlab-users.html). Please adjust your code to use regular ndarray.\n",
      "  return matrix(concatenate(arr_rows, axis=0))\n",
      "/Users/vladkopchev/miniconda3/lib/python3.9/site-packages/numpy/matrixlib/defmatrix.py:69: PendingDeprecationWarning: the matrix subclass is not the recommended way to represent matrices or deal with linear algebra (see https://docs.scipy.org/doc/numpy/user/numpy-for-matlab-users.html). Please adjust your code to use regular ndarray.\n",
      "  return matrix(data, dtype=dtype, copy=False)\n",
      "/Users/vladkopchev/miniconda3/lib/python3.9/site-packages/numpy/matrixlib/defmatrix.py:69: PendingDeprecationWarning: the matrix subclass is not the recommended way to represent matrices or deal with linear algebra (see https://docs.scipy.org/doc/numpy/user/numpy-for-matlab-users.html). Please adjust your code to use regular ndarray.\n",
      "  return matrix(data, dtype=dtype, copy=False)\n",
      "/Users/vladkopchev/miniconda3/lib/python3.9/site-packages/numpy/matrixlib/defmatrix.py:69: PendingDeprecationWarning: the matrix subclass is not the recommended way to represent matrices or deal with linear algebra (see https://docs.scipy.org/doc/numpy/user/numpy-for-matlab-users.html). Please adjust your code to use regular ndarray.\n",
      "  return matrix(data, dtype=dtype, copy=False)\n",
      "/Users/vladkopchev/miniconda3/lib/python3.9/site-packages/numpy/matrixlib/defmatrix.py:1109: PendingDeprecationWarning: the matrix subclass is not the recommended way to represent matrices or deal with linear algebra (see https://docs.scipy.org/doc/numpy/user/numpy-for-matlab-users.html). Please adjust your code to use regular ndarray.\n",
      "  return matrix(concatenate(arr_rows, axis=0))\n",
      "/Users/vladkopchev/miniconda3/lib/python3.9/site-packages/numpy/matrixlib/defmatrix.py:69: PendingDeprecationWarning: the matrix subclass is not the recommended way to represent matrices or deal with linear algebra (see https://docs.scipy.org/doc/numpy/user/numpy-for-matlab-users.html). Please adjust your code to use regular ndarray.\n",
      "  return matrix(data, dtype=dtype, copy=False)\n",
      "/Users/vladkopchev/miniconda3/lib/python3.9/site-packages/numpy/matrixlib/defmatrix.py:69: PendingDeprecationWarning: the matrix subclass is not the recommended way to represent matrices or deal with linear algebra (see https://docs.scipy.org/doc/numpy/user/numpy-for-matlab-users.html). Please adjust your code to use regular ndarray.\n",
      "  return matrix(data, dtype=dtype, copy=False)\n",
      "/Users/vladkopchev/miniconda3/lib/python3.9/site-packages/numpy/matrixlib/defmatrix.py:69: PendingDeprecationWarning: the matrix subclass is not the recommended way to represent matrices or deal with linear algebra (see https://docs.scipy.org/doc/numpy/user/numpy-for-matlab-users.html). Please adjust your code to use regular ndarray.\n",
      "  return matrix(data, dtype=dtype, copy=False)\n",
      "/Users/vladkopchev/miniconda3/lib/python3.9/site-packages/numpy/matrixlib/defmatrix.py:1109: PendingDeprecationWarning: the matrix subclass is not the recommended way to represent matrices or deal with linear algebra (see https://docs.scipy.org/doc/numpy/user/numpy-for-matlab-users.html). Please adjust your code to use regular ndarray.\n",
      "  return matrix(concatenate(arr_rows, axis=0))\n",
      "/Users/vladkopchev/miniconda3/lib/python3.9/site-packages/numpy/matrixlib/defmatrix.py:69: PendingDeprecationWarning: the matrix subclass is not the recommended way to represent matrices or deal with linear algebra (see https://docs.scipy.org/doc/numpy/user/numpy-for-matlab-users.html). Please adjust your code to use regular ndarray.\n",
      "  return matrix(data, dtype=dtype, copy=False)\n",
      "/Users/vladkopchev/miniconda3/lib/python3.9/site-packages/numpy/matrixlib/defmatrix.py:69: PendingDeprecationWarning: the matrix subclass is not the recommended way to represent matrices or deal with linear algebra (see https://docs.scipy.org/doc/numpy/user/numpy-for-matlab-users.html). Please adjust your code to use regular ndarray.\n",
      "  return matrix(data, dtype=dtype, copy=False)\n",
      "/Users/vladkopchev/miniconda3/lib/python3.9/site-packages/numpy/matrixlib/defmatrix.py:69: PendingDeprecationWarning: the matrix subclass is not the recommended way to represent matrices or deal with linear algebra (see https://docs.scipy.org/doc/numpy/user/numpy-for-matlab-users.html). Please adjust your code to use regular ndarray.\n",
      "  return matrix(data, dtype=dtype, copy=False)\n",
      "/Users/vladkopchev/miniconda3/lib/python3.9/site-packages/numpy/matrixlib/defmatrix.py:1109: PendingDeprecationWarning: the matrix subclass is not the recommended way to represent matrices or deal with linear algebra (see https://docs.scipy.org/doc/numpy/user/numpy-for-matlab-users.html). Please adjust your code to use regular ndarray.\n",
      "  return matrix(concatenate(arr_rows, axis=0))\n",
      "/Users/vladkopchev/miniconda3/lib/python3.9/site-packages/numpy/matrixlib/defmatrix.py:69: PendingDeprecationWarning: the matrix subclass is not the recommended way to represent matrices or deal with linear algebra (see https://docs.scipy.org/doc/numpy/user/numpy-for-matlab-users.html). Please adjust your code to use regular ndarray.\n",
      "  return matrix(data, dtype=dtype, copy=False)\n",
      "/Users/vladkopchev/miniconda3/lib/python3.9/site-packages/numpy/matrixlib/defmatrix.py:69: PendingDeprecationWarning: the matrix subclass is not the recommended way to represent matrices or deal with linear algebra (see https://docs.scipy.org/doc/numpy/user/numpy-for-matlab-users.html). Please adjust your code to use regular ndarray.\n",
      "  return matrix(data, dtype=dtype, copy=False)\n",
      "/Users/vladkopchev/miniconda3/lib/python3.9/site-packages/numpy/matrixlib/defmatrix.py:69: PendingDeprecationWarning: the matrix subclass is not the recommended way to represent matrices or deal with linear algebra (see https://docs.scipy.org/doc/numpy/user/numpy-for-matlab-users.html). Please adjust your code to use regular ndarray.\n",
      "  return matrix(data, dtype=dtype, copy=False)\n",
      "/Users/vladkopchev/miniconda3/lib/python3.9/site-packages/numpy/matrixlib/defmatrix.py:1109: PendingDeprecationWarning: the matrix subclass is not the recommended way to represent matrices or deal with linear algebra (see https://docs.scipy.org/doc/numpy/user/numpy-for-matlab-users.html). Please adjust your code to use regular ndarray.\n",
      "  return matrix(concatenate(arr_rows, axis=0))\n",
      "/Users/vladkopchev/miniconda3/lib/python3.9/site-packages/numpy/matrixlib/defmatrix.py:69: PendingDeprecationWarning: the matrix subclass is not the recommended way to represent matrices or deal with linear algebra (see https://docs.scipy.org/doc/numpy/user/numpy-for-matlab-users.html). Please adjust your code to use regular ndarray.\n",
      "  return matrix(data, dtype=dtype, copy=False)\n",
      "/Users/vladkopchev/miniconda3/lib/python3.9/site-packages/numpy/matrixlib/defmatrix.py:69: PendingDeprecationWarning: the matrix subclass is not the recommended way to represent matrices or deal with linear algebra (see https://docs.scipy.org/doc/numpy/user/numpy-for-matlab-users.html). Please adjust your code to use regular ndarray.\n",
      "  return matrix(data, dtype=dtype, copy=False)\n",
      "/Users/vladkopchev/miniconda3/lib/python3.9/site-packages/numpy/matrixlib/defmatrix.py:69: PendingDeprecationWarning: the matrix subclass is not the recommended way to represent matrices or deal with linear algebra (see https://docs.scipy.org/doc/numpy/user/numpy-for-matlab-users.html). Please adjust your code to use regular ndarray.\n",
      "  return matrix(data, dtype=dtype, copy=False)\n",
      "/Users/vladkopchev/miniconda3/lib/python3.9/site-packages/numpy/matrixlib/defmatrix.py:1109: PendingDeprecationWarning: the matrix subclass is not the recommended way to represent matrices or deal with linear algebra (see https://docs.scipy.org/doc/numpy/user/numpy-for-matlab-users.html). Please adjust your code to use regular ndarray.\n",
      "  return matrix(concatenate(arr_rows, axis=0))\n",
      "/Users/vladkopchev/miniconda3/lib/python3.9/site-packages/numpy/matrixlib/defmatrix.py:69: PendingDeprecationWarning: the matrix subclass is not the recommended way to represent matrices or deal with linear algebra (see https://docs.scipy.org/doc/numpy/user/numpy-for-matlab-users.html). Please adjust your code to use regular ndarray.\n",
      "  return matrix(data, dtype=dtype, copy=False)\n",
      "/Users/vladkopchev/miniconda3/lib/python3.9/site-packages/numpy/matrixlib/defmatrix.py:69: PendingDeprecationWarning: the matrix subclass is not the recommended way to represent matrices or deal with linear algebra (see https://docs.scipy.org/doc/numpy/user/numpy-for-matlab-users.html). Please adjust your code to use regular ndarray.\n",
      "  return matrix(data, dtype=dtype, copy=False)\n",
      "/Users/vladkopchev/miniconda3/lib/python3.9/site-packages/numpy/matrixlib/defmatrix.py:69: PendingDeprecationWarning: the matrix subclass is not the recommended way to represent matrices or deal with linear algebra (see https://docs.scipy.org/doc/numpy/user/numpy-for-matlab-users.html). Please adjust your code to use regular ndarray.\n",
      "  return matrix(data, dtype=dtype, copy=False)\n",
      "/Users/vladkopchev/miniconda3/lib/python3.9/site-packages/numpy/matrixlib/defmatrix.py:1109: PendingDeprecationWarning: the matrix subclass is not the recommended way to represent matrices or deal with linear algebra (see https://docs.scipy.org/doc/numpy/user/numpy-for-matlab-users.html). Please adjust your code to use regular ndarray.\n",
      "  return matrix(concatenate(arr_rows, axis=0))\n",
      "/Users/vladkopchev/miniconda3/lib/python3.9/site-packages/numpy/matrixlib/defmatrix.py:69: PendingDeprecationWarning: the matrix subclass is not the recommended way to represent matrices or deal with linear algebra (see https://docs.scipy.org/doc/numpy/user/numpy-for-matlab-users.html). Please adjust your code to use regular ndarray.\n",
      "  return matrix(data, dtype=dtype, copy=False)\n",
      "/Users/vladkopchev/miniconda3/lib/python3.9/site-packages/numpy/matrixlib/defmatrix.py:69: PendingDeprecationWarning: the matrix subclass is not the recommended way to represent matrices or deal with linear algebra (see https://docs.scipy.org/doc/numpy/user/numpy-for-matlab-users.html). Please adjust your code to use regular ndarray.\n",
      "  return matrix(data, dtype=dtype, copy=False)\n",
      "/Users/vladkopchev/miniconda3/lib/python3.9/site-packages/numpy/matrixlib/defmatrix.py:69: PendingDeprecationWarning: the matrix subclass is not the recommended way to represent matrices or deal with linear algebra (see https://docs.scipy.org/doc/numpy/user/numpy-for-matlab-users.html). Please adjust your code to use regular ndarray.\n",
      "  return matrix(data, dtype=dtype, copy=False)\n",
      "/Users/vladkopchev/miniconda3/lib/python3.9/site-packages/numpy/matrixlib/defmatrix.py:1109: PendingDeprecationWarning: the matrix subclass is not the recommended way to represent matrices or deal with linear algebra (see https://docs.scipy.org/doc/numpy/user/numpy-for-matlab-users.html). Please adjust your code to use regular ndarray.\n",
      "  return matrix(concatenate(arr_rows, axis=0))\n",
      "/Users/vladkopchev/miniconda3/lib/python3.9/site-packages/numpy/matrixlib/defmatrix.py:69: PendingDeprecationWarning: the matrix subclass is not the recommended way to represent matrices or deal with linear algebra (see https://docs.scipy.org/doc/numpy/user/numpy-for-matlab-users.html). Please adjust your code to use regular ndarray.\n",
      "  return matrix(data, dtype=dtype, copy=False)\n",
      "/Users/vladkopchev/miniconda3/lib/python3.9/site-packages/numpy/matrixlib/defmatrix.py:69: PendingDeprecationWarning: the matrix subclass is not the recommended way to represent matrices or deal with linear algebra (see https://docs.scipy.org/doc/numpy/user/numpy-for-matlab-users.html). Please adjust your code to use regular ndarray.\n",
      "  return matrix(data, dtype=dtype, copy=False)\n",
      "/Users/vladkopchev/miniconda3/lib/python3.9/site-packages/numpy/matrixlib/defmatrix.py:69: PendingDeprecationWarning: the matrix subclass is not the recommended way to represent matrices or deal with linear algebra (see https://docs.scipy.org/doc/numpy/user/numpy-for-matlab-users.html). Please adjust your code to use regular ndarray.\n",
      "  return matrix(data, dtype=dtype, copy=False)\n",
      "/Users/vladkopchev/miniconda3/lib/python3.9/site-packages/numpy/matrixlib/defmatrix.py:1109: PendingDeprecationWarning: the matrix subclass is not the recommended way to represent matrices or deal with linear algebra (see https://docs.scipy.org/doc/numpy/user/numpy-for-matlab-users.html). Please adjust your code to use regular ndarray.\n",
      "  return matrix(concatenate(arr_rows, axis=0))\n",
      "/Users/vladkopchev/miniconda3/lib/python3.9/site-packages/numpy/matrixlib/defmatrix.py:69: PendingDeprecationWarning: the matrix subclass is not the recommended way to represent matrices or deal with linear algebra (see https://docs.scipy.org/doc/numpy/user/numpy-for-matlab-users.html). Please adjust your code to use regular ndarray.\n",
      "  return matrix(data, dtype=dtype, copy=False)\n",
      "/Users/vladkopchev/miniconda3/lib/python3.9/site-packages/numpy/matrixlib/defmatrix.py:69: PendingDeprecationWarning: the matrix subclass is not the recommended way to represent matrices or deal with linear algebra (see https://docs.scipy.org/doc/numpy/user/numpy-for-matlab-users.html). Please adjust your code to use regular ndarray.\n",
      "  return matrix(data, dtype=dtype, copy=False)\n",
      "/Users/vladkopchev/miniconda3/lib/python3.9/site-packages/numpy/matrixlib/defmatrix.py:69: PendingDeprecationWarning: the matrix subclass is not the recommended way to represent matrices or deal with linear algebra (see https://docs.scipy.org/doc/numpy/user/numpy-for-matlab-users.html). Please adjust your code to use regular ndarray.\n",
      "  return matrix(data, dtype=dtype, copy=False)\n",
      "/Users/vladkopchev/miniconda3/lib/python3.9/site-packages/numpy/matrixlib/defmatrix.py:1109: PendingDeprecationWarning: the matrix subclass is not the recommended way to represent matrices or deal with linear algebra (see https://docs.scipy.org/doc/numpy/user/numpy-for-matlab-users.html). Please adjust your code to use regular ndarray.\n",
      "  return matrix(concatenate(arr_rows, axis=0))\n",
      "/Users/vladkopchev/miniconda3/lib/python3.9/site-packages/numpy/matrixlib/defmatrix.py:69: PendingDeprecationWarning: the matrix subclass is not the recommended way to represent matrices or deal with linear algebra (see https://docs.scipy.org/doc/numpy/user/numpy-for-matlab-users.html). Please adjust your code to use regular ndarray.\n",
      "  return matrix(data, dtype=dtype, copy=False)\n",
      "/Users/vladkopchev/miniconda3/lib/python3.9/site-packages/numpy/matrixlib/defmatrix.py:69: PendingDeprecationWarning: the matrix subclass is not the recommended way to represent matrices or deal with linear algebra (see https://docs.scipy.org/doc/numpy/user/numpy-for-matlab-users.html). Please adjust your code to use regular ndarray.\n",
      "  return matrix(data, dtype=dtype, copy=False)\n",
      "/Users/vladkopchev/miniconda3/lib/python3.9/site-packages/numpy/matrixlib/defmatrix.py:69: PendingDeprecationWarning: the matrix subclass is not the recommended way to represent matrices or deal with linear algebra (see https://docs.scipy.org/doc/numpy/user/numpy-for-matlab-users.html). Please adjust your code to use regular ndarray.\n",
      "  return matrix(data, dtype=dtype, copy=False)\n",
      "/Users/vladkopchev/miniconda3/lib/python3.9/site-packages/numpy/matrixlib/defmatrix.py:1109: PendingDeprecationWarning: the matrix subclass is not the recommended way to represent matrices or deal with linear algebra (see https://docs.scipy.org/doc/numpy/user/numpy-for-matlab-users.html). Please adjust your code to use regular ndarray.\n",
      "  return matrix(concatenate(arr_rows, axis=0))\n",
      "/Users/vladkopchev/miniconda3/lib/python3.9/site-packages/numpy/matrixlib/defmatrix.py:69: PendingDeprecationWarning: the matrix subclass is not the recommended way to represent matrices or deal with linear algebra (see https://docs.scipy.org/doc/numpy/user/numpy-for-matlab-users.html). Please adjust your code to use regular ndarray.\n",
      "  return matrix(data, dtype=dtype, copy=False)\n",
      "/Users/vladkopchev/miniconda3/lib/python3.9/site-packages/numpy/matrixlib/defmatrix.py:69: PendingDeprecationWarning: the matrix subclass is not the recommended way to represent matrices or deal with linear algebra (see https://docs.scipy.org/doc/numpy/user/numpy-for-matlab-users.html). Please adjust your code to use regular ndarray.\n",
      "  return matrix(data, dtype=dtype, copy=False)\n",
      "/Users/vladkopchev/miniconda3/lib/python3.9/site-packages/numpy/matrixlib/defmatrix.py:69: PendingDeprecationWarning: the matrix subclass is not the recommended way to represent matrices or deal with linear algebra (see https://docs.scipy.org/doc/numpy/user/numpy-for-matlab-users.html). Please adjust your code to use regular ndarray.\n",
      "  return matrix(data, dtype=dtype, copy=False)\n",
      "/Users/vladkopchev/miniconda3/lib/python3.9/site-packages/numpy/matrixlib/defmatrix.py:1109: PendingDeprecationWarning: the matrix subclass is not the recommended way to represent matrices or deal with linear algebra (see https://docs.scipy.org/doc/numpy/user/numpy-for-matlab-users.html). Please adjust your code to use regular ndarray.\n",
      "  return matrix(concatenate(arr_rows, axis=0))\n",
      "/Users/vladkopchev/miniconda3/lib/python3.9/site-packages/numpy/matrixlib/defmatrix.py:69: PendingDeprecationWarning: the matrix subclass is not the recommended way to represent matrices or deal with linear algebra (see https://docs.scipy.org/doc/numpy/user/numpy-for-matlab-users.html). Please adjust your code to use regular ndarray.\n",
      "  return matrix(data, dtype=dtype, copy=False)\n",
      "/Users/vladkopchev/miniconda3/lib/python3.9/site-packages/numpy/matrixlib/defmatrix.py:69: PendingDeprecationWarning: the matrix subclass is not the recommended way to represent matrices or deal with linear algebra (see https://docs.scipy.org/doc/numpy/user/numpy-for-matlab-users.html). Please adjust your code to use regular ndarray.\n",
      "  return matrix(data, dtype=dtype, copy=False)\n",
      "/Users/vladkopchev/miniconda3/lib/python3.9/site-packages/numpy/matrixlib/defmatrix.py:69: PendingDeprecationWarning: the matrix subclass is not the recommended way to represent matrices or deal with linear algebra (see https://docs.scipy.org/doc/numpy/user/numpy-for-matlab-users.html). Please adjust your code to use regular ndarray.\n",
      "  return matrix(data, dtype=dtype, copy=False)\n",
      "/Users/vladkopchev/miniconda3/lib/python3.9/site-packages/numpy/matrixlib/defmatrix.py:1109: PendingDeprecationWarning: the matrix subclass is not the recommended way to represent matrices or deal with linear algebra (see https://docs.scipy.org/doc/numpy/user/numpy-for-matlab-users.html). Please adjust your code to use regular ndarray.\n",
      "  return matrix(concatenate(arr_rows, axis=0))\n",
      "/Users/vladkopchev/miniconda3/lib/python3.9/site-packages/numpy/matrixlib/defmatrix.py:69: PendingDeprecationWarning: the matrix subclass is not the recommended way to represent matrices or deal with linear algebra (see https://docs.scipy.org/doc/numpy/user/numpy-for-matlab-users.html). Please adjust your code to use regular ndarray.\n",
      "  return matrix(data, dtype=dtype, copy=False)\n",
      "/Users/vladkopchev/miniconda3/lib/python3.9/site-packages/numpy/matrixlib/defmatrix.py:69: PendingDeprecationWarning: the matrix subclass is not the recommended way to represent matrices or deal with linear algebra (see https://docs.scipy.org/doc/numpy/user/numpy-for-matlab-users.html). Please adjust your code to use regular ndarray.\n",
      "  return matrix(data, dtype=dtype, copy=False)\n",
      "/Users/vladkopchev/miniconda3/lib/python3.9/site-packages/numpy/matrixlib/defmatrix.py:69: PendingDeprecationWarning: the matrix subclass is not the recommended way to represent matrices or deal with linear algebra (see https://docs.scipy.org/doc/numpy/user/numpy-for-matlab-users.html). Please adjust your code to use regular ndarray.\n",
      "  return matrix(data, dtype=dtype, copy=False)\n",
      "/Users/vladkopchev/miniconda3/lib/python3.9/site-packages/numpy/matrixlib/defmatrix.py:1109: PendingDeprecationWarning: the matrix subclass is not the recommended way to represent matrices or deal with linear algebra (see https://docs.scipy.org/doc/numpy/user/numpy-for-matlab-users.html). Please adjust your code to use regular ndarray.\n",
      "  return matrix(concatenate(arr_rows, axis=0))\n",
      "/Users/vladkopchev/miniconda3/lib/python3.9/site-packages/numpy/matrixlib/defmatrix.py:69: PendingDeprecationWarning: the matrix subclass is not the recommended way to represent matrices or deal with linear algebra (see https://docs.scipy.org/doc/numpy/user/numpy-for-matlab-users.html). Please adjust your code to use regular ndarray.\n",
      "  return matrix(data, dtype=dtype, copy=False)\n",
      "/Users/vladkopchev/miniconda3/lib/python3.9/site-packages/numpy/matrixlib/defmatrix.py:69: PendingDeprecationWarning: the matrix subclass is not the recommended way to represent matrices or deal with linear algebra (see https://docs.scipy.org/doc/numpy/user/numpy-for-matlab-users.html). Please adjust your code to use regular ndarray.\n",
      "  return matrix(data, dtype=dtype, copy=False)\n",
      "/Users/vladkopchev/miniconda3/lib/python3.9/site-packages/numpy/matrixlib/defmatrix.py:69: PendingDeprecationWarning: the matrix subclass is not the recommended way to represent matrices or deal with linear algebra (see https://docs.scipy.org/doc/numpy/user/numpy-for-matlab-users.html). Please adjust your code to use regular ndarray.\n",
      "  return matrix(data, dtype=dtype, copy=False)\n",
      "/Users/vladkopchev/miniconda3/lib/python3.9/site-packages/numpy/matrixlib/defmatrix.py:1109: PendingDeprecationWarning: the matrix subclass is not the recommended way to represent matrices or deal with linear algebra (see https://docs.scipy.org/doc/numpy/user/numpy-for-matlab-users.html). Please adjust your code to use regular ndarray.\n",
      "  return matrix(concatenate(arr_rows, axis=0))\n",
      "/Users/vladkopchev/miniconda3/lib/python3.9/site-packages/numpy/matrixlib/defmatrix.py:69: PendingDeprecationWarning: the matrix subclass is not the recommended way to represent matrices or deal with linear algebra (see https://docs.scipy.org/doc/numpy/user/numpy-for-matlab-users.html). Please adjust your code to use regular ndarray.\n",
      "  return matrix(data, dtype=dtype, copy=False)\n",
      "/Users/vladkopchev/miniconda3/lib/python3.9/site-packages/numpy/matrixlib/defmatrix.py:69: PendingDeprecationWarning: the matrix subclass is not the recommended way to represent matrices or deal with linear algebra (see https://docs.scipy.org/doc/numpy/user/numpy-for-matlab-users.html). Please adjust your code to use regular ndarray.\n",
      "  return matrix(data, dtype=dtype, copy=False)\n",
      "/Users/vladkopchev/miniconda3/lib/python3.9/site-packages/numpy/matrixlib/defmatrix.py:69: PendingDeprecationWarning: the matrix subclass is not the recommended way to represent matrices or deal with linear algebra (see https://docs.scipy.org/doc/numpy/user/numpy-for-matlab-users.html). Please adjust your code to use regular ndarray.\n",
      "  return matrix(data, dtype=dtype, copy=False)\n",
      "/Users/vladkopchev/miniconda3/lib/python3.9/site-packages/numpy/matrixlib/defmatrix.py:1109: PendingDeprecationWarning: the matrix subclass is not the recommended way to represent matrices or deal with linear algebra (see https://docs.scipy.org/doc/numpy/user/numpy-for-matlab-users.html). Please adjust your code to use regular ndarray.\n",
      "  return matrix(concatenate(arr_rows, axis=0))\n",
      "/Users/vladkopchev/miniconda3/lib/python3.9/site-packages/numpy/matrixlib/defmatrix.py:69: PendingDeprecationWarning: the matrix subclass is not the recommended way to represent matrices or deal with linear algebra (see https://docs.scipy.org/doc/numpy/user/numpy-for-matlab-users.html). Please adjust your code to use regular ndarray.\n",
      "  return matrix(data, dtype=dtype, copy=False)\n",
      "/Users/vladkopchev/miniconda3/lib/python3.9/site-packages/numpy/matrixlib/defmatrix.py:69: PendingDeprecationWarning: the matrix subclass is not the recommended way to represent matrices or deal with linear algebra (see https://docs.scipy.org/doc/numpy/user/numpy-for-matlab-users.html). Please adjust your code to use regular ndarray.\n",
      "  return matrix(data, dtype=dtype, copy=False)\n",
      "/Users/vladkopchev/miniconda3/lib/python3.9/site-packages/numpy/matrixlib/defmatrix.py:69: PendingDeprecationWarning: the matrix subclass is not the recommended way to represent matrices or deal with linear algebra (see https://docs.scipy.org/doc/numpy/user/numpy-for-matlab-users.html). Please adjust your code to use regular ndarray.\n",
      "  return matrix(data, dtype=dtype, copy=False)\n",
      "/Users/vladkopchev/miniconda3/lib/python3.9/site-packages/numpy/matrixlib/defmatrix.py:1109: PendingDeprecationWarning: the matrix subclass is not the recommended way to represent matrices or deal with linear algebra (see https://docs.scipy.org/doc/numpy/user/numpy-for-matlab-users.html). Please adjust your code to use regular ndarray.\n",
      "  return matrix(concatenate(arr_rows, axis=0))\n",
      "/Users/vladkopchev/miniconda3/lib/python3.9/site-packages/numpy/matrixlib/defmatrix.py:69: PendingDeprecationWarning: the matrix subclass is not the recommended way to represent matrices or deal with linear algebra (see https://docs.scipy.org/doc/numpy/user/numpy-for-matlab-users.html). Please adjust your code to use regular ndarray.\n",
      "  return matrix(data, dtype=dtype, copy=False)\n",
      "/Users/vladkopchev/miniconda3/lib/python3.9/site-packages/numpy/matrixlib/defmatrix.py:69: PendingDeprecationWarning: the matrix subclass is not the recommended way to represent matrices or deal with linear algebra (see https://docs.scipy.org/doc/numpy/user/numpy-for-matlab-users.html). Please adjust your code to use regular ndarray.\n",
      "  return matrix(data, dtype=dtype, copy=False)\n",
      "/Users/vladkopchev/miniconda3/lib/python3.9/site-packages/numpy/matrixlib/defmatrix.py:69: PendingDeprecationWarning: the matrix subclass is not the recommended way to represent matrices or deal with linear algebra (see https://docs.scipy.org/doc/numpy/user/numpy-for-matlab-users.html). Please adjust your code to use regular ndarray.\n",
      "  return matrix(data, dtype=dtype, copy=False)\n",
      "/Users/vladkopchev/miniconda3/lib/python3.9/site-packages/numpy/matrixlib/defmatrix.py:1109: PendingDeprecationWarning: the matrix subclass is not the recommended way to represent matrices or deal with linear algebra (see https://docs.scipy.org/doc/numpy/user/numpy-for-matlab-users.html). Please adjust your code to use regular ndarray.\n",
      "  return matrix(concatenate(arr_rows, axis=0))\n",
      "/Users/vladkopchev/miniconda3/lib/python3.9/site-packages/numpy/matrixlib/defmatrix.py:69: PendingDeprecationWarning: the matrix subclass is not the recommended way to represent matrices or deal with linear algebra (see https://docs.scipy.org/doc/numpy/user/numpy-for-matlab-users.html). Please adjust your code to use regular ndarray.\n",
      "  return matrix(data, dtype=dtype, copy=False)\n",
      "/Users/vladkopchev/miniconda3/lib/python3.9/site-packages/numpy/matrixlib/defmatrix.py:69: PendingDeprecationWarning: the matrix subclass is not the recommended way to represent matrices or deal with linear algebra (see https://docs.scipy.org/doc/numpy/user/numpy-for-matlab-users.html). Please adjust your code to use regular ndarray.\n",
      "  return matrix(data, dtype=dtype, copy=False)\n",
      "/Users/vladkopchev/miniconda3/lib/python3.9/site-packages/numpy/matrixlib/defmatrix.py:69: PendingDeprecationWarning: the matrix subclass is not the recommended way to represent matrices or deal with linear algebra (see https://docs.scipy.org/doc/numpy/user/numpy-for-matlab-users.html). Please adjust your code to use regular ndarray.\n",
      "  return matrix(data, dtype=dtype, copy=False)\n",
      "/Users/vladkopchev/miniconda3/lib/python3.9/site-packages/numpy/matrixlib/defmatrix.py:1109: PendingDeprecationWarning: the matrix subclass is not the recommended way to represent matrices or deal with linear algebra (see https://docs.scipy.org/doc/numpy/user/numpy-for-matlab-users.html). Please adjust your code to use regular ndarray.\n",
      "  return matrix(concatenate(arr_rows, axis=0))\n",
      "/Users/vladkopchev/miniconda3/lib/python3.9/site-packages/numpy/matrixlib/defmatrix.py:69: PendingDeprecationWarning: the matrix subclass is not the recommended way to represent matrices or deal with linear algebra (see https://docs.scipy.org/doc/numpy/user/numpy-for-matlab-users.html). Please adjust your code to use regular ndarray.\n",
      "  return matrix(data, dtype=dtype, copy=False)\n",
      "/Users/vladkopchev/miniconda3/lib/python3.9/site-packages/numpy/matrixlib/defmatrix.py:69: PendingDeprecationWarning: the matrix subclass is not the recommended way to represent matrices or deal with linear algebra (see https://docs.scipy.org/doc/numpy/user/numpy-for-matlab-users.html). Please adjust your code to use regular ndarray.\n",
      "  return matrix(data, dtype=dtype, copy=False)\n",
      "/Users/vladkopchev/miniconda3/lib/python3.9/site-packages/numpy/matrixlib/defmatrix.py:69: PendingDeprecationWarning: the matrix subclass is not the recommended way to represent matrices or deal with linear algebra (see https://docs.scipy.org/doc/numpy/user/numpy-for-matlab-users.html). Please adjust your code to use regular ndarray.\n",
      "  return matrix(data, dtype=dtype, copy=False)\n",
      "/Users/vladkopchev/miniconda3/lib/python3.9/site-packages/numpy/matrixlib/defmatrix.py:1109: PendingDeprecationWarning: the matrix subclass is not the recommended way to represent matrices or deal with linear algebra (see https://docs.scipy.org/doc/numpy/user/numpy-for-matlab-users.html). Please adjust your code to use regular ndarray.\n",
      "  return matrix(concatenate(arr_rows, axis=0))\n",
      "/Users/vladkopchev/miniconda3/lib/python3.9/site-packages/numpy/matrixlib/defmatrix.py:69: PendingDeprecationWarning: the matrix subclass is not the recommended way to represent matrices or deal with linear algebra (see https://docs.scipy.org/doc/numpy/user/numpy-for-matlab-users.html). Please adjust your code to use regular ndarray.\n",
      "  return matrix(data, dtype=dtype, copy=False)\n",
      "/Users/vladkopchev/miniconda3/lib/python3.9/site-packages/numpy/matrixlib/defmatrix.py:69: PendingDeprecationWarning: the matrix subclass is not the recommended way to represent matrices or deal with linear algebra (see https://docs.scipy.org/doc/numpy/user/numpy-for-matlab-users.html). Please adjust your code to use regular ndarray.\n",
      "  return matrix(data, dtype=dtype, copy=False)\n",
      "/Users/vladkopchev/miniconda3/lib/python3.9/site-packages/numpy/matrixlib/defmatrix.py:69: PendingDeprecationWarning: the matrix subclass is not the recommended way to represent matrices or deal with linear algebra (see https://docs.scipy.org/doc/numpy/user/numpy-for-matlab-users.html). Please adjust your code to use regular ndarray.\n",
      "  return matrix(data, dtype=dtype, copy=False)\n",
      "/Users/vladkopchev/miniconda3/lib/python3.9/site-packages/numpy/matrixlib/defmatrix.py:1109: PendingDeprecationWarning: the matrix subclass is not the recommended way to represent matrices or deal with linear algebra (see https://docs.scipy.org/doc/numpy/user/numpy-for-matlab-users.html). Please adjust your code to use regular ndarray.\n",
      "  return matrix(concatenate(arr_rows, axis=0))\n",
      "/Users/vladkopchev/miniconda3/lib/python3.9/site-packages/numpy/matrixlib/defmatrix.py:69: PendingDeprecationWarning: the matrix subclass is not the recommended way to represent matrices or deal with linear algebra (see https://docs.scipy.org/doc/numpy/user/numpy-for-matlab-users.html). Please adjust your code to use regular ndarray.\n",
      "  return matrix(data, dtype=dtype, copy=False)\n",
      "/Users/vladkopchev/miniconda3/lib/python3.9/site-packages/numpy/matrixlib/defmatrix.py:69: PendingDeprecationWarning: the matrix subclass is not the recommended way to represent matrices or deal with linear algebra (see https://docs.scipy.org/doc/numpy/user/numpy-for-matlab-users.html). Please adjust your code to use regular ndarray.\n",
      "  return matrix(data, dtype=dtype, copy=False)\n",
      "/Users/vladkopchev/miniconda3/lib/python3.9/site-packages/numpy/matrixlib/defmatrix.py:69: PendingDeprecationWarning: the matrix subclass is not the recommended way to represent matrices or deal with linear algebra (see https://docs.scipy.org/doc/numpy/user/numpy-for-matlab-users.html). Please adjust your code to use regular ndarray.\n",
      "  return matrix(data, dtype=dtype, copy=False)\n",
      "/Users/vladkopchev/miniconda3/lib/python3.9/site-packages/numpy/matrixlib/defmatrix.py:1109: PendingDeprecationWarning: the matrix subclass is not the recommended way to represent matrices or deal with linear algebra (see https://docs.scipy.org/doc/numpy/user/numpy-for-matlab-users.html). Please adjust your code to use regular ndarray.\n",
      "  return matrix(concatenate(arr_rows, axis=0))\n",
      "/Users/vladkopchev/miniconda3/lib/python3.9/site-packages/numpy/matrixlib/defmatrix.py:69: PendingDeprecationWarning: the matrix subclass is not the recommended way to represent matrices or deal with linear algebra (see https://docs.scipy.org/doc/numpy/user/numpy-for-matlab-users.html). Please adjust your code to use regular ndarray.\n",
      "  return matrix(data, dtype=dtype, copy=False)\n",
      "/Users/vladkopchev/miniconda3/lib/python3.9/site-packages/numpy/matrixlib/defmatrix.py:69: PendingDeprecationWarning: the matrix subclass is not the recommended way to represent matrices or deal with linear algebra (see https://docs.scipy.org/doc/numpy/user/numpy-for-matlab-users.html). Please adjust your code to use regular ndarray.\n",
      "  return matrix(data, dtype=dtype, copy=False)\n",
      "/Users/vladkopchev/miniconda3/lib/python3.9/site-packages/numpy/matrixlib/defmatrix.py:69: PendingDeprecationWarning: the matrix subclass is not the recommended way to represent matrices or deal with linear algebra (see https://docs.scipy.org/doc/numpy/user/numpy-for-matlab-users.html). Please adjust your code to use regular ndarray.\n",
      "  return matrix(data, dtype=dtype, copy=False)\n",
      "/Users/vladkopchev/miniconda3/lib/python3.9/site-packages/numpy/matrixlib/defmatrix.py:1109: PendingDeprecationWarning: the matrix subclass is not the recommended way to represent matrices or deal with linear algebra (see https://docs.scipy.org/doc/numpy/user/numpy-for-matlab-users.html). Please adjust your code to use regular ndarray.\n",
      "  return matrix(concatenate(arr_rows, axis=0))\n",
      "/Users/vladkopchev/miniconda3/lib/python3.9/site-packages/numpy/matrixlib/defmatrix.py:69: PendingDeprecationWarning: the matrix subclass is not the recommended way to represent matrices or deal with linear algebra (see https://docs.scipy.org/doc/numpy/user/numpy-for-matlab-users.html). Please adjust your code to use regular ndarray.\n",
      "  return matrix(data, dtype=dtype, copy=False)\n",
      "/Users/vladkopchev/miniconda3/lib/python3.9/site-packages/numpy/matrixlib/defmatrix.py:69: PendingDeprecationWarning: the matrix subclass is not the recommended way to represent matrices or deal with linear algebra (see https://docs.scipy.org/doc/numpy/user/numpy-for-matlab-users.html). Please adjust your code to use regular ndarray.\n",
      "  return matrix(data, dtype=dtype, copy=False)\n",
      "/Users/vladkopchev/miniconda3/lib/python3.9/site-packages/numpy/matrixlib/defmatrix.py:69: PendingDeprecationWarning: the matrix subclass is not the recommended way to represent matrices or deal with linear algebra (see https://docs.scipy.org/doc/numpy/user/numpy-for-matlab-users.html). Please adjust your code to use regular ndarray.\n",
      "  return matrix(data, dtype=dtype, copy=False)\n",
      "/Users/vladkopchev/miniconda3/lib/python3.9/site-packages/numpy/matrixlib/defmatrix.py:1109: PendingDeprecationWarning: the matrix subclass is not the recommended way to represent matrices or deal with linear algebra (see https://docs.scipy.org/doc/numpy/user/numpy-for-matlab-users.html). Please adjust your code to use regular ndarray.\n",
      "  return matrix(concatenate(arr_rows, axis=0))\n",
      "/Users/vladkopchev/miniconda3/lib/python3.9/site-packages/numpy/matrixlib/defmatrix.py:69: PendingDeprecationWarning: the matrix subclass is not the recommended way to represent matrices or deal with linear algebra (see https://docs.scipy.org/doc/numpy/user/numpy-for-matlab-users.html). Please adjust your code to use regular ndarray.\n",
      "  return matrix(data, dtype=dtype, copy=False)\n",
      "/Users/vladkopchev/miniconda3/lib/python3.9/site-packages/numpy/matrixlib/defmatrix.py:69: PendingDeprecationWarning: the matrix subclass is not the recommended way to represent matrices or deal with linear algebra (see https://docs.scipy.org/doc/numpy/user/numpy-for-matlab-users.html). Please adjust your code to use regular ndarray.\n",
      "  return matrix(data, dtype=dtype, copy=False)\n",
      "/Users/vladkopchev/miniconda3/lib/python3.9/site-packages/numpy/matrixlib/defmatrix.py:69: PendingDeprecationWarning: the matrix subclass is not the recommended way to represent matrices or deal with linear algebra (see https://docs.scipy.org/doc/numpy/user/numpy-for-matlab-users.html). Please adjust your code to use regular ndarray.\n",
      "  return matrix(data, dtype=dtype, copy=False)\n",
      "/Users/vladkopchev/miniconda3/lib/python3.9/site-packages/numpy/matrixlib/defmatrix.py:1109: PendingDeprecationWarning: the matrix subclass is not the recommended way to represent matrices or deal with linear algebra (see https://docs.scipy.org/doc/numpy/user/numpy-for-matlab-users.html). Please adjust your code to use regular ndarray.\n",
      "  return matrix(concatenate(arr_rows, axis=0))\n",
      "/Users/vladkopchev/miniconda3/lib/python3.9/site-packages/numpy/matrixlib/defmatrix.py:69: PendingDeprecationWarning: the matrix subclass is not the recommended way to represent matrices or deal with linear algebra (see https://docs.scipy.org/doc/numpy/user/numpy-for-matlab-users.html). Please adjust your code to use regular ndarray.\n",
      "  return matrix(data, dtype=dtype, copy=False)\n",
      "/Users/vladkopchev/miniconda3/lib/python3.9/site-packages/numpy/matrixlib/defmatrix.py:69: PendingDeprecationWarning: the matrix subclass is not the recommended way to represent matrices or deal with linear algebra (see https://docs.scipy.org/doc/numpy/user/numpy-for-matlab-users.html). Please adjust your code to use regular ndarray.\n",
      "  return matrix(data, dtype=dtype, copy=False)\n"
     ]
    }
   ],
   "source": [
    "acc = 0.\n",
    "k = 25\n",
    "clf = LogisticRegression(max_iter=10000)\n",
    "self_training_model = S3VM()\n",
    "\n",
    "for i in range(k):\n",
    "    X = df.loc[df['DA'] != -1].loc[:, list(df)[36:-3] + ['Кол-во образований', 'Опыт нормализованный','Топовость образования', 'Справочник по интересам', 'Релокация?', 'Коммандировка?', 'Город?', 'Уровень оборазования нормализованный', 'Карьерный рост', 'Аналитические комбинации слов в навыках']]\n",
    "    y = df.loc[df['DA'] != -1, 'DA']\n",
    "    X_2 = df.loc[:, list(df)[36:-3] + ['Кол-во образований', 'Опыт нормализованный','Топовость образования', 'Справочник по интересам', 'Релокация?', 'Коммандировка?', 'Город?', 'Уровень оборазования нормализованный', 'Карьерный рост', 'Аналитические комбинации слов в навыках']]\n",
    "    y_2 = df.loc[:, 'DA']\n",
    "    \n",
    "    X_train = X.sample(200)\n",
    "    y_train = y[X_train.index]\n",
    "    \n",
    "    X_test = X.drop(X_train.index)\n",
    "    y_test = y.drop(y_train.index)\n",
    "    \n",
    "    X_train = X_2.drop(X_test.index)\n",
    "    y_train = y_2.drop(y_test.index)\n",
    "    \n",
    "    X_2.drop(X_test.index, inplace=True)\n",
    "    y_2.drop(y_test.index, inplace=True)\n",
    "    \n",
    "    self_training_model.fit(np.array(X_2), np.array(y_2).astype('int32'))\n",
    "    acc += f1_score(y_test, self_training_model.predict(np.array(X_test)), average='weighted')\n",
    "    accs.append(f1_score(y_test, self_training_model.predict(np.array(X_test)), average='weighted'))"
   ]
  },
  {
   "cell_type": "code",
   "execution_count": 506,
   "id": "26948673-7458-4e29-94c4-11074f04e62b",
   "metadata": {},
   "outputs": [
    {
     "data": {
      "text/plain": [
       "(0.6714981176961091, 0.9808105872622002)"
      ]
     },
     "execution_count": 506,
     "metadata": {},
     "output_type": "execute_result"
    }
   ],
   "source": [
    "np.min(accs), np.max(accs)"
   ]
  },
  {
   "cell_type": "code",
   "execution_count": 507,
   "id": "261c7aa7-c159-4b22-a306-326ee9ba1ea0",
   "metadata": {},
   "outputs": [
    {
     "name": "stderr",
     "output_type": "stream",
     "text": [
      "/Users/vladkopchev/miniconda3/lib/python3.9/site-packages/numpy/matrixlib/defmatrix.py:69: PendingDeprecationWarning: the matrix subclass is not the recommended way to represent matrices or deal with linear algebra (see https://docs.scipy.org/doc/numpy/user/numpy-for-matlab-users.html). Please adjust your code to use regular ndarray.\n",
      "  return matrix(data, dtype=dtype, copy=False)\n"
     ]
    },
    {
     "data": {
      "text/plain": [
       "0.0    78\n",
       "dtype: int64"
      ]
     },
     "execution_count": 507,
     "metadata": {},
     "output_type": "execute_result"
    }
   ],
   "source": [
    "pd.DataFrame(self_training_model.predict(np.array(X_test))).value_counts()"
   ]
  },
  {
   "cell_type": "code",
   "execution_count": 508,
   "id": "ed3f1c92-852e-40e7-bfd5-3cf64cf6cd1c",
   "metadata": {},
   "outputs": [
    {
     "data": {
      "text/plain": [
       "0.7899247231306709"
      ]
     },
     "execution_count": 508,
     "metadata": {},
     "output_type": "execute_result"
    }
   ],
   "source": [
    "acc / k"
   ]
  },
  {
   "cell_type": "code",
   "execution_count": 509,
   "id": "5d93a63f-d2ae-4283-86d3-bd973b1a007e",
   "metadata": {},
   "outputs": [
    {
     "data": {
      "text/plain": [
       "0.8589743589743589"
      ]
     },
     "execution_count": 509,
     "metadata": {},
     "output_type": "execute_result"
    }
   ],
   "source": [
    "tf = pd.DataFrame(np.array(self_training_model.predict(np.array(X_test)))==np.array(y_test)).value_counts()\n",
    "tf[True] / (tf[True]+tf[False])"
   ]
  },
  {
   "cell_type": "code",
   "execution_count": 510,
   "id": "ab0a4e26-6ec7-4767-a34a-479440143d3e",
   "metadata": {},
   "outputs": [
    {
     "data": {
      "text/plain": [
       "0.3080459770114942"
      ]
     },
     "execution_count": 510,
     "metadata": {},
     "output_type": "execute_result"
    }
   ],
   "source": [
    "f1_score(y_test, self_training_model.predict(np.array(X_test)), average='macro')"
   ]
  },
  {
   "cell_type": "code",
   "execution_count": 511,
   "id": "552b76cb-9249-4b72-af05-b0cae9abc64c",
   "metadata": {},
   "outputs": [],
   "source": [
    "another_dict['S3VM'] = acc / k"
   ]
  },
  {
   "cell_type": "code",
   "execution_count": 512,
   "id": "74d1ce33-dd1b-445f-b26d-2f9c254898c0",
   "metadata": {
    "tags": []
   },
   "outputs": [],
   "source": [
    "acc = 0.\n",
    "k = 25\n",
    "clf = LogisticRegression(max_iter=10000)\n",
    "self_training_model = SelfLearningModel(clf)\n",
    "\n",
    "for i in range(k):\n",
    "    X = df.loc[df['DA'] != -1].loc[:, list(df)[36:-3] + ['Кол-во образований', 'Опыт нормализованный','Топовость образования', 'Справочник по интересам', 'Релокация?', 'Коммандировка?', 'Город?', 'Уровень оборазования нормализованный', 'Карьерный рост', 'Аналитические комбинации слов в навыках']]\n",
    "    y = df.loc[df['DA'] != -1, 'DA']\n",
    "    X_2 = df.loc[:, list(df)[36:-3] + ['Кол-во образований', 'Опыт нормализованный','Топовость образования', 'Справочник по интересам', 'Релокация?', 'Коммандировка?', 'Город?', 'Уровень оборазования нормализованный', 'Карьерный рост', 'Аналитические комбинации слов в навыках']]\n",
    "    y_2 = df.loc[:, 'DA']\n",
    "    \n",
    "    X_train = X.sample(200)\n",
    "    y_train = y[X_train.index]\n",
    "    \n",
    "    X_test = X.drop(X_train.index)\n",
    "    y_test = y.drop(y_train.index)\n",
    "    \n",
    "    X_train = X_2.drop(X_test.index)\n",
    "    y_train = y_2.drop(y_test.index)\n",
    "    \n",
    "    X_2.drop(X_test.index, inplace=True)\n",
    "    y_2.drop(y_test.index, inplace=True)\n",
    "    \n",
    "    self_training_model.fit(np.array(X_2), np.array(y_2).astype('int32'))\n",
    "    acc += f1_score(y_test, self_training_model.predict(np.array(X_test)), average='weighted')\n",
    "    accs.append(f1_score(y_test, self_training_model.predict(X_test), average='weighted'))"
   ]
  },
  {
   "cell_type": "code",
   "execution_count": 513,
   "id": "d3bba040-2db5-4a0f-9728-97ea51b32ec0",
   "metadata": {},
   "outputs": [
    {
     "data": {
      "text/plain": [
       "(0.6688963210702342, 0.9808105872622002)"
      ]
     },
     "execution_count": 513,
     "metadata": {},
     "output_type": "execute_result"
    }
   ],
   "source": [
    "np.min(accs), np.max(accs)"
   ]
  },
  {
   "cell_type": "code",
   "execution_count": 514,
   "id": "75fd8a80-ab80-47e4-bae7-fcb3b09deca1",
   "metadata": {},
   "outputs": [
    {
     "data": {
      "text/plain": [
       "0    78\n",
       "dtype: int64"
      ]
     },
     "execution_count": 514,
     "metadata": {},
     "output_type": "execute_result"
    }
   ],
   "source": [
    "pd.DataFrame(self_training_model.predict(X_test)).value_counts()"
   ]
  },
  {
   "cell_type": "code",
   "execution_count": 515,
   "id": "e7721d85-6ac1-4819-8875-38b1e263b227",
   "metadata": {},
   "outputs": [
    {
     "data": {
      "text/plain": [
       "0.8189079397842777"
      ]
     },
     "execution_count": 515,
     "metadata": {},
     "output_type": "execute_result"
    }
   ],
   "source": [
    "acc / k"
   ]
  },
  {
   "cell_type": "code",
   "execution_count": 516,
   "id": "b30b8f86-d13f-4eea-8098-d0b27a06fd4b",
   "metadata": {},
   "outputs": [
    {
     "data": {
      "text/plain": [
       "0.8076923076923077"
      ]
     },
     "execution_count": 516,
     "metadata": {},
     "output_type": "execute_result"
    }
   ],
   "source": [
    "tf = pd.DataFrame(np.array(self_training_model.predict(X_test))==np.array(y_test)).value_counts()\n",
    "tf[True] / (tf[True]+tf[False])"
   ]
  },
  {
   "cell_type": "code",
   "execution_count": 517,
   "id": "3a75e1f3-f912-4096-a7c8-3f48efd1afae",
   "metadata": {},
   "outputs": [
    {
     "data": {
      "text/plain": [
       "0.2978723404255319"
      ]
     },
     "execution_count": 517,
     "metadata": {},
     "output_type": "execute_result"
    }
   ],
   "source": [
    "f1_score(y_test, self_training_model.predict(X_test), average='macro')"
   ]
  },
  {
   "cell_type": "markdown",
   "id": "e1ffc913-b815-47d3-94f6-508ee22a4d57",
   "metadata": {},
   "source": [
    "еще:"
   ]
  },
  {
   "cell_type": "code",
   "execution_count": 518,
   "id": "a0b1343c-dece-47df-9ba9-d382a83e0451",
   "metadata": {
    "tags": []
   },
   "outputs": [],
   "source": [
    "acc = 0.\n",
    "k = 25\n",
    "clf = LogisticRegression(max_iter=10000)\n",
    "self_training_model = SelfLearningModel(sklearn.svm.SVC(kernel=\"rbf\", probability=True))\n",
    "\n",
    "for i in range(k):\n",
    "    X = df.loc[df['DA'] != -1].loc[:, list(df)[36:-3] + ['Кол-во образований', 'Опыт нормализованный','Топовость образования', 'Справочник по интересам', 'Релокация?', 'Коммандировка?', 'Город?', 'Уровень оборазования нормализованный', 'Карьерный рост', 'Аналитические комбинации слов в навыках']]\n",
    "    y = df.loc[df['DA'] != -1, 'DA']\n",
    "    X_2 = df.loc[:, list(df)[36:-3] + ['Кол-во образований', 'Опыт нормализованный','Топовость образования', 'Справочник по интересам', 'Релокация?', 'Коммандировка?', 'Город?', 'Уровень оборазования нормализованный', 'Карьерный рост', 'Аналитические комбинации слов в навыках']]\n",
    "    y_2 = df.loc[:, 'DA']\n",
    "    \n",
    "    X_train = X.sample(200)\n",
    "    y_train = y[X_train.index]\n",
    "    \n",
    "    X_test = X.drop(X_train.index)\n",
    "    y_test = y.drop(y_train.index)\n",
    "    \n",
    "    X_train = X_2.drop(X_test.index)\n",
    "    y_train = y_2.drop(y_test.index)\n",
    "    \n",
    "    X_2.drop(X_test.index, inplace=True)\n",
    "    y_2.drop(y_test.index, inplace=True)\n",
    "    \n",
    "    self_training_model.fit(np.array(X_2), np.array(y_2).astype('int32'))\n",
    "    acc += f1_score(y_test, self_training_model.predict(np.array(X_test)), average='weighted')\n",
    "    accs.append(f1_score(y_test, self_training_model.predict(X_test), average='weighted'))"
   ]
  },
  {
   "cell_type": "code",
   "execution_count": 519,
   "id": "521831a2-955d-4975-8343-5df9498e9813",
   "metadata": {},
   "outputs": [
    {
     "data": {
      "text/plain": [
       "0    78\n",
       "dtype: int64"
      ]
     },
     "execution_count": 519,
     "metadata": {},
     "output_type": "execute_result"
    }
   ],
   "source": [
    "pd.DataFrame(self_training_model.predict(X_test)).value_counts()"
   ]
  },
  {
   "cell_type": "code",
   "execution_count": 520,
   "id": "7c4f9a9d-3709-4ff2-97ee-a9dd13a126bb",
   "metadata": {},
   "outputs": [
    {
     "data": {
      "text/plain": [
       "(0.6688963210702342, 0.9808105872622002)"
      ]
     },
     "execution_count": 520,
     "metadata": {},
     "output_type": "execute_result"
    }
   ],
   "source": [
    "np.min(accs), np.max(accs)"
   ]
  },
  {
   "cell_type": "code",
   "execution_count": 521,
   "id": "addbf5e1-2a7f-4dac-a5e3-40464233d14f",
   "metadata": {},
   "outputs": [
    {
     "data": {
      "text/plain": [
       "0.7955307472840082"
      ]
     },
     "execution_count": 521,
     "metadata": {},
     "output_type": "execute_result"
    }
   ],
   "source": [
    "acc / k"
   ]
  },
  {
   "cell_type": "code",
   "execution_count": 522,
   "id": "156647d2-ed8d-429e-84a9-ea919d96bc8b",
   "metadata": {},
   "outputs": [
    {
     "data": {
      "text/plain": [
       "0.8461538461538461"
      ]
     },
     "execution_count": 522,
     "metadata": {},
     "output_type": "execute_result"
    }
   ],
   "source": [
    "tf = pd.DataFrame(np.array(self_training_model.predict(X_test))==np.array(y_test)).value_counts()\n",
    "tf[True] / (tf[True]+tf[False])"
   ]
  },
  {
   "cell_type": "code",
   "execution_count": 523,
   "id": "3ae79a9b-32e6-4254-be5f-06d765d23e9a",
   "metadata": {},
   "outputs": [
    {
     "data": {
      "text/plain": [
       "0.3055555555555555"
      ]
     },
     "execution_count": 523,
     "metadata": {},
     "output_type": "execute_result"
    }
   ],
   "source": [
    "f1_score(y_test, self_training_model.predict(X_test), average='macro')"
   ]
  },
  {
   "cell_type": "code",
   "execution_count": 524,
   "id": "6da847b5-603e-4905-9758-1e14a568e328",
   "metadata": {},
   "outputs": [],
   "source": [
    "another_dict['SL'] = acc / k"
   ]
  },
  {
   "cell_type": "code",
   "execution_count": 525,
   "id": "91e5d0aa-d4fa-4312-aad5-57371d651a31",
   "metadata": {
    "collapsed": true,
    "jupyter": {
     "outputs_hidden": true
    },
    "tags": []
   },
   "outputs": [
    {
     "name": "stdout",
     "output_type": "stream",
     "text": [
      "25\n",
      "25\n",
      "25\n",
      "25\n",
      "25\n",
      "25\n",
      "25\n",
      "25\n",
      "25\n",
      "25\n",
      "25\n",
      "25\n",
      "25\n",
      "25\n",
      "25\n",
      "25\n",
      "25\n",
      "25\n",
      "25\n",
      "25\n",
      "25\n",
      "25\n",
      "25\n",
      "25\n",
      "25\n"
     ]
    }
   ],
   "source": [
    "acc = 0.\n",
    "k = 25\n",
    "clf = LogisticRegression(max_iter=10000)\n",
    "self_training_model = LabelPropagation(kernel='rbf', gamma=9e-6, max_iter=100000, tol=0.0001)\n",
    "lp_knn = LabelPropagation(kernel='knn')\n",
    "self_training_model = lp_knn\n",
    "accs = []\n",
    "\n",
    "for i in range(k):\n",
    "    print(k)\n",
    "    X = df.loc[df['DA'] != -1].loc[:, list(df)[36:-3] + ['Кол-во образований', 'Опыт нормализованный','Топовость образования', 'Справочник по интересам', 'Релокация?', 'Коммандировка?', 'Город?', 'Уровень оборазования нормализованный', 'Карьерный рост', 'Аналитические комбинации слов в навыках']]\n",
    "    y = df.loc[df['DA'] != -1, 'DA']\n",
    "    X_2 = df.loc[:, list(df)[36:-3] + ['Кол-во образований', 'Опыт нормализованный','Топовость образования', 'Справочник по интересам', 'Релокация?', 'Коммандировка?', 'Город?', 'Уровень оборазования нормализованный', 'Карьерный рост', 'Аналитические комбинации слов в навыках']]\n",
    "    y_2 = df.loc[:, 'DA']\n",
    "    \n",
    "    X_train = X.sample(200)\n",
    "    y_train = y[X_train.index]\n",
    "    \n",
    "    X_test = X.drop(X_train.index)\n",
    "    y_test = y.drop(y_train.index)\n",
    "    \n",
    "    X_train = X_2.drop(X_test.index)\n",
    "    y_train = y_2.drop(y_test.index)\n",
    "    \n",
    "    X_2.drop(X_test.index, inplace=True)\n",
    "    y_2.drop(y_test.index, inplace=True)\n",
    "    \n",
    "    self_training_model.fit(X_2, y_2)\n",
    "    acc += f1_score(y_test, self_training_model.predict(X_test), average='weighted')\n",
    "    accs.append(f1_score(y_test, self_training_model.predict(X_test), average='weighted'))"
   ]
  },
  {
   "cell_type": "code",
   "execution_count": 526,
   "id": "b6c9c077-c4e7-4ed7-b395-309bc9c8bd4d",
   "metadata": {},
   "outputs": [
    {
     "data": {
      "text/plain": [
       "0.797016082571011"
      ]
     },
     "execution_count": 526,
     "metadata": {},
     "output_type": "execute_result"
    }
   ],
   "source": [
    "acc / k"
   ]
  },
  {
   "cell_type": "code",
   "execution_count": 527,
   "id": "eb362040-9d82-4928-bc32-1061dd2b90ad",
   "metadata": {},
   "outputs": [
    {
     "data": {
      "text/plain": [
       "0.8205128205128205"
      ]
     },
     "execution_count": 527,
     "metadata": {},
     "output_type": "execute_result"
    }
   ],
   "source": [
    "tf = pd.DataFrame(np.array(self_training_model.predict(X_test))==np.array(y_test)).value_counts()\n",
    "tf[True] / (tf[True]+tf[False])"
   ]
  },
  {
   "cell_type": "code",
   "execution_count": 528,
   "id": "70ecfd3f-706c-4d7a-a585-5e4934cc3f8c",
   "metadata": {},
   "outputs": [
    {
     "data": {
      "text/plain": [
       "0.0    78\n",
       "dtype: int64"
      ]
     },
     "execution_count": 528,
     "metadata": {},
     "output_type": "execute_result"
    }
   ],
   "source": [
    "pd.DataFrame(self_training_model.predict(X_test)).value_counts()"
   ]
  },
  {
   "cell_type": "code",
   "execution_count": 529,
   "id": "4fa67ee2-8893-44c5-b103-295ecdcc4273",
   "metadata": {},
   "outputs": [
    {
     "data": {
      "text/plain": [
       "0.3004694835680751"
      ]
     },
     "execution_count": 529,
     "metadata": {},
     "output_type": "execute_result"
    }
   ],
   "source": [
    "f1_score(y_test, self_training_model.predict(X_test), average='macro')"
   ]
  },
  {
   "cell_type": "code",
   "execution_count": 530,
   "id": "94de1d24-0fc1-4982-81c1-37d2163e264a",
   "metadata": {},
   "outputs": [
    {
     "data": {
      "text/plain": [
       "(0.7217675941080196, 0.8674926862846326)"
      ]
     },
     "execution_count": 530,
     "metadata": {},
     "output_type": "execute_result"
    }
   ],
   "source": [
    "np.min(accs), np.max(accs)"
   ]
  },
  {
   "cell_type": "code",
   "execution_count": 531,
   "id": "46c22a05-cf5c-42ff-ab28-3df036a865c2",
   "metadata": {},
   "outputs": [],
   "source": [
    "another_dict['LP_knn'] = acc / k"
   ]
  },
  {
   "cell_type": "code",
   "execution_count": 532,
   "id": "b9895345-713f-455a-8e21-952d41e823eb",
   "metadata": {},
   "outputs": [
    {
     "data": {
      "text/plain": [
       "{'LP': 0.7968769681208737,\n",
       " 'LS': 0.7942818404524737,\n",
       " 'S3VM': 0.7899247231306709,\n",
       " 'SL': 0.7955307472840082,\n",
       " 'LP_knn': 0.797016082571011}"
      ]
     },
     "execution_count": 532,
     "metadata": {},
     "output_type": "execute_result"
    }
   ],
   "source": [
    "another_dict"
   ]
  },
  {
   "cell_type": "code",
   "execution_count": 533,
   "id": "017d8583-0265-4bb3-a92b-ceddd71e9a75",
   "metadata": {},
   "outputs": [
    {
     "data": {
      "text/html": [
       "<div>\n",
       "<style scoped>\n",
       "    .dataframe tbody tr th:only-of-type {\n",
       "        vertical-align: middle;\n",
       "    }\n",
       "\n",
       "    .dataframe tbody tr th {\n",
       "        vertical-align: top;\n",
       "    }\n",
       "\n",
       "    .dataframe thead th {\n",
       "        text-align: right;\n",
       "    }\n",
       "</style>\n",
       "<table border=\"1\" class=\"dataframe\">\n",
       "  <thead>\n",
       "    <tr style=\"text-align: right;\">\n",
       "      <th></th>\n",
       "      <th>LP</th>\n",
       "      <th>LS</th>\n",
       "      <th>S3VM</th>\n",
       "      <th>SL</th>\n",
       "      <th>LP_knn</th>\n",
       "    </tr>\n",
       "  </thead>\n",
       "  <tbody>\n",
       "    <tr>\n",
       "      <th>1</th>\n",
       "      <td>0.796877</td>\n",
       "      <td>0.794282</td>\n",
       "      <td>0.789925</td>\n",
       "      <td>0.795531</td>\n",
       "      <td>0.797016</td>\n",
       "    </tr>\n",
       "  </tbody>\n",
       "</table>\n",
       "</div>"
      ],
      "text/plain": [
       "         LP        LS      S3VM        SL    LP_knn\n",
       "1  0.796877  0.794282  0.789925  0.795531  0.797016"
      ]
     },
     "execution_count": 533,
     "metadata": {},
     "output_type": "execute_result"
    }
   ],
   "source": [
    "pd.DataFrame(another_dict, index=['1'])"
   ]
  },
  {
   "cell_type": "markdown",
   "id": "31f1f439-dbe6-46cd-8530-e6ad2cffb5a4",
   "metadata": {},
   "source": [
    "Итог:"
   ]
  },
  {
   "cell_type": "code",
   "execution_count": 534,
   "id": "b9a657f2-2977-4431-8938-c9b13c574711",
   "metadata": {},
   "outputs": [
    {
     "data": {
      "text/html": [
       "<div>\n",
       "<style scoped>\n",
       "    .dataframe tbody tr th:only-of-type {\n",
       "        vertical-align: middle;\n",
       "    }\n",
       "\n",
       "    .dataframe tbody tr th {\n",
       "        vertical-align: top;\n",
       "    }\n",
       "\n",
       "    .dataframe thead th {\n",
       "        text-align: right;\n",
       "    }\n",
       "</style>\n",
       "<table border=\"1\" class=\"dataframe\">\n",
       "  <thead>\n",
       "    <tr style=\"text-align: right;\">\n",
       "      <th></th>\n",
       "      <th>not semi-supervised</th>\n",
       "      <th>semi-supervised</th>\n",
       "    </tr>\n",
       "  </thead>\n",
       "  <tbody>\n",
       "    <tr>\n",
       "      <th>LR</th>\n",
       "      <td>0.817014</td>\n",
       "      <td>0.797794</td>\n",
       "    </tr>\n",
       "    <tr>\n",
       "      <th>DT</th>\n",
       "      <td>0.773009</td>\n",
       "      <td>0.761146</td>\n",
       "    </tr>\n",
       "    <tr>\n",
       "      <th>kNN</th>\n",
       "      <td>0.825320</td>\n",
       "      <td>0.811970</td>\n",
       "    </tr>\n",
       "  </tbody>\n",
       "</table>\n",
       "</div>"
      ],
      "text/plain": [
       "     not semi-supervised  semi-supervised\n",
       "LR              0.817014         0.797794\n",
       "DT              0.773009         0.761146\n",
       "kNN             0.825320         0.811970"
      ]
     },
     "execution_count": 534,
     "metadata": {},
     "output_type": "execute_result"
    }
   ],
   "source": [
    "pd.DataFrame(lr_svm_rf_dict, index=['LR', 'DT', 'kNN'])"
   ]
  },
  {
   "cell_type": "markdown",
   "id": "ef4a0e80-a123-4c00-a2e3-96cd48c5e264",
   "metadata": {},
   "source": [
    "Мы видим, что качество при переходе к частичному обучению осталось приблизительно тем же. Однако частичное обучение решает другую задачу — заполнение пропусков, и мы применим наши алгоритмы позже."
   ]
  },
  {
   "cell_type": "markdown",
   "id": "8815b92b-87fa-42b4-8182-49f6cdef23b3",
   "metadata": {},
   "source": [
    "SelfLearning import:"
   ]
  },
  {
   "cell_type": "code",
   "execution_count": 535,
   "id": "2510942a-96df-4b97-827e-f52a669601f4",
   "metadata": {
    "jupyter": {
     "source_hidden": true
    },
    "tags": []
   },
   "outputs": [],
   "source": [
    "from sklearn.base import BaseEstimator\n",
    "import sklearn.metrics\n",
    "import sys\n",
    "import numpy\n",
    "from sklearn.linear_model import LogisticRegression as LR\n",
    "\n",
    "class SelfLearningModel(BaseEstimator):\n",
    "    \"\"\"\n",
    "    Self Learning framework for semi-supervised learning\n",
    "\n",
    "    This class takes a base model (any scikit learn estimator),\n",
    "    trains it on the labeled examples, and then iteratively \n",
    "    labeles the unlabeled examples with the trained model and then \n",
    "    re-trains it using the confidently self-labeled instances \n",
    "    (those with above-threshold probability) until convergence.\n",
    "    \n",
    "    See e.g. http://pages.cs.wisc.edu/~jerryzhu/pub/sslicml07.pdf\n",
    "\n",
    "    Parameters\n",
    "    ----------\n",
    "    basemodel : BaseEstimator instance\n",
    "        Base model to be iteratively self trained\n",
    "\n",
    "    max_iter : int, optional (default=200)\n",
    "        Maximum number of iterations\n",
    "\n",
    "    prob_threshold : float, optional (default=0.8)\n",
    "        Probability threshold for self-labeled instances\n",
    "    \"\"\"\n",
    "    \n",
    "    def __init__(self, basemodel, max_iter = 200, prob_threshold = 0.8):\n",
    "        self.model = basemodel\n",
    "        self.max_iter = max_iter\n",
    "        self.prob_threshold = prob_threshold \n",
    "        \n",
    "    def fit(self, X, y): # -1 for unlabeled\n",
    "        \"\"\"Fit base model to the data in a semi-supervised fashion \n",
    "        using self training \n",
    "\n",
    "        All the input data is provided matrix X (labeled and unlabeled)\n",
    "        and corresponding label matrix y with a dedicated marker value (-1) for\n",
    "        unlabeled samples.\n",
    "\n",
    "        Parameters\n",
    "        ----------\n",
    "        X : array-like, shape = [n_samples, n_features]\n",
    "            A {n_samples by n_samples} size matrix will be created from this\n",
    "\n",
    "        y : array_like, shape = [n_samples]\n",
    "            n_labeled_samples (unlabeled points are marked as -1)\n",
    "\n",
    "        Returns\n",
    "        -------\n",
    "        self : returns an instance of self.\n",
    "        \"\"\"\n",
    "        unlabeledX = X[y==-1, :]\n",
    "        labeledX = X[y!=-1, :]\n",
    "        labeledy = y[y!=-1]\n",
    "        \n",
    "        self.model.fit(labeledX, labeledy)\n",
    "        unlabeledy = self.predict(unlabeledX)\n",
    "        unlabeledprob = self.predict_proba(unlabeledX)\n",
    "        unlabeledy_old = []\n",
    "        #re-train, labeling unlabeled instances with model predictions, until convergence\n",
    "        i = 0\n",
    "        while (len(unlabeledy_old) == 0 or numpy.any(unlabeledy!=unlabeledy_old)) and i < self.max_iter:\n",
    "            unlabeledy_old = numpy.copy(unlabeledy)\n",
    "            uidx = numpy.where((unlabeledprob[:, 0] > self.prob_threshold) | (unlabeledprob[:, 1] > self.prob_threshold))[0]\n",
    "            \n",
    "            self.model.fit(numpy.vstack((labeledX, unlabeledX[uidx, :])), numpy.hstack((labeledy, unlabeledy_old[uidx])))\n",
    "            unlabeledy = self.predict(unlabeledX)\n",
    "            unlabeledprob = self.predict_proba(unlabeledX)\n",
    "            i += 1\n",
    "        \n",
    "        if not getattr(self.model, \"predict_proba\", None):\n",
    "            # Platt scaling if the model cannot generate predictions itself\n",
    "            self.plattlr = LR()\n",
    "            preds = self.model.predict(labeledX)\n",
    "            self.plattlr.fit( preds.reshape( -1, 1 ), labeledy )\n",
    "            \n",
    "        return self\n",
    "        \n",
    "    def predict_proba(self, X):\n",
    "        \"\"\"Compute probabilities of possible outcomes for samples in X.\n",
    "\n",
    "        The model need to have probability information computed at training\n",
    "        time: fit with attribute `probability` set to True.\n",
    "\n",
    "        Parameters\n",
    "        ----------\n",
    "        X : array-like, shape = [n_samples, n_features]\n",
    "\n",
    "        Returns\n",
    "        -------\n",
    "        T : array-like, shape = [n_samples, n_classes]\n",
    "            Returns the probability of the sample for each class in\n",
    "            the model. The columns correspond to the classes in sorted\n",
    "            order, as they appear in the attribute `classes_`.\n",
    "        \"\"\"\n",
    "        \n",
    "        if getattr(self.model, \"predict_proba\", None):\n",
    "            return self.model.predict_proba(X)\n",
    "        else:\n",
    "            preds = self.model.predict(X)\n",
    "            return self.plattlr.predict_proba(preds.reshape( -1, 1 ))\n",
    "        \n",
    "    def predict(self, X):\n",
    "        \"\"\"Perform classification on samples in X.\n",
    "\n",
    "        Parameters\n",
    "        ----------\n",
    "        X : array-like, shape = [n_samples, n_features]\n",
    "\n",
    "        Returns\n",
    "        -------\n",
    "        y_pred : array, shape = [n_samples]\n",
    "            Class labels for samples in X.\n",
    "        \"\"\"\n",
    "        \n",
    "        return self.model.predict(X)\n",
    "    \n",
    "    def score(self, X, y, sample_weight=None):\n",
    "        return sklearn.metrics.accuracy_score(y, self.predict(X), sample_weight=sample_weight)\n",
    "    \n",
    "    \n",
    "\"\"\"\n",
    "\"\"\"\n",
    "class Unbuffered(object):\n",
    "    def __init__(self, stream):\n",
    "        self.stream = stream\n",
    "    def write(self, data):\n",
    "        self.stream.write(data)\n",
    "        self.stream.flush()\n",
    "    def __getattr__(self, attr):\n",
    "        return getattr(self.stream, attr)\n",
    "\n",
    "import sys\n",
    "sys.stdout = Unbuffered(sys.stdout)\n",
    "\n",
    "from sklearn.base import BaseEstimator\n",
    "import numpy\n",
    "import sklearn.metrics\n",
    "from sklearn.linear_model import LogisticRegression as LR\n",
    "import nlopt\n",
    "import scipy.stats\n",
    "\n",
    "class CPLELearningModel(BaseEstimator):\n",
    "    \"\"\"\n",
    "    Contrastive Pessimistic Likelihood Estimation framework for semi-supervised\n",
    "    learning, based on (Loog, 2015). This implementation contains two\n",
    "    significant differences to (Loog, 2015):\n",
    "    - the discriminative likelihood p(y|X), instead of the generative\n",
    "    likelihood p(X), is used for optimization\n",
    "    - apart from `pessimism' (the assumption that the true labels of the\n",
    "    unlabeled instances are as adversarial to the likelihood as possible), the\n",
    "    optimization objective also tries to increase the likelihood on the labeled\n",
    "    examples\n",
    "\n",
    "    This class takes a base model (any scikit learn estimator),\n",
    "    trains it on the labeled examples, and then uses global optimization to\n",
    "    find (soft) label hypotheses for the unlabeled examples in a pessimistic\n",
    "    fashion (such that the model log likelihood on the unlabeled data is as\n",
    "    small as possible, but the log likelihood on the labeled data is as high\n",
    "    as possible)\n",
    "\n",
    "    See Loog, Marco. \"Contrastive Pessimistic Likelihood Estimation for\n",
    "    Semi-Supervised Classification.\" arXiv preprint arXiv:1503.00269 (2015).\n",
    "    http://arxiv.org/pdf/1503.00269\n",
    "\n",
    "    Attributes\n",
    "    ----------\n",
    "    basemodel : BaseEstimator instance\n",
    "        Base classifier to be trained on the partially supervised data\n",
    "\n",
    "    pessimistic : boolean, optional (default=True)\n",
    "        Whether the label hypotheses for the unlabeled instances should be\n",
    "        pessimistic (i.e. minimize log likelihood) or optimistic (i.e.\n",
    "        maximize log likelihood).\n",
    "        Pessimistic label hypotheses ensure safety (i.e. the semi-supervised\n",
    "        solution will not be worse than a model trained on the purely\n",
    "        supervised instances)\n",
    "\n",
    "    predict_from_probabilities : boolean, optional (default=False)\n",
    "        The prediction is calculated from the probabilities if this is True\n",
    "        (1 if more likely than the mean predicted probability or 0 otherwise).\n",
    "        If it is false, the normal base model predictions are used.\n",
    "        This only affects the predict function. Warning: only set to true if\n",
    "        predict will be called with a substantial number of data points\n",
    "\n",
    "    use_sample_weighting : boolean, optional (default=True)\n",
    "        Whether to use sample weights (soft labels) for the unlabeled instances.\n",
    "        Setting this to False allows the use of base classifiers which do not\n",
    "        support sample weights (but might slow down the optimization)\n",
    "\n",
    "    max_iter : int, optional (default=3000)\n",
    "        Maximum number of iterations\n",
    "\n",
    "    verbose : int, optional (default=1)\n",
    "        Enable verbose output (1 shows progress, 2 shows the detailed log\n",
    "        likelihood at every iteration).\n",
    "\n",
    "    \"\"\"\n",
    "\n",
    "    def __init__(self, basemodel, pessimistic=True, predict_from_probabilities = False, use_sample_weighting = True, max_iter=3000, verbose = 1):\n",
    "        self.model = basemodel\n",
    "        self.pessimistic = pessimistic\n",
    "        self.predict_from_probabilities = predict_from_probabilities\n",
    "        self.use_sample_weighting = use_sample_weighting\n",
    "        self.max_iter = max_iter\n",
    "        self.verbose = verbose\n",
    "\n",
    "        self.it = 0 # iteration counter\n",
    "        self.noimprovementsince = 0 # log likelihood hasn't improved since this number of iterations\n",
    "        self.maxnoimprovementsince = 3 # threshold for iterations without improvements (convergence is assumed when this is reached)\n",
    "\n",
    "        self.buffersize = 200\n",
    "        # buffer for the last few discriminative likelihoods (used to check for convergence)\n",
    "        self.lastdls = [0]*self.buffersize\n",
    "\n",
    "        # best discriminative likelihood and corresponding soft labels; updated during training\n",
    "        self.bestdl = numpy.infty\n",
    "        self.bestlbls = []\n",
    "\n",
    "        # unique id\n",
    "        self.id = str(unichr(numpy.random.randint(26)+97))+str(unichr(numpy.random.randint(26)+97))\n",
    "\n",
    "    def discriminative_likelihood(self, model, labeledData, labeledy = None, unlabeledData = None, unlabeledWeights = None, unlabeledlambda = 1, gradient=[], alpha = 0.01):\n",
    "        unlabeledy = (unlabeledWeights[:, 0]<0.5)*1\n",
    "        uweights = numpy.copy(unlabeledWeights[:, 0]) # large prob. for k=0 instances, small prob. for k=1 instances\n",
    "        uweights[unlabeledy==1] = 1-uweights[unlabeledy==1] # subtract from 1 for k=1 instances to reflect confidence\n",
    "        weights = numpy.hstack((numpy.ones(len(labeledy)), uweights))\n",
    "        labels = numpy.hstack((labeledy, unlabeledy))\n",
    "\n",
    "        # fit model on supervised data\n",
    "        if self.use_sample_weighting:\n",
    "            model.fit(numpy.vstack((labeledData, unlabeledData)), labels, sample_weight=weights)\n",
    "        else:\n",
    "            model.fit(numpy.vstack((labeledData, unlabeledData)), labels)\n",
    "\n",
    "        # probability of labeled data\n",
    "        P = model.predict_proba(labeledData)\n",
    "\n",
    "        try:\n",
    "            # labeled discriminative log likelihood\n",
    "            labeledDL = -sklearn.metrics.log_loss(labeledy, P)\n",
    "        except Exception as e:\n",
    "            print(e)\n",
    "            P = model.predict_proba(labeledData)\n",
    "\n",
    "        # probability of unlabeled data\n",
    "        unlabeledP = model.predict_proba(unlabeledData)\n",
    "\n",
    "        try:\n",
    "            # unlabeled discriminative log likelihood\n",
    "            eps = 1e-15\n",
    "            unlabeledP = numpy.clip(unlabeledP, eps, 1 - eps)\n",
    "            unlabeledDL = numpy.average((unlabeledWeights*numpy.vstack((1-unlabeledy, unlabeledy)).T*numpy.log(unlabeledP)).sum(axis=1))\n",
    "        except Exception as e:\n",
    "            print(e)\n",
    "            unlabeledP = model.predict_proba(unlabeledData)\n",
    "\n",
    "        if self.pessimistic:\n",
    "            # pessimistic: minimize the difference between unlabeled and labeled discriminative likelihood (assume worst case for unknown true labels)\n",
    "            dl = unlabeledlambda * unlabeledDL - labeledDL\n",
    "        else:\n",
    "            # optimistic: minimize negative total discriminative likelihood (i.e. maximize likelihood)\n",
    "            dl = - unlabeledlambda * unlabeledDL - labeledDL\n",
    "\n",
    "        return dl\n",
    "\n",
    "    def discriminative_likelihood_objective(self, model, labeledData, labeledy = None, unlabeledData = None, unlabeledWeights = None, unlabeledlambda = 1, gradient=[], alpha = 0.01):\n",
    "        if self.it == 0:\n",
    "            self.lastdls = [0]*self.buffersize\n",
    "\n",
    "        dl = self.discriminative_likelihood(model, labeledData, labeledy, unlabeledData, unlabeledWeights, unlabeledlambda, gradient, alpha)\n",
    "\n",
    "        self.it += 1\n",
    "        self.lastdls[numpy.mod(self.it, len(self.lastdls))] = dl\n",
    "\n",
    "        if numpy.mod(self.it, self.buffersize) == 0: # or True:\n",
    "            improvement = numpy.mean((self.lastdls[(len(self.lastdls)/2):])) - numpy.mean((self.lastdls[:(len(self.lastdls)/2)]))\n",
    "            # ttest - test for hypothesis that the likelihoods have not changed (i.e. there has been no improvement, and we are close to convergence)\n",
    "            _, prob = scipy.stats.ttest_ind(self.lastdls[(len(self.lastdls)/2):], self.lastdls[:(len(self.lastdls)/2)])\n",
    "\n",
    "            # if improvement is not certain accoring to t-test...\n",
    "            noimprovement = prob > 0.1 and numpy.mean(self.lastdls[(len(self.lastdls)/2):]) < numpy.mean(self.lastdls[:(len(self.lastdls)/2)])\n",
    "            if noimprovement:\n",
    "                self.noimprovementsince += 1\n",
    "                if self.noimprovementsince >= self.maxnoimprovementsince:\n",
    "                    # no improvement since a while - converged; exit\n",
    "                    self.noimprovementsince = 0\n",
    "                    raise Exception(\" converged.\") # we need to raise an exception to get NLopt to stop before exceeding the iteration budget\n",
    "            else:\n",
    "                self.noimprovementsince = 0\n",
    "\n",
    "            if self.verbose == 2:\n",
    "                print(self.id,self.it, dl, numpy.mean(self.lastdls), improvement, round(prob, 3), (prob < 0.1))\n",
    "            elif self.verbose:\n",
    "                sys.stdout.write(('.' if self.pessimistic else '.') if not noimprovement else 'n')\n",
    "\n",
    "        if dl < self.bestdl:\n",
    "            self.bestdl = dl\n",
    "            self.bestlbls = numpy.copy(unlabeledWeights[:, 0])\n",
    "\n",
    "        return dl\n",
    "\n",
    "    def fit(self, X, y): # -1 for unlabeled\n",
    "        unlabeledX = X[y==-1, :]\n",
    "        labeledX = X[y!=-1, :]\n",
    "        labeledy = y[y!=-1]\n",
    "\n",
    "        M = unlabeledX.shape[0]\n",
    "\n",
    "        # train on labeled data\n",
    "        self.model.fit(labeledX, labeledy)\n",
    "\n",
    "        unlabeledy = self.predict(unlabeledX)\n",
    "\n",
    "        #re-train, labeling unlabeled instances pessimistically\n",
    "\n",
    "        # pessimistic soft labels ('weights') q for unlabelled points, q=P(k=0|Xu)\n",
    "        f = lambda softlabels, grad=[]: self.discriminative_likelihood_objective(self.model, labeledX, labeledy=labeledy, unlabeledData=unlabeledX, unlabeledWeights=numpy.vstack((softlabels, 1-softlabels)).T, gradient=grad) #- supLL\n",
    "        lblinit = numpy.random.random(len(unlabeledy))\n",
    "\n",
    "        try:\n",
    "            self.it = 0\n",
    "            opt = nlopt.opt(nlopt.GN_DIRECT_L_RAND, M)\n",
    "            opt.set_lower_bounds(numpy.zeros(M))\n",
    "            opt.set_upper_bounds(numpy.ones(M))\n",
    "            opt.set_min_objective(f)\n",
    "            opt.set_maxeval(self.max_iter)\n",
    "            self.bestsoftlbl = opt.optimize(lblinit)\n",
    "            print(\" max_iter exceeded.\")\n",
    "        except Exception as e:\n",
    "            print(e)\n",
    "            self.bestsoftlbl = self.bestlbls\n",
    "\n",
    "        if numpy.any(self.bestsoftlbl != self.bestlbls):\n",
    "            self.bestsoftlbl = self.bestlbls\n",
    "        ll = f(self.bestsoftlbl)\n",
    "\n",
    "        unlabeledy = (self.bestsoftlbl<0.5)*1\n",
    "        uweights = numpy.copy(self.bestsoftlbl) # large prob. for k=0 instances, small prob. for k=1 instances\n",
    "        uweights[unlabeledy==1] = 1-uweights[unlabeledy==1] # subtract from 1 for k=1 instances to reflect confidence\n",
    "        weights = numpy.hstack((numpy.ones(len(labeledy)), uweights))\n",
    "        labels = numpy.hstack((labeledy, unlabeledy))\n",
    "        if self.use_sample_weighting:\n",
    "            self.model.fit(numpy.vstack((labeledX, unlabeledX)), labels, sample_weight=weights)\n",
    "        else:\n",
    "            self.model.fit(numpy.vstack((labeledX, unlabeledX)), labels)\n",
    "\n",
    "        if self.verbose > 1:\n",
    "            print(\"number of non-one soft labels: \", numpy.sum(self.bestsoftlbl != 1), \", balance:\", numpy.sum(self.bestsoftlbl<0.5), \" / \", len(self.bestsoftlbl))\n",
    "            print(\"current likelihood: \", ll)\n",
    "\n",
    "        if not getattr(self.model, \"predict_proba\", None):\n",
    "            # Platt scaling\n",
    "            self.plattlr = LR()\n",
    "            preds = self.model.predict(labeledX)\n",
    "            self.plattlr.fit( preds.reshape( -1, 1 ), labeledy )\n",
    "\n",
    "        return self\n",
    "\n",
    "    def predict_proba(self, X):\n",
    "        \"\"\"Compute probabilities of possible outcomes for samples in X.\n",
    "\n",
    "        The model need to have probability information computed at training\n",
    "        time: fit with attribute `probability` set to True.\n",
    "\n",
    "        Parameters\n",
    "        ----------\n",
    "        X : array-like, shape = [n_samples, n_features]\n",
    "\n",
    "        Returns\n",
    "        -------\n",
    "        T : array-like, shape = [n_samples, n_classes]\n",
    "            Returns the probability of the sample for each class in\n",
    "            the model. The columns correspond to the classes in sorted\n",
    "            order, as they appear in the attribute `classes_`.\n",
    "        \"\"\"\n",
    "\n",
    "        if getattr(self.model, \"predict_proba\", None):\n",
    "            return self.model.predict_proba(X)\n",
    "        else:\n",
    "            preds = self.model.predict(X)\n",
    "            return self.plattlr.predict_proba(preds.reshape( -1, 1 ))\n",
    "\n",
    "    def predict(self, X):\n",
    "        \"\"\"Perform classification on samples in X.\n",
    "\n",
    "        Parameters\n",
    "        ----------\n",
    "        X : array-like, shape = [n_samples, n_features]\n",
    "\n",
    "        Returns\n",
    "        -------\n",
    "        y_pred : array, shape = [n_samples]\n",
    "            Class labels for samples in X.\n",
    "        \"\"\"\n",
    "\n",
    "        if self.predict_from_probabilities:\n",
    "            P = self.predict_proba(X)\n",
    "            return (P[:, 0]<numpy.average(P[:, 0]))\n",
    "        else:\n",
    "            return self.model.predict(X)\n",
    "\n",
    "    def score(self, X, y, sample_weight=None):\n",
    "        return sklearn.metrics.accuracy_score(y, self.predict(X), sample_weight=sample_weight)\n"
   ]
  },
  {
   "cell_type": "markdown",
   "id": "97279df4-80dc-4fea-8b39-1d790e71efad",
   "metadata": {},
   "source": [
    "Мы видим, что наилучшее качество было у частично-обученного LR. Тогда применим его ко всем данным (хотя прочие алгоритмы работают примерно так же)."
   ]
  },
  {
   "cell_type": "code",
   "execution_count": null,
   "id": "542a4e26-6999-4a8a-89d5-387fcdf46beb",
   "metadata": {
    "tags": []
   },
   "outputs": [],
   "source": [
    "svc = DecisionTreeClassifier()\n",
    "self_training_model = SelfTrainingClassifier(svc)\n",
    "\n",
    "X = df.loc[:, list(df)[36:-3] + ['Кол-во образований', 'Опыт нормализованный','Топовость образования', 'Справочник по интересам', 'Релокация?', 'Коммандировка?', 'Город?', 'Уровень оборазования нормализованный', 'Карьерный рост', 'Аналитические комбинации слов в навыках']]\n",
    "y = df.loc[:, 'DA']\n",
    "\n",
    "self_training_model.fit(X, y)\n",
    "y_pred = self_training_model.predict(X)\n",
    "y_pred_reg=reg.predict(X)"
   ]
  },
  {
   "cell_type": "code",
   "execution_count": null,
   "id": "a3840155-8d86-4461-a433-5115e6e67767",
   "metadata": {},
   "outputs": [],
   "source": [
    "pd.DataFrame(y_pred).value_counts()"
   ]
  },
  {
   "cell_type": "code",
   "execution_count": null,
   "id": "3b9307f6-7b4b-4655-bcab-d92718b41948",
   "metadata": {},
   "outputs": [],
   "source": [
    "pd.DataFrame(y_pred_reg).value_counts()"
   ]
  },
  {
   "cell_type": "markdown",
   "id": "a41e18f3-0c87-4671-ba95-0fcced820d71",
   "metadata": {},
   "source": [
    "Мы видим, что обычная логистическая регрессия справилась с задачей гораздо лучше. Тем не менее, более сложные методы и больше размеченных данных могут, возможно, дать более хороший результат."
   ]
  },
  {
   "cell_type": "code",
   "execution_count": null,
   "id": "b0be52bc-0820-4499-85e4-b93ae763247e",
   "metadata": {},
   "outputs": [],
   "source": [
    "df['DA, predicted'] = y_pred_reg"
   ]
  },
  {
   "cell_type": "markdown",
   "id": "a2a22d51-bd94-40ae-a9fd-20ca9f14d824",
   "metadata": {},
   "source": [
    "Какие получились результаты:"
   ]
  },
  {
   "cell_type": "code",
   "execution_count": null,
   "id": "60749933-9c5c-4359-9782-b1f1ebdbf2c2",
   "metadata": {
    "tags": []
   },
   "outputs": [],
   "source": [
    "svc = LogisticRegression()\n",
    "self_training_model = SelfTrainingClassifier(svc)\n",
    "\n",
    "X = df.loc[df['DS'].notna()].loc[:, list(df)[36:-3] + ['Кол-во образований', 'Опыт нормализованный','Топовость образования', 'Справочник по интересам', 'Релокация?', 'Коммандировка?', 'Город?', 'Уровень оборазования нормализованный', 'Карьерный рост', 'Аналитические комбинации слов в навыках']]\n",
    "y = df.loc[df['DS'].notna(), 'DS']\n",
    "    \n",
    "X_train = X\n",
    "y_train = y\n",
    "svc.fit(X_train, y_train)\n",
    "y_pred = svc.predict(df.loc[:, list(df)[36:-3] + ['Кол-во образований', 'Опыт нормализованный','Топовость образования', 'Справочник по интересам', 'Релокация?', 'Коммандировка?', 'Город?', 'Уровень оборазования нормализованный', 'Карьерный рост', 'Аналитические комбинации слов в навыках']])"
   ]
  },
  {
   "cell_type": "code",
   "execution_count": null,
   "id": "ba55d36a-578f-429f-babc-9a824a015740",
   "metadata": {},
   "outputs": [],
   "source": [
    "df['DS, predicted'] = y_pred"
   ]
  },
  {
   "cell_type": "markdown",
   "id": "b7284d1d-ce1a-4c4c-a84b-c40b591b38a5",
   "metadata": {},
   "source": [
    "Какие получились результаты:"
   ]
  },
  {
   "cell_type": "code",
   "execution_count": 306,
   "id": "e90e8c43-fe8b-4e67-9a22-dc0c7a5921cf",
   "metadata": {},
   "outputs": [
    {
     "data": {
      "text/plain": [
       "0.0    2725\n",
       "dtype: int64"
      ]
     },
     "execution_count": 306,
     "metadata": {},
     "output_type": "execute_result"
    }
   ],
   "source": [
    "pd.DataFrame(y_pred).value_counts()"
   ]
  },
  {
   "cell_type": "markdown",
   "id": "9b257f5c-b144-4f3a-a2bd-e97b9c48e738",
   "metadata": {},
   "source": [
    "Плохие. Но у нас в целом было мало подходящих резюме, поэтому мы вообще не будем рассматривать data scientist'ов."
   ]
  },
  {
   "cell_type": "code",
   "execution_count": 307,
   "id": "5e8f3d30-a124-489a-8bd0-90b3752a5367",
   "metadata": {},
   "outputs": [
    {
     "data": {
      "text/plain": [
       "DS \n",
       "0.0    271\n",
       "1.0      6\n",
       "2.0      1\n",
       "dtype: int64"
      ]
     },
     "execution_count": 307,
     "metadata": {},
     "output_type": "execute_result"
    }
   ],
   "source": [
    "pd.DataFrame(y).value_counts()"
   ]
  },
  {
   "cell_type": "code",
   "execution_count": 308,
   "id": "01a020fd-0a66-4939-96ba-e2151693fa3b",
   "metadata": {},
   "outputs": [],
   "source": [
    "df.to_csv('resumes_features.csv')"
   ]
  },
  {
   "cell_type": "markdown",
   "id": "3fa5f494-6359-4496-820c-ec8190ce90a6",
   "metadata": {},
   "source": [
    "*Выводы:*\n",
    "\n",
    "1. Алгоритмы semi-supervised learning не подходят для разметки резюме в таких задачах: слишком мало не-нулей при общем маленьком количестве размеченных данных приводит к плохой работе алгоритма\n",
    "2. Для решения задачи с data scientists нужно по-другому устраивать процесс сбора данных, поскольку такие резюме совсем теряются на фоне прочих, поэтому размечать их одновременно с data analysts тяжело\n",
    "\n",
    "Все остальные задачи будем решать только для аналитиков."
   ]
  },
  {
   "cell_type": "markdown",
   "id": "9f505649-5ada-47d8-afdb-61020bb6b6f7",
   "metadata": {},
   "source": [
    "**Кластеризация**"
   ]
  },
  {
   "cell_type": "markdown",
   "id": "ef5bd0b6-10a4-4adb-b8de-9980b0fc5e18",
   "metadata": {},
   "source": [
    "Теперь произведем сегментацию данных с помощью кластеризации и проанализируем результаты. Для начала используем PCA."
   ]
  },
  {
   "cell_type": "code",
   "execution_count": 3,
   "id": "323bc14e-3bde-48e7-9420-fb76ade25ce2",
   "metadata": {},
   "outputs": [],
   "source": [
    "df = pd.read_csv('resumes_features.csv')"
   ]
  },
  {
   "cell_type": "code",
   "execution_count": 4,
   "id": "0fd2059c-5280-4ccf-a498-98290965e3c6",
   "metadata": {},
   "outputs": [],
   "source": [
    "df.drop(list(df)[0], axis=1, inplace=True)\n",
    "df.reset_index(inplace=True)\n",
    "df.drop(list(df)[0], axis=1, inplace=True)"
   ]
  },
  {
   "cell_type": "code",
   "execution_count": 5,
   "id": "f6377f19-0a4b-4afe-b7e0-762d77accbef",
   "metadata": {},
   "outputs": [
    {
     "data": {
      "text/html": [
       "<div>\n",
       "<style scoped>\n",
       "    .dataframe tbody tr th:only-of-type {\n",
       "        vertical-align: middle;\n",
       "    }\n",
       "\n",
       "    .dataframe tbody tr th {\n",
       "        vertical-align: top;\n",
       "    }\n",
       "\n",
       "    .dataframe thead th {\n",
       "        text-align: right;\n",
       "    }\n",
       "</style>\n",
       "<table border=\"1\" class=\"dataframe\">\n",
       "  <thead>\n",
       "    <tr style=\"text-align: right;\">\n",
       "      <th></th>\n",
       "      <th>Ссылка</th>\n",
       "      <th>Название</th>\n",
       "      <th>Коммандировка</th>\n",
       "      <th>Опыт</th>\n",
       "      <th>О себе</th>\n",
       "      <th>Образование</th>\n",
       "      <th>Интересы</th>\n",
       "      <th>Навыки</th>\n",
       "      <th>Образование-1</th>\n",
       "      <th>Образование-2</th>\n",
       "      <th>...</th>\n",
       "      <th>93</th>\n",
       "      <th>94</th>\n",
       "      <th>95</th>\n",
       "      <th>96</th>\n",
       "      <th>97</th>\n",
       "      <th>98</th>\n",
       "      <th>99</th>\n",
       "      <th>clust</th>\n",
       "      <th>DA, predicted</th>\n",
       "      <th>DS, predicted</th>\n",
       "    </tr>\n",
       "  </thead>\n",
       "  <tbody>\n",
       "    <tr>\n",
       "      <th>65</th>\n",
       "      <td>https://hh.ru/resume/4210911700043613eb0039ed1...</td>\n",
       "      <td>Бухгалтер-аудитор, бухгалтер, экономист</td>\n",
       "      <td>Москва, не готов к переезду, готов к редким ко...</td>\n",
       "      <td>Опыт работы 7 месяцев</td>\n",
       "      <td>- Имеются сертификаты о публикациях научных ст...</td>\n",
       "      <td>Высшее образование\\n2019\\nГосударственный унив...</td>\n",
       "      <td>Специализации:\\nБухгалтер\\nЗанятость: полная з...</td>\n",
       "      <td>---</td>\n",
       "      <td>Государственный университет управления, Москва</td>\n",
       "      <td>Государственный университет управления, Москва</td>\n",
       "      <td>...</td>\n",
       "      <td>-0.001127</td>\n",
       "      <td>-0.001426</td>\n",
       "      <td>-0.002135</td>\n",
       "      <td>-0.002997</td>\n",
       "      <td>0.000601</td>\n",
       "      <td>0.001671</td>\n",
       "      <td>-0.001503</td>\n",
       "      <td>1</td>\n",
       "      <td>0.0</td>\n",
       "      <td>0.0</td>\n",
       "    </tr>\n",
       "  </tbody>\n",
       "</table>\n",
       "<p>1 rows × 140 columns</p>\n",
       "</div>"
      ],
      "text/plain": [
       "                                               Ссылка  \\\n",
       "65  https://hh.ru/resume/4210911700043613eb0039ed1...   \n",
       "\n",
       "                                   Название  \\\n",
       "65  Бухгалтер-аудитор, бухгалтер, экономист   \n",
       "\n",
       "                                        Коммандировка                   Опыт  \\\n",
       "65  Москва, не готов к переезду, готов к редким ко...  Опыт работы 7 месяцев   \n",
       "\n",
       "                                               О себе  \\\n",
       "65  - Имеются сертификаты о публикациях научных ст...   \n",
       "\n",
       "                                          Образование  \\\n",
       "65  Высшее образование\\n2019\\nГосударственный унив...   \n",
       "\n",
       "                                             Интересы Навыки  \\\n",
       "65  Специализации:\\nБухгалтер\\nЗанятость: полная з...    ---   \n",
       "\n",
       "                                     Образование-1  \\\n",
       "65  Государственный университет управления, Москва   \n",
       "\n",
       "                                     Образование-2  ...        93        94  \\\n",
       "65  Государственный университет управления, Москва  ... -0.001127 -0.001426   \n",
       "\n",
       "          95        96        97        98        99 clust  DA, predicted  \\\n",
       "65 -0.002135 -0.002997  0.000601  0.001671 -0.001503     1            0.0   \n",
       "\n",
       "    DS, predicted  \n",
       "65            0.0  \n",
       "\n",
       "[1 rows x 140 columns]"
      ]
     },
     "execution_count": 5,
     "metadata": {},
     "output_type": "execute_result"
    }
   ],
   "source": [
    "df.sample(1)"
   ]
  },
  {
   "cell_type": "code",
   "execution_count": 536,
   "id": "50a57b9d-0383-4420-9c85-3f9134ac5faf",
   "metadata": {},
   "outputs": [],
   "source": [
    "scaler = StandardScaler()\n",
    "x = scaler.fit_transform(df.loc[:, list(df)[36:-3] + ['Кол-во образований', 'Опыт нормализованный','Топовость образования', 'Справочник по интересам', 'Релокация?', 'Коммандировка?', 'Город?', 'Уровень оборазования нормализованный', 'Карьерный рост', 'Аналитические комбинации слов в навыках']])"
   ]
  },
  {
   "cell_type": "code",
   "execution_count": 537,
   "id": "94c9b165-0d9e-4639-a7f6-bc0768607aee",
   "metadata": {},
   "outputs": [],
   "source": [
    "pca = PCA(n_components=3)\n",
    "principalComponents = pca.fit_transform(x)\n",
    "principal = pd.DataFrame(data = principalComponents\n",
    "             , columns = ['principal component 1', 'principal component 2','principal component 3'])"
   ]
  },
  {
   "cell_type": "markdown",
   "id": "f9f113a0-4839-45be-b71c-5d1f3b0d1b85",
   "metadata": {},
   "source": [
    "Посмотрим, сколько информации сохраняют первые две главные компоненты:"
   ]
  },
  {
   "cell_type": "code",
   "execution_count": 538,
   "id": "3801364e-b9c9-4c91-9321-4001579ef2ef",
   "metadata": {},
   "outputs": [
    {
     "data": {
      "text/plain": [
       "0.5714363530266129"
      ]
     },
     "execution_count": 538,
     "metadata": {},
     "output_type": "execute_result"
    }
   ],
   "source": [
    "pca.explained_variance_ratio_[:2].sum()"
   ]
  },
  {
   "cell_type": "code",
   "execution_count": 539,
   "id": "a6ba132f-c5c8-405f-904b-69600b03b5fa",
   "metadata": {},
   "outputs": [
    {
     "data": {
      "text/html": [
       "<div>\n",
       "<style scoped>\n",
       "    .dataframe tbody tr th:only-of-type {\n",
       "        vertical-align: middle;\n",
       "    }\n",
       "\n",
       "    .dataframe tbody tr th {\n",
       "        vertical-align: top;\n",
       "    }\n",
       "\n",
       "    .dataframe thead th {\n",
       "        text-align: right;\n",
       "    }\n",
       "</style>\n",
       "<table border=\"1\" class=\"dataframe\">\n",
       "  <thead>\n",
       "    <tr style=\"text-align: right;\">\n",
       "      <th></th>\n",
       "      <th>principal component 1</th>\n",
       "      <th>principal component 2</th>\n",
       "      <th>principal component 3</th>\n",
       "    </tr>\n",
       "  </thead>\n",
       "  <tbody>\n",
       "    <tr>\n",
       "      <th>1098</th>\n",
       "      <td>-0.516633</td>\n",
       "      <td>-2.645473</td>\n",
       "      <td>-0.128514</td>\n",
       "    </tr>\n",
       "    <tr>\n",
       "      <th>1909</th>\n",
       "      <td>1.898809</td>\n",
       "      <td>-3.692270</td>\n",
       "      <td>0.794826</td>\n",
       "    </tr>\n",
       "  </tbody>\n",
       "</table>\n",
       "</div>"
      ],
      "text/plain": [
       "      principal component 1  principal component 2  principal component 3\n",
       "1098              -0.516633              -2.645473              -0.128514\n",
       "1909               1.898809              -3.692270               0.794826"
      ]
     },
     "execution_count": 539,
     "metadata": {},
     "output_type": "execute_result"
    }
   ],
   "source": [
    "principal.sample(2)"
   ]
  },
  {
   "cell_type": "code",
   "execution_count": 540,
   "id": "5335ff9d-a817-42d1-9a23-1e4e2cc250c4",
   "metadata": {},
   "outputs": [
    {
     "data": {
      "text/plain": [
       "<AxesSubplot:xlabel='principal component 1', ylabel='principal component 2'>"
      ]
     },
     "execution_count": 540,
     "metadata": {},
     "output_type": "execute_result"
    },
    {
     "data": {
      "image/png": "[encoded data removed]",
      "text/plain": [
       "<Figure size 640x480 with 1 Axes>"
      ]
     },
     "metadata": {},
     "output_type": "display_data"
    }
   ],
   "source": [
    "sns.scatterplot(principal['principal component 1'], principal['principal component 2'])"
   ]
  },
  {
   "cell_type": "markdown",
   "id": "6041c720-8999-451c-a65d-c83247a30fd4",
   "metadata": {},
   "source": [
    "Теперь обучаем PCA+KMeans"
   ]
  },
  {
   "cell_type": "markdown",
   "id": "f18a9dc8-fdcb-4b82-84f0-77d86a59b003",
   "metadata": {},
   "source": [
    "Применим elbow method:"
   ]
  },
  {
   "cell_type": "code",
   "execution_count": 541,
   "id": "74a0b97c-9c81-4fee-929d-a9604362d0bc",
   "metadata": {},
   "outputs": [
    {
     "data": {
      "image/png": "[encoded data removed]",
      "text/plain": [
       "<Figure size 640x480 with 1 Axes>"
      ]
     },
     "metadata": {},
     "output_type": "display_data"
    }
   ],
   "source": [
    "import pandas as pd\n",
    "from sklearn.datasets import load_iris\n",
    "from sklearn.cluster import KMeans\n",
    "import matplotlib.pyplot as plt\n",
    "\n",
    "data = principal\n",
    "\n",
    "sse = {}\n",
    "for k in range(1, 10):\n",
    "    kmeans = KMeans(n_clusters=k, max_iter=1000).fit(data)\n",
    "    data[\"clusters\"] = kmeans.labels_\n",
    "    #print(data[\"clusters\"])\n",
    "    sse[k] = kmeans.inertia_ # Inertia: Sum of distances of samples to their closest cluster center\n",
    "plt.figure()\n",
    "plt.plot(list(sse.keys()), list(sse.values()))\n",
    "plt.xlabel(\"Number of cluster\")\n",
    "plt.ylabel(\"SSE\")\n",
    "plt.show()"
   ]
  },
  {
   "cell_type": "markdown",
   "id": "276fd5a2-6db0-4f11-9611-960915ec9bb1",
   "metadata": {},
   "source": [
    "Выберем число кластеров 8 (по графику elbow method такое число уже неприемлемо, при этом при нем метрика лучше)."
   ]
  },
  {
   "cell_type": "code",
   "execution_count": 597,
   "id": "0f4909dd-ad7a-4698-9e4d-fa92ebfd3ab3",
   "metadata": {},
   "outputs": [],
   "source": [
    "kmeans = KMeans(n_clusters=7).fit(principal)\n",
    "l = kmeans.labels_"
   ]
  },
  {
   "cell_type": "code",
   "execution_count": 598,
   "id": "bf9cde78-e3dd-4c5e-9081-a36ce08a2250",
   "metadata": {},
   "outputs": [
    {
     "data": {
      "text/plain": [
       "<matplotlib.collections.PathCollection at 0x7fe468b9f490>"
      ]
     },
     "execution_count": 598,
     "metadata": {},
     "output_type": "execute_result"
    },
    {
     "data": {
      "image/png": "[encoded data removed]",
      "text/plain": [
       "<Figure size 640x480 with 1 Axes>"
      ]
     },
     "metadata": {},
     "output_type": "display_data"
    }
   ],
   "source": [
    "plt.scatter(principal['principal component 1'], \n",
    "             principal['principal component 2'],\n",
    "             c=l,\n",
    "           )"
   ]
  },
  {
   "cell_type": "markdown",
   "id": "56d1fedc-cd14-4dda-bf08-cbfb2131da39",
   "metadata": {},
   "source": [
    "Оценим качество с помощью [silhouette score](https://stephenallwright.com/good-clustering-metrics/):"
   ]
  },
  {
   "cell_type": "code",
   "execution_count": 599,
   "id": "005f783d-febc-4d42-8df1-e8621de896c3",
   "metadata": {},
   "outputs": [
    {
     "data": {
      "text/plain": [
       "0.8013291365934179"
      ]
     },
     "execution_count": 599,
     "metadata": {},
     "output_type": "execute_result"
    }
   ],
   "source": [
    "from sklearn import metrics\n",
    "metrics.silhouette_score(principal,l)"
   ]
  },
  {
   "cell_type": "markdown",
   "id": "d1ec9f39-4abe-42d3-9209-0ed5d239fd5f",
   "metadata": {},
   "source": [
    "Теперь DBSCAN"
   ]
  },
  {
   "cell_type": "code",
   "execution_count": 610,
   "id": "af010c26-3cf6-4ea5-95b3-10271558ef41",
   "metadata": {},
   "outputs": [
    {
     "data": {
      "text/plain": [
       "0.7703928463549768"
      ]
     },
     "execution_count": 610,
     "metadata": {},
     "output_type": "execute_result"
    },
    {
     "data": {
      "image/png": "[encoded data removed]",
      "text/plain": [
       "<Figure size 640x480 with 1 Axes>"
      ]
     },
     "metadata": {},
     "output_type": "display_data"
    }
   ],
   "source": [
    "from sklearn.cluster import DBSCAN\n",
    "clustering = DBSCAN(eps=1.05, min_samples=6).fit(principal)\n",
    "clustering.labels_\n",
    "plt.scatter(principal['principal component 1'], \n",
    "             principal['principal component 2'],\n",
    "             c=clustering.labels_,\n",
    "           )\n",
    "metrics.silhouette_score(principal,clustering.labels_)"
   ]
  },
  {
   "cell_type": "markdown",
   "id": "7f37ff55-2536-4d75-9fb7-66cabf66fb2f",
   "metadata": {},
   "source": [
    "Теперь Гауссовская смесь."
   ]
  },
  {
   "cell_type": "code",
   "execution_count": 595,
   "id": "4defb6e5-4900-4fd1-8ac5-a39ac549d1cc",
   "metadata": {},
   "outputs": [
    {
     "data": {
      "text/plain": [
       "<matplotlib.collections.PathCollection at 0x7fe411757ee0>"
      ]
     },
     "execution_count": 595,
     "metadata": {},
     "output_type": "execute_result"
    },
    {
     "data": {
      "image/png": "[encoded data removed]",
      "text/plain": [
       "<Figure size 640x480 with 1 Axes>"
      ]
     },
     "metadata": {},
     "output_type": "display_data"
    }
   ],
   "source": [
    "from sklearn.mixture import GaussianMixture\n",
    "gm = GaussianMixture(n_components=7, random_state=0).fit(principal)\n",
    "gm.predict(principal)\n",
    "plt.scatter(principal['principal component 1'], \n",
    "             principal['principal component 2'],\n",
    "             c=gm.predict(principal),\n",
    "           )"
   ]
  },
  {
   "cell_type": "markdown",
   "id": "0ae30202-afaa-4f06-9238-96904c1419e6",
   "metadata": {},
   "source": [
    "Путем перебора я получил, что именно при 6 кластерах достигается максимум метрики:"
   ]
  },
  {
   "cell_type": "code",
   "execution_count": 611,
   "id": "370b75f4-09b5-47cd-be0a-066ea33b6c1b",
   "metadata": {},
   "outputs": [
    {
     "data": {
      "text/plain": [
       "0.8000598290840241"
      ]
     },
     "execution_count": 611,
     "metadata": {},
     "output_type": "execute_result"
    }
   ],
   "source": [
    "metrics.silhouette_score(principal,gm.predict(principal))"
   ]
  },
  {
   "cell_type": "markdown",
   "id": "b3e5bc4c-d4f6-4431-b5f1-5009ba62616e",
   "metadata": {},
   "source": [
    "Самым лучшим по метрике оказался KMeans. При этом график двумерной проекции выглядит наиболее адекватным нашим данным (кластеры выделены разумно)."
   ]
  },
  {
   "cell_type": "code",
   "execution_count": 612,
   "id": "7b167ba2-4702-4794-8bbf-e0a14d30b86f",
   "metadata": {},
   "outputs": [],
   "source": [
    "df['clust'] = l"
   ]
  },
  {
   "cell_type": "code",
   "execution_count": 613,
   "id": "344f9cae-bfa3-4f6c-a73d-6fe58cd2cdad",
   "metadata": {},
   "outputs": [],
   "source": [
    "df.to_csv('resumes_features.csv')"
   ]
  },
  {
   "cell_type": "markdown",
   "id": "1f7d5ebf-1ea0-4899-ae3c-4174167f4e41",
   "metadata": {},
   "source": [
    "**Анализ кластеров**"
   ]
  },
  {
   "cell_type": "markdown",
   "id": "ff33adb0-53d6-41e1-8c4b-2f984428d31c",
   "metadata": {},
   "source": [
    "Самым лучшим оказался KMeans. Проанализируем наши данные, основываясь на его результатах."
   ]
  },
  {
   "cell_type": "code",
   "execution_count": 614,
   "id": "86dec9f6-7b93-49eb-b9c2-42a93b66eb8b",
   "metadata": {},
   "outputs": [],
   "source": [
    "df = pd.read_csv('resumes_features.csv')"
   ]
  },
  {
   "cell_type": "code",
   "execution_count": 615,
   "id": "4d8c7e1a-8bec-46d1-b10a-9585fce4be9a",
   "metadata": {},
   "outputs": [],
   "source": [
    "df.drop(list(df)[0], axis=1, inplace=True)\n",
    "df.reset_index(inplace=True)\n",
    "df.drop(list(df)[0], axis=1, inplace=True)"
   ]
  },
  {
   "cell_type": "code",
   "execution_count": 616,
   "id": "b25c11f0-1212-47df-9054-563782aad0e0",
   "metadata": {},
   "outputs": [
    {
     "data": {
      "text/html": [
       "<div>\n",
       "<style scoped>\n",
       "    .dataframe tbody tr th:only-of-type {\n",
       "        vertical-align: middle;\n",
       "    }\n",
       "\n",
       "    .dataframe tbody tr th {\n",
       "        vertical-align: top;\n",
       "    }\n",
       "\n",
       "    .dataframe thead th {\n",
       "        text-align: right;\n",
       "    }\n",
       "</style>\n",
       "<table border=\"1\" class=\"dataframe\">\n",
       "  <thead>\n",
       "    <tr style=\"text-align: right;\">\n",
       "      <th></th>\n",
       "      <th>Ссылка</th>\n",
       "      <th>Название</th>\n",
       "      <th>Коммандировка</th>\n",
       "      <th>Опыт</th>\n",
       "      <th>О себе</th>\n",
       "      <th>Образование</th>\n",
       "      <th>Интересы</th>\n",
       "      <th>Навыки</th>\n",
       "      <th>Образование-1</th>\n",
       "      <th>Образование-2</th>\n",
       "      <th>...</th>\n",
       "      <th>93</th>\n",
       "      <th>94</th>\n",
       "      <th>95</th>\n",
       "      <th>96</th>\n",
       "      <th>97</th>\n",
       "      <th>98</th>\n",
       "      <th>99</th>\n",
       "      <th>clust</th>\n",
       "      <th>DA, predicted</th>\n",
       "      <th>DS, predicted</th>\n",
       "    </tr>\n",
       "  </thead>\n",
       "  <tbody>\n",
       "    <tr>\n",
       "      <th>1587</th>\n",
       "      <td>https://hh.ru/resume/d8441f8400000c40a80039ed1...</td>\n",
       "      <td>тестировщик, системный аналитик, технический п...</td>\n",
       "      <td>Москва, не готова к переезду, не готова к кома...</td>\n",
       "      <td>Опыт работы 26 лет 6 месяцев</td>\n",
       "      <td>Анализ бизнес-процессов предприятий различных ...</td>\n",
       "      <td>Высшее образование\\n1985\\nМосковский текстильн...</td>\n",
       "      <td>Специализации:\\nТестировщик\\nЗанятость: полная...</td>\n",
       "      <td>---</td>\n",
       "      <td>Московский текстильный институт</td>\n",
       "      <td>NaN</td>\n",
       "      <td>...</td>\n",
       "      <td>-0.008506</td>\n",
       "      <td>0.00417</td>\n",
       "      <td>0.001326</td>\n",
       "      <td>0.004055</td>\n",
       "      <td>-0.002272</td>\n",
       "      <td>0.001945</td>\n",
       "      <td>-0.004527</td>\n",
       "      <td>2</td>\n",
       "      <td>0.0</td>\n",
       "      <td>0.0</td>\n",
       "    </tr>\n",
       "  </tbody>\n",
       "</table>\n",
       "<p>1 rows × 140 columns</p>\n",
       "</div>"
      ],
      "text/plain": [
       "                                                 Ссылка  \\\n",
       "1587  https://hh.ru/resume/d8441f8400000c40a80039ed1...   \n",
       "\n",
       "                                               Название  \\\n",
       "1587  тестировщик, системный аналитик, технический п...   \n",
       "\n",
       "                                          Коммандировка  \\\n",
       "1587  Москва, не готова к переезду, не готова к кома...   \n",
       "\n",
       "                              Опыт  \\\n",
       "1587  Опыт работы 26 лет 6 месяцев   \n",
       "\n",
       "                                                 О себе  \\\n",
       "1587  Анализ бизнес-процессов предприятий различных ...   \n",
       "\n",
       "                                            Образование  \\\n",
       "1587  Высшее образование\\n1985\\nМосковский текстильн...   \n",
       "\n",
       "                                               Интересы Навыки  \\\n",
       "1587  Специализации:\\nТестировщик\\nЗанятость: полная...    ---   \n",
       "\n",
       "                        Образование-1 Образование-2  ...        93       94  \\\n",
       "1587  Московский текстильный институт           NaN  ... -0.008506  0.00417   \n",
       "\n",
       "            95        96        97        98        99 clust  DA, predicted  \\\n",
       "1587  0.001326  0.004055 -0.002272  0.001945 -0.004527     2            0.0   \n",
       "\n",
       "      DS, predicted  \n",
       "1587            0.0  \n",
       "\n",
       "[1 rows x 140 columns]"
      ]
     },
     "execution_count": 616,
     "metadata": {},
     "output_type": "execute_result"
    }
   ],
   "source": [
    "df.sample(1)"
   ]
  },
  {
   "cell_type": "markdown",
   "id": "114c2139-4aa0-47bd-b61d-1002cc1b673e",
   "metadata": {},
   "source": [
    "Что за кластеры:"
   ]
  },
  {
   "cell_type": "code",
   "execution_count": 617,
   "id": "bf3dce84-d8cc-48d6-814a-496ffd5114db",
   "metadata": {},
   "outputs": [
    {
     "data": {
      "text/plain": [
       "0       Уверенный пользователь ПК, Ms Word, Ms Excel, ...\n",
       "1       Энергична, активна, в поиске новых возможносте...\n",
       "4       Дисциплина - умение выполнять поставленные зад...\n",
       "5       Банковская бухгалтерия. Технология банковских ...\n",
       "6       Личные качества:\\nВысокая способность усваиват...\n",
       "                              ...                        \n",
       "2710    Высокая способность к обучению, в частности к ...\n",
       "2712    Разработанная мной методика перспективного вне...\n",
       "2714    Опыт управления более 15-и лет. Развитые управ...\n",
       "2715    Аналитика продаж ,поиск клиентов,связь с произ...\n",
       "2720    Уверенный пользователь ПК: MS Office (Word, Ex...\n",
       "Name: О себе, Length: 1329, dtype: object"
      ]
     },
     "execution_count": 617,
     "metadata": {},
     "output_type": "execute_result"
    }
   ],
   "source": [
    "df.loc[df['clust']==0]['О себе']"
   ]
  },
  {
   "cell_type": "code",
   "execution_count": 618,
   "id": "fe3a9f8c-a06e-4db8-a7f2-c015e7df8825",
   "metadata": {},
   "outputs": [
    {
     "data": {
      "text/plain": [
       "22      ---\n",
       "31      ---\n",
       "33      ---\n",
       "34      ---\n",
       "46      ---\n",
       "       ... \n",
       "2711    ---\n",
       "2716    ---\n",
       "2717    ---\n",
       "2723    ---\n",
       "2724    ---\n",
       "Name: О себе, Length: 356, dtype: object"
      ]
     },
     "execution_count": 618,
     "metadata": {},
     "output_type": "execute_result"
    }
   ],
   "source": [
    "df.loc[df['clust']==1]['О себе']"
   ]
  },
  {
   "cell_type": "code",
   "execution_count": 619,
   "id": "29b1d9b6-012f-44ff-964a-0249685fc9a7",
   "metadata": {},
   "outputs": [
    {
     "data": {
      "text/plain": [
       "29      Разбираюсь в новых системах и проектах, люблю ...\n",
       "32      Имею большой опыт в продажах. Работая в любом ...\n",
       "76      Профессиональные навыки:\\nExcel : сводные табл...\n",
       "101     легко обучаема,целеустремленная,клиентоорентир...\n",
       "109     - люблю много и результативно работать\\n- ценю...\n",
       "                              ...                        \n",
       "2691    Обладание сильным потенциалом и энергетикой. Л...\n",
       "2701    Пользователь MS Office (Word, Excel, Internet)...\n",
       "2706    ответственная, коммуникабельная, работаю в усл...\n",
       "2708    Сильный бэкграунд, опыт работы в различных сфе...\n",
       "2721    Моя потребность в постоянном улучшении себя на...\n",
       "Name: О себе, Length: 172, dtype: object"
      ]
     },
     "execution_count": 619,
     "metadata": {},
     "output_type": "execute_result"
    }
   ],
   "source": [
    "df.loc[df['clust']==2]['О себе']"
   ]
  },
  {
   "cell_type": "code",
   "execution_count": 620,
   "id": "8610041d-0990-4b4c-9542-e7bdb482a4cc",
   "metadata": {},
   "outputs": [
    {
     "data": {
      "text/plain": [
       "2       опыт прямых продаж, ведение коммерческих перег...\n",
       "3       Коммуникабелен\\nУмение работать с возражениями...\n",
       "8       Интересы:\\nСпорт, маркетинг (digital-marketing...\n",
       "11       навык аудита системы менеджмента, бизнес-про...\n",
       "12      - Уверенный пользователь MS Office (Excel, VBA...\n",
       "                              ...                        \n",
       "2694    Ответственный, энергичный, общительный, собран...\n",
       "2699    В последние годы проходил обучение без возможн...\n",
       "2713    Молодой человек обладающий умением сконцентрир...\n",
       "2719    Многозадачность, стрессоустойчивость, инициати...\n",
       "2722                                                    .\n",
       "Name: О себе, Length: 762, dtype: object"
      ]
     },
     "execution_count": 620,
     "metadata": {},
     "output_type": "execute_result"
    }
   ],
   "source": [
    "df.loc[df['clust']==3]['О себе']"
   ]
  },
  {
   "cell_type": "code",
   "execution_count": 621,
   "id": "a9a4afec-4711-470b-91f1-fac4230373a5",
   "metadata": {},
   "outputs": [
    {
     "data": {
      "text/plain": [
       "128     Легко и быстро обучаюсь, целеустремленная, вни...\n",
       "138     Нацелена на результат. В интересные проекты по...\n",
       "513     • Умею и люблю учиться;\\n• Пунктуальна и дисци...\n",
       "588     Личные качества:\\nАктивный, общительный, легко...\n",
       "660     Личные качества:\\nАктивный, общительный, легко...\n",
       "661     Люблю ответственность и ответственных людей, п...\n",
       "812     Гибкий и мобильный сотрудник, имею высокий уро...\n",
       "842     - Аналитический склад ума;\\n- Хорошие коммуник...\n",
       "872     Молодой,Ответственный,Доброжелательный, способ...\n",
       "891     Ответственная, целеустремленная, коммуникабель...\n",
       "1020    Готова сразу приступить к работе.\\n\\nExcel- ув...\n",
       "1076    Навыки работы на ПК: опытный пользователь (при...\n",
       "1106    Коммуникабельная, ответственная, быстро обучае...\n",
       "1150    Ответственный, честный, нацеленный на результа...\n",
       "1175    На практике работаю с большими потоком докумен...\n",
       "1284    Люблю путешествовать, 100 % коммуникабельность...\n",
       "1287    Коммуникабельность, доброжелательность, работо...\n",
       "1298    Имею опыт работы в коллективе, организована, о...\n",
       "1530    Я люблю интересную работу с возможностями разв...\n",
       "1542    Целеустремленность, умение работать в команде ...\n",
       "1597    Ответственный, целеустремленный, коммуникабель...\n",
       "1648    Стремление к результату.\\nДисциплинирована и с...\n",
       "1722    я активный и очень общительный человек,быстро ...\n",
       "1769    Москвич, семьянин, имею двоих детей, не склоне...\n",
       "1781    Официальный стаж работы с 2005 года.\\nВ туризм...\n",
       "1851    Добросовестная, ответственная, внимательная, п...\n",
       "2089    Ответственна, доброжелательна, легко обучаема;...\n",
       "2098    Ответственно подхожу к выполнению поставленных...\n",
       "2175    Оптимист, целеустремленный, экспериментатор, о...\n",
       "2197    Профессионализм, достижение высоких результато...\n",
       "2282    Дисциплинирована, морально устойчива, коммуник...\n",
       "2329    Системный, многосторонний подход к решению зад...\n",
       "2345    Имею опыт работы:\\n● в ОС Windows;\\n● с клиент...\n",
       "2355    Стрессоустойчивый, доброжелательный, вежливый,...\n",
       "2410    С начала обучения в университете занимаюсь пре...\n",
       "2412    Общительный, ответственный, стрессоустойчивый,...\n",
       "2541    Целеустремленный, трудолюбивый, не боюсь трудн...\n",
       "2634    Коммуникабельность, пунктуальность, исполнител...\n",
       "2684    Пунктуальная , Коммуникабельная, Трудолюбивая\\...\n",
       "2700    Стресоустойчивый, ответственный, умею разобрат...\n",
       "2718    Коммуникабельный,инновационный.\\nОбладаю спосо...\n",
       "Name: О себе, dtype: object"
      ]
     },
     "execution_count": 621,
     "metadata": {},
     "output_type": "execute_result"
    }
   ],
   "source": [
    "df.loc[df['clust']==4]['О себе']"
   ]
  },
  {
   "cell_type": "code",
   "execution_count": 623,
   "id": "15d04f73-2699-4be0-8741-0e6f616fe690",
   "metadata": {},
   "outputs": [
    {
     "data": {
      "text/plain": [
       "58      Общий стаж работы более 20 лет. Легко обучаюсь...\n",
       "298     Добрый день. Немного обо мне: Успешное провиде...\n",
       "336     Аналитический склад ума, высокая концентрация,...\n",
       "376     Пунктуальная, исполнительная, мобильная.\\nУмею...\n",
       "593     Работал с людьми обладаю управлять командой зн...\n",
       "759     Умею работать в режиме многозадачности, пункту...\n",
       "1140    Люблю думать, создавать, видеть в своей работе...\n",
       "1442    Здравствуйте, меня зовут Ксения.\\nИз качеств о...\n",
       "1493    Уравновешенный, целеустремленный, коммуникабел...\n",
       "1556    Очень люблю автомобили, много читаю, в т.ч. те...\n",
       "1595    Легко и быстро обучаюсь. Всегда стремлюсь узна...\n",
       "1688    Имею опыт работы с web интерфейсами: backdase,...\n",
       "1734    Активность, коммуникабельность, стрессоустойчи...\n",
       "1908    Коммуникабельность,стрессоустойчивость,целеуст...\n",
       "1958    Личные качества - целеустремленность, коммуник...\n",
       "2016    Имею знания в области банковских технологий, и...\n",
       "2041    Имею знания в области банковских технологий, и...\n",
       "2131    Работаю много и эффективно. Стараюсь не употре...\n",
       "2140    Умею работать в режиме многозадачности, пункту...\n",
       "2214    Энергичность, открытость, высокая обучаемость,...\n",
       "2274    Я человек активный, ответственный, общительный...\n",
       "2338    Веду активный и здоровый образ жизни.\\nПродвин...\n",
       "2432    Семейное положение – не замужем, наличие детей...\n",
       "2593    Личные качества: настойчивость, скрупулезность...\n",
       "2633    Нацелен на результат, ответственно подхожу к л...\n",
       "Name: О себе, dtype: object"
      ]
     },
     "execution_count": 623,
     "metadata": {},
     "output_type": "execute_result"
    }
   ],
   "source": [
    "df.loc[df['clust']==5]['О себе']"
   ]
  },
  {
   "cell_type": "code",
   "execution_count": 624,
   "id": "5c700bd1-23cf-4883-8432-0a42dccdf3c5",
   "metadata": {},
   "outputs": [
    {
     "data": {
      "text/plain": [
       "159     Увлечения: спорт, активный образ жизни.\\nЛичны...\n",
       "279     Интиллегентный, ответственный, целеустремлённы...\n",
       "320     Способен решить в кратчайший срок все возникши...\n",
       "321     Коммуникабельная, приятной наружности. Исполни...\n",
       "411         Целеустремленный человек, с тягой познания...\n",
       "486     Ответственный, стрессоустойчивый, креативный, ...\n",
       "535     Ответственная, целеустремлённая, быстро схваты...\n",
       "578     Ответственный, честный, усидчивый, стрессоусто...\n",
       "618     Стремление к самообразованию. Требовательность...\n",
       "623     Активная, увлекаюсь интеллектуальными играми, ...\n",
       "624     Коммуникабелен, ответственен, настойчив в дост...\n",
       "647     Аналитический, креативный склад ума, работоспо...\n",
       "677                        Целеустремленная,пунктуальная.\n",
       "707     туризм, спортивная рыбалка, книги, бадминтон.\\...\n",
       "717     Семейное положение: женат. дочь 9 лет.\\nВодите...\n",
       "754     Хоби, спорт, туризм, активный отдых, рыбалка о...\n",
       "780     Аналитический склад ума, целеустремленный, раб...\n",
       "817     личностные навыки:\\n• Хорошие коммуникативные ...\n",
       "903     Всегда ориентируюсь на результат, быстро обуча...\n",
       "938     • Уверенный пользователь ПК: MS Office, 1C, SA...\n",
       "1009    Коммуникабельный, ответственный, исполнительны...\n",
       "1045    Стремление к обучению, ответственность, стресс...\n",
       "1062    Высокая работоспособность, активная жизненная ...\n",
       "1236    Адекватность и объективность.\\nИз увлечений - ...\n",
       "1289        Лояльный, позитивный и заслуживающий доверия.\n",
       "1399    Аналитический склад ума, исполнительность, выс...\n",
       "1480                                    На собеседовании.\n",
       "1524    Коммуникабельна, ответственна, организована, л...\n",
       "1643    способность к обучению,\\nумение работать в кол...\n",
       "1749    Ответственна, исполнительна, аналитик, умею ра...\n",
       "1753    Семейное положение: холост.\\nДети: нет.\\nВозмо...\n",
       "2006    • Креативен с активной жизненной позицией,\\n• ...\n",
       "2056    Компьютерные навыки: Windows 95/98/2000/XP, MS...\n",
       "2072    Адекватность и объективность.\\nИз увлечений - ...\n",
       "2152    Личные качества:\\nАналитический склад ума, раб...\n",
       "2360    Общительный, позитивный, открытый, харизматичный.\n",
       "2527    Коммуникабельна, ответственна, пунктуальна, то...\n",
       "2539    Целеустремлённость\\nСтрессоустойчивость\\nРабот...\n",
       "2603        Открытый, общительный, позитивно настроенный.\n",
       "2662    гражданский брак 20 лет,\\nвзрослая дочь,\\nправ...\n",
       "Name: О себе, dtype: object"
      ]
     },
     "execution_count": 624,
     "metadata": {},
     "output_type": "execute_result"
    }
   ],
   "source": [
    "df.loc[df['clust']==6]['О себе']"
   ]
  },
  {
   "cell_type": "code",
   "execution_count": 622,
   "id": "3156420d-bcc8-4db0-80ff-549ad6005b7f",
   "metadata": {},
   "outputs": [
    {
     "name": "stdout",
     "output_type": "stream",
     "text": [
      "1 : 1329\n",
      "2 : 356\n",
      "3 : 172\n",
      "4 : 762\n",
      "5 : 41\n",
      "6 : 25\n",
      "7 : 40\n"
     ]
    }
   ],
   "source": [
    "for x in np.unique(df['clust']):\n",
    "    print(x + 1, ':', df.loc[df['clust']==x]['О себе'].shape[0])"
   ]
  },
  {
   "cell_type": "code",
   "execution_count": 637,
   "id": "4efa64ef-074e-4ebf-a9d9-ad91efc3d6fe",
   "metadata": {},
   "outputs": [],
   "source": [
    "from nltk import FreqDist"
   ]
  },
  {
   "cell_type": "code",
   "execution_count": 638,
   "id": "6fa1b8fe-bcb7-4d52-9c5e-80172642589d",
   "metadata": {},
   "outputs": [
    {
     "name": "stdout",
     "output_type": "stream",
     "text": [
      "2720 : [('настоящий время работать', 51), ('настоящий время заниматься', 40), ('умение работать команда', 32), ('находиться поиск работа', 30), ('иметь опыт работа', 29), ('опыт работа сфера', 26), ('данный момент работать', 23), ('уверенный пользователь пк', 21), ('опытный пользователь пк', 20), ('аналитический склад ум', 19), ('данный момент иметь', 18), ('время работать крупный', 18), ('данный момент являться', 18), ('заниматься информационный технология', 18), ('данный момент заниматься', 18)]\n",
      "2724 : []\n",
      "2721 : [('данный момент работать', 104), ('находиться поиск работа', 96), ('момент работать крупный', 31), ('работа данный момент', 29), ('поиск работа хотеть', 26), ('поиск работа данный', 25), ('поиск работа сфера', 16), ('момент работать самый', 16), ('момент работать сфера', 16), ('работа хотеть заполучить', 15), ('момент работать компания', 14), ('работать крупный россия', 13), ('работать компания который', 10), ('работать самый известный', 10), ('хотеть заполучить должность', 8)]\n",
      "2722 : [('гражданин россия проживать', 43), ('проживать санкт петербург', 28), ('россия проживать санкт', 23), ('рамка подготовка чемпионат', 21), ('подготовка чемпионат мир', 21), ('настоящий время заниматься', 18), ('мир хоккей мяч', 18), ('уверенный пользователь пк', 18), ('находиться поиск работа', 17), ('открыться вакантный должность', 17), ('чемпионат мир хоккей', 17), ('разработчик программный обеспечение', 17), ('настоящий время работать', 15), ('аналитический склад ум', 13), ('данный момент работать', 12)]\n",
      "2718 : [('данный момент работать', 37), ('находиться поиск работа', 20), ('работа данный момент', 20), ('поиск работа данный', 19), ('момент работать сфера', 12), ('работать сфера маркетинг', 10), ('сфера маркетинг реклама', 10), ('маркетинг реклама продажа', 10), ('момент работать крупный', 8), ('момент работать московский', 7), ('работать московский офис', 7), ('работать крупный россия', 5), ('момент работать самый', 4), ('крупный россия компания', 4), ('данный момент заниматься', 3)]\n",
      "2633 : [('находиться поиск работа', 25), ('поиск работа данный', 25), ('работа данный момент', 25), ('данный момент работать', 25), ('момент работать московский', 9), ('работать московский офис', 9), ('момент работать крупный', 7), ('момент работать сфера', 6), ('работать сфера маркетинг', 4), ('сфера маркетинг реклама', 4), ('работать крупный россия', 4), ('крупный россия банковский', 4), ('россия банковский холдинг', 4), ('маркетинг реклама продажа', 3), ('момент работать компания', 2)]\n",
      "2662 : [('президент россия владимир', 39), ('россия владимир путин', 39), ('встреча президент россия', 28), ('владимир путин пройти', 23), ('путин пройти накануне', 15), ('f f f', 15), ('санкт петербург встреча', 14), ('присутствие президент рф', 14), ('президент рф владимир', 14), ('рф владимир путин', 14), ('пройти накануне санкт', 13), ('накануне санкт петербург', 13), ('владимир путин премьер', 13), ('путин премьер министр', 13), ('встреча пройти присутствие', 12)]\n"
     ]
    }
   ],
   "source": [
    "for x in np.unique(df['clust']):\n",
    "    cluster_ind = df.loc[df['clust']==x]['О себе'].index\n",
    "    cluster_tokens = []\n",
    "\n",
    "    for i in cluster_ind:\n",
    "        if df2.loc[i, 'О себе 3'] != None:\n",
    "            cluster_tokens += df2.loc[i, 'О себе 3']\n",
    "\n",
    "    print(i, ':', FreqDist(cluster_tokens).most_common(15))"
   ]
  },
  {
   "cell_type": "code",
   "execution_count": 640,
   "id": "db370683-7aec-4492-b331-65f273abef74",
   "metadata": {},
   "outputs": [
    {
     "name": "stdout",
     "output_type": "stream",
     "text": [
      "0 :\n",
      " 0.0    1297\n",
      "1.0      22\n",
      "2.0      10\n",
      "Name: DA, predicted, dtype: int64\n",
      "1 :\n",
      " 0.0    350\n",
      "2.0      4\n",
      "1.0      2\n",
      "Name: DA, predicted, dtype: int64\n",
      "2 :\n",
      " 0.0    169\n",
      "1.0      2\n",
      "2.0      1\n",
      "Name: DA, predicted, dtype: int64\n",
      "3 :\n",
      " 0.0    747\n",
      "1.0     10\n",
      "2.0      5\n",
      "Name: DA, predicted, dtype: int64\n",
      "4 :\n",
      " 0.0    41\n",
      "Name: DA, predicted, dtype: int64\n",
      "5 :\n",
      " 0.0    25\n",
      "Name: DA, predicted, dtype: int64\n",
      "6 :\n",
      " 0.0    39\n",
      "1.0     1\n",
      "Name: DA, predicted, dtype: int64\n"
     ]
    }
   ],
   "source": [
    "for x in np.unique(df['clust']):\n",
    "    print(x, ':\\n', df.loc[df['clust']==x]['DA, predicted'].value_counts())"
   ]
  },
  {
   "cell_type": "code",
   "execution_count": 647,
   "id": "872043f3-f1d3-4737-b00d-d5c85cb97a01",
   "metadata": {},
   "outputs": [
    {
     "data": {
      "text/plain": [
       "['Кол-во образований',\n",
       " 'Опыт нормализованный',\n",
       " 'Топовость образования',\n",
       " 'Справочник по интересам',\n",
       " 'Релокация?',\n",
       " 'Коммандировка?',\n",
       " 'Город?',\n",
       " 'Уровень оборазования нормализованный',\n",
       " 'Карьерный рост',\n",
       " 'Аналитические комбинации слов в навыках']"
      ]
     },
     "execution_count": 647,
     "metadata": {},
     "output_type": "execute_result"
    }
   ],
   "source": []
  },
  {
   "cell_type": "code",
   "execution_count": null,
   "id": "7f387ad9-81e7-45c8-9e63-0c5ffbbe5bca",
   "metadata": {},
   "outputs": [
    {
     "name": "stdout",
     "output_type": "stream",
     "text": [
      "0 :\n",
      " 1     727\n",
      "2     422\n",
      "3     112\n",
      "4      28\n",
      "0      14\n",
      "5      11\n",
      "6       5\n",
      "7       5\n",
      "8       2\n",
      "9       2\n",
      "10      1\n",
      "Name: Кол-во образований, dtype: int64\n",
      "count    1329.000000\n",
      "mean        1.642588\n",
      "std         1.017627\n",
      "min         0.000000\n",
      "25%         1.000000\n",
      "50%         1.000000\n",
      "75%         2.000000\n",
      "max        10.000000\n",
      "Name: Кол-во образований, dtype: float64\n",
      "0 :\n",
      " -1.000000     25\n",
      " 2.250000     11\n",
      " 9.250000     10\n",
      " 12.250000    10\n",
      " 10.583333     9\n",
      "              ..\n",
      " 43.250000     1\n",
      " 22.500000     1\n",
      " 28.166667     1\n",
      " 29.333333     1\n",
      " 11.000000     1\n",
      "Name: Опыт нормализованный, Length: 358, dtype: int64\n",
      "count    1329.000000\n",
      "mean       12.846125\n",
      "std         8.461049\n",
      "min        -1.000000\n",
      "25%         6.250000\n",
      "50%        12.166667\n",
      "75%        18.333333\n",
      "max        46.250000\n",
      "Name: Опыт нормализованный, dtype: float64\n",
      "0 :\n",
      " 0    1176\n",
      "1     153\n",
      "Name: Топовость образования, dtype: int64\n",
      "count    1329.000000\n",
      "mean        0.115124\n",
      "std         0.319292\n",
      "min         0.000000\n",
      "25%         0.000000\n",
      "50%         0.000000\n",
      "75%         0.000000\n",
      "max         1.000000\n",
      "Name: Топовость образования, dtype: float64\n",
      "0 :\n",
      " 0    848\n",
      "1    481\n",
      "Name: Справочник по интересам, dtype: int64\n",
      "count    1329.000000\n",
      "mean        0.361926\n",
      "std         0.480739\n",
      "min         0.000000\n",
      "25%         0.000000\n",
      "50%         0.000000\n",
      "75%         1.000000\n",
      "max         1.000000\n",
      "Name: Справочник по интересам, dtype: float64\n",
      "0 :\n",
      " 0    581\n",
      "4    205\n",
      "2    170\n",
      "1    130\n",
      "5    130\n",
      "3    113\n",
      "Name: Релокация?, dtype: int64\n",
      "count    1329.000000\n",
      "mean        1.714823\n",
      "std         1.830325\n",
      "min         0.000000\n",
      "25%         0.000000\n",
      "50%         1.000000\n",
      "75%         4.000000\n",
      "max         5.000000\n",
      "Name: Релокация?, dtype: float64\n",
      "0 :\n",
      " 0    465\n",
      "2    451\n",
      "3    276\n",
      "1    137\n",
      "Name: Коммандировка?, dtype: int64\n",
      "count    1329.000000\n",
      "mean        1.404816\n",
      "std         1.164940\n",
      "min         0.000000\n",
      "25%         0.000000\n",
      "50%         2.000000\n",
      "75%         2.000000\n",
      "max         3.000000\n",
      "Name: Коммандировка?, dtype: float64\n",
      "0 :\n",
      " 39    1190\n",
      "66      23\n",
      "32       8\n",
      "46       5\n",
      "6        4\n",
      "      ... \n",
      "48       1\n",
      "49       1\n",
      "50       1\n",
      "60       1\n",
      "96       1\n",
      "Name: Город?, Length: 72, dtype: int64\n",
      "count    1329.000000\n",
      "mean       40.447705\n",
      "std         8.643222\n",
      "min         2.000000\n",
      "25%        39.000000\n",
      "50%        39.000000\n",
      "75%        39.000000\n",
      "max        96.000000\n",
      "Name: Город?, dtype: float64\n",
      "0 :\n",
      " 1    926\n",
      "4    117\n",
      "0    114\n",
      "5     96\n",
      "8     34\n",
      "3     23\n",
      "6     13\n",
      "7      6\n",
      "Name: Уровень оборазования нормализованный, dtype: int64\n",
      "count    1329.000000\n",
      "mean        1.756960\n",
      "std         1.786938\n",
      "min         0.000000\n",
      "25%         1.000000\n",
      "50%         1.000000\n",
      "75%         1.000000\n",
      "max         8.000000\n",
      "Name: Уровень оборазования нормализованный, dtype: float64\n",
      "0 :\n",
      " 0    989\n",
      "1    340\n",
      "Name: Карьерный рост, dtype: int64\n",
      "count    1329.000000\n",
      "mean        0.255831\n",
      "std         0.436492\n",
      "min         0.000000\n",
      "25%         0.000000\n",
      "50%         0.000000\n",
      "75%         1.000000\n",
      "max         1.000000\n",
      "Name: Карьерный рост, dtype: float64\n",
      "0 :\n",
      " 0    1065\n",
      "1     264\n",
      "Name: Аналитические комбинации слов в навыках, dtype: int64\n",
      "count    1329.000000\n",
      "mean        0.198646\n",
      "std         0.399131\n",
      "min         0.000000\n",
      "25%         0.000000\n",
      "50%         0.000000\n",
      "75%         0.000000\n",
      "max         1.000000\n",
      "Name: Аналитические комбинации слов в навыках, dtype: float64\n",
      "1 :\n",
      " 1    206\n",
      "2    103\n",
      "3     24\n",
      "0     17\n",
      "4      4\n",
      "5      1\n",
      "8      1\n",
      "Name: Кол-во образований, dtype: int64\n",
      "count    356.000000\n",
      "mean       1.441011\n",
      "std        0.835415\n",
      "min        0.000000\n",
      "25%        1.000000\n",
      "50%        1.000000\n",
      "75%        2.000000\n",
      "max        8.000000\n",
      "Name: Кол-во образований, dtype: float64\n",
      "1 :\n",
      " -1.000000     35\n",
      " 3.000000      4\n",
      " 5.583333      4\n",
      " 1.750000      4\n",
      " 13.833333     4\n",
      "              ..\n",
      " 0.916667      1\n",
      " 22.750000     1\n",
      " 18.500000     1\n",
      " 9.416667      1\n",
      " 9.250000      1\n",
      "Name: Опыт нормализованный, Length: 213, dtype: int64\n",
      "count    356.000000\n",
      "mean      10.513343\n",
      "std        8.644941\n",
      "min       -1.000000\n",
      "25%        3.000000\n",
      "50%        9.666667\n",
      "75%       16.354167\n",
      "max       41.500000\n",
      "Name: Опыт нормализованный, dtype: float64\n",
      "1 :\n",
      " 0    318\n",
      "1     38\n",
      "Name: Топовость образования, dtype: int64\n",
      "count    356.000000\n",
      "mean       0.106742\n",
      "std        0.309219\n",
      "min        0.000000\n",
      "25%        0.000000\n",
      "50%        0.000000\n",
      "75%        0.000000\n",
      "max        1.000000\n",
      "Name: Топовость образования, dtype: float64\n",
      "1 :\n",
      " 0    224\n",
      "1    132\n",
      "Name: Справочник по интересам, dtype: int64\n",
      "count    356.000000\n",
      "mean       0.370787\n",
      "std        0.483695\n",
      "min        0.000000\n",
      "25%        0.000000\n",
      "50%        0.000000\n",
      "75%        1.000000\n",
      "max        1.000000\n",
      "Name: Справочник по интересам, dtype: float64\n",
      "1 :\n",
      " 4    116\n",
      "0     94\n",
      "5     54\n",
      "2     42\n",
      "1     31\n",
      "3     19\n",
      "Name: Релокация?, dtype: int64\n",
      "count    356.000000\n",
      "mean       2.544944\n",
      "std        1.891628\n",
      "min        0.000000\n",
      "25%        0.000000\n",
      "50%        3.000000\n",
      "75%        4.000000\n",
      "max        5.000000\n",
      "Name: Релокация?, dtype: float64\n",
      "1 :\n",
      " 2    164\n",
      "3     78\n",
      "0     77\n",
      "1     37\n",
      "Name: Коммандировка?, dtype: int64\n",
      "count    356.000000\n",
      "mean       1.682584\n",
      "std        1.044276\n",
      "min        0.000000\n",
      "25%        1.000000\n",
      "50%        2.000000\n",
      "75%        2.000000\n",
      "max        3.000000\n",
      "Name: Коммандировка?, dtype: float64\n",
      "1 :\n",
      " 39    334\n",
      "66      3\n",
      "32      3\n",
      "33      2\n",
      "25      2\n",
      "59      1\n",
      "53      1\n",
      "50      1\n",
      "46      1\n",
      "10      1\n",
      "37      1\n",
      "11      1\n",
      "31      1\n",
      "24      1\n",
      "22      1\n",
      "19      1\n",
      "92      1\n",
      "Name: Город?, dtype: int64\n",
      "count    356.000000\n",
      "mean      39.016854\n",
      "std        5.029462\n",
      "min       10.000000\n",
      "25%       39.000000\n",
      "50%       39.000000\n",
      "75%       39.000000\n",
      "max       92.000000\n",
      "Name: Город?, dtype: float64\n",
      "1 :\n",
      " 1    229\n",
      "5     39\n",
      "0     25\n",
      "4     24\n",
      "6     17\n",
      "8     14\n",
      "3      5\n",
      "7      2\n",
      "2      1\n",
      "Name: Уровень оборазования нормализованный, dtype: int64\n",
      "count    356.000000\n",
      "mean       2.148876\n",
      "std        2.122389\n",
      "min        0.000000\n",
      "25%        1.000000\n",
      "50%        1.000000\n",
      "75%        4.000000\n",
      "max        8.000000\n",
      "Name: Уровень оборазования нормализованный, dtype: float64\n",
      "1 :\n",
      " 0    293\n",
      "1     63\n",
      "Name: Карьерный рост, dtype: int64\n",
      "count    356.000000\n",
      "mean       0.176966\n",
      "std        0.382177\n",
      "min        0.000000\n",
      "25%        0.000000\n",
      "50%        0.000000\n",
      "75%        0.000000\n",
      "max        1.000000\n",
      "Name: Карьерный рост, dtype: float64\n",
      "1 :\n",
      " 0    306\n",
      "1     50\n",
      "Name: Аналитические комбинации слов в навыках, dtype: int64\n",
      "count    356.000000\n",
      "mean       0.140449\n",
      "std        0.347942\n",
      "min        0.000000\n",
      "25%        0.000000\n",
      "50%        0.000000\n",
      "75%        0.000000\n",
      "max        1.000000\n",
      "Name: Аналитические комбинации слов в навыках, dtype: float64\n",
      "2 :\n",
      " 1    107\n",
      "2     48\n",
      "3      9\n",
      "4      4\n",
      "0      3\n",
      "6      1\n",
      "Name: Кол-во образований, dtype: int64\n",
      "count    172.000000\n",
      "mean       1.465116\n",
      "std        0.804922\n",
      "min        0.000000\n",
      "25%        1.000000\n",
      "50%        1.000000\n",
      "75%        2.000000\n",
      "max        6.000000\n",
      "Name: Кол-во образований, dtype: float64\n",
      "2 :\n",
      " -1.000000     6\n",
      " 4.250000     4\n",
      " 16.416667    3\n",
      " 5.333333     3\n",
      " 6.333333     3\n",
      "             ..\n",
      " 11.416667    1\n",
      " 8.916667     1\n",
      " 18.250000    1\n",
      " 13.916667    1\n",
      " 1.500000     1\n",
      "Name: Опыт нормализованный, Length: 129, dtype: int64\n",
      "count    172.000000\n",
      "mean      11.962209\n",
      "std        8.433845\n",
      "min       -1.000000\n",
      "25%        5.000000\n",
      "50%       10.958333\n",
      "75%       18.270833\n",
      "max       38.416667\n",
      "Name: Опыт нормализованный, dtype: float64\n",
      "2 :\n",
      " 0    159\n",
      "1     13\n",
      "Name: Топовость образования, dtype: int64\n",
      "count    172.000000\n",
      "mean       0.075581\n",
      "std        0.265099\n",
      "min        0.000000\n",
      "25%        0.000000\n",
      "50%        0.000000\n",
      "75%        0.000000\n",
      "max        1.000000\n",
      "Name: Топовость образования, dtype: float64\n",
      "2 :\n",
      " 0    118\n",
      "1     54\n",
      "Name: Справочник по интересам, dtype: int64\n",
      "count    172.000000\n",
      "mean       0.313953\n",
      "std        0.465453\n",
      "min        0.000000\n",
      "25%        0.000000\n",
      "50%        0.000000\n",
      "75%        1.000000\n",
      "max        1.000000\n",
      "Name: Справочник по интересам, dtype: float64\n",
      "2 :\n",
      " 0    64\n",
      "2    34\n",
      "4    23\n",
      "1    18\n",
      "5    17\n",
      "3    16\n",
      "Name: Релокация?, dtype: int64\n",
      "count    172.000000\n",
      "mean       1.808140\n",
      "std        1.758303\n",
      "min        0.000000\n",
      "25%        0.000000\n",
      "50%        2.000000\n",
      "75%        3.000000\n",
      "max        5.000000\n",
      "Name: Релокация?, dtype: float64\n",
      "2 :\n",
      " 2    55\n",
      "0    50\n",
      "3    35\n",
      "1    32\n",
      "Name: Коммандировка?, dtype: int64\n",
      "count    172.000000\n",
      "mean       1.436047\n",
      "std        1.114226\n",
      "min        0.000000\n",
      "25%        0.000000\n",
      "50%        2.000000\n",
      "75%        2.000000\n",
      "max        3.000000\n",
      "Name: Коммандировка?, dtype: float64\n",
      "2 :\n",
      " 39    150\n",
      "66      4\n",
      "50      2\n",
      "68      2\n",
      "3       1\n",
      "84      1\n",
      "83      1\n",
      "80      1\n",
      "70      1\n",
      "46      1\n",
      "6       1\n",
      "40      1\n",
      "30      1\n",
      "27      1\n",
      "17      1\n",
      "12      1\n",
      "11      1\n",
      "95      1\n",
      "Name: Город?, dtype: int64\n",
      "count    172.000000\n",
      "mean      40.430233\n",
      "std       10.508744\n",
      "min        3.000000\n",
      "25%       39.000000\n",
      "50%       39.000000\n",
      "75%       39.000000\n",
      "max       95.000000\n",
      "Name: Город?, dtype: float64\n",
      "2 :\n",
      " 1    117\n",
      "5     19\n",
      "4     10\n",
      "0      9\n",
      "8      9\n",
      "3      4\n",
      "6      3\n",
      "7      1\n",
      "Name: Уровень оборазования нормализованный, dtype: int64\n",
      "count    172.000000\n",
      "mean       2.098837\n",
      "std        2.112784\n",
      "min        0.000000\n",
      "25%        1.000000\n",
      "50%        1.000000\n",
      "75%        3.000000\n",
      "max        8.000000\n",
      "Name: Уровень оборазования нормализованный, dtype: float64\n",
      "2 :\n",
      " 0    130\n",
      "1     42\n",
      "Name: Карьерный рост, dtype: int64\n",
      "count    172.000000\n",
      "mean       0.244186\n",
      "std        0.430858\n",
      "min        0.000000\n",
      "25%        0.000000\n",
      "50%        0.000000\n",
      "75%        0.000000\n",
      "max        1.000000\n",
      "Name: Карьерный рост, dtype: float64\n",
      "2 :\n",
      " 0    138\n",
      "1     34\n",
      "Name: Аналитические комбинации слов в навыках, dtype: int64\n",
      "count    172.000000\n",
      "mean       0.197674\n",
      "std        0.399408\n",
      "min        0.000000\n",
      "25%        0.000000\n",
      "50%        0.000000\n",
      "75%        0.000000\n",
      "max        1.000000\n",
      "Name: Аналитические комбинации слов в навыках, dtype: float64\n",
      "3 :\n",
      " 1    437\n",
      "2    245\n",
      "3     52\n",
      "4     19\n",
      "5      5\n",
      "0      3\n",
      "6      1\n",
      "Name: Кол-во образований, dtype: int64\n",
      "count    762.000000\n",
      "mean       1.561680\n",
      "std        0.803737\n",
      "min        0.000000\n",
      "25%        1.000000\n",
      "50%        1.000000\n",
      "75%        2.000000\n",
      "max        6.000000\n",
      "Name: Кол-во образований, dtype: float64\n",
      "3 :\n",
      " -1.000000     20\n",
      " 17.916667     8\n",
      " 13.500000     7\n",
      " 2.750000      7\n",
      " 8.750000      7\n",
      "              ..\n",
      " 38.583333     1\n",
      " 6.416667      1\n",
      " 32.250000     1\n",
      " 7.000000      1\n",
      " 1.833333      1\n",
      "Name: Опыт нормализованный, Length: 318, dtype: int64\n",
      "count    762.000000\n",
      "mean      13.287620\n",
      "std        8.418323\n",
      "min       -1.000000\n",
      "25%        7.020833\n",
      "50%       12.583333\n",
      "75%       18.500000\n",
      "max       46.500000\n",
      "Name: Опыт нормализованный, dtype: float64\n",
      "3 :\n",
      " 0    679\n",
      "1     83\n",
      "Name: Топовость образования, dtype: int64\n",
      "count    762.000000\n",
      "mean       0.108924\n",
      "std        0.311748\n",
      "min        0.000000\n",
      "25%        0.000000\n",
      "50%        0.000000\n",
      "75%        0.000000\n",
      "max        1.000000\n",
      "Name: Топовость образования, dtype: float64\n",
      "3 :\n",
      " 0    505\n",
      "1    257\n",
      "Name: Справочник по интересам, dtype: int64\n",
      "count    762.000000\n",
      "mean       0.337270\n",
      "std        0.473089\n",
      "min        0.000000\n",
      "25%        0.000000\n",
      "50%        0.000000\n",
      "75%        1.000000\n",
      "max        1.000000\n",
      "Name: Справочник по интересам, dtype: float64\n",
      "3 :\n",
      " 0    297\n",
      "4    113\n",
      "1     97\n",
      "5     96\n",
      "2     95\n",
      "3     64\n",
      "Name: Релокация?, dtype: int64\n",
      "count    762.000000\n",
      "mean       1.851706\n",
      "std        1.865463\n",
      "min        0.000000\n",
      "25%        0.000000\n",
      "50%        1.000000\n",
      "75%        4.000000\n",
      "max        5.000000\n",
      "Name: Релокация?, dtype: float64\n",
      "3 :\n",
      " 2    291\n",
      "0    216\n",
      "3    175\n",
      "1     80\n",
      "Name: Коммандировка?, dtype: int64\n",
      "count    762.000000\n",
      "mean       1.557743\n",
      "std        1.128975\n",
      "min        0.000000\n",
      "25%        0.000000\n",
      "50%        2.000000\n",
      "75%        2.000000\n",
      "max        3.000000\n",
      "Name: Коммандировка?, dtype: float64\n",
      "3 :\n",
      " 39    682\n",
      "66     15\n",
      "68      3\n",
      "84      3\n",
      "53      2\n",
      "33      2\n",
      "43      2\n",
      "19      2\n",
      "82      2\n",
      "46      2\n",
      "12      2\n",
      "63      2\n",
      "58      2\n",
      "89      2\n",
      "57      2\n",
      "30      2\n",
      "64      1\n",
      "65      1\n",
      "0       1\n",
      "67      1\n",
      "56      1\n",
      "74      1\n",
      "79      1\n",
      "80      1\n",
      "83      1\n",
      "86      1\n",
      "87      1\n",
      "91      1\n",
      "72      1\n",
      "47      1\n",
      "54      1\n",
      "21      1\n",
      "4       1\n",
      "5       1\n",
      "6       1\n",
      "8       1\n",
      "9       1\n",
      "13      1\n",
      "16      1\n",
      "20      1\n",
      "23      1\n",
      "51      1\n",
      "25      1\n",
      "26      1\n",
      "27      1\n",
      "38      1\n",
      "41      1\n",
      "44      1\n",
      "1       1\n",
      "50      1\n",
      "93      1\n",
      "Name: Город?, dtype: int64\n",
      "count    762.000000\n",
      "mean      40.341207\n",
      "std        9.168397\n",
      "min        0.000000\n",
      "25%       39.000000\n",
      "50%       39.000000\n",
      "75%       39.000000\n",
      "max       93.000000\n",
      "Name: Город?, dtype: float64\n",
      "3 :\n",
      " 1    552\n",
      "5     66\n",
      "0     54\n",
      "4     54\n",
      "8     21\n",
      "3      9\n",
      "6      3\n",
      "7      2\n",
      "2      1\n",
      "Name: Уровень оборазования нормализованный, dtype: int64\n",
      "count    762.000000\n",
      "mean       1.741470\n",
      "std        1.772201\n",
      "min        0.000000\n",
      "25%        1.000000\n",
      "50%        1.000000\n",
      "75%        1.000000\n",
      "max        8.000000\n",
      "Name: Уровень оборазования нормализованный, dtype: float64\n",
      "3 :\n",
      " 0    567\n",
      "1    195\n",
      "Name: Карьерный рост, dtype: int64\n",
      "count    762.000000\n",
      "mean       0.255906\n",
      "std        0.436656\n",
      "min        0.000000\n",
      "25%        0.000000\n",
      "50%        0.000000\n",
      "75%        1.000000\n",
      "max        1.000000\n",
      "Name: Карьерный рост, dtype: float64\n",
      "3 :\n",
      " 0    646\n",
      "1    116\n",
      "Name: Аналитические комбинации слов в навыках, dtype: int64\n",
      "count    762.000000\n",
      "mean       0.152231\n",
      "std        0.359481\n",
      "min        0.000000\n",
      "25%        0.000000\n",
      "50%        0.000000\n",
      "75%        0.000000\n",
      "max        1.000000\n",
      "Name: Аналитические комбинации слов в навыках, dtype: float64\n",
      "4 :\n",
      " 1    25\n",
      "2    13\n",
      "3     2\n",
      "5     1\n",
      "Name: Кол-во образований, dtype: int64\n",
      "count    41.000000\n",
      "mean      1.512195\n",
      "std       0.809998\n",
      "min       1.000000\n",
      "25%       1.000000\n",
      "50%       1.000000\n",
      "75%       2.000000\n",
      "max       5.000000\n",
      "Name: Кол-во образований, dtype: float64\n",
      "4 :\n",
      " 3.000000     2\n",
      "12.500000    2\n",
      "18.416667    2\n",
      "12.750000    1\n",
      "8.333333     1\n",
      "13.583333    1\n",
      "5.333333     1\n",
      "13.750000    1\n",
      "4.166667     1\n",
      "12.333333    1\n",
      "19.833333    1\n",
      "1.333333     1\n",
      "3.750000     1\n",
      "16.500000    1\n",
      "3.083333     1\n",
      "12.833333    1\n",
      "8.083333     1\n",
      "3.833333     1\n",
      "6.416667     1\n",
      "13.000000    1\n",
      "5.083333     1\n",
      "14.416667    1\n",
      "23.916667    1\n",
      "4.583333     1\n",
      "16.250000    1\n",
      "8.500000     1\n",
      "27.500000    1\n",
      "8.583333     1\n",
      "17.250000    1\n",
      "10.166667    1\n",
      "25.833333    1\n",
      "3.250000     1\n",
      "4.500000     1\n",
      "10.083333    1\n",
      "15.083333    1\n",
      "2.000000     1\n",
      "34.250000    1\n",
      "5.583333     1\n",
      "Name: Опыт нормализованный, dtype: int64\n",
      "count    41.000000\n",
      "mean     11.306911\n",
      "std       7.658248\n",
      "min       1.333333\n",
      "25%       4.583333\n",
      "50%      10.166667\n",
      "75%      15.083333\n",
      "max      34.250000\n",
      "Name: Опыт нормализованный, dtype: float64\n",
      "4 :\n",
      " 0    38\n",
      "1     3\n",
      "Name: Топовость образования, dtype: int64\n",
      "count    41.000000\n",
      "mean      0.073171\n",
      "std       0.263652\n",
      "min       0.000000\n",
      "25%       0.000000\n",
      "50%       0.000000\n",
      "75%       0.000000\n",
      "max       1.000000\n",
      "Name: Топовость образования, dtype: float64\n",
      "4 :\n",
      " 0    28\n",
      "1    13\n",
      "Name: Справочник по интересам, dtype: int64\n",
      "count    41.000000\n",
      "mean      0.317073\n",
      "std       0.471117\n",
      "min       0.000000\n",
      "25%       0.000000\n",
      "50%       0.000000\n",
      "75%       1.000000\n",
      "max       1.000000\n",
      "Name: Справочник по интересам, dtype: float64\n",
      "4 :\n",
      " 0    10\n",
      "3    10\n",
      "2     8\n",
      "1     5\n",
      "4     4\n",
      "5     4\n",
      "Name: Релокация?, dtype: int64\n",
      "count    41.000000\n",
      "mean      2.121951\n",
      "std       1.630876\n",
      "min       0.000000\n",
      "25%       1.000000\n",
      "50%       2.000000\n",
      "75%       3.000000\n",
      "max       5.000000\n",
      "Name: Релокация?, dtype: float64\n",
      "4 "
     ]
    }
   ],
   "source": [
    "for x in np.unique(df['clust']):\n",
    "    for col in list(X)[101:]:\n",
    "        print(x, ':\\n', df.loc[df['clust']==x][col].value_counts())\n",
    "        print(df.loc[df['clust']==x][col].describe())"
   ]
  },
  {
   "cell_type": "code",
   "execution_count": null,
   "id": "6912f6ab-bfa0-4cd6-ac56-e4fa6eddfe66",
   "metadata": {},
   "outputs": [],
   "source": []
  }
 ],
 "metadata": {
  "kernelspec": {
   "display_name": "Python 3 (ipykernel)",
   "language": "python",
   "name": "python3"
  },
  "language_info": {
   "codemirror_mode": {
    "name": "ipython",
    "version": 3
   },
   "file_extension": ".py",
   "mimetype": "text/x-python",
   "name": "python",
   "nbconvert_exporter": "python",
   "pygments_lexer": "ipython3",
   "version": "3.9.5"
  }
 },
 "nbformat": 4,
 "nbformat_minor": 5
}
