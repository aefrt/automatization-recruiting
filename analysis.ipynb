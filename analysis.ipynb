{
 "cells": [
  {
   "cell_type": "markdown",
   "id": "41b3e9f1-17cd-448d-bde7-9cfef4b30262",
   "metadata": {},
   "source": [
    "## ВКР: анализ данных"
   ]
  },
  {
   "cell_type": "markdown",
   "id": "603a9da5-cd31-436e-ac09-53a4989c2552",
   "metadata": {},
   "source": [
    "Автоматизация подбора персонала\n",
    "\n",
    "Копчев Владислав, БПМИ197"
   ]
  },
  {
   "cell_type": "markdown",
   "id": "2aa41204-e166-4fbb-aacc-c60461c4c663",
   "metadata": {},
   "source": [
    "В данном ноутбуке предобработанные в ноутбуке `preprocessing.ipynb` данные мы будем анализировать и делать из них полезные для принятия HR-решений выводы."
   ]
  },
  {
   "cell_type": "markdown",
   "id": "9b7a3e77-82be-45ab-b8c0-0327d7e7ff03",
   "metadata": {},
   "source": [
    "### Библиотеки"
   ]
  },
  {
   "cell_type": "markdown",
   "id": "03eee3b0-f0de-4cfa-814a-d498e7dc8bd2",
   "metadata": {},
   "source": [
    "Импорт библиотек:"
   ]
  },
  {
   "cell_type": "code",
   "execution_count": 2,
   "id": "51390a49-af19-4714-8209-35086ee596b8",
   "metadata": {},
   "outputs": [],
   "source": [
    "from bs4 import BeautifulSoup\n",
    "import requests\n",
    "import pandas as pd\n",
    "from selenium import webdriver\n",
    "from selenium.webdriver.common.keys import Keys\n",
    "from selenium.webdriver.common.by import By\n",
    "from selenium.webdriver.support.ui import Select\n",
    "# !pip install transliterate\n",
    "from transliterate import translit\n",
    "import re\n",
    "import numpy as np\n",
    "\n",
    "from scipy.spatial import distance\n",
    "from sklearn.preprocessing import StandardScaler\n",
    "from sklearn.decomposition import PCA\n",
    "import seaborn as sns\n",
    "from sklearn.cluster import KMeans\n",
    "import matplotlib.pyplot as plt\n",
    "import numpy as np\n",
    "from sklearn.linear_model import LinearRegression\n",
    "from sklearn.linear_model import LogisticRegression\n",
    "from sklearn.metrics import accuracy_score\n",
    "from sklearn.preprocessing import LabelEncoder"
   ]
  },
  {
   "cell_type": "markdown",
   "id": "558d8586-b380-4bf8-b610-6390cef770a1",
   "metadata": {},
   "source": [
    "Мы имеем таблицу с данными, в которых все признаки приведены к простому виду, выделены новые полезные признаки, была произведена суммаризация раздела \"О себе\". Теперь мы произведем токенизацию раздела \"О себе\" на совокупность 3-грамм, которые мы и будем считать токенами, после чего построим эмбеддинги."
   ]
  },
  {
   "cell_type": "markdown",
   "id": "7f01112b-3e50-44a8-a334-da5e366a2aca",
   "metadata": {},
   "source": [
    "**Токенизация раздела \"О себе\" на 1-граммы:**"
   ]
  },
  {
   "cell_type": "code",
   "execution_count": 120,
   "id": "e4fdb3b1-b935-4a9a-835f-5fd43b695d29",
   "metadata": {},
   "outputs": [],
   "source": [
    "df = pd.read_csv('resumes_features.csv')"
   ]
  },
  {
   "cell_type": "code",
   "execution_count": 122,
   "id": "46b66f6a-da01-4cd5-b768-1b5328ec17b3",
   "metadata": {},
   "outputs": [],
   "source": [
    "df.drop(list(df)[0], axis=1, inplace=True)\n",
    "df.reset_index(inplace=True)\n",
    "df.drop(list(df)[0], axis=1, inplace=True)"
   ]
  },
  {
   "cell_type": "code",
   "execution_count": 124,
   "id": "cc91a73b-4481-4eaa-ab8a-cda931bd3c81",
   "metadata": {},
   "outputs": [
    {
     "data": {
      "text/html": [
       "<div>\n",
       "<style scoped>\n",
       "    .dataframe tbody tr th:only-of-type {\n",
       "        vertical-align: middle;\n",
       "    }\n",
       "\n",
       "    .dataframe tbody tr th {\n",
       "        vertical-align: top;\n",
       "    }\n",
       "\n",
       "    .dataframe thead th {\n",
       "        text-align: right;\n",
       "    }\n",
       "</style>\n",
       "<table border=\"1\" class=\"dataframe\">\n",
       "  <thead>\n",
       "    <tr style=\"text-align: right;\">\n",
       "      <th></th>\n",
       "      <th>Ссылка</th>\n",
       "      <th>Название</th>\n",
       "      <th>Коммандировка</th>\n",
       "      <th>Опыт</th>\n",
       "      <th>О себе</th>\n",
       "      <th>Образование</th>\n",
       "      <th>Интересы</th>\n",
       "      <th>Навыки</th>\n",
       "      <th>Образование-1</th>\n",
       "      <th>Образование-2</th>\n",
       "      <th>...</th>\n",
       "      <th>О себе, avg_tokens</th>\n",
       "      <th>О себе, 3-grams</th>\n",
       "      <th>Где работал</th>\n",
       "      <th>Где работал?</th>\n",
       "      <th>Аналитические комбинации слов</th>\n",
       "      <th>DA</th>\n",
       "      <th>DS</th>\n",
       "      <th>Кол-во работ</th>\n",
       "      <th>Аналитические комбинации слов в работе</th>\n",
       "      <th>Аналитические комбинации слов в навыках</th>\n",
       "    </tr>\n",
       "  </thead>\n",
       "  <tbody>\n",
       "    <tr>\n",
       "      <th>2639</th>\n",
       "      <td>https://hh.ru/resume/4a310d020002587a310039ed1...</td>\n",
       "      <td>Руководитель отдела продаж</td>\n",
       "      <td>Москва, м. Профсоюзная, не готов к переезду, н...</td>\n",
       "      <td>Опыт работы 5 лет 6 месяцев</td>\n",
       "      <td>Проходил обучение на корпоративных тренингах: ...</td>\n",
       "      <td>Высшее образование\\n2011\\nПрофессиональный инс...</td>\n",
       "      <td>Специализации:\\nРуководитель отдела продаж\\nЗа...</td>\n",
       "      <td>---</td>\n",
       "      <td>Профессиональный институт юриспруденции</td>\n",
       "      <td>NaN</td>\n",
       "      <td>...</td>\n",
       "      <td>0.000216</td>\n",
       "      <td>['проходить обучение корпоративный', 'обучение...</td>\n",
       "      <td>['Media Markt и Saturn', 'Media Markt и Saturn...</td>\n",
       "      <td>['Media Markt и Saturn', 'Media Markt и Saturn...</td>\n",
       "      <td>---</td>\n",
       "      <td>NaN</td>\n",
       "      <td>NaN</td>\n",
       "      <td>83</td>\n",
       "      <td>---</td>\n",
       "      <td>---</td>\n",
       "    </tr>\n",
       "  </tbody>\n",
       "</table>\n",
       "<p>1 rows × 36 columns</p>\n",
       "</div>"
      ],
      "text/plain": [
       "                                                 Ссылка  \\\n",
       "2639  https://hh.ru/resume/4a310d020002587a310039ed1...   \n",
       "\n",
       "                        Название  \\\n",
       "2639  Руководитель отдела продаж   \n",
       "\n",
       "                                          Коммандировка  \\\n",
       "2639  Москва, м. Профсоюзная, не готов к переезду, н...   \n",
       "\n",
       "                             Опыт  \\\n",
       "2639  Опыт работы 5 лет 6 месяцев   \n",
       "\n",
       "                                                 О себе  \\\n",
       "2639  Проходил обучение на корпоративных тренингах: ...   \n",
       "\n",
       "                                            Образование  \\\n",
       "2639  Высшее образование\\n2011\\nПрофессиональный инс...   \n",
       "\n",
       "                                               Интересы Навыки  \\\n",
       "2639  Специализации:\\nРуководитель отдела продаж\\nЗа...    ---   \n",
       "\n",
       "                                Образование-1 Образование-2  ...  \\\n",
       "2639  Профессиональный институт юриспруденции           NaN  ...   \n",
       "\n",
       "     О себе, avg_tokens                                    О себе, 3-grams  \\\n",
       "2639           0.000216  ['проходить обучение корпоративный', 'обучение...   \n",
       "\n",
       "                                            Где работал  \\\n",
       "2639  ['Media Markt и Saturn', 'Media Markt и Saturn...   \n",
       "\n",
       "                                           Где работал?  \\\n",
       "2639  ['Media Markt и Saturn', 'Media Markt и Saturn...   \n",
       "\n",
       "      Аналитические комбинации слов  DA  DS Кол-во работ  \\\n",
       "2639                            --- NaN NaN           83   \n",
       "\n",
       "     Аналитические комбинации слов в работе  \\\n",
       "2639                                    ---   \n",
       "\n",
       "     Аналитические комбинации слов в навыках  \n",
       "2639                                     ---  \n",
       "\n",
       "[1 rows x 36 columns]"
      ]
     },
     "execution_count": 124,
     "metadata": {},
     "output_type": "execute_result"
    }
   ],
   "source": [
    "df.sample(1)"
   ]
  },
  {
   "cell_type": "markdown",
   "id": "3f65e082-e795-4015-9121-68bf3c4509e3",
   "metadata": {},
   "source": [
    "Для начала построим разбиение на 1-граммы (в коде также мы уберем пробелы и ненужные символы, стоп-слова, приведем слова к нормальной форме):"
   ]
  },
  {
   "cell_type": "code",
   "execution_count": 125,
   "id": "92c1cb6b-b792-489c-8bcc-16b1a72fbeda",
   "metadata": {},
   "outputs": [],
   "source": [
    "import nltk\n",
    "# nltk.download('stopwords')\n",
    "\n",
    "import re\n",
    "from pymorphy2 import MorphAnalyzer\n",
    "from nltk.corpus import stopwords\n",
    "patterns = \"[0-9!#$%&'()*+,./:;<=>?@[\\]^_`{|}~—\\\"\\-]+\"\n",
    "stopwords_ru = stopwords.words(\"russian\")\n",
    "morph = MorphAnalyzer()\n",
    "def lemmatize(doc):\n",
    "    # print(doc)\n",
    "    doc = re.sub(patterns, ' ', doc)\n",
    "    tokens = []\n",
    "    for token in doc.split():\n",
    "        if token and token not in stopwords_ru and morph.normal_forms(token)[0] not in stopwords_ru:  # ВОТ откуда там стоп-слвоа — В not in stopwords_ru -> normal(В) = в\n",
    "            # print(token)\n",
    "            token = token.strip()\n",
    "            token = morph.normal_forms(token)[0]\n",
    "            tokens.append(token)\n",
    "    if len(tokens) > 2:\n",
    "        return tokens\n",
    "    return None\n",
    "\n",
    "df2 = pd.DataFrame(df['О себе, summarized'])\n",
    "\n",
    "for col_ind in df2.index:\n",
    "    col = df2.loc[col_ind]['О себе, summarized']\n",
    "    if col:\n",
    "        df2.loc[col_ind]['О себе, summarized'] = lemmatize(str(col))\n",
    "        #print(lemmatize(str(col)))\n",
    "        \n",
    "data = df2['О себе, summarized']\n",
    "\n",
    "from collections import defaultdict\n",
    "word_freq = defaultdict(int)\n",
    "for tokens in data.iloc[:]:\n",
    "    if tokens:\n",
    "        for token in tokens:\n",
    "            word_freq[token] += 1"
   ]
  },
  {
   "cell_type": "markdown",
   "id": "478ba7b2-a1f8-4e8c-bf30-1878321046dd",
   "metadata": {},
   "source": [
    "Видим, что разбиение прошло успещно:"
   ]
  },
  {
   "cell_type": "code",
   "execution_count": 126,
   "id": "441d3f94-0b4d-4518-a883-52eb40437033",
   "metadata": {},
   "outputs": [
    {
     "data": {
      "text/html": [
       "<div>\n",
       "<style scoped>\n",
       "    .dataframe tbody tr th:only-of-type {\n",
       "        vertical-align: middle;\n",
       "    }\n",
       "\n",
       "    .dataframe tbody tr th {\n",
       "        vertical-align: top;\n",
       "    }\n",
       "\n",
       "    .dataframe thead th {\n",
       "        text-align: right;\n",
       "    }\n",
       "</style>\n",
       "<table border=\"1\" class=\"dataframe\">\n",
       "  <thead>\n",
       "    <tr style=\"text-align: right;\">\n",
       "      <th></th>\n",
       "      <th>О себе, summarized</th>\n",
       "    </tr>\n",
       "  </thead>\n",
       "  <tbody>\n",
       "    <tr>\n",
       "      <th>2523</th>\n",
       "      <td>[трудолюбивый, трудолюбивый, легко, обучать, с...</td>\n",
       "    </tr>\n",
       "    <tr>\n",
       "      <th>1893</th>\n",
       "      <td>[постоянно, активно, развиваться, интернет, ма...</td>\n",
       "    </tr>\n",
       "    <tr>\n",
       "      <th>2618</th>\n",
       "      <td>None</td>\n",
       "    </tr>\n",
       "  </tbody>\n",
       "</table>\n",
       "</div>"
      ],
      "text/plain": [
       "                                     О себе, summarized\n",
       "2523  [трудолюбивый, трудолюбивый, легко, обучать, с...\n",
       "1893  [постоянно, активно, развиваться, интернет, ма...\n",
       "2618                                               None"
      ]
     },
     "execution_count": 126,
     "metadata": {},
     "output_type": "execute_result"
    }
   ],
   "source": [
    "df2.sample(3)"
   ]
  },
  {
   "cell_type": "markdown",
   "id": "070636cb-f089-4ca5-bbdc-9199e1403686",
   "metadata": {},
   "source": [
    "Теперь построим 2-граммы по 1-граммам:"
   ]
  },
  {
   "cell_type": "code",
   "execution_count": 127,
   "id": "b7c5b2b3-9db9-47ad-bfc6-d9dfd4832532",
   "metadata": {},
   "outputs": [],
   "source": [
    "from nltk.util import ngrams\n",
    "from nltk import word_tokenize \n",
    "\n",
    "tokens2 = []\n",
    "\n",
    "for x in df2['О себе, summarized']:\n",
    "    if x is not None:\n",
    "        bigrams = []\n",
    "        for bg in list(ngrams(x, 2)):\n",
    "            bigrams.append(' '.join(bg))\n",
    "        tokens2.append(bigrams)\n",
    "    else:\n",
    "        tokens2.append(None)\n",
    "        \n",
    "df2['О себе 2'] = tokens2"
   ]
  },
  {
   "cell_type": "code",
   "execution_count": 128,
   "id": "5c3110b2-4298-432f-a886-ff038030c442",
   "metadata": {},
   "outputs": [
    {
     "data": {
      "text/html": [
       "<div>\n",
       "<style scoped>\n",
       "    .dataframe tbody tr th:only-of-type {\n",
       "        vertical-align: middle;\n",
       "    }\n",
       "\n",
       "    .dataframe tbody tr th {\n",
       "        vertical-align: top;\n",
       "    }\n",
       "\n",
       "    .dataframe thead th {\n",
       "        text-align: right;\n",
       "    }\n",
       "</style>\n",
       "<table border=\"1\" class=\"dataframe\">\n",
       "  <thead>\n",
       "    <tr style=\"text-align: right;\">\n",
       "      <th></th>\n",
       "      <th>О себе, summarized</th>\n",
       "      <th>О себе 2</th>\n",
       "    </tr>\n",
       "  </thead>\n",
       "  <tbody>\n",
       "    <tr>\n",
       "      <th>853</th>\n",
       "      <td>[уверенный, черта, характер, стрессоустойчивос...</td>\n",
       "      <td>[уверенный черта, черта характер, характер стр...</td>\n",
       "    </tr>\n",
       "    <tr>\n",
       "      <th>54</th>\n",
       "      <td>[английский, язык, –, upper, intermediate, про...</td>\n",
       "      <td>[английский язык, язык –, – upper, upper inter...</td>\n",
       "    </tr>\n",
       "    <tr>\n",
       "      <th>2565</th>\n",
       "      <td>[форвард, сборная, россия, хоккей, евгений, ма...</td>\n",
       "      <td>[форвард сборная, сборная россия, россия хокке...</td>\n",
       "    </tr>\n",
       "  </tbody>\n",
       "</table>\n",
       "</div>"
      ],
      "text/plain": [
       "                                     О себе, summarized  \\\n",
       "853   [уверенный, черта, характер, стрессоустойчивос...   \n",
       "54    [английский, язык, –, upper, intermediate, про...   \n",
       "2565  [форвард, сборная, россия, хоккей, евгений, ма...   \n",
       "\n",
       "                                               О себе 2  \n",
       "853   [уверенный черта, черта характер, характер стр...  \n",
       "54    [английский язык, язык –, – upper, upper inter...  \n",
       "2565  [форвард сборная, сборная россия, россия хокке...  "
      ]
     },
     "execution_count": 128,
     "metadata": {},
     "output_type": "execute_result"
    }
   ],
   "source": [
    "df2.sample(3)"
   ]
  },
  {
   "cell_type": "markdown",
   "id": "0539c9f1-a782-4045-bd1b-e08d304a1ea1",
   "metadata": {},
   "source": [
    "Аналогичным образом, наконец, построим 3-граммы:"
   ]
  },
  {
   "cell_type": "code",
   "execution_count": 129,
   "id": "d31d45f6-3bc9-49e6-935f-9d223a89140f",
   "metadata": {},
   "outputs": [],
   "source": [
    "from nltk.util import ngrams\n",
    "from nltk import word_tokenize \n",
    "\n",
    "tokens3 = []\n",
    "\n",
    "for x in df2['О себе, summarized']:\n",
    "    if x is not None:\n",
    "        trigrams = []\n",
    "        for tg in list(ngrams(x, 3)):\n",
    "            trigrams.append(' '.join(tg))\n",
    "        tokens3.append(trigrams)\n",
    "    else:\n",
    "        tokens3.append(None)\n",
    "        \n",
    "df2['О себе 3'] = tokens3"
   ]
  },
  {
   "cell_type": "code",
   "execution_count": 130,
   "id": "dcbb261e-6da7-4f58-a062-2e625a7f33a7",
   "metadata": {},
   "outputs": [
    {
     "data": {
      "text/html": [
       "<div>\n",
       "<style scoped>\n",
       "    .dataframe tbody tr th:only-of-type {\n",
       "        vertical-align: middle;\n",
       "    }\n",
       "\n",
       "    .dataframe tbody tr th {\n",
       "        vertical-align: top;\n",
       "    }\n",
       "\n",
       "    .dataframe thead th {\n",
       "        text-align: right;\n",
       "    }\n",
       "</style>\n",
       "<table border=\"1\" class=\"dataframe\">\n",
       "  <thead>\n",
       "    <tr style=\"text-align: right;\">\n",
       "      <th></th>\n",
       "      <th>О себе, summarized</th>\n",
       "      <th>О себе 2</th>\n",
       "      <th>О себе 3</th>\n",
       "    </tr>\n",
       "  </thead>\n",
       "  <tbody>\n",
       "    <tr>\n",
       "      <th>640</th>\n",
       "      <td>[germany, россия, сша, канада, австралия, арге...</td>\n",
       "      <td>[germany россия, россия сша, сша канада, канад...</td>\n",
       "      <td>[germany россия сша, россия сша канада, сша ка...</td>\n",
       "    </tr>\n",
       "    <tr>\n",
       "      <th>152</th>\n",
       "      <td>None</td>\n",
       "      <td>None</td>\n",
       "      <td>None</td>\n",
       "    </tr>\n",
       "    <tr>\n",
       "      <th>806</th>\n",
       "      <td>[обладать, доминировать, эмпатия, целеустремлё...</td>\n",
       "      <td>[обладать доминировать, доминировать эмпатия, ...</td>\n",
       "      <td>[обладать доминировать эмпатия, доминировать э...</td>\n",
       "    </tr>\n",
       "  </tbody>\n",
       "</table>\n",
       "</div>"
      ],
      "text/plain": [
       "                                    О себе, summarized  \\\n",
       "640  [germany, россия, сша, канада, австралия, арге...   \n",
       "152                                               None   \n",
       "806  [обладать, доминировать, эмпатия, целеустремлё...   \n",
       "\n",
       "                                              О себе 2  \\\n",
       "640  [germany россия, россия сша, сша канада, канад...   \n",
       "152                                               None   \n",
       "806  [обладать доминировать, доминировать эмпатия, ...   \n",
       "\n",
       "                                              О себе 3  \n",
       "640  [germany россия сша, россия сша канада, сша ка...  \n",
       "152                                               None  \n",
       "806  [обладать доминировать эмпатия, доминировать э...  "
      ]
     },
     "execution_count": 130,
     "metadata": {},
     "output_type": "execute_result"
    }
   ],
   "source": [
    "df2.sample(3)"
   ]
  },
  {
   "cell_type": "markdown",
   "id": "b1183f3e-34c4-47e7-ac42-cffecec2f4db",
   "metadata": {},
   "source": [
    "**Построение эмбеддингов**"
   ]
  },
  {
   "cell_type": "markdown",
   "id": "0799b562-8e18-4739-b68f-02fdb6791a20",
   "metadata": {},
   "source": [
    "Теперь перейдем к построению эмбеддингов. Будем использовать метод построения эмбеддингов word2vec. Определим векторное представление триграммы как среднее векторных представлений слов внутри нее."
   ]
  },
  {
   "cell_type": "code",
   "execution_count": 131,
   "id": "9593813d-29e2-4b63-b740-b7384b0b3304",
   "metadata": {},
   "outputs": [],
   "source": [
    "from gensim.test.utils import common_texts\n",
    "from gensim.models import Word2Vec"
   ]
  },
  {
   "cell_type": "markdown",
   "id": "f8f8ebcb-6540-4a10-8aeb-1ee2868c4370",
   "metadata": {},
   "source": [
    "Избавимся от пропусков, чтобы не было проблем с применением метода:"
   ]
  },
  {
   "cell_type": "code",
   "execution_count": 132,
   "id": "b624a13b-a46b-4e93-99bd-4c2837f60f1e",
   "metadata": {},
   "outputs": [],
   "source": [
    "df2.loc[df2['О себе 3'].isna(), 'О себе 3'] = '-'"
   ]
  },
  {
   "cell_type": "code",
   "execution_count": 133,
   "id": "0d6e33c5-d046-469b-9228-ccf0ddf57fd0",
   "metadata": {},
   "outputs": [
    {
     "data": {
      "text/plain": [
       "Series([], Name: О себе 3, dtype: object)"
      ]
     },
     "execution_count": 133,
     "metadata": {},
     "output_type": "execute_result"
    }
   ],
   "source": [
    "df2[df2['О себе 3'].isna()]['О себе 3']"
   ]
  },
  {
   "cell_type": "markdown",
   "id": "be56112f-15e2-45a6-9bd3-a926122545f6",
   "metadata": {},
   "source": [
    "Обучим модель:"
   ]
  },
  {
   "cell_type": "code",
   "execution_count": 134,
   "id": "5a19a055-7bfd-462e-89e2-a9434e0a0ecf",
   "metadata": {},
   "outputs": [],
   "source": [
    "model = Word2Vec(sentences=df2['О себе 3'], vector_size=100, window=5, min_count=1, workers=4)\n",
    "model.save(\"word2vec.model\")"
   ]
  },
  {
   "cell_type": "code",
   "execution_count": 135,
   "id": "fd3869ea-2216-460b-b8c9-e49b584c4862",
   "metadata": {},
   "outputs": [],
   "source": [
    "model = Word2Vec.load(\"word2vec.model\")"
   ]
  },
  {
   "cell_type": "code",
   "execution_count": 136,
   "id": "1865db88-f445-4dd0-afc6-2ef1ecbe4217",
   "metadata": {},
   "outputs": [
    {
     "data": {
      "text/plain": [
       "(41868, 42180)"
      ]
     },
     "execution_count": 136,
     "metadata": {},
     "output_type": "execute_result"
    }
   ],
   "source": [
    "model.train(df2['О себе 3'], total_examples=len(df2['О себе 3']), epochs=1)"
   ]
  },
  {
   "cell_type": "markdown",
   "id": "5a558727-c2cc-4833-b7fb-8e09df95c376",
   "metadata": {},
   "source": [
    "Посмотрим, что получилось, на примере:"
   ]
  },
  {
   "cell_type": "code",
   "execution_count": 142,
   "id": "e9f1156f-4f7b-4a15-b663-afe3d7d40b21",
   "metadata": {},
   "outputs": [],
   "source": [
    "vector = model.wv['нестандартный подход решение']  # get numpy vector of a word\n",
    "sims = model.wv.most_similar('нестандартный подход решение', topn=10)  # get other similar words"
   ]
  },
  {
   "cell_type": "code",
   "execution_count": 19,
   "id": "6b94ed60-5c69-4fe1-953c-8d96cdde5c89",
   "metadata": {},
   "outputs": [
    {
     "data": {
      "text/plain": [
       "array([ 2.2067500e-03, -7.3231361e-03,  7.8011141e-03,  7.6452661e-03,\n",
       "        2.4990677e-03, -6.3624647e-03, -5.9403661e-05,  3.4782612e-03,\n",
       "       -5.6626188e-04,  5.9506493e-03, -3.4510384e-03,  4.3406021e-03,\n",
       "       -3.4173462e-03,  4.9557914e-03,  7.2136098e-03, -7.3125749e-03,\n",
       "       -6.6994298e-03,  9.5764669e-03,  2.1601473e-03, -6.2942142e-03,\n",
       "       -1.8191544e-03, -3.3437440e-03,  6.3336780e-04,  2.4854629e-03,\n",
       "        6.5179047e-04, -2.0766382e-03,  1.5287504e-03,  7.1112881e-03,\n",
       "        7.1763177e-03, -2.8673734e-03, -9.1822697e-03,  6.9630803e-03,\n",
       "        2.2413163e-03,  2.8338658e-03,  3.1316516e-03,  6.2846639e-03,\n",
       "       -7.1329245e-04,  4.0908363e-03, -7.2425319e-05, -9.3654795e-03,\n",
       "       -2.0878434e-03, -7.2188018e-04, -7.2491588e-04,  5.9062704e-03,\n",
       "       -7.4123605e-03,  9.8371506e-03, -5.1827966e-03,  2.8906062e-03,\n",
       "        4.1390378e-03,  7.8106583e-03, -1.1367421e-03, -5.6662778e-03,\n",
       "        9.1947811e-03, -7.3702243e-04, -5.4288865e-03,  2.2407942e-03,\n",
       "       -9.6124811e-03,  1.2813289e-04,  1.0038995e-02, -9.0947077e-03,\n",
       "       -2.4086470e-03, -7.7750552e-03, -3.9389688e-03, -8.5907960e-03,\n",
       "        5.1790304e-03, -3.3192320e-03, -9.1373855e-03,  4.9073417e-03,\n",
       "       -7.2814254e-03, -2.6157559e-03, -3.8773371e-03,  8.3627952e-03,\n",
       "       -7.9023065e-03, -2.2082287e-03,  4.8320959e-03, -9.0030702e-03,\n",
       "       -6.8755527e-03,  9.8259179e-03, -6.0350210e-03,  9.4081946e-03,\n",
       "        9.8166130e-03, -8.6152023e-03, -5.9873364e-03,  3.0013337e-03,\n",
       "        6.9932593e-03, -8.2298648e-03,  3.8184624e-03,  2.6523538e-03,\n",
       "        6.4450703e-03, -8.3762892e-03, -5.6536291e-03,  3.3293094e-03,\n",
       "        5.3788954e-04, -8.2485527e-03, -6.6536507e-03, -4.7638719e-03,\n",
       "        2.1447847e-03, -6.5474301e-03, -5.4646339e-03, -3.4601937e-05],\n",
       "      dtype=float32)"
      ]
     },
     "execution_count": 19,
     "metadata": {},
     "output_type": "execute_result"
    }
   ],
   "source": [
    "vector"
   ]
  },
  {
   "cell_type": "code",
   "execution_count": 143,
   "id": "024bfcd3-e7a8-456d-a0b6-1708861b030e",
   "metadata": {},
   "outputs": [
    {
     "data": {
      "text/plain": [
       "[('ум способность работать', 0.42437753081321716),\n",
       " ('крупный российский агентство', 0.41329023241996765),\n",
       " ('подготовка рисовый руководство', 0.38147082924842834),\n",
       " ('письменный речь быстрый', 0.3720853924751282),\n",
       " ('человек направление проектирование', 0.3675800859928131),\n",
       " ('опыт управление опыт', 0.3589397966861725),\n",
       " ('строить bi дашборд', 0.34726792573928833),\n",
       " ('эффективный проектный группа', 0.3456355929374695),\n",
       " ('футбольный болельщик готовиться', 0.3422141373157501),\n",
       " ('дважды выигрывать золото', 0.34142419695854187)]"
      ]
     },
     "execution_count": 143,
     "metadata": {},
     "output_type": "execute_result"
    }
   ],
   "source": [
    "sims"
   ]
  },
  {
   "cell_type": "markdown",
   "id": "7762da35-4f02-49da-9ff4-c0946ac0e580",
   "metadata": {},
   "source": [
    "Вектор построен корректно, похожие триграммы подобраны неплохо с точки зрения соответствия смыслу."
   ]
  },
  {
   "cell_type": "markdown",
   "id": "65893361-3757-494d-b673-a711f957fa88",
   "metadata": {},
   "source": [
    "Итак, мы построили эмбеддинги. Теперь создадим табличку, где каждому резюме будет соответстовать вектор из 100 координат входящих в раздел \"О себе\" триграмм."
   ]
  },
  {
   "cell_type": "code",
   "execution_count": 148,
   "id": "f6602d86-6244-4a43-b2e4-fd33999ffb1b",
   "metadata": {},
   "outputs": [],
   "source": [
    "our_data = pd.DataFrame(df2['О себе 3'])\n",
    "our_data['emb'] = 0\n",
    "embs = []\n",
    "for x in our_data['О себе 3']:\n",
    "    cur_embs = []\n",
    "    for y in x:\n",
    "        cur_embs.append(model.wv[y])\n",
    "    embs.append(cur_embs)\n",
    "our_data['emb'] = embs\n",
    "\n",
    "embs_flattened = []\n",
    "for x in our_data['emb']:\n",
    "    x_flat = np.array(x[0])\n",
    "    for z in x[1:]:\n",
    "        x_flat += np.array(z)\n",
    "    embs_flattened.append(x_flat / len(x))\n",
    "our_data['flat_emb'] = embs_flattened"
   ]
  },
  {
   "cell_type": "markdown",
   "id": "f261b3d9-ba32-4e82-ad11-56b0c5285c05",
   "metadata": {},
   "source": [
    "Посмотрим, получилось ли:"
   ]
  },
  {
   "cell_type": "code",
   "execution_count": 150,
   "id": "22cbe81f-88f1-48ca-8360-80fbab1fa6da",
   "metadata": {
    "tags": []
   },
   "outputs": [
    {
     "data": {
      "text/plain": [
       "array([-7.99836344e-05, -1.50046463e-03, -4.35551920e-04, -1.50737166e-03,\n",
       "        1.87101890e-04, -6.84491824e-04, -1.10338395e-03,  2.63537018e-04,\n",
       "        9.67469008e-04,  8.15248408e-04, -4.59374889e-04,  1.31592283e-03,\n",
       "        2.90577824e-04,  5.82164037e-04, -1.85195502e-04, -3.72505398e-04,\n",
       "       -9.81115038e-04, -8.18226545e-04,  8.66354312e-05,  3.16900783e-04,\n",
       "        1.21780892e-03, -1.17878360e-03, -4.52461682e-05, -2.16449465e-04,\n",
       "        2.96607963e-04, -2.84905545e-04, -4.40094824e-04, -6.48278743e-04,\n",
       "       -2.86327646e-04,  1.69932446e-03,  4.80593997e-04, -1.15398632e-03,\n",
       "        8.43726564e-04, -1.05837127e-03,  4.97588073e-04,  4.34242276e-04,\n",
       "        2.84139242e-04, -5.80462860e-04, -1.16366755e-04, -1.56020408e-03,\n",
       "       -2.40851557e-04, -7.77751848e-04, -7.10505934e-04,  2.73809914e-04,\n",
       "        5.04683412e-04, -1.38456665e-03,  1.26650848e-03,  9.75667150e-04,\n",
       "       -6.85438747e-04,  1.60656040e-04, -1.13937957e-03,  3.06473696e-04,\n",
       "       -4.63332981e-07, -1.49971253e-04, -8.05234944e-04,  3.46102024e-04,\n",
       "        1.11595995e-03, -2.51377671e-04, -7.13018118e-04,  3.68906592e-04,\n",
       "       -3.02843779e-04, -9.41802224e-04,  4.62422671e-04,  3.95166629e-04,\n",
       "        4.71366366e-04, -9.85617284e-04,  4.50683176e-04,  8.18605360e-04,\n",
       "       -1.14361208e-03,  1.92249520e-03, -1.18975260e-03,  5.86495386e-04,\n",
       "       -6.60824822e-04, -4.08840060e-05, -1.22998038e-03,  6.06497561e-05,\n",
       "       -7.66995596e-04,  1.26027770e-03,  7.59072427e-04, -7.02368387e-04,\n",
       "        1.90730393e-03, -6.51628885e-04,  1.74207351e-04,  8.62324785e-04,\n",
       "        1.49135373e-03,  1.30866378e-04, -1.89611965e-04,  1.00040314e-04,\n",
       "        8.56724975e-04, -8.52043508e-04, -2.14737281e-03,  3.51808558e-04,\n",
       "        1.68105052e-03, -2.91637582e-04, -2.72267906e-04, -1.20689697e-03,\n",
       "        2.27135111e-04, -4.44117351e-04,  7.65541627e-04,  8.07402175e-05],\n",
       "      dtype=float32)"
      ]
     },
     "execution_count": 150,
     "metadata": {},
     "output_type": "execute_result"
    }
   ],
   "source": [
    "our_data['flat_emb'][0]"
   ]
  },
  {
   "cell_type": "markdown",
   "id": "65dc72ad-ebf2-4366-a5c9-224099b63334",
   "metadata": {},
   "source": [
    "Действительно, получился вектор из $\\mathbb{R}^{100}$, где $i$-я координата — среднее эмбеддингов входящих в $i$-ю триграмму слов."
   ]
  },
  {
   "cell_type": "markdown",
   "id": "fe178893-df17-43de-a8af-79dcacd897a9",
   "metadata": {},
   "source": [
    "Уберем пропуски и запишем в `X` наши векторы:"
   ]
  },
  {
   "cell_type": "code",
   "execution_count": 213,
   "id": "008f557e-c283-472f-b483-af3ee8a7e762",
   "metadata": {},
   "outputs": [
    {
     "data": {
      "text/plain": [
       "array([[-7.9983634e-05, -1.5004646e-03, -4.3555192e-04, ...,\n",
       "        -4.4411735e-04,  7.6554163e-04,  8.0740218e-05],\n",
       "       [ 6.5256917e-04, -1.3126576e-03, -7.2877301e-05, ...,\n",
       "        -2.4316886e-04, -3.1289060e-03,  1.4584048e-03],\n",
       "       [-1.3510333e-04,  8.5367518e-04,  2.2937981e-03, ...,\n",
       "        -2.7531173e-04, -3.1162152e-04, -4.3715845e-04],\n",
       "       ...,\n",
       "       [ 2.5283226e-03,  2.1679702e-03,  4.1107135e-03, ...,\n",
       "         2.6390133e-03, -1.6444033e-03, -3.4496421e-05],\n",
       "       [-5.3622725e-04,  2.3643016e-04,  5.1033497e-03, ...,\n",
       "        -7.0415614e-03,  9.0145587e-04,  6.3925339e-03],\n",
       "       [-5.3622725e-04,  2.3643016e-04,  5.1033497e-03, ...,\n",
       "        -7.0415614e-03,  9.0145587e-04,  6.3925339e-03]], dtype=float32)"
      ]
     },
     "execution_count": 213,
     "metadata": {},
     "output_type": "execute_result"
    }
   ],
   "source": [
    "our_data['flat_emb'].dropna()\n",
    "X = list(our_data['flat_emb'].dropna())\n",
    "X = np.asarray(X)\n",
    "X"
   ]
  },
  {
   "cell_type": "markdown",
   "id": "70dcbf31-e49c-4c24-98c9-29ce421748ea",
   "metadata": {},
   "source": [
    "Осталось проверить, правда ли имеющие близкое к 0 [cosine distance](https://medium.com/geekculture/cosine-similarity-and-cosine-distance-48eed889a5c4) векторы похожи, а близкое к 1 — различны."
   ]
  },
  {
   "cell_type": "markdown",
   "id": "e5644119-4528-4e8e-af57-6691547a977e",
   "metadata": {},
   "source": [
    "Пример ортогональных векторов:"
   ]
  },
  {
   "cell_type": "code",
   "execution_count": 82,
   "id": "f3b4a56b-361e-4439-bdb7-bb805d0d2689",
   "metadata": {},
   "outputs": [
    {
     "data": {
      "text/plain": [
       "'Уверенный пользователь ПК, Ms Word, Ms Excel, 1С, Power Point, Internet Explorer, amoCRM, Bitrix24 и офисной техники; Правовых систем Гарант и Консультант +; Знание законодательства; Работа с входящей и исходящей корреспонденцией, Этика делового общения, общения с клиентами; Навыки работы по взаимодействию с государственными органами и общественными организациями; Неоднократное участие в судебных заседаниях; Анализ данных, составление договоров, запросов, отзывов, заявлений, уведомлений.'"
      ]
     },
     "execution_count": 82,
     "metadata": {},
     "output_type": "execute_result"
    }
   ],
   "source": [
    "df['О себе, summarized'][0]"
   ]
  },
  {
   "cell_type": "code",
   "execution_count": 83,
   "id": "bc0f35b8-9ce8-4aed-924a-931804a4649c",
   "metadata": {},
   "outputs": [
    {
     "data": {
      "text/plain": [
       "'В настоящее время занимаюсь благотворительной деятельностью. В свободное время занимаюсь бегом, плаванием, рисую в стиле фантази (карандаш), много путешествую, интересуюсь различиями культур и обычаями народов мира.'"
      ]
     },
     "execution_count": 83,
     "metadata": {},
     "output_type": "execute_result"
    }
   ],
   "source": [
    "df['О себе, summarized'][1]"
   ]
  },
  {
   "cell_type": "code",
   "execution_count": 119,
   "id": "6f41d732-89f2-4e0b-9992-dc378cc7c82a",
   "metadata": {},
   "outputs": [
    {
     "data": {
      "text/plain": [
       "0.9508250653743744"
      ]
     },
     "execution_count": 119,
     "metadata": {},
     "output_type": "execute_result"
    }
   ],
   "source": [
    "distance.cosine(X[0], X[1])"
   ]
  },
  {
   "cell_type": "markdown",
   "id": "af4edc21-2cba-4e67-9f55-b23618364a8f",
   "metadata": {},
   "source": [
    "Действительно, мы вижим, что резбме различны."
   ]
  },
  {
   "cell_type": "markdown",
   "id": "d78b79f1-76e8-4006-8e44-2676a7b895a3",
   "metadata": {},
   "source": [
    "Пример коллинеарных:"
   ]
  },
  {
   "cell_type": "code",
   "execution_count": 87,
   "id": "4118ce79-3a2b-411b-9456-792e03e3eb0d",
   "metadata": {},
   "outputs": [
    {
     "data": {
      "text/plain": [
       "'Нахожусь в отпуске по уходу за ребенком. На данный момент у меня нет официального места работы.'"
      ]
     },
     "execution_count": 87,
     "metadata": {},
     "output_type": "execute_result"
    }
   ],
   "source": [
    "df['О себе, summarized'][14]"
   ]
  },
  {
   "cell_type": "code",
   "execution_count": 88,
   "id": "0c371739-5b2e-4ebe-ac34-d38d2467c8e1",
   "metadata": {},
   "outputs": [
    {
     "data": {
      "text/plain": [
       "'Нахожусь в отпуске по уходу за ребенком. На данный момент у меня нет вакантных должностей.'"
      ]
     },
     "execution_count": 88,
     "metadata": {},
     "output_type": "execute_result"
    }
   ],
   "source": [
    "df['О себе, summarized'][84]"
   ]
  },
  {
   "cell_type": "code",
   "execution_count": 118,
   "id": "c1e593a2-1c5e-4669-b235-19f8483fab23",
   "metadata": {},
   "outputs": [
    {
     "data": {
      "text/plain": [
       "0.30464255809783936"
      ]
     },
     "execution_count": 118,
     "metadata": {},
     "output_type": "execute_result"
    }
   ],
   "source": [
    "distance.cosine(X[14], X[84])"
   ]
  },
  {
   "cell_type": "markdown",
   "id": "42118426-b2f1-431a-9200-b613a5d66690",
   "metadata": {},
   "source": [
    "Видно, что резюме похожи. "
   ]
  },
  {
   "cell_type": "markdown",
   "id": "e3075ffb-7385-495b-a8e1-357f619780f2",
   "metadata": {},
   "source": [
    "Осталось записать эти векторы в 100 столбцов нашей таблицы:"
   ]
  },
  {
   "cell_type": "code",
   "execution_count": 234,
   "id": "943c8c17-d738-4b91-b6be-dc08c367f997",
   "metadata": {
    "tags": []
   },
   "outputs": [],
   "source": [
    "for col in list(pd.DataFrame(X)):\n",
    "    df[str(col)] = pd.DataFrame(X)[col]"
   ]
  },
  {
   "cell_type": "code",
   "execution_count": 237,
   "id": "9da1f8d3-ee63-43a9-8924-8714d799c4c8",
   "metadata": {},
   "outputs": [
    {
     "data": {
      "text/html": [
       "<div>\n",
       "<style scoped>\n",
       "    .dataframe tbody tr th:only-of-type {\n",
       "        vertical-align: middle;\n",
       "    }\n",
       "\n",
       "    .dataframe tbody tr th {\n",
       "        vertical-align: top;\n",
       "    }\n",
       "\n",
       "    .dataframe thead th {\n",
       "        text-align: right;\n",
       "    }\n",
       "</style>\n",
       "<table border=\"1\" class=\"dataframe\">\n",
       "  <thead>\n",
       "    <tr style=\"text-align: right;\">\n",
       "      <th></th>\n",
       "      <th>Ссылка</th>\n",
       "      <th>Название</th>\n",
       "      <th>Коммандировка</th>\n",
       "      <th>Опыт</th>\n",
       "      <th>О себе</th>\n",
       "      <th>Образование</th>\n",
       "      <th>Интересы</th>\n",
       "      <th>Навыки</th>\n",
       "      <th>Образование-1</th>\n",
       "      <th>Образование-2</th>\n",
       "      <th>...</th>\n",
       "      <th>90</th>\n",
       "      <th>91</th>\n",
       "      <th>92</th>\n",
       "      <th>93</th>\n",
       "      <th>94</th>\n",
       "      <th>95</th>\n",
       "      <th>96</th>\n",
       "      <th>97</th>\n",
       "      <th>98</th>\n",
       "      <th>99</th>\n",
       "    </tr>\n",
       "  </thead>\n",
       "  <tbody>\n",
       "    <tr>\n",
       "      <th>121</th>\n",
       "      <td>https://hh.ru/resume/043d1db90003ba62800039ed1...</td>\n",
       "      <td>Менеджер / руководитель банка по работе с корп...</td>\n",
       "      <td>Москва, готова к переезду, готова к командировкам</td>\n",
       "      <td>Опыт работы 23 года 4 месяца</td>\n",
       "      <td>Достижения:\\nВ роли клиентского менеджера неод...</td>\n",
       "      <td>Высшее образование\\n2000\\nВоронежский государс...</td>\n",
       "      <td>Специализации:\\nМенеджер/консультант по страте...</td>\n",
       "      <td>Проектное управление\\nРабота в команде\\nОргани...</td>\n",
       "      <td>Воронежский государственный аграрный университ...</td>\n",
       "      <td>Воронежский государственный аграрный университ...</td>\n",
       "      <td>...</td>\n",
       "      <td>0.000286</td>\n",
       "      <td>0.000614</td>\n",
       "      <td>0.001554</td>\n",
       "      <td>-0.002824</td>\n",
       "      <td>0.000827</td>\n",
       "      <td>0.000280</td>\n",
       "      <td>0.001855</td>\n",
       "      <td>-0.001364</td>\n",
       "      <td>-0.001045</td>\n",
       "      <td>-0.001283</td>\n",
       "    </tr>\n",
       "    <tr>\n",
       "      <th>1637</th>\n",
       "      <td>https://hh.ru/resume/14e87dbf0000728a8a0039ed1...</td>\n",
       "      <td>эксперт по бизнес-процессам (управленческий/ин...</td>\n",
       "      <td>Москва, не готов к переезду, не готов к команд...</td>\n",
       "      <td>Опыт работы 19 лет 10 месяцев</td>\n",
       "      <td>Компетенции, навыки, знания, умения:\\n• Владен...</td>\n",
       "      <td>Высшее образование\\n2002\\nМИРЭА\\nавтоматизиров...</td>\n",
       "      <td>Специализации:\\nРуководитель группы разработки...</td>\n",
       "      <td>---</td>\n",
       "      <td>МИРЭА</td>\n",
       "      <td>NaN</td>\n",
       "      <td>...</td>\n",
       "      <td>0.000520</td>\n",
       "      <td>0.001356</td>\n",
       "      <td>-0.001179</td>\n",
       "      <td>-0.000428</td>\n",
       "      <td>-0.000851</td>\n",
       "      <td>-0.000229</td>\n",
       "      <td>0.003184</td>\n",
       "      <td>0.001581</td>\n",
       "      <td>0.000368</td>\n",
       "      <td>-0.000344</td>\n",
       "    </tr>\n",
       "  </tbody>\n",
       "</table>\n",
       "<p>2 rows × 137 columns</p>\n",
       "</div>"
      ],
      "text/plain": [
       "                                                 Ссылка  \\\n",
       "121   https://hh.ru/resume/043d1db90003ba62800039ed1...   \n",
       "1637  https://hh.ru/resume/14e87dbf0000728a8a0039ed1...   \n",
       "\n",
       "                                               Название  \\\n",
       "121   Менеджер / руководитель банка по работе с корп...   \n",
       "1637  эксперт по бизнес-процессам (управленческий/ин...   \n",
       "\n",
       "                                          Коммандировка  \\\n",
       "121   Москва, готова к переезду, готова к командировкам   \n",
       "1637  Москва, не готов к переезду, не готов к команд...   \n",
       "\n",
       "                               Опыт  \\\n",
       "121    Опыт работы 23 года 4 месяца   \n",
       "1637  Опыт работы 19 лет 10 месяцев   \n",
       "\n",
       "                                                 О себе  \\\n",
       "121   Достижения:\\nВ роли клиентского менеджера неод...   \n",
       "1637  Компетенции, навыки, знания, умения:\\n• Владен...   \n",
       "\n",
       "                                            Образование  \\\n",
       "121   Высшее образование\\n2000\\nВоронежский государс...   \n",
       "1637  Высшее образование\\n2002\\nМИРЭА\\nавтоматизиров...   \n",
       "\n",
       "                                               Интересы  \\\n",
       "121   Специализации:\\nМенеджер/консультант по страте...   \n",
       "1637  Специализации:\\nРуководитель группы разработки...   \n",
       "\n",
       "                                                 Навыки  \\\n",
       "121   Проектное управление\\nРабота в команде\\nОргани...   \n",
       "1637                                                ---   \n",
       "\n",
       "                                          Образование-1  \\\n",
       "121   Воронежский государственный аграрный университ...   \n",
       "1637                                              МИРЭА   \n",
       "\n",
       "                                          Образование-2  ...        90  \\\n",
       "121   Воронежский государственный аграрный университ...  ...  0.000286   \n",
       "1637                                                NaN  ...  0.000520   \n",
       "\n",
       "            91        92        93        94        95        96        97  \\\n",
       "121   0.000614  0.001554 -0.002824  0.000827  0.000280  0.001855 -0.001364   \n",
       "1637  0.001356 -0.001179 -0.000428 -0.000851 -0.000229  0.003184  0.001581   \n",
       "\n",
       "            98        99  \n",
       "121  -0.001045 -0.001283  \n",
       "1637  0.000368 -0.000344  \n",
       "\n",
       "[2 rows x 137 columns]"
      ]
     },
     "execution_count": 237,
     "metadata": {},
     "output_type": "execute_result"
    }
   ],
   "source": [
    "df.sample(2)"
   ]
  },
  {
   "cell_type": "markdown",
   "id": "2db75fdf-2093-45a5-9f7d-eb98f02d9f1d",
   "metadata": {},
   "source": [
    "Сохраним то, что получилось:"
   ]
  },
  {
   "cell_type": "code",
   "execution_count": null,
   "id": "7c725198-aaec-4536-8b42-3ceb565cd6ca",
   "metadata": {},
   "outputs": [],
   "source": [
    "df.to_csv('resumes_features.csv')"
   ]
  },
  {
   "cell_type": "markdown",
   "id": "cddb7f94-1bc9-4590-99c0-c88616fd899e",
   "metadata": {},
   "source": [
    "**Трансформация признаков**"
   ]
  },
  {
   "cell_type": "markdown",
   "id": "e3a0cdd5-7b90-40a6-b575-4577499128d2",
   "metadata": {},
   "source": [
    "Мы будем обучаться не на всех признаках, а только на специально отобранных. А именно:\n",
    "- Кол-во образований\n",
    "- Опыт нормализованный\n",
    "- Топовость образования\n",
    "- Справочник по интересам\n",
    "- Релокация?\n",
    "- Коммандировка?\n",
    "- Город?\n",
    "- Уровень оборазования нормализованный\n",
    "- Карьерный рост\n",
    "- Аналитические комбинации слов в навыках\n",
    "- 100 word2vec-векторов входящих в \"О себе\" триграмм"
   ]
  },
  {
   "cell_type": "markdown",
   "id": "71a11fb3-3baa-4281-b920-6d40a27cf249",
   "metadata": {},
   "source": [
    "Обработаем числовые признаки:"
   ]
  },
  {
   "cell_type": "code",
   "execution_count": 58,
   "id": "8b405f8a-aeb7-4b7c-9146-28cf1bc8725a",
   "metadata": {},
   "outputs": [],
   "source": [
    "txts = []\n",
    "for i in range(df.shape[0]):\n",
    "    txt = df.loc[i, 'Опыт нормализованный']\n",
    "    # print(txt)\n",
    "    if re.search('[а-яА-Я]', txt):\n",
    "        txt = -1\n",
    "    elif txt[-1] == ';':\n",
    "        txt = int(txt[:txt.find(';')])\n",
    "    else:\n",
    "        txt = int(txt[:txt.find(';')]) + int(txt[txt.find(';')+1:]) / 12\n",
    "    txts.append(txt)\n",
    "df.loc[:, 'Опыт нормализованный'] = txts"
   ]
  },
  {
   "cell_type": "markdown",
   "id": "1244892c-ba82-4a35-ae4d-95ef383aade1",
   "metadata": {},
   "source": [
    "Обработаем категориальные (нам подойдет именно `LabelEncoder`, так как, к примеру, высшее образование лучше среднего, наличие аналитических комбинаций лучше отсутствия, проживание в Москве предпочтительнее для компании, чем необходимость релокации в Москву):"
   ]
  },
  {
   "cell_type": "code",
   "execution_count": 70,
   "id": "b6f5f733-37a4-4ee6-b800-da08e150a605",
   "metadata": {
    "collapsed": true,
    "jupyter": {
     "outputs_hidden": true
    },
    "tags": []
   },
   "outputs": [
    {
     "name": "stdout",
     "output_type": "stream",
     "text": [
      "Топовость образования : {False: 0, True: 1}\n",
      "Справочник по интересам : {'---': 0, 'found smt by rule (Analyst)|(Аналитик данных)|(аналитик)|(Аналитик)': 1}\n",
      "Релокация? : {' готов к командировкам': 0, ' готов к редким командировкам': 1, ' готова к командировкам': 2, ' готова к редким командировкам': 3, ' не готов к командировкам': 4, ' не готова к командировкам': 5}\n",
      "Коммандировка? : {' готов к переезду': 0, ' готова к переезду': 1, ' не готов к переезду': 2, ' не готова к переезду': 3}\n",
      "Город? : {'Альметьевск': 0, 'Армавир': 1, 'Астрахань': 2, 'Ахтубинск': 3, 'Балаково': 4, 'Балашиха': 5, 'Белгород': 6, 'Брянск': 7, 'Валуйки': 8, 'Владивосток': 9, 'Владимир': 10, 'Волгоград': 11, 'Воронеж': 12, 'Выкса': 13, 'Гатчина': 14, 'Долгопрудный': 15, 'Домодедово': 16, 'Донецк': 17, 'Егорьевск': 18, 'Екатеринбург': 19, 'Ессентуки': 20, 'Железнодорожный': 21, 'Зеленоград': 22, 'Иркутск': 23, 'Казань': 24, 'Калининград': 25, 'Калуга': 26, 'Кемерово': 27, 'Коломна': 28, 'Королев': 29, 'Кострома': 30, 'Котельники': 31, 'Краснодар': 32, 'Красноярск': 33, 'Кстово': 34, 'Курск': 35, 'Ленинградская': 36, 'Липецк': 37, 'Лобня': 38, 'Москва': 39, 'Мытищи': 40, 'Набережные': 41, 'Назрань': 42, 'Нижний': 43, 'Новокузнецк': 44, 'Новороссийск': 45, 'Новосибирск': 46, 'Новочебоксарск': 47, 'Новочеркасск': 48, 'Новый': 49, 'Обнинск': 50, 'Обь': 51, 'Омск': 52, 'Орел': 53, 'Оренбург': 54, 'Орехово': 55, 'Пенза': 56, 'Пермь': 57, 'Петрозаводск': 58, 'Подольск': 59, 'Подпорожье': 60, 'Реутов': 61, 'Россия': 62, 'Ростов': 63, 'Рязань': 64, 'Самара': 65, 'Санкт': 66, 'Саранск': 67, 'Саратов': 68, 'Севастополь': 69, 'Смоленск': 70, 'Сочи': 71, 'Ставрополь': 72, 'Стерлитамак': 73, 'Ступино': 74, 'Сургут': 75, 'Таганрог': 76, 'Тамбов': 77, 'Тверь': 78, 'Тольятти': 79, 'Томск': 80, 'Тула': 81, 'Тюмень': 82, 'Ульяновск': 83, 'Уфа': 84, 'Фрязино': 85, 'Хабаровск': 86, 'Химки': 87, 'Чебоксары': 88, 'Челябинск': 89, 'Череповец': 90, 'Шахты': 91, 'Электросталь': 92, 'Энгельс': 93, 'Якутск': 94, 'Ялта': 95, 'Ярославль': 96}\n",
      "Уровень оборазования нормализованный : {'Бакалавр': 0, 'Высшее образование': 1, 'Доктор наук': 2, 'Кандидат наук': 3, 'Магистр': 4, 'Неоконченное высшее образование': 5, 'Образование': 6, 'Среднее образование': 7, 'Среднее специальное образование': 8}\n",
      "Карьерный рост : {False: 0, True: 1}\n",
      "Аналитические комбинации слов в навыках : {'---': 0, 'found smt by rule (SQL)|(Excel)|(Python)|(Tableau)|(Power BI)': 1}\n"
     ]
    },
    {
     "data": {
      "text/html": [
       "<div>\n",
       "<style scoped>\n",
       "    .dataframe tbody tr th:only-of-type {\n",
       "        vertical-align: middle;\n",
       "    }\n",
       "\n",
       "    .dataframe tbody tr th {\n",
       "        vertical-align: top;\n",
       "    }\n",
       "\n",
       "    .dataframe thead th {\n",
       "        text-align: right;\n",
       "    }\n",
       "</style>\n",
       "<table border=\"1\" class=\"dataframe\">\n",
       "  <thead>\n",
       "    <tr style=\"text-align: right;\">\n",
       "      <th></th>\n",
       "      <th>Ссылка</th>\n",
       "      <th>Название</th>\n",
       "      <th>Коммандировка</th>\n",
       "      <th>Опыт</th>\n",
       "      <th>О себе</th>\n",
       "      <th>Образование</th>\n",
       "      <th>Интересы</th>\n",
       "      <th>Навыки</th>\n",
       "      <th>Образование-1</th>\n",
       "      <th>Образование-2</th>\n",
       "      <th>...</th>\n",
       "      <th>91</th>\n",
       "      <th>92</th>\n",
       "      <th>93</th>\n",
       "      <th>94</th>\n",
       "      <th>95</th>\n",
       "      <th>96</th>\n",
       "      <th>97</th>\n",
       "      <th>98</th>\n",
       "      <th>99</th>\n",
       "      <th>clust</th>\n",
       "    </tr>\n",
       "  </thead>\n",
       "  <tbody>\n",
       "    <tr>\n",
       "      <th>0</th>\n",
       "      <td>https://hh.ru/resume/a179dc8e00074bc7400039ed1...</td>\n",
       "      <td>Администратор салона красоты</td>\n",
       "      <td>Москва, м. Молодежная, не готова к переезду, г...</td>\n",
       "      <td>Опыт работы 7 лет 1 месяц</td>\n",
       "      <td>Уверенный пользователь ПК, Ms Word, Ms Excel, ...</td>\n",
       "      <td>Высшее образование\\n2015\\nФГБУ ВПО «Российский...</td>\n",
       "      <td>Специализации:\\nАдминистратор\\nЗанятость: полн...</td>\n",
       "      <td>Коммуникации с клиентами и партнерами/Работа с...</td>\n",
       "      <td>ФГБУ ВПО «Российский экономический университет...</td>\n",
       "      <td>ФГБУ ВПО «Саратовская Государственная Юридичес...</td>\n",
       "      <td>...</td>\n",
       "      <td>0.000352</td>\n",
       "      <td>0.001681</td>\n",
       "      <td>-0.000292</td>\n",
       "      <td>-0.000272</td>\n",
       "      <td>-1.206897e-03</td>\n",
       "      <td>0.000227</td>\n",
       "      <td>-0.000444</td>\n",
       "      <td>0.000766</td>\n",
       "      <td>0.000081</td>\n",
       "      <td>0</td>\n",
       "    </tr>\n",
       "    <tr>\n",
       "      <th>1</th>\n",
       "      <td>https://hh.ru/resume/cdaf5cfe00003bcc320039ed1...</td>\n",
       "      <td>Руководитель отдела планирования и управления ...</td>\n",
       "      <td>Москва, м. Выхино, готова к переезду, готова к...</td>\n",
       "      <td>Опыт работы 17 лет 3 месяца</td>\n",
       "      <td>Энергична, активна, в поиске новых возможносте...</td>\n",
       "      <td>Высшее образование\\n2010\\nМосковский Государст...</td>\n",
       "      <td>Специализации:\\nНачальник склада\\nЗанятость: п...</td>\n",
       "      <td>---</td>\n",
       "      <td>Московский Государственный Университет Экономи...</td>\n",
       "      <td>NaN</td>\n",
       "      <td>...</td>\n",
       "      <td>-0.000102</td>\n",
       "      <td>0.000081</td>\n",
       "      <td>0.000894</td>\n",
       "      <td>-0.002202</td>\n",
       "      <td>1.397842e-03</td>\n",
       "      <td>-0.001827</td>\n",
       "      <td>-0.000243</td>\n",
       "      <td>-0.003129</td>\n",
       "      <td>0.001458</td>\n",
       "      <td>0</td>\n",
       "    </tr>\n",
       "    <tr>\n",
       "      <th>2</th>\n",
       "      <td>https://hh.ru/resume/fb6ac9c200027770d60039ed1...</td>\n",
       "      <td>Начальник отдела продаж</td>\n",
       "      <td>Шахты, готова к переезду (Москва, Санкт-Петерб...</td>\n",
       "      <td>Опыт работы 18 лет 4 месяца</td>\n",
       "      <td>опыт прямых продаж, ведение коммерческих перег...</td>\n",
       "      <td>Высшее образование\\n2001\\nЮжно-Российский госу...</td>\n",
       "      <td>Специализации:\\nРуководитель отдела продаж\\nЗа...</td>\n",
       "      <td>---</td>\n",
       "      <td>Южно-Российский государственный университет эк...</td>\n",
       "      <td>NaN</td>\n",
       "      <td>...</td>\n",
       "      <td>-0.000671</td>\n",
       "      <td>-0.000236</td>\n",
       "      <td>0.000330</td>\n",
       "      <td>0.001575</td>\n",
       "      <td>2.981558e-04</td>\n",
       "      <td>0.002110</td>\n",
       "      <td>-0.000275</td>\n",
       "      <td>-0.000312</td>\n",
       "      <td>-0.000437</td>\n",
       "      <td>0</td>\n",
       "    </tr>\n",
       "    <tr>\n",
       "      <th>3</th>\n",
       "      <td>https://hh.ru/resume/e23c95770000b1b95f0039ed1...</td>\n",
       "      <td>Коммерческий директор, Финансовый директор</td>\n",
       "      <td>Москва, м. Бабушкинская, готов к переезду, гот...</td>\n",
       "      <td>Опыт работы 17 лет 5 месяцев</td>\n",
       "      <td>Коммуникабелен\\nУмение работать с возражениями...</td>\n",
       "      <td>Высшее образование\\n2006\\nБрянский государстве...</td>\n",
       "      <td>Специализации:\\nКоммерческий директор (CCO)\\nФ...</td>\n",
       "      <td>---</td>\n",
       "      <td>Брянский государственный технический университет</td>\n",
       "      <td>Брянский государственный технический университет</td>\n",
       "      <td>...</td>\n",
       "      <td>0.002909</td>\n",
       "      <td>0.000544</td>\n",
       "      <td>0.001400</td>\n",
       "      <td>0.002620</td>\n",
       "      <td>6.619219e-04</td>\n",
       "      <td>0.001653</td>\n",
       "      <td>-0.000912</td>\n",
       "      <td>-0.000753</td>\n",
       "      <td>0.000754</td>\n",
       "      <td>0</td>\n",
       "    </tr>\n",
       "    <tr>\n",
       "      <th>4</th>\n",
       "      <td>https://hh.ru/resume/9c86655b00073d88700039ed1...</td>\n",
       "      <td>QA/auto QA/Performance QA</td>\n",
       "      <td>Краснодар, готов к переезду (Москва, Санкт-Пет...</td>\n",
       "      <td>Опыт работы 7 лет 10 месяцев</td>\n",
       "      <td>Дисциплина - умение выполнять поставленные зад...</td>\n",
       "      <td>Среднее специальное образование\\n2009\\nКраснод...</td>\n",
       "      <td>Специализации:\\nТестировщик\\nЗанятость: стажир...</td>\n",
       "      <td>---</td>\n",
       "      <td>Краснодарский Государственный Гуманитарно Техн...</td>\n",
       "      <td>NaN</td>\n",
       "      <td>...</td>\n",
       "      <td>-0.000626</td>\n",
       "      <td>0.002497</td>\n",
       "      <td>-0.002705</td>\n",
       "      <td>0.000145</td>\n",
       "      <td>-1.641789e-07</td>\n",
       "      <td>0.005385</td>\n",
       "      <td>0.000633</td>\n",
       "      <td>-0.000351</td>\n",
       "      <td>-0.003165</td>\n",
       "      <td>0</td>\n",
       "    </tr>\n",
       "    <tr>\n",
       "      <th>...</th>\n",
       "      <td>...</td>\n",
       "      <td>...</td>\n",
       "      <td>...</td>\n",
       "      <td>...</td>\n",
       "      <td>...</td>\n",
       "      <td>...</td>\n",
       "      <td>...</td>\n",
       "      <td>...</td>\n",
       "      <td>...</td>\n",
       "      <td>...</td>\n",
       "      <td>...</td>\n",
       "      <td>...</td>\n",
       "      <td>...</td>\n",
       "      <td>...</td>\n",
       "      <td>...</td>\n",
       "      <td>...</td>\n",
       "      <td>...</td>\n",
       "      <td>...</td>\n",
       "      <td>...</td>\n",
       "      <td>...</td>\n",
       "      <td>...</td>\n",
       "    </tr>\n",
       "    <tr>\n",
       "      <th>2720</th>\n",
       "      <td>https://hh.ru/resume/b74645f3000102b1b90039ed1...</td>\n",
       "      <td>Финансовый аналитик</td>\n",
       "      <td>Москва, м. Крылатское, не готова к переезду, н...</td>\n",
       "      <td>Опыт работы 8 лет 11 месяцев</td>\n",
       "      <td>Уверенный пользователь ПК: MS Office (Word, Ex...</td>\n",
       "      <td>Высшее образование\\n2009\\nЧувашский государств...</td>\n",
       "      <td>Специализации:\\nФинансовый аналитик, инвестици...</td>\n",
       "      <td>---</td>\n",
       "      <td>Чувашский государственный университет имени И....</td>\n",
       "      <td>NaN</td>\n",
       "      <td>...</td>\n",
       "      <td>0.000045</td>\n",
       "      <td>-0.002575</td>\n",
       "      <td>0.001634</td>\n",
       "      <td>-0.003021</td>\n",
       "      <td>-5.501702e-03</td>\n",
       "      <td>0.002582</td>\n",
       "      <td>-0.000392</td>\n",
       "      <td>0.005978</td>\n",
       "      <td>-0.003172</td>\n",
       "      <td>0</td>\n",
       "    </tr>\n",
       "    <tr>\n",
       "      <th>2721</th>\n",
       "      <td>https://hh.ru/resume/0ed518390003eb7c860039ed1...</td>\n",
       "      <td>Аналитик</td>\n",
       "      <td>Москва, м. Ховрино, не готов к переезду, готов...</td>\n",
       "      <td>Опыт работы 3 года 4 месяца</td>\n",
       "      <td>Моя потребность в постоянном улучшении себя на...</td>\n",
       "      <td>Неоконченное высшее образование\\n2019\\nЮжный ф...</td>\n",
       "      <td>Специализации:\\nАналитик\\nЗанятость: частичная...</td>\n",
       "      <td>Другое\\nДеловая коммуникация\\nАдминистративное...</td>\n",
       "      <td>Южный федеральный университет, Ростов-на-Дону</td>\n",
       "      <td>NaN</td>\n",
       "      <td>...</td>\n",
       "      <td>0.003901</td>\n",
       "      <td>0.001973</td>\n",
       "      <td>-0.003310</td>\n",
       "      <td>0.011862</td>\n",
       "      <td>2.661309e-03</td>\n",
       "      <td>0.006801</td>\n",
       "      <td>-0.001823</td>\n",
       "      <td>-0.000610</td>\n",
       "      <td>-0.008534</td>\n",
       "      <td>3</td>\n",
       "    </tr>\n",
       "    <tr>\n",
       "      <th>2722</th>\n",
       "      <td>https://hh.ru/resume/16deef470000020e170039ed1...</td>\n",
       "      <td>Finance Controller</td>\n",
       "      <td>Москва, м. Коммунарка, не готова к переезду, г...</td>\n",
       "      <td>Опыт работы 19 лет 1 месяц</td>\n",
       "      <td>.</td>\n",
       "      <td>Высшее образование\\n1999\\nSaratov State Techni...</td>\n",
       "      <td>Специализации:\\nФинансовый контролер\\nФинансов...</td>\n",
       "      <td>---</td>\n",
       "      <td>Saratov State Technical University</td>\n",
       "      <td>NaN</td>\n",
       "      <td>...</td>\n",
       "      <td>0.001383</td>\n",
       "      <td>-0.001468</td>\n",
       "      <td>-0.003124</td>\n",
       "      <td>0.002176</td>\n",
       "      <td>-7.177151e-04</td>\n",
       "      <td>-0.001517</td>\n",
       "      <td>0.002639</td>\n",
       "      <td>-0.001644</td>\n",
       "      <td>-0.000034</td>\n",
       "      <td>0</td>\n",
       "    </tr>\n",
       "    <tr>\n",
       "      <th>2723</th>\n",
       "      <td>https://hh.ru/resume/8aa6cfe400077150980039ed1...</td>\n",
       "      <td>Менеджер проектов</td>\n",
       "      <td>Москва, готов к переезду, готов к командировкам</td>\n",
       "      <td>Опыт работы 12 лет 5 месяцев</td>\n",
       "      <td>---</td>\n",
       "      <td>Высшее образование\\n2013\\nРоссийский университ...</td>\n",
       "      <td>Специализации:\\nРуководитель проектов\\nЗанятос...</td>\n",
       "      <td>Проектное управление\\nВедение переговоров\\nAgi...</td>\n",
       "      <td>Российский университет дружбы народов, Москва</td>\n",
       "      <td>Российский университет дружбы народов, Москва</td>\n",
       "      <td>...</td>\n",
       "      <td>0.000190</td>\n",
       "      <td>0.003474</td>\n",
       "      <td>0.000218</td>\n",
       "      <td>0.009619</td>\n",
       "      <td>5.060604e-03</td>\n",
       "      <td>-0.008917</td>\n",
       "      <td>-0.007042</td>\n",
       "      <td>0.000901</td>\n",
       "      <td>0.006393</td>\n",
       "      <td>2</td>\n",
       "    </tr>\n",
       "    <tr>\n",
       "      <th>2724</th>\n",
       "      <td>https://hh.ru/resume/bdd659720004eeb3930039ed1...</td>\n",
       "      <td>кредитный координатор/экономист</td>\n",
       "      <td>Москва, не готова к переезду, не готова к кома...</td>\n",
       "      <td>Опыт работы 13 лет 7 месяцев</td>\n",
       "      <td>---</td>\n",
       "      <td>Высшее образование\\n1986\\nМосковский Государст...</td>\n",
       "      <td>Специализации:\\nДругое\\nЗанятость: полная заня...</td>\n",
       "      <td>---</td>\n",
       "      <td>Московский Государственный Университет путей с...</td>\n",
       "      <td>NaN</td>\n",
       "      <td>...</td>\n",
       "      <td>0.000190</td>\n",
       "      <td>0.003474</td>\n",
       "      <td>0.000218</td>\n",
       "      <td>0.009619</td>\n",
       "      <td>5.060604e-03</td>\n",
       "      <td>-0.008917</td>\n",
       "      <td>-0.007042</td>\n",
       "      <td>0.000901</td>\n",
       "      <td>0.006393</td>\n",
       "      <td>2</td>\n",
       "    </tr>\n",
       "  </tbody>\n",
       "</table>\n",
       "<p>2725 rows × 138 columns</p>\n",
       "</div>"
      ],
      "text/plain": [
       "                                                 Ссылка  \\\n",
       "0     https://hh.ru/resume/a179dc8e00074bc7400039ed1...   \n",
       "1     https://hh.ru/resume/cdaf5cfe00003bcc320039ed1...   \n",
       "2     https://hh.ru/resume/fb6ac9c200027770d60039ed1...   \n",
       "3     https://hh.ru/resume/e23c95770000b1b95f0039ed1...   \n",
       "4     https://hh.ru/resume/9c86655b00073d88700039ed1...   \n",
       "...                                                 ...   \n",
       "2720  https://hh.ru/resume/b74645f3000102b1b90039ed1...   \n",
       "2721  https://hh.ru/resume/0ed518390003eb7c860039ed1...   \n",
       "2722  https://hh.ru/resume/16deef470000020e170039ed1...   \n",
       "2723  https://hh.ru/resume/8aa6cfe400077150980039ed1...   \n",
       "2724  https://hh.ru/resume/bdd659720004eeb3930039ed1...   \n",
       "\n",
       "                                               Название  \\\n",
       "0                          Администратор салона красоты   \n",
       "1     Руководитель отдела планирования и управления ...   \n",
       "2                               Начальник отдела продаж   \n",
       "3            Коммерческий директор, Финансовый директор   \n",
       "4                             QA/auto QA/Performance QA   \n",
       "...                                                 ...   \n",
       "2720                                Финансовый аналитик   \n",
       "2721                                           Аналитик   \n",
       "2722                                 Finance Controller   \n",
       "2723                                  Менеджер проектов   \n",
       "2724                    кредитный координатор/экономист   \n",
       "\n",
       "                                          Коммандировка  \\\n",
       "0     Москва, м. Молодежная, не готова к переезду, г...   \n",
       "1     Москва, м. Выхино, готова к переезду, готова к...   \n",
       "2     Шахты, готова к переезду (Москва, Санкт-Петерб...   \n",
       "3     Москва, м. Бабушкинская, готов к переезду, гот...   \n",
       "4     Краснодар, готов к переезду (Москва, Санкт-Пет...   \n",
       "...                                                 ...   \n",
       "2720  Москва, м. Крылатское, не готова к переезду, н...   \n",
       "2721  Москва, м. Ховрино, не готов к переезду, готов...   \n",
       "2722  Москва, м. Коммунарка, не готова к переезду, г...   \n",
       "2723    Москва, готов к переезду, готов к командировкам   \n",
       "2724  Москва, не готова к переезду, не готова к кома...   \n",
       "\n",
       "                              Опыт  \\\n",
       "0        Опыт работы 7 лет 1 месяц   \n",
       "1      Опыт работы 17 лет 3 месяца   \n",
       "2      Опыт работы 18 лет 4 месяца   \n",
       "3     Опыт работы 17 лет 5 месяцев   \n",
       "4     Опыт работы 7 лет 10 месяцев   \n",
       "...                            ...   \n",
       "2720  Опыт работы 8 лет 11 месяцев   \n",
       "2721   Опыт работы 3 года 4 месяца   \n",
       "2722    Опыт работы 19 лет 1 месяц   \n",
       "2723  Опыт работы 12 лет 5 месяцев   \n",
       "2724  Опыт работы 13 лет 7 месяцев   \n",
       "\n",
       "                                                 О себе  \\\n",
       "0     Уверенный пользователь ПК, Ms Word, Ms Excel, ...   \n",
       "1     Энергична, активна, в поиске новых возможносте...   \n",
       "2     опыт прямых продаж, ведение коммерческих перег...   \n",
       "3     Коммуникабелен\\nУмение работать с возражениями...   \n",
       "4     Дисциплина - умение выполнять поставленные зад...   \n",
       "...                                                 ...   \n",
       "2720  Уверенный пользователь ПК: MS Office (Word, Ex...   \n",
       "2721  Моя потребность в постоянном улучшении себя на...   \n",
       "2722                                                  .   \n",
       "2723                                                ---   \n",
       "2724                                                ---   \n",
       "\n",
       "                                            Образование  \\\n",
       "0     Высшее образование\\n2015\\nФГБУ ВПО «Российский...   \n",
       "1     Высшее образование\\n2010\\nМосковский Государст...   \n",
       "2     Высшее образование\\n2001\\nЮжно-Российский госу...   \n",
       "3     Высшее образование\\n2006\\nБрянский государстве...   \n",
       "4     Среднее специальное образование\\n2009\\nКраснод...   \n",
       "...                                                 ...   \n",
       "2720  Высшее образование\\n2009\\nЧувашский государств...   \n",
       "2721  Неоконченное высшее образование\\n2019\\nЮжный ф...   \n",
       "2722  Высшее образование\\n1999\\nSaratov State Techni...   \n",
       "2723  Высшее образование\\n2013\\nРоссийский университ...   \n",
       "2724  Высшее образование\\n1986\\nМосковский Государст...   \n",
       "\n",
       "                                               Интересы  \\\n",
       "0     Специализации:\\nАдминистратор\\nЗанятость: полн...   \n",
       "1     Специализации:\\nНачальник склада\\nЗанятость: п...   \n",
       "2     Специализации:\\nРуководитель отдела продаж\\nЗа...   \n",
       "3     Специализации:\\nКоммерческий директор (CCO)\\nФ...   \n",
       "4     Специализации:\\nТестировщик\\nЗанятость: стажир...   \n",
       "...                                                 ...   \n",
       "2720  Специализации:\\nФинансовый аналитик, инвестици...   \n",
       "2721  Специализации:\\nАналитик\\nЗанятость: частичная...   \n",
       "2722  Специализации:\\nФинансовый контролер\\nФинансов...   \n",
       "2723  Специализации:\\nРуководитель проектов\\nЗанятос...   \n",
       "2724  Специализации:\\nДругое\\nЗанятость: полная заня...   \n",
       "\n",
       "                                                 Навыки  \\\n",
       "0     Коммуникации с клиентами и партнерами/Работа с...   \n",
       "1                                                   ---   \n",
       "2                                                   ---   \n",
       "3                                                   ---   \n",
       "4                                                   ---   \n",
       "...                                                 ...   \n",
       "2720                                                ---   \n",
       "2721  Другое\\nДеловая коммуникация\\nАдминистративное...   \n",
       "2722                                                ---   \n",
       "2723  Проектное управление\\nВедение переговоров\\nAgi...   \n",
       "2724                                                ---   \n",
       "\n",
       "                                          Образование-1  \\\n",
       "0     ФГБУ ВПО «Российский экономический университет...   \n",
       "1     Московский Государственный Университет Экономи...   \n",
       "2     Южно-Российский государственный университет эк...   \n",
       "3      Брянский государственный технический университет   \n",
       "4     Краснодарский Государственный Гуманитарно Техн...   \n",
       "...                                                 ...   \n",
       "2720  Чувашский государственный университет имени И....   \n",
       "2721      Южный федеральный университет, Ростов-на-Дону   \n",
       "2722                 Saratov State Technical University   \n",
       "2723      Российский университет дружбы народов, Москва   \n",
       "2724  Московский Государственный Университет путей с...   \n",
       "\n",
       "                                          Образование-2  ...        91  \\\n",
       "0     ФГБУ ВПО «Саратовская Государственная Юридичес...  ...  0.000352   \n",
       "1                                                   NaN  ... -0.000102   \n",
       "2                                                   NaN  ... -0.000671   \n",
       "3      Брянский государственный технический университет  ...  0.002909   \n",
       "4                                                   NaN  ... -0.000626   \n",
       "...                                                 ...  ...       ...   \n",
       "2720                                                NaN  ...  0.000045   \n",
       "2721                                                NaN  ...  0.003901   \n",
       "2722                                                NaN  ...  0.001383   \n",
       "2723      Российский университет дружбы народов, Москва  ...  0.000190   \n",
       "2724                                                NaN  ...  0.000190   \n",
       "\n",
       "            92        93        94            95        96        97  \\\n",
       "0     0.001681 -0.000292 -0.000272 -1.206897e-03  0.000227 -0.000444   \n",
       "1     0.000081  0.000894 -0.002202  1.397842e-03 -0.001827 -0.000243   \n",
       "2    -0.000236  0.000330  0.001575  2.981558e-04  0.002110 -0.000275   \n",
       "3     0.000544  0.001400  0.002620  6.619219e-04  0.001653 -0.000912   \n",
       "4     0.002497 -0.002705  0.000145 -1.641789e-07  0.005385  0.000633   \n",
       "...        ...       ...       ...           ...       ...       ...   \n",
       "2720 -0.002575  0.001634 -0.003021 -5.501702e-03  0.002582 -0.000392   \n",
       "2721  0.001973 -0.003310  0.011862  2.661309e-03  0.006801 -0.001823   \n",
       "2722 -0.001468 -0.003124  0.002176 -7.177151e-04 -0.001517  0.002639   \n",
       "2723  0.003474  0.000218  0.009619  5.060604e-03 -0.008917 -0.007042   \n",
       "2724  0.003474  0.000218  0.009619  5.060604e-03 -0.008917 -0.007042   \n",
       "\n",
       "            98        99  clust  \n",
       "0     0.000766  0.000081      0  \n",
       "1    -0.003129  0.001458      0  \n",
       "2    -0.000312 -0.000437      0  \n",
       "3    -0.000753  0.000754      0  \n",
       "4    -0.000351 -0.003165      0  \n",
       "...        ...       ...    ...  \n",
       "2720  0.005978 -0.003172      0  \n",
       "2721 -0.000610 -0.008534      3  \n",
       "2722 -0.001644 -0.000034      0  \n",
       "2723  0.000901  0.006393      2  \n",
       "2724  0.000901  0.006393      2  \n",
       "\n",
       "[2725 rows x 138 columns]"
      ]
     },
     "execution_count": 70,
     "metadata": {},
     "output_type": "execute_result"
    }
   ],
   "source": [
    "categorial = ['Топовость образования', 'Справочник по интересам', 'Релокация?', 'Коммандировка?', 'Город?', 'Уровень оборазования нормализованный', 'Карьерный рост', 'Аналитические комбинации слов в навыках']\n",
    "le = LabelEncoder()\n",
    "for col in categorial:\n",
    "    df[col] = le.fit_transform(df[col])\n",
    "    le_name_mapping = dict(zip(le.classes_, le.transform(le.classes_)))\n",
    "    print(col, \":\", le_name_mapping)\n",
    "df"
   ]
  },
  {
   "cell_type": "markdown",
   "id": "79d596d8-0ed9-403a-9553-5794c387fd2a",
   "metadata": {},
   "source": [
    "Вот как теперь выглядит наша таблица:"
   ]
  },
  {
   "cell_type": "code",
   "execution_count": 75,
   "id": "7a9b602f-144b-4817-b7cb-886893c6066c",
   "metadata": {},
   "outputs": [
    {
     "data": {
      "text/html": [
       "<div>\n",
       "<style scoped>\n",
       "    .dataframe tbody tr th:only-of-type {\n",
       "        vertical-align: middle;\n",
       "    }\n",
       "\n",
       "    .dataframe tbody tr th {\n",
       "        vertical-align: top;\n",
       "    }\n",
       "\n",
       "    .dataframe thead th {\n",
       "        text-align: right;\n",
       "    }\n",
       "</style>\n",
       "<table border=\"1\" class=\"dataframe\">\n",
       "  <thead>\n",
       "    <tr style=\"text-align: right;\">\n",
       "      <th></th>\n",
       "      <th>Кол-во образований</th>\n",
       "      <th>Опыт нормализованный</th>\n",
       "      <th>Топовость образования</th>\n",
       "      <th>Справочник по интересам</th>\n",
       "      <th>Релокация?</th>\n",
       "      <th>Коммандировка?</th>\n",
       "      <th>Город?</th>\n",
       "      <th>Уровень оборазования нормализованный</th>\n",
       "      <th>Карьерный рост</th>\n",
       "      <th>Аналитические комбинации слов в навыках</th>\n",
       "      <th>...</th>\n",
       "      <th>91</th>\n",
       "      <th>92</th>\n",
       "      <th>93</th>\n",
       "      <th>94</th>\n",
       "      <th>95</th>\n",
       "      <th>96</th>\n",
       "      <th>97</th>\n",
       "      <th>98</th>\n",
       "      <th>99</th>\n",
       "      <th>clust</th>\n",
       "    </tr>\n",
       "  </thead>\n",
       "  <tbody>\n",
       "    <tr>\n",
       "      <th>0</th>\n",
       "      <td>2</td>\n",
       "      <td>7.083333</td>\n",
       "      <td>0</td>\n",
       "      <td>0</td>\n",
       "      <td>3</td>\n",
       "      <td>3</td>\n",
       "      <td>39</td>\n",
       "      <td>1</td>\n",
       "      <td>0</td>\n",
       "      <td>1</td>\n",
       "      <td>...</td>\n",
       "      <td>0.000352</td>\n",
       "      <td>0.001681</td>\n",
       "      <td>-0.000292</td>\n",
       "      <td>-0.000272</td>\n",
       "      <td>-1.206897e-03</td>\n",
       "      <td>0.000227</td>\n",
       "      <td>-0.000444</td>\n",
       "      <td>0.000766</td>\n",
       "      <td>0.000081</td>\n",
       "      <td>0</td>\n",
       "    </tr>\n",
       "    <tr>\n",
       "      <th>1</th>\n",
       "      <td>1</td>\n",
       "      <td>17.250000</td>\n",
       "      <td>0</td>\n",
       "      <td>0</td>\n",
       "      <td>2</td>\n",
       "      <td>1</td>\n",
       "      <td>39</td>\n",
       "      <td>1</td>\n",
       "      <td>0</td>\n",
       "      <td>0</td>\n",
       "      <td>...</td>\n",
       "      <td>-0.000102</td>\n",
       "      <td>0.000081</td>\n",
       "      <td>0.000894</td>\n",
       "      <td>-0.002202</td>\n",
       "      <td>1.397842e-03</td>\n",
       "      <td>-0.001827</td>\n",
       "      <td>-0.000243</td>\n",
       "      <td>-0.003129</td>\n",
       "      <td>0.001458</td>\n",
       "      <td>0</td>\n",
       "    </tr>\n",
       "    <tr>\n",
       "      <th>2</th>\n",
       "      <td>1</td>\n",
       "      <td>18.333333</td>\n",
       "      <td>0</td>\n",
       "      <td>0</td>\n",
       "      <td>2</td>\n",
       "      <td>1</td>\n",
       "      <td>91</td>\n",
       "      <td>1</td>\n",
       "      <td>0</td>\n",
       "      <td>0</td>\n",
       "      <td>...</td>\n",
       "      <td>-0.000671</td>\n",
       "      <td>-0.000236</td>\n",
       "      <td>0.000330</td>\n",
       "      <td>0.001575</td>\n",
       "      <td>2.981558e-04</td>\n",
       "      <td>0.002110</td>\n",
       "      <td>-0.000275</td>\n",
       "      <td>-0.000312</td>\n",
       "      <td>-0.000437</td>\n",
       "      <td>0</td>\n",
       "    </tr>\n",
       "    <tr>\n",
       "      <th>3</th>\n",
       "      <td>2</td>\n",
       "      <td>17.416667</td>\n",
       "      <td>0</td>\n",
       "      <td>0</td>\n",
       "      <td>0</td>\n",
       "      <td>0</td>\n",
       "      <td>39</td>\n",
       "      <td>1</td>\n",
       "      <td>1</td>\n",
       "      <td>0</td>\n",
       "      <td>...</td>\n",
       "      <td>0.002909</td>\n",
       "      <td>0.000544</td>\n",
       "      <td>0.001400</td>\n",
       "      <td>0.002620</td>\n",
       "      <td>6.619219e-04</td>\n",
       "      <td>0.001653</td>\n",
       "      <td>-0.000912</td>\n",
       "      <td>-0.000753</td>\n",
       "      <td>0.000754</td>\n",
       "      <td>0</td>\n",
       "    </tr>\n",
       "    <tr>\n",
       "      <th>4</th>\n",
       "      <td>1</td>\n",
       "      <td>7.833333</td>\n",
       "      <td>0</td>\n",
       "      <td>0</td>\n",
       "      <td>0</td>\n",
       "      <td>0</td>\n",
       "      <td>32</td>\n",
       "      <td>8</td>\n",
       "      <td>1</td>\n",
       "      <td>0</td>\n",
       "      <td>...</td>\n",
       "      <td>-0.000626</td>\n",
       "      <td>0.002497</td>\n",
       "      <td>-0.002705</td>\n",
       "      <td>0.000145</td>\n",
       "      <td>-1.641789e-07</td>\n",
       "      <td>0.005385</td>\n",
       "      <td>0.000633</td>\n",
       "      <td>-0.000351</td>\n",
       "      <td>-0.003165</td>\n",
       "      <td>0</td>\n",
       "    </tr>\n",
       "    <tr>\n",
       "      <th>...</th>\n",
       "      <td>...</td>\n",
       "      <td>...</td>\n",
       "      <td>...</td>\n",
       "      <td>...</td>\n",
       "      <td>...</td>\n",
       "      <td>...</td>\n",
       "      <td>...</td>\n",
       "      <td>...</td>\n",
       "      <td>...</td>\n",
       "      <td>...</td>\n",
       "      <td>...</td>\n",
       "      <td>...</td>\n",
       "      <td>...</td>\n",
       "      <td>...</td>\n",
       "      <td>...</td>\n",
       "      <td>...</td>\n",
       "      <td>...</td>\n",
       "      <td>...</td>\n",
       "      <td>...</td>\n",
       "      <td>...</td>\n",
       "      <td>...</td>\n",
       "    </tr>\n",
       "    <tr>\n",
       "      <th>2720</th>\n",
       "      <td>1</td>\n",
       "      <td>8.916667</td>\n",
       "      <td>0</td>\n",
       "      <td>1</td>\n",
       "      <td>5</td>\n",
       "      <td>3</td>\n",
       "      <td>39</td>\n",
       "      <td>1</td>\n",
       "      <td>1</td>\n",
       "      <td>0</td>\n",
       "      <td>...</td>\n",
       "      <td>0.000045</td>\n",
       "      <td>-0.002575</td>\n",
       "      <td>0.001634</td>\n",
       "      <td>-0.003021</td>\n",
       "      <td>-5.501702e-03</td>\n",
       "      <td>0.002582</td>\n",
       "      <td>-0.000392</td>\n",
       "      <td>0.005978</td>\n",
       "      <td>-0.003172</td>\n",
       "      <td>0</td>\n",
       "    </tr>\n",
       "    <tr>\n",
       "      <th>2721</th>\n",
       "      <td>1</td>\n",
       "      <td>3.333333</td>\n",
       "      <td>0</td>\n",
       "      <td>1</td>\n",
       "      <td>0</td>\n",
       "      <td>2</td>\n",
       "      <td>39</td>\n",
       "      <td>5</td>\n",
       "      <td>1</td>\n",
       "      <td>0</td>\n",
       "      <td>...</td>\n",
       "      <td>0.003901</td>\n",
       "      <td>0.001973</td>\n",
       "      <td>-0.003310</td>\n",
       "      <td>0.011862</td>\n",
       "      <td>2.661309e-03</td>\n",
       "      <td>0.006801</td>\n",
       "      <td>-0.001823</td>\n",
       "      <td>-0.000610</td>\n",
       "      <td>-0.008534</td>\n",
       "      <td>3</td>\n",
       "    </tr>\n",
       "    <tr>\n",
       "      <th>2722</th>\n",
       "      <td>1</td>\n",
       "      <td>19.083333</td>\n",
       "      <td>0</td>\n",
       "      <td>0</td>\n",
       "      <td>2</td>\n",
       "      <td>3</td>\n",
       "      <td>39</td>\n",
       "      <td>1</td>\n",
       "      <td>1</td>\n",
       "      <td>0</td>\n",
       "      <td>...</td>\n",
       "      <td>0.001383</td>\n",
       "      <td>-0.001468</td>\n",
       "      <td>-0.003124</td>\n",
       "      <td>0.002176</td>\n",
       "      <td>-7.177151e-04</td>\n",
       "      <td>-0.001517</td>\n",
       "      <td>0.002639</td>\n",
       "      <td>-0.001644</td>\n",
       "      <td>-0.000034</td>\n",
       "      <td>0</td>\n",
       "    </tr>\n",
       "    <tr>\n",
       "      <th>2723</th>\n",
       "      <td>2</td>\n",
       "      <td>12.416667</td>\n",
       "      <td>0</td>\n",
       "      <td>0</td>\n",
       "      <td>0</td>\n",
       "      <td>0</td>\n",
       "      <td>39</td>\n",
       "      <td>1</td>\n",
       "      <td>0</td>\n",
       "      <td>0</td>\n",
       "      <td>...</td>\n",
       "      <td>0.000190</td>\n",
       "      <td>0.003474</td>\n",
       "      <td>0.000218</td>\n",
       "      <td>0.009619</td>\n",
       "      <td>5.060604e-03</td>\n",
       "      <td>-0.008917</td>\n",
       "      <td>-0.007042</td>\n",
       "      <td>0.000901</td>\n",
       "      <td>0.006393</td>\n",
       "      <td>2</td>\n",
       "    </tr>\n",
       "    <tr>\n",
       "      <th>2724</th>\n",
       "      <td>1</td>\n",
       "      <td>13.583333</td>\n",
       "      <td>0</td>\n",
       "      <td>0</td>\n",
       "      <td>5</td>\n",
       "      <td>3</td>\n",
       "      <td>39</td>\n",
       "      <td>1</td>\n",
       "      <td>0</td>\n",
       "      <td>0</td>\n",
       "      <td>...</td>\n",
       "      <td>0.000190</td>\n",
       "      <td>0.003474</td>\n",
       "      <td>0.000218</td>\n",
       "      <td>0.009619</td>\n",
       "      <td>5.060604e-03</td>\n",
       "      <td>-0.008917</td>\n",
       "      <td>-0.007042</td>\n",
       "      <td>0.000901</td>\n",
       "      <td>0.006393</td>\n",
       "      <td>2</td>\n",
       "    </tr>\n",
       "  </tbody>\n",
       "</table>\n",
       "<p>2725 rows × 112 columns</p>\n",
       "</div>"
      ],
      "text/plain": [
       "      Кол-во образований  Опыт нормализованный  Топовость образования  \\\n",
       "0                      2              7.083333                      0   \n",
       "1                      1             17.250000                      0   \n",
       "2                      1             18.333333                      0   \n",
       "3                      2             17.416667                      0   \n",
       "4                      1              7.833333                      0   \n",
       "...                  ...                   ...                    ...   \n",
       "2720                   1              8.916667                      0   \n",
       "2721                   1              3.333333                      0   \n",
       "2722                   1             19.083333                      0   \n",
       "2723                   2             12.416667                      0   \n",
       "2724                   1             13.583333                      0   \n",
       "\n",
       "      Справочник по интересам  Релокация?  Коммандировка?  Город?  \\\n",
       "0                           0           3               3      39   \n",
       "1                           0           2               1      39   \n",
       "2                           0           2               1      91   \n",
       "3                           0           0               0      39   \n",
       "4                           0           0               0      32   \n",
       "...                       ...         ...             ...     ...   \n",
       "2720                        1           5               3      39   \n",
       "2721                        1           0               2      39   \n",
       "2722                        0           2               3      39   \n",
       "2723                        0           0               0      39   \n",
       "2724                        0           5               3      39   \n",
       "\n",
       "      Уровень оборазования нормализованный  Карьерный рост  \\\n",
       "0                                        1               0   \n",
       "1                                        1               0   \n",
       "2                                        1               0   \n",
       "3                                        1               1   \n",
       "4                                        8               1   \n",
       "...                                    ...             ...   \n",
       "2720                                     1               1   \n",
       "2721                                     5               1   \n",
       "2722                                     1               1   \n",
       "2723                                     1               0   \n",
       "2724                                     1               0   \n",
       "\n",
       "      Аналитические комбинации слов в навыках  ...        91        92  \\\n",
       "0                                           1  ...  0.000352  0.001681   \n",
       "1                                           0  ... -0.000102  0.000081   \n",
       "2                                           0  ... -0.000671 -0.000236   \n",
       "3                                           0  ...  0.002909  0.000544   \n",
       "4                                           0  ... -0.000626  0.002497   \n",
       "...                                       ...  ...       ...       ...   \n",
       "2720                                        0  ...  0.000045 -0.002575   \n",
       "2721                                        0  ...  0.003901  0.001973   \n",
       "2722                                        0  ...  0.001383 -0.001468   \n",
       "2723                                        0  ...  0.000190  0.003474   \n",
       "2724                                        0  ...  0.000190  0.003474   \n",
       "\n",
       "            93        94            95        96        97        98  \\\n",
       "0    -0.000292 -0.000272 -1.206897e-03  0.000227 -0.000444  0.000766   \n",
       "1     0.000894 -0.002202  1.397842e-03 -0.001827 -0.000243 -0.003129   \n",
       "2     0.000330  0.001575  2.981558e-04  0.002110 -0.000275 -0.000312   \n",
       "3     0.001400  0.002620  6.619219e-04  0.001653 -0.000912 -0.000753   \n",
       "4    -0.002705  0.000145 -1.641789e-07  0.005385  0.000633 -0.000351   \n",
       "...        ...       ...           ...       ...       ...       ...   \n",
       "2720  0.001634 -0.003021 -5.501702e-03  0.002582 -0.000392  0.005978   \n",
       "2721 -0.003310  0.011862  2.661309e-03  0.006801 -0.001823 -0.000610   \n",
       "2722 -0.003124  0.002176 -7.177151e-04 -0.001517  0.002639 -0.001644   \n",
       "2723  0.000218  0.009619  5.060604e-03 -0.008917 -0.007042  0.000901   \n",
       "2724  0.000218  0.009619  5.060604e-03 -0.008917 -0.007042  0.000901   \n",
       "\n",
       "            99  clust  \n",
       "0     0.000081      0  \n",
       "1     0.001458      0  \n",
       "2    -0.000437      0  \n",
       "3     0.000754      0  \n",
       "4    -0.003165      0  \n",
       "...        ...    ...  \n",
       "2720 -0.003172      0  \n",
       "2721 -0.008534      3  \n",
       "2722 -0.000034      0  \n",
       "2723  0.006393      2  \n",
       "2724  0.006393      2  \n",
       "\n",
       "[2725 rows x 112 columns]"
      ]
     },
     "execution_count": 75,
     "metadata": {},
     "output_type": "execute_result"
    }
   ],
   "source": [
    "df.loc[:, ['Кол-во образований', 'Опыт нормализованный', 'Топовость образования', 'Справочник по интересам', 'Релокация?', 'Коммандировка?', 'Город?', 'Уровень оборазования нормализованный', 'Карьерный рост', 'Аналитические комбинации слов в навыках'] + list(df)[36:]]"
   ]
  },
  {
   "cell_type": "markdown",
   "id": "4d1be651-2581-4ba4-8543-19d84ac0eb10",
   "metadata": {},
   "source": [
    "Сохраним то, что получилось:"
   ]
  },
  {
   "cell_type": "code",
   "execution_count": 76,
   "id": "55f59c99-c5ba-4bf2-8b54-8393f02c4e59",
   "metadata": {},
   "outputs": [],
   "source": [
    "df.to_csv('resumes_features.csv')"
   ]
  },
  {
   "cell_type": "markdown",
   "id": "d99a5e42-8740-4827-8cfb-7881d7304bfd",
   "metadata": {},
   "source": [
    "**Классификация**"
   ]
  },
  {
   "cell_type": "markdown",
   "id": "fbdbe66b-54cc-4d10-85b6-4d4b02bdfd7b",
   "metadata": {},
   "source": [
    "Наконец, перейдем к построению скоринговой модели (решим задачу классификации):"
   ]
  },
  {
   "cell_type": "code",
   "execution_count": 40,
   "id": "a66da45e-8de8-4088-82b6-5905c8d6d545",
   "metadata": {},
   "outputs": [],
   "source": [
    "df = pd.read_csv('resumes_features.csv')"
   ]
  },
  {
   "cell_type": "code",
   "execution_count": 41,
   "id": "f2701738-77ae-4774-967d-3173d07e656b",
   "metadata": {},
   "outputs": [],
   "source": [
    "df.drop(list(df)[0], axis=1, inplace=True)\n",
    "df.reset_index(inplace=True)\n",
    "df.drop(list(df)[0], axis=1, inplace=True)"
   ]
  },
  {
   "cell_type": "code",
   "execution_count": 77,
   "id": "c22bdd4e-2442-4b04-a9d4-07fccda80b0e",
   "metadata": {},
   "outputs": [
    {
     "data": {
      "text/html": [
       "<div>\n",
       "<style scoped>\n",
       "    .dataframe tbody tr th:only-of-type {\n",
       "        vertical-align: middle;\n",
       "    }\n",
       "\n",
       "    .dataframe tbody tr th {\n",
       "        vertical-align: top;\n",
       "    }\n",
       "\n",
       "    .dataframe thead th {\n",
       "        text-align: right;\n",
       "    }\n",
       "</style>\n",
       "<table border=\"1\" class=\"dataframe\">\n",
       "  <thead>\n",
       "    <tr style=\"text-align: right;\">\n",
       "      <th></th>\n",
       "      <th>Ссылка</th>\n",
       "      <th>Название</th>\n",
       "      <th>Коммандировка</th>\n",
       "      <th>Опыт</th>\n",
       "      <th>О себе</th>\n",
       "      <th>Образование</th>\n",
       "      <th>Интересы</th>\n",
       "      <th>Навыки</th>\n",
       "      <th>Образование-1</th>\n",
       "      <th>Образование-2</th>\n",
       "      <th>...</th>\n",
       "      <th>91</th>\n",
       "      <th>92</th>\n",
       "      <th>93</th>\n",
       "      <th>94</th>\n",
       "      <th>95</th>\n",
       "      <th>96</th>\n",
       "      <th>97</th>\n",
       "      <th>98</th>\n",
       "      <th>99</th>\n",
       "      <th>clust</th>\n",
       "    </tr>\n",
       "  </thead>\n",
       "  <tbody>\n",
       "    <tr>\n",
       "      <th>1954</th>\n",
       "      <td>https://hh.ru/resume/1659bb97000275c95a0039ed1...</td>\n",
       "      <td>Заместитель финансового директора/Главный бухг...</td>\n",
       "      <td>Москва, м. Митино, не готов к переезду, готов ...</td>\n",
       "      <td>Опыт работы 17 лет 2 месяца</td>\n",
       "      <td>Личные качества: организованность, ответственн...</td>\n",
       "      <td>Высшее образование\\n2007\\nРоссийский государст...</td>\n",
       "      <td>Специализации:\\nФинансовый менеджер\\nЗанятость...</td>\n",
       "      <td>---</td>\n",
       "      <td>Российский государственный торгово-экономическ...</td>\n",
       "      <td>Российский государственный торгово-экономическ...</td>\n",
       "      <td>...</td>\n",
       "      <td>-0.002755</td>\n",
       "      <td>-0.00086</td>\n",
       "      <td>-0.002799</td>\n",
       "      <td>0.000144</td>\n",
       "      <td>-0.000626</td>\n",
       "      <td>-0.003615</td>\n",
       "      <td>0.003815</td>\n",
       "      <td>-0.000457</td>\n",
       "      <td>-0.001887</td>\n",
       "      <td>0</td>\n",
       "    </tr>\n",
       "  </tbody>\n",
       "</table>\n",
       "<p>1 rows × 138 columns</p>\n",
       "</div>"
      ],
      "text/plain": [
       "                                                 Ссылка  \\\n",
       "1954  https://hh.ru/resume/1659bb97000275c95a0039ed1...   \n",
       "\n",
       "                                               Название  \\\n",
       "1954  Заместитель финансового директора/Главный бухг...   \n",
       "\n",
       "                                          Коммандировка  \\\n",
       "1954  Москва, м. Митино, не готов к переезду, готов ...   \n",
       "\n",
       "                             Опыт  \\\n",
       "1954  Опыт работы 17 лет 2 месяца   \n",
       "\n",
       "                                                 О себе  \\\n",
       "1954  Личные качества: организованность, ответственн...   \n",
       "\n",
       "                                            Образование  \\\n",
       "1954  Высшее образование\\n2007\\nРоссийский государст...   \n",
       "\n",
       "                                               Интересы Навыки  \\\n",
       "1954  Специализации:\\nФинансовый менеджер\\nЗанятость...    ---   \n",
       "\n",
       "                                          Образование-1  \\\n",
       "1954  Российский государственный торгово-экономическ...   \n",
       "\n",
       "                                          Образование-2  ...        91  \\\n",
       "1954  Российский государственный торгово-экономическ...  ... -0.002755   \n",
       "\n",
       "           92        93        94        95        96        97        98  \\\n",
       "1954 -0.00086 -0.002799  0.000144 -0.000626 -0.003615  0.003815 -0.000457   \n",
       "\n",
       "            99  clust  \n",
       "1954 -0.001887      0  \n",
       "\n",
       "[1 rows x 138 columns]"
      ]
     },
     "execution_count": 77,
     "metadata": {},
     "output_type": "execute_result"
    }
   ],
   "source": [
    "df.sample(1)"
   ]
  },
  {
   "cell_type": "code",
   "execution_count": 313,
   "id": "2af9d224-22d5-4159-9994-d64e719dfb0e",
   "metadata": {},
   "outputs": [],
   "source": [
    "lr_svm_rf_dict = {\n",
    "                    'not semi-supervised': [66, 73, 72], \n",
    "                    'semi-supervised': [70, 72, 70]\n",
    "                }"
   ]
  },
  {
   "cell_type": "markdown",
   "id": "142d1810-c99b-41da-a5a4-597e78099c8d",
   "metadata": {},
   "source": [
    "Начнем с логистической регрессии:"
   ]
  },
  {
   "cell_type": "code",
   "execution_count": 314,
   "id": "c0f4532e-b9c6-47d1-a3e2-999ee35df481",
   "metadata": {
    "collapsed": true,
    "jupyter": {
     "outputs_hidden": true
    },
    "tags": []
   },
   "outputs": [
    {
     "name": "stderr",
     "output_type": "stream",
     "text": [
      "/Users/vladkopchev/miniconda3/lib/python3.9/site-packages/sklearn/linear_model/_logistic.py:763: ConvergenceWarning: lbfgs failed to converge (status=1):\n",
      "STOP: TOTAL NO. of ITERATIONS REACHED LIMIT.\n",
      "\n",
      "Increase the number of iterations (max_iter) or scale the data as shown in:\n",
      "    https://scikit-learn.org/stable/modules/preprocessing.html\n",
      "Please also refer to the documentation for alternative solver options:\n",
      "    https://scikit-learn.org/stable/modules/linear_model.html#logistic-regression\n",
      "  n_iter_i = _check_optimize_result(\n",
      "/Users/vladkopchev/miniconda3/lib/python3.9/site-packages/sklearn/linear_model/_logistic.py:763: ConvergenceWarning: lbfgs failed to converge (status=1):\n",
      "STOP: TOTAL NO. of ITERATIONS REACHED LIMIT.\n",
      "\n",
      "Increase the number of iterations (max_iter) or scale the data as shown in:\n",
      "    https://scikit-learn.org/stable/modules/preprocessing.html\n",
      "Please also refer to the documentation for alternative solver options:\n",
      "    https://scikit-learn.org/stable/modules/linear_model.html#logistic-regression\n",
      "  n_iter_i = _check_optimize_result(\n",
      "/Users/vladkopchev/miniconda3/lib/python3.9/site-packages/sklearn/linear_model/_logistic.py:763: ConvergenceWarning: lbfgs failed to converge (status=1):\n",
      "STOP: TOTAL NO. of ITERATIONS REACHED LIMIT.\n",
      "\n",
      "Increase the number of iterations (max_iter) or scale the data as shown in:\n",
      "    https://scikit-learn.org/stable/modules/preprocessing.html\n",
      "Please also refer to the documentation for alternative solver options:\n",
      "    https://scikit-learn.org/stable/modules/linear_model.html#logistic-regression\n",
      "  n_iter_i = _check_optimize_result(\n",
      "/Users/vladkopchev/miniconda3/lib/python3.9/site-packages/sklearn/linear_model/_logistic.py:763: ConvergenceWarning: lbfgs failed to converge (status=1):\n",
      "STOP: TOTAL NO. of ITERATIONS REACHED LIMIT.\n",
      "\n",
      "Increase the number of iterations (max_iter) or scale the data as shown in:\n",
      "    https://scikit-learn.org/stable/modules/preprocessing.html\n",
      "Please also refer to the documentation for alternative solver options:\n",
      "    https://scikit-learn.org/stable/modules/linear_model.html#logistic-regression\n",
      "  n_iter_i = _check_optimize_result(\n",
      "/Users/vladkopchev/miniconda3/lib/python3.9/site-packages/sklearn/linear_model/_logistic.py:763: ConvergenceWarning: lbfgs failed to converge (status=1):\n",
      "STOP: TOTAL NO. of ITERATIONS REACHED LIMIT.\n",
      "\n",
      "Increase the number of iterations (max_iter) or scale the data as shown in:\n",
      "    https://scikit-learn.org/stable/modules/preprocessing.html\n",
      "Please also refer to the documentation for alternative solver options:\n",
      "    https://scikit-learn.org/stable/modules/linear_model.html#logistic-regression\n",
      "  n_iter_i = _check_optimize_result(\n",
      "/Users/vladkopchev/miniconda3/lib/python3.9/site-packages/sklearn/linear_model/_logistic.py:763: ConvergenceWarning: lbfgs failed to converge (status=1):\n",
      "STOP: TOTAL NO. of ITERATIONS REACHED LIMIT.\n",
      "\n",
      "Increase the number of iterations (max_iter) or scale the data as shown in:\n",
      "    https://scikit-learn.org/stable/modules/preprocessing.html\n",
      "Please also refer to the documentation for alternative solver options:\n",
      "    https://scikit-learn.org/stable/modules/linear_model.html#logistic-regression\n",
      "  n_iter_i = _check_optimize_result(\n",
      "/Users/vladkopchev/miniconda3/lib/python3.9/site-packages/sklearn/linear_model/_logistic.py:763: ConvergenceWarning: lbfgs failed to converge (status=1):\n",
      "STOP: TOTAL NO. of ITERATIONS REACHED LIMIT.\n",
      "\n",
      "Increase the number of iterations (max_iter) or scale the data as shown in:\n",
      "    https://scikit-learn.org/stable/modules/preprocessing.html\n",
      "Please also refer to the documentation for alternative solver options:\n",
      "    https://scikit-learn.org/stable/modules/linear_model.html#logistic-regression\n",
      "  n_iter_i = _check_optimize_result(\n",
      "/Users/vladkopchev/miniconda3/lib/python3.9/site-packages/sklearn/linear_model/_logistic.py:763: ConvergenceWarning: lbfgs failed to converge (status=1):\n",
      "STOP: TOTAL NO. of ITERATIONS REACHED LIMIT.\n",
      "\n",
      "Increase the number of iterations (max_iter) or scale the data as shown in:\n",
      "    https://scikit-learn.org/stable/modules/preprocessing.html\n",
      "Please also refer to the documentation for alternative solver options:\n",
      "    https://scikit-learn.org/stable/modules/linear_model.html#logistic-regression\n",
      "  n_iter_i = _check_optimize_result(\n",
      "/Users/vladkopchev/miniconda3/lib/python3.9/site-packages/sklearn/linear_model/_logistic.py:763: ConvergenceWarning: lbfgs failed to converge (status=1):\n",
      "STOP: TOTAL NO. of ITERATIONS REACHED LIMIT.\n",
      "\n",
      "Increase the number of iterations (max_iter) or scale the data as shown in:\n",
      "    https://scikit-learn.org/stable/modules/preprocessing.html\n",
      "Please also refer to the documentation for alternative solver options:\n",
      "    https://scikit-learn.org/stable/modules/linear_model.html#logistic-regression\n",
      "  n_iter_i = _check_optimize_result(\n",
      "/Users/vladkopchev/miniconda3/lib/python3.9/site-packages/sklearn/linear_model/_logistic.py:763: ConvergenceWarning: lbfgs failed to converge (status=1):\n",
      "STOP: TOTAL NO. of ITERATIONS REACHED LIMIT.\n",
      "\n",
      "Increase the number of iterations (max_iter) or scale the data as shown in:\n",
      "    https://scikit-learn.org/stable/modules/preprocessing.html\n",
      "Please also refer to the documentation for alternative solver options:\n",
      "    https://scikit-learn.org/stable/modules/linear_model.html#logistic-regression\n",
      "  n_iter_i = _check_optimize_result(\n"
     ]
    }
   ],
   "source": [
    "acc = 0.\n",
    "k = 10\n",
    "reg = LogisticRegression()\n",
    "\n",
    "for i in range(k):\n",
    "    X = df.loc[df['DA'].notna()].loc[:, list(df)[36:] + ['Кол-во образований', 'Опыт нормализованный','Топовость образования', 'Справочник по интересам', 'Релокация?', 'Коммандировка?', 'Город?', 'Уровень оборазования нормализованный', 'Карьерный рост', 'Аналитические комбинации слов в навыках']]\n",
    "    y = df.loc[df['DA'].notna(), 'DA']\n",
    "    \n",
    "    X_train = X.sample(95)\n",
    "    y_train = y[X_train.index]\n",
    "    \n",
    "    X_test = X.drop(X_train.index)\n",
    "    y_test = y.drop(y_train.index)\n",
    "    \n",
    "    reg.fit(X_train, y_train)\n",
    "    acc += accuracy_score(y_test, reg.predict(X_test))"
   ]
  },
  {
   "cell_type": "code",
   "execution_count": 315,
   "id": "bf56da2c-fadf-4254-8201-1994ca7e0f49",
   "metadata": {},
   "outputs": [],
   "source": [
    "lr_svm_rf_dict['not semi-supervised'][0] = acc / k"
   ]
  },
  {
   "cell_type": "markdown",
   "id": "650408d9-7783-4863-bb13-80fc71caff07",
   "metadata": {},
   "source": [
    "Теперь попробуем SVM:"
   ]
  },
  {
   "cell_type": "code",
   "execution_count": 316,
   "id": "9f4aca19-75bd-431d-a355-1e91d6d186ac",
   "metadata": {},
   "outputs": [],
   "source": [
    "from sklearn import svm"
   ]
  },
  {
   "cell_type": "code",
   "execution_count": 319,
   "id": "c290b950-2ea9-4f98-83f8-5f18f91d0a8f",
   "metadata": {
    "tags": []
   },
   "outputs": [],
   "source": [
    "acc = 0.\n",
    "k = 20\n",
    "clf = svm.SVC()\n",
    "\n",
    "for i in range(k):\n",
    "    X = df.loc[df['DA'].notna()].loc[:, list(df)[36:] + ['Кол-во образований', 'Опыт нормализованный','Топовость образования', 'Справочник по интересам', 'Релокация?', 'Коммандировка?', 'Город?', 'Уровень оборазования нормализованный', 'Карьерный рост', 'Аналитические комбинации слов в навыках']]\n",
    "    y = df.loc[df['DA'].notna(), 'DA']\n",
    "    \n",
    "    X_train = X.sample(95)\n",
    "    y_train = y[X_train.index]\n",
    "    \n",
    "    X_test = X.drop(X_train.index)\n",
    "    y_test = y.drop(y_train.index)\n",
    "    \n",
    "    clf.fit(X_train, y_train)\n",
    "    acc += accuracy_score(y_test, clf.predict(X_test))"
   ]
  },
  {
   "cell_type": "code",
   "execution_count": 320,
   "id": "af055f42-7a8c-4b4f-bf8f-17ef00d013be",
   "metadata": {},
   "outputs": [],
   "source": [
    "lr_svm_rf_dict['not semi-supervised'][1] = acc / k"
   ]
  },
  {
   "cell_type": "markdown",
   "id": "022af304-1205-4c5e-8096-fc4f187df830",
   "metadata": {},
   "source": [
    "И, наконец, RF:"
   ]
  },
  {
   "cell_type": "code",
   "execution_count": 321,
   "id": "eef38dce-e1a4-4c0c-8ebb-d7ebf529341f",
   "metadata": {},
   "outputs": [],
   "source": [
    "from sklearn.ensemble import RandomForestClassifier"
   ]
  },
  {
   "cell_type": "code",
   "execution_count": 322,
   "id": "10944d5a-47c9-4e47-a3f1-63866d3d2a72",
   "metadata": {
    "tags": []
   },
   "outputs": [],
   "source": [
    "acc = 0.\n",
    "k = 10\n",
    "clf = RandomForestClassifier()\n",
    "\n",
    "for i in range(k):\n",
    "    X = df.loc[df['DA'].notna()].loc[:, list(df)[36:] + ['Кол-во образований', 'Опыт нормализованный','Топовость образования', 'Справочник по интересам', 'Релокация?', 'Коммандировка?', 'Город?', 'Уровень оборазования нормализованный', 'Карьерный рост', 'Аналитические комбинации слов в навыках']]\n",
    "    y = df.loc[df['DA'].notna(), 'DA']\n",
    "    \n",
    "    X_train = X.sample(95)\n",
    "    y_train = y[X_train.index]\n",
    "    \n",
    "    X_test = X.drop(X_train.index)\n",
    "    y_test = y.drop(y_train.index)\n",
    "    \n",
    "    clf.fit(X_train, y_train)\n",
    "    acc += accuracy_score(y_test, clf.predict(X_test))"
   ]
  },
  {
   "cell_type": "code",
   "execution_count": 323,
   "id": "ea471a34-52bf-485f-a5cd-8d46045d3365",
   "metadata": {},
   "outputs": [],
   "source": [
    "lr_svm_rf_dict['not semi-supervised'][2] = acc / k"
   ]
  },
  {
   "cell_type": "markdown",
   "id": "e8982f52-4103-4178-a38a-87e09d419b49",
   "metadata": {},
   "source": [
    "Теперь попробуем semi-supervised версию SVC:"
   ]
  },
  {
   "cell_type": "code",
   "execution_count": 324,
   "id": "772a67c7-23f7-449e-8fc9-f668a812d934",
   "metadata": {},
   "outputs": [],
   "source": [
    "from sklearn.semi_supervised import SelfTrainingClassifier"
   ]
  },
  {
   "cell_type": "code",
   "execution_count": 325,
   "id": "0c2c4608-99ce-40cc-8d6f-b5b32ee7af68",
   "metadata": {
    "collapsed": true,
    "jupyter": {
     "outputs_hidden": true
    },
    "tags": []
   },
   "outputs": [
    {
     "name": "stderr",
     "output_type": "stream",
     "text": [
      "/Users/vladkopchev/miniconda3/lib/python3.9/site-packages/sklearn/semi_supervised/_self_training.py:187: UserWarning: y contains no unlabeled samples\n",
      "  warnings.warn(\"y contains no unlabeled samples\", UserWarning)\n",
      "/Users/vladkopchev/miniconda3/lib/python3.9/site-packages/sklearn/semi_supervised/_self_training.py:187: UserWarning: y contains no unlabeled samples\n",
      "  warnings.warn(\"y contains no unlabeled samples\", UserWarning)\n",
      "/Users/vladkopchev/miniconda3/lib/python3.9/site-packages/sklearn/semi_supervised/_self_training.py:187: UserWarning: y contains no unlabeled samples\n",
      "  warnings.warn(\"y contains no unlabeled samples\", UserWarning)\n",
      "/Users/vladkopchev/miniconda3/lib/python3.9/site-packages/sklearn/semi_supervised/_self_training.py:187: UserWarning: y contains no unlabeled samples\n",
      "  warnings.warn(\"y contains no unlabeled samples\", UserWarning)\n",
      "/Users/vladkopchev/miniconda3/lib/python3.9/site-packages/sklearn/semi_supervised/_self_training.py:187: UserWarning: y contains no unlabeled samples\n",
      "  warnings.warn(\"y contains no unlabeled samples\", UserWarning)\n",
      "/Users/vladkopchev/miniconda3/lib/python3.9/site-packages/sklearn/semi_supervised/_self_training.py:187: UserWarning: y contains no unlabeled samples\n",
      "  warnings.warn(\"y contains no unlabeled samples\", UserWarning)\n",
      "/Users/vladkopchev/miniconda3/lib/python3.9/site-packages/sklearn/semi_supervised/_self_training.py:187: UserWarning: y contains no unlabeled samples\n",
      "  warnings.warn(\"y contains no unlabeled samples\", UserWarning)\n",
      "/Users/vladkopchev/miniconda3/lib/python3.9/site-packages/sklearn/semi_supervised/_self_training.py:187: UserWarning: y contains no unlabeled samples\n",
      "  warnings.warn(\"y contains no unlabeled samples\", UserWarning)\n",
      "/Users/vladkopchev/miniconda3/lib/python3.9/site-packages/sklearn/semi_supervised/_self_training.py:187: UserWarning: y contains no unlabeled samples\n",
      "  warnings.warn(\"y contains no unlabeled samples\", UserWarning)\n",
      "/Users/vladkopchev/miniconda3/lib/python3.9/site-packages/sklearn/semi_supervised/_self_training.py:187: UserWarning: y contains no unlabeled samples\n",
      "  warnings.warn(\"y contains no unlabeled samples\", UserWarning)\n"
     ]
    }
   ],
   "source": [
    "acc = 0.\n",
    "k = 10\n",
    "svc = svm.SVC(probability=True, gamma=\"auto\")\n",
    "self_training_model = SelfTrainingClassifier(svc)\n",
    "\n",
    "for i in range(k):\n",
    "    X = df.loc[df['DA'].notna()].loc[:, list(df)[36:] + ['Кол-во образований', 'Опыт нормализованный','Топовость образования', 'Справочник по интересам', 'Релокация?', 'Коммандировка?', 'Город?', 'Уровень оборазования нормализованный', 'Карьерный рост', 'Аналитические комбинации слов в навыках']]\n",
    "    y = df.loc[df['DA'].notna(), 'DA']\n",
    "    \n",
    "    X_train = X.sample(95)\n",
    "    y_train = y[X_train.index]\n",
    "    \n",
    "    X_test = X.drop(X_train.index)\n",
    "    y_test = y.drop(y_train.index)\n",
    "    \n",
    "    self_training_model.fit(X_train, y_train)\n",
    "    acc += accuracy_score(y_test, self_training_model.predict(X_test))"
   ]
  },
  {
   "cell_type": "code",
   "execution_count": 327,
   "id": "f559050a-1371-41c8-8c5f-03a32946cec5",
   "metadata": {},
   "outputs": [],
   "source": [
    "lr_svm_rf_dict['semi-supervised'][1] = acc / k"
   ]
  },
  {
   "cell_type": "markdown",
   "id": "5c1347ce-62a9-4d0b-9930-1dcbd30beaf3",
   "metadata": {},
   "source": [
    "Теперь RF:"
   ]
  },
  {
   "cell_type": "code",
   "execution_count": 328,
   "id": "047b4e42-c564-44e5-b3f7-b84d856744d7",
   "metadata": {
    "collapsed": true,
    "jupyter": {
     "outputs_hidden": true
    },
    "tags": []
   },
   "outputs": [
    {
     "name": "stderr",
     "output_type": "stream",
     "text": [
      "/Users/vladkopchev/miniconda3/lib/python3.9/site-packages/sklearn/semi_supervised/_self_training.py:187: UserWarning: y contains no unlabeled samples\n",
      "  warnings.warn(\"y contains no unlabeled samples\", UserWarning)\n",
      "/Users/vladkopchev/miniconda3/lib/python3.9/site-packages/sklearn/semi_supervised/_self_training.py:187: UserWarning: y contains no unlabeled samples\n",
      "  warnings.warn(\"y contains no unlabeled samples\", UserWarning)\n",
      "/Users/vladkopchev/miniconda3/lib/python3.9/site-packages/sklearn/semi_supervised/_self_training.py:187: UserWarning: y contains no unlabeled samples\n",
      "  warnings.warn(\"y contains no unlabeled samples\", UserWarning)\n",
      "/Users/vladkopchev/miniconda3/lib/python3.9/site-packages/sklearn/semi_supervised/_self_training.py:187: UserWarning: y contains no unlabeled samples\n",
      "  warnings.warn(\"y contains no unlabeled samples\", UserWarning)\n",
      "/Users/vladkopchev/miniconda3/lib/python3.9/site-packages/sklearn/semi_supervised/_self_training.py:187: UserWarning: y contains no unlabeled samples\n",
      "  warnings.warn(\"y contains no unlabeled samples\", UserWarning)\n",
      "/Users/vladkopchev/miniconda3/lib/python3.9/site-packages/sklearn/semi_supervised/_self_training.py:187: UserWarning: y contains no unlabeled samples\n",
      "  warnings.warn(\"y contains no unlabeled samples\", UserWarning)\n",
      "/Users/vladkopchev/miniconda3/lib/python3.9/site-packages/sklearn/semi_supervised/_self_training.py:187: UserWarning: y contains no unlabeled samples\n",
      "  warnings.warn(\"y contains no unlabeled samples\", UserWarning)\n",
      "/Users/vladkopchev/miniconda3/lib/python3.9/site-packages/sklearn/semi_supervised/_self_training.py:187: UserWarning: y contains no unlabeled samples\n",
      "  warnings.warn(\"y contains no unlabeled samples\", UserWarning)\n",
      "/Users/vladkopchev/miniconda3/lib/python3.9/site-packages/sklearn/semi_supervised/_self_training.py:187: UserWarning: y contains no unlabeled samples\n",
      "  warnings.warn(\"y contains no unlabeled samples\", UserWarning)\n",
      "/Users/vladkopchev/miniconda3/lib/python3.9/site-packages/sklearn/semi_supervised/_self_training.py:187: UserWarning: y contains no unlabeled samples\n",
      "  warnings.warn(\"y contains no unlabeled samples\", UserWarning)\n"
     ]
    }
   ],
   "source": [
    "acc = 0.\n",
    "k = 10\n",
    "clf = RandomForestClassifier()\n",
    "self_training_model = SelfTrainingClassifier(clf)\n",
    "\n",
    "for i in range(k):\n",
    "    X = df.loc[df['DA'].notna()].loc[:, list(df)[36:] + ['Кол-во образований', 'Опыт нормализованный','Топовость образования', 'Справочник по интересам', 'Релокация?', 'Коммандировка?', 'Город?', 'Уровень оборазования нормализованный', 'Карьерный рост', 'Аналитические комбинации слов в навыках']]\n",
    "    y = df.loc[df['DA'].notna(), 'DA']\n",
    "    \n",
    "    X_train = X.sample(95)\n",
    "    y_train = y[X_train.index]\n",
    "    \n",
    "    X_test = X.drop(X_train.index)\n",
    "    y_test = y.drop(y_train.index)\n",
    "    \n",
    "    self_training_model.fit(X_train, y_train)\n",
    "    acc += accuracy_score(y_test, self_training_model.predict(X_test))"
   ]
  },
  {
   "cell_type": "code",
   "execution_count": 329,
   "id": "93474908-2428-4fed-8c77-f34a631ab1e3",
   "metadata": {},
   "outputs": [],
   "source": [
    "lr_svm_rf_dict['semi-supervised'][2] = acc / k"
   ]
  },
  {
   "cell_type": "markdown",
   "id": "a384da67-4d1b-4896-80fb-51498778a546",
   "metadata": {},
   "source": [
    "Теперь LR:"
   ]
  },
  {
   "cell_type": "code",
   "execution_count": 330,
   "id": "6dd5882d-efc1-4443-95f6-ee80eb38f566",
   "metadata": {
    "collapsed": true,
    "jupyter": {
     "outputs_hidden": true
    },
    "tags": []
   },
   "outputs": [
    {
     "name": "stderr",
     "output_type": "stream",
     "text": [
      "/Users/vladkopchev/miniconda3/lib/python3.9/site-packages/sklearn/semi_supervised/_self_training.py:187: UserWarning: y contains no unlabeled samples\n",
      "  warnings.warn(\"y contains no unlabeled samples\", UserWarning)\n",
      "/Users/vladkopchev/miniconda3/lib/python3.9/site-packages/sklearn/linear_model/_logistic.py:763: ConvergenceWarning: lbfgs failed to converge (status=1):\n",
      "STOP: TOTAL NO. of ITERATIONS REACHED LIMIT.\n",
      "\n",
      "Increase the number of iterations (max_iter) or scale the data as shown in:\n",
      "    https://scikit-learn.org/stable/modules/preprocessing.html\n",
      "Please also refer to the documentation for alternative solver options:\n",
      "    https://scikit-learn.org/stable/modules/linear_model.html#logistic-regression\n",
      "  n_iter_i = _check_optimize_result(\n",
      "/Users/vladkopchev/miniconda3/lib/python3.9/site-packages/sklearn/semi_supervised/_self_training.py:187: UserWarning: y contains no unlabeled samples\n",
      "  warnings.warn(\"y contains no unlabeled samples\", UserWarning)\n",
      "/Users/vladkopchev/miniconda3/lib/python3.9/site-packages/sklearn/linear_model/_logistic.py:763: ConvergenceWarning: lbfgs failed to converge (status=1):\n",
      "STOP: TOTAL NO. of ITERATIONS REACHED LIMIT.\n",
      "\n",
      "Increase the number of iterations (max_iter) or scale the data as shown in:\n",
      "    https://scikit-learn.org/stable/modules/preprocessing.html\n",
      "Please also refer to the documentation for alternative solver options:\n",
      "    https://scikit-learn.org/stable/modules/linear_model.html#logistic-regression\n",
      "  n_iter_i = _check_optimize_result(\n",
      "/Users/vladkopchev/miniconda3/lib/python3.9/site-packages/sklearn/semi_supervised/_self_training.py:187: UserWarning: y contains no unlabeled samples\n",
      "  warnings.warn(\"y contains no unlabeled samples\", UserWarning)\n",
      "/Users/vladkopchev/miniconda3/lib/python3.9/site-packages/sklearn/linear_model/_logistic.py:763: ConvergenceWarning: lbfgs failed to converge (status=1):\n",
      "STOP: TOTAL NO. of ITERATIONS REACHED LIMIT.\n",
      "\n",
      "Increase the number of iterations (max_iter) or scale the data as shown in:\n",
      "    https://scikit-learn.org/stable/modules/preprocessing.html\n",
      "Please also refer to the documentation for alternative solver options:\n",
      "    https://scikit-learn.org/stable/modules/linear_model.html#logistic-regression\n",
      "  n_iter_i = _check_optimize_result(\n",
      "/Users/vladkopchev/miniconda3/lib/python3.9/site-packages/sklearn/semi_supervised/_self_training.py:187: UserWarning: y contains no unlabeled samples\n",
      "  warnings.warn(\"y contains no unlabeled samples\", UserWarning)\n",
      "/Users/vladkopchev/miniconda3/lib/python3.9/site-packages/sklearn/linear_model/_logistic.py:763: ConvergenceWarning: lbfgs failed to converge (status=1):\n",
      "STOP: TOTAL NO. of ITERATIONS REACHED LIMIT.\n",
      "\n",
      "Increase the number of iterations (max_iter) or scale the data as shown in:\n",
      "    https://scikit-learn.org/stable/modules/preprocessing.html\n",
      "Please also refer to the documentation for alternative solver options:\n",
      "    https://scikit-learn.org/stable/modules/linear_model.html#logistic-regression\n",
      "  n_iter_i = _check_optimize_result(\n",
      "/Users/vladkopchev/miniconda3/lib/python3.9/site-packages/sklearn/semi_supervised/_self_training.py:187: UserWarning: y contains no unlabeled samples\n",
      "  warnings.warn(\"y contains no unlabeled samples\", UserWarning)\n",
      "/Users/vladkopchev/miniconda3/lib/python3.9/site-packages/sklearn/linear_model/_logistic.py:763: ConvergenceWarning: lbfgs failed to converge (status=1):\n",
      "STOP: TOTAL NO. of ITERATIONS REACHED LIMIT.\n",
      "\n",
      "Increase the number of iterations (max_iter) or scale the data as shown in:\n",
      "    https://scikit-learn.org/stable/modules/preprocessing.html\n",
      "Please also refer to the documentation for alternative solver options:\n",
      "    https://scikit-learn.org/stable/modules/linear_model.html#logistic-regression\n",
      "  n_iter_i = _check_optimize_result(\n",
      "/Users/vladkopchev/miniconda3/lib/python3.9/site-packages/sklearn/semi_supervised/_self_training.py:187: UserWarning: y contains no unlabeled samples\n",
      "  warnings.warn(\"y contains no unlabeled samples\", UserWarning)\n",
      "/Users/vladkopchev/miniconda3/lib/python3.9/site-packages/sklearn/linear_model/_logistic.py:763: ConvergenceWarning: lbfgs failed to converge (status=1):\n",
      "STOP: TOTAL NO. of ITERATIONS REACHED LIMIT.\n",
      "\n",
      "Increase the number of iterations (max_iter) or scale the data as shown in:\n",
      "    https://scikit-learn.org/stable/modules/preprocessing.html\n",
      "Please also refer to the documentation for alternative solver options:\n",
      "    https://scikit-learn.org/stable/modules/linear_model.html#logistic-regression\n",
      "  n_iter_i = _check_optimize_result(\n",
      "/Users/vladkopchev/miniconda3/lib/python3.9/site-packages/sklearn/semi_supervised/_self_training.py:187: UserWarning: y contains no unlabeled samples\n",
      "  warnings.warn(\"y contains no unlabeled samples\", UserWarning)\n",
      "/Users/vladkopchev/miniconda3/lib/python3.9/site-packages/sklearn/linear_model/_logistic.py:763: ConvergenceWarning: lbfgs failed to converge (status=1):\n",
      "STOP: TOTAL NO. of ITERATIONS REACHED LIMIT.\n",
      "\n",
      "Increase the number of iterations (max_iter) or scale the data as shown in:\n",
      "    https://scikit-learn.org/stable/modules/preprocessing.html\n",
      "Please also refer to the documentation for alternative solver options:\n",
      "    https://scikit-learn.org/stable/modules/linear_model.html#logistic-regression\n",
      "  n_iter_i = _check_optimize_result(\n",
      "/Users/vladkopchev/miniconda3/lib/python3.9/site-packages/sklearn/semi_supervised/_self_training.py:187: UserWarning: y contains no unlabeled samples\n",
      "  warnings.warn(\"y contains no unlabeled samples\", UserWarning)\n",
      "/Users/vladkopchev/miniconda3/lib/python3.9/site-packages/sklearn/linear_model/_logistic.py:763: ConvergenceWarning: lbfgs failed to converge (status=1):\n",
      "STOP: TOTAL NO. of ITERATIONS REACHED LIMIT.\n",
      "\n",
      "Increase the number of iterations (max_iter) or scale the data as shown in:\n",
      "    https://scikit-learn.org/stable/modules/preprocessing.html\n",
      "Please also refer to the documentation for alternative solver options:\n",
      "    https://scikit-learn.org/stable/modules/linear_model.html#logistic-regression\n",
      "  n_iter_i = _check_optimize_result(\n",
      "/Users/vladkopchev/miniconda3/lib/python3.9/site-packages/sklearn/semi_supervised/_self_training.py:187: UserWarning: y contains no unlabeled samples\n",
      "  warnings.warn(\"y contains no unlabeled samples\", UserWarning)\n",
      "/Users/vladkopchev/miniconda3/lib/python3.9/site-packages/sklearn/linear_model/_logistic.py:763: ConvergenceWarning: lbfgs failed to converge (status=1):\n",
      "STOP: TOTAL NO. of ITERATIONS REACHED LIMIT.\n",
      "\n",
      "Increase the number of iterations (max_iter) or scale the data as shown in:\n",
      "    https://scikit-learn.org/stable/modules/preprocessing.html\n",
      "Please also refer to the documentation for alternative solver options:\n",
      "    https://scikit-learn.org/stable/modules/linear_model.html#logistic-regression\n",
      "  n_iter_i = _check_optimize_result(\n",
      "/Users/vladkopchev/miniconda3/lib/python3.9/site-packages/sklearn/semi_supervised/_self_training.py:187: UserWarning: y contains no unlabeled samples\n",
      "  warnings.warn(\"y contains no unlabeled samples\", UserWarning)\n",
      "/Users/vladkopchev/miniconda3/lib/python3.9/site-packages/sklearn/linear_model/_logistic.py:763: ConvergenceWarning: lbfgs failed to converge (status=1):\n",
      "STOP: TOTAL NO. of ITERATIONS REACHED LIMIT.\n",
      "\n",
      "Increase the number of iterations (max_iter) or scale the data as shown in:\n",
      "    https://scikit-learn.org/stable/modules/preprocessing.html\n",
      "Please also refer to the documentation for alternative solver options:\n",
      "    https://scikit-learn.org/stable/modules/linear_model.html#logistic-regression\n",
      "  n_iter_i = _check_optimize_result(\n"
     ]
    }
   ],
   "source": [
    "acc = 0.\n",
    "k = 10\n",
    "clf = LogisticRegression()\n",
    "self_training_model = SelfTrainingClassifier(clf)\n",
    "\n",
    "for i in range(k):\n",
    "    X = df.loc[df['DA'].notna()].loc[:, list(df)[36:] + ['Кол-во образований', 'Опыт нормализованный','Топовость образования', 'Справочник по интересам', 'Релокация?', 'Коммандировка?', 'Город?', 'Уровень оборазования нормализованный', 'Карьерный рост', 'Аналитические комбинации слов в навыках']]\n",
    "    y = df.loc[df['DA'].notna(), 'DA']\n",
    "    \n",
    "    X_train = X.sample(95)\n",
    "    y_train = y[X_train.index]\n",
    "    \n",
    "    X_test = X.drop(X_train.index)\n",
    "    y_test = y.drop(y_train.index)\n",
    "    \n",
    "    self_training_model.fit(X_train, y_train)\n",
    "    acc += accuracy_score(y_test, self_training_model.predict(X_test))"
   ]
  },
  {
   "cell_type": "code",
   "execution_count": 332,
   "id": "c4a1964a-0f23-41c0-8feb-c6bf177ca418",
   "metadata": {},
   "outputs": [],
   "source": [
    "lr_svm_rf_dict['semi-supervised'][0] = acc / k"
   ]
  },
  {
   "cell_type": "markdown",
   "id": "31f1f439-dbe6-46cd-8530-e6ad2cffb5a4",
   "metadata": {},
   "source": [
    "Итог:"
   ]
  },
  {
   "cell_type": "code",
   "execution_count": 333,
   "id": "b9a657f2-2977-4431-8938-c9b13c574711",
   "metadata": {},
   "outputs": [
    {
     "data": {
      "text/html": [
       "<div>\n",
       "<style scoped>\n",
       "    .dataframe tbody tr th:only-of-type {\n",
       "        vertical-align: middle;\n",
       "    }\n",
       "\n",
       "    .dataframe tbody tr th {\n",
       "        vertical-align: top;\n",
       "    }\n",
       "\n",
       "    .dataframe thead th {\n",
       "        text-align: right;\n",
       "    }\n",
       "</style>\n",
       "<table border=\"1\" class=\"dataframe\">\n",
       "  <thead>\n",
       "    <tr style=\"text-align: right;\">\n",
       "      <th></th>\n",
       "      <th>not semi-supervised</th>\n",
       "      <th>semi-supervised</th>\n",
       "    </tr>\n",
       "  </thead>\n",
       "  <tbody>\n",
       "    <tr>\n",
       "      <th>LR</th>\n",
       "      <td>0.68</td>\n",
       "      <td>0.86</td>\n",
       "    </tr>\n",
       "    <tr>\n",
       "      <th>SVM</th>\n",
       "      <td>0.75</td>\n",
       "      <td>0.72</td>\n",
       "    </tr>\n",
       "    <tr>\n",
       "      <th>RF</th>\n",
       "      <td>0.76</td>\n",
       "      <td>0.64</td>\n",
       "    </tr>\n",
       "  </tbody>\n",
       "</table>\n",
       "</div>"
      ],
      "text/plain": [
       "     not semi-supervised  semi-supervised\n",
       "LR                  0.68             0.86\n",
       "SVM                 0.75             0.72\n",
       "RF                  0.76             0.64"
      ]
     },
     "execution_count": 333,
     "metadata": {},
     "output_type": "execute_result"
    }
   ],
   "source": [
    "pd.DataFrame(lr_svm_rf_dict, index=['LR', 'SVM', 'RF'])"
   ]
  },
  {
   "cell_type": "markdown",
   "id": "ef4a0e80-a123-4c00-a2e3-96cd48c5e264",
   "metadata": {},
   "source": [
    "Мы видим, что качество у LR улучшилось при переходе к частичному обучению. Если разметить больше данных, результаты будут еще лучше."
   ]
  },
  {
   "cell_type": "markdown",
   "id": "97279df4-80dc-4fea-8b39-1d790e71efad",
   "metadata": {},
   "source": [
    "Мы видим, что наилучшее качество было у частично-обученного LR. Тогда применим его ко всем данным."
   ]
  },
  {
   "cell_type": "code",
   "execution_count": 334,
   "id": "542a4e26-6999-4a8a-89d5-387fcdf46beb",
   "metadata": {},
   "outputs": [
    {
     "name": "stderr",
     "output_type": "stream",
     "text": [
      "/Users/vladkopchev/miniconda3/lib/python3.9/site-packages/sklearn/semi_supervised/_self_training.py:187: UserWarning: y contains no unlabeled samples\n",
      "  warnings.warn(\"y contains no unlabeled samples\", UserWarning)\n",
      "/Users/vladkopchev/miniconda3/lib/python3.9/site-packages/sklearn/linear_model/_logistic.py:763: ConvergenceWarning: lbfgs failed to converge (status=1):\n",
      "STOP: TOTAL NO. of ITERATIONS REACHED LIMIT.\n",
      "\n",
      "Increase the number of iterations (max_iter) or scale the data as shown in:\n",
      "    https://scikit-learn.org/stable/modules/preprocessing.html\n",
      "Please also refer to the documentation for alternative solver options:\n",
      "    https://scikit-learn.org/stable/modules/linear_model.html#logistic-regression\n",
      "  n_iter_i = _check_optimize_result(\n"
     ]
    }
   ],
   "source": [
    "svc = LogisticRegression()\n",
    "self_training_model = SelfTrainingClassifier(svc)\n",
    "\n",
    "X = df.loc[df['DA'].notna()].loc[:, list(df)[36:] + ['Кол-во образований', 'Опыт нормализованный','Топовость образования', 'Справочник по интересам', 'Релокация?', 'Коммандировка?', 'Город?', 'Уровень оборазования нормализованный', 'Карьерный рост', 'Аналитические комбинации слов в навыках']]\n",
    "y = df.loc[df['DA'].notna(), 'DA']\n",
    "    \n",
    "X_train = X\n",
    "y_train = y\n",
    "self_training_model.fit(X_train, y_train)\n",
    "y_pred = self_training_model.predict(df.loc[:, list(df)[36:] + ['Кол-во образований', 'Опыт нормализованный','Топовость образования', 'Справочник по интересам', 'Релокация?', 'Коммандировка?', 'Город?', 'Уровень оборазования нормализованный', 'Карьерный рост', 'Аналитические комбинации слов в навыках']])"
   ]
  },
  {
   "cell_type": "code",
   "execution_count": 335,
   "id": "b0be52bc-0820-4499-85e4-b93ae763247e",
   "metadata": {},
   "outputs": [],
   "source": [
    "df['DA, predicted'] = y_pred"
   ]
  },
  {
   "cell_type": "markdown",
   "id": "a2a22d51-bd94-40ae-a9fd-20ca9f14d824",
   "metadata": {},
   "source": [
    "Каккие получились результаты:"
   ]
  },
  {
   "cell_type": "code",
   "execution_count": 336,
   "id": "a3840155-8d86-4461-a433-5115e6e67767",
   "metadata": {},
   "outputs": [
    {
     "data": {
      "text/plain": [
       "0.0    2331\n",
       "2.0     198\n",
       "1.0     196\n",
       "dtype: int64"
      ]
     },
     "execution_count": 336,
     "metadata": {},
     "output_type": "execute_result"
    }
   ],
   "source": [
    "pd.DataFrame(y_pred).value_counts()"
   ]
  },
  {
   "cell_type": "code",
   "execution_count": 337,
   "id": "60749933-9c5c-4359-9782-b1f1ebdbf2c2",
   "metadata": {},
   "outputs": [
    {
     "name": "stderr",
     "output_type": "stream",
     "text": [
      "/Users/vladkopchev/miniconda3/lib/python3.9/site-packages/sklearn/semi_supervised/_self_training.py:187: UserWarning: y contains no unlabeled samples\n",
      "  warnings.warn(\"y contains no unlabeled samples\", UserWarning)\n",
      "/Users/vladkopchev/miniconda3/lib/python3.9/site-packages/sklearn/linear_model/_logistic.py:763: ConvergenceWarning: lbfgs failed to converge (status=1):\n",
      "STOP: TOTAL NO. of ITERATIONS REACHED LIMIT.\n",
      "\n",
      "Increase the number of iterations (max_iter) or scale the data as shown in:\n",
      "    https://scikit-learn.org/stable/modules/preprocessing.html\n",
      "Please also refer to the documentation for alternative solver options:\n",
      "    https://scikit-learn.org/stable/modules/linear_model.html#logistic-regression\n",
      "  n_iter_i = _check_optimize_result(\n"
     ]
    }
   ],
   "source": [
    "svc = LogisticRegression()\n",
    "self_training_model = SelfTrainingClassifier(svc)\n",
    "\n",
    "X = df.loc[df['DS'].notna()].loc[:, list(df)[36:] + ['Кол-во образований', 'Опыт нормализованный','Топовость образования', 'Справочник по интересам', 'Релокация?', 'Коммандировка?', 'Город?', 'Уровень оборазования нормализованный', 'Карьерный рост', 'Аналитические комбинации слов в навыках']]\n",
    "y = df.loc[df['DS'].notna(), 'DS']\n",
    "    \n",
    "X_train = X\n",
    "y_train = y\n",
    "self_training_model.fit(X_train, y_train)\n",
    "y_pred = self_training_model.predict(df.loc[:, list(df)[36:] + ['Кол-во образований', 'Опыт нормализованный','Топовость образования', 'Справочник по интересам', 'Релокация?', 'Коммандировка?', 'Город?', 'Уровень оборазования нормализованный', 'Карьерный рост', 'Аналитические комбинации слов в навыках']])"
   ]
  },
  {
   "cell_type": "code",
   "execution_count": 338,
   "id": "ba55d36a-578f-429f-babc-9a824a015740",
   "metadata": {},
   "outputs": [],
   "source": [
    "df['DS, predicted'] = y_pred"
   ]
  },
  {
   "cell_type": "markdown",
   "id": "b7284d1d-ce1a-4c4c-a84b-c40b591b38a5",
   "metadata": {},
   "source": [
    "Каккие получились результаты:"
   ]
  },
  {
   "cell_type": "code",
   "execution_count": 339,
   "id": "e90e8c43-fe8b-4e67-9a22-dc0c7a5921cf",
   "metadata": {},
   "outputs": [
    {
     "data": {
      "text/plain": [
       "0.0    2700\n",
       "1.0      14\n",
       "2.0      11\n",
       "dtype: int64"
      ]
     },
     "execution_count": 339,
     "metadata": {},
     "output_type": "execute_result"
    }
   ],
   "source": [
    "pd.DataFrame(y_pred).value_counts()"
   ]
  },
  {
   "cell_type": "code",
   "execution_count": 350,
   "id": "01a020fd-0a66-4939-96ba-e2151693fa3b",
   "metadata": {},
   "outputs": [],
   "source": [
    "df.to_csv('resumes_features.csv')"
   ]
  },
  {
   "cell_type": "markdown",
   "id": "9f505649-5ada-47d8-afdb-61020bb6b6f7",
   "metadata": {},
   "source": [
    "**Кластеризация**"
   ]
  },
  {
   "cell_type": "markdown",
   "id": "ef5bd0b6-10a4-4adb-b8de-9980b0fc5e18",
   "metadata": {},
   "source": [
    "Теперь произведем сегментацию данных с помощью кластеризации и проанализируем результаты. Для начала используем PCA."
   ]
  },
  {
   "cell_type": "code",
   "execution_count": 3,
   "id": "323bc14e-3bde-48e7-9420-fb76ade25ce2",
   "metadata": {},
   "outputs": [],
   "source": [
    "df = pd.read_csv('resumes_features.csv')"
   ]
  },
  {
   "cell_type": "code",
   "execution_count": 4,
   "id": "0fd2059c-5280-4ccf-a498-98290965e3c6",
   "metadata": {},
   "outputs": [],
   "source": [
    "df.drop(list(df)[0], axis=1, inplace=True)\n",
    "df.reset_index(inplace=True)\n",
    "df.drop(list(df)[0], axis=1, inplace=True)"
   ]
  },
  {
   "cell_type": "code",
   "execution_count": 5,
   "id": "f6377f19-0a4b-4afe-b7e0-762d77accbef",
   "metadata": {},
   "outputs": [
    {
     "data": {
      "text/html": [
       "<div>\n",
       "<style scoped>\n",
       "    .dataframe tbody tr th:only-of-type {\n",
       "        vertical-align: middle;\n",
       "    }\n",
       "\n",
       "    .dataframe tbody tr th {\n",
       "        vertical-align: top;\n",
       "    }\n",
       "\n",
       "    .dataframe thead th {\n",
       "        text-align: right;\n",
       "    }\n",
       "</style>\n",
       "<table border=\"1\" class=\"dataframe\">\n",
       "  <thead>\n",
       "    <tr style=\"text-align: right;\">\n",
       "      <th></th>\n",
       "      <th>Ссылка</th>\n",
       "      <th>Название</th>\n",
       "      <th>Коммандировка</th>\n",
       "      <th>Опыт</th>\n",
       "      <th>О себе</th>\n",
       "      <th>Образование</th>\n",
       "      <th>Интересы</th>\n",
       "      <th>Навыки</th>\n",
       "      <th>Образование-1</th>\n",
       "      <th>Образование-2</th>\n",
       "      <th>...</th>\n",
       "      <th>93</th>\n",
       "      <th>94</th>\n",
       "      <th>95</th>\n",
       "      <th>96</th>\n",
       "      <th>97</th>\n",
       "      <th>98</th>\n",
       "      <th>99</th>\n",
       "      <th>clust</th>\n",
       "      <th>DA, predicted</th>\n",
       "      <th>DS, predicted</th>\n",
       "    </tr>\n",
       "  </thead>\n",
       "  <tbody>\n",
       "    <tr>\n",
       "      <th>65</th>\n",
       "      <td>https://hh.ru/resume/4210911700043613eb0039ed1...</td>\n",
       "      <td>Бухгалтер-аудитор, бухгалтер, экономист</td>\n",
       "      <td>Москва, не готов к переезду, готов к редким ко...</td>\n",
       "      <td>Опыт работы 7 месяцев</td>\n",
       "      <td>- Имеются сертификаты о публикациях научных ст...</td>\n",
       "      <td>Высшее образование\\n2019\\nГосударственный унив...</td>\n",
       "      <td>Специализации:\\nБухгалтер\\nЗанятость: полная з...</td>\n",
       "      <td>---</td>\n",
       "      <td>Государственный университет управления, Москва</td>\n",
       "      <td>Государственный университет управления, Москва</td>\n",
       "      <td>...</td>\n",
       "      <td>-0.001127</td>\n",
       "      <td>-0.001426</td>\n",
       "      <td>-0.002135</td>\n",
       "      <td>-0.002997</td>\n",
       "      <td>0.000601</td>\n",
       "      <td>0.001671</td>\n",
       "      <td>-0.001503</td>\n",
       "      <td>1</td>\n",
       "      <td>0.0</td>\n",
       "      <td>0.0</td>\n",
       "    </tr>\n",
       "  </tbody>\n",
       "</table>\n",
       "<p>1 rows × 140 columns</p>\n",
       "</div>"
      ],
      "text/plain": [
       "                                               Ссылка  \\\n",
       "65  https://hh.ru/resume/4210911700043613eb0039ed1...   \n",
       "\n",
       "                                   Название  \\\n",
       "65  Бухгалтер-аудитор, бухгалтер, экономист   \n",
       "\n",
       "                                        Коммандировка                   Опыт  \\\n",
       "65  Москва, не готов к переезду, готов к редким ко...  Опыт работы 7 месяцев   \n",
       "\n",
       "                                               О себе  \\\n",
       "65  - Имеются сертификаты о публикациях научных ст...   \n",
       "\n",
       "                                          Образование  \\\n",
       "65  Высшее образование\\n2019\\nГосударственный унив...   \n",
       "\n",
       "                                             Интересы Навыки  \\\n",
       "65  Специализации:\\nБухгалтер\\nЗанятость: полная з...    ---   \n",
       "\n",
       "                                     Образование-1  \\\n",
       "65  Государственный университет управления, Москва   \n",
       "\n",
       "                                     Образование-2  ...        93        94  \\\n",
       "65  Государственный университет управления, Москва  ... -0.001127 -0.001426   \n",
       "\n",
       "          95        96        97        98        99 clust  DA, predicted  \\\n",
       "65 -0.002135 -0.002997  0.000601  0.001671 -0.001503     1            0.0   \n",
       "\n",
       "    DS, predicted  \n",
       "65            0.0  \n",
       "\n",
       "[1 rows x 140 columns]"
      ]
     },
     "execution_count": 5,
     "metadata": {},
     "output_type": "execute_result"
    }
   ],
   "source": [
    "df.sample(1)"
   ]
  },
  {
   "cell_type": "code",
   "execution_count": 6,
   "id": "50a57b9d-0383-4420-9c85-3f9134ac5faf",
   "metadata": {},
   "outputs": [],
   "source": [
    "scaler = StandardScaler()\n",
    "x = scaler.fit_transform(df.loc[:, list(df)[36:] + ['Кол-во образований', 'Опыт нормализованный','Топовость образования', 'Справочник по интересам', 'Релокация?', 'Коммандировка?', 'Город?', 'Уровень оборазования нормализованный', 'Карьерный рост', 'Аналитические комбинации слов в навыках']])"
   ]
  },
  {
   "cell_type": "code",
   "execution_count": 7,
   "id": "94c9b165-0d9e-4639-a7f6-bc0768607aee",
   "metadata": {},
   "outputs": [],
   "source": [
    "pca = PCA(n_components=3)\n",
    "principalComponents = pca.fit_transform(x)\n",
    "principal = pd.DataFrame(data = principalComponents\n",
    "             , columns = ['principal component 1', 'principal component 2','principal component 3'])"
   ]
  },
  {
   "cell_type": "code",
   "execution_count": 8,
   "id": "3801364e-b9c9-4c91-9321-4001579ef2ef",
   "metadata": {},
   "outputs": [
    {
     "data": {
      "text/plain": [
       "0.5610708431355292"
      ]
     },
     "execution_count": 8,
     "metadata": {},
     "output_type": "execute_result"
    }
   ],
   "source": [
    "pca.explained_variance_ratio_[:2].sum()"
   ]
  },
  {
   "cell_type": "code",
   "execution_count": 9,
   "id": "a6ba132f-c5c8-405f-904b-69600b03b5fa",
   "metadata": {},
   "outputs": [
    {
     "data": {
      "text/html": [
       "<div>\n",
       "<style scoped>\n",
       "    .dataframe tbody tr th:only-of-type {\n",
       "        vertical-align: middle;\n",
       "    }\n",
       "\n",
       "    .dataframe tbody tr th {\n",
       "        vertical-align: top;\n",
       "    }\n",
       "\n",
       "    .dataframe thead th {\n",
       "        text-align: right;\n",
       "    }\n",
       "</style>\n",
       "<table border=\"1\" class=\"dataframe\">\n",
       "  <thead>\n",
       "    <tr style=\"text-align: right;\">\n",
       "      <th></th>\n",
       "      <th>principal component 1</th>\n",
       "      <th>principal component 2</th>\n",
       "      <th>principal component 3</th>\n",
       "    </tr>\n",
       "  </thead>\n",
       "  <tbody>\n",
       "    <tr>\n",
       "      <th>137</th>\n",
       "      <td>-0.37295</td>\n",
       "      <td>-2.883010</td>\n",
       "      <td>-0.844412</td>\n",
       "    </tr>\n",
       "    <tr>\n",
       "      <th>2593</th>\n",
       "      <td>37.78962</td>\n",
       "      <td>16.870258</td>\n",
       "      <td>-0.354954</td>\n",
       "    </tr>\n",
       "  </tbody>\n",
       "</table>\n",
       "</div>"
      ],
      "text/plain": [
       "      principal component 1  principal component 2  principal component 3\n",
       "137                -0.37295              -2.883010              -0.844412\n",
       "2593               37.78962              16.870258              -0.354954"
      ]
     },
     "execution_count": 9,
     "metadata": {},
     "output_type": "execute_result"
    }
   ],
   "source": [
    "principal.sample(2)"
   ]
  },
  {
   "cell_type": "code",
   "execution_count": 11,
   "id": "5335ff9d-a817-42d1-9a23-1e4e2cc250c4",
   "metadata": {},
   "outputs": [
    {
     "name": "stderr",
     "output_type": "stream",
     "text": [
      "/Users/vladkopchev/miniconda3/lib/python3.9/site-packages/seaborn/_decorators.py:36: FutureWarning: Pass the following variables as keyword args: x, y. From version 0.12, the only valid positional argument will be `data`, and passing other arguments without an explicit keyword will result in an error or misinterpretation.\n",
      "  warnings.warn(\n"
     ]
    },
    {
     "data": {
      "text/plain": [
       "<AxesSubplot:xlabel='principal component 1', ylabel='principal component 2'>"
      ]
     },
     "execution_count": 11,
     "metadata": {},
     "output_type": "execute_result"
    },
    {
     "data": {
      "image/png": "[encoded data removed]",
      "text/plain": [
       "<Figure size 640x480 with 1 Axes>"
      ]
     },
     "metadata": {},
     "output_type": "display_data"
    }
   ],
   "source": [
    "sns.scatterplot(principal['principal component 1'], principal['principal component 2'])"
   ]
  },
  {
   "cell_type": "markdown",
   "id": "6041c720-8999-451c-a65d-c83247a30fd4",
   "metadata": {},
   "source": [
    "Теперь обучаем PCA+KMeans"
   ]
  },
  {
   "cell_type": "markdown",
   "id": "f18a9dc8-fdcb-4b82-84f0-77d86a59b003",
   "metadata": {},
   "source": [
    "Применим elbow method:"
   ]
  },
  {
   "cell_type": "code",
   "execution_count": 24,
   "id": "74a0b97c-9c81-4fee-929d-a9604362d0bc",
   "metadata": {},
   "outputs": [
    {
     "data": {
      "image/png": "[encoded data removed]",
      "text/plain": [
       "<Figure size 640x480 with 1 Axes>"
      ]
     },
     "metadata": {},
     "output_type": "display_data"
    }
   ],
   "source": [
    "import pandas as pd\n",
    "from sklearn.datasets import load_iris\n",
    "from sklearn.cluster import KMeans\n",
    "import matplotlib.pyplot as plt\n",
    "\n",
    "data = principal\n",
    "\n",
    "sse = {}\n",
    "for k in range(1, 10):\n",
    "    kmeans = KMeans(n_clusters=k, max_iter=1000).fit(data)\n",
    "    data[\"clusters\"] = kmeans.labels_\n",
    "    #print(data[\"clusters\"])\n",
    "    sse[k] = kmeans.inertia_ # Inertia: Sum of distances of samples to their closest cluster center\n",
    "plt.figure()\n",
    "plt.plot(list(sse.keys()), list(sse.values()))\n",
    "plt.xlabel(\"Number of cluster\")\n",
    "plt.ylabel(\"SSE\")\n",
    "plt.show()"
   ]
  },
  {
   "cell_type": "code",
   "execution_count": 38,
   "id": "0f4909dd-ad7a-4698-9e4d-fa92ebfd3ab3",
   "metadata": {},
   "outputs": [],
   "source": [
    "kmeans = KMeans(n_clusters=5).fit(principal)\n",
    "l = kmeans.labels_"
   ]
  },
  {
   "cell_type": "code",
   "execution_count": 39,
   "id": "bf9cde78-e3dd-4c5e-9081-a36ce08a2250",
   "metadata": {},
   "outputs": [
    {
     "data": {
      "text/plain": [
       "<matplotlib.collections.PathCollection at 0x7fdbcd6f0580>"
      ]
     },
     "execution_count": 39,
     "metadata": {},
     "output_type": "execute_result"
    },
    {
     "data": {
      "image/png": "[encoded data removed]",
      "text/plain": [
       "<Figure size 640x480 with 1 Axes>"
      ]
     },
     "metadata": {},
     "output_type": "display_data"
    }
   ],
   "source": [
    "plt.scatter(principal['principal component 1'], \n",
    "             principal['principal component 2'],\n",
    "             c=l,\n",
    "           )"
   ]
  },
  {
   "cell_type": "code",
   "execution_count": 41,
   "id": "005f783d-febc-4d42-8df1-e8621de896c3",
   "metadata": {},
   "outputs": [
    {
     "data": {
      "text/plain": [
       "0.7937167254569303"
      ]
     },
     "execution_count": 41,
     "metadata": {},
     "output_type": "execute_result"
    }
   ],
   "source": [
    "from sklearn import metrics\n",
    "metrics.silhouette_score(principal,l)\n",
    "# https://stephenallwright.com/good-clustering-metrics/"
   ]
  },
  {
   "cell_type": "markdown",
   "id": "d1ec9f39-4abe-42d3-9209-0ed5d239fd5f",
   "metadata": {},
   "source": [
    "Теперь DBSCAN"
   ]
  },
  {
   "cell_type": "code",
   "execution_count": 47,
   "id": "af010c26-3cf6-4ea5-95b3-10271558ef41",
   "metadata": {},
   "outputs": [
    {
     "data": {
      "text/plain": [
       "0.8228274645053499"
      ]
     },
     "execution_count": 47,
     "metadata": {},
     "output_type": "execute_result"
    },
    {
     "data": {
      "image/png": "[encoded data removed]",
      "text/plain": [
       "<Figure size 640x480 with 1 Axes>"
      ]
     },
     "metadata": {},
     "output_type": "display_data"
    }
   ],
   "source": [
    "from sklearn.cluster import DBSCAN\n",
    "clustering = DBSCAN(eps=3, min_samples=2).fit(principal)\n",
    "clustering.labels_\n",
    "plt.scatter(principal['principal component 1'], \n",
    "             principal['principal component 2'],\n",
    "             c=clustering.labels_,\n",
    "           )\n",
    "metrics.silhouette_score(principal,clustering.labels_)"
   ]
  },
  {
   "cell_type": "markdown",
   "id": "7f37ff55-2536-4d75-9fb7-66cabf66fb2f",
   "metadata": {},
   "source": [
    "Теперь GM, 9 определил опытным путем"
   ]
  },
  {
   "cell_type": "code",
   "execution_count": 66,
   "id": "4defb6e5-4900-4fd1-8ac5-a39ac549d1cc",
   "metadata": {},
   "outputs": [
    {
     "data": {
      "text/plain": [
       "<matplotlib.collections.PathCollection at 0x7fdbda614d90>"
      ]
     },
     "execution_count": 66,
     "metadata": {},
     "output_type": "execute_result"
    },
    {
     "data": {
      "image/png": "[encoded data removed]",
      "text/plain": [
       "<Figure size 640x480 with 1 Axes>"
      ]
     },
     "metadata": {},
     "output_type": "display_data"
    }
   ],
   "source": [
    "from sklearn.mixture import GaussianMixture\n",
    "gm = GaussianMixture(n_components=9, random_state=0).fit(principal)\n",
    "gm.predict(principal)\n",
    "plt.scatter(principal['principal component 1'], \n",
    "             principal['principal component 2'],\n",
    "             c=gm.predict(principal),\n",
    "           )"
   ]
  },
  {
   "cell_type": "code",
   "execution_count": 67,
   "id": "370b75f4-09b5-47cd-be0a-066ea33b6c1b",
   "metadata": {},
   "outputs": [
    {
     "data": {
      "text/plain": [
       "0.8254936310797131"
      ]
     },
     "execution_count": 67,
     "metadata": {},
     "output_type": "execute_result"
    }
   ],
   "source": [
    "metrics.silhouette_score(principal,gm.predict(principal))"
   ]
  },
  {
   "cell_type": "markdown",
   "id": "543bbe56-7a52-4456-914d-8e58460830b5",
   "metadata": {},
   "source": [
    "Что за кластеры:"
   ]
  },
  {
   "cell_type": "code",
   "execution_count": 348,
   "id": "7b167ba2-4702-4794-8bbf-e0a14d30b86f",
   "metadata": {},
   "outputs": [],
   "source": [
    "df['clust'] = l"
   ]
  },
  {
   "cell_type": "code",
   "execution_count": 100,
   "id": "bf3dce84-d8cc-48d6-814a-496ffd5114db",
   "metadata": {},
   "outputs": [
    {
     "data": {
      "text/plain": [
       "22      ---\n",
       "31      ---\n",
       "33      ---\n",
       "34      ---\n",
       "46      ---\n",
       "       ... \n",
       "2711    ---\n",
       "2716    ---\n",
       "2717    ---\n",
       "2723    ---\n",
       "2724    ---\n",
       "Name: О себе, Length: 356, dtype: object"
      ]
     },
     "execution_count": 100,
     "metadata": {},
     "output_type": "execute_result"
    }
   ],
   "source": [
    "df.loc[df['clust']==0]['О себе']"
   ]
  },
  {
   "cell_type": "code",
   "execution_count": 102,
   "id": "fe3a9f8c-a06e-4db8-a7f2-c015e7df8825",
   "metadata": {},
   "outputs": [
    {
     "data": {
      "text/plain": [
       "0       Уверенный пользователь ПК, Ms Word, Ms Excel, ...\n",
       "1       Энергична, активна, в поиске новых возможносте...\n",
       "2       опыт прямых продаж, ведение коммерческих перег...\n",
       "3       Коммуникабелен\\nУмение работать с возражениями...\n",
       "4       Дисциплина - умение выполнять поставленные зад...\n",
       "                              ...                        \n",
       "2714    Опыт управления более 15-и лет. Развитые управ...\n",
       "2715    Аналитика продаж ,поиск клиентов,связь с произ...\n",
       "2719    Многозадачность, стрессоустойчивость, инициати...\n",
       "2720    Уверенный пользователь ПК: MS Office (Word, Ex...\n",
       "2722                                                    .\n",
       "Name: О себе, Length: 2156, dtype: object"
      ]
     },
     "execution_count": 102,
     "metadata": {},
     "output_type": "execute_result"
    }
   ],
   "source": [
    "df.loc[df['clust']==1]['О себе']"
   ]
  },
  {
   "cell_type": "code",
   "execution_count": 103,
   "id": "29b1d9b6-012f-44ff-964a-0249685fc9a7",
   "metadata": {},
   "outputs": [
    {
     "data": {
      "text/plain": [
       "58      Общий стаж работы более 20 лет. Легко обучаюсь...\n",
       "128     Легко и быстро обучаюсь, целеустремленная, вни...\n",
       "298     Добрый день. Немного обо мне: Успешное провиде...\n",
       "336     Аналитический склад ума, высокая концентрация,...\n",
       "376     Пунктуальная, исполнительная, мобильная.\\nУмею...\n",
       "513     • Умею и люблю учиться;\\n• Пунктуальна и дисци...\n",
       "593     Работал с людьми обладаю управлять командой зн...\n",
       "661     Люблю ответственность и ответственных людей, п...\n",
       "759     Умею работать в режиме многозадачности, пункту...\n",
       "891     Ответственная, целеустремленная, коммуникабель...\n",
       "1020    Готова сразу приступить к работе.\\n\\nExcel- ув...\n",
       "1140    Люблю думать, создавать, видеть в своей работе...\n",
       "1298    Имею опыт работы в коллективе, организована, о...\n",
       "1442    Здравствуйте, меня зовут Ксения.\\nИз качеств о...\n",
       "1493    Уравновешенный, целеустремленный, коммуникабел...\n",
       "1530    Я люблю интересную работу с возможностями разв...\n",
       "1556    Очень люблю автомобили, много читаю, в т.ч. те...\n",
       "1595    Легко и быстро обучаюсь. Всегда стремлюсь узна...\n",
       "1688    Имею опыт работы с web интерфейсами: backdase,...\n",
       "1734    Активность, коммуникабельность, стрессоустойчи...\n",
       "1908    Коммуникабельность,стрессоустойчивость,целеуст...\n",
       "1958    Личные качества - целеустремленность, коммуник...\n",
       "2016    Имею знания в области банковских технологий, и...\n",
       "2041    Имею знания в области банковских технологий, и...\n",
       "2089    Ответственна, доброжелательна, легко обучаема;...\n",
       "2131    Работаю много и эффективно. Стараюсь не употре...\n",
       "2140    Умею работать в режиме многозадачности, пункту...\n",
       "2197    Профессионализм, достижение высоких результато...\n",
       "2214    Энергичность, открытость, высокая обучаемость,...\n",
       "2274    Я человек активный, ответственный, общительный...\n",
       "2329    Системный, многосторонний подход к решению зад...\n",
       "2338    Веду активный и здоровый образ жизни.\\nПродвин...\n",
       "2432    Семейное положение – не замужем, наличие детей...\n",
       "2541    Целеустремленный, трудолюбивый, не боюсь трудн...\n",
       "2593    Личные качества: настойчивость, скрупулезность...\n",
       "2633    Нацелен на результат, ответственно подхожу к л...\n",
       "2634    Коммуникабельность, пунктуальность, исполнител...\n",
       "Name: О себе, dtype: object"
      ]
     },
     "execution_count": 103,
     "metadata": {},
     "output_type": "execute_result"
    }
   ],
   "source": [
    "df.loc[df['clust']==2]['О себе']"
   ]
  },
  {
   "cell_type": "code",
   "execution_count": 104,
   "id": "8610041d-0990-4b4c-9542-e7bdb482a4cc",
   "metadata": {},
   "outputs": [
    {
     "data": {
      "text/plain": [
       "29      Разбираюсь в новых системах и проектах, люблю ...\n",
       "32      Имею большой опыт в продажах. Работая в любом ...\n",
       "101     легко обучаема,целеустремленная,клиентоорентир...\n",
       "109     - люблю много и результативно работать\\n- ценю...\n",
       "113     Ответственная, активная, быстро обучаюсь и усв...\n",
       "                              ...                        \n",
       "2701    Пользователь MS Office (Word, Excel, Internet)...\n",
       "2706    ответственная, коммуникабельная, работаю в усл...\n",
       "2708    Сильный бэкграунд, опыт работы в различных сфе...\n",
       "2718    Коммуникабельный,инновационный.\\nОбладаю спосо...\n",
       "2721    Моя потребность в постоянном улучшении себя на...\n",
       "Name: О себе, Length: 176, dtype: object"
      ]
     },
     "execution_count": 104,
     "metadata": {},
     "output_type": "execute_result"
    }
   ],
   "source": [
    "df.loc[df['clust']==3]['О себе']"
   ]
  },
  {
   "cell_type": "code",
   "execution_count": 101,
   "id": "3156420d-bcc8-4db0-80ff-549ad6005b7f",
   "metadata": {},
   "outputs": [
    {
     "name": "stdout",
     "output_type": "stream",
     "text": [
      "1 : 356\n",
      "2 : 2156\n",
      "3 : 37\n",
      "4 : 176\n"
     ]
    }
   ],
   "source": [
    "for x in np.unique(df['clust']):\n",
    "    print(x + 1, ':', df.loc[df['clust']==x]['О себе'].shape[0])"
   ]
  }
 ],
 "metadata": {
  "kernelspec": {
   "display_name": "Python 3 (ipykernel)",
   "language": "python",
   "name": "python3"
  },
  "language_info": {
   "codemirror_mode": {
    "name": "ipython",
    "version": 3
   },
   "file_extension": ".py",
   "mimetype": "text/x-python",
   "name": "python",
   "nbconvert_exporter": "python",
   "pygments_lexer": "ipython3",
   "version": "3.9.5"
  }
 },
 "nbformat": 4,
 "nbformat_minor": 5
}
