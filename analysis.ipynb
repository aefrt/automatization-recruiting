{
 "cells": [
  {
   "cell_type": "markdown",
   "id": "41b3e9f1-17cd-448d-bde7-9cfef4b30262",
   "metadata": {},
   "source": [
    "## ВКР: анализ данных"
   ]
  },
  {
   "cell_type": "markdown",
   "id": "603a9da5-cd31-436e-ac09-53a4989c2552",
   "metadata": {},
   "source": [
    "Автоматизация подбора персонала\n",
    "\n",
    "Копчев Владислав, БПМИ197"
   ]
  },
  {
   "cell_type": "markdown",
   "id": "2aa41204-e166-4fbb-aacc-c60461c4c663",
   "metadata": {},
   "source": [
    "В данном ноутбуке предобработанные в ноутбуке `preprocessing.ipynb` данные мы будем анализировать и делать из них полезные для принятия HR-решений выводы."
   ]
  },
  {
   "cell_type": "markdown",
   "id": "9b7a3e77-82be-45ab-b8c0-0327d7e7ff03",
   "metadata": {},
   "source": [
    "### Библиотеки"
   ]
  },
  {
   "cell_type": "markdown",
   "id": "03eee3b0-f0de-4cfa-814a-d498e7dc8bd2",
   "metadata": {},
   "source": [
    "Импорт библиотек:"
   ]
  },
  {
   "cell_type": "code",
   "execution_count": 2,
   "id": "51390a49-af19-4714-8209-35086ee596b8",
   "metadata": {},
   "outputs": [
    {
     "name": "stderr",
     "output_type": "stream",
     "text": [
      "/Users/vladkopchev/miniconda3/lib/python3.9/site-packages/scipy/__init__.py:138: UserWarning: A NumPy version >=1.16.5 and <1.23.0 is required for this version of SciPy (detected version 1.23.5)\n",
      "  warnings.warn(f\"A NumPy version >={np_minversion} and <{np_maxversion} is required for this version of \"\n"
     ]
    }
   ],
   "source": [
    "from bs4 import BeautifulSoup\n",
    "import requests\n",
    "import pandas as pd\n",
    "from selenium import webdriver\n",
    "from selenium.webdriver.common.keys import Keys\n",
    "from selenium.webdriver.common.by import By\n",
    "from selenium.webdriver.support.ui import Select\n",
    "# !pip install transliterate\n",
    "from transliterate import translit\n",
    "import re\n",
    "import numpy as np\n",
    "\n",
    "from scipy.spatial import distance\n",
    "from sklearn.preprocessing import StandardScaler\n",
    "from sklearn.decomposition import PCA\n",
    "import seaborn as sns\n",
    "from sklearn.cluster import KMeans\n",
    "import matplotlib.pyplot as plt\n",
    "import numpy as np\n",
    "from sklearn.linear_model import LinearRegression\n",
    "from sklearn.linear_model import LogisticRegression\n",
    "from sklearn.metrics import accuracy_score\n",
    "from sklearn.preprocessing import LabelEncoder"
   ]
  },
  {
   "cell_type": "markdown",
   "id": "558d8586-b380-4bf8-b610-6390cef770a1",
   "metadata": {},
   "source": [
    "Мы имеем таблицу с данными, в которых все признаки приведены к простому виду, выделены новые полезные признаки, была произведена суммаризация раздела \"О себе\". Теперь мы произведем токенизацию раздела \"О себе\" на совокупность 3-грамм, которые мы и будем считать токенами, после чего построим эмбеддинги."
   ]
  },
  {
   "cell_type": "markdown",
   "id": "7f01112b-3e50-44a8-a334-da5e366a2aca",
   "metadata": {},
   "source": [
    "**Токенизация раздела \"О себе\" на 1-граммы:**"
   ]
  },
  {
   "cell_type": "code",
   "execution_count": 4,
   "id": "e4fdb3b1-b935-4a9a-835f-5fd43b695d29",
   "metadata": {},
   "outputs": [],
   "source": [
    "df = pd.read_csv('resumes_features.csv')"
   ]
  },
  {
   "cell_type": "code",
   "execution_count": 5,
   "id": "46b66f6a-da01-4cd5-b768-1b5328ec17b3",
   "metadata": {},
   "outputs": [],
   "source": [
    "df.drop(list(df)[0], axis=1, inplace=True)\n",
    "df.reset_index(inplace=True)\n",
    "df.drop(list(df)[0], axis=1, inplace=True)"
   ]
  },
  {
   "cell_type": "code",
   "execution_count": 6,
   "id": "cc91a73b-4481-4eaa-ab8a-cda931bd3c81",
   "metadata": {},
   "outputs": [
    {
     "data": {
      "text/html": [
       "<div>\n",
       "<style scoped>\n",
       "    .dataframe tbody tr th:only-of-type {\n",
       "        vertical-align: middle;\n",
       "    }\n",
       "\n",
       "    .dataframe tbody tr th {\n",
       "        vertical-align: top;\n",
       "    }\n",
       "\n",
       "    .dataframe thead th {\n",
       "        text-align: right;\n",
       "    }\n",
       "</style>\n",
       "<table border=\"1\" class=\"dataframe\">\n",
       "  <thead>\n",
       "    <tr style=\"text-align: right;\">\n",
       "      <th></th>\n",
       "      <th>Ссылка</th>\n",
       "      <th>Название</th>\n",
       "      <th>Коммандировка</th>\n",
       "      <th>Опыт</th>\n",
       "      <th>О себе</th>\n",
       "      <th>Образование</th>\n",
       "      <th>Интересы</th>\n",
       "      <th>Навыки</th>\n",
       "      <th>Образование-1</th>\n",
       "      <th>Образование-2</th>\n",
       "      <th>...</th>\n",
       "      <th>93</th>\n",
       "      <th>94</th>\n",
       "      <th>95</th>\n",
       "      <th>96</th>\n",
       "      <th>97</th>\n",
       "      <th>98</th>\n",
       "      <th>99</th>\n",
       "      <th>clust</th>\n",
       "      <th>DA, predicted</th>\n",
       "      <th>DS, predicted</th>\n",
       "    </tr>\n",
       "  </thead>\n",
       "  <tbody>\n",
       "    <tr>\n",
       "      <th>562</th>\n",
       "      <td>https://hh.ru/resume/bf3538c100015a61540039ed1...</td>\n",
       "      <td>Ведущий/главный специалист по предотвращению п...</td>\n",
       "      <td>Москва, м. Савёловская, готов к переезду, гото...</td>\n",
       "      <td>Опыт работы 16 лет 2 месяца</td>\n",
       "      <td>- Хорошее знание бизнес-процессов оператора св...</td>\n",
       "      <td>Высшее образование (Магистр)\\n2011\\nМосковский...</td>\n",
       "      <td>Специализации:\\nСпециалист службы безопасности...</td>\n",
       "      <td>---</td>\n",
       "      <td>Московский технический университет связи и инф...</td>\n",
       "      <td>Московский технический университет связи и инф...</td>\n",
       "      <td>...</td>\n",
       "      <td>0.001122</td>\n",
       "      <td>0.001745</td>\n",
       "      <td>-0.000003</td>\n",
       "      <td>0.000824</td>\n",
       "      <td>-0.002226</td>\n",
       "      <td>-0.00037</td>\n",
       "      <td>-0.0019</td>\n",
       "      <td>0</td>\n",
       "      <td>0.0</td>\n",
       "      <td>0.0</td>\n",
       "    </tr>\n",
       "  </tbody>\n",
       "</table>\n",
       "<p>1 rows × 140 columns</p>\n",
       "</div>"
      ],
      "text/plain": [
       "                                                Ссылка  \\\n",
       "562  https://hh.ru/resume/bf3538c100015a61540039ed1...   \n",
       "\n",
       "                                              Название  \\\n",
       "562  Ведущий/главный специалист по предотвращению п...   \n",
       "\n",
       "                                         Коммандировка  \\\n",
       "562  Москва, м. Савёловская, готов к переезду, гото...   \n",
       "\n",
       "                            Опыт  \\\n",
       "562  Опыт работы 16 лет 2 месяца   \n",
       "\n",
       "                                                О себе  \\\n",
       "562  - Хорошее знание бизнес-процессов оператора св...   \n",
       "\n",
       "                                           Образование  \\\n",
       "562  Высшее образование (Магистр)\\n2011\\nМосковский...   \n",
       "\n",
       "                                              Интересы Навыки  \\\n",
       "562  Специализации:\\nСпециалист службы безопасности...    ---   \n",
       "\n",
       "                                         Образование-1  \\\n",
       "562  Московский технический университет связи и инф...   \n",
       "\n",
       "                                         Образование-2  ...        93  \\\n",
       "562  Московский технический университет связи и инф...  ...  0.001122   \n",
       "\n",
       "           94        95        96        97       98      99 clust  \\\n",
       "562  0.001745 -0.000003  0.000824 -0.002226 -0.00037 -0.0019     0   \n",
       "\n",
       "     DA, predicted  DS, predicted  \n",
       "562            0.0            0.0  \n",
       "\n",
       "[1 rows x 140 columns]"
      ]
     },
     "execution_count": 6,
     "metadata": {},
     "output_type": "execute_result"
    }
   ],
   "source": [
    "df.sample(1)"
   ]
  },
  {
   "cell_type": "markdown",
   "id": "3f65e082-e795-4015-9121-68bf3c4509e3",
   "metadata": {},
   "source": [
    "Для начала построим разбиение на 1-граммы (в коде также мы уберем пробелы и ненужные символы, стоп-слова, приведем слова к нормальной форме):"
   ]
  },
  {
   "cell_type": "code",
   "execution_count": 244,
   "id": "92c1cb6b-b792-489c-8bcc-16b1a72fbeda",
   "metadata": {},
   "outputs": [],
   "source": [
    "import nltk\n",
    "# nltk.download('stopwords')\n",
    "\n",
    "import re\n",
    "from pymorphy2 import MorphAnalyzer\n",
    "from nltk.corpus import stopwords\n",
    "patterns = \"[0-9!#$%&'()*+,./:;<=>?@[\\]^_`{|}~—\\\"\\-]+\"\n",
    "stopwords_ru = stopwords.words(\"russian\")\n",
    "morph = MorphAnalyzer()\n",
    "def lemmatize(doc):\n",
    "    # print(doc)\n",
    "    doc = re.sub(patterns, ' ', doc)\n",
    "    tokens = []\n",
    "    for token in doc.split():\n",
    "        if token and token not in stopwords_ru and morph.normal_forms(token)[0] not in stopwords_ru:  # ВОТ откуда там стоп-слвоа — В not in stopwords_ru -> normal(В) = в\n",
    "            # print(token)\n",
    "            token = token.strip()\n",
    "            token = morph.normal_forms(token)[0]\n",
    "            tokens.append(token)\n",
    "    if len(tokens) > 2:\n",
    "        return tokens\n",
    "    return None\n",
    "\n",
    "df2 = pd.DataFrame(df['О себе, summarized'])\n",
    "\n",
    "for col_ind in df2.index:\n",
    "    col = df2.loc[col_ind]['О себе, summarized']\n",
    "    if col:\n",
    "        df2.loc[col_ind]['О себе, summarized'] = lemmatize(str(col))\n",
    "        #print(lemmatize(str(col)))\n",
    "        \n",
    "data = df2['О себе, summarized']\n",
    "\n",
    "from collections import defaultdict\n",
    "word_freq = defaultdict(int)\n",
    "for tokens in data.iloc[:]:\n",
    "    if tokens:\n",
    "        for token in tokens:\n",
    "            word_freq[token] += 1"
   ]
  },
  {
   "cell_type": "markdown",
   "id": "478ba7b2-a1f8-4e8c-bf30-1878321046dd",
   "metadata": {},
   "source": [
    "Видим, что разбиение прошло успещно:"
   ]
  },
  {
   "cell_type": "code",
   "execution_count": 245,
   "id": "441d3f94-0b4d-4518-a883-52eb40437033",
   "metadata": {},
   "outputs": [
    {
     "data": {
      "text/html": [
       "<div>\n",
       "<style scoped>\n",
       "    .dataframe tbody tr th:only-of-type {\n",
       "        vertical-align: middle;\n",
       "    }\n",
       "\n",
       "    .dataframe tbody tr th {\n",
       "        vertical-align: top;\n",
       "    }\n",
       "\n",
       "    .dataframe thead th {\n",
       "        text-align: right;\n",
       "    }\n",
       "</style>\n",
       "<table border=\"1\" class=\"dataframe\">\n",
       "  <thead>\n",
       "    <tr style=\"text-align: right;\">\n",
       "      <th></th>\n",
       "      <th>О себе, summarized</th>\n",
       "    </tr>\n",
       "  </thead>\n",
       "  <tbody>\n",
       "    <tr>\n",
       "      <th>1714</th>\n",
       "      <td>[свободный, время, заниматься, спорт, саморазв...</td>\n",
       "    </tr>\n",
       "    <tr>\n",
       "      <th>303</th>\n",
       "      <td>[крупный, российский, госпредприятие, строител...</td>\n",
       "    </tr>\n",
       "    <tr>\n",
       "      <th>2003</th>\n",
       "      <td>None</td>\n",
       "    </tr>\n",
       "  </tbody>\n",
       "</table>\n",
       "</div>"
      ],
      "text/plain": [
       "                                     О себе, summarized\n",
       "1714  [свободный, время, заниматься, спорт, саморазв...\n",
       "303   [крупный, российский, госпредприятие, строител...\n",
       "2003                                               None"
      ]
     },
     "execution_count": 245,
     "metadata": {},
     "output_type": "execute_result"
    }
   ],
   "source": [
    "df2.sample(3)"
   ]
  },
  {
   "cell_type": "markdown",
   "id": "070636cb-f089-4ca5-bbdc-9199e1403686",
   "metadata": {},
   "source": [
    "Теперь построим 2-граммы по 1-граммам:"
   ]
  },
  {
   "cell_type": "code",
   "execution_count": 246,
   "id": "b7c5b2b3-9db9-47ad-bfc6-d9dfd4832532",
   "metadata": {},
   "outputs": [],
   "source": [
    "from nltk.util import ngrams\n",
    "from nltk import word_tokenize \n",
    "\n",
    "tokens2 = []\n",
    "\n",
    "for x in df2['О себе, summarized']:\n",
    "    if x is not None:\n",
    "        bigrams = []\n",
    "        for bg in list(ngrams(x, 2)):\n",
    "            bigrams.append(' '.join(bg))\n",
    "        tokens2.append(bigrams)\n",
    "    else:\n",
    "        tokens2.append(None)\n",
    "        \n",
    "df2['О себе 2'] = tokens2"
   ]
  },
  {
   "cell_type": "code",
   "execution_count": 247,
   "id": "5c3110b2-4298-432f-a886-ff038030c442",
   "metadata": {},
   "outputs": [
    {
     "data": {
      "text/html": [
       "<div>\n",
       "<style scoped>\n",
       "    .dataframe tbody tr th:only-of-type {\n",
       "        vertical-align: middle;\n",
       "    }\n",
       "\n",
       "    .dataframe tbody tr th {\n",
       "        vertical-align: top;\n",
       "    }\n",
       "\n",
       "    .dataframe thead th {\n",
       "        text-align: right;\n",
       "    }\n",
       "</style>\n",
       "<table border=\"1\" class=\"dataframe\">\n",
       "  <thead>\n",
       "    <tr style=\"text-align: right;\">\n",
       "      <th></th>\n",
       "      <th>О себе, summarized</th>\n",
       "      <th>О себе 2</th>\n",
       "    </tr>\n",
       "  </thead>\n",
       "  <tbody>\n",
       "    <tr>\n",
       "      <th>1363</th>\n",
       "      <td>None</td>\n",
       "      <td>None</td>\n",
       "    </tr>\n",
       "    <tr>\n",
       "      <th>2618</th>\n",
       "      <td>None</td>\n",
       "      <td>None</td>\n",
       "    </tr>\n",
       "    <tr>\n",
       "      <th>419</th>\n",
       "      <td>[компания, работать, входить, бухгалтер, плано...</td>\n",
       "      <td>[компания работать, работать входить, входить ...</td>\n",
       "    </tr>\n",
       "  </tbody>\n",
       "</table>\n",
       "</div>"
      ],
      "text/plain": [
       "                                     О себе, summarized  \\\n",
       "1363                                               None   \n",
       "2618                                               None   \n",
       "419   [компания, работать, входить, бухгалтер, плано...   \n",
       "\n",
       "                                               О себе 2  \n",
       "1363                                               None  \n",
       "2618                                               None  \n",
       "419   [компания работать, работать входить, входить ...  "
      ]
     },
     "execution_count": 247,
     "metadata": {},
     "output_type": "execute_result"
    }
   ],
   "source": [
    "df2.sample(3)"
   ]
  },
  {
   "cell_type": "markdown",
   "id": "0539c9f1-a782-4045-bd1b-e08d304a1ea1",
   "metadata": {},
   "source": [
    "Аналогичным образом, наконец, построим 3-граммы:"
   ]
  },
  {
   "cell_type": "code",
   "execution_count": 248,
   "id": "d31d45f6-3bc9-49e6-935f-9d223a89140f",
   "metadata": {},
   "outputs": [],
   "source": [
    "from nltk.util import ngrams\n",
    "from nltk import word_tokenize \n",
    "\n",
    "tokens3 = []\n",
    "\n",
    "for x in df2['О себе, summarized']:\n",
    "    if x is not None:\n",
    "        trigrams = []\n",
    "        for tg in list(ngrams(x, 3)):\n",
    "            trigrams.append(' '.join(tg))\n",
    "        tokens3.append(trigrams)\n",
    "    else:\n",
    "        tokens3.append(None)\n",
    "        \n",
    "df2['О себе 3'] = tokens3"
   ]
  },
  {
   "cell_type": "code",
   "execution_count": 249,
   "id": "dcbb261e-6da7-4f58-a062-2e625a7f33a7",
   "metadata": {},
   "outputs": [
    {
     "data": {
      "text/html": [
       "<div>\n",
       "<style scoped>\n",
       "    .dataframe tbody tr th:only-of-type {\n",
       "        vertical-align: middle;\n",
       "    }\n",
       "\n",
       "    .dataframe tbody tr th {\n",
       "        vertical-align: top;\n",
       "    }\n",
       "\n",
       "    .dataframe thead th {\n",
       "        text-align: right;\n",
       "    }\n",
       "</style>\n",
       "<table border=\"1\" class=\"dataframe\">\n",
       "  <thead>\n",
       "    <tr style=\"text-align: right;\">\n",
       "      <th></th>\n",
       "      <th>О себе, summarized</th>\n",
       "      <th>О себе 2</th>\n",
       "      <th>О себе 3</th>\n",
       "    </tr>\n",
       "  </thead>\n",
       "  <tbody>\n",
       "    <tr>\n",
       "      <th>572</th>\n",
       "      <td>[находиться, отпуск, санкт, петербург, хотеть,...</td>\n",
       "      <td>[находиться отпуск, отпуск санкт, санкт петерб...</td>\n",
       "      <td>[находиться отпуск санкт, отпуск санкт петербу...</td>\n",
       "    </tr>\n",
       "    <tr>\n",
       "      <th>950</th>\n",
       "      <td>None</td>\n",
       "      <td>None</td>\n",
       "      <td>None</td>\n",
       "    </tr>\n",
       "    <tr>\n",
       "      <th>614</th>\n",
       "      <td>[находиться, отпуск, хотеть, поделиться, свой,...</td>\n",
       "      <td>[находиться отпуск, отпуск хотеть, хотеть поде...</td>\n",
       "      <td>[находиться отпуск хотеть, отпуск хотеть подел...</td>\n",
       "    </tr>\n",
       "  </tbody>\n",
       "</table>\n",
       "</div>"
      ],
      "text/plain": [
       "                                    О себе, summarized  \\\n",
       "572  [находиться, отпуск, санкт, петербург, хотеть,...   \n",
       "950                                               None   \n",
       "614  [находиться, отпуск, хотеть, поделиться, свой,...   \n",
       "\n",
       "                                              О себе 2  \\\n",
       "572  [находиться отпуск, отпуск санкт, санкт петерб...   \n",
       "950                                               None   \n",
       "614  [находиться отпуск, отпуск хотеть, хотеть поде...   \n",
       "\n",
       "                                              О себе 3  \n",
       "572  [находиться отпуск санкт, отпуск санкт петербу...  \n",
       "950                                               None  \n",
       "614  [находиться отпуск хотеть, отпуск хотеть подел...  "
      ]
     },
     "execution_count": 249,
     "metadata": {},
     "output_type": "execute_result"
    }
   ],
   "source": [
    "df2.sample(3)"
   ]
  },
  {
   "cell_type": "markdown",
   "id": "b1183f3e-34c4-47e7-ac42-cffecec2f4db",
   "metadata": {},
   "source": [
    "**Построение эмбеддингов**"
   ]
  },
  {
   "cell_type": "markdown",
   "id": "0799b562-8e18-4739-b68f-02fdb6791a20",
   "metadata": {},
   "source": [
    "Теперь перейдем к построению эмбеддингов. Будем использовать метод построения эмбеддингов word2vec. Определим векторное представление триграммы как среднее векторных представлений слов внутри нее."
   ]
  },
  {
   "cell_type": "code",
   "execution_count": 250,
   "id": "9593813d-29e2-4b63-b740-b7384b0b3304",
   "metadata": {},
   "outputs": [],
   "source": [
    "from gensim.test.utils import common_texts\n",
    "from gensim.models import Word2Vec"
   ]
  },
  {
   "cell_type": "markdown",
   "id": "f8f8ebcb-6540-4a10-8aeb-1ee2868c4370",
   "metadata": {},
   "source": [
    "Избавимся от пропусков, чтобы не было проблем с применением метода:"
   ]
  },
  {
   "cell_type": "code",
   "execution_count": 251,
   "id": "b624a13b-a46b-4e93-99bd-4c2837f60f1e",
   "metadata": {},
   "outputs": [],
   "source": [
    "df2.loc[df2['О себе 3'].isna(), 'О себе 3'] = '-'"
   ]
  },
  {
   "cell_type": "code",
   "execution_count": 252,
   "id": "0d6e33c5-d046-469b-9228-ccf0ddf57fd0",
   "metadata": {},
   "outputs": [
    {
     "data": {
      "text/plain": [
       "Series([], Name: О себе 3, dtype: object)"
      ]
     },
     "execution_count": 252,
     "metadata": {},
     "output_type": "execute_result"
    }
   ],
   "source": [
    "df2[df2['О себе 3'].isna()]['О себе 3']"
   ]
  },
  {
   "cell_type": "markdown",
   "id": "be56112f-15e2-45a6-9bd3-a926122545f6",
   "metadata": {},
   "source": [
    "Обучим модель:"
   ]
  },
  {
   "cell_type": "code",
   "execution_count": 253,
   "id": "5a19a055-7bfd-462e-89e2-a9434e0a0ecf",
   "metadata": {},
   "outputs": [],
   "source": [
    "model = Word2Vec(sentences=df2['О себе 3'], vector_size=100, window=5, min_count=1, workers=4)\n",
    "model.save(\"word2vec.model\")"
   ]
  },
  {
   "cell_type": "code",
   "execution_count": 254,
   "id": "fd3869ea-2216-460b-b8c9-e49b584c4862",
   "metadata": {},
   "outputs": [],
   "source": [
    "model = Word2Vec.load(\"word2vec.model\")"
   ]
  },
  {
   "cell_type": "code",
   "execution_count": 255,
   "id": "1865db88-f445-4dd0-afc6-2ef1ecbe4217",
   "metadata": {},
   "outputs": [
    {
     "data": {
      "text/plain": [
       "(41850, 42180)"
      ]
     },
     "execution_count": 255,
     "metadata": {},
     "output_type": "execute_result"
    }
   ],
   "source": [
    "model.train(df2['О себе 3'], total_examples=len(df2['О себе 3']), epochs=1)"
   ]
  },
  {
   "cell_type": "markdown",
   "id": "5a558727-c2cc-4833-b7fb-8e09df95c376",
   "metadata": {},
   "source": [
    "Посмотрим, что получилось, на примере:"
   ]
  },
  {
   "cell_type": "code",
   "execution_count": 256,
   "id": "e9f1156f-4f7b-4a15-b663-afe3d7d40b21",
   "metadata": {},
   "outputs": [],
   "source": [
    "vector = model.wv['нестандартный подход решение']  # get numpy vector of a word\n",
    "sims = model.wv.most_similar('нестандартный подход решение', topn=10)  # get other similar words"
   ]
  },
  {
   "cell_type": "code",
   "execution_count": 257,
   "id": "6b94ed60-5c69-4fe1-953c-8d96cdde5c89",
   "metadata": {},
   "outputs": [
    {
     "data": {
      "text/plain": [
       "array([-1.5095125e-03, -5.9101880e-03, -3.5970882e-03,  2.5117488e-03,\n",
       "       -3.4773457e-03,  3.2730617e-03, -2.0137946e-03,  5.9477841e-03,\n",
       "       -4.6115480e-03,  5.0545307e-03, -2.5259831e-03,  5.9516844e-03,\n",
       "       -9.9157328e-03,  1.6037177e-03, -2.4902732e-03, -7.0154648e-03,\n",
       "       -8.0940723e-03, -9.6410495e-04, -6.8253297e-03,  4.5497343e-03,\n",
       "        9.6752737e-03, -3.3837226e-03, -8.2816910e-03, -7.1246568e-03,\n",
       "       -9.2432770e-04,  2.2076059e-03, -3.2583494e-03,  8.4923198e-03,\n",
       "       -8.6368909e-03, -4.6499898e-03,  2.4307012e-03,  8.9288065e-03,\n",
       "        9.0017729e-03, -7.5554298e-03, -4.0973546e-03,  3.9569279e-03,\n",
       "       -5.8489060e-03,  1.6115835e-03,  7.3261093e-03, -8.2826521e-03,\n",
       "        1.3381350e-03, -2.5186853e-03, -5.1202672e-03,  4.6941643e-03,\n",
       "        8.0492040e-03,  4.9906555e-03, -1.1957112e-03,  3.8246107e-03,\n",
       "        4.9448484e-03,  1.0203001e-03,  6.4627649e-03,  3.4967838e-03,\n",
       "       -1.5091031e-03, -5.1860022e-04, -7.5999619e-03,  6.7144365e-04,\n",
       "        5.5988377e-04,  6.1919186e-03,  8.1911212e-04, -4.1966606e-03,\n",
       "        7.4737468e-03, -8.9362767e-03, -5.0545679e-03, -2.6853797e-03,\n",
       "       -4.5276578e-03, -9.4152242e-03, -6.6737733e-03,  3.9750193e-03,\n",
       "       -7.8281933e-05,  5.6017032e-03,  1.0640388e-03,  1.9904310e-03,\n",
       "        9.7341109e-03,  9.7424882e-03, -5.3607184e-03,  4.3306248e-03,\n",
       "        3.3338475e-03, -4.7698859e-03,  7.7647320e-03,  5.0692558e-03,\n",
       "        4.1246242e-03, -4.9305991e-03, -7.7672899e-03,  4.0909648e-03,\n",
       "       -8.0638286e-03, -9.6907164e-04,  9.8216208e-03,  3.1155015e-03,\n",
       "       -1.3209458e-03,  7.1477452e-03, -2.8622085e-03, -7.0176916e-03,\n",
       "       -5.7768496e-03, -6.6912253e-03, -3.1373599e-03, -8.6033791e-03,\n",
       "        4.0860777e-03, -2.0110816e-05,  4.7682901e-03,  3.6808127e-03],\n",
       "      dtype=float32)"
      ]
     },
     "execution_count": 257,
     "metadata": {},
     "output_type": "execute_result"
    }
   ],
   "source": [
    "vector"
   ]
  },
  {
   "cell_type": "code",
   "execution_count": 258,
   "id": "024bfcd3-e7a8-456d-a0b6-1708861b030e",
   "metadata": {},
   "outputs": [
    {
     "data": {
      "text/plain": [
       "[('ум способность работать', 0.4243850111961365),\n",
       " ('крупный российский агентство', 0.41320833563804626),\n",
       " ('подготовка рисовый руководство', 0.3746509253978729),\n",
       " ('письменный речь быстрый', 0.37139230966567993),\n",
       " ('человек направление проектирование', 0.3670269548892975),\n",
       " ('опыт управление опыт', 0.3589009642601013),\n",
       " ('строить bi дашборд', 0.3464227020740509),\n",
       " ('эффективный проектный группа', 0.3442955017089844),\n",
       " ('футбольный болельщик готовиться', 0.34287986159324646),\n",
       " ('дважды выигрывать золото', 0.3421564996242523)]"
      ]
     },
     "execution_count": 258,
     "metadata": {},
     "output_type": "execute_result"
    }
   ],
   "source": [
    "sims"
   ]
  },
  {
   "cell_type": "markdown",
   "id": "7762da35-4f02-49da-9ff4-c0946ac0e580",
   "metadata": {},
   "source": [
    "Вектор построен корректно, похожие триграммы подобраны неплохо с точки зрения соответствия смыслу."
   ]
  },
  {
   "cell_type": "markdown",
   "id": "65893361-3757-494d-b673-a711f957fa88",
   "metadata": {},
   "source": [
    "Итак, мы построили эмбеддинги. Теперь создадим табличку, где каждому резюме будет соответстовать вектор из среднего координат входящих в раздел \"О себе\" триграмм."
   ]
  },
  {
   "cell_type": "code",
   "execution_count": 21,
   "id": "f6602d86-6244-4a43-b2e4-fd33999ffb1b",
   "metadata": {
    "tags": []
   },
   "outputs": [],
   "source": [
    "our_data = pd.DataFrame(df2['О себе 3'])\n",
    "our_data['emb'] = 0\n",
    "embs = []\n",
    "for x in our_data['О себе 3']:\n",
    "    cur_embs = []\n",
    "    for y in x:\n",
    "        cur_embs.append(model.wv[y])\n",
    "    embs.append(cur_embs)\n",
    "our_data['emb'] = embs\n",
    "\n",
    "embs_flattened = []\n",
    "for x in our_data['emb']:\n",
    "    x_flat = np.array(x[0])\n",
    "    for z in x[1:]:\n",
    "        x_flat += np.array(z)\n",
    "    embs_flattened.append(x_flat / len(x))\n",
    "our_data['flat_emb'] = embs_flattened"
   ]
  },
  {
   "cell_type": "markdown",
   "id": "f261b3d9-ba32-4e82-ad11-56b0c5285c05",
   "metadata": {},
   "source": [
    "Посмотрим, получилось ли:"
   ]
  },
  {
   "cell_type": "code",
   "execution_count": 22,
   "id": "22cbe81f-88f1-48ca-8360-80fbab1fa6da",
   "metadata": {
    "tags": []
   },
   "outputs": [
    {
     "data": {
      "text/plain": [
       "array([-1.02169324e-04, -1.47600472e-03, -4.57081303e-04, -1.52631197e-03,\n",
       "        2.28298988e-04, -6.97980053e-04, -1.07635604e-03,  2.92729703e-04,\n",
       "        9.70483990e-04,  7.90853344e-04, -4.30577144e-04,  1.30937842e-03,\n",
       "        2.56862608e-04,  5.32261736e-04, -1.46846622e-04, -3.71484115e-04,\n",
       "       -9.41101229e-04, -8.37870175e-04,  7.56223017e-05,  3.10405681e-04,\n",
       "        1.19612971e-03, -1.16170838e-03,  1.07953365e-05, -2.38714143e-04,\n",
       "        2.82001100e-04, -2.46151030e-04, -4.03233600e-04, -6.50187547e-04,\n",
       "       -3.18867736e-04,  1.68780761e-03,  5.04741096e-04, -1.21875817e-03,\n",
       "        8.16858374e-04, -1.03954435e-03,  5.05995646e-04,  4.59402945e-04,\n",
       "        3.20859865e-04, -5.79852844e-04, -1.08614244e-04, -1.51567813e-03,\n",
       "       -2.50131765e-04, -7.74863060e-04, -7.21397228e-04,  2.87205941e-04,\n",
       "        5.14605024e-04, -1.37540908e-03,  1.30649447e-03,  9.79384873e-04,\n",
       "       -6.80062221e-04,  1.51477318e-04, -1.12231774e-03,  2.94832193e-04,\n",
       "       -1.66018744e-05, -1.57580886e-04, -8.19035922e-04,  3.42740823e-04,\n",
       "        1.18756096e-03, -2.39975241e-04, -6.95889408e-04,  3.59037222e-04,\n",
       "       -3.21909756e-04, -9.69996850e-04,  4.90825856e-04,  4.10832872e-04,\n",
       "        4.42925986e-04, -9.79455072e-04,  4.35177644e-04,  8.58050771e-04,\n",
       "       -1.17590791e-03,  1.93992385e-03, -1.16469280e-03,  5.86254231e-04,\n",
       "       -6.30771683e-04,  1.53045530e-05, -1.21545792e-03,  7.01078025e-05,\n",
       "       -8.03998671e-04,  1.27408258e-03,  7.22521567e-04, -6.92909467e-04,\n",
       "        1.88628107e-03, -6.50220376e-04,  1.86607082e-04,  8.65562295e-04,\n",
       "        1.52610207e-03,  1.30938730e-04, -1.59632706e-04,  1.31037843e-04,\n",
       "        8.40367342e-04, -9.02539236e-04, -2.15141545e-03,  3.65656975e-04,\n",
       "        1.66711817e-03, -3.30282463e-04, -2.25293392e-04, -1.15654059e-03,\n",
       "        2.24195537e-04, -4.65805468e-04,  7.17463321e-04,  5.34443425e-05],\n",
       "      dtype=float32)"
      ]
     },
     "execution_count": 22,
     "metadata": {},
     "output_type": "execute_result"
    }
   ],
   "source": [
    "our_data['flat_emb'][0]"
   ]
  },
  {
   "cell_type": "markdown",
   "id": "65dc72ad-ebf2-4366-a5c9-224099b63334",
   "metadata": {},
   "source": [
    "Действительно, получился вектор из $\\mathbb{R}^{100}$, где $i$-я координата — среднее $i$-х координат эмбеддингов входящих в текст эмбеддингов."
   ]
  },
  {
   "cell_type": "markdown",
   "id": "fe178893-df17-43de-a8af-79dcacd897a9",
   "metadata": {},
   "source": [
    "Уберем пропуски и запишем в `X` наши векторы:"
   ]
  },
  {
   "cell_type": "code",
   "execution_count": 23,
   "id": "008f557e-c283-472f-b483-af3ee8a7e762",
   "metadata": {},
   "outputs": [
    {
     "data": {
      "text/plain": [
       "array([[-1.02169324e-04, -1.47600472e-03, -4.57081303e-04, ...,\n",
       "        -4.65805468e-04,  7.17463321e-04,  5.34443425e-05],\n",
       "       [ 7.69477512e-04, -1.33451505e-03, -1.22452620e-05, ...,\n",
       "        -2.44307565e-04, -3.11685703e-03,  1.49998476e-03],\n",
       "       [-2.45104369e-04,  9.64832667e-04,  2.27071811e-03, ...,\n",
       "        -3.18608363e-04, -3.29043716e-04, -5.18220302e-04],\n",
       "       ...,\n",
       "       [ 2.54928181e-03,  2.15684413e-03,  4.07265360e-03, ...,\n",
       "         2.60636723e-03, -1.64912641e-03,  4.03493177e-05],\n",
       "       [-5.36227250e-04,  2.36431355e-04,  5.10334969e-03, ...,\n",
       "        -7.04156049e-03,  9.01455875e-04,  6.39253389e-03],\n",
       "       [-5.36227250e-04,  2.36431355e-04,  5.10334969e-03, ...,\n",
       "        -7.04156049e-03,  9.01455875e-04,  6.39253389e-03]], dtype=float32)"
      ]
     },
     "execution_count": 23,
     "metadata": {},
     "output_type": "execute_result"
    }
   ],
   "source": [
    "our_data['flat_emb'].dropna()\n",
    "X = list(our_data['flat_emb'].dropna())\n",
    "X = np.asarray(X)\n",
    "X"
   ]
  },
  {
   "cell_type": "markdown",
   "id": "70dcbf31-e49c-4c24-98c9-29ce421748ea",
   "metadata": {},
   "source": [
    "Осталось проверить, правда ли имеющие близкое к 0 [cosine distance](https://medium.com/geekculture/cosine-similarity-and-cosine-distance-48eed889a5c4) векторы похожи, а близкое к 1 — различны."
   ]
  },
  {
   "cell_type": "markdown",
   "id": "e5644119-4528-4e8e-af57-6691547a977e",
   "metadata": {},
   "source": [
    "Пример ортогональных векторов:"
   ]
  },
  {
   "cell_type": "code",
   "execution_count": 24,
   "id": "f3b4a56b-361e-4439-bdb7-bb805d0d2689",
   "metadata": {},
   "outputs": [
    {
     "data": {
      "text/plain": [
       "'Уверенный пользователь ПК, Ms Word, Ms Excel, 1С, Power Point, Internet Explorer, amoCRM, Bitrix24 и офисной техники; Правовых систем Гарант и Консультант +; Знание законодательства; Работа с входящей и исходящей корреспонденцией, Этика делового общения, общения с клиентами; Навыки работы по взаимодействию с государственными органами и общественными организациями; Неоднократное участие в судебных заседаниях; Анализ данных, составление договоров, запросов, отзывов, заявлений, уведомлений.'"
      ]
     },
     "execution_count": 24,
     "metadata": {},
     "output_type": "execute_result"
    }
   ],
   "source": [
    "df['О себе, summarized'][0]"
   ]
  },
  {
   "cell_type": "code",
   "execution_count": 24,
   "id": "bc0f35b8-9ce8-4aed-924a-931804a4649c",
   "metadata": {},
   "outputs": [
    {
     "data": {
      "text/plain": [
       "'В настоящее время занимаюсь благотворительной деятельностью. В свободное время занимаюсь бегом, плаванием, рисую в стиле фантази (карандаш), много путешествую, интересуюсь различиями культур и обычаями народов мира.'"
      ]
     },
     "execution_count": 24,
     "metadata": {},
     "output_type": "execute_result"
    }
   ],
   "source": [
    "df['О себе, summarized'][1]"
   ]
  },
  {
   "cell_type": "code",
   "execution_count": 25,
   "id": "6f41d732-89f2-4e0b-9992-dc378cc7c82a",
   "metadata": {},
   "outputs": [
    {
     "data": {
      "text/plain": [
       "0.9519143626093864"
      ]
     },
     "execution_count": 25,
     "metadata": {},
     "output_type": "execute_result"
    }
   ],
   "source": [
    "distance.cosine(X[0], X[1])"
   ]
  },
  {
   "cell_type": "markdown",
   "id": "af4edc21-2cba-4e67-9f55-b23618364a8f",
   "metadata": {},
   "source": [
    "Действительно, мы вижим, что резбме различны."
   ]
  },
  {
   "cell_type": "markdown",
   "id": "d78b79f1-76e8-4006-8e44-2676a7b895a3",
   "metadata": {},
   "source": [
    "Пример коллинеарных:"
   ]
  },
  {
   "cell_type": "code",
   "execution_count": 87,
   "id": "4118ce79-3a2b-411b-9456-792e03e3eb0d",
   "metadata": {},
   "outputs": [
    {
     "data": {
      "text/plain": [
       "'Нахожусь в отпуске по уходу за ребенком. На данный момент у меня нет официального места работы.'"
      ]
     },
     "execution_count": 87,
     "metadata": {},
     "output_type": "execute_result"
    }
   ],
   "source": [
    "df['О себе, summarized'][14]"
   ]
  },
  {
   "cell_type": "code",
   "execution_count": 88,
   "id": "0c371739-5b2e-4ebe-ac34-d38d2467c8e1",
   "metadata": {},
   "outputs": [
    {
     "data": {
      "text/plain": [
       "'Нахожусь в отпуске по уходу за ребенком. На данный момент у меня нет вакантных должностей.'"
      ]
     },
     "execution_count": 88,
     "metadata": {},
     "output_type": "execute_result"
    }
   ],
   "source": [
    "df['О себе, summarized'][84]"
   ]
  },
  {
   "cell_type": "code",
   "execution_count": 118,
   "id": "c1e593a2-1c5e-4669-b235-19f8483fab23",
   "metadata": {},
   "outputs": [
    {
     "data": {
      "text/plain": [
       "0.30464255809783936"
      ]
     },
     "execution_count": 118,
     "metadata": {},
     "output_type": "execute_result"
    }
   ],
   "source": [
    "distance.cosine(X[14], X[84])"
   ]
  },
  {
   "cell_type": "markdown",
   "id": "42118426-b2f1-431a-9200-b613a5d66690",
   "metadata": {},
   "source": [
    "Видно, что резюме похожи. "
   ]
  },
  {
   "cell_type": "markdown",
   "id": "e3075ffb-7385-495b-a8e1-357f619780f2",
   "metadata": {},
   "source": [
    "Осталось записать эти векторы в 100 столбцов нашей таблицы:"
   ]
  },
  {
   "cell_type": "code",
   "execution_count": 30,
   "id": "943c8c17-d738-4b91-b6be-dc08c367f997",
   "metadata": {
    "tags": []
   },
   "outputs": [],
   "source": [
    "for col in list(pd.DataFrame(X)):\n",
    "    df[str(col)] = pd.DataFrame(X)[col]"
   ]
  },
  {
   "cell_type": "code",
   "execution_count": 31,
   "id": "9da1f8d3-ee63-43a9-8924-8714d799c4c8",
   "metadata": {},
   "outputs": [
    {
     "data": {
      "text/html": [
       "<div>\n",
       "<style scoped>\n",
       "    .dataframe tbody tr th:only-of-type {\n",
       "        vertical-align: middle;\n",
       "    }\n",
       "\n",
       "    .dataframe tbody tr th {\n",
       "        vertical-align: top;\n",
       "    }\n",
       "\n",
       "    .dataframe thead th {\n",
       "        text-align: right;\n",
       "    }\n",
       "</style>\n",
       "<table border=\"1\" class=\"dataframe\">\n",
       "  <thead>\n",
       "    <tr style=\"text-align: right;\">\n",
       "      <th></th>\n",
       "      <th>Ссылка</th>\n",
       "      <th>Название</th>\n",
       "      <th>Коммандировка</th>\n",
       "      <th>Опыт</th>\n",
       "      <th>О себе</th>\n",
       "      <th>Образование</th>\n",
       "      <th>Интересы</th>\n",
       "      <th>Навыки</th>\n",
       "      <th>Образование-1</th>\n",
       "      <th>Образование-2</th>\n",
       "      <th>...</th>\n",
       "      <th>93</th>\n",
       "      <th>94</th>\n",
       "      <th>95</th>\n",
       "      <th>96</th>\n",
       "      <th>97</th>\n",
       "      <th>98</th>\n",
       "      <th>99</th>\n",
       "      <th>clust</th>\n",
       "      <th>DA, predicted</th>\n",
       "      <th>DS, predicted</th>\n",
       "    </tr>\n",
       "  </thead>\n",
       "  <tbody>\n",
       "    <tr>\n",
       "      <th>572</th>\n",
       "      <td>https://hh.ru/resume/15059d4a00075b2d080039ed1...</td>\n",
       "      <td>Руководитель направления</td>\n",
       "      <td>Санкт-Петербург, готов к переезду (Москва), го...</td>\n",
       "      <td>Опыт работы 3 года 4 месяца</td>\n",
       "      <td>Спортивные достижения: 1 разряд по горным лыжа...</td>\n",
       "      <td>Высшее образование (Магистр)\\n2022\\nСанкт-Пете...</td>\n",
       "      <td>Специализации:\\nФинансовый аналитик, инвестици...</td>\n",
       "      <td>Работа с компьютерными программами, программы ...</td>\n",
       "      <td>Санкт-Петербургский государственный университе...</td>\n",
       "      <td>Санкт-Петербургский государственный университе...</td>\n",
       "      <td>...</td>\n",
       "      <td>-0.004212</td>\n",
       "      <td>-0.004020</td>\n",
       "      <td>-0.000416</td>\n",
       "      <td>-0.003047</td>\n",
       "      <td>-0.002197</td>\n",
       "      <td>0.001849</td>\n",
       "      <td>0.004545</td>\n",
       "      <td>1</td>\n",
       "      <td>2.0</td>\n",
       "      <td>0.0</td>\n",
       "    </tr>\n",
       "    <tr>\n",
       "      <th>1188</th>\n",
       "      <td>https://hh.ru/resume/569cbc39000738c8b40039ed1...</td>\n",
       "      <td>Старший финансовый аналитик</td>\n",
       "      <td>Москва, м. Речной вокзал, не готова к переезду...</td>\n",
       "      <td>Опыт работы 14 лет 2 месяца</td>\n",
       "      <td>Ключевые компетенции:\\n- Практические знания у...</td>\n",
       "      <td>Высшее образование\\n2011\\nМосковский государст...</td>\n",
       "      <td>Специализации:\\nФинансовый менеджер\\nФинансовы...</td>\n",
       "      <td>---</td>\n",
       "      <td>Московский государственный открытый университе...</td>\n",
       "      <td>NaN</td>\n",
       "      <td>...</td>\n",
       "      <td>0.001322</td>\n",
       "      <td>0.000618</td>\n",
       "      <td>-0.001609</td>\n",
       "      <td>0.001224</td>\n",
       "      <td>-0.000831</td>\n",
       "      <td>0.000022</td>\n",
       "      <td>0.002731</td>\n",
       "      <td>1</td>\n",
       "      <td>0.0</td>\n",
       "      <td>0.0</td>\n",
       "    </tr>\n",
       "  </tbody>\n",
       "</table>\n",
       "<p>2 rows × 140 columns</p>\n",
       "</div>"
      ],
      "text/plain": [
       "                                                 Ссылка  \\\n",
       "572   https://hh.ru/resume/15059d4a00075b2d080039ed1...   \n",
       "1188  https://hh.ru/resume/569cbc39000738c8b40039ed1...   \n",
       "\n",
       "                         Название  \\\n",
       "572      Руководитель направления   \n",
       "1188  Старший финансовый аналитик   \n",
       "\n",
       "                                          Коммандировка  \\\n",
       "572   Санкт-Петербург, готов к переезду (Москва), го...   \n",
       "1188  Москва, м. Речной вокзал, не готова к переезду...   \n",
       "\n",
       "                             Опыт  \\\n",
       "572   Опыт работы 3 года 4 месяца   \n",
       "1188  Опыт работы 14 лет 2 месяца   \n",
       "\n",
       "                                                 О себе  \\\n",
       "572   Спортивные достижения: 1 разряд по горным лыжа...   \n",
       "1188  Ключевые компетенции:\\n- Практические знания у...   \n",
       "\n",
       "                                            Образование  \\\n",
       "572   Высшее образование (Магистр)\\n2022\\nСанкт-Пете...   \n",
       "1188  Высшее образование\\n2011\\nМосковский государст...   \n",
       "\n",
       "                                               Интересы  \\\n",
       "572   Специализации:\\nФинансовый аналитик, инвестици...   \n",
       "1188  Специализации:\\nФинансовый менеджер\\nФинансовы...   \n",
       "\n",
       "                                                 Навыки  \\\n",
       "572   Работа с компьютерными программами, программы ...   \n",
       "1188                                                ---   \n",
       "\n",
       "                                          Образование-1  \\\n",
       "572   Санкт-Петербургский государственный университе...   \n",
       "1188  Московский государственный открытый университе...   \n",
       "\n",
       "                                          Образование-2  ...        93  \\\n",
       "572   Санкт-Петербургский государственный университе...  ... -0.004212   \n",
       "1188                                                NaN  ...  0.001322   \n",
       "\n",
       "            94        95        96        97        98        99 clust  \\\n",
       "572  -0.004020 -0.000416 -0.003047 -0.002197  0.001849  0.004545     1   \n",
       "1188  0.000618 -0.001609  0.001224 -0.000831  0.000022  0.002731     1   \n",
       "\n",
       "      DA, predicted  DS, predicted  \n",
       "572             2.0            0.0  \n",
       "1188            0.0            0.0  \n",
       "\n",
       "[2 rows x 140 columns]"
      ]
     },
     "execution_count": 31,
     "metadata": {},
     "output_type": "execute_result"
    }
   ],
   "source": [
    "df.sample(2)"
   ]
  },
  {
   "cell_type": "markdown",
   "id": "2db75fdf-2093-45a5-9f7d-eb98f02d9f1d",
   "metadata": {},
   "source": [
    "Сохраним то, что получилось:"
   ]
  },
  {
   "cell_type": "code",
   "execution_count": null,
   "id": "7c725198-aaec-4536-8b42-3ceb565cd6ca",
   "metadata": {},
   "outputs": [],
   "source": [
    "df.to_csv('resumes_features.csv')"
   ]
  },
  {
   "cell_type": "markdown",
   "id": "cddb7f94-1bc9-4590-99c0-c88616fd899e",
   "metadata": {},
   "source": [
    "**Трансформация признаков**"
   ]
  },
  {
   "cell_type": "markdown",
   "id": "e3a0cdd5-7b90-40a6-b575-4577499128d2",
   "metadata": {},
   "source": [
    "Мы будем обучаться не на всех признаках, а только на специально отобранных. А именно:\n",
    "- Кол-во образований\n",
    "- Опыт нормализованный\n",
    "- Топовость образования\n",
    "- Справочник по интересам\n",
    "- Релокация?\n",
    "- Коммандировка?\n",
    "- Город?\n",
    "- Уровень оборазования нормализованный\n",
    "- Карьерный рост\n",
    "- Аналитические комбинации слов в навыках\n",
    "- 100 word2vec-векторов входящих в \"О себе\" триграмм"
   ]
  },
  {
   "cell_type": "markdown",
   "id": "71a11fb3-3baa-4281-b920-6d40a27cf249",
   "metadata": {},
   "source": [
    "Обработаем числовые признаки:"
   ]
  },
  {
   "cell_type": "code",
   "execution_count": 32,
   "id": "8b405f8a-aeb7-4b7c-9146-28cf1bc8725a",
   "metadata": {},
   "outputs": [
    {
     "ename": "TypeError",
     "evalue": "cannot use a string pattern on a bytes-like object",
     "output_type": "error",
     "traceback": [
      "\u001b[0;31m---------------------------------------------------------------------------\u001b[0m",
      "\u001b[0;31mTypeError\u001b[0m                                 Traceback (most recent call last)",
      "Cell \u001b[0;32mIn[32], line 5\u001b[0m\n\u001b[1;32m      3\u001b[0m txt \u001b[38;5;241m=\u001b[39m df\u001b[38;5;241m.\u001b[39mloc[i, \u001b[38;5;124m'\u001b[39m\u001b[38;5;124mОпыт нормализованный\u001b[39m\u001b[38;5;124m'\u001b[39m]\n\u001b[1;32m      4\u001b[0m \u001b[38;5;66;03m# print(txt)\u001b[39;00m\n\u001b[0;32m----> 5\u001b[0m \u001b[38;5;28;01mif\u001b[39;00m \u001b[43mre\u001b[49m\u001b[38;5;241;43m.\u001b[39;49m\u001b[43msearch\u001b[49m\u001b[43m(\u001b[49m\u001b[38;5;124;43m'\u001b[39;49m\u001b[38;5;124;43m[а-яА-Я]\u001b[39;49m\u001b[38;5;124;43m'\u001b[39;49m\u001b[43m,\u001b[49m\u001b[43m \u001b[49m\u001b[43mtxt\u001b[49m\u001b[43m)\u001b[49m:\n\u001b[1;32m      6\u001b[0m     txt \u001b[38;5;241m=\u001b[39m \u001b[38;5;241m-\u001b[39m\u001b[38;5;241m1\u001b[39m\n\u001b[1;32m      7\u001b[0m \u001b[38;5;28;01melif\u001b[39;00m txt[\u001b[38;5;241m-\u001b[39m\u001b[38;5;241m1\u001b[39m] \u001b[38;5;241m==\u001b[39m \u001b[38;5;124m'\u001b[39m\u001b[38;5;124m;\u001b[39m\u001b[38;5;124m'\u001b[39m:\n",
      "File \u001b[0;32m~/miniconda3/lib/python3.9/re.py:201\u001b[0m, in \u001b[0;36msearch\u001b[0;34m(pattern, string, flags)\u001b[0m\n\u001b[1;32m    198\u001b[0m \u001b[38;5;28;01mdef\u001b[39;00m \u001b[38;5;21msearch\u001b[39m(pattern, string, flags\u001b[38;5;241m=\u001b[39m\u001b[38;5;241m0\u001b[39m):\n\u001b[1;32m    199\u001b[0m     \u001b[38;5;124;03m\"\"\"Scan through string looking for a match to the pattern, returning\u001b[39;00m\n\u001b[1;32m    200\u001b[0m \u001b[38;5;124;03m    a Match object, or None if no match was found.\"\"\"\u001b[39;00m\n\u001b[0;32m--> 201\u001b[0m     \u001b[38;5;28;01mreturn\u001b[39;00m \u001b[43m_compile\u001b[49m\u001b[43m(\u001b[49m\u001b[43mpattern\u001b[49m\u001b[43m,\u001b[49m\u001b[43m \u001b[49m\u001b[43mflags\u001b[49m\u001b[43m)\u001b[49m\u001b[38;5;241;43m.\u001b[39;49m\u001b[43msearch\u001b[49m\u001b[43m(\u001b[49m\u001b[43mstring\u001b[49m\u001b[43m)\u001b[49m\n",
      "\u001b[0;31mTypeError\u001b[0m: cannot use a string pattern on a bytes-like object"
     ]
    }
   ],
   "source": [
    "txts = []\n",
    "for i in range(df.shape[0]):\n",
    "    txt = df.loc[i, 'Опыт нормализованный']\n",
    "    # print(txt)\n",
    "    if re.search('[а-яА-Я]', txt):\n",
    "        txt = -1\n",
    "    elif txt[-1] == ';':\n",
    "        txt = int(txt[:txt.find(';')])\n",
    "    else:\n",
    "        txt = int(txt[:txt.find(';')]) + int(txt[txt.find(';')+1:]) / 12\n",
    "    txts.append(txt)\n",
    "df.loc[:, 'Опыт нормализованный'] = txts"
   ]
  },
  {
   "cell_type": "markdown",
   "id": "1244892c-ba82-4a35-ae4d-95ef383aade1",
   "metadata": {},
   "source": [
    "Обработаем категориальные (нам подойдет именно `LabelEncoder`, так как, к примеру, высшее образование лучше среднего, наличие аналитических комбинаций лучше отсутствия, проживание в Москве предпочтительнее для компании, чем необходимость релокации в Москву):"
   ]
  },
  {
   "cell_type": "code",
   "execution_count": 800,
   "id": "b6f5f733-37a4-4ee6-b800-da08e150a605",
   "metadata": {
    "tags": []
   },
   "outputs": [
    {
     "name": "stdout",
     "output_type": "stream",
     "text": [
      "Топовость образования : {0: 0, 1: 1}\n",
      "Справочник по интересам : {0: 0, 1: 1}\n",
      "Релокация? : {0: 0, 1: 1, 2: 2, 3: 3, 4: 4, 5: 5}\n",
      "Коммандировка? : {0: 0, 1: 1, 2: 2, 3: 3}\n",
      "Город? : {0: 0, 1: 1, 2: 2, 3: 3, 4: 4, 5: 5, 6: 6, 7: 7, 8: 8, 9: 9, 10: 10, 11: 11, 12: 12, 13: 13, 14: 14, 15: 15, 16: 16, 17: 17, 18: 18, 19: 19, 20: 20, 21: 21, 22: 22, 23: 23, 24: 24, 25: 25, 26: 26, 27: 27, 28: 28, 29: 29, 30: 30, 31: 31, 32: 32, 33: 33, 34: 34, 35: 35, 36: 36, 37: 37, 38: 38, 39: 39, 40: 40, 41: 41, 42: 42, 43: 43, 44: 44, 45: 45, 46: 46, 47: 47, 48: 48, 49: 49, 50: 50, 51: 51, 52: 52, 53: 53, 54: 54, 55: 55, 56: 56, 57: 57, 58: 58, 59: 59, 60: 60, 61: 61, 62: 62, 63: 63, 64: 64, 65: 65, 66: 66, 67: 67, 68: 68, 69: 69, 70: 70, 71: 71, 72: 72, 73: 73, 74: 74, 75: 75, 76: 76, 77: 77, 78: 78, 79: 79, 80: 80, 81: 81, 82: 82, 83: 83, 84: 84, 85: 85, 86: 86, 87: 87, 88: 88, 89: 89, 90: 90, 91: 91, 92: 92, 93: 93, 94: 94, 95: 95, 96: 96}\n",
      "Уровень оборазования нормализованный : {0: 0, 1: 1, 2: 2, 3: 3, 4: 4, 5: 5, 6: 6, 7: 7, 8: 8}\n",
      "Карьерный рост : {0: 0, 1: 1}\n",
      "Аналитические комбинации слов в навыках : {0: 0, 1: 1}\n"
     ]
    },
    {
     "data": {
      "text/html": [
       "<div>\n",
       "<style scoped>\n",
       "    .dataframe tbody tr th:only-of-type {\n",
       "        vertical-align: middle;\n",
       "    }\n",
       "\n",
       "    .dataframe tbody tr th {\n",
       "        vertical-align: top;\n",
       "    }\n",
       "\n",
       "    .dataframe thead th {\n",
       "        text-align: right;\n",
       "    }\n",
       "</style>\n",
       "<table border=\"1\" class=\"dataframe\">\n",
       "  <thead>\n",
       "    <tr style=\"text-align: right;\">\n",
       "      <th></th>\n",
       "      <th>Ссылка</th>\n",
       "      <th>Название</th>\n",
       "      <th>Коммандировка</th>\n",
       "      <th>Опыт</th>\n",
       "      <th>О себе</th>\n",
       "      <th>Образование</th>\n",
       "      <th>Интересы</th>\n",
       "      <th>Навыки</th>\n",
       "      <th>Образование-1</th>\n",
       "      <th>Образование-2</th>\n",
       "      <th>...</th>\n",
       "      <th>93</th>\n",
       "      <th>94</th>\n",
       "      <th>95</th>\n",
       "      <th>96</th>\n",
       "      <th>97</th>\n",
       "      <th>98</th>\n",
       "      <th>99</th>\n",
       "      <th>clust</th>\n",
       "      <th>DA, predicted</th>\n",
       "      <th>DS, predicted</th>\n",
       "    </tr>\n",
       "  </thead>\n",
       "  <tbody>\n",
       "    <tr>\n",
       "      <th>0</th>\n",
       "      <td>https://hh.ru/resume/a179dc8e00074bc7400039ed1...</td>\n",
       "      <td>Администратор салона красоты</td>\n",
       "      <td>Москва, м. Молодежная, не готова к переезду, г...</td>\n",
       "      <td>Опыт работы 7 лет 1 месяц</td>\n",
       "      <td>Уверенный пользователь ПК, Ms Word, Ms Excel, ...</td>\n",
       "      <td>Высшее образование\\n2015\\nФГБУ ВПО «Российский...</td>\n",
       "      <td>Специализации:\\nАдминистратор\\nЗанятость: полн...</td>\n",
       "      <td>Коммуникации с клиентами и партнерами/Работа с...</td>\n",
       "      <td>ФГБУ ВПО «Российский экономический университет...</td>\n",
       "      <td>ФГБУ ВПО «Саратовская Государственная Юридичес...</td>\n",
       "      <td>...</td>\n",
       "      <td>-0.000292</td>\n",
       "      <td>-0.000272</td>\n",
       "      <td>-1.206897e-03</td>\n",
       "      <td>0.000227</td>\n",
       "      <td>-0.000444</td>\n",
       "      <td>0.000766</td>\n",
       "      <td>0.000081</td>\n",
       "      <td>0</td>\n",
       "      <td>0.0</td>\n",
       "      <td>0.0</td>\n",
       "    </tr>\n",
       "    <tr>\n",
       "      <th>1</th>\n",
       "      <td>https://hh.ru/resume/cdaf5cfe00003bcc320039ed1...</td>\n",
       "      <td>Руководитель отдела планирования и управления ...</td>\n",
       "      <td>Москва, м. Выхино, готова к переезду, готова к...</td>\n",
       "      <td>Опыт работы 17 лет 3 месяца</td>\n",
       "      <td>Энергична, активна, в поиске новых возможносте...</td>\n",
       "      <td>Высшее образование\\n2010\\nМосковский Государст...</td>\n",
       "      <td>Специализации:\\nНачальник склада\\nЗанятость: п...</td>\n",
       "      <td>---</td>\n",
       "      <td>Московский Государственный Университет Экономи...</td>\n",
       "      <td>NaN</td>\n",
       "      <td>...</td>\n",
       "      <td>0.000894</td>\n",
       "      <td>-0.002202</td>\n",
       "      <td>1.397842e-03</td>\n",
       "      <td>-0.001827</td>\n",
       "      <td>-0.000243</td>\n",
       "      <td>-0.003129</td>\n",
       "      <td>0.001458</td>\n",
       "      <td>0</td>\n",
       "      <td>0.0</td>\n",
       "      <td>0.0</td>\n",
       "    </tr>\n",
       "    <tr>\n",
       "      <th>2</th>\n",
       "      <td>https://hh.ru/resume/fb6ac9c200027770d60039ed1...</td>\n",
       "      <td>Начальник отдела продаж</td>\n",
       "      <td>Шахты, готова к переезду (Москва, Санкт-Петерб...</td>\n",
       "      <td>Опыт работы 18 лет 4 месяца</td>\n",
       "      <td>опыт прямых продаж, ведение коммерческих перег...</td>\n",
       "      <td>Высшее образование\\n2001\\nЮжно-Российский госу...</td>\n",
       "      <td>Специализации:\\nРуководитель отдела продаж\\nЗа...</td>\n",
       "      <td>---</td>\n",
       "      <td>Южно-Российский государственный университет эк...</td>\n",
       "      <td>NaN</td>\n",
       "      <td>...</td>\n",
       "      <td>0.000330</td>\n",
       "      <td>0.001575</td>\n",
       "      <td>2.981558e-04</td>\n",
       "      <td>0.002110</td>\n",
       "      <td>-0.000275</td>\n",
       "      <td>-0.000312</td>\n",
       "      <td>-0.000437</td>\n",
       "      <td>3</td>\n",
       "      <td>0.0</td>\n",
       "      <td>0.0</td>\n",
       "    </tr>\n",
       "    <tr>\n",
       "      <th>3</th>\n",
       "      <td>https://hh.ru/resume/e23c95770000b1b95f0039ed1...</td>\n",
       "      <td>Коммерческий директор, Финансовый директор</td>\n",
       "      <td>Москва, м. Бабушкинская, готов к переезду, гот...</td>\n",
       "      <td>Опыт работы 17 лет 5 месяцев</td>\n",
       "      <td>Коммуникабелен\\nУмение работать с возражениями...</td>\n",
       "      <td>Высшее образование\\n2006\\nБрянский государстве...</td>\n",
       "      <td>Специализации:\\nКоммерческий директор (CCO)\\nФ...</td>\n",
       "      <td>---</td>\n",
       "      <td>Брянский государственный технический университет</td>\n",
       "      <td>Брянский государственный технический университет</td>\n",
       "      <td>...</td>\n",
       "      <td>0.001400</td>\n",
       "      <td>0.002620</td>\n",
       "      <td>6.619219e-04</td>\n",
       "      <td>0.001653</td>\n",
       "      <td>-0.000912</td>\n",
       "      <td>-0.000753</td>\n",
       "      <td>0.000754</td>\n",
       "      <td>3</td>\n",
       "      <td>0.0</td>\n",
       "      <td>0.0</td>\n",
       "    </tr>\n",
       "    <tr>\n",
       "      <th>4</th>\n",
       "      <td>https://hh.ru/resume/9c86655b00073d88700039ed1...</td>\n",
       "      <td>QA/auto QA/Performance QA</td>\n",
       "      <td>Краснодар, готов к переезду (Москва, Санкт-Пет...</td>\n",
       "      <td>Опыт работы 7 лет 10 месяцев</td>\n",
       "      <td>Дисциплина - умение выполнять поставленные зад...</td>\n",
       "      <td>Среднее специальное образование\\n2009\\nКраснод...</td>\n",
       "      <td>Специализации:\\nТестировщик\\nЗанятость: стажир...</td>\n",
       "      <td>---</td>\n",
       "      <td>Краснодарский Государственный Гуманитарно Техн...</td>\n",
       "      <td>NaN</td>\n",
       "      <td>...</td>\n",
       "      <td>-0.002705</td>\n",
       "      <td>0.000145</td>\n",
       "      <td>-1.641789e-07</td>\n",
       "      <td>0.005385</td>\n",
       "      <td>0.000633</td>\n",
       "      <td>-0.000351</td>\n",
       "      <td>-0.003165</td>\n",
       "      <td>0</td>\n",
       "      <td>0.0</td>\n",
       "      <td>0.0</td>\n",
       "    </tr>\n",
       "    <tr>\n",
       "      <th>...</th>\n",
       "      <td>...</td>\n",
       "      <td>...</td>\n",
       "      <td>...</td>\n",
       "      <td>...</td>\n",
       "      <td>...</td>\n",
       "      <td>...</td>\n",
       "      <td>...</td>\n",
       "      <td>...</td>\n",
       "      <td>...</td>\n",
       "      <td>...</td>\n",
       "      <td>...</td>\n",
       "      <td>...</td>\n",
       "      <td>...</td>\n",
       "      <td>...</td>\n",
       "      <td>...</td>\n",
       "      <td>...</td>\n",
       "      <td>...</td>\n",
       "      <td>...</td>\n",
       "      <td>...</td>\n",
       "      <td>...</td>\n",
       "      <td>...</td>\n",
       "    </tr>\n",
       "    <tr>\n",
       "      <th>2720</th>\n",
       "      <td>https://hh.ru/resume/b74645f3000102b1b90039ed1...</td>\n",
       "      <td>Финансовый аналитик</td>\n",
       "      <td>Москва, м. Крылатское, не готова к переезду, н...</td>\n",
       "      <td>Опыт работы 8 лет 11 месяцев</td>\n",
       "      <td>Уверенный пользователь ПК: MS Office (Word, Ex...</td>\n",
       "      <td>Высшее образование\\n2009\\nЧувашский государств...</td>\n",
       "      <td>Специализации:\\nФинансовый аналитик, инвестици...</td>\n",
       "      <td>---</td>\n",
       "      <td>Чувашский государственный университет имени И....</td>\n",
       "      <td>NaN</td>\n",
       "      <td>...</td>\n",
       "      <td>0.001634</td>\n",
       "      <td>-0.003021</td>\n",
       "      <td>-5.501702e-03</td>\n",
       "      <td>0.002582</td>\n",
       "      <td>-0.000392</td>\n",
       "      <td>0.005978</td>\n",
       "      <td>-0.003172</td>\n",
       "      <td>0</td>\n",
       "      <td>0.0</td>\n",
       "      <td>0.0</td>\n",
       "    </tr>\n",
       "    <tr>\n",
       "      <th>2721</th>\n",
       "      <td>https://hh.ru/resume/0ed518390003eb7c860039ed1...</td>\n",
       "      <td>Аналитик</td>\n",
       "      <td>Москва, м. Ховрино, не готов к переезду, готов...</td>\n",
       "      <td>Опыт работы 3 года 4 месяца</td>\n",
       "      <td>Моя потребность в постоянном улучшении себя на...</td>\n",
       "      <td>Неоконченное высшее образование\\n2019\\nЮжный ф...</td>\n",
       "      <td>Специализации:\\nАналитик\\nЗанятость: частичная...</td>\n",
       "      <td>Другое\\nДеловая коммуникация\\nАдминистративное...</td>\n",
       "      <td>Южный федеральный университет, Ростов-на-Дону</td>\n",
       "      <td>NaN</td>\n",
       "      <td>...</td>\n",
       "      <td>-0.003310</td>\n",
       "      <td>0.011862</td>\n",
       "      <td>2.661309e-03</td>\n",
       "      <td>0.006801</td>\n",
       "      <td>-0.001823</td>\n",
       "      <td>-0.000610</td>\n",
       "      <td>-0.008534</td>\n",
       "      <td>2</td>\n",
       "      <td>0.0</td>\n",
       "      <td>0.0</td>\n",
       "    </tr>\n",
       "    <tr>\n",
       "      <th>2722</th>\n",
       "      <td>https://hh.ru/resume/16deef470000020e170039ed1...</td>\n",
       "      <td>Finance Controller</td>\n",
       "      <td>Москва, м. Коммунарка, не готова к переезду, г...</td>\n",
       "      <td>Опыт работы 19 лет 1 месяц</td>\n",
       "      <td>.</td>\n",
       "      <td>Высшее образование\\n1999\\nSaratov State Techni...</td>\n",
       "      <td>Специализации:\\nФинансовый контролер\\nФинансов...</td>\n",
       "      <td>---</td>\n",
       "      <td>Saratov State Technical University</td>\n",
       "      <td>NaN</td>\n",
       "      <td>...</td>\n",
       "      <td>-0.003124</td>\n",
       "      <td>0.002176</td>\n",
       "      <td>-7.177151e-04</td>\n",
       "      <td>-0.001517</td>\n",
       "      <td>0.002639</td>\n",
       "      <td>-0.001644</td>\n",
       "      <td>-0.000034</td>\n",
       "      <td>3</td>\n",
       "      <td>0.0</td>\n",
       "      <td>0.0</td>\n",
       "    </tr>\n",
       "    <tr>\n",
       "      <th>2723</th>\n",
       "      <td>https://hh.ru/resume/8aa6cfe400077150980039ed1...</td>\n",
       "      <td>Менеджер проектов</td>\n",
       "      <td>Москва, готов к переезду, готов к командировкам</td>\n",
       "      <td>Опыт работы 12 лет 5 месяцев</td>\n",
       "      <td>---</td>\n",
       "      <td>Высшее образование\\n2013\\nРоссийский университ...</td>\n",
       "      <td>Специализации:\\nРуководитель проектов\\nЗанятос...</td>\n",
       "      <td>Проектное управление\\nВедение переговоров\\nAgi...</td>\n",
       "      <td>Российский университет дружбы народов, Москва</td>\n",
       "      <td>Российский университет дружбы народов, Москва</td>\n",
       "      <td>...</td>\n",
       "      <td>0.000218</td>\n",
       "      <td>0.009619</td>\n",
       "      <td>5.060604e-03</td>\n",
       "      <td>-0.008917</td>\n",
       "      <td>-0.007042</td>\n",
       "      <td>0.000901</td>\n",
       "      <td>0.006393</td>\n",
       "      <td>1</td>\n",
       "      <td>0.0</td>\n",
       "      <td>0.0</td>\n",
       "    </tr>\n",
       "    <tr>\n",
       "      <th>2724</th>\n",
       "      <td>https://hh.ru/resume/bdd659720004eeb3930039ed1...</td>\n",
       "      <td>кредитный координатор/экономист</td>\n",
       "      <td>Москва, не готова к переезду, не готова к кома...</td>\n",
       "      <td>Опыт работы 13 лет 7 месяцев</td>\n",
       "      <td>---</td>\n",
       "      <td>Высшее образование\\n1986\\nМосковский Государст...</td>\n",
       "      <td>Специализации:\\nДругое\\nЗанятость: полная заня...</td>\n",
       "      <td>---</td>\n",
       "      <td>Московский Государственный Университет путей с...</td>\n",
       "      <td>NaN</td>\n",
       "      <td>...</td>\n",
       "      <td>0.000218</td>\n",
       "      <td>0.009619</td>\n",
       "      <td>5.060604e-03</td>\n",
       "      <td>-0.008917</td>\n",
       "      <td>-0.007042</td>\n",
       "      <td>0.000901</td>\n",
       "      <td>0.006393</td>\n",
       "      <td>1</td>\n",
       "      <td>0.0</td>\n",
       "      <td>0.0</td>\n",
       "    </tr>\n",
       "  </tbody>\n",
       "</table>\n",
       "<p>2725 rows × 140 columns</p>\n",
       "</div>"
      ],
      "text/plain": [
       "                                                 Ссылка  \\\n",
       "0     https://hh.ru/resume/a179dc8e00074bc7400039ed1...   \n",
       "1     https://hh.ru/resume/cdaf5cfe00003bcc320039ed1...   \n",
       "2     https://hh.ru/resume/fb6ac9c200027770d60039ed1...   \n",
       "3     https://hh.ru/resume/e23c95770000b1b95f0039ed1...   \n",
       "4     https://hh.ru/resume/9c86655b00073d88700039ed1...   \n",
       "...                                                 ...   \n",
       "2720  https://hh.ru/resume/b74645f3000102b1b90039ed1...   \n",
       "2721  https://hh.ru/resume/0ed518390003eb7c860039ed1...   \n",
       "2722  https://hh.ru/resume/16deef470000020e170039ed1...   \n",
       "2723  https://hh.ru/resume/8aa6cfe400077150980039ed1...   \n",
       "2724  https://hh.ru/resume/bdd659720004eeb3930039ed1...   \n",
       "\n",
       "                                               Название  \\\n",
       "0                          Администратор салона красоты   \n",
       "1     Руководитель отдела планирования и управления ...   \n",
       "2                               Начальник отдела продаж   \n",
       "3            Коммерческий директор, Финансовый директор   \n",
       "4                             QA/auto QA/Performance QA   \n",
       "...                                                 ...   \n",
       "2720                                Финансовый аналитик   \n",
       "2721                                           Аналитик   \n",
       "2722                                 Finance Controller   \n",
       "2723                                  Менеджер проектов   \n",
       "2724                    кредитный координатор/экономист   \n",
       "\n",
       "                                          Коммандировка  \\\n",
       "0     Москва, м. Молодежная, не готова к переезду, г...   \n",
       "1     Москва, м. Выхино, готова к переезду, готова к...   \n",
       "2     Шахты, готова к переезду (Москва, Санкт-Петерб...   \n",
       "3     Москва, м. Бабушкинская, готов к переезду, гот...   \n",
       "4     Краснодар, готов к переезду (Москва, Санкт-Пет...   \n",
       "...                                                 ...   \n",
       "2720  Москва, м. Крылатское, не готова к переезду, н...   \n",
       "2721  Москва, м. Ховрино, не готов к переезду, готов...   \n",
       "2722  Москва, м. Коммунарка, не готова к переезду, г...   \n",
       "2723    Москва, готов к переезду, готов к командировкам   \n",
       "2724  Москва, не готова к переезду, не готова к кома...   \n",
       "\n",
       "                              Опыт  \\\n",
       "0        Опыт работы 7 лет 1 месяц   \n",
       "1      Опыт работы 17 лет 3 месяца   \n",
       "2      Опыт работы 18 лет 4 месяца   \n",
       "3     Опыт работы 17 лет 5 месяцев   \n",
       "4     Опыт работы 7 лет 10 месяцев   \n",
       "...                            ...   \n",
       "2720  Опыт работы 8 лет 11 месяцев   \n",
       "2721   Опыт работы 3 года 4 месяца   \n",
       "2722    Опыт работы 19 лет 1 месяц   \n",
       "2723  Опыт работы 12 лет 5 месяцев   \n",
       "2724  Опыт работы 13 лет 7 месяцев   \n",
       "\n",
       "                                                 О себе  \\\n",
       "0     Уверенный пользователь ПК, Ms Word, Ms Excel, ...   \n",
       "1     Энергична, активна, в поиске новых возможносте...   \n",
       "2     опыт прямых продаж, ведение коммерческих перег...   \n",
       "3     Коммуникабелен\\nУмение работать с возражениями...   \n",
       "4     Дисциплина - умение выполнять поставленные зад...   \n",
       "...                                                 ...   \n",
       "2720  Уверенный пользователь ПК: MS Office (Word, Ex...   \n",
       "2721  Моя потребность в постоянном улучшении себя на...   \n",
       "2722                                                  .   \n",
       "2723                                                ---   \n",
       "2724                                                ---   \n",
       "\n",
       "                                            Образование  \\\n",
       "0     Высшее образование\\n2015\\nФГБУ ВПО «Российский...   \n",
       "1     Высшее образование\\n2010\\nМосковский Государст...   \n",
       "2     Высшее образование\\n2001\\nЮжно-Российский госу...   \n",
       "3     Высшее образование\\n2006\\nБрянский государстве...   \n",
       "4     Среднее специальное образование\\n2009\\nКраснод...   \n",
       "...                                                 ...   \n",
       "2720  Высшее образование\\n2009\\nЧувашский государств...   \n",
       "2721  Неоконченное высшее образование\\n2019\\nЮжный ф...   \n",
       "2722  Высшее образование\\n1999\\nSaratov State Techni...   \n",
       "2723  Высшее образование\\n2013\\nРоссийский университ...   \n",
       "2724  Высшее образование\\n1986\\nМосковский Государст...   \n",
       "\n",
       "                                               Интересы  \\\n",
       "0     Специализации:\\nАдминистратор\\nЗанятость: полн...   \n",
       "1     Специализации:\\nНачальник склада\\nЗанятость: п...   \n",
       "2     Специализации:\\nРуководитель отдела продаж\\nЗа...   \n",
       "3     Специализации:\\nКоммерческий директор (CCO)\\nФ...   \n",
       "4     Специализации:\\nТестировщик\\nЗанятость: стажир...   \n",
       "...                                                 ...   \n",
       "2720  Специализации:\\nФинансовый аналитик, инвестици...   \n",
       "2721  Специализации:\\nАналитик\\nЗанятость: частичная...   \n",
       "2722  Специализации:\\nФинансовый контролер\\nФинансов...   \n",
       "2723  Специализации:\\nРуководитель проектов\\nЗанятос...   \n",
       "2724  Специализации:\\nДругое\\nЗанятость: полная заня...   \n",
       "\n",
       "                                                 Навыки  \\\n",
       "0     Коммуникации с клиентами и партнерами/Работа с...   \n",
       "1                                                   ---   \n",
       "2                                                   ---   \n",
       "3                                                   ---   \n",
       "4                                                   ---   \n",
       "...                                                 ...   \n",
       "2720                                                ---   \n",
       "2721  Другое\\nДеловая коммуникация\\nАдминистративное...   \n",
       "2722                                                ---   \n",
       "2723  Проектное управление\\nВедение переговоров\\nAgi...   \n",
       "2724                                                ---   \n",
       "\n",
       "                                          Образование-1  \\\n",
       "0     ФГБУ ВПО «Российский экономический университет...   \n",
       "1     Московский Государственный Университет Экономи...   \n",
       "2     Южно-Российский государственный университет эк...   \n",
       "3      Брянский государственный технический университет   \n",
       "4     Краснодарский Государственный Гуманитарно Техн...   \n",
       "...                                                 ...   \n",
       "2720  Чувашский государственный университет имени И....   \n",
       "2721      Южный федеральный университет, Ростов-на-Дону   \n",
       "2722                 Saratov State Technical University   \n",
       "2723      Российский университет дружбы народов, Москва   \n",
       "2724  Московский Государственный Университет путей с...   \n",
       "\n",
       "                                          Образование-2  ...        93  \\\n",
       "0     ФГБУ ВПО «Саратовская Государственная Юридичес...  ... -0.000292   \n",
       "1                                                   NaN  ...  0.000894   \n",
       "2                                                   NaN  ...  0.000330   \n",
       "3      Брянский государственный технический университет  ...  0.001400   \n",
       "4                                                   NaN  ... -0.002705   \n",
       "...                                                 ...  ...       ...   \n",
       "2720                                                NaN  ...  0.001634   \n",
       "2721                                                NaN  ... -0.003310   \n",
       "2722                                                NaN  ... -0.003124   \n",
       "2723      Российский университет дружбы народов, Москва  ...  0.000218   \n",
       "2724                                                NaN  ...  0.000218   \n",
       "\n",
       "            94            95        96        97        98        99 clust  \\\n",
       "0    -0.000272 -1.206897e-03  0.000227 -0.000444  0.000766  0.000081     0   \n",
       "1    -0.002202  1.397842e-03 -0.001827 -0.000243 -0.003129  0.001458     0   \n",
       "2     0.001575  2.981558e-04  0.002110 -0.000275 -0.000312 -0.000437     3   \n",
       "3     0.002620  6.619219e-04  0.001653 -0.000912 -0.000753  0.000754     3   \n",
       "4     0.000145 -1.641789e-07  0.005385  0.000633 -0.000351 -0.003165     0   \n",
       "...        ...           ...       ...       ...       ...       ...   ...   \n",
       "2720 -0.003021 -5.501702e-03  0.002582 -0.000392  0.005978 -0.003172     0   \n",
       "2721  0.011862  2.661309e-03  0.006801 -0.001823 -0.000610 -0.008534     2   \n",
       "2722  0.002176 -7.177151e-04 -0.001517  0.002639 -0.001644 -0.000034     3   \n",
       "2723  0.009619  5.060604e-03 -0.008917 -0.007042  0.000901  0.006393     1   \n",
       "2724  0.009619  5.060604e-03 -0.008917 -0.007042  0.000901  0.006393     1   \n",
       "\n",
       "      DA, predicted  DS, predicted  \n",
       "0               0.0            0.0  \n",
       "1               0.0            0.0  \n",
       "2               0.0            0.0  \n",
       "3               0.0            0.0  \n",
       "4               0.0            0.0  \n",
       "...             ...            ...  \n",
       "2720            0.0            0.0  \n",
       "2721            0.0            0.0  \n",
       "2722            0.0            0.0  \n",
       "2723            0.0            0.0  \n",
       "2724            0.0            0.0  \n",
       "\n",
       "[2725 rows x 140 columns]"
      ]
     },
     "execution_count": 800,
     "metadata": {},
     "output_type": "execute_result"
    }
   ],
   "source": [
    "categorial = ['Топовость образования', 'Справочник по интересам', 'Релокация?', 'Коммандировка?', 'Город?', 'Уровень оборазования нормализованный', 'Карьерный рост', 'Аналитические комбинации слов в навыках']\n",
    "le = LabelEncoder()\n",
    "for col in categorial:\n",
    "    df[col] = le.fit_transform(df[col])\n",
    "    le_name_mapping = dict(zip(le.classes_, le.transform(le.classes_)))\n",
    "    print(col, \":\", le_name_mapping)\n",
    "df"
   ]
  },
  {
   "cell_type": "markdown",
   "id": "79d596d8-0ed9-403a-9553-5794c387fd2a",
   "metadata": {},
   "source": [
    "Вот как теперь выглядит наша таблица:"
   ]
  },
  {
   "cell_type": "code",
   "execution_count": 801,
   "id": "7a9b602f-144b-4817-b7cb-886893c6066c",
   "metadata": {},
   "outputs": [
    {
     "data": {
      "text/html": [
       "<div>\n",
       "<style scoped>\n",
       "    .dataframe tbody tr th:only-of-type {\n",
       "        vertical-align: middle;\n",
       "    }\n",
       "\n",
       "    .dataframe tbody tr th {\n",
       "        vertical-align: top;\n",
       "    }\n",
       "\n",
       "    .dataframe thead th {\n",
       "        text-align: right;\n",
       "    }\n",
       "</style>\n",
       "<table border=\"1\" class=\"dataframe\">\n",
       "  <thead>\n",
       "    <tr style=\"text-align: right;\">\n",
       "      <th></th>\n",
       "      <th>Кол-во образований</th>\n",
       "      <th>Опыт нормализованный</th>\n",
       "      <th>Топовость образования</th>\n",
       "      <th>Справочник по интересам</th>\n",
       "      <th>Релокация?</th>\n",
       "      <th>Коммандировка?</th>\n",
       "      <th>Город?</th>\n",
       "      <th>Уровень оборазования нормализованный</th>\n",
       "      <th>Карьерный рост</th>\n",
       "      <th>Аналитические комбинации слов в навыках</th>\n",
       "      <th>...</th>\n",
       "      <th>90</th>\n",
       "      <th>91</th>\n",
       "      <th>92</th>\n",
       "      <th>93</th>\n",
       "      <th>94</th>\n",
       "      <th>95</th>\n",
       "      <th>96</th>\n",
       "      <th>97</th>\n",
       "      <th>98</th>\n",
       "      <th>99</th>\n",
       "    </tr>\n",
       "  </thead>\n",
       "  <tbody>\n",
       "    <tr>\n",
       "      <th>0</th>\n",
       "      <td>2</td>\n",
       "      <td>7.083333</td>\n",
       "      <td>0</td>\n",
       "      <td>0</td>\n",
       "      <td>3</td>\n",
       "      <td>3</td>\n",
       "      <td>39</td>\n",
       "      <td>1</td>\n",
       "      <td>0</td>\n",
       "      <td>1</td>\n",
       "      <td>...</td>\n",
       "      <td>-0.002147</td>\n",
       "      <td>0.000352</td>\n",
       "      <td>0.001681</td>\n",
       "      <td>-0.000292</td>\n",
       "      <td>-0.000272</td>\n",
       "      <td>-1.206897e-03</td>\n",
       "      <td>0.000227</td>\n",
       "      <td>-0.000444</td>\n",
       "      <td>0.000766</td>\n",
       "      <td>0.000081</td>\n",
       "    </tr>\n",
       "    <tr>\n",
       "      <th>1</th>\n",
       "      <td>1</td>\n",
       "      <td>17.250000</td>\n",
       "      <td>0</td>\n",
       "      <td>0</td>\n",
       "      <td>2</td>\n",
       "      <td>1</td>\n",
       "      <td>39</td>\n",
       "      <td>1</td>\n",
       "      <td>0</td>\n",
       "      <td>0</td>\n",
       "      <td>...</td>\n",
       "      <td>0.003384</td>\n",
       "      <td>-0.000102</td>\n",
       "      <td>0.000081</td>\n",
       "      <td>0.000894</td>\n",
       "      <td>-0.002202</td>\n",
       "      <td>1.397842e-03</td>\n",
       "      <td>-0.001827</td>\n",
       "      <td>-0.000243</td>\n",
       "      <td>-0.003129</td>\n",
       "      <td>0.001458</td>\n",
       "    </tr>\n",
       "    <tr>\n",
       "      <th>2</th>\n",
       "      <td>1</td>\n",
       "      <td>18.333333</td>\n",
       "      <td>0</td>\n",
       "      <td>0</td>\n",
       "      <td>2</td>\n",
       "      <td>1</td>\n",
       "      <td>91</td>\n",
       "      <td>1</td>\n",
       "      <td>0</td>\n",
       "      <td>0</td>\n",
       "      <td>...</td>\n",
       "      <td>-0.000932</td>\n",
       "      <td>-0.000671</td>\n",
       "      <td>-0.000236</td>\n",
       "      <td>0.000330</td>\n",
       "      <td>0.001575</td>\n",
       "      <td>2.981558e-04</td>\n",
       "      <td>0.002110</td>\n",
       "      <td>-0.000275</td>\n",
       "      <td>-0.000312</td>\n",
       "      <td>-0.000437</td>\n",
       "    </tr>\n",
       "    <tr>\n",
       "      <th>3</th>\n",
       "      <td>2</td>\n",
       "      <td>17.416667</td>\n",
       "      <td>0</td>\n",
       "      <td>0</td>\n",
       "      <td>0</td>\n",
       "      <td>0</td>\n",
       "      <td>39</td>\n",
       "      <td>1</td>\n",
       "      <td>1</td>\n",
       "      <td>0</td>\n",
       "      <td>...</td>\n",
       "      <td>-0.003156</td>\n",
       "      <td>0.002909</td>\n",
       "      <td>0.000544</td>\n",
       "      <td>0.001400</td>\n",
       "      <td>0.002620</td>\n",
       "      <td>6.619219e-04</td>\n",
       "      <td>0.001653</td>\n",
       "      <td>-0.000912</td>\n",
       "      <td>-0.000753</td>\n",
       "      <td>0.000754</td>\n",
       "    </tr>\n",
       "    <tr>\n",
       "      <th>4</th>\n",
       "      <td>1</td>\n",
       "      <td>7.833333</td>\n",
       "      <td>0</td>\n",
       "      <td>0</td>\n",
       "      <td>0</td>\n",
       "      <td>0</td>\n",
       "      <td>32</td>\n",
       "      <td>8</td>\n",
       "      <td>1</td>\n",
       "      <td>0</td>\n",
       "      <td>...</td>\n",
       "      <td>0.001616</td>\n",
       "      <td>-0.000626</td>\n",
       "      <td>0.002497</td>\n",
       "      <td>-0.002705</td>\n",
       "      <td>0.000145</td>\n",
       "      <td>-1.641789e-07</td>\n",
       "      <td>0.005385</td>\n",
       "      <td>0.000633</td>\n",
       "      <td>-0.000351</td>\n",
       "      <td>-0.003165</td>\n",
       "    </tr>\n",
       "    <tr>\n",
       "      <th>...</th>\n",
       "      <td>...</td>\n",
       "      <td>...</td>\n",
       "      <td>...</td>\n",
       "      <td>...</td>\n",
       "      <td>...</td>\n",
       "      <td>...</td>\n",
       "      <td>...</td>\n",
       "      <td>...</td>\n",
       "      <td>...</td>\n",
       "      <td>...</td>\n",
       "      <td>...</td>\n",
       "      <td>...</td>\n",
       "      <td>...</td>\n",
       "      <td>...</td>\n",
       "      <td>...</td>\n",
       "      <td>...</td>\n",
       "      <td>...</td>\n",
       "      <td>...</td>\n",
       "      <td>...</td>\n",
       "      <td>...</td>\n",
       "      <td>...</td>\n",
       "    </tr>\n",
       "    <tr>\n",
       "      <th>2720</th>\n",
       "      <td>1</td>\n",
       "      <td>8.916667</td>\n",
       "      <td>0</td>\n",
       "      <td>1</td>\n",
       "      <td>5</td>\n",
       "      <td>3</td>\n",
       "      <td>39</td>\n",
       "      <td>1</td>\n",
       "      <td>1</td>\n",
       "      <td>0</td>\n",
       "      <td>...</td>\n",
       "      <td>-0.000474</td>\n",
       "      <td>0.000045</td>\n",
       "      <td>-0.002575</td>\n",
       "      <td>0.001634</td>\n",
       "      <td>-0.003021</td>\n",
       "      <td>-5.501702e-03</td>\n",
       "      <td>0.002582</td>\n",
       "      <td>-0.000392</td>\n",
       "      <td>0.005978</td>\n",
       "      <td>-0.003172</td>\n",
       "    </tr>\n",
       "    <tr>\n",
       "      <th>2721</th>\n",
       "      <td>1</td>\n",
       "      <td>3.333333</td>\n",
       "      <td>0</td>\n",
       "      <td>1</td>\n",
       "      <td>0</td>\n",
       "      <td>2</td>\n",
       "      <td>39</td>\n",
       "      <td>5</td>\n",
       "      <td>1</td>\n",
       "      <td>0</td>\n",
       "      <td>...</td>\n",
       "      <td>-0.001979</td>\n",
       "      <td>0.003901</td>\n",
       "      <td>0.001973</td>\n",
       "      <td>-0.003310</td>\n",
       "      <td>0.011862</td>\n",
       "      <td>2.661309e-03</td>\n",
       "      <td>0.006801</td>\n",
       "      <td>-0.001823</td>\n",
       "      <td>-0.000610</td>\n",
       "      <td>-0.008534</td>\n",
       "    </tr>\n",
       "    <tr>\n",
       "      <th>2722</th>\n",
       "      <td>1</td>\n",
       "      <td>19.083333</td>\n",
       "      <td>0</td>\n",
       "      <td>0</td>\n",
       "      <td>2</td>\n",
       "      <td>3</td>\n",
       "      <td>39</td>\n",
       "      <td>1</td>\n",
       "      <td>1</td>\n",
       "      <td>0</td>\n",
       "      <td>...</td>\n",
       "      <td>0.000261</td>\n",
       "      <td>0.001383</td>\n",
       "      <td>-0.001468</td>\n",
       "      <td>-0.003124</td>\n",
       "      <td>0.002176</td>\n",
       "      <td>-7.177151e-04</td>\n",
       "      <td>-0.001517</td>\n",
       "      <td>0.002639</td>\n",
       "      <td>-0.001644</td>\n",
       "      <td>-0.000034</td>\n",
       "    </tr>\n",
       "    <tr>\n",
       "      <th>2723</th>\n",
       "      <td>2</td>\n",
       "      <td>12.416667</td>\n",
       "      <td>0</td>\n",
       "      <td>0</td>\n",
       "      <td>0</td>\n",
       "      <td>0</td>\n",
       "      <td>39</td>\n",
       "      <td>1</td>\n",
       "      <td>0</td>\n",
       "      <td>0</td>\n",
       "      <td>...</td>\n",
       "      <td>0.001631</td>\n",
       "      <td>0.000190</td>\n",
       "      <td>0.003474</td>\n",
       "      <td>0.000218</td>\n",
       "      <td>0.009619</td>\n",
       "      <td>5.060604e-03</td>\n",
       "      <td>-0.008917</td>\n",
       "      <td>-0.007042</td>\n",
       "      <td>0.000901</td>\n",
       "      <td>0.006393</td>\n",
       "    </tr>\n",
       "    <tr>\n",
       "      <th>2724</th>\n",
       "      <td>1</td>\n",
       "      <td>13.583333</td>\n",
       "      <td>0</td>\n",
       "      <td>0</td>\n",
       "      <td>5</td>\n",
       "      <td>3</td>\n",
       "      <td>39</td>\n",
       "      <td>1</td>\n",
       "      <td>0</td>\n",
       "      <td>0</td>\n",
       "      <td>...</td>\n",
       "      <td>0.001631</td>\n",
       "      <td>0.000190</td>\n",
       "      <td>0.003474</td>\n",
       "      <td>0.000218</td>\n",
       "      <td>0.009619</td>\n",
       "      <td>5.060604e-03</td>\n",
       "      <td>-0.008917</td>\n",
       "      <td>-0.007042</td>\n",
       "      <td>0.000901</td>\n",
       "      <td>0.006393</td>\n",
       "    </tr>\n",
       "  </tbody>\n",
       "</table>\n",
       "<p>2725 rows × 111 columns</p>\n",
       "</div>"
      ],
      "text/plain": [
       "      Кол-во образований  Опыт нормализованный  Топовость образования  \\\n",
       "0                      2              7.083333                      0   \n",
       "1                      1             17.250000                      0   \n",
       "2                      1             18.333333                      0   \n",
       "3                      2             17.416667                      0   \n",
       "4                      1              7.833333                      0   \n",
       "...                  ...                   ...                    ...   \n",
       "2720                   1              8.916667                      0   \n",
       "2721                   1              3.333333                      0   \n",
       "2722                   1             19.083333                      0   \n",
       "2723                   2             12.416667                      0   \n",
       "2724                   1             13.583333                      0   \n",
       "\n",
       "      Справочник по интересам  Релокация?  Коммандировка?  Город?  \\\n",
       "0                           0           3               3      39   \n",
       "1                           0           2               1      39   \n",
       "2                           0           2               1      91   \n",
       "3                           0           0               0      39   \n",
       "4                           0           0               0      32   \n",
       "...                       ...         ...             ...     ...   \n",
       "2720                        1           5               3      39   \n",
       "2721                        1           0               2      39   \n",
       "2722                        0           2               3      39   \n",
       "2723                        0           0               0      39   \n",
       "2724                        0           5               3      39   \n",
       "\n",
       "      Уровень оборазования нормализованный  Карьерный рост  \\\n",
       "0                                        1               0   \n",
       "1                                        1               0   \n",
       "2                                        1               0   \n",
       "3                                        1               1   \n",
       "4                                        8               1   \n",
       "...                                    ...             ...   \n",
       "2720                                     1               1   \n",
       "2721                                     5               1   \n",
       "2722                                     1               1   \n",
       "2723                                     1               0   \n",
       "2724                                     1               0   \n",
       "\n",
       "      Аналитические комбинации слов в навыках  ...        90        91  \\\n",
       "0                                           1  ... -0.002147  0.000352   \n",
       "1                                           0  ...  0.003384 -0.000102   \n",
       "2                                           0  ... -0.000932 -0.000671   \n",
       "3                                           0  ... -0.003156  0.002909   \n",
       "4                                           0  ...  0.001616 -0.000626   \n",
       "...                                       ...  ...       ...       ...   \n",
       "2720                                        0  ... -0.000474  0.000045   \n",
       "2721                                        0  ... -0.001979  0.003901   \n",
       "2722                                        0  ...  0.000261  0.001383   \n",
       "2723                                        0  ...  0.001631  0.000190   \n",
       "2724                                        0  ...  0.001631  0.000190   \n",
       "\n",
       "            92        93        94            95        96        97  \\\n",
       "0     0.001681 -0.000292 -0.000272 -1.206897e-03  0.000227 -0.000444   \n",
       "1     0.000081  0.000894 -0.002202  1.397842e-03 -0.001827 -0.000243   \n",
       "2    -0.000236  0.000330  0.001575  2.981558e-04  0.002110 -0.000275   \n",
       "3     0.000544  0.001400  0.002620  6.619219e-04  0.001653 -0.000912   \n",
       "4     0.002497 -0.002705  0.000145 -1.641789e-07  0.005385  0.000633   \n",
       "...        ...       ...       ...           ...       ...       ...   \n",
       "2720 -0.002575  0.001634 -0.003021 -5.501702e-03  0.002582 -0.000392   \n",
       "2721  0.001973 -0.003310  0.011862  2.661309e-03  0.006801 -0.001823   \n",
       "2722 -0.001468 -0.003124  0.002176 -7.177151e-04 -0.001517  0.002639   \n",
       "2723  0.003474  0.000218  0.009619  5.060604e-03 -0.008917 -0.007042   \n",
       "2724  0.003474  0.000218  0.009619  5.060604e-03 -0.008917 -0.007042   \n",
       "\n",
       "            98        99  \n",
       "0     0.000766  0.000081  \n",
       "1    -0.003129  0.001458  \n",
       "2    -0.000312 -0.000437  \n",
       "3    -0.000753  0.000754  \n",
       "4    -0.000351 -0.003165  \n",
       "...        ...       ...  \n",
       "2720  0.005978 -0.003172  \n",
       "2721 -0.000610 -0.008534  \n",
       "2722 -0.001644 -0.000034  \n",
       "2723  0.000901  0.006393  \n",
       "2724  0.000901  0.006393  \n",
       "\n",
       "[2725 rows x 111 columns]"
      ]
     },
     "execution_count": 801,
     "metadata": {},
     "output_type": "execute_result"
    }
   ],
   "source": [
    "df.loc[:, ['Кол-во образований', 'Опыт нормализованный', 'Топовость образования', 'Справочник по интересам', 'Релокация?', 'Коммандировка?', 'Город?', 'Уровень оборазования нормализованный', 'Карьерный рост', 'Аналитические комбинации слов в навыках'] + list(df)[36:-3]]"
   ]
  },
  {
   "cell_type": "markdown",
   "id": "4d1be651-2581-4ba4-8543-19d84ac0eb10",
   "metadata": {},
   "source": [
    "Сохраним то, что получилось:"
   ]
  },
  {
   "cell_type": "code",
   "execution_count": 76,
   "id": "55f59c99-c5ba-4bf2-8b54-8393f02c4e59",
   "metadata": {},
   "outputs": [],
   "source": [
    "df.to_csv('resumes_features.csv')"
   ]
  },
  {
   "cell_type": "markdown",
   "id": "d8a50e43-c0a5-49e4-955c-0ef2fe25e890",
   "metadata": {},
   "source": [
    "**Разметка данных 2**"
   ]
  },
  {
   "cell_type": "markdown",
   "id": "5a417b7d-fc08-482a-8e27-560cfaab7b01",
   "metadata": {},
   "source": [
    "В ноутбуке `preprocessing.ipynb` было размечено ~100 резюме. Но для хорошей работы моделей нужно больше — разметим еще ~170 резюме, чтобы размечено было около 10% всех резюме в нашей выборке."
   ]
  },
  {
   "cell_type": "code",
   "execution_count": 307,
   "id": "14c309de-8127-48bd-86ac-a6ef60f75fce",
   "metadata": {},
   "outputs": [],
   "source": [
    "# count = 0"
   ]
  },
  {
   "cell_type": "code",
   "execution_count": 758,
   "id": "84ac5e79-eced-443d-8c4e-385240d3d7af",
   "metadata": {},
   "outputs": [
    {
     "name": "stdout",
     "output_type": "stream",
     "text": [
      "Осталось разметить: 0\n"
     ]
    }
   ],
   "source": [
    "print('Осталось разметить:', 112 - count)"
   ]
  },
  {
   "cell_type": "code",
   "execution_count": 752,
   "id": "407cc5dd-bfb6-42ba-9783-b1f7e6c99aa3",
   "metadata": {},
   "outputs": [
    {
     "name": "stdout",
     "output_type": "stream",
     "text": [
      "https://hh.ru/resume/4f56d3c80004c880180039ed1f36514c585475?query=%D1%84%D0%B8%D0%BD%D0%B0%D0%BD%D1%81%D0%BE%D0%B2%D1%8B%D0%B9+%D0%B0%D0%BD%D0%B0%D0%BB%D0%B8%D1%82%D0%B8%D0%BA&source=search&hhtmFrom=resumes_catalog\n",
      "Начальник сметного отдела\n"
     ]
    }
   ],
   "source": [
    "df_sample = df.sample(1).loc[:, ['Ссылка', 'Название', 'DA', 'DS']]\n",
    "print(df_sample['Ссылка'].iloc[0])\n",
    "print(df_sample['Название'].iloc[0])"
   ]
  },
  {
   "cell_type": "code",
   "execution_count": 753,
   "id": "33a8609c-3339-46fd-91a4-ddbdf8c6355a",
   "metadata": {
    "tags": []
   },
   "outputs": [
    {
     "data": {
      "text/plain": [
       "Название    Начальник сметного отдела\n",
       "DA                               -1.0\n",
       "DS                                NaN\n",
       "Name: 156, dtype: object"
      ]
     },
     "execution_count": 753,
     "metadata": {},
     "output_type": "execute_result"
    }
   ],
   "source": [
    "df.loc[df_sample.index[0], ['Название', 'DA', 'DS']]"
   ]
  },
  {
   "cell_type": "code",
   "execution_count": 754,
   "id": "c9e09953-19fc-45d3-b600-e3a678a1ea67",
   "metadata": {},
   "outputs": [],
   "source": [
    "df.loc[df_sample.index[0], 'DA'] = 0\n",
    "df.loc[df_sample.index[0], 'DS'] = 0"
   ]
  },
  {
   "cell_type": "code",
   "execution_count": 755,
   "id": "6c343d2e-51ad-4826-9e36-a7af20ea96f8",
   "metadata": {
    "tags": []
   },
   "outputs": [
    {
     "data": {
      "text/plain": [
       "Название    Начальник сметного отдела\n",
       "DA                                0.0\n",
       "DS                                0.0\n",
       "Name: 156, dtype: object"
      ]
     },
     "execution_count": 755,
     "metadata": {},
     "output_type": "execute_result"
    }
   ],
   "source": [
    "df.loc[df_sample.index[0], ['Название', 'DA', 'DS']]"
   ]
  },
  {
   "cell_type": "code",
   "execution_count": 756,
   "id": "2fb660f8-27f5-49a9-8354-1985742b24bf",
   "metadata": {},
   "outputs": [],
   "source": [
    "count += 1"
   ]
  },
  {
   "cell_type": "code",
   "execution_count": 757,
   "id": "ccc8db66-b80d-4d96-9fe0-cc72a0327203",
   "metadata": {},
   "outputs": [],
   "source": [
    "df.to_csv('resumes_features.csv')"
   ]
  },
  {
   "cell_type": "markdown",
   "id": "5e24ca8d-2593-4434-9a82-0cf6ccb9f798",
   "metadata": {},
   "source": [
    "Посмотрим на статистику разметки:"
   ]
  },
  {
   "cell_type": "code",
   "execution_count": 793,
   "id": "0262a219-7cd2-40d9-9f16-b1c286aec3b6",
   "metadata": {},
   "outputs": [
    {
     "data": {
      "text/plain": [
       "383"
      ]
     },
     "execution_count": 793,
     "metadata": {},
     "output_type": "execute_result"
    }
   ],
   "source": [
    "pd.DataFrame(df['DA']).value_counts()[1:].sum()"
   ]
  },
  {
   "cell_type": "code",
   "execution_count": 795,
   "id": "848e6fe4-452c-45cb-beaf-88b5ebaae32f",
   "metadata": {},
   "outputs": [
    {
     "data": {
      "text/plain": [
       "0.14055045871559632"
      ]
     },
     "execution_count": 795,
     "metadata": {},
     "output_type": "execute_result"
    }
   ],
   "source": [
    "pd.DataFrame(df['DA']).value_counts()[1:].sum() / pd.DataFrame(df['DA']).value_counts()[0:].sum()"
   ]
  },
  {
   "cell_type": "code",
   "execution_count": 797,
   "id": "06233928-b339-432b-94da-fff4f14b5f7a",
   "metadata": {},
   "outputs": [
    {
     "data": {
      "text/plain": [
       "DS \n",
       "0.0    376\n",
       "1.0      6\n",
       "2.0      1\n",
       "dtype: int64"
      ]
     },
     "execution_count": 797,
     "metadata": {},
     "output_type": "execute_result"
    }
   ],
   "source": [
    "pd.DataFrame(df['DS']).value_counts()"
   ]
  },
  {
   "cell_type": "markdown",
   "id": "d99a5e42-8740-4827-8cfb-7881d7304bfd",
   "metadata": {},
   "source": [
    "**Классификация**"
   ]
  },
  {
   "cell_type": "markdown",
   "id": "fbdbe66b-54cc-4d10-85b6-4d4b02bdfd7b",
   "metadata": {},
   "source": [
    "Наконец, перейдем к построению скоринговой модели (решим задачу классификации):"
   ]
  },
  {
   "cell_type": "code",
   "execution_count": 2,
   "id": "a66da45e-8de8-4088-82b6-5905c8d6d545",
   "metadata": {},
   "outputs": [],
   "source": [
    "df = pd.read_csv('resumes_features.csv')"
   ]
  },
  {
   "cell_type": "code",
   "execution_count": 3,
   "id": "f2701738-77ae-4774-967d-3173d07e656b",
   "metadata": {},
   "outputs": [],
   "source": [
    "df.drop(list(df)[0], axis=1, inplace=True)\n",
    "df.reset_index(inplace=True)\n",
    "df.drop(list(df)[0], axis=1, inplace=True)"
   ]
  },
  {
   "cell_type": "code",
   "execution_count": 4,
   "id": "c22bdd4e-2442-4b04-a9d4-07fccda80b0e",
   "metadata": {},
   "outputs": [
    {
     "data": {
      "text/html": [
       "<div>\n",
       "<style scoped>\n",
       "    .dataframe tbody tr th:only-of-type {\n",
       "        vertical-align: middle;\n",
       "    }\n",
       "\n",
       "    .dataframe tbody tr th {\n",
       "        vertical-align: top;\n",
       "    }\n",
       "\n",
       "    .dataframe thead th {\n",
       "        text-align: right;\n",
       "    }\n",
       "</style>\n",
       "<table border=\"1\" class=\"dataframe\">\n",
       "  <thead>\n",
       "    <tr style=\"text-align: right;\">\n",
       "      <th></th>\n",
       "      <th>Ссылка</th>\n",
       "      <th>Название</th>\n",
       "      <th>Коммандировка</th>\n",
       "      <th>Опыт</th>\n",
       "      <th>О себе</th>\n",
       "      <th>Образование</th>\n",
       "      <th>Интересы</th>\n",
       "      <th>Навыки</th>\n",
       "      <th>Образование-1</th>\n",
       "      <th>Образование-2</th>\n",
       "      <th>...</th>\n",
       "      <th>93</th>\n",
       "      <th>94</th>\n",
       "      <th>95</th>\n",
       "      <th>96</th>\n",
       "      <th>97</th>\n",
       "      <th>98</th>\n",
       "      <th>99</th>\n",
       "      <th>clust</th>\n",
       "      <th>DA, predicted</th>\n",
       "      <th>DS, predicted</th>\n",
       "    </tr>\n",
       "  </thead>\n",
       "  <tbody>\n",
       "    <tr>\n",
       "      <th>347</th>\n",
       "      <td>https://hh.ru/resume/5b88fd1a000290bd010039ed1...</td>\n",
       "      <td>Специалист по продаже рекламы</td>\n",
       "      <td>Москва, м. Славянский бульвар, не готов к пере...</td>\n",
       "      <td>Опыт работы 9 лет 7 месяцев</td>\n",
       "      <td>Веду здоровый образ жизни, без вредных привыче...</td>\n",
       "      <td>Высшее образование\\n2015\\nЕлецкий государствен...</td>\n",
       "      <td>Специализации:\\nМенеджер по продажам, менеджер...</td>\n",
       "      <td>Управление отношениями с клиентами, деловая ко...</td>\n",
       "      <td>Елецкий государственный университет им. И.А. Б...</td>\n",
       "      <td>NaN</td>\n",
       "      <td>...</td>\n",
       "      <td>0.001167</td>\n",
       "      <td>-0.001777</td>\n",
       "      <td>0.001526</td>\n",
       "      <td>-0.001713</td>\n",
       "      <td>0.000254</td>\n",
       "      <td>0.000469</td>\n",
       "      <td>0.001859</td>\n",
       "      <td>0</td>\n",
       "      <td>0.0</td>\n",
       "      <td>0.0</td>\n",
       "    </tr>\n",
       "  </tbody>\n",
       "</table>\n",
       "<p>1 rows × 140 columns</p>\n",
       "</div>"
      ],
      "text/plain": [
       "                                                Ссылка  \\\n",
       "347  https://hh.ru/resume/5b88fd1a000290bd010039ed1...   \n",
       "\n",
       "                          Название  \\\n",
       "347  Специалист по продаже рекламы   \n",
       "\n",
       "                                         Коммандировка  \\\n",
       "347  Москва, м. Славянский бульвар, не готов к пере...   \n",
       "\n",
       "                            Опыт  \\\n",
       "347  Опыт работы 9 лет 7 месяцев   \n",
       "\n",
       "                                                О себе  \\\n",
       "347  Веду здоровый образ жизни, без вредных привыче...   \n",
       "\n",
       "                                           Образование  \\\n",
       "347  Высшее образование\\n2015\\nЕлецкий государствен...   \n",
       "\n",
       "                                              Интересы  \\\n",
       "347  Специализации:\\nМенеджер по продажам, менеджер...   \n",
       "\n",
       "                                                Навыки  \\\n",
       "347  Управление отношениями с клиентами, деловая ко...   \n",
       "\n",
       "                                         Образование-1 Образование-2  ...  \\\n",
       "347  Елецкий государственный университет им. И.А. Б...           NaN  ...   \n",
       "\n",
       "           93        94        95        96        97        98        99  \\\n",
       "347  0.001167 -0.001777  0.001526 -0.001713  0.000254  0.000469  0.001859   \n",
       "\n",
       "    clust  DA, predicted  DS, predicted  \n",
       "347     0            0.0            0.0  \n",
       "\n",
       "[1 rows x 140 columns]"
      ]
     },
     "execution_count": 4,
     "metadata": {},
     "output_type": "execute_result"
    }
   ],
   "source": [
    "df.sample(1)"
   ]
  },
  {
   "cell_type": "markdown",
   "id": "1942e2b4-ade6-463f-b325-dc8ec4942fd5",
   "metadata": {},
   "source": [
    "Для [оценки качества](https://stats.stackexchange.com/questions/12702/what-are-the-measure-for-accuracy-of-multilabel-data) по $F_1$-мере заведем специальный словарь:"
   ]
  },
  {
   "cell_type": "code",
   "execution_count": 280,
   "id": "1ade83f2-c663-42c2-94f4-8f6292995d49",
   "metadata": {},
   "outputs": [],
   "source": [
    "from sklearn.metrics import f1_score"
   ]
  },
  {
   "cell_type": "code",
   "execution_count": 281,
   "id": "d60aece3-6eea-4433-8529-0d013ea3d380",
   "metadata": {},
   "outputs": [],
   "source": [
    "from sklearn.semi_supervised import SelfTrainingClassifier"
   ]
  },
  {
   "cell_type": "code",
   "execution_count": 282,
   "id": "2fb4d339-0dde-453e-a58b-6b64ae16e332",
   "metadata": {},
   "outputs": [],
   "source": [
    "from sklearn import svm\n",
    "from sklearn.naive_bayes import GaussianNB\n",
    "from sklearn.tree import DecisionTreeClassifier"
   ]
  },
  {
   "cell_type": "code",
   "execution_count": 283,
   "id": "705cc475-dd6b-4c80-ab7e-a5eb40460664",
   "metadata": {},
   "outputs": [],
   "source": [
    "from sklearn.ensemble import RandomForestClassifier\n",
    "from sklearn.neighbors import KNeighborsClassifier"
   ]
  },
  {
   "cell_type": "code",
   "execution_count": 284,
   "id": "7f66a8a5-bf22-4660-b4cc-87482cc49fec",
   "metadata": {},
   "outputs": [],
   "source": [
    "from sklearn.model_selection import GridSearchCV\n",
    "from sklearn.metrics import f1_score\n",
    "parameters = {\n",
    "    \"loss\":[\"deviance\", \"exponential\"],\n",
    "    \"learning_rate\": [0.01, 0.025, 0.05, 0.075, 0.1, 0.15, 0.2],\n",
    "    \"min_samples_split\": np.linspace(0.1, 0.5, 12),\n",
    "    \"min_samples_leaf\": np.linspace(0.1, 0.5, 12),\n",
    "    \"max_depth\":[3,5,8],\n",
    "    \"subsample\":[0.5, 0.618, 0.8, 0.85, 0.9, 0.95, 1.0],\n",
    "    \"n_estimators\":[10],\n",
    "    # \"base_estimator__loss\":[\"deviance\", \"exponential\"],\n",
    "    # \"base_estimator__learning_rate\": [0.01, 0.025, 0.05, 0.075, 0.1, 0.15, 0.2],\n",
    "    # \"base_estimator__min_samples_split\": np.linspace(0.1, 0.5, 12),\n",
    "    # \"base_estimator__min_samples_leaf\": np.linspace(0.1, 0.5, 12),\n",
    "    # \"base_estimator__max_depth\":[3,5,8],\n",
    "    # \"base_estimator__subsample\":[0.5, 0.618, 0.8, 0.85, 0.9, 0.95, 1.0],\n",
    "    # \"estimator__base_estimatorn_estimators\":[10],\n",
    "    }"
   ]
  },
  {
   "cell_type": "code",
   "execution_count": 285,
   "id": "54525781-ed59-43a4-93a9-2dad131cd817",
   "metadata": {},
   "outputs": [],
   "source": [
    "def validate(alg, semi_supervised=False, not_sklearn=False):\n",
    "    f1_weighted_array = []\n",
    "    f1_macro_array = []\n",
    "    f1_micro_array = []\n",
    "    good_predictions_array = []\n",
    "    value_counts_df = pd.DataFrame()\n",
    "    for k in range(28):\n",
    "        if semi_supervised:\n",
    "            X = df.loc[df['DA'] != -1].loc[:, list(df)[36:-3] + ['Кол-во образований', 'Опыт нормализованный','Топовость образования', 'Справочник по интересам', 'Релокация?', 'Коммандировка?', 'Город?', 'Уровень оборазования нормализованный', 'Карьерный рост', 'Аналитические комбинации слов в навыках']]\n",
    "            y = df.loc[df['DA'] != -1, 'DA']\n",
    "            \n",
    "            X_2 = df.loc[:, list(df)[36:-3] + ['Кол-во образований', 'Опыт нормализованный','Топовость образования', 'Справочник по интересам', 'Релокация?', 'Коммандировка?', 'Город?', 'Уровень оборазования нормализованный', 'Карьерный рост', 'Аналитические комбинации слов в навыках']]\n",
    "            y_2 = df.loc[:, 'DA']\n",
    "\n",
    "            X_train = X.sample(200)\n",
    "            y_train = y[X_train.index]\n",
    "\n",
    "            X_test = X.drop(X_train.index)\n",
    "            y_test = y.drop(y_train.index)\n",
    "\n",
    "            X_train = X_2.drop(X_test.index)\n",
    "            y_train = y_2.drop(y_test.index)\n",
    "\n",
    "            X_2.drop(X_test.index, inplace=True)\n",
    "            y_2.drop(y_test.index, inplace=True)\n",
    "            \n",
    "            if not_sklearn:\n",
    "                X = np.array(X)\n",
    "                y = np.array(y).astype('int32')\n",
    "                X_2 = np.array(X_2)\n",
    "                y_2 = np.array(y_2).astype('int32')\n",
    "                X_test = np.array(X_test)\n",
    "                y_test = np.array(y_test).astype('int32')\n",
    "\n",
    "            alg.fit(X_2, y_2)\n",
    "            # print(np.unique(y_2))\n",
    "        else:\n",
    "            X = df.loc[df['DA'] != -1].loc[:, list(df)[36:-3] + ['Кол-во образований', 'Опыт нормализованный','Топовость образования', 'Справочник по интересам', 'Релокация?', 'Коммандировка?', 'Город?', 'Уровень оборазования нормализованный', 'Карьерный рост', 'Аналитические комбинации слов в навыках']]\n",
    "            y = df.loc[df['DA'] != -1, 'DA']\n",
    "\n",
    "            X_train = X.sample(200)\n",
    "            y_train = y[X_train.index]\n",
    "\n",
    "            X_test = X.drop(X_train.index)\n",
    "            y_test = y.drop(y_train.index)\n",
    "\n",
    "            alg.fit(X_train, y_train)\n",
    "        \n",
    "        f1_weighted = f1_score(y_test, alg.predict(X_test), average='weighted')\n",
    "        f1_weighted_array.append(f1_weighted)\n",
    "        f1_macro = f1_score(y_test, alg.predict(X_test), average='macro')\n",
    "        f1_macro_array.append(f1_macro)\n",
    "        f1_micro = f1_score(y_test, alg.predict(X_test), average='micro')\n",
    "        f1_micro_array.append(f1_micro)\n",
    "        \n",
    "        tf = pd.DataFrame(np.array(alg.predict(X_test))==np.array(y_test)).value_counts()\n",
    "        good_predictions = tf[True] / (tf[True]+tf[False])\n",
    "        good_predictions_array.append(good_predictions)\n",
    "        \n",
    "        if k != 0:\n",
    "            value_counts_df += pd.DataFrame(alg.predict(X_test)).value_counts()\n",
    "        else:\n",
    "            value_counts_df = pd.DataFrame(alg.predict(X_test)).value_counts()\n",
    "            \n",
    "    value_counts_df = value_counts_df / 28\n",
    "    np.min(good_predictions_array), np.max(good_predictions_array)\n",
    "    return (str(value_counts_df).strip('\\ndtype: float64'), \n",
    "            np.min(good_predictions_array), \n",
    "            np.mean(good_predictions_array),\n",
    "            np.max(good_predictions_array),\n",
    "            \n",
    "            np.min(f1_micro_array), \n",
    "            np.mean(f1_micro_array),\n",
    "            np.max(f1_micro_array),\n",
    "            \n",
    "            np.min(f1_macro_array), \n",
    "            np.mean(f1_macro_array),\n",
    "            np.max(f1_macro_array),\n",
    "            \n",
    "            np.min(f1_weighted_array), \n",
    "            np.mean(f1_weighted_array),\n",
    "            np.max(f1_weighted_array)\n",
    "            )"
   ]
  },
  {
   "cell_type": "markdown",
   "id": "142d1810-c99b-41da-a5a4-597e78099c8d",
   "metadata": {},
   "source": [
    "Начнем с логистической регрессии (она [подходит](https://scikit-learn.org/stable/modules/multiclass.html#multilabel-classification-format) для мульти-классовой классификации):"
   ]
  },
  {
   "cell_type": "code",
   "execution_count": 765,
   "id": "c0f4532e-b9c6-47d1-a3e2-999ee35df481",
   "metadata": {
    "tags": []
   },
   "outputs": [],
   "source": [
    "acc = 0.\n",
    "k = 25\n",
    "reg = LogisticRegression(max_iter=10000)\n",
    "self_training_model = GridSearchCV(\n",
    "            SelfTrainingClassifier(reg), parameters, scoring=f1_score, n_jobs= -1, cv = 3\n",
    "        )\n",
    "\n",
    "lr = validate(reg)"
   ]
  },
  {
   "cell_type": "markdown",
   "id": "650408d9-7783-4863-bb13-80fc71caff07",
   "metadata": {},
   "source": [
    "Теперь попробуем решающие деревья:"
   ]
  },
  {
   "cell_type": "code",
   "execution_count": 766,
   "id": "c290b950-2ea9-4f98-83f8-5f18f91d0a8f",
   "metadata": {
    "tags": []
   },
   "outputs": [],
   "source": [
    "acc = 0.\n",
    "k = 20\n",
    "clf = DecisionTreeClassifier()\n",
    "self_training_model = GridSearchCV(\n",
    "            SelfTrainingClassifier(clf), parameters, scoring=f1_score, n_jobs= -1, cv = 3\n",
    "        )\n",
    "\n",
    "dt = validate(clf)"
   ]
  },
  {
   "cell_type": "markdown",
   "id": "022af304-1205-4c5e-8096-fc4f187df830",
   "metadata": {},
   "source": [
    "И, наконец, kNN:"
   ]
  },
  {
   "cell_type": "code",
   "execution_count": 767,
   "id": "10944d5a-47c9-4e47-a3f1-63866d3d2a72",
   "metadata": {
    "tags": []
   },
   "outputs": [],
   "source": [
    "acc = 0.\n",
    "k = 25\n",
    "clf = KNeighborsClassifier()\n",
    "self_training_model = GridSearchCV(\n",
    "            SelfTrainingClassifier(clf), parameters, scoring=f1_score, n_jobs= -1, cv = 3\n",
    "        )\n",
    "\n",
    "knn = validate(clf)"
   ]
  },
  {
   "cell_type": "markdown",
   "id": "e8982f52-4103-4178-a38a-87e09d419b49",
   "metadata": {},
   "source": [
    "Теперь попробуем [semi-supervised](https://medium.datadriveninvestor.com/the-ultimate-advanced-guide-of-semi-supervised-learning-3f772ed20927) версию деревьев:"
   ]
  },
  {
   "cell_type": "markdown",
   "id": "c9fffd1e-c78d-4afa-9aac-4b8dbc38a59b",
   "metadata": {},
   "source": [
    "Для этого `np.nan` заменим на `-1`:"
   ]
  },
  {
   "cell_type": "code",
   "execution_count": 768,
   "id": "475d5ec3-75f8-42e4-9b51-3d32773982f3",
   "metadata": {},
   "outputs": [],
   "source": [
    "# df.loc[~df['DA'].notna(), 'DA'] = -1"
   ]
  },
  {
   "cell_type": "code",
   "execution_count": 769,
   "id": "6967c0f0-c72f-46af-811a-4d826d9bebfb",
   "metadata": {},
   "outputs": [
    {
     "data": {
      "text/plain": [
       "-1.0    2342\n",
       " 0.0     339\n",
       " 1.0      31\n",
       " 2.0      13\n",
       "Name: DA, dtype: int64"
      ]
     },
     "execution_count": 769,
     "metadata": {},
     "output_type": "execute_result"
    }
   ],
   "source": [
    "df['DA'].value_counts()"
   ]
  },
  {
   "cell_type": "code",
   "execution_count": 770,
   "id": "0c2c4608-99ce-40cc-8d6f-b5b32ee7af68",
   "metadata": {
    "tags": []
   },
   "outputs": [],
   "source": [
    "acc = 0.\n",
    "k = 25\n",
    "svc = DecisionTreeClassifier()\n",
    "self_training_model = SelfTrainingClassifier(svc)\n",
    "    \n",
    "dt_semi = validate(self_training_model, True)"
   ]
  },
  {
   "cell_type": "markdown",
   "id": "5c1347ce-62a9-4d0b-9930-1dcbd30beaf3",
   "metadata": {},
   "source": [
    "Теперь kNN:"
   ]
  },
  {
   "cell_type": "code",
   "execution_count": 771,
   "id": "047b4e42-c564-44e5-b3f7-b84d856744d7",
   "metadata": {
    "tags": []
   },
   "outputs": [],
   "source": [
    "acc = 0.\n",
    "k = 25\n",
    "clf = KNeighborsClassifier()\n",
    "self_training_model = SelfTrainingClassifier(clf)\n",
    "\n",
    "knn_semi = validate(self_training_model, True)"
   ]
  },
  {
   "cell_type": "markdown",
   "id": "a384da67-4d1b-4896-80fb-51498778a546",
   "metadata": {},
   "source": [
    "Теперь LR:"
   ]
  },
  {
   "cell_type": "code",
   "execution_count": 772,
   "id": "6dd5882d-efc1-4443-95f6-ee80eb38f566",
   "metadata": {
    "tags": []
   },
   "outputs": [],
   "source": [
    "acc = 0.\n",
    "k = 25\n",
    "clf = LogisticRegression(max_iter=10000)\n",
    "self_training_model = SelfTrainingClassifier(clf)\n",
    "\n",
    "lr_semi = validate(self_training_model, True)"
   ]
  },
  {
   "cell_type": "markdown",
   "id": "db9f584d-4ded-4d3f-9afd-847078546b3b",
   "metadata": {},
   "source": [
    "Попробуем еще"
   ]
  },
  {
   "cell_type": "code",
   "execution_count": 773,
   "id": "2870bff9-62aa-47d2-b325-780052d5f86b",
   "metadata": {},
   "outputs": [],
   "source": [
    "from sklearn.semi_supervised import LabelPropagation"
   ]
  },
  {
   "cell_type": "code",
   "execution_count": 774,
   "id": "fba69d3e-63e3-417c-b44b-3a3ab7fcd13e",
   "metadata": {
    "tags": []
   },
   "outputs": [],
   "source": [
    "acc = 0.\n",
    "k = 25\n",
    "clf = LogisticRegression(max_iter=10000)\n",
    "self_training_model = LabelPropagation(kernel='rbf', gamma=9e-6, max_iter=100000, tol=0.0001)\n",
    "\n",
    "lp = validate(self_training_model, True)"
   ]
  },
  {
   "cell_type": "code",
   "execution_count": 775,
   "id": "a95e1ae4-ee53-4416-9459-fa796d8e5554",
   "metadata": {},
   "outputs": [],
   "source": [
    "from sklearn.semi_supervised import LabelSpreading"
   ]
  },
  {
   "cell_type": "code",
   "execution_count": 776,
   "id": "c2911947-6baa-4b33-aba5-aa38428f53b7",
   "metadata": {
    "tags": []
   },
   "outputs": [],
   "source": [
    "acc = 0.\n",
    "k = 25\n",
    "clf = LogisticRegression(max_iter=10000)\n",
    "self_training_model = LabelSpreading()\n",
    "\n",
    "ls = validate(self_training_model, True)"
   ]
  },
  {
   "cell_type": "code",
   "execution_count": 777,
   "id": "6c5926b8-2fcf-4afe-94b0-6dc2fcd08bfb",
   "metadata": {},
   "outputs": [],
   "source": [
    "from semisupervised import S3VM"
   ]
  },
  {
   "cell_type": "code",
   "execution_count": 778,
   "id": "eae8c39e-d85a-4084-8ecb-97d8311640be",
   "metadata": {
    "collapsed": true,
    "jupyter": {
     "outputs_hidden": true
    },
    "tags": []
   },
   "outputs": [
    {
     "name": "stderr",
     "output_type": "stream",
     "text": [
      "/Users/vladkopchev/miniconda3/lib/python3.9/site-packages/numpy/matrixlib/defmatrix.py:69: PendingDeprecationWarning: the matrix subclass is not the recommended way to represent matrices or deal with linear algebra (see https://docs.scipy.org/doc/numpy/user/numpy-for-matlab-users.html). Please adjust your code to use regular ndarray.\n",
      "  return matrix(data, dtype=dtype, copy=False)\n",
      "/Users/vladkopchev/miniconda3/lib/python3.9/site-packages/numpy/matrixlib/defmatrix.py:1109: PendingDeprecationWarning: the matrix subclass is not the recommended way to represent matrices or deal with linear algebra (see https://docs.scipy.org/doc/numpy/user/numpy-for-matlab-users.html). Please adjust your code to use regular ndarray.\n",
      "  return matrix(concatenate(arr_rows, axis=0))\n",
      "/Users/vladkopchev/miniconda3/lib/python3.9/site-packages/numpy/matrixlib/defmatrix.py:69: PendingDeprecationWarning: the matrix subclass is not the recommended way to represent matrices or deal with linear algebra (see https://docs.scipy.org/doc/numpy/user/numpy-for-matlab-users.html). Please adjust your code to use regular ndarray.\n",
      "  return matrix(data, dtype=dtype, copy=False)\n",
      "/Users/vladkopchev/miniconda3/lib/python3.9/site-packages/numpy/matrixlib/defmatrix.py:69: PendingDeprecationWarning: the matrix subclass is not the recommended way to represent matrices or deal with linear algebra (see https://docs.scipy.org/doc/numpy/user/numpy-for-matlab-users.html). Please adjust your code to use regular ndarray.\n",
      "  return matrix(data, dtype=dtype, copy=False)\n",
      "/Users/vladkopchev/miniconda3/lib/python3.9/site-packages/numpy/matrixlib/defmatrix.py:69: PendingDeprecationWarning: the matrix subclass is not the recommended way to represent matrices or deal with linear algebra (see https://docs.scipy.org/doc/numpy/user/numpy-for-matlab-users.html). Please adjust your code to use regular ndarray.\n",
      "  return matrix(data, dtype=dtype, copy=False)\n",
      "/Users/vladkopchev/miniconda3/lib/python3.9/site-packages/numpy/matrixlib/defmatrix.py:69: PendingDeprecationWarning: the matrix subclass is not the recommended way to represent matrices or deal with linear algebra (see https://docs.scipy.org/doc/numpy/user/numpy-for-matlab-users.html). Please adjust your code to use regular ndarray.\n",
      "  return matrix(data, dtype=dtype, copy=False)\n",
      "/Users/vladkopchev/miniconda3/lib/python3.9/site-packages/numpy/matrixlib/defmatrix.py:69: PendingDeprecationWarning: the matrix subclass is not the recommended way to represent matrices or deal with linear algebra (see https://docs.scipy.org/doc/numpy/user/numpy-for-matlab-users.html). Please adjust your code to use regular ndarray.\n",
      "  return matrix(data, dtype=dtype, copy=False)\n",
      "/Users/vladkopchev/miniconda3/lib/python3.9/site-packages/numpy/matrixlib/defmatrix.py:1109: PendingDeprecationWarning: the matrix subclass is not the recommended way to represent matrices or deal with linear algebra (see https://docs.scipy.org/doc/numpy/user/numpy-for-matlab-users.html). Please adjust your code to use regular ndarray.\n",
      "  return matrix(concatenate(arr_rows, axis=0))\n",
      "/Users/vladkopchev/miniconda3/lib/python3.9/site-packages/numpy/matrixlib/defmatrix.py:69: PendingDeprecationWarning: the matrix subclass is not the recommended way to represent matrices or deal with linear algebra (see https://docs.scipy.org/doc/numpy/user/numpy-for-matlab-users.html). Please adjust your code to use regular ndarray.\n",
      "  return matrix(data, dtype=dtype, copy=False)\n",
      "/Users/vladkopchev/miniconda3/lib/python3.9/site-packages/numpy/matrixlib/defmatrix.py:69: PendingDeprecationWarning: the matrix subclass is not the recommended way to represent matrices or deal with linear algebra (see https://docs.scipy.org/doc/numpy/user/numpy-for-matlab-users.html). Please adjust your code to use regular ndarray.\n",
      "  return matrix(data, dtype=dtype, copy=False)\n",
      "/Users/vladkopchev/miniconda3/lib/python3.9/site-packages/numpy/matrixlib/defmatrix.py:69: PendingDeprecationWarning: the matrix subclass is not the recommended way to represent matrices or deal with linear algebra (see https://docs.scipy.org/doc/numpy/user/numpy-for-matlab-users.html). Please adjust your code to use regular ndarray.\n",
      "  return matrix(data, dtype=dtype, copy=False)\n",
      "/Users/vladkopchev/miniconda3/lib/python3.9/site-packages/numpy/matrixlib/defmatrix.py:69: PendingDeprecationWarning: the matrix subclass is not the recommended way to represent matrices or deal with linear algebra (see https://docs.scipy.org/doc/numpy/user/numpy-for-matlab-users.html). Please adjust your code to use regular ndarray.\n",
      "  return matrix(data, dtype=dtype, copy=False)\n",
      "/Users/vladkopchev/miniconda3/lib/python3.9/site-packages/numpy/matrixlib/defmatrix.py:69: PendingDeprecationWarning: the matrix subclass is not the recommended way to represent matrices or deal with linear algebra (see https://docs.scipy.org/doc/numpy/user/numpy-for-matlab-users.html). Please adjust your code to use regular ndarray.\n",
      "  return matrix(data, dtype=dtype, copy=False)\n",
      "/Users/vladkopchev/miniconda3/lib/python3.9/site-packages/numpy/matrixlib/defmatrix.py:1109: PendingDeprecationWarning: the matrix subclass is not the recommended way to represent matrices or deal with linear algebra (see https://docs.scipy.org/doc/numpy/user/numpy-for-matlab-users.html). Please adjust your code to use regular ndarray.\n",
      "  return matrix(concatenate(arr_rows, axis=0))\n",
      "/Users/vladkopchev/miniconda3/lib/python3.9/site-packages/numpy/matrixlib/defmatrix.py:69: PendingDeprecationWarning: the matrix subclass is not the recommended way to represent matrices or deal with linear algebra (see https://docs.scipy.org/doc/numpy/user/numpy-for-matlab-users.html). Please adjust your code to use regular ndarray.\n",
      "  return matrix(data, dtype=dtype, copy=False)\n",
      "/Users/vladkopchev/miniconda3/lib/python3.9/site-packages/numpy/matrixlib/defmatrix.py:69: PendingDeprecationWarning: the matrix subclass is not the recommended way to represent matrices or deal with linear algebra (see https://docs.scipy.org/doc/numpy/user/numpy-for-matlab-users.html). Please adjust your code to use regular ndarray.\n",
      "  return matrix(data, dtype=dtype, copy=False)\n",
      "/Users/vladkopchev/miniconda3/lib/python3.9/site-packages/numpy/matrixlib/defmatrix.py:69: PendingDeprecationWarning: the matrix subclass is not the recommended way to represent matrices or deal with linear algebra (see https://docs.scipy.org/doc/numpy/user/numpy-for-matlab-users.html). Please adjust your code to use regular ndarray.\n",
      "  return matrix(data, dtype=dtype, copy=False)\n",
      "/Users/vladkopchev/miniconda3/lib/python3.9/site-packages/numpy/matrixlib/defmatrix.py:69: PendingDeprecationWarning: the matrix subclass is not the recommended way to represent matrices or deal with linear algebra (see https://docs.scipy.org/doc/numpy/user/numpy-for-matlab-users.html). Please adjust your code to use regular ndarray.\n",
      "  return matrix(data, dtype=dtype, copy=False)\n",
      "/Users/vladkopchev/miniconda3/lib/python3.9/site-packages/numpy/matrixlib/defmatrix.py:69: PendingDeprecationWarning: the matrix subclass is not the recommended way to represent matrices or deal with linear algebra (see https://docs.scipy.org/doc/numpy/user/numpy-for-matlab-users.html). Please adjust your code to use regular ndarray.\n",
      "  return matrix(data, dtype=dtype, copy=False)\n",
      "/Users/vladkopchev/miniconda3/lib/python3.9/site-packages/numpy/matrixlib/defmatrix.py:1109: PendingDeprecationWarning: the matrix subclass is not the recommended way to represent matrices or deal with linear algebra (see https://docs.scipy.org/doc/numpy/user/numpy-for-matlab-users.html). Please adjust your code to use regular ndarray.\n",
      "  return matrix(concatenate(arr_rows, axis=0))\n",
      "/Users/vladkopchev/miniconda3/lib/python3.9/site-packages/numpy/matrixlib/defmatrix.py:69: PendingDeprecationWarning: the matrix subclass is not the recommended way to represent matrices or deal with linear algebra (see https://docs.scipy.org/doc/numpy/user/numpy-for-matlab-users.html). Please adjust your code to use regular ndarray.\n",
      "  return matrix(data, dtype=dtype, copy=False)\n",
      "/Users/vladkopchev/miniconda3/lib/python3.9/site-packages/numpy/matrixlib/defmatrix.py:69: PendingDeprecationWarning: the matrix subclass is not the recommended way to represent matrices or deal with linear algebra (see https://docs.scipy.org/doc/numpy/user/numpy-for-matlab-users.html). Please adjust your code to use regular ndarray.\n",
      "  return matrix(data, dtype=dtype, copy=False)\n",
      "/Users/vladkopchev/miniconda3/lib/python3.9/site-packages/numpy/matrixlib/defmatrix.py:69: PendingDeprecationWarning: the matrix subclass is not the recommended way to represent matrices or deal with linear algebra (see https://docs.scipy.org/doc/numpy/user/numpy-for-matlab-users.html). Please adjust your code to use regular ndarray.\n",
      "  return matrix(data, dtype=dtype, copy=False)\n",
      "/Users/vladkopchev/miniconda3/lib/python3.9/site-packages/numpy/matrixlib/defmatrix.py:69: PendingDeprecationWarning: the matrix subclass is not the recommended way to represent matrices or deal with linear algebra (see https://docs.scipy.org/doc/numpy/user/numpy-for-matlab-users.html). Please adjust your code to use regular ndarray.\n",
      "  return matrix(data, dtype=dtype, copy=False)\n",
      "/Users/vladkopchev/miniconda3/lib/python3.9/site-packages/numpy/matrixlib/defmatrix.py:69: PendingDeprecationWarning: the matrix subclass is not the recommended way to represent matrices or deal with linear algebra (see https://docs.scipy.org/doc/numpy/user/numpy-for-matlab-users.html). Please adjust your code to use regular ndarray.\n",
      "  return matrix(data, dtype=dtype, copy=False)\n",
      "/Users/vladkopchev/miniconda3/lib/python3.9/site-packages/numpy/matrixlib/defmatrix.py:1109: PendingDeprecationWarning: the matrix subclass is not the recommended way to represent matrices or deal with linear algebra (see https://docs.scipy.org/doc/numpy/user/numpy-for-matlab-users.html). Please adjust your code to use regular ndarray.\n",
      "  return matrix(concatenate(arr_rows, axis=0))\n",
      "/Users/vladkopchev/miniconda3/lib/python3.9/site-packages/numpy/matrixlib/defmatrix.py:69: PendingDeprecationWarning: the matrix subclass is not the recommended way to represent matrices or deal with linear algebra (see https://docs.scipy.org/doc/numpy/user/numpy-for-matlab-users.html). Please adjust your code to use regular ndarray.\n",
      "  return matrix(data, dtype=dtype, copy=False)\n",
      "/Users/vladkopchev/miniconda3/lib/python3.9/site-packages/numpy/matrixlib/defmatrix.py:69: PendingDeprecationWarning: the matrix subclass is not the recommended way to represent matrices or deal with linear algebra (see https://docs.scipy.org/doc/numpy/user/numpy-for-matlab-users.html). Please adjust your code to use regular ndarray.\n",
      "  return matrix(data, dtype=dtype, copy=False)\n",
      "/Users/vladkopchev/miniconda3/lib/python3.9/site-packages/numpy/matrixlib/defmatrix.py:69: PendingDeprecationWarning: the matrix subclass is not the recommended way to represent matrices or deal with linear algebra (see https://docs.scipy.org/doc/numpy/user/numpy-for-matlab-users.html). Please adjust your code to use regular ndarray.\n",
      "  return matrix(data, dtype=dtype, copy=False)\n",
      "/Users/vladkopchev/miniconda3/lib/python3.9/site-packages/numpy/matrixlib/defmatrix.py:69: PendingDeprecationWarning: the matrix subclass is not the recommended way to represent matrices or deal with linear algebra (see https://docs.scipy.org/doc/numpy/user/numpy-for-matlab-users.html). Please adjust your code to use regular ndarray.\n",
      "  return matrix(data, dtype=dtype, copy=False)\n",
      "/Users/vladkopchev/miniconda3/lib/python3.9/site-packages/numpy/matrixlib/defmatrix.py:69: PendingDeprecationWarning: the matrix subclass is not the recommended way to represent matrices or deal with linear algebra (see https://docs.scipy.org/doc/numpy/user/numpy-for-matlab-users.html). Please adjust your code to use regular ndarray.\n",
      "  return matrix(data, dtype=dtype, copy=False)\n",
      "/Users/vladkopchev/miniconda3/lib/python3.9/site-packages/numpy/matrixlib/defmatrix.py:1109: PendingDeprecationWarning: the matrix subclass is not the recommended way to represent matrices or deal with linear algebra (see https://docs.scipy.org/doc/numpy/user/numpy-for-matlab-users.html). Please adjust your code to use regular ndarray.\n",
      "  return matrix(concatenate(arr_rows, axis=0))\n",
      "/Users/vladkopchev/miniconda3/lib/python3.9/site-packages/numpy/matrixlib/defmatrix.py:69: PendingDeprecationWarning: the matrix subclass is not the recommended way to represent matrices or deal with linear algebra (see https://docs.scipy.org/doc/numpy/user/numpy-for-matlab-users.html). Please adjust your code to use regular ndarray.\n",
      "  return matrix(data, dtype=dtype, copy=False)\n",
      "/Users/vladkopchev/miniconda3/lib/python3.9/site-packages/numpy/matrixlib/defmatrix.py:69: PendingDeprecationWarning: the matrix subclass is not the recommended way to represent matrices or deal with linear algebra (see https://docs.scipy.org/doc/numpy/user/numpy-for-matlab-users.html). Please adjust your code to use regular ndarray.\n",
      "  return matrix(data, dtype=dtype, copy=False)\n",
      "/Users/vladkopchev/miniconda3/lib/python3.9/site-packages/numpy/matrixlib/defmatrix.py:69: PendingDeprecationWarning: the matrix subclass is not the recommended way to represent matrices or deal with linear algebra (see https://docs.scipy.org/doc/numpy/user/numpy-for-matlab-users.html). Please adjust your code to use regular ndarray.\n",
      "  return matrix(data, dtype=dtype, copy=False)\n",
      "/Users/vladkopchev/miniconda3/lib/python3.9/site-packages/numpy/matrixlib/defmatrix.py:69: PendingDeprecationWarning: the matrix subclass is not the recommended way to represent matrices or deal with linear algebra (see https://docs.scipy.org/doc/numpy/user/numpy-for-matlab-users.html). Please adjust your code to use regular ndarray.\n",
      "  return matrix(data, dtype=dtype, copy=False)\n",
      "/Users/vladkopchev/miniconda3/lib/python3.9/site-packages/numpy/matrixlib/defmatrix.py:69: PendingDeprecationWarning: the matrix subclass is not the recommended way to represent matrices or deal with linear algebra (see https://docs.scipy.org/doc/numpy/user/numpy-for-matlab-users.html). Please adjust your code to use regular ndarray.\n",
      "  return matrix(data, dtype=dtype, copy=False)\n",
      "/Users/vladkopchev/miniconda3/lib/python3.9/site-packages/numpy/matrixlib/defmatrix.py:1109: PendingDeprecationWarning: the matrix subclass is not the recommended way to represent matrices or deal with linear algebra (see https://docs.scipy.org/doc/numpy/user/numpy-for-matlab-users.html). Please adjust your code to use regular ndarray.\n",
      "  return matrix(concatenate(arr_rows, axis=0))\n",
      "/Users/vladkopchev/miniconda3/lib/python3.9/site-packages/numpy/matrixlib/defmatrix.py:69: PendingDeprecationWarning: the matrix subclass is not the recommended way to represent matrices or deal with linear algebra (see https://docs.scipy.org/doc/numpy/user/numpy-for-matlab-users.html). Please adjust your code to use regular ndarray.\n",
      "  return matrix(data, dtype=dtype, copy=False)\n",
      "/Users/vladkopchev/miniconda3/lib/python3.9/site-packages/numpy/matrixlib/defmatrix.py:69: PendingDeprecationWarning: the matrix subclass is not the recommended way to represent matrices or deal with linear algebra (see https://docs.scipy.org/doc/numpy/user/numpy-for-matlab-users.html). Please adjust your code to use regular ndarray.\n",
      "  return matrix(data, dtype=dtype, copy=False)\n",
      "/Users/vladkopchev/miniconda3/lib/python3.9/site-packages/numpy/matrixlib/defmatrix.py:69: PendingDeprecationWarning: the matrix subclass is not the recommended way to represent matrices or deal with linear algebra (see https://docs.scipy.org/doc/numpy/user/numpy-for-matlab-users.html). Please adjust your code to use regular ndarray.\n",
      "  return matrix(data, dtype=dtype, copy=False)\n",
      "/Users/vladkopchev/miniconda3/lib/python3.9/site-packages/numpy/matrixlib/defmatrix.py:69: PendingDeprecationWarning: the matrix subclass is not the recommended way to represent matrices or deal with linear algebra (see https://docs.scipy.org/doc/numpy/user/numpy-for-matlab-users.html). Please adjust your code to use regular ndarray.\n",
      "  return matrix(data, dtype=dtype, copy=False)\n",
      "/Users/vladkopchev/miniconda3/lib/python3.9/site-packages/numpy/matrixlib/defmatrix.py:69: PendingDeprecationWarning: the matrix subclass is not the recommended way to represent matrices or deal with linear algebra (see https://docs.scipy.org/doc/numpy/user/numpy-for-matlab-users.html). Please adjust your code to use regular ndarray.\n",
      "  return matrix(data, dtype=dtype, copy=False)\n",
      "/Users/vladkopchev/miniconda3/lib/python3.9/site-packages/numpy/matrixlib/defmatrix.py:1109: PendingDeprecationWarning: the matrix subclass is not the recommended way to represent matrices or deal with linear algebra (see https://docs.scipy.org/doc/numpy/user/numpy-for-matlab-users.html). Please adjust your code to use regular ndarray.\n",
      "  return matrix(concatenate(arr_rows, axis=0))\n",
      "/Users/vladkopchev/miniconda3/lib/python3.9/site-packages/numpy/matrixlib/defmatrix.py:69: PendingDeprecationWarning: the matrix subclass is not the recommended way to represent matrices or deal with linear algebra (see https://docs.scipy.org/doc/numpy/user/numpy-for-matlab-users.html). Please adjust your code to use regular ndarray.\n",
      "  return matrix(data, dtype=dtype, copy=False)\n",
      "/Users/vladkopchev/miniconda3/lib/python3.9/site-packages/numpy/matrixlib/defmatrix.py:69: PendingDeprecationWarning: the matrix subclass is not the recommended way to represent matrices or deal with linear algebra (see https://docs.scipy.org/doc/numpy/user/numpy-for-matlab-users.html). Please adjust your code to use regular ndarray.\n",
      "  return matrix(data, dtype=dtype, copy=False)\n",
      "/Users/vladkopchev/miniconda3/lib/python3.9/site-packages/numpy/matrixlib/defmatrix.py:69: PendingDeprecationWarning: the matrix subclass is not the recommended way to represent matrices or deal with linear algebra (see https://docs.scipy.org/doc/numpy/user/numpy-for-matlab-users.html). Please adjust your code to use regular ndarray.\n",
      "  return matrix(data, dtype=dtype, copy=False)\n",
      "/Users/vladkopchev/miniconda3/lib/python3.9/site-packages/numpy/matrixlib/defmatrix.py:69: PendingDeprecationWarning: the matrix subclass is not the recommended way to represent matrices or deal with linear algebra (see https://docs.scipy.org/doc/numpy/user/numpy-for-matlab-users.html). Please adjust your code to use regular ndarray.\n",
      "  return matrix(data, dtype=dtype, copy=False)\n",
      "/Users/vladkopchev/miniconda3/lib/python3.9/site-packages/numpy/matrixlib/defmatrix.py:69: PendingDeprecationWarning: the matrix subclass is not the recommended way to represent matrices or deal with linear algebra (see https://docs.scipy.org/doc/numpy/user/numpy-for-matlab-users.html). Please adjust your code to use regular ndarray.\n",
      "  return matrix(data, dtype=dtype, copy=False)\n",
      "/Users/vladkopchev/miniconda3/lib/python3.9/site-packages/numpy/matrixlib/defmatrix.py:1109: PendingDeprecationWarning: the matrix subclass is not the recommended way to represent matrices or deal with linear algebra (see https://docs.scipy.org/doc/numpy/user/numpy-for-matlab-users.html). Please adjust your code to use regular ndarray.\n",
      "  return matrix(concatenate(arr_rows, axis=0))\n",
      "/Users/vladkopchev/miniconda3/lib/python3.9/site-packages/numpy/matrixlib/defmatrix.py:69: PendingDeprecationWarning: the matrix subclass is not the recommended way to represent matrices or deal with linear algebra (see https://docs.scipy.org/doc/numpy/user/numpy-for-matlab-users.html). Please adjust your code to use regular ndarray.\n",
      "  return matrix(data, dtype=dtype, copy=False)\n",
      "/Users/vladkopchev/miniconda3/lib/python3.9/site-packages/numpy/matrixlib/defmatrix.py:69: PendingDeprecationWarning: the matrix subclass is not the recommended way to represent matrices or deal with linear algebra (see https://docs.scipy.org/doc/numpy/user/numpy-for-matlab-users.html). Please adjust your code to use regular ndarray.\n",
      "  return matrix(data, dtype=dtype, copy=False)\n",
      "/Users/vladkopchev/miniconda3/lib/python3.9/site-packages/numpy/matrixlib/defmatrix.py:69: PendingDeprecationWarning: the matrix subclass is not the recommended way to represent matrices or deal with linear algebra (see https://docs.scipy.org/doc/numpy/user/numpy-for-matlab-users.html). Please adjust your code to use regular ndarray.\n",
      "  return matrix(data, dtype=dtype, copy=False)\n",
      "/Users/vladkopchev/miniconda3/lib/python3.9/site-packages/numpy/matrixlib/defmatrix.py:69: PendingDeprecationWarning: the matrix subclass is not the recommended way to represent matrices or deal with linear algebra (see https://docs.scipy.org/doc/numpy/user/numpy-for-matlab-users.html). Please adjust your code to use regular ndarray.\n",
      "  return matrix(data, dtype=dtype, copy=False)\n",
      "/Users/vladkopchev/miniconda3/lib/python3.9/site-packages/numpy/matrixlib/defmatrix.py:69: PendingDeprecationWarning: the matrix subclass is not the recommended way to represent matrices or deal with linear algebra (see https://docs.scipy.org/doc/numpy/user/numpy-for-matlab-users.html). Please adjust your code to use regular ndarray.\n",
      "  return matrix(data, dtype=dtype, copy=False)\n",
      "/Users/vladkopchev/miniconda3/lib/python3.9/site-packages/numpy/matrixlib/defmatrix.py:1109: PendingDeprecationWarning: the matrix subclass is not the recommended way to represent matrices or deal with linear algebra (see https://docs.scipy.org/doc/numpy/user/numpy-for-matlab-users.html). Please adjust your code to use regular ndarray.\n",
      "  return matrix(concatenate(arr_rows, axis=0))\n",
      "/Users/vladkopchev/miniconda3/lib/python3.9/site-packages/numpy/matrixlib/defmatrix.py:69: PendingDeprecationWarning: the matrix subclass is not the recommended way to represent matrices or deal with linear algebra (see https://docs.scipy.org/doc/numpy/user/numpy-for-matlab-users.html). Please adjust your code to use regular ndarray.\n",
      "  return matrix(data, dtype=dtype, copy=False)\n",
      "/Users/vladkopchev/miniconda3/lib/python3.9/site-packages/numpy/matrixlib/defmatrix.py:69: PendingDeprecationWarning: the matrix subclass is not the recommended way to represent matrices or deal with linear algebra (see https://docs.scipy.org/doc/numpy/user/numpy-for-matlab-users.html). Please adjust your code to use regular ndarray.\n",
      "  return matrix(data, dtype=dtype, copy=False)\n",
      "/Users/vladkopchev/miniconda3/lib/python3.9/site-packages/numpy/matrixlib/defmatrix.py:69: PendingDeprecationWarning: the matrix subclass is not the recommended way to represent matrices or deal with linear algebra (see https://docs.scipy.org/doc/numpy/user/numpy-for-matlab-users.html). Please adjust your code to use regular ndarray.\n",
      "  return matrix(data, dtype=dtype, copy=False)\n",
      "/Users/vladkopchev/miniconda3/lib/python3.9/site-packages/numpy/matrixlib/defmatrix.py:69: PendingDeprecationWarning: the matrix subclass is not the recommended way to represent matrices or deal with linear algebra (see https://docs.scipy.org/doc/numpy/user/numpy-for-matlab-users.html). Please adjust your code to use regular ndarray.\n",
      "  return matrix(data, dtype=dtype, copy=False)\n",
      "/Users/vladkopchev/miniconda3/lib/python3.9/site-packages/numpy/matrixlib/defmatrix.py:69: PendingDeprecationWarning: the matrix subclass is not the recommended way to represent matrices or deal with linear algebra (see https://docs.scipy.org/doc/numpy/user/numpy-for-matlab-users.html). Please adjust your code to use regular ndarray.\n",
      "  return matrix(data, dtype=dtype, copy=False)\n",
      "/Users/vladkopchev/miniconda3/lib/python3.9/site-packages/numpy/matrixlib/defmatrix.py:1109: PendingDeprecationWarning: the matrix subclass is not the recommended way to represent matrices or deal with linear algebra (see https://docs.scipy.org/doc/numpy/user/numpy-for-matlab-users.html). Please adjust your code to use regular ndarray.\n",
      "  return matrix(concatenate(arr_rows, axis=0))\n",
      "/Users/vladkopchev/miniconda3/lib/python3.9/site-packages/numpy/matrixlib/defmatrix.py:69: PendingDeprecationWarning: the matrix subclass is not the recommended way to represent matrices or deal with linear algebra (see https://docs.scipy.org/doc/numpy/user/numpy-for-matlab-users.html). Please adjust your code to use regular ndarray.\n",
      "  return matrix(data, dtype=dtype, copy=False)\n",
      "/Users/vladkopchev/miniconda3/lib/python3.9/site-packages/numpy/matrixlib/defmatrix.py:69: PendingDeprecationWarning: the matrix subclass is not the recommended way to represent matrices or deal with linear algebra (see https://docs.scipy.org/doc/numpy/user/numpy-for-matlab-users.html). Please adjust your code to use regular ndarray.\n",
      "  return matrix(data, dtype=dtype, copy=False)\n",
      "/Users/vladkopchev/miniconda3/lib/python3.9/site-packages/numpy/matrixlib/defmatrix.py:69: PendingDeprecationWarning: the matrix subclass is not the recommended way to represent matrices or deal with linear algebra (see https://docs.scipy.org/doc/numpy/user/numpy-for-matlab-users.html). Please adjust your code to use regular ndarray.\n",
      "  return matrix(data, dtype=dtype, copy=False)\n",
      "/Users/vladkopchev/miniconda3/lib/python3.9/site-packages/numpy/matrixlib/defmatrix.py:69: PendingDeprecationWarning: the matrix subclass is not the recommended way to represent matrices or deal with linear algebra (see https://docs.scipy.org/doc/numpy/user/numpy-for-matlab-users.html). Please adjust your code to use regular ndarray.\n",
      "  return matrix(data, dtype=dtype, copy=False)\n",
      "/Users/vladkopchev/miniconda3/lib/python3.9/site-packages/numpy/matrixlib/defmatrix.py:69: PendingDeprecationWarning: the matrix subclass is not the recommended way to represent matrices or deal with linear algebra (see https://docs.scipy.org/doc/numpy/user/numpy-for-matlab-users.html). Please adjust your code to use regular ndarray.\n",
      "  return matrix(data, dtype=dtype, copy=False)\n",
      "/Users/vladkopchev/miniconda3/lib/python3.9/site-packages/numpy/matrixlib/defmatrix.py:1109: PendingDeprecationWarning: the matrix subclass is not the recommended way to represent matrices or deal with linear algebra (see https://docs.scipy.org/doc/numpy/user/numpy-for-matlab-users.html). Please adjust your code to use regular ndarray.\n",
      "  return matrix(concatenate(arr_rows, axis=0))\n",
      "/Users/vladkopchev/miniconda3/lib/python3.9/site-packages/numpy/matrixlib/defmatrix.py:69: PendingDeprecationWarning: the matrix subclass is not the recommended way to represent matrices or deal with linear algebra (see https://docs.scipy.org/doc/numpy/user/numpy-for-matlab-users.html). Please adjust your code to use regular ndarray.\n",
      "  return matrix(data, dtype=dtype, copy=False)\n",
      "/Users/vladkopchev/miniconda3/lib/python3.9/site-packages/numpy/matrixlib/defmatrix.py:69: PendingDeprecationWarning: the matrix subclass is not the recommended way to represent matrices or deal with linear algebra (see https://docs.scipy.org/doc/numpy/user/numpy-for-matlab-users.html). Please adjust your code to use regular ndarray.\n",
      "  return matrix(data, dtype=dtype, copy=False)\n",
      "/Users/vladkopchev/miniconda3/lib/python3.9/site-packages/numpy/matrixlib/defmatrix.py:69: PendingDeprecationWarning: the matrix subclass is not the recommended way to represent matrices or deal with linear algebra (see https://docs.scipy.org/doc/numpy/user/numpy-for-matlab-users.html). Please adjust your code to use regular ndarray.\n",
      "  return matrix(data, dtype=dtype, copy=False)\n",
      "/Users/vladkopchev/miniconda3/lib/python3.9/site-packages/numpy/matrixlib/defmatrix.py:69: PendingDeprecationWarning: the matrix subclass is not the recommended way to represent matrices or deal with linear algebra (see https://docs.scipy.org/doc/numpy/user/numpy-for-matlab-users.html). Please adjust your code to use regular ndarray.\n",
      "  return matrix(data, dtype=dtype, copy=False)\n",
      "/Users/vladkopchev/miniconda3/lib/python3.9/site-packages/numpy/matrixlib/defmatrix.py:69: PendingDeprecationWarning: the matrix subclass is not the recommended way to represent matrices or deal with linear algebra (see https://docs.scipy.org/doc/numpy/user/numpy-for-matlab-users.html). Please adjust your code to use regular ndarray.\n",
      "  return matrix(data, dtype=dtype, copy=False)\n",
      "/Users/vladkopchev/miniconda3/lib/python3.9/site-packages/numpy/matrixlib/defmatrix.py:1109: PendingDeprecationWarning: the matrix subclass is not the recommended way to represent matrices or deal with linear algebra (see https://docs.scipy.org/doc/numpy/user/numpy-for-matlab-users.html). Please adjust your code to use regular ndarray.\n",
      "  return matrix(concatenate(arr_rows, axis=0))\n",
      "/Users/vladkopchev/miniconda3/lib/python3.9/site-packages/numpy/matrixlib/defmatrix.py:69: PendingDeprecationWarning: the matrix subclass is not the recommended way to represent matrices or deal with linear algebra (see https://docs.scipy.org/doc/numpy/user/numpy-for-matlab-users.html). Please adjust your code to use regular ndarray.\n",
      "  return matrix(data, dtype=dtype, copy=False)\n",
      "/Users/vladkopchev/miniconda3/lib/python3.9/site-packages/numpy/matrixlib/defmatrix.py:69: PendingDeprecationWarning: the matrix subclass is not the recommended way to represent matrices or deal with linear algebra (see https://docs.scipy.org/doc/numpy/user/numpy-for-matlab-users.html). Please adjust your code to use regular ndarray.\n",
      "  return matrix(data, dtype=dtype, copy=False)\n",
      "/Users/vladkopchev/miniconda3/lib/python3.9/site-packages/numpy/matrixlib/defmatrix.py:69: PendingDeprecationWarning: the matrix subclass is not the recommended way to represent matrices or deal with linear algebra (see https://docs.scipy.org/doc/numpy/user/numpy-for-matlab-users.html). Please adjust your code to use regular ndarray.\n",
      "  return matrix(data, dtype=dtype, copy=False)\n",
      "/Users/vladkopchev/miniconda3/lib/python3.9/site-packages/numpy/matrixlib/defmatrix.py:69: PendingDeprecationWarning: the matrix subclass is not the recommended way to represent matrices or deal with linear algebra (see https://docs.scipy.org/doc/numpy/user/numpy-for-matlab-users.html). Please adjust your code to use regular ndarray.\n",
      "  return matrix(data, dtype=dtype, copy=False)\n",
      "/Users/vladkopchev/miniconda3/lib/python3.9/site-packages/numpy/matrixlib/defmatrix.py:69: PendingDeprecationWarning: the matrix subclass is not the recommended way to represent matrices or deal with linear algebra (see https://docs.scipy.org/doc/numpy/user/numpy-for-matlab-users.html). Please adjust your code to use regular ndarray.\n",
      "  return matrix(data, dtype=dtype, copy=False)\n",
      "/Users/vladkopchev/miniconda3/lib/python3.9/site-packages/numpy/matrixlib/defmatrix.py:1109: PendingDeprecationWarning: the matrix subclass is not the recommended way to represent matrices or deal with linear algebra (see https://docs.scipy.org/doc/numpy/user/numpy-for-matlab-users.html). Please adjust your code to use regular ndarray.\n",
      "  return matrix(concatenate(arr_rows, axis=0))\n",
      "/Users/vladkopchev/miniconda3/lib/python3.9/site-packages/numpy/matrixlib/defmatrix.py:69: PendingDeprecationWarning: the matrix subclass is not the recommended way to represent matrices or deal with linear algebra (see https://docs.scipy.org/doc/numpy/user/numpy-for-matlab-users.html). Please adjust your code to use regular ndarray.\n",
      "  return matrix(data, dtype=dtype, copy=False)\n",
      "/Users/vladkopchev/miniconda3/lib/python3.9/site-packages/numpy/matrixlib/defmatrix.py:69: PendingDeprecationWarning: the matrix subclass is not the recommended way to represent matrices or deal with linear algebra (see https://docs.scipy.org/doc/numpy/user/numpy-for-matlab-users.html). Please adjust your code to use regular ndarray.\n",
      "  return matrix(data, dtype=dtype, copy=False)\n",
      "/Users/vladkopchev/miniconda3/lib/python3.9/site-packages/numpy/matrixlib/defmatrix.py:69: PendingDeprecationWarning: the matrix subclass is not the recommended way to represent matrices or deal with linear algebra (see https://docs.scipy.org/doc/numpy/user/numpy-for-matlab-users.html). Please adjust your code to use regular ndarray.\n",
      "  return matrix(data, dtype=dtype, copy=False)\n",
      "/Users/vladkopchev/miniconda3/lib/python3.9/site-packages/numpy/matrixlib/defmatrix.py:69: PendingDeprecationWarning: the matrix subclass is not the recommended way to represent matrices or deal with linear algebra (see https://docs.scipy.org/doc/numpy/user/numpy-for-matlab-users.html). Please adjust your code to use regular ndarray.\n",
      "  return matrix(data, dtype=dtype, copy=False)\n",
      "/Users/vladkopchev/miniconda3/lib/python3.9/site-packages/numpy/matrixlib/defmatrix.py:69: PendingDeprecationWarning: the matrix subclass is not the recommended way to represent matrices or deal with linear algebra (see https://docs.scipy.org/doc/numpy/user/numpy-for-matlab-users.html). Please adjust your code to use regular ndarray.\n",
      "  return matrix(data, dtype=dtype, copy=False)\n",
      "/Users/vladkopchev/miniconda3/lib/python3.9/site-packages/numpy/matrixlib/defmatrix.py:1109: PendingDeprecationWarning: the matrix subclass is not the recommended way to represent matrices or deal with linear algebra (see https://docs.scipy.org/doc/numpy/user/numpy-for-matlab-users.html). Please adjust your code to use regular ndarray.\n",
      "  return matrix(concatenate(arr_rows, axis=0))\n",
      "/Users/vladkopchev/miniconda3/lib/python3.9/site-packages/numpy/matrixlib/defmatrix.py:69: PendingDeprecationWarning: the matrix subclass is not the recommended way to represent matrices or deal with linear algebra (see https://docs.scipy.org/doc/numpy/user/numpy-for-matlab-users.html). Please adjust your code to use regular ndarray.\n",
      "  return matrix(data, dtype=dtype, copy=False)\n",
      "/Users/vladkopchev/miniconda3/lib/python3.9/site-packages/numpy/matrixlib/defmatrix.py:69: PendingDeprecationWarning: the matrix subclass is not the recommended way to represent matrices or deal with linear algebra (see https://docs.scipy.org/doc/numpy/user/numpy-for-matlab-users.html). Please adjust your code to use regular ndarray.\n",
      "  return matrix(data, dtype=dtype, copy=False)\n",
      "/Users/vladkopchev/miniconda3/lib/python3.9/site-packages/numpy/matrixlib/defmatrix.py:69: PendingDeprecationWarning: the matrix subclass is not the recommended way to represent matrices or deal with linear algebra (see https://docs.scipy.org/doc/numpy/user/numpy-for-matlab-users.html). Please adjust your code to use regular ndarray.\n",
      "  return matrix(data, dtype=dtype, copy=False)\n",
      "/Users/vladkopchev/miniconda3/lib/python3.9/site-packages/numpy/matrixlib/defmatrix.py:69: PendingDeprecationWarning: the matrix subclass is not the recommended way to represent matrices or deal with linear algebra (see https://docs.scipy.org/doc/numpy/user/numpy-for-matlab-users.html). Please adjust your code to use regular ndarray.\n",
      "  return matrix(data, dtype=dtype, copy=False)\n",
      "/Users/vladkopchev/miniconda3/lib/python3.9/site-packages/numpy/matrixlib/defmatrix.py:69: PendingDeprecationWarning: the matrix subclass is not the recommended way to represent matrices or deal with linear algebra (see https://docs.scipy.org/doc/numpy/user/numpy-for-matlab-users.html). Please adjust your code to use regular ndarray.\n",
      "  return matrix(data, dtype=dtype, copy=False)\n",
      "/Users/vladkopchev/miniconda3/lib/python3.9/site-packages/numpy/matrixlib/defmatrix.py:1109: PendingDeprecationWarning: the matrix subclass is not the recommended way to represent matrices or deal with linear algebra (see https://docs.scipy.org/doc/numpy/user/numpy-for-matlab-users.html). Please adjust your code to use regular ndarray.\n",
      "  return matrix(concatenate(arr_rows, axis=0))\n",
      "/Users/vladkopchev/miniconda3/lib/python3.9/site-packages/numpy/matrixlib/defmatrix.py:69: PendingDeprecationWarning: the matrix subclass is not the recommended way to represent matrices or deal with linear algebra (see https://docs.scipy.org/doc/numpy/user/numpy-for-matlab-users.html). Please adjust your code to use regular ndarray.\n",
      "  return matrix(data, dtype=dtype, copy=False)\n",
      "/Users/vladkopchev/miniconda3/lib/python3.9/site-packages/numpy/matrixlib/defmatrix.py:69: PendingDeprecationWarning: the matrix subclass is not the recommended way to represent matrices or deal with linear algebra (see https://docs.scipy.org/doc/numpy/user/numpy-for-matlab-users.html). Please adjust your code to use regular ndarray.\n",
      "  return matrix(data, dtype=dtype, copy=False)\n",
      "/Users/vladkopchev/miniconda3/lib/python3.9/site-packages/numpy/matrixlib/defmatrix.py:69: PendingDeprecationWarning: the matrix subclass is not the recommended way to represent matrices or deal with linear algebra (see https://docs.scipy.org/doc/numpy/user/numpy-for-matlab-users.html). Please adjust your code to use regular ndarray.\n",
      "  return matrix(data, dtype=dtype, copy=False)\n",
      "/Users/vladkopchev/miniconda3/lib/python3.9/site-packages/numpy/matrixlib/defmatrix.py:69: PendingDeprecationWarning: the matrix subclass is not the recommended way to represent matrices or deal with linear algebra (see https://docs.scipy.org/doc/numpy/user/numpy-for-matlab-users.html). Please adjust your code to use regular ndarray.\n",
      "  return matrix(data, dtype=dtype, copy=False)\n",
      "/Users/vladkopchev/miniconda3/lib/python3.9/site-packages/numpy/matrixlib/defmatrix.py:69: PendingDeprecationWarning: the matrix subclass is not the recommended way to represent matrices or deal with linear algebra (see https://docs.scipy.org/doc/numpy/user/numpy-for-matlab-users.html). Please adjust your code to use regular ndarray.\n",
      "  return matrix(data, dtype=dtype, copy=False)\n",
      "/Users/vladkopchev/miniconda3/lib/python3.9/site-packages/numpy/matrixlib/defmatrix.py:1109: PendingDeprecationWarning: the matrix subclass is not the recommended way to represent matrices or deal with linear algebra (see https://docs.scipy.org/doc/numpy/user/numpy-for-matlab-users.html). Please adjust your code to use regular ndarray.\n",
      "  return matrix(concatenate(arr_rows, axis=0))\n",
      "/Users/vladkopchev/miniconda3/lib/python3.9/site-packages/numpy/matrixlib/defmatrix.py:69: PendingDeprecationWarning: the matrix subclass is not the recommended way to represent matrices or deal with linear algebra (see https://docs.scipy.org/doc/numpy/user/numpy-for-matlab-users.html). Please adjust your code to use regular ndarray.\n",
      "  return matrix(data, dtype=dtype, copy=False)\n",
      "/Users/vladkopchev/miniconda3/lib/python3.9/site-packages/numpy/matrixlib/defmatrix.py:69: PendingDeprecationWarning: the matrix subclass is not the recommended way to represent matrices or deal with linear algebra (see https://docs.scipy.org/doc/numpy/user/numpy-for-matlab-users.html). Please adjust your code to use regular ndarray.\n",
      "  return matrix(data, dtype=dtype, copy=False)\n",
      "/Users/vladkopchev/miniconda3/lib/python3.9/site-packages/numpy/matrixlib/defmatrix.py:69: PendingDeprecationWarning: the matrix subclass is not the recommended way to represent matrices or deal with linear algebra (see https://docs.scipy.org/doc/numpy/user/numpy-for-matlab-users.html). Please adjust your code to use regular ndarray.\n",
      "  return matrix(data, dtype=dtype, copy=False)\n",
      "/Users/vladkopchev/miniconda3/lib/python3.9/site-packages/numpy/matrixlib/defmatrix.py:69: PendingDeprecationWarning: the matrix subclass is not the recommended way to represent matrices or deal with linear algebra (see https://docs.scipy.org/doc/numpy/user/numpy-for-matlab-users.html). Please adjust your code to use regular ndarray.\n",
      "  return matrix(data, dtype=dtype, copy=False)\n",
      "/Users/vladkopchev/miniconda3/lib/python3.9/site-packages/numpy/matrixlib/defmatrix.py:69: PendingDeprecationWarning: the matrix subclass is not the recommended way to represent matrices or deal with linear algebra (see https://docs.scipy.org/doc/numpy/user/numpy-for-matlab-users.html). Please adjust your code to use regular ndarray.\n",
      "  return matrix(data, dtype=dtype, copy=False)\n",
      "/Users/vladkopchev/miniconda3/lib/python3.9/site-packages/numpy/matrixlib/defmatrix.py:1109: PendingDeprecationWarning: the matrix subclass is not the recommended way to represent matrices or deal with linear algebra (see https://docs.scipy.org/doc/numpy/user/numpy-for-matlab-users.html). Please adjust your code to use regular ndarray.\n",
      "  return matrix(concatenate(arr_rows, axis=0))\n",
      "/Users/vladkopchev/miniconda3/lib/python3.9/site-packages/numpy/matrixlib/defmatrix.py:69: PendingDeprecationWarning: the matrix subclass is not the recommended way to represent matrices or deal with linear algebra (see https://docs.scipy.org/doc/numpy/user/numpy-for-matlab-users.html). Please adjust your code to use regular ndarray.\n",
      "  return matrix(data, dtype=dtype, copy=False)\n",
      "/Users/vladkopchev/miniconda3/lib/python3.9/site-packages/numpy/matrixlib/defmatrix.py:69: PendingDeprecationWarning: the matrix subclass is not the recommended way to represent matrices or deal with linear algebra (see https://docs.scipy.org/doc/numpy/user/numpy-for-matlab-users.html). Please adjust your code to use regular ndarray.\n",
      "  return matrix(data, dtype=dtype, copy=False)\n",
      "/Users/vladkopchev/miniconda3/lib/python3.9/site-packages/numpy/matrixlib/defmatrix.py:69: PendingDeprecationWarning: the matrix subclass is not the recommended way to represent matrices or deal with linear algebra (see https://docs.scipy.org/doc/numpy/user/numpy-for-matlab-users.html). Please adjust your code to use regular ndarray.\n",
      "  return matrix(data, dtype=dtype, copy=False)\n",
      "/Users/vladkopchev/miniconda3/lib/python3.9/site-packages/numpy/matrixlib/defmatrix.py:69: PendingDeprecationWarning: the matrix subclass is not the recommended way to represent matrices or deal with linear algebra (see https://docs.scipy.org/doc/numpy/user/numpy-for-matlab-users.html). Please adjust your code to use regular ndarray.\n",
      "  return matrix(data, dtype=dtype, copy=False)\n",
      "/Users/vladkopchev/miniconda3/lib/python3.9/site-packages/numpy/matrixlib/defmatrix.py:69: PendingDeprecationWarning: the matrix subclass is not the recommended way to represent matrices or deal with linear algebra (see https://docs.scipy.org/doc/numpy/user/numpy-for-matlab-users.html). Please adjust your code to use regular ndarray.\n",
      "  return matrix(data, dtype=dtype, copy=False)\n",
      "/Users/vladkopchev/miniconda3/lib/python3.9/site-packages/numpy/matrixlib/defmatrix.py:1109: PendingDeprecationWarning: the matrix subclass is not the recommended way to represent matrices or deal with linear algebra (see https://docs.scipy.org/doc/numpy/user/numpy-for-matlab-users.html). Please adjust your code to use regular ndarray.\n",
      "  return matrix(concatenate(arr_rows, axis=0))\n",
      "/Users/vladkopchev/miniconda3/lib/python3.9/site-packages/numpy/matrixlib/defmatrix.py:69: PendingDeprecationWarning: the matrix subclass is not the recommended way to represent matrices or deal with linear algebra (see https://docs.scipy.org/doc/numpy/user/numpy-for-matlab-users.html). Please adjust your code to use regular ndarray.\n",
      "  return matrix(data, dtype=dtype, copy=False)\n",
      "/Users/vladkopchev/miniconda3/lib/python3.9/site-packages/numpy/matrixlib/defmatrix.py:69: PendingDeprecationWarning: the matrix subclass is not the recommended way to represent matrices or deal with linear algebra (see https://docs.scipy.org/doc/numpy/user/numpy-for-matlab-users.html). Please adjust your code to use regular ndarray.\n",
      "  return matrix(data, dtype=dtype, copy=False)\n",
      "/Users/vladkopchev/miniconda3/lib/python3.9/site-packages/numpy/matrixlib/defmatrix.py:69: PendingDeprecationWarning: the matrix subclass is not the recommended way to represent matrices or deal with linear algebra (see https://docs.scipy.org/doc/numpy/user/numpy-for-matlab-users.html). Please adjust your code to use regular ndarray.\n",
      "  return matrix(data, dtype=dtype, copy=False)\n",
      "/Users/vladkopchev/miniconda3/lib/python3.9/site-packages/numpy/matrixlib/defmatrix.py:69: PendingDeprecationWarning: the matrix subclass is not the recommended way to represent matrices or deal with linear algebra (see https://docs.scipy.org/doc/numpy/user/numpy-for-matlab-users.html). Please adjust your code to use regular ndarray.\n",
      "  return matrix(data, dtype=dtype, copy=False)\n",
      "/Users/vladkopchev/miniconda3/lib/python3.9/site-packages/numpy/matrixlib/defmatrix.py:69: PendingDeprecationWarning: the matrix subclass is not the recommended way to represent matrices or deal with linear algebra (see https://docs.scipy.org/doc/numpy/user/numpy-for-matlab-users.html). Please adjust your code to use regular ndarray.\n",
      "  return matrix(data, dtype=dtype, copy=False)\n",
      "/Users/vladkopchev/miniconda3/lib/python3.9/site-packages/numpy/matrixlib/defmatrix.py:1109: PendingDeprecationWarning: the matrix subclass is not the recommended way to represent matrices or deal with linear algebra (see https://docs.scipy.org/doc/numpy/user/numpy-for-matlab-users.html). Please adjust your code to use regular ndarray.\n",
      "  return matrix(concatenate(arr_rows, axis=0))\n",
      "/Users/vladkopchev/miniconda3/lib/python3.9/site-packages/numpy/matrixlib/defmatrix.py:69: PendingDeprecationWarning: the matrix subclass is not the recommended way to represent matrices or deal with linear algebra (see https://docs.scipy.org/doc/numpy/user/numpy-for-matlab-users.html). Please adjust your code to use regular ndarray.\n",
      "  return matrix(data, dtype=dtype, copy=False)\n",
      "/Users/vladkopchev/miniconda3/lib/python3.9/site-packages/numpy/matrixlib/defmatrix.py:69: PendingDeprecationWarning: the matrix subclass is not the recommended way to represent matrices or deal with linear algebra (see https://docs.scipy.org/doc/numpy/user/numpy-for-matlab-users.html). Please adjust your code to use regular ndarray.\n",
      "  return matrix(data, dtype=dtype, copy=False)\n",
      "/Users/vladkopchev/miniconda3/lib/python3.9/site-packages/numpy/matrixlib/defmatrix.py:69: PendingDeprecationWarning: the matrix subclass is not the recommended way to represent matrices or deal with linear algebra (see https://docs.scipy.org/doc/numpy/user/numpy-for-matlab-users.html). Please adjust your code to use regular ndarray.\n",
      "  return matrix(data, dtype=dtype, copy=False)\n",
      "/Users/vladkopchev/miniconda3/lib/python3.9/site-packages/numpy/matrixlib/defmatrix.py:69: PendingDeprecationWarning: the matrix subclass is not the recommended way to represent matrices or deal with linear algebra (see https://docs.scipy.org/doc/numpy/user/numpy-for-matlab-users.html). Please adjust your code to use regular ndarray.\n",
      "  return matrix(data, dtype=dtype, copy=False)\n",
      "/Users/vladkopchev/miniconda3/lib/python3.9/site-packages/numpy/matrixlib/defmatrix.py:69: PendingDeprecationWarning: the matrix subclass is not the recommended way to represent matrices or deal with linear algebra (see https://docs.scipy.org/doc/numpy/user/numpy-for-matlab-users.html). Please adjust your code to use regular ndarray.\n",
      "  return matrix(data, dtype=dtype, copy=False)\n",
      "/Users/vladkopchev/miniconda3/lib/python3.9/site-packages/numpy/matrixlib/defmatrix.py:1109: PendingDeprecationWarning: the matrix subclass is not the recommended way to represent matrices or deal with linear algebra (see https://docs.scipy.org/doc/numpy/user/numpy-for-matlab-users.html). Please adjust your code to use regular ndarray.\n",
      "  return matrix(concatenate(arr_rows, axis=0))\n",
      "/Users/vladkopchev/miniconda3/lib/python3.9/site-packages/numpy/matrixlib/defmatrix.py:69: PendingDeprecationWarning: the matrix subclass is not the recommended way to represent matrices or deal with linear algebra (see https://docs.scipy.org/doc/numpy/user/numpy-for-matlab-users.html). Please adjust your code to use regular ndarray.\n",
      "  return matrix(data, dtype=dtype, copy=False)\n",
      "/Users/vladkopchev/miniconda3/lib/python3.9/site-packages/numpy/matrixlib/defmatrix.py:69: PendingDeprecationWarning: the matrix subclass is not the recommended way to represent matrices or deal with linear algebra (see https://docs.scipy.org/doc/numpy/user/numpy-for-matlab-users.html). Please adjust your code to use regular ndarray.\n",
      "  return matrix(data, dtype=dtype, copy=False)\n",
      "/Users/vladkopchev/miniconda3/lib/python3.9/site-packages/numpy/matrixlib/defmatrix.py:69: PendingDeprecationWarning: the matrix subclass is not the recommended way to represent matrices or deal with linear algebra (see https://docs.scipy.org/doc/numpy/user/numpy-for-matlab-users.html). Please adjust your code to use regular ndarray.\n",
      "  return matrix(data, dtype=dtype, copy=False)\n",
      "/Users/vladkopchev/miniconda3/lib/python3.9/site-packages/numpy/matrixlib/defmatrix.py:69: PendingDeprecationWarning: the matrix subclass is not the recommended way to represent matrices or deal with linear algebra (see https://docs.scipy.org/doc/numpy/user/numpy-for-matlab-users.html). Please adjust your code to use regular ndarray.\n",
      "  return matrix(data, dtype=dtype, copy=False)\n",
      "/Users/vladkopchev/miniconda3/lib/python3.9/site-packages/numpy/matrixlib/defmatrix.py:69: PendingDeprecationWarning: the matrix subclass is not the recommended way to represent matrices or deal with linear algebra (see https://docs.scipy.org/doc/numpy/user/numpy-for-matlab-users.html). Please adjust your code to use regular ndarray.\n",
      "  return matrix(data, dtype=dtype, copy=False)\n",
      "/Users/vladkopchev/miniconda3/lib/python3.9/site-packages/numpy/matrixlib/defmatrix.py:1109: PendingDeprecationWarning: the matrix subclass is not the recommended way to represent matrices or deal with linear algebra (see https://docs.scipy.org/doc/numpy/user/numpy-for-matlab-users.html). Please adjust your code to use regular ndarray.\n",
      "  return matrix(concatenate(arr_rows, axis=0))\n",
      "/Users/vladkopchev/miniconda3/lib/python3.9/site-packages/numpy/matrixlib/defmatrix.py:69: PendingDeprecationWarning: the matrix subclass is not the recommended way to represent matrices or deal with linear algebra (see https://docs.scipy.org/doc/numpy/user/numpy-for-matlab-users.html). Please adjust your code to use regular ndarray.\n",
      "  return matrix(data, dtype=dtype, copy=False)\n",
      "/Users/vladkopchev/miniconda3/lib/python3.9/site-packages/numpy/matrixlib/defmatrix.py:69: PendingDeprecationWarning: the matrix subclass is not the recommended way to represent matrices or deal with linear algebra (see https://docs.scipy.org/doc/numpy/user/numpy-for-matlab-users.html). Please adjust your code to use regular ndarray.\n",
      "  return matrix(data, dtype=dtype, copy=False)\n",
      "/Users/vladkopchev/miniconda3/lib/python3.9/site-packages/numpy/matrixlib/defmatrix.py:69: PendingDeprecationWarning: the matrix subclass is not the recommended way to represent matrices or deal with linear algebra (see https://docs.scipy.org/doc/numpy/user/numpy-for-matlab-users.html). Please adjust your code to use regular ndarray.\n",
      "  return matrix(data, dtype=dtype, copy=False)\n",
      "/Users/vladkopchev/miniconda3/lib/python3.9/site-packages/numpy/matrixlib/defmatrix.py:69: PendingDeprecationWarning: the matrix subclass is not the recommended way to represent matrices or deal with linear algebra (see https://docs.scipy.org/doc/numpy/user/numpy-for-matlab-users.html). Please adjust your code to use regular ndarray.\n",
      "  return matrix(data, dtype=dtype, copy=False)\n",
      "/Users/vladkopchev/miniconda3/lib/python3.9/site-packages/numpy/matrixlib/defmatrix.py:69: PendingDeprecationWarning: the matrix subclass is not the recommended way to represent matrices or deal with linear algebra (see https://docs.scipy.org/doc/numpy/user/numpy-for-matlab-users.html). Please adjust your code to use regular ndarray.\n",
      "  return matrix(data, dtype=dtype, copy=False)\n",
      "/Users/vladkopchev/miniconda3/lib/python3.9/site-packages/numpy/matrixlib/defmatrix.py:1109: PendingDeprecationWarning: the matrix subclass is not the recommended way to represent matrices or deal with linear algebra (see https://docs.scipy.org/doc/numpy/user/numpy-for-matlab-users.html). Please adjust your code to use regular ndarray.\n",
      "  return matrix(concatenate(arr_rows, axis=0))\n",
      "/Users/vladkopchev/miniconda3/lib/python3.9/site-packages/numpy/matrixlib/defmatrix.py:69: PendingDeprecationWarning: the matrix subclass is not the recommended way to represent matrices or deal with linear algebra (see https://docs.scipy.org/doc/numpy/user/numpy-for-matlab-users.html). Please adjust your code to use regular ndarray.\n",
      "  return matrix(data, dtype=dtype, copy=False)\n",
      "/Users/vladkopchev/miniconda3/lib/python3.9/site-packages/numpy/matrixlib/defmatrix.py:69: PendingDeprecationWarning: the matrix subclass is not the recommended way to represent matrices or deal with linear algebra (see https://docs.scipy.org/doc/numpy/user/numpy-for-matlab-users.html). Please adjust your code to use regular ndarray.\n",
      "  return matrix(data, dtype=dtype, copy=False)\n",
      "/Users/vladkopchev/miniconda3/lib/python3.9/site-packages/numpy/matrixlib/defmatrix.py:69: PendingDeprecationWarning: the matrix subclass is not the recommended way to represent matrices or deal with linear algebra (see https://docs.scipy.org/doc/numpy/user/numpy-for-matlab-users.html). Please adjust your code to use regular ndarray.\n",
      "  return matrix(data, dtype=dtype, copy=False)\n",
      "/Users/vladkopchev/miniconda3/lib/python3.9/site-packages/numpy/matrixlib/defmatrix.py:69: PendingDeprecationWarning: the matrix subclass is not the recommended way to represent matrices or deal with linear algebra (see https://docs.scipy.org/doc/numpy/user/numpy-for-matlab-users.html). Please adjust your code to use regular ndarray.\n",
      "  return matrix(data, dtype=dtype, copy=False)\n",
      "/Users/vladkopchev/miniconda3/lib/python3.9/site-packages/numpy/matrixlib/defmatrix.py:69: PendingDeprecationWarning: the matrix subclass is not the recommended way to represent matrices or deal with linear algebra (see https://docs.scipy.org/doc/numpy/user/numpy-for-matlab-users.html). Please adjust your code to use regular ndarray.\n",
      "  return matrix(data, dtype=dtype, copy=False)\n",
      "/Users/vladkopchev/miniconda3/lib/python3.9/site-packages/numpy/matrixlib/defmatrix.py:1109: PendingDeprecationWarning: the matrix subclass is not the recommended way to represent matrices or deal with linear algebra (see https://docs.scipy.org/doc/numpy/user/numpy-for-matlab-users.html). Please adjust your code to use regular ndarray.\n",
      "  return matrix(concatenate(arr_rows, axis=0))\n",
      "/Users/vladkopchev/miniconda3/lib/python3.9/site-packages/numpy/matrixlib/defmatrix.py:69: PendingDeprecationWarning: the matrix subclass is not the recommended way to represent matrices or deal with linear algebra (see https://docs.scipy.org/doc/numpy/user/numpy-for-matlab-users.html). Please adjust your code to use regular ndarray.\n",
      "  return matrix(data, dtype=dtype, copy=False)\n",
      "/Users/vladkopchev/miniconda3/lib/python3.9/site-packages/numpy/matrixlib/defmatrix.py:69: PendingDeprecationWarning: the matrix subclass is not the recommended way to represent matrices or deal with linear algebra (see https://docs.scipy.org/doc/numpy/user/numpy-for-matlab-users.html). Please adjust your code to use regular ndarray.\n",
      "  return matrix(data, dtype=dtype, copy=False)\n",
      "/Users/vladkopchev/miniconda3/lib/python3.9/site-packages/numpy/matrixlib/defmatrix.py:69: PendingDeprecationWarning: the matrix subclass is not the recommended way to represent matrices or deal with linear algebra (see https://docs.scipy.org/doc/numpy/user/numpy-for-matlab-users.html). Please adjust your code to use regular ndarray.\n",
      "  return matrix(data, dtype=dtype, copy=False)\n",
      "/Users/vladkopchev/miniconda3/lib/python3.9/site-packages/numpy/matrixlib/defmatrix.py:69: PendingDeprecationWarning: the matrix subclass is not the recommended way to represent matrices or deal with linear algebra (see https://docs.scipy.org/doc/numpy/user/numpy-for-matlab-users.html). Please adjust your code to use regular ndarray.\n",
      "  return matrix(data, dtype=dtype, copy=False)\n",
      "/Users/vladkopchev/miniconda3/lib/python3.9/site-packages/numpy/matrixlib/defmatrix.py:69: PendingDeprecationWarning: the matrix subclass is not the recommended way to represent matrices or deal with linear algebra (see https://docs.scipy.org/doc/numpy/user/numpy-for-matlab-users.html). Please adjust your code to use regular ndarray.\n",
      "  return matrix(data, dtype=dtype, copy=False)\n",
      "/Users/vladkopchev/miniconda3/lib/python3.9/site-packages/numpy/matrixlib/defmatrix.py:1109: PendingDeprecationWarning: the matrix subclass is not the recommended way to represent matrices or deal with linear algebra (see https://docs.scipy.org/doc/numpy/user/numpy-for-matlab-users.html). Please adjust your code to use regular ndarray.\n",
      "  return matrix(concatenate(arr_rows, axis=0))\n",
      "/Users/vladkopchev/miniconda3/lib/python3.9/site-packages/numpy/matrixlib/defmatrix.py:69: PendingDeprecationWarning: the matrix subclass is not the recommended way to represent matrices or deal with linear algebra (see https://docs.scipy.org/doc/numpy/user/numpy-for-matlab-users.html). Please adjust your code to use regular ndarray.\n",
      "  return matrix(data, dtype=dtype, copy=False)\n",
      "/Users/vladkopchev/miniconda3/lib/python3.9/site-packages/numpy/matrixlib/defmatrix.py:69: PendingDeprecationWarning: the matrix subclass is not the recommended way to represent matrices or deal with linear algebra (see https://docs.scipy.org/doc/numpy/user/numpy-for-matlab-users.html). Please adjust your code to use regular ndarray.\n",
      "  return matrix(data, dtype=dtype, copy=False)\n",
      "/Users/vladkopchev/miniconda3/lib/python3.9/site-packages/numpy/matrixlib/defmatrix.py:69: PendingDeprecationWarning: the matrix subclass is not the recommended way to represent matrices or deal with linear algebra (see https://docs.scipy.org/doc/numpy/user/numpy-for-matlab-users.html). Please adjust your code to use regular ndarray.\n",
      "  return matrix(data, dtype=dtype, copy=False)\n",
      "/Users/vladkopchev/miniconda3/lib/python3.9/site-packages/numpy/matrixlib/defmatrix.py:69: PendingDeprecationWarning: the matrix subclass is not the recommended way to represent matrices or deal with linear algebra (see https://docs.scipy.org/doc/numpy/user/numpy-for-matlab-users.html). Please adjust your code to use regular ndarray.\n",
      "  return matrix(data, dtype=dtype, copy=False)\n",
      "/Users/vladkopchev/miniconda3/lib/python3.9/site-packages/numpy/matrixlib/defmatrix.py:69: PendingDeprecationWarning: the matrix subclass is not the recommended way to represent matrices or deal with linear algebra (see https://docs.scipy.org/doc/numpy/user/numpy-for-matlab-users.html). Please adjust your code to use regular ndarray.\n",
      "  return matrix(data, dtype=dtype, copy=False)\n",
      "/Users/vladkopchev/miniconda3/lib/python3.9/site-packages/numpy/matrixlib/defmatrix.py:1109: PendingDeprecationWarning: the matrix subclass is not the recommended way to represent matrices or deal with linear algebra (see https://docs.scipy.org/doc/numpy/user/numpy-for-matlab-users.html). Please adjust your code to use regular ndarray.\n",
      "  return matrix(concatenate(arr_rows, axis=0))\n",
      "/Users/vladkopchev/miniconda3/lib/python3.9/site-packages/numpy/matrixlib/defmatrix.py:69: PendingDeprecationWarning: the matrix subclass is not the recommended way to represent matrices or deal with linear algebra (see https://docs.scipy.org/doc/numpy/user/numpy-for-matlab-users.html). Please adjust your code to use regular ndarray.\n",
      "  return matrix(data, dtype=dtype, copy=False)\n",
      "/Users/vladkopchev/miniconda3/lib/python3.9/site-packages/numpy/matrixlib/defmatrix.py:69: PendingDeprecationWarning: the matrix subclass is not the recommended way to represent matrices or deal with linear algebra (see https://docs.scipy.org/doc/numpy/user/numpy-for-matlab-users.html). Please adjust your code to use regular ndarray.\n",
      "  return matrix(data, dtype=dtype, copy=False)\n",
      "/Users/vladkopchev/miniconda3/lib/python3.9/site-packages/numpy/matrixlib/defmatrix.py:69: PendingDeprecationWarning: the matrix subclass is not the recommended way to represent matrices or deal with linear algebra (see https://docs.scipy.org/doc/numpy/user/numpy-for-matlab-users.html). Please adjust your code to use regular ndarray.\n",
      "  return matrix(data, dtype=dtype, copy=False)\n",
      "/Users/vladkopchev/miniconda3/lib/python3.9/site-packages/numpy/matrixlib/defmatrix.py:69: PendingDeprecationWarning: the matrix subclass is not the recommended way to represent matrices or deal with linear algebra (see https://docs.scipy.org/doc/numpy/user/numpy-for-matlab-users.html). Please adjust your code to use regular ndarray.\n",
      "  return matrix(data, dtype=dtype, copy=False)\n",
      "/Users/vladkopchev/miniconda3/lib/python3.9/site-packages/numpy/matrixlib/defmatrix.py:69: PendingDeprecationWarning: the matrix subclass is not the recommended way to represent matrices or deal with linear algebra (see https://docs.scipy.org/doc/numpy/user/numpy-for-matlab-users.html). Please adjust your code to use regular ndarray.\n",
      "  return matrix(data, dtype=dtype, copy=False)\n",
      "/Users/vladkopchev/miniconda3/lib/python3.9/site-packages/numpy/matrixlib/defmatrix.py:1109: PendingDeprecationWarning: the matrix subclass is not the recommended way to represent matrices or deal with linear algebra (see https://docs.scipy.org/doc/numpy/user/numpy-for-matlab-users.html). Please adjust your code to use regular ndarray.\n",
      "  return matrix(concatenate(arr_rows, axis=0))\n",
      "/Users/vladkopchev/miniconda3/lib/python3.9/site-packages/numpy/matrixlib/defmatrix.py:69: PendingDeprecationWarning: the matrix subclass is not the recommended way to represent matrices or deal with linear algebra (see https://docs.scipy.org/doc/numpy/user/numpy-for-matlab-users.html). Please adjust your code to use regular ndarray.\n",
      "  return matrix(data, dtype=dtype, copy=False)\n",
      "/Users/vladkopchev/miniconda3/lib/python3.9/site-packages/numpy/matrixlib/defmatrix.py:69: PendingDeprecationWarning: the matrix subclass is not the recommended way to represent matrices or deal with linear algebra (see https://docs.scipy.org/doc/numpy/user/numpy-for-matlab-users.html). Please adjust your code to use regular ndarray.\n",
      "  return matrix(data, dtype=dtype, copy=False)\n",
      "/Users/vladkopchev/miniconda3/lib/python3.9/site-packages/numpy/matrixlib/defmatrix.py:69: PendingDeprecationWarning: the matrix subclass is not the recommended way to represent matrices or deal with linear algebra (see https://docs.scipy.org/doc/numpy/user/numpy-for-matlab-users.html). Please adjust your code to use regular ndarray.\n",
      "  return matrix(data, dtype=dtype, copy=False)\n",
      "/Users/vladkopchev/miniconda3/lib/python3.9/site-packages/numpy/matrixlib/defmatrix.py:69: PendingDeprecationWarning: the matrix subclass is not the recommended way to represent matrices or deal with linear algebra (see https://docs.scipy.org/doc/numpy/user/numpy-for-matlab-users.html). Please adjust your code to use regular ndarray.\n",
      "  return matrix(data, dtype=dtype, copy=False)\n",
      "/Users/vladkopchev/miniconda3/lib/python3.9/site-packages/numpy/matrixlib/defmatrix.py:69: PendingDeprecationWarning: the matrix subclass is not the recommended way to represent matrices or deal with linear algebra (see https://docs.scipy.org/doc/numpy/user/numpy-for-matlab-users.html). Please adjust your code to use regular ndarray.\n",
      "  return matrix(data, dtype=dtype, copy=False)\n",
      "/Users/vladkopchev/miniconda3/lib/python3.9/site-packages/numpy/matrixlib/defmatrix.py:1109: PendingDeprecationWarning: the matrix subclass is not the recommended way to represent matrices or deal with linear algebra (see https://docs.scipy.org/doc/numpy/user/numpy-for-matlab-users.html). Please adjust your code to use regular ndarray.\n",
      "  return matrix(concatenate(arr_rows, axis=0))\n",
      "/Users/vladkopchev/miniconda3/lib/python3.9/site-packages/numpy/matrixlib/defmatrix.py:69: PendingDeprecationWarning: the matrix subclass is not the recommended way to represent matrices or deal with linear algebra (see https://docs.scipy.org/doc/numpy/user/numpy-for-matlab-users.html). Please adjust your code to use regular ndarray.\n",
      "  return matrix(data, dtype=dtype, copy=False)\n",
      "/Users/vladkopchev/miniconda3/lib/python3.9/site-packages/numpy/matrixlib/defmatrix.py:69: PendingDeprecationWarning: the matrix subclass is not the recommended way to represent matrices or deal with linear algebra (see https://docs.scipy.org/doc/numpy/user/numpy-for-matlab-users.html). Please adjust your code to use regular ndarray.\n",
      "  return matrix(data, dtype=dtype, copy=False)\n",
      "/Users/vladkopchev/miniconda3/lib/python3.9/site-packages/numpy/matrixlib/defmatrix.py:69: PendingDeprecationWarning: the matrix subclass is not the recommended way to represent matrices or deal with linear algebra (see https://docs.scipy.org/doc/numpy/user/numpy-for-matlab-users.html). Please adjust your code to use regular ndarray.\n",
      "  return matrix(data, dtype=dtype, copy=False)\n",
      "/Users/vladkopchev/miniconda3/lib/python3.9/site-packages/numpy/matrixlib/defmatrix.py:69: PendingDeprecationWarning: the matrix subclass is not the recommended way to represent matrices or deal with linear algebra (see https://docs.scipy.org/doc/numpy/user/numpy-for-matlab-users.html). Please adjust your code to use regular ndarray.\n",
      "  return matrix(data, dtype=dtype, copy=False)\n"
     ]
    }
   ],
   "source": [
    "acc = 0.\n",
    "k = 25\n",
    "clf = LogisticRegression(max_iter=10000)\n",
    "self_training_model = S3VM()\n",
    "\n",
    "s3vm = validate(self_training_model, True, True)"
   ]
  },
  {
   "cell_type": "code",
   "execution_count": 779,
   "id": "4b33169d-2867-4ce4-9241-648e32bdfb6f",
   "metadata": {},
   "outputs": [],
   "source": [
    "from semisup_learn.frameworks.SelfLearning import SelfLearningModel\n",
    "from semisup_learn.frameworks.CPLELearning import CPLELearningModel\n",
    "import sklearn"
   ]
  },
  {
   "cell_type": "code",
   "execution_count": 780,
   "id": "74d1ce33-dd1b-445f-b26d-2f9c254898c0",
   "metadata": {
    "tags": []
   },
   "outputs": [],
   "source": [
    "acc = 0.\n",
    "k = 25\n",
    "clf = LogisticRegression(max_iter=10000)\n",
    "self_training_model = SelfLearningModel(clf)\n",
    "\n",
    "st_lr_not_sklearn = validate(self_training_model, True, True)"
   ]
  },
  {
   "cell_type": "code",
   "execution_count": 781,
   "id": "a0b1343c-dece-47df-9ba9-d382a83e0451",
   "metadata": {
    "tags": []
   },
   "outputs": [],
   "source": [
    "acc = 0.\n",
    "k = 25\n",
    "clf = LogisticRegression(max_iter=10000)\n",
    "self_training_model = SelfLearningModel(sklearn.svm.SVC(kernel=\"rbf\", probability=True))\n",
    "\n",
    "st_svm_not_sklearn = validate(self_training_model, True, True)"
   ]
  },
  {
   "cell_type": "code",
   "execution_count": 782,
   "id": "91e5d0aa-d4fa-4312-aad5-57371d651a31",
   "metadata": {
    "tags": []
   },
   "outputs": [],
   "source": [
    "acc = 0.\n",
    "k = 25\n",
    "clf = LogisticRegression(max_iter=10000)\n",
    "self_training_model = LabelPropagation(kernel='rbf', gamma=9e-6, max_iter=100000, tol=0.0001)\n",
    "lp_knn = LabelPropagation(kernel='knn')\n",
    "self_training_model = lp_knn\n",
    "accs = []\n",
    "\n",
    "lp_knn = validate(self_training_model, True, True)"
   ]
  },
  {
   "cell_type": "code",
   "execution_count": 783,
   "id": "142a4133-846a-4fa9-a535-d70684874327",
   "metadata": {},
   "outputs": [],
   "source": [
    "def unichr(x):\n",
    "    return chr(x)"
   ]
  },
  {
   "cell_type": "code",
   "execution_count": 784,
   "id": "b56b669a-3fd1-449d-92c8-47f9fa04d545",
   "metadata": {
    "tags": []
   },
   "outputs": [],
   "source": [
    "acc = 0.\n",
    "k = 25\n",
    "clf = LogisticRegression(max_iter=10000)\n",
    "self_training_model = CPLELearningModel(sklearn.svm.SVC(kernel=\"rbf\", probability=True), predict_from_probabilities=True)\n",
    "lp_knn = LabelPropagation(kernel='knn')\n",
    "self_training_model = lp_knn\n",
    "accs = []\n",
    "\n",
    "cple_svm = validate(self_training_model, True, True)"
   ]
  },
  {
   "cell_type": "code",
   "execution_count": 785,
   "id": "8eafab5b-8d5b-4923-91ac-ad1281b7a124",
   "metadata": {
    "tags": []
   },
   "outputs": [],
   "source": [
    "acc = 0.\n",
    "k = 25\n",
    "clf = LogisticRegression(max_iter=10000)\n",
    "self_training_model = CPLELearningModel(clf)\n",
    "lp_knn = LabelPropagation(kernel='knn')\n",
    "self_training_model = lp_knn\n",
    "accs = []\n",
    "\n",
    "cple_lr = validate(self_training_model, True, True)"
   ]
  },
  {
   "cell_type": "code",
   "execution_count": 786,
   "id": "de2105a2-b307-444f-85bf-90397a85b29c",
   "metadata": {
    "tags": []
   },
   "outputs": [],
   "source": [
    "acc = 0.\n",
    "k = 25\n",
    "clf = DecisionTreeClassifier()\n",
    "self_training_model = CPLELearningModel(clf)\n",
    "lp_knn = LabelPropagation(kernel='knn')\n",
    "self_training_model = lp_knn\n",
    "accs = []\n",
    "\n",
    "cple_dt = validate(self_training_model, True, True)"
   ]
  },
  {
   "cell_type": "code",
   "execution_count": 787,
   "id": "fecbe919-8816-4d43-902b-a8c74861904d",
   "metadata": {
    "tags": []
   },
   "outputs": [],
   "source": [
    "acc = 0.\n",
    "k = 25\n",
    "clf = KNeighborsClassifier()\n",
    "self_training_model = CPLELearningModel(clf)\n",
    "lp_knn = LabelPropagation(kernel='knn')\n",
    "self_training_model = lp_knn\n",
    "accs = []\n",
    "\n",
    "cple_knn = validate(self_training_model, True, True)"
   ]
  },
  {
   "cell_type": "markdown",
   "id": "31f1f439-dbe6-46cd-8530-e6ad2cffb5a4",
   "metadata": {},
   "source": [
    "Подробнее про Label-алгоритмы: [1](https://machinelearningmastery.com/semi-supervised-learning-with-label-spreading/), [2](https://machinelearningmastery.com/semi-supervised-learning-with-label-propagation/)\n",
    "\n",
    "Итог:"
   ]
  },
  {
   "cell_type": "code",
   "execution_count": 823,
   "id": "7c65b543-cd88-4f02-9439-ab00fa5f3e60",
   "metadata": {},
   "outputs": [],
   "source": [
    "metrics_clf = pd.DataFrame({'LogisticRegression': lr,\n",
    "             'DecisionTree': dt,\n",
    "             'kNN': knn,\n",
    "             'LR semi-supervised': lr_semi,\n",
    "             'DT semi-supervised': dt_semi,\n",
    "             'kNN semi-supervised': knn_semi,\n",
    "             'LP': lp,\n",
    "             'LS': ls,\n",
    "             'S3VM': s3vm,\n",
    "             'SelfTrained LR not-sklearn': st_lr_not_sklearn,\n",
    "             'SelfTrained SVM not-sklearn': st_svm_not_sklearn,\n",
    "             'CPLE SVM': cple_svm,\n",
    "             'CPLE LR': cple_lr,\n",
    "             'CPLE DT': cple_dt,\n",
    "             'CPLE kNN': cple_knn}, index=['mean value counts',\n",
    "                                                                      'min good prediction',\n",
    "                                                                      'mean good prediction',\n",
    "                                                                      'max good prediction',\n",
    "                                                                      'min f1 micro',\n",
    "                                                                      'mean f1 micro',\n",
    "                                                                      'max f1 micro',\n",
    "                                                                      'min f1 macro',\n",
    "                                                                      'mean f1 macro',\n",
    "                                                                      'max f1 macro',\n",
    "                                                                      'min f1 weighted',\n",
    "                                                                      'mean f1 weighted',\n",
    "                                                                      'max f1 weighted'])\n",
    "metrics_clf.to_csv('metrics_clf.csv')"
   ]
  },
  {
   "cell_type": "markdown",
   "id": "5e8c477c-3482-4cbd-a359-2e7d9bba32e2",
   "metadata": {},
   "source": [
    "*Замечание.* Откуда в первой строчке берется NaN? Если они там есть — значит алгоритм плохой и не всегда давал какие-то значения такого типа."
   ]
  },
  {
   "cell_type": "code",
   "execution_count": 32,
   "id": "f2e06dc1-eb09-4b4b-96bb-c6d953774a5e",
   "metadata": {},
   "outputs": [
    {
     "data": {
      "text/plain": [
       "nan"
      ]
     },
     "execution_count": 32,
     "metadata": {},
     "output_type": "execute_result"
    }
   ],
   "source": [
    "0 + np.nan"
   ]
  },
  {
   "cell_type": "markdown",
   "id": "ef4a0e80-a123-4c00-a2e3-96cd48c5e264",
   "metadata": {},
   "source": [
    "Мы видим, что качество при переходе к частичному обучению осталось приблизительно тем же. Однако частичное обучение решает другую задачу — заполнение пропусков, и мы применим наши алгоритмы позже."
   ]
  },
  {
   "cell_type": "markdown",
   "id": "97279df4-80dc-4fea-8b39-1d790e71efad",
   "metadata": {},
   "source": [
    "Мы видим, что наилучшее качество было у частично-обученного DT. Тогда применим его ко всем данным (хотя прочие алгоритмы работают примерно так же)."
   ]
  },
  {
   "cell_type": "code",
   "execution_count": 828,
   "id": "542a4e26-6999-4a8a-89d5-387fcdf46beb",
   "metadata": {
    "tags": []
   },
   "outputs": [],
   "source": [
    "svc = DecisionTreeClassifier()\n",
    "self_training_model = SelfTrainingClassifier(svc)\n",
    "\n",
    "X = df.loc[:, list(df)[36:-3] + ['Кол-во образований', 'Опыт нормализованный','Топовость образования', 'Справочник по интересам', 'Релокация?', 'Коммандировка?', 'Город?', 'Уровень оборазования нормализованный', 'Карьерный рост', 'Аналитические комбинации слов в навыках']]\n",
    "y = df.loc[:, 'DA']\n",
    "\n",
    "self_training_model.fit(X, y)\n",
    "y_pred = self_training_model.predict(X)\n",
    "#y_pred_reg=svc.predict(X)"
   ]
  },
  {
   "cell_type": "code",
   "execution_count": 829,
   "id": "a3840155-8d86-4461-a433-5115e6e67767",
   "metadata": {},
   "outputs": [
    {
     "data": {
      "text/plain": [
       "0.0    2356\n",
       "1.0     268\n",
       "2.0     101\n",
       "dtype: int64"
      ]
     },
     "execution_count": 829,
     "metadata": {},
     "output_type": "execute_result"
    }
   ],
   "source": [
    "pd.DataFrame(y_pred).value_counts()"
   ]
  },
  {
   "cell_type": "markdown",
   "id": "a41e18f3-0c87-4671-ba95-0fcced820d71",
   "metadata": {},
   "source": [
    "Мы видим, что обычная логистическая регрессия справилась с задачей гораздо лучше. Тем не менее, более сложные методы и больше размеченных данных могут, возможно, дать более хороший результат."
   ]
  },
  {
   "cell_type": "code",
   "execution_count": 831,
   "id": "b0be52bc-0820-4499-85e4-b93ae763247e",
   "metadata": {},
   "outputs": [],
   "source": [
    "df['DA, predicted'] = y_pred"
   ]
  },
  {
   "cell_type": "markdown",
   "id": "a2a22d51-bd94-40ae-a9fd-20ca9f14d824",
   "metadata": {},
   "source": [
    "Какие получились результаты:"
   ]
  },
  {
   "cell_type": "code",
   "execution_count": 832,
   "id": "60749933-9c5c-4359-9782-b1f1ebdbf2c2",
   "metadata": {
    "tags": []
   },
   "outputs": [],
   "source": [
    "svc = LogisticRegression()\n",
    "self_training_model = SelfTrainingClassifier(svc)\n",
    "\n",
    "X = df.loc[df['DS'].notna()].loc[:, list(df)[36:-3] + ['Кол-во образований', 'Опыт нормализованный','Топовость образования', 'Справочник по интересам', 'Релокация?', 'Коммандировка?', 'Город?', 'Уровень оборазования нормализованный', 'Карьерный рост', 'Аналитические комбинации слов в навыках']]\n",
    "y = df.loc[df['DS'].notna(), 'DS']\n",
    "    \n",
    "X_train = X\n",
    "y_train = y\n",
    "svc.fit(X_train, y_train)\n",
    "y_pred = svc.predict(df.loc[:, list(df)[36:-3] + ['Кол-во образований', 'Опыт нормализованный','Топовость образования', 'Справочник по интересам', 'Релокация?', 'Коммандировка?', 'Город?', 'Уровень оборазования нормализованный', 'Карьерный рост', 'Аналитические комбинации слов в навыках']])"
   ]
  },
  {
   "cell_type": "code",
   "execution_count": 833,
   "id": "ba55d36a-578f-429f-babc-9a824a015740",
   "metadata": {},
   "outputs": [],
   "source": [
    "df['DS, predicted'] = y_pred"
   ]
  },
  {
   "cell_type": "markdown",
   "id": "b7284d1d-ce1a-4c4c-a84b-c40b591b38a5",
   "metadata": {},
   "source": [
    "Какие получились результаты:"
   ]
  },
  {
   "cell_type": "code",
   "execution_count": 834,
   "id": "e90e8c43-fe8b-4e67-9a22-dc0c7a5921cf",
   "metadata": {},
   "outputs": [
    {
     "data": {
      "text/plain": [
       "0.0    2725\n",
       "dtype: int64"
      ]
     },
     "execution_count": 834,
     "metadata": {},
     "output_type": "execute_result"
    }
   ],
   "source": [
    "pd.DataFrame(y_pred).value_counts()"
   ]
  },
  {
   "cell_type": "markdown",
   "id": "9b257f5c-b144-4f3a-a2bd-e97b9c48e738",
   "metadata": {},
   "source": [
    "Плохие. Но у нас в целом было мало подходящих резюме, поэтому мы вообще не будем рассматривать data scientist'ов."
   ]
  },
  {
   "cell_type": "code",
   "execution_count": 307,
   "id": "5e8f3d30-a124-489a-8bd0-90b3752a5367",
   "metadata": {},
   "outputs": [
    {
     "data": {
      "text/plain": [
       "DS \n",
       "0.0    271\n",
       "1.0      6\n",
       "2.0      1\n",
       "dtype: int64"
      ]
     },
     "execution_count": 307,
     "metadata": {},
     "output_type": "execute_result"
    }
   ],
   "source": [
    "pd.DataFrame(y).value_counts()"
   ]
  },
  {
   "cell_type": "code",
   "execution_count": 308,
   "id": "01a020fd-0a66-4939-96ba-e2151693fa3b",
   "metadata": {},
   "outputs": [],
   "source": [
    "df.to_csv('resumes_features.csv')"
   ]
  },
  {
   "cell_type": "markdown",
   "id": "3fa5f494-6359-4496-820c-ec8190ce90a6",
   "metadata": {},
   "source": [
    "*Выводы:*\n",
    "\n",
    "1. Алгоритмы semi-supervised learning не подходят для разметки резюме в таких задачах: слишком мало не-нулей при общем маленьком количестве размеченных данных приводит к плохой работе алгоритма\n",
    "2. Для решения задачи с data scientists нужно по-другому устраивать процесс сбора данных, поскольку такие резюме совсем теряются на фоне прочих, поэтому размечать их одновременно с data analysts тяжело\n",
    "\n",
    "Все остальные задачи будем решать только для аналитиков."
   ]
  },
  {
   "cell_type": "markdown",
   "id": "9f505649-5ada-47d8-afdb-61020bb6b6f7",
   "metadata": {},
   "source": [
    "**Кластеризация**"
   ]
  },
  {
   "cell_type": "markdown",
   "id": "ef5bd0b6-10a4-4adb-b8de-9980b0fc5e18",
   "metadata": {},
   "source": [
    "Теперь произведем сегментацию данных с помощью кластеризации и проанализируем результаты. Для начала используем PCA."
   ]
  },
  {
   "cell_type": "code",
   "execution_count": 42,
   "id": "323bc14e-3bde-48e7-9420-fb76ade25ce2",
   "metadata": {},
   "outputs": [],
   "source": [
    "df = pd.read_csv('resumes_features.csv')"
   ]
  },
  {
   "cell_type": "code",
   "execution_count": 43,
   "id": "0fd2059c-5280-4ccf-a498-98290965e3c6",
   "metadata": {},
   "outputs": [],
   "source": [
    "df.drop(list(df)[0], axis=1, inplace=True)\n",
    "df.reset_index(inplace=True)\n",
    "df.drop(list(df)[0], axis=1, inplace=True)"
   ]
  },
  {
   "cell_type": "code",
   "execution_count": 44,
   "id": "f6377f19-0a4b-4afe-b7e0-762d77accbef",
   "metadata": {},
   "outputs": [
    {
     "data": {
      "text/html": [
       "<div>\n",
       "<style scoped>\n",
       "    .dataframe tbody tr th:only-of-type {\n",
       "        vertical-align: middle;\n",
       "    }\n",
       "\n",
       "    .dataframe tbody tr th {\n",
       "        vertical-align: top;\n",
       "    }\n",
       "\n",
       "    .dataframe thead th {\n",
       "        text-align: right;\n",
       "    }\n",
       "</style>\n",
       "<table border=\"1\" class=\"dataframe\">\n",
       "  <thead>\n",
       "    <tr style=\"text-align: right;\">\n",
       "      <th></th>\n",
       "      <th>Ссылка</th>\n",
       "      <th>Название</th>\n",
       "      <th>Коммандировка</th>\n",
       "      <th>Опыт</th>\n",
       "      <th>О себе</th>\n",
       "      <th>Образование</th>\n",
       "      <th>Интересы</th>\n",
       "      <th>Навыки</th>\n",
       "      <th>Образование-1</th>\n",
       "      <th>Образование-2</th>\n",
       "      <th>...</th>\n",
       "      <th>93</th>\n",
       "      <th>94</th>\n",
       "      <th>95</th>\n",
       "      <th>96</th>\n",
       "      <th>97</th>\n",
       "      <th>98</th>\n",
       "      <th>99</th>\n",
       "      <th>clust</th>\n",
       "      <th>DA, predicted</th>\n",
       "      <th>DS, predicted</th>\n",
       "    </tr>\n",
       "  </thead>\n",
       "  <tbody>\n",
       "    <tr>\n",
       "      <th>1649</th>\n",
       "      <td>https://hh.ru/resume/b3f68a5800042392800039ed1...</td>\n",
       "      <td>Руководитель отдела/заместитель руководителя</td>\n",
       "      <td>Москва, не готов к переезду, готов к редким ко...</td>\n",
       "      <td>Опыт работы 20 лет 4 месяца</td>\n",
       "      <td>Знание электронных каталогов автозапчастей, SA...</td>\n",
       "      <td>Высшее образование\\n2002\\nМосковский автомобил...</td>\n",
       "      <td>Специализации:\\nДругое\\nЗанятость: полная заня...</td>\n",
       "      <td>---</td>\n",
       "      <td>Московский автомобильно-дорожный государственн...</td>\n",
       "      <td>NaN</td>\n",
       "      <td>...</td>\n",
       "      <td>0.002314</td>\n",
       "      <td>0.001616</td>\n",
       "      <td>-0.000173</td>\n",
       "      <td>-0.001082</td>\n",
       "      <td>-0.001949</td>\n",
       "      <td>-0.00005</td>\n",
       "      <td>-0.002303</td>\n",
       "      <td>0</td>\n",
       "      <td>0.0</td>\n",
       "      <td>0.0</td>\n",
       "    </tr>\n",
       "  </tbody>\n",
       "</table>\n",
       "<p>1 rows × 140 columns</p>\n",
       "</div>"
      ],
      "text/plain": [
       "                                                 Ссылка  \\\n",
       "1649  https://hh.ru/resume/b3f68a5800042392800039ed1...   \n",
       "\n",
       "                                          Название  \\\n",
       "1649  Руководитель отдела/заместитель руководителя   \n",
       "\n",
       "                                          Коммандировка  \\\n",
       "1649  Москва, не готов к переезду, готов к редким ко...   \n",
       "\n",
       "                             Опыт  \\\n",
       "1649  Опыт работы 20 лет 4 месяца   \n",
       "\n",
       "                                                 О себе  \\\n",
       "1649  Знание электронных каталогов автозапчастей, SA...   \n",
       "\n",
       "                                            Образование  \\\n",
       "1649  Высшее образование\\n2002\\nМосковский автомобил...   \n",
       "\n",
       "                                               Интересы Навыки  \\\n",
       "1649  Специализации:\\nДругое\\nЗанятость: полная заня...    ---   \n",
       "\n",
       "                                          Образование-1 Образование-2  ...  \\\n",
       "1649  Московский автомобильно-дорожный государственн...           NaN  ...   \n",
       "\n",
       "            93        94        95        96        97       98        99  \\\n",
       "1649  0.002314  0.001616 -0.000173 -0.001082 -0.001949 -0.00005 -0.002303   \n",
       "\n",
       "     clust  DA, predicted  DS, predicted  \n",
       "1649     0            0.0            0.0  \n",
       "\n",
       "[1 rows x 140 columns]"
      ]
     },
     "execution_count": 44,
     "metadata": {},
     "output_type": "execute_result"
    }
   ],
   "source": [
    "df.sample(1)"
   ]
  },
  {
   "cell_type": "code",
   "execution_count": 45,
   "id": "50a57b9d-0383-4420-9c85-3f9134ac5faf",
   "metadata": {},
   "outputs": [],
   "source": [
    "scaler = StandardScaler()\n",
    "x = scaler.fit_transform(df.loc[:, list(df)[36:-3] + ['Кол-во образований', 'Опыт нормализованный','Топовость образования', 'Справочник по интересам', 'Релокация?', 'Коммандировка?', 'Город?', 'Уровень оборазования нормализованный', 'Карьерный рост', 'Аналитические комбинации слов в навыках']])"
   ]
  },
  {
   "cell_type": "code",
   "execution_count": 46,
   "id": "94c9b165-0d9e-4639-a7f6-bc0768607aee",
   "metadata": {},
   "outputs": [],
   "source": [
    "pca = PCA(n_components=3)\n",
    "principalComponents = pca.fit_transform(x)\n",
    "principal = pd.DataFrame(data = principalComponents\n",
    "             , columns = ['principal component 1', 'principal component 2','principal component 3'])"
   ]
  },
  {
   "cell_type": "markdown",
   "id": "f9f113a0-4839-45be-b71c-5d1f3b0d1b85",
   "metadata": {},
   "source": [
    "Посмотрим, сколько информации сохраняют первые две главные компоненты:"
   ]
  },
  {
   "cell_type": "code",
   "execution_count": 47,
   "id": "3801364e-b9c9-4c91-9321-4001579ef2ef",
   "metadata": {},
   "outputs": [
    {
     "data": {
      "text/plain": [
       "0.5714363530266133"
      ]
     },
     "execution_count": 47,
     "metadata": {},
     "output_type": "execute_result"
    }
   ],
   "source": [
    "pca.explained_variance_ratio_[:2].sum()"
   ]
  },
  {
   "cell_type": "code",
   "execution_count": 48,
   "id": "a6ba132f-c5c8-405f-904b-69600b03b5fa",
   "metadata": {},
   "outputs": [
    {
     "data": {
      "text/html": [
       "<div>\n",
       "<style scoped>\n",
       "    .dataframe tbody tr th:only-of-type {\n",
       "        vertical-align: middle;\n",
       "    }\n",
       "\n",
       "    .dataframe tbody tr th {\n",
       "        vertical-align: top;\n",
       "    }\n",
       "\n",
       "    .dataframe thead th {\n",
       "        text-align: right;\n",
       "    }\n",
       "</style>\n",
       "<table border=\"1\" class=\"dataframe\">\n",
       "  <thead>\n",
       "    <tr style=\"text-align: right;\">\n",
       "      <th></th>\n",
       "      <th>principal component 1</th>\n",
       "      <th>principal component 2</th>\n",
       "      <th>principal component 3</th>\n",
       "    </tr>\n",
       "  </thead>\n",
       "  <tbody>\n",
       "    <tr>\n",
       "      <th>929</th>\n",
       "      <td>-0.215845</td>\n",
       "      <td>-2.176535</td>\n",
       "      <td>-0.802485</td>\n",
       "    </tr>\n",
       "    <tr>\n",
       "      <th>1718</th>\n",
       "      <td>-0.000082</td>\n",
       "      <td>-2.364361</td>\n",
       "      <td>-0.729375</td>\n",
       "    </tr>\n",
       "  </tbody>\n",
       "</table>\n",
       "</div>"
      ],
      "text/plain": [
       "      principal component 1  principal component 2  principal component 3\n",
       "929               -0.215845              -2.176535              -0.802485\n",
       "1718              -0.000082              -2.364361              -0.729375"
      ]
     },
     "execution_count": 48,
     "metadata": {},
     "output_type": "execute_result"
    }
   ],
   "source": [
    "principal.sample(2)"
   ]
  },
  {
   "cell_type": "code",
   "execution_count": 49,
   "id": "5335ff9d-a817-42d1-9a23-1e4e2cc250c4",
   "metadata": {},
   "outputs": [
    {
     "name": "stderr",
     "output_type": "stream",
     "text": [
      "/Users/vladkopchev/miniconda3/lib/python3.9/site-packages/seaborn/_decorators.py:36: FutureWarning: Pass the following variables as keyword args: x, y. From version 0.12, the only valid positional argument will be `data`, and passing other arguments without an explicit keyword will result in an error or misinterpretation.\n",
      "  warnings.warn(\n"
     ]
    },
    {
     "data": {
      "text/plain": [
       "<AxesSubplot:xlabel='principal component 1', ylabel='principal component 2'>"
      ]
     },
     "execution_count": 49,
     "metadata": {},
     "output_type": "execute_result"
    },
    {
     "data": {
      "image/png": "[encoded data removed]",
      "text/plain": [
       "<Figure size 640x480 with 1 Axes>"
      ]
     },
     "metadata": {},
     "output_type": "display_data"
    }
   ],
   "source": [
    "sns.scatterplot(principal['principal component 1'], principal['principal component 2'])"
   ]
  },
  {
   "cell_type": "markdown",
   "id": "6041c720-8999-451c-a65d-c83247a30fd4",
   "metadata": {},
   "source": [
    "Теперь обучаем PCA+KMeans"
   ]
  },
  {
   "cell_type": "markdown",
   "id": "f18a9dc8-fdcb-4b82-84f0-77d86a59b003",
   "metadata": {},
   "source": [
    "Применим elbow method:"
   ]
  },
  {
   "cell_type": "code",
   "execution_count": 855,
   "id": "74a0b97c-9c81-4fee-929d-a9604362d0bc",
   "metadata": {},
   "outputs": [
    {
     "data": {
      "image/png": "[encoded data removed]",
      "text/plain": [
       "<Figure size 640x480 with 1 Axes>"
      ]
     },
     "metadata": {},
     "output_type": "display_data"
    }
   ],
   "source": [
    "import pandas as pd\n",
    "from sklearn.datasets import load_iris\n",
    "from sklearn.cluster import KMeans\n",
    "import matplotlib.pyplot as plt\n",
    "\n",
    "data = principal\n",
    "\n",
    "sse = {}\n",
    "for k in range(1, 10):\n",
    "    kmeans = KMeans(n_clusters=k, max_iter=1000).fit(data)\n",
    "    data[\"clusters\"] = kmeans.labels_\n",
    "    #print(data[\"clusters\"])\n",
    "    sse[k] = kmeans.inertia_ # Inertia: Sum of distances of samples to their closest cluster center\n",
    "plt.figure()\n",
    "plt.plot(list(sse.keys()), list(sse.values()))\n",
    "plt.xlabel(\"Number of cluster\")\n",
    "plt.ylabel(\"SSE\")\n",
    "plt.show()"
   ]
  },
  {
   "cell_type": "markdown",
   "id": "276fd5a2-6db0-4f11-9611-960915ec9bb1",
   "metadata": {},
   "source": [
    "Выберем число кластеров 8 (по графику elbow method такое число уже неприемлемо, при этом при нем метрика лучше)."
   ]
  },
  {
   "cell_type": "code",
   "execution_count": 51,
   "id": "acb5fec2-b39f-4b70-ac01-130b3dee400e",
   "metadata": {},
   "outputs": [],
   "source": [
    "from sklearn import metrics"
   ]
  },
  {
   "cell_type": "code",
   "execution_count": 875,
   "id": "0f4909dd-ad7a-4698-9e4d-fa92ebfd3ab3",
   "metadata": {},
   "outputs": [
    {
     "name": "stdout",
     "output_type": "stream",
     "text": [
      "2 :\n",
      "0.7615937089051855 0.4203826977309822\n",
      "1884.7873069655582 932.6146159930906\n",
      "0.2391051771594694 0.6902102515049302\n",
      "3 :\n",
      "0.8244167750709599 0.45828749319714984\n",
      "4568.635257371135 1208.8899543328953\n",
      "0.49430831263172753 0.8144962096416467\n",
      "4 :\n",
      "0.8109898932665051 0.4458466486134434\n",
      "5972.6453122128405 1061.2483569257047\n",
      "0.49145060021349557 0.9724415436050617\n",
      "5 :\n",
      "0.822973620521182 0.4497352633561284\n",
      "6441.335679544096 866.6519988567484\n",
      "0.4772621374797488 1.0036495719274177\n",
      "6 :\n",
      "0.7797633717941076 0.2945463665921867\n",
      "7716.5351758377155 730.7792969219136\n",
      "0.5187570955720998 1.36494758612657\n"
     ]
    }
   ],
   "source": [
    "for k in range(2, 7):\n",
    "    print(k, ':')\n",
    "    kmeans = KMeans(n_clusters=k).fit(principal)\n",
    "    l = kmeans.labels_\n",
    "    print(metrics.silhouette_score(principal,l), metrics.silhouette_score(x,l))\n",
    "    print(metrics.calinski_harabasz_score(principal,l), metrics.calinski_harabasz_score(x,l))\n",
    "    print(metrics.davies_bouldin_score(principal,l), metrics.davies_bouldin_score(x,l))"
   ]
  },
  {
   "cell_type": "code",
   "execution_count": 881,
   "id": "55227de5-21ed-49b7-96fc-739910a3dd5a",
   "metadata": {},
   "outputs": [],
   "source": [
    "kmeans = KMeans(n_clusters=5).fit(principal)\n",
    "l = kmeans.labels_"
   ]
  },
  {
   "cell_type": "code",
   "execution_count": 882,
   "id": "bf9cde78-e3dd-4c5e-9081-a36ce08a2250",
   "metadata": {},
   "outputs": [
    {
     "data": {
      "text/plain": [
       "<matplotlib.collections.PathCollection at 0x7fd97715b610>"
      ]
     },
     "execution_count": 882,
     "metadata": {},
     "output_type": "execute_result"
    },
    {
     "data": {
      "image/png": "[encoded data removed]",
      "text/plain": [
       "<Figure size 640x480 with 1 Axes>"
      ]
     },
     "metadata": {},
     "output_type": "display_data"
    }
   ],
   "source": [
    "plt.scatter(principal['principal component 1'], \n",
    "             principal['principal component 2'],\n",
    "             c=l,\n",
    "           )"
   ]
  },
  {
   "cell_type": "markdown",
   "id": "56d1fedc-cd14-4dda-bf08-cbfb2131da39",
   "metadata": {},
   "source": [
    "Оценим качество с помощью [silhouette score](https://stephenallwright.com/good-clustering-metrics/):"
   ]
  },
  {
   "cell_type": "markdown",
   "id": "d1ec9f39-4abe-42d3-9209-0ed5d239fd5f",
   "metadata": {},
   "source": [
    "Теперь DBSCAN"
   ]
  },
  {
   "cell_type": "code",
   "execution_count": 81,
   "id": "af010c26-3cf6-4ea5-95b3-10271558ef41",
   "metadata": {},
   "outputs": [
    {
     "name": "stdout",
     "output_type": "stream",
     "text": [
      "20 :\n",
      "0.8155426515690668 0.44949595636198036\n",
      "3707.674977424376 1069.8522721160482\n",
      "0.327659863994642 0.6253480992810796\n",
      "21 :\n",
      "0.8155426515690668 0.44949595636198036\n",
      "3707.674977424376 1069.8522721160482\n",
      "0.327659863994642 0.6253480992810796\n",
      "22 :\n",
      "0.8155061731450298 0.44934362402187383\n",
      "3549.936847547369 1047.5099942211796\n",
      "0.36498839408905054 0.6390724964055917\n",
      "23 :\n",
      "0.8155061731450298 0.44934362402187383\n",
      "3549.936847547369 1047.5099942211796\n",
      "0.36498839408905054 0.6390724964055917\n",
      "24 :\n",
      "0.8155061731450298 0.44934362402187383\n",
      "3549.936847547369 1047.5099942211796\n",
      "0.36498839408905054 0.6390724964055917\n",
      "25 :\n",
      "0.8155061731450298 0.44934362402187383\n",
      "3549.936847547369 1047.5099942211796\n",
      "0.36498839408905054 0.6390724964055917\n",
      "26 :\n",
      "0.8155061731450298 0.44934362402187383\n",
      "3549.936847547369 1047.5099942211796\n",
      "0.36498839408905054 0.6390724964055917\n",
      "27 :\n",
      "0.8217799051249733 0.4538766388575718\n",
      "4028.2342937408716 1113.1833933670562\n",
      "0.3993304415573309 0.6797809464119968\n"
     ]
    }
   ],
   "source": [
    "from sklearn.cluster import DBSCAN\n",
    "\n",
    "for k in range(20, 28):\n",
    "    clustering = DBSCAN(eps=4.95, min_samples=k).fit(principal)\n",
    "    clustering.labels_\n",
    "\n",
    "    print(k, ':')\n",
    "    \n",
    "    print(metrics.silhouette_score(principal,clustering.labels_), metrics.silhouette_score(x,clustering.labels_))\n",
    "    print(metrics.calinski_harabasz_score(principal,clustering.labels_), metrics.calinski_harabasz_score(x,clustering.labels_))\n",
    "    print(metrics.davies_bouldin_score(principal,clustering.labels_), metrics.davies_bouldin_score(x,clustering.labels_))"
   ]
  },
  {
   "cell_type": "code",
   "execution_count": 82,
   "id": "6cad307b-ceba-4283-90e3-1b36a5a7af38",
   "metadata": {},
   "outputs": [
    {
     "data": {
      "text/plain": [
       "array([0, 0, 0, ..., 0, 1, 1])"
      ]
     },
     "execution_count": 82,
     "metadata": {},
     "output_type": "execute_result"
    }
   ],
   "source": [
    "clustering = DBSCAN(eps=4.95, min_samples=27).fit(principal)\n",
    "clustering.labels_"
   ]
  },
  {
   "cell_type": "code",
   "execution_count": 85,
   "id": "0cce4c7d-72fd-4bdd-baf4-d388232f61b5",
   "metadata": {},
   "outputs": [
    {
     "data": {
      "text/plain": [
       "<matplotlib.collections.PathCollection at 0x7faf08051310>"
      ]
     },
     "execution_count": 85,
     "metadata": {},
     "output_type": "execute_result"
    },
    {
     "data": {
      "image/png": "[encoded data removed]",
      "text/plain": [
       "<Figure size 640x480 with 1 Axes>"
      ]
     },
     "metadata": {},
     "output_type": "display_data"
    }
   ],
   "source": [
    "plt.scatter(principal['principal component 1'], \n",
    "             principal['principal component 2'],\n",
    "             c=clustering.labels_,\n",
    "           )"
   ]
  },
  {
   "cell_type": "markdown",
   "id": "7f37ff55-2536-4d75-9fb7-66cabf66fb2f",
   "metadata": {},
   "source": [
    "Теперь Гауссовская смесь."
   ]
  },
  {
   "cell_type": "code",
   "execution_count": 871,
   "id": "4defb6e5-4900-4fd1-8ac5-a39ac549d1cc",
   "metadata": {},
   "outputs": [
    {
     "name": "stdout",
     "output_type": "stream",
     "text": [
      "2 :\n",
      "0.5456485096114431 0.29346636481061916\n",
      "700.2034146500279 369.10298552622885\n",
      "1.4010017164544168 2.101823088849856\n",
      "3 :\n",
      "0.7586489876637008 0.40466751472161694\n",
      "2202.5126046495357 817.2175520199947\n",
      "0.8689964528442752 1.5123015339989545\n",
      "4 :\n",
      "0.7478908682385698 0.3558155304795659\n",
      "1820.3165467863041 602.1354565943459\n",
      "1.4009636552421536 2.3396531136055874\n",
      "5 :\n",
      "0.7606973940697637 0.28619351790627384\n",
      "5264.616641617222 799.6069740900343\n",
      "0.8569261171444392 1.8832027355513348\n",
      "6 :\n",
      "0.7727920892806244 0.25719050494443724\n",
      "6956.355791166623 712.1631924924658\n",
      "0.6230605484726678 1.5149434173980827\n",
      "7 :\n",
      "0.7795675830318283 0.15945849341965782\n",
      "7904.52678961021 606.0628536450798\n",
      "0.41855082296124063 2.1997077704808348\n",
      "8 :\n",
      "0.780865161074503 0.15844751566088489\n",
      "9325.235235382554 537.8674197593094\n",
      "0.4181645018559555 2.0908744762199887\n",
      "9 :\n",
      "0.78391496687773 0.1596962992753539\n",
      "11035.476536333112 485.8129747935741\n",
      "0.4274361036665342 2.04998713659097\n"
     ]
    }
   ],
   "source": [
    "from sklearn.mixture import GaussianMixture\n",
    "\n",
    "for k in range(2, 10):\n",
    "    print(k, ':')\n",
    "    gm = GaussianMixture(n_components=k, random_state=0).fit(principal)\n",
    "    gm.predict(principal)\n",
    "    print(metrics.silhouette_score(principal,gm.predict(principal)), metrics.silhouette_score(x,gm.predict(principal)))\n",
    "    print(metrics.calinski_harabasz_score(principal,gm.predict(principal)), metrics.calinski_harabasz_score(x,gm.predict(principal)))\n",
    "    print(metrics.davies_bouldin_score(principal,gm.predict(principal)), metrics.davies_bouldin_score(x,gm.predict(principal)))\n",
    "    \n",
    "gm = GaussianMixture(n_components=6, random_state=0).fit(principal)"
   ]
  },
  {
   "cell_type": "code",
   "execution_count": 872,
   "id": "29acf541-ab59-4d9d-a024-ec8e7667a7e7",
   "metadata": {},
   "outputs": [
    {
     "data": {
      "text/plain": [
       "<matplotlib.collections.PathCollection at 0x7fd95486f6a0>"
      ]
     },
     "execution_count": 872,
     "metadata": {},
     "output_type": "execute_result"
    },
    {
     "data": {
      "image/png": "[encoded data removed]",
      "text/plain": [
       "<Figure size 640x480 with 1 Axes>"
      ]
     },
     "metadata": {},
     "output_type": "display_data"
    }
   ],
   "source": [
    "plt.scatter(principal['principal component 1'], \n",
    "             principal['principal component 2'],\n",
    "             c=gm.predict(principal),\n",
    "           )"
   ]
  },
  {
   "cell_type": "markdown",
   "id": "0ae30202-afaa-4f06-9238-96904c1419e6",
   "metadata": {},
   "source": [
    "Путем перебора я получил, что именно при 6 кластерах достигается максимум метрики:"
   ]
  },
  {
   "cell_type": "code",
   "execution_count": 928,
   "id": "370b75f4-09b5-47cd-be0a-066ea33b6c1b",
   "metadata": {},
   "outputs": [
    {
     "data": {
      "text/plain": [
       "0.822973620521182"
      ]
     },
     "execution_count": 928,
     "metadata": {},
     "output_type": "execute_result"
    }
   ],
   "source": [
    "metrics.silhouette_score(principal,l)"
   ]
  },
  {
   "cell_type": "markdown",
   "id": "b3e5bc4c-d4f6-4431-b5f1-5009ba62616e",
   "metadata": {},
   "source": [
    "Самым лучшим по метрике оказался KMeans. При этом график двумерной проекции выглядит наиболее адекватным нашим данным (кластеры выделены разумно)."
   ]
  },
  {
   "cell_type": "code",
   "execution_count": 929,
   "id": "7b167ba2-4702-4794-8bbf-e0a14d30b86f",
   "metadata": {},
   "outputs": [],
   "source": [
    "df['clust'] = l"
   ]
  },
  {
   "cell_type": "code",
   "execution_count": 930,
   "id": "344f9cae-bfa3-4f6c-a73d-6fe58cd2cdad",
   "metadata": {},
   "outputs": [],
   "source": [
    "df.to_csv('resumes_features.csv')"
   ]
  },
  {
   "cell_type": "markdown",
   "id": "714b5bb9-de41-4e41-a6a3-4236208b16fb",
   "metadata": {},
   "source": [
    "**TDA**"
   ]
  },
  {
   "cell_type": "markdown",
   "id": "8d584b6c-1d3b-4d62-abaf-e1ffd0f149c9",
   "metadata": {},
   "source": [
    "Для лучшей работы интерпретации текстов в рамках текстовой аналитики, будем использовать базовые инструменты топологического анализа данных."
   ]
  },
  {
   "cell_type": "code",
   "execution_count": 88,
   "id": "1cab89ee-821c-472a-a02e-2eb31250feec",
   "metadata": {},
   "outputs": [],
   "source": [
    "# !pip install gudhi\n",
    "import gudhi as gd"
   ]
  },
  {
   "cell_type": "markdown",
   "id": "e2a72b62-f0ce-4555-bf2d-57fd61d03441",
   "metadata": {},
   "source": [
    "Составим simplex tree n-грамм:"
   ]
  },
  {
   "cell_type": "code",
   "execution_count": 89,
   "id": "030d36fa-4e41-4cd3-8f66-8cbf9ea37e8f",
   "metadata": {},
   "outputs": [],
   "source": [
    "simplices0 = list(df2['О себе, summarized'])\n",
    "simplices1 = list(df2['О себе 2'])\n",
    "simplices2 = list(df2['О себе 3'])"
   ]
  },
  {
   "cell_type": "code",
   "execution_count": 90,
   "id": "9221bae6-e463-47b6-83b4-03184e1dac04",
   "metadata": {},
   "outputs": [],
   "source": [
    "st = gd.SimplexTree()"
   ]
  },
  {
   "cell_type": "markdown",
   "id": "b1f49001-0a7a-46b5-aad6-acf7983cc942",
   "metadata": {},
   "source": [
    "Заполним его n-граммами:"
   ]
  },
  {
   "cell_type": "code",
   "execution_count": 91,
   "id": "951a88cb-abab-49c7-8b7d-8b3fd81707c9",
   "metadata": {},
   "outputs": [],
   "source": [
    "text_to_num = dict()\n",
    "num_to_text = dict()\n",
    "i = 0\n",
    "\n",
    "for x in simplices0:\n",
    "    if x is not None:\n",
    "        for y in x:\n",
    "            if y not in text_to_num.keys():\n",
    "                text_to_num[y] = i\n",
    "                num_to_text[i] = y\n",
    "                i += 1\n",
    "            st.insert([text_to_num[y]])\n",
    "        \n",
    "for x in simplices1:\n",
    "    if x is not None:\n",
    "        for y in x:\n",
    "            st.insert([text_to_num[y.split(' ')[0]], text_to_num[y.split(' ')[1]]])\n",
    "        \n",
    "for x in simplices2:\n",
    "    if x is not None:\n",
    "        for y in x:\n",
    "            if len(y) > 2:\n",
    "                st.insert([text_to_num[y.split(' ')[0]], \n",
    "                       text_to_num[y.split(' ')[1]], \n",
    "                       text_to_num[y.split(' ')[2]]])"
   ]
  },
  {
   "cell_type": "markdown",
   "id": "49faf65e-6df0-4873-8269-2ab4a6db3d17",
   "metadata": {},
   "source": [
    "Тестируем, хорошо ли работает операция `*`:"
   ]
  },
  {
   "cell_type": "code",
   "execution_count": 92,
   "id": "4671fdbe-dac8-4913-a508-ea9c8bdd30f8",
   "metadata": {},
   "outputs": [
    {
     "name": "stdout",
     "output_type": "stream",
     "text": [
      "536\n",
      "[([0, 119, 536], 0.0), ([0, 536], 0.0), ([1, 3, 536], 0.0), ([1, 536], 0.0), ([3, 15, 536], 0.0), ([3, 39, 536], 0.0), ([3, 42, 536], 0.0), ([3, 119, 536], 0.0), ([3, 140, 536], 0.0), ([3, 348, 536], 0.0), ([3, 536], 0.0), ([3, 536, 652], 0.0), ([3, 536, 752], 0.0), ([3, 536, 1101], 0.0), ([3, 536, 1556], 0.0)]\n",
      "уверенный vba sql\n"
     ]
    }
   ],
   "source": [
    "st.compute_persistence()\n",
    "st.betti_numbers()\n",
    "y = simplices0[0][0]\n",
    "y = text_to_num['sql']\n",
    "print(y)\n",
    "print(st.get_star([y])[:15])\n",
    "print(num_to_text[0], num_to_text[119], num_to_text[536])"
   ]
  },
  {
   "cell_type": "code",
   "execution_count": 143,
   "id": "676c6b09-c1cf-468b-a9ec-af52863a7b95",
   "metadata": {},
   "outputs": [
    {
     "data": {
      "text/plain": [
       "[1, 12184]"
      ]
     },
     "execution_count": 143,
     "metadata": {},
     "output_type": "execute_result"
    }
   ],
   "source": [
    "st.betti_numbers()"
   ]
  },
  {
   "cell_type": "code",
   "execution_count": 93,
   "id": "3b9af2f3-b30d-4b4e-944a-92e0a10999c6",
   "metadata": {},
   "outputs": [
    {
     "name": "stdout",
     "output_type": "stream",
     "text": [
      "время заниматься\n",
      "[([20, 47, 48], 0.0), ([33, 47, 48], 0.0), ([40, 47, 48], 0.0), ([46, 47, 48], 0.0), ([47, 48], 0.0), ([47, 48, 49], 0.0), ([47, 48, 51], 0.0), ([47, 48, 52], 0.0), ([47, 48, 53], 0.0), ([47, 48, 77], 0.0), ([47, 48, 78], 0.0), ([47, 48, 94], 0.0), ([47, 48, 99], 0.0), ([47, 48, 108], 0.0), ([47, 48, 120], 0.0)]\n",
      "работа заседание анализ\n"
     ]
    }
   ],
   "source": [
    "y = simplices1[3][1]\n",
    "print(y)\n",
    "print(st.get_star([text_to_num[y.split(' ')[0]], \n",
    "                    text_to_num[y.split(' ')[1]]])[:15])\n",
    "print(num_to_text[20], num_to_text[37], num_to_text[38])"
   ]
  },
  {
   "cell_type": "code",
   "execution_count": 142,
   "id": "ce13c314-f228-402c-b449-34e5e4cf3146",
   "metadata": {},
   "outputs": [
    {
     "name": "stdout",
     "output_type": "stream",
     "text": [
      "ответственный творческий подход :\n",
      "ответственный уметь творческий\n",
      "ответственный обучать творческий\n",
      "ответственный творческий подход\n",
      "ответственный творческий информация\n",
      "ответственный творческий подход :\n",
      "ответственный обучаемость подход\n",
      "ответственный творческий подход\n",
      "ответственный подход выполнять\n",
      "ответственный подход дело\n",
      "ответственный творческий подход :\n",
      "работа творческий подход\n",
      "презентация творческий подход\n",
      "ум творческий подход\n",
      "способность творческий подход\n",
      "решение творческий подход\n",
      "ответственный творческий подход\n",
      "мышление творческий подход\n",
      "уровень творческий подход\n",
      "творческий подход выполнение\n",
      "творческий подход пунктуальность\n",
      "творческий подход дело\n"
     ]
    }
   ],
   "source": [
    "y = simplices2[3][1]\n",
    "y = 'ум способность работать'\n",
    "y = 'работать способность успешно'\n",
    "y = 'способность задача успешно'\n",
    "y = 'аналитический способность задача'\n",
    "y = 'аналитический задача подход'\n",
    "y = 'проектный задача подход'\n",
    "y = 'задача подход выполнять'\n",
    "y = 'ответственный подход выполнять'\n",
    "y = 'ответственный творческий подход'\n",
    "\n",
    "print(y, ':')\n",
    "search_results = st.get_star([text_to_num[y.split(' ')[0]], \n",
    "                    text_to_num[y.split(' ')[1]]])[:15]\n",
    "for x in search_results:\n",
    "    if len(x[0]) == 3:\n",
    "        print(num_to_text[x[0][0]], num_to_text[x[0][1]], num_to_text[x[0][2]])\n",
    "        \n",
    "print(y, ':')\n",
    "search_results = st.get_star([text_to_num[y.split(' ')[0]], \n",
    "                    text_to_num[y.split(' ')[2]]])[:15]\n",
    "for x in search_results:\n",
    "    if len(x[0]) == 3:\n",
    "        print(num_to_text[x[0][0]], num_to_text[x[0][1]], num_to_text[x[0][2]])\n",
    "\n",
    "print(y, ':')\n",
    "search_results = st.get_star([text_to_num[y.split(' ')[1]], \n",
    "                    text_to_num[y.split(' ')[2]]])[:15]\n",
    "for x in search_results:\n",
    "    if len(x[0]) == 3:\n",
    "        print(num_to_text[x[0][0]], num_to_text[x[0][1]], num_to_text[x[0][2]])"
   ]
  },
  {
   "cell_type": "code",
   "execution_count": 116,
   "id": "1fff3915-893f-4221-8eec-066d128e4a9f",
   "metadata": {},
   "outputs": [
    {
     "data": {
      "text/plain": [
       "0      -0.169491\n",
       "1      -0.303798\n",
       "2       0.188959\n",
       "3       1.057477\n",
       "4       1.722029\n",
       "         ...    \n",
       "296     0.687806\n",
       "297    -0.148542\n",
       "298    47.549595\n",
       "299    -0.481828\n",
       "300    -0.771987\n",
       "Name: principal component 1, Length: 301, dtype: float64"
      ]
     },
     "execution_count": 116,
     "metadata": {},
     "output_type": "execute_result"
    }
   ],
   "source": [
    "principal.loc[:300, 'principal component 1']"
   ]
  },
  {
   "cell_type": "markdown",
   "id": "1f7d5ebf-1ea0-4899-ae3c-4174167f4e41",
   "metadata": {},
   "source": [
    "**Анализ кластеров**"
   ]
  },
  {
   "cell_type": "markdown",
   "id": "ff33adb0-53d6-41e1-8c4b-2f984428d31c",
   "metadata": {},
   "source": [
    "Самым лучшим оказался KMeans. Проанализируем наши данные, основываясь на его результатах."
   ]
  },
  {
   "cell_type": "code",
   "execution_count": 19,
   "id": "86dec9f6-7b93-49eb-b9c2-42a93b66eb8b",
   "metadata": {},
   "outputs": [],
   "source": [
    "df = pd.read_csv('resumes_features.csv')"
   ]
  },
  {
   "cell_type": "code",
   "execution_count": 5,
   "id": "4d8c7e1a-8bec-46d1-b10a-9585fce4be9a",
   "metadata": {},
   "outputs": [],
   "source": [
    "df.drop(list(df)[0], axis=1, inplace=True)\n",
    "df.reset_index(inplace=True)\n",
    "df.drop(list(df)[0], axis=1, inplace=True)"
   ]
  },
  {
   "cell_type": "code",
   "execution_count": 6,
   "id": "b25c11f0-1212-47df-9054-563782aad0e0",
   "metadata": {},
   "outputs": [
    {
     "data": {
      "text/html": [
       "<div>\n",
       "<style scoped>\n",
       "    .dataframe tbody tr th:only-of-type {\n",
       "        vertical-align: middle;\n",
       "    }\n",
       "\n",
       "    .dataframe tbody tr th {\n",
       "        vertical-align: top;\n",
       "    }\n",
       "\n",
       "    .dataframe thead th {\n",
       "        text-align: right;\n",
       "    }\n",
       "</style>\n",
       "<table border=\"1\" class=\"dataframe\">\n",
       "  <thead>\n",
       "    <tr style=\"text-align: right;\">\n",
       "      <th></th>\n",
       "      <th>Ссылка</th>\n",
       "      <th>Название</th>\n",
       "      <th>Коммандировка</th>\n",
       "      <th>Опыт</th>\n",
       "      <th>О себе</th>\n",
       "      <th>Образование</th>\n",
       "      <th>Интересы</th>\n",
       "      <th>Навыки</th>\n",
       "      <th>Образование-1</th>\n",
       "      <th>Образование-2</th>\n",
       "      <th>...</th>\n",
       "      <th>93</th>\n",
       "      <th>94</th>\n",
       "      <th>95</th>\n",
       "      <th>96</th>\n",
       "      <th>97</th>\n",
       "      <th>98</th>\n",
       "      <th>99</th>\n",
       "      <th>clust</th>\n",
       "      <th>DA, predicted</th>\n",
       "      <th>DS, predicted</th>\n",
       "    </tr>\n",
       "  </thead>\n",
       "  <tbody>\n",
       "    <tr>\n",
       "      <th>719</th>\n",
       "      <td>https://hh.ru/resume/85ea36bb0002ddc7fd0039ed1...</td>\n",
       "      <td>Аналитик</td>\n",
       "      <td>Москва, м. Сходненская, не готов к переезду, н...</td>\n",
       "      <td>Опыт работы 5 лет 2 месяца</td>\n",
       "      <td>Коммуникабельность, активная жизненная позиция...</td>\n",
       "      <td>Высшее образование (Бакалавр)\\n2018\\nМосковски...</td>\n",
       "      <td>Специализации:\\nАналитик\\nЗанятость: полная за...</td>\n",
       "      <td>Работа с компьютерными программами, программы ...</td>\n",
       "      <td>Московский Государственный институт индустрии ...</td>\n",
       "      <td>Колледж малого бизнеса 48</td>\n",
       "      <td>...</td>\n",
       "      <td>0.000453</td>\n",
       "      <td>-0.000027</td>\n",
       "      <td>-0.001687</td>\n",
       "      <td>-0.000568</td>\n",
       "      <td>-0.001011</td>\n",
       "      <td>-0.000525</td>\n",
       "      <td>-0.001164</td>\n",
       "      <td>0</td>\n",
       "      <td>2.0</td>\n",
       "      <td>0.0</td>\n",
       "    </tr>\n",
       "  </tbody>\n",
       "</table>\n",
       "<p>1 rows × 140 columns</p>\n",
       "</div>"
      ],
      "text/plain": [
       "                                                Ссылка  Название  \\\n",
       "719  https://hh.ru/resume/85ea36bb0002ddc7fd0039ed1...  Аналитик   \n",
       "\n",
       "                                         Коммандировка  \\\n",
       "719  Москва, м. Сходненская, не готов к переезду, н...   \n",
       "\n",
       "                           Опыт  \\\n",
       "719  Опыт работы 5 лет 2 месяца   \n",
       "\n",
       "                                                О себе  \\\n",
       "719  Коммуникабельность, активная жизненная позиция...   \n",
       "\n",
       "                                           Образование  \\\n",
       "719  Высшее образование (Бакалавр)\\n2018\\nМосковски...   \n",
       "\n",
       "                                              Интересы  \\\n",
       "719  Специализации:\\nАналитик\\nЗанятость: полная за...   \n",
       "\n",
       "                                                Навыки  \\\n",
       "719  Работа с компьютерными программами, программы ...   \n",
       "\n",
       "                                         Образование-1  \\\n",
       "719  Московский Государственный институт индустрии ...   \n",
       "\n",
       "                 Образование-2  ...        93        94        95        96  \\\n",
       "719  Колледж малого бизнеса 48  ...  0.000453 -0.000027 -0.001687 -0.000568   \n",
       "\n",
       "           97        98        99 clust  DA, predicted  DS, predicted  \n",
       "719 -0.001011 -0.000525 -0.001164     0            2.0            0.0  \n",
       "\n",
       "[1 rows x 140 columns]"
      ]
     },
     "execution_count": 6,
     "metadata": {},
     "output_type": "execute_result"
    }
   ],
   "source": [
    "df.sample(1)"
   ]
  },
  {
   "cell_type": "markdown",
   "id": "114c2139-4aa0-47bd-b61d-1002cc1b673e",
   "metadata": {},
   "source": [
    "Что за кластеры:"
   ]
  },
  {
   "cell_type": "code",
   "execution_count": 938,
   "id": "e381eeba-d2d3-40e3-bbf7-59f17cc49632",
   "metadata": {},
   "outputs": [
    {
     "data": {
      "text/plain": [
       "0       [уверенный пользователь пк, пользователь пк ms...\n",
       "1       [настоящий время заниматься, время заниматься ...\n",
       "2       [крупный медучреждение россия, медучреждение р...\n",
       "3       [настоящий время заниматься, время заниматься ...\n",
       "4       [настоящий время работать, время работать комп...\n",
       "                              ...                        \n",
       "2720    [крупный российский банковский, российский бан...\n",
       "2721    [находиться поиск работа, поиск работа который...\n",
       "2722    [una отечественный компания, отечественный ком...\n",
       "2723                                                 None\n",
       "2724                                                 None\n",
       "Name: О себе 3, Length: 2725, dtype: object"
      ]
     },
     "execution_count": 938,
     "metadata": {},
     "output_type": "execute_result"
    }
   ],
   "source": [
    "df2['О себе 3'] #, df2['О себе, sumarrized']"
   ]
  },
  {
   "cell_type": "code",
   "execution_count": 144,
   "id": "bf3dce84-d8cc-48d6-814a-496ffd5114db",
   "metadata": {},
   "outputs": [
    {
     "data": {
      "text/plain": [
       "0       Уверенный пользователь ПК, Ms Word, Ms Excel, ...\n",
       "1       Энергична, активна, в поиске новых возможносте...\n",
       "2       опыт прямых продаж, ведение коммерческих перег...\n",
       "3       Коммуникабелен\\nУмение работать с возражениями...\n",
       "4       Дисциплина - умение выполнять поставленные зад...\n",
       "                              ...                        \n",
       "2714    Опыт управления более 15-и лет. Развитые управ...\n",
       "2715    Аналитика продаж ,поиск клиентов,связь с произ...\n",
       "2719    Многозадачность, стрессоустойчивость, инициати...\n",
       "2720    Уверенный пользователь ПК: MS Office (Word, Ex...\n",
       "2722                                                    .\n",
       "Name: О себе, Length: 2130, dtype: object"
      ]
     },
     "execution_count": 144,
     "metadata": {},
     "output_type": "execute_result"
    }
   ],
   "source": [
    "df.loc[df['clust']==0]['О себе']"
   ]
  },
  {
   "cell_type": "code",
   "execution_count": 40,
   "id": "d2a8de66-f149-499d-aa5a-d8cf72cf674f",
   "metadata": {},
   "outputs": [
    {
     "data": {
      "text/plain": [
       "11      [эксперт область аудит, область аудит аудит, а...\n",
       "35      [российский эксперт область, эксперт область б...\n",
       "64      [неделя хотеть поделиться, хотеть поделиться о...\n",
       "76      [данный момент работать, момент работать компа...\n",
       "88      [настоящий время работать, время работать круп...\n",
       "                              ...                        \n",
       "2565    [форвард сборная россия, сборная россия хоккей...\n",
       "2573    [финансист экономист плановик, экономист плано...\n",
       "2621    [данный момент являться, момент являться менед...\n",
       "2640    [данный момент заниматься, момент заниматься т...\n",
       "2696    [пройти курс управление, курс управление персо...\n",
       "Name: О себе 3, Length: 95, dtype: object"
      ]
     },
     "execution_count": 40,
     "metadata": {},
     "output_type": "execute_result"
    }
   ],
   "source": [
    "df.loc[(df['clust']==0) & (df['DA, predicted']==2)]['О себе'].index\n",
    "df2.loc[df.loc[(df['clust']==0) & (df['DA, predicted']==2)]['О себе'].index]['О себе 3']"
   ]
  },
  {
   "cell_type": "code",
   "execution_count": 339,
   "id": "5919771d-9c5b-42cc-a56f-0998a433eb02",
   "metadata": {},
   "outputs": [
    {
     "name": "stdout",
     "output_type": "stream",
     "text": [
      "[('настоящий время работать', 11), ('время работать крупный', 5), ('иметь опыт работа', 4), ('находиться поиск работа', 4), ('данный момент являться', 3), ('имя м ломоносов', 3), ('требоваться высокопоставленный сотрудник', 3), ('данный момент работать', 2), ('самый известный российский', 2), ('обладать чувство ответственность', 2), ('чувство ответственность высокий', 2), ('ответственность высокий работоспособность', 2), ('высокий работоспособность вариативный', 2), ('работоспособность вариативный мышление', 2), ('вариативный мышление стрессоустойчивый', 2), ('мышление стрессоустойчивый инициативный', 2), ('стрессоустойчивый инициативный нацелить', 2), ('инициативный нацелить результат', 2), ('нацелить результат уметь', 2), ('результат уметь самостоятельно', 2), ('уметь самостоятельно принимать', 2), ('самостоятельно принимать решение', 2), ('работать крупный россия', 2), ('данный момент иметь', 2), ('момент иметь опыт', 2)]\n"
     ]
    }
   ],
   "source": [
    "cluster_ind = df.loc[(df['clust']==0) & (df['DA, predicted']==2)]['О себе'].index\n",
    "cluster_tokens = []\n",
    "\n",
    "for i in cluster_ind:\n",
    "    if df2.loc[i, 'О себе 3'] != None:\n",
    "        cluster_tokens += df2.loc[i, 'О себе 3']\n",
    "\n",
    "print(FreqDist(cluster_tokens).most_common(25))"
   ]
  },
  {
   "cell_type": "code",
   "execution_count": 343,
   "id": "c77ccc04-a4f0-4438-9f7c-812da498cb28",
   "metadata": {},
   "outputs": [
    {
     "name": "stdout",
     "output_type": "stream",
     "text": [
      "уметь самостоятельно принимать :\n",
      "самостоятельно результат уметь\n",
      "самостоятельно уметь принимать\n",
      "уметь самостоятельно принимать :\n",
      "самостоятельно уметь принимать\n",
      "решение уметь принимать\n",
      "лидер уметь принимать\n",
      "результат уметь принимать\n",
      "уметь принимать горизонт\n",
      "уметь принимать взвесить\n",
      "уметь самостоятельно принимать :\n",
      "умение самостоятельно принимать\n",
      "самостоятельно решение принимать\n",
      "самостоятельно уметь принимать\n",
      "самостоятельно принимать готовность\n"
     ]
    }
   ],
   "source": [
    "y = 'уметь самостоятельно принимать'\n",
    "\n",
    "print(y, ':')\n",
    "search_results = st.get_star([text_to_num[y.split(' ')[0]], \n",
    "                    text_to_num[y.split(' ')[1]]])[:15]\n",
    "for x in search_results:\n",
    "    if len(x[0]) == 3:\n",
    "        print(num_to_text[x[0][0]], num_to_text[x[0][1]], num_to_text[x[0][2]])\n",
    "        \n",
    "print(y, ':')\n",
    "search_results = st.get_star([text_to_num[y.split(' ')[0]], \n",
    "                    text_to_num[y.split(' ')[2]]])[:15]\n",
    "for x in search_results:\n",
    "    if len(x[0]) == 3:\n",
    "        print(num_to_text[x[0][0]], num_to_text[x[0][1]], num_to_text[x[0][2]])\n",
    "\n",
    "print(y, ':')\n",
    "search_results = st.get_star([text_to_num[y.split(' ')[1]], \n",
    "                    text_to_num[y.split(' ')[2]]])[:15]\n",
    "for x in search_results:\n",
    "    if len(x[0]) == 3:\n",
    "        print(num_to_text[x[0][0]], num_to_text[x[0][1]], num_to_text[x[0][2]])"
   ]
  },
  {
   "cell_type": "code",
   "execution_count": 344,
   "id": "d0d3ce70-c995-422d-955c-42336f54d571",
   "metadata": {},
   "outputs": [
    {
     "name": "stdout",
     "output_type": "stream",
     "text": [
      "[('c software c', 9), ('software c software', 9), ('находиться поиск работа', 9), ('данный момент работать', 6), ('иметь опыт работа', 5), ('гражданин россия проживать', 5), ('уверенный пользователь пк', 5), ('настоящий время работать', 5), ('разработчик программный обеспечение', 4), ('работать больший объём', 4), ('больший объём информация', 4), ('россия проживать санкт', 4), ('проживать санкт петербург', 4), ('крупный российский розничный', 3), ('работа данный момент', 3), ('поиск работа специальность', 3), ('моделирование бизнес процесс', 3), ('настоящий время заниматься', 3), ('находиться возраст год', 3), ('сборная россия хоккей', 2), ('россия хоккей мяч', 2), ('направление анализ данные', 2), ('данный момент иметь', 2), ('момент иметь опыт', 2), ('программный обеспечение компьютерный', 2), ('находиться декретный отпуск', 2), ('качество необходимый успешный', 2), ('работать рекламный агентство', 2), ('поиск работа сфера', 2), ('российский розничный кредитный', 2)]\n"
     ]
    }
   ],
   "source": [
    "cluster_ind = df.loc[(df['clust']==0) & (df['DA, predicted']==1)]['О себе'].index\n",
    "cluster_tokens = []\n",
    "\n",
    "for i in cluster_ind:\n",
    "    if df2.loc[i, 'О себе 3'] != None:\n",
    "        cluster_tokens += df2.loc[i, 'О себе 3']\n",
    "\n",
    "print(FreqDist(cluster_tokens).most_common(30))"
   ]
  },
  {
   "cell_type": "code",
   "execution_count": 348,
   "id": "93ca278a-194c-4b60-aac5-02d1bba5e38f",
   "metadata": {},
   "outputs": [
    {
     "name": "stdout",
     "output_type": "stream",
     "text": [
      "разработчик программный обеспечение :\n",
      "специалист разработчик программный\n",
      "российский разработчик программный\n",
      "аналитик разработчик программный\n",
      "обеспечение разработчик программный\n",
      "программирование разработчик программный\n",
      "должность разработчик программный\n",
      "разработчик программный программа\n",
      "разработчик программный интерфейс\n",
      "разработчик программный плановик\n",
      "разработчик программный администратор\n",
      "разработчик программный копирайтер\n",
      "разработчик программный провайдер\n",
      "разработчик программный системоинженер\n",
      "разработчик программный обеспечение :\n",
      "система обеспечение разработчик\n",
      "обеспечение разработчик программный\n",
      "обеспечение разработчик владелец\n",
      "разработчик программный обеспечение :\n",
      "ms обеспечение программный\n",
      "amocrm обеспечение программный\n",
      "система обеспечение программный\n",
      "навык обеспечение программный\n",
      "анализ обеспечение программный\n",
      "заниматься обеспечение программный\n",
      "мир обеспечение программный\n",
      "крупный обеспечение программный\n",
      "требоваться обеспечение программный\n",
      "область обеспечение программный\n",
      "опыт обеспечение программный\n",
      "работать обеспечение программный\n",
      "компьютер обеспечение программный\n",
      "технология обеспечение программный\n",
      "информационный обеспечение программный\n"
     ]
    }
   ],
   "source": [
    "y = 'разработчик программный обеспечение'\n",
    "\n",
    "print(y, ':')\n",
    "search_results = st.get_star([text_to_num[y.split(' ')[0]], \n",
    "                    text_to_num[y.split(' ')[1]]])[:15]\n",
    "for x in search_results:\n",
    "    if len(x[0]) == 3:\n",
    "        print(num_to_text[x[0][0]], num_to_text[x[0][1]], num_to_text[x[0][2]])\n",
    "        \n",
    "print(y, ':')\n",
    "search_results = st.get_star([text_to_num[y.split(' ')[0]], \n",
    "                    text_to_num[y.split(' ')[2]]])[:15]\n",
    "for x in search_results:\n",
    "    if len(x[0]) == 3:\n",
    "        print(num_to_text[x[0][0]], num_to_text[x[0][1]], num_to_text[x[0][2]])\n",
    "\n",
    "print(y, ':')\n",
    "search_results = st.get_star([text_to_num[y.split(' ')[1]], \n",
    "                    text_to_num[y.split(' ')[2]]])[:15]\n",
    "for x in search_results:\n",
    "    if len(x[0]) == 3:\n",
    "        print(num_to_text[x[0][0]], num_to_text[x[0][1]], num_to_text[x[0][2]])"
   ]
  },
  {
   "cell_type": "code",
   "execution_count": 148,
   "id": "dbcb5399-5fda-41c1-8097-48180b832804",
   "metadata": {},
   "outputs": [
    {
     "name": "stdout",
     "output_type": "stream",
     "text": [
      "[('настоящий время работать', 71), ('находиться поиск работа', 68), ('настоящий время заниматься', 59), ('данный момент работать', 52), ('гражданин россия проживать', 47), ('иметь опыт работа', 41), ('уверенный пользователь пк', 39), ('умение работать команда', 39), ('открыться вакантный должность', 34), ('аналитический склад ум', 32), ('опыт работа сфера', 32), ('проживать санкт петербург', 28), ('данный момент заниматься', 27), ('разработка программный обеспечение', 27), ('разработчик программный обеспечение', 26), ('рамка подготовка чемпионат', 24), ('подготовка чемпионат мир', 24), ('опытный пользователь пк', 23), ('время работать крупный', 23), ('данный момент являться', 23), ('россия проживать санкт', 23), ('находиться возраст год', 23), ('данный момент иметь', 22), ('поиск работа сфера', 20), ('institute of technology', 20), ('компания заниматься разработка', 20), ('мир хоккей мяч', 19), ('заниматься информационный технология', 18), ('чемпионат мир хоккей', 18), ('больший объём информация', 18), ('находиться отпуск уход', 17), ('отпуск уход ребёнок', 17), ('крупный российский it', 17), ('заниматься разработка программный', 17), ('московский офис открыться', 16), ('активный жизненный позиция', 16), ('офис открыться вакантный', 15), ('поиск работа хотеть', 15), ('находиться отпуск хотеть', 15), ('вакантный должность «менеджер', 14)]\n"
     ]
    }
   ],
   "source": [
    "cluster_ind = df.loc[(df['clust']==0)]['О себе'].index\n",
    "cluster_tokens = []\n",
    "\n",
    "for i in cluster_ind:\n",
    "    if df2.loc[i, 'О себе 3'] != None:\n",
    "        cluster_tokens += df2.loc[i, 'О себе 3']\n",
    "\n",
    "print(FreqDist(cluster_tokens).most_common(40))"
   ]
  },
  {
   "cell_type": "code",
   "execution_count": 171,
   "id": "8e42416b-3a01-461a-bd2b-bcc6a5624ce2",
   "metadata": {},
   "outputs": [
    {
     "name": "stdout",
     "output_type": "stream",
     "text": [
      "ведение переговоры иностранный :\n",
      "пк ведение переговоры\n",
      "деловой ведение переговоры\n",
      "общение ведение переговоры\n",
      "клиент ведение переговоры\n",
      "навык ведение переговоры\n",
      "заниматься ведение переговоры\n",
      "продажа ведение переговоры\n",
      "ведение коммерческий переговоры\n",
      "ведение переговоры опыт\n",
      "ведение переговоры умение\n",
      "ведение переговоры управление\n",
      "ведение переговоры уровень\n",
      "ведение переговоры сотрудник\n",
      "ведение переговоры иностранный\n",
      "ведение переговоры иностранный :\n",
      "ведение переговоры иностранный\n",
      "ведение переговоры иностранный :\n",
      "клиент переговоры иностранный\n",
      "ведение переговоры иностранный\n",
      "переговоры опыт иностранный\n",
      "переговоры компания иностранный\n",
      "переговоры готовый иностранный\n",
      "переговоры иностранный вести\n",
      "переговоры иностранный инвестор\n"
     ]
    }
   ],
   "source": [
    "y = 'ведение переговоры иностранный'\n",
    "\n",
    "print(y, ':')\n",
    "search_results = st.get_star([text_to_num[y.split(' ')[0]], \n",
    "                    text_to_num[y.split(' ')[1]]])[:15]\n",
    "for x in search_results:\n",
    "    if len(x[0]) == 3:\n",
    "        print(num_to_text[x[0][0]], num_to_text[x[0][1]], num_to_text[x[0][2]])\n",
    "        \n",
    "print(y, ':')\n",
    "search_results = st.get_star([text_to_num[y.split(' ')[0]], \n",
    "                    text_to_num[y.split(' ')[2]]])[:15]\n",
    "for x in search_results:\n",
    "    if len(x[0]) == 3:\n",
    "        print(num_to_text[x[0][0]], num_to_text[x[0][1]], num_to_text[x[0][2]])\n",
    "\n",
    "print(y, ':')\n",
    "search_results = st.get_star([text_to_num[y.split(' ')[1]], \n",
    "                    text_to_num[y.split(' ')[2]]])[:15]\n",
    "for x in search_results:\n",
    "    if len(x[0]) == 3:\n",
    "        print(num_to_text[x[0][0]], num_to_text[x[0][1]], num_to_text[x[0][2]])"
   ]
  },
  {
   "cell_type": "code",
   "execution_count": 9,
   "id": "76348cbd-f2e5-460f-b752-3921c60e832a",
   "metadata": {},
   "outputs": [],
   "source": [
    "pca = PCA(n_components=3)\n",
    "principalComponents1 = pca.fit_transform((df.loc[df['clust']==0, list(df)[36:-3] + ['Кол-во образований', 'Опыт нормализованный','Топовость образования', 'Справочник по интересам', 'Релокация?', 'Коммандировка?', 'Город?', 'Уровень оборазования нормализованный', 'Карьерный рост', 'Аналитические комбинации слов в навыках']]))\n",
    "principal1 = pd.DataFrame(data = principalComponents1\n",
    "             , columns = ['principal component 1', 'principal component 2','principal component 3'])"
   ]
  },
  {
   "cell_type": "markdown",
   "id": "19f51fed-aea0-47de-a59a-de83cb5b4d85",
   "metadata": {},
   "source": [
    "Посмотрим, сколько информации сохраняют первые две главные компоненты:"
   ]
  },
  {
   "cell_type": "code",
   "execution_count": 10,
   "id": "c0bb9b82-b104-449a-a5b1-869efdc3ae19",
   "metadata": {},
   "outputs": [
    {
     "name": "stderr",
     "output_type": "stream",
     "text": [
      "/Users/vladkopchev/miniconda3/lib/python3.9/site-packages/seaborn/_decorators.py:36: FutureWarning: Pass the following variables as keyword args: x, y. From version 0.12, the only valid positional argument will be `data`, and passing other arguments without an explicit keyword will result in an error or misinterpretation.\n",
      "  warnings.warn(\n"
     ]
    },
    {
     "data": {
      "text/plain": [
       "<AxesSubplot:xlabel='principal component 1', ylabel='principal component 2'>"
      ]
     },
     "execution_count": 10,
     "metadata": {},
     "output_type": "execute_result"
    },
    {
     "data": {
      "image/png": "[encoded data removed]",
      "text/plain": [
       "<Figure size 640x480 with 1 Axes>"
      ]
     },
     "metadata": {},
     "output_type": "display_data"
    }
   ],
   "source": [
    "sns.scatterplot(principal1['principal component 1'], principal1['principal component 2'])"
   ]
  },
  {
   "cell_type": "code",
   "execution_count": 946,
   "id": "fe3a9f8c-a06e-4db8-a7f2-c015e7df8825",
   "metadata": {},
   "outputs": [
    {
     "data": {
      "text/plain": [
       "22      ---\n",
       "31      ---\n",
       "33      ---\n",
       "34      ---\n",
       "46      ---\n",
       "       ... \n",
       "2711    ---\n",
       "2716    ---\n",
       "2717    ---\n",
       "2723    ---\n",
       "2724    ---\n",
       "Name: О себе, Length: 356, dtype: object"
      ]
     },
     "execution_count": 946,
     "metadata": {},
     "output_type": "execute_result"
    }
   ],
   "source": [
    "df.loc[df['clust']==1]['О себе']"
   ]
  },
  {
   "cell_type": "markdown",
   "id": "f44ff55b-6e9a-4a75-9d3f-c41d7f96808c",
   "metadata": {},
   "source": [
    "Рассмотрим теперь 3 кластер:"
   ]
  },
  {
   "cell_type": "code",
   "execution_count": 947,
   "id": "29b1d9b6-012f-44ff-964a-0249685fc9a7",
   "metadata": {},
   "outputs": [
    {
     "data": {
      "text/plain": [
       "58      Общий стаж работы более 20 лет. Легко обучаюсь...\n",
       "128     Легко и быстро обучаюсь, целеустремленная, вни...\n",
       "298     Добрый день. Немного обо мне: Успешное провиде...\n",
       "336     Аналитический склад ума, высокая концентрация,...\n",
       "376     Пунктуальная, исполнительная, мобильная.\\nУмею...\n",
       "513     • Умею и люблю учиться;\\n• Пунктуальна и дисци...\n",
       "593     Работал с людьми обладаю управлять командой зн...\n",
       "661     Люблю ответственность и ответственных людей, п...\n",
       "759     Умею работать в режиме многозадачности, пункту...\n",
       "891     Ответственная, целеустремленная, коммуникабель...\n",
       "1020    Готова сразу приступить к работе.\\n\\nExcel- ув...\n",
       "1140    Люблю думать, создавать, видеть в своей работе...\n",
       "1298    Имею опыт работы в коллективе, организована, о...\n",
       "1442    Здравствуйте, меня зовут Ксения.\\nИз качеств о...\n",
       "1493    Уравновешенный, целеустремленный, коммуникабел...\n",
       "1530    Я люблю интересную работу с возможностями разв...\n",
       "1556    Очень люблю автомобили, много читаю, в т.ч. те...\n",
       "1595    Легко и быстро обучаюсь. Всегда стремлюсь узна...\n",
       "1688    Имею опыт работы с web интерфейсами: backdase,...\n",
       "1734    Активность, коммуникабельность, стрессоустойчи...\n",
       "1908    Коммуникабельность,стрессоустойчивость,целеуст...\n",
       "1958    Личные качества - целеустремленность, коммуник...\n",
       "2016    Имею знания в области банковских технологий, и...\n",
       "2041    Имею знания в области банковских технологий, и...\n",
       "2089    Ответственна, доброжелательна, легко обучаема;...\n",
       "2131    Работаю много и эффективно. Стараюсь не употре...\n",
       "2140    Умею работать в режиме многозадачности, пункту...\n",
       "2197    Профессионализм, достижение высоких результато...\n",
       "2214    Энергичность, открытость, высокая обучаемость,...\n",
       "2274    Я человек активный, ответственный, общительный...\n",
       "2329    Системный, многосторонний подход к решению зад...\n",
       "2338    Веду активный и здоровый образ жизни.\\nПродвин...\n",
       "2432    Семейное положение – не замужем, наличие детей...\n",
       "2541    Целеустремленный, трудолюбивый, не боюсь трудн...\n",
       "2593    Личные качества: настойчивость, скрупулезность...\n",
       "2633    Нацелен на результат, ответственно подхожу к л...\n",
       "2634    Коммуникабельность, пунктуальность, исполнител...\n",
       "Name: О себе, dtype: object"
      ]
     },
     "execution_count": 947,
     "metadata": {},
     "output_type": "execute_result"
    }
   ],
   "source": [
    "df.loc[df['clust']==2]['О себе']"
   ]
  },
  {
   "cell_type": "code",
   "execution_count": 172,
   "id": "727dcbea-3337-4444-b700-186d4d1c0ff3",
   "metadata": {},
   "outputs": [
    {
     "name": "stdout",
     "output_type": "stream",
     "text": [
      "[('данный момент работать', 37), ('находиться поиск работа', 34), ('поиск работа данный', 34), ('работа данный момент', 34), ('момент работать московский', 12), ('работать московский офис', 12), ('момент работать крупный', 9), ('момент работать сфера', 7), ('работать крупный россия', 6), ('работать сфера маркетинг', 4), ('сфера маркетинг реклама', 4), ('момент работать самый', 4), ('крупный россия банковский', 4), ('россия банковский холдинг', 4), ('маркетинг реклама продажа', 3), ('момент работать компания', 3), ('работать компания который', 2), ('работать самый интересный', 2), ('работать самый престижный', 2), ('работать крупный российский', 2), ('крупный россия компания', 2), ('работать сфера торговля', 1), ('работать сфера продажа', 1), ('компания который заниматься', 1), ('который заниматься производство', 1), ('заниматься производство бережливый', 1), ('производство бережливый продукция', 1), ('самый интересный амбициозный', 1), ('интересный амбициозный проект', 1), ('амбициозный проект мир', 1), ('самый престижный престижный', 1), ('престижный престижный офис', 1), ('престижный офис москва', 1), ('момент работать офис', 1), ('работать офис иметь', 1), ('офис иметь опыт', 1), ('иметь опыт работа', 1), ('опыт работа пк', 1), ('работа пк оргтехника', 1), ('момент работать телеграмма', 1)]\n"
     ]
    }
   ],
   "source": [
    "cluster_ind = df.loc[(df['clust']==2)]['О себе'].index\n",
    "cluster_tokens = []\n",
    "\n",
    "for i in cluster_ind:\n",
    "    if df2.loc[i, 'О себе 3'] != None:\n",
    "        cluster_tokens += df2.loc[i, 'О себе 3']\n",
    "\n",
    "print(FreqDist(cluster_tokens).most_common(40))"
   ]
  },
  {
   "cell_type": "code",
   "execution_count": 188,
   "id": "7356d83e-d8ed-4e97-80b5-7b9632325dfa",
   "metadata": {},
   "outputs": [
    {
     "name": "stdout",
     "output_type": "stream",
     "text": [
      "продажа работать возражение :\n",
      "навык продажа работать\n",
      "продажа сфера работать\n",
      "продажа работать возражение\n",
      "продажа работать команда\n",
      "продажа работать центр\n",
      "продажа работать отдел\n",
      "продажа работать менеджер\n",
      "продажа работать нравиться\n",
      "продажа работать любить\n",
      "продажа работать возражение :\n",
      "продажа работать возражение\n",
      "продажа работать возражение :\n",
      "клиент работать возражение\n",
      "продажа работать возражение\n",
      "работать возражение организаторский\n"
     ]
    }
   ],
   "source": [
    "y = 'продажа работать возражение'\n",
    "\n",
    "print(y, ':')\n",
    "search_results = st.get_star([text_to_num[y.split(' ')[0]], \n",
    "                    text_to_num[y.split(' ')[1]]])[:15]\n",
    "for x in search_results:\n",
    "    if len(x[0]) == 3:\n",
    "        print(num_to_text[x[0][0]], num_to_text[x[0][1]], num_to_text[x[0][2]])\n",
    "        \n",
    "print(y, ':')\n",
    "search_results = st.get_star([text_to_num[y.split(' ')[0]], \n",
    "                    text_to_num[y.split(' ')[2]]])[:15]\n",
    "for x in search_results:\n",
    "    if len(x[0]) == 3:\n",
    "        print(num_to_text[x[0][0]], num_to_text[x[0][1]], num_to_text[x[0][2]])\n",
    "\n",
    "print(y, ':')\n",
    "search_results = st.get_star([text_to_num[y.split(' ')[1]], \n",
    "                    text_to_num[y.split(' ')[2]]])[:15]\n",
    "for x in search_results:\n",
    "    if len(x[0]) == 3:\n",
    "        print(num_to_text[x[0][0]], num_to_text[x[0][1]], num_to_text[x[0][2]])"
   ]
  },
  {
   "cell_type": "code",
   "execution_count": 328,
   "id": "acf6070b-f400-49a7-93b4-d3ffdebe46ca",
   "metadata": {},
   "outputs": [
    {
     "name": "stdout",
     "output_type": "stream",
     "text": [
      "Хорошо работаю в команде, умею решать конфликты и идти на компромисс. С энтузиазмом берусь за новые проекты и довожу дело до конца. Обладаю аналитическим складом ума, быстро генерирую необычные идеи для решения задач пользуясь творческим подходом к делу.\n"
     ]
    }
   ],
   "source": [
    "print(df.loc[df['clust']==3]['О себе'].sample(1).iloc[0])"
   ]
  },
  {
   "cell_type": "code",
   "execution_count": 189,
   "id": "ba64c0f3-ee04-41b7-b675-b75016fd5338",
   "metadata": {},
   "outputs": [
    {
     "name": "stdout",
     "output_type": "stream",
     "text": [
      "[('данный момент работать', 112), ('находиться поиск работа', 86), ('работа данный момент', 38), ('поиск работа данный', 34), ('момент работать крупный', 32), ('момент работать сфера', 26), ('поиск работа хотеть', 17), ('работать крупный россия', 16), ('работать сфера маркетинг', 13), ('сфера маркетинг реклама', 13), ('момент работать самый', 13), ('работа хотеть заполучить', 12), ('маркетинг реклама продажа', 12), ('момент работать компания', 11), ('поиск работа сфера', 11), ('момент работать московский', 10), ('работать московский офис', 9), ('работать компания который', 8), ('хотеть заполучить должность', 8), ('крупный россия компания', 8), ('россия компания заниматься', 7), ('работать самый известный', 7), ('данный момент заниматься', 6), ('заполучить должность директор', 5), ('компания который заниматься', 5), ('работать сфера продажа', 5), ('момент работать офис', 5), ('заниматься информационный технология', 5), ('крупный it компания', 4), ('московский офис находиться', 4), ('офис данный момент', 4), ('самый интересный перспективный', 4), ('находиться поиск новый', 4), ('иметь опыт работа', 4), ('компания который специализироваться', 3), ('должность директор маркетинг', 3), ('компания заниматься производство', 3), ('работать крупный мир', 3), ('разработка программный обеспечение', 3), ('москва данный момент', 3)]\n"
     ]
    }
   ],
   "source": [
    "cluster_ind = df.loc[(df['clust']==3)]['О себе'].index\n",
    "cluster_tokens = []\n",
    "\n",
    "for i in cluster_ind:\n",
    "    if df2.loc[i, 'О себе 3'] != None:\n",
    "        cluster_tokens += df2.loc[i, 'О себе 3']\n",
    "\n",
    "print(FreqDist(cluster_tokens).most_common(40))"
   ]
  },
  {
   "cell_type": "code",
   "execution_count": 188,
   "id": "7cb2ac56-7a99-4765-a445-f0fc273a91a3",
   "metadata": {},
   "outputs": [
    {
     "name": "stdout",
     "output_type": "stream",
     "text": [
      "продажа работать возражение :\n",
      "навык продажа работать\n",
      "продажа сфера работать\n",
      "продажа работать возражение\n",
      "продажа работать команда\n",
      "продажа работать центр\n",
      "продажа работать отдел\n",
      "продажа работать менеджер\n",
      "продажа работать нравиться\n",
      "продажа работать любить\n",
      "продажа работать возражение :\n",
      "продажа работать возражение\n",
      "продажа работать возражение :\n",
      "клиент работать возражение\n",
      "продажа работать возражение\n",
      "работать возражение организаторский\n"
     ]
    }
   ],
   "source": [
    "y = 'продажа работать возражение'\n",
    "\n",
    "print(y, ':')\n",
    "search_results = st.get_star([text_to_num[y.split(' ')[0]], \n",
    "                    text_to_num[y.split(' ')[1]]])[:15]\n",
    "for x in search_results:\n",
    "    if len(x[0]) == 3:\n",
    "        print(num_to_text[x[0][0]], num_to_text[x[0][1]], num_to_text[x[0][2]])\n",
    "        \n",
    "print(y, ':')\n",
    "search_results = st.get_star([text_to_num[y.split(' ')[0]], \n",
    "                    text_to_num[y.split(' ')[2]]])[:15]\n",
    "for x in search_results:\n",
    "    if len(x[0]) == 3:\n",
    "        print(num_to_text[x[0][0]], num_to_text[x[0][1]], num_to_text[x[0][2]])\n",
    "\n",
    "print(y, ':')\n",
    "search_results = st.get_star([text_to_num[y.split(' ')[1]], \n",
    "                    text_to_num[y.split(' ')[2]]])[:15]\n",
    "for x in search_results:\n",
    "    if len(x[0]) == 3:\n",
    "        print(num_to_text[x[0][0]], num_to_text[x[0][1]], num_to_text[x[0][2]])"
   ]
  },
  {
   "cell_type": "code",
   "execution_count": 334,
   "id": "a9a4afec-4711-470b-91f1-fac4230373a5",
   "metadata": {},
   "outputs": [
    {
     "name": "stdout",
     "output_type": "stream",
     "text": [
      "Интиллегентный, ответственный, целеустремлённый.\n",
      "Аналитик по натуре.\n",
      "Готов к командировкам, самоорганизован.\n"
     ]
    }
   ],
   "source": [
    "print(df.loc[df['clust']==4]['О себе'].iloc[1])"
   ]
  },
  {
   "cell_type": "code",
   "execution_count": 190,
   "id": "e1be003c-5513-4c46-95cb-1fb9d04e4a05",
   "metadata": {},
   "outputs": [
    {
     "name": "stdout",
     "output_type": "stream",
     "text": [
      "[('президент россия владимир', 39), ('россия владимир путин', 39), ('встреча президент россия', 28), ('владимир путин пройти', 23), ('путин пройти накануне', 15), ('f f f', 15), ('санкт петербург встреча', 14), ('присутствие президент рф', 14), ('президент рф владимир', 14), ('рф владимир путин', 14), ('пройти накануне санкт', 13), ('накануне санкт петербург', 13), ('владимир путин премьер', 13), ('путин премьер министр', 13), ('встреча пройти присутствие', 12), ('пройти присутствие президент', 12), ('премьер министр владимир', 11), ('министр владимир путин', 11), ('петербург встреча пройти', 9), ('путин пройти четверг', 7), ('гражданин россия проживать', 7), ('россия проживать санкт', 7), ('проживать санкт петербург', 7), ('санкт петербург готовиться', 7), ('петербург готовиться переезд', 7), ('пройти четверг москва', 5), ('владимир путин состояться', 5), ('путин состояться накануне', 5), ('петербург встреча проходить', 5), ('встреча проходить присутствие', 5), ('проходить присутствие президент', 5), ('состояться накануне день', 4), ('накануне день россия', 4), ('готовиться переезд гостиница', 4), ('переезд гостиница «олимпийский»', 4), ('владимир путин президент', 4), ('кандидат президент россия', 3), ('москва встреча пройти', 3), ('президент сша дональд', 3), ('сша дональд трамп', 3)]\n"
     ]
    }
   ],
   "source": [
    "cluster_ind = df.loc[(df['clust']==4)]['О себе'].index\n",
    "cluster_tokens = []\n",
    "\n",
    "for i in cluster_ind:\n",
    "    if df2.loc[i, 'О себе 3'] != None:\n",
    "        cluster_tokens += df2.loc[i, 'О себе 3']\n",
    "\n",
    "print(FreqDist(cluster_tokens).most_common(40))"
   ]
  },
  {
   "cell_type": "code",
   "execution_count": 188,
   "id": "24d60f4b-e11a-4739-b125-2eb8ac18b746",
   "metadata": {},
   "outputs": [
    {
     "name": "stdout",
     "output_type": "stream",
     "text": [
      "продажа работать возражение :\n",
      "навык продажа работать\n",
      "продажа сфера работать\n",
      "продажа работать возражение\n",
      "продажа работать команда\n",
      "продажа работать центр\n",
      "продажа работать отдел\n",
      "продажа работать менеджер\n",
      "продажа работать нравиться\n",
      "продажа работать любить\n",
      "продажа работать возражение :\n",
      "продажа работать возражение\n",
      "продажа работать возражение :\n",
      "клиент работать возражение\n",
      "продажа работать возражение\n",
      "работать возражение организаторский\n"
     ]
    }
   ],
   "source": [
    "y = 'продажа работать возражение'\n",
    "\n",
    "print(y, ':')\n",
    "search_results = st.get_star([text_to_num[y.split(' ')[0]], \n",
    "                    text_to_num[y.split(' ')[1]]])[:15]\n",
    "for x in search_results:\n",
    "    if len(x[0]) == 3:\n",
    "        print(num_to_text[x[0][0]], num_to_text[x[0][1]], num_to_text[x[0][2]])\n",
    "        \n",
    "print(y, ':')\n",
    "search_results = st.get_star([text_to_num[y.split(' ')[0]], \n",
    "                    text_to_num[y.split(' ')[2]]])[:15]\n",
    "for x in search_results:\n",
    "    if len(x[0]) == 3:\n",
    "        print(num_to_text[x[0][0]], num_to_text[x[0][1]], num_to_text[x[0][2]])\n",
    "\n",
    "print(y, ':')\n",
    "search_results = st.get_star([text_to_num[y.split(' ')[1]], \n",
    "                    text_to_num[y.split(' ')[2]]])[:15]\n",
    "for x in search_results:\n",
    "    if len(x[0]) == 3:\n",
    "        print(num_to_text[x[0][0]], num_to_text[x[0][1]], num_to_text[x[0][2]])"
   ]
  },
  {
   "cell_type": "code",
   "execution_count": 95,
   "id": "3156420d-bcc8-4db0-80ff-549ad6005b7f",
   "metadata": {},
   "outputs": [
    {
     "name": "stdout",
     "output_type": "stream",
     "text": [
      "1 : 2130\n",
      "2 : 356\n",
      "3 : 37\n",
      "4 : 162\n",
      "5 : 40\n"
     ]
    }
   ],
   "source": [
    "for x in np.unique(df['clust']):\n",
    "    print(x + 1, ':', df.loc[df['clust']==x]['О себе'].shape[0])"
   ]
  },
  {
   "cell_type": "code",
   "execution_count": 962,
   "id": "7a0eba04-3017-4cf8-a056-a01277d39a3c",
   "metadata": {},
   "outputs": [
    {
     "name": "stdout",
     "output_type": "stream",
     "text": [
      "1 : DA, predicted\n",
      "0.0              1837\n",
      "1.0               198\n",
      "2.0                95\n",
      "dtype: int64\n",
      "2 : DA, predicted\n",
      "0.0              337\n",
      "1.0               15\n",
      "2.0                4\n",
      "dtype: int64\n",
      "3 : DA, predicted\n",
      "1.0              22\n",
      "0.0              15\n",
      "dtype: int64\n",
      "4 : DA, predicted\n",
      "0.0              131\n",
      "1.0               29\n",
      "2.0                2\n",
      "dtype: int64\n",
      "5 : DA, predicted\n",
      "0.0              36\n",
      "1.0               4\n",
      "dtype: int64\n"
     ]
    }
   ],
   "source": [
    "for x in np.unique(df['clust']):\n",
    "    print(x + 1, ':', df.loc[df['clust']==x, ['DA, predicted']].value_counts())"
   ]
  },
  {
   "cell_type": "code",
   "execution_count": 21,
   "id": "4efa64ef-074e-4ebf-a9d9-ad91efc3d6fe",
   "metadata": {},
   "outputs": [],
   "source": [
    "from nltk import FreqDist"
   ]
  },
  {
   "cell_type": "code",
   "execution_count": 944,
   "id": "6fa1b8fe-bcb7-4d52-9c5e-80172642589d",
   "metadata": {},
   "outputs": [
    {
     "name": "stdout",
     "output_type": "stream",
     "text": [
      "0 : [('настоящий время работать', 71), ('находиться поиск работа', 68), ('настоящий время заниматься', 59), ('данный момент работать', 52), ('гражданин россия проживать', 47), ('иметь опыт работа', 41), ('уверенный пользователь пк', 39), ('умение работать команда', 39), ('открыться вакантный должность', 34), ('аналитический склад ум', 32), ('опыт работа сфера', 32), ('проживать санкт петербург', 28), ('данный момент заниматься', 27), ('разработка программный обеспечение', 27), ('разработчик программный обеспечение', 26)]\n",
      "1 : []\n",
      "2 : [('данный момент работать', 37), ('находиться поиск работа', 34), ('поиск работа данный', 34), ('работа данный момент', 34), ('момент работать московский', 12), ('работать московский офис', 12), ('момент работать крупный', 9), ('момент работать сфера', 7), ('работать крупный россия', 6), ('работать сфера маркетинг', 4), ('сфера маркетинг реклама', 4), ('момент работать самый', 4), ('крупный россия банковский', 4), ('россия банковский холдинг', 4), ('маркетинг реклама продажа', 3)]\n",
      "3 : [('данный момент работать', 112), ('находиться поиск работа', 86), ('работа данный момент', 38), ('поиск работа данный', 34), ('момент работать крупный', 32), ('момент работать сфера', 26), ('поиск работа хотеть', 17), ('работать крупный россия', 16), ('работать сфера маркетинг', 13), ('сфера маркетинг реклама', 13), ('момент работать самый', 13), ('работа хотеть заполучить', 12), ('маркетинг реклама продажа', 12), ('момент работать компания', 11), ('поиск работа сфера', 11)]\n",
      "4 : [('президент россия владимир', 39), ('россия владимир путин', 39), ('встреча президент россия', 28), ('владимир путин пройти', 23), ('путин пройти накануне', 15), ('f f f', 15), ('санкт петербург встреча', 14), ('присутствие президент рф', 14), ('президент рф владимир', 14), ('рф владимир путин', 14), ('пройти накануне санкт', 13), ('накануне санкт петербург', 13), ('владимир путин премьер', 13), ('путин премьер министр', 13), ('встреча пройти присутствие', 12)]\n"
     ]
    }
   ],
   "source": [
    "for x in np.unique(df['clust']):\n",
    "    cluster_ind = df.loc[df['clust']==x]['О себе'].index\n",
    "    cluster_tokens = []\n",
    "\n",
    "    for i in cluster_ind:\n",
    "        if df2.loc[i, 'О себе 3'] != None:\n",
    "            cluster_tokens += df2.loc[i, 'О себе 3']\n",
    "\n",
    "    print(x, ':', FreqDist(cluster_tokens).most_common(15))"
   ]
  },
  {
   "cell_type": "code",
   "execution_count": null,
   "id": "e1a075b1-f039-41eb-97d5-5fe6e6fdef2d",
   "metadata": {},
   "outputs": [
    {
     "name": "stdout",
     "output_type": "stream",
     "text": [
      "f f f :"
     ]
    }
   ],
   "source": [
    "y = 'f f f'\n",
    "\n",
    "print(y, ':')\n",
    "search_results = st.get_star([text_to_num[y.split(' ')[0]], \n",
    "                    text_to_num[y.split(' ')[1]]])[:15]\n",
    "for x in search_results:\n",
    "    if len(x[0]) == 3:\n",
    "        print(num_to_text[x[0][0]], num_to_text[x[0][1]], num_to_text[x[0][2]])\n",
    "        \n",
    "print(y, ':')\n",
    "search_results = st.get_star([text_to_num[y.split(' ')[0]], \n",
    "                    text_to_num[y.split(' ')[2]]])[:15]\n",
    "for x in search_results:\n",
    "    if len(x[0]) == 3:\n",
    "        print(num_to_text[x[0][0]], num_to_text[x[0][1]], num_to_text[x[0][2]])\n",
    "\n",
    "print(y, ':')\n",
    "search_results = st.get_star([text_to_num[y.split(' ')[1]], \n",
    "                    text_to_num[y.split(' ')[2]]])[:15]\n",
    "for x in search_results:\n",
    "    if len(x[0]) == 3:\n",
    "        print(num_to_text[x[0][0]], num_to_text[x[0][1]], num_to_text[x[0][2]])"
   ]
  },
  {
   "cell_type": "code",
   "execution_count": 953,
   "id": "db370683-7aec-4492-b331-65f273abef74",
   "metadata": {},
   "outputs": [
    {
     "name": "stdout",
     "output_type": "stream",
     "text": [
      "0 :\n",
      " 0.0    1837\n",
      "1.0     198\n",
      "2.0      95\n",
      "Name: DA, predicted, dtype: int64\n",
      "1 :\n",
      " 0.0    337\n",
      "1.0     15\n",
      "2.0      4\n",
      "Name: DA, predicted, dtype: int64\n",
      "2 :\n",
      " 1.0    22\n",
      "0.0    15\n",
      "Name: DA, predicted, dtype: int64\n",
      "3 :\n",
      " 0.0    131\n",
      "1.0     29\n",
      "2.0      2\n",
      "Name: DA, predicted, dtype: int64\n",
      "4 :\n",
      " 0.0    36\n",
      "1.0     4\n",
      "Name: DA, predicted, dtype: int64\n"
     ]
    }
   ],
   "source": [
    "for x in np.unique(df['clust']):\n",
    "    print(x, ':\\n', df.loc[df['clust']==x]['DA, predicted'].value_counts())"
   ]
  },
  {
   "cell_type": "markdown",
   "id": "e9cfa514-fcc9-4b21-b021-311dbf536d56",
   "metadata": {},
   "source": [
    "Дополнительная информация о кластерах:"
   ]
  },
  {
   "cell_type": "code",
   "execution_count": 357,
   "id": "7f387ad9-81e7-45c8-9e63-0c5ffbbe5bca",
   "metadata": {
    "tags": []
   },
   "outputs": [
    {
     "name": "stdout",
     "output_type": "stream",
     "text": [
      "1    110\n",
      "2     68\n",
      "3     16\n",
      "4      2\n",
      "0      1\n",
      "7      1\n",
      "Name: Кол-во образований, dtype: int64\n",
      "count    198.000000\n",
      "mean       1.560606\n",
      "std        0.795842\n",
      "min        0.000000\n",
      "25%        1.000000\n",
      "50%        1.000000\n",
      "75%        2.000000\n",
      "max        7.000000\n",
      "Name: Кол-во образований, dtype: float64\n",
      "-1.000000     5\n",
      " 9.250000     3\n",
      " 11.250000    3\n",
      " 3.333333     3\n",
      " 2.500000     3\n",
      "             ..\n",
      " 11.583333    1\n",
      " 8.250000     1\n",
      " 10.250000    1\n",
      " 25.083333    1\n",
      " 15.833333    1\n",
      "Name: Опыт нормализованный, Length: 136, dtype: int64\n",
      "count    198.000000\n",
      "mean       9.264731\n",
      "std        7.305132\n",
      "min       -1.000000\n",
      "25%        3.416667\n",
      "50%        7.375000\n",
      "75%       13.104167\n",
      "max       42.416667\n",
      "Name: Опыт нормализованный, dtype: float64\n",
      "0    171\n",
      "1     27\n",
      "Name: Топовость образования, dtype: int64\n",
      "count    198.000000\n",
      "mean       0.136364\n",
      "std        0.344044\n",
      "min        0.000000\n",
      "25%        0.000000\n",
      "50%        0.000000\n",
      "75%        0.000000\n",
      "max        1.000000\n",
      "Name: Топовость образования, dtype: float64\n",
      "1    111\n",
      "0     87\n",
      "Name: Справочник по интересам, dtype: int64\n",
      "count    198.000000\n",
      "mean       0.560606\n",
      "std        0.497571\n",
      "min        0.000000\n",
      "25%        0.000000\n",
      "50%        1.000000\n",
      "75%        1.000000\n",
      "max        1.000000\n",
      "Name: Справочник по интересам, dtype: float64\n",
      "0    85\n",
      "4    33\n",
      "1    27\n",
      "2    20\n",
      "5    18\n",
      "3    15\n",
      "Name: Релокация?, dtype: int64\n",
      "count    198.000000\n",
      "mean       1.686869\n",
      "std        1.825630\n",
      "min        0.000000\n",
      "25%        0.000000\n",
      "50%        1.000000\n",
      "75%        4.000000\n",
      "max        5.000000\n",
      "Name: Релокация?, dtype: float64\n",
      "2    74\n",
      "0    71\n",
      "3    35\n",
      "1    18\n",
      "Name: Коммандировка?, dtype: int64\n",
      "count    198.000000\n",
      "mean       1.368687\n",
      "std        1.144587\n",
      "min        0.000000\n",
      "25%        0.000000\n",
      "50%        2.000000\n",
      "75%        2.000000\n",
      "max        3.000000\n",
      "Name: Коммандировка?, dtype: float64\n",
      "39    187\n",
      "66      3\n",
      "21      1\n",
      "23      1\n",
      "57      1\n",
      "58      1\n",
      "76      1\n",
      "78      1\n",
      "84      1\n",
      "93      1\n",
      "Name: Город?, dtype: int64\n",
      "count    198.000000\n",
      "mean      40.308081\n",
      "std        7.453479\n",
      "min       21.000000\n",
      "25%       39.000000\n",
      "50%       39.000000\n",
      "75%       39.000000\n",
      "max       93.000000\n",
      "Name: Город?, dtype: float64\n",
      "1    108\n",
      "4     37\n",
      "0     23\n",
      "5     13\n",
      "8     11\n",
      "3      4\n",
      "6      1\n",
      "7      1\n",
      "Name: Уровень оборазования нормализованный, dtype: int64\n",
      "count    198.000000\n",
      "mean       2.191919\n",
      "std        2.135876\n",
      "min        0.000000\n",
      "25%        1.000000\n",
      "50%        1.000000\n",
      "75%        4.000000\n",
      "max        8.000000\n",
      "Name: Уровень оборазования нормализованный, dtype: float64\n",
      "0    144\n",
      "1     54\n",
      "Name: Карьерный рост, dtype: int64\n",
      "count    198.000000\n",
      "mean       0.272727\n",
      "std        0.446491\n",
      "min        0.000000\n",
      "25%        0.000000\n",
      "50%        0.000000\n",
      "75%        1.000000\n",
      "max        1.000000\n",
      "Name: Карьерный рост, dtype: float64\n",
      "0    100\n",
      "1     98\n",
      "Name: Аналитические комбинации слов в навыках, dtype: int64\n",
      "count    198.000000\n",
      "mean       0.494949\n",
      "std        0.501242\n",
      "min        0.000000\n",
      "25%        0.000000\n",
      "50%        0.000000\n",
      "75%        1.000000\n",
      "max        1.000000\n",
      "Name: Аналитические комбинации слов в навыках, dtype: float64\n"
     ]
    }
   ],
   "source": [
    "for col in ['Кол-во образований', 'Опыт нормализованный','Топовость образования', 'Справочник по интересам', 'Релокация?', 'Коммандировка?', 'Город?', 'Уровень оборазования нормализованный', 'Карьерный рост', 'Аналитические комбинации слов в навыках']:\n",
    "    print(df.loc[(df['clust']==0) & (df['DA, predicted']==1)][col].value_counts())\n",
    "    print(df.loc[(df['clust']==0) & (df['DA, predicted']==1)][col].describe())"
   ]
  },
  {
   "cell_type": "code",
   "execution_count": 358,
   "id": "97dbe027-4439-42d5-bf14-8fc2ba7cbe06",
   "metadata": {
    "tags": []
   },
   "outputs": [
    {
     "name": "stdout",
     "output_type": "stream",
     "text": [
      "1    46\n",
      "2    33\n",
      "3    12\n",
      "4     2\n",
      "0     1\n",
      "5     1\n",
      "Name: Кол-во образований, dtype: int64\n",
      "count    95.000000\n",
      "mean      1.694737\n",
      "std       0.863857\n",
      "min       0.000000\n",
      "25%       1.000000\n",
      "50%       2.000000\n",
      "75%       2.000000\n",
      "max       5.000000\n",
      "Name: Кол-во образований, dtype: float64\n",
      "-1.000000     4\n",
      " 6.333333     3\n",
      " 1.333333     3\n",
      " 2.333333     2\n",
      " 3.333333     2\n",
      "             ..\n",
      " 2.666667     1\n",
      " 5.250000     1\n",
      " 22.500000    1\n",
      " 23.583333    1\n",
      " 4.833333     1\n",
      "Name: Опыт нормализованный, Length: 73, dtype: int64\n",
      "count    95.000000\n",
      "mean      7.929825\n",
      "std       7.742698\n",
      "min      -1.000000\n",
      "25%       2.333333\n",
      "50%       5.333333\n",
      "75%      12.625000\n",
      "max      31.916667\n",
      "Name: Опыт нормализованный, dtype: float64\n",
      "0    83\n",
      "1    12\n",
      "Name: Топовость образования, dtype: int64\n",
      "count    95.000000\n",
      "mean      0.126316\n",
      "std       0.333967\n",
      "min       0.000000\n",
      "25%       0.000000\n",
      "50%       0.000000\n",
      "75%       0.000000\n",
      "max       1.000000\n",
      "Name: Топовость образования, dtype: float64\n",
      "1    56\n",
      "0    39\n",
      "Name: Справочник по интересам, dtype: int64\n",
      "count    95.000000\n",
      "mean      0.589474\n",
      "std       0.494539\n",
      "min       0.000000\n",
      "25%       0.000000\n",
      "50%       1.000000\n",
      "75%       1.000000\n",
      "max       1.000000\n",
      "Name: Справочник по интересам, dtype: float64\n",
      "0    41\n",
      "1    16\n",
      "4    15\n",
      "2    10\n",
      "5    10\n",
      "3     3\n",
      "Name: Релокация?, dtype: int64\n",
      "count    95.000000\n",
      "mean      1.631579\n",
      "std       1.845366\n",
      "min       0.000000\n",
      "25%       0.000000\n",
      "50%       1.000000\n",
      "75%       4.000000\n",
      "max       5.000000\n",
      "Name: Релокация?, dtype: float64\n",
      "0    36\n",
      "2    36\n",
      "3    16\n",
      "1     7\n",
      "Name: Коммандировка?, dtype: int64\n",
      "count    95.000000\n",
      "mean      1.336842\n",
      "std       1.154183\n",
      "min       0.000000\n",
      "25%       0.000000\n",
      "50%       2.000000\n",
      "75%       2.000000\n",
      "max       3.000000\n",
      "Name: Коммандировка?, dtype: float64\n",
      "39    85\n",
      "66     2\n",
      "14     1\n",
      "22     1\n",
      "24     1\n",
      "29     1\n",
      "35     1\n",
      "56     1\n",
      "59     1\n",
      "77     1\n",
      "Name: Город?, dtype: int64\n",
      "count    95.000000\n",
      "mean     39.610526\n",
      "std       7.153774\n",
      "min      14.000000\n",
      "25%      39.000000\n",
      "50%      39.000000\n",
      "75%      39.000000\n",
      "max      77.000000\n",
      "Name: Город?, dtype: float64\n",
      "1    29\n",
      "5    20\n",
      "4    18\n",
      "0    16\n",
      "8     7\n",
      "3     4\n",
      "6     1\n",
      "Name: Уровень оборазования нормализованный, dtype: int64\n",
      "count    95.000000\n",
      "mean      2.894737\n",
      "std       2.398908\n",
      "min       0.000000\n",
      "25%       1.000000\n",
      "50%       3.000000\n",
      "75%       5.000000\n",
      "max       8.000000\n",
      "Name: Уровень оборазования нормализованный, dtype: float64\n",
      "0    80\n",
      "1    15\n",
      "Name: Карьерный рост, dtype: int64\n",
      "count    95.000000\n",
      "mean      0.157895\n",
      "std       0.366577\n",
      "min       0.000000\n",
      "25%       0.000000\n",
      "50%       0.000000\n",
      "75%       0.000000\n",
      "max       1.000000\n",
      "Name: Карьерный рост, dtype: float64\n",
      "1    49\n",
      "0    46\n",
      "Name: Аналитические комбинации слов в навыках, dtype: int64\n",
      "count    95.000000\n",
      "mean      0.515789\n",
      "std       0.502402\n",
      "min       0.000000\n",
      "25%       0.000000\n",
      "50%       1.000000\n",
      "75%       1.000000\n",
      "max       1.000000\n",
      "Name: Аналитические комбинации слов в навыках, dtype: float64\n"
     ]
    }
   ],
   "source": [
    "for col in ['Кол-во образований', 'Опыт нормализованный','Топовость образования', 'Справочник по интересам', 'Релокация?', 'Коммандировка?', 'Город?', 'Уровень оборазования нормализованный', 'Карьерный рост', 'Аналитические комбинации слов в навыках']:\n",
    "    print(df.loc[(df['clust']==0) & (df['DA, predicted']==2)][col].value_counts())\n",
    "    print(df.loc[(df['clust']==0) & (df['DA, predicted']==2)][col].describe())"
   ]
  },
  {
   "cell_type": "markdown",
   "id": "a388e7b0-62bd-40f7-9cb7-59119903eacb",
   "metadata": {},
   "source": [
    "**Формализация качества решения**"
   ]
  },
  {
   "cell_type": "markdown",
   "id": "efb35d28-0d98-4279-8778-dec20276fca6",
   "metadata": {},
   "source": [
    "Формализуем, что такое хорошее решение задачи. Кластеризация: silhouette score, классификация: $F_1$, сегментация: средний word2vec среди 15 наиболеее поаулярных слов в кластере. "
   ]
  },
  {
   "cell_type": "markdown",
   "id": "760527e8-5f91-4b0c-841f-0866e689dc45",
   "metadata": {},
   "source": [
    "Обучим отдельный word2vec на словах `df2['О себе, summarized']`, чтобы сравнить:"
   ]
  },
  {
   "cell_type": "code",
   "execution_count": 191,
   "id": "e9188b87-85dd-4dd9-9c03-8d59fe19de3d",
   "metadata": {},
   "outputs": [],
   "source": [
    "word2vec_2 = 0"
   ]
  },
  {
   "cell_type": "code",
   "execution_count": 192,
   "id": "3b877ba7-50ec-4594-a88f-7e2035d76c94",
   "metadata": {},
   "outputs": [],
   "source": [
    "df_formalize = df.copy()"
   ]
  },
  {
   "cell_type": "markdown",
   "id": "681d7e2e-6e5e-4eb0-b791-8c33182953b2",
   "metadata": {},
   "source": [
    "Избавимся от пропусков, чтобы не было проблем с применением метода:"
   ]
  },
  {
   "cell_type": "code",
   "execution_count": 193,
   "id": "d1f86d27-e6ff-41b6-bad3-5e2bf7214638",
   "metadata": {},
   "outputs": [],
   "source": [
    "df2.loc[df2['О себе, summarized'].isna(), 'О себе, summarized'] = '-'"
   ]
  },
  {
   "cell_type": "code",
   "execution_count": 194,
   "id": "b1bfb82e-72b7-4e51-8a39-a6650f83e68a",
   "metadata": {},
   "outputs": [
    {
     "data": {
      "text/plain": [
       "Series([], Name: О себе, summarized, dtype: object)"
      ]
     },
     "execution_count": 194,
     "metadata": {},
     "output_type": "execute_result"
    }
   ],
   "source": [
    "df2[df2['О себе, summarized'].isna()]['О себе, summarized']"
   ]
  },
  {
   "cell_type": "markdown",
   "id": "54329927-6204-49f4-81b0-fbc683a096e9",
   "metadata": {},
   "source": [
    "Обучим модель:"
   ]
  },
  {
   "cell_type": "code",
   "execution_count": 196,
   "id": "26c51cdf-ac5c-4cf2-b215-b67ef11e57bd",
   "metadata": {},
   "outputs": [],
   "source": [
    "from gensim.test.utils import common_texts\n",
    "from gensim.models import Word2Vec"
   ]
  },
  {
   "cell_type": "code",
   "execution_count": 197,
   "id": "02670982-8475-4cf0-afdb-8e90bd2356ba",
   "metadata": {},
   "outputs": [],
   "source": [
    "model2 = Word2Vec(sentences=df2['О себе, summarized'], vector_size=100, window=5, min_count=1, workers=4)\n",
    "# model.save(\"word2vec.model\")"
   ]
  },
  {
   "cell_type": "code",
   "execution_count": 198,
   "id": "a61de4d6-6de4-4e3f-8f45-c2d56963d7b5",
   "metadata": {},
   "outputs": [
    {
     "data": {
      "text/plain": [
       "(42214, 46918)"
      ]
     },
     "execution_count": 198,
     "metadata": {},
     "output_type": "execute_result"
    }
   ],
   "source": [
    "model2.train(df2['О себе, summarized'], total_examples=len(df2['О себе, summarized']), epochs=1)"
   ]
  },
  {
   "cell_type": "markdown",
   "id": "20326db7-5466-47db-bf62-d0a3292c183f",
   "metadata": {},
   "source": [
    "Посмотрим, что получилось, на примере:"
   ]
  },
  {
   "cell_type": "code",
   "execution_count": 201,
   "id": "649c6dd7-a4ee-4775-8ad4-eda31ca3fea8",
   "metadata": {},
   "outputs": [],
   "source": [
    "vector = model2.wv['подход']  # get numpy vector of a word\n",
    "sims = model2.wv.most_similar('подход', topn=10)  # get other similar words"
   ]
  },
  {
   "cell_type": "code",
   "execution_count": 202,
   "id": "d2bad971-4373-4d83-9161-641b4168eb33",
   "metadata": {},
   "outputs": [
    {
     "data": {
      "text/plain": [
       "array([-0.19693287,  0.23970526,  0.00191992,  0.0268054 ,  0.11340711,\n",
       "       -0.44597515,  0.13188286,  0.6573758 , -0.13976535, -0.07357504,\n",
       "       -0.15376855, -0.32503912, -0.13306424,  0.21024442,  0.09590898,\n",
       "       -0.19631457,  0.09530957, -0.23938283, -0.01206137, -0.4596275 ,\n",
       "        0.09497388,  0.1627233 ,  0.00154596, -0.25499317, -0.01978723,\n",
       "        0.01198395, -0.12584282, -0.12976594, -0.23025885, -0.03504842,\n",
       "        0.2823933 , -0.05442722,  0.11444207, -0.09662499, -0.21420127,\n",
       "        0.29625675,  0.07440826, -0.37658733, -0.1310264 , -0.46504563,\n",
       "       -0.08621243, -0.25888065, -0.0163994 , -0.042024  ,  0.2538652 ,\n",
       "        0.06709417, -0.22566976, -0.11254929,  0.0467411 ,  0.165953  ,\n",
       "        0.07697635, -0.1485228 , -0.18773845,  0.0316276 , -0.17030115,\n",
       "        0.18307208,  0.11689176, -0.09968792, -0.28781387,  0.04503743,\n",
       "        0.06582955,  0.13445692,  0.00651411, -0.01636244, -0.32768303,\n",
       "        0.29192775,  0.03742402,  0.07623387, -0.3116488 ,  0.4424032 ,\n",
       "       -0.14566948,  0.09477273,  0.27748492, -0.09913716,  0.28193963,\n",
       "        0.02784508,  0.05400664, -0.02653906, -0.3348819 ,  0.1552487 ,\n",
       "       -0.01027141,  0.01220626, -0.21194673,  0.4630284 , -0.03337736,\n",
       "        0.01107629, -0.07948136,  0.32947466,  0.3107434 ,  0.13815111,\n",
       "        0.15249121,  0.12543748,  0.06583203,  0.07181217,  0.3622823 ,\n",
       "        0.26468185,  0.19231273, -0.25182116,  0.15576139,  0.07828216],\n",
       "      dtype=float32)"
      ]
     },
     "execution_count": 202,
     "metadata": {},
     "output_type": "execute_result"
    }
   ],
   "source": [
    "vector"
   ]
  },
  {
   "cell_type": "code",
   "execution_count": 203,
   "id": "746bd78f-1cba-4204-a007-750b1c8e6959",
   "metadata": {},
   "outputs": [
    {
     "data": {
      "text/plain": [
       "[('решение', 0.9993782043457031),\n",
       " ('быстро', 0.9992536306381226),\n",
       " ('задача', 0.9991648197174072),\n",
       " ('переговоры', 0.9991605877876282),\n",
       " ('профессиональный', 0.9990921020507812),\n",
       " ('моделирование', 0.9990764260292053),\n",
       " ('эффективный', 0.9990240931510925),\n",
       " ('план', 0.9990000128746033),\n",
       " ('•', 0.9989727735519409),\n",
       " ('составление', 0.9989621043205261)]"
      ]
     },
     "execution_count": 203,
     "metadata": {},
     "output_type": "execute_result"
    }
   ],
   "source": [
    "sims"
   ]
  },
  {
   "cell_type": "markdown",
   "id": "1e2bccd5-08a8-45de-9c23-a851f942a9be",
   "metadata": {},
   "source": [
    "Вектор построен корректно, похожие триграммы подобраны неплохо с точки зрения соответствия смыслу."
   ]
  },
  {
   "cell_type": "markdown",
   "id": "c90b3e54-cd4a-41c7-90b7-f0887d5c0540",
   "metadata": {},
   "source": [
    "Итак, мы построили эмбеддинги. Теперь создадим табличку, где каждому резюме будет соответстовать вектор из среднего координат входящих в раздел \"О себе\" триграмм."
   ]
  },
  {
   "cell_type": "code",
   "execution_count": 204,
   "id": "cb3b808a-d6ac-4c99-a968-3a61f3f2f66a",
   "metadata": {
    "tags": []
   },
   "outputs": [],
   "source": [
    "our_data2 = pd.DataFrame(df2['О себе, summarized'])\n",
    "our_data2['emb'] = 0\n",
    "embs = []\n",
    "for x in our_data2['О себе, summarized']:\n",
    "    cur_embs = []\n",
    "    for y in x:\n",
    "        cur_embs.append(model2.wv[y])\n",
    "    embs.append(cur_embs)\n",
    "our_data2['emb'] = embs\n",
    "\n",
    "embs_flattened = []\n",
    "for x in our_data2['emb']:\n",
    "    x_flat = np.array(x[0])\n",
    "    for z in x[1:]:\n",
    "        x_flat += np.array(z)\n",
    "    embs_flattened.append(x_flat / len(x))\n",
    "our_data2['flat_emb'] = embs_flattened"
   ]
  },
  {
   "cell_type": "markdown",
   "id": "2dac8b69-b652-4fb4-b74e-34f4b6846601",
   "metadata": {},
   "source": [
    "Посмотрим, получилось ли:"
   ]
  },
  {
   "cell_type": "code",
   "execution_count": 206,
   "id": "fa7f4a3b-9018-4ed4-8b08-327484506e36",
   "metadata": {
    "tags": []
   },
   "outputs": [
    {
     "data": {
      "text/plain": [
       "array([-0.22204722,  0.27422416, -0.01886588,  0.01507901,  0.11897265,\n",
       "       -0.55089194,  0.15420581,  0.7819085 , -0.14974162, -0.16006833,\n",
       "       -0.14377561, -0.39234704, -0.18844458,  0.2433441 ,  0.1194774 ,\n",
       "       -0.23299846,  0.07301585, -0.28197914,  0.00079411, -0.5701564 ,\n",
       "        0.07008892,  0.2130409 ,  0.04485572, -0.34513903, -0.01892565,\n",
       "       -0.03938448, -0.13201377, -0.15065545, -0.27933112, -0.02923884,\n",
       "        0.33381674, -0.07913691,  0.14145729, -0.12044895, -0.26744732,\n",
       "        0.3154427 ,  0.04029484, -0.49790308, -0.15723972, -0.5510567 ,\n",
       "       -0.09833698, -0.3213486 , -0.04051634, -0.06166724,  0.3134287 ,\n",
       "        0.07600106, -0.26040444, -0.12326333,  0.05535094,  0.22665617,\n",
       "        0.09534897, -0.18003328, -0.22219923,  0.04644439, -0.19273645,\n",
       "        0.22228241,  0.1825238 , -0.10380503, -0.33755198,  0.07871128,\n",
       "        0.07883327,  0.17562689,  0.00284466, -0.03118394, -0.4072135 ,\n",
       "        0.35206234,  0.03782948,  0.12349809, -0.3949067 ,  0.4860396 ,\n",
       "       -0.16413376,  0.08406429,  0.378948  , -0.09358562,  0.3440772 ,\n",
       "       -0.00517238,  0.03122557, -0.08131382, -0.44038266,  0.18046899,\n",
       "       -0.04498173, -0.00926655, -0.27916148,  0.60789037, -0.02112604,\n",
       "        0.00822158, -0.08363691,  0.40282124,  0.37948728,  0.19775957,\n",
       "        0.17594542,  0.16709188,  0.09247594,  0.0962284 ,  0.4452793 ,\n",
       "        0.36106238,  0.2358909 , -0.28522816,  0.20570731,  0.07442545],\n",
       "      dtype=float32)"
      ]
     },
     "execution_count": 206,
     "metadata": {},
     "output_type": "execute_result"
    }
   ],
   "source": [
    "our_data2['flat_emb'][0]"
   ]
  },
  {
   "cell_type": "markdown",
   "id": "0eb01fec-2cad-4ed6-b11b-4e48cfe7fe8d",
   "metadata": {},
   "source": [
    "Действительно, получился вектор из $\\mathbb{R}^{100}$, где $i$-я координата — среднее $i$-х координат эмбеддингов входящих в текст эмбеддингов."
   ]
  },
  {
   "cell_type": "markdown",
   "id": "5d1f3ddc-99c1-4633-8342-1d201e338da4",
   "metadata": {},
   "source": [
    "Уберем пропуски и запишем в `X` наши векторы:"
   ]
  },
  {
   "cell_type": "code",
   "execution_count": 207,
   "id": "3c3d432f-8925-435b-8ca1-a2d9ec8631c6",
   "metadata": {},
   "outputs": [
    {
     "data": {
      "text/plain": [
       "array([[-0.22204722,  0.27422416, -0.01886588, ..., -0.28522816,\n",
       "         0.20570731,  0.07442545],\n",
       "       [-0.20841801,  0.2507909 ,  0.01454645, ..., -0.23935916,\n",
       "         0.13158953,  0.07569362],\n",
       "       [-0.28812125,  0.37561652,  0.00760662, ..., -0.3490448 ,\n",
       "         0.22233666,  0.11124529],\n",
       "       ...,\n",
       "       [-0.14205875,  0.18455657,  0.00635898, ..., -0.17212293,\n",
       "         0.11395276,  0.05590791],\n",
       "       [ 0.00816812, -0.00444303,  0.00898543, ..., -0.00453567,\n",
       "         0.00406171, -0.00427018],\n",
       "       [ 0.00816812, -0.00444303,  0.00898543, ..., -0.00453567,\n",
       "         0.00406171, -0.00427018]], dtype=float32)"
      ]
     },
     "execution_count": 207,
     "metadata": {},
     "output_type": "execute_result"
    }
   ],
   "source": [
    "our_data2['flat_emb'].dropna()\n",
    "X2 = list(our_data2['flat_emb'].dropna())\n",
    "X2 = np.asarray(X2)\n",
    "X2"
   ]
  },
  {
   "cell_type": "code",
   "execution_count": 214,
   "id": "574e2b3e-e967-43ac-b463-2be7215c882d",
   "metadata": {},
   "outputs": [],
   "source": [
    "df_formalize.loc[:, list(df_formalize)[37:-3]] = X2"
   ]
  },
  {
   "cell_type": "code",
   "execution_count": 215,
   "id": "fe6874c2-c584-4e7b-91d2-32c985ec6727",
   "metadata": {},
   "outputs": [],
   "source": [
    "scaler = StandardScaler()\n",
    "x = scaler.fit_transform(df_formalize.loc[:, list(df_formalize)[37:-3] + ['Кол-во образований', 'Опыт нормализованный','Топовость образования', 'Справочник по интересам', 'Релокация?', 'Коммандировка?', 'Город?', 'Уровень оборазования нормализованный', 'Карьерный рост', 'Аналитические комбинации слов в навыках']])"
   ]
  },
  {
   "cell_type": "code",
   "execution_count": 216,
   "id": "2bc6baba-88cb-4a60-9d7f-d85c27ff58dd",
   "metadata": {},
   "outputs": [],
   "source": [
    "pca = PCA(n_components=3)\n",
    "principalComponents = pca.fit_transform(x)\n",
    "principal = pd.DataFrame(data = principalComponents\n",
    "             , columns = ['principal component 1', 'principal component 2','principal component 3'])"
   ]
  },
  {
   "cell_type": "markdown",
   "id": "31ee1ae5-b82f-4bf7-a7f6-cc34b11191bf",
   "metadata": {},
   "source": [
    "Посмотрим, сколько информации сохраняют первые две главные компоненты:"
   ]
  },
  {
   "cell_type": "code",
   "execution_count": 217,
   "id": "283e9b97-a7c6-4068-b344-5db1165b9ffd",
   "metadata": {},
   "outputs": [
    {
     "data": {
      "text/plain": [
       "0.800704966302124"
      ]
     },
     "execution_count": 217,
     "metadata": {},
     "output_type": "execute_result"
    }
   ],
   "source": [
    "pca.explained_variance_ratio_[:2].sum()"
   ]
  },
  {
   "cell_type": "code",
   "execution_count": 218,
   "id": "29ae26c0-d2ae-4e65-a109-590c1f0bc7f0",
   "metadata": {},
   "outputs": [
    {
     "data": {
      "text/html": [
       "<div>\n",
       "<style scoped>\n",
       "    .dataframe tbody tr th:only-of-type {\n",
       "        vertical-align: middle;\n",
       "    }\n",
       "\n",
       "    .dataframe tbody tr th {\n",
       "        vertical-align: top;\n",
       "    }\n",
       "\n",
       "    .dataframe thead th {\n",
       "        text-align: right;\n",
       "    }\n",
       "</style>\n",
       "<table border=\"1\" class=\"dataframe\">\n",
       "  <thead>\n",
       "    <tr style=\"text-align: right;\">\n",
       "      <th></th>\n",
       "      <th>principal component 1</th>\n",
       "      <th>principal component 2</th>\n",
       "      <th>principal component 3</th>\n",
       "    </tr>\n",
       "  </thead>\n",
       "  <tbody>\n",
       "    <tr>\n",
       "      <th>833</th>\n",
       "      <td>-6.183111</td>\n",
       "      <td>0.938762</td>\n",
       "      <td>0.000404</td>\n",
       "    </tr>\n",
       "    <tr>\n",
       "      <th>1967</th>\n",
       "      <td>-4.042190</td>\n",
       "      <td>1.805496</td>\n",
       "      <td>-0.765167</td>\n",
       "    </tr>\n",
       "  </tbody>\n",
       "</table>\n",
       "</div>"
      ],
      "text/plain": [
       "      principal component 1  principal component 2  principal component 3\n",
       "833               -6.183111               0.938762               0.000404\n",
       "1967              -4.042190               1.805496              -0.765167"
      ]
     },
     "execution_count": 218,
     "metadata": {},
     "output_type": "execute_result"
    }
   ],
   "source": [
    "principal.sample(2)"
   ]
  },
  {
   "cell_type": "code",
   "execution_count": 219,
   "id": "d7ece4f7-38e4-4b1d-99d8-3eb7c0bb4ae6",
   "metadata": {},
   "outputs": [
    {
     "name": "stderr",
     "output_type": "stream",
     "text": [
      "/Users/vladkopchev/miniconda3/lib/python3.9/site-packages/seaborn/_decorators.py:36: FutureWarning: Pass the following variables as keyword args: x, y. From version 0.12, the only valid positional argument will be `data`, and passing other arguments without an explicit keyword will result in an error or misinterpretation.\n",
      "  warnings.warn(\n"
     ]
    },
    {
     "data": {
      "text/plain": [
       "<AxesSubplot:xlabel='principal component 1', ylabel='principal component 2'>"
      ]
     },
     "execution_count": 219,
     "metadata": {},
     "output_type": "execute_result"
    },
    {
     "data": {
      "image/png": "[encoded data removed]",
      "text/plain": [
       "<Figure size 640x480 with 1 Axes>"
      ]
     },
     "metadata": {},
     "output_type": "display_data"
    }
   ],
   "source": [
    "sns.scatterplot(principal['principal component 1'], principal['principal component 2'])"
   ]
  },
  {
   "cell_type": "markdown",
   "id": "83ce0fcc-79d7-4ef0-bab4-63934989ed42",
   "metadata": {},
   "source": [
    "Теперь обучаем PCA+KMeans"
   ]
  },
  {
   "cell_type": "markdown",
   "id": "0a8cf02f-280a-4944-bc2a-38d20dfdadcf",
   "metadata": {},
   "source": [
    "Применим elbow method:"
   ]
  },
  {
   "cell_type": "code",
   "execution_count": 855,
   "id": "dd200abf-048b-4e3d-8c61-6668bc6d6766",
   "metadata": {},
   "outputs": [
    {
     "data": {
      "image/png": "[encoded data removed]",
      "text/plain": [
       "<Figure size 640x480 with 1 Axes>"
      ]
     },
     "metadata": {},
     "output_type": "display_data"
    }
   ],
   "source": [
    "import pandas as pd\n",
    "from sklearn.datasets import load_iris\n",
    "from sklearn.cluster import KMeans\n",
    "import matplotlib.pyplot as plt\n",
    "\n",
    "data = principal\n",
    "\n",
    "sse = {}\n",
    "for k in range(1, 10):\n",
    "    kmeans = KMeans(n_clusters=k, max_iter=1000).fit(data)\n",
    "    data[\"clusters\"] = kmeans.labels_\n",
    "    #print(data[\"clusters\"])\n",
    "    sse[k] = kmeans.inertia_ # Inertia: Sum of distances of samples to their closest cluster center\n",
    "plt.figure()\n",
    "plt.plot(list(sse.keys()), list(sse.values()))\n",
    "plt.xlabel(\"Number of cluster\")\n",
    "plt.ylabel(\"SSE\")\n",
    "plt.show()"
   ]
  },
  {
   "cell_type": "markdown",
   "id": "2efcadd9-879e-409c-8d10-afd257673d3a",
   "metadata": {},
   "source": [
    "Выберем число кластеров 8 (по графику elbow method такое число уже неприемлемо, при этом при нем метрика лучше)."
   ]
  },
  {
   "cell_type": "code",
   "execution_count": 220,
   "id": "5368e02c-8aac-4dc5-abae-57c613d11a2c",
   "metadata": {},
   "outputs": [],
   "source": [
    "from sklearn import metrics"
   ]
  },
  {
   "cell_type": "code",
   "execution_count": 222,
   "id": "703f8b13-48d8-4083-b535-573b72cc0d7c",
   "metadata": {},
   "outputs": [
    {
     "name": "stdout",
     "output_type": "stream",
     "text": [
      "2 :\n",
      "0.5530588842851664 0.46839435731044166\n",
      "3265.069633904119 2451.1573606915927\n",
      "0.5856872024088301 0.7167369110520388\n",
      "3 :\n",
      "0.44652284591644925 0.33250901075911216\n",
      "3329.3171758300946 2192.502933672829\n",
      "0.8127298324737527 1.1021427103529517\n",
      "4 :\n",
      "0.4130102386175595 0.2839562830049225\n",
      "3145.429641710783 1886.936156433963\n",
      "0.8764419467298601 1.2392413008484833\n",
      "5 :\n",
      "0.4331219422523996 0.2958412287576588\n",
      "3337.9524180674284 1780.313513074827\n",
      "0.7425875883078127 1.0721328677389892\n",
      "6 :\n",
      "0.40868641107658105 0.25924118803136786\n",
      "3322.147269908081 1621.7456256723162\n",
      "0.7940553686841332 1.2374297210487004\n",
      "7 :\n",
      "0.41326739762194925 0.2612165339394844\n",
      "3344.4193893224133 1521.8202151891364\n",
      "0.8064476081735678 1.2454242778521858\n",
      "8 :\n",
      "0.40339468143394447 0.23580888747623124\n",
      "3351.6097915704195 1408.4892372702564\n",
      "0.8086726447660245 1.3342149303297364\n",
      "9 :\n",
      "0.40538902293286494 0.23147268923505682\n",
      "3330.439871207539 1334.092651592171\n",
      "0.7922372482377267 1.3205030715535326\n"
     ]
    }
   ],
   "source": [
    "for k in range(2, 10):\n",
    "    print(k, ':')\n",
    "    kmeans = KMeans(n_clusters=k).fit(principal)\n",
    "    l = kmeans.labels_\n",
    "    print(metrics.silhouette_score(principal,l), metrics.silhouette_score(x,l))\n",
    "    print(metrics.calinski_harabasz_score(principal,l), metrics.calinski_harabasz_score(x,l))\n",
    "    print(metrics.davies_bouldin_score(principal,l), metrics.davies_bouldin_score(x,l))"
   ]
  },
  {
   "cell_type": "code",
   "execution_count": 223,
   "id": "17a18667-b5d2-4272-9989-e1a744aa93e6",
   "metadata": {},
   "outputs": [],
   "source": [
    "kmeans = KMeans(n_clusters=2).fit(principal)\n",
    "l = kmeans.labels_"
   ]
  },
  {
   "cell_type": "code",
   "execution_count": 224,
   "id": "683b4889-2257-4db3-a078-edae16bd728f",
   "metadata": {},
   "outputs": [
    {
     "data": {
      "text/plain": [
       "<matplotlib.collections.PathCollection at 0x7faf31787be0>"
      ]
     },
     "execution_count": 224,
     "metadata": {},
     "output_type": "execute_result"
    },
    {
     "data": {
      "image/png": "[encoded data removed]",
      "text/plain": [
       "<Figure size 640x480 with 1 Axes>"
      ]
     },
     "metadata": {},
     "output_type": "display_data"
    }
   ],
   "source": [
    "plt.scatter(principal['principal component 1'], \n",
    "             principal['principal component 2'],\n",
    "             c=l,\n",
    "           )"
   ]
  },
  {
   "cell_type": "markdown",
   "id": "497a75a8-c225-4fbb-bd9b-a39b5787a7dc",
   "metadata": {},
   "source": [
    "Качество существенно хуже!"
   ]
  },
  {
   "cell_type": "code",
   "execution_count": 228,
   "id": "cdca9a4c-856c-4b8f-9e49-5817225fb4e6",
   "metadata": {},
   "outputs": [],
   "source": [
    "df_formalize['clust'] = l"
   ]
  },
  {
   "cell_type": "markdown",
   "id": "c410b4e5-51dc-4433-99f5-fa214cfe8e82",
   "metadata": {},
   "source": [
    "Не будем смотреть, поскольку кластер плохой:"
   ]
  },
  {
   "cell_type": "code",
   "execution_count": 239,
   "id": "754f9ee9-ee84-402c-960f-e2f93c523871",
   "metadata": {},
   "outputs": [
    {
     "name": "stdout",
     "output_type": "stream",
     "text": [
      "[('-', 356), ('and', 36), ('of', 20), ('врач', 19), ('in', 18), ('российский', 16), ('россия', 15), ('год', 14), ('to', 14), ('хобби', 14)]\n"
     ]
    }
   ],
   "source": [
    "cluster_ind = df_formalize.loc[(df_formalize['clust']==1)]['О себе'].index\n",
    "cluster_tokens = []\n",
    "\n",
    "for i in cluster_ind:\n",
    "    if df2.loc[i, 'О себе, summarized'] != None:\n",
    "        cluster_tokens += df2.loc[i, 'О себе, summarized']\n",
    "\n",
    "print(FreqDist(cluster_tokens).most_common(10))"
   ]
  },
  {
   "cell_type": "markdown",
   "id": "971e5d81-1378-46a5-9c2a-a5313b75e9fb",
   "metadata": {},
   "source": [
    "Сравним хорошие кластеры:"
   ]
  },
  {
   "cell_type": "code",
   "execution_count": 275,
   "id": "790b02c6-9094-44f3-beb7-e6477ffb72dc",
   "metadata": {},
   "outputs": [
    {
     "name": "stdout",
     "output_type": "stream",
     "text": [
      "[('работа', 998), ('работать', 564), ('опыт', 517), ('компания', 479), ('заниматься', 427), ('находиться', 377), ('российский', 353), ('крупный', 346), ('россия', 338), ('данный', 328)]\n"
     ]
    }
   ],
   "source": [
    "cluster_ind = df_formalize.loc[(df_formalize['clust']==0)]['О себе'].index\n",
    "cluster_tokens = []\n",
    "\n",
    "for i in cluster_ind:\n",
    "    if df2.loc[i, 'О себе, summarized'] != None:\n",
    "        cluster_tokens += df2.loc[i, 'О себе, summarized']\n",
    "\n",
    "print(FreqDist(cluster_tokens).most_common(10))"
   ]
  },
  {
   "cell_type": "code",
   "execution_count": 279,
   "id": "bec7b448-d525-49d2-8909-7053760394b0",
   "metadata": {},
   "outputs": [
    {
     "data": {
      "text/plain": [
       "0.9755427"
      ]
     },
     "execution_count": 279,
     "metadata": {},
     "output_type": "execute_result"
    }
   ],
   "source": [
    "sims = []\n",
    "for x in FreqDist(cluster_tokens).most_common(10):\n",
    "    for y in FreqDist(cluster_tokens).most_common(10):\n",
    "        if x != y:\n",
    "            # print(x, y)\n",
    "            sims.append(model2.wv.similarity(x[0], y[0]))\n",
    "np.mean(sims)"
   ]
  },
  {
   "cell_type": "code",
   "execution_count": 272,
   "id": "26c7d050-78b7-49bd-bc8c-11f5e8fc24a4",
   "metadata": {},
   "outputs": [
    {
     "name": "stdout",
     "output_type": "stream",
     "text": [
      "[('настоящий время работать', 71), ('находиться поиск работа', 68), ('настоящий время заниматься', 59), ('данный момент работать', 52), ('гражданин россия проживать', 47), ('иметь опыт работа', 41), ('уверенный пользователь пк', 39), ('умение работать команда', 39), ('открыться вакантный должность', 34), ('аналитический склад ум', 32)]\n"
     ]
    }
   ],
   "source": [
    "cluster_ind = df.loc[(df['clust']==0)]['О себе'].index\n",
    "cluster_tokens = []\n",
    "\n",
    "for i in cluster_ind:\n",
    "    if df2.loc[i, 'О себе 3'] != None:\n",
    "        cluster_tokens += df2.loc[i, 'О себе 3']\n",
    "\n",
    "print(FreqDist(cluster_tokens).most_common(10))"
   ]
  },
  {
   "cell_type": "code",
   "execution_count": 273,
   "id": "37ca7c7f-fcb2-40e5-89f2-38b170339eee",
   "metadata": {},
   "outputs": [
    {
     "data": {
      "text/plain": [
       "0.01775296"
      ]
     },
     "execution_count": 273,
     "metadata": {},
     "output_type": "execute_result"
    }
   ],
   "source": [
    "sims = []\n",
    "for x in FreqDist(cluster_tokens).most_common(10):\n",
    "    for y in FreqDist(cluster_tokens).most_common(10):\n",
    "        if x != y:\n",
    "            sims.append(model.wv.similarity(x[0], y[0]))\n",
    "np.mean(sims)"
   ]
  },
  {
   "cell_type": "markdown",
   "id": "bd4e03d4-f0d4-443c-8ae2-62b4c74ddfc7",
   "metadata": {},
   "source": [
    "Мы видим значительное снижение!"
   ]
  },
  {
   "cell_type": "markdown",
   "id": "405078f2-a8a6-4c34-a4a4-fcb85ed1b80e",
   "metadata": {},
   "source": [
    "Проверим теперь DT:"
   ]
  },
  {
   "cell_type": "code",
   "execution_count": 301,
   "id": "346eb261-4f53-4369-a4e1-3fa38cd8656b",
   "metadata": {},
   "outputs": [],
   "source": [
    "def validate2(alg, semi_supervised=False, not_sklearn=False):\n",
    "    f1_weighted_array = []\n",
    "    f1_macro_array = []\n",
    "    f1_micro_array = []\n",
    "    good_predictions_array = []\n",
    "    value_counts_df = pd.DataFrame()\n",
    "    for k in range(28):\n",
    "        if semi_supervised:\n",
    "            X = df_formalize.loc[df_formalize['DA'] != -1].loc[:, list(df_formalize)[37:-3] + ['Кол-во образований', 'Опыт нормализованный','Топовость образования', 'Справочник по интересам', 'Релокация?', 'Коммандировка?', 'Город?', 'Уровень оборазования нормализованный', 'Карьерный рост', 'Аналитические комбинации слов в навыках']]\n",
    "            y = df_formalize.loc[df_formalize['DA'] != -1, 'DA']\n",
    "            \n",
    "            X_2 = df_formalize.loc[:, list(df_formalize)[37:-3] + ['Кол-во образований', 'Опыт нормализованный','Топовость образования', 'Справочник по интересам', 'Релокация?', 'Коммандировка?', 'Город?', 'Уровень оборазования нормализованный', 'Карьерный рост', 'Аналитические комбинации слов в навыках']]\n",
    "            y_2 = df_formalize.loc[:, 'DA']\n",
    "\n",
    "            X_train = X.sample(200)\n",
    "            y_train = y[X_train.index]\n",
    "\n",
    "            X_test = X.drop(X_train.index)\n",
    "            y_test = y.drop(y_train.index)\n",
    "\n",
    "            X_train = X_2.drop(X_test.index)\n",
    "            y_train = y_2.drop(y_test.index)\n",
    "\n",
    "            X_2.drop(X_test.index, inplace=True)\n",
    "            y_2.drop(y_test.index, inplace=True)\n",
    "            \n",
    "            if not_sklearn:\n",
    "                X = np.array(X)\n",
    "                y = np.array(y).astype('int32')\n",
    "                X_2 = np.array(X_2)\n",
    "                y_2 = np.array(y_2).astype('int32')\n",
    "                X_test = np.array(X_test)\n",
    "                y_test = np.array(y_test).astype('int32')\n",
    "\n",
    "            alg.fit(X_2, y_2)\n",
    "            # print(np.unique(y_2))\n",
    "        else:\n",
    "            X = df_formalize.loc[df_formalize['DA'] != -1].loc[:, list(df_formalize)[36:-3] + ['Кол-во образований', 'Опыт нормализованный','Топовость образования', 'Справочник по интересам', 'Релокация?', 'Коммандировка?', 'Город?', 'Уровень оборазования нормализованный', 'Карьерный рост', 'Аналитические комбинации слов в навыках']]\n",
    "            y = df_formalize.loc[df_formalize['DA'] != -1, 'DA']\n",
    "\n",
    "            X_train = X.sample(200)\n",
    "            y_train = y[X_train.index]\n",
    "\n",
    "            X_test = X.drop(X_train.index)\n",
    "            y_test = y.drop(y_train.index)\n",
    "\n",
    "            alg.fit(X_train, y_train)\n",
    "        \n",
    "        f1_weighted = f1_score(y_test, alg.predict(X_test), average='weighted')\n",
    "        f1_weighted_array.append(f1_weighted)\n",
    "        f1_macro = f1_score(y_test, alg.predict(X_test), average='macro')\n",
    "        f1_macro_array.append(f1_macro)\n",
    "        f1_micro = f1_score(y_test, alg.predict(X_test), average='micro')\n",
    "        f1_micro_array.append(f1_micro)\n",
    "        \n",
    "        tf = pd.DataFrame(np.array(alg.predict(X_test))==np.array(y_test)).value_counts()\n",
    "        good_predictions = tf[True] / (tf[True]+tf[False])\n",
    "        good_predictions_array.append(good_predictions)\n",
    "        \n",
    "        if k != 0:\n",
    "            value_counts_df += pd.DataFrame(alg.predict(X_test)).value_counts()\n",
    "        else:\n",
    "            value_counts_df = pd.DataFrame(alg.predict(X_test)).value_counts()\n",
    "            \n",
    "    value_counts_df = value_counts_df / 28\n",
    "    np.min(good_predictions_array), np.max(good_predictions_array)\n",
    "    return (str(value_counts_df).strip('\\ndtype: float64'), \n",
    "            np.min(good_predictions_array), \n",
    "            np.mean(good_predictions_array),\n",
    "            np.max(good_predictions_array),\n",
    "            \n",
    "            np.min(f1_micro_array), \n",
    "            np.mean(f1_micro_array),\n",
    "            np.max(f1_micro_array),\n",
    "            \n",
    "            np.min(f1_macro_array), \n",
    "            np.mean(f1_macro_array),\n",
    "            np.max(f1_macro_array),\n",
    "            \n",
    "            np.min(f1_weighted_array), \n",
    "            np.mean(f1_weighted_array),\n",
    "            np.max(f1_weighted_array)\n",
    "            )"
   ]
  },
  {
   "cell_type": "code",
   "execution_count": 314,
   "id": "8336a53a-89df-4319-adb9-ab587963fee1",
   "metadata": {
    "tags": []
   },
   "outputs": [],
   "source": [
    "acc = 0.\n",
    "k = 20\n",
    "clf = DecisionTreeClassifier()\n",
    "#clf = LogisticRegression()\n",
    "self_training_model = GridSearchCV(\n",
    "            SelfTrainingClassifier(clf), parameters, scoring=f1_score, n_jobs= -1, cv = 3\n",
    "        )\n",
    "\n",
    "dt = validate2(clf)"
   ]
  },
  {
   "cell_type": "code",
   "execution_count": 315,
   "id": "7575f5cb-3cb6-449f-b826-f8f915f02c59",
   "metadata": {},
   "outputs": [
    {
     "data": {
      "text/plain": [
       "('0.0    157.000000\\n2.0      8.178571\\n1.0     17.821429',\n",
       " 0.7650273224043715,\n",
       " 0.8017174082747853,\n",
       " 0.8524590163934426,\n",
       " 0.7650273224043715,\n",
       " 0.8017174082747853,\n",
       " 0.8524590163934426,\n",
       " 0.3142786895322392,\n",
       " 0.3776576159161585,\n",
       " 0.4671509971509972,\n",
       " 0.7443270285792077,\n",
       " 0.811859588744883,\n",
       " 0.8503755079164915)"
      ]
     },
     "execution_count": 315,
     "metadata": {},
     "output_type": "execute_result"
    }
   ],
   "source": [
    "dt"
   ]
  },
  {
   "cell_type": "markdown",
   "id": "4f08dad4-0424-49b2-9075-e4547a0ba66c",
   "metadata": {},
   "source": [
    "Мы видим, что 1-граммы и 3-граммы одинаково хорошо справляются. А без них? Примерно так же."
   ]
  },
  {
   "cell_type": "code",
   "execution_count": 316,
   "id": "3ee25bb8-5ac6-435e-a8c3-d05d3843566a",
   "metadata": {},
   "outputs": [],
   "source": [
    "def validate2(alg, semi_supervised=False, not_sklearn=False):\n",
    "    f1_weighted_array = []\n",
    "    f1_macro_array = []\n",
    "    f1_micro_array = []\n",
    "    good_predictions_array = []\n",
    "    value_counts_df = pd.DataFrame()\n",
    "    for k in range(28):\n",
    "        if semi_supervised:\n",
    "            X = df_formalize.loc[df_formalize['DA'] != -1].loc[:, list(df_formalize)[37:-3] + ['Кол-во образований', 'Опыт нормализованный','Топовость образования', 'Справочник по интересам', 'Релокация?', 'Коммандировка?', 'Город?', 'Уровень оборазования нормализованный', 'Карьерный рост', 'Аналитические комбинации слов в навыках']]\n",
    "            y = df_formalize.loc[df_formalize['DA'] != -1, 'DA']\n",
    "            \n",
    "            X_2 = df_formalize.loc[:, list(df_formalize)[37:-3] + ['Кол-во образований', 'Опыт нормализованный','Топовость образования', 'Справочник по интересам', 'Релокация?', 'Коммандировка?', 'Город?', 'Уровень оборазования нормализованный', 'Карьерный рост', 'Аналитические комбинации слов в навыках']]\n",
    "            y_2 = df_formalize.loc[:, 'DA']\n",
    "\n",
    "            X_train = X.sample(200)\n",
    "            y_train = y[X_train.index]\n",
    "\n",
    "            X_test = X.drop(X_train.index)\n",
    "            y_test = y.drop(y_train.index)\n",
    "\n",
    "            X_train = X_2.drop(X_test.index)\n",
    "            y_train = y_2.drop(y_test.index)\n",
    "\n",
    "            X_2.drop(X_test.index, inplace=True)\n",
    "            y_2.drop(y_test.index, inplace=True)\n",
    "            \n",
    "            if not_sklearn:\n",
    "                X = np.array(X)\n",
    "                y = np.array(y).astype('int32')\n",
    "                X_2 = np.array(X_2)\n",
    "                y_2 = np.array(y_2).astype('int32')\n",
    "                X_test = np.array(X_test)\n",
    "                y_test = np.array(y_test).astype('int32')\n",
    "\n",
    "            alg.fit(X_2, y_2)\n",
    "            # print(np.unique(y_2))\n",
    "        else:\n",
    "            X = df_formalize.loc[df_formalize['DA'] != -1].loc[:, ['Кол-во образований', 'Опыт нормализованный','Топовость образования', 'Справочник по интересам', 'Релокация?', 'Коммандировка?', 'Город?', 'Уровень оборазования нормализованный', 'Карьерный рост', 'Аналитические комбинации слов в навыках']]\n",
    "            y = df_formalize.loc[df_formalize['DA'] != -1, 'DA']\n",
    "\n",
    "            X_train = X.sample(200)\n",
    "            y_train = y[X_train.index]\n",
    "\n",
    "            X_test = X.drop(X_train.index)\n",
    "            y_test = y.drop(y_train.index)\n",
    "\n",
    "            alg.fit(X_train, y_train)\n",
    "        \n",
    "        f1_weighted = f1_score(y_test, alg.predict(X_test), average='weighted')\n",
    "        f1_weighted_array.append(f1_weighted)\n",
    "        f1_macro = f1_score(y_test, alg.predict(X_test), average='macro')\n",
    "        f1_macro_array.append(f1_macro)\n",
    "        f1_micro = f1_score(y_test, alg.predict(X_test), average='micro')\n",
    "        f1_micro_array.append(f1_micro)\n",
    "        \n",
    "        tf = pd.DataFrame(np.array(alg.predict(X_test))==np.array(y_test)).value_counts()\n",
    "        good_predictions = tf[True] / (tf[True]+tf[False])\n",
    "        good_predictions_array.append(good_predictions)\n",
    "        \n",
    "        if k != 0:\n",
    "            value_counts_df += pd.DataFrame(alg.predict(X_test)).value_counts()\n",
    "        else:\n",
    "            value_counts_df = pd.DataFrame(alg.predict(X_test)).value_counts()\n",
    "            \n",
    "    value_counts_df = value_counts_df / 28\n",
    "    np.min(good_predictions_array), np.max(good_predictions_array)\n",
    "    return (str(value_counts_df).strip('\\ndtype: float64'), \n",
    "            np.min(good_predictions_array), \n",
    "            np.mean(good_predictions_array),\n",
    "            np.max(good_predictions_array),\n",
    "            \n",
    "            np.min(f1_micro_array), \n",
    "            np.mean(f1_micro_array),\n",
    "            np.max(f1_micro_array),\n",
    "            \n",
    "            np.min(f1_macro_array), \n",
    "            np.mean(f1_macro_array),\n",
    "            np.max(f1_macro_array),\n",
    "            \n",
    "            np.min(f1_weighted_array), \n",
    "            np.mean(f1_weighted_array),\n",
    "            np.max(f1_weighted_array)\n",
    "            )"
   ]
  },
  {
   "cell_type": "code",
   "execution_count": 317,
   "id": "85e5321a-2c6b-42c3-a992-43437b2b4a92",
   "metadata": {
    "tags": []
   },
   "outputs": [],
   "source": [
    "acc = 0.\n",
    "k = 20\n",
    "clf = DecisionTreeClassifier()\n",
    "#clf = LogisticRegression()\n",
    "self_training_model = GridSearchCV(\n",
    "            SelfTrainingClassifier(clf), parameters, scoring=f1_score, n_jobs= -1, cv = 3\n",
    "        )\n",
    "\n",
    "dt = validate2(clf)"
   ]
  },
  {
   "cell_type": "code",
   "execution_count": 318,
   "id": "0d1991ad-8f7d-4047-91b4-57c3550997a2",
   "metadata": {},
   "outputs": [
    {
     "data": {
      "text/plain": [
       "('0.0    160.714286\\n1.0     15.035714\\n2.0      7.250000',\n",
       " 0.7595628415300546,\n",
       " 0.8175253708040593,\n",
       " 0.8743169398907104,\n",
       " 0.7595628415300547,\n",
       " 0.8175253708040593,\n",
       " 0.8743169398907104,\n",
       " 0.31290250943815234,\n",
       " 0.3852934346314704,\n",
       " 0.4781903919834954,\n",
       " 0.7731865176763557,\n",
       " 0.8191739473461032,\n",
       " 0.873203804897794)"
      ]
     },
     "execution_count": 318,
     "metadata": {},
     "output_type": "execute_result"
    }
   ],
   "source": [
    "dt"
   ]
  },
  {
   "cell_type": "code",
   "execution_count": 319,
   "id": "5f324145-d056-4f1b-8ae0-184d40739866",
   "metadata": {
    "tags": []
   },
   "outputs": [],
   "source": [
    "acc = 0.\n",
    "k = 25\n",
    "svc = DecisionTreeClassifier()\n",
    "self_training_model = SelfTrainingClassifier(svc)\n",
    "    \n",
    "dt_semi = validate(self_training_model, True)"
   ]
  },
  {
   "cell_type": "markdown",
   "id": "03b052dc-cedb-463a-9b9f-24341f348e97",
   "metadata": {},
   "source": [
    "Мы снова видим небольшое улучшение распределения / macro-$F_1$ с сохранением прочих метрик, как и до этого:"
   ]
  },
  {
   "cell_type": "code",
   "execution_count": 320,
   "id": "14fa9d0d-b379-4b68-b0c3-a3bd5e7b796a",
   "metadata": {},
   "outputs": [
    {
     "data": {
      "text/plain": [
       "('0.0    154.785714\\n1.0     20.392857\\n2.0      7.821429',\n",
       " 0.7049180327868853,\n",
       " 0.7950819672131147,\n",
       " 0.8579234972677595,\n",
       " 0.7049180327868853,\n",
       " 0.7950819672131147,\n",
       " 0.8579234972677595,\n",
       " 0.30888850634073567,\n",
       " 0.3875952373272825,\n",
       " 0.48440104786854016,\n",
       " 0.7520820934552472,\n",
       " 0.8105509635919935,\n",
       " 0.8522664126379297)"
      ]
     },
     "execution_count": 320,
     "metadata": {},
     "output_type": "execute_result"
    }
   ],
   "source": [
    "dt_semi"
   ]
  },
  {
   "cell_type": "code",
   "execution_count": null,
   "id": "7f27c931-c658-4323-a540-15e38004eaf0",
   "metadata": {},
   "outputs": [],
   "source": []
  }
 ],
 "metadata": {
  "kernelspec": {
   "display_name": "Python 3 (ipykernel)",
   "language": "python",
   "name": "python3"
  },
  "language_info": {
   "codemirror_mode": {
    "name": "ipython",
    "version": 3
   },
   "file_extension": ".py",
   "mimetype": "text/x-python",
   "name": "python",
   "nbconvert_exporter": "python",
   "pygments_lexer": "ipython3",
   "version": "3.9.5"
  }
 },
 "nbformat": 4,
 "nbformat_minor": 5
}
