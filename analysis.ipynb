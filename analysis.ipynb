{
 "cells": [
  {
   "cell_type": "markdown",
   "id": "41b3e9f1-17cd-448d-bde7-9cfef4b30262",
   "metadata": {},
   "source": [
    "## ВКР: анализ данных"
   ]
  },
  {
   "cell_type": "markdown",
   "id": "603a9da5-cd31-436e-ac09-53a4989c2552",
   "metadata": {},
   "source": [
    "Автоматизация подбора персонала\n",
    "\n",
    "Копчев Владислав, БПМИ197"
   ]
  },
  {
   "cell_type": "markdown",
   "id": "2aa41204-e166-4fbb-aacc-c60461c4c663",
   "metadata": {},
   "source": [
    "В данном ноутбуке предобработанные в ноутбуке `preprocessing.ipynb` данные мы будем анализировать и делать из них полезные для принятия HR-решений выводы."
   ]
  },
  {
   "cell_type": "markdown",
   "id": "9b7a3e77-82be-45ab-b8c0-0327d7e7ff03",
   "metadata": {},
   "source": [
    "### Библиотеки"
   ]
  },
  {
   "cell_type": "markdown",
   "id": "03eee3b0-f0de-4cfa-814a-d498e7dc8bd2",
   "metadata": {},
   "source": [
    "Импорт библиотек:"
   ]
  },
  {
   "cell_type": "code",
   "execution_count": 254,
   "id": "51390a49-af19-4714-8209-35086ee596b8",
   "metadata": {},
   "outputs": [],
   "source": [
    "from bs4 import BeautifulSoup\n",
    "import requests\n",
    "import pandas as pd\n",
    "from selenium import webdriver\n",
    "from selenium.webdriver.common.keys import Keys\n",
    "from selenium.webdriver.common.by import By\n",
    "from selenium.webdriver.support.ui import Select\n",
    "# !pip install transliterate\n",
    "from transliterate import translit\n",
    "import re\n",
    "import numpy as np\n",
    "\n",
    "from scipy.spatial import distance\n",
    "from sklearn.preprocessing import StandardScaler\n",
    "from sklearn.decomposition import PCA\n",
    "import seaborn as sns\n",
    "from sklearn.cluster import KMeans\n",
    "import matplotlib.pyplot as plt\n",
    "import numpy as np\n",
    "from sklearn.linear_model import LinearRegression"
   ]
  },
  {
   "cell_type": "markdown",
   "id": "558d8586-b380-4bf8-b610-6390cef770a1",
   "metadata": {},
   "source": [
    "Мы имеем таблицу с данными, в которых все признаки приведены к простому виду, выделены новые полезные признаки, была произведена суммаризация раздела \"О себе\". Теперь мы произведем токенизацию раздела \"О себе\" на совокупность 3-грамм, которые мы и будем считать токенами, после чего построим эмбеддинги."
   ]
  },
  {
   "cell_type": "markdown",
   "id": "7f01112b-3e50-44a8-a334-da5e366a2aca",
   "metadata": {},
   "source": [
    "**Токенизация раздела \"О себе\" на 1-граммы:**"
   ]
  },
  {
   "cell_type": "code",
   "execution_count": 120,
   "id": "e4fdb3b1-b935-4a9a-835f-5fd43b695d29",
   "metadata": {},
   "outputs": [],
   "source": [
    "df = pd.read_csv('resumes_features.csv')"
   ]
  },
  {
   "cell_type": "code",
   "execution_count": 122,
   "id": "46b66f6a-da01-4cd5-b768-1b5328ec17b3",
   "metadata": {},
   "outputs": [],
   "source": [
    "df.drop(list(df)[0], axis=1, inplace=True)\n",
    "df.reset_index(inplace=True)\n",
    "df.drop(list(df)[0], axis=1, inplace=True)"
   ]
  },
  {
   "cell_type": "code",
   "execution_count": 124,
   "id": "cc91a73b-4481-4eaa-ab8a-cda931bd3c81",
   "metadata": {},
   "outputs": [
    {
     "data": {
      "text/html": [
       "<div>\n",
       "<style scoped>\n",
       "    .dataframe tbody tr th:only-of-type {\n",
       "        vertical-align: middle;\n",
       "    }\n",
       "\n",
       "    .dataframe tbody tr th {\n",
       "        vertical-align: top;\n",
       "    }\n",
       "\n",
       "    .dataframe thead th {\n",
       "        text-align: right;\n",
       "    }\n",
       "</style>\n",
       "<table border=\"1\" class=\"dataframe\">\n",
       "  <thead>\n",
       "    <tr style=\"text-align: right;\">\n",
       "      <th></th>\n",
       "      <th>Ссылка</th>\n",
       "      <th>Название</th>\n",
       "      <th>Коммандировка</th>\n",
       "      <th>Опыт</th>\n",
       "      <th>О себе</th>\n",
       "      <th>Образование</th>\n",
       "      <th>Интересы</th>\n",
       "      <th>Навыки</th>\n",
       "      <th>Образование-1</th>\n",
       "      <th>Образование-2</th>\n",
       "      <th>...</th>\n",
       "      <th>О себе, avg_tokens</th>\n",
       "      <th>О себе, 3-grams</th>\n",
       "      <th>Где работал</th>\n",
       "      <th>Где работал?</th>\n",
       "      <th>Аналитические комбинации слов</th>\n",
       "      <th>DA</th>\n",
       "      <th>DS</th>\n",
       "      <th>Кол-во работ</th>\n",
       "      <th>Аналитические комбинации слов в работе</th>\n",
       "      <th>Аналитические комбинации слов в навыках</th>\n",
       "    </tr>\n",
       "  </thead>\n",
       "  <tbody>\n",
       "    <tr>\n",
       "      <th>2639</th>\n",
       "      <td>https://hh.ru/resume/4a310d020002587a310039ed1...</td>\n",
       "      <td>Руководитель отдела продаж</td>\n",
       "      <td>Москва, м. Профсоюзная, не готов к переезду, н...</td>\n",
       "      <td>Опыт работы 5 лет 6 месяцев</td>\n",
       "      <td>Проходил обучение на корпоративных тренингах: ...</td>\n",
       "      <td>Высшее образование\\n2011\\nПрофессиональный инс...</td>\n",
       "      <td>Специализации:\\nРуководитель отдела продаж\\nЗа...</td>\n",
       "      <td>---</td>\n",
       "      <td>Профессиональный институт юриспруденции</td>\n",
       "      <td>NaN</td>\n",
       "      <td>...</td>\n",
       "      <td>0.000216</td>\n",
       "      <td>['проходить обучение корпоративный', 'обучение...</td>\n",
       "      <td>['Media Markt и Saturn', 'Media Markt и Saturn...</td>\n",
       "      <td>['Media Markt и Saturn', 'Media Markt и Saturn...</td>\n",
       "      <td>---</td>\n",
       "      <td>NaN</td>\n",
       "      <td>NaN</td>\n",
       "      <td>83</td>\n",
       "      <td>---</td>\n",
       "      <td>---</td>\n",
       "    </tr>\n",
       "  </tbody>\n",
       "</table>\n",
       "<p>1 rows × 36 columns</p>\n",
       "</div>"
      ],
      "text/plain": [
       "                                                 Ссылка  \\\n",
       "2639  https://hh.ru/resume/4a310d020002587a310039ed1...   \n",
       "\n",
       "                        Название  \\\n",
       "2639  Руководитель отдела продаж   \n",
       "\n",
       "                                          Коммандировка  \\\n",
       "2639  Москва, м. Профсоюзная, не готов к переезду, н...   \n",
       "\n",
       "                             Опыт  \\\n",
       "2639  Опыт работы 5 лет 6 месяцев   \n",
       "\n",
       "                                                 О себе  \\\n",
       "2639  Проходил обучение на корпоративных тренингах: ...   \n",
       "\n",
       "                                            Образование  \\\n",
       "2639  Высшее образование\\n2011\\nПрофессиональный инс...   \n",
       "\n",
       "                                               Интересы Навыки  \\\n",
       "2639  Специализации:\\nРуководитель отдела продаж\\nЗа...    ---   \n",
       "\n",
       "                                Образование-1 Образование-2  ...  \\\n",
       "2639  Профессиональный институт юриспруденции           NaN  ...   \n",
       "\n",
       "     О себе, avg_tokens                                    О себе, 3-grams  \\\n",
       "2639           0.000216  ['проходить обучение корпоративный', 'обучение...   \n",
       "\n",
       "                                            Где работал  \\\n",
       "2639  ['Media Markt и Saturn', 'Media Markt и Saturn...   \n",
       "\n",
       "                                           Где работал?  \\\n",
       "2639  ['Media Markt и Saturn', 'Media Markt и Saturn...   \n",
       "\n",
       "      Аналитические комбинации слов  DA  DS Кол-во работ  \\\n",
       "2639                            --- NaN NaN           83   \n",
       "\n",
       "     Аналитические комбинации слов в работе  \\\n",
       "2639                                    ---   \n",
       "\n",
       "     Аналитические комбинации слов в навыках  \n",
       "2639                                     ---  \n",
       "\n",
       "[1 rows x 36 columns]"
      ]
     },
     "execution_count": 124,
     "metadata": {},
     "output_type": "execute_result"
    }
   ],
   "source": [
    "df.sample(1)"
   ]
  },
  {
   "cell_type": "markdown",
   "id": "3f65e082-e795-4015-9121-68bf3c4509e3",
   "metadata": {},
   "source": [
    "Для начала построим разбиение на 1-граммы (в коде также мы уберем пробелы и ненужные символы, стоп-слова, приведем слова к нормальной форме):"
   ]
  },
  {
   "cell_type": "code",
   "execution_count": 125,
   "id": "92c1cb6b-b792-489c-8bcc-16b1a72fbeda",
   "metadata": {},
   "outputs": [],
   "source": [
    "import nltk\n",
    "# nltk.download('stopwords')\n",
    "\n",
    "import re\n",
    "from pymorphy2 import MorphAnalyzer\n",
    "from nltk.corpus import stopwords\n",
    "patterns = \"[0-9!#$%&'()*+,./:;<=>?@[\\]^_`{|}~—\\\"\\-]+\"\n",
    "stopwords_ru = stopwords.words(\"russian\")\n",
    "morph = MorphAnalyzer()\n",
    "def lemmatize(doc):\n",
    "    # print(doc)\n",
    "    doc = re.sub(patterns, ' ', doc)\n",
    "    tokens = []\n",
    "    for token in doc.split():\n",
    "        if token and token not in stopwords_ru and morph.normal_forms(token)[0] not in stopwords_ru:  # ВОТ откуда там стоп-слвоа — В not in stopwords_ru -> normal(В) = в\n",
    "            # print(token)\n",
    "            token = token.strip()\n",
    "            token = morph.normal_forms(token)[0]\n",
    "            tokens.append(token)\n",
    "    if len(tokens) > 2:\n",
    "        return tokens\n",
    "    return None\n",
    "\n",
    "df2 = pd.DataFrame(df['О себе, summarized'])\n",
    "\n",
    "for col_ind in df2.index:\n",
    "    col = df2.loc[col_ind]['О себе, summarized']\n",
    "    if col:\n",
    "        df2.loc[col_ind]['О себе, summarized'] = lemmatize(str(col))\n",
    "        #print(lemmatize(str(col)))\n",
    "        \n",
    "data = df2['О себе, summarized']\n",
    "\n",
    "from collections import defaultdict\n",
    "word_freq = defaultdict(int)\n",
    "for tokens in data.iloc[:]:\n",
    "    if tokens:\n",
    "        for token in tokens:\n",
    "            word_freq[token] += 1"
   ]
  },
  {
   "cell_type": "markdown",
   "id": "478ba7b2-a1f8-4e8c-bf30-1878321046dd",
   "metadata": {},
   "source": [
    "Видим, что разбиение прошло успещно:"
   ]
  },
  {
   "cell_type": "code",
   "execution_count": 126,
   "id": "441d3f94-0b4d-4518-a883-52eb40437033",
   "metadata": {},
   "outputs": [
    {
     "data": {
      "text/html": [
       "<div>\n",
       "<style scoped>\n",
       "    .dataframe tbody tr th:only-of-type {\n",
       "        vertical-align: middle;\n",
       "    }\n",
       "\n",
       "    .dataframe tbody tr th {\n",
       "        vertical-align: top;\n",
       "    }\n",
       "\n",
       "    .dataframe thead th {\n",
       "        text-align: right;\n",
       "    }\n",
       "</style>\n",
       "<table border=\"1\" class=\"dataframe\">\n",
       "  <thead>\n",
       "    <tr style=\"text-align: right;\">\n",
       "      <th></th>\n",
       "      <th>О себе, summarized</th>\n",
       "    </tr>\n",
       "  </thead>\n",
       "  <tbody>\n",
       "    <tr>\n",
       "      <th>2523</th>\n",
       "      <td>[трудолюбивый, трудолюбивый, легко, обучать, с...</td>\n",
       "    </tr>\n",
       "    <tr>\n",
       "      <th>1893</th>\n",
       "      <td>[постоянно, активно, развиваться, интернет, ма...</td>\n",
       "    </tr>\n",
       "    <tr>\n",
       "      <th>2618</th>\n",
       "      <td>None</td>\n",
       "    </tr>\n",
       "  </tbody>\n",
       "</table>\n",
       "</div>"
      ],
      "text/plain": [
       "                                     О себе, summarized\n",
       "2523  [трудолюбивый, трудолюбивый, легко, обучать, с...\n",
       "1893  [постоянно, активно, развиваться, интернет, ма...\n",
       "2618                                               None"
      ]
     },
     "execution_count": 126,
     "metadata": {},
     "output_type": "execute_result"
    }
   ],
   "source": [
    "df2.sample(3)"
   ]
  },
  {
   "cell_type": "markdown",
   "id": "070636cb-f089-4ca5-bbdc-9199e1403686",
   "metadata": {},
   "source": [
    "Теперь построим 2-граммы по 1-граммам:"
   ]
  },
  {
   "cell_type": "code",
   "execution_count": 127,
   "id": "b7c5b2b3-9db9-47ad-bfc6-d9dfd4832532",
   "metadata": {},
   "outputs": [],
   "source": [
    "from nltk.util import ngrams\n",
    "from nltk import word_tokenize \n",
    "\n",
    "tokens2 = []\n",
    "\n",
    "for x in df2['О себе, summarized']:\n",
    "    if x is not None:\n",
    "        bigrams = []\n",
    "        for bg in list(ngrams(x, 2)):\n",
    "            bigrams.append(' '.join(bg))\n",
    "        tokens2.append(bigrams)\n",
    "    else:\n",
    "        tokens2.append(None)\n",
    "        \n",
    "df2['О себе 2'] = tokens2"
   ]
  },
  {
   "cell_type": "code",
   "execution_count": 128,
   "id": "5c3110b2-4298-432f-a886-ff038030c442",
   "metadata": {},
   "outputs": [
    {
     "data": {
      "text/html": [
       "<div>\n",
       "<style scoped>\n",
       "    .dataframe tbody tr th:only-of-type {\n",
       "        vertical-align: middle;\n",
       "    }\n",
       "\n",
       "    .dataframe tbody tr th {\n",
       "        vertical-align: top;\n",
       "    }\n",
       "\n",
       "    .dataframe thead th {\n",
       "        text-align: right;\n",
       "    }\n",
       "</style>\n",
       "<table border=\"1\" class=\"dataframe\">\n",
       "  <thead>\n",
       "    <tr style=\"text-align: right;\">\n",
       "      <th></th>\n",
       "      <th>О себе, summarized</th>\n",
       "      <th>О себе 2</th>\n",
       "    </tr>\n",
       "  </thead>\n",
       "  <tbody>\n",
       "    <tr>\n",
       "      <th>853</th>\n",
       "      <td>[уверенный, черта, характер, стрессоустойчивос...</td>\n",
       "      <td>[уверенный черта, черта характер, характер стр...</td>\n",
       "    </tr>\n",
       "    <tr>\n",
       "      <th>54</th>\n",
       "      <td>[английский, язык, –, upper, intermediate, про...</td>\n",
       "      <td>[английский язык, язык –, – upper, upper inter...</td>\n",
       "    </tr>\n",
       "    <tr>\n",
       "      <th>2565</th>\n",
       "      <td>[форвард, сборная, россия, хоккей, евгений, ма...</td>\n",
       "      <td>[форвард сборная, сборная россия, россия хокке...</td>\n",
       "    </tr>\n",
       "  </tbody>\n",
       "</table>\n",
       "</div>"
      ],
      "text/plain": [
       "                                     О себе, summarized  \\\n",
       "853   [уверенный, черта, характер, стрессоустойчивос...   \n",
       "54    [английский, язык, –, upper, intermediate, про...   \n",
       "2565  [форвард, сборная, россия, хоккей, евгений, ма...   \n",
       "\n",
       "                                               О себе 2  \n",
       "853   [уверенный черта, черта характер, характер стр...  \n",
       "54    [английский язык, язык –, – upper, upper inter...  \n",
       "2565  [форвард сборная, сборная россия, россия хокке...  "
      ]
     },
     "execution_count": 128,
     "metadata": {},
     "output_type": "execute_result"
    }
   ],
   "source": [
    "df2.sample(3)"
   ]
  },
  {
   "cell_type": "markdown",
   "id": "0539c9f1-a782-4045-bd1b-e08d304a1ea1",
   "metadata": {},
   "source": [
    "Аналогичным образом, наконец, построим 3-граммы:"
   ]
  },
  {
   "cell_type": "code",
   "execution_count": 129,
   "id": "d31d45f6-3bc9-49e6-935f-9d223a89140f",
   "metadata": {},
   "outputs": [],
   "source": [
    "from nltk.util import ngrams\n",
    "from nltk import word_tokenize \n",
    "\n",
    "tokens3 = []\n",
    "\n",
    "for x in df2['О себе, summarized']:\n",
    "    if x is not None:\n",
    "        trigrams = []\n",
    "        for tg in list(ngrams(x, 3)):\n",
    "            trigrams.append(' '.join(tg))\n",
    "        tokens3.append(trigrams)\n",
    "    else:\n",
    "        tokens3.append(None)\n",
    "        \n",
    "df2['О себе 3'] = tokens3"
   ]
  },
  {
   "cell_type": "code",
   "execution_count": 130,
   "id": "dcbb261e-6da7-4f58-a062-2e625a7f33a7",
   "metadata": {},
   "outputs": [
    {
     "data": {
      "text/html": [
       "<div>\n",
       "<style scoped>\n",
       "    .dataframe tbody tr th:only-of-type {\n",
       "        vertical-align: middle;\n",
       "    }\n",
       "\n",
       "    .dataframe tbody tr th {\n",
       "        vertical-align: top;\n",
       "    }\n",
       "\n",
       "    .dataframe thead th {\n",
       "        text-align: right;\n",
       "    }\n",
       "</style>\n",
       "<table border=\"1\" class=\"dataframe\">\n",
       "  <thead>\n",
       "    <tr style=\"text-align: right;\">\n",
       "      <th></th>\n",
       "      <th>О себе, summarized</th>\n",
       "      <th>О себе 2</th>\n",
       "      <th>О себе 3</th>\n",
       "    </tr>\n",
       "  </thead>\n",
       "  <tbody>\n",
       "    <tr>\n",
       "      <th>640</th>\n",
       "      <td>[germany, россия, сша, канада, австралия, арге...</td>\n",
       "      <td>[germany россия, россия сша, сша канада, канад...</td>\n",
       "      <td>[germany россия сша, россия сша канада, сша ка...</td>\n",
       "    </tr>\n",
       "    <tr>\n",
       "      <th>152</th>\n",
       "      <td>None</td>\n",
       "      <td>None</td>\n",
       "      <td>None</td>\n",
       "    </tr>\n",
       "    <tr>\n",
       "      <th>806</th>\n",
       "      <td>[обладать, доминировать, эмпатия, целеустремлё...</td>\n",
       "      <td>[обладать доминировать, доминировать эмпатия, ...</td>\n",
       "      <td>[обладать доминировать эмпатия, доминировать э...</td>\n",
       "    </tr>\n",
       "  </tbody>\n",
       "</table>\n",
       "</div>"
      ],
      "text/plain": [
       "                                    О себе, summarized  \\\n",
       "640  [germany, россия, сша, канада, австралия, арге...   \n",
       "152                                               None   \n",
       "806  [обладать, доминировать, эмпатия, целеустремлё...   \n",
       "\n",
       "                                              О себе 2  \\\n",
       "640  [germany россия, россия сша, сша канада, канад...   \n",
       "152                                               None   \n",
       "806  [обладать доминировать, доминировать эмпатия, ...   \n",
       "\n",
       "                                              О себе 3  \n",
       "640  [germany россия сша, россия сша канада, сша ка...  \n",
       "152                                               None  \n",
       "806  [обладать доминировать эмпатия, доминировать э...  "
      ]
     },
     "execution_count": 130,
     "metadata": {},
     "output_type": "execute_result"
    }
   ],
   "source": [
    "df2.sample(3)"
   ]
  },
  {
   "cell_type": "markdown",
   "id": "b1183f3e-34c4-47e7-ac42-cffecec2f4db",
   "metadata": {},
   "source": [
    "**Построение эмбеддингов**"
   ]
  },
  {
   "cell_type": "markdown",
   "id": "0799b562-8e18-4739-b68f-02fdb6791a20",
   "metadata": {},
   "source": [
    "Теперь перейдем к построению эмбеддингов. Будем использовать метод построения эмбеддингов word2vec. Определим векторное представление триграммы как среднее векторных представлений слов внутри нее."
   ]
  },
  {
   "cell_type": "code",
   "execution_count": 131,
   "id": "9593813d-29e2-4b63-b740-b7384b0b3304",
   "metadata": {},
   "outputs": [],
   "source": [
    "from gensim.test.utils import common_texts\n",
    "from gensim.models import Word2Vec"
   ]
  },
  {
   "cell_type": "markdown",
   "id": "f8f8ebcb-6540-4a10-8aeb-1ee2868c4370",
   "metadata": {},
   "source": [
    "Избавимся от пропусков, чтобы не было проблем с применением метода:"
   ]
  },
  {
   "cell_type": "code",
   "execution_count": 132,
   "id": "b624a13b-a46b-4e93-99bd-4c2837f60f1e",
   "metadata": {},
   "outputs": [],
   "source": [
    "df2.loc[df2['О себе 3'].isna(), 'О себе 3'] = '-'"
   ]
  },
  {
   "cell_type": "code",
   "execution_count": 133,
   "id": "0d6e33c5-d046-469b-9228-ccf0ddf57fd0",
   "metadata": {},
   "outputs": [
    {
     "data": {
      "text/plain": [
       "Series([], Name: О себе 3, dtype: object)"
      ]
     },
     "execution_count": 133,
     "metadata": {},
     "output_type": "execute_result"
    }
   ],
   "source": [
    "df2[df2['О себе 3'].isna()]['О себе 3']"
   ]
  },
  {
   "cell_type": "markdown",
   "id": "be56112f-15e2-45a6-9bd3-a926122545f6",
   "metadata": {},
   "source": [
    "Обучим модель:"
   ]
  },
  {
   "cell_type": "code",
   "execution_count": 134,
   "id": "5a19a055-7bfd-462e-89e2-a9434e0a0ecf",
   "metadata": {},
   "outputs": [],
   "source": [
    "model = Word2Vec(sentences=df2['О себе 3'], vector_size=100, window=5, min_count=1, workers=4)\n",
    "model.save(\"word2vec.model\")"
   ]
  },
  {
   "cell_type": "code",
   "execution_count": 135,
   "id": "fd3869ea-2216-460b-b8c9-e49b584c4862",
   "metadata": {},
   "outputs": [],
   "source": [
    "model = Word2Vec.load(\"word2vec.model\")"
   ]
  },
  {
   "cell_type": "code",
   "execution_count": 136,
   "id": "1865db88-f445-4dd0-afc6-2ef1ecbe4217",
   "metadata": {},
   "outputs": [
    {
     "data": {
      "text/plain": [
       "(41868, 42180)"
      ]
     },
     "execution_count": 136,
     "metadata": {},
     "output_type": "execute_result"
    }
   ],
   "source": [
    "model.train(df2['О себе 3'], total_examples=len(df2['О себе 3']), epochs=1)"
   ]
  },
  {
   "cell_type": "markdown",
   "id": "5a558727-c2cc-4833-b7fb-8e09df95c376",
   "metadata": {},
   "source": [
    "Посмотрим, что получилось, на примере:"
   ]
  },
  {
   "cell_type": "code",
   "execution_count": 142,
   "id": "e9f1156f-4f7b-4a15-b663-afe3d7d40b21",
   "metadata": {},
   "outputs": [],
   "source": [
    "vector = model.wv['нестандартный подход решение']  # get numpy vector of a word\n",
    "sims = model.wv.most_similar('нестандартный подход решение', topn=10)  # get other similar words"
   ]
  },
  {
   "cell_type": "code",
   "execution_count": 19,
   "id": "6b94ed60-5c69-4fe1-953c-8d96cdde5c89",
   "metadata": {},
   "outputs": [
    {
     "data": {
      "text/plain": [
       "array([ 2.2067500e-03, -7.3231361e-03,  7.8011141e-03,  7.6452661e-03,\n",
       "        2.4990677e-03, -6.3624647e-03, -5.9403661e-05,  3.4782612e-03,\n",
       "       -5.6626188e-04,  5.9506493e-03, -3.4510384e-03,  4.3406021e-03,\n",
       "       -3.4173462e-03,  4.9557914e-03,  7.2136098e-03, -7.3125749e-03,\n",
       "       -6.6994298e-03,  9.5764669e-03,  2.1601473e-03, -6.2942142e-03,\n",
       "       -1.8191544e-03, -3.3437440e-03,  6.3336780e-04,  2.4854629e-03,\n",
       "        6.5179047e-04, -2.0766382e-03,  1.5287504e-03,  7.1112881e-03,\n",
       "        7.1763177e-03, -2.8673734e-03, -9.1822697e-03,  6.9630803e-03,\n",
       "        2.2413163e-03,  2.8338658e-03,  3.1316516e-03,  6.2846639e-03,\n",
       "       -7.1329245e-04,  4.0908363e-03, -7.2425319e-05, -9.3654795e-03,\n",
       "       -2.0878434e-03, -7.2188018e-04, -7.2491588e-04,  5.9062704e-03,\n",
       "       -7.4123605e-03,  9.8371506e-03, -5.1827966e-03,  2.8906062e-03,\n",
       "        4.1390378e-03,  7.8106583e-03, -1.1367421e-03, -5.6662778e-03,\n",
       "        9.1947811e-03, -7.3702243e-04, -5.4288865e-03,  2.2407942e-03,\n",
       "       -9.6124811e-03,  1.2813289e-04,  1.0038995e-02, -9.0947077e-03,\n",
       "       -2.4086470e-03, -7.7750552e-03, -3.9389688e-03, -8.5907960e-03,\n",
       "        5.1790304e-03, -3.3192320e-03, -9.1373855e-03,  4.9073417e-03,\n",
       "       -7.2814254e-03, -2.6157559e-03, -3.8773371e-03,  8.3627952e-03,\n",
       "       -7.9023065e-03, -2.2082287e-03,  4.8320959e-03, -9.0030702e-03,\n",
       "       -6.8755527e-03,  9.8259179e-03, -6.0350210e-03,  9.4081946e-03,\n",
       "        9.8166130e-03, -8.6152023e-03, -5.9873364e-03,  3.0013337e-03,\n",
       "        6.9932593e-03, -8.2298648e-03,  3.8184624e-03,  2.6523538e-03,\n",
       "        6.4450703e-03, -8.3762892e-03, -5.6536291e-03,  3.3293094e-03,\n",
       "        5.3788954e-04, -8.2485527e-03, -6.6536507e-03, -4.7638719e-03,\n",
       "        2.1447847e-03, -6.5474301e-03, -5.4646339e-03, -3.4601937e-05],\n",
       "      dtype=float32)"
      ]
     },
     "execution_count": 19,
     "metadata": {},
     "output_type": "execute_result"
    }
   ],
   "source": [
    "vector"
   ]
  },
  {
   "cell_type": "code",
   "execution_count": 143,
   "id": "024bfcd3-e7a8-456d-a0b6-1708861b030e",
   "metadata": {},
   "outputs": [
    {
     "data": {
      "text/plain": [
       "[('ум способность работать', 0.42437753081321716),\n",
       " ('крупный российский агентство', 0.41329023241996765),\n",
       " ('подготовка рисовый руководство', 0.38147082924842834),\n",
       " ('письменный речь быстрый', 0.3720853924751282),\n",
       " ('человек направление проектирование', 0.3675800859928131),\n",
       " ('опыт управление опыт', 0.3589397966861725),\n",
       " ('строить bi дашборд', 0.34726792573928833),\n",
       " ('эффективный проектный группа', 0.3456355929374695),\n",
       " ('футбольный болельщик готовиться', 0.3422141373157501),\n",
       " ('дважды выигрывать золото', 0.34142419695854187)]"
      ]
     },
     "execution_count": 143,
     "metadata": {},
     "output_type": "execute_result"
    }
   ],
   "source": [
    "sims"
   ]
  },
  {
   "cell_type": "markdown",
   "id": "7762da35-4f02-49da-9ff4-c0946ac0e580",
   "metadata": {},
   "source": [
    "Вектор построен корректно, похожие триграммы подобраны неплохо с точки зрения соответствия смыслу."
   ]
  },
  {
   "cell_type": "markdown",
   "id": "65893361-3757-494d-b673-a711f957fa88",
   "metadata": {},
   "source": [
    "Итак, мы построили эмбеддинги. Теперь создадим табличку, где каждому резюме будет соответстовать вектор из 100 координат входящих в раздел \"О себе\" триграмм."
   ]
  },
  {
   "cell_type": "code",
   "execution_count": 148,
   "id": "f6602d86-6244-4a43-b2e4-fd33999ffb1b",
   "metadata": {},
   "outputs": [],
   "source": [
    "our_data = pd.DataFrame(df2['О себе 3'])\n",
    "our_data['emb'] = 0\n",
    "embs = []\n",
    "for x in our_data['О себе 3']:\n",
    "    cur_embs = []\n",
    "    for y in x:\n",
    "        cur_embs.append(model.wv[y])\n",
    "    embs.append(cur_embs)\n",
    "our_data['emb'] = embs\n",
    "\n",
    "embs_flattened = []\n",
    "for x in our_data['emb']:\n",
    "    x_flat = np.array(x[0])\n",
    "    for z in x[1:]:\n",
    "        x_flat += np.array(z)\n",
    "    embs_flattened.append(x_flat / len(x))\n",
    "our_data['flat_emb'] = embs_flattened"
   ]
  },
  {
   "cell_type": "markdown",
   "id": "f261b3d9-ba32-4e82-ad11-56b0c5285c05",
   "metadata": {},
   "source": [
    "Посмотрим, получилось ли:"
   ]
  },
  {
   "cell_type": "code",
   "execution_count": 150,
   "id": "22cbe81f-88f1-48ca-8360-80fbab1fa6da",
   "metadata": {
    "tags": []
   },
   "outputs": [
    {
     "data": {
      "text/plain": [
       "array([-7.99836344e-05, -1.50046463e-03, -4.35551920e-04, -1.50737166e-03,\n",
       "        1.87101890e-04, -6.84491824e-04, -1.10338395e-03,  2.63537018e-04,\n",
       "        9.67469008e-04,  8.15248408e-04, -4.59374889e-04,  1.31592283e-03,\n",
       "        2.90577824e-04,  5.82164037e-04, -1.85195502e-04, -3.72505398e-04,\n",
       "       -9.81115038e-04, -8.18226545e-04,  8.66354312e-05,  3.16900783e-04,\n",
       "        1.21780892e-03, -1.17878360e-03, -4.52461682e-05, -2.16449465e-04,\n",
       "        2.96607963e-04, -2.84905545e-04, -4.40094824e-04, -6.48278743e-04,\n",
       "       -2.86327646e-04,  1.69932446e-03,  4.80593997e-04, -1.15398632e-03,\n",
       "        8.43726564e-04, -1.05837127e-03,  4.97588073e-04,  4.34242276e-04,\n",
       "        2.84139242e-04, -5.80462860e-04, -1.16366755e-04, -1.56020408e-03,\n",
       "       -2.40851557e-04, -7.77751848e-04, -7.10505934e-04,  2.73809914e-04,\n",
       "        5.04683412e-04, -1.38456665e-03,  1.26650848e-03,  9.75667150e-04,\n",
       "       -6.85438747e-04,  1.60656040e-04, -1.13937957e-03,  3.06473696e-04,\n",
       "       -4.63332981e-07, -1.49971253e-04, -8.05234944e-04,  3.46102024e-04,\n",
       "        1.11595995e-03, -2.51377671e-04, -7.13018118e-04,  3.68906592e-04,\n",
       "       -3.02843779e-04, -9.41802224e-04,  4.62422671e-04,  3.95166629e-04,\n",
       "        4.71366366e-04, -9.85617284e-04,  4.50683176e-04,  8.18605360e-04,\n",
       "       -1.14361208e-03,  1.92249520e-03, -1.18975260e-03,  5.86495386e-04,\n",
       "       -6.60824822e-04, -4.08840060e-05, -1.22998038e-03,  6.06497561e-05,\n",
       "       -7.66995596e-04,  1.26027770e-03,  7.59072427e-04, -7.02368387e-04,\n",
       "        1.90730393e-03, -6.51628885e-04,  1.74207351e-04,  8.62324785e-04,\n",
       "        1.49135373e-03,  1.30866378e-04, -1.89611965e-04,  1.00040314e-04,\n",
       "        8.56724975e-04, -8.52043508e-04, -2.14737281e-03,  3.51808558e-04,\n",
       "        1.68105052e-03, -2.91637582e-04, -2.72267906e-04, -1.20689697e-03,\n",
       "        2.27135111e-04, -4.44117351e-04,  7.65541627e-04,  8.07402175e-05],\n",
       "      dtype=float32)"
      ]
     },
     "execution_count": 150,
     "metadata": {},
     "output_type": "execute_result"
    }
   ],
   "source": [
    "our_data['flat_emb'][0]"
   ]
  },
  {
   "cell_type": "markdown",
   "id": "65dc72ad-ebf2-4366-a5c9-224099b63334",
   "metadata": {},
   "source": [
    "Действительно, получился вектор из $\\mathbb{R}^{100}$, где $i$-я координата — среднее эмбеддингов входящих в $i$-ю триграмму слов."
   ]
  },
  {
   "cell_type": "markdown",
   "id": "fe178893-df17-43de-a8af-79dcacd897a9",
   "metadata": {},
   "source": [
    "Уберем пропуски и запишем в `X` наши векторы:"
   ]
  },
  {
   "cell_type": "code",
   "execution_count": 213,
   "id": "008f557e-c283-472f-b483-af3ee8a7e762",
   "metadata": {},
   "outputs": [
    {
     "data": {
      "text/plain": [
       "array([[-7.9983634e-05, -1.5004646e-03, -4.3555192e-04, ...,\n",
       "        -4.4411735e-04,  7.6554163e-04,  8.0740218e-05],\n",
       "       [ 6.5256917e-04, -1.3126576e-03, -7.2877301e-05, ...,\n",
       "        -2.4316886e-04, -3.1289060e-03,  1.4584048e-03],\n",
       "       [-1.3510333e-04,  8.5367518e-04,  2.2937981e-03, ...,\n",
       "        -2.7531173e-04, -3.1162152e-04, -4.3715845e-04],\n",
       "       ...,\n",
       "       [ 2.5283226e-03,  2.1679702e-03,  4.1107135e-03, ...,\n",
       "         2.6390133e-03, -1.6444033e-03, -3.4496421e-05],\n",
       "       [-5.3622725e-04,  2.3643016e-04,  5.1033497e-03, ...,\n",
       "        -7.0415614e-03,  9.0145587e-04,  6.3925339e-03],\n",
       "       [-5.3622725e-04,  2.3643016e-04,  5.1033497e-03, ...,\n",
       "        -7.0415614e-03,  9.0145587e-04,  6.3925339e-03]], dtype=float32)"
      ]
     },
     "execution_count": 213,
     "metadata": {},
     "output_type": "execute_result"
    }
   ],
   "source": [
    "our_data['flat_emb'].dropna()\n",
    "X = list(our_data['flat_emb'].dropna())\n",
    "X = np.asarray(X)\n",
    "X"
   ]
  },
  {
   "cell_type": "markdown",
   "id": "70dcbf31-e49c-4c24-98c9-29ce421748ea",
   "metadata": {},
   "source": [
    "Осталось проверить, правда ли имеющие близкое к 0 [cosine distance](https://medium.com/geekculture/cosine-similarity-and-cosine-distance-48eed889a5c4) векторы похожи, а близкое к 1 — различны."
   ]
  },
  {
   "cell_type": "markdown",
   "id": "e5644119-4528-4e8e-af57-6691547a977e",
   "metadata": {},
   "source": [
    "Пример ортогональных векторов:"
   ]
  },
  {
   "cell_type": "code",
   "execution_count": 82,
   "id": "f3b4a56b-361e-4439-bdb7-bb805d0d2689",
   "metadata": {},
   "outputs": [
    {
     "data": {
      "text/plain": [
       "'Уверенный пользователь ПК, Ms Word, Ms Excel, 1С, Power Point, Internet Explorer, amoCRM, Bitrix24 и офисной техники; Правовых систем Гарант и Консультант +; Знание законодательства; Работа с входящей и исходящей корреспонденцией, Этика делового общения, общения с клиентами; Навыки работы по взаимодействию с государственными органами и общественными организациями; Неоднократное участие в судебных заседаниях; Анализ данных, составление договоров, запросов, отзывов, заявлений, уведомлений.'"
      ]
     },
     "execution_count": 82,
     "metadata": {},
     "output_type": "execute_result"
    }
   ],
   "source": [
    "df['О себе, summarized'][0]"
   ]
  },
  {
   "cell_type": "code",
   "execution_count": 83,
   "id": "bc0f35b8-9ce8-4aed-924a-931804a4649c",
   "metadata": {},
   "outputs": [
    {
     "data": {
      "text/plain": [
       "'В настоящее время занимаюсь благотворительной деятельностью. В свободное время занимаюсь бегом, плаванием, рисую в стиле фантази (карандаш), много путешествую, интересуюсь различиями культур и обычаями народов мира.'"
      ]
     },
     "execution_count": 83,
     "metadata": {},
     "output_type": "execute_result"
    }
   ],
   "source": [
    "df['О себе, summarized'][1]"
   ]
  },
  {
   "cell_type": "code",
   "execution_count": 119,
   "id": "6f41d732-89f2-4e0b-9992-dc378cc7c82a",
   "metadata": {},
   "outputs": [
    {
     "data": {
      "text/plain": [
       "0.9508250653743744"
      ]
     },
     "execution_count": 119,
     "metadata": {},
     "output_type": "execute_result"
    }
   ],
   "source": [
    "distance.cosine(X[0], X[1])"
   ]
  },
  {
   "cell_type": "markdown",
   "id": "af4edc21-2cba-4e67-9f55-b23618364a8f",
   "metadata": {},
   "source": [
    "Действительно, мы вижим, что резбме различны."
   ]
  },
  {
   "cell_type": "markdown",
   "id": "d78b79f1-76e8-4006-8e44-2676a7b895a3",
   "metadata": {},
   "source": [
    "Пример коллинеарных:"
   ]
  },
  {
   "cell_type": "code",
   "execution_count": 87,
   "id": "4118ce79-3a2b-411b-9456-792e03e3eb0d",
   "metadata": {},
   "outputs": [
    {
     "data": {
      "text/plain": [
       "'Нахожусь в отпуске по уходу за ребенком. На данный момент у меня нет официального места работы.'"
      ]
     },
     "execution_count": 87,
     "metadata": {},
     "output_type": "execute_result"
    }
   ],
   "source": [
    "df['О себе, summarized'][14]"
   ]
  },
  {
   "cell_type": "code",
   "execution_count": 88,
   "id": "0c371739-5b2e-4ebe-ac34-d38d2467c8e1",
   "metadata": {},
   "outputs": [
    {
     "data": {
      "text/plain": [
       "'Нахожусь в отпуске по уходу за ребенком. На данный момент у меня нет вакантных должностей.'"
      ]
     },
     "execution_count": 88,
     "metadata": {},
     "output_type": "execute_result"
    }
   ],
   "source": [
    "df['О себе, summarized'][84]"
   ]
  },
  {
   "cell_type": "code",
   "execution_count": 118,
   "id": "c1e593a2-1c5e-4669-b235-19f8483fab23",
   "metadata": {},
   "outputs": [
    {
     "data": {
      "text/plain": [
       "0.30464255809783936"
      ]
     },
     "execution_count": 118,
     "metadata": {},
     "output_type": "execute_result"
    }
   ],
   "source": [
    "distance.cosine(X[14], X[84])"
   ]
  },
  {
   "cell_type": "markdown",
   "id": "42118426-b2f1-431a-9200-b613a5d66690",
   "metadata": {},
   "source": [
    "Видно, что резюме похожи. "
   ]
  },
  {
   "cell_type": "markdown",
   "id": "e3075ffb-7385-495b-a8e1-357f619780f2",
   "metadata": {},
   "source": [
    "Осталось записать эти векторы в 100 столбцов нашей таблицы:"
   ]
  },
  {
   "cell_type": "code",
   "execution_count": 234,
   "id": "943c8c17-d738-4b91-b6be-dc08c367f997",
   "metadata": {
    "tags": []
   },
   "outputs": [],
   "source": [
    "for col in list(pd.DataFrame(X)):\n",
    "    df[str(col)] = pd.DataFrame(X)[col]"
   ]
  },
  {
   "cell_type": "code",
   "execution_count": 237,
   "id": "9da1f8d3-ee63-43a9-8924-8714d799c4c8",
   "metadata": {},
   "outputs": [
    {
     "data": {
      "text/html": [
       "<div>\n",
       "<style scoped>\n",
       "    .dataframe tbody tr th:only-of-type {\n",
       "        vertical-align: middle;\n",
       "    }\n",
       "\n",
       "    .dataframe tbody tr th {\n",
       "        vertical-align: top;\n",
       "    }\n",
       "\n",
       "    .dataframe thead th {\n",
       "        text-align: right;\n",
       "    }\n",
       "</style>\n",
       "<table border=\"1\" class=\"dataframe\">\n",
       "  <thead>\n",
       "    <tr style=\"text-align: right;\">\n",
       "      <th></th>\n",
       "      <th>Ссылка</th>\n",
       "      <th>Название</th>\n",
       "      <th>Коммандировка</th>\n",
       "      <th>Опыт</th>\n",
       "      <th>О себе</th>\n",
       "      <th>Образование</th>\n",
       "      <th>Интересы</th>\n",
       "      <th>Навыки</th>\n",
       "      <th>Образование-1</th>\n",
       "      <th>Образование-2</th>\n",
       "      <th>...</th>\n",
       "      <th>90</th>\n",
       "      <th>91</th>\n",
       "      <th>92</th>\n",
       "      <th>93</th>\n",
       "      <th>94</th>\n",
       "      <th>95</th>\n",
       "      <th>96</th>\n",
       "      <th>97</th>\n",
       "      <th>98</th>\n",
       "      <th>99</th>\n",
       "    </tr>\n",
       "  </thead>\n",
       "  <tbody>\n",
       "    <tr>\n",
       "      <th>121</th>\n",
       "      <td>https://hh.ru/resume/043d1db90003ba62800039ed1...</td>\n",
       "      <td>Менеджер / руководитель банка по работе с корп...</td>\n",
       "      <td>Москва, готова к переезду, готова к командировкам</td>\n",
       "      <td>Опыт работы 23 года 4 месяца</td>\n",
       "      <td>Достижения:\\nВ роли клиентского менеджера неод...</td>\n",
       "      <td>Высшее образование\\n2000\\nВоронежский государс...</td>\n",
       "      <td>Специализации:\\nМенеджер/консультант по страте...</td>\n",
       "      <td>Проектное управление\\nРабота в команде\\nОргани...</td>\n",
       "      <td>Воронежский государственный аграрный университ...</td>\n",
       "      <td>Воронежский государственный аграрный университ...</td>\n",
       "      <td>...</td>\n",
       "      <td>0.000286</td>\n",
       "      <td>0.000614</td>\n",
       "      <td>0.001554</td>\n",
       "      <td>-0.002824</td>\n",
       "      <td>0.000827</td>\n",
       "      <td>0.000280</td>\n",
       "      <td>0.001855</td>\n",
       "      <td>-0.001364</td>\n",
       "      <td>-0.001045</td>\n",
       "      <td>-0.001283</td>\n",
       "    </tr>\n",
       "    <tr>\n",
       "      <th>1637</th>\n",
       "      <td>https://hh.ru/resume/14e87dbf0000728a8a0039ed1...</td>\n",
       "      <td>эксперт по бизнес-процессам (управленческий/ин...</td>\n",
       "      <td>Москва, не готов к переезду, не готов к команд...</td>\n",
       "      <td>Опыт работы 19 лет 10 месяцев</td>\n",
       "      <td>Компетенции, навыки, знания, умения:\\n• Владен...</td>\n",
       "      <td>Высшее образование\\n2002\\nМИРЭА\\nавтоматизиров...</td>\n",
       "      <td>Специализации:\\nРуководитель группы разработки...</td>\n",
       "      <td>---</td>\n",
       "      <td>МИРЭА</td>\n",
       "      <td>NaN</td>\n",
       "      <td>...</td>\n",
       "      <td>0.000520</td>\n",
       "      <td>0.001356</td>\n",
       "      <td>-0.001179</td>\n",
       "      <td>-0.000428</td>\n",
       "      <td>-0.000851</td>\n",
       "      <td>-0.000229</td>\n",
       "      <td>0.003184</td>\n",
       "      <td>0.001581</td>\n",
       "      <td>0.000368</td>\n",
       "      <td>-0.000344</td>\n",
       "    </tr>\n",
       "  </tbody>\n",
       "</table>\n",
       "<p>2 rows × 137 columns</p>\n",
       "</div>"
      ],
      "text/plain": [
       "                                                 Ссылка  \\\n",
       "121   https://hh.ru/resume/043d1db90003ba62800039ed1...   \n",
       "1637  https://hh.ru/resume/14e87dbf0000728a8a0039ed1...   \n",
       "\n",
       "                                               Название  \\\n",
       "121   Менеджер / руководитель банка по работе с корп...   \n",
       "1637  эксперт по бизнес-процессам (управленческий/ин...   \n",
       "\n",
       "                                          Коммандировка  \\\n",
       "121   Москва, готова к переезду, готова к командировкам   \n",
       "1637  Москва, не готов к переезду, не готов к команд...   \n",
       "\n",
       "                               Опыт  \\\n",
       "121    Опыт работы 23 года 4 месяца   \n",
       "1637  Опыт работы 19 лет 10 месяцев   \n",
       "\n",
       "                                                 О себе  \\\n",
       "121   Достижения:\\nВ роли клиентского менеджера неод...   \n",
       "1637  Компетенции, навыки, знания, умения:\\n• Владен...   \n",
       "\n",
       "                                            Образование  \\\n",
       "121   Высшее образование\\n2000\\nВоронежский государс...   \n",
       "1637  Высшее образование\\n2002\\nМИРЭА\\nавтоматизиров...   \n",
       "\n",
       "                                               Интересы  \\\n",
       "121   Специализации:\\nМенеджер/консультант по страте...   \n",
       "1637  Специализации:\\nРуководитель группы разработки...   \n",
       "\n",
       "                                                 Навыки  \\\n",
       "121   Проектное управление\\nРабота в команде\\nОргани...   \n",
       "1637                                                ---   \n",
       "\n",
       "                                          Образование-1  \\\n",
       "121   Воронежский государственный аграрный университ...   \n",
       "1637                                              МИРЭА   \n",
       "\n",
       "                                          Образование-2  ...        90  \\\n",
       "121   Воронежский государственный аграрный университ...  ...  0.000286   \n",
       "1637                                                NaN  ...  0.000520   \n",
       "\n",
       "            91        92        93        94        95        96        97  \\\n",
       "121   0.000614  0.001554 -0.002824  0.000827  0.000280  0.001855 -0.001364   \n",
       "1637  0.001356 -0.001179 -0.000428 -0.000851 -0.000229  0.003184  0.001581   \n",
       "\n",
       "            98        99  \n",
       "121  -0.001045 -0.001283  \n",
       "1637  0.000368 -0.000344  \n",
       "\n",
       "[2 rows x 137 columns]"
      ]
     },
     "execution_count": 237,
     "metadata": {},
     "output_type": "execute_result"
    }
   ],
   "source": [
    "df.sample(2)"
   ]
  },
  {
   "cell_type": "markdown",
   "id": "2db75fdf-2093-45a5-9f7d-eb98f02d9f1d",
   "metadata": {},
   "source": [
    "Сохраним то, что получилось:"
   ]
  },
  {
   "cell_type": "code",
   "execution_count": 275,
   "id": "7c725198-aaec-4536-8b42-3ceb565cd6ca",
   "metadata": {},
   "outputs": [],
   "source": [
    "df.to_csv('resumes_features.csv')"
   ]
  },
  {
   "cell_type": "markdown",
   "id": "d99a5e42-8740-4827-8cfb-7881d7304bfd",
   "metadata": {},
   "source": [
    "**Модель**"
   ]
  },
  {
   "cell_type": "markdown",
   "id": "fbdbe66b-54cc-4d10-85b6-4d4b02bdfd7b",
   "metadata": {},
   "source": [
    "Наконец, перейдем к построению скоринговой модели (решим задачу классификации):"
   ]
  },
  {
   "cell_type": "code",
   "execution_count": 120,
   "id": "a66da45e-8de8-4088-82b6-5905c8d6d545",
   "metadata": {},
   "outputs": [],
   "source": [
    "df = pd.read_csv('resumes_features.csv')"
   ]
  },
  {
   "cell_type": "code",
   "execution_count": 122,
   "id": "f2701738-77ae-4774-967d-3173d07e656b",
   "metadata": {},
   "outputs": [],
   "source": [
    "df.drop(list(df)[0], axis=1, inplace=True)\n",
    "df.reset_index(inplace=True)\n",
    "df.drop(list(df)[0], axis=1, inplace=True)"
   ]
  },
  {
   "cell_type": "code",
   "execution_count": 124,
   "id": "c22bdd4e-2442-4b04-a9d4-07fccda80b0e",
   "metadata": {},
   "outputs": [
    {
     "data": {
      "text/html": [
       "<div>\n",
       "<style scoped>\n",
       "    .dataframe tbody tr th:only-of-type {\n",
       "        vertical-align: middle;\n",
       "    }\n",
       "\n",
       "    .dataframe tbody tr th {\n",
       "        vertical-align: top;\n",
       "    }\n",
       "\n",
       "    .dataframe thead th {\n",
       "        text-align: right;\n",
       "    }\n",
       "</style>\n",
       "<table border=\"1\" class=\"dataframe\">\n",
       "  <thead>\n",
       "    <tr style=\"text-align: right;\">\n",
       "      <th></th>\n",
       "      <th>Ссылка</th>\n",
       "      <th>Название</th>\n",
       "      <th>Коммандировка</th>\n",
       "      <th>Опыт</th>\n",
       "      <th>О себе</th>\n",
       "      <th>Образование</th>\n",
       "      <th>Интересы</th>\n",
       "      <th>Навыки</th>\n",
       "      <th>Образование-1</th>\n",
       "      <th>Образование-2</th>\n",
       "      <th>...</th>\n",
       "      <th>О себе, avg_tokens</th>\n",
       "      <th>О себе, 3-grams</th>\n",
       "      <th>Где работал</th>\n",
       "      <th>Где работал?</th>\n",
       "      <th>Аналитические комбинации слов</th>\n",
       "      <th>DA</th>\n",
       "      <th>DS</th>\n",
       "      <th>Кол-во работ</th>\n",
       "      <th>Аналитические комбинации слов в работе</th>\n",
       "      <th>Аналитические комбинации слов в навыках</th>\n",
       "    </tr>\n",
       "  </thead>\n",
       "  <tbody>\n",
       "    <tr>\n",
       "      <th>2639</th>\n",
       "      <td>https://hh.ru/resume/4a310d020002587a310039ed1...</td>\n",
       "      <td>Руководитель отдела продаж</td>\n",
       "      <td>Москва, м. Профсоюзная, не готов к переезду, н...</td>\n",
       "      <td>Опыт работы 5 лет 6 месяцев</td>\n",
       "      <td>Проходил обучение на корпоративных тренингах: ...</td>\n",
       "      <td>Высшее образование\\n2011\\nПрофессиональный инс...</td>\n",
       "      <td>Специализации:\\nРуководитель отдела продаж\\nЗа...</td>\n",
       "      <td>---</td>\n",
       "      <td>Профессиональный институт юриспруденции</td>\n",
       "      <td>NaN</td>\n",
       "      <td>...</td>\n",
       "      <td>0.000216</td>\n",
       "      <td>['проходить обучение корпоративный', 'обучение...</td>\n",
       "      <td>['Media Markt и Saturn', 'Media Markt и Saturn...</td>\n",
       "      <td>['Media Markt и Saturn', 'Media Markt и Saturn...</td>\n",
       "      <td>---</td>\n",
       "      <td>NaN</td>\n",
       "      <td>NaN</td>\n",
       "      <td>83</td>\n",
       "      <td>---</td>\n",
       "      <td>---</td>\n",
       "    </tr>\n",
       "  </tbody>\n",
       "</table>\n",
       "<p>1 rows × 36 columns</p>\n",
       "</div>"
      ],
      "text/plain": [
       "                                                 Ссылка  \\\n",
       "2639  https://hh.ru/resume/4a310d020002587a310039ed1...   \n",
       "\n",
       "                        Название  \\\n",
       "2639  Руководитель отдела продаж   \n",
       "\n",
       "                                          Коммандировка  \\\n",
       "2639  Москва, м. Профсоюзная, не готов к переезду, н...   \n",
       "\n",
       "                             Опыт  \\\n",
       "2639  Опыт работы 5 лет 6 месяцев   \n",
       "\n",
       "                                                 О себе  \\\n",
       "2639  Проходил обучение на корпоративных тренингах: ...   \n",
       "\n",
       "                                            Образование  \\\n",
       "2639  Высшее образование\\n2011\\nПрофессиональный инс...   \n",
       "\n",
       "                                               Интересы Навыки  \\\n",
       "2639  Специализации:\\nРуководитель отдела продаж\\nЗа...    ---   \n",
       "\n",
       "                                Образование-1 Образование-2  ...  \\\n",
       "2639  Профессиональный институт юриспруденции           NaN  ...   \n",
       "\n",
       "     О себе, avg_tokens                                    О себе, 3-grams  \\\n",
       "2639           0.000216  ['проходить обучение корпоративный', 'обучение...   \n",
       "\n",
       "                                            Где работал  \\\n",
       "2639  ['Media Markt и Saturn', 'Media Markt и Saturn...   \n",
       "\n",
       "                                           Где работал?  \\\n",
       "2639  ['Media Markt и Saturn', 'Media Markt и Saturn...   \n",
       "\n",
       "      Аналитические комбинации слов  DA  DS Кол-во работ  \\\n",
       "2639                            --- NaN NaN           83   \n",
       "\n",
       "     Аналитические комбинации слов в работе  \\\n",
       "2639                                    ---   \n",
       "\n",
       "     Аналитические комбинации слов в навыках  \n",
       "2639                                     ---  \n",
       "\n",
       "[1 rows x 36 columns]"
      ]
     },
     "execution_count": 124,
     "metadata": {},
     "output_type": "execute_result"
    }
   ],
   "source": [
    "df.sample(1)"
   ]
  },
  {
   "cell_type": "markdown",
   "id": "142d1810-c99b-41da-a5a4-597e78099c8d",
   "metadata": {},
   "source": [
    "Зададим множества:"
   ]
  },
  {
   "cell_type": "code",
   "execution_count": 298,
   "id": "c0f4532e-b9c6-47d1-a3e2-999ee35df481",
   "metadata": {},
   "outputs": [],
   "source": [
    "X = df.loc[df['DA'].notna()].loc[:, list(df)[36:]]"
   ]
  },
  {
   "cell_type": "code",
   "execution_count": 299,
   "id": "33387d44-c252-4f19-b33e-4d1be323bf08",
   "metadata": {
    "tags": []
   },
   "outputs": [],
   "source": [
    "y = df.loc[df['DA'].notna(), 'DA']"
   ]
  },
  {
   "cell_type": "markdown",
   "id": "81fdfe77-fb9c-4407-8a85-d9e0d22fbc83",
   "metadata": {},
   "source": [
    "Обучаем модель:"
   ]
  },
  {
   "cell_type": "code",
   "execution_count": 292,
   "id": "e23cf110-97e2-4602-b415-c3327e58ccaf",
   "metadata": {},
   "outputs": [],
   "source": [
    "from sklearn.linear_model import LogisticRegression"
   ]
  },
  {
   "cell_type": "code",
   "execution_count": 293,
   "id": "84ec480b-d15f-4d63-a549-85f99186c723",
   "metadata": {},
   "outputs": [],
   "source": [
    "reg = LogisticRegression()"
   ]
  },
  {
   "cell_type": "code",
   "execution_count": 327,
   "id": "e9aff7c9-1baa-4a30-8a20-2e38e27ab832",
   "metadata": {},
   "outputs": [],
   "source": [
    "X_train = X.sample(95)\n",
    "y_train = y[X_train.index]"
   ]
  },
  {
   "cell_type": "code",
   "execution_count": 328,
   "id": "a9c21733-a097-47b0-afab-87156c80f43f",
   "metadata": {},
   "outputs": [],
   "source": [
    "X_test = X.drop(X_train.index)\n",
    "y_test = y.drop(y_train.index)"
   ]
  },
  {
   "cell_type": "code",
   "execution_count": 329,
   "id": "927266a3-dd25-41df-9cc5-dacbd9bab475",
   "metadata": {},
   "outputs": [
    {
     "data": {
      "text/plain": [
       "LogisticRegression()"
      ]
     },
     "execution_count": 329,
     "metadata": {},
     "output_type": "execute_result"
    }
   ],
   "source": [
    "reg.fit(X_train, y_train)"
   ]
  },
  {
   "cell_type": "markdown",
   "id": "29ea2423-729b-412d-aad3-4dd3664c2102",
   "metadata": {},
   "source": [
    "Смотрим на accuracy:"
   ]
  },
  {
   "cell_type": "code",
   "execution_count": 330,
   "id": "08811f33-cbd3-432d-92ab-e24063455274",
   "metadata": {},
   "outputs": [
    {
     "data": {
      "text/plain": [
       "0.4"
      ]
     },
     "execution_count": 330,
     "metadata": {},
     "output_type": "execute_result"
    }
   ],
   "source": [
    "from sklearn.metrics import accuracy_score\n",
    "accuracy_score(y_test, reg.predict(X_test))"
   ]
  },
  {
   "cell_type": "markdown",
   "id": "eef7ca3b-4203-4813-9749-84da3fb7d93e",
   "metadata": {},
   "source": [
    "Какие еще добавить признаки:"
   ]
  },
  {
   "cell_type": "markdown",
   "id": "e5a2d091-198a-4160-982e-54abb1c9a631",
   "metadata": {},
   "source": [
    "!! Проблема с Опытом + OHE"
   ]
  },
  {
   "cell_type": "code",
   "execution_count": 342,
   "id": "74b833ef-8be0-4813-b74a-ec7fa8aaa939",
   "metadata": {},
   "outputs": [
    {
     "data": {
      "text/html": [
       "<div>\n",
       "<style scoped>\n",
       "    .dataframe tbody tr th:only-of-type {\n",
       "        vertical-align: middle;\n",
       "    }\n",
       "\n",
       "    .dataframe tbody tr th {\n",
       "        vertical-align: top;\n",
       "    }\n",
       "\n",
       "    .dataframe thead th {\n",
       "        text-align: right;\n",
       "    }\n",
       "</style>\n",
       "<table border=\"1\" class=\"dataframe\">\n",
       "  <thead>\n",
       "    <tr style=\"text-align: right;\">\n",
       "      <th></th>\n",
       "      <th>Кол-во образований</th>\n",
       "      <th>Топовость образования</th>\n",
       "      <th>Справочник по интересам</th>\n",
       "      <th>Релокация?</th>\n",
       "      <th>Коммандировка?</th>\n",
       "      <th>Город?</th>\n",
       "      <th>Опыт нормализованный</th>\n",
       "      <th>Уровень оборазования нормализованный</th>\n",
       "      <th>Карьерный рост</th>\n",
       "      <th>Аналитические комбинации слов в навыках</th>\n",
       "    </tr>\n",
       "  </thead>\n",
       "  <tbody>\n",
       "    <tr>\n",
       "      <th>0</th>\n",
       "      <td>2</td>\n",
       "      <td>False</td>\n",
       "      <td>---</td>\n",
       "      <td>готова к редким командировкам</td>\n",
       "      <td>не готова к переезду</td>\n",
       "      <td>Москва</td>\n",
       "      <td>---</td>\n",
       "      <td>Высшее образование</td>\n",
       "      <td>False</td>\n",
       "      <td>found smt by rule (SQL)|(Excel)|(Python)|(Tabl...</td>\n",
       "    </tr>\n",
       "    <tr>\n",
       "      <th>1</th>\n",
       "      <td>1</td>\n",
       "      <td>False</td>\n",
       "      <td>---</td>\n",
       "      <td>готова к командировкам</td>\n",
       "      <td>готова к переезду</td>\n",
       "      <td>Москва</td>\n",
       "      <td>---</td>\n",
       "      <td>Высшее образование</td>\n",
       "      <td>False</td>\n",
       "      <td>---</td>\n",
       "    </tr>\n",
       "    <tr>\n",
       "      <th>2</th>\n",
       "      <td>1</td>\n",
       "      <td>False</td>\n",
       "      <td>---</td>\n",
       "      <td>готова к командировкам</td>\n",
       "      <td>готова к переезду</td>\n",
       "      <td>Шахты</td>\n",
       "      <td>---</td>\n",
       "      <td>Высшее образование</td>\n",
       "      <td>False</td>\n",
       "      <td>---</td>\n",
       "    </tr>\n",
       "    <tr>\n",
       "      <th>3</th>\n",
       "      <td>2</td>\n",
       "      <td>False</td>\n",
       "      <td>---</td>\n",
       "      <td>готов к командировкам</td>\n",
       "      <td>готов к переезду</td>\n",
       "      <td>Москва</td>\n",
       "      <td>---</td>\n",
       "      <td>Высшее образование</td>\n",
       "      <td>True</td>\n",
       "      <td>---</td>\n",
       "    </tr>\n",
       "    <tr>\n",
       "      <th>4</th>\n",
       "      <td>1</td>\n",
       "      <td>False</td>\n",
       "      <td>---</td>\n",
       "      <td>готов к командировкам</td>\n",
       "      <td>готов к переезду</td>\n",
       "      <td>Краснодар</td>\n",
       "      <td>---</td>\n",
       "      <td>Среднее специальное образование</td>\n",
       "      <td>True</td>\n",
       "      <td>---</td>\n",
       "    </tr>\n",
       "    <tr>\n",
       "      <th>...</th>\n",
       "      <td>...</td>\n",
       "      <td>...</td>\n",
       "      <td>...</td>\n",
       "      <td>...</td>\n",
       "      <td>...</td>\n",
       "      <td>...</td>\n",
       "      <td>...</td>\n",
       "      <td>...</td>\n",
       "      <td>...</td>\n",
       "      <td>...</td>\n",
       "    </tr>\n",
       "    <tr>\n",
       "      <th>2720</th>\n",
       "      <td>1</td>\n",
       "      <td>False</td>\n",
       "      <td>found smt by rule (Analyst)|(Аналитик данных)|...</td>\n",
       "      <td>не готова к командировкам</td>\n",
       "      <td>не готова к переезду</td>\n",
       "      <td>Москва</td>\n",
       "      <td>---</td>\n",
       "      <td>Высшее образование</td>\n",
       "      <td>True</td>\n",
       "      <td>---</td>\n",
       "    </tr>\n",
       "    <tr>\n",
       "      <th>2721</th>\n",
       "      <td>1</td>\n",
       "      <td>False</td>\n",
       "      <td>found smt by rule (Analyst)|(Аналитик данных)|...</td>\n",
       "      <td>готов к командировкам</td>\n",
       "      <td>не готов к переезду</td>\n",
       "      <td>Москва</td>\n",
       "      <td>---</td>\n",
       "      <td>Неоконченное высшее образование</td>\n",
       "      <td>True</td>\n",
       "      <td>---</td>\n",
       "    </tr>\n",
       "    <tr>\n",
       "      <th>2722</th>\n",
       "      <td>1</td>\n",
       "      <td>False</td>\n",
       "      <td>---</td>\n",
       "      <td>готова к командировкам</td>\n",
       "      <td>не готова к переезду</td>\n",
       "      <td>Москва</td>\n",
       "      <td>---</td>\n",
       "      <td>Высшее образование</td>\n",
       "      <td>True</td>\n",
       "      <td>---</td>\n",
       "    </tr>\n",
       "    <tr>\n",
       "      <th>2723</th>\n",
       "      <td>2</td>\n",
       "      <td>False</td>\n",
       "      <td>---</td>\n",
       "      <td>готов к командировкам</td>\n",
       "      <td>готов к переезду</td>\n",
       "      <td>Москва</td>\n",
       "      <td>---</td>\n",
       "      <td>Высшее образование</td>\n",
       "      <td>False</td>\n",
       "      <td>---</td>\n",
       "    </tr>\n",
       "    <tr>\n",
       "      <th>2724</th>\n",
       "      <td>1</td>\n",
       "      <td>False</td>\n",
       "      <td>---</td>\n",
       "      <td>не готова к командировкам</td>\n",
       "      <td>не готова к переезду</td>\n",
       "      <td>Москва</td>\n",
       "      <td>---</td>\n",
       "      <td>Высшее образование</td>\n",
       "      <td>False</td>\n",
       "      <td>---</td>\n",
       "    </tr>\n",
       "  </tbody>\n",
       "</table>\n",
       "<p>2725 rows × 10 columns</p>\n",
       "</div>"
      ],
      "text/plain": [
       "      Кол-во образований  Топовость образования  \\\n",
       "0                      2                  False   \n",
       "1                      1                  False   \n",
       "2                      1                  False   \n",
       "3                      2                  False   \n",
       "4                      1                  False   \n",
       "...                  ...                    ...   \n",
       "2720                   1                  False   \n",
       "2721                   1                  False   \n",
       "2722                   1                  False   \n",
       "2723                   2                  False   \n",
       "2724                   1                  False   \n",
       "\n",
       "                                Справочник по интересам  \\\n",
       "0                                                   ---   \n",
       "1                                                   ---   \n",
       "2                                                   ---   \n",
       "3                                                   ---   \n",
       "4                                                   ---   \n",
       "...                                                 ...   \n",
       "2720  found smt by rule (Analyst)|(Аналитик данных)|...   \n",
       "2721  found smt by rule (Analyst)|(Аналитик данных)|...   \n",
       "2722                                                ---   \n",
       "2723                                                ---   \n",
       "2724                                                ---   \n",
       "\n",
       "                          Релокация?         Коммандировка?     Город?  \\\n",
       "0      готова к редким командировкам   не готова к переезду     Москва   \n",
       "1             готова к командировкам      готова к переезду     Москва   \n",
       "2             готова к командировкам      готова к переезду      Шахты   \n",
       "3              готов к командировкам       готов к переезду     Москва   \n",
       "4              готов к командировкам       готов к переезду  Краснодар   \n",
       "...                              ...                    ...        ...   \n",
       "2720       не готова к командировкам   не готова к переезду     Москва   \n",
       "2721           готов к командировкам    не готов к переезду     Москва   \n",
       "2722          готова к командировкам   не готова к переезду     Москва   \n",
       "2723           готов к командировкам       готов к переезду     Москва   \n",
       "2724       не готова к командировкам   не готова к переезду     Москва   \n",
       "\n",
       "     Опыт нормализованный Уровень оборазования нормализованный  \\\n",
       "0                     ---                   Высшее образование   \n",
       "1                     ---                   Высшее образование   \n",
       "2                     ---                   Высшее образование   \n",
       "3                     ---                   Высшее образование   \n",
       "4                     ---      Среднее специальное образование   \n",
       "...                   ...                                  ...   \n",
       "2720                  ---                   Высшее образование   \n",
       "2721                  ---      Неоконченное высшее образование   \n",
       "2722                  ---                   Высшее образование   \n",
       "2723                  ---                   Высшее образование   \n",
       "2724                  ---                   Высшее образование   \n",
       "\n",
       "      Карьерный рост            Аналитические комбинации слов в навыках  \n",
       "0              False  found smt by rule (SQL)|(Excel)|(Python)|(Tabl...  \n",
       "1              False                                                ---  \n",
       "2              False                                                ---  \n",
       "3               True                                                ---  \n",
       "4               True                                                ---  \n",
       "...              ...                                                ...  \n",
       "2720            True                                                ---  \n",
       "2721            True                                                ---  \n",
       "2722            True                                                ---  \n",
       "2723           False                                                ---  \n",
       "2724           False                                                ---  \n",
       "\n",
       "[2725 rows x 10 columns]"
      ]
     },
     "execution_count": 342,
     "metadata": {},
     "output_type": "execute_result"
    }
   ],
   "source": [
    "df.loc[:,['Кол-во образований',\n",
    "'Топовость образования',\n",
    "'Справочник по интересам',\n",
    "'Релокация?',\n",
    "'Коммандировка?',\n",
    "'Город?',\n",
    "'Опыт нормализованный',\n",
    "'Уровень оборазования нормализованный',\n",
    "'Карьерный рост',\n",
    "'Аналитические комбинации слов в навыках']]"
   ]
  },
  {
   "cell_type": "markdown",
   "id": "9f505649-5ada-47d8-afdb-61020bb6b6f7",
   "metadata": {},
   "source": [
    "**Кластеризация**"
   ]
  },
  {
   "cell_type": "code",
   "execution_count": 249,
   "id": "50a57b9d-0383-4420-9c85-3f9134ac5faf",
   "metadata": {},
   "outputs": [],
   "source": [
    "scaler = StandardScaler()\n",
    "x = scaler.fit_transform(df.loc[:, list(df)[36:]])"
   ]
  },
  {
   "cell_type": "code",
   "execution_count": 250,
   "id": "94c9b165-0d9e-4639-a7f6-bc0768607aee",
   "metadata": {},
   "outputs": [],
   "source": [
    "pca = PCA(n_components=3)\n",
    "principalComponents = pca.fit_transform(x)\n",
    "principal = pd.DataFrame(data = principalComponents\n",
    "             , columns = ['principal component 1', 'principal component 2','principal component 3'])"
   ]
  },
  {
   "cell_type": "code",
   "execution_count": 251,
   "id": "3801364e-b9c9-4c91-9321-4001579ef2ef",
   "metadata": {},
   "outputs": [
    {
     "data": {
      "text/plain": [
       "0.6274043196127124"
      ]
     },
     "execution_count": 251,
     "metadata": {},
     "output_type": "execute_result"
    }
   ],
   "source": [
    "pca.explained_variance_ratio_[:2].sum()"
   ]
  },
  {
   "cell_type": "code",
   "execution_count": 252,
   "id": "a6ba132f-c5c8-405f-904b-69600b03b5fa",
   "metadata": {},
   "outputs": [
    {
     "data": {
      "text/html": [
       "<div>\n",
       "<style scoped>\n",
       "    .dataframe tbody tr th:only-of-type {\n",
       "        vertical-align: middle;\n",
       "    }\n",
       "\n",
       "    .dataframe tbody tr th {\n",
       "        vertical-align: top;\n",
       "    }\n",
       "\n",
       "    .dataframe thead th {\n",
       "        text-align: right;\n",
       "    }\n",
       "</style>\n",
       "<table border=\"1\" class=\"dataframe\">\n",
       "  <thead>\n",
       "    <tr style=\"text-align: right;\">\n",
       "      <th></th>\n",
       "      <th>principal component 1</th>\n",
       "      <th>principal component 2</th>\n",
       "      <th>principal component 3</th>\n",
       "    </tr>\n",
       "  </thead>\n",
       "  <tbody>\n",
       "    <tr>\n",
       "      <th>1749</th>\n",
       "      <td>-3.773290</td>\n",
       "      <td>-1.913587</td>\n",
       "      <td>5.934628</td>\n",
       "    </tr>\n",
       "    <tr>\n",
       "      <th>1607</th>\n",
       "      <td>-0.641084</td>\n",
       "      <td>-3.289873</td>\n",
       "      <td>0.036668</td>\n",
       "    </tr>\n",
       "  </tbody>\n",
       "</table>\n",
       "</div>"
      ],
      "text/plain": [
       "      principal component 1  principal component 2  principal component 3\n",
       "1749              -3.773290              -1.913587               5.934628\n",
       "1607              -0.641084              -3.289873               0.036668"
      ]
     },
     "execution_count": 252,
     "metadata": {},
     "output_type": "execute_result"
    }
   ],
   "source": [
    "principal.sample(2)"
   ]
  },
  {
   "cell_type": "code",
   "execution_count": 255,
   "id": "5335ff9d-a817-42d1-9a23-1e4e2cc250c4",
   "metadata": {},
   "outputs": [
    {
     "name": "stderr",
     "output_type": "stream",
     "text": [
      "/Users/vladkopchev/miniconda3/lib/python3.9/site-packages/seaborn/_decorators.py:36: FutureWarning: Pass the following variables as keyword args: x, y. From version 0.12, the only valid positional argument will be `data`, and passing other arguments without an explicit keyword will result in an error or misinterpretation.\n",
      "  warnings.warn(\n"
     ]
    },
    {
     "data": {
      "text/plain": [
       "<AxesSubplot:xlabel='principal component 1', ylabel='principal component 2'>"
      ]
     },
     "execution_count": 255,
     "metadata": {},
     "output_type": "execute_result"
    },
    {
     "data": {
      "image/png": "[encoded data removed]",
      "text/plain": [
       "<Figure size 640x480 with 1 Axes>"
      ]
     },
     "metadata": {},
     "output_type": "display_data"
    }
   ],
   "source": [
    "sns.scatterplot(principal['principal component 1'], principal['principal component 2'])"
   ]
  },
  {
   "cell_type": "code",
   "execution_count": 256,
   "id": "0f4909dd-ad7a-4698-9e4d-fa92ebfd3ab3",
   "metadata": {},
   "outputs": [],
   "source": [
    "kmeans = KMeans(n_clusters=4).fit(principal)\n",
    "l = kmeans.labels_"
   ]
  },
  {
   "cell_type": "code",
   "execution_count": 257,
   "id": "bf9cde78-e3dd-4c5e-9081-a36ce08a2250",
   "metadata": {},
   "outputs": [
    {
     "data": {
      "text/plain": [
       "<matplotlib.collections.PathCollection at 0x7f7d9c7b85b0>"
      ]
     },
     "execution_count": 257,
     "metadata": {},
     "output_type": "execute_result"
    },
    {
     "data": {
      "image/png": "[encoded data removed]",
      "text/plain": [
       "<Figure size 640x480 with 1 Axes>"
      ]
     },
     "metadata": {},
     "output_type": "display_data"
    }
   ],
   "source": [
    "plt.scatter(principal['principal component 1'], \n",
    "             principal['principal component 2'],\n",
    "             c=l,\n",
    "           )"
   ]
  },
  {
   "cell_type": "code",
   "execution_count": 155,
   "id": "bf3dce84-d8cc-48d6-814a-496ffd5114db",
   "metadata": {},
   "outputs": [
    {
     "data": {
      "text/plain": [
       "0       Уверенный пользователь ПК, Ms Word, Ms Excel, ...\n",
       "1       Энергична, активна, в поиске новых возможносте...\n",
       "2       опыт прямых продаж, ведение коммерческих перег...\n",
       "3       Коммуникабелен\\nУмение работать с возражениями...\n",
       "4       Дисциплина - умение выполнять поставленные зад...\n",
       "                              ...                        \n",
       "2988    Опыт управления более 15-и лет. Развитые управ...\n",
       "2990    Аналитика продаж ,поиск клиентов,связь с произ...\n",
       "2994    Многозадачность, стрессоустойчивость, инициати...\n",
       "2995    Уверенный пользователь ПК: MS Office (Word, Ex...\n",
       "2997                                                    .\n",
       "Name: О себе, Length: 2057, dtype: object"
      ]
     },
     "execution_count": 155,
     "metadata": {},
     "output_type": "execute_result"
    }
   ],
   "source": [
    "df.loc[df['clust']==0]['О себе']"
   ]
  },
  {
   "cell_type": "code",
   "execution_count": 184,
   "id": "3156420d-bcc8-4db0-80ff-549ad6005b7f",
   "metadata": {},
   "outputs": [
    {
     "name": "stdout",
     "output_type": "stream",
     "text": [
      "1 : 2057\n",
      "2 : 356\n",
      "3 : 27\n",
      "4 : 25\n",
      "5 : 80\n",
      "6 : 41\n",
      "7 : 139\n"
     ]
    }
   ],
   "source": [
    "for x in np.unique(df['clust']):\n",
    "    print(x + 1, ':', df.loc[df['clust']==x]['О себе'].shape[0])"
   ]
  }
 ],
 "metadata": {
  "kernelspec": {
   "display_name": "Python 3 (ipykernel)",
   "language": "python",
   "name": "python3"
  },
  "language_info": {
   "codemirror_mode": {
    "name": "ipython",
    "version": 3
   },
   "file_extension": ".py",
   "mimetype": "text/x-python",
   "name": "python",
   "nbconvert_exporter": "python",
   "pygments_lexer": "ipython3",
   "version": "3.9.5"
  }
 },
 "nbformat": 4,
 "nbformat_minor": 5
}
