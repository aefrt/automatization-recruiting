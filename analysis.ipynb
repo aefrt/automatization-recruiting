{
 "cells": [
  {
   "cell_type": "markdown",
   "id": "41b3e9f1-17cd-448d-bde7-9cfef4b30262",
   "metadata": {},
   "source": [
    "## ВКР: анализ данных"
   ]
  },
  {
   "cell_type": "markdown",
   "id": "603a9da5-cd31-436e-ac09-53a4989c2552",
   "metadata": {},
   "source": [
    "Автоматизация подбора персонала\n",
    "\n",
    "Копчев Владислав, БПМИ197"
   ]
  },
  {
   "cell_type": "markdown",
   "id": "2aa41204-e166-4fbb-aacc-c60461c4c663",
   "metadata": {},
   "source": [
    "В данном ноутбуке предобработанные в ноутбуке `preprocessing.ipynb` данные мы будем анализировать и делать из них полезные для принятия HR-решений выводы:"
   ]
  },
  {
   "cell_type": "markdown",
   "id": "9b7a3e77-82be-45ab-b8c0-0327d7e7ff03",
   "metadata": {},
   "source": [
    "### Библиотеки"
   ]
  },
  {
   "cell_type": "markdown",
   "id": "03eee3b0-f0de-4cfa-814a-d498e7dc8bd2",
   "metadata": {},
   "source": [
    "see описание из `scraping.ipynb`."
   ]
  },
  {
   "cell_type": "code",
   "execution_count": 149,
   "id": "51390a49-af19-4714-8209-35086ee596b8",
   "metadata": {},
   "outputs": [],
   "source": [
    "from bs4 import BeautifulSoup\n",
    "import requests\n",
    "import pandas as pd\n",
    "from selenium import webdriver\n",
    "from selenium.webdriver.common.keys import Keys\n",
    "from selenium.webdriver.common.by import By\n",
    "from selenium.webdriver.support.ui import Select\n",
    "# !pip install transliterate\n",
    "from transliterate import translit\n",
    "import re\n",
    "import numpy as np"
   ]
  },
  {
   "cell_type": "markdown",
   "id": "32086964-45a4-4153-a5f3-2ef4c7bc0e81",
   "metadata": {},
   "source": [
    "### Далее"
   ]
  },
  {
   "cell_type": "markdown",
   "id": "8fbb546b-7666-4409-ad09-313b6f215ce8",
   "metadata": {},
   "source": [
    "Итак, для начала импортируем нашу табличку, полученную в ноутбуке `preprocessing.ipynb`."
   ]
  },
  {
   "cell_type": "markdown",
   "id": "2d549340-7b2a-45e8-90c2-07aee93742e8",
   "metadata": {},
   "source": [
    "Посмотрим на первые 100 резюме, чтобы понять, как выглядит наша таблица:"
   ]
  },
  {
   "cell_type": "code",
   "execution_count": 150,
   "id": "fc1ed249-4013-4d1b-9967-f82fa32996ba",
   "metadata": {},
   "outputs": [
    {
     "data": {
      "text/html": [
       "<div>\n",
       "<style scoped>\n",
       "    .dataframe tbody tr th:only-of-type {\n",
       "        vertical-align: middle;\n",
       "    }\n",
       "\n",
       "    .dataframe tbody tr th {\n",
       "        vertical-align: top;\n",
       "    }\n",
       "\n",
       "    .dataframe thead th {\n",
       "        text-align: right;\n",
       "    }\n",
       "</style>\n",
       "<table border=\"1\" class=\"dataframe\">\n",
       "  <thead>\n",
       "    <tr style=\"text-align: right;\">\n",
       "      <th></th>\n",
       "      <th>Unnamed: 0</th>\n",
       "      <th>Unnamed: 0.1</th>\n",
       "      <th>Unnamed: 0.1.1</th>\n",
       "      <th>Unnamed: 0.1.1.1</th>\n",
       "      <th>Ссылка</th>\n",
       "      <th>Название</th>\n",
       "      <th>Коммандировка</th>\n",
       "      <th>Опыт работы, лет</th>\n",
       "      <th>О себе</th>\n",
       "      <th>Образование</th>\n",
       "      <th>...</th>\n",
       "      <th>Коммандировка?</th>\n",
       "      <th>Город?</th>\n",
       "      <th>Аналитические комбинации слов</th>\n",
       "      <th>Справочник по интересам</th>\n",
       "      <th>Карьерный рост</th>\n",
       "      <th>О себе, summarized</th>\n",
       "      <th>О себе, tokens</th>\n",
       "      <th>О себе, flat_tokens</th>\n",
       "      <th>О себе, 3-grams</th>\n",
       "      <th>О себе, avg_tokens</th>\n",
       "    </tr>\n",
       "  </thead>\n",
       "  <tbody>\n",
       "    <tr>\n",
       "      <th>0</th>\n",
       "      <td>0</td>\n",
       "      <td>1</td>\n",
       "      <td>1</td>\n",
       "      <td>1</td>\n",
       "      <td>https://hh.ru/resume/628596ac000657935b0039ed1...</td>\n",
       "      <td>BI аналитик</td>\n",
       "      <td>Москва, не готова к переезду, готова к редким ...</td>\n",
       "      <td>Опыт работы 1 год 5 месяцев</td>\n",
       "      <td>В последние годы проходила обучение без возмож...</td>\n",
       "      <td>Высшее образование (Бакалавр)\\n2022\\nНациональ...</td>\n",
       "      <td>...</td>\n",
       "      <td>не готова к переезду</td>\n",
       "      <td>Москва</td>\n",
       "      <td>---</td>\n",
       "      <td>found smt by rule (Analyst)|(Аналитик данных)|...</td>\n",
       "      <td>True</td>\n",
       "      <td>Гражданин России, проживающий в Санкт-Петербур...</td>\n",
       "      <td>[array([ 4.2191329e-03,  3.8639535e-04, -8.798...</td>\n",
       "      <td>[ 2.95168342e-04 -1.54395448e-03 -1.38613814e-...</td>\n",
       "      <td>['последний год проходить', 'год проходить обу...</td>\n",
       "      <td>-0.000129</td>\n",
       "    </tr>\n",
       "    <tr>\n",
       "      <th>1</th>\n",
       "      <td>1</td>\n",
       "      <td>2</td>\n",
       "      <td>2</td>\n",
       "      <td>2</td>\n",
       "      <td>https://hh.ru/resume/dfbcae000004342d8f0039ed1...</td>\n",
       "      <td>BI аналитик</td>\n",
       "      <td>Москва, не готова к переезду, готова к команди...</td>\n",
       "      <td>Опыт работы 3 года 3 месяца</td>\n",
       "      <td>---</td>\n",
       "      <td>Высшее образование (Бакалавр)\\n2019\\nСамарский...</td>\n",
       "      <td>...</td>\n",
       "      <td>не готова к переезду</td>\n",
       "      <td>Москва</td>\n",
       "      <td>---</td>\n",
       "      <td>found smt by rule (Analyst)|(Аналитик данных)|...</td>\n",
       "      <td>False</td>\n",
       "      <td>---</td>\n",
       "      <td>[array([-8.6196875e-03,  3.6657380e-03,  5.189...</td>\n",
       "      <td>[-8.6196875e-03  3.6657380e-03  5.1898835e-03 ...</td>\n",
       "      <td>-</td>\n",
       "      <td>0.000681</td>\n",
       "    </tr>\n",
       "    <tr>\n",
       "      <th>2</th>\n",
       "      <td>2</td>\n",
       "      <td>3</td>\n",
       "      <td>3</td>\n",
       "      <td>3</td>\n",
       "      <td>https://hh.ru/resume/bebf6a630008069d8c0039ed1...</td>\n",
       "      <td>Аналитик</td>\n",
       "      <td>Санкт-Петербург, м. Гражданский проспект, гото...</td>\n",
       "      <td>Опыт работы 7 лет 2 месяца</td>\n",
       "      <td>Имею экономическое образование. Продвинутый по...</td>\n",
       "      <td>Высшее образование (Бакалавр)\\n2015\\nСанкт-Пет...</td>\n",
       "      <td>...</td>\n",
       "      <td>готов к переезду</td>\n",
       "      <td>Санкт</td>\n",
       "      <td>found smt by rule (SQL)|(Excel)|(Python)|(Tabl...</td>\n",
       "      <td>found smt by rule (Analyst)|(Аналитик данных)|...</td>\n",
       "      <td>False</td>\n",
       "      <td>На данный момент не нахожусь на территории РФ....</td>\n",
       "      <td>[array([-0.00577433, -0.00298019,  0.00639458,...</td>\n",
       "      <td>[-1.1685997e-03  1.2998827e-03 -2.5936777e-03 ...</td>\n",
       "      <td>['иметь экономический образование', 'экономиче...</td>\n",
       "      <td>-0.000146</td>\n",
       "    </tr>\n",
       "    <tr>\n",
       "      <th>3</th>\n",
       "      <td>3</td>\n",
       "      <td>4</td>\n",
       "      <td>4</td>\n",
       "      <td>4</td>\n",
       "      <td>https://hh.ru/resume/8606f37b000773de980039ed1...</td>\n",
       "      <td>Программист-разработчик</td>\n",
       "      <td>Москва, м. Петровско-Разумовская, не готов к п...</td>\n",
       "      <td>Опыт работы 1 год 1 месяц</td>\n",
       "      <td>Имеется опыт в создании Android-приложений на ...</td>\n",
       "      <td>Высшее образование (Бакалавр)\\n2022\\nЧелябинск...</td>\n",
       "      <td>...</td>\n",
       "      <td>не готов к переезду</td>\n",
       "      <td>Москва</td>\n",
       "      <td>found smt by rule (SQL)|(Excel)|(Python)|(Tabl...</td>\n",
       "      <td>---</td>\n",
       "      <td>False</td>\n",
       "      <td>В настоящее время я работаю в сфере разработки...</td>\n",
       "      <td>[array([-8.7200766e-03,  9.9531859e-03, -2.345...</td>\n",
       "      <td>[-4.07442392e-04  5.87383693e-04  8.51579127e-...</td>\n",
       "      <td>['иметься опыт создание', 'опыт создание andro...</td>\n",
       "      <td>0.000049</td>\n",
       "    </tr>\n",
       "    <tr>\n",
       "      <th>4</th>\n",
       "      <td>4</td>\n",
       "      <td>5</td>\n",
       "      <td>5</td>\n",
       "      <td>5</td>\n",
       "      <td>https://hh.ru/resume/993bd0980002dd6cff0039ed1...</td>\n",
       "      <td>Аналитик Bi</td>\n",
       "      <td>Москва, м. Сокол, готов к переезду, готов к ко...</td>\n",
       "      <td>Опыт работы 10 лет 7 месяцев</td>\n",
       "      <td>Уверенный пользователь.\\nЖелание оптимизации и...</td>\n",
       "      <td>Высшее образование\\n2010\\nДальневосточный госу...</td>\n",
       "      <td>...</td>\n",
       "      <td>готов к переезду</td>\n",
       "      <td>Москва</td>\n",
       "      <td>found smt by rule (SQL)|(Excel)|(Python)|(Tabl...</td>\n",
       "      <td>found smt by rule (Analyst)|(Аналитик данных)|...</td>\n",
       "      <td>False</td>\n",
       "      <td>Уверенный пользователь Microsoft Dynamics AX, ...</td>\n",
       "      <td>[array([ 6.2332065e-03, -1.6407053e-03,  5.968...</td>\n",
       "      <td>[-3.7161107e-04  2.3680142e-04 -1.6213297e-04 ...</td>\n",
       "      <td>['уверенный пользователь желание', 'пользовате...</td>\n",
       "      <td>-0.000058</td>\n",
       "    </tr>\n",
       "    <tr>\n",
       "      <th>...</th>\n",
       "      <td>...</td>\n",
       "      <td>...</td>\n",
       "      <td>...</td>\n",
       "      <td>...</td>\n",
       "      <td>...</td>\n",
       "      <td>...</td>\n",
       "      <td>...</td>\n",
       "      <td>...</td>\n",
       "      <td>...</td>\n",
       "      <td>...</td>\n",
       "      <td>...</td>\n",
       "      <td>...</td>\n",
       "      <td>...</td>\n",
       "      <td>...</td>\n",
       "      <td>...</td>\n",
       "      <td>...</td>\n",
       "      <td>...</td>\n",
       "      <td>...</td>\n",
       "      <td>...</td>\n",
       "      <td>...</td>\n",
       "      <td>...</td>\n",
       "    </tr>\n",
       "    <tr>\n",
       "      <th>62</th>\n",
       "      <td>62</td>\n",
       "      <td>69</td>\n",
       "      <td>69</td>\n",
       "      <td>69</td>\n",
       "      <td>https://hh.ru/resume/15abcb4a000902e72c0039ed1...</td>\n",
       "      <td>Аналитик</td>\n",
       "      <td>Москва, готов к переезду, готов к командировкам</td>\n",
       "      <td>Опыт работы 1 год 6 месяцев</td>\n",
       "      <td>В последние годы я проходил обучение без возмо...</td>\n",
       "      <td>Высшее образование (Бакалавр)\\n2022\\nРоссийски...</td>\n",
       "      <td>...</td>\n",
       "      <td>готов к переезду</td>\n",
       "      <td>Москва</td>\n",
       "      <td>found smt by rule (SQL)|(Excel)|(Python)|(Tabl...</td>\n",
       "      <td>found smt by rule (Analyst)|(Аналитик данных)|...</td>\n",
       "      <td>False</td>\n",
       "      <td>NaN</td>\n",
       "      <td>[array([ 4.2191329e-03,  3.8639535e-04, -8.798...</td>\n",
       "      <td>[-4.9789756e-04 -5.4419227e-04 -2.5611392e-03 ...</td>\n",
       "      <td>['последний год проходить', 'год проходить обу...</td>\n",
       "      <td>-0.000504</td>\n",
       "    </tr>\n",
       "    <tr>\n",
       "      <th>63</th>\n",
       "      <td>63</td>\n",
       "      <td>70</td>\n",
       "      <td>70</td>\n",
       "      <td>70</td>\n",
       "      <td>https://hh.ru/resume/e1b370df0007951de20039ed1...</td>\n",
       "      <td>Аналитик</td>\n",
       "      <td>Москва, м. Лермонтовский проспект, готов к пер...</td>\n",
       "      <td>Опыт работы 20 лет 5 месяцев</td>\n",
       "      <td>владею инструментарием обработки, анализа и ви...</td>\n",
       "      <td>Высшее образование (Магистр)\\n2007\\nМосковский...</td>\n",
       "      <td>...</td>\n",
       "      <td>готов к переезду</td>\n",
       "      <td>Москва</td>\n",
       "      <td>---</td>\n",
       "      <td>found smt by rule (Analyst)|(Аналитик данных)|...</td>\n",
       "      <td>True</td>\n",
       "      <td>В связи с тем, что в ближайшее время планирую ...</td>\n",
       "      <td>[array([ 2.1670053e-03,  5.0119366e-03,  6.372...</td>\n",
       "      <td>[-2.11551553e-03 -5.14384184e-04  4.57258604e-...</td>\n",
       "      <td>['владеть инструментарий обработка', 'инструме...</td>\n",
       "      <td>-0.000174</td>\n",
       "    </tr>\n",
       "    <tr>\n",
       "      <th>64</th>\n",
       "      <td>64</td>\n",
       "      <td>71</td>\n",
       "      <td>71</td>\n",
       "      <td>71</td>\n",
       "      <td>https://hh.ru/resume/5de57a510007cfffc40039ed1...</td>\n",
       "      <td>Аналитик данных</td>\n",
       "      <td>Самара, готов к переезду (Москва), не готов к ...</td>\n",
       "      <td>Опыт работы 3 года 10 месяцев</td>\n",
       "      <td>Победитель стипендиального конкурса Оксфордско...</td>\n",
       "      <td>Высшее образование (Бакалавр)\\n2021\\nСамарский...</td>\n",
       "      <td>...</td>\n",
       "      <td>готов к переезду</td>\n",
       "      <td>Самара</td>\n",
       "      <td>found smt by rule (SQL)|(Excel)|(Python)|(Tabl...</td>\n",
       "      <td>found smt by rule (Analyst)|(Аналитик данных)|...</td>\n",
       "      <td>True</td>\n",
       "      <td>Westhampton Institute of Technology (WTA) опуб...</td>\n",
       "      <td>[array([ 6.3795494e-03,  1.4176572e-03,  6.802...</td>\n",
       "      <td>[ 7.9651163e-06  2.8415730e-05  2.0546571e-04 ...</td>\n",
       "      <td>['победитель стипендиальный конкурс', 'стипенд...</td>\n",
       "      <td>0.000066</td>\n",
       "    </tr>\n",
       "    <tr>\n",
       "      <th>65</th>\n",
       "      <td>65</td>\n",
       "      <td>73</td>\n",
       "      <td>73</td>\n",
       "      <td>73</td>\n",
       "      <td>https://hh.ru/resume/5e423c80000768e1490039ed1...</td>\n",
       "      <td>Аналитик данных в Power BI</td>\n",
       "      <td>Москва, готов к переезду (Санкт-Петербург, Ека...</td>\n",
       "      <td>Опыт работы 7 лет 4 месяца</td>\n",
       "      <td>Добрый день! Меня зовут Константин Блинов.\\nЯ ...</td>\n",
       "      <td>Высшее образование\\n2013\\nБалтийский федеральн...</td>\n",
       "      <td>...</td>\n",
       "      <td>готов к переезду</td>\n",
       "      <td>Москва</td>\n",
       "      <td>found smt by rule (SQL)|(Excel)|(Python)|(Tabl...</td>\n",
       "      <td>found smt by rule (Analyst)|(Аналитик данных)|...</td>\n",
       "      <td>False</td>\n",
       "      <td>West Coast Institute of Technology (WST) пригл...</td>\n",
       "      <td>[array([-7.9669442e-04, -1.5513458e-03,  4.905...</td>\n",
       "      <td>[ 8.8479457e-04  4.8863521e-04  1.4909195e-04 ...</td>\n",
       "      <td>['добрый день звать', 'день звать константин',...</td>\n",
       "      <td>-0.000009</td>\n",
       "    </tr>\n",
       "    <tr>\n",
       "      <th>66</th>\n",
       "      <td>66</td>\n",
       "      <td>75</td>\n",
       "      <td>75</td>\n",
       "      <td>75</td>\n",
       "      <td>https://hh.ru/resume/98ff91de00072845060039ed1...</td>\n",
       "      <td>Аналитик</td>\n",
       "      <td>Москва, не готов к переезду, не готов к команд...</td>\n",
       "      <td>Опыт работы 5 лет 2 месяца</td>\n",
       "      <td>Опыт web-разработки с использованием django.\\n...</td>\n",
       "      <td>Высшее образование (Магистр)\\n2020\\nРоссийский...</td>\n",
       "      <td>...</td>\n",
       "      <td>не готов к переезду</td>\n",
       "      <td>Москва</td>\n",
       "      <td>found smt by rule (SQL)|(Excel)|(Python)|(Tabl...</td>\n",
       "      <td>found smt by rule (Analyst)|(Аналитик данных)|...</td>\n",
       "      <td>False</td>\n",
       "      <td>Победитель стипендиального конкурса Оксфордско...</td>\n",
       "      <td>[array([-6.8996241e-03,  9.4751567e-03,  9.700...</td>\n",
       "      <td>[-6.5130975e-05 -6.3547277e-04 -9.2419802e-04 ...</td>\n",
       "      <td>['опыт web разработка', 'web разработка исполь...</td>\n",
       "      <td>-0.000126</td>\n",
       "    </tr>\n",
       "  </tbody>\n",
       "</table>\n",
       "<p>67 rows × 36 columns</p>\n",
       "</div>"
      ],
      "text/plain": [
       "    Unnamed: 0  Unnamed: 0.1  Unnamed: 0.1.1  Unnamed: 0.1.1.1  \\\n",
       "0            0             1               1                 1   \n",
       "1            1             2               2                 2   \n",
       "2            2             3               3                 3   \n",
       "3            3             4               4                 4   \n",
       "4            4             5               5                 5   \n",
       "..         ...           ...             ...               ...   \n",
       "62          62            69              69                69   \n",
       "63          63            70              70                70   \n",
       "64          64            71              71                71   \n",
       "65          65            73              73                73   \n",
       "66          66            75              75                75   \n",
       "\n",
       "                                               Ссылка  \\\n",
       "0   https://hh.ru/resume/628596ac000657935b0039ed1...   \n",
       "1   https://hh.ru/resume/dfbcae000004342d8f0039ed1...   \n",
       "2   https://hh.ru/resume/bebf6a630008069d8c0039ed1...   \n",
       "3   https://hh.ru/resume/8606f37b000773de980039ed1...   \n",
       "4   https://hh.ru/resume/993bd0980002dd6cff0039ed1...   \n",
       "..                                                ...   \n",
       "62  https://hh.ru/resume/15abcb4a000902e72c0039ed1...   \n",
       "63  https://hh.ru/resume/e1b370df0007951de20039ed1...   \n",
       "64  https://hh.ru/resume/5de57a510007cfffc40039ed1...   \n",
       "65  https://hh.ru/resume/5e423c80000768e1490039ed1...   \n",
       "66  https://hh.ru/resume/98ff91de00072845060039ed1...   \n",
       "\n",
       "                      Название  \\\n",
       "0                  BI аналитик   \n",
       "1                  BI аналитик   \n",
       "2                     Аналитик   \n",
       "3      Программист-разработчик   \n",
       "4                  Аналитик Bi   \n",
       "..                         ...   \n",
       "62                    Аналитик   \n",
       "63                    Аналитик   \n",
       "64             Аналитик данных   \n",
       "65  Аналитик данных в Power BI   \n",
       "66                    Аналитик   \n",
       "\n",
       "                                        Коммандировка  \\\n",
       "0   Москва, не готова к переезду, готова к редким ...   \n",
       "1   Москва, не готова к переезду, готова к команди...   \n",
       "2   Санкт-Петербург, м. Гражданский проспект, гото...   \n",
       "3   Москва, м. Петровско-Разумовская, не готов к п...   \n",
       "4   Москва, м. Сокол, готов к переезду, готов к ко...   \n",
       "..                                                ...   \n",
       "62    Москва, готов к переезду, готов к командировкам   \n",
       "63  Москва, м. Лермонтовский проспект, готов к пер...   \n",
       "64  Самара, готов к переезду (Москва), не готов к ...   \n",
       "65  Москва, готов к переезду (Санкт-Петербург, Ека...   \n",
       "66  Москва, не готов к переезду, не готов к команд...   \n",
       "\n",
       "                 Опыт работы, лет  \\\n",
       "0     Опыт работы 1 год 5 месяцев   \n",
       "1     Опыт работы 3 года 3 месяца   \n",
       "2      Опыт работы 7 лет 2 месяца   \n",
       "3       Опыт работы 1 год 1 месяц   \n",
       "4    Опыт работы 10 лет 7 месяцев   \n",
       "..                            ...   \n",
       "62    Опыт работы 1 год 6 месяцев   \n",
       "63   Опыт работы 20 лет 5 месяцев   \n",
       "64  Опыт работы 3 года 10 месяцев   \n",
       "65     Опыт работы 7 лет 4 месяца   \n",
       "66     Опыт работы 5 лет 2 месяца   \n",
       "\n",
       "                                               О себе  \\\n",
       "0   В последние годы проходила обучение без возмож...   \n",
       "1                                                 ---   \n",
       "2   Имею экономическое образование. Продвинутый по...   \n",
       "3   Имеется опыт в создании Android-приложений на ...   \n",
       "4   Уверенный пользователь.\\nЖелание оптимизации и...   \n",
       "..                                                ...   \n",
       "62  В последние годы я проходил обучение без возмо...   \n",
       "63  владею инструментарием обработки, анализа и ви...   \n",
       "64  Победитель стипендиального конкурса Оксфордско...   \n",
       "65  Добрый день! Меня зовут Константин Блинов.\\nЯ ...   \n",
       "66  Опыт web-разработки с использованием django.\\n...   \n",
       "\n",
       "                                          Образование  ...  \\\n",
       "0   Высшее образование (Бакалавр)\\n2022\\nНациональ...  ...   \n",
       "1   Высшее образование (Бакалавр)\\n2019\\nСамарский...  ...   \n",
       "2   Высшее образование (Бакалавр)\\n2015\\nСанкт-Пет...  ...   \n",
       "3   Высшее образование (Бакалавр)\\n2022\\nЧелябинск...  ...   \n",
       "4   Высшее образование\\n2010\\nДальневосточный госу...  ...   \n",
       "..                                                ...  ...   \n",
       "62  Высшее образование (Бакалавр)\\n2022\\nРоссийски...  ...   \n",
       "63  Высшее образование (Магистр)\\n2007\\nМосковский...  ...   \n",
       "64  Высшее образование (Бакалавр)\\n2021\\nСамарский...  ...   \n",
       "65  Высшее образование\\n2013\\nБалтийский федеральн...  ...   \n",
       "66  Высшее образование (Магистр)\\n2020\\nРоссийский...  ...   \n",
       "\n",
       "           Коммандировка?  Город?  \\\n",
       "0    не готова к переезду  Москва   \n",
       "1    не готова к переезду  Москва   \n",
       "2        готов к переезду   Санкт   \n",
       "3     не готов к переезду  Москва   \n",
       "4        готов к переезду  Москва   \n",
       "..                    ...     ...   \n",
       "62       готов к переезду  Москва   \n",
       "63       готов к переезду  Москва   \n",
       "64       готов к переезду  Самара   \n",
       "65       готов к переезду  Москва   \n",
       "66    не готов к переезду  Москва   \n",
       "\n",
       "                        Аналитические комбинации слов  \\\n",
       "0                                                 ---   \n",
       "1                                                 ---   \n",
       "2   found smt by rule (SQL)|(Excel)|(Python)|(Tabl...   \n",
       "3   found smt by rule (SQL)|(Excel)|(Python)|(Tabl...   \n",
       "4   found smt by rule (SQL)|(Excel)|(Python)|(Tabl...   \n",
       "..                                                ...   \n",
       "62  found smt by rule (SQL)|(Excel)|(Python)|(Tabl...   \n",
       "63                                                ---   \n",
       "64  found smt by rule (SQL)|(Excel)|(Python)|(Tabl...   \n",
       "65  found smt by rule (SQL)|(Excel)|(Python)|(Tabl...   \n",
       "66  found smt by rule (SQL)|(Excel)|(Python)|(Tabl...   \n",
       "\n",
       "                              Справочник по интересам Карьерный рост  \\\n",
       "0   found smt by rule (Analyst)|(Аналитик данных)|...           True   \n",
       "1   found smt by rule (Analyst)|(Аналитик данных)|...          False   \n",
       "2   found smt by rule (Analyst)|(Аналитик данных)|...          False   \n",
       "3                                                 ---          False   \n",
       "4   found smt by rule (Analyst)|(Аналитик данных)|...          False   \n",
       "..                                                ...            ...   \n",
       "62  found smt by rule (Analyst)|(Аналитик данных)|...          False   \n",
       "63  found smt by rule (Analyst)|(Аналитик данных)|...           True   \n",
       "64  found smt by rule (Analyst)|(Аналитик данных)|...           True   \n",
       "65  found smt by rule (Analyst)|(Аналитик данных)|...          False   \n",
       "66  found smt by rule (Analyst)|(Аналитик данных)|...          False   \n",
       "\n",
       "                                   О себе, summarized  \\\n",
       "0   Гражданин России, проживающий в Санкт-Петербур...   \n",
       "1                                                 ---   \n",
       "2   На данный момент не нахожусь на территории РФ....   \n",
       "3   В настоящее время я работаю в сфере разработки...   \n",
       "4   Уверенный пользователь Microsoft Dynamics AX, ...   \n",
       "..                                                ...   \n",
       "62                                                NaN   \n",
       "63  В связи с тем, что в ближайшее время планирую ...   \n",
       "64  Westhampton Institute of Technology (WTA) опуб...   \n",
       "65  West Coast Institute of Technology (WST) пригл...   \n",
       "66  Победитель стипендиального конкурса Оксфордско...   \n",
       "\n",
       "                                       О себе, tokens  \\\n",
       "0   [array([ 4.2191329e-03,  3.8639535e-04, -8.798...   \n",
       "1   [array([-8.6196875e-03,  3.6657380e-03,  5.189...   \n",
       "2   [array([-0.00577433, -0.00298019,  0.00639458,...   \n",
       "3   [array([-8.7200766e-03,  9.9531859e-03, -2.345...   \n",
       "4   [array([ 6.2332065e-03, -1.6407053e-03,  5.968...   \n",
       "..                                                ...   \n",
       "62  [array([ 4.2191329e-03,  3.8639535e-04, -8.798...   \n",
       "63  [array([ 2.1670053e-03,  5.0119366e-03,  6.372...   \n",
       "64  [array([ 6.3795494e-03,  1.4176572e-03,  6.802...   \n",
       "65  [array([-7.9669442e-04, -1.5513458e-03,  4.905...   \n",
       "66  [array([-6.8996241e-03,  9.4751567e-03,  9.700...   \n",
       "\n",
       "                                  О себе, flat_tokens  \\\n",
       "0   [ 2.95168342e-04 -1.54395448e-03 -1.38613814e-...   \n",
       "1   [-8.6196875e-03  3.6657380e-03  5.1898835e-03 ...   \n",
       "2   [-1.1685997e-03  1.2998827e-03 -2.5936777e-03 ...   \n",
       "3   [-4.07442392e-04  5.87383693e-04  8.51579127e-...   \n",
       "4   [-3.7161107e-04  2.3680142e-04 -1.6213297e-04 ...   \n",
       "..                                                ...   \n",
       "62  [-4.9789756e-04 -5.4419227e-04 -2.5611392e-03 ...   \n",
       "63  [-2.11551553e-03 -5.14384184e-04  4.57258604e-...   \n",
       "64  [ 7.9651163e-06  2.8415730e-05  2.0546571e-04 ...   \n",
       "65  [ 8.8479457e-04  4.8863521e-04  1.4909195e-04 ...   \n",
       "66  [-6.5130975e-05 -6.3547277e-04 -9.2419802e-04 ...   \n",
       "\n",
       "                                      О себе, 3-grams  О себе, avg_tokens  \n",
       "0   ['последний год проходить', 'год проходить обу...           -0.000129  \n",
       "1                                                   -            0.000681  \n",
       "2   ['иметь экономический образование', 'экономиче...           -0.000146  \n",
       "3   ['иметься опыт создание', 'опыт создание andro...            0.000049  \n",
       "4   ['уверенный пользователь желание', 'пользовате...           -0.000058  \n",
       "..                                                ...                 ...  \n",
       "62  ['последний год проходить', 'год проходить обу...           -0.000504  \n",
       "63  ['владеть инструментарий обработка', 'инструме...           -0.000174  \n",
       "64  ['победитель стипендиальный конкурс', 'стипенд...            0.000066  \n",
       "65  ['добрый день звать', 'день звать константин',...           -0.000009  \n",
       "66  ['опыт web разработка', 'web разработка исполь...           -0.000126  \n",
       "\n",
       "[67 rows x 36 columns]"
      ]
     },
     "execution_count": 150,
     "metadata": {},
     "output_type": "execute_result"
    }
   ],
   "source": [
    "df = pd.read_csv('resumes_features.csv')\n",
    "df.head(100)"
   ]
  },
  {
   "cell_type": "markdown",
   "id": "fdb2b50c-75e6-4c67-b56a-b500db3906de",
   "metadata": {},
   "source": [
    "Разметка данных ручная:"
   ]
  },
  {
   "cell_type": "code",
   "execution_count": 151,
   "id": "dd52745e-7964-4f46-b083-dbdf67587ec9",
   "metadata": {},
   "outputs": [],
   "source": [
    "df1 = df.head(100)"
   ]
  },
  {
   "cell_type": "code",
   "execution_count": 152,
   "id": "eb4b3e64-cbb1-484b-978f-dc7dba4c83b4",
   "metadata": {},
   "outputs": [
    {
     "ename": "SyntaxError",
     "evalue": "invalid syntax (1010328942.py, line 1)",
     "output_type": "error",
     "traceback": [
      "\u001b[0;36m  Cell \u001b[0;32mIn[152], line 1\u001b[0;36m\u001b[0m\n\u001b[0;31m    df1['analyst'] = [0, 1, 2, 2ZZZ, 1, 0, 2, 1, 0, 1, 2] + 89 * [0]\u001b[0m\n\u001b[0m                                ^\u001b[0m\n\u001b[0;31mSyntaxError\u001b[0m\u001b[0;31m:\u001b[0m invalid syntax\n"
     ]
    }
   ],
   "source": [
    "df1['analyst'] = [0, 1, 2, 2ZZZ, 1, 0, 2, 1, 0, 1, 2] + 89 * [0]\n",
    "df1['scientist'] = [0, 0, 0, 0, 0, 1, 1, 1] + 92 * [0]"
   ]
  },
  {
   "cell_type": "code",
   "execution_count": 153,
   "id": "267b6df8-56cf-4b4e-8ba4-579fdd8c5c09",
   "metadata": {},
   "outputs": [],
   "source": [
    "import numpy as np\n",
    "from sklearn.linear_model import LinearRegression"
   ]
  },
  {
   "cell_type": "code",
   "execution_count": 154,
   "id": "9fb9680b-6132-4bb1-a720-bc57a930bd9f",
   "metadata": {},
   "outputs": [],
   "source": [
    "X = df1[['Кол-во образований', 'Кол-во образований']]"
   ]
  },
  {
   "cell_type": "code",
   "execution_count": 155,
   "id": "b2ac6c3a-7907-43b3-8129-4c5521f56e5d",
   "metadata": {},
   "outputs": [
    {
     "ename": "KeyError",
     "evalue": "'analyst'",
     "output_type": "error",
     "traceback": [
      "\u001b[0;31m---------------------------------------------------------------------------\u001b[0m",
      "\u001b[0;31mKeyError\u001b[0m                                  Traceback (most recent call last)",
      "File \u001b[0;32m~/miniconda3/lib/python3.9/site-packages/pandas/core/indexes/base.py:3080\u001b[0m, in \u001b[0;36mIndex.get_loc\u001b[0;34m(self, key, method, tolerance)\u001b[0m\n\u001b[1;32m   3079\u001b[0m \u001b[38;5;28;01mtry\u001b[39;00m:\n\u001b[0;32m-> 3080\u001b[0m     \u001b[38;5;28;01mreturn\u001b[39;00m \u001b[38;5;28;43mself\u001b[39;49m\u001b[38;5;241;43m.\u001b[39;49m\u001b[43m_engine\u001b[49m\u001b[38;5;241;43m.\u001b[39;49m\u001b[43mget_loc\u001b[49m\u001b[43m(\u001b[49m\u001b[43mcasted_key\u001b[49m\u001b[43m)\u001b[49m\n\u001b[1;32m   3081\u001b[0m \u001b[38;5;28;01mexcept\u001b[39;00m \u001b[38;5;167;01mKeyError\u001b[39;00m \u001b[38;5;28;01mas\u001b[39;00m err:\n",
      "File \u001b[0;32mpandas/_libs/index.pyx:70\u001b[0m, in \u001b[0;36mpandas._libs.index.IndexEngine.get_loc\u001b[0;34m()\u001b[0m\n",
      "File \u001b[0;32mpandas/_libs/index.pyx:101\u001b[0m, in \u001b[0;36mpandas._libs.index.IndexEngine.get_loc\u001b[0;34m()\u001b[0m\n",
      "File \u001b[0;32mpandas/_libs/hashtable_class_helper.pxi:4554\u001b[0m, in \u001b[0;36mpandas._libs.hashtable.PyObjectHashTable.get_item\u001b[0;34m()\u001b[0m\n",
      "File \u001b[0;32mpandas/_libs/hashtable_class_helper.pxi:4562\u001b[0m, in \u001b[0;36mpandas._libs.hashtable.PyObjectHashTable.get_item\u001b[0;34m()\u001b[0m\n",
      "\u001b[0;31mKeyError\u001b[0m: 'analyst'",
      "\nThe above exception was the direct cause of the following exception:\n",
      "\u001b[0;31mKeyError\u001b[0m                                  Traceback (most recent call last)",
      "Cell \u001b[0;32mIn[155], line 1\u001b[0m\n\u001b[0;32m----> 1\u001b[0m y \u001b[38;5;241m=\u001b[39m \u001b[43mdf1\u001b[49m\u001b[43m[\u001b[49m\u001b[38;5;124;43m'\u001b[39;49m\u001b[38;5;124;43manalyst\u001b[39;49m\u001b[38;5;124;43m'\u001b[39;49m\u001b[43m]\u001b[49m\n",
      "File \u001b[0;32m~/miniconda3/lib/python3.9/site-packages/pandas/core/frame.py:3024\u001b[0m, in \u001b[0;36mDataFrame.__getitem__\u001b[0;34m(self, key)\u001b[0m\n\u001b[1;32m   3022\u001b[0m \u001b[38;5;28;01mif\u001b[39;00m \u001b[38;5;28mself\u001b[39m\u001b[38;5;241m.\u001b[39mcolumns\u001b[38;5;241m.\u001b[39mnlevels \u001b[38;5;241m>\u001b[39m \u001b[38;5;241m1\u001b[39m:\n\u001b[1;32m   3023\u001b[0m     \u001b[38;5;28;01mreturn\u001b[39;00m \u001b[38;5;28mself\u001b[39m\u001b[38;5;241m.\u001b[39m_getitem_multilevel(key)\n\u001b[0;32m-> 3024\u001b[0m indexer \u001b[38;5;241m=\u001b[39m \u001b[38;5;28;43mself\u001b[39;49m\u001b[38;5;241;43m.\u001b[39;49m\u001b[43mcolumns\u001b[49m\u001b[38;5;241;43m.\u001b[39;49m\u001b[43mget_loc\u001b[49m\u001b[43m(\u001b[49m\u001b[43mkey\u001b[49m\u001b[43m)\u001b[49m\n\u001b[1;32m   3025\u001b[0m \u001b[38;5;28;01mif\u001b[39;00m is_integer(indexer):\n\u001b[1;32m   3026\u001b[0m     indexer \u001b[38;5;241m=\u001b[39m [indexer]\n",
      "File \u001b[0;32m~/miniconda3/lib/python3.9/site-packages/pandas/core/indexes/base.py:3082\u001b[0m, in \u001b[0;36mIndex.get_loc\u001b[0;34m(self, key, method, tolerance)\u001b[0m\n\u001b[1;32m   3080\u001b[0m         \u001b[38;5;28;01mreturn\u001b[39;00m \u001b[38;5;28mself\u001b[39m\u001b[38;5;241m.\u001b[39m_engine\u001b[38;5;241m.\u001b[39mget_loc(casted_key)\n\u001b[1;32m   3081\u001b[0m     \u001b[38;5;28;01mexcept\u001b[39;00m \u001b[38;5;167;01mKeyError\u001b[39;00m \u001b[38;5;28;01mas\u001b[39;00m err:\n\u001b[0;32m-> 3082\u001b[0m         \u001b[38;5;28;01mraise\u001b[39;00m \u001b[38;5;167;01mKeyError\u001b[39;00m(key) \u001b[38;5;28;01mfrom\u001b[39;00m \u001b[38;5;21;01merr\u001b[39;00m\n\u001b[1;32m   3084\u001b[0m \u001b[38;5;28;01mif\u001b[39;00m tolerance \u001b[38;5;129;01mis\u001b[39;00m \u001b[38;5;129;01mnot\u001b[39;00m \u001b[38;5;28;01mNone\u001b[39;00m:\n\u001b[1;32m   3085\u001b[0m     tolerance \u001b[38;5;241m=\u001b[39m \u001b[38;5;28mself\u001b[39m\u001b[38;5;241m.\u001b[39m_convert_tolerance(tolerance, np\u001b[38;5;241m.\u001b[39masarray(key))\n",
      "\u001b[0;31mKeyError\u001b[0m: 'analyst'"
     ]
    }
   ],
   "source": [
    "y = df1['analyst']"
   ]
  },
  {
   "cell_type": "code",
   "execution_count": 156,
   "id": "098dd7c3-567b-4700-8804-c1e9e7a02a0e",
   "metadata": {},
   "outputs": [],
   "source": [
    "reg = LinearRegression()"
   ]
  },
  {
   "cell_type": "code",
   "execution_count": 157,
   "id": "5e298d8f-4e21-490f-adc6-36cdc3249793",
   "metadata": {},
   "outputs": [
    {
     "ename": "NameError",
     "evalue": "name 'y' is not defined",
     "output_type": "error",
     "traceback": [
      "\u001b[0;31m---------------------------------------------------------------------------\u001b[0m",
      "\u001b[0;31mNameError\u001b[0m                                 Traceback (most recent call last)",
      "Cell \u001b[0;32mIn[157], line 1\u001b[0m\n\u001b[0;32m----> 1\u001b[0m reg\u001b[38;5;241m.\u001b[39mfit(X, \u001b[43my\u001b[49m)\n",
      "\u001b[0;31mNameError\u001b[0m: name 'y' is not defined"
     ]
    }
   ],
   "source": [
    "reg.fit(X, y)"
   ]
  },
  {
   "cell_type": "code",
   "execution_count": 158,
   "id": "a80ba1ea-031b-4c77-9772-dc1b39026fe8",
   "metadata": {},
   "outputs": [
    {
     "ename": "NameError",
     "evalue": "name 'y' is not defined",
     "output_type": "error",
     "traceback": [
      "\u001b[0;31m---------------------------------------------------------------------------\u001b[0m",
      "\u001b[0;31mNameError\u001b[0m                                 Traceback (most recent call last)",
      "Cell \u001b[0;32mIn[158], line 1\u001b[0m\n\u001b[0;32m----> 1\u001b[0m reg\u001b[38;5;241m.\u001b[39mscore(X, \u001b[43my\u001b[49m)\n",
      "\u001b[0;31mNameError\u001b[0m: name 'y' is not defined"
     ]
    }
   ],
   "source": [
    "reg.score(X, y)"
   ]
  },
  {
   "cell_type": "code",
   "execution_count": 159,
   "id": "5b813af4-f469-4213-b797-1253afb14993",
   "metadata": {},
   "outputs": [
    {
     "ename": "AttributeError",
     "evalue": "'LinearRegression' object has no attribute 'coef_'",
     "output_type": "error",
     "traceback": [
      "\u001b[0;31m---------------------------------------------------------------------------\u001b[0m",
      "\u001b[0;31mAttributeError\u001b[0m                            Traceback (most recent call last)",
      "Cell \u001b[0;32mIn[159], line 1\u001b[0m\n\u001b[0;32m----> 1\u001b[0m \u001b[43mreg\u001b[49m\u001b[38;5;241;43m.\u001b[39;49m\u001b[43mcoef_\u001b[49m\n",
      "\u001b[0;31mAttributeError\u001b[0m: 'LinearRegression' object has no attribute 'coef_'"
     ]
    }
   ],
   "source": [
    "reg.coef_"
   ]
  },
  {
   "cell_type": "markdown",
   "id": "6f39fff1-37e1-4cb2-887b-690db17d2d93",
   "metadata": {},
   "source": [
    "**Итак, текст размечен для классификации. Теперь сегментация по \"О себе\".**"
   ]
  },
  {
   "cell_type": "markdown",
   "id": "f71f851d-944e-4e0f-90c0-438683385388",
   "metadata": {},
   "source": [
    "pre-processing"
   ]
  },
  {
   "cell_type": "markdown",
   "id": "02d2486a-79e9-4604-bfac-2dea44f477ff",
   "metadata": {},
   "source": [
    "Кластеризуем:"
   ]
  },
  {
   "cell_type": "code",
   "execution_count": 264,
   "id": "eb4db9d5-47b6-4589-96b9-6c7d22994fb1",
   "metadata": {},
   "outputs": [],
   "source": [
    "df = pd.read_csv('resumes_features.csv')"
   ]
  },
  {
   "cell_type": "code",
   "execution_count": 265,
   "id": "e2e6820d-3bc5-458c-8fec-d109b909fec0",
   "metadata": {},
   "outputs": [],
   "source": [
    "X = df['О себе, flat_tokens']"
   ]
  },
  {
   "cell_type": "code",
   "execution_count": 266,
   "id": "0c56b97e-9b09-47d4-bb19-ebed2354ba62",
   "metadata": {},
   "outputs": [
    {
     "name": "stderr",
     "output_type": "stream",
     "text": [
      "/var/folders/0k/pk7zyw6x2sqcjpbqvgf0ssh80000gn/T/ipykernel_9955/3779291681.py:3: SettingWithCopyWarning: \n",
      "A value is trying to be set on a copy of a slice from a DataFrame\n",
      "\n",
      "See the caveats in the documentation: https://pandas.pydata.org/pandas-docs/stable/user_guide/indexing.html#returning-a-view-versus-a-copy\n",
      "  X[i] = X[i].replace('\\n', '').replace('[ ', '').replace(' ]', '').replace('  ', ' ').replace('  ', ' ').replace('  ', ' ').replace('[', '').replace(']', '').split(' ')\n",
      "/var/folders/0k/pk7zyw6x2sqcjpbqvgf0ssh80000gn/T/ipykernel_9955/3779291681.py:4: SettingWithCopyWarning: \n",
      "A value is trying to be set on a copy of a slice from a DataFrame\n",
      "\n",
      "See the caveats in the documentation: https://pandas.pydata.org/pandas-docs/stable/user_guide/indexing.html#returning-a-view-versus-a-copy\n",
      "  X[i] = [float(i) for i in X[i]]\n"
     ]
    }
   ],
   "source": [
    "for i in range(len(X)):\n",
    "    # print(i)\n",
    "    X[i] = X[i].replace('\\n', '').replace('[ ', '').replace(' ]', '').replace('  ', ' ').replace('  ', ' ').replace('  ', ' ').replace('[', '').replace(']', '').split(' ')\n",
    "    X[i] = [float(i) for i in X[i]]"
   ]
  },
  {
   "cell_type": "code",
   "execution_count": 289,
   "id": "830511b1-229d-43b6-a5ee-32a70c015a6b",
   "metadata": {},
   "outputs": [
    {
     "data": {
      "text/plain": [
       "0     [0.000295168342, -0.00154395448, -0.0013861381...\n",
       "1     [-0.0086196875, 0.003665738, 0.0051898835, 0.0...\n",
       "2     [-0.0011685997, 0.0012998827, -0.0025936777, 0...\n",
       "3     [-0.000407442392, 0.000587383693, 0.0008515791...\n",
       "4     [-0.00037161107, 0.00023680142, -0.00016213297...\n",
       "                            ...                        \n",
       "62    [-0.00049789756, -0.00054419227, -0.0025611392...\n",
       "63    [-0.00211551553, -0.000514384184, 0.0004572586...\n",
       "64    [7.9651163e-06, 2.841573e-05, 0.00020546571, 0...\n",
       "65    [0.00088479457, 0.00048863521, 0.00014909195, ...\n",
       "66    [-6.5130975e-05, -0.00063547277, -0.0009241980...\n",
       "Name: О себе, flat_tokens, Length: 67, dtype: object"
      ]
     },
     "execution_count": 289,
     "metadata": {},
     "output_type": "execute_result"
    }
   ],
   "source": [
    "pd.DataFrame(X)['О себе, flat_tokens']"
   ]
  },
  {
   "cell_type": "code",
   "execution_count": 288,
   "id": "b118ea5e-f2b2-4263-8f2f-9f84f8114c1f",
   "metadata": {},
   "outputs": [
    {
     "ename": "ValueError",
     "evalue": "setting an array element with a sequence.",
     "output_type": "error",
     "traceback": [
      "\u001b[0;31m---------------------------------------------------------------------------\u001b[0m",
      "\u001b[0;31mTypeError\u001b[0m                                 Traceback (most recent call last)",
      "\u001b[0;31mTypeError\u001b[0m: float() argument must be a string or a number, not 'list'",
      "\nThe above exception was the direct cause of the following exception:\n",
      "\u001b[0;31mValueError\u001b[0m                                Traceback (most recent call last)",
      "Cell \u001b[0;32mIn[288], line 16\u001b[0m\n\u001b[1;32m      6\u001b[0m \u001b[38;5;28;01mfrom\u001b[39;00m \u001b[38;5;21;01msklearn\u001b[39;00m\u001b[38;5;21;01m.\u001b[39;00m\u001b[38;5;21;01mpreprocessing\u001b[39;00m \u001b[38;5;28;01mimport\u001b[39;00m StandardScaler\n\u001b[1;32m      8\u001b[0m kmeans \u001b[38;5;241m=\u001b[39m KMeans(\n\u001b[1;32m      9\u001b[0m                 init\u001b[38;5;241m=\u001b[39m\u001b[38;5;124m\"\u001b[39m\u001b[38;5;124mrandom\u001b[39m\u001b[38;5;124m\"\u001b[39m,\n\u001b[1;32m     10\u001b[0m                 n_clusters\u001b[38;5;241m=\u001b[39m\u001b[38;5;241m3\u001b[39m,\n\u001b[0;32m   (...)\u001b[0m\n\u001b[1;32m     13\u001b[0m                 random_state\u001b[38;5;241m=\u001b[39m\u001b[38;5;241m42\u001b[39m\n\u001b[1;32m     14\u001b[0m             )\n\u001b[0;32m---> 16\u001b[0m \u001b[43mkmeans\u001b[49m\u001b[38;5;241;43m.\u001b[39;49m\u001b[43mfit\u001b[49m\u001b[43m(\u001b[49m\u001b[43mpd\u001b[49m\u001b[38;5;241;43m.\u001b[39;49m\u001b[43mDataFrame\u001b[49m\u001b[43m(\u001b[49m\u001b[43mX\u001b[49m\u001b[43m)\u001b[49m\u001b[43m)\u001b[49m\n",
      "File \u001b[0;32m~/miniconda3/lib/python3.9/site-packages/sklearn/cluster/_kmeans.py:979\u001b[0m, in \u001b[0;36mKMeans.fit\u001b[0;34m(self, X, y, sample_weight)\u001b[0m\n\u001b[1;32m    953\u001b[0m \u001b[38;5;28;01mdef\u001b[39;00m \u001b[38;5;21mfit\u001b[39m(\u001b[38;5;28mself\u001b[39m, X, y\u001b[38;5;241m=\u001b[39m\u001b[38;5;28;01mNone\u001b[39;00m, sample_weight\u001b[38;5;241m=\u001b[39m\u001b[38;5;28;01mNone\u001b[39;00m):\n\u001b[1;32m    954\u001b[0m     \u001b[38;5;124;03m\"\"\"Compute k-means clustering.\u001b[39;00m\n\u001b[1;32m    955\u001b[0m \n\u001b[1;32m    956\u001b[0m \u001b[38;5;124;03m    Parameters\u001b[39;00m\n\u001b[0;32m   (...)\u001b[0m\n\u001b[1;32m    977\u001b[0m \u001b[38;5;124;03m        Fitted estimator.\u001b[39;00m\n\u001b[1;32m    978\u001b[0m \u001b[38;5;124;03m    \"\"\"\u001b[39;00m\n\u001b[0;32m--> 979\u001b[0m     X \u001b[38;5;241m=\u001b[39m \u001b[38;5;28;43mself\u001b[39;49m\u001b[38;5;241;43m.\u001b[39;49m\u001b[43m_validate_data\u001b[49m\u001b[43m(\u001b[49m\u001b[43mX\u001b[49m\u001b[43m,\u001b[49m\u001b[43m \u001b[49m\u001b[43maccept_sparse\u001b[49m\u001b[38;5;241;43m=\u001b[39;49m\u001b[38;5;124;43m'\u001b[39;49m\u001b[38;5;124;43mcsr\u001b[39;49m\u001b[38;5;124;43m'\u001b[39;49m\u001b[43m,\u001b[49m\n\u001b[1;32m    980\u001b[0m \u001b[43m                            \u001b[49m\u001b[43mdtype\u001b[49m\u001b[38;5;241;43m=\u001b[39;49m\u001b[43m[\u001b[49m\u001b[43mnp\u001b[49m\u001b[38;5;241;43m.\u001b[39;49m\u001b[43mfloat64\u001b[49m\u001b[43m,\u001b[49m\u001b[43m \u001b[49m\u001b[43mnp\u001b[49m\u001b[38;5;241;43m.\u001b[39;49m\u001b[43mfloat32\u001b[49m\u001b[43m]\u001b[49m\u001b[43m,\u001b[49m\n\u001b[1;32m    981\u001b[0m \u001b[43m                            \u001b[49m\u001b[43morder\u001b[49m\u001b[38;5;241;43m=\u001b[39;49m\u001b[38;5;124;43m'\u001b[39;49m\u001b[38;5;124;43mC\u001b[39;49m\u001b[38;5;124;43m'\u001b[39;49m\u001b[43m,\u001b[49m\u001b[43m \u001b[49m\u001b[43mcopy\u001b[49m\u001b[38;5;241;43m=\u001b[39;49m\u001b[38;5;28;43mself\u001b[39;49m\u001b[38;5;241;43m.\u001b[39;49m\u001b[43mcopy_x\u001b[49m\u001b[43m,\u001b[49m\n\u001b[1;32m    982\u001b[0m \u001b[43m                            \u001b[49m\u001b[43maccept_large_sparse\u001b[49m\u001b[38;5;241;43m=\u001b[39;49m\u001b[38;5;28;43;01mFalse\u001b[39;49;00m\u001b[43m)\u001b[49m\n\u001b[1;32m    984\u001b[0m     \u001b[38;5;28mself\u001b[39m\u001b[38;5;241m.\u001b[39m_check_params(X)\n\u001b[1;32m    985\u001b[0m     random_state \u001b[38;5;241m=\u001b[39m check_random_state(\u001b[38;5;28mself\u001b[39m\u001b[38;5;241m.\u001b[39mrandom_state)\n",
      "File \u001b[0;32m~/miniconda3/lib/python3.9/site-packages/sklearn/base.py:421\u001b[0m, in \u001b[0;36mBaseEstimator._validate_data\u001b[0;34m(self, X, y, reset, validate_separately, **check_params)\u001b[0m\n\u001b[1;32m    419\u001b[0m     out \u001b[38;5;241m=\u001b[39m X\n\u001b[1;32m    420\u001b[0m \u001b[38;5;28;01melif\u001b[39;00m \u001b[38;5;28misinstance\u001b[39m(y, \u001b[38;5;28mstr\u001b[39m) \u001b[38;5;129;01mand\u001b[39;00m y \u001b[38;5;241m==\u001b[39m \u001b[38;5;124m'\u001b[39m\u001b[38;5;124mno_validation\u001b[39m\u001b[38;5;124m'\u001b[39m:\n\u001b[0;32m--> 421\u001b[0m     X \u001b[38;5;241m=\u001b[39m \u001b[43mcheck_array\u001b[49m\u001b[43m(\u001b[49m\u001b[43mX\u001b[49m\u001b[43m,\u001b[49m\u001b[43m \u001b[49m\u001b[38;5;241;43m*\u001b[39;49m\u001b[38;5;241;43m*\u001b[39;49m\u001b[43mcheck_params\u001b[49m\u001b[43m)\u001b[49m\n\u001b[1;32m    422\u001b[0m     out \u001b[38;5;241m=\u001b[39m X\n\u001b[1;32m    423\u001b[0m \u001b[38;5;28;01melse\u001b[39;00m:\n",
      "File \u001b[0;32m~/miniconda3/lib/python3.9/site-packages/sklearn/utils/validation.py:63\u001b[0m, in \u001b[0;36m_deprecate_positional_args.<locals>._inner_deprecate_positional_args.<locals>.inner_f\u001b[0;34m(*args, **kwargs)\u001b[0m\n\u001b[1;32m     61\u001b[0m extra_args \u001b[38;5;241m=\u001b[39m \u001b[38;5;28mlen\u001b[39m(args) \u001b[38;5;241m-\u001b[39m \u001b[38;5;28mlen\u001b[39m(all_args)\n\u001b[1;32m     62\u001b[0m \u001b[38;5;28;01mif\u001b[39;00m extra_args \u001b[38;5;241m<\u001b[39m\u001b[38;5;241m=\u001b[39m \u001b[38;5;241m0\u001b[39m:\n\u001b[0;32m---> 63\u001b[0m     \u001b[38;5;28;01mreturn\u001b[39;00m \u001b[43mf\u001b[49m\u001b[43m(\u001b[49m\u001b[38;5;241;43m*\u001b[39;49m\u001b[43margs\u001b[49m\u001b[43m,\u001b[49m\u001b[43m \u001b[49m\u001b[38;5;241;43m*\u001b[39;49m\u001b[38;5;241;43m*\u001b[39;49m\u001b[43mkwargs\u001b[49m\u001b[43m)\u001b[49m\n\u001b[1;32m     65\u001b[0m \u001b[38;5;66;03m# extra_args > 0\u001b[39;00m\n\u001b[1;32m     66\u001b[0m args_msg \u001b[38;5;241m=\u001b[39m [\u001b[38;5;124m'\u001b[39m\u001b[38;5;132;01m{}\u001b[39;00m\u001b[38;5;124m=\u001b[39m\u001b[38;5;132;01m{}\u001b[39;00m\u001b[38;5;124m'\u001b[39m\u001b[38;5;241m.\u001b[39mformat(name, arg)\n\u001b[1;32m     67\u001b[0m             \u001b[38;5;28;01mfor\u001b[39;00m name, arg \u001b[38;5;129;01min\u001b[39;00m \u001b[38;5;28mzip\u001b[39m(kwonly_args[:extra_args],\n\u001b[1;32m     68\u001b[0m                                  args[\u001b[38;5;241m-\u001b[39mextra_args:])]\n",
      "File \u001b[0;32m~/miniconda3/lib/python3.9/site-packages/sklearn/utils/validation.py:673\u001b[0m, in \u001b[0;36mcheck_array\u001b[0;34m(array, accept_sparse, accept_large_sparse, dtype, order, copy, force_all_finite, ensure_2d, allow_nd, ensure_min_samples, ensure_min_features, estimator)\u001b[0m\n\u001b[1;32m    671\u001b[0m         array \u001b[38;5;241m=\u001b[39m array\u001b[38;5;241m.\u001b[39mastype(dtype, casting\u001b[38;5;241m=\u001b[39m\u001b[38;5;124m\"\u001b[39m\u001b[38;5;124munsafe\u001b[39m\u001b[38;5;124m\"\u001b[39m, copy\u001b[38;5;241m=\u001b[39m\u001b[38;5;28;01mFalse\u001b[39;00m)\n\u001b[1;32m    672\u001b[0m     \u001b[38;5;28;01melse\u001b[39;00m:\n\u001b[0;32m--> 673\u001b[0m         array \u001b[38;5;241m=\u001b[39m \u001b[43mnp\u001b[49m\u001b[38;5;241;43m.\u001b[39;49m\u001b[43masarray\u001b[49m\u001b[43m(\u001b[49m\u001b[43marray\u001b[49m\u001b[43m,\u001b[49m\u001b[43m \u001b[49m\u001b[43morder\u001b[49m\u001b[38;5;241;43m=\u001b[39;49m\u001b[43morder\u001b[49m\u001b[43m,\u001b[49m\u001b[43m \u001b[49m\u001b[43mdtype\u001b[49m\u001b[38;5;241;43m=\u001b[39;49m\u001b[43mdtype\u001b[49m\u001b[43m)\u001b[49m\n\u001b[1;32m    674\u001b[0m \u001b[38;5;28;01mexcept\u001b[39;00m ComplexWarning \u001b[38;5;28;01mas\u001b[39;00m complex_warning:\n\u001b[1;32m    675\u001b[0m     \u001b[38;5;28;01mraise\u001b[39;00m \u001b[38;5;167;01mValueError\u001b[39;00m(\u001b[38;5;124m\"\u001b[39m\u001b[38;5;124mComplex data not supported\u001b[39m\u001b[38;5;130;01m\\n\u001b[39;00m\u001b[38;5;124m\"\u001b[39m\n\u001b[1;32m    676\u001b[0m                      \u001b[38;5;124m\"\u001b[39m\u001b[38;5;132;01m{}\u001b[39;00m\u001b[38;5;130;01m\\n\u001b[39;00m\u001b[38;5;124m\"\u001b[39m\u001b[38;5;241m.\u001b[39mformat(array)) \u001b[38;5;28;01mfrom\u001b[39;00m \u001b[38;5;21;01mcomplex_warning\u001b[39;00m\n",
      "File \u001b[0;32m~/miniconda3/lib/python3.9/site-packages/numpy/core/_asarray.py:102\u001b[0m, in \u001b[0;36masarray\u001b[0;34m(a, dtype, order, like)\u001b[0m\n\u001b[1;32m     99\u001b[0m \u001b[38;5;28;01mif\u001b[39;00m like \u001b[38;5;129;01mis\u001b[39;00m \u001b[38;5;129;01mnot\u001b[39;00m \u001b[38;5;28;01mNone\u001b[39;00m:\n\u001b[1;32m    100\u001b[0m     \u001b[38;5;28;01mreturn\u001b[39;00m _asarray_with_like(a, dtype\u001b[38;5;241m=\u001b[39mdtype, order\u001b[38;5;241m=\u001b[39morder, like\u001b[38;5;241m=\u001b[39mlike)\n\u001b[0;32m--> 102\u001b[0m \u001b[38;5;28;01mreturn\u001b[39;00m \u001b[43marray\u001b[49m\u001b[43m(\u001b[49m\u001b[43ma\u001b[49m\u001b[43m,\u001b[49m\u001b[43m \u001b[49m\u001b[43mdtype\u001b[49m\u001b[43m,\u001b[49m\u001b[43m \u001b[49m\u001b[43mcopy\u001b[49m\u001b[38;5;241;43m=\u001b[39;49m\u001b[38;5;28;43;01mFalse\u001b[39;49;00m\u001b[43m,\u001b[49m\u001b[43m \u001b[49m\u001b[43morder\u001b[49m\u001b[38;5;241;43m=\u001b[39;49m\u001b[43morder\u001b[49m\u001b[43m)\u001b[49m\n",
      "File \u001b[0;32m~/miniconda3/lib/python3.9/site-packages/pandas/core/generic.py:1899\u001b[0m, in \u001b[0;36mNDFrame.__array__\u001b[0;34m(self, dtype)\u001b[0m\n\u001b[1;32m   1898\u001b[0m \u001b[38;5;28;01mdef\u001b[39;00m \u001b[38;5;21m__array__\u001b[39m(\u001b[38;5;28mself\u001b[39m, dtype\u001b[38;5;241m=\u001b[39m\u001b[38;5;28;01mNone\u001b[39;00m) \u001b[38;5;241m-\u001b[39m\u001b[38;5;241m>\u001b[39m np\u001b[38;5;241m.\u001b[39mndarray:\n\u001b[0;32m-> 1899\u001b[0m     \u001b[38;5;28;01mreturn\u001b[39;00m \u001b[43mnp\u001b[49m\u001b[38;5;241;43m.\u001b[39;49m\u001b[43masarray\u001b[49m\u001b[43m(\u001b[49m\u001b[38;5;28;43mself\u001b[39;49m\u001b[38;5;241;43m.\u001b[39;49m\u001b[43m_values\u001b[49m\u001b[43m,\u001b[49m\u001b[43m \u001b[49m\u001b[43mdtype\u001b[49m\u001b[38;5;241;43m=\u001b[39;49m\u001b[43mdtype\u001b[49m\u001b[43m)\u001b[49m\n",
      "File \u001b[0;32m~/miniconda3/lib/python3.9/site-packages/numpy/core/_asarray.py:102\u001b[0m, in \u001b[0;36masarray\u001b[0;34m(a, dtype, order, like)\u001b[0m\n\u001b[1;32m     99\u001b[0m \u001b[38;5;28;01mif\u001b[39;00m like \u001b[38;5;129;01mis\u001b[39;00m \u001b[38;5;129;01mnot\u001b[39;00m \u001b[38;5;28;01mNone\u001b[39;00m:\n\u001b[1;32m    100\u001b[0m     \u001b[38;5;28;01mreturn\u001b[39;00m _asarray_with_like(a, dtype\u001b[38;5;241m=\u001b[39mdtype, order\u001b[38;5;241m=\u001b[39morder, like\u001b[38;5;241m=\u001b[39mlike)\n\u001b[0;32m--> 102\u001b[0m \u001b[38;5;28;01mreturn\u001b[39;00m \u001b[43marray\u001b[49m\u001b[43m(\u001b[49m\u001b[43ma\u001b[49m\u001b[43m,\u001b[49m\u001b[43m \u001b[49m\u001b[43mdtype\u001b[49m\u001b[43m,\u001b[49m\u001b[43m \u001b[49m\u001b[43mcopy\u001b[49m\u001b[38;5;241;43m=\u001b[39;49m\u001b[38;5;28;43;01mFalse\u001b[39;49;00m\u001b[43m,\u001b[49m\u001b[43m \u001b[49m\u001b[43morder\u001b[49m\u001b[38;5;241;43m=\u001b[39;49m\u001b[43morder\u001b[49m\u001b[43m)\u001b[49m\n",
      "\u001b[0;31mValueError\u001b[0m: setting an array element with a sequence."
     ]
    }
   ],
   "source": [
    "import matplotlib.pyplot as plt\n",
    "from kneed import KneeLocator\n",
    "from sklearn.datasets import make_blobs\n",
    "from sklearn.cluster import KMeans\n",
    "from sklearn.metrics import silhouette_score\n",
    "from sklearn.preprocessing import StandardScaler\n",
    "\n",
    "kmeans = KMeans(\n",
    "                init=\"random\",\n",
    "                n_clusters=3,\n",
    "                n_init=10,\n",
    "                max_iter=300,\n",
    "                random_state=42\n",
    "            )\n",
    "\n",
    "kmeans.fit(pd.DataFrame(X))"
   ]
  },
  {
   "cell_type": "code",
   "execution_count": 40,
   "id": "ae4b5fc9-a5fe-4bc0-b9fc-fc55e6df444a",
   "metadata": {
    "tags": []
   },
   "outputs": [
    {
     "ename": "NameError",
     "evalue": "name 'embs_flattened' is not defined",
     "output_type": "error",
     "traceback": [
      "\u001b[0;31m---------------------------------------------------------------------------\u001b[0m",
      "\u001b[0;31mNameError\u001b[0m                                 Traceback (most recent call last)",
      "Cell \u001b[0;32mIn[40], line 1\u001b[0m\n\u001b[0;32m----> 1\u001b[0m \u001b[38;5;28;01mfor\u001b[39;00m x \u001b[38;5;129;01min\u001b[39;00m \u001b[43membs_flattened\u001b[49m:\n\u001b[1;32m      2\u001b[0m     \u001b[38;5;28mprint\u001b[39m(\u001b[38;5;28mlen\u001b[39m(x))\n",
      "\u001b[0;31mNameError\u001b[0m: name 'embs_flattened' is not defined"
     ]
    }
   ],
   "source": [
    "for x in embs_flattened:\n",
    "    print(len(x))"
   ]
  },
  {
   "cell_type": "markdown",
   "id": "ee34e113-a6fd-4285-8779-881abf3889c3",
   "metadata": {},
   "source": [
    "Почитать:\n",
    "\n",
    "Тоже уменьшить как-то размер ноутбука"
   ]
  },
  {
   "cell_type": "code",
   "execution_count": 16,
   "id": "3407cf0b-141e-4b02-aa4c-56d1fe607d55",
   "metadata": {},
   "outputs": [
    {
     "data": {
      "text/plain": [
       "array([2, 2, 2, 2, 2, 1, 2, 2, 2, 2, 1, 2, 0, 0, 2, 0, 0, 2, 2, 2, 0, 2,\n",
       "       2, 0, 0, 2, 0, 0, 0, 0, 2, 2, 2, 2, 0, 0, 2, 1, 0, 0, 0, 0, 1, 0,\n",
       "       2, 2, 0, 2, 0, 0, 2, 1, 0, 2, 0, 0, 0, 0, 0, 0, 2, 2, 2, 0, 0, 2,\n",
       "       0], dtype=int32)"
      ]
     },
     "execution_count": 16,
     "metadata": {},
     "output_type": "execute_result"
    }
   ],
   "source": [
    "kmeans.labels_"
   ]
  },
  {
   "cell_type": "code",
   "execution_count": 17,
   "id": "db9068fb-b97b-4985-bed8-d219735baa14",
   "metadata": {},
   "outputs": [],
   "source": [
    "# kmeans.predict([[0, 0], [12, 3]])"
   ]
  },
  {
   "cell_type": "code",
   "execution_count": 18,
   "id": "3c2f8c96-5c67-4557-9e98-b9b882835f70",
   "metadata": {},
   "outputs": [
    {
     "data": {
      "text/plain": [
       "array([0, 1, 2], dtype=int32)"
      ]
     },
     "execution_count": 18,
     "metadata": {},
     "output_type": "execute_result"
    }
   ],
   "source": [
    "np.unique(kmeans.labels_)"
   ]
  },
  {
   "cell_type": "code",
   "execution_count": 19,
   "id": "43d8b925-87b3-48dc-b644-ba545f842197",
   "metadata": {
    "tags": []
   },
   "outputs": [
    {
     "data": {
      "text/html": [
       "<div>\n",
       "<style scoped>\n",
       "    .dataframe tbody tr th:only-of-type {\n",
       "        vertical-align: middle;\n",
       "    }\n",
       "\n",
       "    .dataframe tbody tr th {\n",
       "        vertical-align: top;\n",
       "    }\n",
       "\n",
       "    .dataframe thead th {\n",
       "        text-align: right;\n",
       "    }\n",
       "</style>\n",
       "<table border=\"1\" class=\"dataframe\">\n",
       "  <thead>\n",
       "    <tr style=\"text-align: right;\">\n",
       "      <th></th>\n",
       "      <th>Кол-во образований</th>\n",
       "      <th>Кол-во образований</th>\n",
       "    </tr>\n",
       "  </thead>\n",
       "  <tbody>\n",
       "    <tr>\n",
       "      <th>0</th>\n",
       "      <td>1</td>\n",
       "      <td>1</td>\n",
       "    </tr>\n",
       "    <tr>\n",
       "      <th>1</th>\n",
       "      <td>1</td>\n",
       "      <td>1</td>\n",
       "    </tr>\n",
       "    <tr>\n",
       "      <th>2</th>\n",
       "      <td>1</td>\n",
       "      <td>1</td>\n",
       "    </tr>\n",
       "    <tr>\n",
       "      <th>3</th>\n",
       "      <td>1</td>\n",
       "      <td>1</td>\n",
       "    </tr>\n",
       "    <tr>\n",
       "      <th>4</th>\n",
       "      <td>1</td>\n",
       "      <td>1</td>\n",
       "    </tr>\n",
       "    <tr>\n",
       "      <th>...</th>\n",
       "      <td>...</td>\n",
       "      <td>...</td>\n",
       "    </tr>\n",
       "    <tr>\n",
       "      <th>62</th>\n",
       "      <td>1</td>\n",
       "      <td>1</td>\n",
       "    </tr>\n",
       "    <tr>\n",
       "      <th>63</th>\n",
       "      <td>2</td>\n",
       "      <td>2</td>\n",
       "    </tr>\n",
       "    <tr>\n",
       "      <th>64</th>\n",
       "      <td>2</td>\n",
       "      <td>2</td>\n",
       "    </tr>\n",
       "    <tr>\n",
       "      <th>65</th>\n",
       "      <td>1</td>\n",
       "      <td>1</td>\n",
       "    </tr>\n",
       "    <tr>\n",
       "      <th>66</th>\n",
       "      <td>3</td>\n",
       "      <td>3</td>\n",
       "    </tr>\n",
       "  </tbody>\n",
       "</table>\n",
       "<p>67 rows × 2 columns</p>\n",
       "</div>"
      ],
      "text/plain": [
       "    Кол-во образований  Кол-во образований\n",
       "0                    1                   1\n",
       "1                    1                   1\n",
       "2                    1                   1\n",
       "3                    1                   1\n",
       "4                    1                   1\n",
       "..                 ...                 ...\n",
       "62                   1                   1\n",
       "63                   2                   2\n",
       "64                   2                   2\n",
       "65                   1                   1\n",
       "66                   3                   3\n",
       "\n",
       "[67 rows x 2 columns]"
      ]
     },
     "execution_count": 19,
     "metadata": {},
     "output_type": "execute_result"
    }
   ],
   "source": [
    "X"
   ]
  },
  {
   "cell_type": "markdown",
   "id": "65b12c26-c144-4c76-add0-b25e5324eaf3",
   "metadata": {},
   "source": [
    "t-sne analysis"
   ]
  },
  {
   "cell_type": "code",
   "execution_count": 20,
   "id": "1fb363ae-dcac-41d0-925b-0d90263f7cc4",
   "metadata": {},
   "outputs": [],
   "source": [
    "from sklearn.preprocessing import StandardScaler\n",
    "from sklearn.decomposition import PCA\n",
    "\n",
    "scaler = StandardScaler()\n",
    "x = scaler.fit_transform(X)"
   ]
  },
  {
   "cell_type": "code",
   "execution_count": 21,
   "id": "b78ce144-27df-4240-a4a0-dfd318dc3bf1",
   "metadata": {},
   "outputs": [
    {
     "data": {
      "text/plain": [
       "array([[-0.76663888, -0.76663888],\n",
       "       [-0.76663888, -0.76663888],\n",
       "       [-0.76663888, -0.76663888],\n",
       "       [-0.76663888, -0.76663888],\n",
       "       [-0.76663888, -0.76663888],\n",
       "       [ 2.83790882,  2.83790882],\n",
       "       [-0.76663888, -0.76663888],\n",
       "       [-0.76663888, -0.76663888],\n",
       "       [-0.76663888, -0.76663888],\n",
       "       [-0.76663888, -0.76663888],\n",
       "       [ 1.9367719 ,  1.9367719 ],\n",
       "       [-0.76663888, -0.76663888],\n",
       "       [ 1.03563497,  1.03563497],\n",
       "       [ 0.13449805,  0.13449805],\n",
       "       [-0.76663888, -0.76663888],\n",
       "       [ 0.13449805,  0.13449805],\n",
       "       [ 1.03563497,  1.03563497],\n",
       "       [-0.76663888, -0.76663888],\n",
       "       [-0.76663888, -0.76663888],\n",
       "       [-0.76663888, -0.76663888],\n",
       "       [ 0.13449805,  0.13449805],\n",
       "       [-0.76663888, -0.76663888],\n",
       "       [-0.76663888, -0.76663888],\n",
       "       [ 0.13449805,  0.13449805],\n",
       "       [ 0.13449805,  0.13449805],\n",
       "       [-0.76663888, -0.76663888],\n",
       "       [ 0.13449805,  0.13449805],\n",
       "       [ 0.13449805,  0.13449805],\n",
       "       [ 0.13449805,  0.13449805],\n",
       "       [ 0.13449805,  0.13449805],\n",
       "       [-0.76663888, -0.76663888],\n",
       "       [-0.76663888, -0.76663888],\n",
       "       [-0.76663888, -0.76663888],\n",
       "       [-0.76663888, -0.76663888],\n",
       "       [ 0.13449805,  0.13449805],\n",
       "       [ 1.03563497,  1.03563497],\n",
       "       [-0.76663888, -0.76663888],\n",
       "       [ 4.64018267,  4.64018267],\n",
       "       [ 0.13449805,  0.13449805],\n",
       "       [ 0.13449805,  0.13449805],\n",
       "       [ 0.13449805,  0.13449805],\n",
       "       [ 1.03563497,  1.03563497],\n",
       "       [ 1.9367719 ,  1.9367719 ],\n",
       "       [ 0.13449805,  0.13449805],\n",
       "       [-0.76663888, -0.76663888],\n",
       "       [-0.76663888, -0.76663888],\n",
       "       [ 0.13449805,  0.13449805],\n",
       "       [-0.76663888, -0.76663888],\n",
       "       [ 0.13449805,  0.13449805],\n",
       "       [ 1.03563497,  1.03563497],\n",
       "       [-0.76663888, -0.76663888],\n",
       "       [ 1.9367719 ,  1.9367719 ],\n",
       "       [ 0.13449805,  0.13449805],\n",
       "       [-0.76663888, -0.76663888],\n",
       "       [ 0.13449805,  0.13449805],\n",
       "       [ 0.13449805,  0.13449805],\n",
       "       [ 0.13449805,  0.13449805],\n",
       "       [ 0.13449805,  0.13449805],\n",
       "       [ 0.13449805,  0.13449805],\n",
       "       [ 1.03563497,  1.03563497],\n",
       "       [-0.76663888, -0.76663888],\n",
       "       [-0.76663888, -0.76663888],\n",
       "       [-0.76663888, -0.76663888],\n",
       "       [ 0.13449805,  0.13449805],\n",
       "       [ 0.13449805,  0.13449805],\n",
       "       [-0.76663888, -0.76663888],\n",
       "       [ 1.03563497,  1.03563497]])"
      ]
     },
     "execution_count": 21,
     "metadata": {},
     "output_type": "execute_result"
    }
   ],
   "source": [
    "x"
   ]
  },
  {
   "cell_type": "code",
   "execution_count": 22,
   "id": "75e48e79-c0a4-4cc0-a032-a412392e2f6d",
   "metadata": {},
   "outputs": [
    {
     "ename": "ValueError",
     "evalue": "n_components=3 must be between 0 and min(n_samples, n_features)=2 with svd_solver='full'",
     "output_type": "error",
     "traceback": [
      "\u001b[0;31m---------------------------------------------------------------------------\u001b[0m",
      "\u001b[0;31mValueError\u001b[0m                                Traceback (most recent call last)",
      "Cell \u001b[0;32mIn[22], line 2\u001b[0m\n\u001b[1;32m      1\u001b[0m pca \u001b[38;5;241m=\u001b[39m PCA(n_components\u001b[38;5;241m=\u001b[39m\u001b[38;5;241m3\u001b[39m)\n\u001b[0;32m----> 2\u001b[0m principalComponents \u001b[38;5;241m=\u001b[39m \u001b[43mpca\u001b[49m\u001b[38;5;241;43m.\u001b[39;49m\u001b[43mfit_transform\u001b[49m\u001b[43m(\u001b[49m\u001b[43mx\u001b[49m\u001b[43m)\u001b[49m\n\u001b[1;32m      3\u001b[0m principal \u001b[38;5;241m=\u001b[39m pd\u001b[38;5;241m.\u001b[39mDataFrame(data \u001b[38;5;241m=\u001b[39m principalComponents\n\u001b[1;32m      4\u001b[0m              , columns \u001b[38;5;241m=\u001b[39m [\u001b[38;5;124m'\u001b[39m\u001b[38;5;124mprincipal component 1\u001b[39m\u001b[38;5;124m'\u001b[39m, \u001b[38;5;124m'\u001b[39m\u001b[38;5;124mprincipal component 2\u001b[39m\u001b[38;5;124m'\u001b[39m,\u001b[38;5;124m'\u001b[39m\u001b[38;5;124mprincipal component 3\u001b[39m\u001b[38;5;124m'\u001b[39m])\n",
      "File \u001b[0;32m~/miniconda3/lib/python3.9/site-packages/sklearn/decomposition/_pca.py:383\u001b[0m, in \u001b[0;36mPCA.fit_transform\u001b[0;34m(self, X, y)\u001b[0m\n\u001b[1;32m    362\u001b[0m \u001b[38;5;28;01mdef\u001b[39;00m \u001b[38;5;21mfit_transform\u001b[39m(\u001b[38;5;28mself\u001b[39m, X, y\u001b[38;5;241m=\u001b[39m\u001b[38;5;28;01mNone\u001b[39;00m):\n\u001b[1;32m    363\u001b[0m     \u001b[38;5;124;03m\"\"\"Fit the model with X and apply the dimensionality reduction on X.\u001b[39;00m\n\u001b[1;32m    364\u001b[0m \n\u001b[1;32m    365\u001b[0m \u001b[38;5;124;03m    Parameters\u001b[39;00m\n\u001b[0;32m   (...)\u001b[0m\n\u001b[1;32m    381\u001b[0m \u001b[38;5;124;03m    C-ordered array, use 'np.ascontiguousarray'.\u001b[39;00m\n\u001b[1;32m    382\u001b[0m \u001b[38;5;124;03m    \"\"\"\u001b[39;00m\n\u001b[0;32m--> 383\u001b[0m     U, S, Vt \u001b[38;5;241m=\u001b[39m \u001b[38;5;28;43mself\u001b[39;49m\u001b[38;5;241;43m.\u001b[39;49m\u001b[43m_fit\u001b[49m\u001b[43m(\u001b[49m\u001b[43mX\u001b[49m\u001b[43m)\u001b[49m\n\u001b[1;32m    384\u001b[0m     U \u001b[38;5;241m=\u001b[39m U[:, :\u001b[38;5;28mself\u001b[39m\u001b[38;5;241m.\u001b[39mn_components_]\n\u001b[1;32m    386\u001b[0m     \u001b[38;5;28;01mif\u001b[39;00m \u001b[38;5;28mself\u001b[39m\u001b[38;5;241m.\u001b[39mwhiten:\n\u001b[1;32m    387\u001b[0m         \u001b[38;5;66;03m# X_new = X * V / S * sqrt(n_samples) = U * sqrt(n_samples)\u001b[39;00m\n",
      "File \u001b[0;32m~/miniconda3/lib/python3.9/site-packages/sklearn/decomposition/_pca.py:430\u001b[0m, in \u001b[0;36mPCA._fit\u001b[0;34m(self, X)\u001b[0m\n\u001b[1;32m    428\u001b[0m \u001b[38;5;66;03m# Call different fits for either full or truncated SVD\u001b[39;00m\n\u001b[1;32m    429\u001b[0m \u001b[38;5;28;01mif\u001b[39;00m \u001b[38;5;28mself\u001b[39m\u001b[38;5;241m.\u001b[39m_fit_svd_solver \u001b[38;5;241m==\u001b[39m \u001b[38;5;124m'\u001b[39m\u001b[38;5;124mfull\u001b[39m\u001b[38;5;124m'\u001b[39m:\n\u001b[0;32m--> 430\u001b[0m     \u001b[38;5;28;01mreturn\u001b[39;00m \u001b[38;5;28;43mself\u001b[39;49m\u001b[38;5;241;43m.\u001b[39;49m\u001b[43m_fit_full\u001b[49m\u001b[43m(\u001b[49m\u001b[43mX\u001b[49m\u001b[43m,\u001b[49m\u001b[43m \u001b[49m\u001b[43mn_components\u001b[49m\u001b[43m)\u001b[49m\n\u001b[1;32m    431\u001b[0m \u001b[38;5;28;01melif\u001b[39;00m \u001b[38;5;28mself\u001b[39m\u001b[38;5;241m.\u001b[39m_fit_svd_solver \u001b[38;5;129;01min\u001b[39;00m [\u001b[38;5;124m'\u001b[39m\u001b[38;5;124marpack\u001b[39m\u001b[38;5;124m'\u001b[39m, \u001b[38;5;124m'\u001b[39m\u001b[38;5;124mrandomized\u001b[39m\u001b[38;5;124m'\u001b[39m]:\n\u001b[1;32m    432\u001b[0m     \u001b[38;5;28;01mreturn\u001b[39;00m \u001b[38;5;28mself\u001b[39m\u001b[38;5;241m.\u001b[39m_fit_truncated(X, n_components, \u001b[38;5;28mself\u001b[39m\u001b[38;5;241m.\u001b[39m_fit_svd_solver)\n",
      "File \u001b[0;32m~/miniconda3/lib/python3.9/site-packages/sklearn/decomposition/_pca.py:446\u001b[0m, in \u001b[0;36mPCA._fit_full\u001b[0;34m(self, X, n_components)\u001b[0m\n\u001b[1;32m    443\u001b[0m         \u001b[38;5;28;01mraise\u001b[39;00m \u001b[38;5;167;01mValueError\u001b[39;00m(\u001b[38;5;124m\"\u001b[39m\u001b[38;5;124mn_components=\u001b[39m\u001b[38;5;124m'\u001b[39m\u001b[38;5;124mmle\u001b[39m\u001b[38;5;124m'\u001b[39m\u001b[38;5;124m is only supported \u001b[39m\u001b[38;5;124m\"\u001b[39m\n\u001b[1;32m    444\u001b[0m                          \u001b[38;5;124m\"\u001b[39m\u001b[38;5;124mif n_samples >= n_features\u001b[39m\u001b[38;5;124m\"\u001b[39m)\n\u001b[1;32m    445\u001b[0m \u001b[38;5;28;01melif\u001b[39;00m \u001b[38;5;129;01mnot\u001b[39;00m \u001b[38;5;241m0\u001b[39m \u001b[38;5;241m<\u001b[39m\u001b[38;5;241m=\u001b[39m n_components \u001b[38;5;241m<\u001b[39m\u001b[38;5;241m=\u001b[39m \u001b[38;5;28mmin\u001b[39m(n_samples, n_features):\n\u001b[0;32m--> 446\u001b[0m     \u001b[38;5;28;01mraise\u001b[39;00m \u001b[38;5;167;01mValueError\u001b[39;00m(\u001b[38;5;124m\"\u001b[39m\u001b[38;5;124mn_components=\u001b[39m\u001b[38;5;132;01m%r\u001b[39;00m\u001b[38;5;124m must be between 0 and \u001b[39m\u001b[38;5;124m\"\u001b[39m\n\u001b[1;32m    447\u001b[0m                      \u001b[38;5;124m\"\u001b[39m\u001b[38;5;124mmin(n_samples, n_features)=\u001b[39m\u001b[38;5;132;01m%r\u001b[39;00m\u001b[38;5;124m with \u001b[39m\u001b[38;5;124m\"\u001b[39m\n\u001b[1;32m    448\u001b[0m                      \u001b[38;5;124m\"\u001b[39m\u001b[38;5;124msvd_solver=\u001b[39m\u001b[38;5;124m'\u001b[39m\u001b[38;5;124mfull\u001b[39m\u001b[38;5;124m'\u001b[39m\u001b[38;5;124m\"\u001b[39m\n\u001b[1;32m    449\u001b[0m                      \u001b[38;5;241m%\u001b[39m (n_components, \u001b[38;5;28mmin\u001b[39m(n_samples, n_features)))\n\u001b[1;32m    450\u001b[0m \u001b[38;5;28;01melif\u001b[39;00m n_components \u001b[38;5;241m>\u001b[39m\u001b[38;5;241m=\u001b[39m \u001b[38;5;241m1\u001b[39m:\n\u001b[1;32m    451\u001b[0m     \u001b[38;5;28;01mif\u001b[39;00m \u001b[38;5;129;01mnot\u001b[39;00m \u001b[38;5;28misinstance\u001b[39m(n_components, numbers\u001b[38;5;241m.\u001b[39mIntegral):\n",
      "\u001b[0;31mValueError\u001b[0m: n_components=3 must be between 0 and min(n_samples, n_features)=2 with svd_solver='full'"
     ]
    }
   ],
   "source": [
    "pca = PCA(n_components=3)\n",
    "principalComponents = pca.fit_transform(x)\n",
    "principal = pd.DataFrame(data = principalComponents\n",
    "             , columns = ['principal component 1', 'principal component 2','principal component 3'])"
   ]
  },
  {
   "cell_type": "code",
   "execution_count": 23,
   "id": "78475417-4e2f-4db0-aad6-3f093565db23",
   "metadata": {},
   "outputs": [
    {
     "ename": "AttributeError",
     "evalue": "'PCA' object has no attribute 'explained_variance_ratio_'",
     "output_type": "error",
     "traceback": [
      "\u001b[0;31m---------------------------------------------------------------------------\u001b[0m",
      "\u001b[0;31mAttributeError\u001b[0m                            Traceback (most recent call last)",
      "Cell \u001b[0;32mIn[23], line 1\u001b[0m\n\u001b[0;32m----> 1\u001b[0m \u001b[43mpca\u001b[49m\u001b[38;5;241;43m.\u001b[39;49m\u001b[43mexplained_variance_ratio_\u001b[49m[:\u001b[38;5;241m2\u001b[39m]\u001b[38;5;241m.\u001b[39msum()\n",
      "\u001b[0;31mAttributeError\u001b[0m: 'PCA' object has no attribute 'explained_variance_ratio_'"
     ]
    }
   ],
   "source": [
    "pca.explained_variance_ratio_[:2].sum()"
   ]
  },
  {
   "cell_type": "code",
   "execution_count": 24,
   "id": "b19c3c67-2f9a-4484-bf44-12e7b0546878",
   "metadata": {},
   "outputs": [
    {
     "ename": "NameError",
     "evalue": "name 'principal' is not defined",
     "output_type": "error",
     "traceback": [
      "\u001b[0;31m---------------------------------------------------------------------------\u001b[0m",
      "\u001b[0;31mNameError\u001b[0m                                 Traceback (most recent call last)",
      "Cell \u001b[0;32mIn[24], line 1\u001b[0m\n\u001b[0;32m----> 1\u001b[0m \u001b[43mprincipal\u001b[49m\n",
      "\u001b[0;31mNameError\u001b[0m: name 'principal' is not defined"
     ]
    }
   ],
   "source": [
    "principal"
   ]
  },
  {
   "cell_type": "code",
   "execution_count": 25,
   "id": "66ef20fc-7ec9-40d9-bc30-a9e598a44770",
   "metadata": {},
   "outputs": [],
   "source": [
    "import seaborn as sns"
   ]
  },
  {
   "cell_type": "code",
   "execution_count": 26,
   "id": "a4cfacd7-17a7-431d-a38f-736693a82b88",
   "metadata": {},
   "outputs": [
    {
     "ename": "NameError",
     "evalue": "name 'principal' is not defined",
     "output_type": "error",
     "traceback": [
      "\u001b[0;31m---------------------------------------------------------------------------\u001b[0m",
      "\u001b[0;31mNameError\u001b[0m                                 Traceback (most recent call last)",
      "Cell \u001b[0;32mIn[26], line 1\u001b[0m\n\u001b[0;32m----> 1\u001b[0m sns\u001b[38;5;241m.\u001b[39mscatterplot(\u001b[43mprincipal\u001b[49m[\u001b[38;5;124m'\u001b[39m\u001b[38;5;124mprincipal component 1\u001b[39m\u001b[38;5;124m'\u001b[39m], principal[\u001b[38;5;124m'\u001b[39m\u001b[38;5;124mprincipal component 2\u001b[39m\u001b[38;5;124m'\u001b[39m])\n",
      "\u001b[0;31mNameError\u001b[0m: name 'principal' is not defined"
     ]
    }
   ],
   "source": [
    "sns.scatterplot(principal['principal component 1'], principal['principal component 2'])"
   ]
  },
  {
   "cell_type": "code",
   "execution_count": 64,
   "id": "c6aa6c20-831d-4e28-8abb-ccd47884a3c4",
   "metadata": {},
   "outputs": [],
   "source": [
    "from sklearn.cluster import KMeans\n",
    "kmeans = KMeans(n_clusters=4).fit(principal)\n",
    "l = kmeans.labels_"
   ]
  },
  {
   "cell_type": "code",
   "execution_count": 71,
   "id": "d3d1761d-440b-4174-9f9c-311eb5c9425a",
   "metadata": {},
   "outputs": [
    {
     "data": {
      "text/plain": [
       "<matplotlib.collections.PathCollection at 0x7fed005b7fd0>"
      ]
     },
     "execution_count": 71,
     "metadata": {},
     "output_type": "execute_result"
    },
    {
     "data": {
      "image/png": "[encoded data removed]",
      "text/plain": [
       "<Figure size 640x480 with 1 Axes>"
      ]
     },
     "metadata": {},
     "output_type": "display_data"
    }
   ],
   "source": [
    "plt.scatter(principal['principal component 1'], \n",
    "             principal['principal component 2'],\n",
    "             c=l,\n",
    "           )"
   ]
  },
  {
   "cell_type": "code",
   "execution_count": 67,
   "id": "b2f2187f-0fd1-4b3a-aeee-89c6593f1b32",
   "metadata": {},
   "outputs": [],
   "source": [
    "df['clust'] = l"
   ]
  },
  {
   "cell_type": "code",
   "execution_count": 73,
   "id": "e26c29d8-4a05-42b0-99b1-844cb97c446a",
   "metadata": {},
   "outputs": [
    {
     "data": {
      "text/plain": [
       "69       В последние годы я проходил обучение без возмо...\n",
       "178      В последние годы проходил обучение без возможн...\n",
       "324      В последние годы проходил обучение без возможн...\n",
       "911      В последние годы я проходила обучение без возм...\n",
       "1750     В последние годы я проходил обучение без возмо...\n",
       "                               ...                        \n",
       "19638    В последние годы я проходил обучение без возмо...\n",
       "19645    В последние годы проходил обучение без возможн...\n",
       "19667    В последние годы я проходил обучение без возмо...\n",
       "19728    В последние годы я проходил обучение без возмо...\n",
       "19765    В последние годы проходила обучение без возмож...\n",
       "Name: О себе, Length: 67, dtype: object"
      ]
     },
     "execution_count": 73,
     "metadata": {},
     "output_type": "execute_result"
    }
   ],
   "source": [
    "df.loc[df['clust']==1]['О себе']"
   ]
  },
  {
   "cell_type": "code",
   "execution_count": 74,
   "id": "82f5e044-228d-4874-8912-da64c3c8fd7c",
   "metadata": {},
   "outputs": [
    {
     "data": {
      "text/plain": [
       "0        Responsible, communicable, quick study and det...\n",
       "1        В последние годы проходила обучение без возмож...\n",
       "2                                                      ---\n",
       "3        Имею экономическое образование. Продвинутый по...\n",
       "4        Имеется опыт в создании Android-приложений на ...\n",
       "                               ...                        \n",
       "19813    Высокая работоспособность, вдумчивость, уравно...\n",
       "19814    Увлекаюсь спортом, вредные привычки отсутствую...\n",
       "19815    Уверенный пользователь ПК, работа с оргтехнико...\n",
       "19816    Я абсолютно честен и очень ответственен. Люблю...\n",
       "19817    I. ОБЩАЯ ПОДГОТОВЛЕННОСТЬ И ОПЫТ РАБОТЫ\\n\\nДел...\n",
       "Name: О себе, Length: 18774, dtype: object"
      ]
     },
     "execution_count": 74,
     "metadata": {},
     "output_type": "execute_result"
    }
   ],
   "source": [
    "df.loc[df['clust']==0]['О себе']"
   ]
  },
  {
   "cell_type": "code",
   "execution_count": 75,
   "id": "27170161-4ef5-485e-8a3a-1d94d2c03f5c",
   "metadata": {},
   "outputs": [
    {
     "data": {
      "text/plain": [
       "21       Аналитический склад ума, ответственная, пункту...\n",
       "40       Ответственный, исполнительный, целеустремленны...\n",
       "83       Аналитический склад ума, критическое мышление,...\n",
       "114      Аналитический склад ума, ответственность, стре...\n",
       "122      Аналитический склад ума. Системное мышление. Ц...\n",
       "                               ...                        \n",
       "19753    Аналитический склад ума, умение работать в ком...\n",
       "19771    Стрессоустойчивость, коммуникабельность, спосо...\n",
       "19776    Стрессоустойчивость, обучаемость, работа с бол...\n",
       "19782    умение работать в команде, общительность, целе...\n",
       "19788    Я быстро обучаюсь, всегда концентрирован на за...\n",
       "Name: О себе, Length: 641, dtype: object"
      ]
     },
     "execution_count": 75,
     "metadata": {},
     "output_type": "execute_result"
    }
   ],
   "source": [
    "df.loc[df['clust']==2]['О себе']"
   ]
  },
  {
   "cell_type": "code",
   "execution_count": 76,
   "id": "d4447182-479a-4390-a0c7-7af49fa459e3",
   "metadata": {},
   "outputs": [
    {
     "data": {
      "text/plain": [
       "Series([], Name: О себе, dtype: object)"
      ]
     },
     "execution_count": 76,
     "metadata": {},
     "output_type": "execute_result"
    }
   ],
   "source": [
    "df.loc[df['clust']==4]['О себе']"
   ]
  },
  {
   "cell_type": "markdown",
   "id": "00f62b41-ca08-4f5c-bb3a-9839afe1399d",
   "metadata": {},
   "source": [
    "итог: кластеры плохие, мб как раз дело в том, что слишком простой метод постреония эмбеддингов"
   ]
  },
  {
   "cell_type": "code",
   "execution_count": null,
   "id": "bfddffab-dad9-4aff-b283-77e80e2b9ee1",
   "metadata": {},
   "outputs": [],
   "source": [
    "df.iloc[0]['Ссылка']"
   ]
  },
  {
   "cell_type": "markdown",
   "id": "3c8b983b-531d-4974-bf49-e72b2617bcb2",
   "metadata": {},
   "source": [
    "**что дальше?**\n",
    "\n",
    "- 3 ноутбука с содержанием\n",
    "- разметка, образование\n",
    "- эксперименты с эмбеддингами [в таблице q | emb_w2v | emd d2v | etc.], моделями, учусь сравнивать supervised и semi-supervised"
   ]
  },
  {
   "cell_type": "markdown",
   "id": "0590f1c0-6667-4841-b239-94743ed8384d",
   "metadata": {},
   "source": [
    "Сравнение:\n",
    "- https://stats.stackexchange.com/questions/498580/semi-supervised-learning-vs-supervised\n",
    "- https://ifoadatascienceresearch.github.io/tutorial/comparison/\n",
    "- https://math.stackexchange.com/questions/3927928/semisupervised-vs-supervised-learning"
   ]
  },
  {
   "cell_type": "markdown",
   "id": "37debe0d-2c66-4c39-877d-437163059085",
   "metadata": {},
   "source": [
    "Интерпретировать результаты."
   ]
  },
  {
   "cell_type": "code",
   "execution_count": null,
   "id": "cd49b6c8-a3e3-472b-a45e-88061c0f1207",
   "metadata": {},
   "outputs": [],
   "source": []
  }
 ],
 "metadata": {
  "kernelspec": {
   "display_name": "Python 3 (ipykernel)",
   "language": "python",
   "name": "python3"
  },
  "language_info": {
   "codemirror_mode": {
    "name": "ipython",
    "version": 3
   },
   "file_extension": ".py",
   "mimetype": "text/x-python",
   "name": "python",
   "nbconvert_exporter": "python",
   "pygments_lexer": "ipython3",
   "version": "3.9.5"
  }
 },
 "nbformat": 4,
 "nbformat_minor": 5
}
