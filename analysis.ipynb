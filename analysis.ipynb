{
 "cells": [
  {
   "cell_type": "markdown",
   "id": "41b3e9f1-17cd-448d-bde7-9cfef4b30262",
   "metadata": {},
   "source": [
    "## ВКР: анализ данных"
   ]
  },
  {
   "cell_type": "markdown",
   "id": "603a9da5-cd31-436e-ac09-53a4989c2552",
   "metadata": {},
   "source": [
    "Автоматизация подбора персонала\n",
    "\n",
    "Копчев Владислав, БПМИ197"
   ]
  },
  {
   "cell_type": "markdown",
   "id": "2aa41204-e166-4fbb-aacc-c60461c4c663",
   "metadata": {},
   "source": [
    "В данном ноутбуке предобработанные в ноутбуке `preprocessing.ipynb` данные мы будем анализировать и делать из них полезные для принятия HR-решений выводы:"
   ]
  },
  {
   "cell_type": "markdown",
   "id": "9b7a3e77-82be-45ab-b8c0-0327d7e7ff03",
   "metadata": {},
   "source": [
    "### Библиотеки"
   ]
  },
  {
   "cell_type": "markdown",
   "id": "03eee3b0-f0de-4cfa-814a-d498e7dc8bd2",
   "metadata": {},
   "source": [
    "see описание из `scraping.ipynb`."
   ]
  },
  {
   "cell_type": "code",
   "execution_count": 149,
   "id": "51390a49-af19-4714-8209-35086ee596b8",
   "metadata": {},
   "outputs": [],
   "source": [
    "from bs4 import BeautifulSoup\n",
    "import requests\n",
    "import pandas as pd\n",
    "from selenium import webdriver\n",
    "from selenium.webdriver.common.keys import Keys\n",
    "from selenium.webdriver.common.by import By\n",
    "from selenium.webdriver.support.ui import Select\n",
    "# !pip install transliterate\n",
    "from transliterate import translit\n",
    "import re\n",
    "import numpy as np"
   ]
  },
  {
   "cell_type": "markdown",
   "id": "558d8586-b380-4bf8-b610-6390cef770a1",
   "metadata": {},
   "source": [
    "Штука которую я взял из `preprocessing.ipynb`:"
   ]
  },
  {
   "cell_type": "markdown",
   "id": "7f01112b-3e50-44a8-a334-da5e366a2aca",
   "metadata": {},
   "source": [
    "**Токенизация раздела \"О себе\" на 1-граммы:**"
   ]
  },
  {
   "cell_type": "code",
   "execution_count": 125,
   "id": "e4fdb3b1-b935-4a9a-835f-5fd43b695d29",
   "metadata": {},
   "outputs": [],
   "source": [
    "df = pd.read_csv('resumes_features.csv')"
   ]
  },
  {
   "cell_type": "code",
   "execution_count": 69,
   "id": "92c1cb6b-b792-489c-8bcc-16b1a72fbeda",
   "metadata": {},
   "outputs": [],
   "source": [
    "import nltk\n",
    "# nltk.download('stopwords')\n",
    "\n",
    "import re\n",
    "from pymorphy2 import MorphAnalyzer\n",
    "from nltk.corpus import stopwords\n",
    "patterns = \"[0-9!#$%&'()*+,./:;<=>?@[\\]^_`{|}~—\\\"\\-]+\"\n",
    "stopwords_ru = stopwords.words(\"russian\")\n",
    "morph = MorphAnalyzer()\n",
    "def lemmatize(doc):\n",
    "    # print(doc)\n",
    "    doc = re.sub(patterns, ' ', doc)\n",
    "    tokens = []\n",
    "    for token in doc.split():\n",
    "        if token and token not in stopwords_ru and morph.normal_forms(token)[0] not in stopwords_ru:  # ВОТ откуда там стоп-слвоа — В not in stopwords_ru -> normal(В) = в\n",
    "            # print(token)\n",
    "            token = token.strip()\n",
    "            token = morph.normal_forms(token)[0]\n",
    "            tokens.append(token)\n",
    "    if len(tokens) > 2:\n",
    "        return tokens\n",
    "    return None\n",
    "\n",
    "df2 = pd.DataFrame(df['О себе, summarized'])\n",
    "\n",
    "for col_ind in df2.index:\n",
    "    col = df2.loc[col_ind]['О себе, summarized']\n",
    "    if col:\n",
    "        df2.loc[col_ind]['О себе, summarized'] = lemmatize(str(col))\n",
    "        #print(lemmatize(str(col)))\n",
    "        \n",
    "data = df2['О себе, summarized']\n",
    "\n",
    "from collections import defaultdict\n",
    "word_freq = defaultdict(int)\n",
    "for tokens in data.iloc[:]:\n",
    "    if tokens:\n",
    "        for token in tokens:\n",
    "            word_freq[token] += 1"
   ]
  },
  {
   "cell_type": "code",
   "execution_count": 70,
   "id": "441d3f94-0b4d-4518-a883-52eb40437033",
   "metadata": {},
   "outputs": [
    {
     "data": {
      "text/html": [
       "<div>\n",
       "<style scoped>\n",
       "    .dataframe tbody tr th:only-of-type {\n",
       "        vertical-align: middle;\n",
       "    }\n",
       "\n",
       "    .dataframe tbody tr th {\n",
       "        vertical-align: top;\n",
       "    }\n",
       "\n",
       "    .dataframe thead th {\n",
       "        text-align: right;\n",
       "    }\n",
       "</style>\n",
       "<table border=\"1\" class=\"dataframe\">\n",
       "  <thead>\n",
       "    <tr style=\"text-align: right;\">\n",
       "      <th></th>\n",
       "      <th>О себе, summarized</th>\n",
       "    </tr>\n",
       "  </thead>\n",
       "  <tbody>\n",
       "    <tr>\n",
       "      <th>733</th>\n",
       "      <td>[«, с», amocrm, word, excel, powerpoint, outlo...</td>\n",
       "    </tr>\n",
       "    <tr>\n",
       "      <th>923</th>\n",
       "      <td>[компания, «атлант», требоваться, высокооплачи...</td>\n",
       "    </tr>\n",
       "    <tr>\n",
       "      <th>2260</th>\n",
       "      <td>[гражданин, москва, проживать, санкт, петербур...</td>\n",
       "    </tr>\n",
       "  </tbody>\n",
       "</table>\n",
       "</div>"
      ],
      "text/plain": [
       "                                     О себе, summarized\n",
       "733   [«, с», amocrm, word, excel, powerpoint, outlo...\n",
       "923   [компания, «атлант», требоваться, высокооплачи...\n",
       "2260  [гражданин, москва, проживать, санкт, петербур..."
      ]
     },
     "execution_count": 70,
     "metadata": {},
     "output_type": "execute_result"
    }
   ],
   "source": [
    "df2.sample(3)"
   ]
  },
  {
   "cell_type": "markdown",
   "id": "6226b7be-e581-485e-b7cf-446ef0fe9705",
   "metadata": {},
   "source": [
    "^ Стоп-слова убраны, все в нормальной форме => их не будет и дальше."
   ]
  },
  {
   "cell_type": "markdown",
   "id": "bdb0b8b0-35ea-48ce-be9a-a91475fd03ce",
   "metadata": {},
   "source": [
    "На 2-граммы:"
   ]
  },
  {
   "cell_type": "markdown",
   "id": "070636cb-f089-4ca5-bbdc-9199e1403686",
   "metadata": {},
   "source": [
    "В соответствии с задачей работы, мы разобьем на 3-граммы. Но сначала на 2-граммы. Для этого будем перебирать все 1-граммы (изначальные токены) и соединять."
   ]
  },
  {
   "cell_type": "code",
   "execution_count": 71,
   "id": "b7c5b2b3-9db9-47ad-bfc6-d9dfd4832532",
   "metadata": {},
   "outputs": [],
   "source": [
    "from nltk.util import ngrams\n",
    "from nltk import word_tokenize \n",
    "\n",
    "tokens2 = []\n",
    "\n",
    "for x in df2['О себе, summarized']:\n",
    "    if x is not None:\n",
    "        bigrams = []\n",
    "        for bg in list(ngrams(x, 2)):\n",
    "            bigrams.append(' '.join(bg))\n",
    "        tokens2.append(bigrams)\n",
    "    else:\n",
    "        tokens2.append(None)\n",
    "        \n",
    "df2['О себе 2'] = tokens2"
   ]
  },
  {
   "cell_type": "code",
   "execution_count": 72,
   "id": "5c3110b2-4298-432f-a886-ff038030c442",
   "metadata": {},
   "outputs": [
    {
     "data": {
      "text/html": [
       "<div>\n",
       "<style scoped>\n",
       "    .dataframe tbody tr th:only-of-type {\n",
       "        vertical-align: middle;\n",
       "    }\n",
       "\n",
       "    .dataframe tbody tr th {\n",
       "        vertical-align: top;\n",
       "    }\n",
       "\n",
       "    .dataframe thead th {\n",
       "        text-align: right;\n",
       "    }\n",
       "</style>\n",
       "<table border=\"1\" class=\"dataframe\">\n",
       "  <thead>\n",
       "    <tr style=\"text-align: right;\">\n",
       "      <th></th>\n",
       "      <th>О себе, summarized</th>\n",
       "      <th>О себе 2</th>\n",
       "    </tr>\n",
       "  </thead>\n",
       "  <tbody>\n",
       "    <tr>\n",
       "      <th>1850</th>\n",
       "      <td>[российский, спортивный, директор, образование...</td>\n",
       "      <td>[российский спортивный, спортивный директор, д...</td>\n",
       "    </tr>\n",
       "    <tr>\n",
       "      <th>2060</th>\n",
       "      <td>[российский, гражданка, проживать, санкт, пете...</td>\n",
       "      <td>[российский гражданка, гражданка проживать, пр...</td>\n",
       "    </tr>\n",
       "    <tr>\n",
       "      <th>1037</th>\n",
       "      <td>[обладать, креативный, мышление, аналитический...</td>\n",
       "      <td>[обладать креативный, креативный мышление, мыш...</td>\n",
       "    </tr>\n",
       "  </tbody>\n",
       "</table>\n",
       "</div>"
      ],
      "text/plain": [
       "                                     О себе, summarized  \\\n",
       "1850  [российский, спортивный, директор, образование...   \n",
       "2060  [российский, гражданка, проживать, санкт, пете...   \n",
       "1037  [обладать, креативный, мышление, аналитический...   \n",
       "\n",
       "                                               О себе 2  \n",
       "1850  [российский спортивный, спортивный директор, д...  \n",
       "2060  [российский гражданка, гражданка проживать, пр...  \n",
       "1037  [обладать креативный, креативный мышление, мыш...  "
      ]
     },
     "execution_count": 72,
     "metadata": {},
     "output_type": "execute_result"
    }
   ],
   "source": [
    "df2.sample(3)"
   ]
  },
  {
   "cell_type": "markdown",
   "id": "0539c9f1-a782-4045-bd1b-e08d304a1ea1",
   "metadata": {},
   "source": [
    "На 3-граммы:\n",
    "\n",
    "Все аналогично."
   ]
  },
  {
   "cell_type": "code",
   "execution_count": 73,
   "id": "d31d45f6-3bc9-49e6-935f-9d223a89140f",
   "metadata": {},
   "outputs": [],
   "source": [
    "from nltk.util import ngrams\n",
    "from nltk import word_tokenize \n",
    "\n",
    "tokens3 = []\n",
    "\n",
    "for x in df2['О себе, summarized']:\n",
    "    if x is not None:\n",
    "        trigrams = []\n",
    "        for tg in list(ngrams(x, 3)):\n",
    "            trigrams.append(' '.join(tg))\n",
    "        tokens3.append(trigrams)\n",
    "    else:\n",
    "        tokens3.append(None)\n",
    "        \n",
    "df2['О себе 3'] = tokens3"
   ]
  },
  {
   "cell_type": "code",
   "execution_count": 74,
   "id": "dcbb261e-6da7-4f58-a062-2e625a7f33a7",
   "metadata": {},
   "outputs": [
    {
     "data": {
      "text/html": [
       "<div>\n",
       "<style scoped>\n",
       "    .dataframe tbody tr th:only-of-type {\n",
       "        vertical-align: middle;\n",
       "    }\n",
       "\n",
       "    .dataframe tbody tr th {\n",
       "        vertical-align: top;\n",
       "    }\n",
       "\n",
       "    .dataframe thead th {\n",
       "        text-align: right;\n",
       "    }\n",
       "</style>\n",
       "<table border=\"1\" class=\"dataframe\">\n",
       "  <thead>\n",
       "    <tr style=\"text-align: right;\">\n",
       "      <th></th>\n",
       "      <th>О себе, summarized</th>\n",
       "      <th>О себе 2</th>\n",
       "      <th>О себе 3</th>\n",
       "    </tr>\n",
       "  </thead>\n",
       "  <tbody>\n",
       "    <tr>\n",
       "      <th>1779</th>\n",
       "      <td>[российский, банк, «санкт, петербург», открыть...</td>\n",
       "      <td>[российский банк, банк «санкт, «санкт петербур...</td>\n",
       "      <td>[российский банк «санкт, банк «санкт петербург...</td>\n",
       "    </tr>\n",
       "    <tr>\n",
       "      <th>1204</th>\n",
       "      <td>[находиться, возраст, год, опыт, работа, it, с...</td>\n",
       "      <td>[находиться возраст, возраст год, год опыт, оп...</td>\n",
       "      <td>[находиться возраст год, возраст год опыт, год...</td>\n",
       "    </tr>\n",
       "    <tr>\n",
       "      <th>1199</th>\n",
       "      <td>[находиться, компания, численность, сотрудник,...</td>\n",
       "      <td>[находиться компания, компания численность, чи...</td>\n",
       "      <td>[находиться компания численность, компания чис...</td>\n",
       "    </tr>\n",
       "  </tbody>\n",
       "</table>\n",
       "</div>"
      ],
      "text/plain": [
       "                                     О себе, summarized  \\\n",
       "1779  [российский, банк, «санкт, петербург», открыть...   \n",
       "1204  [находиться, возраст, год, опыт, работа, it, с...   \n",
       "1199  [находиться, компания, численность, сотрудник,...   \n",
       "\n",
       "                                               О себе 2  \\\n",
       "1779  [российский банк, банк «санкт, «санкт петербур...   \n",
       "1204  [находиться возраст, возраст год, год опыт, оп...   \n",
       "1199  [находиться компания, компания численность, чи...   \n",
       "\n",
       "                                               О себе 3  \n",
       "1779  [российский банк «санкт, банк «санкт петербург...  \n",
       "1204  [находиться возраст год, возраст год опыт, год...  \n",
       "1199  [находиться компания численность, компания чис...  "
      ]
     },
     "execution_count": 74,
     "metadata": {},
     "output_type": "execute_result"
    }
   ],
   "source": [
    "df2.sample(3)"
   ]
  },
  {
   "cell_type": "markdown",
   "id": "d87f4fae-bf76-4668-9362-b9a4802b8e92",
   "metadata": {},
   "source": [
    "Строим эмбеддинги с помощью среднего word2vec-вектора токенов (но сначала надо заденойзить `О себе` и вообще использовать все данные!!):"
   ]
  },
  {
   "cell_type": "code",
   "execution_count": 75,
   "id": "9593813d-29e2-4b63-b740-b7384b0b3304",
   "metadata": {},
   "outputs": [],
   "source": [
    "from gensim.test.utils import common_texts\n",
    "from gensim.models import Word2Vec"
   ]
  },
  {
   "cell_type": "markdown",
   "id": "f8f8ebcb-6540-4a10-8aeb-1ee2868c4370",
   "metadata": {},
   "source": [
    "Избавились от пропусков:"
   ]
  },
  {
   "cell_type": "code",
   "execution_count": 76,
   "id": "b624a13b-a46b-4e93-99bd-4c2837f60f1e",
   "metadata": {},
   "outputs": [],
   "source": [
    "df2.loc[df2['О себе 3'].isna(), 'О себе 3'] = '-'"
   ]
  },
  {
   "cell_type": "code",
   "execution_count": 77,
   "id": "0d6e33c5-d046-469b-9228-ccf0ddf57fd0",
   "metadata": {},
   "outputs": [
    {
     "data": {
      "text/plain": [
       "Series([], Name: О себе 3, dtype: object)"
      ]
     },
     "execution_count": 77,
     "metadata": {},
     "output_type": "execute_result"
    }
   ],
   "source": [
    "df2[df2['О себе 3'].isna()]['О себе 3']"
   ]
  },
  {
   "cell_type": "code",
   "execution_count": 78,
   "id": "5a19a055-7bfd-462e-89e2-a9434e0a0ecf",
   "metadata": {},
   "outputs": [],
   "source": [
    "model = Word2Vec(sentences=df2['О себе 3'], vector_size=100, window=5, min_count=1, workers=4)\n",
    "model.save(\"word2vec.model\")"
   ]
  },
  {
   "cell_type": "code",
   "execution_count": 79,
   "id": "fd3869ea-2216-460b-b8c9-e49b584c4862",
   "metadata": {},
   "outputs": [],
   "source": [
    "model = Word2Vec.load(\"word2vec.model\")"
   ]
  },
  {
   "cell_type": "code",
   "execution_count": 80,
   "id": "b74450d7-b702-473c-b95b-c277421fb459",
   "metadata": {},
   "outputs": [
    {
     "data": {
      "text/plain": [
       "<gensim.models.word2vec.Word2Vec at 0x7fdc8be333d0>"
      ]
     },
     "execution_count": 80,
     "metadata": {},
     "output_type": "execute_result"
    }
   ],
   "source": [
    "model"
   ]
  },
  {
   "cell_type": "code",
   "execution_count": 81,
   "id": "1865db88-f445-4dd0-afc6-2ef1ecbe4217",
   "metadata": {},
   "outputs": [
    {
     "data": {
      "text/plain": [
       "(41882, 42180)"
      ]
     },
     "execution_count": 81,
     "metadata": {},
     "output_type": "execute_result"
    }
   ],
   "source": [
    "model.train(df2['О себе 3'], total_examples=len(df2['О себе 3']), epochs=1)"
   ]
  },
  {
   "cell_type": "markdown",
   "id": "987053d0-5b6a-4018-8cd0-ec004199c8ab",
   "metadata": {},
   "source": [
    "^ наверное лучше еще привести все токены в тексте к норм. форме?"
   ]
  },
  {
   "cell_type": "code",
   "execution_count": 82,
   "id": "67b9b3d6-1a30-4f56-91fa-ff08a352f3b8",
   "metadata": {},
   "outputs": [
    {
     "data": {
      "text/plain": [
       "0       [уверенный пользователь пк, пользователь пк ms...\n",
       "1       [настоящий время заниматься, время заниматься ...\n",
       "2       [крупный медучреждение россия, медучреждение р...\n",
       "3       [настоящий время заниматься, время заниматься ...\n",
       "4       [настоящий время работать, время работать комп...\n",
       "                              ...                        \n",
       "2995    [крупный российский банковский, российский бан...\n",
       "2996    [находиться поиск работа, поиск работа который...\n",
       "2997    [una отечественный компания, отечественный ком...\n",
       "2998                                                    -\n",
       "2999                                                    -\n",
       "Name: О себе 3, Length: 2725, dtype: object"
      ]
     },
     "execution_count": 82,
     "metadata": {},
     "output_type": "execute_result"
    }
   ],
   "source": [
    "df2['О себе 3']"
   ]
  },
  {
   "cell_type": "code",
   "execution_count": 83,
   "id": "e9f1156f-4f7b-4a15-b663-afe3d7d40b21",
   "metadata": {},
   "outputs": [],
   "source": [
    "vector = model.wv['последний год проходить']  # get numpy vector of a word\n",
    "sims = model.wv.most_similar('последний год проходить', topn=10)  # get other similar words"
   ]
  },
  {
   "cell_type": "code",
   "execution_count": 84,
   "id": "024bfcd3-e7a8-456d-a0b6-1708861b030e",
   "metadata": {},
   "outputs": [
    {
     "data": {
      "text/plain": [
       "[('строить bi дашборд', 0.42141833901405334),\n",
       " ('класс данный момент', 0.40000566840171814),\n",
       " ('interbase x linux', 0.37054112553596497),\n",
       " ('фьючерсный индустрия время', 0.3572617173194885),\n",
       " ('дипломный работа пао', 0.35084906220436096),\n",
       " ('технология находиться поиск', 0.3504035472869873),\n",
       " ('результат умение принимать', 0.3501429557800293),\n",
       " ('o организация r', 0.34892430901527405),\n",
       " ('хороший обучаемость серьёзный', 0.33604225516319275),\n",
       " ('звание самый зрелищный', 0.3358129858970642)]"
      ]
     },
     "execution_count": 84,
     "metadata": {},
     "output_type": "execute_result"
    }
   ],
   "source": [
    "sims"
   ]
  },
  {
   "cell_type": "code",
   "execution_count": 85,
   "id": "f5583621-4111-42de-bc5e-ac5aba174f64",
   "metadata": {},
   "outputs": [
    {
     "data": {
      "text/plain": [
       "array([ 2.0603905e-03, -7.4961092e-03,  7.8356294e-03,  7.6660477e-03,\n",
       "        2.3958755e-03, -6.2641720e-03, -8.2801605e-05,  3.4830756e-03,\n",
       "       -5.3281221e-04,  6.0767634e-03, -3.5988856e-03,  4.3703029e-03,\n",
       "       -3.5377620e-03,  5.1453342e-03,  7.1475431e-03, -7.3286491e-03,\n",
       "       -6.7358231e-03,  9.6569201e-03,  2.2143638e-03, -6.3319276e-03,\n",
       "       -1.8144263e-03, -3.4903639e-03,  5.9997663e-04,  2.4809970e-03,\n",
       "        6.0821051e-04, -2.1437597e-03,  1.6142736e-03,  7.0247315e-03,\n",
       "        7.0929886e-03, -2.6957043e-03, -9.0622203e-03,  7.0161140e-03,\n",
       "        2.1271096e-03,  2.8190939e-03,  3.1238236e-03,  6.2802364e-03,\n",
       "       -7.8218681e-04,  4.1128560e-03,  8.8230285e-05, -9.4170291e-03,\n",
       "       -2.0276429e-03, -7.7198405e-04, -8.2548062e-04,  5.9089949e-03,\n",
       "       -7.4773515e-03,  9.9119432e-03, -5.0465204e-03,  2.9290619e-03,\n",
       "        4.2502158e-03,  7.7780820e-03, -1.0581914e-03, -5.6765848e-03,\n",
       "        9.2387311e-03, -7.7365973e-04, -5.3210072e-03,  2.2123423e-03,\n",
       "       -9.5917685e-03,  1.4004561e-04,  9.9609857e-03, -9.0326155e-03,\n",
       "       -2.4334122e-03, -7.8025749e-03, -3.9049864e-03, -8.6795231e-03,\n",
       "        5.2394243e-03, -3.3674068e-03, -8.9745317e-03,  4.8291581e-03,\n",
       "       -7.1730879e-03, -2.5918353e-03, -3.8556585e-03,  8.3229318e-03,\n",
       "       -8.0097793e-03, -2.2386105e-03,  4.7788783e-03, -9.0492954e-03,\n",
       "       -6.8834154e-03,  9.8224590e-03, -5.9294831e-03,  9.4037279e-03,\n",
       "        9.9139083e-03, -8.6587239e-03, -5.9616738e-03,  2.9189403e-03,\n",
       "        6.9628772e-03, -8.3015803e-03,  3.8152244e-03,  2.6390261e-03,\n",
       "        6.3855830e-03, -8.3302632e-03, -5.6414562e-03,  3.3960026e-03,\n",
       "        5.3775491e-04, -8.3439089e-03, -6.8760673e-03, -4.7401949e-03,\n",
       "        2.2326943e-03, -6.5763611e-03, -5.4247105e-03,  2.7057578e-05],\n",
       "      dtype=float32)"
      ]
     },
     "execution_count": 85,
     "metadata": {},
     "output_type": "execute_result"
    }
   ],
   "source": [
    "vector"
   ]
  },
  {
   "cell_type": "markdown",
   "id": "65893361-3757-494d-b673-a711f957fa88",
   "metadata": {},
   "source": [
    "Итак, мы построили эмбеддинги. Теперь кластеризуем. Для этого сначала строим новую табличку:"
   ]
  },
  {
   "cell_type": "code",
   "execution_count": 86,
   "id": "f9369a36-1233-4a43-a0a3-4aa67f33934e",
   "metadata": {},
   "outputs": [
    {
     "data": {
      "text/plain": [
       "<gensim.models.keyedvectors.KeyedVectors at 0x7fdc4c1b4100>"
      ]
     },
     "execution_count": 86,
     "metadata": {},
     "output_type": "execute_result"
    }
   ],
   "source": [
    "model.wv"
   ]
  },
  {
   "cell_type": "code",
   "execution_count": 87,
   "id": "f6602d86-6244-4a43-b2e4-fd33999ffb1b",
   "metadata": {},
   "outputs": [],
   "source": [
    "our_data = pd.DataFrame(df2['О себе 3'])"
   ]
  },
  {
   "cell_type": "code",
   "execution_count": 88,
   "id": "d5db2edf-4147-438c-9138-e2b802551170",
   "metadata": {},
   "outputs": [],
   "source": [
    "our_data['emb'] = 0"
   ]
  },
  {
   "cell_type": "code",
   "execution_count": 89,
   "id": "c6de4849-8f1c-45b1-a92f-c7edf9611780",
   "metadata": {},
   "outputs": [
    {
     "data": {
      "text/html": [
       "<div>\n",
       "<style scoped>\n",
       "    .dataframe tbody tr th:only-of-type {\n",
       "        vertical-align: middle;\n",
       "    }\n",
       "\n",
       "    .dataframe tbody tr th {\n",
       "        vertical-align: top;\n",
       "    }\n",
       "\n",
       "    .dataframe thead th {\n",
       "        text-align: right;\n",
       "    }\n",
       "</style>\n",
       "<table border=\"1\" class=\"dataframe\">\n",
       "  <thead>\n",
       "    <tr style=\"text-align: right;\">\n",
       "      <th></th>\n",
       "      <th>О себе 3</th>\n",
       "      <th>emb</th>\n",
       "    </tr>\n",
       "  </thead>\n",
       "  <tbody>\n",
       "    <tr>\n",
       "      <th>0</th>\n",
       "      <td>[уверенный пользователь пк, пользователь пк ms...</td>\n",
       "      <td>0</td>\n",
       "    </tr>\n",
       "    <tr>\n",
       "      <th>1</th>\n",
       "      <td>[настоящий время заниматься, время заниматься ...</td>\n",
       "      <td>0</td>\n",
       "    </tr>\n",
       "    <tr>\n",
       "      <th>2</th>\n",
       "      <td>[крупный медучреждение россия, медучреждение р...</td>\n",
       "      <td>0</td>\n",
       "    </tr>\n",
       "    <tr>\n",
       "      <th>3</th>\n",
       "      <td>[настоящий время заниматься, время заниматься ...</td>\n",
       "      <td>0</td>\n",
       "    </tr>\n",
       "    <tr>\n",
       "      <th>4</th>\n",
       "      <td>[настоящий время работать, время работать комп...</td>\n",
       "      <td>0</td>\n",
       "    </tr>\n",
       "    <tr>\n",
       "      <th>...</th>\n",
       "      <td>...</td>\n",
       "      <td>...</td>\n",
       "    </tr>\n",
       "    <tr>\n",
       "      <th>2995</th>\n",
       "      <td>[крупный российский банковский, российский бан...</td>\n",
       "      <td>0</td>\n",
       "    </tr>\n",
       "    <tr>\n",
       "      <th>2996</th>\n",
       "      <td>[находиться поиск работа, поиск работа который...</td>\n",
       "      <td>0</td>\n",
       "    </tr>\n",
       "    <tr>\n",
       "      <th>2997</th>\n",
       "      <td>[una отечественный компания, отечественный ком...</td>\n",
       "      <td>0</td>\n",
       "    </tr>\n",
       "    <tr>\n",
       "      <th>2998</th>\n",
       "      <td>-</td>\n",
       "      <td>0</td>\n",
       "    </tr>\n",
       "    <tr>\n",
       "      <th>2999</th>\n",
       "      <td>-</td>\n",
       "      <td>0</td>\n",
       "    </tr>\n",
       "  </tbody>\n",
       "</table>\n",
       "<p>2725 rows × 2 columns</p>\n",
       "</div>"
      ],
      "text/plain": [
       "                                               О себе 3  emb\n",
       "0     [уверенный пользователь пк, пользователь пк ms...    0\n",
       "1     [настоящий время заниматься, время заниматься ...    0\n",
       "2     [крупный медучреждение россия, медучреждение р...    0\n",
       "3     [настоящий время заниматься, время заниматься ...    0\n",
       "4     [настоящий время работать, время работать комп...    0\n",
       "...                                                 ...  ...\n",
       "2995  [крупный российский банковский, российский бан...    0\n",
       "2996  [находиться поиск работа, поиск работа который...    0\n",
       "2997  [una отечественный компания, отечественный ком...    0\n",
       "2998                                                  -    0\n",
       "2999                                                  -    0\n",
       "\n",
       "[2725 rows x 2 columns]"
      ]
     },
     "execution_count": 89,
     "metadata": {},
     "output_type": "execute_result"
    }
   ],
   "source": [
    "our_data"
   ]
  },
  {
   "cell_type": "code",
   "execution_count": 90,
   "id": "f403e0ca-b994-4aba-b79a-99c330a782c7",
   "metadata": {},
   "outputs": [],
   "source": [
    "embs = []\n",
    "for x in our_data['О себе 3']:\n",
    "    cur_embs = []\n",
    "    for y in x:\n",
    "        cur_embs.append(model.wv[y])\n",
    "    embs.append(cur_embs)"
   ]
  },
  {
   "cell_type": "code",
   "execution_count": 91,
   "id": "cfd716f5-6941-49cd-851b-4b2fdc36b740",
   "metadata": {},
   "outputs": [],
   "source": [
    "our_data['emb'] = embs"
   ]
  },
  {
   "cell_type": "markdown",
   "id": "aa826f79-ff23-4c7b-b73e-ad33f353227f",
   "metadata": {},
   "source": [
    "теперь надо построить `flat_emb` — по векторам эмбеддингов построить единый вектор эмбеддингов."
   ]
  },
  {
   "cell_type": "markdown",
   "id": "f5f857c1-8951-46ee-88e8-9439dc6e7a5d",
   "metadata": {},
   "source": [
    "2ая попытка:"
   ]
  },
  {
   "cell_type": "code",
   "execution_count": 92,
   "id": "87e7aa14-8bb8-45a2-bf34-5ac0ebdc4426",
   "metadata": {},
   "outputs": [],
   "source": [
    "# буду использовать среднее\n",
    "\n",
    "embs_flattened = []\n",
    "for x in our_data['emb']:\n",
    "    x_flat = np.array(x[0])\n",
    "    for z in x[1:]:\n",
    "        x_flat += np.array(z)\n",
    "    embs_flattened.append(x_flat / len(x))"
   ]
  },
  {
   "cell_type": "code",
   "execution_count": 93,
   "id": "ffdcbef9-1632-4bc4-ad12-e76d1510d9fb",
   "metadata": {},
   "outputs": [
    {
     "data": {
      "text/plain": [
       "100"
      ]
     },
     "execution_count": 93,
     "metadata": {},
     "output_type": "execute_result"
    }
   ],
   "source": [
    "embs_flattened[4].size"
   ]
  },
  {
   "cell_type": "markdown",
   "id": "5df9a82c-5a9e-465f-91bb-94607ecdbbde",
   "metadata": {},
   "source": [
    "почему это работает: Для ВКР и IR одновременно: https://stats.stackexchange.com/questions/318882/what-does-average-of-word2vec-vector-mean"
   ]
  },
  {
   "cell_type": "markdown",
   "id": "ee010959-f9c5-4e7e-8952-15f060d2174d",
   "metadata": {},
   "source": [
    "1ая попытка:\n",
    "\n",
    "```\n",
    "embs_flattened = []\n",
    "for x in our_data['emb']:\n",
    "    x_flat = []\n",
    "    for z in x:\n",
    "        x_flat += list(z)\n",
    "    embs_flattened.append(x_flat)\n",
    "```"
   ]
  },
  {
   "cell_type": "markdown",
   "id": "fafdd536-4823-4552-a859-bcd2946e6cb1",
   "metadata": {},
   "source": [
    "после поаытки:"
   ]
  },
  {
   "cell_type": "code",
   "execution_count": 94,
   "id": "eb03445c-ac3c-4443-8e48-430d347cea47",
   "metadata": {},
   "outputs": [],
   "source": [
    "our_data['flat_emb'] = embs_flattened"
   ]
  },
  {
   "cell_type": "markdown",
   "id": "503be8a0-a426-48ee-9621-413cc2498483",
   "metadata": {},
   "source": [
    "в чем проблема с `flat_emb` как эмбеддингами??? именно поэтому не работает kmeans.\n",
    "\n",
    "Итак, у меня для каждого токена в тексте есть эмбеддинг. Как из этого получить что-то адекватное?"
   ]
  },
  {
   "cell_type": "code",
   "execution_count": 95,
   "id": "22cbe81f-88f1-48ca-8360-80fbab1fa6da",
   "metadata": {
    "tags": []
   },
   "outputs": [
    {
     "data": {
      "text/plain": [
       "array([-1.21887635e-04, -1.44455989e-03, -4.47352446e-04, -1.52464176e-03,\n",
       "        1.83897821e-04, -6.74405135e-04, -1.07628515e-03,  3.12341173e-04,\n",
       "        9.63504659e-04,  7.74977379e-04, -4.16058028e-04,  1.31719816e-03,\n",
       "        2.89531832e-04,  5.51624515e-04, -1.66719168e-04, -3.73779883e-04,\n",
       "       -9.28092515e-04, -8.36048275e-04,  3.49942966e-05,  3.18717299e-04,\n",
       "        1.20000122e-03, -1.19764416e-03, -2.52572704e-06, -2.17890571e-04,\n",
       "        2.22189032e-04, -2.72107107e-04, -4.05280938e-04, -6.32099865e-04,\n",
       "       -2.70224409e-04,  1.71079696e-03,  5.17376175e-04, -1.24018861e-03,\n",
       "        7.95606815e-04, -1.07189477e-03,  5.23071329e-04,  4.96649707e-04,\n",
       "        3.38110956e-04, -5.67462936e-04, -1.03999897e-04, -1.55608170e-03,\n",
       "       -2.25535216e-04, -7.70735205e-04, -7.25922524e-04,  2.89111718e-04,\n",
       "        5.43054251e-04, -1.40629825e-03,  1.30486931e-03,  9.78569034e-04,\n",
       "       -7.18093070e-04,  1.52436944e-04, -1.13952591e-03,  2.85180431e-04,\n",
       "       -5.41380869e-05, -1.74292320e-04, -8.31473852e-04,  3.23138142e-04,\n",
       "        1.18631322e-03, -2.67943484e-04, -7.04879290e-04,  3.55439697e-04,\n",
       "       -3.14096862e-04, -9.24514490e-04,  5.03622170e-04,  3.89173103e-04,\n",
       "        4.43539786e-04, -9.28333786e-04,  4.51627711e-04,  8.62933870e-04,\n",
       "       -1.19290140e-03,  1.87435211e-03, -1.15713046e-03,  5.86338923e-04,\n",
       "       -6.25171117e-04,  7.81752169e-06, -1.24618073e-03,  4.13745001e-05,\n",
       "       -8.21965863e-04,  1.29477284e-03,  7.05247454e-04, -6.93266920e-04,\n",
       "        1.89254794e-03, -6.84467726e-04,  2.30190330e-04,  8.67638038e-04,\n",
       "        1.52910489e-03,  1.34467715e-04, -1.69850566e-04,  1.00923840e-04,\n",
       "        8.27770971e-04, -8.86038761e-04, -2.15281523e-03,  3.80237849e-04,\n",
       "        1.67238503e-03, -3.28296795e-04, -1.98356371e-04, -1.17469393e-03,\n",
       "        2.52718979e-04, -5.02237526e-04,  7.22263008e-04,  4.92383697e-05],\n",
       "      dtype=float32)"
      ]
     },
     "execution_count": 95,
     "metadata": {},
     "output_type": "execute_result"
    }
   ],
   "source": [
    "our_data['flat_emb'][0]"
   ]
  },
  {
   "cell_type": "code",
   "execution_count": 96,
   "id": "008f557e-c283-472f-b483-af3ee8a7e762",
   "metadata": {},
   "outputs": [
    {
     "data": {
      "text/plain": [
       "0       [-0.000121887635, -0.0014445599, -0.0004473524...\n",
       "1       [0.00066284125, -0.0012317172, -1.8251912e-05,...\n",
       "2       [-0.00022906403, 0.0009489509, 0.0023082662, -...\n",
       "3       [-0.002017395, -0.0007299168, -0.0022289013, -...\n",
       "4       [-0.00082174223, 0.0037040582, -0.0013838956, ...\n",
       "                              ...                        \n",
       "2995    [0.0019288944, 0.0013810843, 0.00075041834, 0....\n",
       "2996    [-0.0061710426, 0.0052871965, -0.0025715514, -...\n",
       "2997    [0.0025147595, 0.002165082, 0.004091482, -0.00...\n",
       "2998    [-0.00053622725, 0.00023643016, 0.0051033497, ...\n",
       "2999    [-0.00053622725, 0.00023643016, 0.0051033497, ...\n",
       "Name: flat_emb, Length: 2725, dtype: object"
      ]
     },
     "execution_count": 96,
     "metadata": {},
     "output_type": "execute_result"
    }
   ],
   "source": [
    "our_data['flat_emb'].dropna()"
   ]
  },
  {
   "cell_type": "code",
   "execution_count": 97,
   "id": "69317d78-590f-4bde-950e-22c8b5935aba",
   "metadata": {},
   "outputs": [
    {
     "data": {
      "text/plain": [
       "0       [-0.00024377527, -0.0028891198, -0.0008947049,...\n",
       "1       [0.0013256825, -0.0024634344, -3.6503825e-05, ...\n",
       "2       [-0.00045812805, 0.0018979018, 0.0046165325, -...\n",
       "3       [-0.00403479, -0.0014598336, -0.0044578025, -0...\n",
       "4       [-0.0016434845, 0.0074081165, -0.0027677913, -...\n",
       "                              ...                        \n",
       "2995    [0.0038577889, 0.0027621686, 0.0015008367, 0.0...\n",
       "2996    [-0.012342085, 0.010574393, -0.0051431027, -0....\n",
       "2997    [0.005029519, 0.004330164, 0.008182964, -0.003...\n",
       "2998    [-0.0010724545, 0.00047286032, 0.010206699, 0....\n",
       "2999    [-0.0010724545, 0.00047286032, 0.010206699, 0....\n",
       "Name: flat_emb, Length: 2725, dtype: object"
      ]
     },
     "execution_count": 97,
     "metadata": {},
     "output_type": "execute_result"
    }
   ],
   "source": [
    "our_data['flat_emb'] * 2"
   ]
  },
  {
   "cell_type": "code",
   "execution_count": 98,
   "id": "b8a8e7f9-8c4d-4bed-9ad2-956eb07a7662",
   "metadata": {},
   "outputs": [
    {
     "data": {
      "text/plain": [
       "0       [-0.000121887635, -0.0014445599, -0.0004473524...\n",
       "1       [0.00066284125, -0.0012317172, -1.8251912e-05,...\n",
       "2       [-0.00022906403, 0.0009489509, 0.0023082662, -...\n",
       "3       [-0.002017395, -0.0007299168, -0.0022289013, -...\n",
       "4       [-0.00082174223, 0.0037040582, -0.0013838956, ...\n",
       "                              ...                        \n",
       "2995    [0.0019288944, 0.0013810843, 0.00075041834, 0....\n",
       "2996    [-0.0061710426, 0.0052871965, -0.0025715514, -...\n",
       "2997    [0.0025147595, 0.002165082, 0.004091482, -0.00...\n",
       "2998    [-0.00053622725, 0.00023643016, 0.0051033497, ...\n",
       "2999    [-0.00053622725, 0.00023643016, 0.0051033497, ...\n",
       "Name: flat_emb, Length: 2725, dtype: object"
      ]
     },
     "execution_count": 98,
     "metadata": {},
     "output_type": "execute_result"
    }
   ],
   "source": [
    "our_data['flat_emb']"
   ]
  },
  {
   "cell_type": "code",
   "execution_count": 99,
   "id": "77bbf819-e483-479f-b4dc-cb14af3360d5",
   "metadata": {},
   "outputs": [],
   "source": [
    "X = list(our_data['flat_emb'].dropna())"
   ]
  },
  {
   "cell_type": "code",
   "execution_count": 100,
   "id": "054a3b06-ce01-4674-9994-e83dcfe20d68",
   "metadata": {},
   "outputs": [],
   "source": [
    "X = np.asarray(X)"
   ]
  },
  {
   "cell_type": "code",
   "execution_count": 101,
   "id": "640e9888-cd1b-4c00-bf9b-60838740ad61",
   "metadata": {},
   "outputs": [
    {
     "data": {
      "text/plain": [
       "array([[-1.21887635e-04, -1.44455989e-03, -4.47352446e-04, ...,\n",
       "        -5.02237526e-04,  7.22263008e-04,  4.92383697e-05],\n",
       "       [ 6.62841252e-04, -1.23171718e-03, -1.82519125e-05, ...,\n",
       "        -3.14797333e-04, -3.16061405e-03,  1.47071027e-03],\n",
       "       [-2.29064026e-04,  9.48950881e-04,  2.30826624e-03, ...,\n",
       "        -3.31210031e-04, -3.17809550e-04, -4.92768537e-04],\n",
       "       ...,\n",
       "       [ 2.51475954e-03,  2.16508191e-03,  4.09148214e-03, ...,\n",
       "         2.58194190e-03, -1.68152095e-03,  2.95729260e-05],\n",
       "       [-5.36227250e-04,  2.36430162e-04,  5.10334969e-03, ...,\n",
       "        -7.04156142e-03,  9.01455875e-04,  6.39253389e-03],\n",
       "       [-5.36227250e-04,  2.36430162e-04,  5.10334969e-03, ...,\n",
       "        -7.04156142e-03,  9.01455875e-04,  6.39253389e-03]], dtype=float32)"
      ]
     },
     "execution_count": 101,
     "metadata": {},
     "output_type": "execute_result"
    }
   ],
   "source": [
    "X"
   ]
  },
  {
   "cell_type": "code",
   "execution_count": 102,
   "id": "bd440241-3d88-43a6-a20d-fb199cfdd03e",
   "metadata": {
    "tags": []
   },
   "outputs": [
    {
     "ename": "IndentationError",
     "evalue": "expected an indented block (1027233577.py, line 1)",
     "output_type": "error",
     "traceback": [
      "\u001b[0;36m  Cell \u001b[0;32mIn[102], line 1\u001b[0;36m\u001b[0m\n\u001b[0;31m    for x in X:\u001b[0m\n\u001b[0m               ^\u001b[0m\n\u001b[0;31mIndentationError\u001b[0m\u001b[0;31m:\u001b[0m expected an indented block\n"
     ]
    }
   ],
   "source": [
    "for x in X:"
   ]
  },
  {
   "cell_type": "code",
   "execution_count": 103,
   "id": "aea94cc9-7fea-4b90-bb02-b7df9f933488",
   "metadata": {},
   "outputs": [],
   "source": [
    "X = np.array([np.array([1, 2, 3]), np.array([2, 3, 4]), np.array([5, 6, 7])])"
   ]
  },
  {
   "cell_type": "code",
   "execution_count": 104,
   "id": "1be913c4-7585-4674-8242-f0017d01a58a",
   "metadata": {
    "tags": []
   },
   "outputs": [
    {
     "data": {
      "text/plain": [
       "array([-1.21887635e-04, -1.44455989e-03, -4.47352446e-04, -1.52464176e-03,\n",
       "        1.83897821e-04, -6.74405135e-04, -1.07628515e-03,  3.12341173e-04,\n",
       "        9.63504659e-04,  7.74977379e-04, -4.16058028e-04,  1.31719816e-03,\n",
       "        2.89531832e-04,  5.51624515e-04, -1.66719168e-04, -3.73779883e-04,\n",
       "       -9.28092515e-04, -8.36048275e-04,  3.49942966e-05,  3.18717299e-04,\n",
       "        1.20000122e-03, -1.19764416e-03, -2.52572704e-06, -2.17890571e-04,\n",
       "        2.22189032e-04, -2.72107107e-04, -4.05280938e-04, -6.32099865e-04,\n",
       "       -2.70224409e-04,  1.71079696e-03,  5.17376175e-04, -1.24018861e-03,\n",
       "        7.95606815e-04, -1.07189477e-03,  5.23071329e-04,  4.96649707e-04,\n",
       "        3.38110956e-04, -5.67462936e-04, -1.03999897e-04, -1.55608170e-03,\n",
       "       -2.25535216e-04, -7.70735205e-04, -7.25922524e-04,  2.89111718e-04,\n",
       "        5.43054251e-04, -1.40629825e-03,  1.30486931e-03,  9.78569034e-04,\n",
       "       -7.18093070e-04,  1.52436944e-04, -1.13952591e-03,  2.85180431e-04,\n",
       "       -5.41380869e-05, -1.74292320e-04, -8.31473852e-04,  3.23138142e-04,\n",
       "        1.18631322e-03, -2.67943484e-04, -7.04879290e-04,  3.55439697e-04,\n",
       "       -3.14096862e-04, -9.24514490e-04,  5.03622170e-04,  3.89173103e-04,\n",
       "        4.43539786e-04, -9.28333786e-04,  4.51627711e-04,  8.62933870e-04,\n",
       "       -1.19290140e-03,  1.87435211e-03, -1.15713046e-03,  5.86338923e-04,\n",
       "       -6.25171117e-04,  7.81752169e-06, -1.24618073e-03,  4.13745001e-05,\n",
       "       -8.21965863e-04,  1.29477284e-03,  7.05247454e-04, -6.93266920e-04,\n",
       "        1.89254794e-03, -6.84467726e-04,  2.30190330e-04,  8.67638038e-04,\n",
       "        1.52910489e-03,  1.34467715e-04, -1.69850566e-04,  1.00923840e-04,\n",
       "        8.27770971e-04, -8.86038761e-04, -2.15281523e-03,  3.80237849e-04,\n",
       "        1.67238503e-03, -3.28296795e-04, -1.98356371e-04, -1.17469393e-03,\n",
       "        2.52718979e-04, -5.02237526e-04,  7.22263008e-04,  4.92383697e-05],\n",
       "      dtype=float32)"
      ]
     },
     "execution_count": 104,
     "metadata": {},
     "output_type": "execute_result"
    }
   ],
   "source": [
    "embs_flattened[0]"
   ]
  },
  {
   "cell_type": "code",
   "execution_count": 105,
   "id": "6bcb27f1-b9d7-44ee-b793-0891ebcf2609",
   "metadata": {},
   "outputs": [
    {
     "data": {
      "text/plain": [
       "100"
      ]
     },
     "execution_count": 105,
     "metadata": {},
     "output_type": "execute_result"
    }
   ],
   "source": [
    "len(embs_flattened[0])"
   ]
  },
  {
   "cell_type": "code",
   "execution_count": 106,
   "id": "036ca68d-dcc4-429a-9f33-96bab9f69e3f",
   "metadata": {},
   "outputs": [],
   "source": [
    "X = embs_flattened"
   ]
  },
  {
   "cell_type": "code",
   "execution_count": 107,
   "id": "51ed7fed-0729-4570-8c68-884df7d36343",
   "metadata": {},
   "outputs": [
    {
     "name": "stdout",
     "output_type": "stream",
     "text": [
      "100\n",
      "100\n",
      "100\n",
      "100\n",
      "100\n",
      "100\n",
      "100\n",
      "100\n",
      "100\n",
      "100\n",
      "100\n",
      "100\n",
      "100\n",
      "100\n",
      "100\n",
      "100\n",
      "100\n",
      "100\n",
      "100\n",
      "100\n",
      "100\n",
      "100\n",
      "100\n",
      "100\n",
      "100\n",
      "100\n",
      "100\n",
      "100\n",
      "100\n",
      "100\n",
      "100\n",
      "100\n",
      "100\n",
      "100\n",
      "100\n",
      "100\n",
      "100\n",
      "100\n",
      "100\n",
      "100\n",
      "100\n",
      "100\n",
      "100\n",
      "100\n",
      "100\n",
      "100\n",
      "100\n"
     ]
    }
   ],
   "source": [
    "for x in our_data['emb'][0]:\n",
    "    print(len(x))"
   ]
  },
  {
   "cell_type": "code",
   "execution_count": 108,
   "id": "ff015abc-fa4b-4798-9d44-fbdd1a9b9101",
   "metadata": {},
   "outputs": [
    {
     "data": {
      "text/plain": [
       "0       [[-0.009775486, 0.008844612, -0.008543848, -0....\n",
       "1       [[0.009136296, -0.0052859355, -0.0008334327, 0...\n",
       "2       [[0.006879598, 0.0055447384, 0.004711438, 0.00...\n",
       "3       [[0.009136296, -0.0052859355, -0.0008334327, 0...\n",
       "4       [[-0.009121242, 1.2538392e-05, -0.008823903, -...\n",
       "                              ...                        \n",
       "2995    [[0.00802946, 0.009339984, 0.0068749036, 0.009...\n",
       "2996    [[-0.04183142, 0.04045976, -0.018532628, -0.02...\n",
       "2997    [[0.0021975387, 0.003946202, 0.005179812, 0.00...\n",
       "2998    [[-0.00053622725, 0.00023643016, 0.0051033497,...\n",
       "2999    [[-0.00053622725, 0.00023643016, 0.0051033497,...\n",
       "Name: emb, Length: 2725, dtype: object"
      ]
     },
     "execution_count": 108,
     "metadata": {},
     "output_type": "execute_result"
    }
   ],
   "source": [
    "our_data['emb']"
   ]
  },
  {
   "cell_type": "markdown",
   "id": "f7d159e0-6d91-431b-9441-1b807e2bc10b",
   "metadata": {},
   "source": [
    "**ЭТО ТОЖЕ НАДО БУДЕТ СОХРАНИТЬ В RESUMES_FEATURES** в уже более аккуратном окончательном виде\n",
    "\n",
    "Но непонятно, как это сделать :("
   ]
  },
  {
   "cell_type": "code",
   "execution_count": 109,
   "id": "a7eaa9f2-db35-456d-aab0-26c89b1b25fa",
   "metadata": {},
   "outputs": [
    {
     "name": "stderr",
     "output_type": "stream",
     "text": [
      "/var/folders/0k/pk7zyw6x2sqcjpbqvgf0ssh80000gn/T/ipykernel_37832/3316818858.py:1: SettingWithCopyWarning: \n",
      "A value is trying to be set on a copy of a slice from a DataFrame.\n",
      "Try using .loc[row_indexer,col_indexer] = value instead\n",
      "\n",
      "See the caveats in the documentation: https://pandas.pydata.org/pandas-docs/stable/user_guide/indexing.html#returning-a-view-versus-a-copy\n",
      "  df['О себе, tokens'] = our_data['emb']\n"
     ]
    }
   ],
   "source": [
    "df['О себе, tokens'] = our_data['emb']"
   ]
  },
  {
   "cell_type": "code",
   "execution_count": 110,
   "id": "a981b46b-d37d-40f4-93a4-905306a09a26",
   "metadata": {},
   "outputs": [
    {
     "data": {
      "text/plain": [
       "0       [[-0.009775486, 0.008844612, -0.008543848, -0....\n",
       "1       [[0.009136296, -0.0052859355, -0.0008334327, 0...\n",
       "2       [[0.006879598, 0.0055447384, 0.004711438, 0.00...\n",
       "3       [[0.009136296, -0.0052859355, -0.0008334327, 0...\n",
       "4       [[-0.009121242, 1.2538392e-05, -0.008823903, -...\n",
       "                              ...                        \n",
       "2995    [[0.00802946, 0.009339984, 0.0068749036, 0.009...\n",
       "2996    [[-0.04183142, 0.04045976, -0.018532628, -0.02...\n",
       "2997    [[0.0021975387, 0.003946202, 0.005179812, 0.00...\n",
       "2998    [[-0.00053622725, 0.00023643016, 0.0051033497,...\n",
       "2999    [[-0.00053622725, 0.00023643016, 0.0051033497,...\n",
       "Name: emb, Length: 2725, dtype: object"
      ]
     },
     "execution_count": 110,
     "metadata": {},
     "output_type": "execute_result"
    }
   ],
   "source": [
    "our_data['emb']"
   ]
  },
  {
   "cell_type": "code",
   "execution_count": 111,
   "id": "466c6c8c-059c-4033-b51a-145110e3f2f8",
   "metadata": {},
   "outputs": [],
   "source": [
    "our_data['flat_emb_avg'] = ''\n",
    "flat_emb_avg = []"
   ]
  },
  {
   "cell_type": "code",
   "execution_count": 112,
   "id": "45ad36fa-348d-4430-8b51-e1e5e4630eab",
   "metadata": {},
   "outputs": [
    {
     "data": {
      "text/plain": [
       "0      -0.000048\n",
       "1       0.000095\n",
       "2       0.000058\n",
       "3      -0.000263\n",
       "4       0.000357\n",
       "          ...   \n",
       "2995   -0.000381\n",
       "2996    0.000114\n",
       "2997    0.000363\n",
       "2998    0.000157\n",
       "2999    0.000157\n",
       "Name: flat_emb_avg, Length: 2725, dtype: float64"
      ]
     },
     "execution_count": 112,
     "metadata": {},
     "output_type": "execute_result"
    }
   ],
   "source": [
    "for x in our_data['flat_emb']:\n",
    "    flat_emb_avg.append(np.mean(x))\n",
    "our_data['flat_emb_avg'] = flat_emb_avg\n",
    "our_data['flat_emb_avg']"
   ]
  },
  {
   "cell_type": "code",
   "execution_count": 113,
   "id": "f0aff3bb-483a-4b8c-a88e-9760fa8ff257",
   "metadata": {},
   "outputs": [
    {
     "data": {
      "text/plain": [
       "-4.7773985e-05"
      ]
     },
     "execution_count": 113,
     "metadata": {},
     "output_type": "execute_result"
    }
   ],
   "source": [
    "np.mean(our_data['flat_emb'][0])"
   ]
  },
  {
   "cell_type": "markdown",
   "id": "3699911f-c0af-46da-89ee-0ffc2da3a5b8",
   "metadata": {},
   "source": [
    "вот это НН:"
   ]
  },
  {
   "cell_type": "code",
   "execution_count": 114,
   "id": "365c540a-ba29-4b9d-8d5c-2a5c7063eda4",
   "metadata": {},
   "outputs": [
    {
     "name": "stderr",
     "output_type": "stream",
     "text": [
      "/var/folders/0k/pk7zyw6x2sqcjpbqvgf0ssh80000gn/T/ipykernel_37832/494931488.py:1: SettingWithCopyWarning: \n",
      "A value is trying to be set on a copy of a slice from a DataFrame.\n",
      "Try using .loc[row_indexer,col_indexer] = value instead\n",
      "\n",
      "See the caveats in the documentation: https://pandas.pydata.org/pandas-docs/stable/user_guide/indexing.html#returning-a-view-versus-a-copy\n",
      "  df['О себе, avg_tokens'] = our_data['flat_emb_avg']\n"
     ]
    }
   ],
   "source": [
    "df['О себе, avg_tokens'] = our_data['flat_emb_avg']"
   ]
  },
  {
   "cell_type": "code",
   "execution_count": 115,
   "id": "acfa8fe5-fbf1-498a-9811-12d5801aeee8",
   "metadata": {},
   "outputs": [
    {
     "name": "stderr",
     "output_type": "stream",
     "text": [
      "/var/folders/0k/pk7zyw6x2sqcjpbqvgf0ssh80000gn/T/ipykernel_37832/1395260132.py:1: SettingWithCopyWarning: \n",
      "A value is trying to be set on a copy of a slice from a DataFrame.\n",
      "Try using .loc[row_indexer,col_indexer] = value instead\n",
      "\n",
      "See the caveats in the documentation: https://pandas.pydata.org/pandas-docs/stable/user_guide/indexing.html#returning-a-view-versus-a-copy\n",
      "  df['О себе, 3-grams'] = our_data['О себе 3']\n"
     ]
    }
   ],
   "source": [
    "df['О себе, 3-grams'] = our_data['О себе 3']"
   ]
  },
  {
   "cell_type": "code",
   "execution_count": 116,
   "id": "84d2bc17-edcd-40fa-8ffc-4ad599c4b4e7",
   "metadata": {},
   "outputs": [],
   "source": [
    "df.to_csv('resumes_features.csv')"
   ]
  },
  {
   "cell_type": "code",
   "execution_count": null,
   "id": "b064aa31-102d-4200-9f58-039391b9ab3a",
   "metadata": {},
   "outputs": [],
   "source": []
  },
  {
   "cell_type": "markdown",
   "id": "ddf780e2-8844-4dc0-b7fe-0300325bf9b3",
   "metadata": {},
   "source": [
    "Вот эту штуку мы загружаем в алгоритм кластеризации, надо тоже ее сохранить в таблицу: "
   ]
  },
  {
   "cell_type": "code",
   "execution_count": 117,
   "id": "e6d5c83f-cf62-4401-8da6-42229abd478a",
   "metadata": {},
   "outputs": [
    {
     "data": {
      "text/html": [
       "<div>\n",
       "<style scoped>\n",
       "    .dataframe tbody tr th:only-of-type {\n",
       "        vertical-align: middle;\n",
       "    }\n",
       "\n",
       "    .dataframe tbody tr th {\n",
       "        vertical-align: top;\n",
       "    }\n",
       "\n",
       "    .dataframe thead th {\n",
       "        text-align: right;\n",
       "    }\n",
       "</style>\n",
       "<table border=\"1\" class=\"dataframe\">\n",
       "  <thead>\n",
       "    <tr style=\"text-align: right;\">\n",
       "      <th></th>\n",
       "      <th>0</th>\n",
       "      <th>1</th>\n",
       "      <th>2</th>\n",
       "      <th>3</th>\n",
       "      <th>4</th>\n",
       "      <th>5</th>\n",
       "      <th>6</th>\n",
       "      <th>7</th>\n",
       "      <th>8</th>\n",
       "      <th>9</th>\n",
       "      <th>...</th>\n",
       "      <th>90</th>\n",
       "      <th>91</th>\n",
       "      <th>92</th>\n",
       "      <th>93</th>\n",
       "      <th>94</th>\n",
       "      <th>95</th>\n",
       "      <th>96</th>\n",
       "      <th>97</th>\n",
       "      <th>98</th>\n",
       "      <th>99</th>\n",
       "    </tr>\n",
       "  </thead>\n",
       "  <tbody>\n",
       "    <tr>\n",
       "      <th>0</th>\n",
       "      <td>-0.000122</td>\n",
       "      <td>-0.001445</td>\n",
       "      <td>-0.000447</td>\n",
       "      <td>-0.001525</td>\n",
       "      <td>0.000184</td>\n",
       "      <td>-0.000674</td>\n",
       "      <td>-0.001076</td>\n",
       "      <td>0.000312</td>\n",
       "      <td>0.000964</td>\n",
       "      <td>0.000775</td>\n",
       "      <td>...</td>\n",
       "      <td>-0.002153</td>\n",
       "      <td>0.000380</td>\n",
       "      <td>0.001672</td>\n",
       "      <td>-0.000328</td>\n",
       "      <td>-0.000198</td>\n",
       "      <td>-0.001175</td>\n",
       "      <td>0.000253</td>\n",
       "      <td>-0.000502</td>\n",
       "      <td>0.000722</td>\n",
       "      <td>0.000049</td>\n",
       "    </tr>\n",
       "    <tr>\n",
       "      <th>1</th>\n",
       "      <td>0.000663</td>\n",
       "      <td>-0.001232</td>\n",
       "      <td>-0.000018</td>\n",
       "      <td>0.000550</td>\n",
       "      <td>-0.000879</td>\n",
       "      <td>0.000429</td>\n",
       "      <td>0.001487</td>\n",
       "      <td>0.000792</td>\n",
       "      <td>-0.001209</td>\n",
       "      <td>0.001470</td>\n",
       "      <td>...</td>\n",
       "      <td>0.003447</td>\n",
       "      <td>-0.000083</td>\n",
       "      <td>0.000008</td>\n",
       "      <td>0.000939</td>\n",
       "      <td>-0.002169</td>\n",
       "      <td>0.001404</td>\n",
       "      <td>-0.001908</td>\n",
       "      <td>-0.000315</td>\n",
       "      <td>-0.003161</td>\n",
       "      <td>0.001471</td>\n",
       "    </tr>\n",
       "    <tr>\n",
       "      <th>2</th>\n",
       "      <td>-0.000229</td>\n",
       "      <td>0.000949</td>\n",
       "      <td>0.002308</td>\n",
       "      <td>-0.001734</td>\n",
       "      <td>-0.000175</td>\n",
       "      <td>-0.000677</td>\n",
       "      <td>-0.000677</td>\n",
       "      <td>0.000145</td>\n",
       "      <td>0.000791</td>\n",
       "      <td>-0.000950</td>\n",
       "      <td>...</td>\n",
       "      <td>-0.000906</td>\n",
       "      <td>-0.000655</td>\n",
       "      <td>-0.000264</td>\n",
       "      <td>0.000313</td>\n",
       "      <td>0.001651</td>\n",
       "      <td>0.000324</td>\n",
       "      <td>0.002137</td>\n",
       "      <td>-0.000331</td>\n",
       "      <td>-0.000318</td>\n",
       "      <td>-0.000493</td>\n",
       "    </tr>\n",
       "    <tr>\n",
       "      <th>3</th>\n",
       "      <td>-0.002017</td>\n",
       "      <td>-0.000730</td>\n",
       "      <td>-0.002229</td>\n",
       "      <td>-0.000851</td>\n",
       "      <td>0.002158</td>\n",
       "      <td>0.001941</td>\n",
       "      <td>-0.003113</td>\n",
       "      <td>0.002710</td>\n",
       "      <td>-0.002395</td>\n",
       "      <td>-0.001238</td>\n",
       "      <td>...</td>\n",
       "      <td>-0.003119</td>\n",
       "      <td>0.002874</td>\n",
       "      <td>0.000530</td>\n",
       "      <td>0.001470</td>\n",
       "      <td>0.002598</td>\n",
       "      <td>0.000703</td>\n",
       "      <td>0.001541</td>\n",
       "      <td>-0.000987</td>\n",
       "      <td>-0.000734</td>\n",
       "      <td>0.000736</td>\n",
       "    </tr>\n",
       "    <tr>\n",
       "      <th>4</th>\n",
       "      <td>-0.000822</td>\n",
       "      <td>0.003704</td>\n",
       "      <td>-0.001384</td>\n",
       "      <td>-0.004534</td>\n",
       "      <td>0.002226</td>\n",
       "      <td>0.002891</td>\n",
       "      <td>0.000575</td>\n",
       "      <td>-0.002200</td>\n",
       "      <td>0.000983</td>\n",
       "      <td>0.003239</td>\n",
       "      <td>...</td>\n",
       "      <td>0.001752</td>\n",
       "      <td>-0.000509</td>\n",
       "      <td>0.002550</td>\n",
       "      <td>-0.002417</td>\n",
       "      <td>-0.000422</td>\n",
       "      <td>-0.000175</td>\n",
       "      <td>0.005185</td>\n",
       "      <td>0.000729</td>\n",
       "      <td>-0.000199</td>\n",
       "      <td>-0.002806</td>\n",
       "    </tr>\n",
       "    <tr>\n",
       "      <th>...</th>\n",
       "      <td>...</td>\n",
       "      <td>...</td>\n",
       "      <td>...</td>\n",
       "      <td>...</td>\n",
       "      <td>...</td>\n",
       "      <td>...</td>\n",
       "      <td>...</td>\n",
       "      <td>...</td>\n",
       "      <td>...</td>\n",
       "      <td>...</td>\n",
       "      <td>...</td>\n",
       "      <td>...</td>\n",
       "      <td>...</td>\n",
       "      <td>...</td>\n",
       "      <td>...</td>\n",
       "      <td>...</td>\n",
       "      <td>...</td>\n",
       "      <td>...</td>\n",
       "      <td>...</td>\n",
       "      <td>...</td>\n",
       "      <td>...</td>\n",
       "    </tr>\n",
       "    <tr>\n",
       "      <th>2720</th>\n",
       "      <td>0.001929</td>\n",
       "      <td>0.001381</td>\n",
       "      <td>0.000750</td>\n",
       "      <td>0.002863</td>\n",
       "      <td>-0.000931</td>\n",
       "      <td>-0.001612</td>\n",
       "      <td>-0.002349</td>\n",
       "      <td>-0.000496</td>\n",
       "      <td>0.001666</td>\n",
       "      <td>-0.000314</td>\n",
       "      <td>...</td>\n",
       "      <td>-0.000441</td>\n",
       "      <td>-0.000002</td>\n",
       "      <td>-0.002547</td>\n",
       "      <td>0.001627</td>\n",
       "      <td>-0.003078</td>\n",
       "      <td>-0.005513</td>\n",
       "      <td>0.002559</td>\n",
       "      <td>-0.000375</td>\n",
       "      <td>0.006010</td>\n",
       "      <td>-0.003136</td>\n",
       "    </tr>\n",
       "    <tr>\n",
       "      <th>2721</th>\n",
       "      <td>-0.006171</td>\n",
       "      <td>0.005287</td>\n",
       "      <td>-0.002572</td>\n",
       "      <td>-0.001634</td>\n",
       "      <td>0.006562</td>\n",
       "      <td>0.002825</td>\n",
       "      <td>0.002835</td>\n",
       "      <td>0.006121</td>\n",
       "      <td>-0.004267</td>\n",
       "      <td>-0.001573</td>\n",
       "      <td>...</td>\n",
       "      <td>-0.002487</td>\n",
       "      <td>0.004244</td>\n",
       "      <td>0.001889</td>\n",
       "      <td>-0.002410</td>\n",
       "      <td>0.010505</td>\n",
       "      <td>0.002338</td>\n",
       "      <td>0.006839</td>\n",
       "      <td>-0.001380</td>\n",
       "      <td>-0.000044</td>\n",
       "      <td>-0.008138</td>\n",
       "    </tr>\n",
       "    <tr>\n",
       "      <th>2722</th>\n",
       "      <td>0.002515</td>\n",
       "      <td>0.002165</td>\n",
       "      <td>0.004091</td>\n",
       "      <td>-0.001975</td>\n",
       "      <td>0.001129</td>\n",
       "      <td>0.002335</td>\n",
       "      <td>0.003931</td>\n",
       "      <td>-0.004888</td>\n",
       "      <td>0.000626</td>\n",
       "      <td>-0.000328</td>\n",
       "      <td>...</td>\n",
       "      <td>0.000300</td>\n",
       "      <td>0.001413</td>\n",
       "      <td>-0.001487</td>\n",
       "      <td>-0.003120</td>\n",
       "      <td>0.002185</td>\n",
       "      <td>-0.000675</td>\n",
       "      <td>-0.001540</td>\n",
       "      <td>0.002582</td>\n",
       "      <td>-0.001682</td>\n",
       "      <td>0.000030</td>\n",
       "    </tr>\n",
       "    <tr>\n",
       "      <th>2723</th>\n",
       "      <td>-0.000536</td>\n",
       "      <td>0.000236</td>\n",
       "      <td>0.005103</td>\n",
       "      <td>0.009009</td>\n",
       "      <td>-0.009303</td>\n",
       "      <td>-0.007117</td>\n",
       "      <td>0.006459</td>\n",
       "      <td>0.008973</td>\n",
       "      <td>-0.005015</td>\n",
       "      <td>-0.003763</td>\n",
       "      <td>...</td>\n",
       "      <td>0.001631</td>\n",
       "      <td>0.000190</td>\n",
       "      <td>0.003474</td>\n",
       "      <td>0.000218</td>\n",
       "      <td>0.009619</td>\n",
       "      <td>0.005061</td>\n",
       "      <td>-0.008917</td>\n",
       "      <td>-0.007042</td>\n",
       "      <td>0.000901</td>\n",
       "      <td>0.006393</td>\n",
       "    </tr>\n",
       "    <tr>\n",
       "      <th>2724</th>\n",
       "      <td>-0.000536</td>\n",
       "      <td>0.000236</td>\n",
       "      <td>0.005103</td>\n",
       "      <td>0.009009</td>\n",
       "      <td>-0.009303</td>\n",
       "      <td>-0.007117</td>\n",
       "      <td>0.006459</td>\n",
       "      <td>0.008973</td>\n",
       "      <td>-0.005015</td>\n",
       "      <td>-0.003763</td>\n",
       "      <td>...</td>\n",
       "      <td>0.001631</td>\n",
       "      <td>0.000190</td>\n",
       "      <td>0.003474</td>\n",
       "      <td>0.000218</td>\n",
       "      <td>0.009619</td>\n",
       "      <td>0.005061</td>\n",
       "      <td>-0.008917</td>\n",
       "      <td>-0.007042</td>\n",
       "      <td>0.000901</td>\n",
       "      <td>0.006393</td>\n",
       "    </tr>\n",
       "  </tbody>\n",
       "</table>\n",
       "<p>2725 rows × 100 columns</p>\n",
       "</div>"
      ],
      "text/plain": [
       "            0         1         2         3         4         5         6   \\\n",
       "0    -0.000122 -0.001445 -0.000447 -0.001525  0.000184 -0.000674 -0.001076   \n",
       "1     0.000663 -0.001232 -0.000018  0.000550 -0.000879  0.000429  0.001487   \n",
       "2    -0.000229  0.000949  0.002308 -0.001734 -0.000175 -0.000677 -0.000677   \n",
       "3    -0.002017 -0.000730 -0.002229 -0.000851  0.002158  0.001941 -0.003113   \n",
       "4    -0.000822  0.003704 -0.001384 -0.004534  0.002226  0.002891  0.000575   \n",
       "...        ...       ...       ...       ...       ...       ...       ...   \n",
       "2720  0.001929  0.001381  0.000750  0.002863 -0.000931 -0.001612 -0.002349   \n",
       "2721 -0.006171  0.005287 -0.002572 -0.001634  0.006562  0.002825  0.002835   \n",
       "2722  0.002515  0.002165  0.004091 -0.001975  0.001129  0.002335  0.003931   \n",
       "2723 -0.000536  0.000236  0.005103  0.009009 -0.009303 -0.007117  0.006459   \n",
       "2724 -0.000536  0.000236  0.005103  0.009009 -0.009303 -0.007117  0.006459   \n",
       "\n",
       "            7         8         9   ...        90        91        92  \\\n",
       "0     0.000312  0.000964  0.000775  ... -0.002153  0.000380  0.001672   \n",
       "1     0.000792 -0.001209  0.001470  ...  0.003447 -0.000083  0.000008   \n",
       "2     0.000145  0.000791 -0.000950  ... -0.000906 -0.000655 -0.000264   \n",
       "3     0.002710 -0.002395 -0.001238  ... -0.003119  0.002874  0.000530   \n",
       "4    -0.002200  0.000983  0.003239  ...  0.001752 -0.000509  0.002550   \n",
       "...        ...       ...       ...  ...       ...       ...       ...   \n",
       "2720 -0.000496  0.001666 -0.000314  ... -0.000441 -0.000002 -0.002547   \n",
       "2721  0.006121 -0.004267 -0.001573  ... -0.002487  0.004244  0.001889   \n",
       "2722 -0.004888  0.000626 -0.000328  ...  0.000300  0.001413 -0.001487   \n",
       "2723  0.008973 -0.005015 -0.003763  ...  0.001631  0.000190  0.003474   \n",
       "2724  0.008973 -0.005015 -0.003763  ...  0.001631  0.000190  0.003474   \n",
       "\n",
       "            93        94        95        96        97        98        99  \n",
       "0    -0.000328 -0.000198 -0.001175  0.000253 -0.000502  0.000722  0.000049  \n",
       "1     0.000939 -0.002169  0.001404 -0.001908 -0.000315 -0.003161  0.001471  \n",
       "2     0.000313  0.001651  0.000324  0.002137 -0.000331 -0.000318 -0.000493  \n",
       "3     0.001470  0.002598  0.000703  0.001541 -0.000987 -0.000734  0.000736  \n",
       "4    -0.002417 -0.000422 -0.000175  0.005185  0.000729 -0.000199 -0.002806  \n",
       "...        ...       ...       ...       ...       ...       ...       ...  \n",
       "2720  0.001627 -0.003078 -0.005513  0.002559 -0.000375  0.006010 -0.003136  \n",
       "2721 -0.002410  0.010505  0.002338  0.006839 -0.001380 -0.000044 -0.008138  \n",
       "2722 -0.003120  0.002185 -0.000675 -0.001540  0.002582 -0.001682  0.000030  \n",
       "2723  0.000218  0.009619  0.005061 -0.008917 -0.007042  0.000901  0.006393  \n",
       "2724  0.000218  0.009619  0.005061 -0.008917 -0.007042  0.000901  0.006393  \n",
       "\n",
       "[2725 rows x 100 columns]"
      ]
     },
     "execution_count": 117,
     "metadata": {},
     "output_type": "execute_result"
    }
   ],
   "source": [
    "pd.DataFrame(X)"
   ]
  },
  {
   "cell_type": "markdown",
   "id": "5e01d0f3-f7e8-4afe-a34a-f50bd610c20f",
   "metadata": {},
   "source": [
    "Займусь этим позже, когда приступлю к анализу данных."
   ]
  },
  {
   "cell_type": "markdown",
   "id": "ec4ac5f3-dddd-4862-a7cb-a32fe70e30e1",
   "metadata": {},
   "source": [
    "**see analysis**"
   ]
  },
  {
   "cell_type": "code",
   "execution_count": null,
   "id": "91c094cf-d4a8-4315-97c8-94b273e66ca9",
   "metadata": {},
   "outputs": [],
   "source": []
  },
  {
   "cell_type": "code",
   "execution_count": 118,
   "id": "f46264a7-16c8-4105-a65c-6951333cbbbd",
   "metadata": {},
   "outputs": [],
   "source": [
    "from sklearn.preprocessing import StandardScaler\n",
    "from sklearn.decomposition import PCA\n",
    "\n",
    "scaler = StandardScaler()\n",
    "x = scaler.fit_transform(X)"
   ]
  },
  {
   "cell_type": "code",
   "execution_count": 119,
   "id": "8abc6657-06fa-4d29-96b1-d92ccbcfc94d",
   "metadata": {},
   "outputs": [
    {
     "data": {
      "text/plain": [
       "array([[ 0.19239664, -0.57960105, -0.3505659 , ...,  0.26267958,\n",
       "         0.36532344,  0.01391241],\n",
       "       [ 0.34586653, -0.5303938 , -0.1897099 , ...,  0.32272496,\n",
       "        -1.42533598,  0.3045314 ],\n",
       "       [ 0.17143609, -0.02624371,  0.68242701, ...,  0.31746725,\n",
       "        -0.11432494, -0.09690055],\n",
       "       ...,\n",
       "       [ 0.70804728,  0.25491443,  1.35089736, ...,  1.25067868,\n",
       "        -0.74322528,  0.00989182],\n",
       "       [ 0.111364  , -0.19097185,  1.73021399, ..., -1.83215514,\n",
       "         0.4479615 ,  1.31079502],\n",
       "       [ 0.111364  , -0.19097185,  1.73021399, ..., -1.83215514,\n",
       "         0.4479615 ,  1.31079502]])"
      ]
     },
     "execution_count": 119,
     "metadata": {},
     "output_type": "execute_result"
    }
   ],
   "source": [
    "x"
   ]
  },
  {
   "cell_type": "code",
   "execution_count": 120,
   "id": "7a75693e-0b5c-46e3-9857-3ad274887c1e",
   "metadata": {},
   "outputs": [],
   "source": [
    "pca = PCA(n_components=3)\n",
    "principalComponents = pca.fit_transform(x)\n",
    "principal = pd.DataFrame(data = principalComponents\n",
    "             , columns = ['principal component 1', 'principal component 2','principal component 3'])"
   ]
  },
  {
   "cell_type": "code",
   "execution_count": 121,
   "id": "7edfd085-d15f-458f-8885-d83434d68154",
   "metadata": {},
   "outputs": [
    {
     "data": {
      "text/plain": [
       "0.6233520518493882"
      ]
     },
     "execution_count": 121,
     "metadata": {},
     "output_type": "execute_result"
    }
   ],
   "source": [
    "pca.explained_variance_ratio_[:2].sum()"
   ]
  },
  {
   "cell_type": "code",
   "execution_count": 122,
   "id": "2ca1b76a-af5b-497d-821a-810c18b19f5b",
   "metadata": {},
   "outputs": [
    {
     "data": {
      "text/html": [
       "<div>\n",
       "<style scoped>\n",
       "    .dataframe tbody tr th:only-of-type {\n",
       "        vertical-align: middle;\n",
       "    }\n",
       "\n",
       "    .dataframe tbody tr th {\n",
       "        vertical-align: top;\n",
       "    }\n",
       "\n",
       "    .dataframe thead th {\n",
       "        text-align: right;\n",
       "    }\n",
       "</style>\n",
       "<table border=\"1\" class=\"dataframe\">\n",
       "  <thead>\n",
       "    <tr style=\"text-align: right;\">\n",
       "      <th></th>\n",
       "      <th>principal component 1</th>\n",
       "      <th>principal component 2</th>\n",
       "      <th>principal component 3</th>\n",
       "    </tr>\n",
       "  </thead>\n",
       "  <tbody>\n",
       "    <tr>\n",
       "      <th>0</th>\n",
       "      <td>0.123243</td>\n",
       "      <td>-2.615167</td>\n",
       "      <td>-0.132600</td>\n",
       "    </tr>\n",
       "    <tr>\n",
       "      <th>1</th>\n",
       "      <td>-0.164312</td>\n",
       "      <td>-2.624662</td>\n",
       "      <td>-0.072417</td>\n",
       "    </tr>\n",
       "    <tr>\n",
       "      <th>2</th>\n",
       "      <td>0.404479</td>\n",
       "      <td>-2.262480</td>\n",
       "      <td>0.274915</td>\n",
       "    </tr>\n",
       "    <tr>\n",
       "      <th>3</th>\n",
       "      <td>1.364012</td>\n",
       "      <td>-2.503609</td>\n",
       "      <td>0.285695</td>\n",
       "    </tr>\n",
       "    <tr>\n",
       "      <th>4</th>\n",
       "      <td>1.367619</td>\n",
       "      <td>-1.826772</td>\n",
       "      <td>-0.733370</td>\n",
       "    </tr>\n",
       "    <tr>\n",
       "      <th>...</th>\n",
       "      <td>...</td>\n",
       "      <td>...</td>\n",
       "      <td>...</td>\n",
       "    </tr>\n",
       "    <tr>\n",
       "      <th>2720</th>\n",
       "      <td>-0.166225</td>\n",
       "      <td>-2.646377</td>\n",
       "      <td>-0.661778</td>\n",
       "    </tr>\n",
       "    <tr>\n",
       "      <th>2721</th>\n",
       "      <td>8.777237</td>\n",
       "      <td>1.947665</td>\n",
       "      <td>1.465704</td>\n",
       "    </tr>\n",
       "    <tr>\n",
       "      <th>2722</th>\n",
       "      <td>-0.344335</td>\n",
       "      <td>-3.355998</td>\n",
       "      <td>0.645114</td>\n",
       "    </tr>\n",
       "    <tr>\n",
       "      <th>2723</th>\n",
       "      <td>-8.654597</td>\n",
       "      <td>10.706619</td>\n",
       "      <td>-0.004100</td>\n",
       "    </tr>\n",
       "    <tr>\n",
       "      <th>2724</th>\n",
       "      <td>-8.654597</td>\n",
       "      <td>10.706619</td>\n",
       "      <td>-0.004100</td>\n",
       "    </tr>\n",
       "  </tbody>\n",
       "</table>\n",
       "<p>2725 rows × 3 columns</p>\n",
       "</div>"
      ],
      "text/plain": [
       "      principal component 1  principal component 2  principal component 3\n",
       "0                  0.123243              -2.615167              -0.132600\n",
       "1                 -0.164312              -2.624662              -0.072417\n",
       "2                  0.404479              -2.262480               0.274915\n",
       "3                  1.364012              -2.503609               0.285695\n",
       "4                  1.367619              -1.826772              -0.733370\n",
       "...                     ...                    ...                    ...\n",
       "2720              -0.166225              -2.646377              -0.661778\n",
       "2721               8.777237               1.947665               1.465704\n",
       "2722              -0.344335              -3.355998               0.645114\n",
       "2723              -8.654597              10.706619              -0.004100\n",
       "2724              -8.654597              10.706619              -0.004100\n",
       "\n",
       "[2725 rows x 3 columns]"
      ]
     },
     "execution_count": 122,
     "metadata": {},
     "output_type": "execute_result"
    }
   ],
   "source": [
    "principal"
   ]
  },
  {
   "cell_type": "code",
   "execution_count": 123,
   "id": "a4b49282-951d-4bc5-b7c8-d973aa161cbe",
   "metadata": {},
   "outputs": [],
   "source": [
    "import seaborn as sns"
   ]
  },
  {
   "cell_type": "code",
   "execution_count": 124,
   "id": "d93bafff-3c1f-4766-a8f9-775a1706d210",
   "metadata": {},
   "outputs": [
    {
     "name": "stderr",
     "output_type": "stream",
     "text": [
      "/Users/vladkopchev/miniconda3/lib/python3.9/site-packages/seaborn/_decorators.py:36: FutureWarning: Pass the following variables as keyword args: x, y. From version 0.12, the only valid positional argument will be `data`, and passing other arguments without an explicit keyword will result in an error or misinterpretation.\n",
      "  warnings.warn(\n"
     ]
    },
    {
     "data": {
      "text/plain": [
       "<AxesSubplot:xlabel='principal component 1', ylabel='principal component 2'>"
      ]
     },
     "execution_count": 124,
     "metadata": {},
     "output_type": "execute_result"
    },
    {
     "data": {
      "image/png": "[encoded data removed]",
      "text/plain": [
       "<Figure size 640x480 with 1 Axes>"
      ]
     },
     "metadata": {},
     "output_type": "display_data"
    }
   ],
   "source": [
    "sns.scatterplot(principal['principal component 1'], principal['principal component 2'])"
   ]
  },
  {
   "cell_type": "code",
   "execution_count": 150,
   "id": "45451dc2-c1ba-45d7-a78b-b5a4c51b70cc",
   "metadata": {},
   "outputs": [],
   "source": [
    "from sklearn.cluster import KMeans\n",
    "kmeans = KMeans(n_clusters=7).fit(principal)\n",
    "l = kmeans.labels_"
   ]
  },
  {
   "cell_type": "code",
   "execution_count": 151,
   "id": "acbd9b8b-13dd-425a-a9ba-73a3f60803e8",
   "metadata": {},
   "outputs": [],
   "source": [
    "import matplotlib.pyplot as plt"
   ]
  },
  {
   "cell_type": "code",
   "execution_count": 152,
   "id": "042c4d04-fa47-4142-b2c3-fdb7df4caf08",
   "metadata": {},
   "outputs": [
    {
     "data": {
      "text/plain": [
       "<matplotlib.collections.PathCollection at 0x7fdc7a37bb50>"
      ]
     },
     "execution_count": 152,
     "metadata": {},
     "output_type": "execute_result"
    },
    {
     "data": {
      "image/png": "[encoded data removed]",
      "text/plain": [
       "<Figure size 640x480 with 1 Axes>"
      ]
     },
     "metadata": {},
     "output_type": "display_data"
    }
   ],
   "source": [
    "plt.scatter(principal['principal component 1'], \n",
    "             principal['principal component 2'],\n",
    "             c=l,\n",
    "           )"
   ]
  },
  {
   "cell_type": "code",
   "execution_count": null,
   "id": "3736a814-60ce-40fe-921a-75e2f43beb4e",
   "metadata": {},
   "outputs": [],
   "source": []
  },
  {
   "cell_type": "code",
   "execution_count": 153,
   "id": "3be8eca8-b0c2-4601-9517-13c89e07e116",
   "metadata": {},
   "outputs": [
    {
     "name": "stderr",
     "output_type": "stream",
     "text": [
      "/var/folders/0k/pk7zyw6x2sqcjpbqvgf0ssh80000gn/T/ipykernel_37832/3423814712.py:1: SettingWithCopyWarning: \n",
      "A value is trying to be set on a copy of a slice from a DataFrame.\n",
      "Try using .loc[row_indexer,col_indexer] = value instead\n",
      "\n",
      "See the caveats in the documentation: https://pandas.pydata.org/pandas-docs/stable/user_guide/indexing.html#returning-a-view-versus-a-copy\n",
      "  df['clust'] = l\n"
     ]
    }
   ],
   "source": [
    "df['clust'] = l"
   ]
  },
  {
   "cell_type": "code",
   "execution_count": 154,
   "id": "56ae7d8a-076a-4df3-8390-844f8f19dd4a",
   "metadata": {},
   "outputs": [
    {
     "data": {
      "text/plain": [
       "22      ---\n",
       "32      ---\n",
       "34      ---\n",
       "35      ---\n",
       "50      ---\n",
       "       ... \n",
       "2985    ---\n",
       "2991    ---\n",
       "2992    ---\n",
       "2998    ---\n",
       "2999    ---\n",
       "Name: О себе, Length: 356, dtype: object"
      ]
     },
     "execution_count": 154,
     "metadata": {},
     "output_type": "execute_result"
    }
   ],
   "source": [
    "df.loc[df['clust']==1]['О себе']"
   ]
  },
  {
   "cell_type": "code",
   "execution_count": 155,
   "id": "b2572fcd-1a31-4da1-b2a8-cffc19f221ba",
   "metadata": {},
   "outputs": [
    {
     "data": {
      "text/plain": [
       "0       Уверенный пользователь ПК, Ms Word, Ms Excel, ...\n",
       "1       Энергична, активна, в поиске новых возможносте...\n",
       "2       опыт прямых продаж, ведение коммерческих перег...\n",
       "3       Коммуникабелен\\nУмение работать с возражениями...\n",
       "4       Дисциплина - умение выполнять поставленные зад...\n",
       "                              ...                        \n",
       "2988    Опыт управления более 15-и лет. Развитые управ...\n",
       "2990    Аналитика продаж ,поиск клиентов,связь с произ...\n",
       "2994    Многозадачность, стрессоустойчивость, инициати...\n",
       "2995    Уверенный пользователь ПК: MS Office (Word, Ex...\n",
       "2997                                                    .\n",
       "Name: О себе, Length: 2057, dtype: object"
      ]
     },
     "execution_count": 155,
     "metadata": {},
     "output_type": "execute_result"
    }
   ],
   "source": [
    "df.loc[df['clust']==0]['О себе']"
   ]
  },
  {
   "cell_type": "code",
   "execution_count": 156,
   "id": "5454751b-d3e2-4a6f-80a8-b9fd7435acfd",
   "metadata": {},
   "outputs": [
    {
     "data": {
      "text/plain": [
       "141     Легко и быстро обучаюсь, целеустремленная, вни...\n",
       "154     Нацелена на результат. В интересные проекты по...\n",
       "561     • Умею и люблю учиться;\\n• Пунктуальна и дисци...\n",
       "644     Личные качества:\\nАктивный, общительный, легко...\n",
       "730     Личные качества:\\nАктивный, общительный, легко...\n",
       "731     Люблю ответственность и ответственных людей, п...\n",
       "927     - Аналитический склад ума;\\n- Хорошие коммуник...\n",
       "959     Молодой,Ответственный,Доброжелательный, способ...\n",
       "979     Ответственная, целеустремленная, коммуникабель...\n",
       "1126    Готова сразу приступить к работе.\\n\\nExcel- ув...\n",
       "1298    На практике работаю с большими потоком докумен...\n",
       "1425    Люблю путешествовать, 100 % коммуникабельность...\n",
       "1439    Имею опыт работы в коллективе, организована, о...\n",
       "1691    Я люблю интересную работу с возможностями разв...\n",
       "1708    Целеустремленность, умение работать в команде ...\n",
       "1905    я активный и очень общительный человек,быстро ...\n",
       "1956    Москвич, семьянин, имею двоих детей, не склоне...\n",
       "2306    Ответственна, доброжелательна, легко обучаема;...\n",
       "2402    Оптимист, целеустремленный, экспериментатор, о...\n",
       "2424    Профессионализм, достижение высоких результато...\n",
       "2519    Дисциплинирована, морально устойчива, коммуник...\n",
       "2568    Системный, многосторонний подход к решению зад...\n",
       "2597    Стрессоустойчивый, доброжелательный, вежливый,...\n",
       "2800    Целеустремленный, трудолюбивый, не боюсь трудн...\n",
       "2901    Коммуникабельность, пунктуальность, исполнител...\n",
       "2956    Пунктуальная , Коммуникабельная, Трудолюбивая\\...\n",
       "2993    Коммуникабельный,инновационный.\\nОбладаю спосо...\n",
       "Name: О себе, dtype: object"
      ]
     },
     "execution_count": 156,
     "metadata": {},
     "output_type": "execute_result"
    }
   ],
   "source": [
    "df.loc[df['clust']==2]['О себе']"
   ]
  },
  {
   "cell_type": "code",
   "execution_count": 162,
   "id": "4253c744-0b84-422a-afbb-f0cfad916f71",
   "metadata": {},
   "outputs": [
    {
     "data": {
      "text/plain": [
       "(27,)"
      ]
     },
     "execution_count": 162,
     "metadata": {},
     "output_type": "execute_result"
    }
   ],
   "source": [
    "df.loc[df['clust']==2]['О себе'].shape"
   ]
  },
  {
   "cell_type": "code",
   "execution_count": 164,
   "id": "8dbccfcb-0bb6-4e1a-9871-891e808593f6",
   "metadata": {},
   "outputs": [
    {
     "data": {
      "text/plain": [
       "63      Общий стаж работы более 20 лет. Легко обучаюсь...\n",
       "334     Добрый день. Немного обо мне: Успешное провиде...\n",
       "373     Аналитический склад ума, высокая концентрация,...\n",
       "414     Пунктуальная, исполнительная, мобильная.\\nУмею...\n",
       "649     Работал с людьми обладаю управлять командой зн...\n",
       "837     Умею работать в режиме многозадачности, пункту...\n",
       "1259    Люблю думать, создавать, видеть в своей работе...\n",
       "1595    Здравствуйте, меня зовут Ксения.\\nИз качеств о...\n",
       "1651    Уравновешенный, целеустремленный, коммуникабел...\n",
       "1723    Очень люблю автомобили, много читаю, в т.ч. те...\n",
       "1766    Легко и быстро обучаюсь. Всегда стремлюсь узна...\n",
       "1870    Имею опыт работы с web интерфейсами: backdase,...\n",
       "1919    Активность, коммуникабельность, стрессоустойчи...\n",
       "2106    Коммуникабельность,стрессоустойчивость,целеуст...\n",
       "2164    Личные качества - целеустремленность, коммуник...\n",
       "2227    Имею знания в области банковских технологий, и...\n",
       "2254    Имею знания в области банковских технологий, и...\n",
       "2353    Работаю много и эффективно. Стараюсь не употре...\n",
       "2363    Умею работать в режиме многозадачности, пункту...\n",
       "2443    Энергичность, открытость, высокая обучаемость,...\n",
       "2509    Я человек активный, ответственный, общительный...\n",
       "2578    Веду активный и здоровый образ жизни.\\nПродвин...\n",
       "2681    Семейное положение – не замужем, наличие детей...\n",
       "2856    Личные качества: настойчивость, скрупулезность...\n",
       "2900    Нацелен на результат, ответственно подхожу к л...\n",
       "Name: О себе, dtype: object"
      ]
     },
     "execution_count": 164,
     "metadata": {},
     "output_type": "execute_result"
    }
   ],
   "source": [
    "df.loc[df['clust']==3]['О себе']"
   ]
  },
  {
   "cell_type": "code",
   "execution_count": 165,
   "id": "e11e1713-ed70-4e9e-a727-d8df5428d46e",
   "metadata": {},
   "outputs": [
    {
     "data": {
      "text/plain": [
       "(25,)"
      ]
     },
     "execution_count": 165,
     "metadata": {},
     "output_type": "execute_result"
    }
   ],
   "source": [
    "df.loc[df['clust']==3]['О себе'].shape"
   ]
  },
  {
   "cell_type": "code",
   "execution_count": 157,
   "id": "c588def4-7d3c-467a-b61d-3c3c0a6b1b29",
   "metadata": {},
   "outputs": [
    {
     "data": {
      "text/plain": [
       "30      Разбираюсь в новых системах и проектах, люблю ...\n",
       "111     легко обучаема,целеустремленная,клиентоорентир...\n",
       "150     Личные качества: отвественная, нацеленная на р...\n",
       "253     Грамотный пользователь ПК\\nРаботаю с: Пакетом ...\n",
       "359     Продвинутый пользователь ПК: MS Office, графич...\n",
       "                              ...                        \n",
       "2868    Активный, энергичный, способный добиваться пос...\n",
       "2903    Общительная, жизнерадостная, ответственная. Ан...\n",
       "2963    Обладание сильным потенциалом и энергетикой. Л...\n",
       "2974    Стресоустойчивый, ответственный, умею разобрат...\n",
       "2980    ответственная, коммуникабельная, работаю в усл...\n",
       "Name: О себе, Length: 80, dtype: object"
      ]
     },
     "execution_count": 157,
     "metadata": {},
     "output_type": "execute_result"
    }
   ],
   "source": [
    "df.loc[df['clust']==4]['О себе']"
   ]
  },
  {
   "cell_type": "code",
   "execution_count": 158,
   "id": "e4c0a77a-138d-47a5-85a0-72c46a067720",
   "metadata": {},
   "outputs": [
    {
     "data": {
      "text/plain": [
       "177     Увлечения: спорт, активный образ жизни.\\nЛичны...\n",
       "312     Интиллегентный, ответственный, целеустремлённы...\n",
       "357     Способен решить в кратчайший срок все возникши...\n",
       "358     Коммуникабельная, приятной наружности. Исполни...\n",
       "453         Целеустремленный человек, с тягой познания...\n",
       "531     Ответственный, стрессоустойчивый, креативный, ...\n",
       "585     Ответственная, целеустремлённая, быстро схваты...\n",
       "634     Ответственный, честный, усидчивый, стрессоусто...\n",
       "678     Стремление к самообразованию. Требовательность...\n",
       "685     Активная, увлекаюсь интеллектуальными играми, ...\n",
       "686     Коммуникабелен, ответственен, настойчив в дост...\n",
       "715     Аналитический, креативный склад ума, работоспо...\n",
       "748                        Целеустремленная,пунктуальная.\n",
       "781     туризм, спортивная рыбалка, книги, бадминтон.\\...\n",
       "792     Семейное положение: женат. дочь 9 лет.\\nВодите...\n",
       "832     Хоби, спорт, туризм, активный отдых, рыбалка о...\n",
       "859     Аналитический склад ума, целеустремленный, раб...\n",
       "901     личностные навыки:\\n• Хорошие коммуникативные ...\n",
       "992     Всегда ориентируюсь на результат, быстро обуча...\n",
       "1033    • Уверенный пользователь ПК: MS Office, 1C, SA...\n",
       "1113    Коммуникабельный, ответственный, исполнительны...\n",
       "1153    Стремление к обучению, ответственность, стресс...\n",
       "1172    Высокая работоспособность, активная жизненная ...\n",
       "1371    Адекватность и объективность.\\nИз увлечений - ...\n",
       "1430        Лояльный, позитивный и заслуживающий доверия.\n",
       "1547    Аналитический склад ума, исполнительность, выс...\n",
       "1634                                    На собеседовании.\n",
       "1683    Коммуникабельна, ответственна, организована, л...\n",
       "1716    Коммуникабельная, обязательная, ответственная,...\n",
       "1819    способность к обучению,\\nумение работать в кол...\n",
       "1935    Ответственна, исполнительна, аналитик, умею ра...\n",
       "1939    Семейное положение: холост.\\nДети: нет.\\nВозмо...\n",
       "2214    • Креативен с активной жизненной позицией,\\n• ...\n",
       "2270    Компьютерные навыки: Windows 95/98/2000/XP, MS...\n",
       "2288    Адекватность и объективность.\\nИз увлечений - ...\n",
       "2377    Личные качества:\\nАналитический склад ума, раб...\n",
       "2602    Общительный, позитивный, открытый, харизматичный.\n",
       "2786    Коммуникабельна, ответственна, пунктуальна, то...\n",
       "2798    Целеустремлённость\\nСтрессоустойчивость\\nРабот...\n",
       "2867        Открытый, общительный, позитивно настроенный.\n",
       "2930    гражданский брак 20 лет,\\nвзрослая дочь,\\nправ...\n",
       "Name: О себе, dtype: object"
      ]
     },
     "execution_count": 158,
     "metadata": {},
     "output_type": "execute_result"
    }
   ],
   "source": [
    "df.loc[df['clust']==5]['О себе']"
   ]
  },
  {
   "cell_type": "code",
   "execution_count": 161,
   "id": "507e0444-3b3d-422a-91d8-54a2be8aa380",
   "metadata": {},
   "outputs": [
    {
     "data": {
      "text/plain": [
       "(41,)"
      ]
     },
     "execution_count": 161,
     "metadata": {},
     "output_type": "execute_result"
    }
   ],
   "source": [
    "df.loc[df['clust']==5]['О себе'].shape"
   ]
  },
  {
   "cell_type": "code",
   "execution_count": 159,
   "id": "0cfa6b99-13cf-4912-af97-5dc84339f26c",
   "metadata": {},
   "outputs": [
    {
     "data": {
      "text/plain": [
       "29      Всегда полностью погружаюсь в рабочий процесс,...\n",
       "33      Имею большой опыт в продажах. Работая в любом ...\n",
       "82      Профессиональные навыки:\\nExcel : сводные табл...\n",
       "113     Придерживаюсь Data driven подхода к маркетингу...\n",
       "120     - люблю много и результативно работать\\n- ценю...\n",
       "                              ...                        \n",
       "2871    Навыки: Уверенный пользователь (Windows и Micr...\n",
       "2920    В 2003 г. получила математическое образование,...\n",
       "2975    Пользователь MS Office (Word, Excel, Internet)...\n",
       "2982    Сильный бэкграунд, опыт работы в различных сфе...\n",
       "2996    Моя потребность в постоянном улучшении себя на...\n",
       "Name: О себе, Length: 139, dtype: object"
      ]
     },
     "execution_count": 159,
     "metadata": {},
     "output_type": "execute_result"
    }
   ],
   "source": [
    "df.loc[df['clust']==6]['О себе']"
   ]
  },
  {
   "cell_type": "code",
   "execution_count": 160,
   "id": "1da130a1-e985-4596-a8bd-3b0a7a62ff28",
   "metadata": {},
   "outputs": [
    {
     "data": {
      "text/plain": [
       "array([0, 1, 2, 3, 4, 5, 6], dtype=int32)"
      ]
     },
     "execution_count": 160,
     "metadata": {},
     "output_type": "execute_result"
    }
   ],
   "source": [
    "np.unique(df['clust'])"
   ]
  },
  {
   "cell_type": "markdown",
   "id": "f4874644-36e8-48f1-b2a5-f32ec6a5f619",
   "metadata": {},
   "source": [
    "Откуда берутся такие проблемы с mBART? Все же нужно брать что-то обученное не только на датасете gazeta. Мб это из-за Mars / BusinessForward / B,C — там какой-то сбой с эмбеддингами, юникодом итд..."
   ]
  },
  {
   "cell_type": "code",
   "execution_count": 180,
   "id": "f65c0c2b-9ad1-4693-9ac3-aa2208feee5e",
   "metadata": {},
   "outputs": [
    {
     "name": "stdout",
     "output_type": "stream",
     "text": [
      "Семейное положение: женат. дочь 9 лет.\n",
      "Водительские права категории В,С\n",
      "Пунктуальный\n",
      "Порядочный\n",
      "Нацеленный на результат\n",
      "Склонность к приобретению новых знаний\n",
      "Умею управлять и работать в команде.\n",
      "Тренинг:\n",
      "Ключ к успеху (Mars)\n",
      "Обучение на ИД (BuisinessForward)\n"
     ]
    }
   ],
   "source": [
    "print(df.loc[792, ['О себе', 'О себе, summarized']][0])"
   ]
  },
  {
   "cell_type": "code",
   "execution_count": 181,
   "id": "341ccc0c-f089-4708-a0aa-9768982bfdda",
   "metadata": {},
   "outputs": [
    {
     "name": "stdout",
     "output_type": "stream",
     "text": [
      "Встреча с президентом России Владимиром Путиным прошла накануне в Санкт-Петербурге. Встреча прошла в присутствии президента РФ Владимира Путина и президента США Дональда Трампа.\n"
     ]
    }
   ],
   "source": [
    "print(df.loc[792, ['О себе', 'О себе, summarized']][1])"
   ]
  },
  {
   "cell_type": "code",
   "execution_count": 184,
   "id": "9c67d109-1db7-4251-9850-d57a470e584a",
   "metadata": {},
   "outputs": [
    {
     "name": "stdout",
     "output_type": "stream",
     "text": [
      "1 : 2057\n",
      "2 : 356\n",
      "3 : 27\n",
      "4 : 25\n",
      "5 : 80\n",
      "6 : 41\n",
      "7 : 139\n"
     ]
    }
   ],
   "source": [
    "for x in np.unique(df['clust']):\n",
    "    print(x + 1, ':', df.loc[df['clust']==x]['О себе'].shape[0])"
   ]
  },
  {
   "cell_type": "code",
   "execution_count": 193,
   "id": "565232df-79aa-4944-b76d-e83e850b2d39",
   "metadata": {},
   "outputs": [
    {
     "name": "stdout",
     "output_type": "stream",
     "text": [
      "Семейное положение: женат. дочь 9 лет.\n",
      "Водительские права категории В,С\n",
      "Пунктуальный\n",
      "Порядочный\n",
      "Нацеленный на результат\n",
      "Склонность к приобретению новых знаний\n",
      "Умею управлять и работать в команде.\n",
      "Тренинг:\n",
      "Ключ к успеху (Mars)\n",
      "Обучение на ИД (BuisinessForward)\n"
     ]
    }
   ],
   "source": [
    "print(df.loc[df['clust']==5]['О себе'].loc[792])"
   ]
  },
  {
   "cell_type": "markdown",
   "id": "a809f1e1-49c6-4bea-b018-b1c8b5f2e00a",
   "metadata": {},
   "source": [
    "Хм, то есть, тут кластер плохих преобразований mBART'ом?"
   ]
  },
  {
   "cell_type": "code",
   "execution_count": 195,
   "id": "579e3bb2-5800-4b98-87c6-f99cd70ca6b9",
   "metadata": {},
   "outputs": [
    {
     "data": {
      "text/plain": [
       "177     Встреча с кандидатом в президенты России Влади...\n",
       "312     Встреча с президентом России Владимиром Путины...\n",
       "357     Встреча с президентом России Владимиром Путины...\n",
       "358     Встреча с президентом России Владимиром Путины...\n",
       "453     Встреча с президентом России Владимиром Путины...\n",
       "531     Встреча с новым президентом России Владимиром ...\n",
       "585     Гражданин России, проживающий в Санкт-Петербур...\n",
       "634     Встреча с президентом России Владимиром Путины...\n",
       "678     Встреча с президентом России Владимиром Путины...\n",
       "685     Гражданин России, проживающий в Санкт-Петербур...\n",
       "686     Встреча с президентом России Владимиром Путины...\n",
       "715     Встреча с президентом России Владимиром Путины...\n",
       "748     Встреча с президентом России Владимиром Путины...\n",
       "781     Встреча с президентом России Владимиром Путины...\n",
       "792     Встреча с президентом России Владимиром Путины...\n",
       "832     Встреча с президентом России Владимиром Путины...\n",
       "859     Встреча с президентом России Владимиром Путины...\n",
       "901     Встреча с президентом России Владимиром Путины...\n",
       "992     Гражданин России, проживающий в Санкт-Петербур...\n",
       "1033    Встреча с президентом России Владимиром Путины...\n",
       "1113    Встреча с президентом России Владимиром Путины...\n",
       "1153    В университете им. М.В. Ломоносова прошли экза...\n",
       "1172    Встреча с президентом России Владимиром Путины...\n",
       "1371    Встреча с президентом России Владимиром Путины...\n",
       "1430    Встреча с президентом России Владимиром Путины...\n",
       "1547    Встреча с президентом России Владимиром Путины...\n",
       "1634    Westhampton объявил о собеседовании с кандидат...\n",
       "1683    Гражданин России, проживающий в Санкт-Петербур...\n",
       "1716    Гражданин России, проживающий в Санкт-Петербур...\n",
       "1819    Гражданин России, проживающий в Санкт-Петербур...\n",
       "1935    Гражданин России, проживающий в Санкт-Петербур...\n",
       "1939    Встреча с кандидатом в президенты России Влади...\n",
       "2214    Встреча с президентом России Владимиром Путины...\n",
       "2270    В возрасте 38 лет скончался бывший президент Р...\n",
       "2288    Встреча с президентом России Владимиром Путины...\n",
       "2377    Встреча с президентом России Владимиром Путины...\n",
       "2602    Встреча с президентом России Владимиром Путины...\n",
       "2786    Гражданин России, проживающий в Санкт-Петербур...\n",
       "2798    Встреча с президентом России Владимиром Путины...\n",
       "2867    Встреча с президентом России Владимиром Путины...\n",
       "2930    Встреча с президентом России Владимиром Путины...\n",
       "Name: О себе, summarized, dtype: object"
      ]
     },
     "execution_count": 195,
     "metadata": {},
     "output_type": "execute_result"
    }
   ],
   "source": [
    "df.loc[df['clust']==5]['О себе, summarized']"
   ]
  },
  {
   "cell_type": "markdown",
   "id": "d5e2b409-e8b0-4ffd-93d5-089b6cf5830f",
   "metadata": {},
   "source": [
    "Тут про поиск работы[:"
   ]
  },
  {
   "cell_type": "code",
   "execution_count": 196,
   "id": "4e3ab54b-ad3c-46a4-be7c-ae908be6aa49",
   "metadata": {},
   "outputs": [
    {
     "data": {
      "text/plain": [
       "29      Нахожусь в поисках работы, в которой смогу при...\n",
       "33      В одном из московских салонов открылась вакант...\n",
       "82      На данный момент я работаю в компании, которая...\n",
       "113     В настоящее время я работаю в сфере маркетинга...\n",
       "120     В настоящее время работаю в сфере программиров...\n",
       "                              ...                        \n",
       "2871    Нахожусь в возрасте 35 лет в компании, занимаю...\n",
       "2920    Germany. Нахожусь в поисках работы в сфере про...\n",
       "2975    Нахожусь в отпуске по уходу за ребенком. На да...\n",
       "2982    Нахожусь в поисках работы, которая позволит мн...\n",
       "2996    Нахожусь в поисках работы, которая будет требо...\n",
       "Name: О себе, summarized, Length: 139, dtype: object"
      ]
     },
     "execution_count": 196,
     "metadata": {},
     "output_type": "execute_result"
    }
   ],
   "source": [
    "df.loc[df['clust']==6]['О себе, summarized']"
   ]
  },
  {
   "cell_type": "markdown",
   "id": "daf7a270-4605-4b2a-ab9e-bde488995628",
   "metadata": {},
   "source": [
    "Тут работают:"
   ]
  },
  {
   "cell_type": "code",
   "execution_count": 197,
   "id": "86cf2e29-d966-4bc1-8ec3-60a9c5e774c7",
   "metadata": {},
   "outputs": [
    {
     "data": {
      "text/plain": [
       "30      Нахожусь в поисках работы. На данный момент я ...\n",
       "111     На данный момент я работаю в компании, которая...\n",
       "150     На данный момент я работаю в одном из крупнейш...\n",
       "253     На данный момент я работаю в компании, которая...\n",
       "359     На данный момент я работаю в одном из крупнейш...\n",
       "                              ...                        \n",
       "2868    Нахожусь в поисках работы в сфере логистики и ...\n",
       "2903    На данный момент я работаю в сфере маркетинга,...\n",
       "2963    На данный момент я работаю в одном из самых пр...\n",
       "2974    На данный момент я работаю в сфере юридической...\n",
       "2980    Нахожусь в поисках работы в одном из московски...\n",
       "Name: О себе, summarized, Length: 80, dtype: object"
      ]
     },
     "execution_count": 197,
     "metadata": {},
     "output_type": "execute_result"
    }
   ],
   "source": [
    "df.loc[df['clust']==4]['О себе, summarized']"
   ]
  },
  {
   "cell_type": "markdown",
   "id": "6f2b9fef-f69d-4211-84f5-11e443f8c0a8",
   "metadata": {},
   "source": [
    "Тут что-то еще:"
   ]
  },
  {
   "cell_type": "code",
   "execution_count": 202,
   "id": "5b014bde-6c60-4473-a9f2-5316861d4ed2",
   "metadata": {},
   "outputs": [
    {
     "data": {
      "text/plain": [
       "63      Нахожусь в поисках работы. На данный момент ра...\n",
       "334     Нахожусь в поисках работы. На данный момент я ...\n",
       "373     Нахожусь в поисках работы. На данный момент ра...\n",
       "414     Нахожусь в поисках работы. На данный момент ра...\n",
       "649     Нахожусь в поисках работы. На данный момент ра...\n",
       "837     Нахожусь в поисках работы. На данный момент ра...\n",
       "1259    Нахожусь в поисках работы. На данный момент ра...\n",
       "1595    Нахожусь в поисках работы. На данный момент ра...\n",
       "1651    Нахожусь в поисках работы. На данный момент ра...\n",
       "1723    Нахожусь в поисках работы. На данный момент ра...\n",
       "1766    Нахожусь в поисках работы. На данный момент ра...\n",
       "1870    Нахожусь в поисках работы. На данный момент ра...\n",
       "1919    Нахожусь в поисках работы. На данный момент ра...\n",
       "2106    Нахожусь в поисках работы. На данный момент ра...\n",
       "2164    Нахожусь в поисках работы. На данный момент ра...\n",
       "2227    Нахожусь в поисках работы. На данный момент ра...\n",
       "2254    Нахожусь в поисках работы. На данный момент ра...\n",
       "2353    Нахожусь в поисках работы. На данный момент ра...\n",
       "2363    Нахожусь в поисках работы. На данный момент ра...\n",
       "2443    Нахожусь в поисках работы. На данный момент ра...\n",
       "2509    Нахожусь в поисках работы. На данный момент я ...\n",
       "2578    Нахожусь в поисках работы. На данный момент ра...\n",
       "2681    Нахожусь в поисках работы. На данный момент ра...\n",
       "2856    Нахожусь в поисках работы. На данный момент ра...\n",
       "2900    Нахожусь в поисках работы. На данный момент ра...\n",
       "Name: О себе, summarized, dtype: object"
      ]
     },
     "execution_count": 202,
     "metadata": {},
     "output_type": "execute_result"
    }
   ],
   "source": [
    "df.loc[df['clust']==3]['О себе, summarized']"
   ]
  },
  {
   "cell_type": "code",
   "execution_count": 203,
   "id": "806a79ed-06b0-4ec9-9bcf-99d66350ff65",
   "metadata": {},
   "outputs": [
    {
     "data": {
      "text/plain": [
       "'Нахожусь в поисках работы. На данный момент работаю в одном из московских офисов.'"
      ]
     },
     "execution_count": 203,
     "metadata": {},
     "output_type": "execute_result"
    }
   ],
   "source": [
    "df.loc[df['clust']==3]['О себе, summarized'].iloc[3]"
   ]
  },
  {
   "cell_type": "code",
   "execution_count": 204,
   "id": "0a9d320e-9ddd-40f7-89f9-4cbba92a4b62",
   "metadata": {},
   "outputs": [
    {
     "data": {
      "text/plain": [
       "'Нахожусь в поисках работы. На данный момент работаю в сфере маркетинга, рекламы и продаж.'"
      ]
     },
     "execution_count": 204,
     "metadata": {},
     "output_type": "execute_result"
    }
   ],
   "source": [
    "df.loc[df['clust']==3]['О себе, summarized'].iloc[2]"
   ]
  },
  {
   "cell_type": "markdown",
   "id": "38e4cac7-16fa-49b9-85f2-4268f39a00f6",
   "metadata": {},
   "source": [
    "Хм интересно будет все это подробнее рассмотреть!"
   ]
  },
  {
   "cell_type": "markdown",
   "id": "db18a69e-1494-40da-9f35-377978a8f58d",
   "metadata": {},
   "source": [
    "Хм вот поэтому нужно посмотреть на картину с другими признаками... В общем все ясно!! Здесь только какая-то базовая информация которая возможно не укладывается в другие признаки. Но опять же в силу количества признаков у нас и О себе summarized и Образование итд не должны по отдельности сильно на что-то влиять (как проверить это точными методами?)\n",
    "\n",
    "Только вознкиает проблема: KMeans плохо работает в больших размерностях как у меня, надо пробовать ЕМ-алгоритм... Сослаться на ту статью про curse of dimensionality у MSE на котором основан KMeans, которую я где-то у себя сохранял..."
   ]
  },
  {
   "cell_type": "markdown",
   "id": "83eb3e7b-0917-4a50-9398-90a25727e180",
   "metadata": {},
   "source": [
    "Буду размечать: (надо где-то 10% ~ 270, но постараюсь и побольше, потом когда снова будет муд не на рутинную разметку а на МЛ обучу модель)"
   ]
  },
  {
   "cell_type": "code",
   "execution_count": 210,
   "id": "32c1b320-5f82-4dae-a548-bb8f03b2379c",
   "metadata": {},
   "outputs": [],
   "source": [
    "df.sample(335).loc[:, ['Ссылка', 'Название']].to_csv('to_markup.txt')"
   ]
  },
  {
   "cell_type": "code",
   "execution_count": null,
   "id": "1f1fab61-1996-4b5d-9651-f1d669cf0e99",
   "metadata": {},
   "outputs": [],
   "source": [
    "df.sample(1).loc[:, ['Ссылка', 'Название']]"
   ]
  },
  {
   "cell_type": "code",
   "execution_count": null,
   "id": "c67d2a5c-f3b7-48fc-997a-e9b7df26d614",
   "metadata": {},
   "outputs": [],
   "source": []
  },
  {
   "cell_type": "markdown",
   "id": "32086964-45a4-4153-a5f3-2ef4c7bc0e81",
   "metadata": {},
   "source": [
    "### Далее"
   ]
  },
  {
   "cell_type": "markdown",
   "id": "8fbb546b-7666-4409-ad09-313b6f215ce8",
   "metadata": {},
   "source": [
    "Итак, для начала импортируем нашу табличку, полученную в ноутбуке `preprocessing.ipynb`."
   ]
  },
  {
   "cell_type": "markdown",
   "id": "2d549340-7b2a-45e8-90c2-07aee93742e8",
   "metadata": {},
   "source": [
    "Посмотрим на первые 100 резюме, чтобы понять, как выглядит наша таблица:"
   ]
  },
  {
   "cell_type": "code",
   "execution_count": 150,
   "id": "fc1ed249-4013-4d1b-9967-f82fa32996ba",
   "metadata": {},
   "outputs": [
    {
     "data": {
      "text/html": [
       "<div>\n",
       "<style scoped>\n",
       "    .dataframe tbody tr th:only-of-type {\n",
       "        vertical-align: middle;\n",
       "    }\n",
       "\n",
       "    .dataframe tbody tr th {\n",
       "        vertical-align: top;\n",
       "    }\n",
       "\n",
       "    .dataframe thead th {\n",
       "        text-align: right;\n",
       "    }\n",
       "</style>\n",
       "<table border=\"1\" class=\"dataframe\">\n",
       "  <thead>\n",
       "    <tr style=\"text-align: right;\">\n",
       "      <th></th>\n",
       "      <th>Unnamed: 0</th>\n",
       "      <th>Unnamed: 0.1</th>\n",
       "      <th>Unnamed: 0.1.1</th>\n",
       "      <th>Unnamed: 0.1.1.1</th>\n",
       "      <th>Ссылка</th>\n",
       "      <th>Название</th>\n",
       "      <th>Коммандировка</th>\n",
       "      <th>Опыт работы, лет</th>\n",
       "      <th>О себе</th>\n",
       "      <th>Образование</th>\n",
       "      <th>...</th>\n",
       "      <th>Коммандировка?</th>\n",
       "      <th>Город?</th>\n",
       "      <th>Аналитические комбинации слов</th>\n",
       "      <th>Справочник по интересам</th>\n",
       "      <th>Карьерный рост</th>\n",
       "      <th>О себе, summarized</th>\n",
       "      <th>О себе, tokens</th>\n",
       "      <th>О себе, flat_tokens</th>\n",
       "      <th>О себе, 3-grams</th>\n",
       "      <th>О себе, avg_tokens</th>\n",
       "    </tr>\n",
       "  </thead>\n",
       "  <tbody>\n",
       "    <tr>\n",
       "      <th>0</th>\n",
       "      <td>0</td>\n",
       "      <td>1</td>\n",
       "      <td>1</td>\n",
       "      <td>1</td>\n",
       "      <td>https://hh.ru/resume/628596ac000657935b0039ed1...</td>\n",
       "      <td>BI аналитик</td>\n",
       "      <td>Москва, не готова к переезду, готова к редким ...</td>\n",
       "      <td>Опыт работы 1 год 5 месяцев</td>\n",
       "      <td>В последние годы проходила обучение без возмож...</td>\n",
       "      <td>Высшее образование (Бакалавр)\\n2022\\nНациональ...</td>\n",
       "      <td>...</td>\n",
       "      <td>не готова к переезду</td>\n",
       "      <td>Москва</td>\n",
       "      <td>---</td>\n",
       "      <td>found smt by rule (Analyst)|(Аналитик данных)|...</td>\n",
       "      <td>True</td>\n",
       "      <td>Гражданин России, проживающий в Санкт-Петербур...</td>\n",
       "      <td>[array([ 4.2191329e-03,  3.8639535e-04, -8.798...</td>\n",
       "      <td>[ 2.95168342e-04 -1.54395448e-03 -1.38613814e-...</td>\n",
       "      <td>['последний год проходить', 'год проходить обу...</td>\n",
       "      <td>-0.000129</td>\n",
       "    </tr>\n",
       "    <tr>\n",
       "      <th>1</th>\n",
       "      <td>1</td>\n",
       "      <td>2</td>\n",
       "      <td>2</td>\n",
       "      <td>2</td>\n",
       "      <td>https://hh.ru/resume/dfbcae000004342d8f0039ed1...</td>\n",
       "      <td>BI аналитик</td>\n",
       "      <td>Москва, не готова к переезду, готова к команди...</td>\n",
       "      <td>Опыт работы 3 года 3 месяца</td>\n",
       "      <td>---</td>\n",
       "      <td>Высшее образование (Бакалавр)\\n2019\\nСамарский...</td>\n",
       "      <td>...</td>\n",
       "      <td>не готова к переезду</td>\n",
       "      <td>Москва</td>\n",
       "      <td>---</td>\n",
       "      <td>found smt by rule (Analyst)|(Аналитик данных)|...</td>\n",
       "      <td>False</td>\n",
       "      <td>---</td>\n",
       "      <td>[array([-8.6196875e-03,  3.6657380e-03,  5.189...</td>\n",
       "      <td>[-8.6196875e-03  3.6657380e-03  5.1898835e-03 ...</td>\n",
       "      <td>-</td>\n",
       "      <td>0.000681</td>\n",
       "    </tr>\n",
       "    <tr>\n",
       "      <th>2</th>\n",
       "      <td>2</td>\n",
       "      <td>3</td>\n",
       "      <td>3</td>\n",
       "      <td>3</td>\n",
       "      <td>https://hh.ru/resume/bebf6a630008069d8c0039ed1...</td>\n",
       "      <td>Аналитик</td>\n",
       "      <td>Санкт-Петербург, м. Гражданский проспект, гото...</td>\n",
       "      <td>Опыт работы 7 лет 2 месяца</td>\n",
       "      <td>Имею экономическое образование. Продвинутый по...</td>\n",
       "      <td>Высшее образование (Бакалавр)\\n2015\\nСанкт-Пет...</td>\n",
       "      <td>...</td>\n",
       "      <td>готов к переезду</td>\n",
       "      <td>Санкт</td>\n",
       "      <td>found smt by rule (SQL)|(Excel)|(Python)|(Tabl...</td>\n",
       "      <td>found smt by rule (Analyst)|(Аналитик данных)|...</td>\n",
       "      <td>False</td>\n",
       "      <td>На данный момент не нахожусь на территории РФ....</td>\n",
       "      <td>[array([-0.00577433, -0.00298019,  0.00639458,...</td>\n",
       "      <td>[-1.1685997e-03  1.2998827e-03 -2.5936777e-03 ...</td>\n",
       "      <td>['иметь экономический образование', 'экономиче...</td>\n",
       "      <td>-0.000146</td>\n",
       "    </tr>\n",
       "    <tr>\n",
       "      <th>3</th>\n",
       "      <td>3</td>\n",
       "      <td>4</td>\n",
       "      <td>4</td>\n",
       "      <td>4</td>\n",
       "      <td>https://hh.ru/resume/8606f37b000773de980039ed1...</td>\n",
       "      <td>Программист-разработчик</td>\n",
       "      <td>Москва, м. Петровско-Разумовская, не готов к п...</td>\n",
       "      <td>Опыт работы 1 год 1 месяц</td>\n",
       "      <td>Имеется опыт в создании Android-приложений на ...</td>\n",
       "      <td>Высшее образование (Бакалавр)\\n2022\\nЧелябинск...</td>\n",
       "      <td>...</td>\n",
       "      <td>не готов к переезду</td>\n",
       "      <td>Москва</td>\n",
       "      <td>found smt by rule (SQL)|(Excel)|(Python)|(Tabl...</td>\n",
       "      <td>---</td>\n",
       "      <td>False</td>\n",
       "      <td>В настоящее время я работаю в сфере разработки...</td>\n",
       "      <td>[array([-8.7200766e-03,  9.9531859e-03, -2.345...</td>\n",
       "      <td>[-4.07442392e-04  5.87383693e-04  8.51579127e-...</td>\n",
       "      <td>['иметься опыт создание', 'опыт создание andro...</td>\n",
       "      <td>0.000049</td>\n",
       "    </tr>\n",
       "    <tr>\n",
       "      <th>4</th>\n",
       "      <td>4</td>\n",
       "      <td>5</td>\n",
       "      <td>5</td>\n",
       "      <td>5</td>\n",
       "      <td>https://hh.ru/resume/993bd0980002dd6cff0039ed1...</td>\n",
       "      <td>Аналитик Bi</td>\n",
       "      <td>Москва, м. Сокол, готов к переезду, готов к ко...</td>\n",
       "      <td>Опыт работы 10 лет 7 месяцев</td>\n",
       "      <td>Уверенный пользователь.\\nЖелание оптимизации и...</td>\n",
       "      <td>Высшее образование\\n2010\\nДальневосточный госу...</td>\n",
       "      <td>...</td>\n",
       "      <td>готов к переезду</td>\n",
       "      <td>Москва</td>\n",
       "      <td>found smt by rule (SQL)|(Excel)|(Python)|(Tabl...</td>\n",
       "      <td>found smt by rule (Analyst)|(Аналитик данных)|...</td>\n",
       "      <td>False</td>\n",
       "      <td>Уверенный пользователь Microsoft Dynamics AX, ...</td>\n",
       "      <td>[array([ 6.2332065e-03, -1.6407053e-03,  5.968...</td>\n",
       "      <td>[-3.7161107e-04  2.3680142e-04 -1.6213297e-04 ...</td>\n",
       "      <td>['уверенный пользователь желание', 'пользовате...</td>\n",
       "      <td>-0.000058</td>\n",
       "    </tr>\n",
       "    <tr>\n",
       "      <th>...</th>\n",
       "      <td>...</td>\n",
       "      <td>...</td>\n",
       "      <td>...</td>\n",
       "      <td>...</td>\n",
       "      <td>...</td>\n",
       "      <td>...</td>\n",
       "      <td>...</td>\n",
       "      <td>...</td>\n",
       "      <td>...</td>\n",
       "      <td>...</td>\n",
       "      <td>...</td>\n",
       "      <td>...</td>\n",
       "      <td>...</td>\n",
       "      <td>...</td>\n",
       "      <td>...</td>\n",
       "      <td>...</td>\n",
       "      <td>...</td>\n",
       "      <td>...</td>\n",
       "      <td>...</td>\n",
       "      <td>...</td>\n",
       "      <td>...</td>\n",
       "    </tr>\n",
       "    <tr>\n",
       "      <th>62</th>\n",
       "      <td>62</td>\n",
       "      <td>69</td>\n",
       "      <td>69</td>\n",
       "      <td>69</td>\n",
       "      <td>https://hh.ru/resume/15abcb4a000902e72c0039ed1...</td>\n",
       "      <td>Аналитик</td>\n",
       "      <td>Москва, готов к переезду, готов к командировкам</td>\n",
       "      <td>Опыт работы 1 год 6 месяцев</td>\n",
       "      <td>В последние годы я проходил обучение без возмо...</td>\n",
       "      <td>Высшее образование (Бакалавр)\\n2022\\nРоссийски...</td>\n",
       "      <td>...</td>\n",
       "      <td>готов к переезду</td>\n",
       "      <td>Москва</td>\n",
       "      <td>found smt by rule (SQL)|(Excel)|(Python)|(Tabl...</td>\n",
       "      <td>found smt by rule (Analyst)|(Аналитик данных)|...</td>\n",
       "      <td>False</td>\n",
       "      <td>NaN</td>\n",
       "      <td>[array([ 4.2191329e-03,  3.8639535e-04, -8.798...</td>\n",
       "      <td>[-4.9789756e-04 -5.4419227e-04 -2.5611392e-03 ...</td>\n",
       "      <td>['последний год проходить', 'год проходить обу...</td>\n",
       "      <td>-0.000504</td>\n",
       "    </tr>\n",
       "    <tr>\n",
       "      <th>63</th>\n",
       "      <td>63</td>\n",
       "      <td>70</td>\n",
       "      <td>70</td>\n",
       "      <td>70</td>\n",
       "      <td>https://hh.ru/resume/e1b370df0007951de20039ed1...</td>\n",
       "      <td>Аналитик</td>\n",
       "      <td>Москва, м. Лермонтовский проспект, готов к пер...</td>\n",
       "      <td>Опыт работы 20 лет 5 месяцев</td>\n",
       "      <td>владею инструментарием обработки, анализа и ви...</td>\n",
       "      <td>Высшее образование (Магистр)\\n2007\\nМосковский...</td>\n",
       "      <td>...</td>\n",
       "      <td>готов к переезду</td>\n",
       "      <td>Москва</td>\n",
       "      <td>---</td>\n",
       "      <td>found smt by rule (Analyst)|(Аналитик данных)|...</td>\n",
       "      <td>True</td>\n",
       "      <td>В связи с тем, что в ближайшее время планирую ...</td>\n",
       "      <td>[array([ 2.1670053e-03,  5.0119366e-03,  6.372...</td>\n",
       "      <td>[-2.11551553e-03 -5.14384184e-04  4.57258604e-...</td>\n",
       "      <td>['владеть инструментарий обработка', 'инструме...</td>\n",
       "      <td>-0.000174</td>\n",
       "    </tr>\n",
       "    <tr>\n",
       "      <th>64</th>\n",
       "      <td>64</td>\n",
       "      <td>71</td>\n",
       "      <td>71</td>\n",
       "      <td>71</td>\n",
       "      <td>https://hh.ru/resume/5de57a510007cfffc40039ed1...</td>\n",
       "      <td>Аналитик данных</td>\n",
       "      <td>Самара, готов к переезду (Москва), не готов к ...</td>\n",
       "      <td>Опыт работы 3 года 10 месяцев</td>\n",
       "      <td>Победитель стипендиального конкурса Оксфордско...</td>\n",
       "      <td>Высшее образование (Бакалавр)\\n2021\\nСамарский...</td>\n",
       "      <td>...</td>\n",
       "      <td>готов к переезду</td>\n",
       "      <td>Самара</td>\n",
       "      <td>found smt by rule (SQL)|(Excel)|(Python)|(Tabl...</td>\n",
       "      <td>found smt by rule (Analyst)|(Аналитик данных)|...</td>\n",
       "      <td>True</td>\n",
       "      <td>Westhampton Institute of Technology (WTA) опуб...</td>\n",
       "      <td>[array([ 6.3795494e-03,  1.4176572e-03,  6.802...</td>\n",
       "      <td>[ 7.9651163e-06  2.8415730e-05  2.0546571e-04 ...</td>\n",
       "      <td>['победитель стипендиальный конкурс', 'стипенд...</td>\n",
       "      <td>0.000066</td>\n",
       "    </tr>\n",
       "    <tr>\n",
       "      <th>65</th>\n",
       "      <td>65</td>\n",
       "      <td>73</td>\n",
       "      <td>73</td>\n",
       "      <td>73</td>\n",
       "      <td>https://hh.ru/resume/5e423c80000768e1490039ed1...</td>\n",
       "      <td>Аналитик данных в Power BI</td>\n",
       "      <td>Москва, готов к переезду (Санкт-Петербург, Ека...</td>\n",
       "      <td>Опыт работы 7 лет 4 месяца</td>\n",
       "      <td>Добрый день! Меня зовут Константин Блинов.\\nЯ ...</td>\n",
       "      <td>Высшее образование\\n2013\\nБалтийский федеральн...</td>\n",
       "      <td>...</td>\n",
       "      <td>готов к переезду</td>\n",
       "      <td>Москва</td>\n",
       "      <td>found smt by rule (SQL)|(Excel)|(Python)|(Tabl...</td>\n",
       "      <td>found smt by rule (Analyst)|(Аналитик данных)|...</td>\n",
       "      <td>False</td>\n",
       "      <td>West Coast Institute of Technology (WST) пригл...</td>\n",
       "      <td>[array([-7.9669442e-04, -1.5513458e-03,  4.905...</td>\n",
       "      <td>[ 8.8479457e-04  4.8863521e-04  1.4909195e-04 ...</td>\n",
       "      <td>['добрый день звать', 'день звать константин',...</td>\n",
       "      <td>-0.000009</td>\n",
       "    </tr>\n",
       "    <tr>\n",
       "      <th>66</th>\n",
       "      <td>66</td>\n",
       "      <td>75</td>\n",
       "      <td>75</td>\n",
       "      <td>75</td>\n",
       "      <td>https://hh.ru/resume/98ff91de00072845060039ed1...</td>\n",
       "      <td>Аналитик</td>\n",
       "      <td>Москва, не готов к переезду, не готов к команд...</td>\n",
       "      <td>Опыт работы 5 лет 2 месяца</td>\n",
       "      <td>Опыт web-разработки с использованием django.\\n...</td>\n",
       "      <td>Высшее образование (Магистр)\\n2020\\nРоссийский...</td>\n",
       "      <td>...</td>\n",
       "      <td>не готов к переезду</td>\n",
       "      <td>Москва</td>\n",
       "      <td>found smt by rule (SQL)|(Excel)|(Python)|(Tabl...</td>\n",
       "      <td>found smt by rule (Analyst)|(Аналитик данных)|...</td>\n",
       "      <td>False</td>\n",
       "      <td>Победитель стипендиального конкурса Оксфордско...</td>\n",
       "      <td>[array([-6.8996241e-03,  9.4751567e-03,  9.700...</td>\n",
       "      <td>[-6.5130975e-05 -6.3547277e-04 -9.2419802e-04 ...</td>\n",
       "      <td>['опыт web разработка', 'web разработка исполь...</td>\n",
       "      <td>-0.000126</td>\n",
       "    </tr>\n",
       "  </tbody>\n",
       "</table>\n",
       "<p>67 rows × 36 columns</p>\n",
       "</div>"
      ],
      "text/plain": [
       "    Unnamed: 0  Unnamed: 0.1  Unnamed: 0.1.1  Unnamed: 0.1.1.1  \\\n",
       "0            0             1               1                 1   \n",
       "1            1             2               2                 2   \n",
       "2            2             3               3                 3   \n",
       "3            3             4               4                 4   \n",
       "4            4             5               5                 5   \n",
       "..         ...           ...             ...               ...   \n",
       "62          62            69              69                69   \n",
       "63          63            70              70                70   \n",
       "64          64            71              71                71   \n",
       "65          65            73              73                73   \n",
       "66          66            75              75                75   \n",
       "\n",
       "                                               Ссылка  \\\n",
       "0   https://hh.ru/resume/628596ac000657935b0039ed1...   \n",
       "1   https://hh.ru/resume/dfbcae000004342d8f0039ed1...   \n",
       "2   https://hh.ru/resume/bebf6a630008069d8c0039ed1...   \n",
       "3   https://hh.ru/resume/8606f37b000773de980039ed1...   \n",
       "4   https://hh.ru/resume/993bd0980002dd6cff0039ed1...   \n",
       "..                                                ...   \n",
       "62  https://hh.ru/resume/15abcb4a000902e72c0039ed1...   \n",
       "63  https://hh.ru/resume/e1b370df0007951de20039ed1...   \n",
       "64  https://hh.ru/resume/5de57a510007cfffc40039ed1...   \n",
       "65  https://hh.ru/resume/5e423c80000768e1490039ed1...   \n",
       "66  https://hh.ru/resume/98ff91de00072845060039ed1...   \n",
       "\n",
       "                      Название  \\\n",
       "0                  BI аналитик   \n",
       "1                  BI аналитик   \n",
       "2                     Аналитик   \n",
       "3      Программист-разработчик   \n",
       "4                  Аналитик Bi   \n",
       "..                         ...   \n",
       "62                    Аналитик   \n",
       "63                    Аналитик   \n",
       "64             Аналитик данных   \n",
       "65  Аналитик данных в Power BI   \n",
       "66                    Аналитик   \n",
       "\n",
       "                                        Коммандировка  \\\n",
       "0   Москва, не готова к переезду, готова к редким ...   \n",
       "1   Москва, не готова к переезду, готова к команди...   \n",
       "2   Санкт-Петербург, м. Гражданский проспект, гото...   \n",
       "3   Москва, м. Петровско-Разумовская, не готов к п...   \n",
       "4   Москва, м. Сокол, готов к переезду, готов к ко...   \n",
       "..                                                ...   \n",
       "62    Москва, готов к переезду, готов к командировкам   \n",
       "63  Москва, м. Лермонтовский проспект, готов к пер...   \n",
       "64  Самара, готов к переезду (Москва), не готов к ...   \n",
       "65  Москва, готов к переезду (Санкт-Петербург, Ека...   \n",
       "66  Москва, не готов к переезду, не готов к команд...   \n",
       "\n",
       "                 Опыт работы, лет  \\\n",
       "0     Опыт работы 1 год 5 месяцев   \n",
       "1     Опыт работы 3 года 3 месяца   \n",
       "2      Опыт работы 7 лет 2 месяца   \n",
       "3       Опыт работы 1 год 1 месяц   \n",
       "4    Опыт работы 10 лет 7 месяцев   \n",
       "..                            ...   \n",
       "62    Опыт работы 1 год 6 месяцев   \n",
       "63   Опыт работы 20 лет 5 месяцев   \n",
       "64  Опыт работы 3 года 10 месяцев   \n",
       "65     Опыт работы 7 лет 4 месяца   \n",
       "66     Опыт работы 5 лет 2 месяца   \n",
       "\n",
       "                                               О себе  \\\n",
       "0   В последние годы проходила обучение без возмож...   \n",
       "1                                                 ---   \n",
       "2   Имею экономическое образование. Продвинутый по...   \n",
       "3   Имеется опыт в создании Android-приложений на ...   \n",
       "4   Уверенный пользователь.\\nЖелание оптимизации и...   \n",
       "..                                                ...   \n",
       "62  В последние годы я проходил обучение без возмо...   \n",
       "63  владею инструментарием обработки, анализа и ви...   \n",
       "64  Победитель стипендиального конкурса Оксфордско...   \n",
       "65  Добрый день! Меня зовут Константин Блинов.\\nЯ ...   \n",
       "66  Опыт web-разработки с использованием django.\\n...   \n",
       "\n",
       "                                          Образование  ...  \\\n",
       "0   Высшее образование (Бакалавр)\\n2022\\nНациональ...  ...   \n",
       "1   Высшее образование (Бакалавр)\\n2019\\nСамарский...  ...   \n",
       "2   Высшее образование (Бакалавр)\\n2015\\nСанкт-Пет...  ...   \n",
       "3   Высшее образование (Бакалавр)\\n2022\\nЧелябинск...  ...   \n",
       "4   Высшее образование\\n2010\\nДальневосточный госу...  ...   \n",
       "..                                                ...  ...   \n",
       "62  Высшее образование (Бакалавр)\\n2022\\nРоссийски...  ...   \n",
       "63  Высшее образование (Магистр)\\n2007\\nМосковский...  ...   \n",
       "64  Высшее образование (Бакалавр)\\n2021\\nСамарский...  ...   \n",
       "65  Высшее образование\\n2013\\nБалтийский федеральн...  ...   \n",
       "66  Высшее образование (Магистр)\\n2020\\nРоссийский...  ...   \n",
       "\n",
       "           Коммандировка?  Город?  \\\n",
       "0    не готова к переезду  Москва   \n",
       "1    не готова к переезду  Москва   \n",
       "2        готов к переезду   Санкт   \n",
       "3     не готов к переезду  Москва   \n",
       "4        готов к переезду  Москва   \n",
       "..                    ...     ...   \n",
       "62       готов к переезду  Москва   \n",
       "63       готов к переезду  Москва   \n",
       "64       готов к переезду  Самара   \n",
       "65       готов к переезду  Москва   \n",
       "66    не готов к переезду  Москва   \n",
       "\n",
       "                        Аналитические комбинации слов  \\\n",
       "0                                                 ---   \n",
       "1                                                 ---   \n",
       "2   found smt by rule (SQL)|(Excel)|(Python)|(Tabl...   \n",
       "3   found smt by rule (SQL)|(Excel)|(Python)|(Tabl...   \n",
       "4   found smt by rule (SQL)|(Excel)|(Python)|(Tabl...   \n",
       "..                                                ...   \n",
       "62  found smt by rule (SQL)|(Excel)|(Python)|(Tabl...   \n",
       "63                                                ---   \n",
       "64  found smt by rule (SQL)|(Excel)|(Python)|(Tabl...   \n",
       "65  found smt by rule (SQL)|(Excel)|(Python)|(Tabl...   \n",
       "66  found smt by rule (SQL)|(Excel)|(Python)|(Tabl...   \n",
       "\n",
       "                              Справочник по интересам Карьерный рост  \\\n",
       "0   found smt by rule (Analyst)|(Аналитик данных)|...           True   \n",
       "1   found smt by rule (Analyst)|(Аналитик данных)|...          False   \n",
       "2   found smt by rule (Analyst)|(Аналитик данных)|...          False   \n",
       "3                                                 ---          False   \n",
       "4   found smt by rule (Analyst)|(Аналитик данных)|...          False   \n",
       "..                                                ...            ...   \n",
       "62  found smt by rule (Analyst)|(Аналитик данных)|...          False   \n",
       "63  found smt by rule (Analyst)|(Аналитик данных)|...           True   \n",
       "64  found smt by rule (Analyst)|(Аналитик данных)|...           True   \n",
       "65  found smt by rule (Analyst)|(Аналитик данных)|...          False   \n",
       "66  found smt by rule (Analyst)|(Аналитик данных)|...          False   \n",
       "\n",
       "                                   О себе, summarized  \\\n",
       "0   Гражданин России, проживающий в Санкт-Петербур...   \n",
       "1                                                 ---   \n",
       "2   На данный момент не нахожусь на территории РФ....   \n",
       "3   В настоящее время я работаю в сфере разработки...   \n",
       "4   Уверенный пользователь Microsoft Dynamics AX, ...   \n",
       "..                                                ...   \n",
       "62                                                NaN   \n",
       "63  В связи с тем, что в ближайшее время планирую ...   \n",
       "64  Westhampton Institute of Technology (WTA) опуб...   \n",
       "65  West Coast Institute of Technology (WST) пригл...   \n",
       "66  Победитель стипендиального конкурса Оксфордско...   \n",
       "\n",
       "                                       О себе, tokens  \\\n",
       "0   [array([ 4.2191329e-03,  3.8639535e-04, -8.798...   \n",
       "1   [array([-8.6196875e-03,  3.6657380e-03,  5.189...   \n",
       "2   [array([-0.00577433, -0.00298019,  0.00639458,...   \n",
       "3   [array([-8.7200766e-03,  9.9531859e-03, -2.345...   \n",
       "4   [array([ 6.2332065e-03, -1.6407053e-03,  5.968...   \n",
       "..                                                ...   \n",
       "62  [array([ 4.2191329e-03,  3.8639535e-04, -8.798...   \n",
       "63  [array([ 2.1670053e-03,  5.0119366e-03,  6.372...   \n",
       "64  [array([ 6.3795494e-03,  1.4176572e-03,  6.802...   \n",
       "65  [array([-7.9669442e-04, -1.5513458e-03,  4.905...   \n",
       "66  [array([-6.8996241e-03,  9.4751567e-03,  9.700...   \n",
       "\n",
       "                                  О себе, flat_tokens  \\\n",
       "0   [ 2.95168342e-04 -1.54395448e-03 -1.38613814e-...   \n",
       "1   [-8.6196875e-03  3.6657380e-03  5.1898835e-03 ...   \n",
       "2   [-1.1685997e-03  1.2998827e-03 -2.5936777e-03 ...   \n",
       "3   [-4.07442392e-04  5.87383693e-04  8.51579127e-...   \n",
       "4   [-3.7161107e-04  2.3680142e-04 -1.6213297e-04 ...   \n",
       "..                                                ...   \n",
       "62  [-4.9789756e-04 -5.4419227e-04 -2.5611392e-03 ...   \n",
       "63  [-2.11551553e-03 -5.14384184e-04  4.57258604e-...   \n",
       "64  [ 7.9651163e-06  2.8415730e-05  2.0546571e-04 ...   \n",
       "65  [ 8.8479457e-04  4.8863521e-04  1.4909195e-04 ...   \n",
       "66  [-6.5130975e-05 -6.3547277e-04 -9.2419802e-04 ...   \n",
       "\n",
       "                                      О себе, 3-grams  О себе, avg_tokens  \n",
       "0   ['последний год проходить', 'год проходить обу...           -0.000129  \n",
       "1                                                   -            0.000681  \n",
       "2   ['иметь экономический образование', 'экономиче...           -0.000146  \n",
       "3   ['иметься опыт создание', 'опыт создание andro...            0.000049  \n",
       "4   ['уверенный пользователь желание', 'пользовате...           -0.000058  \n",
       "..                                                ...                 ...  \n",
       "62  ['последний год проходить', 'год проходить обу...           -0.000504  \n",
       "63  ['владеть инструментарий обработка', 'инструме...           -0.000174  \n",
       "64  ['победитель стипендиальный конкурс', 'стипенд...            0.000066  \n",
       "65  ['добрый день звать', 'день звать константин',...           -0.000009  \n",
       "66  ['опыт web разработка', 'web разработка исполь...           -0.000126  \n",
       "\n",
       "[67 rows x 36 columns]"
      ]
     },
     "execution_count": 150,
     "metadata": {},
     "output_type": "execute_result"
    }
   ],
   "source": [
    "df = pd.read_csv('resumes_features.csv')\n",
    "df.head(100)"
   ]
  },
  {
   "cell_type": "markdown",
   "id": "fdb2b50c-75e6-4c67-b56a-b500db3906de",
   "metadata": {},
   "source": [
    "Разметка данных ручная:"
   ]
  },
  {
   "cell_type": "code",
   "execution_count": 151,
   "id": "dd52745e-7964-4f46-b083-dbdf67587ec9",
   "metadata": {},
   "outputs": [],
   "source": [
    "df1 = df.head(100)"
   ]
  },
  {
   "cell_type": "code",
   "execution_count": 152,
   "id": "eb4b3e64-cbb1-484b-978f-dc7dba4c83b4",
   "metadata": {},
   "outputs": [
    {
     "ename": "SyntaxError",
     "evalue": "invalid syntax (1010328942.py, line 1)",
     "output_type": "error",
     "traceback": [
      "\u001b[0;36m  Cell \u001b[0;32mIn[152], line 1\u001b[0;36m\u001b[0m\n\u001b[0;31m    df1['analyst'] = [0, 1, 2, 2ZZZ, 1, 0, 2, 1, 0, 1, 2] + 89 * [0]\u001b[0m\n\u001b[0m                                ^\u001b[0m\n\u001b[0;31mSyntaxError\u001b[0m\u001b[0;31m:\u001b[0m invalid syntax\n"
     ]
    }
   ],
   "source": [
    "df1['analyst'] = [0, 1, 2, 2ZZZ, 1, 0, 2, 1, 0, 1, 2] + 89 * [0]\n",
    "df1['scientist'] = [0, 0, 0, 0, 0, 1, 1, 1] + 92 * [0]"
   ]
  },
  {
   "cell_type": "code",
   "execution_count": 153,
   "id": "267b6df8-56cf-4b4e-8ba4-579fdd8c5c09",
   "metadata": {},
   "outputs": [],
   "source": [
    "import numpy as np\n",
    "from sklearn.linear_model import LinearRegression"
   ]
  },
  {
   "cell_type": "code",
   "execution_count": 154,
   "id": "9fb9680b-6132-4bb1-a720-bc57a930bd9f",
   "metadata": {},
   "outputs": [],
   "source": [
    "X = df1[['Кол-во образований', 'Кол-во образований']]"
   ]
  },
  {
   "cell_type": "code",
   "execution_count": 155,
   "id": "b2ac6c3a-7907-43b3-8129-4c5521f56e5d",
   "metadata": {},
   "outputs": [
    {
     "ename": "KeyError",
     "evalue": "'analyst'",
     "output_type": "error",
     "traceback": [
      "\u001b[0;31m---------------------------------------------------------------------------\u001b[0m",
      "\u001b[0;31mKeyError\u001b[0m                                  Traceback (most recent call last)",
      "File \u001b[0;32m~/miniconda3/lib/python3.9/site-packages/pandas/core/indexes/base.py:3080\u001b[0m, in \u001b[0;36mIndex.get_loc\u001b[0;34m(self, key, method, tolerance)\u001b[0m\n\u001b[1;32m   3079\u001b[0m \u001b[38;5;28;01mtry\u001b[39;00m:\n\u001b[0;32m-> 3080\u001b[0m     \u001b[38;5;28;01mreturn\u001b[39;00m \u001b[38;5;28;43mself\u001b[39;49m\u001b[38;5;241;43m.\u001b[39;49m\u001b[43m_engine\u001b[49m\u001b[38;5;241;43m.\u001b[39;49m\u001b[43mget_loc\u001b[49m\u001b[43m(\u001b[49m\u001b[43mcasted_key\u001b[49m\u001b[43m)\u001b[49m\n\u001b[1;32m   3081\u001b[0m \u001b[38;5;28;01mexcept\u001b[39;00m \u001b[38;5;167;01mKeyError\u001b[39;00m \u001b[38;5;28;01mas\u001b[39;00m err:\n",
      "File \u001b[0;32mpandas/_libs/index.pyx:70\u001b[0m, in \u001b[0;36mpandas._libs.index.IndexEngine.get_loc\u001b[0;34m()\u001b[0m\n",
      "File \u001b[0;32mpandas/_libs/index.pyx:101\u001b[0m, in \u001b[0;36mpandas._libs.index.IndexEngine.get_loc\u001b[0;34m()\u001b[0m\n",
      "File \u001b[0;32mpandas/_libs/hashtable_class_helper.pxi:4554\u001b[0m, in \u001b[0;36mpandas._libs.hashtable.PyObjectHashTable.get_item\u001b[0;34m()\u001b[0m\n",
      "File \u001b[0;32mpandas/_libs/hashtable_class_helper.pxi:4562\u001b[0m, in \u001b[0;36mpandas._libs.hashtable.PyObjectHashTable.get_item\u001b[0;34m()\u001b[0m\n",
      "\u001b[0;31mKeyError\u001b[0m: 'analyst'",
      "\nThe above exception was the direct cause of the following exception:\n",
      "\u001b[0;31mKeyError\u001b[0m                                  Traceback (most recent call last)",
      "Cell \u001b[0;32mIn[155], line 1\u001b[0m\n\u001b[0;32m----> 1\u001b[0m y \u001b[38;5;241m=\u001b[39m \u001b[43mdf1\u001b[49m\u001b[43m[\u001b[49m\u001b[38;5;124;43m'\u001b[39;49m\u001b[38;5;124;43manalyst\u001b[39;49m\u001b[38;5;124;43m'\u001b[39;49m\u001b[43m]\u001b[49m\n",
      "File \u001b[0;32m~/miniconda3/lib/python3.9/site-packages/pandas/core/frame.py:3024\u001b[0m, in \u001b[0;36mDataFrame.__getitem__\u001b[0;34m(self, key)\u001b[0m\n\u001b[1;32m   3022\u001b[0m \u001b[38;5;28;01mif\u001b[39;00m \u001b[38;5;28mself\u001b[39m\u001b[38;5;241m.\u001b[39mcolumns\u001b[38;5;241m.\u001b[39mnlevels \u001b[38;5;241m>\u001b[39m \u001b[38;5;241m1\u001b[39m:\n\u001b[1;32m   3023\u001b[0m     \u001b[38;5;28;01mreturn\u001b[39;00m \u001b[38;5;28mself\u001b[39m\u001b[38;5;241m.\u001b[39m_getitem_multilevel(key)\n\u001b[0;32m-> 3024\u001b[0m indexer \u001b[38;5;241m=\u001b[39m \u001b[38;5;28;43mself\u001b[39;49m\u001b[38;5;241;43m.\u001b[39;49m\u001b[43mcolumns\u001b[49m\u001b[38;5;241;43m.\u001b[39;49m\u001b[43mget_loc\u001b[49m\u001b[43m(\u001b[49m\u001b[43mkey\u001b[49m\u001b[43m)\u001b[49m\n\u001b[1;32m   3025\u001b[0m \u001b[38;5;28;01mif\u001b[39;00m is_integer(indexer):\n\u001b[1;32m   3026\u001b[0m     indexer \u001b[38;5;241m=\u001b[39m [indexer]\n",
      "File \u001b[0;32m~/miniconda3/lib/python3.9/site-packages/pandas/core/indexes/base.py:3082\u001b[0m, in \u001b[0;36mIndex.get_loc\u001b[0;34m(self, key, method, tolerance)\u001b[0m\n\u001b[1;32m   3080\u001b[0m         \u001b[38;5;28;01mreturn\u001b[39;00m \u001b[38;5;28mself\u001b[39m\u001b[38;5;241m.\u001b[39m_engine\u001b[38;5;241m.\u001b[39mget_loc(casted_key)\n\u001b[1;32m   3081\u001b[0m     \u001b[38;5;28;01mexcept\u001b[39;00m \u001b[38;5;167;01mKeyError\u001b[39;00m \u001b[38;5;28;01mas\u001b[39;00m err:\n\u001b[0;32m-> 3082\u001b[0m         \u001b[38;5;28;01mraise\u001b[39;00m \u001b[38;5;167;01mKeyError\u001b[39;00m(key) \u001b[38;5;28;01mfrom\u001b[39;00m \u001b[38;5;21;01merr\u001b[39;00m\n\u001b[1;32m   3084\u001b[0m \u001b[38;5;28;01mif\u001b[39;00m tolerance \u001b[38;5;129;01mis\u001b[39;00m \u001b[38;5;129;01mnot\u001b[39;00m \u001b[38;5;28;01mNone\u001b[39;00m:\n\u001b[1;32m   3085\u001b[0m     tolerance \u001b[38;5;241m=\u001b[39m \u001b[38;5;28mself\u001b[39m\u001b[38;5;241m.\u001b[39m_convert_tolerance(tolerance, np\u001b[38;5;241m.\u001b[39masarray(key))\n",
      "\u001b[0;31mKeyError\u001b[0m: 'analyst'"
     ]
    }
   ],
   "source": [
    "y = df1['analyst']"
   ]
  },
  {
   "cell_type": "code",
   "execution_count": 156,
   "id": "098dd7c3-567b-4700-8804-c1e9e7a02a0e",
   "metadata": {},
   "outputs": [],
   "source": [
    "reg = LinearRegression()"
   ]
  },
  {
   "cell_type": "code",
   "execution_count": 157,
   "id": "5e298d8f-4e21-490f-adc6-36cdc3249793",
   "metadata": {},
   "outputs": [
    {
     "ename": "NameError",
     "evalue": "name 'y' is not defined",
     "output_type": "error",
     "traceback": [
      "\u001b[0;31m---------------------------------------------------------------------------\u001b[0m",
      "\u001b[0;31mNameError\u001b[0m                                 Traceback (most recent call last)",
      "Cell \u001b[0;32mIn[157], line 1\u001b[0m\n\u001b[0;32m----> 1\u001b[0m reg\u001b[38;5;241m.\u001b[39mfit(X, \u001b[43my\u001b[49m)\n",
      "\u001b[0;31mNameError\u001b[0m: name 'y' is not defined"
     ]
    }
   ],
   "source": [
    "reg.fit(X, y)"
   ]
  },
  {
   "cell_type": "code",
   "execution_count": 158,
   "id": "a80ba1ea-031b-4c77-9772-dc1b39026fe8",
   "metadata": {},
   "outputs": [
    {
     "ename": "NameError",
     "evalue": "name 'y' is not defined",
     "output_type": "error",
     "traceback": [
      "\u001b[0;31m---------------------------------------------------------------------------\u001b[0m",
      "\u001b[0;31mNameError\u001b[0m                                 Traceback (most recent call last)",
      "Cell \u001b[0;32mIn[158], line 1\u001b[0m\n\u001b[0;32m----> 1\u001b[0m reg\u001b[38;5;241m.\u001b[39mscore(X, \u001b[43my\u001b[49m)\n",
      "\u001b[0;31mNameError\u001b[0m: name 'y' is not defined"
     ]
    }
   ],
   "source": [
    "reg.score(X, y)"
   ]
  },
  {
   "cell_type": "code",
   "execution_count": 159,
   "id": "5b813af4-f469-4213-b797-1253afb14993",
   "metadata": {},
   "outputs": [
    {
     "ename": "AttributeError",
     "evalue": "'LinearRegression' object has no attribute 'coef_'",
     "output_type": "error",
     "traceback": [
      "\u001b[0;31m---------------------------------------------------------------------------\u001b[0m",
      "\u001b[0;31mAttributeError\u001b[0m                            Traceback (most recent call last)",
      "Cell \u001b[0;32mIn[159], line 1\u001b[0m\n\u001b[0;32m----> 1\u001b[0m \u001b[43mreg\u001b[49m\u001b[38;5;241;43m.\u001b[39;49m\u001b[43mcoef_\u001b[49m\n",
      "\u001b[0;31mAttributeError\u001b[0m: 'LinearRegression' object has no attribute 'coef_'"
     ]
    }
   ],
   "source": [
    "reg.coef_"
   ]
  },
  {
   "cell_type": "markdown",
   "id": "6f39fff1-37e1-4cb2-887b-690db17d2d93",
   "metadata": {},
   "source": [
    "**Итак, текст размечен для классификации. Теперь сегментация по \"О себе\".**"
   ]
  },
  {
   "cell_type": "markdown",
   "id": "f71f851d-944e-4e0f-90c0-438683385388",
   "metadata": {},
   "source": [
    "pre-processing"
   ]
  },
  {
   "cell_type": "markdown",
   "id": "02d2486a-79e9-4604-bfac-2dea44f477ff",
   "metadata": {},
   "source": [
    "Кластеризуем:"
   ]
  },
  {
   "cell_type": "code",
   "execution_count": 264,
   "id": "eb4db9d5-47b6-4589-96b9-6c7d22994fb1",
   "metadata": {},
   "outputs": [],
   "source": [
    "df = pd.read_csv('resumes_features.csv')"
   ]
  },
  {
   "cell_type": "code",
   "execution_count": 265,
   "id": "e2e6820d-3bc5-458c-8fec-d109b909fec0",
   "metadata": {},
   "outputs": [],
   "source": [
    "X = df['О себе, flat_tokens']"
   ]
  },
  {
   "cell_type": "code",
   "execution_count": 266,
   "id": "0c56b97e-9b09-47d4-bb19-ebed2354ba62",
   "metadata": {},
   "outputs": [
    {
     "name": "stderr",
     "output_type": "stream",
     "text": [
      "/var/folders/0k/pk7zyw6x2sqcjpbqvgf0ssh80000gn/T/ipykernel_9955/3779291681.py:3: SettingWithCopyWarning: \n",
      "A value is trying to be set on a copy of a slice from a DataFrame\n",
      "\n",
      "See the caveats in the documentation: https://pandas.pydata.org/pandas-docs/stable/user_guide/indexing.html#returning-a-view-versus-a-copy\n",
      "  X[i] = X[i].replace('\\n', '').replace('[ ', '').replace(' ]', '').replace('  ', ' ').replace('  ', ' ').replace('  ', ' ').replace('[', '').replace(']', '').split(' ')\n",
      "/var/folders/0k/pk7zyw6x2sqcjpbqvgf0ssh80000gn/T/ipykernel_9955/3779291681.py:4: SettingWithCopyWarning: \n",
      "A value is trying to be set on a copy of a slice from a DataFrame\n",
      "\n",
      "See the caveats in the documentation: https://pandas.pydata.org/pandas-docs/stable/user_guide/indexing.html#returning-a-view-versus-a-copy\n",
      "  X[i] = [float(i) for i in X[i]]\n"
     ]
    }
   ],
   "source": [
    "for i in range(len(X)):\n",
    "    # print(i)\n",
    "    X[i] = X[i].replace('\\n', '').replace('[ ', '').replace(' ]', '').replace('  ', ' ').replace('  ', ' ').replace('  ', ' ').replace('[', '').replace(']', '').split(' ')\n",
    "    X[i] = [float(i) for i in X[i]]"
   ]
  },
  {
   "cell_type": "code",
   "execution_count": 289,
   "id": "830511b1-229d-43b6-a5ee-32a70c015a6b",
   "metadata": {},
   "outputs": [
    {
     "data": {
      "text/plain": [
       "0     [0.000295168342, -0.00154395448, -0.0013861381...\n",
       "1     [-0.0086196875, 0.003665738, 0.0051898835, 0.0...\n",
       "2     [-0.0011685997, 0.0012998827, -0.0025936777, 0...\n",
       "3     [-0.000407442392, 0.000587383693, 0.0008515791...\n",
       "4     [-0.00037161107, 0.00023680142, -0.00016213297...\n",
       "                            ...                        \n",
       "62    [-0.00049789756, -0.00054419227, -0.0025611392...\n",
       "63    [-0.00211551553, -0.000514384184, 0.0004572586...\n",
       "64    [7.9651163e-06, 2.841573e-05, 0.00020546571, 0...\n",
       "65    [0.00088479457, 0.00048863521, 0.00014909195, ...\n",
       "66    [-6.5130975e-05, -0.00063547277, -0.0009241980...\n",
       "Name: О себе, flat_tokens, Length: 67, dtype: object"
      ]
     },
     "execution_count": 289,
     "metadata": {},
     "output_type": "execute_result"
    }
   ],
   "source": [
    "pd.DataFrame(X)['О себе, flat_tokens']"
   ]
  },
  {
   "cell_type": "code",
   "execution_count": 288,
   "id": "b118ea5e-f2b2-4263-8f2f-9f84f8114c1f",
   "metadata": {},
   "outputs": [
    {
     "ename": "ValueError",
     "evalue": "setting an array element with a sequence.",
     "output_type": "error",
     "traceback": [
      "\u001b[0;31m---------------------------------------------------------------------------\u001b[0m",
      "\u001b[0;31mTypeError\u001b[0m                                 Traceback (most recent call last)",
      "\u001b[0;31mTypeError\u001b[0m: float() argument must be a string or a number, not 'list'",
      "\nThe above exception was the direct cause of the following exception:\n",
      "\u001b[0;31mValueError\u001b[0m                                Traceback (most recent call last)",
      "Cell \u001b[0;32mIn[288], line 16\u001b[0m\n\u001b[1;32m      6\u001b[0m \u001b[38;5;28;01mfrom\u001b[39;00m \u001b[38;5;21;01msklearn\u001b[39;00m\u001b[38;5;21;01m.\u001b[39;00m\u001b[38;5;21;01mpreprocessing\u001b[39;00m \u001b[38;5;28;01mimport\u001b[39;00m StandardScaler\n\u001b[1;32m      8\u001b[0m kmeans \u001b[38;5;241m=\u001b[39m KMeans(\n\u001b[1;32m      9\u001b[0m                 init\u001b[38;5;241m=\u001b[39m\u001b[38;5;124m\"\u001b[39m\u001b[38;5;124mrandom\u001b[39m\u001b[38;5;124m\"\u001b[39m,\n\u001b[1;32m     10\u001b[0m                 n_clusters\u001b[38;5;241m=\u001b[39m\u001b[38;5;241m3\u001b[39m,\n\u001b[0;32m   (...)\u001b[0m\n\u001b[1;32m     13\u001b[0m                 random_state\u001b[38;5;241m=\u001b[39m\u001b[38;5;241m42\u001b[39m\n\u001b[1;32m     14\u001b[0m             )\n\u001b[0;32m---> 16\u001b[0m \u001b[43mkmeans\u001b[49m\u001b[38;5;241;43m.\u001b[39;49m\u001b[43mfit\u001b[49m\u001b[43m(\u001b[49m\u001b[43mpd\u001b[49m\u001b[38;5;241;43m.\u001b[39;49m\u001b[43mDataFrame\u001b[49m\u001b[43m(\u001b[49m\u001b[43mX\u001b[49m\u001b[43m)\u001b[49m\u001b[43m)\u001b[49m\n",
      "File \u001b[0;32m~/miniconda3/lib/python3.9/site-packages/sklearn/cluster/_kmeans.py:979\u001b[0m, in \u001b[0;36mKMeans.fit\u001b[0;34m(self, X, y, sample_weight)\u001b[0m\n\u001b[1;32m    953\u001b[0m \u001b[38;5;28;01mdef\u001b[39;00m \u001b[38;5;21mfit\u001b[39m(\u001b[38;5;28mself\u001b[39m, X, y\u001b[38;5;241m=\u001b[39m\u001b[38;5;28;01mNone\u001b[39;00m, sample_weight\u001b[38;5;241m=\u001b[39m\u001b[38;5;28;01mNone\u001b[39;00m):\n\u001b[1;32m    954\u001b[0m     \u001b[38;5;124;03m\"\"\"Compute k-means clustering.\u001b[39;00m\n\u001b[1;32m    955\u001b[0m \n\u001b[1;32m    956\u001b[0m \u001b[38;5;124;03m    Parameters\u001b[39;00m\n\u001b[0;32m   (...)\u001b[0m\n\u001b[1;32m    977\u001b[0m \u001b[38;5;124;03m        Fitted estimator.\u001b[39;00m\n\u001b[1;32m    978\u001b[0m \u001b[38;5;124;03m    \"\"\"\u001b[39;00m\n\u001b[0;32m--> 979\u001b[0m     X \u001b[38;5;241m=\u001b[39m \u001b[38;5;28;43mself\u001b[39;49m\u001b[38;5;241;43m.\u001b[39;49m\u001b[43m_validate_data\u001b[49m\u001b[43m(\u001b[49m\u001b[43mX\u001b[49m\u001b[43m,\u001b[49m\u001b[43m \u001b[49m\u001b[43maccept_sparse\u001b[49m\u001b[38;5;241;43m=\u001b[39;49m\u001b[38;5;124;43m'\u001b[39;49m\u001b[38;5;124;43mcsr\u001b[39;49m\u001b[38;5;124;43m'\u001b[39;49m\u001b[43m,\u001b[49m\n\u001b[1;32m    980\u001b[0m \u001b[43m                            \u001b[49m\u001b[43mdtype\u001b[49m\u001b[38;5;241;43m=\u001b[39;49m\u001b[43m[\u001b[49m\u001b[43mnp\u001b[49m\u001b[38;5;241;43m.\u001b[39;49m\u001b[43mfloat64\u001b[49m\u001b[43m,\u001b[49m\u001b[43m \u001b[49m\u001b[43mnp\u001b[49m\u001b[38;5;241;43m.\u001b[39;49m\u001b[43mfloat32\u001b[49m\u001b[43m]\u001b[49m\u001b[43m,\u001b[49m\n\u001b[1;32m    981\u001b[0m \u001b[43m                            \u001b[49m\u001b[43morder\u001b[49m\u001b[38;5;241;43m=\u001b[39;49m\u001b[38;5;124;43m'\u001b[39;49m\u001b[38;5;124;43mC\u001b[39;49m\u001b[38;5;124;43m'\u001b[39;49m\u001b[43m,\u001b[49m\u001b[43m \u001b[49m\u001b[43mcopy\u001b[49m\u001b[38;5;241;43m=\u001b[39;49m\u001b[38;5;28;43mself\u001b[39;49m\u001b[38;5;241;43m.\u001b[39;49m\u001b[43mcopy_x\u001b[49m\u001b[43m,\u001b[49m\n\u001b[1;32m    982\u001b[0m \u001b[43m                            \u001b[49m\u001b[43maccept_large_sparse\u001b[49m\u001b[38;5;241;43m=\u001b[39;49m\u001b[38;5;28;43;01mFalse\u001b[39;49;00m\u001b[43m)\u001b[49m\n\u001b[1;32m    984\u001b[0m     \u001b[38;5;28mself\u001b[39m\u001b[38;5;241m.\u001b[39m_check_params(X)\n\u001b[1;32m    985\u001b[0m     random_state \u001b[38;5;241m=\u001b[39m check_random_state(\u001b[38;5;28mself\u001b[39m\u001b[38;5;241m.\u001b[39mrandom_state)\n",
      "File \u001b[0;32m~/miniconda3/lib/python3.9/site-packages/sklearn/base.py:421\u001b[0m, in \u001b[0;36mBaseEstimator._validate_data\u001b[0;34m(self, X, y, reset, validate_separately, **check_params)\u001b[0m\n\u001b[1;32m    419\u001b[0m     out \u001b[38;5;241m=\u001b[39m X\n\u001b[1;32m    420\u001b[0m \u001b[38;5;28;01melif\u001b[39;00m \u001b[38;5;28misinstance\u001b[39m(y, \u001b[38;5;28mstr\u001b[39m) \u001b[38;5;129;01mand\u001b[39;00m y \u001b[38;5;241m==\u001b[39m \u001b[38;5;124m'\u001b[39m\u001b[38;5;124mno_validation\u001b[39m\u001b[38;5;124m'\u001b[39m:\n\u001b[0;32m--> 421\u001b[0m     X \u001b[38;5;241m=\u001b[39m \u001b[43mcheck_array\u001b[49m\u001b[43m(\u001b[49m\u001b[43mX\u001b[49m\u001b[43m,\u001b[49m\u001b[43m \u001b[49m\u001b[38;5;241;43m*\u001b[39;49m\u001b[38;5;241;43m*\u001b[39;49m\u001b[43mcheck_params\u001b[49m\u001b[43m)\u001b[49m\n\u001b[1;32m    422\u001b[0m     out \u001b[38;5;241m=\u001b[39m X\n\u001b[1;32m    423\u001b[0m \u001b[38;5;28;01melse\u001b[39;00m:\n",
      "File \u001b[0;32m~/miniconda3/lib/python3.9/site-packages/sklearn/utils/validation.py:63\u001b[0m, in \u001b[0;36m_deprecate_positional_args.<locals>._inner_deprecate_positional_args.<locals>.inner_f\u001b[0;34m(*args, **kwargs)\u001b[0m\n\u001b[1;32m     61\u001b[0m extra_args \u001b[38;5;241m=\u001b[39m \u001b[38;5;28mlen\u001b[39m(args) \u001b[38;5;241m-\u001b[39m \u001b[38;5;28mlen\u001b[39m(all_args)\n\u001b[1;32m     62\u001b[0m \u001b[38;5;28;01mif\u001b[39;00m extra_args \u001b[38;5;241m<\u001b[39m\u001b[38;5;241m=\u001b[39m \u001b[38;5;241m0\u001b[39m:\n\u001b[0;32m---> 63\u001b[0m     \u001b[38;5;28;01mreturn\u001b[39;00m \u001b[43mf\u001b[49m\u001b[43m(\u001b[49m\u001b[38;5;241;43m*\u001b[39;49m\u001b[43margs\u001b[49m\u001b[43m,\u001b[49m\u001b[43m \u001b[49m\u001b[38;5;241;43m*\u001b[39;49m\u001b[38;5;241;43m*\u001b[39;49m\u001b[43mkwargs\u001b[49m\u001b[43m)\u001b[49m\n\u001b[1;32m     65\u001b[0m \u001b[38;5;66;03m# extra_args > 0\u001b[39;00m\n\u001b[1;32m     66\u001b[0m args_msg \u001b[38;5;241m=\u001b[39m [\u001b[38;5;124m'\u001b[39m\u001b[38;5;132;01m{}\u001b[39;00m\u001b[38;5;124m=\u001b[39m\u001b[38;5;132;01m{}\u001b[39;00m\u001b[38;5;124m'\u001b[39m\u001b[38;5;241m.\u001b[39mformat(name, arg)\n\u001b[1;32m     67\u001b[0m             \u001b[38;5;28;01mfor\u001b[39;00m name, arg \u001b[38;5;129;01min\u001b[39;00m \u001b[38;5;28mzip\u001b[39m(kwonly_args[:extra_args],\n\u001b[1;32m     68\u001b[0m                                  args[\u001b[38;5;241m-\u001b[39mextra_args:])]\n",
      "File \u001b[0;32m~/miniconda3/lib/python3.9/site-packages/sklearn/utils/validation.py:673\u001b[0m, in \u001b[0;36mcheck_array\u001b[0;34m(array, accept_sparse, accept_large_sparse, dtype, order, copy, force_all_finite, ensure_2d, allow_nd, ensure_min_samples, ensure_min_features, estimator)\u001b[0m\n\u001b[1;32m    671\u001b[0m         array \u001b[38;5;241m=\u001b[39m array\u001b[38;5;241m.\u001b[39mastype(dtype, casting\u001b[38;5;241m=\u001b[39m\u001b[38;5;124m\"\u001b[39m\u001b[38;5;124munsafe\u001b[39m\u001b[38;5;124m\"\u001b[39m, copy\u001b[38;5;241m=\u001b[39m\u001b[38;5;28;01mFalse\u001b[39;00m)\n\u001b[1;32m    672\u001b[0m     \u001b[38;5;28;01melse\u001b[39;00m:\n\u001b[0;32m--> 673\u001b[0m         array \u001b[38;5;241m=\u001b[39m \u001b[43mnp\u001b[49m\u001b[38;5;241;43m.\u001b[39;49m\u001b[43masarray\u001b[49m\u001b[43m(\u001b[49m\u001b[43marray\u001b[49m\u001b[43m,\u001b[49m\u001b[43m \u001b[49m\u001b[43morder\u001b[49m\u001b[38;5;241;43m=\u001b[39;49m\u001b[43morder\u001b[49m\u001b[43m,\u001b[49m\u001b[43m \u001b[49m\u001b[43mdtype\u001b[49m\u001b[38;5;241;43m=\u001b[39;49m\u001b[43mdtype\u001b[49m\u001b[43m)\u001b[49m\n\u001b[1;32m    674\u001b[0m \u001b[38;5;28;01mexcept\u001b[39;00m ComplexWarning \u001b[38;5;28;01mas\u001b[39;00m complex_warning:\n\u001b[1;32m    675\u001b[0m     \u001b[38;5;28;01mraise\u001b[39;00m \u001b[38;5;167;01mValueError\u001b[39;00m(\u001b[38;5;124m\"\u001b[39m\u001b[38;5;124mComplex data not supported\u001b[39m\u001b[38;5;130;01m\\n\u001b[39;00m\u001b[38;5;124m\"\u001b[39m\n\u001b[1;32m    676\u001b[0m                      \u001b[38;5;124m\"\u001b[39m\u001b[38;5;132;01m{}\u001b[39;00m\u001b[38;5;130;01m\\n\u001b[39;00m\u001b[38;5;124m\"\u001b[39m\u001b[38;5;241m.\u001b[39mformat(array)) \u001b[38;5;28;01mfrom\u001b[39;00m \u001b[38;5;21;01mcomplex_warning\u001b[39;00m\n",
      "File \u001b[0;32m~/miniconda3/lib/python3.9/site-packages/numpy/core/_asarray.py:102\u001b[0m, in \u001b[0;36masarray\u001b[0;34m(a, dtype, order, like)\u001b[0m\n\u001b[1;32m     99\u001b[0m \u001b[38;5;28;01mif\u001b[39;00m like \u001b[38;5;129;01mis\u001b[39;00m \u001b[38;5;129;01mnot\u001b[39;00m \u001b[38;5;28;01mNone\u001b[39;00m:\n\u001b[1;32m    100\u001b[0m     \u001b[38;5;28;01mreturn\u001b[39;00m _asarray_with_like(a, dtype\u001b[38;5;241m=\u001b[39mdtype, order\u001b[38;5;241m=\u001b[39morder, like\u001b[38;5;241m=\u001b[39mlike)\n\u001b[0;32m--> 102\u001b[0m \u001b[38;5;28;01mreturn\u001b[39;00m \u001b[43marray\u001b[49m\u001b[43m(\u001b[49m\u001b[43ma\u001b[49m\u001b[43m,\u001b[49m\u001b[43m \u001b[49m\u001b[43mdtype\u001b[49m\u001b[43m,\u001b[49m\u001b[43m \u001b[49m\u001b[43mcopy\u001b[49m\u001b[38;5;241;43m=\u001b[39;49m\u001b[38;5;28;43;01mFalse\u001b[39;49;00m\u001b[43m,\u001b[49m\u001b[43m \u001b[49m\u001b[43morder\u001b[49m\u001b[38;5;241;43m=\u001b[39;49m\u001b[43morder\u001b[49m\u001b[43m)\u001b[49m\n",
      "File \u001b[0;32m~/miniconda3/lib/python3.9/site-packages/pandas/core/generic.py:1899\u001b[0m, in \u001b[0;36mNDFrame.__array__\u001b[0;34m(self, dtype)\u001b[0m\n\u001b[1;32m   1898\u001b[0m \u001b[38;5;28;01mdef\u001b[39;00m \u001b[38;5;21m__array__\u001b[39m(\u001b[38;5;28mself\u001b[39m, dtype\u001b[38;5;241m=\u001b[39m\u001b[38;5;28;01mNone\u001b[39;00m) \u001b[38;5;241m-\u001b[39m\u001b[38;5;241m>\u001b[39m np\u001b[38;5;241m.\u001b[39mndarray:\n\u001b[0;32m-> 1899\u001b[0m     \u001b[38;5;28;01mreturn\u001b[39;00m \u001b[43mnp\u001b[49m\u001b[38;5;241;43m.\u001b[39;49m\u001b[43masarray\u001b[49m\u001b[43m(\u001b[49m\u001b[38;5;28;43mself\u001b[39;49m\u001b[38;5;241;43m.\u001b[39;49m\u001b[43m_values\u001b[49m\u001b[43m,\u001b[49m\u001b[43m \u001b[49m\u001b[43mdtype\u001b[49m\u001b[38;5;241;43m=\u001b[39;49m\u001b[43mdtype\u001b[49m\u001b[43m)\u001b[49m\n",
      "File \u001b[0;32m~/miniconda3/lib/python3.9/site-packages/numpy/core/_asarray.py:102\u001b[0m, in \u001b[0;36masarray\u001b[0;34m(a, dtype, order, like)\u001b[0m\n\u001b[1;32m     99\u001b[0m \u001b[38;5;28;01mif\u001b[39;00m like \u001b[38;5;129;01mis\u001b[39;00m \u001b[38;5;129;01mnot\u001b[39;00m \u001b[38;5;28;01mNone\u001b[39;00m:\n\u001b[1;32m    100\u001b[0m     \u001b[38;5;28;01mreturn\u001b[39;00m _asarray_with_like(a, dtype\u001b[38;5;241m=\u001b[39mdtype, order\u001b[38;5;241m=\u001b[39morder, like\u001b[38;5;241m=\u001b[39mlike)\n\u001b[0;32m--> 102\u001b[0m \u001b[38;5;28;01mreturn\u001b[39;00m \u001b[43marray\u001b[49m\u001b[43m(\u001b[49m\u001b[43ma\u001b[49m\u001b[43m,\u001b[49m\u001b[43m \u001b[49m\u001b[43mdtype\u001b[49m\u001b[43m,\u001b[49m\u001b[43m \u001b[49m\u001b[43mcopy\u001b[49m\u001b[38;5;241;43m=\u001b[39;49m\u001b[38;5;28;43;01mFalse\u001b[39;49;00m\u001b[43m,\u001b[49m\u001b[43m \u001b[49m\u001b[43morder\u001b[49m\u001b[38;5;241;43m=\u001b[39;49m\u001b[43morder\u001b[49m\u001b[43m)\u001b[49m\n",
      "\u001b[0;31mValueError\u001b[0m: setting an array element with a sequence."
     ]
    }
   ],
   "source": [
    "import matplotlib.pyplot as plt\n",
    "from kneed import KneeLocator\n",
    "from sklearn.datasets import make_blobs\n",
    "from sklearn.cluster import KMeans\n",
    "from sklearn.metrics import silhouette_score\n",
    "from sklearn.preprocessing import StandardScaler\n",
    "\n",
    "kmeans = KMeans(\n",
    "                init=\"random\",\n",
    "                n_clusters=3,\n",
    "                n_init=10,\n",
    "                max_iter=300,\n",
    "                random_state=42\n",
    "            )\n",
    "\n",
    "kmeans.fit(pd.DataFrame(X))"
   ]
  },
  {
   "cell_type": "code",
   "execution_count": 40,
   "id": "ae4b5fc9-a5fe-4bc0-b9fc-fc55e6df444a",
   "metadata": {
    "tags": []
   },
   "outputs": [
    {
     "ename": "NameError",
     "evalue": "name 'embs_flattened' is not defined",
     "output_type": "error",
     "traceback": [
      "\u001b[0;31m---------------------------------------------------------------------------\u001b[0m",
      "\u001b[0;31mNameError\u001b[0m                                 Traceback (most recent call last)",
      "Cell \u001b[0;32mIn[40], line 1\u001b[0m\n\u001b[0;32m----> 1\u001b[0m \u001b[38;5;28;01mfor\u001b[39;00m x \u001b[38;5;129;01min\u001b[39;00m \u001b[43membs_flattened\u001b[49m:\n\u001b[1;32m      2\u001b[0m     \u001b[38;5;28mprint\u001b[39m(\u001b[38;5;28mlen\u001b[39m(x))\n",
      "\u001b[0;31mNameError\u001b[0m: name 'embs_flattened' is not defined"
     ]
    }
   ],
   "source": [
    "for x in embs_flattened:\n",
    "    print(len(x))"
   ]
  },
  {
   "cell_type": "markdown",
   "id": "ee34e113-a6fd-4285-8779-881abf3889c3",
   "metadata": {},
   "source": [
    "Почитать:\n",
    "\n",
    "Тоже уменьшить как-то размер ноутбука"
   ]
  },
  {
   "cell_type": "code",
   "execution_count": 16,
   "id": "3407cf0b-141e-4b02-aa4c-56d1fe607d55",
   "metadata": {},
   "outputs": [
    {
     "data": {
      "text/plain": [
       "array([2, 2, 2, 2, 2, 1, 2, 2, 2, 2, 1, 2, 0, 0, 2, 0, 0, 2, 2, 2, 0, 2,\n",
       "       2, 0, 0, 2, 0, 0, 0, 0, 2, 2, 2, 2, 0, 0, 2, 1, 0, 0, 0, 0, 1, 0,\n",
       "       2, 2, 0, 2, 0, 0, 2, 1, 0, 2, 0, 0, 0, 0, 0, 0, 2, 2, 2, 0, 0, 2,\n",
       "       0], dtype=int32)"
      ]
     },
     "execution_count": 16,
     "metadata": {},
     "output_type": "execute_result"
    }
   ],
   "source": [
    "kmeans.labels_"
   ]
  },
  {
   "cell_type": "code",
   "execution_count": 17,
   "id": "db9068fb-b97b-4985-bed8-d219735baa14",
   "metadata": {},
   "outputs": [],
   "source": [
    "# kmeans.predict([[0, 0], [12, 3]])"
   ]
  },
  {
   "cell_type": "code",
   "execution_count": 18,
   "id": "3c2f8c96-5c67-4557-9e98-b9b882835f70",
   "metadata": {},
   "outputs": [
    {
     "data": {
      "text/plain": [
       "array([0, 1, 2], dtype=int32)"
      ]
     },
     "execution_count": 18,
     "metadata": {},
     "output_type": "execute_result"
    }
   ],
   "source": [
    "np.unique(kmeans.labels_)"
   ]
  },
  {
   "cell_type": "code",
   "execution_count": 19,
   "id": "43d8b925-87b3-48dc-b644-ba545f842197",
   "metadata": {
    "tags": []
   },
   "outputs": [
    {
     "data": {
      "text/html": [
       "<div>\n",
       "<style scoped>\n",
       "    .dataframe tbody tr th:only-of-type {\n",
       "        vertical-align: middle;\n",
       "    }\n",
       "\n",
       "    .dataframe tbody tr th {\n",
       "        vertical-align: top;\n",
       "    }\n",
       "\n",
       "    .dataframe thead th {\n",
       "        text-align: right;\n",
       "    }\n",
       "</style>\n",
       "<table border=\"1\" class=\"dataframe\">\n",
       "  <thead>\n",
       "    <tr style=\"text-align: right;\">\n",
       "      <th></th>\n",
       "      <th>Кол-во образований</th>\n",
       "      <th>Кол-во образований</th>\n",
       "    </tr>\n",
       "  </thead>\n",
       "  <tbody>\n",
       "    <tr>\n",
       "      <th>0</th>\n",
       "      <td>1</td>\n",
       "      <td>1</td>\n",
       "    </tr>\n",
       "    <tr>\n",
       "      <th>1</th>\n",
       "      <td>1</td>\n",
       "      <td>1</td>\n",
       "    </tr>\n",
       "    <tr>\n",
       "      <th>2</th>\n",
       "      <td>1</td>\n",
       "      <td>1</td>\n",
       "    </tr>\n",
       "    <tr>\n",
       "      <th>3</th>\n",
       "      <td>1</td>\n",
       "      <td>1</td>\n",
       "    </tr>\n",
       "    <tr>\n",
       "      <th>4</th>\n",
       "      <td>1</td>\n",
       "      <td>1</td>\n",
       "    </tr>\n",
       "    <tr>\n",
       "      <th>...</th>\n",
       "      <td>...</td>\n",
       "      <td>...</td>\n",
       "    </tr>\n",
       "    <tr>\n",
       "      <th>62</th>\n",
       "      <td>1</td>\n",
       "      <td>1</td>\n",
       "    </tr>\n",
       "    <tr>\n",
       "      <th>63</th>\n",
       "      <td>2</td>\n",
       "      <td>2</td>\n",
       "    </tr>\n",
       "    <tr>\n",
       "      <th>64</th>\n",
       "      <td>2</td>\n",
       "      <td>2</td>\n",
       "    </tr>\n",
       "    <tr>\n",
       "      <th>65</th>\n",
       "      <td>1</td>\n",
       "      <td>1</td>\n",
       "    </tr>\n",
       "    <tr>\n",
       "      <th>66</th>\n",
       "      <td>3</td>\n",
       "      <td>3</td>\n",
       "    </tr>\n",
       "  </tbody>\n",
       "</table>\n",
       "<p>67 rows × 2 columns</p>\n",
       "</div>"
      ],
      "text/plain": [
       "    Кол-во образований  Кол-во образований\n",
       "0                    1                   1\n",
       "1                    1                   1\n",
       "2                    1                   1\n",
       "3                    1                   1\n",
       "4                    1                   1\n",
       "..                 ...                 ...\n",
       "62                   1                   1\n",
       "63                   2                   2\n",
       "64                   2                   2\n",
       "65                   1                   1\n",
       "66                   3                   3\n",
       "\n",
       "[67 rows x 2 columns]"
      ]
     },
     "execution_count": 19,
     "metadata": {},
     "output_type": "execute_result"
    }
   ],
   "source": [
    "X"
   ]
  },
  {
   "cell_type": "markdown",
   "id": "65b12c26-c144-4c76-add0-b25e5324eaf3",
   "metadata": {},
   "source": [
    "t-sne analysis"
   ]
  },
  {
   "cell_type": "code",
   "execution_count": 20,
   "id": "1fb363ae-dcac-41d0-925b-0d90263f7cc4",
   "metadata": {},
   "outputs": [],
   "source": [
    "from sklearn.preprocessing import StandardScaler\n",
    "from sklearn.decomposition import PCA\n",
    "\n",
    "scaler = StandardScaler()\n",
    "x = scaler.fit_transform(X)"
   ]
  },
  {
   "cell_type": "code",
   "execution_count": 21,
   "id": "b78ce144-27df-4240-a4a0-dfd318dc3bf1",
   "metadata": {},
   "outputs": [
    {
     "data": {
      "text/plain": [
       "array([[-0.76663888, -0.76663888],\n",
       "       [-0.76663888, -0.76663888],\n",
       "       [-0.76663888, -0.76663888],\n",
       "       [-0.76663888, -0.76663888],\n",
       "       [-0.76663888, -0.76663888],\n",
       "       [ 2.83790882,  2.83790882],\n",
       "       [-0.76663888, -0.76663888],\n",
       "       [-0.76663888, -0.76663888],\n",
       "       [-0.76663888, -0.76663888],\n",
       "       [-0.76663888, -0.76663888],\n",
       "       [ 1.9367719 ,  1.9367719 ],\n",
       "       [-0.76663888, -0.76663888],\n",
       "       [ 1.03563497,  1.03563497],\n",
       "       [ 0.13449805,  0.13449805],\n",
       "       [-0.76663888, -0.76663888],\n",
       "       [ 0.13449805,  0.13449805],\n",
       "       [ 1.03563497,  1.03563497],\n",
       "       [-0.76663888, -0.76663888],\n",
       "       [-0.76663888, -0.76663888],\n",
       "       [-0.76663888, -0.76663888],\n",
       "       [ 0.13449805,  0.13449805],\n",
       "       [-0.76663888, -0.76663888],\n",
       "       [-0.76663888, -0.76663888],\n",
       "       [ 0.13449805,  0.13449805],\n",
       "       [ 0.13449805,  0.13449805],\n",
       "       [-0.76663888, -0.76663888],\n",
       "       [ 0.13449805,  0.13449805],\n",
       "       [ 0.13449805,  0.13449805],\n",
       "       [ 0.13449805,  0.13449805],\n",
       "       [ 0.13449805,  0.13449805],\n",
       "       [-0.76663888, -0.76663888],\n",
       "       [-0.76663888, -0.76663888],\n",
       "       [-0.76663888, -0.76663888],\n",
       "       [-0.76663888, -0.76663888],\n",
       "       [ 0.13449805,  0.13449805],\n",
       "       [ 1.03563497,  1.03563497],\n",
       "       [-0.76663888, -0.76663888],\n",
       "       [ 4.64018267,  4.64018267],\n",
       "       [ 0.13449805,  0.13449805],\n",
       "       [ 0.13449805,  0.13449805],\n",
       "       [ 0.13449805,  0.13449805],\n",
       "       [ 1.03563497,  1.03563497],\n",
       "       [ 1.9367719 ,  1.9367719 ],\n",
       "       [ 0.13449805,  0.13449805],\n",
       "       [-0.76663888, -0.76663888],\n",
       "       [-0.76663888, -0.76663888],\n",
       "       [ 0.13449805,  0.13449805],\n",
       "       [-0.76663888, -0.76663888],\n",
       "       [ 0.13449805,  0.13449805],\n",
       "       [ 1.03563497,  1.03563497],\n",
       "       [-0.76663888, -0.76663888],\n",
       "       [ 1.9367719 ,  1.9367719 ],\n",
       "       [ 0.13449805,  0.13449805],\n",
       "       [-0.76663888, -0.76663888],\n",
       "       [ 0.13449805,  0.13449805],\n",
       "       [ 0.13449805,  0.13449805],\n",
       "       [ 0.13449805,  0.13449805],\n",
       "       [ 0.13449805,  0.13449805],\n",
       "       [ 0.13449805,  0.13449805],\n",
       "       [ 1.03563497,  1.03563497],\n",
       "       [-0.76663888, -0.76663888],\n",
       "       [-0.76663888, -0.76663888],\n",
       "       [-0.76663888, -0.76663888],\n",
       "       [ 0.13449805,  0.13449805],\n",
       "       [ 0.13449805,  0.13449805],\n",
       "       [-0.76663888, -0.76663888],\n",
       "       [ 1.03563497,  1.03563497]])"
      ]
     },
     "execution_count": 21,
     "metadata": {},
     "output_type": "execute_result"
    }
   ],
   "source": [
    "x"
   ]
  },
  {
   "cell_type": "code",
   "execution_count": 22,
   "id": "75e48e79-c0a4-4cc0-a032-a412392e2f6d",
   "metadata": {},
   "outputs": [
    {
     "ename": "ValueError",
     "evalue": "n_components=3 must be between 0 and min(n_samples, n_features)=2 with svd_solver='full'",
     "output_type": "error",
     "traceback": [
      "\u001b[0;31m---------------------------------------------------------------------------\u001b[0m",
      "\u001b[0;31mValueError\u001b[0m                                Traceback (most recent call last)",
      "Cell \u001b[0;32mIn[22], line 2\u001b[0m\n\u001b[1;32m      1\u001b[0m pca \u001b[38;5;241m=\u001b[39m PCA(n_components\u001b[38;5;241m=\u001b[39m\u001b[38;5;241m3\u001b[39m)\n\u001b[0;32m----> 2\u001b[0m principalComponents \u001b[38;5;241m=\u001b[39m \u001b[43mpca\u001b[49m\u001b[38;5;241;43m.\u001b[39;49m\u001b[43mfit_transform\u001b[49m\u001b[43m(\u001b[49m\u001b[43mx\u001b[49m\u001b[43m)\u001b[49m\n\u001b[1;32m      3\u001b[0m principal \u001b[38;5;241m=\u001b[39m pd\u001b[38;5;241m.\u001b[39mDataFrame(data \u001b[38;5;241m=\u001b[39m principalComponents\n\u001b[1;32m      4\u001b[0m              , columns \u001b[38;5;241m=\u001b[39m [\u001b[38;5;124m'\u001b[39m\u001b[38;5;124mprincipal component 1\u001b[39m\u001b[38;5;124m'\u001b[39m, \u001b[38;5;124m'\u001b[39m\u001b[38;5;124mprincipal component 2\u001b[39m\u001b[38;5;124m'\u001b[39m,\u001b[38;5;124m'\u001b[39m\u001b[38;5;124mprincipal component 3\u001b[39m\u001b[38;5;124m'\u001b[39m])\n",
      "File \u001b[0;32m~/miniconda3/lib/python3.9/site-packages/sklearn/decomposition/_pca.py:383\u001b[0m, in \u001b[0;36mPCA.fit_transform\u001b[0;34m(self, X, y)\u001b[0m\n\u001b[1;32m    362\u001b[0m \u001b[38;5;28;01mdef\u001b[39;00m \u001b[38;5;21mfit_transform\u001b[39m(\u001b[38;5;28mself\u001b[39m, X, y\u001b[38;5;241m=\u001b[39m\u001b[38;5;28;01mNone\u001b[39;00m):\n\u001b[1;32m    363\u001b[0m     \u001b[38;5;124;03m\"\"\"Fit the model with X and apply the dimensionality reduction on X.\u001b[39;00m\n\u001b[1;32m    364\u001b[0m \n\u001b[1;32m    365\u001b[0m \u001b[38;5;124;03m    Parameters\u001b[39;00m\n\u001b[0;32m   (...)\u001b[0m\n\u001b[1;32m    381\u001b[0m \u001b[38;5;124;03m    C-ordered array, use 'np.ascontiguousarray'.\u001b[39;00m\n\u001b[1;32m    382\u001b[0m \u001b[38;5;124;03m    \"\"\"\u001b[39;00m\n\u001b[0;32m--> 383\u001b[0m     U, S, Vt \u001b[38;5;241m=\u001b[39m \u001b[38;5;28;43mself\u001b[39;49m\u001b[38;5;241;43m.\u001b[39;49m\u001b[43m_fit\u001b[49m\u001b[43m(\u001b[49m\u001b[43mX\u001b[49m\u001b[43m)\u001b[49m\n\u001b[1;32m    384\u001b[0m     U \u001b[38;5;241m=\u001b[39m U[:, :\u001b[38;5;28mself\u001b[39m\u001b[38;5;241m.\u001b[39mn_components_]\n\u001b[1;32m    386\u001b[0m     \u001b[38;5;28;01mif\u001b[39;00m \u001b[38;5;28mself\u001b[39m\u001b[38;5;241m.\u001b[39mwhiten:\n\u001b[1;32m    387\u001b[0m         \u001b[38;5;66;03m# X_new = X * V / S * sqrt(n_samples) = U * sqrt(n_samples)\u001b[39;00m\n",
      "File \u001b[0;32m~/miniconda3/lib/python3.9/site-packages/sklearn/decomposition/_pca.py:430\u001b[0m, in \u001b[0;36mPCA._fit\u001b[0;34m(self, X)\u001b[0m\n\u001b[1;32m    428\u001b[0m \u001b[38;5;66;03m# Call different fits for either full or truncated SVD\u001b[39;00m\n\u001b[1;32m    429\u001b[0m \u001b[38;5;28;01mif\u001b[39;00m \u001b[38;5;28mself\u001b[39m\u001b[38;5;241m.\u001b[39m_fit_svd_solver \u001b[38;5;241m==\u001b[39m \u001b[38;5;124m'\u001b[39m\u001b[38;5;124mfull\u001b[39m\u001b[38;5;124m'\u001b[39m:\n\u001b[0;32m--> 430\u001b[0m     \u001b[38;5;28;01mreturn\u001b[39;00m \u001b[38;5;28;43mself\u001b[39;49m\u001b[38;5;241;43m.\u001b[39;49m\u001b[43m_fit_full\u001b[49m\u001b[43m(\u001b[49m\u001b[43mX\u001b[49m\u001b[43m,\u001b[49m\u001b[43m \u001b[49m\u001b[43mn_components\u001b[49m\u001b[43m)\u001b[49m\n\u001b[1;32m    431\u001b[0m \u001b[38;5;28;01melif\u001b[39;00m \u001b[38;5;28mself\u001b[39m\u001b[38;5;241m.\u001b[39m_fit_svd_solver \u001b[38;5;129;01min\u001b[39;00m [\u001b[38;5;124m'\u001b[39m\u001b[38;5;124marpack\u001b[39m\u001b[38;5;124m'\u001b[39m, \u001b[38;5;124m'\u001b[39m\u001b[38;5;124mrandomized\u001b[39m\u001b[38;5;124m'\u001b[39m]:\n\u001b[1;32m    432\u001b[0m     \u001b[38;5;28;01mreturn\u001b[39;00m \u001b[38;5;28mself\u001b[39m\u001b[38;5;241m.\u001b[39m_fit_truncated(X, n_components, \u001b[38;5;28mself\u001b[39m\u001b[38;5;241m.\u001b[39m_fit_svd_solver)\n",
      "File \u001b[0;32m~/miniconda3/lib/python3.9/site-packages/sklearn/decomposition/_pca.py:446\u001b[0m, in \u001b[0;36mPCA._fit_full\u001b[0;34m(self, X, n_components)\u001b[0m\n\u001b[1;32m    443\u001b[0m         \u001b[38;5;28;01mraise\u001b[39;00m \u001b[38;5;167;01mValueError\u001b[39;00m(\u001b[38;5;124m\"\u001b[39m\u001b[38;5;124mn_components=\u001b[39m\u001b[38;5;124m'\u001b[39m\u001b[38;5;124mmle\u001b[39m\u001b[38;5;124m'\u001b[39m\u001b[38;5;124m is only supported \u001b[39m\u001b[38;5;124m\"\u001b[39m\n\u001b[1;32m    444\u001b[0m                          \u001b[38;5;124m\"\u001b[39m\u001b[38;5;124mif n_samples >= n_features\u001b[39m\u001b[38;5;124m\"\u001b[39m)\n\u001b[1;32m    445\u001b[0m \u001b[38;5;28;01melif\u001b[39;00m \u001b[38;5;129;01mnot\u001b[39;00m \u001b[38;5;241m0\u001b[39m \u001b[38;5;241m<\u001b[39m\u001b[38;5;241m=\u001b[39m n_components \u001b[38;5;241m<\u001b[39m\u001b[38;5;241m=\u001b[39m \u001b[38;5;28mmin\u001b[39m(n_samples, n_features):\n\u001b[0;32m--> 446\u001b[0m     \u001b[38;5;28;01mraise\u001b[39;00m \u001b[38;5;167;01mValueError\u001b[39;00m(\u001b[38;5;124m\"\u001b[39m\u001b[38;5;124mn_components=\u001b[39m\u001b[38;5;132;01m%r\u001b[39;00m\u001b[38;5;124m must be between 0 and \u001b[39m\u001b[38;5;124m\"\u001b[39m\n\u001b[1;32m    447\u001b[0m                      \u001b[38;5;124m\"\u001b[39m\u001b[38;5;124mmin(n_samples, n_features)=\u001b[39m\u001b[38;5;132;01m%r\u001b[39;00m\u001b[38;5;124m with \u001b[39m\u001b[38;5;124m\"\u001b[39m\n\u001b[1;32m    448\u001b[0m                      \u001b[38;5;124m\"\u001b[39m\u001b[38;5;124msvd_solver=\u001b[39m\u001b[38;5;124m'\u001b[39m\u001b[38;5;124mfull\u001b[39m\u001b[38;5;124m'\u001b[39m\u001b[38;5;124m\"\u001b[39m\n\u001b[1;32m    449\u001b[0m                      \u001b[38;5;241m%\u001b[39m (n_components, \u001b[38;5;28mmin\u001b[39m(n_samples, n_features)))\n\u001b[1;32m    450\u001b[0m \u001b[38;5;28;01melif\u001b[39;00m n_components \u001b[38;5;241m>\u001b[39m\u001b[38;5;241m=\u001b[39m \u001b[38;5;241m1\u001b[39m:\n\u001b[1;32m    451\u001b[0m     \u001b[38;5;28;01mif\u001b[39;00m \u001b[38;5;129;01mnot\u001b[39;00m \u001b[38;5;28misinstance\u001b[39m(n_components, numbers\u001b[38;5;241m.\u001b[39mIntegral):\n",
      "\u001b[0;31mValueError\u001b[0m: n_components=3 must be between 0 and min(n_samples, n_features)=2 with svd_solver='full'"
     ]
    }
   ],
   "source": [
    "pca = PCA(n_components=3)\n",
    "principalComponents = pca.fit_transform(x)\n",
    "principal = pd.DataFrame(data = principalComponents\n",
    "             , columns = ['principal component 1', 'principal component 2','principal component 3'])"
   ]
  },
  {
   "cell_type": "code",
   "execution_count": 23,
   "id": "78475417-4e2f-4db0-aad6-3f093565db23",
   "metadata": {},
   "outputs": [
    {
     "ename": "AttributeError",
     "evalue": "'PCA' object has no attribute 'explained_variance_ratio_'",
     "output_type": "error",
     "traceback": [
      "\u001b[0;31m---------------------------------------------------------------------------\u001b[0m",
      "\u001b[0;31mAttributeError\u001b[0m                            Traceback (most recent call last)",
      "Cell \u001b[0;32mIn[23], line 1\u001b[0m\n\u001b[0;32m----> 1\u001b[0m \u001b[43mpca\u001b[49m\u001b[38;5;241;43m.\u001b[39;49m\u001b[43mexplained_variance_ratio_\u001b[49m[:\u001b[38;5;241m2\u001b[39m]\u001b[38;5;241m.\u001b[39msum()\n",
      "\u001b[0;31mAttributeError\u001b[0m: 'PCA' object has no attribute 'explained_variance_ratio_'"
     ]
    }
   ],
   "source": [
    "pca.explained_variance_ratio_[:2].sum()"
   ]
  },
  {
   "cell_type": "code",
   "execution_count": 24,
   "id": "b19c3c67-2f9a-4484-bf44-12e7b0546878",
   "metadata": {},
   "outputs": [
    {
     "ename": "NameError",
     "evalue": "name 'principal' is not defined",
     "output_type": "error",
     "traceback": [
      "\u001b[0;31m---------------------------------------------------------------------------\u001b[0m",
      "\u001b[0;31mNameError\u001b[0m                                 Traceback (most recent call last)",
      "Cell \u001b[0;32mIn[24], line 1\u001b[0m\n\u001b[0;32m----> 1\u001b[0m \u001b[43mprincipal\u001b[49m\n",
      "\u001b[0;31mNameError\u001b[0m: name 'principal' is not defined"
     ]
    }
   ],
   "source": [
    "principal"
   ]
  },
  {
   "cell_type": "code",
   "execution_count": 25,
   "id": "66ef20fc-7ec9-40d9-bc30-a9e598a44770",
   "metadata": {},
   "outputs": [],
   "source": [
    "import seaborn as sns"
   ]
  },
  {
   "cell_type": "code",
   "execution_count": 26,
   "id": "a4cfacd7-17a7-431d-a38f-736693a82b88",
   "metadata": {},
   "outputs": [
    {
     "ename": "NameError",
     "evalue": "name 'principal' is not defined",
     "output_type": "error",
     "traceback": [
      "\u001b[0;31m---------------------------------------------------------------------------\u001b[0m",
      "\u001b[0;31mNameError\u001b[0m                                 Traceback (most recent call last)",
      "Cell \u001b[0;32mIn[26], line 1\u001b[0m\n\u001b[0;32m----> 1\u001b[0m sns\u001b[38;5;241m.\u001b[39mscatterplot(\u001b[43mprincipal\u001b[49m[\u001b[38;5;124m'\u001b[39m\u001b[38;5;124mprincipal component 1\u001b[39m\u001b[38;5;124m'\u001b[39m], principal[\u001b[38;5;124m'\u001b[39m\u001b[38;5;124mprincipal component 2\u001b[39m\u001b[38;5;124m'\u001b[39m])\n",
      "\u001b[0;31mNameError\u001b[0m: name 'principal' is not defined"
     ]
    }
   ],
   "source": [
    "sns.scatterplot(principal['principal component 1'], principal['principal component 2'])"
   ]
  },
  {
   "cell_type": "code",
   "execution_count": 64,
   "id": "c6aa6c20-831d-4e28-8abb-ccd47884a3c4",
   "metadata": {},
   "outputs": [],
   "source": [
    "from sklearn.cluster import KMeans\n",
    "kmeans = KMeans(n_clusters=4).fit(principal)\n",
    "l = kmeans.labels_"
   ]
  },
  {
   "cell_type": "code",
   "execution_count": 71,
   "id": "d3d1761d-440b-4174-9f9c-311eb5c9425a",
   "metadata": {},
   "outputs": [
    {
     "data": {
      "text/plain": [
       "<matplotlib.collections.PathCollection at 0x7fed005b7fd0>"
      ]
     },
     "execution_count": 71,
     "metadata": {},
     "output_type": "execute_result"
    },
    {
     "data": {
      "image/png": "[encoded data removed]",
      "text/plain": [
       "<Figure size 640x480 with 1 Axes>"
      ]
     },
     "metadata": {},
     "output_type": "display_data"
    }
   ],
   "source": [
    "plt.scatter(principal['principal component 1'], \n",
    "             principal['principal component 2'],\n",
    "             c=l,\n",
    "           )"
   ]
  },
  {
   "cell_type": "code",
   "execution_count": 67,
   "id": "b2f2187f-0fd1-4b3a-aeee-89c6593f1b32",
   "metadata": {},
   "outputs": [],
   "source": [
    "df['clust'] = l"
   ]
  },
  {
   "cell_type": "code",
   "execution_count": 73,
   "id": "e26c29d8-4a05-42b0-99b1-844cb97c446a",
   "metadata": {},
   "outputs": [
    {
     "data": {
      "text/plain": [
       "69       В последние годы я проходил обучение без возмо...\n",
       "178      В последние годы проходил обучение без возможн...\n",
       "324      В последние годы проходил обучение без возможн...\n",
       "911      В последние годы я проходила обучение без возм...\n",
       "1750     В последние годы я проходил обучение без возмо...\n",
       "                               ...                        \n",
       "19638    В последние годы я проходил обучение без возмо...\n",
       "19645    В последние годы проходил обучение без возможн...\n",
       "19667    В последние годы я проходил обучение без возмо...\n",
       "19728    В последние годы я проходил обучение без возмо...\n",
       "19765    В последние годы проходила обучение без возмож...\n",
       "Name: О себе, Length: 67, dtype: object"
      ]
     },
     "execution_count": 73,
     "metadata": {},
     "output_type": "execute_result"
    }
   ],
   "source": [
    "df.loc[df['clust']==1]['О себе']"
   ]
  },
  {
   "cell_type": "code",
   "execution_count": 74,
   "id": "82f5e044-228d-4874-8912-da64c3c8fd7c",
   "metadata": {},
   "outputs": [
    {
     "data": {
      "text/plain": [
       "0        Responsible, communicable, quick study and det...\n",
       "1        В последние годы проходила обучение без возмож...\n",
       "2                                                      ---\n",
       "3        Имею экономическое образование. Продвинутый по...\n",
       "4        Имеется опыт в создании Android-приложений на ...\n",
       "                               ...                        \n",
       "19813    Высокая работоспособность, вдумчивость, уравно...\n",
       "19814    Увлекаюсь спортом, вредные привычки отсутствую...\n",
       "19815    Уверенный пользователь ПК, работа с оргтехнико...\n",
       "19816    Я абсолютно честен и очень ответственен. Люблю...\n",
       "19817    I. ОБЩАЯ ПОДГОТОВЛЕННОСТЬ И ОПЫТ РАБОТЫ\\n\\nДел...\n",
       "Name: О себе, Length: 18774, dtype: object"
      ]
     },
     "execution_count": 74,
     "metadata": {},
     "output_type": "execute_result"
    }
   ],
   "source": [
    "df.loc[df['clust']==0]['О себе']"
   ]
  },
  {
   "cell_type": "code",
   "execution_count": 75,
   "id": "27170161-4ef5-485e-8a3a-1d94d2c03f5c",
   "metadata": {},
   "outputs": [
    {
     "data": {
      "text/plain": [
       "21       Аналитический склад ума, ответственная, пункту...\n",
       "40       Ответственный, исполнительный, целеустремленны...\n",
       "83       Аналитический склад ума, критическое мышление,...\n",
       "114      Аналитический склад ума, ответственность, стре...\n",
       "122      Аналитический склад ума. Системное мышление. Ц...\n",
       "                               ...                        \n",
       "19753    Аналитический склад ума, умение работать в ком...\n",
       "19771    Стрессоустойчивость, коммуникабельность, спосо...\n",
       "19776    Стрессоустойчивость, обучаемость, работа с бол...\n",
       "19782    умение работать в команде, общительность, целе...\n",
       "19788    Я быстро обучаюсь, всегда концентрирован на за...\n",
       "Name: О себе, Length: 641, dtype: object"
      ]
     },
     "execution_count": 75,
     "metadata": {},
     "output_type": "execute_result"
    }
   ],
   "source": [
    "df.loc[df['clust']==2]['О себе']"
   ]
  },
  {
   "cell_type": "code",
   "execution_count": 76,
   "id": "d4447182-479a-4390-a0c7-7af49fa459e3",
   "metadata": {},
   "outputs": [
    {
     "data": {
      "text/plain": [
       "Series([], Name: О себе, dtype: object)"
      ]
     },
     "execution_count": 76,
     "metadata": {},
     "output_type": "execute_result"
    }
   ],
   "source": [
    "df.loc[df['clust']==4]['О себе']"
   ]
  },
  {
   "cell_type": "markdown",
   "id": "00f62b41-ca08-4f5c-bb3a-9839afe1399d",
   "metadata": {},
   "source": [
    "итог: кластеры плохие, мб как раз дело в том, что слишком простой метод постреония эмбеддингов"
   ]
  },
  {
   "cell_type": "code",
   "execution_count": null,
   "id": "bfddffab-dad9-4aff-b283-77e80e2b9ee1",
   "metadata": {},
   "outputs": [],
   "source": [
    "df.iloc[0]['Ссылка']"
   ]
  },
  {
   "cell_type": "markdown",
   "id": "3c8b983b-531d-4974-bf49-e72b2617bcb2",
   "metadata": {},
   "source": [
    "**что дальше?**\n",
    "\n",
    "- 3 ноутбука с содержанием\n",
    "- разметка, образование\n",
    "- эксперименты с эмбеддингами [в таблице q | emb_w2v | emd d2v | etc.], моделями, учусь сравнивать supervised и semi-supervised"
   ]
  },
  {
   "cell_type": "markdown",
   "id": "0590f1c0-6667-4841-b239-94743ed8384d",
   "metadata": {},
   "source": [
    "Сравнение:\n",
    "- https://stats.stackexchange.com/questions/498580/semi-supervised-learning-vs-supervised\n",
    "- https://ifoadatascienceresearch.github.io/tutorial/comparison/\n",
    "- https://math.stackexchange.com/questions/3927928/semisupervised-vs-supervised-learning"
   ]
  },
  {
   "cell_type": "markdown",
   "id": "37debe0d-2c66-4c39-877d-437163059085",
   "metadata": {},
   "source": [
    "Интерпретировать результаты."
   ]
  },
  {
   "cell_type": "code",
   "execution_count": null,
   "id": "cd49b6c8-a3e3-472b-a45e-88061c0f1207",
   "metadata": {},
   "outputs": [],
   "source": []
  }
 ],
 "metadata": {
  "kernelspec": {
   "display_name": "Python 3 (ipykernel)",
   "language": "python",
   "name": "python3"
  },
  "language_info": {
   "codemirror_mode": {
    "name": "ipython",
    "version": 3
   },
   "file_extension": ".py",
   "mimetype": "text/x-python",
   "name": "python",
   "nbconvert_exporter": "python",
   "pygments_lexer": "ipython3",
   "version": "3.9.5"
  }
 },
 "nbformat": 4,
 "nbformat_minor": 5
}
