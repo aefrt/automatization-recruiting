{
 "cells": [
  {
   "cell_type": "markdown",
   "id": "af51e523-f6bf-4d14-8add-94f5fc6eba08",
   "metadata": {},
   "source": [
    "## ВКР"
   ]
  },
  {
   "cell_type": "markdown",
   "id": "91f09dd9-dee1-400c-ba31-ff2fb0414ae9",
   "metadata": {},
   "source": [
    "Автоматизация подбора персонала\n",
    "\n",
    "Копчев Владислав, БПМИ197"
   ]
  },
  {
   "cell_type": "markdown",
   "id": "36029f59-53eb-4271-9162-ab954d017cc6",
   "metadata": {},
   "source": [
    "### Библиотеки"
   ]
  },
  {
   "cell_type": "markdown",
   "id": "1879cb0b-afd0-46f0-96dd-e68cfe7365ee",
   "metadata": {},
   "source": [
    "selenium поскольку нужен js"
   ]
  },
  {
   "cell_type": "code",
   "execution_count": 1,
   "id": "464dd1a9-9029-4ef3-880e-8bcd33e90746",
   "metadata": {},
   "outputs": [],
   "source": [
    "from bs4 import BeautifulSoup\n",
    "import requests\n",
    "import pandas as pd\n",
    "from selenium import webdriver\n",
    "from selenium.webdriver.common.keys import Keys\n",
    "from selenium.webdriver.common.by import By\n",
    "from selenium.webdriver.support.ui import Select\n",
    "# !pip install transliterate\n",
    "from transliterate import translit"
   ]
  },
  {
   "cell_type": "markdown",
   "id": "fc5ff5b5-25b2-4892-a3c7-8fe3146aa81e",
   "metadata": {},
   "source": [
    "### Скрейпинг страницы со списком резюме"
   ]
  },
  {
   "cell_type": "markdown",
   "id": "6d233c2a-6ab0-42fa-a91a-c9b33b76f3d7",
   "metadata": {},
   "source": [
    "hh.ru не принимает названия с заглавными буквами:"
   ]
  },
  {
   "cell_type": "code",
   "execution_count": 64,
   "id": "3380cf8a-4b97-4411-b29a-a6cbf00a882b",
   "metadata": {},
   "outputs": [],
   "source": [
    "def normalize_translit(ru_query):\n",
    "    text = translit(ru_query, language_code='ru', reversed=True)\n",
    "    text = text.replace(' ', '-').replace('yj', 'yy').replace('yy-', 'yy_').replace('es-', 'es_').replace('k-pr', 'k_pr')  # эвристическое правило, не знаю, почему у hh так...\n",
    "    return text"
   ]
  },
  {
   "cell_type": "code",
   "execution_count": null,
   "id": "a77b03c6-22a9-45e2-a88f-55f43d073a2f",
   "metadata": {},
   "outputs": [],
   "source": [
    "driver = webdriver.Chrome('./chromedriver')"
   ]
  },
  {
   "cell_type": "code",
   "execution_count": 65,
   "id": "f1f311d6-c3d2-4a2c-9969-3f3f8a7b79b4",
   "metadata": {},
   "outputs": [
    {
     "name": "stderr",
     "output_type": "stream",
     "text": [
      "<ipython-input-65-3541302dc275>:1: DeprecationWarning: executable_path has been deprecated, please pass in a Service object\n",
      "  driver = webdriver.Chrome('./chromedriver')\n"
     ]
    }
   ],
   "source": [
    "def scrape(query, driver):\n",
    "    # ищем кол-во страниц\n",
    "    pages_count = 10  # соскрейпить это число иначе ошибки!\n",
    "    link = 'https://hh.ru/resumes/{}?items_on_page=100&page={}'.format(query, 0)\n",
    "    driver.get(link)\n",
    "    \n",
    "    pages_cnt_site = driver.find_elements(by=By.XPATH, value='//span[@class=\"pager-item-not-in-short-range\"]/a[@class=\"bloko-button\"][@rel=\"nofollow\"][@data-qa=\"pager-page\"]/span')\n",
    "    if pages_cnt_site:\n",
    "        pages_count = int(pages_cnt_site[-1].text)\n",
    "        # print(pages_count)\n",
    "    \n",
    "    for n in range(pages_count):  # проблема!!\n",
    "        link = 'https://hh.ru/resumes/{}?items_on_page=100&page={}'.format(query, n)  # 100 per page\n",
    "        driver.get(link)\n",
    "\n",
    "        resumes_list = driver.find_element(by=By.XPATH, value='//div[@class=\"resume-search-item__header\"]')\n",
    "        # resumes_list.click()  # стоп а зачем это...\n",
    "        resumes = resumes_list.find_element(by=By.XPATH, value='//div[@data-qa=\"resume-serp__results-search\"]').find_elements(by=By.XPATH, value='//a[@class=\"serp-item__title\"]')\n",
    "\n",
    "        resumes_parsed = []\n",
    "        for x in resumes:\n",
    "            resumes_parsed.append((x.text, x.get_attribute(\"href\")))\n",
    "\n",
    "        if n == 0:\n",
    "            df = pd.DataFrame(resumes_parsed, columns=['Вакансия', 'Ссылка'])\n",
    "            # print(len(resumes_parsed))\n",
    "        else:\n",
    "            # print(len(resumes_parsed))\n",
    "            df2 = pd.DataFrame(resumes_parsed, columns=['Вакансия', 'Ссылка'])  # , index=list(range(0 + 100 * n, 100 + 100 * n)) n00, ..., n99n = 0, ..., 49\n",
    "            df = pd.concat([df, df2])\n",
    "    \n",
    "    return df"
   ]
  },
  {
   "cell_type": "code",
   "execution_count": 66,
   "id": "6cfee91a-2275-4897-9388-52ff10ae503b",
   "metadata": {},
   "outputs": [],
   "source": [
    "analysts_list = ['аналитик bi',\n",
    "                'системный аналитик',\n",
    "                'бизнес аналитик',\n",
    "                'аналитик продаж',\n",
    "                'финансовый аналитик',\n",
    "                'аналитик данных',\n",
    "                'data analyst']\n",
    "analysts_map = dict()\n",
    "\n",
    "for analyst in analysts_list:\n",
    "    analysts_map[analyst] = scrape(normalize_translit(analyst), driver)\n",
    "    analysts_map[analyst].index = range(analysts_map[analyst].shape[0])"
   ]
  },
  {
   "cell_type": "markdown",
   "id": "99b757ab-35ff-4b8f-bb2f-dfcdf4d5509f",
   "metadata": {},
   "source": [
    "Конкатеннация результатов:"
   ]
  },
  {
   "cell_type": "code",
   "execution_count": 83,
   "id": "5c397d65-510a-40c0-9e18-9a51ed39aeb5",
   "metadata": {},
   "outputs": [],
   "source": [
    "df1 = pd.DataFrame()\n",
    "\n",
    "for analyst in analysts_list:\n",
    "    df2 = analysts_map[analyst]\n",
    "    df1 = pd.concat([df1, df2])\n",
    "    \n",
    "df1.index = range(df1.shape[0])\n",
    "df1.to_csv('resumes_all.csv')"
   ]
  },
  {
   "cell_type": "markdown",
   "id": "ff0c69ad-1610-4cdf-bf65-49c288d36000",
   "metadata": {},
   "source": [
    "### Скрейпинг страницы с конкретным резюме"
   ]
  },
  {
   "cell_type": "code",
   "execution_count": 68,
   "id": "0445c03a-02a9-4ba0-b6cf-d9bd909e055a",
   "metadata": {},
   "outputs": [],
   "source": [
    "def normalize(x):\n",
    "    if x:\n",
    "        x = x[0].text\n",
    "    else:\n",
    "        x = '---'  # так будет лучше чем просто ' '?\n",
    "    return x"
   ]
  },
  {
   "cell_type": "code",
   "execution_count": 78,
   "id": "437c3dd5-d4c4-4e6d-a8cf-e8aababc98c1",
   "metadata": {
    "tags": []
   },
   "outputs": [],
   "source": [
    "def scrape(link, driver):\n",
    "    driver.get(link)\n",
    "    comandirovka = driver.find_elements(by=By.XPATH, value='//div[@class=\"bloko-translate-guard\"]')\n",
    "    comandirovka = normalize(comandirovka)  # норм?\n",
    "    \n",
    "    opyt = driver.find_elements(by=By.XPATH, value='//span[@class=\"resume-block__title-text resume-block__title-text_sub\"]')\n",
    "    opyt = normalize(opyt)\n",
    "\n",
    "    about = driver.find_elements(by=By.XPATH, value='//div[@class=\"resume-block-container\"][@data-qa=\"resume-block-skills-content\"]')\n",
    "    about = normalize(about)\n",
    "        \n",
    "    educ = driver.find_elements(by=By.XPATH, value='//div[@class=\"resume-block\"][@data-qa=\"resume-block-education\"]')\n",
    "    educ = normalize(educ)\n",
    "        \n",
    "    inter = driver.find_elements(by=By.XPATH, value='//div[@class=\"resume-block-item-gap\"]')\n",
    "    inter = normalize(inter)\n",
    "        \n",
    "    inter2 = driver.find_elements(by=By.XPATH, value='//div[@class=\"key-skills-row\"][@data-qa=\"tags-key-skills\"]')\n",
    "    inter2 = normalize(inter2)\n",
    "    \n",
    "    # Образование; все написано не в том же стиле что и ^\n",
    "    \n",
    "    educ_val = '//div[@data-qa=\"resume-block-education\"][@class=\"resume-block\"]//div[@data-qa=\"resume-block-education-name\"]'\n",
    "    educ_ = driver.find_elements(by=By.XPATH, value=educ_val)\n",
    "    stepen_val = '//div[@data-qa=\"resume-block-education\"]//span[@class=\"resume-block__title-text resume-block__title-text_sub\"]'\n",
    "    stepen = driver.find_elements(by=By.XPATH, value=stepen_val)\n",
    "    title_val = '//span[@class=\"resume-block__title-text\"][@data-qa=\"resume-block-title-position\"]'\n",
    "    title = driver.find_elements(by=By.XPATH, value=title_val)\n",
    "    if title:\n",
    "        title = title[0].text\n",
    "    else:\n",
    "        title = ''\n",
    "    \n",
    "    educ1 = ''\n",
    "    educ2 = ''\n",
    "    educ3 = ''\n",
    "    \n",
    "    if educ_:\n",
    "        educ1 = educ_[0].text\n",
    "    if len(educ_) > 1:\n",
    "        educ2 = educ_[1].text\n",
    "    if stepen:\n",
    "        educ3 = stepen[0].text\n",
    "    vuzes_count = len(educ_)\n",
    "    \n",
    "    # Проблема: иногда уровень образования могут не писать\n",
    "    \n",
    "    # Работы\n",
    "    work = driver.find_elements(by=By.XPATH, \n",
    "                             value='//div[@data-qa=\"resume-block-experience\"][@class=\"resume-block\"]//div[@class=\"resume-block-container\"]')\n",
    "    work1 = '---'\n",
    "    work2 = '---'\n",
    "    \n",
    "    if len(work) > 0:\n",
    "        work1 = work[0].text\n",
    "    if len(work) > 1:\n",
    "        work2 = work[1].text\n",
    "        \n",
    "    return (link, title, comandirovka, opyt, about, educ, inter, inter2, educ1, educ2, \n",
    "            educ3, vuzes_count, work1, work2)"
   ]
  },
  {
   "cell_type": "code",
   "execution_count": 79,
   "id": "f989a1c8-73c4-4af9-9268-f032ab1cf036",
   "metadata": {},
   "outputs": [],
   "source": [
    "# driver = webdriver.Chrome('./chromedriver')"
   ]
  },
  {
   "cell_type": "code",
   "execution_count": 84,
   "id": "1b12fde2-b744-48ce-823d-634eb0165485",
   "metadata": {
    "tags": []
   },
   "outputs": [
    {
     "data": {
      "text/html": [
       "<div>\n",
       "<style scoped>\n",
       "    .dataframe tbody tr th:only-of-type {\n",
       "        vertical-align: middle;\n",
       "    }\n",
       "\n",
       "    .dataframe tbody tr th {\n",
       "        vertical-align: top;\n",
       "    }\n",
       "\n",
       "    .dataframe thead th {\n",
       "        text-align: right;\n",
       "    }\n",
       "</style>\n",
       "<table border=\"1\" class=\"dataframe\">\n",
       "  <thead>\n",
       "    <tr style=\"text-align: right;\">\n",
       "      <th></th>\n",
       "      <th>Ссылка</th>\n",
       "      <th>Название</th>\n",
       "      <th>Коммандировка</th>\n",
       "      <th>Опыт</th>\n",
       "      <th>О себе</th>\n",
       "      <th>Образование</th>\n",
       "      <th>Интересы</th>\n",
       "      <th>Навыки</th>\n",
       "      <th>Образование-1</th>\n",
       "      <th>Образование-2</th>\n",
       "      <th>Уровень образование</th>\n",
       "      <th>Кол-во образований</th>\n",
       "      <th>Работа 1</th>\n",
       "      <th>Работа 2</th>\n",
       "    </tr>\n",
       "  </thead>\n",
       "  <tbody>\n",
       "    <tr>\n",
       "      <th>0</th>\n",
       "      <td>https://hh.ru/resume/1aa91e410000fd3cda0039ed1...</td>\n",
       "      <td>Analyst</td>\n",
       "      <td>Moscow, willing to relocate, prepared for occa...</td>\n",
       "      <td>Work experience 7 years 4 months</td>\n",
       "      <td>Responsible, communicable, quick study and det...</td>\n",
       "      <td>Higher education\\n2015\\nMOSCOW STATE UNIVERSIT...</td>\n",
       "      <td>Specializations:\\nSales manager, account manag...</td>\n",
       "      <td>Поддержка продаж / владение ПО для поддержки п...</td>\n",
       "      <td>MOSCOW STATE UNIVERSITY OF MECHANICAL ENGINEER...</td>\n",
       "      <td></td>\n",
       "      <td>Higher education</td>\n",
       "      <td>1</td>\n",
       "      <td>NUTRICIA\\nMoscow, nutricia.ru\\nFood Products.....</td>\n",
       "      <td>Volkswagen Group Russia\\nMoscow, www.volkswage...</td>\n",
       "    </tr>\n",
       "    <tr>\n",
       "      <th>1</th>\n",
       "      <td>https://hh.ru/resume/628596ac000657935b0039ed1...</td>\n",
       "      <td>BI аналитик</td>\n",
       "      <td>Москва, не готова к переезду, готова к редким ...</td>\n",
       "      <td>Опыт работы 1 год 5 месяцев</td>\n",
       "      <td>В последние годы проходила обучение без возмож...</td>\n",
       "      <td>Высшее образование (Бакалавр)\\n2022\\nНациональ...</td>\n",
       "      <td>Специализации:\\nBI-аналитик, аналитик данных\\n...</td>\n",
       "      <td>Работа с компьютерными программами, программы ...</td>\n",
       "      <td>Национальный исследовательский университет \"Вы...</td>\n",
       "      <td></td>\n",
       "      <td>Высшее образование (Бакалавр)</td>\n",
       "      <td>1</td>\n",
       "      <td>Ozon\\nМладший аналитик\\nСоздание, поддержка и ...</td>\n",
       "      <td>OZON\\nСтажер группы BI аналитики и отчетности\\...</td>\n",
       "    </tr>\n",
       "  </tbody>\n",
       "</table>\n",
       "</div>"
      ],
      "text/plain": [
       "                                              Ссылка     Название  \\\n",
       "0  https://hh.ru/resume/1aa91e410000fd3cda0039ed1...      Analyst   \n",
       "1  https://hh.ru/resume/628596ac000657935b0039ed1...  BI аналитик   \n",
       "\n",
       "                                       Коммандировка  \\\n",
       "0  Moscow, willing to relocate, prepared for occa...   \n",
       "1  Москва, не готова к переезду, готова к редким ...   \n",
       "\n",
       "                               Опыт  \\\n",
       "0  Work experience 7 years 4 months   \n",
       "1       Опыт работы 1 год 5 месяцев   \n",
       "\n",
       "                                              О себе  \\\n",
       "0  Responsible, communicable, quick study and det...   \n",
       "1  В последние годы проходила обучение без возмож...   \n",
       "\n",
       "                                         Образование  \\\n",
       "0  Higher education\\n2015\\nMOSCOW STATE UNIVERSIT...   \n",
       "1  Высшее образование (Бакалавр)\\n2022\\nНациональ...   \n",
       "\n",
       "                                            Интересы  \\\n",
       "0  Specializations:\\nSales manager, account manag...   \n",
       "1  Специализации:\\nBI-аналитик, аналитик данных\\n...   \n",
       "\n",
       "                                              Навыки  \\\n",
       "0  Поддержка продаж / владение ПО для поддержки п...   \n",
       "1  Работа с компьютерными программами, программы ...   \n",
       "\n",
       "                                       Образование-1 Образование-2  \\\n",
       "0  MOSCOW STATE UNIVERSITY OF MECHANICAL ENGINEER...                 \n",
       "1  Национальный исследовательский университет \"Вы...                 \n",
       "\n",
       "             Уровень образование  Кол-во образований  \\\n",
       "0               Higher education                   1   \n",
       "1  Высшее образование (Бакалавр)                   1   \n",
       "\n",
       "                                            Работа 1  \\\n",
       "0  NUTRICIA\\nMoscow, nutricia.ru\\nFood Products.....   \n",
       "1  Ozon\\nМладший аналитик\\nСоздание, поддержка и ...   \n",
       "\n",
       "                                            Работа 2  \n",
       "0  Volkswagen Group Russia\\nMoscow, www.volkswage...  \n",
       "1  OZON\\nСтажер группы BI аналитики и отчетности\\...  "
      ]
     },
     "execution_count": 84,
     "metadata": {},
     "output_type": "execute_result"
    }
   ],
   "source": [
    "df_links = list(pd.read_csv('resumes_all.csv')['Ссылка'])\n",
    "\n",
    "resume_list = []\n",
    "for link in df_links:\n",
    "    # print(link)\n",
    "    data = scrape(link, driver)\n",
    "    resume_list.append(data)\n",
    "\n",
    "df = pd.DataFrame(resume_list, columns=['Ссылка',\n",
    "                                        'Название',\n",
    "                                        'Коммандировка', \n",
    "                                        'Опыт',\n",
    "                                        'О себе',\n",
    "                                        'Образование',\n",
    "                                        'Интересы',\n",
    "                                        'Навыки',\n",
    "                                        'Образование-1',\n",
    "                                        'Образование-2',\n",
    "                                        'Уровень образование',\n",
    "                                        'Кол-во образований',\n",
    "                                        'Работа 1',\n",
    "                                        'Работа 2'])\n",
    "df.to_csv('resumes_features.csv')\n",
    "df.head(2)"
   ]
  },
  {
   "cell_type": "markdown",
   "id": "769cc350-f1af-4d46-b57c-919edc301964",
   "metadata": {},
   "source": [
    "**Справочник по образованию:**"
   ]
  },
  {
   "cell_type": "markdown",
   "id": "b173ae8a-1c50-4234-8417-4fddf1cd3562",
   "metadata": {},
   "source": [
    "Найти подобные списки для ТОП-10 вузов и проанализировать:\n",
    "https://propostuplenie.ru/article/abbreviatury-i-prozvishcha-populyarnyh-vuzov/?ysclid=la9p7r8feo708199013\n",
    "\n",
    "Топ вузов: https://vuzoteka.ru/вузы?ysclid=la9p8mfldl600081011"
   ]
  },
  {
   "cell_type": "markdown",
   "id": "b1b67859-b7e7-4b40-b60a-667cfa189c12",
   "metadata": {},
   "source": [
    "**Конкатеннация таблиц:**\n",
    "\n",
    "Что если использовать тупой метод:\n",
    "\n",
    "`df` — таблица, собранная раньше\n",
    "\n",
    "`df2` — таблица, собранная повторным запусом скрейпера\n",
    "\n",
    "`new_df = pd.concat([df, df2]).drop_duplicates` ??\n",
    "\n",
    "попробую так для `df==df2==df_cur`, чтобы посмотреть время работы"
   ]
  },
  {
   "cell_type": "code",
   "execution_count": null,
   "id": "796ca93c-c1ac-43fb-8949-6b826d2fcdb9",
   "metadata": {},
   "outputs": [],
   "source": []
  }
 ],
 "metadata": {
  "kernelspec": {
   "display_name": "Python 3",
   "language": "python",
   "name": "python3"
  },
  "language_info": {
   "codemirror_mode": {
    "name": "ipython",
    "version": 3
   },
   "file_extension": ".py",
   "mimetype": "text/x-python",
   "name": "python",
   "nbconvert_exporter": "python",
   "pygments_lexer": "ipython3",
   "version": "3.9.5"
  }
 },
 "nbformat": 4,
 "nbformat_minor": 5
}
