{
 "cells": [
  {
   "cell_type": "markdown",
   "id": "af51e523-f6bf-4d14-8add-94f5fc6eba08",
   "metadata": {},
   "source": [
    "## ВКР: сбор данных"
   ]
  },
  {
   "cell_type": "markdown",
   "id": "91f09dd9-dee1-400c-ba31-ff2fb0414ae9",
   "metadata": {},
   "source": [
    "Автоматизация подбора персонала\n",
    "\n",
    "Копчев Владислав, БПМИ197"
   ]
  },
  {
   "cell_type": "markdown",
   "id": "09ced523-9cd7-4dd8-989c-5d97ea535437",
   "metadata": {},
   "source": [
    "В этом ноутбуке мы осуществим сбор данных, которые в следующих ноутбуках будут предобработаны и проанализированы с помощью методов машинного обучения. \n",
    "\n",
    "По итогу мы получим две таблицы:\n",
    "... see PP."
   ]
  },
  {
   "cell_type": "markdown",
   "id": "36029f59-53eb-4271-9162-ab954d017cc6",
   "metadata": {},
   "source": [
    "### Библиотеки"
   ]
  },
  {
   "cell_type": "markdown",
   "id": "1879cb0b-afd0-46f0-96dd-e68cfe7365ee",
   "metadata": {},
   "source": [
    "В данной работе мы будем работать с таблицами, векторами, регулярными выражениями, сайтами с использованием JavaScript. Поэтому импортируем `pandas`, `selenium`, `numpy`, etc."
   ]
  },
  {
   "cell_type": "code",
   "execution_count": 1,
   "id": "464dd1a9-9029-4ef3-880e-8bcd33e90746",
   "metadata": {},
   "outputs": [],
   "source": [
    "from bs4 import BeautifulSoup\n",
    "import requests\n",
    "import pandas as pd\n",
    "from selenium import webdriver\n",
    "from selenium.webdriver.common.keys import Keys\n",
    "from selenium.webdriver.common.by import By\n",
    "from selenium.webdriver.support.ui import Select\n",
    "# !pip install transliterate\n",
    "from transliterate import translit\n",
    "import re\n",
    "import numpy as np"
   ]
  },
  {
   "cell_type": "markdown",
   "id": "fc5ff5b5-25b2-4892-a3c7-8fe3146aa81e",
   "metadata": {},
   "source": [
    "### Скрейпинг страницы со списком резюме"
   ]
  },
  {
   "cell_type": "markdown",
   "id": "6d233c2a-6ab0-42fa-a91a-c9b33b76f3d7",
   "metadata": {},
   "source": [
    "hh.ru не принимает названия с заглавными буквами, поэтому была написана функция для \"нормализации\" запросов — приведения к единому виду, который понимает сайт (данный вид был найден эмпирически — перебором различных запросов):"
   ]
  },
  {
   "cell_type": "code",
   "execution_count": 2,
   "id": "3380cf8a-4b97-4411-b29a-a6cbf00a882b",
   "metadata": {},
   "outputs": [],
   "source": [
    "def normalize_translit(ru_query):\n",
    "    text = translit(ru_query, language_code='ru', reversed=True)\n",
    "    text = text.replace(' ', '-').replace('yj', 'yy').replace('yy-', 'yy_').replace('es-', 'es_').replace('k-pr', 'k_pr')  # эвристическое правило, не знаю, почему у hh так...\n",
    "    return text"
   ]
  },
  {
   "cell_type": "markdown",
   "id": "b9d879f3-fea7-46f7-b863-361d94a39b73",
   "metadata": {},
   "source": [
    "Запустим хром для того, чтобы работать с ним через библиотеку `selenium`:"
   ]
  },
  {
   "cell_type": "code",
   "execution_count": 3,
   "id": "a77b03c6-22a9-45e2-a88f-55f43d073a2f",
   "metadata": {},
   "outputs": [
    {
     "name": "stderr",
     "output_type": "stream",
     "text": [
      "/var/folders/0k/pk7zyw6x2sqcjpbqvgf0ssh80000gn/T/ipykernel_37833/2299280398.py:1: DeprecationWarning: executable_path has been deprecated, please pass in a Service object\n",
      "  driver = webdriver.Chrome('./chromedriver')\n"
     ]
    }
   ],
   "source": [
    "driver = webdriver.Chrome('./chromedriver')"
   ]
  },
  {
   "cell_type": "markdown",
   "id": "30c81d04-1171-40be-a5b3-5f5996854e94",
   "metadata": {},
   "source": [
    "Напишем функцию для скрейпинга вакансий по запросу `query`. Функция принимает переменную `driver`, которую мы уже инициализировали выше, а также запрос `query`, который мы ищем на сайте с вакансиями, который необходимо предварительно нормализовать. Для начала мы ищем, сколько страниц с вакансиями было найдено по запросу. После этого мы перебираем все страницы и на каждой скрейпим ссылку и название, которые задаются с помощью `XPath` как:\n",
    "\n",
    "- `//div[@class=\"resume-search-item__header\"]`\n",
    "- `//div[@data-qa=\"resume-serp__results-search\"]`\n",
    "\n",
    "В тексте ВКР по аналогии с курсовой будет приведена таблица со всеми такими запросами."
   ]
  },
  {
   "cell_type": "code",
   "execution_count": 29,
   "id": "f1f311d6-c3d2-4a2c-9969-3f3f8a7b79b4",
   "metadata": {},
   "outputs": [],
   "source": [
    "def scrape(query, driver):\n",
    "    # ищем кол-во страниц\n",
    "    pages_count = 10  # соскрейпить это число иначе ошибки!\n",
    "    link = 'https://hh.ru/resumes/{}?items_on_page=100&page={}'.format(query, 0)\n",
    "    driver.get(link)\n",
    "    \n",
    "    pages_cnt_site = driver.find_elements(by=By.XPATH, value='//span[@class=\"pager-item-not-in-short-range\"]/a[@class=\"bloko-button\"][@rel=\"nofollow\"][@data-qa=\"pager-page\"]/span')\n",
    "    if pages_cnt_site:\n",
    "        pages_count = int(pages_cnt_site[-1].text)\n",
    "        # print(pages_count)\n",
    "    \n",
    "    for n in range(pages_count):  # проблема!!\n",
    "        link = 'https://hh.ru/resumes/{}?items_on_page=100&page={}'.format(query, n)  # 100 per page\n",
    "        driver.get(link)\n",
    "\n",
    "        resumes_list = driver.find_element(by=By.XPATH, value='//div[@class=\"resume-search-item__header\"]')\n",
    "        # resumes_list.click()  # стоп а зачем это...\n",
    "        resumes = resumes_list.find_element(by=By.XPATH, value='//div[@data-qa=\"resume-serp__results-search\"]').find_elements(by=By.XPATH, value='//a[@class=\"serp-item__title\"]')\n",
    "\n",
    "        resumes_parsed = []\n",
    "        for x in resumes:\n",
    "            resumes_parsed.append((x.text, x.get_attribute(\"href\")))\n",
    "\n",
    "        if n == 0:\n",
    "            df = pd.DataFrame(resumes_parsed, columns=['Вакансия', 'Ссылка'])\n",
    "            # print(len(resumes_parsed))\n",
    "        else:\n",
    "            # print(len(resumes_parsed))\n",
    "            df2 = pd.DataFrame(resumes_parsed, columns=['Вакансия', 'Ссылка'])  # , index=list(range(0 + 100 * n, 100 + 100 * n)) n00, ..., n99n = 0, ..., 49\n",
    "            df = pd.concat([df, df2])\n",
    "    \n",
    "    return df"
   ]
  },
  {
   "cell_type": "markdown",
   "id": "8d91f842-a60d-4c70-bfc2-a3c4d8a10005",
   "metadata": {},
   "source": [
    "Мы написали функцию. Запустим ее на нескольких запросах: "
   ]
  },
  {
   "cell_type": "code",
   "execution_count": null,
   "id": "6cfee91a-2275-4897-9388-52ff10ae503b",
   "metadata": {},
   "outputs": [
    {
     "name": "stdout",
     "output_type": "stream",
     "text": [
      "\n"
     ]
    }
   ],
   "source": [
    "analysts_list = ['аналитик bi',\n",
    "                'системный аналитик',\n",
    "                'бизнес аналитик',\n",
    "                'аналитик продаж',\n",
    "                'финансовый аналитик',\n",
    "                'аналитик данных',\n",
    "                'data analyst']\n",
    "analysts_map = dict()\n",
    "\n",
    "for analyst in analysts_list:\n",
    "    analysts_map[analyst] = scrape(normalize_translit(analyst), driver)\n",
    "    analysts_map[analyst].index = range(analysts_map[analyst].shape[0])"
   ]
  },
  {
   "cell_type": "markdown",
   "id": "99b757ab-35ff-4b8f-bb2f-dfcdf4d5509f",
   "metadata": {},
   "source": [
    "Мы получили для каждого запроса словарь вида `query` $\\mapsto$ Названия и ссылки вакансий. Теперь мы каждую такую мапу переведем в датафрейм (таблицу) и объединим все таблицы. Конкатеннация результатов:"
   ]
  },
  {
   "cell_type": "code",
   "execution_count": null,
   "id": "5c397d65-510a-40c0-9e18-9a51ed39aeb5",
   "metadata": {},
   "outputs": [],
   "source": [
    "df1 = pd.DataFrame()\n",
    "\n",
    "for analyst in analysts_list:\n",
    "    df2 = analysts_map[analyst]\n",
    "    df1 = pd.concat([df1, df2])\n",
    "    \n",
    "df1.index = range(df1.shape[0])\n",
    "df1.to_csv('resumes_all.csv')"
   ]
  },
  {
   "cell_type": "markdown",
   "id": "7eb65734-b1bb-4f71-9bfb-6ec20c7c7ac9",
   "metadata": {},
   "source": [
    "Итог: собрано около 20,000 резюме по 7 запросам на разных языках."
   ]
  },
  {
   "cell_type": "markdown",
   "id": "ff0c69ad-1610-4cdf-bf65-49c288d36000",
   "metadata": {},
   "source": [
    "### Скрейпинг страницы с конкретным резюме"
   ]
  },
  {
   "cell_type": "markdown",
   "id": "ab871250-da26-413f-af91-3783c13a133d",
   "metadata": {},
   "source": [
    "Итак, у нас есть табличка с резюме. Теперь из каждого резюме, которое представляет собой неструктурированный текст, мы достанем информацию (решим задачу NER)."
   ]
  },
  {
   "cell_type": "markdown",
   "id": "bf1ce24e-82fe-4ad5-b142-2ee86f0e733b",
   "metadata": {},
   "source": [
    "Для начала напишем функцию для обработки `selenium.object` — если ничего не найдено по `XPath`-запросу, то пишем пропуск в виде `---`, иначе берем текст первого найденного по запросу объекта на странице."
   ]
  },
  {
   "cell_type": "code",
   "execution_count": 193,
   "id": "0445c03a-02a9-4ba0-b6cf-d9bd909e055a",
   "metadata": {},
   "outputs": [],
   "source": [
    "def normalize(x):\n",
    "    if x:\n",
    "        x = x[0].text\n",
    "    else:\n",
    "        x = '---'  # так будет лучше чем просто ' '?\n",
    "    return x"
   ]
  },
  {
   "cell_type": "markdown",
   "id": "c183d2bf-5398-47d7-b90a-bbd1a754858c",
   "metadata": {},
   "source": [
    "Напишем функцию для скрейпинга страницы с конкретным резюме, на которое ведет ссылка `link`, которую мы открываем с помощью библиотеки `selenium` на основе хромдрайвера (написать точное определение из документации, что это) `driver`. Эта функция достает:\n",
    "- Коммандировка\n",
    "- Опыт\n",
    "- ...\n",
    "См. Project Proposal. Необходимо поудалять ненужные комментарии и составить таблицу (мб даже в Markdown здесь) с `XPath`-запросами для каждой информации о резюме."
   ]
  },
  {
   "cell_type": "code",
   "execution_count": 202,
   "id": "437c3dd5-d4c4-4e6d-a8cf-e8aababc98c1",
   "metadata": {
    "tags": []
   },
   "outputs": [],
   "source": [
    "def scrape(link, driver):\n",
    "    driver.get(link)\n",
    "    comandirovka = driver.find_elements(by=By.XPATH, value='//div[@class=\"bloko-translate-guard\"]')\n",
    "    comandirovka = normalize(comandirovka)  # норм?\n",
    "    \n",
    "    opyt = driver.find_elements(by=By.XPATH, value='//span[@class=\"resume-block__title-text resume-block__title-text_sub\"]')\n",
    "    opyt = normalize(opyt)\n",
    "\n",
    "    about = driver.find_elements(by=By.XPATH, value='//div[@class=\"resume-block-container\"][@data-qa=\"resume-block-skills-content\"]')\n",
    "    about = normalize(about)\n",
    "        \n",
    "    educ = driver.find_elements(by=By.XPATH, value='//div[@class=\"resume-block\"][@data-qa=\"resume-block-education\"]')\n",
    "    educ = normalize(educ)\n",
    "        \n",
    "    inter = driver.find_elements(by=By.XPATH, value='//div[@class=\"resume-block-item-gap\"]')\n",
    "    inter = normalize(inter)\n",
    "        \n",
    "    #inter2 = driver.find_elements(by=By.XPATH, value='//div[@class=\"key-skills-row\"][@data-qa=\"tags-key-skills\"]')\n",
    "    #inter2 = normalize(inter2)\n",
    "    inter2 = driver.find_elements(by=By.XPATH, value='//div[@data-qa=\"skills-table\"]')\n",
    "    inter2 = normalize(inter2)\n",
    "    \n",
    "    # Образование; все написано не в том же стиле что и ^\n",
    "    \n",
    "    educ_val = '//div[@data-qa=\"resume-block-education\"][@class=\"resume-block\"]//div[@data-qa=\"resume-block-education-name\"]'\n",
    "    educ_ = driver.find_elements(by=By.XPATH, value=educ_val)\n",
    "    stepen_val = '//div[@data-qa=\"resume-block-education\"]//span[@class=\"resume-block__title-text resume-block__title-text_sub\"]'\n",
    "    stepen = driver.find_elements(by=By.XPATH, value=stepen_val)\n",
    "    title_val = '//span[@class=\"resume-block__title-text\"][@data-qa=\"resume-block-title-position\"]'\n",
    "    title = driver.find_elements(by=By.XPATH, value=title_val)\n",
    "    if title:\n",
    "        title = title[0].text\n",
    "    else:\n",
    "        title = ''\n",
    "    \n",
    "    educ1 = ''\n",
    "    educ2 = ''\n",
    "    educ3 = ''\n",
    "    \n",
    "    if educ_:\n",
    "        educ1 = educ_[0].text\n",
    "    if len(educ_) > 1:\n",
    "        educ2 = educ_[1].text\n",
    "    if stepen:\n",
    "        educ3 = stepen[0].text\n",
    "    vuzes_count = len(educ_)\n",
    "    \n",
    "    # Проблема: иногда уровень образования могут не писать\n",
    "    \n",
    "    # Работы\n",
    "    work = driver.find_elements(by=By.XPATH, \n",
    "                             value='//div[@data-qa=\"resume-block-experience\"][@class=\"resume-block\"]//div[@class=\"resume-block-container\"]')\n",
    "    work1 = '---'\n",
    "    work2 = '---'\n",
    "    \n",
    "    if len(work) > 0:\n",
    "        work1 = work[0].text\n",
    "    if len(work) > 1:\n",
    "        work2 = work[1].text\n",
    "    \n",
    "    # EXPERIMENTAL: пробую собрать work\n",
    "    work_list = []\n",
    "    for w in work:\n",
    "        work_list.append(w.text)\n",
    "    work_count = len(work)\n",
    "        \n",
    "    return (link, title, comandirovka, opyt, about, educ, inter, inter2, educ1, educ2, \n",
    "            educ3, vuzes_count, work1, work2, work_list, work_count)"
   ]
  },
  {
   "cell_type": "markdown",
   "id": "ffa5f0ee-d827-48ba-a78e-896e411be347",
   "metadata": {},
   "source": [
    "Теперь создадим datagrame на основе нашего списка:"
   ]
  },
  {
   "cell_type": "code",
   "execution_count": 204,
   "id": "1b12fde2-b744-48ce-823d-634eb0165485",
   "metadata": {
    "collapsed": true,
    "jupyter": {
     "outputs_hidden": true
    },
    "tags": []
   },
   "outputs": [
    {
     "ename": "KeyboardInterrupt",
     "evalue": "",
     "output_type": "error",
     "traceback": [
      "\u001b[0;31m---------------------------------------------------------------------------\u001b[0m",
      "\u001b[0;31mKeyboardInterrupt\u001b[0m                         Traceback (most recent call last)",
      "\u001b[0;32m<ipython-input-204-a1d3976b7163>\u001b[0m in \u001b[0;36m<module>\u001b[0;34m\u001b[0m\n\u001b[1;32m      4\u001b[0m \u001b[0;32mfor\u001b[0m \u001b[0mlink\u001b[0m \u001b[0;32min\u001b[0m \u001b[0mdf_links\u001b[0m\u001b[0;34m:\u001b[0m\u001b[0;34m\u001b[0m\u001b[0;34m\u001b[0m\u001b[0m\n\u001b[1;32m      5\u001b[0m     \u001b[0;31m# print(link)\u001b[0m\u001b[0;34m\u001b[0m\u001b[0;34m\u001b[0m\u001b[0;34m\u001b[0m\u001b[0m\n\u001b[0;32m----> 6\u001b[0;31m     \u001b[0mdata\u001b[0m \u001b[0;34m=\u001b[0m \u001b[0mscrape\u001b[0m\u001b[0;34m(\u001b[0m\u001b[0mlink\u001b[0m\u001b[0;34m,\u001b[0m \u001b[0mdriver\u001b[0m\u001b[0;34m)\u001b[0m\u001b[0;34m\u001b[0m\u001b[0;34m\u001b[0m\u001b[0m\n\u001b[0m\u001b[1;32m      7\u001b[0m     \u001b[0mresume_list\u001b[0m\u001b[0;34m.\u001b[0m\u001b[0mappend\u001b[0m\u001b[0;34m(\u001b[0m\u001b[0mdata\u001b[0m\u001b[0;34m)\u001b[0m\u001b[0;34m\u001b[0m\u001b[0;34m\u001b[0m\u001b[0m\n\u001b[1;32m      8\u001b[0m \u001b[0;34m\u001b[0m\u001b[0m\n",
      "\u001b[0;32m<ipython-input-202-dbb7473df199>\u001b[0m in \u001b[0;36mscrape\u001b[0;34m(link, driver)\u001b[0m\n\u001b[1;32m     11\u001b[0m \u001b[0;34m\u001b[0m\u001b[0m\n\u001b[1;32m     12\u001b[0m     \u001b[0meduc\u001b[0m \u001b[0;34m=\u001b[0m \u001b[0mdriver\u001b[0m\u001b[0;34m.\u001b[0m\u001b[0mfind_elements\u001b[0m\u001b[0;34m(\u001b[0m\u001b[0mby\u001b[0m\u001b[0;34m=\u001b[0m\u001b[0mBy\u001b[0m\u001b[0;34m.\u001b[0m\u001b[0mXPATH\u001b[0m\u001b[0;34m,\u001b[0m \u001b[0mvalue\u001b[0m\u001b[0;34m=\u001b[0m\u001b[0;34m'//div[@class=\"resume-block\"][@data-qa=\"resume-block-education\"]'\u001b[0m\u001b[0;34m)\u001b[0m\u001b[0;34m\u001b[0m\u001b[0;34m\u001b[0m\u001b[0m\n\u001b[0;32m---> 13\u001b[0;31m     \u001b[0meduc\u001b[0m \u001b[0;34m=\u001b[0m \u001b[0mnormalize\u001b[0m\u001b[0;34m(\u001b[0m\u001b[0meduc\u001b[0m\u001b[0;34m)\u001b[0m\u001b[0;34m\u001b[0m\u001b[0;34m\u001b[0m\u001b[0m\n\u001b[0m\u001b[1;32m     14\u001b[0m \u001b[0;34m\u001b[0m\u001b[0m\n\u001b[1;32m     15\u001b[0m     \u001b[0minter\u001b[0m \u001b[0;34m=\u001b[0m \u001b[0mdriver\u001b[0m\u001b[0;34m.\u001b[0m\u001b[0mfind_elements\u001b[0m\u001b[0;34m(\u001b[0m\u001b[0mby\u001b[0m\u001b[0;34m=\u001b[0m\u001b[0mBy\u001b[0m\u001b[0;34m.\u001b[0m\u001b[0mXPATH\u001b[0m\u001b[0;34m,\u001b[0m \u001b[0mvalue\u001b[0m\u001b[0;34m=\u001b[0m\u001b[0;34m'//div[@class=\"resume-block-item-gap\"]'\u001b[0m\u001b[0;34m)\u001b[0m\u001b[0;34m\u001b[0m\u001b[0;34m\u001b[0m\u001b[0m\n",
      "\u001b[0;32m<ipython-input-193-3f6fedc086b2>\u001b[0m in \u001b[0;36mnormalize\u001b[0;34m(x)\u001b[0m\n\u001b[1;32m      1\u001b[0m \u001b[0;32mdef\u001b[0m \u001b[0mnormalize\u001b[0m\u001b[0;34m(\u001b[0m\u001b[0mx\u001b[0m\u001b[0;34m)\u001b[0m\u001b[0;34m:\u001b[0m\u001b[0;34m\u001b[0m\u001b[0;34m\u001b[0m\u001b[0m\n\u001b[1;32m      2\u001b[0m     \u001b[0;32mif\u001b[0m \u001b[0mx\u001b[0m\u001b[0;34m:\u001b[0m\u001b[0;34m\u001b[0m\u001b[0;34m\u001b[0m\u001b[0m\n\u001b[0;32m----> 3\u001b[0;31m         \u001b[0mx\u001b[0m \u001b[0;34m=\u001b[0m \u001b[0mx\u001b[0m\u001b[0;34m[\u001b[0m\u001b[0;36m0\u001b[0m\u001b[0;34m]\u001b[0m\u001b[0;34m.\u001b[0m\u001b[0mtext\u001b[0m\u001b[0;34m\u001b[0m\u001b[0;34m\u001b[0m\u001b[0m\n\u001b[0m\u001b[1;32m      4\u001b[0m     \u001b[0;32melse\u001b[0m\u001b[0;34m:\u001b[0m\u001b[0;34m\u001b[0m\u001b[0;34m\u001b[0m\u001b[0m\n\u001b[1;32m      5\u001b[0m         \u001b[0mx\u001b[0m \u001b[0;34m=\u001b[0m \u001b[0;34m'---'\u001b[0m  \u001b[0;31m# так будет лучше чем просто ' '?\u001b[0m\u001b[0;34m\u001b[0m\u001b[0;34m\u001b[0m\u001b[0m\n",
      "\u001b[0;32m~/miniconda3/lib/python3.9/site-packages/selenium/webdriver/remote/webelement.py\u001b[0m in \u001b[0;36mtext\u001b[0;34m(self)\u001b[0m\n\u001b[1;32m     83\u001b[0m     \u001b[0;32mdef\u001b[0m \u001b[0mtext\u001b[0m\u001b[0;34m(\u001b[0m\u001b[0mself\u001b[0m\u001b[0;34m)\u001b[0m \u001b[0;34m->\u001b[0m \u001b[0mstr\u001b[0m\u001b[0;34m:\u001b[0m\u001b[0;34m\u001b[0m\u001b[0;34m\u001b[0m\u001b[0m\n\u001b[1;32m     84\u001b[0m         \u001b[0;34m\"\"\"The text of the element.\"\"\"\u001b[0m\u001b[0;34m\u001b[0m\u001b[0;34m\u001b[0m\u001b[0m\n\u001b[0;32m---> 85\u001b[0;31m         \u001b[0;32mreturn\u001b[0m \u001b[0mself\u001b[0m\u001b[0;34m.\u001b[0m\u001b[0m_execute\u001b[0m\u001b[0;34m(\u001b[0m\u001b[0mCommand\u001b[0m\u001b[0;34m.\u001b[0m\u001b[0mGET_ELEMENT_TEXT\u001b[0m\u001b[0;34m)\u001b[0m\u001b[0;34m[\u001b[0m\u001b[0;34m'value'\u001b[0m\u001b[0;34m]\u001b[0m\u001b[0;34m\u001b[0m\u001b[0;34m\u001b[0m\u001b[0m\n\u001b[0m\u001b[1;32m     86\u001b[0m \u001b[0;34m\u001b[0m\u001b[0m\n\u001b[1;32m     87\u001b[0m     \u001b[0;32mdef\u001b[0m \u001b[0mclick\u001b[0m\u001b[0;34m(\u001b[0m\u001b[0mself\u001b[0m\u001b[0;34m)\u001b[0m \u001b[0;34m->\u001b[0m \u001b[0;32mNone\u001b[0m\u001b[0;34m:\u001b[0m\u001b[0;34m\u001b[0m\u001b[0;34m\u001b[0m\u001b[0m\n",
      "\u001b[0;32m~/miniconda3/lib/python3.9/site-packages/selenium/webdriver/remote/webelement.py\u001b[0m in \u001b[0;36m_execute\u001b[0;34m(self, command, params)\u001b[0m\n\u001b[1;32m    771\u001b[0m             \u001b[0mparams\u001b[0m \u001b[0;34m=\u001b[0m \u001b[0;34m{\u001b[0m\u001b[0;34m}\u001b[0m\u001b[0;34m\u001b[0m\u001b[0;34m\u001b[0m\u001b[0m\n\u001b[1;32m    772\u001b[0m         \u001b[0mparams\u001b[0m\u001b[0;34m[\u001b[0m\u001b[0;34m'id'\u001b[0m\u001b[0;34m]\u001b[0m \u001b[0;34m=\u001b[0m \u001b[0mself\u001b[0m\u001b[0;34m.\u001b[0m\u001b[0m_id\u001b[0m\u001b[0;34m\u001b[0m\u001b[0;34m\u001b[0m\u001b[0m\n\u001b[0;32m--> 773\u001b[0;31m         \u001b[0;32mreturn\u001b[0m \u001b[0mself\u001b[0m\u001b[0;34m.\u001b[0m\u001b[0m_parent\u001b[0m\u001b[0;34m.\u001b[0m\u001b[0mexecute\u001b[0m\u001b[0;34m(\u001b[0m\u001b[0mcommand\u001b[0m\u001b[0;34m,\u001b[0m \u001b[0mparams\u001b[0m\u001b[0;34m)\u001b[0m\u001b[0;34m\u001b[0m\u001b[0;34m\u001b[0m\u001b[0m\n\u001b[0m\u001b[1;32m    774\u001b[0m \u001b[0;34m\u001b[0m\u001b[0m\n\u001b[1;32m    775\u001b[0m     \u001b[0;32mdef\u001b[0m \u001b[0mfind_element\u001b[0m\u001b[0;34m(\u001b[0m\u001b[0mself\u001b[0m\u001b[0;34m,\u001b[0m \u001b[0mby\u001b[0m\u001b[0;34m=\u001b[0m\u001b[0mBy\u001b[0m\u001b[0;34m.\u001b[0m\u001b[0mID\u001b[0m\u001b[0;34m,\u001b[0m \u001b[0mvalue\u001b[0m\u001b[0;34m=\u001b[0m\u001b[0;32mNone\u001b[0m\u001b[0;34m)\u001b[0m\u001b[0;34m:\u001b[0m\u001b[0;34m\u001b[0m\u001b[0;34m\u001b[0m\u001b[0m\n",
      "\u001b[0;32m~/miniconda3/lib/python3.9/site-packages/selenium/webdriver/remote/webdriver.py\u001b[0m in \u001b[0;36mexecute\u001b[0;34m(self, driver_command, params)\u001b[0m\n\u001b[1;32m    426\u001b[0m \u001b[0;34m\u001b[0m\u001b[0m\n\u001b[1;32m    427\u001b[0m         \u001b[0mparams\u001b[0m \u001b[0;34m=\u001b[0m \u001b[0mself\u001b[0m\u001b[0;34m.\u001b[0m\u001b[0m_wrap_value\u001b[0m\u001b[0;34m(\u001b[0m\u001b[0mparams\u001b[0m\u001b[0;34m)\u001b[0m\u001b[0;34m\u001b[0m\u001b[0;34m\u001b[0m\u001b[0m\n\u001b[0;32m--> 428\u001b[0;31m         \u001b[0mresponse\u001b[0m \u001b[0;34m=\u001b[0m \u001b[0mself\u001b[0m\u001b[0;34m.\u001b[0m\u001b[0mcommand_executor\u001b[0m\u001b[0;34m.\u001b[0m\u001b[0mexecute\u001b[0m\u001b[0;34m(\u001b[0m\u001b[0mdriver_command\u001b[0m\u001b[0;34m,\u001b[0m \u001b[0mparams\u001b[0m\u001b[0;34m)\u001b[0m\u001b[0;34m\u001b[0m\u001b[0;34m\u001b[0m\u001b[0m\n\u001b[0m\u001b[1;32m    429\u001b[0m         \u001b[0;32mif\u001b[0m \u001b[0mresponse\u001b[0m\u001b[0;34m:\u001b[0m\u001b[0;34m\u001b[0m\u001b[0;34m\u001b[0m\u001b[0m\n\u001b[1;32m    430\u001b[0m             \u001b[0mself\u001b[0m\u001b[0;34m.\u001b[0m\u001b[0merror_handler\u001b[0m\u001b[0;34m.\u001b[0m\u001b[0mcheck_response\u001b[0m\u001b[0;34m(\u001b[0m\u001b[0mresponse\u001b[0m\u001b[0;34m)\u001b[0m\u001b[0;34m\u001b[0m\u001b[0;34m\u001b[0m\u001b[0m\n",
      "\u001b[0;32m~/miniconda3/lib/python3.9/site-packages/selenium/webdriver/remote/remote_connection.py\u001b[0m in \u001b[0;36mexecute\u001b[0;34m(self, command, params)\u001b[0m\n\u001b[1;32m    345\u001b[0m         \u001b[0mdata\u001b[0m \u001b[0;34m=\u001b[0m \u001b[0mutils\u001b[0m\u001b[0;34m.\u001b[0m\u001b[0mdump_json\u001b[0m\u001b[0;34m(\u001b[0m\u001b[0mparams\u001b[0m\u001b[0;34m)\u001b[0m\u001b[0;34m\u001b[0m\u001b[0;34m\u001b[0m\u001b[0m\n\u001b[1;32m    346\u001b[0m         \u001b[0murl\u001b[0m \u001b[0;34m=\u001b[0m \u001b[0;34mf\"{self._url}{path}\"\u001b[0m\u001b[0;34m\u001b[0m\u001b[0;34m\u001b[0m\u001b[0m\n\u001b[0;32m--> 347\u001b[0;31m         \u001b[0;32mreturn\u001b[0m \u001b[0mself\u001b[0m\u001b[0;34m.\u001b[0m\u001b[0m_request\u001b[0m\u001b[0;34m(\u001b[0m\u001b[0mcommand_info\u001b[0m\u001b[0;34m[\u001b[0m\u001b[0;36m0\u001b[0m\u001b[0;34m]\u001b[0m\u001b[0;34m,\u001b[0m \u001b[0murl\u001b[0m\u001b[0;34m,\u001b[0m \u001b[0mbody\u001b[0m\u001b[0;34m=\u001b[0m\u001b[0mdata\u001b[0m\u001b[0;34m)\u001b[0m\u001b[0;34m\u001b[0m\u001b[0;34m\u001b[0m\u001b[0m\n\u001b[0m\u001b[1;32m    348\u001b[0m \u001b[0;34m\u001b[0m\u001b[0m\n\u001b[1;32m    349\u001b[0m     \u001b[0;32mdef\u001b[0m \u001b[0m_request\u001b[0m\u001b[0;34m(\u001b[0m\u001b[0mself\u001b[0m\u001b[0;34m,\u001b[0m \u001b[0mmethod\u001b[0m\u001b[0;34m,\u001b[0m \u001b[0murl\u001b[0m\u001b[0;34m,\u001b[0m \u001b[0mbody\u001b[0m\u001b[0;34m=\u001b[0m\u001b[0;32mNone\u001b[0m\u001b[0;34m)\u001b[0m\u001b[0;34m:\u001b[0m\u001b[0;34m\u001b[0m\u001b[0;34m\u001b[0m\u001b[0m\n",
      "\u001b[0;32m~/miniconda3/lib/python3.9/site-packages/selenium/webdriver/remote/remote_connection.py\u001b[0m in \u001b[0;36m_request\u001b[0;34m(self, method, url, body)\u001b[0m\n\u001b[1;32m    367\u001b[0m \u001b[0;34m\u001b[0m\u001b[0m\n\u001b[1;32m    368\u001b[0m         \u001b[0;32mif\u001b[0m \u001b[0mself\u001b[0m\u001b[0;34m.\u001b[0m\u001b[0mkeep_alive\u001b[0m\u001b[0;34m:\u001b[0m\u001b[0;34m\u001b[0m\u001b[0;34m\u001b[0m\u001b[0m\n\u001b[0;32m--> 369\u001b[0;31m             \u001b[0mresponse\u001b[0m \u001b[0;34m=\u001b[0m \u001b[0mself\u001b[0m\u001b[0;34m.\u001b[0m\u001b[0m_conn\u001b[0m\u001b[0;34m.\u001b[0m\u001b[0mrequest\u001b[0m\u001b[0;34m(\u001b[0m\u001b[0mmethod\u001b[0m\u001b[0;34m,\u001b[0m \u001b[0murl\u001b[0m\u001b[0;34m,\u001b[0m \u001b[0mbody\u001b[0m\u001b[0;34m=\u001b[0m\u001b[0mbody\u001b[0m\u001b[0;34m,\u001b[0m \u001b[0mheaders\u001b[0m\u001b[0;34m=\u001b[0m\u001b[0mheaders\u001b[0m\u001b[0;34m)\u001b[0m\u001b[0;34m\u001b[0m\u001b[0;34m\u001b[0m\u001b[0m\n\u001b[0m\u001b[1;32m    370\u001b[0m             \u001b[0mstatuscode\u001b[0m \u001b[0;34m=\u001b[0m \u001b[0mresponse\u001b[0m\u001b[0;34m.\u001b[0m\u001b[0mstatus\u001b[0m\u001b[0;34m\u001b[0m\u001b[0;34m\u001b[0m\u001b[0m\n\u001b[1;32m    371\u001b[0m         \u001b[0;32melse\u001b[0m\u001b[0;34m:\u001b[0m\u001b[0;34m\u001b[0m\u001b[0;34m\u001b[0m\u001b[0m\n",
      "\u001b[0;32m~/miniconda3/lib/python3.9/site-packages/urllib3/request.py\u001b[0m in \u001b[0;36mrequest\u001b[0;34m(self, method, url, fields, headers, **urlopen_kw)\u001b[0m\n\u001b[1;32m     72\u001b[0m \u001b[0;34m\u001b[0m\u001b[0m\n\u001b[1;32m     73\u001b[0m         \u001b[0;32mif\u001b[0m \u001b[0mmethod\u001b[0m \u001b[0;32min\u001b[0m \u001b[0mself\u001b[0m\u001b[0;34m.\u001b[0m\u001b[0m_encode_url_methods\u001b[0m\u001b[0;34m:\u001b[0m\u001b[0;34m\u001b[0m\u001b[0;34m\u001b[0m\u001b[0m\n\u001b[0;32m---> 74\u001b[0;31m             return self.request_encode_url(\n\u001b[0m\u001b[1;32m     75\u001b[0m                 \u001b[0mmethod\u001b[0m\u001b[0;34m,\u001b[0m \u001b[0murl\u001b[0m\u001b[0;34m,\u001b[0m \u001b[0mfields\u001b[0m\u001b[0;34m=\u001b[0m\u001b[0mfields\u001b[0m\u001b[0;34m,\u001b[0m \u001b[0mheaders\u001b[0m\u001b[0;34m=\u001b[0m\u001b[0mheaders\u001b[0m\u001b[0;34m,\u001b[0m \u001b[0;34m**\u001b[0m\u001b[0murlopen_kw\u001b[0m\u001b[0;34m\u001b[0m\u001b[0;34m\u001b[0m\u001b[0m\n\u001b[1;32m     76\u001b[0m             )\n",
      "\u001b[0;32m~/miniconda3/lib/python3.9/site-packages/urllib3/request.py\u001b[0m in \u001b[0;36mrequest_encode_url\u001b[0;34m(self, method, url, fields, headers, **urlopen_kw)\u001b[0m\n\u001b[1;32m     94\u001b[0m             \u001b[0murl\u001b[0m \u001b[0;34m+=\u001b[0m \u001b[0;34m\"?\"\u001b[0m \u001b[0;34m+\u001b[0m \u001b[0murlencode\u001b[0m\u001b[0;34m(\u001b[0m\u001b[0mfields\u001b[0m\u001b[0;34m)\u001b[0m\u001b[0;34m\u001b[0m\u001b[0;34m\u001b[0m\u001b[0m\n\u001b[1;32m     95\u001b[0m \u001b[0;34m\u001b[0m\u001b[0m\n\u001b[0;32m---> 96\u001b[0;31m         \u001b[0;32mreturn\u001b[0m \u001b[0mself\u001b[0m\u001b[0;34m.\u001b[0m\u001b[0murlopen\u001b[0m\u001b[0;34m(\u001b[0m\u001b[0mmethod\u001b[0m\u001b[0;34m,\u001b[0m \u001b[0murl\u001b[0m\u001b[0;34m,\u001b[0m \u001b[0;34m**\u001b[0m\u001b[0mextra_kw\u001b[0m\u001b[0;34m)\u001b[0m\u001b[0;34m\u001b[0m\u001b[0;34m\u001b[0m\u001b[0m\n\u001b[0m\u001b[1;32m     97\u001b[0m \u001b[0;34m\u001b[0m\u001b[0m\n\u001b[1;32m     98\u001b[0m     def request_encode_body(\n",
      "\u001b[0;32m~/miniconda3/lib/python3.9/site-packages/urllib3/poolmanager.py\u001b[0m in \u001b[0;36murlopen\u001b[0;34m(self, method, url, redirect, **kw)\u001b[0m\n\u001b[1;32m    374\u001b[0m             \u001b[0mresponse\u001b[0m \u001b[0;34m=\u001b[0m \u001b[0mconn\u001b[0m\u001b[0;34m.\u001b[0m\u001b[0murlopen\u001b[0m\u001b[0;34m(\u001b[0m\u001b[0mmethod\u001b[0m\u001b[0;34m,\u001b[0m \u001b[0murl\u001b[0m\u001b[0;34m,\u001b[0m \u001b[0;34m**\u001b[0m\u001b[0mkw\u001b[0m\u001b[0;34m)\u001b[0m\u001b[0;34m\u001b[0m\u001b[0;34m\u001b[0m\u001b[0m\n\u001b[1;32m    375\u001b[0m         \u001b[0;32melse\u001b[0m\u001b[0;34m:\u001b[0m\u001b[0;34m\u001b[0m\u001b[0;34m\u001b[0m\u001b[0m\n\u001b[0;32m--> 376\u001b[0;31m             \u001b[0mresponse\u001b[0m \u001b[0;34m=\u001b[0m \u001b[0mconn\u001b[0m\u001b[0;34m.\u001b[0m\u001b[0murlopen\u001b[0m\u001b[0;34m(\u001b[0m\u001b[0mmethod\u001b[0m\u001b[0;34m,\u001b[0m \u001b[0mu\u001b[0m\u001b[0;34m.\u001b[0m\u001b[0mrequest_uri\u001b[0m\u001b[0;34m,\u001b[0m \u001b[0;34m**\u001b[0m\u001b[0mkw\u001b[0m\u001b[0;34m)\u001b[0m\u001b[0;34m\u001b[0m\u001b[0;34m\u001b[0m\u001b[0m\n\u001b[0m\u001b[1;32m    377\u001b[0m \u001b[0;34m\u001b[0m\u001b[0m\n\u001b[1;32m    378\u001b[0m         \u001b[0mredirect_location\u001b[0m \u001b[0;34m=\u001b[0m \u001b[0mredirect\u001b[0m \u001b[0;32mand\u001b[0m \u001b[0mresponse\u001b[0m\u001b[0;34m.\u001b[0m\u001b[0mget_redirect_location\u001b[0m\u001b[0;34m(\u001b[0m\u001b[0;34m)\u001b[0m\u001b[0;34m\u001b[0m\u001b[0;34m\u001b[0m\u001b[0m\n",
      "\u001b[0;32m~/miniconda3/lib/python3.9/site-packages/urllib3/connectionpool.py\u001b[0m in \u001b[0;36murlopen\u001b[0;34m(self, method, url, body, headers, retries, redirect, assert_same_host, timeout, pool_timeout, release_conn, chunked, body_pos, **response_kw)\u001b[0m\n\u001b[1;32m    701\u001b[0m \u001b[0;34m\u001b[0m\u001b[0m\n\u001b[1;32m    702\u001b[0m             \u001b[0;31m# Make the request on the httplib connection object.\u001b[0m\u001b[0;34m\u001b[0m\u001b[0;34m\u001b[0m\u001b[0;34m\u001b[0m\u001b[0m\n\u001b[0;32m--> 703\u001b[0;31m             httplib_response = self._make_request(\n\u001b[0m\u001b[1;32m    704\u001b[0m                 \u001b[0mconn\u001b[0m\u001b[0;34m,\u001b[0m\u001b[0;34m\u001b[0m\u001b[0;34m\u001b[0m\u001b[0m\n\u001b[1;32m    705\u001b[0m                 \u001b[0mmethod\u001b[0m\u001b[0;34m,\u001b[0m\u001b[0;34m\u001b[0m\u001b[0;34m\u001b[0m\u001b[0m\n",
      "\u001b[0;32m~/miniconda3/lib/python3.9/site-packages/urllib3/connectionpool.py\u001b[0m in \u001b[0;36m_make_request\u001b[0;34m(self, conn, method, url, timeout, chunked, **httplib_request_kw)\u001b[0m\n\u001b[1;32m    447\u001b[0m                     \u001b[0;31m# Python 3 (including for exceptions like SystemExit).\u001b[0m\u001b[0;34m\u001b[0m\u001b[0;34m\u001b[0m\u001b[0;34m\u001b[0m\u001b[0m\n\u001b[1;32m    448\u001b[0m                     \u001b[0;31m# Otherwise it looks like a bug in the code.\u001b[0m\u001b[0;34m\u001b[0m\u001b[0;34m\u001b[0m\u001b[0;34m\u001b[0m\u001b[0m\n\u001b[0;32m--> 449\u001b[0;31m                     \u001b[0msix\u001b[0m\u001b[0;34m.\u001b[0m\u001b[0mraise_from\u001b[0m\u001b[0;34m(\u001b[0m\u001b[0me\u001b[0m\u001b[0;34m,\u001b[0m \u001b[0;32mNone\u001b[0m\u001b[0;34m)\u001b[0m\u001b[0;34m\u001b[0m\u001b[0;34m\u001b[0m\u001b[0m\n\u001b[0m\u001b[1;32m    450\u001b[0m         \u001b[0;32mexcept\u001b[0m \u001b[0;34m(\u001b[0m\u001b[0mSocketTimeout\u001b[0m\u001b[0;34m,\u001b[0m \u001b[0mBaseSSLError\u001b[0m\u001b[0;34m,\u001b[0m \u001b[0mSocketError\u001b[0m\u001b[0;34m)\u001b[0m \u001b[0;32mas\u001b[0m \u001b[0me\u001b[0m\u001b[0;34m:\u001b[0m\u001b[0;34m\u001b[0m\u001b[0;34m\u001b[0m\u001b[0m\n\u001b[1;32m    451\u001b[0m             \u001b[0mself\u001b[0m\u001b[0;34m.\u001b[0m\u001b[0m_raise_timeout\u001b[0m\u001b[0;34m(\u001b[0m\u001b[0merr\u001b[0m\u001b[0;34m=\u001b[0m\u001b[0me\u001b[0m\u001b[0;34m,\u001b[0m \u001b[0murl\u001b[0m\u001b[0;34m=\u001b[0m\u001b[0murl\u001b[0m\u001b[0;34m,\u001b[0m \u001b[0mtimeout_value\u001b[0m\u001b[0;34m=\u001b[0m\u001b[0mread_timeout\u001b[0m\u001b[0;34m)\u001b[0m\u001b[0;34m\u001b[0m\u001b[0;34m\u001b[0m\u001b[0m\n",
      "\u001b[0;32m~/miniconda3/lib/python3.9/site-packages/urllib3/packages/six.py\u001b[0m in \u001b[0;36mraise_from\u001b[0;34m(value, from_value)\u001b[0m\n",
      "\u001b[0;32m~/miniconda3/lib/python3.9/site-packages/urllib3/connectionpool.py\u001b[0m in \u001b[0;36m_make_request\u001b[0;34m(self, conn, method, url, timeout, chunked, **httplib_request_kw)\u001b[0m\n\u001b[1;32m    442\u001b[0m                 \u001b[0;31m# Python 3\u001b[0m\u001b[0;34m\u001b[0m\u001b[0;34m\u001b[0m\u001b[0;34m\u001b[0m\u001b[0m\n\u001b[1;32m    443\u001b[0m                 \u001b[0;32mtry\u001b[0m\u001b[0;34m:\u001b[0m\u001b[0;34m\u001b[0m\u001b[0;34m\u001b[0m\u001b[0m\n\u001b[0;32m--> 444\u001b[0;31m                     \u001b[0mhttplib_response\u001b[0m \u001b[0;34m=\u001b[0m \u001b[0mconn\u001b[0m\u001b[0;34m.\u001b[0m\u001b[0mgetresponse\u001b[0m\u001b[0;34m(\u001b[0m\u001b[0;34m)\u001b[0m\u001b[0;34m\u001b[0m\u001b[0;34m\u001b[0m\u001b[0m\n\u001b[0m\u001b[1;32m    445\u001b[0m                 \u001b[0;32mexcept\u001b[0m \u001b[0mBaseException\u001b[0m \u001b[0;32mas\u001b[0m \u001b[0me\u001b[0m\u001b[0;34m:\u001b[0m\u001b[0;34m\u001b[0m\u001b[0;34m\u001b[0m\u001b[0m\n\u001b[1;32m    446\u001b[0m                     \u001b[0;31m# Remove the TypeError from the exception chain in\u001b[0m\u001b[0;34m\u001b[0m\u001b[0;34m\u001b[0m\u001b[0;34m\u001b[0m\u001b[0m\n",
      "\u001b[0;32m~/miniconda3/lib/python3.9/http/client.py\u001b[0m in \u001b[0;36mgetresponse\u001b[0;34m(self)\u001b[0m\n\u001b[1;32m   1343\u001b[0m         \u001b[0;32mtry\u001b[0m\u001b[0;34m:\u001b[0m\u001b[0;34m\u001b[0m\u001b[0;34m\u001b[0m\u001b[0m\n\u001b[1;32m   1344\u001b[0m             \u001b[0;32mtry\u001b[0m\u001b[0;34m:\u001b[0m\u001b[0;34m\u001b[0m\u001b[0;34m\u001b[0m\u001b[0m\n\u001b[0;32m-> 1345\u001b[0;31m                 \u001b[0mresponse\u001b[0m\u001b[0;34m.\u001b[0m\u001b[0mbegin\u001b[0m\u001b[0;34m(\u001b[0m\u001b[0;34m)\u001b[0m\u001b[0;34m\u001b[0m\u001b[0;34m\u001b[0m\u001b[0m\n\u001b[0m\u001b[1;32m   1346\u001b[0m             \u001b[0;32mexcept\u001b[0m \u001b[0mConnectionError\u001b[0m\u001b[0;34m:\u001b[0m\u001b[0;34m\u001b[0m\u001b[0;34m\u001b[0m\u001b[0m\n\u001b[1;32m   1347\u001b[0m                 \u001b[0mself\u001b[0m\u001b[0;34m.\u001b[0m\u001b[0mclose\u001b[0m\u001b[0;34m(\u001b[0m\u001b[0;34m)\u001b[0m\u001b[0;34m\u001b[0m\u001b[0;34m\u001b[0m\u001b[0m\n",
      "\u001b[0;32m~/miniconda3/lib/python3.9/http/client.py\u001b[0m in \u001b[0;36mbegin\u001b[0;34m(self)\u001b[0m\n\u001b[1;32m    305\u001b[0m         \u001b[0;31m# read until we get a non-100 response\u001b[0m\u001b[0;34m\u001b[0m\u001b[0;34m\u001b[0m\u001b[0;34m\u001b[0m\u001b[0m\n\u001b[1;32m    306\u001b[0m         \u001b[0;32mwhile\u001b[0m \u001b[0;32mTrue\u001b[0m\u001b[0;34m:\u001b[0m\u001b[0;34m\u001b[0m\u001b[0;34m\u001b[0m\u001b[0m\n\u001b[0;32m--> 307\u001b[0;31m             \u001b[0mversion\u001b[0m\u001b[0;34m,\u001b[0m \u001b[0mstatus\u001b[0m\u001b[0;34m,\u001b[0m \u001b[0mreason\u001b[0m \u001b[0;34m=\u001b[0m \u001b[0mself\u001b[0m\u001b[0;34m.\u001b[0m\u001b[0m_read_status\u001b[0m\u001b[0;34m(\u001b[0m\u001b[0;34m)\u001b[0m\u001b[0;34m\u001b[0m\u001b[0;34m\u001b[0m\u001b[0m\n\u001b[0m\u001b[1;32m    308\u001b[0m             \u001b[0;32mif\u001b[0m \u001b[0mstatus\u001b[0m \u001b[0;34m!=\u001b[0m \u001b[0mCONTINUE\u001b[0m\u001b[0;34m:\u001b[0m\u001b[0;34m\u001b[0m\u001b[0;34m\u001b[0m\u001b[0m\n\u001b[1;32m    309\u001b[0m                 \u001b[0;32mbreak\u001b[0m\u001b[0;34m\u001b[0m\u001b[0;34m\u001b[0m\u001b[0m\n",
      "\u001b[0;32m~/miniconda3/lib/python3.9/http/client.py\u001b[0m in \u001b[0;36m_read_status\u001b[0;34m(self)\u001b[0m\n\u001b[1;32m    266\u001b[0m \u001b[0;34m\u001b[0m\u001b[0m\n\u001b[1;32m    267\u001b[0m     \u001b[0;32mdef\u001b[0m \u001b[0m_read_status\u001b[0m\u001b[0;34m(\u001b[0m\u001b[0mself\u001b[0m\u001b[0;34m)\u001b[0m\u001b[0;34m:\u001b[0m\u001b[0;34m\u001b[0m\u001b[0;34m\u001b[0m\u001b[0m\n\u001b[0;32m--> 268\u001b[0;31m         \u001b[0mline\u001b[0m \u001b[0;34m=\u001b[0m \u001b[0mstr\u001b[0m\u001b[0;34m(\u001b[0m\u001b[0mself\u001b[0m\u001b[0;34m.\u001b[0m\u001b[0mfp\u001b[0m\u001b[0;34m.\u001b[0m\u001b[0mreadline\u001b[0m\u001b[0;34m(\u001b[0m\u001b[0m_MAXLINE\u001b[0m \u001b[0;34m+\u001b[0m \u001b[0;36m1\u001b[0m\u001b[0;34m)\u001b[0m\u001b[0;34m,\u001b[0m \u001b[0;34m\"iso-8859-1\"\u001b[0m\u001b[0;34m)\u001b[0m\u001b[0;34m\u001b[0m\u001b[0;34m\u001b[0m\u001b[0m\n\u001b[0m\u001b[1;32m    269\u001b[0m         \u001b[0;32mif\u001b[0m \u001b[0mlen\u001b[0m\u001b[0;34m(\u001b[0m\u001b[0mline\u001b[0m\u001b[0;34m)\u001b[0m \u001b[0;34m>\u001b[0m \u001b[0m_MAXLINE\u001b[0m\u001b[0;34m:\u001b[0m\u001b[0;34m\u001b[0m\u001b[0;34m\u001b[0m\u001b[0m\n\u001b[1;32m    270\u001b[0m             \u001b[0;32mraise\u001b[0m \u001b[0mLineTooLong\u001b[0m\u001b[0;34m(\u001b[0m\u001b[0;34m\"status line\"\u001b[0m\u001b[0;34m)\u001b[0m\u001b[0;34m\u001b[0m\u001b[0;34m\u001b[0m\u001b[0m\n",
      "\u001b[0;32m~/miniconda3/lib/python3.9/socket.py\u001b[0m in \u001b[0;36mreadinto\u001b[0;34m(self, b)\u001b[0m\n\u001b[1;32m    702\u001b[0m         \u001b[0;32mwhile\u001b[0m \u001b[0;32mTrue\u001b[0m\u001b[0;34m:\u001b[0m\u001b[0;34m\u001b[0m\u001b[0;34m\u001b[0m\u001b[0m\n\u001b[1;32m    703\u001b[0m             \u001b[0;32mtry\u001b[0m\u001b[0;34m:\u001b[0m\u001b[0;34m\u001b[0m\u001b[0;34m\u001b[0m\u001b[0m\n\u001b[0;32m--> 704\u001b[0;31m                 \u001b[0;32mreturn\u001b[0m \u001b[0mself\u001b[0m\u001b[0;34m.\u001b[0m\u001b[0m_sock\u001b[0m\u001b[0;34m.\u001b[0m\u001b[0mrecv_into\u001b[0m\u001b[0;34m(\u001b[0m\u001b[0mb\u001b[0m\u001b[0;34m)\u001b[0m\u001b[0;34m\u001b[0m\u001b[0;34m\u001b[0m\u001b[0m\n\u001b[0m\u001b[1;32m    705\u001b[0m             \u001b[0;32mexcept\u001b[0m \u001b[0mtimeout\u001b[0m\u001b[0;34m:\u001b[0m\u001b[0;34m\u001b[0m\u001b[0;34m\u001b[0m\u001b[0m\n\u001b[1;32m    706\u001b[0m                 \u001b[0mself\u001b[0m\u001b[0;34m.\u001b[0m\u001b[0m_timeout_occurred\u001b[0m \u001b[0;34m=\u001b[0m \u001b[0;32mTrue\u001b[0m\u001b[0;34m\u001b[0m\u001b[0;34m\u001b[0m\u001b[0m\n",
      "\u001b[0;31mKeyboardInterrupt\u001b[0m: "
     ]
    }
   ],
   "source": [
    "df_links = list(pd.read_csv('resumes_all.csv')['Ссылка'])[:300]  # rm [:300]\n",
    "\n",
    "resume_list = []\n",
    "for link in df_links:\n",
    "    # print(link)\n",
    "    data = scrape(link, driver)\n",
    "    resume_list.append(data)\n",
    "\n",
    "df = pd.DataFrame(resume_list, columns=['Ссылка',\n",
    "                                        'Название',\n",
    "                                        'Коммандировка', \n",
    "                                        'Опыт работы, лет',\n",
    "                                        'О себе',\n",
    "                                        'Образование',\n",
    "                                        'Интересы',\n",
    "                                        'Навыки',\n",
    "                                        'Образование-1',\n",
    "                                        'Образование-2',\n",
    "                                        'Уровень образование',\n",
    "                                        'Кол-во образований',\n",
    "                                        'Работа 1',\n",
    "                                        'Работа 2',\n",
    "                                        'Где работал?',\n",
    "                                        'Кол-во работ'])\n",
    "df.to_csv('resumes_features.csv')\n",
    "df.head(2)"
   ]
  },
  {
   "cell_type": "markdown",
   "id": "a4967ca8-0e3b-4655-b263-f1459bcbd46c",
   "metadata": {},
   "source": [
    "Это просто случайно продублировалось??"
   ]
  },
  {
   "cell_type": "code",
   "execution_count": 205,
   "id": "384b89cc-735f-4837-9929-9fa6fffde554",
   "metadata": {},
   "outputs": [
    {
     "data": {
      "text/html": [
       "<div>\n",
       "<style scoped>\n",
       "    .dataframe tbody tr th:only-of-type {\n",
       "        vertical-align: middle;\n",
       "    }\n",
       "\n",
       "    .dataframe tbody tr th {\n",
       "        vertical-align: top;\n",
       "    }\n",
       "\n",
       "    .dataframe thead th {\n",
       "        text-align: right;\n",
       "    }\n",
       "</style>\n",
       "<table border=\"1\" class=\"dataframe\">\n",
       "  <thead>\n",
       "    <tr style=\"text-align: right;\">\n",
       "      <th></th>\n",
       "      <th>Ссылка</th>\n",
       "      <th>Название</th>\n",
       "      <th>Коммандировка</th>\n",
       "      <th>Опыт работы, лет</th>\n",
       "      <th>О себе</th>\n",
       "      <th>Образование</th>\n",
       "      <th>Интересы</th>\n",
       "      <th>Навыки</th>\n",
       "      <th>Образование-1</th>\n",
       "      <th>Образование-2</th>\n",
       "      <th>Уровень образование</th>\n",
       "      <th>Кол-во образований</th>\n",
       "      <th>Работа 1</th>\n",
       "      <th>Работа 2</th>\n",
       "      <th>Где работал?</th>\n",
       "      <th>Кол-во работ</th>\n",
       "    </tr>\n",
       "  </thead>\n",
       "  <tbody>\n",
       "    <tr>\n",
       "      <th>0</th>\n",
       "      <td>https://hh.ru/resume/1aa91e410000fd3cda0039ed1...</td>\n",
       "      <td>Analyst</td>\n",
       "      <td>Moscow, willing to relocate, prepared for occa...</td>\n",
       "      <td>Work experience 7 years 4 months</td>\n",
       "      <td>Responsible, communicable, quick study and det...</td>\n",
       "      <td>Higher education\\n2015\\nMOSCOW STATE UNIVERSIT...</td>\n",
       "      <td>Specializations:\\nSales manager, account manag...</td>\n",
       "      <td>Key skills\\nAnalitical thinking\\nEnglish\\nOrga...</td>\n",
       "      <td>MOSCOW STATE UNIVERSITY OF MECHANICAL ENGINEER...</td>\n",
       "      <td></td>\n",
       "      <td>Higher education</td>\n",
       "      <td>1</td>\n",
       "      <td>NUTRICIA\\nMoscow, nutricia.ru\\nFood Products.....</td>\n",
       "      <td>Volkswagen Group Russia\\nMoscow, www.volkswage...</td>\n",
       "      <td>[NUTRICIA\\nMoscow, nutricia.ru\\nFood Products....</td>\n",
       "      <td>4</td>\n",
       "    </tr>\n",
       "    <tr>\n",
       "      <th>1</th>\n",
       "      <td>https://hh.ru/resume/628596ac000657935b0039ed1...</td>\n",
       "      <td>BI аналитик</td>\n",
       "      <td>Москва, не готова к переезду, готова к редким ...</td>\n",
       "      <td>Опыт работы 1 год 5 месяцев</td>\n",
       "      <td>В последние годы проходила обучение без возмож...</td>\n",
       "      <td>Высшее образование (Бакалавр)\\n2022\\nНациональ...</td>\n",
       "      <td>Специализации:\\nBI-аналитик, аналитик данных\\n...</td>\n",
       "      <td>Ключевые навыки\\nTableau\\nPower BI\\nSQL\\nMS Ex...</td>\n",
       "      <td>Национальный исследовательский университет \"Вы...</td>\n",
       "      <td></td>\n",
       "      <td>Высшее образование (Бакалавр)</td>\n",
       "      <td>1</td>\n",
       "      <td>Ozon\\nМладший аналитик\\nСоздание, поддержка и ...</td>\n",
       "      <td>OZON\\nСтажер группы BI аналитики и отчетности\\...</td>\n",
       "      <td>[Ozon\\nМладший аналитик\\nСоздание, поддержка и...</td>\n",
       "      <td>3</td>\n",
       "    </tr>\n",
       "  </tbody>\n",
       "</table>\n",
       "</div>"
      ],
      "text/plain": [
       "                                              Ссылка     Название  \\\n",
       "0  https://hh.ru/resume/1aa91e410000fd3cda0039ed1...      Analyst   \n",
       "1  https://hh.ru/resume/628596ac000657935b0039ed1...  BI аналитик   \n",
       "\n",
       "                                       Коммандировка  \\\n",
       "0  Moscow, willing to relocate, prepared for occa...   \n",
       "1  Москва, не готова к переезду, готова к редким ...   \n",
       "\n",
       "                   Опыт работы, лет  \\\n",
       "0  Work experience 7 years 4 months   \n",
       "1       Опыт работы 1 год 5 месяцев   \n",
       "\n",
       "                                              О себе  \\\n",
       "0  Responsible, communicable, quick study and det...   \n",
       "1  В последние годы проходила обучение без возмож...   \n",
       "\n",
       "                                         Образование  \\\n",
       "0  Higher education\\n2015\\nMOSCOW STATE UNIVERSIT...   \n",
       "1  Высшее образование (Бакалавр)\\n2022\\nНациональ...   \n",
       "\n",
       "                                            Интересы  \\\n",
       "0  Specializations:\\nSales manager, account manag...   \n",
       "1  Специализации:\\nBI-аналитик, аналитик данных\\n...   \n",
       "\n",
       "                                              Навыки  \\\n",
       "0  Key skills\\nAnalitical thinking\\nEnglish\\nOrga...   \n",
       "1  Ключевые навыки\\nTableau\\nPower BI\\nSQL\\nMS Ex...   \n",
       "\n",
       "                                       Образование-1 Образование-2  \\\n",
       "0  MOSCOW STATE UNIVERSITY OF MECHANICAL ENGINEER...                 \n",
       "1  Национальный исследовательский университет \"Вы...                 \n",
       "\n",
       "             Уровень образование  Кол-во образований  \\\n",
       "0               Higher education                   1   \n",
       "1  Высшее образование (Бакалавр)                   1   \n",
       "\n",
       "                                            Работа 1  \\\n",
       "0  NUTRICIA\\nMoscow, nutricia.ru\\nFood Products.....   \n",
       "1  Ozon\\nМладший аналитик\\nСоздание, поддержка и ...   \n",
       "\n",
       "                                            Работа 2  \\\n",
       "0  Volkswagen Group Russia\\nMoscow, www.volkswage...   \n",
       "1  OZON\\nСтажер группы BI аналитики и отчетности\\...   \n",
       "\n",
       "                                        Где работал?  Кол-во работ  \n",
       "0  [NUTRICIA\\nMoscow, nutricia.ru\\nFood Products....             4  \n",
       "1  [Ozon\\nМладший аналитик\\nСоздание, поддержка и...             3  "
      ]
     },
     "execution_count": 205,
     "metadata": {},
     "output_type": "execute_result"
    }
   ],
   "source": [
    "df = pd.DataFrame(resume_list, columns=['Ссылка',\n",
    "                                        'Название',\n",
    "                                        'Коммандировка', \n",
    "                                        'Опыт работы, лет',\n",
    "                                        'О себе',\n",
    "                                        'Образование',\n",
    "                                        'Интересы',\n",
    "                                        'Навыки',\n",
    "                                        'Образование-1',\n",
    "                                        'Образование-2',\n",
    "                                        'Уровень образование',\n",
    "                                        'Кол-во образований',\n",
    "                                        'Работа 1',\n",
    "                                        'Работа 2',\n",
    "                                        'Где работал?',\n",
    "                                        'Кол-во работ'])\n",
    "df.to_csv('resumes_features.csv')\n",
    "df.head(2)"
   ]
  },
  {
   "cell_type": "markdown",
   "id": "98b78940-4828-4f14-93b5-892430538ce0",
   "metadata": {},
   "source": [
    "На этом все завершено. Перейдем в следующий ноутбук. "
   ]
  },
  {
   "cell_type": "code",
   "execution_count": null,
   "id": "86d0039d-1cff-4ae9-957d-611bc0dbef6f",
   "metadata": {},
   "outputs": [],
   "source": []
  }
 ],
 "metadata": {
  "kernelspec": {
   "display_name": "Python 3 (ipykernel)",
   "language": "python",
   "name": "python3"
  },
  "language_info": {
   "codemirror_mode": {
    "name": "ipython",
    "version": 3
   },
   "file_extension": ".py",
   "mimetype": "text/x-python",
   "name": "python",
   "nbconvert_exporter": "python",
   "pygments_lexer": "ipython3",
   "version": "3.9.5"
  }
 },
 "nbformat": 4,
 "nbformat_minor": 5
}
