{
 "cells": [
  {
   "cell_type": "markdown",
   "id": "af51e523-f6bf-4d14-8add-94f5fc6eba08",
   "metadata": {},
   "source": [
    "## ВКР"
   ]
  },
  {
   "cell_type": "markdown",
   "id": "91f09dd9-dee1-400c-ba31-ff2fb0414ae9",
   "metadata": {},
   "source": [
    "Автоматизация подбора персонала\n",
    "\n",
    "Копчев Владислав, БПМИ197"
   ]
  },
  {
   "cell_type": "markdown",
   "id": "36029f59-53eb-4271-9162-ab954d017cc6",
   "metadata": {},
   "source": [
    "### Библиотеки"
   ]
  },
  {
   "cell_type": "markdown",
   "id": "1879cb0b-afd0-46f0-96dd-e68cfe7365ee",
   "metadata": {},
   "source": [
    "selenium поскольку нужен js"
   ]
  },
  {
   "cell_type": "code",
   "execution_count": 25,
   "id": "464dd1a9-9029-4ef3-880e-8bcd33e90746",
   "metadata": {},
   "outputs": [],
   "source": [
    "from bs4 import BeautifulSoup\n",
    "import requests\n",
    "import pandas as pd\n",
    "from selenium import webdriver\n",
    "from selenium.webdriver.common.keys import Keys\n",
    "from selenium.webdriver.common.by import By\n",
    "from selenium.webdriver.support.ui import Select\n",
    "# !pip install transliterate\n",
    "from transliterate import translit"
   ]
  },
  {
   "cell_type": "markdown",
   "id": "fc5ff5b5-25b2-4892-a3c7-8fe3146aa81e",
   "metadata": {},
   "source": [
    "### Скрейпинг страницы со списком резюме"
   ]
  },
  {
   "cell_type": "markdown",
   "id": "6d233c2a-6ab0-42fa-a91a-c9b33b76f3d7",
   "metadata": {},
   "source": [
    "hh.ru не принимает названия с заглавными буквами:"
   ]
  },
  {
   "cell_type": "code",
   "execution_count": 78,
   "id": "3380cf8a-4b97-4411-b29a-a6cbf00a882b",
   "metadata": {},
   "outputs": [],
   "source": [
    "def normalize_translit(ru_query):\n",
    "    text = translit(ru_query, language_code='ru', reversed=True)\n",
    "    text = text.replace(' ', '-').replace('yj', 'yy').replace('yy-', 'yy_').replace('es-', 'es_').replace('k-pr', 'k_pr')  # эвристическое правило, не знаю, почему у hh так...\n",
    "    return text"
   ]
  },
  {
   "cell_type": "code",
   "execution_count": 82,
   "id": "f1f311d6-c3d2-4a2c-9969-3f3f8a7b79b4",
   "metadata": {},
   "outputs": [
    {
     "name": "stderr",
     "output_type": "stream",
     "text": [
      "<ipython-input-82-c83a548329b0>:1: DeprecationWarning: executable_path has been deprecated, please pass in a Service object\n",
      "  driver = webdriver.Chrome('./chromedriver')\n"
     ]
    }
   ],
   "source": [
    "driver = webdriver.Chrome('./chromedriver')\n",
    "\n",
    "def scrape(query, driver):\n",
    "    pages_count = 10  # соскрейпить это число иначе ошибки!\n",
    "    for n in range(pages_count):  # проблема!!\n",
    "        link = 'https://hh.ru/resumes/{}?items_on_page=100&page={}'.format(query, n)  # 100 per page\n",
    "        driver.get(link)\n",
    "\n",
    "        resumes_list = driver.find_element(by=By.XPATH, value='//div[@class=\"resume-search-item__header\"]')\n",
    "        # resumes_list.click()  # стоп а зачем это...\n",
    "        resumes = resumes_list.find_element(by=By.XPATH, value='//div[@data-qa=\"resume-serp__results-search\"]').find_elements(by=By.XPATH, value='//a[@class=\"serp-item__title\"]')\n",
    "\n",
    "        resumes_parsed = []\n",
    "        for x in resumes:\n",
    "            resumes_parsed.append((x.text, x.get_attribute(\"href\")))\n",
    "\n",
    "        if n == 0:\n",
    "            df = pd.DataFrame(resumes_parsed, columns=['Вакансия', 'Ссылка'])\n",
    "            # print(len(resumes_parsed))\n",
    "        else:\n",
    "            # print(len(resumes_parsed))\n",
    "            df2 = pd.DataFrame(resumes_parsed, columns=['Вакансия', 'Ссылка'])  # , index=list(range(0 + 100 * n, 100 + 100 * n)) n00, ..., n99n = 0, ..., 49\n",
    "            df = pd.concat([df, df2])\n",
    "    \n",
    "    return df"
   ]
  },
  {
   "cell_type": "code",
   "execution_count": 83,
   "id": "6cfee91a-2275-4897-9388-52ff10ae503b",
   "metadata": {},
   "outputs": [],
   "source": [
    "analysts_list = ['аналитик bi',\n",
    "                'системный аналитик',\n",
    "                'бизнес аналитик',\n",
    "                'аналитик продаж',\n",
    "                'финансовый аналитик',\n",
    "                'аналитик данных',\n",
    "                'data analyst']\n",
    "analysts_map = dict()\n",
    "\n",
    "for analyst in analysts_list:\n",
    "    analysts_map[analyst] = scrape(normalize_translit(analyst), driver)\n",
    "    analysts_map[analyst].index = range(analysts_map[analyst].shape[0])"
   ]
  },
  {
   "cell_type": "markdown",
   "id": "99b757ab-35ff-4b8f-bb2f-dfcdf4d5509f",
   "metadata": {},
   "source": [
    "Конкатеннация результатов:"
   ]
  },
  {
   "cell_type": "code",
   "execution_count": 85,
   "id": "5c397d65-510a-40c0-9e18-9a51ed39aeb5",
   "metadata": {},
   "outputs": [],
   "source": [
    "df1 = pd.DataFrame()\n",
    "\n",
    "for analyst in analysts_list:\n",
    "    df2 = analysts_map[analyst]\n",
    "    df1 = pd.concat([df1, df2])\n",
    "    \n",
    "df1.index = range(df1.shape[0])\n",
    "df1.to_csv('resumes_all.csv')"
   ]
  },
  {
   "cell_type": "markdown",
   "id": "ff0c69ad-1610-4cdf-bf65-49c288d36000",
   "metadata": {},
   "source": [
    "### Скрейпинг страницы с конкретным резюме"
   ]
  },
  {
   "cell_type": "code",
   "execution_count": 93,
   "id": "0445c03a-02a9-4ba0-b6cf-d9bd909e055a",
   "metadata": {},
   "outputs": [],
   "source": [
    "def normalize(x):\n",
    "    if x:\n",
    "        x = x[0].text\n",
    "    else:\n",
    "        x = '---'  # так будет лучше чем просто ' '?\n",
    "    return x"
   ]
  },
  {
   "cell_type": "code",
   "execution_count": 94,
   "id": "437c3dd5-d4c4-4e6d-a8cf-e8aababc98c1",
   "metadata": {
    "tags": []
   },
   "outputs": [],
   "source": [
    "def scrape(link, driver):\n",
    "    driver.get(link)\n",
    "    comandirovka = driver.find_elements(by=By.XPATH, value='//div[@class=\"bloko-translate-guard\"]')\n",
    "    comandirovka = normalize(comandirovka)  # норм?\n",
    "    \n",
    "    opyt = driver.find_elements(by=By.XPATH, value='//span[@class=\"resume-block__title-text resume-block__title-text_sub\"]')\n",
    "    opyt = normalize(opyt)\n",
    "\n",
    "    about = driver.find_elements(by=By.XPATH, value='//div[@class=\"resume-block-container\"][@data-qa=\"resume-block-skills-content\"]')\n",
    "    about = normalize(about)\n",
    "        \n",
    "    educ = driver.find_elements(by=By.XPATH, value='//div[@class=\"resume-block\"][@data-qa=\"resume-block-education\"]')\n",
    "    educ = normalize(educ)\n",
    "        \n",
    "    inter = driver.find_elements(by=By.XPATH, value='//div[@class=\"resume-block-item-gap\"]')\n",
    "    inter = normalize(inter)\n",
    "        \n",
    "    inter2 = driver.find_elements(by=By.XPATH, value='//div[@class=\"key-skills-row\"][@data-qa=\"tags-key-skills\"]')\n",
    "    inter2 = normalize(inter2)\n",
    "        \n",
    "    return (comandirovka, opyt, about, educ, inter, inter2, link)"
   ]
  },
  {
   "cell_type": "code",
   "execution_count": 97,
   "id": "1b12fde2-b744-48ce-823d-634eb0165485",
   "metadata": {
    "tags": []
   },
   "outputs": [
    {
     "name": "stderr",
     "output_type": "stream",
     "text": [
      "<ipython-input-97-68cf740f9a54>:4: DeprecationWarning: executable_path has been deprecated, please pass in a Service object\n",
      "  driver = webdriver.Chrome('./chromedriver')\n"
     ]
    },
    {
     "data": {
      "text/html": [
       "<div>\n",
       "<style scoped>\n",
       "    .dataframe tbody tr th:only-of-type {\n",
       "        vertical-align: middle;\n",
       "    }\n",
       "\n",
       "    .dataframe tbody tr th {\n",
       "        vertical-align: top;\n",
       "    }\n",
       "\n",
       "    .dataframe thead th {\n",
       "        text-align: right;\n",
       "    }\n",
       "</style>\n",
       "<table border=\"1\" class=\"dataframe\">\n",
       "  <thead>\n",
       "    <tr style=\"text-align: right;\">\n",
       "      <th></th>\n",
       "      <th>Коммандировка</th>\n",
       "      <th>Опыт</th>\n",
       "      <th>О себе</th>\n",
       "      <th>Образование</th>\n",
       "      <th>Интересы</th>\n",
       "      <th>Навыки</th>\n",
       "      <th>Ссылка</th>\n",
       "    </tr>\n",
       "  </thead>\n",
       "  <tbody>\n",
       "    <tr>\n",
       "      <th>0</th>\n",
       "      <td>Moscow, willing to relocate, prepared for occa...</td>\n",
       "      <td>Work experience 7 years 4 months</td>\n",
       "      <td>Responsible, communicable, quick study and det...</td>\n",
       "      <td>Higher education\\n2015\\nMOSCOW STATE UNIVERSIT...</td>\n",
       "      <td>Specializations:\\nSales manager, account manag...</td>\n",
       "      <td>Поддержка продаж / владение ПО для поддержки п...</td>\n",
       "      <td>https://hh.ru/resume/1aa91e410000fd3cda0039ed1...</td>\n",
       "    </tr>\n",
       "    <tr>\n",
       "      <th>1</th>\n",
       "      <td>Санкт-Петербург, м. Гражданский проспект, гото...</td>\n",
       "      <td>Опыт работы 7 лет 2 месяца</td>\n",
       "      <td>Имею экономическое образование. Продвинутый по...</td>\n",
       "      <td>Высшее образование (Бакалавр)\\n2015\\nСанкт-Пет...</td>\n",
       "      <td>Специализации:\\nАналитик\\nЗанятость: полная за...</td>\n",
       "      <td>Работа с компьютерными программами, программы ...</td>\n",
       "      <td>https://hh.ru/resume/bebf6a630008069d8c0039ed1...</td>\n",
       "    </tr>\n",
       "  </tbody>\n",
       "</table>\n",
       "</div>"
      ],
      "text/plain": [
       "                                       Коммандировка  \\\n",
       "0  Moscow, willing to relocate, prepared for occa...   \n",
       "1  Санкт-Петербург, м. Гражданский проспект, гото...   \n",
       "\n",
       "                               Опыт  \\\n",
       "0  Work experience 7 years 4 months   \n",
       "1        Опыт работы 7 лет 2 месяца   \n",
       "\n",
       "                                              О себе  \\\n",
       "0  Responsible, communicable, quick study and det...   \n",
       "1  Имею экономическое образование. Продвинутый по...   \n",
       "\n",
       "                                         Образование  \\\n",
       "0  Higher education\\n2015\\nMOSCOW STATE UNIVERSIT...   \n",
       "1  Высшее образование (Бакалавр)\\n2015\\nСанкт-Пет...   \n",
       "\n",
       "                                            Интересы  \\\n",
       "0  Specializations:\\nSales manager, account manag...   \n",
       "1  Специализации:\\nАналитик\\nЗанятость: полная за...   \n",
       "\n",
       "                                              Навыки  \\\n",
       "0  Поддержка продаж / владение ПО для поддержки п...   \n",
       "1  Работа с компьютерными программами, программы ...   \n",
       "\n",
       "                                              Ссылка  \n",
       "0  https://hh.ru/resume/1aa91e410000fd3cda0039ed1...  \n",
       "1  https://hh.ru/resume/bebf6a630008069d8c0039ed1...  "
      ]
     },
     "execution_count": 97,
     "metadata": {},
     "output_type": "execute_result"
    }
   ],
   "source": [
    "df_links = list(pd.read_csv('resumes_all.csv')['Ссылка'])[:100]\n",
    "\n",
    "resume_list = []\n",
    "driver = webdriver.Chrome('./chromedriver')\n",
    "for link in df_links:\n",
    "    # print(link)\n",
    "    data = scrape(link, driver)\n",
    "    resume_list.append(data)\n",
    "\n",
    "df = pd.DataFrame(resume_list, columns=['Коммандировка', \n",
    "                                        'Опыт',\n",
    "                                        'О себе',\n",
    "                                        'Образование',\n",
    "                                        'Интересы',\n",
    "                                        'Навыки',\n",
    "                                        'Ссылка'])\n",
    "df.to_csv('resumes_features.csv')\n",
    "df.head(2)"
   ]
  },
  {
   "cell_type": "markdown",
   "id": "908edf88-95cc-4377-a0df-ccbe5989c566",
   "metadata": {},
   "source": [
    "^ скрейпер работает ок, буду собирать только 100 вакансий, сейчас учу его собирать новые признаки. дальше бекапнуть resumes_features!!"
   ]
  },
  {
   "cell_type": "markdown",
   "id": "0fd863dc-20ca-4d03-b127-57fa15dec3a7",
   "metadata": {},
   "source": [
    "Открыть рандом вакансию и соскрейпить это\n",
    "\n",
    "```\n",
    "'Ready_2_move' - флаг ‘готов к переезду’\n",
    "'Ready_4_business_trip' -  флаг ‘готов к командировкам’\n",
    "'Description' - личное описание кандидата \n",
    "'Tags' - теги (основные навыки и интересы)\n",
    "'Graduation' - образование \n",
    "'EduLevel' - уровень образования \n",
    "'LastUni' - последний университет 1\n",
    "'LastUni_2' - последний университет 2\n",
    "'N_Unis' - количество мест, где человек обучался\n",
    "'URL'\n",
    "```"
   ]
  },
  {
   "cell_type": "markdown",
   "id": "05c0277a-7d3e-442f-b893-f8542f5bd298",
   "metadata": {},
   "source": [
    "Что теперь?\n",
    "\n",
    "1. Научить его выгружать не список образований/работ текстом, а списком. После этого создать фичи с последними двумя местами работы. А также двумя университетами и кол-вом образований. \n",
    "\n",
    "2. Научить его собирать Ссылку и Имя, притом в начале таблицы\n",
    "\n",
    "3. Начать делать справочник по образованию (различные варианты обозначить текстом один и тот же вуз) и добавить признак топовости образования"
   ]
  },
  {
   "cell_type": "code",
   "execution_count": null,
   "id": "076dd737-3dc0-4a17-8b4e-d4b142e6526b",
   "metadata": {},
   "outputs": [],
   "source": []
  }
 ],
 "metadata": {
  "kernelspec": {
   "display_name": "Python 3",
   "language": "python",
   "name": "python3"
  },
  "language_info": {
   "codemirror_mode": {
    "name": "ipython",
    "version": 3
   },
   "file_extension": ".py",
   "mimetype": "text/x-python",
   "name": "python",
   "nbconvert_exporter": "python",
   "pygments_lexer": "ipython3",
   "version": "3.9.5"
  }
 },
 "nbformat": 4,
 "nbformat_minor": 5
}
