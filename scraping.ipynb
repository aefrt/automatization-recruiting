{
 "cells": [
  {
   "cell_type": "markdown",
   "id": "af51e523-f6bf-4d14-8add-94f5fc6eba08",
   "metadata": {},
   "source": [
    "## ВКР"
   ]
  },
  {
   "cell_type": "markdown",
   "id": "91f09dd9-dee1-400c-ba31-ff2fb0414ae9",
   "metadata": {},
   "source": [
    "Автоматизация подбора персонала\n",
    "\n",
    "Копчев Владислав, БПМИ197"
   ]
  },
  {
   "cell_type": "markdown",
   "id": "36029f59-53eb-4271-9162-ab954d017cc6",
   "metadata": {},
   "source": [
    "### Библиотеки"
   ]
  },
  {
   "cell_type": "markdown",
   "id": "1879cb0b-afd0-46f0-96dd-e68cfe7365ee",
   "metadata": {},
   "source": [
    "selenium поскольку нужен js"
   ]
  },
  {
   "cell_type": "code",
   "execution_count": 1,
   "id": "464dd1a9-9029-4ef3-880e-8bcd33e90746",
   "metadata": {},
   "outputs": [],
   "source": [
    "from bs4 import BeautifulSoup\n",
    "import requests\n",
    "import pandas as pd\n",
    "from selenium import webdriver\n",
    "from selenium.webdriver.common.keys import Keys\n",
    "from selenium.webdriver.common.by import By\n",
    "from selenium.webdriver.support.ui import Select\n",
    "# !pip install transliterate\n",
    "from transliterate import translit\n",
    "import re\n",
    "import numpy as np"
   ]
  },
  {
   "cell_type": "markdown",
   "id": "fc5ff5b5-25b2-4892-a3c7-8fe3146aa81e",
   "metadata": {},
   "source": [
    "### Скрейпинг страницы со списком резюме"
   ]
  },
  {
   "cell_type": "markdown",
   "id": "6d233c2a-6ab0-42fa-a91a-c9b33b76f3d7",
   "metadata": {},
   "source": [
    "hh.ru не принимает названия с заглавными буквами:"
   ]
  },
  {
   "cell_type": "code",
   "execution_count": 126,
   "id": "3380cf8a-4b97-4411-b29a-a6cbf00a882b",
   "metadata": {},
   "outputs": [],
   "source": [
    "def normalize_translit(ru_query):\n",
    "    text = translit(ru_query, language_code='ru', reversed=True)\n",
    "    text = text.replace(' ', '-').replace('yj', 'yy').replace('yy-', 'yy_').replace('es-', 'es_').replace('k-pr', 'k_pr')  # эвристическое правило, не знаю, почему у hh так...\n",
    "    return text"
   ]
  },
  {
   "cell_type": "code",
   "execution_count": 192,
   "id": "a77b03c6-22a9-45e2-a88f-55f43d073a2f",
   "metadata": {},
   "outputs": [
    {
     "name": "stderr",
     "output_type": "stream",
     "text": [
      "<ipython-input-192-c2e9cad52997>:1: DeprecationWarning: executable_path has been deprecated, please pass in a Service object\n",
      "  driver = webdriver.Chrome('./chromedriver')\n"
     ]
    }
   ],
   "source": [
    "driver = webdriver.Chrome('./chromedriver')"
   ]
  },
  {
   "cell_type": "code",
   "execution_count": 65,
   "id": "f1f311d6-c3d2-4a2c-9969-3f3f8a7b79b4",
   "metadata": {},
   "outputs": [
    {
     "name": "stderr",
     "output_type": "stream",
     "text": [
      "<ipython-input-65-3541302dc275>:1: DeprecationWarning: executable_path has been deprecated, please pass in a Service object\n",
      "  driver = webdriver.Chrome('./chromedriver')\n"
     ]
    }
   ],
   "source": [
    "def scrape(query, driver):\n",
    "    # ищем кол-во страниц\n",
    "    pages_count = 10  # соскрейпить это число иначе ошибки!\n",
    "    link = 'https://hh.ru/resumes/{}?items_on_page=100&page={}'.format(query, 0)\n",
    "    driver.get(link)\n",
    "    \n",
    "    pages_cnt_site = driver.find_elements(by=By.XPATH, value='//span[@class=\"pager-item-not-in-short-range\"]/a[@class=\"bloko-button\"][@rel=\"nofollow\"][@data-qa=\"pager-page\"]/span')\n",
    "    if pages_cnt_site:\n",
    "        pages_count = int(pages_cnt_site[-1].text)\n",
    "        # print(pages_count)\n",
    "    \n",
    "    for n in range(pages_count):  # проблема!!\n",
    "        link = 'https://hh.ru/resumes/{}?items_on_page=100&page={}'.format(query, n)  # 100 per page\n",
    "        driver.get(link)\n",
    "\n",
    "        resumes_list = driver.find_element(by=By.XPATH, value='//div[@class=\"resume-search-item__header\"]')\n",
    "        # resumes_list.click()  # стоп а зачем это...\n",
    "        resumes = resumes_list.find_element(by=By.XPATH, value='//div[@data-qa=\"resume-serp__results-search\"]').find_elements(by=By.XPATH, value='//a[@class=\"serp-item__title\"]')\n",
    "\n",
    "        resumes_parsed = []\n",
    "        for x in resumes:\n",
    "            resumes_parsed.append((x.text, x.get_attribute(\"href\")))\n",
    "\n",
    "        if n == 0:\n",
    "            df = pd.DataFrame(resumes_parsed, columns=['Вакансия', 'Ссылка'])\n",
    "            # print(len(resumes_parsed))\n",
    "        else:\n",
    "            # print(len(resumes_parsed))\n",
    "            df2 = pd.DataFrame(resumes_parsed, columns=['Вакансия', 'Ссылка'])  # , index=list(range(0 + 100 * n, 100 + 100 * n)) n00, ..., n99n = 0, ..., 49\n",
    "            df = pd.concat([df, df2])\n",
    "    \n",
    "    return df"
   ]
  },
  {
   "cell_type": "code",
   "execution_count": 66,
   "id": "6cfee91a-2275-4897-9388-52ff10ae503b",
   "metadata": {},
   "outputs": [],
   "source": [
    "analysts_list = ['аналитик bi',\n",
    "                'системный аналитик',\n",
    "                'бизнес аналитик',\n",
    "                'аналитик продаж',\n",
    "                'финансовый аналитик',\n",
    "                'аналитик данных',\n",
    "                'data analyst']\n",
    "analysts_map = dict()\n",
    "\n",
    "for analyst in analysts_list:\n",
    "    analysts_map[analyst] = scrape(normalize_translit(analyst), driver)\n",
    "    analysts_map[analyst].index = range(analysts_map[analyst].shape[0])"
   ]
  },
  {
   "cell_type": "markdown",
   "id": "99b757ab-35ff-4b8f-bb2f-dfcdf4d5509f",
   "metadata": {},
   "source": [
    "Конкатеннация результатов:"
   ]
  },
  {
   "cell_type": "code",
   "execution_count": 83,
   "id": "5c397d65-510a-40c0-9e18-9a51ed39aeb5",
   "metadata": {},
   "outputs": [],
   "source": [
    "df1 = pd.DataFrame()\n",
    "\n",
    "for analyst in analysts_list:\n",
    "    df2 = analysts_map[analyst]\n",
    "    df1 = pd.concat([df1, df2])\n",
    "    \n",
    "df1.index = range(df1.shape[0])\n",
    "df1.to_csv('resumes_all.csv')"
   ]
  },
  {
   "cell_type": "markdown",
   "id": "ff0c69ad-1610-4cdf-bf65-49c288d36000",
   "metadata": {},
   "source": [
    "### Скрейпинг страницы с конкретным резюме"
   ]
  },
  {
   "cell_type": "code",
   "execution_count": 193,
   "id": "0445c03a-02a9-4ba0-b6cf-d9bd909e055a",
   "metadata": {},
   "outputs": [],
   "source": [
    "def normalize(x):\n",
    "    if x:\n",
    "        x = x[0].text\n",
    "    else:\n",
    "        x = '---'  # так будет лучше чем просто ' '?\n",
    "    return x"
   ]
  },
  {
   "cell_type": "code",
   "execution_count": 201,
   "id": "35114d06-5305-41ed-86e8-57df40c73ca0",
   "metadata": {},
   "outputs": [
    {
     "data": {
      "text/plain": [
       "'Key skills\\nAnalitical thinking\\nEnglish\\nOrganization Skills\\nSAP\\nMS SQL\\nMS Outlook\\nMS PowerPoint\\nPower BI\\nMS Excel'"
      ]
     },
     "execution_count": 201,
     "metadata": {},
     "output_type": "execute_result"
    }
   ],
   "source": [
    "inter2 = driver.find_elements(by=By.XPATH, value='//div[@data-qa=\"skills-table\"]')\n",
    "inter2[0].text"
   ]
  },
  {
   "cell_type": "code",
   "execution_count": 202,
   "id": "437c3dd5-d4c4-4e6d-a8cf-e8aababc98c1",
   "metadata": {
    "tags": []
   },
   "outputs": [],
   "source": [
    "def scrape(link, driver):\n",
    "    driver.get(link)\n",
    "    comandirovka = driver.find_elements(by=By.XPATH, value='//div[@class=\"bloko-translate-guard\"]')\n",
    "    comandirovka = normalize(comandirovka)  # норм?\n",
    "    \n",
    "    opyt = driver.find_elements(by=By.XPATH, value='//span[@class=\"resume-block__title-text resume-block__title-text_sub\"]')\n",
    "    opyt = normalize(opyt)\n",
    "\n",
    "    about = driver.find_elements(by=By.XPATH, value='//div[@class=\"resume-block-container\"][@data-qa=\"resume-block-skills-content\"]')\n",
    "    about = normalize(about)\n",
    "        \n",
    "    educ = driver.find_elements(by=By.XPATH, value='//div[@class=\"resume-block\"][@data-qa=\"resume-block-education\"]')\n",
    "    educ = normalize(educ)\n",
    "        \n",
    "    inter = driver.find_elements(by=By.XPATH, value='//div[@class=\"resume-block-item-gap\"]')\n",
    "    inter = normalize(inter)\n",
    "        \n",
    "    #inter2 = driver.find_elements(by=By.XPATH, value='//div[@class=\"key-skills-row\"][@data-qa=\"tags-key-skills\"]')\n",
    "    #inter2 = normalize(inter2)\n",
    "    inter2 = driver.find_elements(by=By.XPATH, value='//div[@data-qa=\"skills-table\"]')\n",
    "    inter2 = normalize(inter2)\n",
    "    \n",
    "    # Образование; все написано не в том же стиле что и ^\n",
    "    \n",
    "    educ_val = '//div[@data-qa=\"resume-block-education\"][@class=\"resume-block\"]//div[@data-qa=\"resume-block-education-name\"]'\n",
    "    educ_ = driver.find_elements(by=By.XPATH, value=educ_val)\n",
    "    stepen_val = '//div[@data-qa=\"resume-block-education\"]//span[@class=\"resume-block__title-text resume-block__title-text_sub\"]'\n",
    "    stepen = driver.find_elements(by=By.XPATH, value=stepen_val)\n",
    "    title_val = '//span[@class=\"resume-block__title-text\"][@data-qa=\"resume-block-title-position\"]'\n",
    "    title = driver.find_elements(by=By.XPATH, value=title_val)\n",
    "    if title:\n",
    "        title = title[0].text\n",
    "    else:\n",
    "        title = ''\n",
    "    \n",
    "    educ1 = ''\n",
    "    educ2 = ''\n",
    "    educ3 = ''\n",
    "    \n",
    "    if educ_:\n",
    "        educ1 = educ_[0].text\n",
    "    if len(educ_) > 1:\n",
    "        educ2 = educ_[1].text\n",
    "    if stepen:\n",
    "        educ3 = stepen[0].text\n",
    "    vuzes_count = len(educ_)\n",
    "    \n",
    "    # Проблема: иногда уровень образования могут не писать\n",
    "    \n",
    "    # Работы\n",
    "    work = driver.find_elements(by=By.XPATH, \n",
    "                             value='//div[@data-qa=\"resume-block-experience\"][@class=\"resume-block\"]//div[@class=\"resume-block-container\"]')\n",
    "    work1 = '---'\n",
    "    work2 = '---'\n",
    "    \n",
    "    if len(work) > 0:\n",
    "        work1 = work[0].text\n",
    "    if len(work) > 1:\n",
    "        work2 = work[1].text\n",
    "    \n",
    "    # EXPERIMENTAL: пробую собрать work\n",
    "    work_list = []\n",
    "    for w in work:\n",
    "        work_list.append(w.text)\n",
    "    work_count = len(work)\n",
    "        \n",
    "    return (link, title, comandirovka, opyt, about, educ, inter, inter2, educ1, educ2, \n",
    "            educ3, vuzes_count, work1, work2, work_list, work_count)"
   ]
  },
  {
   "cell_type": "code",
   "execution_count": 203,
   "id": "f989a1c8-73c4-4af9-9268-f032ab1cf036",
   "metadata": {},
   "outputs": [],
   "source": [
    "# driver = webdriver.Chrome('./chromedriver')"
   ]
  },
  {
   "cell_type": "code",
   "execution_count": 204,
   "id": "1b12fde2-b744-48ce-823d-634eb0165485",
   "metadata": {
    "tags": []
   },
   "outputs": [
    {
     "ename": "KeyboardInterrupt",
     "evalue": "",
     "output_type": "error",
     "traceback": [
      "\u001b[0;31m---------------------------------------------------------------------------\u001b[0m",
      "\u001b[0;31mKeyboardInterrupt\u001b[0m                         Traceback (most recent call last)",
      "\u001b[0;32m<ipython-input-204-a1d3976b7163>\u001b[0m in \u001b[0;36m<module>\u001b[0;34m\u001b[0m\n\u001b[1;32m      4\u001b[0m \u001b[0;32mfor\u001b[0m \u001b[0mlink\u001b[0m \u001b[0;32min\u001b[0m \u001b[0mdf_links\u001b[0m\u001b[0;34m:\u001b[0m\u001b[0;34m\u001b[0m\u001b[0;34m\u001b[0m\u001b[0m\n\u001b[1;32m      5\u001b[0m     \u001b[0;31m# print(link)\u001b[0m\u001b[0;34m\u001b[0m\u001b[0;34m\u001b[0m\u001b[0;34m\u001b[0m\u001b[0m\n\u001b[0;32m----> 6\u001b[0;31m     \u001b[0mdata\u001b[0m \u001b[0;34m=\u001b[0m \u001b[0mscrape\u001b[0m\u001b[0;34m(\u001b[0m\u001b[0mlink\u001b[0m\u001b[0;34m,\u001b[0m \u001b[0mdriver\u001b[0m\u001b[0;34m)\u001b[0m\u001b[0;34m\u001b[0m\u001b[0;34m\u001b[0m\u001b[0m\n\u001b[0m\u001b[1;32m      7\u001b[0m     \u001b[0mresume_list\u001b[0m\u001b[0;34m.\u001b[0m\u001b[0mappend\u001b[0m\u001b[0;34m(\u001b[0m\u001b[0mdata\u001b[0m\u001b[0;34m)\u001b[0m\u001b[0;34m\u001b[0m\u001b[0;34m\u001b[0m\u001b[0m\n\u001b[1;32m      8\u001b[0m \u001b[0;34m\u001b[0m\u001b[0m\n",
      "\u001b[0;32m<ipython-input-202-dbb7473df199>\u001b[0m in \u001b[0;36mscrape\u001b[0;34m(link, driver)\u001b[0m\n\u001b[1;32m     11\u001b[0m \u001b[0;34m\u001b[0m\u001b[0m\n\u001b[1;32m     12\u001b[0m     \u001b[0meduc\u001b[0m \u001b[0;34m=\u001b[0m \u001b[0mdriver\u001b[0m\u001b[0;34m.\u001b[0m\u001b[0mfind_elements\u001b[0m\u001b[0;34m(\u001b[0m\u001b[0mby\u001b[0m\u001b[0;34m=\u001b[0m\u001b[0mBy\u001b[0m\u001b[0;34m.\u001b[0m\u001b[0mXPATH\u001b[0m\u001b[0;34m,\u001b[0m \u001b[0mvalue\u001b[0m\u001b[0;34m=\u001b[0m\u001b[0;34m'//div[@class=\"resume-block\"][@data-qa=\"resume-block-education\"]'\u001b[0m\u001b[0;34m)\u001b[0m\u001b[0;34m\u001b[0m\u001b[0;34m\u001b[0m\u001b[0m\n\u001b[0;32m---> 13\u001b[0;31m     \u001b[0meduc\u001b[0m \u001b[0;34m=\u001b[0m \u001b[0mnormalize\u001b[0m\u001b[0;34m(\u001b[0m\u001b[0meduc\u001b[0m\u001b[0;34m)\u001b[0m\u001b[0;34m\u001b[0m\u001b[0;34m\u001b[0m\u001b[0m\n\u001b[0m\u001b[1;32m     14\u001b[0m \u001b[0;34m\u001b[0m\u001b[0m\n\u001b[1;32m     15\u001b[0m     \u001b[0minter\u001b[0m \u001b[0;34m=\u001b[0m \u001b[0mdriver\u001b[0m\u001b[0;34m.\u001b[0m\u001b[0mfind_elements\u001b[0m\u001b[0;34m(\u001b[0m\u001b[0mby\u001b[0m\u001b[0;34m=\u001b[0m\u001b[0mBy\u001b[0m\u001b[0;34m.\u001b[0m\u001b[0mXPATH\u001b[0m\u001b[0;34m,\u001b[0m \u001b[0mvalue\u001b[0m\u001b[0;34m=\u001b[0m\u001b[0;34m'//div[@class=\"resume-block-item-gap\"]'\u001b[0m\u001b[0;34m)\u001b[0m\u001b[0;34m\u001b[0m\u001b[0;34m\u001b[0m\u001b[0m\n",
      "\u001b[0;32m<ipython-input-193-3f6fedc086b2>\u001b[0m in \u001b[0;36mnormalize\u001b[0;34m(x)\u001b[0m\n\u001b[1;32m      1\u001b[0m \u001b[0;32mdef\u001b[0m \u001b[0mnormalize\u001b[0m\u001b[0;34m(\u001b[0m\u001b[0mx\u001b[0m\u001b[0;34m)\u001b[0m\u001b[0;34m:\u001b[0m\u001b[0;34m\u001b[0m\u001b[0;34m\u001b[0m\u001b[0m\n\u001b[1;32m      2\u001b[0m     \u001b[0;32mif\u001b[0m \u001b[0mx\u001b[0m\u001b[0;34m:\u001b[0m\u001b[0;34m\u001b[0m\u001b[0;34m\u001b[0m\u001b[0m\n\u001b[0;32m----> 3\u001b[0;31m         \u001b[0mx\u001b[0m \u001b[0;34m=\u001b[0m \u001b[0mx\u001b[0m\u001b[0;34m[\u001b[0m\u001b[0;36m0\u001b[0m\u001b[0;34m]\u001b[0m\u001b[0;34m.\u001b[0m\u001b[0mtext\u001b[0m\u001b[0;34m\u001b[0m\u001b[0;34m\u001b[0m\u001b[0m\n\u001b[0m\u001b[1;32m      4\u001b[0m     \u001b[0;32melse\u001b[0m\u001b[0;34m:\u001b[0m\u001b[0;34m\u001b[0m\u001b[0;34m\u001b[0m\u001b[0m\n\u001b[1;32m      5\u001b[0m         \u001b[0mx\u001b[0m \u001b[0;34m=\u001b[0m \u001b[0;34m'---'\u001b[0m  \u001b[0;31m# так будет лучше чем просто ' '?\u001b[0m\u001b[0;34m\u001b[0m\u001b[0;34m\u001b[0m\u001b[0m\n",
      "\u001b[0;32m~/miniconda3/lib/python3.9/site-packages/selenium/webdriver/remote/webelement.py\u001b[0m in \u001b[0;36mtext\u001b[0;34m(self)\u001b[0m\n\u001b[1;32m     83\u001b[0m     \u001b[0;32mdef\u001b[0m \u001b[0mtext\u001b[0m\u001b[0;34m(\u001b[0m\u001b[0mself\u001b[0m\u001b[0;34m)\u001b[0m \u001b[0;34m->\u001b[0m \u001b[0mstr\u001b[0m\u001b[0;34m:\u001b[0m\u001b[0;34m\u001b[0m\u001b[0;34m\u001b[0m\u001b[0m\n\u001b[1;32m     84\u001b[0m         \u001b[0;34m\"\"\"The text of the element.\"\"\"\u001b[0m\u001b[0;34m\u001b[0m\u001b[0;34m\u001b[0m\u001b[0m\n\u001b[0;32m---> 85\u001b[0;31m         \u001b[0;32mreturn\u001b[0m \u001b[0mself\u001b[0m\u001b[0;34m.\u001b[0m\u001b[0m_execute\u001b[0m\u001b[0;34m(\u001b[0m\u001b[0mCommand\u001b[0m\u001b[0;34m.\u001b[0m\u001b[0mGET_ELEMENT_TEXT\u001b[0m\u001b[0;34m)\u001b[0m\u001b[0;34m[\u001b[0m\u001b[0;34m'value'\u001b[0m\u001b[0;34m]\u001b[0m\u001b[0;34m\u001b[0m\u001b[0;34m\u001b[0m\u001b[0m\n\u001b[0m\u001b[1;32m     86\u001b[0m \u001b[0;34m\u001b[0m\u001b[0m\n\u001b[1;32m     87\u001b[0m     \u001b[0;32mdef\u001b[0m \u001b[0mclick\u001b[0m\u001b[0;34m(\u001b[0m\u001b[0mself\u001b[0m\u001b[0;34m)\u001b[0m \u001b[0;34m->\u001b[0m \u001b[0;32mNone\u001b[0m\u001b[0;34m:\u001b[0m\u001b[0;34m\u001b[0m\u001b[0;34m\u001b[0m\u001b[0m\n",
      "\u001b[0;32m~/miniconda3/lib/python3.9/site-packages/selenium/webdriver/remote/webelement.py\u001b[0m in \u001b[0;36m_execute\u001b[0;34m(self, command, params)\u001b[0m\n\u001b[1;32m    771\u001b[0m             \u001b[0mparams\u001b[0m \u001b[0;34m=\u001b[0m \u001b[0;34m{\u001b[0m\u001b[0;34m}\u001b[0m\u001b[0;34m\u001b[0m\u001b[0;34m\u001b[0m\u001b[0m\n\u001b[1;32m    772\u001b[0m         \u001b[0mparams\u001b[0m\u001b[0;34m[\u001b[0m\u001b[0;34m'id'\u001b[0m\u001b[0;34m]\u001b[0m \u001b[0;34m=\u001b[0m \u001b[0mself\u001b[0m\u001b[0;34m.\u001b[0m\u001b[0m_id\u001b[0m\u001b[0;34m\u001b[0m\u001b[0;34m\u001b[0m\u001b[0m\n\u001b[0;32m--> 773\u001b[0;31m         \u001b[0;32mreturn\u001b[0m \u001b[0mself\u001b[0m\u001b[0;34m.\u001b[0m\u001b[0m_parent\u001b[0m\u001b[0;34m.\u001b[0m\u001b[0mexecute\u001b[0m\u001b[0;34m(\u001b[0m\u001b[0mcommand\u001b[0m\u001b[0;34m,\u001b[0m \u001b[0mparams\u001b[0m\u001b[0;34m)\u001b[0m\u001b[0;34m\u001b[0m\u001b[0;34m\u001b[0m\u001b[0m\n\u001b[0m\u001b[1;32m    774\u001b[0m \u001b[0;34m\u001b[0m\u001b[0m\n\u001b[1;32m    775\u001b[0m     \u001b[0;32mdef\u001b[0m \u001b[0mfind_element\u001b[0m\u001b[0;34m(\u001b[0m\u001b[0mself\u001b[0m\u001b[0;34m,\u001b[0m \u001b[0mby\u001b[0m\u001b[0;34m=\u001b[0m\u001b[0mBy\u001b[0m\u001b[0;34m.\u001b[0m\u001b[0mID\u001b[0m\u001b[0;34m,\u001b[0m \u001b[0mvalue\u001b[0m\u001b[0;34m=\u001b[0m\u001b[0;32mNone\u001b[0m\u001b[0;34m)\u001b[0m\u001b[0;34m:\u001b[0m\u001b[0;34m\u001b[0m\u001b[0;34m\u001b[0m\u001b[0m\n",
      "\u001b[0;32m~/miniconda3/lib/python3.9/site-packages/selenium/webdriver/remote/webdriver.py\u001b[0m in \u001b[0;36mexecute\u001b[0;34m(self, driver_command, params)\u001b[0m\n\u001b[1;32m    426\u001b[0m \u001b[0;34m\u001b[0m\u001b[0m\n\u001b[1;32m    427\u001b[0m         \u001b[0mparams\u001b[0m \u001b[0;34m=\u001b[0m \u001b[0mself\u001b[0m\u001b[0;34m.\u001b[0m\u001b[0m_wrap_value\u001b[0m\u001b[0;34m(\u001b[0m\u001b[0mparams\u001b[0m\u001b[0;34m)\u001b[0m\u001b[0;34m\u001b[0m\u001b[0;34m\u001b[0m\u001b[0m\n\u001b[0;32m--> 428\u001b[0;31m         \u001b[0mresponse\u001b[0m \u001b[0;34m=\u001b[0m \u001b[0mself\u001b[0m\u001b[0;34m.\u001b[0m\u001b[0mcommand_executor\u001b[0m\u001b[0;34m.\u001b[0m\u001b[0mexecute\u001b[0m\u001b[0;34m(\u001b[0m\u001b[0mdriver_command\u001b[0m\u001b[0;34m,\u001b[0m \u001b[0mparams\u001b[0m\u001b[0;34m)\u001b[0m\u001b[0;34m\u001b[0m\u001b[0;34m\u001b[0m\u001b[0m\n\u001b[0m\u001b[1;32m    429\u001b[0m         \u001b[0;32mif\u001b[0m \u001b[0mresponse\u001b[0m\u001b[0;34m:\u001b[0m\u001b[0;34m\u001b[0m\u001b[0;34m\u001b[0m\u001b[0m\n\u001b[1;32m    430\u001b[0m             \u001b[0mself\u001b[0m\u001b[0;34m.\u001b[0m\u001b[0merror_handler\u001b[0m\u001b[0;34m.\u001b[0m\u001b[0mcheck_response\u001b[0m\u001b[0;34m(\u001b[0m\u001b[0mresponse\u001b[0m\u001b[0;34m)\u001b[0m\u001b[0;34m\u001b[0m\u001b[0;34m\u001b[0m\u001b[0m\n",
      "\u001b[0;32m~/miniconda3/lib/python3.9/site-packages/selenium/webdriver/remote/remote_connection.py\u001b[0m in \u001b[0;36mexecute\u001b[0;34m(self, command, params)\u001b[0m\n\u001b[1;32m    345\u001b[0m         \u001b[0mdata\u001b[0m \u001b[0;34m=\u001b[0m \u001b[0mutils\u001b[0m\u001b[0;34m.\u001b[0m\u001b[0mdump_json\u001b[0m\u001b[0;34m(\u001b[0m\u001b[0mparams\u001b[0m\u001b[0;34m)\u001b[0m\u001b[0;34m\u001b[0m\u001b[0;34m\u001b[0m\u001b[0m\n\u001b[1;32m    346\u001b[0m         \u001b[0murl\u001b[0m \u001b[0;34m=\u001b[0m \u001b[0;34mf\"{self._url}{path}\"\u001b[0m\u001b[0;34m\u001b[0m\u001b[0;34m\u001b[0m\u001b[0m\n\u001b[0;32m--> 347\u001b[0;31m         \u001b[0;32mreturn\u001b[0m \u001b[0mself\u001b[0m\u001b[0;34m.\u001b[0m\u001b[0m_request\u001b[0m\u001b[0;34m(\u001b[0m\u001b[0mcommand_info\u001b[0m\u001b[0;34m[\u001b[0m\u001b[0;36m0\u001b[0m\u001b[0;34m]\u001b[0m\u001b[0;34m,\u001b[0m \u001b[0murl\u001b[0m\u001b[0;34m,\u001b[0m \u001b[0mbody\u001b[0m\u001b[0;34m=\u001b[0m\u001b[0mdata\u001b[0m\u001b[0;34m)\u001b[0m\u001b[0;34m\u001b[0m\u001b[0;34m\u001b[0m\u001b[0m\n\u001b[0m\u001b[1;32m    348\u001b[0m \u001b[0;34m\u001b[0m\u001b[0m\n\u001b[1;32m    349\u001b[0m     \u001b[0;32mdef\u001b[0m \u001b[0m_request\u001b[0m\u001b[0;34m(\u001b[0m\u001b[0mself\u001b[0m\u001b[0;34m,\u001b[0m \u001b[0mmethod\u001b[0m\u001b[0;34m,\u001b[0m \u001b[0murl\u001b[0m\u001b[0;34m,\u001b[0m \u001b[0mbody\u001b[0m\u001b[0;34m=\u001b[0m\u001b[0;32mNone\u001b[0m\u001b[0;34m)\u001b[0m\u001b[0;34m:\u001b[0m\u001b[0;34m\u001b[0m\u001b[0;34m\u001b[0m\u001b[0m\n",
      "\u001b[0;32m~/miniconda3/lib/python3.9/site-packages/selenium/webdriver/remote/remote_connection.py\u001b[0m in \u001b[0;36m_request\u001b[0;34m(self, method, url, body)\u001b[0m\n\u001b[1;32m    367\u001b[0m \u001b[0;34m\u001b[0m\u001b[0m\n\u001b[1;32m    368\u001b[0m         \u001b[0;32mif\u001b[0m \u001b[0mself\u001b[0m\u001b[0;34m.\u001b[0m\u001b[0mkeep_alive\u001b[0m\u001b[0;34m:\u001b[0m\u001b[0;34m\u001b[0m\u001b[0;34m\u001b[0m\u001b[0m\n\u001b[0;32m--> 369\u001b[0;31m             \u001b[0mresponse\u001b[0m \u001b[0;34m=\u001b[0m \u001b[0mself\u001b[0m\u001b[0;34m.\u001b[0m\u001b[0m_conn\u001b[0m\u001b[0;34m.\u001b[0m\u001b[0mrequest\u001b[0m\u001b[0;34m(\u001b[0m\u001b[0mmethod\u001b[0m\u001b[0;34m,\u001b[0m \u001b[0murl\u001b[0m\u001b[0;34m,\u001b[0m \u001b[0mbody\u001b[0m\u001b[0;34m=\u001b[0m\u001b[0mbody\u001b[0m\u001b[0;34m,\u001b[0m \u001b[0mheaders\u001b[0m\u001b[0;34m=\u001b[0m\u001b[0mheaders\u001b[0m\u001b[0;34m)\u001b[0m\u001b[0;34m\u001b[0m\u001b[0;34m\u001b[0m\u001b[0m\n\u001b[0m\u001b[1;32m    370\u001b[0m             \u001b[0mstatuscode\u001b[0m \u001b[0;34m=\u001b[0m \u001b[0mresponse\u001b[0m\u001b[0;34m.\u001b[0m\u001b[0mstatus\u001b[0m\u001b[0;34m\u001b[0m\u001b[0;34m\u001b[0m\u001b[0m\n\u001b[1;32m    371\u001b[0m         \u001b[0;32melse\u001b[0m\u001b[0;34m:\u001b[0m\u001b[0;34m\u001b[0m\u001b[0;34m\u001b[0m\u001b[0m\n",
      "\u001b[0;32m~/miniconda3/lib/python3.9/site-packages/urllib3/request.py\u001b[0m in \u001b[0;36mrequest\u001b[0;34m(self, method, url, fields, headers, **urlopen_kw)\u001b[0m\n\u001b[1;32m     72\u001b[0m \u001b[0;34m\u001b[0m\u001b[0m\n\u001b[1;32m     73\u001b[0m         \u001b[0;32mif\u001b[0m \u001b[0mmethod\u001b[0m \u001b[0;32min\u001b[0m \u001b[0mself\u001b[0m\u001b[0;34m.\u001b[0m\u001b[0m_encode_url_methods\u001b[0m\u001b[0;34m:\u001b[0m\u001b[0;34m\u001b[0m\u001b[0;34m\u001b[0m\u001b[0m\n\u001b[0;32m---> 74\u001b[0;31m             return self.request_encode_url(\n\u001b[0m\u001b[1;32m     75\u001b[0m                 \u001b[0mmethod\u001b[0m\u001b[0;34m,\u001b[0m \u001b[0murl\u001b[0m\u001b[0;34m,\u001b[0m \u001b[0mfields\u001b[0m\u001b[0;34m=\u001b[0m\u001b[0mfields\u001b[0m\u001b[0;34m,\u001b[0m \u001b[0mheaders\u001b[0m\u001b[0;34m=\u001b[0m\u001b[0mheaders\u001b[0m\u001b[0;34m,\u001b[0m \u001b[0;34m**\u001b[0m\u001b[0murlopen_kw\u001b[0m\u001b[0;34m\u001b[0m\u001b[0;34m\u001b[0m\u001b[0m\n\u001b[1;32m     76\u001b[0m             )\n",
      "\u001b[0;32m~/miniconda3/lib/python3.9/site-packages/urllib3/request.py\u001b[0m in \u001b[0;36mrequest_encode_url\u001b[0;34m(self, method, url, fields, headers, **urlopen_kw)\u001b[0m\n\u001b[1;32m     94\u001b[0m             \u001b[0murl\u001b[0m \u001b[0;34m+=\u001b[0m \u001b[0;34m\"?\"\u001b[0m \u001b[0;34m+\u001b[0m \u001b[0murlencode\u001b[0m\u001b[0;34m(\u001b[0m\u001b[0mfields\u001b[0m\u001b[0;34m)\u001b[0m\u001b[0;34m\u001b[0m\u001b[0;34m\u001b[0m\u001b[0m\n\u001b[1;32m     95\u001b[0m \u001b[0;34m\u001b[0m\u001b[0m\n\u001b[0;32m---> 96\u001b[0;31m         \u001b[0;32mreturn\u001b[0m \u001b[0mself\u001b[0m\u001b[0;34m.\u001b[0m\u001b[0murlopen\u001b[0m\u001b[0;34m(\u001b[0m\u001b[0mmethod\u001b[0m\u001b[0;34m,\u001b[0m \u001b[0murl\u001b[0m\u001b[0;34m,\u001b[0m \u001b[0;34m**\u001b[0m\u001b[0mextra_kw\u001b[0m\u001b[0;34m)\u001b[0m\u001b[0;34m\u001b[0m\u001b[0;34m\u001b[0m\u001b[0m\n\u001b[0m\u001b[1;32m     97\u001b[0m \u001b[0;34m\u001b[0m\u001b[0m\n\u001b[1;32m     98\u001b[0m     def request_encode_body(\n",
      "\u001b[0;32m~/miniconda3/lib/python3.9/site-packages/urllib3/poolmanager.py\u001b[0m in \u001b[0;36murlopen\u001b[0;34m(self, method, url, redirect, **kw)\u001b[0m\n\u001b[1;32m    374\u001b[0m             \u001b[0mresponse\u001b[0m \u001b[0;34m=\u001b[0m \u001b[0mconn\u001b[0m\u001b[0;34m.\u001b[0m\u001b[0murlopen\u001b[0m\u001b[0;34m(\u001b[0m\u001b[0mmethod\u001b[0m\u001b[0;34m,\u001b[0m \u001b[0murl\u001b[0m\u001b[0;34m,\u001b[0m \u001b[0;34m**\u001b[0m\u001b[0mkw\u001b[0m\u001b[0;34m)\u001b[0m\u001b[0;34m\u001b[0m\u001b[0;34m\u001b[0m\u001b[0m\n\u001b[1;32m    375\u001b[0m         \u001b[0;32melse\u001b[0m\u001b[0;34m:\u001b[0m\u001b[0;34m\u001b[0m\u001b[0;34m\u001b[0m\u001b[0m\n\u001b[0;32m--> 376\u001b[0;31m             \u001b[0mresponse\u001b[0m \u001b[0;34m=\u001b[0m \u001b[0mconn\u001b[0m\u001b[0;34m.\u001b[0m\u001b[0murlopen\u001b[0m\u001b[0;34m(\u001b[0m\u001b[0mmethod\u001b[0m\u001b[0;34m,\u001b[0m \u001b[0mu\u001b[0m\u001b[0;34m.\u001b[0m\u001b[0mrequest_uri\u001b[0m\u001b[0;34m,\u001b[0m \u001b[0;34m**\u001b[0m\u001b[0mkw\u001b[0m\u001b[0;34m)\u001b[0m\u001b[0;34m\u001b[0m\u001b[0;34m\u001b[0m\u001b[0m\n\u001b[0m\u001b[1;32m    377\u001b[0m \u001b[0;34m\u001b[0m\u001b[0m\n\u001b[1;32m    378\u001b[0m         \u001b[0mredirect_location\u001b[0m \u001b[0;34m=\u001b[0m \u001b[0mredirect\u001b[0m \u001b[0;32mand\u001b[0m \u001b[0mresponse\u001b[0m\u001b[0;34m.\u001b[0m\u001b[0mget_redirect_location\u001b[0m\u001b[0;34m(\u001b[0m\u001b[0;34m)\u001b[0m\u001b[0;34m\u001b[0m\u001b[0;34m\u001b[0m\u001b[0m\n",
      "\u001b[0;32m~/miniconda3/lib/python3.9/site-packages/urllib3/connectionpool.py\u001b[0m in \u001b[0;36murlopen\u001b[0;34m(self, method, url, body, headers, retries, redirect, assert_same_host, timeout, pool_timeout, release_conn, chunked, body_pos, **response_kw)\u001b[0m\n\u001b[1;32m    701\u001b[0m \u001b[0;34m\u001b[0m\u001b[0m\n\u001b[1;32m    702\u001b[0m             \u001b[0;31m# Make the request on the httplib connection object.\u001b[0m\u001b[0;34m\u001b[0m\u001b[0;34m\u001b[0m\u001b[0;34m\u001b[0m\u001b[0m\n\u001b[0;32m--> 703\u001b[0;31m             httplib_response = self._make_request(\n\u001b[0m\u001b[1;32m    704\u001b[0m                 \u001b[0mconn\u001b[0m\u001b[0;34m,\u001b[0m\u001b[0;34m\u001b[0m\u001b[0;34m\u001b[0m\u001b[0m\n\u001b[1;32m    705\u001b[0m                 \u001b[0mmethod\u001b[0m\u001b[0;34m,\u001b[0m\u001b[0;34m\u001b[0m\u001b[0;34m\u001b[0m\u001b[0m\n",
      "\u001b[0;32m~/miniconda3/lib/python3.9/site-packages/urllib3/connectionpool.py\u001b[0m in \u001b[0;36m_make_request\u001b[0;34m(self, conn, method, url, timeout, chunked, **httplib_request_kw)\u001b[0m\n\u001b[1;32m    447\u001b[0m                     \u001b[0;31m# Python 3 (including for exceptions like SystemExit).\u001b[0m\u001b[0;34m\u001b[0m\u001b[0;34m\u001b[0m\u001b[0;34m\u001b[0m\u001b[0m\n\u001b[1;32m    448\u001b[0m                     \u001b[0;31m# Otherwise it looks like a bug in the code.\u001b[0m\u001b[0;34m\u001b[0m\u001b[0;34m\u001b[0m\u001b[0;34m\u001b[0m\u001b[0m\n\u001b[0;32m--> 449\u001b[0;31m                     \u001b[0msix\u001b[0m\u001b[0;34m.\u001b[0m\u001b[0mraise_from\u001b[0m\u001b[0;34m(\u001b[0m\u001b[0me\u001b[0m\u001b[0;34m,\u001b[0m \u001b[0;32mNone\u001b[0m\u001b[0;34m)\u001b[0m\u001b[0;34m\u001b[0m\u001b[0;34m\u001b[0m\u001b[0m\n\u001b[0m\u001b[1;32m    450\u001b[0m         \u001b[0;32mexcept\u001b[0m \u001b[0;34m(\u001b[0m\u001b[0mSocketTimeout\u001b[0m\u001b[0;34m,\u001b[0m \u001b[0mBaseSSLError\u001b[0m\u001b[0;34m,\u001b[0m \u001b[0mSocketError\u001b[0m\u001b[0;34m)\u001b[0m \u001b[0;32mas\u001b[0m \u001b[0me\u001b[0m\u001b[0;34m:\u001b[0m\u001b[0;34m\u001b[0m\u001b[0;34m\u001b[0m\u001b[0m\n\u001b[1;32m    451\u001b[0m             \u001b[0mself\u001b[0m\u001b[0;34m.\u001b[0m\u001b[0m_raise_timeout\u001b[0m\u001b[0;34m(\u001b[0m\u001b[0merr\u001b[0m\u001b[0;34m=\u001b[0m\u001b[0me\u001b[0m\u001b[0;34m,\u001b[0m \u001b[0murl\u001b[0m\u001b[0;34m=\u001b[0m\u001b[0murl\u001b[0m\u001b[0;34m,\u001b[0m \u001b[0mtimeout_value\u001b[0m\u001b[0;34m=\u001b[0m\u001b[0mread_timeout\u001b[0m\u001b[0;34m)\u001b[0m\u001b[0;34m\u001b[0m\u001b[0;34m\u001b[0m\u001b[0m\n",
      "\u001b[0;32m~/miniconda3/lib/python3.9/site-packages/urllib3/packages/six.py\u001b[0m in \u001b[0;36mraise_from\u001b[0;34m(value, from_value)\u001b[0m\n",
      "\u001b[0;32m~/miniconda3/lib/python3.9/site-packages/urllib3/connectionpool.py\u001b[0m in \u001b[0;36m_make_request\u001b[0;34m(self, conn, method, url, timeout, chunked, **httplib_request_kw)\u001b[0m\n\u001b[1;32m    442\u001b[0m                 \u001b[0;31m# Python 3\u001b[0m\u001b[0;34m\u001b[0m\u001b[0;34m\u001b[0m\u001b[0;34m\u001b[0m\u001b[0m\n\u001b[1;32m    443\u001b[0m                 \u001b[0;32mtry\u001b[0m\u001b[0;34m:\u001b[0m\u001b[0;34m\u001b[0m\u001b[0;34m\u001b[0m\u001b[0m\n\u001b[0;32m--> 444\u001b[0;31m                     \u001b[0mhttplib_response\u001b[0m \u001b[0;34m=\u001b[0m \u001b[0mconn\u001b[0m\u001b[0;34m.\u001b[0m\u001b[0mgetresponse\u001b[0m\u001b[0;34m(\u001b[0m\u001b[0;34m)\u001b[0m\u001b[0;34m\u001b[0m\u001b[0;34m\u001b[0m\u001b[0m\n\u001b[0m\u001b[1;32m    445\u001b[0m                 \u001b[0;32mexcept\u001b[0m \u001b[0mBaseException\u001b[0m \u001b[0;32mas\u001b[0m \u001b[0me\u001b[0m\u001b[0;34m:\u001b[0m\u001b[0;34m\u001b[0m\u001b[0;34m\u001b[0m\u001b[0m\n\u001b[1;32m    446\u001b[0m                     \u001b[0;31m# Remove the TypeError from the exception chain in\u001b[0m\u001b[0;34m\u001b[0m\u001b[0;34m\u001b[0m\u001b[0;34m\u001b[0m\u001b[0m\n",
      "\u001b[0;32m~/miniconda3/lib/python3.9/http/client.py\u001b[0m in \u001b[0;36mgetresponse\u001b[0;34m(self)\u001b[0m\n\u001b[1;32m   1343\u001b[0m         \u001b[0;32mtry\u001b[0m\u001b[0;34m:\u001b[0m\u001b[0;34m\u001b[0m\u001b[0;34m\u001b[0m\u001b[0m\n\u001b[1;32m   1344\u001b[0m             \u001b[0;32mtry\u001b[0m\u001b[0;34m:\u001b[0m\u001b[0;34m\u001b[0m\u001b[0;34m\u001b[0m\u001b[0m\n\u001b[0;32m-> 1345\u001b[0;31m                 \u001b[0mresponse\u001b[0m\u001b[0;34m.\u001b[0m\u001b[0mbegin\u001b[0m\u001b[0;34m(\u001b[0m\u001b[0;34m)\u001b[0m\u001b[0;34m\u001b[0m\u001b[0;34m\u001b[0m\u001b[0m\n\u001b[0m\u001b[1;32m   1346\u001b[0m             \u001b[0;32mexcept\u001b[0m \u001b[0mConnectionError\u001b[0m\u001b[0;34m:\u001b[0m\u001b[0;34m\u001b[0m\u001b[0;34m\u001b[0m\u001b[0m\n\u001b[1;32m   1347\u001b[0m                 \u001b[0mself\u001b[0m\u001b[0;34m.\u001b[0m\u001b[0mclose\u001b[0m\u001b[0;34m(\u001b[0m\u001b[0;34m)\u001b[0m\u001b[0;34m\u001b[0m\u001b[0;34m\u001b[0m\u001b[0m\n",
      "\u001b[0;32m~/miniconda3/lib/python3.9/http/client.py\u001b[0m in \u001b[0;36mbegin\u001b[0;34m(self)\u001b[0m\n\u001b[1;32m    305\u001b[0m         \u001b[0;31m# read until we get a non-100 response\u001b[0m\u001b[0;34m\u001b[0m\u001b[0;34m\u001b[0m\u001b[0;34m\u001b[0m\u001b[0m\n\u001b[1;32m    306\u001b[0m         \u001b[0;32mwhile\u001b[0m \u001b[0;32mTrue\u001b[0m\u001b[0;34m:\u001b[0m\u001b[0;34m\u001b[0m\u001b[0;34m\u001b[0m\u001b[0m\n\u001b[0;32m--> 307\u001b[0;31m             \u001b[0mversion\u001b[0m\u001b[0;34m,\u001b[0m \u001b[0mstatus\u001b[0m\u001b[0;34m,\u001b[0m \u001b[0mreason\u001b[0m \u001b[0;34m=\u001b[0m \u001b[0mself\u001b[0m\u001b[0;34m.\u001b[0m\u001b[0m_read_status\u001b[0m\u001b[0;34m(\u001b[0m\u001b[0;34m)\u001b[0m\u001b[0;34m\u001b[0m\u001b[0;34m\u001b[0m\u001b[0m\n\u001b[0m\u001b[1;32m    308\u001b[0m             \u001b[0;32mif\u001b[0m \u001b[0mstatus\u001b[0m \u001b[0;34m!=\u001b[0m \u001b[0mCONTINUE\u001b[0m\u001b[0;34m:\u001b[0m\u001b[0;34m\u001b[0m\u001b[0;34m\u001b[0m\u001b[0m\n\u001b[1;32m    309\u001b[0m                 \u001b[0;32mbreak\u001b[0m\u001b[0;34m\u001b[0m\u001b[0;34m\u001b[0m\u001b[0m\n",
      "\u001b[0;32m~/miniconda3/lib/python3.9/http/client.py\u001b[0m in \u001b[0;36m_read_status\u001b[0;34m(self)\u001b[0m\n\u001b[1;32m    266\u001b[0m \u001b[0;34m\u001b[0m\u001b[0m\n\u001b[1;32m    267\u001b[0m     \u001b[0;32mdef\u001b[0m \u001b[0m_read_status\u001b[0m\u001b[0;34m(\u001b[0m\u001b[0mself\u001b[0m\u001b[0;34m)\u001b[0m\u001b[0;34m:\u001b[0m\u001b[0;34m\u001b[0m\u001b[0;34m\u001b[0m\u001b[0m\n\u001b[0;32m--> 268\u001b[0;31m         \u001b[0mline\u001b[0m \u001b[0;34m=\u001b[0m \u001b[0mstr\u001b[0m\u001b[0;34m(\u001b[0m\u001b[0mself\u001b[0m\u001b[0;34m.\u001b[0m\u001b[0mfp\u001b[0m\u001b[0;34m.\u001b[0m\u001b[0mreadline\u001b[0m\u001b[0;34m(\u001b[0m\u001b[0m_MAXLINE\u001b[0m \u001b[0;34m+\u001b[0m \u001b[0;36m1\u001b[0m\u001b[0;34m)\u001b[0m\u001b[0;34m,\u001b[0m \u001b[0;34m\"iso-8859-1\"\u001b[0m\u001b[0;34m)\u001b[0m\u001b[0;34m\u001b[0m\u001b[0;34m\u001b[0m\u001b[0m\n\u001b[0m\u001b[1;32m    269\u001b[0m         \u001b[0;32mif\u001b[0m \u001b[0mlen\u001b[0m\u001b[0;34m(\u001b[0m\u001b[0mline\u001b[0m\u001b[0;34m)\u001b[0m \u001b[0;34m>\u001b[0m \u001b[0m_MAXLINE\u001b[0m\u001b[0;34m:\u001b[0m\u001b[0;34m\u001b[0m\u001b[0;34m\u001b[0m\u001b[0m\n\u001b[1;32m    270\u001b[0m             \u001b[0;32mraise\u001b[0m \u001b[0mLineTooLong\u001b[0m\u001b[0;34m(\u001b[0m\u001b[0;34m\"status line\"\u001b[0m\u001b[0;34m)\u001b[0m\u001b[0;34m\u001b[0m\u001b[0;34m\u001b[0m\u001b[0m\n",
      "\u001b[0;32m~/miniconda3/lib/python3.9/socket.py\u001b[0m in \u001b[0;36mreadinto\u001b[0;34m(self, b)\u001b[0m\n\u001b[1;32m    702\u001b[0m         \u001b[0;32mwhile\u001b[0m \u001b[0;32mTrue\u001b[0m\u001b[0;34m:\u001b[0m\u001b[0;34m\u001b[0m\u001b[0;34m\u001b[0m\u001b[0m\n\u001b[1;32m    703\u001b[0m             \u001b[0;32mtry\u001b[0m\u001b[0;34m:\u001b[0m\u001b[0;34m\u001b[0m\u001b[0;34m\u001b[0m\u001b[0m\n\u001b[0;32m--> 704\u001b[0;31m                 \u001b[0;32mreturn\u001b[0m \u001b[0mself\u001b[0m\u001b[0;34m.\u001b[0m\u001b[0m_sock\u001b[0m\u001b[0;34m.\u001b[0m\u001b[0mrecv_into\u001b[0m\u001b[0;34m(\u001b[0m\u001b[0mb\u001b[0m\u001b[0;34m)\u001b[0m\u001b[0;34m\u001b[0m\u001b[0;34m\u001b[0m\u001b[0m\n\u001b[0m\u001b[1;32m    705\u001b[0m             \u001b[0;32mexcept\u001b[0m \u001b[0mtimeout\u001b[0m\u001b[0;34m:\u001b[0m\u001b[0;34m\u001b[0m\u001b[0;34m\u001b[0m\u001b[0m\n\u001b[1;32m    706\u001b[0m                 \u001b[0mself\u001b[0m\u001b[0;34m.\u001b[0m\u001b[0m_timeout_occurred\u001b[0m \u001b[0;34m=\u001b[0m \u001b[0;32mTrue\u001b[0m\u001b[0;34m\u001b[0m\u001b[0;34m\u001b[0m\u001b[0m\n",
      "\u001b[0;31mKeyboardInterrupt\u001b[0m: "
     ]
    }
   ],
   "source": [
    "df_links = list(pd.read_csv('resumes_all.csv')['Ссылка'])[:300]  # rm [:300]\n",
    "\n",
    "resume_list = []\n",
    "for link in df_links:\n",
    "    # print(link)\n",
    "    data = scrape(link, driver)\n",
    "    resume_list.append(data)\n",
    "\n",
    "df = pd.DataFrame(resume_list, columns=['Ссылка',\n",
    "                                        'Название',\n",
    "                                        'Коммандировка', \n",
    "                                        'Опыт работы, лет',\n",
    "                                        'О себе',\n",
    "                                        'Образование',\n",
    "                                        'Интересы',\n",
    "                                        'Навыки',\n",
    "                                        'Образование-1',\n",
    "                                        'Образование-2',\n",
    "                                        'Уровень образование',\n",
    "                                        'Кол-во образований',\n",
    "                                        'Работа 1',\n",
    "                                        'Работа 2',\n",
    "                                        'Где работал?',\n",
    "                                        'Кол-во работ'])\n",
    "df.to_csv('resumes_features.csv')\n",
    "df.head(2)"
   ]
  },
  {
   "cell_type": "code",
   "execution_count": 205,
   "id": "384b89cc-735f-4837-9929-9fa6fffde554",
   "metadata": {},
   "outputs": [
    {
     "data": {
      "text/html": [
       "<div>\n",
       "<style scoped>\n",
       "    .dataframe tbody tr th:only-of-type {\n",
       "        vertical-align: middle;\n",
       "    }\n",
       "\n",
       "    .dataframe tbody tr th {\n",
       "        vertical-align: top;\n",
       "    }\n",
       "\n",
       "    .dataframe thead th {\n",
       "        text-align: right;\n",
       "    }\n",
       "</style>\n",
       "<table border=\"1\" class=\"dataframe\">\n",
       "  <thead>\n",
       "    <tr style=\"text-align: right;\">\n",
       "      <th></th>\n",
       "      <th>Ссылка</th>\n",
       "      <th>Название</th>\n",
       "      <th>Коммандировка</th>\n",
       "      <th>Опыт работы, лет</th>\n",
       "      <th>О себе</th>\n",
       "      <th>Образование</th>\n",
       "      <th>Интересы</th>\n",
       "      <th>Навыки</th>\n",
       "      <th>Образование-1</th>\n",
       "      <th>Образование-2</th>\n",
       "      <th>Уровень образование</th>\n",
       "      <th>Кол-во образований</th>\n",
       "      <th>Работа 1</th>\n",
       "      <th>Работа 2</th>\n",
       "      <th>Где работал?</th>\n",
       "      <th>Кол-во работ</th>\n",
       "    </tr>\n",
       "  </thead>\n",
       "  <tbody>\n",
       "    <tr>\n",
       "      <th>0</th>\n",
       "      <td>https://hh.ru/resume/1aa91e410000fd3cda0039ed1...</td>\n",
       "      <td>Analyst</td>\n",
       "      <td>Moscow, willing to relocate, prepared for occa...</td>\n",
       "      <td>Work experience 7 years 4 months</td>\n",
       "      <td>Responsible, communicable, quick study and det...</td>\n",
       "      <td>Higher education\\n2015\\nMOSCOW STATE UNIVERSIT...</td>\n",
       "      <td>Specializations:\\nSales manager, account manag...</td>\n",
       "      <td>Key skills\\nAnalitical thinking\\nEnglish\\nOrga...</td>\n",
       "      <td>MOSCOW STATE UNIVERSITY OF MECHANICAL ENGINEER...</td>\n",
       "      <td></td>\n",
       "      <td>Higher education</td>\n",
       "      <td>1</td>\n",
       "      <td>NUTRICIA\\nMoscow, nutricia.ru\\nFood Products.....</td>\n",
       "      <td>Volkswagen Group Russia\\nMoscow, www.volkswage...</td>\n",
       "      <td>[NUTRICIA\\nMoscow, nutricia.ru\\nFood Products....</td>\n",
       "      <td>4</td>\n",
       "    </tr>\n",
       "    <tr>\n",
       "      <th>1</th>\n",
       "      <td>https://hh.ru/resume/628596ac000657935b0039ed1...</td>\n",
       "      <td>BI аналитик</td>\n",
       "      <td>Москва, не готова к переезду, готова к редким ...</td>\n",
       "      <td>Опыт работы 1 год 5 месяцев</td>\n",
       "      <td>В последние годы проходила обучение без возмож...</td>\n",
       "      <td>Высшее образование (Бакалавр)\\n2022\\nНациональ...</td>\n",
       "      <td>Специализации:\\nBI-аналитик, аналитик данных\\n...</td>\n",
       "      <td>Ключевые навыки\\nTableau\\nPower BI\\nSQL\\nMS Ex...</td>\n",
       "      <td>Национальный исследовательский университет \"Вы...</td>\n",
       "      <td></td>\n",
       "      <td>Высшее образование (Бакалавр)</td>\n",
       "      <td>1</td>\n",
       "      <td>Ozon\\nМладший аналитик\\nСоздание, поддержка и ...</td>\n",
       "      <td>OZON\\nСтажер группы BI аналитики и отчетности\\...</td>\n",
       "      <td>[Ozon\\nМладший аналитик\\nСоздание, поддержка и...</td>\n",
       "      <td>3</td>\n",
       "    </tr>\n",
       "  </tbody>\n",
       "</table>\n",
       "</div>"
      ],
      "text/plain": [
       "                                              Ссылка     Название  \\\n",
       "0  https://hh.ru/resume/1aa91e410000fd3cda0039ed1...      Analyst   \n",
       "1  https://hh.ru/resume/628596ac000657935b0039ed1...  BI аналитик   \n",
       "\n",
       "                                       Коммандировка  \\\n",
       "0  Moscow, willing to relocate, prepared for occa...   \n",
       "1  Москва, не готова к переезду, готова к редким ...   \n",
       "\n",
       "                   Опыт работы, лет  \\\n",
       "0  Work experience 7 years 4 months   \n",
       "1       Опыт работы 1 год 5 месяцев   \n",
       "\n",
       "                                              О себе  \\\n",
       "0  Responsible, communicable, quick study and det...   \n",
       "1  В последние годы проходила обучение без возмож...   \n",
       "\n",
       "                                         Образование  \\\n",
       "0  Higher education\\n2015\\nMOSCOW STATE UNIVERSIT...   \n",
       "1  Высшее образование (Бакалавр)\\n2022\\nНациональ...   \n",
       "\n",
       "                                            Интересы  \\\n",
       "0  Specializations:\\nSales manager, account manag...   \n",
       "1  Специализации:\\nBI-аналитик, аналитик данных\\n...   \n",
       "\n",
       "                                              Навыки  \\\n",
       "0  Key skills\\nAnalitical thinking\\nEnglish\\nOrga...   \n",
       "1  Ключевые навыки\\nTableau\\nPower BI\\nSQL\\nMS Ex...   \n",
       "\n",
       "                                       Образование-1 Образование-2  \\\n",
       "0  MOSCOW STATE UNIVERSITY OF MECHANICAL ENGINEER...                 \n",
       "1  Национальный исследовательский университет \"Вы...                 \n",
       "\n",
       "             Уровень образование  Кол-во образований  \\\n",
       "0               Higher education                   1   \n",
       "1  Высшее образование (Бакалавр)                   1   \n",
       "\n",
       "                                            Работа 1  \\\n",
       "0  NUTRICIA\\nMoscow, nutricia.ru\\nFood Products.....   \n",
       "1  Ozon\\nМладший аналитик\\nСоздание, поддержка и ...   \n",
       "\n",
       "                                            Работа 2  \\\n",
       "0  Volkswagen Group Russia\\nMoscow, www.volkswage...   \n",
       "1  OZON\\nСтажер группы BI аналитики и отчетности\\...   \n",
       "\n",
       "                                        Где работал?  Кол-во работ  \n",
       "0  [NUTRICIA\\nMoscow, nutricia.ru\\nFood Products....             4  \n",
       "1  [Ozon\\nМладший аналитик\\nСоздание, поддержка и...             3  "
      ]
     },
     "execution_count": 205,
     "metadata": {},
     "output_type": "execute_result"
    }
   ],
   "source": [
    "df = pd.DataFrame(resume_list, columns=['Ссылка',\n",
    "                                        'Название',\n",
    "                                        'Коммандировка', \n",
    "                                        'Опыт работы, лет',\n",
    "                                        'О себе',\n",
    "                                        'Образование',\n",
    "                                        'Интересы',\n",
    "                                        'Навыки',\n",
    "                                        'Образование-1',\n",
    "                                        'Образование-2',\n",
    "                                        'Уровень образование',\n",
    "                                        'Кол-во образований',\n",
    "                                        'Работа 1',\n",
    "                                        'Работа 2',\n",
    "                                        'Где работал?',\n",
    "                                        'Кол-во работ'])\n",
    "df.to_csv('resumes_features.csv')\n",
    "df.head(2)"
   ]
  },
  {
   "cell_type": "markdown",
   "id": "09f00f65-9b92-4573-811c-013e93f02204",
   "metadata": {},
   "source": [
    "### Пост-обработка"
   ]
  },
  {
   "cell_type": "code",
   "execution_count": 3,
   "id": "3b705a26-283f-4335-8528-4d3db4eb8670",
   "metadata": {},
   "outputs": [],
   "source": [
    "df = pd.read_csv('resumes_features.csv')"
   ]
  },
  {
   "cell_type": "markdown",
   "id": "ea99434f-cc9e-46fd-b17c-ba608cf2fd69",
   "metadata": {},
   "source": [
    "**Перевод опыта работы в числовое значение:**"
   ]
  },
  {
   "cell_type": "code",
   "execution_count": 4,
   "id": "a45860c6-b235-44f1-991f-868a2703fd3c",
   "metadata": {
    "tags": []
   },
   "outputs": [
    {
     "data": {
      "text/html": [
       "<div>\n",
       "<style scoped>\n",
       "    .dataframe tbody tr th:only-of-type {\n",
       "        vertical-align: middle;\n",
       "    }\n",
       "\n",
       "    .dataframe tbody tr th {\n",
       "        vertical-align: top;\n",
       "    }\n",
       "\n",
       "    .dataframe thead th {\n",
       "        text-align: right;\n",
       "    }\n",
       "</style>\n",
       "<table border=\"1\" class=\"dataframe\">\n",
       "  <thead>\n",
       "    <tr style=\"text-align: right;\">\n",
       "      <th></th>\n",
       "      <th>Unnamed: 0.1</th>\n",
       "      <th>Unnamed: 0.1.1</th>\n",
       "      <th>Ссылка</th>\n",
       "      <th>Название</th>\n",
       "      <th>Коммандировка</th>\n",
       "      <th>Опыт работы, лет</th>\n",
       "      <th>О себе</th>\n",
       "      <th>Образование</th>\n",
       "      <th>Интересы</th>\n",
       "      <th>Навыки</th>\n",
       "      <th>...</th>\n",
       "      <th>Где работал?</th>\n",
       "      <th>Кол-во работ</th>\n",
       "      <th>Опыт нормализованный</th>\n",
       "      <th>Топовость образования</th>\n",
       "      <th>is_eng?</th>\n",
       "      <th>Уровень оборазования нормализованный</th>\n",
       "      <th>Навыки списком</th>\n",
       "      <th>Релокация?</th>\n",
       "      <th>Коммандировка?</th>\n",
       "      <th>Город?</th>\n",
       "    </tr>\n",
       "  </thead>\n",
       "  <tbody>\n",
       "    <tr>\n",
       "      <th>0</th>\n",
       "      <td>0</td>\n",
       "      <td>0</td>\n",
       "      <td>https://hh.ru/resume/1aa91e410000fd3cda0039ed1...</td>\n",
       "      <td>Analyst</td>\n",
       "      <td>Moscow, willing to relocate, prepared for occa...</td>\n",
       "      <td>Work experience 7 years 4 months</td>\n",
       "      <td>Responsible, communicable, quick study and det...</td>\n",
       "      <td>Higher education\\n2015\\nMOSCOW STATE UNIVERSIT...</td>\n",
       "      <td>Specializations:\\nSales manager, account manag...</td>\n",
       "      <td>Key skills\\nAnalitical thinking\\nEnglish\\nOrga...</td>\n",
       "      <td>...</td>\n",
       "      <td>['NUTRICIA\\nMoscow, nutricia.ru\\nFood Products...</td>\n",
       "      <td>4</td>\n",
       "      <td>7;4</td>\n",
       "      <td>False</td>\n",
       "      <td>RU</td>\n",
       "      <td>Высшее образование</td>\n",
       "      <td>['Key skills', 'Analitical thinking', 'English...</td>\n",
       "      <td>prepared for occasional business trips</td>\n",
       "      <td>willing to relocate</td>\n",
       "      <td>Moscow</td>\n",
       "    </tr>\n",
       "    <tr>\n",
       "      <th>1</th>\n",
       "      <td>1</td>\n",
       "      <td>1</td>\n",
       "      <td>https://hh.ru/resume/628596ac000657935b0039ed1...</td>\n",
       "      <td>BI аналитик</td>\n",
       "      <td>Москва, не готова к переезду, готова к редким ...</td>\n",
       "      <td>Опыт работы 1 год 5 месяцев</td>\n",
       "      <td>В последние годы проходила обучение без возмож...</td>\n",
       "      <td>Высшее образование (Бакалавр)\\n2022\\nНациональ...</td>\n",
       "      <td>Специализации:\\nBI-аналитик, аналитик данных\\n...</td>\n",
       "      <td>Ключевые навыки\\nTableau\\nPower BI\\nSQL\\nMS Ex...</td>\n",
       "      <td>...</td>\n",
       "      <td>['Ozon\\nМладший аналитик\\nСоздание, поддержка ...</td>\n",
       "      <td>3</td>\n",
       "      <td>1;5</td>\n",
       "      <td>True</td>\n",
       "      <td>ENG</td>\n",
       "      <td>Бакалавр</td>\n",
       "      <td>['Ключевые навыки', 'Tableau', 'Power BI', 'SQ...</td>\n",
       "      <td>NaN</td>\n",
       "      <td>NaN</td>\n",
       "      <td>NaN</td>\n",
       "    </tr>\n",
       "    <tr>\n",
       "      <th>2</th>\n",
       "      <td>2</td>\n",
       "      <td>2</td>\n",
       "      <td>https://hh.ru/resume/dfbcae000004342d8f0039ed1...</td>\n",
       "      <td>BI аналитик</td>\n",
       "      <td>Москва, не готова к переезду, готова к команди...</td>\n",
       "      <td>Опыт работы 3 года 3 месяца</td>\n",
       "      <td>---</td>\n",
       "      <td>Высшее образование (Бакалавр)\\n2019\\nСамарский...</td>\n",
       "      <td>Специализации:\\nBI-аналитик, аналитик данных\\n...</td>\n",
       "      <td>Ключевые навыки\\nPython\\nSQL\\nУмение работать ...</td>\n",
       "      <td>...</td>\n",
       "      <td>['Банк ВТБ (ПАО)\\nМосква, www.vtbcareer.com\\nФ...</td>\n",
       "      <td>1</td>\n",
       "      <td>3;3</td>\n",
       "      <td>False</td>\n",
       "      <td>ENG</td>\n",
       "      <td>Бакалавр</td>\n",
       "      <td>['Ключевые навыки', 'Python', 'SQL', 'Умение р...</td>\n",
       "      <td>NaN</td>\n",
       "      <td>NaN</td>\n",
       "      <td>NaN</td>\n",
       "    </tr>\n",
       "    <tr>\n",
       "      <th>3</th>\n",
       "      <td>3</td>\n",
       "      <td>3</td>\n",
       "      <td>https://hh.ru/resume/bebf6a630008069d8c0039ed1...</td>\n",
       "      <td>Аналитик</td>\n",
       "      <td>Санкт-Петербург, м. Гражданский проспект, гото...</td>\n",
       "      <td>Опыт работы 7 лет 2 месяца</td>\n",
       "      <td>Имею экономическое образование. Продвинутый по...</td>\n",
       "      <td>Высшее образование (Бакалавр)\\n2015\\nСанкт-Пет...</td>\n",
       "      <td>Специализации:\\nАналитик\\nЗанятость: полная за...</td>\n",
       "      <td>Ключевые навыки\\nЭкономический анализ\\nЭкономи...</td>\n",
       "      <td>...</td>\n",
       "      <td>['A&amp;D Mortgage\\nСтарший BI аналитик\\nСоздание ...</td>\n",
       "      <td>6</td>\n",
       "      <td>7;2</td>\n",
       "      <td>False</td>\n",
       "      <td>ENG</td>\n",
       "      <td>Бакалавр</td>\n",
       "      <td>['Ключевые навыки', 'Экономический анализ', 'Э...</td>\n",
       "      <td>NaN</td>\n",
       "      <td>NaN</td>\n",
       "      <td>NaN</td>\n",
       "    </tr>\n",
       "    <tr>\n",
       "      <th>4</th>\n",
       "      <td>4</td>\n",
       "      <td>4</td>\n",
       "      <td>https://hh.ru/resume/8606f37b000773de980039ed1...</td>\n",
       "      <td>Программист-разработчик</td>\n",
       "      <td>Москва, м. Петровско-Разумовская, не готов к п...</td>\n",
       "      <td>Опыт работы 1 год 1 месяц</td>\n",
       "      <td>Имеется опыт в создании Android-приложений на ...</td>\n",
       "      <td>Высшее образование (Бакалавр)\\n2022\\nЧелябинск...</td>\n",
       "      <td>Специализации:\\nПрограммист, разработчик\\nЗаня...</td>\n",
       "      <td>Ключевые навыки\\nАдминистрирование серверов Li...</td>\n",
       "      <td>...</td>\n",
       "      <td>['MoneyCare\\nBI-аналитик\\nРабота с big data(Py...</td>\n",
       "      <td>1</td>\n",
       "      <td>1;1</td>\n",
       "      <td>False</td>\n",
       "      <td>RU</td>\n",
       "      <td>Бакалавр</td>\n",
       "      <td>['Ключевые навыки', 'Администрирование серверо...</td>\n",
       "      <td>NaN</td>\n",
       "      <td>NaN</td>\n",
       "      <td>NaN</td>\n",
       "    </tr>\n",
       "    <tr>\n",
       "      <th>...</th>\n",
       "      <td>...</td>\n",
       "      <td>...</td>\n",
       "      <td>...</td>\n",
       "      <td>...</td>\n",
       "      <td>...</td>\n",
       "      <td>...</td>\n",
       "      <td>...</td>\n",
       "      <td>...</td>\n",
       "      <td>...</td>\n",
       "      <td>...</td>\n",
       "      <td>...</td>\n",
       "      <td>...</td>\n",
       "      <td>...</td>\n",
       "      <td>...</td>\n",
       "      <td>...</td>\n",
       "      <td>...</td>\n",
       "      <td>...</td>\n",
       "      <td>...</td>\n",
       "      <td>...</td>\n",
       "      <td>...</td>\n",
       "      <td>...</td>\n",
       "    </tr>\n",
       "    <tr>\n",
       "      <th>193</th>\n",
       "      <td>193</td>\n",
       "      <td>193</td>\n",
       "      <td>https://hh.ru/resume/9024b1760002f0f0fe0039ed1...</td>\n",
       "      <td>Business analyst</td>\n",
       "      <td>Moscow, metro station Akademicheskaya, willing...</td>\n",
       "      <td>Work experience 5 years 5 months</td>\n",
       "      <td>An interest in investment and economics led my...</td>\n",
       "      <td>Higher education (bachelor)\\n2017\\nBrunel univ...</td>\n",
       "      <td>Specializations:\\nAnalyst\\nEmployment: full ti...</td>\n",
       "      <td>Key skills\\nAnalytical skills\\nSAP PM\\nBusines...</td>\n",
       "      <td>...</td>\n",
       "      <td>['SMARTSEEDS\\nБизнес-аналитик\\n• Support of so...</td>\n",
       "      <td>3</td>\n",
       "      <td>5;5</td>\n",
       "      <td>False</td>\n",
       "      <td>RU</td>\n",
       "      <td>Бакалавр</td>\n",
       "      <td>['Key skills', 'Analytical skills', 'SAP PM', ...</td>\n",
       "      <td>NaN</td>\n",
       "      <td>willing to relocate</td>\n",
       "      <td>Moscow</td>\n",
       "    </tr>\n",
       "    <tr>\n",
       "      <th>194</th>\n",
       "      <td>194</td>\n",
       "      <td>194</td>\n",
       "      <td>https://hh.ru/resume/c0d0ac9b0002b4446d0039ed1...</td>\n",
       "      <td>Аналитик</td>\n",
       "      <td>Москва, м. Планерная, не готов к переезду, не ...</td>\n",
       "      <td>Опыт работы 5 лет</td>\n",
       "      <td>Проходил иностранное обучение в Kaplan Interna...</td>\n",
       "      <td>Высшее образование\\n2015\\nРоссийский экономиче...</td>\n",
       "      <td>Специализации:\\nАналитик\\nЗанятость: стажировк...</td>\n",
       "      <td>Ключевые навыки\\nАнглийский язык\\nРабота в ком...</td>\n",
       "      <td>...</td>\n",
       "      <td>['Керхер, ООО\\nМосква, www.karcher.ru\\nЭлектро...</td>\n",
       "      <td>4</td>\n",
       "      <td>5;</td>\n",
       "      <td>False</td>\n",
       "      <td>RU</td>\n",
       "      <td>Высшее образование</td>\n",
       "      <td>['Ключевые навыки', 'Английский язык', 'Работа...</td>\n",
       "      <td>NaN</td>\n",
       "      <td>NaN</td>\n",
       "      <td>NaN</td>\n",
       "    </tr>\n",
       "    <tr>\n",
       "      <th>195</th>\n",
       "      <td>195</td>\n",
       "      <td>195</td>\n",
       "      <td>https://hh.ru/resume/8b2d7d4700092277b60039ed1...</td>\n",
       "      <td>Product Analyst</td>\n",
       "      <td>Москва, м. Текстильщики, готов к переезду, гот...</td>\n",
       "      <td>Опыт работы 11 месяцев</td>\n",
       "      <td>Стек технологий:\\n[Имеется опыт]: Excel, Oracl...</td>\n",
       "      <td>Высшее образование (Бакалавр)\\n2019\\nСибирский...</td>\n",
       "      <td>Специализации:\\nРуководитель проектов\\nМенедже...</td>\n",
       "      <td>Ключевые навыки\\nРабота в команде\\nУправление ...</td>\n",
       "      <td>...</td>\n",
       "      <td>['ЕВРОПЕЙСКИЙ МЕДИЦИНСКИЙ ЦЕНТР\\nМосква, WWW.E...</td>\n",
       "      <td>1</td>\n",
       "      <td>0;11</td>\n",
       "      <td>False</td>\n",
       "      <td>RU</td>\n",
       "      <td>Бакалавр</td>\n",
       "      <td>['Ключевые навыки', 'Работа в команде', 'Управ...</td>\n",
       "      <td>NaN</td>\n",
       "      <td>NaN</td>\n",
       "      <td>NaN</td>\n",
       "    </tr>\n",
       "    <tr>\n",
       "      <th>196</th>\n",
       "      <td>196</td>\n",
       "      <td>196</td>\n",
       "      <td>https://hh.ru/resume/02dd13850000e335750039ed1...</td>\n",
       "      <td>Аналитик данных</td>\n",
       "      <td>Казань, м. Дубравная , готов к переезду (Москв...</td>\n",
       "      <td>Опыт работы 16 лет 10 месяцев</td>\n",
       "      <td>- Обладаю аналитическим складом ума, способен ...</td>\n",
       "      <td>Высшее образование\\n2006\\nРоссийский государст...</td>\n",
       "      <td>Специализации:\\nBI-аналитик, аналитик данных\\n...</td>\n",
       "      <td>Ключевые навыки\\nФинансовый анализ\\nSQL\\nMicro...</td>\n",
       "      <td>...</td>\n",
       "      <td>['АО Евразийская Лизинговая Компания\\nКазань\\n...</td>\n",
       "      <td>7</td>\n",
       "      <td>16;10</td>\n",
       "      <td>False</td>\n",
       "      <td>ENG</td>\n",
       "      <td>Высшее образование</td>\n",
       "      <td>['Ключевые навыки', 'Финансовый анализ', 'SQL'...</td>\n",
       "      <td>NaN</td>\n",
       "      <td>NaN</td>\n",
       "      <td>NaN</td>\n",
       "    </tr>\n",
       "    <tr>\n",
       "      <th>197</th>\n",
       "      <td>197</td>\n",
       "      <td>197</td>\n",
       "      <td>https://hh.ru/resume/99787ac10008ef446b0039ed1...</td>\n",
       "      <td>Аналитик</td>\n",
       "      <td>Москва, не готов к переезду, не готов к команд...</td>\n",
       "      <td>Опыт работы 6 лет</td>\n",
       "      <td>В резюме отражены последние четыре места работ...</td>\n",
       "      <td>Высшее образование\\n2009\\nВсероссийский заочны...</td>\n",
       "      <td>Специализации:\\nАналитик\\nЗанятость: полная за...</td>\n",
       "      <td>Ключевые навыки\\nАналитика продаж\\nАналитика з...</td>\n",
       "      <td>...</td>\n",
       "      <td>['ТД \"Мое Лето\"\\nМосква\\nАналитик\\nСфера деяте...</td>\n",
       "      <td>4</td>\n",
       "      <td>6;</td>\n",
       "      <td>False</td>\n",
       "      <td>RU</td>\n",
       "      <td>Высшее образование</td>\n",
       "      <td>['Ключевые навыки', 'Аналитика продаж', 'Анали...</td>\n",
       "      <td>NaN</td>\n",
       "      <td>NaN</td>\n",
       "      <td>NaN</td>\n",
       "    </tr>\n",
       "  </tbody>\n",
       "</table>\n",
       "<p>198 rows × 26 columns</p>\n",
       "</div>"
      ],
      "text/plain": [
       "     Unnamed: 0.1  Unnamed: 0.1.1  \\\n",
       "0               0               0   \n",
       "1               1               1   \n",
       "2               2               2   \n",
       "3               3               3   \n",
       "4               4               4   \n",
       "..            ...             ...   \n",
       "193           193             193   \n",
       "194           194             194   \n",
       "195           195             195   \n",
       "196           196             196   \n",
       "197           197             197   \n",
       "\n",
       "                                                Ссылка  \\\n",
       "0    https://hh.ru/resume/1aa91e410000fd3cda0039ed1...   \n",
       "1    https://hh.ru/resume/628596ac000657935b0039ed1...   \n",
       "2    https://hh.ru/resume/dfbcae000004342d8f0039ed1...   \n",
       "3    https://hh.ru/resume/bebf6a630008069d8c0039ed1...   \n",
       "4    https://hh.ru/resume/8606f37b000773de980039ed1...   \n",
       "..                                                 ...   \n",
       "193  https://hh.ru/resume/9024b1760002f0f0fe0039ed1...   \n",
       "194  https://hh.ru/resume/c0d0ac9b0002b4446d0039ed1...   \n",
       "195  https://hh.ru/resume/8b2d7d4700092277b60039ed1...   \n",
       "196  https://hh.ru/resume/02dd13850000e335750039ed1...   \n",
       "197  https://hh.ru/resume/99787ac10008ef446b0039ed1...   \n",
       "\n",
       "                    Название  \\\n",
       "0                    Analyst   \n",
       "1                BI аналитик   \n",
       "2                BI аналитик   \n",
       "3                   Аналитик   \n",
       "4    Программист-разработчик   \n",
       "..                       ...   \n",
       "193         Business analyst   \n",
       "194                 Аналитик   \n",
       "195          Product Analyst   \n",
       "196          Аналитик данных   \n",
       "197                 Аналитик   \n",
       "\n",
       "                                         Коммандировка  \\\n",
       "0    Moscow, willing to relocate, prepared for occa...   \n",
       "1    Москва, не готова к переезду, готова к редким ...   \n",
       "2    Москва, не готова к переезду, готова к команди...   \n",
       "3    Санкт-Петербург, м. Гражданский проспект, гото...   \n",
       "4    Москва, м. Петровско-Разумовская, не готов к п...   \n",
       "..                                                 ...   \n",
       "193  Moscow, metro station Akademicheskaya, willing...   \n",
       "194  Москва, м. Планерная, не готов к переезду, не ...   \n",
       "195  Москва, м. Текстильщики, готов к переезду, гот...   \n",
       "196  Казань, м. Дубравная , готов к переезду (Москв...   \n",
       "197  Москва, не готов к переезду, не готов к команд...   \n",
       "\n",
       "                     Опыт работы, лет  \\\n",
       "0    Work experience 7 years 4 months   \n",
       "1         Опыт работы 1 год 5 месяцев   \n",
       "2         Опыт работы 3 года 3 месяца   \n",
       "3          Опыт работы 7 лет 2 месяца   \n",
       "4           Опыт работы 1 год 1 месяц   \n",
       "..                                ...   \n",
       "193  Work experience 5 years 5 months   \n",
       "194                 Опыт работы 5 лет   \n",
       "195            Опыт работы 11 месяцев   \n",
       "196     Опыт работы 16 лет 10 месяцев   \n",
       "197                 Опыт работы 6 лет   \n",
       "\n",
       "                                                О себе  \\\n",
       "0    Responsible, communicable, quick study and det...   \n",
       "1    В последние годы проходила обучение без возмож...   \n",
       "2                                                  ---   \n",
       "3    Имею экономическое образование. Продвинутый по...   \n",
       "4    Имеется опыт в создании Android-приложений на ...   \n",
       "..                                                 ...   \n",
       "193  An interest in investment and economics led my...   \n",
       "194  Проходил иностранное обучение в Kaplan Interna...   \n",
       "195  Стек технологий:\\n[Имеется опыт]: Excel, Oracl...   \n",
       "196  - Обладаю аналитическим складом ума, способен ...   \n",
       "197  В резюме отражены последние четыре места работ...   \n",
       "\n",
       "                                           Образование  \\\n",
       "0    Higher education\\n2015\\nMOSCOW STATE UNIVERSIT...   \n",
       "1    Высшее образование (Бакалавр)\\n2022\\nНациональ...   \n",
       "2    Высшее образование (Бакалавр)\\n2019\\nСамарский...   \n",
       "3    Высшее образование (Бакалавр)\\n2015\\nСанкт-Пет...   \n",
       "4    Высшее образование (Бакалавр)\\n2022\\nЧелябинск...   \n",
       "..                                                 ...   \n",
       "193  Higher education (bachelor)\\n2017\\nBrunel univ...   \n",
       "194  Высшее образование\\n2015\\nРоссийский экономиче...   \n",
       "195  Высшее образование (Бакалавр)\\n2019\\nСибирский...   \n",
       "196  Высшее образование\\n2006\\nРоссийский государст...   \n",
       "197  Высшее образование\\n2009\\nВсероссийский заочны...   \n",
       "\n",
       "                                              Интересы  \\\n",
       "0    Specializations:\\nSales manager, account manag...   \n",
       "1    Специализации:\\nBI-аналитик, аналитик данных\\n...   \n",
       "2    Специализации:\\nBI-аналитик, аналитик данных\\n...   \n",
       "3    Специализации:\\nАналитик\\nЗанятость: полная за...   \n",
       "4    Специализации:\\nПрограммист, разработчик\\nЗаня...   \n",
       "..                                                 ...   \n",
       "193  Specializations:\\nAnalyst\\nEmployment: full ti...   \n",
       "194  Специализации:\\nАналитик\\nЗанятость: стажировк...   \n",
       "195  Специализации:\\nРуководитель проектов\\nМенедже...   \n",
       "196  Специализации:\\nBI-аналитик, аналитик данных\\n...   \n",
       "197  Специализации:\\nАналитик\\nЗанятость: полная за...   \n",
       "\n",
       "                                                Навыки  ...  \\\n",
       "0    Key skills\\nAnalitical thinking\\nEnglish\\nOrga...  ...   \n",
       "1    Ключевые навыки\\nTableau\\nPower BI\\nSQL\\nMS Ex...  ...   \n",
       "2    Ключевые навыки\\nPython\\nSQL\\nУмение работать ...  ...   \n",
       "3    Ключевые навыки\\nЭкономический анализ\\nЭкономи...  ...   \n",
       "4    Ключевые навыки\\nАдминистрирование серверов Li...  ...   \n",
       "..                                                 ...  ...   \n",
       "193  Key skills\\nAnalytical skills\\nSAP PM\\nBusines...  ...   \n",
       "194  Ключевые навыки\\nАнглийский язык\\nРабота в ком...  ...   \n",
       "195  Ключевые навыки\\nРабота в команде\\nУправление ...  ...   \n",
       "196  Ключевые навыки\\nФинансовый анализ\\nSQL\\nMicro...  ...   \n",
       "197  Ключевые навыки\\nАналитика продаж\\nАналитика з...  ...   \n",
       "\n",
       "                                          Где работал? Кол-во работ  \\\n",
       "0    ['NUTRICIA\\nMoscow, nutricia.ru\\nFood Products...            4   \n",
       "1    ['Ozon\\nМладший аналитик\\nСоздание, поддержка ...            3   \n",
       "2    ['Банк ВТБ (ПАО)\\nМосква, www.vtbcareer.com\\nФ...            1   \n",
       "3    ['A&D Mortgage\\nСтарший BI аналитик\\nСоздание ...            6   \n",
       "4    ['MoneyCare\\nBI-аналитик\\nРабота с big data(Py...            1   \n",
       "..                                                 ...          ...   \n",
       "193  ['SMARTSEEDS\\nБизнес-аналитик\\n• Support of so...            3   \n",
       "194  ['Керхер, ООО\\nМосква, www.karcher.ru\\nЭлектро...            4   \n",
       "195  ['ЕВРОПЕЙСКИЙ МЕДИЦИНСКИЙ ЦЕНТР\\nМосква, WWW.E...            1   \n",
       "196  ['АО Евразийская Лизинговая Компания\\nКазань\\n...            7   \n",
       "197  ['ТД \"Мое Лето\"\\nМосква\\nАналитик\\nСфера деяте...            4   \n",
       "\n",
       "    Опыт нормализованный  Топовость образования is_eng?  \\\n",
       "0                    7;4                  False      RU   \n",
       "1                    1;5                   True     ENG   \n",
       "2                    3;3                  False     ENG   \n",
       "3                    7;2                  False     ENG   \n",
       "4                    1;1                  False      RU   \n",
       "..                   ...                    ...     ...   \n",
       "193                  5;5                  False      RU   \n",
       "194                   5;                  False      RU   \n",
       "195                 0;11                  False      RU   \n",
       "196                16;10                  False     ENG   \n",
       "197                   6;                  False      RU   \n",
       "\n",
       "    Уровень оборазования нормализованный  \\\n",
       "0                     Высшее образование   \n",
       "1                               Бакалавр   \n",
       "2                               Бакалавр   \n",
       "3                               Бакалавр   \n",
       "4                               Бакалавр   \n",
       "..                                   ...   \n",
       "193                             Бакалавр   \n",
       "194                   Высшее образование   \n",
       "195                             Бакалавр   \n",
       "196                   Высшее образование   \n",
       "197                   Высшее образование   \n",
       "\n",
       "                                        Навыки списком  \\\n",
       "0    ['Key skills', 'Analitical thinking', 'English...   \n",
       "1    ['Ключевые навыки', 'Tableau', 'Power BI', 'SQ...   \n",
       "2    ['Ключевые навыки', 'Python', 'SQL', 'Умение р...   \n",
       "3    ['Ключевые навыки', 'Экономический анализ', 'Э...   \n",
       "4    ['Ключевые навыки', 'Администрирование серверо...   \n",
       "..                                                 ...   \n",
       "193  ['Key skills', 'Analytical skills', 'SAP PM', ...   \n",
       "194  ['Ключевые навыки', 'Английский язык', 'Работа...   \n",
       "195  ['Ключевые навыки', 'Работа в команде', 'Управ...   \n",
       "196  ['Ключевые навыки', 'Финансовый анализ', 'SQL'...   \n",
       "197  ['Ключевые навыки', 'Аналитика продаж', 'Анали...   \n",
       "\n",
       "                                  Релокация?        Коммандировка?  Город?  \n",
       "0     prepared for occasional business trips   willing to relocate  Moscow  \n",
       "1                                        NaN                   NaN     NaN  \n",
       "2                                        NaN                   NaN     NaN  \n",
       "3                                        NaN                   NaN     NaN  \n",
       "4                                        NaN                   NaN     NaN  \n",
       "..                                       ...                   ...     ...  \n",
       "193                                      NaN   willing to relocate  Moscow  \n",
       "194                                      NaN                   NaN     NaN  \n",
       "195                                      NaN                   NaN     NaN  \n",
       "196                                      NaN                   NaN     NaN  \n",
       "197                                      NaN                   NaN     NaN  \n",
       "\n",
       "[198 rows x 26 columns]"
      ]
     },
     "execution_count": 4,
     "metadata": {},
     "output_type": "execute_result"
    }
   ],
   "source": [
    "df['Опыт работы, лет'][2]\n",
    "opyt_normalized = []\n",
    "for x in df['Опыт работы, лет']:\n",
    "    x=x.removeprefix('Work experience ').removeprefix('Опыт работы ')\n",
    "    x=x.replace('years', ';')\n",
    "    x=x.replace('year', ';')\n",
    "    x=x.replace('года', ';')  # ВСЕГДА д. б. раньше\n",
    "    x=x.replace('год', ';')\n",
    "    x=x.replace('лет', ';')\n",
    "    \n",
    "    if x.find(';') == -1:\n",
    "        x = '0;' + x\n",
    "    x=x.removesuffix('months')\n",
    "    x=x.removesuffix('month')\n",
    "    x=x.removesuffix('месяцев')\n",
    "    x=x.removesuffix('месяц')\n",
    "    x=x.removesuffix('месяца')\n",
    "     \n",
    "    x=x.replace(' ', '')\n",
    "    if re.search('[а–Я]+|[a–Z]+', x):\n",
    "        x='---'\n",
    "    opyt_normalized.append(x)\n",
    "    \n",
    "df['Опыт нормализованный'] = opyt_normalized\n",
    "df.drop(list(df)[0], axis=1)"
   ]
  },
  {
   "cell_type": "markdown",
   "id": "838eb689-4774-43a6-9da2-3c3463691cc1",
   "metadata": {},
   "source": [
    "**Словарь образования:**"
   ]
  },
  {
   "cell_type": "code",
   "execution_count": 5,
   "id": "d079e273-995c-4180-b223-d00e1d6bf12d",
   "metadata": {},
   "outputs": [],
   "source": [
    "edu_list = pd.concat([df['Образование-1'], df['Образование-2']], axis=0).drop_duplicates().reset_index().drop('index', axis=1)\n",
    "edu_list = list(edu_list[list(edu_list)[0]])\n",
    "len(edu_list)\n",
    "\n",
    "ys=[]\n",
    "\n",
    "for x in edu_list:\n",
    "    s=str(x)\n",
    "    l = s.find(',')+1\n",
    "    y=s[l:].lstrip(' ')\n",
    "    print(end='')\n",
    "    ys.append(y)\n",
    "    \n",
    "for i in range(len(ys)):\n",
    "    y = ys[i]\n",
    "    is_space = re.fullmatch('[А-я]+[ ][А-я ()-]+', y)\n",
    "    if is_space:\n",
    "        #print(y)\n",
    "        1==1\n",
    "    is_m = re.fullmatch('Mosc.*', y) or re.fullmatch('Моск.*', y) or re.fullmatch('Петерб.*', y) or re.fullmatch('Peters.*', y) or re.fullmatch('СПб.*', y) or re.fullmatch('Новосиб.*', y) or re.fullmatch('Novosib.*', y) or re.fullmatch('Томск.*', y) or re.fullmatch('Tomsk.*', y)\n",
    "    if not is_space and not is_m:\n",
    "        ys[i] = 'NO'\n",
    "#ys\n",
    "\n",
    "cnt=0\n",
    "for y in ys:\n",
    "    if y != 'NO':\n",
    "        cnt+=1\n",
    "cnt\n",
    "\n",
    "import numpy as np\n",
    "ys = np.array(ys)\n",
    "ys=np.unique(ys)\n",
    "ys=list(ys)\n",
    "len(ys)\n",
    "\n",
    "\"\"\"\n",
    "Топ-10 IT-вузов России по версии QS (Quacquarelli Symonds)\n",
    "\n",
    "1. Московский государственный университет им. М. В. Ломоносова;\n",
    "2. Университет ИТМО;\n",
    "3. Московский физико-технологический институт (МФТИ);\n",
    "4. Высшая школа экономики;\n",
    "5. Санкт-Петербургский политехнический университет Петра Великого; \n",
    "6. Московский государственный технический университета (МГТУ) имени Н.Э. Баумана;\n",
    "7. Санкт-Петербургский политехнический университет Петра Великого; \n",
    "8. Новосибирский государственный университет;\n",
    "9. Московский инженерно-физический институт (МИФИ);\n",
    "10. Томский политехнический университет.\n",
    "\n",
    "https://propostuplenie.ru/article/spisok-luchshih-informacionnyh-vuzov-rossii/\n",
    "\"\"\"\n",
    "\n",
    "def is_top(y):\n",
    "    if re.search('ВШЭ', y) or re.search('Высшая школа экономики', y) or re.search('HSE', y):\n",
    "        y='ВШЭ'\n",
    "    elif re.search('Московский Государственный Университет$', y) or re.search('Московский Государственный Университет им[.  ени] (М.|Л)', y) or re.search('МГУ[^ А-я]|\\(МГУ\\)', y) or re.search('Moscow state University', y) or re.search('MSU', y):\n",
    "        y='МГУ'\n",
    "    elif re.search('ИТМО', y):\n",
    "        y='ИТМО'\n",
    "    elif re.search('МФТИ', y) or re.search('Московский физико-технологический институт', y):\n",
    "        y='Физтех'\n",
    "        # ЗФТШ при МФТИ\n",
    "        # - Физтех\n",
    "    elif re.search('СПБ Политех', y) or re.search('Санкт-Петербургский политехнический университет', y):\n",
    "        y='Политех СПб'\n",
    "    elif re.search('Бауман', y):\n",
    "        y='Бауманка'\n",
    "    elif re.search('НГУ', y) or re.search('Новосибирский государственный университет', y):\n",
    "        y='НГУ'\n",
    "        # НГУ Наталии Нестеровой\n",
    "    elif re.search('МИФИ', y) or re.search('Московский инженерно-физический институт', y):\n",
    "        y='МИФИ'\n",
    "        # Какие-то Техникум ДИТИ НИЯУ МИФИ и прочее...\n",
    "    elif re.search('ТомГУ', y) or re.search('Томский политехнический университет', y):\n",
    "        y='ТомГУ'\n",
    "    else:\n",
    "        y='NO'\n",
    "    return y != 'NO'\n",
    "        \n",
    "# Дальше завожу колонку: parsed_uni по этому правилу -- 1 если хотя бы 1 уник топовый\n",
    "# И там заменяю значения и вывожу равно ли МГУ / етц.\n",
    "\n",
    "xs = []\n",
    "for x in df.index:\n",
    "    stroke = df.iloc[x].loc[['Образование-1', 'Образование-2']]\n",
    "    k2 = False\n",
    "    if type(stroke[0]) != float:\n",
    "        k1 = is_top(stroke[0])\n",
    "    if type(stroke[1]) != float:\n",
    "        k2 = is_top(stroke[1])\n",
    "    xs.append(k1 or k2)\n",
    "    \n",
    "df['Топовость образования']=xs"
   ]
  },
  {
   "cell_type": "markdown",
   "id": "e605ab90-9fc5-4a08-b6ac-8207fb05cb69",
   "metadata": {},
   "source": [
    "Необходимо еще доделать правила:"
   ]
  },
  {
   "cell_type": "code",
   "execution_count": 6,
   "id": "66464565-95e4-406d-b7bc-8dd284c2c2f7",
   "metadata": {},
   "outputs": [
    {
     "data": {
      "text/plain": [
       "False"
      ]
     },
     "execution_count": 6,
     "metadata": {},
     "output_type": "execute_result"
    }
   ],
   "source": [
    "is_top('МГУ') # почему-то не работает\n",
    "# for x in "
   ]
  },
  {
   "cell_type": "markdown",
   "id": "adc13c6a-57b6-4aed-ab88-e27544fe8cdc",
   "metadata": {},
   "source": [
    "**Флаг, что текст на eng:**"
   ]
  },
  {
   "cell_type": "code",
   "execution_count": 7,
   "id": "740042d6-1e12-420d-8480-06acd763f966",
   "metadata": {
    "tags": []
   },
   "outputs": [],
   "source": [
    "df['О себе']\n",
    "cnt=0\n",
    "\n",
    "for y in df['О себе']:\n",
    "    if type(y)!=float:  # not nan\n",
    "        if re.search('[a–Z]+', y):  # более точно: у английских резюме интересы тоже будут на англ итд, потом подумаю над этим\n",
    "            cnt+=1\n",
    "cnt, df.shape[0]-cnt\n",
    "\n",
    "ts=[]\n",
    "for x in df['О себе']:\n",
    "    t = 'NOT ENG, NOT RU'\n",
    "    if type(x)!=float:  # not nan\n",
    "        t = re.search('[a–Z]+', x)\n",
    "        if t:\n",
    "            t = 'ENG'\n",
    "        else:\n",
    "            t = 'RU'\n",
    "    ts.append(t)\n",
    "df['is_eng?'] = ts"
   ]
  },
  {
   "cell_type": "markdown",
   "id": "4f17bbdd-98db-4b5f-8685-6929b59a0a3d",
   "metadata": {},
   "source": [
    "**Справочник по интересам:**"
   ]
  },
  {
   "cell_type": "code",
   "execution_count": 112,
   "id": "057077ab-d8fc-47a0-86c5-c6598806b8ea",
   "metadata": {
    "tags": []
   },
   "outputs": [],
   "source": [
    "inter_list = []\n",
    "\n",
    "for inter in df['Интересы']:\n",
    "    intr = inter.split('\\n')\n",
    "    if re.search('(Analyst)|(Аналитик данных)|(аналитик)|(Аналитик)', inter):\n",
    "        inter_list.append('found smt by rule (Analyst)|(Аналитик данных)|(аналитик)|(Аналитик)')\n",
    "    else:\n",
    "        inter_list.append('---')\n",
    "        \n",
    "df['Справочник по интересам']= inter_list"
   ]
  },
  {
   "cell_type": "markdown",
   "id": "73195693-700e-4eea-bc58-e09c11c48c7c",
   "metadata": {},
   "source": [
    "**Извлечение сущностей:**"
   ]
  },
  {
   "cell_type": "code",
   "execution_count": 102,
   "id": "fdda413c-82f3-4782-88f8-adb754213bec",
   "metadata": {},
   "outputs": [
    {
     "name": "stdout",
     "output_type": "stream",
     "text": [
      "Moscow, not willing to relocate, prepared for business trips\n",
      "<re.Match object; span=(0, 6), match='Moscow'>\n",
      "<re.Match object; span=(7, 31), match=' not willing to relocate'>\n",
      "<re.Match object; span=(32, 60), match=' prepared for business trips'>\n",
      "Moscow, willing to relocate, prepared for occasional business trips\n",
      "<re.Match object; span=(0, 6), match='Moscow'>\n",
      "<re.Match object; span=(7, 27), match=' willing to relocate'>\n",
      "<re.Match object; span=(28, 67), match=' prepared for occasional business trips'>\n"
     ]
    }
   ],
   "source": [
    "xs1 = []\n",
    "xs2=[]\n",
    "xs3=[]\n",
    "for x in df['Коммандировка']:\n",
    "    # english\n",
    "    x1 = re.search('[A-z]+', x)\n",
    "    x2 = re.search('[a-z ]*willing to relocate', x)\n",
    "    x3 = re.search('[a-z ]*prepared for [a-z]* business trips', x)\n",
    "    if x1:\n",
    "        x1=x1[0]\n",
    "    if x2:\n",
    "        x2=x2[0]\n",
    "    if x3:\n",
    "        x3=x3[0]\n",
    "    \n",
    "    if x1 or x2 or x3:  # if found smt in engish — is it not wrong way to do it?\n",
    "        xs1.append(x1)\n",
    "        xs2.append(x2)\n",
    "        xs3.append(x3)\n",
    "    else:\n",
    "        # russian — work in progress\n",
    "        # Москва, не готова к переезду, готова к редким командировкам\n",
    "        # Санкт-Петербург, м. Гражданский проспект, готов к переезду (Москва), готов к командировкам\n",
    "        # Москва, готов к переезду (Нидерланды, Испания, Франция, Италия, Австрия, Германия, Швейцария), готов к командировкам\n",
    "        # Москва, хочу переехать, готов к командировкам\n",
    "        # Москва, м. Ясенево, не готов к переезду, готов к редким командировкам\n",
    "        x1 = re.search('[А-я]+', x)  # is it correct?\n",
    "        x2 = re.search('[А-я]*[ не]*готов[а]* к переезду', x)\n",
    "        x3 = re.search('[А-я]*[ не]*готов[а]* к[ а-я]* командировкам', x)  # черновое правило\n",
    "        if x1:\n",
    "            x1=x1[0]\n",
    "        if x2:\n",
    "            x2=x2[0]\n",
    "        if x3:\n",
    "            x3=x3[0]\n",
    "        xs1.append(x1)\n",
    "        xs2.append(x2)\n",
    "        xs3.append(x3)\n",
    "\n",
    "zs = []\n",
    "for z in df['Навыки']:\n",
    "    zzz = z.split('\\n')\n",
    "    zs.append(zzz)\n",
    "    \n",
    "df['Навыки списком'] = zs\n",
    "df['Релокация?'] = xs3\n",
    "df['Коммандировка?'] = xs2\n",
    "df['Город?'] = xs1\n",
    "\n",
    "\"\"\"\n",
    "1. Коммандировка \n",
    "2. Навыки\n",
    "3. Кол-во работ\n",
    "4. Наличие аналитических комбинаций слов в работе — новый столбец\n",
    "\"\"\"\n",
    "\n",
    "import numpy as np\n",
    "df['Коммандировка'][8]\n",
    "\n",
    "# (не) готов -> (не) готова\n",
    "# (not) willing, (not) preprared\n",
    "\n",
    "# City, (not willing)., (not) prepared\n",
    "\n",
    "import re\n",
    "\n",
    "print(df['Коммандировка'][8])\n",
    "print(re.search('[A-z]+', df['Коммандировка'][8]))\n",
    "print(re.search('[a-z ]*willing to relocate', df['Коммандировка'][8]))\n",
    "print(re.search('[a-z ]*prepared for business trips', df['Коммандировка'][8]))\n",
    "\n",
    "print(df['Коммандировка'][0])\n",
    "print(re.search('[A-z]+', df['Коммандировка'][0]))\n",
    "print(re.search('[a-z ]*willing to relocate', df['Коммандировка'][0]))\n",
    "print(re.search('[a-z ]*prepared for [a-z]* business trips', df['Коммандировка'][0]))\n",
    "# ^ оказывается есть еще occasional\n",
    "# тогда для eng-коммандировки готово!\n",
    "\n",
    "# Коммандировка более-менее есть. Теперь навыки. \n",
    "\n",
    "df['Навыки'][0].split('\\n')  # вот так?\n",
    "\n",
    "# Навыки есть. Теперь кол-во работ. Для этого соскрейпить все работы и их кол-во\n",
    "\n",
    "df\n",
    "\n",
    "# У меня уже скрейпится список всех работ. Надо его добавить просто а не только 12!!\n",
    "\n",
    "# Все вроде я это собрал\n",
    "\n",
    "# Теперь наличие аналитических комбинаций слов в работе. Для этого сначала сделать 3 пункт!!\n",
    "\n",
    "# Кол-во работ сделано. Итак:\n",
    "\n",
    "work_list = df['Где работал?']\n",
    "analytics_words = []\n",
    "for work in work_list:\n",
    "    # пока супер примитивное правило:\n",
    "    if re.search('(SQL)|(Excel)|(Python)|(Tableau)|(Power BI)', work):\n",
    "        analytics_words.append('found smt by rule (SQL)|(Excel)|(Python)|(Tableau)|(Power BI)')\n",
    "    else:\n",
    "        analytics_words.append('---')\n",
    "df['Аналитические комбинации слов'] = analytics_words"
   ]
  },
  {
   "cell_type": "markdown",
   "id": "daaec299-89b2-44bb-ab2d-6a04e9a84a32",
   "metadata": {},
   "source": [
    "**Перевод уровня образования:**"
   ]
  },
  {
   "cell_type": "code",
   "execution_count": 103,
   "id": "4a454c04-fa59-4d52-b4da-a3dd6191211a",
   "metadata": {
    "tags": []
   },
   "outputs": [
    {
     "name": "stdout",
     "output_type": "stream",
     "text": [
      "Высшее образование\n",
      "Бакалавр\n",
      "Магистр\n",
      "Высшее образование\n",
      "Бакалавр\n",
      "Магистр\n",
      "Неоконченное высшее образование\n",
      "Среднее специальное образование\n"
     ]
    }
   ],
   "source": [
    "z = list(np.unique(list(df['Уровень образование'])))\n",
    "\n",
    "for y in z:\n",
    "    y=y.removeprefix('Higher education ')\n",
    "    y=y.replace('(', '').replace(')', '')\n",
    "    y=y.replace('bachelor', 'Бакалавр').replace('master', 'Магистр')\n",
    "    y=y.replace('Doctor of Science', 'PhD').replace('PhD', 'Доктор наук')\n",
    "    \n",
    "    y=y.removeprefix('Высшее образование ')\n",
    "    y=y.replace('Higher education', 'Высшее образование')\n",
    "    y=y.replace('Incomplete higher education', 'Неоконченное высшее образование')\n",
    "    y=y.replace('Secondary education', 'Среднее образование')\n",
    "    y=y.replace('Secondary special education', 'Среднее специальное образование')\n",
    "    print(y)\n",
    "    \n",
    "ys=[]\n",
    "for y in df['Уровень образование']:\n",
    "    y=y.removeprefix('Higher education ')\n",
    "    y=y.replace('(', '').replace(')', '')\n",
    "    y=y.replace('bachelor', 'Бакалавр').replace('master', 'Магистр')\n",
    "    y=y.replace('Doctor of Science', 'PhD').replace('PhD', 'Доктор наук')\n",
    "    \n",
    "    y=y.removeprefix('Высшее образование ')\n",
    "    y=y.replace('Higher education', 'Высшее образование')\n",
    "    y=y.replace('Incomplete higher education', 'Неоконченное высшее образование')\n",
    "    y=y.replace('Secondary education', 'Среднее образование')\n",
    "    y=y.replace('Secondary special education', 'Среднее специальное образование')\n",
    "    ys.append(y)\n",
    "df['Уровень оборазования нормализованный'] = ys"
   ]
  },
  {
   "cell_type": "markdown",
   "id": "d4056de3-6377-4859-9b4d-3581077376f5",
   "metadata": {},
   "source": [
    "**Сохранение результатов:**"
   ]
  },
  {
   "cell_type": "code",
   "execution_count": 123,
   "id": "e0b4f406-8279-4871-9088-3e6b012aa912",
   "metadata": {},
   "outputs": [
    {
     "data": {
      "text/plain": [
       "['Ссылка',\n",
       " 'Название',\n",
       " 'Коммандировка',\n",
       " 'Опыт работы, лет',\n",
       " 'О себе',\n",
       " 'Образование']"
      ]
     },
     "execution_count": 123,
     "metadata": {},
     "output_type": "execute_result"
    }
   ],
   "source": [
    "list(df)[:6]"
   ]
  },
  {
   "cell_type": "code",
   "execution_count": 122,
   "id": "e379ed84-5964-4634-b19c-2becd6045566",
   "metadata": {},
   "outputs": [],
   "source": [
    "# df=df.drop(list(df)[0], axis=1)"
   ]
  },
  {
   "cell_type": "code",
   "execution_count": 124,
   "id": "fa284e58-2edf-44b4-ad48-c4d2fb1c68fc",
   "metadata": {},
   "outputs": [],
   "source": [
    "df.to_csv('resumes_features.csv')"
   ]
  },
  {
   "cell_type": "markdown",
   "id": "6c02662a-730b-4fb5-b931-18f56e373c24",
   "metadata": {},
   "source": [
    "## Черновик"
   ]
  },
  {
   "cell_type": "markdown",
   "id": "83045ced-2d9d-4a6e-a8e7-2b5af05229e5",
   "metadata": {},
   "source": [
    "Осталось доделать справочник по образованию еще лучше, а также справочник по интересам и наличие аналитчиеских комбинаций слов (см черновик, что сделать)"
   ]
  },
  {
   "cell_type": "code",
   "execution_count": 12,
   "id": "0729c503-4a0b-4799-9eef-a42eff62a436",
   "metadata": {},
   "outputs": [],
   "source": [
    "# concatennate tables\n",
    "\n",
    "# df1 = read_csv(resumes_features)\n",
    "\n",
    "# df2 = gather_data(driver)\n",
    "\n",
    "# df3 = pd.concat([df1, df2]).drop_duplicates\n",
    "\n",
    "# !mv resumes_features/backup/cur_date/resumes_features\n",
    "\n",
    "# df3.to_csv(resumes_features)"
   ]
  },
  {
   "cell_type": "code",
   "execution_count": null,
   "id": "b2d1187b-30ea-46f2-b70a-4f80f917a3ff",
   "metadata": {},
   "outputs": [],
   "source": []
  },
  {
   "cell_type": "markdown",
   "id": "fa34d7be-9ae2-46d9-80c7-6bac4c82d9be",
   "metadata": {},
   "source": [
    "**начинаем АД:**"
   ]
  },
  {
   "cell_type": "code",
   "execution_count": 2,
   "id": "bf1d31bf-c6d0-42b2-b82e-23db681805f5",
   "metadata": {},
   "outputs": [],
   "source": [
    "df = pd.read_csv('resumes_features.csv')"
   ]
  },
  {
   "cell_type": "code",
   "execution_count": 4,
   "id": "1770ee33-ab00-4b1f-841c-6b41c4421fcd",
   "metadata": {},
   "outputs": [],
   "source": [
    "about = df['О себе']"
   ]
  },
  {
   "cell_type": "code",
   "execution_count": 6,
   "id": "0d8e6be2-257e-41a3-99a5-50c3a8c3b922",
   "metadata": {},
   "outputs": [
    {
     "data": {
      "text/plain": [
       "0      Responsible, communicable, quick study and det...\n",
       "1      В последние годы проходила обучение без возмож...\n",
       "2                                                    ---\n",
       "3      Имею экономическое образование. Продвинутый по...\n",
       "4      Имеется опыт в создании Android-приложений на ...\n",
       "                             ...                        \n",
       "193    An interest in investment and economics led my...\n",
       "194    Проходил иностранное обучение в Kaplan Interna...\n",
       "195    Стек технологий:\\n[Имеется опыт]: Excel, Oracl...\n",
       "196    - Обладаю аналитическим складом ума, способен ...\n",
       "197    В резюме отражены последние четыре места работ...\n",
       "Name: О себе, Length: 198, dtype: object"
      ]
     },
     "execution_count": 6,
     "metadata": {},
     "output_type": "execute_result"
    }
   ],
   "source": [
    "about"
   ]
  },
  {
   "cell_type": "markdown",
   "id": "f7f1fc62-5572-4315-b9a9-4486d9068395",
   "metadata": {},
   "source": [
    "ключевые совпадения см л34 она скинула"
   ]
  },
  {
   "cell_type": "markdown",
   "id": "92703406-a6e6-4086-8287-069d2e3e4d92",
   "metadata": {},
   "source": [
    "**Извлечение сущностей: более соершенные правила.** ВКР. Если город и коммандировка на английском то резюме точно на английском. Какие-то такие правила еще поискать. Посмотрю только в каком таком точном поле меньше всего пропусков. ВКР: позже вычленяю ещё сущности как она сказала см prev call в 7.12. См github: допилить еще справочник образования и прочее, чтобы все в этом плане было идеально"
   ]
  },
  {
   "cell_type": "markdown",
   "id": "5f8f537d-7a15-4792-b520-e9d10b25c7c2",
   "metadata": {},
   "source": [
    "embeddings:\n",
    "\n",
    "- tf-idf: важность слов (вектор = мера важности каждого слова в документе через запятую)\n",
    "\n",
    "- word2vec и BERT: учиытвают семантические особенности\n",
    "\n",
    "Курс по тектсовой аналитике с Я.Диска не так полезен как https://stepik.org/course/129443/promo но я пока не смотрел\n",
    "\n",
    "см еще статьи в папке 7.12"
   ]
  },
  {
   "cell_type": "markdown",
   "id": "d9a2cdb9-2dbd-4723-804f-09406bff8e22",
   "metadata": {},
   "source": [
    "Реализация w2v https://towardsdatascience.com/a-word2vec-implementation-using-numpy-and-python-d256cf0e5f28\n",
    "\n",
    "lib: https://radimrehurek.com/gensim/models/word2vec.html (потом пойму в чем ограничения)"
   ]
  },
  {
   "cell_type": "code",
   "execution_count": 11,
   "id": "fdf29c85-5d93-44ed-96d5-ca636e5f6653",
   "metadata": {},
   "outputs": [],
   "source": [
    "about_small = about[:10]"
   ]
  },
  {
   "cell_type": "code",
   "execution_count": 12,
   "id": "e3768919-7932-4e1a-a5eb-20f886d730b1",
   "metadata": {},
   "outputs": [
    {
     "data": {
      "text/plain": [
       "0    Responsible, communicable, quick study and det...\n",
       "1    В последние годы проходила обучение без возмож...\n",
       "2                                                  ---\n",
       "3    Имею экономическое образование. Продвинутый по...\n",
       "4    Имеется опыт в создании Android-приложений на ...\n",
       "5    Уверенный пользователь.\\nЖелание оптимизации и...\n",
       "6                                   Academic IELTS 8.0\n",
       "7    1) В 2021 году закончил с отличием программу д...\n",
       "8    2015-2016 - the teacher of the Small Mechmath ...\n",
       "9    Data Analytics with Visual Basic for Applicati...\n",
       "Name: О себе, dtype: object"
      ]
     },
     "execution_count": 12,
     "metadata": {},
     "output_type": "execute_result"
    }
   ],
   "source": [
    "about_small"
   ]
  },
  {
   "cell_type": "code",
   "execution_count": 14,
   "id": "0090cdf4-255b-4f39-bc2c-b2f84b1555ee",
   "metadata": {},
   "outputs": [],
   "source": [
    "about_small_tokens = []\n",
    "\n",
    "for text in about_small:\n",
    "    about_small_tokens.append(text.split(' '))"
   ]
  },
  {
   "cell_type": "code",
   "execution_count": 9,
   "id": "216b5385-d62f-4537-85f6-de06813b8912",
   "metadata": {},
   "outputs": [],
   "source": [
    "from gensim.test.utils import common_texts\n",
    "from gensim.models import Word2Vec"
   ]
  },
  {
   "cell_type": "code",
   "execution_count": 10,
   "id": "1666b0c5-bb55-4380-941b-d7e251ff8f89",
   "metadata": {},
   "outputs": [
    {
     "data": {
      "text/plain": [
       "[['human', 'interface', 'computer'],\n",
       " ['survey', 'user', 'computer', 'system', 'response', 'time'],\n",
       " ['eps', 'user', 'interface', 'system'],\n",
       " ['system', 'human', 'system', 'eps'],\n",
       " ['user', 'response', 'time'],\n",
       " ['trees'],\n",
       " ['graph', 'trees'],\n",
       " ['graph', 'minors', 'trees'],\n",
       " ['graph', 'minors', 'survey']]"
      ]
     },
     "execution_count": 10,
     "metadata": {},
     "output_type": "execute_result"
    }
   ],
   "source": [
    "common_texts"
   ]
  },
  {
   "cell_type": "code",
   "execution_count": 16,
   "id": "b4ea9fa0-9f0d-48b4-aa01-c1180114747a",
   "metadata": {},
   "outputs": [
    {
     "data": {
      "text/plain": [
       "['Responsible,', 'communicable,', 'quick', 'study', 'and', 'detail-oriented']"
      ]
     },
     "execution_count": 16,
     "metadata": {},
     "output_type": "execute_result"
    }
   ],
   "source": [
    "about_small_tokens[0]"
   ]
  },
  {
   "cell_type": "code",
   "execution_count": 19,
   "id": "5b9fbbf5-7b8e-4f89-aa70-a9c420dcb606",
   "metadata": {},
   "outputs": [],
   "source": [
    "model = Word2Vec(sentences=about_small_tokens, vector_size=100, window=5, min_count=1, workers=4)\n",
    "model.save(\"word2vec.model\")"
   ]
  },
  {
   "cell_type": "code",
   "execution_count": 20,
   "id": "ddba9764-24ab-4a00-921f-e4768c0655e2",
   "metadata": {},
   "outputs": [],
   "source": [
    "model = Word2Vec.load(\"word2vec.model\")"
   ]
  },
  {
   "cell_type": "code",
   "execution_count": 21,
   "id": "76e72582-425e-4ef0-8989-ab89c867df6b",
   "metadata": {},
   "outputs": [
    {
     "data": {
      "text/plain": [
       "<gensim.models.word2vec.Word2Vec at 0x7f9679c1edc0>"
      ]
     },
     "execution_count": 21,
     "metadata": {},
     "output_type": "execute_result"
    }
   ],
   "source": [
    "model"
   ]
  },
  {
   "cell_type": "code",
   "execution_count": 22,
   "id": "2da3ac0e-128d-4d4f-9a2e-ce6674fa7b42",
   "metadata": {},
   "outputs": [],
   "source": [
    "about_small2 = about[10:20]"
   ]
  },
  {
   "cell_type": "code",
   "execution_count": 23,
   "id": "6a6b9572-8f55-4233-a2cc-1539583e4ebc",
   "metadata": {},
   "outputs": [
    {
     "data": {
      "text/plain": [
       "10    Неплохой аналитик данных создаст витрины и пон...\n",
       "11    Ключевые знания и навыки:\\nКачественный анализ...\n",
       "12    - Python, SQL, BI (PowerBI, Tableau, Apache Su...\n",
       "13    Свободное владение компьютером. (MS Office/Exc...\n",
       "14    За время работы и учёбы, я овладел компетенция...\n",
       "15                                                  ---\n",
       "16    Увлекаюсь фондовым рынком, торгую, пишу аналит...\n",
       "17    Участвовал в кейс чемпионатах British American...\n",
       "18                                                  ---\n",
       "19                                                  ---\n",
       "Name: О себе, dtype: object"
      ]
     },
     "execution_count": 23,
     "metadata": {},
     "output_type": "execute_result"
    }
   ],
   "source": [
    "about_small2"
   ]
  },
  {
   "cell_type": "code",
   "execution_count": 24,
   "id": "e5390e91-701f-40cd-bcee-e076b2d8902b",
   "metadata": {},
   "outputs": [],
   "source": [
    "about_small_tokens2 = []\n",
    "\n",
    "for text in about_small2:\n",
    "    about_small_tokens2.append(text.split(' '))"
   ]
  },
  {
   "cell_type": "code",
   "execution_count": 26,
   "id": "34746b6d-34b8-478b-90b6-0bbf263de8fa",
   "metadata": {},
   "outputs": [
    {
     "data": {
      "text/plain": [
       "['---']"
      ]
     },
     "execution_count": 26,
     "metadata": {},
     "output_type": "execute_result"
    }
   ],
   "source": [
    "about_small_tokens2[-1]"
   ]
  },
  {
   "cell_type": "code",
   "execution_count": 27,
   "id": "49e79618-32f2-46db-a451-da6437f46341",
   "metadata": {},
   "outputs": [
    {
     "data": {
      "text/plain": [
       "(53, 488)"
      ]
     },
     "execution_count": 27,
     "metadata": {},
     "output_type": "execute_result"
    }
   ],
   "source": [
    "model.train(about_small_tokens2, total_examples=len(about_small_tokens2), epochs=1)"
   ]
  },
  {
   "cell_type": "code",
   "execution_count": 32,
   "id": "2192fa48-2ced-42ff-b142-8ed7ae29c9fb",
   "metadata": {},
   "outputs": [
    {
     "data": {
      "text/plain": [
       "['Неплохой',\n",
       " 'аналитик',\n",
       " 'данных',\n",
       " 'создаст',\n",
       " 'витрины',\n",
       " 'и',\n",
       " 'понятные',\n",
       " 'дашборды,',\n",
       " 'раскрывающие',\n",
       " 'текущую',\n",
       " 'ситуацию',\n",
       " 'и',\n",
       " 'помощающие',\n",
       " 'выявить',\n",
       " 'неочевидные',\n",
       " 'зависимости.']"
      ]
     },
     "execution_count": 32,
     "metadata": {},
     "output_type": "execute_result"
    }
   ],
   "source": [
    "about_small_tokens2[0]"
   ]
  },
  {
   "cell_type": "markdown",
   "id": "721c7173-31f9-4eba-a40f-c4c7528042e7",
   "metadata": {},
   "source": [
    "^ наверное лучше еще привести все токены в тексте к норм. форме?"
   ]
  },
  {
   "cell_type": "code",
   "execution_count": 44,
   "id": "aadca440-ecda-4ee1-9f07-593a32bb7a72",
   "metadata": {},
   "outputs": [],
   "source": [
    "vector = model.wv['данных']  # get numpy vector of a word\n",
    "sims = model.wv.most_similar('данных', topn=10)  # get other similar words"
   ]
  },
  {
   "cell_type": "markdown",
   "id": "925020c4-5f9d-4909-a32b-ffa75623b63e",
   "metadata": {},
   "source": [
    "^ почему для слова аналитик не работает? какие слова есть?"
   ]
  },
  {
   "cell_type": "code",
   "execution_count": 55,
   "id": "6c4f2472-7936-4e09-8ca2-662daec85b67",
   "metadata": {
    "collapsed": true,
    "jupyter": {
     "outputs_hidden": true
    },
    "tags": []
   },
   "outputs": [
    {
     "ename": "KeyError",
     "evalue": "\"Key 'аналитик' not present\"",
     "output_type": "error",
     "traceback": [
      "\u001b[0;31m---------------------------------------------------------------------------\u001b[0m",
      "\u001b[0;31mKeyError\u001b[0m                                  Traceback (most recent call last)",
      "\u001b[0;32m<ipython-input-55-2b695f6463bd>\u001b[0m in \u001b[0;36m<module>\u001b[0;34m\u001b[0m\n\u001b[0;32m----> 1\u001b[0;31m \u001b[0mmodel\u001b[0m\u001b[0;34m.\u001b[0m\u001b[0mwv\u001b[0m\u001b[0;34m[\u001b[0m\u001b[0;34m'аналитик'\u001b[0m\u001b[0;34m]\u001b[0m\u001b[0;34m\u001b[0m\u001b[0;34m\u001b[0m\u001b[0m\n\u001b[0m",
      "\u001b[0;32m~/miniconda3/lib/python3.9/site-packages/gensim/models/keyedvectors.py\u001b[0m in \u001b[0;36m__getitem__\u001b[0;34m(self, key_or_keys)\u001b[0m\n\u001b[1;32m    393\u001b[0m         \"\"\"\n\u001b[1;32m    394\u001b[0m         \u001b[0;32mif\u001b[0m \u001b[0misinstance\u001b[0m\u001b[0;34m(\u001b[0m\u001b[0mkey_or_keys\u001b[0m\u001b[0;34m,\u001b[0m \u001b[0m_KEY_TYPES\u001b[0m\u001b[0;34m)\u001b[0m\u001b[0;34m:\u001b[0m\u001b[0;34m\u001b[0m\u001b[0;34m\u001b[0m\u001b[0m\n\u001b[0;32m--> 395\u001b[0;31m             \u001b[0;32mreturn\u001b[0m \u001b[0mself\u001b[0m\u001b[0;34m.\u001b[0m\u001b[0mget_vector\u001b[0m\u001b[0;34m(\u001b[0m\u001b[0mkey_or_keys\u001b[0m\u001b[0;34m)\u001b[0m\u001b[0;34m\u001b[0m\u001b[0;34m\u001b[0m\u001b[0m\n\u001b[0m\u001b[1;32m    396\u001b[0m \u001b[0;34m\u001b[0m\u001b[0m\n\u001b[1;32m    397\u001b[0m         \u001b[0;32mreturn\u001b[0m \u001b[0mvstack\u001b[0m\u001b[0;34m(\u001b[0m\u001b[0;34m[\u001b[0m\u001b[0mself\u001b[0m\u001b[0;34m.\u001b[0m\u001b[0mget_vector\u001b[0m\u001b[0;34m(\u001b[0m\u001b[0mkey\u001b[0m\u001b[0;34m)\u001b[0m \u001b[0;32mfor\u001b[0m \u001b[0mkey\u001b[0m \u001b[0;32min\u001b[0m \u001b[0mkey_or_keys\u001b[0m\u001b[0;34m]\u001b[0m\u001b[0;34m)\u001b[0m\u001b[0;34m\u001b[0m\u001b[0;34m\u001b[0m\u001b[0m\n",
      "\u001b[0;32m~/miniconda3/lib/python3.9/site-packages/gensim/models/keyedvectors.py\u001b[0m in \u001b[0;36mget_vector\u001b[0;34m(self, key, norm)\u001b[0m\n\u001b[1;32m    436\u001b[0m \u001b[0;34m\u001b[0m\u001b[0m\n\u001b[1;32m    437\u001b[0m         \"\"\"\n\u001b[0;32m--> 438\u001b[0;31m         \u001b[0mindex\u001b[0m \u001b[0;34m=\u001b[0m \u001b[0mself\u001b[0m\u001b[0;34m.\u001b[0m\u001b[0mget_index\u001b[0m\u001b[0;34m(\u001b[0m\u001b[0mkey\u001b[0m\u001b[0;34m)\u001b[0m\u001b[0;34m\u001b[0m\u001b[0;34m\u001b[0m\u001b[0m\n\u001b[0m\u001b[1;32m    439\u001b[0m         \u001b[0;32mif\u001b[0m \u001b[0mnorm\u001b[0m\u001b[0;34m:\u001b[0m\u001b[0;34m\u001b[0m\u001b[0;34m\u001b[0m\u001b[0m\n\u001b[1;32m    440\u001b[0m             \u001b[0mself\u001b[0m\u001b[0;34m.\u001b[0m\u001b[0mfill_norms\u001b[0m\u001b[0;34m(\u001b[0m\u001b[0;34m)\u001b[0m\u001b[0;34m\u001b[0m\u001b[0;34m\u001b[0m\u001b[0m\n",
      "\u001b[0;32m~/miniconda3/lib/python3.9/site-packages/gensim/models/keyedvectors.py\u001b[0m in \u001b[0;36mget_index\u001b[0;34m(self, key, default)\u001b[0m\n\u001b[1;32m    410\u001b[0m             \u001b[0;32mreturn\u001b[0m \u001b[0mdefault\u001b[0m\u001b[0;34m\u001b[0m\u001b[0;34m\u001b[0m\u001b[0m\n\u001b[1;32m    411\u001b[0m         \u001b[0;32melse\u001b[0m\u001b[0;34m:\u001b[0m\u001b[0;34m\u001b[0m\u001b[0;34m\u001b[0m\u001b[0m\n\u001b[0;32m--> 412\u001b[0;31m             \u001b[0;32mraise\u001b[0m \u001b[0mKeyError\u001b[0m\u001b[0;34m(\u001b[0m\u001b[0;34mf\"Key '{key}' not present\"\u001b[0m\u001b[0;34m)\u001b[0m\u001b[0;34m\u001b[0m\u001b[0;34m\u001b[0m\u001b[0m\n\u001b[0m\u001b[1;32m    413\u001b[0m \u001b[0;34m\u001b[0m\u001b[0m\n\u001b[1;32m    414\u001b[0m     \u001b[0;32mdef\u001b[0m \u001b[0mget_vector\u001b[0m\u001b[0;34m(\u001b[0m\u001b[0mself\u001b[0m\u001b[0;34m,\u001b[0m \u001b[0mkey\u001b[0m\u001b[0;34m,\u001b[0m \u001b[0mnorm\u001b[0m\u001b[0;34m=\u001b[0m\u001b[0;32mFalse\u001b[0m\u001b[0;34m)\u001b[0m\u001b[0;34m:\u001b[0m\u001b[0;34m\u001b[0m\u001b[0;34m\u001b[0m\u001b[0m\n",
      "\u001b[0;31mKeyError\u001b[0m: \"Key 'аналитик' not present\""
     ]
    }
   ],
   "source": [
    "model.wv['аналитик']"
   ]
  },
  {
   "cell_type": "code",
   "execution_count": 58,
   "id": "b4e23c15-f1c5-4663-984d-a0b71b41c410",
   "metadata": {
    "collapsed": true,
    "jupyter": {
     "outputs_hidden": true
    },
    "tags": []
   },
   "outputs": [
    {
     "data": {
      "text/plain": [
       "{'и': 0,\n",
       " 'в': 1,\n",
       " 'на': 2,\n",
       " 'с': 3,\n",
       " 'опыт': 4,\n",
       " 'of': 5,\n",
       " 'В': 6,\n",
       " 'по': 7,\n",
       " 'the': 8,\n",
       " 'данных': 9,\n",
       " 'работы': 10,\n",
       " 'году': 11,\n",
       " 'and': 12,\n",
       " 'а': 13,\n",
       " 'Python,': 14,\n",
       " 'пользуюсь': 15,\n",
       " 'системы': 16,\n",
       " 'Microsoft': 17,\n",
       " 'данных,': 18,\n",
       " '(': 19,\n",
       " 'момент': 20,\n",
       " 'данный': 21,\n",
       " 'офисных': 22,\n",
       " '-': 23,\n",
       " 'двух': 24,\n",
       " 'London': 25,\n",
       " 'SQL,': 26,\n",
       " '2021': 27,\n",
       " 'работа': 28,\n",
       " 'Android-приложений': 29,\n",
       " 'этих': 30,\n",
       " 'основами': 31,\n",
       " 'обладаю': 32,\n",
       " 'вследствие': 33,\n",
       " 'создании': 34,\n",
       " 'нахожусь': 35,\n",
       " 'языке': 36,\n",
       " 'чат-бот': 37,\n",
       " 'аналитический': 38,\n",
       " 'Git.\\n\\nCоздал': 39,\n",
       " 'Docker': 40,\n",
       " 'скриптов': 41,\n",
       " 'Kotlin,': 42,\n",
       " 'территории': 43,\n",
       " 'сервисов': 44,\n",
       " 'различных': 45,\n",
       " 'веб-сервисов': 46,\n",
       " 'Java': 47,\n",
       " 'Имеется': 48,\n",
       " 'РФ.': 49,\n",
       " 'Asp.Net,': 50,\n",
       " 'вёрстки': 51,\n",
       " 'технологий': 52,\n",
       " 'HTML+CSS+JS,': 53,\n",
       " 'дальнейшем': 54,\n",
       " 'разработки.\\n\\nИмеется': 55,\n",
       " 'командной': 56,\n",
       " 'переговоров,': 57,\n",
       " 'презентаций': 58,\n",
       " 'использую': 59,\n",
       " 'их': 60,\n",
       " 'заказчиками.\\n\\nСсылка': 61,\n",
       " 'мой': 62,\n",
       " 'github:\\nhttps://github.com/ngadimov1999': 63,\n",
       " 'Уверенный': 64,\n",
       " 'пользователь.\\nЖелание': 65,\n",
       " 'оптимизации': 66,\n",
       " 'рационализации.': 67,\n",
       " 'Автоматизация': 68,\n",
       " 'отчетности.\\nОтличное': 69,\n",
       " 'понимание': 70,\n",
       " 'принципов': 71,\n",
       " 'работы,': 72,\n",
       " 'также': 73,\n",
       " 'Data-инженером,': 74,\n",
       " 'айти-проектов,': 75,\n",
       " 'создавал': 76,\n",
       " 'скрипты': 77,\n",
       " 'вытягивания': 78,\n",
       " 'языками.': 79,\n",
       " 'структуру': 80,\n",
       " 'при': 81,\n",
       " 'помощи': 82,\n",
       " 'фреймворка': 83,\n",
       " 'dbt': 84,\n",
       " 'Python': 85,\n",
       " 'SQL.\\n\\nОбладаю': 86,\n",
       " 'навыками': 87,\n",
       " 'организации': 88,\n",
       " 'жизненного': 89,\n",
       " 'цикла': 90,\n",
       " 'не': 91,\n",
       " 'Improvement': 92,\n",
       " 'иностранными': 93,\n",
       " '\"Внедрение': 94,\n",
       " 'оценкой': 95,\n",
       " '9.\\nВ': 96,\n",
       " 'принимаю': 97,\n",
       " 'участие': 98,\n",
       " 'учебном': 99,\n",
       " 'проекте': 100,\n",
       " 'для': 101,\n",
       " 'UI/UX': 102,\n",
       " 'автоматизации': 103,\n",
       " 'бюджетирования': 104,\n",
       " 'консолидации': 105,\n",
       " 'отчетности': 106,\n",
       " 'аэропорта\",': 107,\n",
       " 'где': 108,\n",
       " 'аэропорта\"': 109,\n",
       " 'базы': 110,\n",
       " 'разработка': 111,\n",
       " '\"Создание': 112,\n",
       " 'теме': 113,\n",
       " '8,5.\\nКурсовая': 114,\n",
       " 'работать.\\nGPA': 115,\n",
       " 'возможности': 116,\n",
       " 'без': 117,\n",
       " 'обучение': 118,\n",
       " 'проходила': 119,\n",
       " 'годы': 120,\n",
       " 'последние': 121,\n",
       " 'detail-oriented': 122,\n",
       " 'study': 123,\n",
       " 'quick': 124,\n",
       " 'communicable,': 125,\n",
       " 'получаю': 126,\n",
       " 'интервьюировании': 127,\n",
       " 'заказчика,': 128,\n",
       " 'продуктами': 129,\n",
       " 'анализа': 130,\n",
       " 'инструментами': 131,\n",
       " 'бумаг,': 132,\n",
       " 'ценных': 133,\n",
       " 'рынком': 134,\n",
       " 'Интересуюсь': 135,\n",
       " 'финансовой': 136,\n",
       " 'Python.': 137,\n",
       " 'JS,': 138,\n",
       " 'HTML,': 139,\n",
       " 'VBA,': 140,\n",
       " 'знаниями': 141,\n",
       " 'Обладаю': 142,\n",
       " 'Office.': 143,\n",
       " 'свободно': 144,\n",
       " 'описании': 145,\n",
       " 'ПК,': 146,\n",
       " 'пользователь': 147,\n",
       " 'Продвинутый': 148,\n",
       " 'образование.': 149,\n",
       " 'экономическое': 150,\n",
       " 'Имею': 151,\n",
       " '---': 152,\n",
       " 'тд.': 153,\n",
       " 'проекта': 154,\n",
       " 'устава': 155,\n",
       " 'формировании': 156,\n",
       " 'требований,': 157,\n",
       " 'формализации': 158,\n",
       " 'бизнес-задач,': 159,\n",
       " 'РСБУ': 160,\n",
       " 'специализированных': 161,\n",
       " 'отчетности.\\nЗнание': 162,\n",
       " 'полностью': 163,\n",
       " 'языке.\\n2)': 164,\n",
       " 'На': 165,\n",
       " 'последних': 166,\n",
       " 'курсах': 167,\n",
       " 'совмещал': 168,\n",
       " 'учебу': 169,\n",
       " 'full-time': 170,\n",
       " 'работой': 171,\n",
       " 'аналитика': 172,\n",
       " 'параллельно': 173,\n",
       " 'пробовал': 174,\n",
       " 'себя': 175,\n",
       " 'Kaggle': 176,\n",
       " 'Competitions': 177,\n",
       " 'кейс-чемпионатах.\\n3)': 178,\n",
       " 'английском': 179,\n",
       " 'Обучался': 180,\n",
       " 'старшим': 181,\n",
       " ').': 182,\n",
       " 'экономике': 183,\n",
       " 'финансам': 184,\n",
       " 'ВШЕ': 185,\n",
       " 'School': 186,\n",
       " 'Economics': 187,\n",
       " 'University': 188,\n",
       " 'Of': 189,\n",
       " '),': 190,\n",
       " 'получив': 191,\n",
       " 'диплом': 192,\n",
       " 'первой': 193,\n",
       " 'степени': 194,\n",
       " 'First': 195,\n",
       " 'Class': 196,\n",
       " 'Honours': 197,\n",
       " 'стал': 198,\n",
       " 'BI': 199,\n",
       " 'программу': 200,\n",
       " 'faculty': 201,\n",
       " '&': 202,\n",
       " 'Mathematics,': 203,\n",
       " 'MSU\\n\\nHobbies:': 204,\n",
       " 'running,': 205,\n",
       " 'hockey': 206,\n",
       " 'Data': 207,\n",
       " 'Analytics': 208,\n",
       " 'with': 209,\n",
       " 'Visual': 210,\n",
       " 'Basic': 211,\n",
       " 'for': 212,\n",
       " 'Applications': 213,\n",
       " 'analytical': 214,\n",
       " 'tools': 215,\n",
       " 'development,': 216,\n",
       " 'Mechanics': 217,\n",
       " 'StudSoviet': 218,\n",
       " 'аналитиком': 219,\n",
       " 'president': 220,\n",
       " 'инвестиционном': 221,\n",
       " 'бизнесе': 222,\n",
       " 'Сбера.\\n4)': 223,\n",
       " 'Заинтересован': 224,\n",
       " 'роли': 225,\n",
       " 'Lead': 226,\n",
       " 'BI,': 227,\n",
       " 'готов': 228,\n",
       " 'к': 229,\n",
       " 'релокации.': 230,\n",
       " '2015-2016': 231,\n",
       " 'teacher': 232,\n",
       " 'Small': 233,\n",
       " 'Mechmath': 234,\n",
       " 'MSU\\n\\n2016-2018': 235,\n",
       " 'дипломов': 236,\n",
       " 'отличием': 237,\n",
       " 'оргтехники,': 238,\n",
       " 'массивами,': 239,\n",
       " 'СУММЕСЛИМН,': 240,\n",
       " 'динамические': 241,\n",
       " 'диапазоны);\\n-': 242,\n",
       " '1С-': 243,\n",
       " 'Камин;\\n-': 244,\n",
       " '1С-конфигураиор': 245,\n",
       " '(начинающий);\\n-': 246,\n",
       " '1С-7.8;': 247,\n",
       " '1С-8.0;': 248,\n",
       " '1С-8.2.\\n-': 249,\n",
       " '1С-8.3,\\n-': 250,\n",
       " 'Банк': 251,\n",
       " 'клиент,': 252,\n",
       " '(Альфабанк,': 253,\n",
       " 'Сбербанк,': 254,\n",
       " '(ВПР,': 255,\n",
       " 'макросы),': 256,\n",
       " 'банк,': 257,\n",
       " 'VBA': 258,\n",
       " 'стандартных': 259,\n",
       " 'Process': 260,\n",
       " 'программ\\n-': 261,\n",
       " 'JavaScript\\n-': 262,\n",
       " 'sql': 263,\n",
       " 'запросами': 264,\n",
       " '(для': 265,\n",
       " 'тестов': 266,\n",
       " 'qlikview);\\n-': 267,\n",
       " 'ERP': 268,\n",
       " 'Dynamics': 269,\n",
       " 'AX;\\n-': 270,\n",
       " 'Excel': 271,\n",
       " '(продвинутый': 272,\n",
       " 'пользователь,': 273,\n",
       " 'МТС': 274,\n",
       " 'Тинькофф,': 275,\n",
       " 'закончил': 276,\n",
       " 'Point.\\n\\nАналитический,': 277,\n",
       " 'ума,': 278,\n",
       " 'математик,': 279,\n",
       " 'шахматист': 280,\n",
       " '(разрядник).\\n\\nЗанимался': 281,\n",
       " 'программированием,': 282,\n",
       " 'сборкой': 283,\n",
       " 'компьютеров.': 284,\n",
       " 'Также': 285,\n",
       " 'имею': 286,\n",
       " 'навыки': 287,\n",
       " 'Photoshop': 288,\n",
       " 'Academic': 289,\n",
       " 'IELTS': 290,\n",
       " '8.0': 291,\n",
       " '1)': 292,\n",
       " 'склад': 293,\n",
       " 'Power': 294,\n",
       " 'Райфазен,': 295,\n",
       " 'Outlook,': 296,\n",
       " 'Росбанк)': 297,\n",
       " 'том': 298,\n",
       " 'числе': 299,\n",
       " 'валютные': 300,\n",
       " 'платежи;\\n-': 301,\n",
       " 'Платежные': 302,\n",
       " 'Webmoney,': 303,\n",
       " 'ePayment,': 304,\n",
       " 'Capitalist,': 305,\n",
       " 'Paysera\\n-': 306,\n",
       " 'Знание': 307,\n",
       " 'остальных': 308,\n",
       " 'программ': 309,\n",
       " 'MS': 310,\n",
       " 'Office,': 311,\n",
       " 'Responsible,': 312}"
      ]
     },
     "execution_count": 58,
     "metadata": {},
     "output_type": "execute_result"
    }
   ],
   "source": [
    "model.wv.key_to_index"
   ]
  },
  {
   "cell_type": "code",
   "execution_count": 64,
   "id": "24fc3654-6150-42e0-af8b-5fdb47b1b3dc",
   "metadata": {
    "collapsed": true,
    "jupyter": {
     "outputs_hidden": true
    },
    "tags": []
   },
   "outputs": [
    {
     "data": {
      "text/plain": [
       "{'и': 0,\n",
       " 'в': 1,\n",
       " 'на': 2,\n",
       " 'с': 3,\n",
       " 'опыт': 4,\n",
       " 'of': 5,\n",
       " 'В': 6,\n",
       " 'по': 7,\n",
       " 'the': 8,\n",
       " 'данных': 9,\n",
       " 'работы': 10,\n",
       " 'году': 11,\n",
       " 'and': 12,\n",
       " 'а': 13,\n",
       " 'Python,': 14,\n",
       " 'пользуюсь': 15,\n",
       " 'системы': 16,\n",
       " 'Microsoft': 17,\n",
       " 'данных,': 18,\n",
       " '(': 19,\n",
       " 'момент': 20,\n",
       " 'данный': 21,\n",
       " 'офисных': 22,\n",
       " '-': 23,\n",
       " 'двух': 24,\n",
       " 'London': 25,\n",
       " 'SQL,': 26,\n",
       " '2021': 27,\n",
       " 'работа': 28,\n",
       " 'Android-приложений': 29,\n",
       " 'этих': 30,\n",
       " 'основами': 31,\n",
       " 'обладаю': 32,\n",
       " 'вследствие': 33,\n",
       " 'создании': 34,\n",
       " 'нахожусь': 35,\n",
       " 'языке': 36,\n",
       " 'чат-бот': 37,\n",
       " 'аналитический': 38,\n",
       " 'Git.\\n\\nCоздал': 39,\n",
       " 'Docker': 40,\n",
       " 'скриптов': 41,\n",
       " 'Kotlin,': 42,\n",
       " 'территории': 43,\n",
       " 'сервисов': 44,\n",
       " 'различных': 45,\n",
       " 'веб-сервисов': 46,\n",
       " 'Java': 47,\n",
       " 'Имеется': 48,\n",
       " 'РФ.': 49,\n",
       " 'Asp.Net,': 50,\n",
       " 'вёрстки': 51,\n",
       " 'технологий': 52,\n",
       " 'HTML+CSS+JS,': 53,\n",
       " 'дальнейшем': 54,\n",
       " 'разработки.\\n\\nИмеется': 55,\n",
       " 'командной': 56,\n",
       " 'переговоров,': 57,\n",
       " 'презентаций': 58,\n",
       " 'использую': 59,\n",
       " 'их': 60,\n",
       " 'заказчиками.\\n\\nСсылка': 61,\n",
       " 'мой': 62,\n",
       " 'github:\\nhttps://github.com/ngadimov1999': 63,\n",
       " 'Уверенный': 64,\n",
       " 'пользователь.\\nЖелание': 65,\n",
       " 'оптимизации': 66,\n",
       " 'рационализации.': 67,\n",
       " 'Автоматизация': 68,\n",
       " 'отчетности.\\nОтличное': 69,\n",
       " 'понимание': 70,\n",
       " 'принципов': 71,\n",
       " 'работы,': 72,\n",
       " 'также': 73,\n",
       " 'Data-инженером,': 74,\n",
       " 'айти-проектов,': 75,\n",
       " 'создавал': 76,\n",
       " 'скрипты': 77,\n",
       " 'вытягивания': 78,\n",
       " 'языками.': 79,\n",
       " 'структуру': 80,\n",
       " 'при': 81,\n",
       " 'помощи': 82,\n",
       " 'фреймворка': 83,\n",
       " 'dbt': 84,\n",
       " 'Python': 85,\n",
       " 'SQL.\\n\\nОбладаю': 86,\n",
       " 'навыками': 87,\n",
       " 'организации': 88,\n",
       " 'жизненного': 89,\n",
       " 'цикла': 90,\n",
       " 'не': 91,\n",
       " 'Improvement': 92,\n",
       " 'иностранными': 93,\n",
       " '\"Внедрение': 94,\n",
       " 'оценкой': 95,\n",
       " '9.\\nВ': 96,\n",
       " 'принимаю': 97,\n",
       " 'участие': 98,\n",
       " 'учебном': 99,\n",
       " 'проекте': 100,\n",
       " 'для': 101,\n",
       " 'UI/UX': 102,\n",
       " 'автоматизации': 103,\n",
       " 'бюджетирования': 104,\n",
       " 'консолидации': 105,\n",
       " 'отчетности': 106,\n",
       " 'аэропорта\",': 107,\n",
       " 'где': 108,\n",
       " 'аэропорта\"': 109,\n",
       " 'базы': 110,\n",
       " 'разработка': 111,\n",
       " '\"Создание': 112,\n",
       " 'теме': 113,\n",
       " '8,5.\\nКурсовая': 114,\n",
       " 'работать.\\nGPA': 115,\n",
       " 'возможности': 116,\n",
       " 'без': 117,\n",
       " 'обучение': 118,\n",
       " 'проходила': 119,\n",
       " 'годы': 120,\n",
       " 'последние': 121,\n",
       " 'detail-oriented': 122,\n",
       " 'study': 123,\n",
       " 'quick': 124,\n",
       " 'communicable,': 125,\n",
       " 'получаю': 126,\n",
       " 'интервьюировании': 127,\n",
       " 'заказчика,': 128,\n",
       " 'продуктами': 129,\n",
       " 'анализа': 130,\n",
       " 'инструментами': 131,\n",
       " 'бумаг,': 132,\n",
       " 'ценных': 133,\n",
       " 'рынком': 134,\n",
       " 'Интересуюсь': 135,\n",
       " 'финансовой': 136,\n",
       " 'Python.': 137,\n",
       " 'JS,': 138,\n",
       " 'HTML,': 139,\n",
       " 'VBA,': 140,\n",
       " 'знаниями': 141,\n",
       " 'Обладаю': 142,\n",
       " 'Office.': 143,\n",
       " 'свободно': 144,\n",
       " 'описании': 145,\n",
       " 'ПК,': 146,\n",
       " 'пользователь': 147,\n",
       " 'Продвинутый': 148,\n",
       " 'образование.': 149,\n",
       " 'экономическое': 150,\n",
       " 'Имею': 151,\n",
       " '---': 152,\n",
       " 'тд.': 153,\n",
       " 'проекта': 154,\n",
       " 'устава': 155,\n",
       " 'формировании': 156,\n",
       " 'требований,': 157,\n",
       " 'формализации': 158,\n",
       " 'бизнес-задач,': 159,\n",
       " 'РСБУ': 160,\n",
       " 'специализированных': 161,\n",
       " 'отчетности.\\nЗнание': 162,\n",
       " 'полностью': 163,\n",
       " 'языке.\\n2)': 164,\n",
       " 'На': 165,\n",
       " 'последних': 166,\n",
       " 'курсах': 167,\n",
       " 'совмещал': 168,\n",
       " 'учебу': 169,\n",
       " 'full-time': 170,\n",
       " 'работой': 171,\n",
       " 'аналитика': 172,\n",
       " 'параллельно': 173,\n",
       " 'пробовал': 174,\n",
       " 'себя': 175,\n",
       " 'Kaggle': 176,\n",
       " 'Competitions': 177,\n",
       " 'кейс-чемпионатах.\\n3)': 178,\n",
       " 'английском': 179,\n",
       " 'Обучался': 180,\n",
       " 'старшим': 181,\n",
       " ').': 182,\n",
       " 'экономике': 183,\n",
       " 'финансам': 184,\n",
       " 'ВШЕ': 185,\n",
       " 'School': 186,\n",
       " 'Economics': 187,\n",
       " 'University': 188,\n",
       " 'Of': 189,\n",
       " '),': 190,\n",
       " 'получив': 191,\n",
       " 'диплом': 192,\n",
       " 'первой': 193,\n",
       " 'степени': 194,\n",
       " 'First': 195,\n",
       " 'Class': 196,\n",
       " 'Honours': 197,\n",
       " 'стал': 198,\n",
       " 'BI': 199,\n",
       " 'программу': 200,\n",
       " 'faculty': 201,\n",
       " '&': 202,\n",
       " 'Mathematics,': 203,\n",
       " 'MSU\\n\\nHobbies:': 204,\n",
       " 'running,': 205,\n",
       " 'hockey': 206,\n",
       " 'Data': 207,\n",
       " 'Analytics': 208,\n",
       " 'with': 209,\n",
       " 'Visual': 210,\n",
       " 'Basic': 211,\n",
       " 'for': 212,\n",
       " 'Applications': 213,\n",
       " 'analytical': 214,\n",
       " 'tools': 215,\n",
       " 'development,': 216,\n",
       " 'Mechanics': 217,\n",
       " 'StudSoviet': 218,\n",
       " 'аналитиком': 219,\n",
       " 'president': 220,\n",
       " 'инвестиционном': 221,\n",
       " 'бизнесе': 222,\n",
       " 'Сбера.\\n4)': 223,\n",
       " 'Заинтересован': 224,\n",
       " 'роли': 225,\n",
       " 'Lead': 226,\n",
       " 'BI,': 227,\n",
       " 'готов': 228,\n",
       " 'к': 229,\n",
       " 'релокации.': 230,\n",
       " '2015-2016': 231,\n",
       " 'teacher': 232,\n",
       " 'Small': 233,\n",
       " 'Mechmath': 234,\n",
       " 'MSU\\n\\n2016-2018': 235,\n",
       " 'дипломов': 236,\n",
       " 'отличием': 237,\n",
       " 'оргтехники,': 238,\n",
       " 'массивами,': 239,\n",
       " 'СУММЕСЛИМН,': 240,\n",
       " 'динамические': 241,\n",
       " 'диапазоны);\\n-': 242,\n",
       " '1С-': 243,\n",
       " 'Камин;\\n-': 244,\n",
       " '1С-конфигураиор': 245,\n",
       " '(начинающий);\\n-': 246,\n",
       " '1С-7.8;': 247,\n",
       " '1С-8.0;': 248,\n",
       " '1С-8.2.\\n-': 249,\n",
       " '1С-8.3,\\n-': 250,\n",
       " 'Банк': 251,\n",
       " 'клиент,': 252,\n",
       " '(Альфабанк,': 253,\n",
       " 'Сбербанк,': 254,\n",
       " '(ВПР,': 255,\n",
       " 'макросы),': 256,\n",
       " 'банк,': 257,\n",
       " 'VBA': 258,\n",
       " 'стандартных': 259,\n",
       " 'Process': 260,\n",
       " 'программ\\n-': 261,\n",
       " 'JavaScript\\n-': 262,\n",
       " 'sql': 263,\n",
       " 'запросами': 264,\n",
       " '(для': 265,\n",
       " 'тестов': 266,\n",
       " 'qlikview);\\n-': 267,\n",
       " 'ERP': 268,\n",
       " 'Dynamics': 269,\n",
       " 'AX;\\n-': 270,\n",
       " 'Excel': 271,\n",
       " '(продвинутый': 272,\n",
       " 'пользователь,': 273,\n",
       " 'МТС': 274,\n",
       " 'Тинькофф,': 275,\n",
       " 'закончил': 276,\n",
       " 'Point.\\n\\nАналитический,': 277,\n",
       " 'ума,': 278,\n",
       " 'математик,': 279,\n",
       " 'шахматист': 280,\n",
       " '(разрядник).\\n\\nЗанимался': 281,\n",
       " 'программированием,': 282,\n",
       " 'сборкой': 283,\n",
       " 'компьютеров.': 284,\n",
       " 'Также': 285,\n",
       " 'имею': 286,\n",
       " 'навыки': 287,\n",
       " 'Photoshop': 288,\n",
       " 'Academic': 289,\n",
       " 'IELTS': 290,\n",
       " '8.0': 291,\n",
       " '1)': 292,\n",
       " 'склад': 293,\n",
       " 'Power': 294,\n",
       " 'Райфазен,': 295,\n",
       " 'Outlook,': 296,\n",
       " 'Росбанк)': 297,\n",
       " 'том': 298,\n",
       " 'числе': 299,\n",
       " 'валютные': 300,\n",
       " 'платежи;\\n-': 301,\n",
       " 'Платежные': 302,\n",
       " 'Webmoney,': 303,\n",
       " 'ePayment,': 304,\n",
       " 'Capitalist,': 305,\n",
       " 'Paysera\\n-': 306,\n",
       " 'Знание': 307,\n",
       " 'остальных': 308,\n",
       " 'программ': 309,\n",
       " 'MS': 310,\n",
       " 'Office,': 311,\n",
       " 'Responsible,': 312}"
      ]
     },
     "execution_count": 64,
     "metadata": {},
     "output_type": "execute_result"
    }
   ],
   "source": [
    "dict(model.wv.key_to_index)"
   ]
  },
  {
   "cell_type": "markdown",
   "id": "56d1dd77-5e6d-4a0c-9ee1-b046b6232ec9",
   "metadata": {},
   "source": [
    "^ словарь"
   ]
  },
  {
   "cell_type": "code",
   "execution_count": 56,
   "id": "354b8b87-0ed7-45a3-a485-8f09e5d7a379",
   "metadata": {},
   "outputs": [
    {
     "data": {
      "text/plain": [
       "[('английском', 0.31356385350227356),\n",
       " ('9.\\nВ', 0.2540714740753174),\n",
       " ('HTML+CSS+JS,', 0.24981936812400818),\n",
       " ('JavaScript\\n-', 0.2405378371477127),\n",
       " ('формализации', 0.23670218884944916),\n",
       " ('и', 0.21834993362426758),\n",
       " ('сервисов', 0.2158057987689972),\n",
       " ('оптимизации', 0.20735448598861694),\n",
       " ('School', 0.1881561428308487),\n",
       " ('себя', 0.1830604374408722)]"
      ]
     },
     "execution_count": 56,
     "metadata": {},
     "output_type": "execute_result"
    }
   ],
   "source": [
    "sims"
   ]
  },
  {
   "cell_type": "markdown",
   "id": "27812153-1827-4f17-9497-da2b5470b866",
   "metadata": {},
   "source": [
    "пересечения:"
   ]
  },
  {
   "cell_type": "code",
   "execution_count": 95,
   "id": "9dc9e2f4-840b-46c7-abea-ce661ad9f298",
   "metadata": {},
   "outputs": [],
   "source": [
    "a = about_small_tokens2\n",
    "un = list(set().union(*a))\n",
    "\n",
    "# https://stackoverflow.com/questions/30773911/union-of-multiple-sets-in-python"
   ]
  },
  {
   "cell_type": "code",
   "execution_count": 105,
   "id": "26707690-350e-4eaa-b631-50b9aab7c957",
   "metadata": {},
   "outputs": [],
   "source": [
    "setlist = []\n",
    "for s in a:\n",
    "    setlist.append(set(s))"
   ]
  },
  {
   "cell_type": "code",
   "execution_count": 107,
   "id": "0eb5e9a7-c32a-443e-b102-cbbec12cadb2",
   "metadata": {},
   "outputs": [
    {
     "data": {
      "text/plain": [
       "{'Неплохой',\n",
       " 'аналитик',\n",
       " 'витрины',\n",
       " 'выявить',\n",
       " 'данных',\n",
       " 'дашборды,',\n",
       " 'зависимости.',\n",
       " 'и',\n",
       " 'неочевидные',\n",
       " 'помощающие',\n",
       " 'понятные',\n",
       " 'раскрывающие',\n",
       " 'ситуацию',\n",
       " 'создаст',\n",
       " 'текущую'}"
      ]
     },
     "execution_count": 107,
     "metadata": {},
     "output_type": "execute_result"
    }
   ],
   "source": [
    "setlist[0]"
   ]
  },
  {
   "cell_type": "code",
   "execution_count": 110,
   "id": "58b6fb8e-0096-4fba-b260-5f4ef8b460cd",
   "metadata": {},
   "outputs": [],
   "source": [
    "u = set.intersection(*setlist)"
   ]
  },
  {
   "cell_type": "code",
   "execution_count": 111,
   "id": "f50e9caa-13f4-44fc-8e67-f64cf8ba9ae9",
   "metadata": {},
   "outputs": [
    {
     "data": {
      "text/plain": [
       "313"
      ]
     },
     "execution_count": 111,
     "metadata": {},
     "output_type": "execute_result"
    }
   ],
   "source": [
    "len(model.wv.key_to_index.keys())"
   ]
  },
  {
   "cell_type": "code",
   "execution_count": 112,
   "id": "2d223aa6-10e8-4083-a2f3-62cb5dab9eab",
   "metadata": {},
   "outputs": [
    {
     "data": {
      "text/plain": [
       "0"
      ]
     },
     "execution_count": 112,
     "metadata": {},
     "output_type": "execute_result"
    }
   ],
   "source": [
    "len(u)"
   ]
  },
  {
   "cell_type": "code",
   "execution_count": 113,
   "id": "31111993-116b-49e5-b1dc-870ae38d17a1",
   "metadata": {},
   "outputs": [
    {
     "data": {
      "text/plain": [
       "set()"
      ]
     },
     "execution_count": 113,
     "metadata": {},
     "output_type": "execute_result"
    }
   ],
   "source": [
    "u"
   ]
  },
  {
   "cell_type": "markdown",
   "id": "32585397-0741-4ec2-8424-e132ed59bb1f",
   "metadata": {},
   "source": [
    "сделаю как тут https://towardsdatascience.com/using-word2vec-to-analyze-news-headlines-and-predict-article-success-cdeda5f14751"
   ]
  },
  {
   "cell_type": "code",
   "execution_count": 68,
   "id": "321ea36c-8dcc-4833-b203-e88e2c665bc1",
   "metadata": {},
   "outputs": [
    {
     "data": {
      "text/html": [
       "<div>\n",
       "<style scoped>\n",
       "    .dataframe tbody tr th:only-of-type {\n",
       "        vertical-align: middle;\n",
       "    }\n",
       "\n",
       "    .dataframe tbody tr th {\n",
       "        vertical-align: top;\n",
       "    }\n",
       "\n",
       "    .dataframe thead th {\n",
       "        text-align: right;\n",
       "    }\n",
       "</style>\n",
       "<table border=\"1\" class=\"dataframe\">\n",
       "  <thead>\n",
       "    <tr style=\"text-align: right;\">\n",
       "      <th></th>\n",
       "      <th>0</th>\n",
       "    </tr>\n",
       "  </thead>\n",
       "  <tbody>\n",
       "    <tr>\n",
       "      <th>и</th>\n",
       "      <td>0</td>\n",
       "    </tr>\n",
       "    <tr>\n",
       "      <th>в</th>\n",
       "      <td>1</td>\n",
       "    </tr>\n",
       "    <tr>\n",
       "      <th>на</th>\n",
       "      <td>2</td>\n",
       "    </tr>\n",
       "    <tr>\n",
       "      <th>с</th>\n",
       "      <td>3</td>\n",
       "    </tr>\n",
       "    <tr>\n",
       "      <th>опыт</th>\n",
       "      <td>4</td>\n",
       "    </tr>\n",
       "    <tr>\n",
       "      <th>...</th>\n",
       "      <td>...</td>\n",
       "    </tr>\n",
       "    <tr>\n",
       "      <th>остальных</th>\n",
       "      <td>308</td>\n",
       "    </tr>\n",
       "    <tr>\n",
       "      <th>программ</th>\n",
       "      <td>309</td>\n",
       "    </tr>\n",
       "    <tr>\n",
       "      <th>MS</th>\n",
       "      <td>310</td>\n",
       "    </tr>\n",
       "    <tr>\n",
       "      <th>Office,</th>\n",
       "      <td>311</td>\n",
       "    </tr>\n",
       "    <tr>\n",
       "      <th>Responsible,</th>\n",
       "      <td>312</td>\n",
       "    </tr>\n",
       "  </tbody>\n",
       "</table>\n",
       "<p>313 rows × 1 columns</p>\n",
       "</div>"
      ],
      "text/plain": [
       "                0\n",
       "и               0\n",
       "в               1\n",
       "на              2\n",
       "с               3\n",
       "опыт            4\n",
       "...           ...\n",
       "остальных     308\n",
       "программ      309\n",
       "MS            310\n",
       "Office,       311\n",
       "Responsible,  312\n",
       "\n",
       "[313 rows x 1 columns]"
      ]
     },
     "execution_count": 68,
     "metadata": {},
     "output_type": "execute_result"
    }
   ],
   "source": [
    "pd.DataFrame(dict(model.wv.key_to_index).values(), index=dict(model.wv.key_to_index).keys())"
   ]
  },
  {
   "cell_type": "code",
   "execution_count": 69,
   "id": "d0597e4d-97db-4509-9425-8808301b0b7d",
   "metadata": {},
   "outputs": [],
   "source": [
    "d=dict()"
   ]
  },
  {
   "cell_type": "code",
   "execution_count": 70,
   "id": "a7a57a59-5fe0-4bf0-8e0f-e1e8fb472151",
   "metadata": {},
   "outputs": [],
   "source": [
    "for x in model.wv.key_to_index:\n",
    "    d[x] = model.wv[x]"
   ]
  },
  {
   "cell_type": "code",
   "execution_count": 76,
   "id": "5545abd9-0025-4cc9-a04d-e353d1e76261",
   "metadata": {},
   "outputs": [],
   "source": [
    "df = pd.DataFrame(d.values(), index=d.keys())"
   ]
  },
  {
   "cell_type": "code",
   "execution_count": 77,
   "id": "7e2f9196-b362-4b0b-ad30-2176c7387ee2",
   "metadata": {},
   "outputs": [],
   "source": [
    "from sklearn.manifold import TSNE\n",
    "\n",
    "# Initialize t-SNE\n",
    "tsne = TSNE(n_components = 2, init = 'random', random_state = 10, perplexity = 100)\n",
    "\n",
    "# Use only 400 rows to shorten processing time\n",
    "tsne_df = tsne.fit_transform(df[:400])"
   ]
  },
  {
   "cell_type": "code",
   "execution_count": 81,
   "id": "79de8547-a244-4f57-bad8-5d55b81f3b71",
   "metadata": {},
   "outputs": [],
   "source": [
    "import seaborn as sns\n",
    "import matplotlib.pyplot as plt"
   ]
  },
  {
   "cell_type": "code",
   "execution_count": 83,
   "id": "abf255ba-1a23-49b8-88a3-86575182a643",
   "metadata": {
    "collapsed": true,
    "jupyter": {
     "outputs_hidden": true
    },
    "tags": []
   },
   "outputs": [
    {
     "name": "stdout",
     "output_type": "stream",
     "text": [
      "Collecting adjustText\n",
      "  Downloading adjustText-0.7.3.tar.gz (7.5 kB)\n",
      "Requirement already satisfied: numpy in /Users/vladkopchev/miniconda3/lib/python3.9/site-packages (from adjustText) (1.20.3)\n",
      "Requirement already satisfied: matplotlib in /Users/vladkopchev/miniconda3/lib/python3.9/site-packages (from adjustText) (3.4.2)\n",
      "Requirement already satisfied: pillow>=6.2.0 in /Users/vladkopchev/miniconda3/lib/python3.9/site-packages (from matplotlib->adjustText) (8.2.0)\n",
      "Requirement already satisfied: pyparsing>=2.2.1 in /Users/vladkopchev/miniconda3/lib/python3.9/site-packages (from matplotlib->adjustText) (2.4.7)\n",
      "Requirement already satisfied: cycler>=0.10 in /Users/vladkopchev/miniconda3/lib/python3.9/site-packages (from matplotlib->adjustText) (0.10.0)\n",
      "Requirement already satisfied: python-dateutil>=2.7 in /Users/vladkopchev/miniconda3/lib/python3.9/site-packages (from matplotlib->adjustText) (2.8.1)\n",
      "Requirement already satisfied: kiwisolver>=1.0.1 in /Users/vladkopchev/miniconda3/lib/python3.9/site-packages (from matplotlib->adjustText) (1.3.1)\n",
      "Requirement already satisfied: six in /Users/vladkopchev/miniconda3/lib/python3.9/site-packages (from cycler>=0.10->matplotlib->adjustText) (1.15.0)\n",
      "Building wheels for collected packages: adjustText\n",
      "  Building wheel for adjustText (setup.py) ... \u001b[?25ldone\n",
      "\u001b[?25h  Created wheel for adjustText: filename=adjustText-0.7.3-py3-none-any.whl size=7098 sha256=a8b3d0dea7f763da414ae68eab29e13f0455d5c8e8d2ab3803f923aade46551e\n",
      "  Stored in directory: /Users/vladkopchev/Library/Caches/pip/wheels/6b/1d/79/4326d5f3a7d86fb9900e5564e7a0f98b552da5103ca762f24f\n",
      "Successfully built adjustText\n",
      "Installing collected packages: adjustText\n",
      "Successfully installed adjustText-0.7.3\n"
     ]
    }
   ],
   "source": [
    "#!pip install adjustText"
   ]
  },
  {
   "cell_type": "code",
   "execution_count": 87,
   "id": "c5a91a95-139c-4be5-9466-b95b9469d0ed",
   "metadata": {},
   "outputs": [],
   "source": [
    "tsne_df0 = tsne_df\n",
    "tsne_df = tsne_df[:10]"
   ]
  },
  {
   "cell_type": "code",
   "execution_count": 88,
   "id": "404e21ba-3805-4fdc-b618-dafe91f3809d",
   "metadata": {},
   "outputs": [
    {
     "name": "stderr",
     "output_type": "stream",
     "text": [
      "/Users/vladkopchev/miniconda3/lib/python3.9/site-packages/seaborn/_decorators.py:36: FutureWarning: Pass the following variables as keyword args: x, y. From version 0.12, the only valid positional argument will be `data`, and passing other arguments without an explicit keyword will result in an error or misinterpretation.\n",
      "  warnings.warn(\n"
     ]
    },
    {
     "ename": "IndexError",
     "evalue": "index 10 is out of bounds for axis 0 with size 10",
     "output_type": "error",
     "traceback": [
      "\u001b[0;31m---------------------------------------------------------------------------\u001b[0m",
      "\u001b[0;31mIndexError\u001b[0m                                Traceback (most recent call last)",
      "\u001b[0;32m<ipython-input-88-37e03117867e>\u001b[0m in \u001b[0;36m<module>\u001b[0;34m\u001b[0m\n\u001b[1;32m     11\u001b[0m \u001b[0;31m# Append words to list\u001b[0m\u001b[0;34m\u001b[0m\u001b[0;34m\u001b[0m\u001b[0;34m\u001b[0m\u001b[0m\n\u001b[1;32m     12\u001b[0m \u001b[0;32mfor\u001b[0m \u001b[0mword\u001b[0m \u001b[0;32min\u001b[0m \u001b[0mwords_to_plot\u001b[0m\u001b[0;34m:\u001b[0m\u001b[0;34m\u001b[0m\u001b[0;34m\u001b[0m\u001b[0m\n\u001b[0;32m---> 13\u001b[0;31m     \u001b[0mtexts\u001b[0m\u001b[0;34m.\u001b[0m\u001b[0mappend\u001b[0m\u001b[0;34m(\u001b[0m\u001b[0mplt\u001b[0m\u001b[0;34m.\u001b[0m\u001b[0mtext\u001b[0m\u001b[0;34m(\u001b[0m\u001b[0mtsne_df\u001b[0m\u001b[0;34m[\u001b[0m\u001b[0mword\u001b[0m\u001b[0;34m,\u001b[0m \u001b[0;36m0\u001b[0m\u001b[0;34m]\u001b[0m\u001b[0;34m,\u001b[0m \u001b[0mtsne_df\u001b[0m\u001b[0;34m[\u001b[0m\u001b[0mword\u001b[0m\u001b[0;34m,\u001b[0m \u001b[0;36m1\u001b[0m\u001b[0;34m]\u001b[0m\u001b[0;34m,\u001b[0m \u001b[0mdf\u001b[0m\u001b[0;34m.\u001b[0m\u001b[0mindex\u001b[0m\u001b[0;34m[\u001b[0m\u001b[0mword\u001b[0m\u001b[0;34m]\u001b[0m\u001b[0;34m,\u001b[0m \u001b[0mfontsize\u001b[0m \u001b[0;34m=\u001b[0m \u001b[0;36m14\u001b[0m\u001b[0;34m)\u001b[0m\u001b[0;34m)\u001b[0m\u001b[0;34m\u001b[0m\u001b[0;34m\u001b[0m\u001b[0m\n\u001b[0m\u001b[1;32m     14\u001b[0m \u001b[0;34m\u001b[0m\u001b[0m\n\u001b[1;32m     15\u001b[0m \u001b[0;31m# Plot text using adjust_text (because overlapping text is hard to read)\u001b[0m\u001b[0;34m\u001b[0m\u001b[0;34m\u001b[0m\u001b[0;34m\u001b[0m\u001b[0m\n",
      "\u001b[0;31mIndexError\u001b[0m: index 10 is out of bounds for axis 0 with size 10"
     ]
    },
    {
     "data": {
      "image/png": "[encoded data removed]",
      "text/plain": [
       "<Figure size 842.4x595.44 with 1 Axes>"
      ]
     },
     "metadata": {},
     "output_type": "display_data"
    }
   ],
   "source": [
    "sns.set()\n",
    "# Initialize figure\n",
    "fig, ax = plt.subplots(figsize = (11.7, 8.27))\n",
    "sns.scatterplot(tsne_df[:, 0], tsne_df[:, 1], alpha = 0.5)\n",
    "\n",
    "# Import adjustText, initialize list of texts\n",
    "from adjustText import adjust_text\n",
    "texts = []\n",
    "words_to_plot = list(np.arange(0, 400, 10))\n",
    "\n",
    "# Append words to list\n",
    "for word in words_to_plot:\n",
    "    texts.append(plt.text(tsne_df[word, 0], tsne_df[word, 1], df.index[word], fontsize = 14))\n",
    "    \n",
    "# Plot text using adjust_text (because overlapping text is hard to read)\n",
    "adjust_text(texts, force_points = 0.4, force_text = 0.4, \n",
    "            expand_points = (2,1), expand_text = (1,2),\n",
    "            arrowprops = dict(arrowstyle = \"-\", color = 'black', lw = 0.5))\n",
    "\n",
    "plt.show()"
   ]
  },
  {
   "cell_type": "code",
   "execution_count": 89,
   "id": "94111f5c-2d50-49b5-87f7-83feae2d706e",
   "metadata": {},
   "outputs": [
    {
     "ename": "NameError",
     "evalue": "name 'main_data' is not defined",
     "output_type": "error",
     "traceback": [
      "\u001b[0;31m---------------------------------------------------------------------------\u001b[0m",
      "\u001b[0;31mNameError\u001b[0m                                 Traceback (most recent call last)",
      "\u001b[0;32m<ipython-input-89-f7f29fa0c622>\u001b[0m in \u001b[0;36m<module>\u001b[0;34m\u001b[0m\n\u001b[1;32m      6\u001b[0m \u001b[0;34m\u001b[0m\u001b[0m\n\u001b[1;32m      7\u001b[0m \u001b[0;32mfor\u001b[0m \u001b[0mplatform\u001b[0m\u001b[0;34m,\u001b[0m \u001b[0msubplot\u001b[0m\u001b[0;34m,\u001b[0m \u001b[0mcolor\u001b[0m \u001b[0;32min\u001b[0m \u001b[0mzip\u001b[0m\u001b[0;34m(\u001b[0m\u001b[0mplatforms\u001b[0m\u001b[0;34m,\u001b[0m \u001b[0msubplots\u001b[0m\u001b[0;34m,\u001b[0m \u001b[0mcolors\u001b[0m\u001b[0;34m)\u001b[0m\u001b[0;34m:\u001b[0m\u001b[0;34m\u001b[0m\u001b[0;34m\u001b[0m\u001b[0m\n\u001b[0;32m----> 8\u001b[0;31m     \u001b[0msns\u001b[0m\u001b[0;34m.\u001b[0m\u001b[0mscatterplot\u001b[0m\u001b[0;34m(\u001b[0m\u001b[0mx\u001b[0m \u001b[0;34m=\u001b[0m \u001b[0mmain_data\u001b[0m\u001b[0;34m[\u001b[0m\u001b[0mplatform\u001b[0m\u001b[0;34m]\u001b[0m\u001b[0;34m,\u001b[0m \u001b[0my\u001b[0m \u001b[0;34m=\u001b[0m \u001b[0mmain_data\u001b[0m\u001b[0;34m[\u001b[0m\u001b[0;34m'SentimentTitle'\u001b[0m\u001b[0;34m]\u001b[0m\u001b[0;34m,\u001b[0m \u001b[0max\u001b[0m\u001b[0;34m=\u001b[0m\u001b[0msubplot\u001b[0m\u001b[0;34m,\u001b[0m \u001b[0mcolor\u001b[0m\u001b[0;34m=\u001b[0m\u001b[0mcolor\u001b[0m\u001b[0;34m)\u001b[0m\u001b[0;34m\u001b[0m\u001b[0;34m\u001b[0m\u001b[0m\n\u001b[0m\u001b[1;32m      9\u001b[0m     \u001b[0msubplot\u001b[0m\u001b[0;34m.\u001b[0m\u001b[0mset_title\u001b[0m\u001b[0;34m(\u001b[0m\u001b[0mplatform\u001b[0m\u001b[0;34m,\u001b[0m \u001b[0mfontsize\u001b[0m\u001b[0;34m=\u001b[0m\u001b[0;36m18\u001b[0m\u001b[0;34m)\u001b[0m\u001b[0;34m\u001b[0m\u001b[0;34m\u001b[0m\u001b[0m\n\u001b[1;32m     10\u001b[0m     \u001b[0msubplot\u001b[0m\u001b[0;34m.\u001b[0m\u001b[0mset_xlabel\u001b[0m\u001b[0;34m(\u001b[0m\u001b[0;34m''\u001b[0m\u001b[0;34m)\u001b[0m\u001b[0;34m\u001b[0m\u001b[0;34m\u001b[0m\u001b[0m\n",
      "\u001b[0;31mNameError\u001b[0m: name 'main_data' is not defined"
     ]
    },
    {
     "data": {
      "image/png": "[encoded data removed]",
      "text/plain": [
       "<Figure size 1080x720 with 3 Axes>"
      ]
     },
     "metadata": {},
     "output_type": "display_data"
    }
   ],
   "source": [
    "fig, ax = plt.subplots(1, 3, figsize=(15, 10))\n",
    "\n",
    "subplots = [a for a in ax]\n",
    "platforms = ['Facebook', 'GooglePlus', 'LinkedIn']\n",
    "colors = list(sns.husl_palette(10, h=.5)[1:4]) \n",
    "\n",
    "for platform, subplot, color in zip(platforms, subplots, colors):\n",
    "    sns.scatterplot(x = main_data[platform], y = main_data['SentimentTitle'], ax=subplot, color=color)\n",
    "    subplot.set_title(platform, fontsize=18)\n",
    "    subplot.set_xlabel('') \n",
    "    \n",
    "fig.suptitle('Plot of Popularity (Shares) by Title Sentiment', fontsize=24)\n",
    "\n",
    "plt.show()"
   ]
  },
  {
   "cell_type": "code",
   "execution_count": null,
   "id": "4ebf816b-488d-4391-a2d5-2cf719a5d5b2",
   "metadata": {},
   "outputs": [],
   "source": []
  }
 ],
 "metadata": {
  "kernelspec": {
   "display_name": "Python 3",
   "language": "python",
   "name": "python3"
  },
  "language_info": {
   "codemirror_mode": {
    "name": "ipython",
    "version": 3
   },
   "file_extension": ".py",
   "mimetype": "text/x-python",
   "name": "python",
   "nbconvert_exporter": "python",
   "pygments_lexer": "ipython3",
   "version": "3.9.5"
  }
 },
 "nbformat": 4,
 "nbformat_minor": 5
}
