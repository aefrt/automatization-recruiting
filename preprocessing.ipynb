{
 "cells": [
  {
   "cell_type": "markdown",
   "id": "721249dc-5ee6-46df-9db4-40797eee0987",
   "metadata": {},
   "source": [
    "## ВКР: обработка данных"
   ]
  },
  {
   "cell_type": "markdown",
   "id": "1fb0d0c3-f00d-4f52-8dba-8ad52683c69d",
   "metadata": {},
   "source": [
    "Автоматизация подбора персонала\n",
    "\n",
    "Копчев Владислав, БПМИ197"
   ]
  },
  {
   "cell_type": "markdown",
   "id": "11fc3464-79f7-4a40-8203-bb50ef2cf4a3",
   "metadata": {},
   "source": [
    "На этом этапе мы предобработаем наши данные, собранные на этапе `scraping.ipynb`.\n",
    "\n",
    "По итогу мы получим признаки:\n",
    "- ррр\n",
    "- ррр\n",
    "See Project Proposal."
   ]
  },
  {
   "cell_type": "markdown",
   "id": "6847aca2-a90b-4eb9-9861-195c4da40a9c",
   "metadata": {},
   "source": [
    "Где библиотеки??? See `scraping.ipynb`"
   ]
  },
  {
   "cell_type": "code",
   "execution_count": 1,
   "id": "32473c33-b154-4498-8742-5ddbd85b77bc",
   "metadata": {},
   "outputs": [],
   "source": [
    "from bs4 import BeautifulSoup\n",
    "import requests\n",
    "import pandas as pd\n",
    "from selenium import webdriver\n",
    "from selenium.webdriver.common.keys import Keys\n",
    "from selenium.webdriver.common.by import By\n",
    "from selenium.webdriver.support.ui import Select\n",
    "# !pip install transliterate\n",
    "from transliterate import translit\n",
    "import re\n",
    "import numpy as np"
   ]
  },
  {
   "cell_type": "code",
   "execution_count": 2,
   "id": "bd41e922-fd8e-4bd4-9954-f596c1f0f97e",
   "metadata": {},
   "outputs": [],
   "source": [
    "import nltk\n",
    "# nltk.download('stopwords')\n",
    "import re\n",
    "from pymorphy2 import MorphAnalyzer\n",
    "from nltk.corpus import stopwords\n",
    "morph = MorphAnalyzer()"
   ]
  },
  {
   "cell_type": "markdown",
   "id": "acf9b8cf-09a1-435f-a6f2-6100d0d4d45f",
   "metadata": {},
   "source": [
    "### Пост-обработка"
   ]
  },
  {
   "cell_type": "markdown",
   "id": "fc7a580c-5638-4ee4-a2ce-f46ac5131af2",
   "metadata": {},
   "source": [
    "Импорт данных:"
   ]
  },
  {
   "cell_type": "code",
   "execution_count": 3,
   "id": "2771b68c-ecbc-462c-95b3-64f93b083a7d",
   "metadata": {},
   "outputs": [],
   "source": [
    "# df = pd.read_csv('resumes_features.csv')\n",
    "df = pd.read_csv('backup/16.11/resumes_features.csv').sample(3000)"
   ]
  },
  {
   "cell_type": "markdown",
   "id": "ecb99021-10da-411c-9c4b-764074c6df44",
   "metadata": {},
   "source": [
    "**Перевод опыта работы в числовое значение:**"
   ]
  },
  {
   "cell_type": "markdown",
   "id": "d3a964fe-614b-48ca-846d-fcc666e0ca0a",
   "metadata": {},
   "source": [
    "В данной функции мы приводим к единому виду опыт работы. были найдены: years, year, months, etc."
   ]
  },
  {
   "cell_type": "code",
   "execution_count": 4,
   "id": "32af93d1-caa6-46dc-a7ce-1fedab76ba13",
   "metadata": {
    "tags": []
   },
   "outputs": [
    {
     "data": {
      "text/html": [
       "<div>\n",
       "<style scoped>\n",
       "    .dataframe tbody tr th:only-of-type {\n",
       "        vertical-align: middle;\n",
       "    }\n",
       "\n",
       "    .dataframe tbody tr th {\n",
       "        vertical-align: top;\n",
       "    }\n",
       "\n",
       "    .dataframe thead th {\n",
       "        text-align: right;\n",
       "    }\n",
       "</style>\n",
       "<table border=\"1\" class=\"dataframe\">\n",
       "  <thead>\n",
       "    <tr style=\"text-align: right;\">\n",
       "      <th></th>\n",
       "      <th>Unnamed: 0.1</th>\n",
       "      <th>Ссылка</th>\n",
       "      <th>Название</th>\n",
       "      <th>Коммандировка</th>\n",
       "      <th>Опыт работы, лет</th>\n",
       "      <th>О себе</th>\n",
       "      <th>Образование</th>\n",
       "      <th>Интересы</th>\n",
       "      <th>Навыки</th>\n",
       "      <th>Образование-1</th>\n",
       "      <th>...</th>\n",
       "      <th>Опыт нормализованный</th>\n",
       "      <th>Топовость образования</th>\n",
       "      <th>is_eng?</th>\n",
       "      <th>Уровень оборазования нормализованный</th>\n",
       "      <th>Навыки списком</th>\n",
       "      <th>Релокация?</th>\n",
       "      <th>Коммандировка?</th>\n",
       "      <th>Город?</th>\n",
       "      <th>Аналитические комбинации слов</th>\n",
       "      <th>Справочник по интересам</th>\n",
       "    </tr>\n",
       "  </thead>\n",
       "  <tbody>\n",
       "    <tr>\n",
       "      <th>0</th>\n",
       "      <td>0</td>\n",
       "      <td>https://hh.ru/resume/1aa91e410000fd3cda0039ed1...</td>\n",
       "      <td>Analyst</td>\n",
       "      <td>Moscow, willing to relocate, prepared for occa...</td>\n",
       "      <td>Work experience 7 years 4 months</td>\n",
       "      <td>Responsible, communicable, quick study and det...</td>\n",
       "      <td>Higher education\\n2015\\nMOSCOW STATE UNIVERSIT...</td>\n",
       "      <td>Specializations:\\nSales manager, account manag...</td>\n",
       "      <td>Key skills\\nAnalitical thinking\\nEnglish\\nOrga...</td>\n",
       "      <td>MOSCOW STATE UNIVERSITY OF MECHANICAL ENGINEER...</td>\n",
       "      <td>...</td>\n",
       "      <td>7;4</td>\n",
       "      <td>False</td>\n",
       "      <td>ENG</td>\n",
       "      <td>Высшее образование</td>\n",
       "      <td>['Key skills', 'Analitical thinking', 'English...</td>\n",
       "      <td>prepared for occasional business trips</td>\n",
       "      <td>willing to relocate</td>\n",
       "      <td>Moscow</td>\n",
       "      <td>found smt by rule (SQL)|(Excel)|(Python)|(Tabl...</td>\n",
       "      <td>---</td>\n",
       "    </tr>\n",
       "    <tr>\n",
       "      <th>1</th>\n",
       "      <td>1</td>\n",
       "      <td>https://hh.ru/resume/628596ac000657935b0039ed1...</td>\n",
       "      <td>BI аналитик</td>\n",
       "      <td>Москва, не готова к переезду, готова к редким ...</td>\n",
       "      <td>Опыт работы 1 год 5 месяцев</td>\n",
       "      <td>В последние годы проходила обучение без возмож...</td>\n",
       "      <td>Высшее образование (Бакалавр)\\n2022\\nНациональ...</td>\n",
       "      <td>Специализации:\\nBI-аналитик, аналитик данных\\n...</td>\n",
       "      <td>Ключевые навыки\\nTableau\\nPower BI\\nSQL\\nMS Ex...</td>\n",
       "      <td>Национальный исследовательский университет \"Вы...</td>\n",
       "      <td>...</td>\n",
       "      <td>1;5</td>\n",
       "      <td>True</td>\n",
       "      <td>RU</td>\n",
       "      <td>Бакалавр</td>\n",
       "      <td>['Ключевые навыки', 'Tableau', 'Power BI', 'SQ...</td>\n",
       "      <td>готова к редким командировкам</td>\n",
       "      <td>не готова к переезду</td>\n",
       "      <td>Москва</td>\n",
       "      <td>---</td>\n",
       "      <td>found smt by rule (Analyst)|(Аналитик данных)|...</td>\n",
       "    </tr>\n",
       "    <tr>\n",
       "      <th>2</th>\n",
       "      <td>2</td>\n",
       "      <td>https://hh.ru/resume/dfbcae000004342d8f0039ed1...</td>\n",
       "      <td>BI аналитик</td>\n",
       "      <td>Москва, не готова к переезду, готова к команди...</td>\n",
       "      <td>Опыт работы 3 года 3 месяца</td>\n",
       "      <td>---</td>\n",
       "      <td>Высшее образование (Бакалавр)\\n2019\\nСамарский...</td>\n",
       "      <td>Специализации:\\nBI-аналитик, аналитик данных\\n...</td>\n",
       "      <td>Ключевые навыки\\nPython\\nSQL\\nУмение работать ...</td>\n",
       "      <td>Самарский государственный аэрокосмический унив...</td>\n",
       "      <td>...</td>\n",
       "      <td>3;3</td>\n",
       "      <td>False</td>\n",
       "      <td>RU</td>\n",
       "      <td>Бакалавр</td>\n",
       "      <td>['Ключевые навыки', 'Python', 'SQL', 'Умение р...</td>\n",
       "      <td>готова к командировкам</td>\n",
       "      <td>не готова к переезду</td>\n",
       "      <td>Москва</td>\n",
       "      <td>---</td>\n",
       "      <td>found smt by rule (Analyst)|(Аналитик данных)|...</td>\n",
       "    </tr>\n",
       "    <tr>\n",
       "      <th>3</th>\n",
       "      <td>3</td>\n",
       "      <td>https://hh.ru/resume/bebf6a630008069d8c0039ed1...</td>\n",
       "      <td>Аналитик</td>\n",
       "      <td>Санкт-Петербург, м. Гражданский проспект, гото...</td>\n",
       "      <td>Опыт работы 7 лет 2 месяца</td>\n",
       "      <td>Имею экономическое образование. Продвинутый по...</td>\n",
       "      <td>Высшее образование (Бакалавр)\\n2015\\nСанкт-Пет...</td>\n",
       "      <td>Специализации:\\nАналитик\\nЗанятость: полная за...</td>\n",
       "      <td>Ключевые навыки\\nЭкономический анализ\\nЭкономи...</td>\n",
       "      <td>Санкт-Петербургский государственный политехнич...</td>\n",
       "      <td>...</td>\n",
       "      <td>7;2</td>\n",
       "      <td>False</td>\n",
       "      <td>RU</td>\n",
       "      <td>Бакалавр</td>\n",
       "      <td>['Ключевые навыки', 'Экономический анализ', 'Э...</td>\n",
       "      <td>готов к командировкам</td>\n",
       "      <td>готов к переезду</td>\n",
       "      <td>Санкт</td>\n",
       "      <td>found smt by rule (SQL)|(Excel)|(Python)|(Tabl...</td>\n",
       "      <td>found smt by rule (Analyst)|(Аналитик данных)|...</td>\n",
       "    </tr>\n",
       "    <tr>\n",
       "      <th>4</th>\n",
       "      <td>4</td>\n",
       "      <td>https://hh.ru/resume/8606f37b000773de980039ed1...</td>\n",
       "      <td>Программист-разработчик</td>\n",
       "      <td>Москва, м. Петровско-Разумовская, не готов к п...</td>\n",
       "      <td>Опыт работы 1 год 1 месяц</td>\n",
       "      <td>Имеется опыт в создании Android-приложений на ...</td>\n",
       "      <td>Высшее образование (Бакалавр)\\n2022\\nЧелябинск...</td>\n",
       "      <td>Специализации:\\nПрограммист, разработчик\\nЗаня...</td>\n",
       "      <td>Ключевые навыки\\nАдминистрирование серверов Li...</td>\n",
       "      <td>Челябинский государственный университет, Челяб...</td>\n",
       "      <td>...</td>\n",
       "      <td>1;1</td>\n",
       "      <td>False</td>\n",
       "      <td>ENG</td>\n",
       "      <td>Бакалавр</td>\n",
       "      <td>['Ключевые навыки', 'Администрирование серверо...</td>\n",
       "      <td>не готов к командировкам</td>\n",
       "      <td>не готов к переезду</td>\n",
       "      <td>Москва</td>\n",
       "      <td>found smt by rule (SQL)|(Excel)|(Python)|(Tabl...</td>\n",
       "      <td>---</td>\n",
       "    </tr>\n",
       "    <tr>\n",
       "      <th>...</th>\n",
       "      <td>...</td>\n",
       "      <td>...</td>\n",
       "      <td>...</td>\n",
       "      <td>...</td>\n",
       "      <td>...</td>\n",
       "      <td>...</td>\n",
       "      <td>...</td>\n",
       "      <td>...</td>\n",
       "      <td>...</td>\n",
       "      <td>...</td>\n",
       "      <td>...</td>\n",
       "      <td>...</td>\n",
       "      <td>...</td>\n",
       "      <td>...</td>\n",
       "      <td>...</td>\n",
       "      <td>...</td>\n",
       "      <td>...</td>\n",
       "      <td>...</td>\n",
       "      <td>...</td>\n",
       "      <td>...</td>\n",
       "      <td>...</td>\n",
       "    </tr>\n",
       "    <tr>\n",
       "      <th>193</th>\n",
       "      <td>193</td>\n",
       "      <td>https://hh.ru/resume/9024b1760002f0f0fe0039ed1...</td>\n",
       "      <td>Business analyst</td>\n",
       "      <td>Moscow, metro station Akademicheskaya, willing...</td>\n",
       "      <td>Work experience 5 years 5 months</td>\n",
       "      <td>An interest in investment and economics led my...</td>\n",
       "      <td>Higher education (bachelor)\\n2017\\nBrunel univ...</td>\n",
       "      <td>Specializations:\\nAnalyst\\nEmployment: full ti...</td>\n",
       "      <td>Key skills\\nAnalytical skills\\nSAP PM\\nBusines...</td>\n",
       "      <td>Brunel university</td>\n",
       "      <td>...</td>\n",
       "      <td>5;5</td>\n",
       "      <td>False</td>\n",
       "      <td>ENG</td>\n",
       "      <td>Бакалавр</td>\n",
       "      <td>['Key skills', 'Analytical skills', 'SAP PM', ...</td>\n",
       "      <td>NaN</td>\n",
       "      <td>willing to relocate</td>\n",
       "      <td>Moscow</td>\n",
       "      <td>found smt by rule (SQL)|(Excel)|(Python)|(Tabl...</td>\n",
       "      <td>found smt by rule (Analyst)|(Аналитик данных)|...</td>\n",
       "    </tr>\n",
       "    <tr>\n",
       "      <th>194</th>\n",
       "      <td>194</td>\n",
       "      <td>https://hh.ru/resume/c0d0ac9b0002b4446d0039ed1...</td>\n",
       "      <td>Аналитик</td>\n",
       "      <td>Москва, м. Планерная, не готов к переезду, не ...</td>\n",
       "      <td>Опыт работы 5 лет</td>\n",
       "      <td>Проходил иностранное обучение в Kaplan Interna...</td>\n",
       "      <td>Высшее образование\\n2015\\nРоссийский экономиче...</td>\n",
       "      <td>Специализации:\\nАналитик\\nЗанятость: стажировк...</td>\n",
       "      <td>Ключевые навыки\\nАнглийский язык\\nРабота в ком...</td>\n",
       "      <td>Российский экономический университет им. Г.В. ...</td>\n",
       "      <td>...</td>\n",
       "      <td>5;</td>\n",
       "      <td>False</td>\n",
       "      <td>ENG</td>\n",
       "      <td>Высшее образование</td>\n",
       "      <td>['Ключевые навыки', 'Английский язык', 'Работа...</td>\n",
       "      <td>не готов к командировкам</td>\n",
       "      <td>не готов к переезду</td>\n",
       "      <td>Москва</td>\n",
       "      <td>found smt by rule (SQL)|(Excel)|(Python)|(Tabl...</td>\n",
       "      <td>found smt by rule (Analyst)|(Аналитик данных)|...</td>\n",
       "    </tr>\n",
       "    <tr>\n",
       "      <th>195</th>\n",
       "      <td>195</td>\n",
       "      <td>https://hh.ru/resume/8b2d7d4700092277b60039ed1...</td>\n",
       "      <td>Product Analyst</td>\n",
       "      <td>Москва, м. Текстильщики, готов к переезду, гот...</td>\n",
       "      <td>Опыт работы 11 месяцев</td>\n",
       "      <td>Стек технологий:\\n[Имеется опыт]: Excel, Oracl...</td>\n",
       "      <td>Высшее образование (Бакалавр)\\n2019\\nСибирский...</td>\n",
       "      <td>Специализации:\\nРуководитель проектов\\nМенедже...</td>\n",
       "      <td>Ключевые навыки\\nРабота в команде\\nУправление ...</td>\n",
       "      <td>Сибирский федеральный университет, Красноярск</td>\n",
       "      <td>...</td>\n",
       "      <td>0;11</td>\n",
       "      <td>False</td>\n",
       "      <td>ENG</td>\n",
       "      <td>Бакалавр</td>\n",
       "      <td>['Ключевые навыки', 'Работа в команде', 'Управ...</td>\n",
       "      <td>готов к редким командировкам</td>\n",
       "      <td>готов к переезду</td>\n",
       "      <td>Москва</td>\n",
       "      <td>found smt by rule (SQL)|(Excel)|(Python)|(Tabl...</td>\n",
       "      <td>---</td>\n",
       "    </tr>\n",
       "    <tr>\n",
       "      <th>196</th>\n",
       "      <td>196</td>\n",
       "      <td>https://hh.ru/resume/02dd13850000e335750039ed1...</td>\n",
       "      <td>Аналитик данных</td>\n",
       "      <td>Казань, м. Дубравная , готов к переезду (Москв...</td>\n",
       "      <td>Опыт работы 16 лет 10 месяцев</td>\n",
       "      <td>- Обладаю аналитическим складом ума, способен ...</td>\n",
       "      <td>Высшее образование\\n2006\\nРоссийский государст...</td>\n",
       "      <td>Специализации:\\nBI-аналитик, аналитик данных\\n...</td>\n",
       "      <td>Ключевые навыки\\nФинансовый анализ\\nSQL\\nMicro...</td>\n",
       "      <td>Российский государственный социальный универси...</td>\n",
       "      <td>...</td>\n",
       "      <td>16;10</td>\n",
       "      <td>False</td>\n",
       "      <td>RU</td>\n",
       "      <td>Высшее образование</td>\n",
       "      <td>['Ключевые навыки', 'Финансовый анализ', 'SQL'...</td>\n",
       "      <td>готов к редким командировкам</td>\n",
       "      <td>готов к переезду</td>\n",
       "      <td>Казань</td>\n",
       "      <td>found smt by rule (SQL)|(Excel)|(Python)|(Tabl...</td>\n",
       "      <td>found smt by rule (Analyst)|(Аналитик данных)|...</td>\n",
       "    </tr>\n",
       "    <tr>\n",
       "      <th>197</th>\n",
       "      <td>197</td>\n",
       "      <td>https://hh.ru/resume/99787ac10008ef446b0039ed1...</td>\n",
       "      <td>Аналитик</td>\n",
       "      <td>Москва, не готов к переезду, не готов к команд...</td>\n",
       "      <td>Опыт работы 6 лет</td>\n",
       "      <td>В резюме отражены последние четыре места работ...</td>\n",
       "      <td>Высшее образование\\n2009\\nВсероссийский заочны...</td>\n",
       "      <td>Специализации:\\nАналитик\\nЗанятость: полная за...</td>\n",
       "      <td>Ключевые навыки\\nАналитика продаж\\nАналитика з...</td>\n",
       "      <td>Всероссийский заочный финансово-экономический ...</td>\n",
       "      <td>...</td>\n",
       "      <td>6;</td>\n",
       "      <td>False</td>\n",
       "      <td>ENG</td>\n",
       "      <td>Высшее образование</td>\n",
       "      <td>['Ключевые навыки', 'Аналитика продаж', 'Анали...</td>\n",
       "      <td>не готов к командировкам</td>\n",
       "      <td>не готов к переезду</td>\n",
       "      <td>Москва</td>\n",
       "      <td>found smt by rule (SQL)|(Excel)|(Python)|(Tabl...</td>\n",
       "      <td>found smt by rule (Analyst)|(Аналитик данных)|...</td>\n",
       "    </tr>\n",
       "  </tbody>\n",
       "</table>\n",
       "<p>198 rows × 27 columns</p>\n",
       "</div>"
      ],
      "text/plain": [
       "     Unnamed: 0.1                                             Ссылка  \\\n",
       "0               0  https://hh.ru/resume/1aa91e410000fd3cda0039ed1...   \n",
       "1               1  https://hh.ru/resume/628596ac000657935b0039ed1...   \n",
       "2               2  https://hh.ru/resume/dfbcae000004342d8f0039ed1...   \n",
       "3               3  https://hh.ru/resume/bebf6a630008069d8c0039ed1...   \n",
       "4               4  https://hh.ru/resume/8606f37b000773de980039ed1...   \n",
       "..            ...                                                ...   \n",
       "193           193  https://hh.ru/resume/9024b1760002f0f0fe0039ed1...   \n",
       "194           194  https://hh.ru/resume/c0d0ac9b0002b4446d0039ed1...   \n",
       "195           195  https://hh.ru/resume/8b2d7d4700092277b60039ed1...   \n",
       "196           196  https://hh.ru/resume/02dd13850000e335750039ed1...   \n",
       "197           197  https://hh.ru/resume/99787ac10008ef446b0039ed1...   \n",
       "\n",
       "                    Название  \\\n",
       "0                    Analyst   \n",
       "1                BI аналитик   \n",
       "2                BI аналитик   \n",
       "3                   Аналитик   \n",
       "4    Программист-разработчик   \n",
       "..                       ...   \n",
       "193         Business analyst   \n",
       "194                 Аналитик   \n",
       "195          Product Analyst   \n",
       "196          Аналитик данных   \n",
       "197                 Аналитик   \n",
       "\n",
       "                                         Коммандировка  \\\n",
       "0    Moscow, willing to relocate, prepared for occa...   \n",
       "1    Москва, не готова к переезду, готова к редким ...   \n",
       "2    Москва, не готова к переезду, готова к команди...   \n",
       "3    Санкт-Петербург, м. Гражданский проспект, гото...   \n",
       "4    Москва, м. Петровско-Разумовская, не готов к п...   \n",
       "..                                                 ...   \n",
       "193  Moscow, metro station Akademicheskaya, willing...   \n",
       "194  Москва, м. Планерная, не готов к переезду, не ...   \n",
       "195  Москва, м. Текстильщики, готов к переезду, гот...   \n",
       "196  Казань, м. Дубравная , готов к переезду (Москв...   \n",
       "197  Москва, не готов к переезду, не готов к команд...   \n",
       "\n",
       "                     Опыт работы, лет  \\\n",
       "0    Work experience 7 years 4 months   \n",
       "1         Опыт работы 1 год 5 месяцев   \n",
       "2         Опыт работы 3 года 3 месяца   \n",
       "3          Опыт работы 7 лет 2 месяца   \n",
       "4           Опыт работы 1 год 1 месяц   \n",
       "..                                ...   \n",
       "193  Work experience 5 years 5 months   \n",
       "194                 Опыт работы 5 лет   \n",
       "195            Опыт работы 11 месяцев   \n",
       "196     Опыт работы 16 лет 10 месяцев   \n",
       "197                 Опыт работы 6 лет   \n",
       "\n",
       "                                                О себе  \\\n",
       "0    Responsible, communicable, quick study and det...   \n",
       "1    В последние годы проходила обучение без возмож...   \n",
       "2                                                  ---   \n",
       "3    Имею экономическое образование. Продвинутый по...   \n",
       "4    Имеется опыт в создании Android-приложений на ...   \n",
       "..                                                 ...   \n",
       "193  An interest in investment and economics led my...   \n",
       "194  Проходил иностранное обучение в Kaplan Interna...   \n",
       "195  Стек технологий:\\n[Имеется опыт]: Excel, Oracl...   \n",
       "196  - Обладаю аналитическим складом ума, способен ...   \n",
       "197  В резюме отражены последние четыре места работ...   \n",
       "\n",
       "                                           Образование  \\\n",
       "0    Higher education\\n2015\\nMOSCOW STATE UNIVERSIT...   \n",
       "1    Высшее образование (Бакалавр)\\n2022\\nНациональ...   \n",
       "2    Высшее образование (Бакалавр)\\n2019\\nСамарский...   \n",
       "3    Высшее образование (Бакалавр)\\n2015\\nСанкт-Пет...   \n",
       "4    Высшее образование (Бакалавр)\\n2022\\nЧелябинск...   \n",
       "..                                                 ...   \n",
       "193  Higher education (bachelor)\\n2017\\nBrunel univ...   \n",
       "194  Высшее образование\\n2015\\nРоссийский экономиче...   \n",
       "195  Высшее образование (Бакалавр)\\n2019\\nСибирский...   \n",
       "196  Высшее образование\\n2006\\nРоссийский государст...   \n",
       "197  Высшее образование\\n2009\\nВсероссийский заочны...   \n",
       "\n",
       "                                              Интересы  \\\n",
       "0    Specializations:\\nSales manager, account manag...   \n",
       "1    Специализации:\\nBI-аналитик, аналитик данных\\n...   \n",
       "2    Специализации:\\nBI-аналитик, аналитик данных\\n...   \n",
       "3    Специализации:\\nАналитик\\nЗанятость: полная за...   \n",
       "4    Специализации:\\nПрограммист, разработчик\\nЗаня...   \n",
       "..                                                 ...   \n",
       "193  Specializations:\\nAnalyst\\nEmployment: full ti...   \n",
       "194  Специализации:\\nАналитик\\nЗанятость: стажировк...   \n",
       "195  Специализации:\\nРуководитель проектов\\nМенедже...   \n",
       "196  Специализации:\\nBI-аналитик, аналитик данных\\n...   \n",
       "197  Специализации:\\nАналитик\\nЗанятость: полная за...   \n",
       "\n",
       "                                                Навыки  \\\n",
       "0    Key skills\\nAnalitical thinking\\nEnglish\\nOrga...   \n",
       "1    Ключевые навыки\\nTableau\\nPower BI\\nSQL\\nMS Ex...   \n",
       "2    Ключевые навыки\\nPython\\nSQL\\nУмение работать ...   \n",
       "3    Ключевые навыки\\nЭкономический анализ\\nЭкономи...   \n",
       "4    Ключевые навыки\\nАдминистрирование серверов Li...   \n",
       "..                                                 ...   \n",
       "193  Key skills\\nAnalytical skills\\nSAP PM\\nBusines...   \n",
       "194  Ключевые навыки\\nАнглийский язык\\nРабота в ком...   \n",
       "195  Ключевые навыки\\nРабота в команде\\nУправление ...   \n",
       "196  Ключевые навыки\\nФинансовый анализ\\nSQL\\nMicro...   \n",
       "197  Ключевые навыки\\nАналитика продаж\\nАналитика з...   \n",
       "\n",
       "                                         Образование-1  ...  \\\n",
       "0    MOSCOW STATE UNIVERSITY OF MECHANICAL ENGINEER...  ...   \n",
       "1    Национальный исследовательский университет \"Вы...  ...   \n",
       "2    Самарский государственный аэрокосмический унив...  ...   \n",
       "3    Санкт-Петербургский государственный политехнич...  ...   \n",
       "4    Челябинский государственный университет, Челяб...  ...   \n",
       "..                                                 ...  ...   \n",
       "193                                  Brunel university  ...   \n",
       "194  Российский экономический университет им. Г.В. ...  ...   \n",
       "195      Сибирский федеральный университет, Красноярск  ...   \n",
       "196  Российский государственный социальный универси...  ...   \n",
       "197  Всероссийский заочный финансово-экономический ...  ...   \n",
       "\n",
       "    Опыт нормализованный Топовость образования  is_eng?  \\\n",
       "0                    7;4                 False      ENG   \n",
       "1                    1;5                  True       RU   \n",
       "2                    3;3                 False       RU   \n",
       "3                    7;2                 False       RU   \n",
       "4                    1;1                 False      ENG   \n",
       "..                   ...                   ...      ...   \n",
       "193                  5;5                 False      ENG   \n",
       "194                   5;                 False      ENG   \n",
       "195                 0;11                 False      ENG   \n",
       "196                16;10                 False       RU   \n",
       "197                   6;                 False      ENG   \n",
       "\n",
       "    Уровень оборазования нормализованный  \\\n",
       "0                     Высшее образование   \n",
       "1                               Бакалавр   \n",
       "2                               Бакалавр   \n",
       "3                               Бакалавр   \n",
       "4                               Бакалавр   \n",
       "..                                   ...   \n",
       "193                             Бакалавр   \n",
       "194                   Высшее образование   \n",
       "195                             Бакалавр   \n",
       "196                   Высшее образование   \n",
       "197                   Высшее образование   \n",
       "\n",
       "                                        Навыки списком  \\\n",
       "0    ['Key skills', 'Analitical thinking', 'English...   \n",
       "1    ['Ключевые навыки', 'Tableau', 'Power BI', 'SQ...   \n",
       "2    ['Ключевые навыки', 'Python', 'SQL', 'Умение р...   \n",
       "3    ['Ключевые навыки', 'Экономический анализ', 'Э...   \n",
       "4    ['Ключевые навыки', 'Администрирование серверо...   \n",
       "..                                                 ...   \n",
       "193  ['Key skills', 'Analytical skills', 'SAP PM', ...   \n",
       "194  ['Ключевые навыки', 'Английский язык', 'Работа...   \n",
       "195  ['Ключевые навыки', 'Работа в команде', 'Управ...   \n",
       "196  ['Ключевые навыки', 'Финансовый анализ', 'SQL'...   \n",
       "197  ['Ключевые навыки', 'Аналитика продаж', 'Анали...   \n",
       "\n",
       "                                  Релокация?         Коммандировка?  Город?  \\\n",
       "0     prepared for occasional business trips    willing to relocate  Moscow   \n",
       "1              готова к редким командировкам   не готова к переезду  Москва   \n",
       "2                     готова к командировкам   не готова к переезду  Москва   \n",
       "3                      готов к командировкам       готов к переезду   Санкт   \n",
       "4                   не готов к командировкам    не готов к переезду  Москва   \n",
       "..                                       ...                    ...     ...   \n",
       "193                                      NaN    willing to relocate  Moscow   \n",
       "194                 не готов к командировкам    не готов к переезду  Москва   \n",
       "195             готов к редким командировкам       готов к переезду  Москва   \n",
       "196             готов к редким командировкам       готов к переезду  Казань   \n",
       "197                 не готов к командировкам    не готов к переезду  Москва   \n",
       "\n",
       "                         Аналитические комбинации слов  \\\n",
       "0    found smt by rule (SQL)|(Excel)|(Python)|(Tabl...   \n",
       "1                                                  ---   \n",
       "2                                                  ---   \n",
       "3    found smt by rule (SQL)|(Excel)|(Python)|(Tabl...   \n",
       "4    found smt by rule (SQL)|(Excel)|(Python)|(Tabl...   \n",
       "..                                                 ...   \n",
       "193  found smt by rule (SQL)|(Excel)|(Python)|(Tabl...   \n",
       "194  found smt by rule (SQL)|(Excel)|(Python)|(Tabl...   \n",
       "195  found smt by rule (SQL)|(Excel)|(Python)|(Tabl...   \n",
       "196  found smt by rule (SQL)|(Excel)|(Python)|(Tabl...   \n",
       "197  found smt by rule (SQL)|(Excel)|(Python)|(Tabl...   \n",
       "\n",
       "                               Справочник по интересам  \n",
       "0                                                  ---  \n",
       "1    found smt by rule (Analyst)|(Аналитик данных)|...  \n",
       "2    found smt by rule (Analyst)|(Аналитик данных)|...  \n",
       "3    found smt by rule (Analyst)|(Аналитик данных)|...  \n",
       "4                                                  ---  \n",
       "..                                                 ...  \n",
       "193  found smt by rule (Analyst)|(Аналитик данных)|...  \n",
       "194  found smt by rule (Analyst)|(Аналитик данных)|...  \n",
       "195                                                ---  \n",
       "196  found smt by rule (Analyst)|(Аналитик данных)|...  \n",
       "197  found smt by rule (Analyst)|(Аналитик данных)|...  \n",
       "\n",
       "[198 rows x 27 columns]"
      ]
     },
     "execution_count": 4,
     "metadata": {},
     "output_type": "execute_result"
    }
   ],
   "source": [
    "df['Опыт работы, лет'][2]\n",
    "opyt_normalized = []\n",
    "for x in df['Опыт работы, лет']:\n",
    "    x=x.removeprefix('Work experience ').removeprefix('Опыт работы ')\n",
    "    x=x.replace('years', ';')\n",
    "    x=x.replace('year', ';')\n",
    "    x=x.replace('года', ';')  # ВСЕГДА д. б. раньше\n",
    "    x=x.replace('год', ';')\n",
    "    x=x.replace('лет', ';')\n",
    "    \n",
    "    if x.find(';') == -1:\n",
    "        x = '0;' + x\n",
    "    x=x.removesuffix('months')\n",
    "    x=x.removesuffix('month')\n",
    "    x=x.removesuffix('месяцев')\n",
    "    x=x.removesuffix('месяц')\n",
    "    x=x.removesuffix('месяца')\n",
    "     \n",
    "    x=x.replace(' ', '')\n",
    "    if re.search('[а–Я]+|[a–Z]+', x):\n",
    "        x='---'\n",
    "    opyt_normalized.append(x)\n",
    "    \n",
    "df['Опыт нормализованный'] = opyt_normalized\n",
    "df.drop(list(df)[0], axis=1)"
   ]
  },
  {
   "cell_type": "markdown",
   "id": "a0bd7df3-16f7-4fda-b032-53d14ec74cff",
   "metadata": {},
   "source": [
    "**Словарь образования:**"
   ]
  },
  {
   "cell_type": "markdown",
   "id": "b074f342-b57c-463f-aecb-17f2e2739442",
   "metadata": {},
   "source": [
    "В данной функции мы составляем словарь образования для создания юинарного признака: входит/не входит в топ? Извлечение данной сущности будет самым _неидеальным_ (омонимия аббревиатур вузов етц), но даже погрешность тут будет скомпенсирована большим количеством более простых признаков."
   ]
  },
  {
   "cell_type": "code",
   "execution_count": 7,
   "id": "35829367-4bc7-4cc3-a774-d95173a63a09",
   "metadata": {},
   "outputs": [],
   "source": [
    "edu_list = pd.concat([df['Образование-1'], df['Образование-2']], axis=0).drop_duplicates().reset_index().drop('index', axis=1)\n",
    "edu_list = list(edu_list[list(edu_list)[0]])\n",
    "len(edu_list)\n",
    "\n",
    "ys=[]\n",
    "\n",
    "for x in edu_list:\n",
    "    s=str(x)\n",
    "    l = s.find(',')+1\n",
    "    y=s[l:].lstrip(' ')\n",
    "    print(end='')\n",
    "    ys.append(y)\n",
    "    \n",
    "for i in range(len(ys)):\n",
    "    y = ys[i]\n",
    "    is_space = re.fullmatch('[А-я]+[ ][А-я ()-]+', y)\n",
    "    if is_space:\n",
    "        #print(y)\n",
    "        1==1\n",
    "    is_m = re.fullmatch('Mosc.*', y) or re.fullmatch('Моск.*', y) or re.fullmatch('Петерб.*', y) or re.fullmatch('Peters.*', y) or re.fullmatch('СПб.*', y) or re.fullmatch('Новосиб.*', y) or re.fullmatch('Novosib.*', y) or re.fullmatch('Томск.*', y) or re.fullmatch('Tomsk.*', y)\n",
    "    if not is_space and not is_m:\n",
    "        ys[i] = 'NO'\n",
    "#ys\n",
    "\n",
    "cnt=0\n",
    "for y in ys:\n",
    "    if y != 'NO':\n",
    "        cnt+=1\n",
    "cnt\n",
    "\n",
    "import numpy as np\n",
    "ys = np.array(ys)\n",
    "ys=np.unique(ys)\n",
    "ys=list(ys)\n",
    "len(ys)\n",
    "\n",
    "\"\"\"\n",
    "Топ-10 IT-вузов России по версии QS (Quacquarelli Symonds)\n",
    "\n",
    "1. Московский государственный университет им. М. В. Ломоносова;\n",
    "2. Университет ИТМО;\n",
    "3. Московский физико-технологический институт (МФТИ);\n",
    "4. Высшая школа экономики;\n",
    "5. Санкт-Петербургский политехнический университет Петра Великого; \n",
    "6. Московский государственный технический университета (МГТУ) имени Н.Э. Баумана;\n",
    "7. Санкт-Петербургский политехнический университет Петра Великого; \n",
    "8. Новосибирский государственный университет;\n",
    "9. Московский инженерно-физический институт (МИФИ);\n",
    "10. Томский политехнический университет.\n",
    "\n",
    "https://propostuplenie.ru/article/spisok-luchshih-informacionnyh-vuzov-rossii/\n",
    "\"\"\"\n",
    "\n",
    "def is_top(y):\n",
    "    if re.search('ВШЭ', y) or re.search('Высшая школа экономики', y) or re.search('HSE', y):\n",
    "        y='ВШЭ'\n",
    "    elif re.search('Московский Государственный Университет$', y) or re.search('Московский Государственный Университет им[.  ени] (М.|Л)', y) or re.search('МГУ[^ А-я]|\\(МГУ\\)', y) or re.search('Moscow state University', y) or re.search('MSU', y) or re.search('МГУ', y):\n",
    "        y='МГУ'\n",
    "    elif re.search('ИТМО', y):\n",
    "        y='ИТМО'\n",
    "    elif re.search('МФТИ', y) or re.search('Московский физико-технологический институт', y):\n",
    "        y='Физтех'\n",
    "        # ЗФТШ при МФТИ\n",
    "        # - Физтех\n",
    "    elif re.search('СПБ Политех', y) or re.search('Санкт-Петербургский политехнический университет', y):\n",
    "        y='Политех СПб'\n",
    "    elif re.search('Бауман', y):\n",
    "        y='Бауманка'\n",
    "    elif re.search('НГУ', y) or re.search('Новосибирский государственный университет', y):\n",
    "        y='НГУ'\n",
    "        # НГУ Наталии Нестеровой\n",
    "    elif re.search('МИФИ', y) or re.search('Московский инженерно-физический институт', y):\n",
    "        y='МИФИ'\n",
    "        # Какие-то Техникум ДИТИ НИЯУ МИФИ и прочее...\n",
    "    elif re.search('ТомГУ', y) or re.search('Томский политехнический университет', y):\n",
    "        y='ТомГУ'\n",
    "    else:\n",
    "        y='NO'\n",
    "    return y != 'NO'\n",
    "        \n",
    "# Дальше завожу колонку: parsed_uni по этому правилу -- 1 если хотя бы 1 уник топовый\n",
    "# И там заменяю значения и вывожу равно ли МГУ / етц.\n",
    "\n",
    "xs = []\n",
    "for x in df.index:\n",
    "    stroke = df.iloc[x].loc[['Образование-1', 'Образование-2']]\n",
    "    k2 = False\n",
    "    if type(stroke[0]) != float:\n",
    "        k1 = is_top(stroke[0])\n",
    "    if type(stroke[1]) != float:\n",
    "        k2 = is_top(stroke[1])\n",
    "    xs.append(k1 or k2)\n",
    "    \n",
    "df['Топовость образования']=xs"
   ]
  },
  {
   "cell_type": "markdown",
   "id": "b04c4f13-a5df-4ab9-bce2-ab3382c85d3a",
   "metadata": {},
   "source": [
    "**Флаг, что текст на eng:**"
   ]
  },
  {
   "cell_type": "markdown",
   "id": "84f6d317-33b4-42f2-a694-ef5e0f29747e",
   "metadata": {},
   "source": [
    "Здесь мы определим, написан ли текст на английском языке. Сделаем это по разделу \"О себе\". Понятно, что если он на английском, то и все резюме на английском, поэтому было выбрано именно это поле. "
   ]
  },
  {
   "cell_type": "markdown",
   "id": "7eac073a-b676-45b1-b995-c2ba23ec279a",
   "metadata": {
    "tags": []
   },
   "source": [
    "Старая версия:\n",
    "\n",
    "```\n",
    "df['О себе']\n",
    "cnt=0\n",
    "\n",
    "for y in df['О себе']:\n",
    "    if type(y)!=float:  # not nan\n",
    "        if re.search('[a–Z]+', y):  # более точно: у английских резюме интересы тоже будут на англ итд, потом подумаю над этим\n",
    "            cnt+=1\n",
    "cnt, df.shape[0]-cnt\n",
    "\n",
    "ts=[]\n",
    "for x in df['О себе']:\n",
    "    t = 'NOT ENG, NOT RU'\n",
    "    if type(x)!=float:  # not nan\n",
    "        t = re.search('[a–Z]+', x)\n",
    "        if t:\n",
    "            t = 'ENG'\n",
    "        else:\n",
    "            t = 'RU'\n",
    "    ts.append(t)\n",
    "df['is_eng?'] = ts\n",
    "```"
   ]
  },
  {
   "cell_type": "code",
   "execution_count": 9,
   "id": "7d0cc12c-0c80-4e84-a001-868d9111fe39",
   "metadata": {},
   "outputs": [],
   "source": [
    "ts = []\n",
    "\n",
    "for i in range(df.shape[0]):\n",
    "    if type(df['Город?'][i])!=float and type(df['Релокация?'][i])!=float and type(df['Коммандировка?'][i])!=float:  # not nan\\\n",
    "        t = re.search('[A-z]+', df['Город?'][i]) or re.search('[A-z]+', df['Релокация?'][i]) or re.search('[A-z]+', df['Коммандировка?'][i])\n",
    "        if t:\n",
    "            t = 'ENG'\n",
    "        else:\n",
    "            t = 'RU'\n",
    "\n",
    "    # print(x, t)\n",
    "    else:\n",
    "        t = '---'\n",
    "    ts.append(t)\n",
    "        \n",
    "df['is_eng?'] = ts"
   ]
  },
  {
   "cell_type": "code",
   "execution_count": 10,
   "id": "65933918-39bd-4558-8280-822498f94a7c",
   "metadata": {},
   "outputs": [],
   "source": [
    "about = df['О себе'].loc[df['is_eng?'] == 'RU']"
   ]
  },
  {
   "cell_type": "code",
   "execution_count": 11,
   "id": "2f11321d-893a-40c4-a6db-0ffa4a626062",
   "metadata": {},
   "outputs": [],
   "source": [
    "df = df.loc[df['is_eng?'] == 'RU']"
   ]
  },
  {
   "cell_type": "code",
   "execution_count": 12,
   "id": "4934fa76-1b7a-4465-81c4-c32adef5a214",
   "metadata": {},
   "outputs": [
    {
     "data": {
      "text/plain": [
       "1      В последние годы проходила обучение без возмож...\n",
       "2                                                    ---\n",
       "3      Имею экономическое образование. Продвинутый по...\n",
       "4      Имеется опыт в создании Android-приложений на ...\n",
       "5      Уверенный пользователь.\\nЖелание оптимизации и...\n",
       "                             ...                        \n",
       "192    Интересно автоматизирование процесса.\\nИнтерес...\n",
       "194    Проходил иностранное обучение в Kaplan Interna...\n",
       "195    Стек технологий:\\n[Имеется опыт]: Excel, Oracl...\n",
       "196    - Обладаю аналитическим складом ума, способен ...\n",
       "197    В резюме отражены последние четыре места работ...\n",
       "Name: О себе, Length: 176, dtype: object"
      ]
     },
     "execution_count": 12,
     "metadata": {},
     "output_type": "execute_result"
    }
   ],
   "source": [
    "about"
   ]
  },
  {
   "cell_type": "code",
   "execution_count": 13,
   "id": "9607ec5d-e2d1-43e3-bc4d-6b8ca4630608",
   "metadata": {},
   "outputs": [
    {
     "data": {
      "text/html": [
       "<div>\n",
       "<style scoped>\n",
       "    .dataframe tbody tr th:only-of-type {\n",
       "        vertical-align: middle;\n",
       "    }\n",
       "\n",
       "    .dataframe tbody tr th {\n",
       "        vertical-align: top;\n",
       "    }\n",
       "\n",
       "    .dataframe thead th {\n",
       "        text-align: right;\n",
       "    }\n",
       "</style>\n",
       "<table border=\"1\" class=\"dataframe\">\n",
       "  <thead>\n",
       "    <tr style=\"text-align: right;\">\n",
       "      <th></th>\n",
       "      <th>Unnamed: 0</th>\n",
       "      <th>Unnamed: 0.1</th>\n",
       "      <th>Ссылка</th>\n",
       "      <th>Название</th>\n",
       "      <th>Коммандировка</th>\n",
       "      <th>Опыт работы, лет</th>\n",
       "      <th>О себе</th>\n",
       "      <th>Образование</th>\n",
       "      <th>Интересы</th>\n",
       "      <th>Навыки</th>\n",
       "      <th>...</th>\n",
       "      <th>Опыт нормализованный</th>\n",
       "      <th>Топовость образования</th>\n",
       "      <th>is_eng?</th>\n",
       "      <th>Уровень оборазования нормализованный</th>\n",
       "      <th>Навыки списком</th>\n",
       "      <th>Релокация?</th>\n",
       "      <th>Коммандировка?</th>\n",
       "      <th>Город?</th>\n",
       "      <th>Аналитические комбинации слов</th>\n",
       "      <th>Справочник по интересам</th>\n",
       "    </tr>\n",
       "  </thead>\n",
       "  <tbody>\n",
       "    <tr>\n",
       "      <th>1</th>\n",
       "      <td>1</td>\n",
       "      <td>1</td>\n",
       "      <td>https://hh.ru/resume/628596ac000657935b0039ed1...</td>\n",
       "      <td>BI аналитик</td>\n",
       "      <td>Москва, не готова к переезду, готова к редким ...</td>\n",
       "      <td>Опыт работы 1 год 5 месяцев</td>\n",
       "      <td>В последние годы проходила обучение без возмож...</td>\n",
       "      <td>Высшее образование (Бакалавр)\\n2022\\nНациональ...</td>\n",
       "      <td>Специализации:\\nBI-аналитик, аналитик данных\\n...</td>\n",
       "      <td>Ключевые навыки\\nTableau\\nPower BI\\nSQL\\nMS Ex...</td>\n",
       "      <td>...</td>\n",
       "      <td>1;5</td>\n",
       "      <td>True</td>\n",
       "      <td>RU</td>\n",
       "      <td>Бакалавр</td>\n",
       "      <td>['Ключевые навыки', 'Tableau', 'Power BI', 'SQ...</td>\n",
       "      <td>готова к редким командировкам</td>\n",
       "      <td>не готова к переезду</td>\n",
       "      <td>Москва</td>\n",
       "      <td>---</td>\n",
       "      <td>found smt by rule (Analyst)|(Аналитик данных)|...</td>\n",
       "    </tr>\n",
       "    <tr>\n",
       "      <th>2</th>\n",
       "      <td>2</td>\n",
       "      <td>2</td>\n",
       "      <td>https://hh.ru/resume/dfbcae000004342d8f0039ed1...</td>\n",
       "      <td>BI аналитик</td>\n",
       "      <td>Москва, не готова к переезду, готова к команди...</td>\n",
       "      <td>Опыт работы 3 года 3 месяца</td>\n",
       "      <td>---</td>\n",
       "      <td>Высшее образование (Бакалавр)\\n2019\\nСамарский...</td>\n",
       "      <td>Специализации:\\nBI-аналитик, аналитик данных\\n...</td>\n",
       "      <td>Ключевые навыки\\nPython\\nSQL\\nУмение работать ...</td>\n",
       "      <td>...</td>\n",
       "      <td>3;3</td>\n",
       "      <td>False</td>\n",
       "      <td>RU</td>\n",
       "      <td>Бакалавр</td>\n",
       "      <td>['Ключевые навыки', 'Python', 'SQL', 'Умение р...</td>\n",
       "      <td>готова к командировкам</td>\n",
       "      <td>не готова к переезду</td>\n",
       "      <td>Москва</td>\n",
       "      <td>---</td>\n",
       "      <td>found smt by rule (Analyst)|(Аналитик данных)|...</td>\n",
       "    </tr>\n",
       "    <tr>\n",
       "      <th>3</th>\n",
       "      <td>3</td>\n",
       "      <td>3</td>\n",
       "      <td>https://hh.ru/resume/bebf6a630008069d8c0039ed1...</td>\n",
       "      <td>Аналитик</td>\n",
       "      <td>Санкт-Петербург, м. Гражданский проспект, гото...</td>\n",
       "      <td>Опыт работы 7 лет 2 месяца</td>\n",
       "      <td>Имею экономическое образование. Продвинутый по...</td>\n",
       "      <td>Высшее образование (Бакалавр)\\n2015\\nСанкт-Пет...</td>\n",
       "      <td>Специализации:\\nАналитик\\nЗанятость: полная за...</td>\n",
       "      <td>Ключевые навыки\\nЭкономический анализ\\nЭкономи...</td>\n",
       "      <td>...</td>\n",
       "      <td>7;2</td>\n",
       "      <td>False</td>\n",
       "      <td>RU</td>\n",
       "      <td>Бакалавр</td>\n",
       "      <td>['Ключевые навыки', 'Экономический анализ', 'Э...</td>\n",
       "      <td>готов к командировкам</td>\n",
       "      <td>готов к переезду</td>\n",
       "      <td>Санкт</td>\n",
       "      <td>found smt by rule (SQL)|(Excel)|(Python)|(Tabl...</td>\n",
       "      <td>found smt by rule (Analyst)|(Аналитик данных)|...</td>\n",
       "    </tr>\n",
       "    <tr>\n",
       "      <th>4</th>\n",
       "      <td>4</td>\n",
       "      <td>4</td>\n",
       "      <td>https://hh.ru/resume/8606f37b000773de980039ed1...</td>\n",
       "      <td>Программист-разработчик</td>\n",
       "      <td>Москва, м. Петровско-Разумовская, не готов к п...</td>\n",
       "      <td>Опыт работы 1 год 1 месяц</td>\n",
       "      <td>Имеется опыт в создании Android-приложений на ...</td>\n",
       "      <td>Высшее образование (Бакалавр)\\n2022\\nЧелябинск...</td>\n",
       "      <td>Специализации:\\nПрограммист, разработчик\\nЗаня...</td>\n",
       "      <td>Ключевые навыки\\nАдминистрирование серверов Li...</td>\n",
       "      <td>...</td>\n",
       "      <td>1;1</td>\n",
       "      <td>False</td>\n",
       "      <td>RU</td>\n",
       "      <td>Бакалавр</td>\n",
       "      <td>['Ключевые навыки', 'Администрирование серверо...</td>\n",
       "      <td>не готов к командировкам</td>\n",
       "      <td>не готов к переезду</td>\n",
       "      <td>Москва</td>\n",
       "      <td>found smt by rule (SQL)|(Excel)|(Python)|(Tabl...</td>\n",
       "      <td>---</td>\n",
       "    </tr>\n",
       "    <tr>\n",
       "      <th>5</th>\n",
       "      <td>5</td>\n",
       "      <td>5</td>\n",
       "      <td>https://hh.ru/resume/993bd0980002dd6cff0039ed1...</td>\n",
       "      <td>Аналитик Bi</td>\n",
       "      <td>Москва, м. Сокол, готов к переезду, готов к ко...</td>\n",
       "      <td>Опыт работы 10 лет 7 месяцев</td>\n",
       "      <td>Уверенный пользователь.\\nЖелание оптимизации и...</td>\n",
       "      <td>Высшее образование\\n2010\\nДальневосточный госу...</td>\n",
       "      <td>Специализации:\\nАналитик\\nBI-аналитик, аналити...</td>\n",
       "      <td>Ключевые навыки\\nБюджетирование\\nЭкономический...</td>\n",
       "      <td>...</td>\n",
       "      <td>10;7</td>\n",
       "      <td>False</td>\n",
       "      <td>RU</td>\n",
       "      <td>Высшее образование</td>\n",
       "      <td>['Ключевые навыки', 'Бюджетирование', 'Экономи...</td>\n",
       "      <td>готов к командировкам</td>\n",
       "      <td>готов к переезду</td>\n",
       "      <td>Москва</td>\n",
       "      <td>found smt by rule (SQL)|(Excel)|(Python)|(Tabl...</td>\n",
       "      <td>found smt by rule (Analyst)|(Аналитик данных)|...</td>\n",
       "    </tr>\n",
       "    <tr>\n",
       "      <th>...</th>\n",
       "      <td>...</td>\n",
       "      <td>...</td>\n",
       "      <td>...</td>\n",
       "      <td>...</td>\n",
       "      <td>...</td>\n",
       "      <td>...</td>\n",
       "      <td>...</td>\n",
       "      <td>...</td>\n",
       "      <td>...</td>\n",
       "      <td>...</td>\n",
       "      <td>...</td>\n",
       "      <td>...</td>\n",
       "      <td>...</td>\n",
       "      <td>...</td>\n",
       "      <td>...</td>\n",
       "      <td>...</td>\n",
       "      <td>...</td>\n",
       "      <td>...</td>\n",
       "      <td>...</td>\n",
       "      <td>...</td>\n",
       "      <td>...</td>\n",
       "    </tr>\n",
       "    <tr>\n",
       "      <th>192</th>\n",
       "      <td>192</td>\n",
       "      <td>192</td>\n",
       "      <td>https://hh.ru/resume/1a2eedab0009325a2d0039ed1...</td>\n",
       "      <td>Бизнес-аналитик</td>\n",
       "      <td>Москва, м. Октябрьское поле, не готова к перее...</td>\n",
       "      <td>Опыт работы 3 года 10 месяцев</td>\n",
       "      <td>Интересно автоматизирование процесса.\\nИнтерес...</td>\n",
       "      <td>Высшее образование\\n2014\\nИвановский государст...</td>\n",
       "      <td>Специализации:\\nАналитик\\nБизнес-аналитик\\nЗан...</td>\n",
       "      <td>Ключевые навыки\\n1С: Предприятие\\nBPMN\\nIDEF0\\...</td>\n",
       "      <td>...</td>\n",
       "      <td>3;10</td>\n",
       "      <td>False</td>\n",
       "      <td>RU</td>\n",
       "      <td>Высшее образование</td>\n",
       "      <td>['Ключевые навыки', '1С: Предприятие', 'BPMN',...</td>\n",
       "      <td>готова к командировкам</td>\n",
       "      <td>не готова к переезду</td>\n",
       "      <td>Москва</td>\n",
       "      <td>found smt by rule (SQL)|(Excel)|(Python)|(Tabl...</td>\n",
       "      <td>found smt by rule (Analyst)|(Аналитик данных)|...</td>\n",
       "    </tr>\n",
       "    <tr>\n",
       "      <th>194</th>\n",
       "      <td>194</td>\n",
       "      <td>194</td>\n",
       "      <td>https://hh.ru/resume/c0d0ac9b0002b4446d0039ed1...</td>\n",
       "      <td>Аналитик</td>\n",
       "      <td>Москва, м. Планерная, не готов к переезду, не ...</td>\n",
       "      <td>Опыт работы 5 лет</td>\n",
       "      <td>Проходил иностранное обучение в Kaplan Interna...</td>\n",
       "      <td>Высшее образование\\n2015\\nРоссийский экономиче...</td>\n",
       "      <td>Специализации:\\nАналитик\\nЗанятость: стажировк...</td>\n",
       "      <td>Ключевые навыки\\nАнглийский язык\\nРабота в ком...</td>\n",
       "      <td>...</td>\n",
       "      <td>5;</td>\n",
       "      <td>False</td>\n",
       "      <td>RU</td>\n",
       "      <td>Высшее образование</td>\n",
       "      <td>['Ключевые навыки', 'Английский язык', 'Работа...</td>\n",
       "      <td>не готов к командировкам</td>\n",
       "      <td>не готов к переезду</td>\n",
       "      <td>Москва</td>\n",
       "      <td>found smt by rule (SQL)|(Excel)|(Python)|(Tabl...</td>\n",
       "      <td>found smt by rule (Analyst)|(Аналитик данных)|...</td>\n",
       "    </tr>\n",
       "    <tr>\n",
       "      <th>195</th>\n",
       "      <td>195</td>\n",
       "      <td>195</td>\n",
       "      <td>https://hh.ru/resume/8b2d7d4700092277b60039ed1...</td>\n",
       "      <td>Product Analyst</td>\n",
       "      <td>Москва, м. Текстильщики, готов к переезду, гот...</td>\n",
       "      <td>Опыт работы 11 месяцев</td>\n",
       "      <td>Стек технологий:\\n[Имеется опыт]: Excel, Oracl...</td>\n",
       "      <td>Высшее образование (Бакалавр)\\n2019\\nСибирский...</td>\n",
       "      <td>Специализации:\\nРуководитель проектов\\nМенедже...</td>\n",
       "      <td>Ключевые навыки\\nРабота в команде\\nУправление ...</td>\n",
       "      <td>...</td>\n",
       "      <td>0;11</td>\n",
       "      <td>False</td>\n",
       "      <td>RU</td>\n",
       "      <td>Бакалавр</td>\n",
       "      <td>['Ключевые навыки', 'Работа в команде', 'Управ...</td>\n",
       "      <td>готов к редким командировкам</td>\n",
       "      <td>готов к переезду</td>\n",
       "      <td>Москва</td>\n",
       "      <td>found smt by rule (SQL)|(Excel)|(Python)|(Tabl...</td>\n",
       "      <td>---</td>\n",
       "    </tr>\n",
       "    <tr>\n",
       "      <th>196</th>\n",
       "      <td>196</td>\n",
       "      <td>196</td>\n",
       "      <td>https://hh.ru/resume/02dd13850000e335750039ed1...</td>\n",
       "      <td>Аналитик данных</td>\n",
       "      <td>Казань, м. Дубравная , готов к переезду (Москв...</td>\n",
       "      <td>Опыт работы 16 лет 10 месяцев</td>\n",
       "      <td>- Обладаю аналитическим складом ума, способен ...</td>\n",
       "      <td>Высшее образование\\n2006\\nРоссийский государст...</td>\n",
       "      <td>Специализации:\\nBI-аналитик, аналитик данных\\n...</td>\n",
       "      <td>Ключевые навыки\\nФинансовый анализ\\nSQL\\nMicro...</td>\n",
       "      <td>...</td>\n",
       "      <td>16;10</td>\n",
       "      <td>False</td>\n",
       "      <td>RU</td>\n",
       "      <td>Высшее образование</td>\n",
       "      <td>['Ключевые навыки', 'Финансовый анализ', 'SQL'...</td>\n",
       "      <td>готов к редким командировкам</td>\n",
       "      <td>готов к переезду</td>\n",
       "      <td>Казань</td>\n",
       "      <td>found smt by rule (SQL)|(Excel)|(Python)|(Tabl...</td>\n",
       "      <td>found smt by rule (Analyst)|(Аналитик данных)|...</td>\n",
       "    </tr>\n",
       "    <tr>\n",
       "      <th>197</th>\n",
       "      <td>197</td>\n",
       "      <td>197</td>\n",
       "      <td>https://hh.ru/resume/99787ac10008ef446b0039ed1...</td>\n",
       "      <td>Аналитик</td>\n",
       "      <td>Москва, не готов к переезду, не готов к команд...</td>\n",
       "      <td>Опыт работы 6 лет</td>\n",
       "      <td>В резюме отражены последние четыре места работ...</td>\n",
       "      <td>Высшее образование\\n2009\\nВсероссийский заочны...</td>\n",
       "      <td>Специализации:\\nАналитик\\nЗанятость: полная за...</td>\n",
       "      <td>Ключевые навыки\\nАналитика продаж\\nАналитика з...</td>\n",
       "      <td>...</td>\n",
       "      <td>6;</td>\n",
       "      <td>False</td>\n",
       "      <td>RU</td>\n",
       "      <td>Высшее образование</td>\n",
       "      <td>['Ключевые навыки', 'Аналитика продаж', 'Анали...</td>\n",
       "      <td>не готов к командировкам</td>\n",
       "      <td>не готов к переезду</td>\n",
       "      <td>Москва</td>\n",
       "      <td>found smt by rule (SQL)|(Excel)|(Python)|(Tabl...</td>\n",
       "      <td>found smt by rule (Analyst)|(Аналитик данных)|...</td>\n",
       "    </tr>\n",
       "  </tbody>\n",
       "</table>\n",
       "<p>176 rows × 28 columns</p>\n",
       "</div>"
      ],
      "text/plain": [
       "     Unnamed: 0  Unnamed: 0.1  \\\n",
       "1             1             1   \n",
       "2             2             2   \n",
       "3             3             3   \n",
       "4             4             4   \n",
       "5             5             5   \n",
       "..          ...           ...   \n",
       "192         192           192   \n",
       "194         194           194   \n",
       "195         195           195   \n",
       "196         196           196   \n",
       "197         197           197   \n",
       "\n",
       "                                                Ссылка  \\\n",
       "1    https://hh.ru/resume/628596ac000657935b0039ed1...   \n",
       "2    https://hh.ru/resume/dfbcae000004342d8f0039ed1...   \n",
       "3    https://hh.ru/resume/bebf6a630008069d8c0039ed1...   \n",
       "4    https://hh.ru/resume/8606f37b000773de980039ed1...   \n",
       "5    https://hh.ru/resume/993bd0980002dd6cff0039ed1...   \n",
       "..                                                 ...   \n",
       "192  https://hh.ru/resume/1a2eedab0009325a2d0039ed1...   \n",
       "194  https://hh.ru/resume/c0d0ac9b0002b4446d0039ed1...   \n",
       "195  https://hh.ru/resume/8b2d7d4700092277b60039ed1...   \n",
       "196  https://hh.ru/resume/02dd13850000e335750039ed1...   \n",
       "197  https://hh.ru/resume/99787ac10008ef446b0039ed1...   \n",
       "\n",
       "                    Название  \\\n",
       "1                BI аналитик   \n",
       "2                BI аналитик   \n",
       "3                   Аналитик   \n",
       "4    Программист-разработчик   \n",
       "5                Аналитик Bi   \n",
       "..                       ...   \n",
       "192          Бизнес-аналитик   \n",
       "194                 Аналитик   \n",
       "195          Product Analyst   \n",
       "196          Аналитик данных   \n",
       "197                 Аналитик   \n",
       "\n",
       "                                         Коммандировка  \\\n",
       "1    Москва, не готова к переезду, готова к редким ...   \n",
       "2    Москва, не готова к переезду, готова к команди...   \n",
       "3    Санкт-Петербург, м. Гражданский проспект, гото...   \n",
       "4    Москва, м. Петровско-Разумовская, не готов к п...   \n",
       "5    Москва, м. Сокол, готов к переезду, готов к ко...   \n",
       "..                                                 ...   \n",
       "192  Москва, м. Октябрьское поле, не готова к перее...   \n",
       "194  Москва, м. Планерная, не готов к переезду, не ...   \n",
       "195  Москва, м. Текстильщики, готов к переезду, гот...   \n",
       "196  Казань, м. Дубравная , готов к переезду (Москв...   \n",
       "197  Москва, не готов к переезду, не готов к команд...   \n",
       "\n",
       "                  Опыт работы, лет  \\\n",
       "1      Опыт работы 1 год 5 месяцев   \n",
       "2      Опыт работы 3 года 3 месяца   \n",
       "3       Опыт работы 7 лет 2 месяца   \n",
       "4        Опыт работы 1 год 1 месяц   \n",
       "5     Опыт работы 10 лет 7 месяцев   \n",
       "..                             ...   \n",
       "192  Опыт работы 3 года 10 месяцев   \n",
       "194              Опыт работы 5 лет   \n",
       "195         Опыт работы 11 месяцев   \n",
       "196  Опыт работы 16 лет 10 месяцев   \n",
       "197              Опыт работы 6 лет   \n",
       "\n",
       "                                                О себе  \\\n",
       "1    В последние годы проходила обучение без возмож...   \n",
       "2                                                  ---   \n",
       "3    Имею экономическое образование. Продвинутый по...   \n",
       "4    Имеется опыт в создании Android-приложений на ...   \n",
       "5    Уверенный пользователь.\\nЖелание оптимизации и...   \n",
       "..                                                 ...   \n",
       "192  Интересно автоматизирование процесса.\\nИнтерес...   \n",
       "194  Проходил иностранное обучение в Kaplan Interna...   \n",
       "195  Стек технологий:\\n[Имеется опыт]: Excel, Oracl...   \n",
       "196  - Обладаю аналитическим складом ума, способен ...   \n",
       "197  В резюме отражены последние четыре места работ...   \n",
       "\n",
       "                                           Образование  \\\n",
       "1    Высшее образование (Бакалавр)\\n2022\\nНациональ...   \n",
       "2    Высшее образование (Бакалавр)\\n2019\\nСамарский...   \n",
       "3    Высшее образование (Бакалавр)\\n2015\\nСанкт-Пет...   \n",
       "4    Высшее образование (Бакалавр)\\n2022\\nЧелябинск...   \n",
       "5    Высшее образование\\n2010\\nДальневосточный госу...   \n",
       "..                                                 ...   \n",
       "192  Высшее образование\\n2014\\nИвановский государст...   \n",
       "194  Высшее образование\\n2015\\nРоссийский экономиче...   \n",
       "195  Высшее образование (Бакалавр)\\n2019\\nСибирский...   \n",
       "196  Высшее образование\\n2006\\nРоссийский государст...   \n",
       "197  Высшее образование\\n2009\\nВсероссийский заочны...   \n",
       "\n",
       "                                              Интересы  \\\n",
       "1    Специализации:\\nBI-аналитик, аналитик данных\\n...   \n",
       "2    Специализации:\\nBI-аналитик, аналитик данных\\n...   \n",
       "3    Специализации:\\nАналитик\\nЗанятость: полная за...   \n",
       "4    Специализации:\\nПрограммист, разработчик\\nЗаня...   \n",
       "5    Специализации:\\nАналитик\\nBI-аналитик, аналити...   \n",
       "..                                                 ...   \n",
       "192  Специализации:\\nАналитик\\nБизнес-аналитик\\nЗан...   \n",
       "194  Специализации:\\nАналитик\\nЗанятость: стажировк...   \n",
       "195  Специализации:\\nРуководитель проектов\\nМенедже...   \n",
       "196  Специализации:\\nBI-аналитик, аналитик данных\\n...   \n",
       "197  Специализации:\\nАналитик\\nЗанятость: полная за...   \n",
       "\n",
       "                                                Навыки  ...  \\\n",
       "1    Ключевые навыки\\nTableau\\nPower BI\\nSQL\\nMS Ex...  ...   \n",
       "2    Ключевые навыки\\nPython\\nSQL\\nУмение работать ...  ...   \n",
       "3    Ключевые навыки\\nЭкономический анализ\\nЭкономи...  ...   \n",
       "4    Ключевые навыки\\nАдминистрирование серверов Li...  ...   \n",
       "5    Ключевые навыки\\nБюджетирование\\nЭкономический...  ...   \n",
       "..                                                 ...  ...   \n",
       "192  Ключевые навыки\\n1С: Предприятие\\nBPMN\\nIDEF0\\...  ...   \n",
       "194  Ключевые навыки\\nАнглийский язык\\nРабота в ком...  ...   \n",
       "195  Ключевые навыки\\nРабота в команде\\nУправление ...  ...   \n",
       "196  Ключевые навыки\\nФинансовый анализ\\nSQL\\nMicro...  ...   \n",
       "197  Ключевые навыки\\nАналитика продаж\\nАналитика з...  ...   \n",
       "\n",
       "    Опыт нормализованный Топовость образования is_eng?  \\\n",
       "1                    1;5                  True      RU   \n",
       "2                    3;3                 False      RU   \n",
       "3                    7;2                 False      RU   \n",
       "4                    1;1                 False      RU   \n",
       "5                   10;7                 False      RU   \n",
       "..                   ...                   ...     ...   \n",
       "192                 3;10                 False      RU   \n",
       "194                   5;                 False      RU   \n",
       "195                 0;11                 False      RU   \n",
       "196                16;10                 False      RU   \n",
       "197                   6;                 False      RU   \n",
       "\n",
       "     Уровень оборазования нормализованный  \\\n",
       "1                                Бакалавр   \n",
       "2                                Бакалавр   \n",
       "3                                Бакалавр   \n",
       "4                                Бакалавр   \n",
       "5                      Высшее образование   \n",
       "..                                    ...   \n",
       "192                    Высшее образование   \n",
       "194                    Высшее образование   \n",
       "195                              Бакалавр   \n",
       "196                    Высшее образование   \n",
       "197                    Высшее образование   \n",
       "\n",
       "                                        Навыки списком  \\\n",
       "1    ['Ключевые навыки', 'Tableau', 'Power BI', 'SQ...   \n",
       "2    ['Ключевые навыки', 'Python', 'SQL', 'Умение р...   \n",
       "3    ['Ключевые навыки', 'Экономический анализ', 'Э...   \n",
       "4    ['Ключевые навыки', 'Администрирование серверо...   \n",
       "5    ['Ключевые навыки', 'Бюджетирование', 'Экономи...   \n",
       "..                                                 ...   \n",
       "192  ['Ключевые навыки', '1С: Предприятие', 'BPMN',...   \n",
       "194  ['Ключевые навыки', 'Английский язык', 'Работа...   \n",
       "195  ['Ключевые навыки', 'Работа в команде', 'Управ...   \n",
       "196  ['Ключевые навыки', 'Финансовый анализ', 'SQL'...   \n",
       "197  ['Ключевые навыки', 'Аналитика продаж', 'Анали...   \n",
       "\n",
       "                         Релокация?         Коммандировка?  Город?  \\\n",
       "1     готова к редким командировкам   не готова к переезду  Москва   \n",
       "2            готова к командировкам   не готова к переезду  Москва   \n",
       "3             готов к командировкам       готов к переезду   Санкт   \n",
       "4          не готов к командировкам    не готов к переезду  Москва   \n",
       "5             готов к командировкам       готов к переезду  Москва   \n",
       "..                              ...                    ...     ...   \n",
       "192          готова к командировкам   не готова к переезду  Москва   \n",
       "194        не готов к командировкам    не готов к переезду  Москва   \n",
       "195    готов к редким командировкам       готов к переезду  Москва   \n",
       "196    готов к редким командировкам       готов к переезду  Казань   \n",
       "197        не готов к командировкам    не готов к переезду  Москва   \n",
       "\n",
       "                         Аналитические комбинации слов  \\\n",
       "1                                                  ---   \n",
       "2                                                  ---   \n",
       "3    found smt by rule (SQL)|(Excel)|(Python)|(Tabl...   \n",
       "4    found smt by rule (SQL)|(Excel)|(Python)|(Tabl...   \n",
       "5    found smt by rule (SQL)|(Excel)|(Python)|(Tabl...   \n",
       "..                                                 ...   \n",
       "192  found smt by rule (SQL)|(Excel)|(Python)|(Tabl...   \n",
       "194  found smt by rule (SQL)|(Excel)|(Python)|(Tabl...   \n",
       "195  found smt by rule (SQL)|(Excel)|(Python)|(Tabl...   \n",
       "196  found smt by rule (SQL)|(Excel)|(Python)|(Tabl...   \n",
       "197  found smt by rule (SQL)|(Excel)|(Python)|(Tabl...   \n",
       "\n",
       "                               Справочник по интересам  \n",
       "1    found smt by rule (Analyst)|(Аналитик данных)|...  \n",
       "2    found smt by rule (Analyst)|(Аналитик данных)|...  \n",
       "3    found smt by rule (Analyst)|(Аналитик данных)|...  \n",
       "4                                                  ---  \n",
       "5    found smt by rule (Analyst)|(Аналитик данных)|...  \n",
       "..                                                 ...  \n",
       "192  found smt by rule (Analyst)|(Аналитик данных)|...  \n",
       "194  found smt by rule (Analyst)|(Аналитик данных)|...  \n",
       "195                                                ---  \n",
       "196  found smt by rule (Analyst)|(Аналитик данных)|...  \n",
       "197  found smt by rule (Analyst)|(Аналитик данных)|...  \n",
       "\n",
       "[176 rows x 28 columns]"
      ]
     },
     "execution_count": 13,
     "metadata": {},
     "output_type": "execute_result"
    }
   ],
   "source": [
    "df"
   ]
  },
  {
   "cell_type": "markdown",
   "id": "ae9bdbb5-b7e5-4a9b-afd2-7922eea84c45",
   "metadata": {},
   "source": [
    "**Справочник по интересам:**"
   ]
  },
  {
   "cell_type": "markdown",
   "id": "c05d56dc-12e8-40db-bb98-f3cae8656a3f",
   "metadata": {},
   "source": [
    "Есть ли аналитические комбинации слов в интересах? Используем простое правило для простоты."
   ]
  },
  {
   "cell_type": "code",
   "execution_count": 14,
   "id": "56b4a5f8-bc4a-4078-8aa2-a8c910b8c151",
   "metadata": {
    "tags": []
   },
   "outputs": [],
   "source": [
    "inter_list = []\n",
    "\n",
    "for inter in df['Интересы']:\n",
    "    intr = inter.split('\\n')\n",
    "    if re.search('(Analyst)|(Аналитик данных)|(аналитик)|(Аналитик)', inter):\n",
    "        inter_list.append('found smt by rule (Analyst)|(Аналитик данных)|(аналитик)|(Аналитик)')\n",
    "    else:\n",
    "        inter_list.append('---')\n",
    "        \n",
    "df['Справочник по интересам']= inter_list"
   ]
  },
  {
   "cell_type": "markdown",
   "id": "1cbbdfab-1c22-4bf8-bcdc-b17a7593731f",
   "metadata": {},
   "source": [
    "**Извлечение сущностей:**"
   ]
  },
  {
   "cell_type": "markdown",
   "id": "989787d7-a218-465e-93e2-b06fc6d3aa4e",
   "metadata": {},
   "source": [
    "На сайте hh.ru единое поле для трех объектов сразу. Разъединим их с учетом разных знаяений и того, что они перечислены просто через запятую."
   ]
  },
  {
   "cell_type": "code",
   "execution_count": 25,
   "id": "6524a243-c113-4d0d-887a-7cc49f660bc7",
   "metadata": {},
   "outputs": [],
   "source": [
    "xs1 = []\n",
    "xs2=[]\n",
    "xs3=[]\n",
    "for x in df['Коммандировка']:\n",
    "    # english\n",
    "    x1 = re.search('[A-z]+', x)\n",
    "    x2 = re.search('[a-z ]*willing to relocate', x)\n",
    "    x3 = re.search('[a-z ]*prepared for [a-z]* business trips', x)\n",
    "    if x1:\n",
    "        x1=x1[0]\n",
    "    if x2:\n",
    "        x2=x2[0]\n",
    "    if x3:\n",
    "        x3=x3[0]\n",
    "    \n",
    "    if x1 or x2 or x3:  # if found smt in engish — is it not wrong way to do it?\n",
    "        xs1.append(x1)\n",
    "        xs2.append(x2)\n",
    "        xs3.append(x3)\n",
    "    else:\n",
    "        # russian — work in progress\n",
    "        # Москва, не готова к переезду, готова к редким командировкам\n",
    "        # Санкт-Петербург, м. Гражданский проспект, готов к переезду (Москва), готов к командировкам\n",
    "        # Москва, готов к переезду (Нидерланды, Испания, Франция, Италия, Австрия, Германия, Швейцария), готов к командировкам\n",
    "        # Москва, хочу переехать, готов к командировкам\n",
    "        # Москва, м. Ясенево, не готов к переезду, готов к редким командировкам\n",
    "        x1 = re.search('[А-я]+', x)  # is it correct?\n",
    "        x2 = re.search('[А-я]*[ не]*готов[а]* к переезду', x)\n",
    "        x3 = re.search('[А-я]*[ не]*готов[а]* к[ а-я]* командировкам', x)  # черновое правило\n",
    "        if x1:\n",
    "            x1=x1[0]\n",
    "        if x2:\n",
    "            x2=x2[0]\n",
    "        if x3:\n",
    "            x3=x3[0]\n",
    "        xs1.append(x1)\n",
    "        xs2.append(x2)\n",
    "        xs3.append(x3)\n",
    "\n",
    "zs = []\n",
    "for z in df['Навыки']:\n",
    "    zzz = z.split('\\n')\n",
    "    zs.append(zzz)\n",
    "    \n",
    "df['Навыки списком'] = zs\n",
    "df['Релокация?'] = xs3\n",
    "df['Коммандировка?'] = xs2\n",
    "df['Город?'] = xs1\n",
    "\n",
    "\"\"\"\n",
    "1. Коммандировка \n",
    "2. Навыки\n",
    "3. Кол-во работ\n",
    "4. Наличие аналитических комбинаций слов в работе — новый столбец\n",
    "\"\"\"\n",
    "\n",
    "import numpy as np\n",
    "import re\n",
    "\n",
    "#print(df['Коммандировка'][0])\n",
    "#print(re.search('[A-z]+', df['Коммандировка'][0Z]))\n",
    "#print(re.search('[a-z ]*willing to relocate', df['Коммандировка'][8]))\n",
    "#print(re.search('[a-z ]*prepared for business trips', df['Коммандировка'][8]))\n",
    "\n",
    "#print(df['Коммандировка'][0])\n",
    "#print(re.search('[A-z]+', df['Коммандировка'][0]))\n",
    "#print(re.search('[a-z ]*willing to relocate', df['Коммандировка'][0]))\n",
    "#print(re.search('[a-z ]*prepared for [a-z]* business trips', df['Коммандировка'][0]))\n",
    "\n",
    "df['Навыки'].iloc[0].split('\\n')  # вот так?\n",
    "\n",
    "work_list = df['Где работал?']\n",
    "analytics_words = []\n",
    "for work in work_list:\n",
    "    # пока супер примитивное правило:\n",
    "    if re.search('(SQL)|(Excel)|(Python)|(Tableau)|(Power BI)', work):\n",
    "        analytics_words.append('found smt by rule (SQL)|(Excel)|(Python)|(Tableau)|(Power BI)')\n",
    "    else:\n",
    "        analytics_words.append('---')\n",
    "df['Аналитические комбинации слов'] = analytics_words"
   ]
  },
  {
   "cell_type": "markdown",
   "id": "dc848740-d3e2-4f73-8eb6-d626f1093d62",
   "metadata": {},
   "source": [
    "**Перевод уровня образования:**"
   ]
  },
  {
   "cell_type": "markdown",
   "id": "5ac18168-d606-4f37-acab-8733e27f6d83",
   "metadata": {},
   "source": [
    "Определим уровень образования (высшее, ... — какие возможные значения?). Мы увидели разные стили написания. Составить в Markdown таблицу перевода."
   ]
  },
  {
   "cell_type": "code",
   "execution_count": 32,
   "id": "9c9537c7-6703-4d0c-bffc-e7db696f2384",
   "metadata": {
    "tags": []
   },
   "outputs": [
    {
     "name": "stdout",
     "output_type": "stream",
     "text": [
      "Высшее образование\n",
      "Бакалавр\n",
      "Магистр\n",
      "Неоконченное высшее образование\n",
      "Среднее специальное образование\n"
     ]
    }
   ],
   "source": [
    "z = list(np.unique(list(df['Уровень образование'])))\n",
    "\n",
    "for y in z:\n",
    "    y=y.removeprefix('Higher education ')\n",
    "    y=y.replace('(', '').replace(')', '')\n",
    "    y=y.replace('bachelor', 'Бакалавр').replace('master', 'Магистр')\n",
    "    y=y.replace('Doctor of Science', 'PhD').replace('PhD', 'Доктор наук')\n",
    "    \n",
    "    y=y.removeprefix('Высшее образование ')\n",
    "    y=y.replace('Higher education', 'Высшее образование')\n",
    "    y=y.replace('Incomplete higher education', 'Неоконченное высшее образование')\n",
    "    y=y.replace('Secondary education', 'Среднее образование')\n",
    "    y=y.replace('Secondary special education', 'Среднее специальное образование')\n",
    "    print(y)\n",
    "    \n",
    "ys=[]\n",
    "for y in df['Уровень образование']:\n",
    "    y=y.removeprefix('Higher education ')\n",
    "    y=y.replace('(', '').replace(')', '')\n",
    "    y=y.replace('bachelor', 'Бакалавр').replace('master', 'Магистр')\n",
    "    y=y.replace('Doctor of Science', 'PhD').replace('PhD', 'Доктор наук')\n",
    "    \n",
    "    y=y.removeprefix('Высшее образование ')\n",
    "    y=y.replace('Higher education', 'Высшее образование')\n",
    "    y=y.replace('Incomplete higher education', 'Неоконченное высшее образование')\n",
    "    y=y.replace('Secondary education', 'Среднее образование')\n",
    "    y=y.replace('Secondary special education', 'Среднее специальное образование')\n",
    "    ys.append(y)\n",
    "df['Уровень оборазования нормализованный'] = ys"
   ]
  },
  {
   "cell_type": "markdown",
   "id": "071bd9fd-310c-432a-a6fa-20ab5c30d354",
   "metadata": {},
   "source": [
    "**Сохранение результатов:**"
   ]
  },
  {
   "cell_type": "code",
   "execution_count": 33,
   "id": "3ac3ef42-96b0-4eb5-afd1-50b71cf3553c",
   "metadata": {},
   "outputs": [
    {
     "data": {
      "text/plain": [
       "['Unnamed: 0',\n",
       " 'Unnamed: 0.1',\n",
       " 'Ссылка',\n",
       " 'Название',\n",
       " 'Коммандировка',\n",
       " 'Опыт работы, лет']"
      ]
     },
     "execution_count": 33,
     "metadata": {},
     "output_type": "execute_result"
    }
   ],
   "source": [
    "list(df)[:6]"
   ]
  },
  {
   "cell_type": "markdown",
   "id": "0b7e1cb1-1b4c-4d33-bc30-dea0978af1f5",
   "metadata": {},
   "source": [
    "**Теперь немного про карьерный рост:**"
   ]
  },
  {
   "cell_type": "markdown",
   "id": "5f7355f8-b3da-4fab-a247-2d84884a30e6",
   "metadata": {},
   "source": [
    "```\n",
    "#df['Работа']\n",
    "list(df)\n",
    "```\n",
    "\n",
    "для списка карьерного роста надо будет собрать список компаний где был и найти там совпадения, на текущих данных так сделать нельзя"
   ]
  },
  {
   "cell_type": "code",
   "execution_count": 43,
   "id": "36813204-5a3d-4c8b-8cce-8af010873f24",
   "metadata": {},
   "outputs": [
    {
     "name": "stderr",
     "output_type": "stream",
     "text": [
      "/var/folders/0k/pk7zyw6x2sqcjpbqvgf0ssh80000gn/T/ipykernel_9946/2299280398.py:1: DeprecationWarning: executable_path has been deprecated, please pass in a Service object\n",
      "  driver = webdriver.Chrome('./chromedriver')\n"
     ]
    }
   ],
   "source": [
    "driver = webdriver.Chrome('./chromedriver')"
   ]
  },
  {
   "cell_type": "markdown",
   "id": "1c69e81e-823d-44cf-9a73-3f93afd1eae4",
   "metadata": {},
   "source": [
    "Добавим еще один признак — карьерный рост: есть ли повторения в опыте работы? (Тоже наверх это)"
   ]
  },
  {
   "cell_type": "code",
   "execution_count": 44,
   "id": "60b3d4cd-48f7-4cb1-a372-2a05b2a14be2",
   "metadata": {},
   "outputs": [],
   "source": [
    "repet = []"
   ]
  },
  {
   "cell_type": "code",
   "execution_count": 45,
   "id": "4c7da128-e5f0-4576-a9f3-909d8ac16de4",
   "metadata": {
    "tags": []
   },
   "outputs": [],
   "source": [
    "for i in range(df.shape[0]):\n",
    "    driver.get(df.iloc[i]['Ссылка'])\n",
    "    work = driver.find_elements(by=By.XPATH, \n",
    "                             value='//div[@data-qa=\"resume-block-experience\"][@class=\"resume-block\"]//div[@class=\"resume-block-container\"]')\n",
    "    w = driver.find_elements(by=By.XPATH, \n",
    "                             value='//div[@data-qa=\"resume-block-experience\"][@class=\"resume-block\"]//div[@class=\"resume-block-container\"]/div[@class=\"bloko-text bloko-text_strong\"][not(@data-qa=\"resume-block-experience-position\")]//span')\n",
    "    \n",
    "    works = []\n",
    "    for ww in w:\n",
    "        works.append(ww.text)\n",
    "    \n",
    "    works_normilized = []\n",
    "    for w in works:\n",
    "        works_normilized.append(morph.normal_forms(w)[0])\n",
    "    \n",
    "    repet.append(len(set(works_normilized)) - len(works_normilized) < 0)"
   ]
  },
  {
   "cell_type": "markdown",
   "id": "4b651fff-8a98-4601-b95d-e70014207611",
   "metadata": {},
   "source": [
    "проверить, правда ли так много людей с повышениями:"
   ]
  },
  {
   "cell_type": "code",
   "execution_count": 46,
   "id": "96d8c653-94ad-46d9-b3ef-3d67deb2b917",
   "metadata": {},
   "outputs": [
    {
     "data": {
      "text/plain": [
       "[True, False, False]"
      ]
     },
     "execution_count": 46,
     "metadata": {},
     "output_type": "execute_result"
    }
   ],
   "source": [
    "repet[:3]"
   ]
  },
  {
   "cell_type": "markdown",
   "id": "1cbb77ce-44a1-4c33-b81d-63efccbbe6f3",
   "metadata": {},
   "source": [
    "теперь для нормализованных названий найти повторения: `len(set(works)) - len(works) > 0` — и чекнуть адекватность такого определения"
   ]
  },
  {
   "cell_type": "markdown",
   "id": "845fe65c-624f-4c30-97b2-99881a8265d9",
   "metadata": {},
   "source": [
    "^ почти готово"
   ]
  },
  {
   "cell_type": "markdown",
   "id": "e4d6260a-77c6-4729-aed7-fc4b876bd208",
   "metadata": {},
   "source": [
    "**Для экономии времени — ведь этот признак был придуман позже**"
   ]
  },
  {
   "cell_type": "code",
   "execution_count": 48,
   "id": "b4063cda-f31a-4ad7-8e60-89a92a9d1de4",
   "metadata": {},
   "outputs": [],
   "source": [
    "df['Карьерный рост'] = repet"
   ]
  },
  {
   "cell_type": "markdown",
   "id": "d3c69944-9690-44fd-afad-97fc0390a7c0",
   "metadata": {},
   "source": [
    "_куда-то надо сохранить этот новый датасет в приличное место (или вообще туда же, просто старую версию датасета переместить в backup)_:"
   ]
  },
  {
   "cell_type": "code",
   "execution_count": null,
   "id": "d0a295d4-5fee-4a91-b62d-86915180d75e",
   "metadata": {},
   "outputs": [],
   "source": [
    "# dataset.save()"
   ]
  },
  {
   "cell_type": "markdown",
   "id": "b523cb0c-fdcd-4418-915d-47c2912f23ad",
   "metadata": {},
   "source": [
    "а также я давно хотел заняться топовостью обоазования"
   ]
  },
  {
   "cell_type": "markdown",
   "id": "e8df2c62-ddfd-4451-8f04-836c0dfb6a26",
   "metadata": {},
   "source": [
    "вообще там вроде все ок, тогда посмотрю вручную при разметке есть ли проблемы и почему, составлю список прямо"
   ]
  },
  {
   "cell_type": "code",
   "execution_count": 34,
   "id": "1b01f30a-518f-41ff-9c45-7f8ba0c4e0f3",
   "metadata": {},
   "outputs": [],
   "source": [
    "# df=df.drop(list(df)[0], axis=1)"
   ]
  },
  {
   "cell_type": "markdown",
   "id": "99daa848-aa15-4e42-9b67-2d9e38375b57",
   "metadata": {},
   "source": [
    "Сохраним полученные результаты:"
   ]
  },
  {
   "cell_type": "code",
   "execution_count": 49,
   "id": "0e09cef9-5ca8-48fd-aa74-e14f7f61a759",
   "metadata": {},
   "outputs": [],
   "source": [
    "df.to_csv('resumes_features.csv')"
   ]
  },
  {
   "cell_type": "markdown",
   "id": "79da3846-3f25-4a8c-ade8-962a5830dd88",
   "metadata": {},
   "source": [
    "### Что дальше? (Раньше было частью черновика)"
   ]
  },
  {
   "cell_type": "code",
   "execution_count": null,
   "id": "ee998dbb-7ad8-4ab6-a69a-e101c89c0232",
   "metadata": {},
   "outputs": [],
   "source": [
    "df = pd.read_csv('resumes_features.csv')"
   ]
  },
  {
   "cell_type": "markdown",
   "id": "b3658015-fd13-4f35-a032-e4c1ff5255c7",
   "metadata": {},
   "source": [
    "Осталось доделать справочник по образованию еще лучше, а также справочник по интересам и наличие аналитчиеских комбинаций слов (см черновик, что сделать)"
   ]
  },
  {
   "cell_type": "markdown",
   "id": "290d29f3-bed3-4815-91c5-1b896320d858",
   "metadata": {},
   "source": [
    "**начинаем АД:**"
   ]
  },
  {
   "cell_type": "markdown",
   "id": "f87f7b77-66a9-42a5-8451-7451e6af103a",
   "metadata": {},
   "source": [
    "ключевые совпадения см л34 она скинула"
   ]
  },
  {
   "cell_type": "markdown",
   "id": "c00b4553-d1c4-4b86-905d-44fbc9f87b78",
   "metadata": {},
   "source": [
    "**Извлечение сущностей: более совершенные правила.** ВКР. Если город и коммандировка на английском то резюме точно на английском. Какие-то такие правила еще поискать. Посмотрю только в каком таком точном поле меньше всего пропусков. ВКР: позже вычленяю ещё сущности как мы обсуждали см prev call в 7.12. См github: допилить еще справочник образования и прочее, чтобы все в этом плане было идеально"
   ]
  },
  {
   "cell_type": "markdown",
   "id": "a725fd65-19f9-48ef-85ee-d5a2268f97af",
   "metadata": {},
   "source": [
    "В `scraping.ipynb` были собраны и подготовлены данные. Возможно, стоит еще доработать (в разделе \"пост-обработка\"):\n",
    "- Словарь образования\n",
    "- Справочник по интересам\n",
    "- Аналитические комбинации слов"
   ]
  },
  {
   "cell_type": "markdown",
   "id": "b34c9a18-1e09-468a-ab09-a8fff9bd381c",
   "metadata": {},
   "source": [
    "#### Предобработка полученных данных для анализа"
   ]
  },
  {
   "cell_type": "markdown",
   "id": "6c83fa44-8f43-461c-8f76-9177b6888863",
   "metadata": {},
   "source": [
    "**mBART перед построением токенов в \"О себе\"**\n",
    "\n",
    "Описать как это работает. Вставить это перед построением эмбеддингов!!\n",
    "\n",
    "https://huggingface.co/IlyaGusev/mbart_ru_sum_gazeta?text=%D0%97%D0%B0+%D0%B2%D1%80%D0%B5%D0%BC%D1%8F+%D1%80%D0%B0%D0%B1%D0%BE%D1%82%D1%8B+%D0%B8+%D1%83%D1%87%D1%91%D0%B1%D1%8B%2C+%D1%8F+%D0%BE%D0%B2%D0%BB%D0%B0%D0%B4%D0%B5%D0%BB+%D0%BA%D0%BE%D0%BC%D0%BF%D0%B5%D1%82%D0%B5%D0%BD%D1%86%D0%B8%D1%8F%D0%BC%D0%B8%2C+%D0%BD%D0%B5%D0%BE%D0%B1%D1%85%D0%BE%D0%B4%D0%B8%D0%BC%D1%8B%D0%BC%D0%B8+%D0%B4%D0%BB%D1%8F+%D0%B8%D1%81%D1%81%D0%BB%D0%B5%D0%B4%D0%BE%D0%B2%D0%B0%D0%BD%D0%B8%D1%8F%2C+%D1%81%D0%BE%D0%B7%D0%B4%D0%B0%D0%BD%D0%B8%D1%8F+%D0%B8+%D1%83%D1%81%D0%BF%D0%B5%D1%88%D0%BD%D0%BE%D0%B3%D0%BE+%D0%B8%D1%81%D0%BF%D0%BE%D0%BB%D1%8C%D0%B7%D0%BE%D0%B2%D0%B0%D0%BD%D0%B8%D1%8F+%D1%86%D0%B8%D1%84%D1%80%D0%BE%D0%B2%D1%8B%D1%85+%D1%82%D0%B5%D1%85%D0%BD%D0%BE%D0%BB%D0%BE%D0%B3%D0%B8%D0%B9+%D0%BC%D0%BE%D0%B4%D0%B5%D0%BB%D0%B8%D1%80%D0%BE%D0%B2%D0%B0%D0%BD%D0%B8%D1%8F%2C+%D1%83%D0%BF%D1%80%D0%B0%D0%B2%D0%BB%D0%B5%D0%BD%D0%B8%D1%8F%2C+%D0%B0%D0%BD%D0%B0%D0%BB%D0%B8%D0%B7%D0%B0+%D0%B8+%D1%81%D0%B8%D0%BD%D1%82%D0%B5%D0%B7%D0%B0+%D1%81%D0%B8%D1%81%D1%82%D0%B5%D0%BC%D0%BD%D1%8B%D1%85+%D1%80%D0%B5%D1%88%D0%B5%D0%BD%D0%B8%D0%B9+%D0%B2+%D0%B8%D0%BD%D1%82%D0%B5%D1%80%D0%B5%D1%81%D0%B0%D1%85+%D1%81%D0%BE%D0%B7%D0%B4%D0%B0%D0%BD%D0%B8%D1%8F+%D1%81%D0%BB%D0%BE%D0%B6%D0%BD%D0%BE%D0%B9+%D0%BF%D1%80%D0%BE%D0%B4%D1%83%D0%BA%D1%86%D0%B8%D0%B8.%0A%D0%AF+%D0%BE%D0%B1%D0%BB%D0%B0%D0%B4%D0%B0%D1%8E+%D1%88%D0%B8%D1%80%D0%BE%D0%BA%D0%B8%D0%BC+%D1%84%D1%83%D0%BD%D0%BA%D1%86%D0%B8%D0%BE%D0%BD%D0%B0%D0%BB%D0%BE%D0%BC+%D0%B2+%D0%BF%D0%BE%D1%81%D1%82%D1%80%D0%BE%D0%B5%D0%BD%D0%B8%D0%B8+BI+%D0%BE%D1%82%D1%87%D1%91%D1%82%D0%BD%D0%BE%D1%81%D1%82%D0%B8%2C+%D0%BC%D0%BE%D0%B4%D0%B5%D0%BB%D0%B8%D1%80%D0%BE%D0%B2%D0%B0%D0%BD%D0%B8%D0%B8%2C+%D1%81%D0%B2%D1%8F%D0%B7%D1%8F%D1%85%2C+%D0%BA%D0%BE%D1%80%D1%80%D0%B5%D0%BA%D1%82%D0%B8%D1%80%D0%BE%D0%B2%D0%B0%D0%BD%D0%B8%D0%B8+%D0%B4%D0%B0%D0%BD%D0%BD%D1%8B%D1%85+%D0%B2+Power+Qwery+%D0%B8+%D1%80%D0%B0%D0%B1%D0%BE%D1%82%D1%8B+%D1%81+%D0%B1%D0%B0%D0%B7%D0%B0%D0%BC%D0%B8+%D0%B4%D0%B0%D0%BD%D0%BD%D1%8B%D1%85.%0A%D0%A3%D1%87%D0%B0%D1%81%D1%82%D0%B2%D0%BE%D0%B2%D0%B0%D0%BB+%D0%B2+%D0%BF%D1%80%D0%BE%D0%B5%D0%BA%D1%82%D0%B0%D1%85+%D0%BF%D0%BE+%D0%BE%D0%BF%D1%82%D0%B8%D0%BC%D0%B8%D0%B7%D0%B0%D1%86%D0%B8%D0%B8+%D0%B8+%D0%B0%D0%B2%D1%82%D0%BE%D0%BC%D0%B0%D1%82%D0%B8%D0%B7%D0%B0%D1%86%D0%B8%D0%B8+%D0%B1%D0%B8%D0%B7%D0%BD%D0%B5%D1%81-%D0%BF%D1%80%D0%BE%D1%86%D0%B5%D1%81%D1%81%D0%BE%D0%B2+%D0%B8+%D0%BE%D1%82%D1%87%D1%91%D1%82%D0%BD%D0%BE%D1%81%D1%82%D0%B8.%0A%D0%A0%D0%B0%D0%B1%D0%BE%D1%82%D0%B0%D0%BB+%D0%B2+%D0%BA%D0%BE%D0%BC%D0%BF%D0%B0%D0%BD%D0%B8%D1%8F%D1%85+%D1%81+%D1%82%D0%B0%D0%BA%D0%B8%D0%BC%D0%B8+%D0%BF%D1%80%D0%BE%D0%B3%D1%80%D0%B0%D0%BC%D0%BC%D0%B0%D0%BC%D0%B8+%D0%BA%D0%B0%D0%BA+%3A+Power+BI%2C+Excel%2C+MS+Office%2C+VipPlanner.%0A%D0%97%D0%BD%D0%B0%D0%BA%D0%BE%D0%BC+%D1%81+%D1%82%D0%B0%D0%BA%D0%B8%D0%BC%D0%B8+%D0%BF%D1%80%D0%BE%D0%B3%D1%80%D0%B0%D0%BC%D0%BC%D0%BD%D1%8B%D0%BC%D0%B8+%D0%B8%D0%BD%D1%81%D1%82%D1%80%D1%83%D0%BC%D0%B5%D0%BD%D1%82%D0%B0%D0%BC%D0%B8+%D0%BA%D0%B0%D0%BA+%3A+Jira%2C+kanban%2C+confluence.%0A%D0%9F%D1%80%D0%B8%D0%BC%D0%B5%D1%80%D1%8B+%D0%B4%D0%B0%D1%88%D0%B1%D0%BE%D1%80%D0%B4%D0%BE%D0%B2+%D0%BC%D0%BE%D0%B3%D1%83+%D0%B2%D1%8B%D1%81%D0%BB%D0%B0%D1%82%D1%8C+%D0%BB%D0%B8%D1%87%D0%BD%D0%BE.%0A%D0%91%D1%83%D0%B4%D1%83+%D1%80%D0%B0%D0%B4+%D0%B2+%D1%80%D0%B0%D0%BC%D0%BA%D0%B0%D1%85+%D1%81%D0%BE%D0%B1%D0%B5%D1%81%D0%B5%D0%B4%D0%BE%D0%B2%D0%B0%D0%BD%D0%B8%D1%8F+%D0%BE%D1%82%D0%B2%D0%B5%D1%82%D0%B8%D1%82%D1%8C+%D0%BD%D0%B0+%D0%B2%D1%81%D0%B5+%D0%B8%D0%BD%D1%82%D0%B5%D1%80%D0%B5%D1%81%D1%83%D1%8E%D1%89%D0%B8%D0%B5+%D0%92%D0%B0%D1%81+%D0%B2%D0%BE%D0%BF%D1%80%D0%BE%D1%81%D1%8B.%0A%D0%97%D0%B0%D1%80%D0%B0%D0%BD%D0%B5%D0%B5+%D0%B1%D0%BB%D0%B0%D0%B3%D0%BE%D0%B4%D0%B0%D1%80%D1%8E+%D0%92%D0%B0%D1%81+%D0%B7%D0%B0+%D1%83%D0%B4%D0%B5%D0%BB%D1%91%D0%BD%D0%BD%D0%BE%D0%B5+%D0%BC%D0%BE%D0%B5%D0%B9+%D0%BA%D0%B0%D0%BD%D0%B4%D0%B8%D0%B4%D0%B0%D1%82%D1%83%D1%80%D0%B5+%D0%B2%D1%80%D0%B5%D0%BC%D1%8F.%0A%D0%92%D0%BB%D0%B0%D0%B4%D0%B5%D1%8E+%D0%BD%D0%B0%D0%B2%D1%8B%D0%BA%D0%BE%D0%BC+%22%D0%94%D0%B5%D0%BB%D0%BE%D0%B2%D0%B0%D1%8F+%D0%BF%D0%B5%D1%80%D0%B5%"
   ]
  },
  {
   "cell_type": "markdown",
   "id": "153fb330-b7f2-407e-8104-fbdb8e27afb6",
   "metadata": {},
   "source": [
    "попробуем:"
   ]
  },
  {
   "cell_type": "code",
   "execution_count": 50,
   "id": "22cb0dde-d90f-4b6a-9c09-62e2d93d0ad0",
   "metadata": {},
   "outputs": [
    {
     "name": "stdout",
     "output_type": "stream",
     "text": [
      "За время работы и учёбы, я овладел компетенциями, необходимыми для исследования, создания и успешного использования цифровых технологий моделирования, управления, анализа и синтеза системных решений в интересах создания сложной продукции.\n",
      "Я обладаю широким функционалом в построении BI отчётности, моделировании, связях, корректировании данных в Power Qwery и работы с базами данных.\n",
      "Участвовал в проектах по оптимизации и автоматизации бизнес-процессов и отчётности.\n",
      "Работал в компаниях с такими программами как : Power BI, Excel, MS Office, VipPlanner.\n",
      "Знаком с такими программными инструментами как : Jira, kanban, confluence.\n",
      "Примеры дашбордов могу выслать лично.\n",
      "Буду рад в рамках собеседования ответить на все интересующие Вас вопросы.\n",
      "Заранее благодарю Вас за уделённое моей кандидатуре время.\n",
      "Владею навыком \"Деловая переписка\".\n",
      "Управление проектами PMBOK.\n",
      "\n",
      "Строил аналитические дашборды для портала HR-дашборд в компании МТС.\n",
      "Сейчас руковожу проектом по внедрению аналитических дашбордов по инвестициям в промышленности.\n",
      "\n",
      "Я люблю читать книги по самосовершенствованию (\"год личной эффективности\", \"Scrum. Революционный метод управления проектами\", \"Пять уровней лидерства\", \"Agile оценка и планирование проектов\", \"Думай и богатей\".\n",
      "Правильно рассчитываю свое время, чтобы все успевать , записываю сразу все в умные заметки , чтобы всегда мои задачи были перед моими глазами.\n",
      "\n",
      "В работе мне помогает: быстрая обучаемость , высокая работоспособность и стрессоустойчивость.\n",
      "\n",
      "Жду интересных проектов и возможность профессионального роста и развития.\n"
     ]
    }
   ],
   "source": [
    "print(df['О себе'][14])"
   ]
  },
  {
   "cell_type": "code",
   "execution_count": 51,
   "id": "49575f3d-8e21-4dca-af51-ec1d755057d5",
   "metadata": {},
   "outputs": [],
   "source": [
    "from transformers import MBartTokenizer, MBartForConditionalGeneration"
   ]
  },
  {
   "cell_type": "code",
   "execution_count": 52,
   "id": "ebf06967-9cf6-49f8-bbe6-9c74d006b0c7",
   "metadata": {},
   "outputs": [],
   "source": [
    "model_name = \"IlyaGusev/mbart_ru_sum_gazeta\"\n",
    "tokenizer = MBartTokenizer.from_pretrained(model_name)\n",
    "model = MBartForConditionalGeneration.from_pretrained(model_name)"
   ]
  },
  {
   "cell_type": "markdown",
   "id": "1b9017ad-fbb2-46c6-a934-fab54f82dd94",
   "metadata": {},
   "source": [
    "^ ок, снизу ... просто тест"
   ]
  },
  {
   "cell_type": "code",
   "execution_count": 87,
   "id": "996d72a0-0872-4d24-9385-e9ee0064496a",
   "metadata": {},
   "outputs": [],
   "source": [
    "def summarize(article_text):\n",
    "    input_ids = tokenizer(\n",
    "        [article_text],\n",
    "        max_length=600,\n",
    "        padding=\"max_length\",\n",
    "        truncation=True,\n",
    "        return_tensors=\"pt\",\n",
    "    )[\"input_ids\"]\n",
    "\n",
    "    output_ids = model.generate(\n",
    "        input_ids=input_ids,\n",
    "        no_repeat_ngram_size=4\n",
    "    )[0]\n",
    "\n",
    "    summary = tokenizer.decode(output_ids, skip_special_tokens=True)\n",
    "    return summary"
   ]
  },
  {
   "cell_type": "markdown",
   "id": "44b18f47-36dd-457d-93cd-feb7edcde866",
   "metadata": {},
   "source": [
    "Как работает функция:"
   ]
  },
  {
   "cell_type": "code",
   "execution_count": 88,
   "id": "f78d17ad-9de9-42ec-9029-ff0a14a85d3c",
   "metadata": {},
   "outputs": [
    {
     "data": {
      "text/plain": [
       "'В последние годы проходила обучение без возможности работать.\\nGPA 8,5.\\nКурсовая работа по теме \"Создание и разработка базы данных аэропорта\" с оценкой 9.\\nВ данный момент принимаю участие в учебном проекте \"Внедрение системы для автоматизации бюджетирования и консолидации отчетности аэропорта\", где получаю опыт в интервьюировании заказчика, описании бизнес-задач, формализации требований, формировании устава проекта и тд.'"
      ]
     },
     "execution_count": 88,
     "metadata": {},
     "output_type": "execute_result"
    }
   ],
   "source": [
    "df['О себе'].iloc[0]"
   ]
  },
  {
   "cell_type": "code",
   "execution_count": 89,
   "id": "a86bf953-ba7c-4156-b838-ca557857d900",
   "metadata": {},
   "outputs": [
    {
     "data": {
      "text/plain": [
       "'Гражданин России, проживающий в Санкт-Петербурге, занимаюсь созданием системы для автоматизации бюджетирования и консолидации отчетности аэропорта. На данный момент работаю в учебном проекте, где получаю опыт в интервьюировании заказчика, описании бизнес-задач, формализации требований, формировании устава проекта и тд.'"
      ]
     },
     "execution_count": 89,
     "metadata": {},
     "output_type": "execute_result"
    }
   ],
   "source": [
    "summarize(df['О себе'].iloc[0])"
   ]
  },
  {
   "cell_type": "code",
   "execution_count": 124,
   "id": "d334d128-92c3-47ad-871c-b5a037432087",
   "metadata": {
    "collapsed": true,
    "jupyter": {
     "outputs_hidden": true
    },
    "tags": []
   },
   "outputs": [
    {
     "ename": "KeyboardInterrupt",
     "evalue": "",
     "output_type": "error",
     "traceback": [
      "\u001b[0;31m---------------------------------------------------------------------------\u001b[0m",
      "\u001b[0;31mKeyboardInterrupt\u001b[0m                         Traceback (most recent call last)",
      "Cell \u001b[0;32mIn[124], line 5\u001b[0m\n\u001b[1;32m      3\u001b[0m \u001b[38;5;28;01mif\u001b[39;00m df[\u001b[38;5;124m'\u001b[39m\u001b[38;5;124mО себе\u001b[39m\u001b[38;5;124m'\u001b[39m]\u001b[38;5;241m.\u001b[39miloc[i] \u001b[38;5;241m!=\u001b[39m \u001b[38;5;124m'\u001b[39m\u001b[38;5;124m---\u001b[39m\u001b[38;5;124m'\u001b[39m \u001b[38;5;129;01mand\u001b[39;00m df[\u001b[38;5;124m'\u001b[39m\u001b[38;5;124mis_eng?\u001b[39m\u001b[38;5;124m'\u001b[39m]\u001b[38;5;241m.\u001b[39miloc[i] \u001b[38;5;241m==\u001b[39m \u001b[38;5;124m'\u001b[39m\u001b[38;5;124mRU\u001b[39m\u001b[38;5;124m'\u001b[39m \u001b[38;5;129;01mand\u001b[39;00m (\u001b[38;5;129;01mnot\u001b[39;00m pd\u001b[38;5;241m.\u001b[39misna(df[\u001b[38;5;124m'\u001b[39m\u001b[38;5;124mО себе\u001b[39m\u001b[38;5;124m'\u001b[39m]\u001b[38;5;241m.\u001b[39miloc[i])):\n\u001b[1;32m      4\u001b[0m     text_to_summarize \u001b[38;5;241m=\u001b[39m df[\u001b[38;5;124m'\u001b[39m\u001b[38;5;124mО себе\u001b[39m\u001b[38;5;124m'\u001b[39m]\u001b[38;5;241m.\u001b[39miloc[i]\n\u001b[0;32m----> 5\u001b[0m     summarizations\u001b[38;5;241m.\u001b[39mappend(\u001b[43msummarize\u001b[49m\u001b[43m(\u001b[49m\u001b[43mtext_to_summarize\u001b[49m\u001b[43m)\u001b[49m)\n\u001b[1;32m      6\u001b[0m \u001b[38;5;28;01melse\u001b[39;00m:\n\u001b[1;32m      7\u001b[0m     summarizations\u001b[38;5;241m.\u001b[39mappend(df[\u001b[38;5;124m'\u001b[39m\u001b[38;5;124mО себе\u001b[39m\u001b[38;5;124m'\u001b[39m]\u001b[38;5;241m.\u001b[39miloc[i])\n",
      "Cell \u001b[0;32mIn[87], line 10\u001b[0m, in \u001b[0;36msummarize\u001b[0;34m(article_text)\u001b[0m\n\u001b[1;32m      1\u001b[0m \u001b[38;5;28;01mdef\u001b[39;00m \u001b[38;5;21msummarize\u001b[39m(article_text):\n\u001b[1;32m      2\u001b[0m     input_ids \u001b[38;5;241m=\u001b[39m tokenizer(\n\u001b[1;32m      3\u001b[0m         [article_text],\n\u001b[1;32m      4\u001b[0m         max_length\u001b[38;5;241m=\u001b[39m\u001b[38;5;241m600\u001b[39m,\n\u001b[0;32m   (...)\u001b[0m\n\u001b[1;32m      7\u001b[0m         return_tensors\u001b[38;5;241m=\u001b[39m\u001b[38;5;124m\"\u001b[39m\u001b[38;5;124mpt\u001b[39m\u001b[38;5;124m\"\u001b[39m,\n\u001b[1;32m      8\u001b[0m     )[\u001b[38;5;124m\"\u001b[39m\u001b[38;5;124minput_ids\u001b[39m\u001b[38;5;124m\"\u001b[39m]\n\u001b[0;32m---> 10\u001b[0m     output_ids \u001b[38;5;241m=\u001b[39m \u001b[43mmodel\u001b[49m\u001b[38;5;241;43m.\u001b[39;49m\u001b[43mgenerate\u001b[49m\u001b[43m(\u001b[49m\n\u001b[1;32m     11\u001b[0m \u001b[43m        \u001b[49m\u001b[43minput_ids\u001b[49m\u001b[38;5;241;43m=\u001b[39;49m\u001b[43minput_ids\u001b[49m\u001b[43m,\u001b[49m\n\u001b[1;32m     12\u001b[0m \u001b[43m        \u001b[49m\u001b[43mno_repeat_ngram_size\u001b[49m\u001b[38;5;241;43m=\u001b[39;49m\u001b[38;5;241;43m4\u001b[39;49m\n\u001b[1;32m     13\u001b[0m \u001b[43m    \u001b[49m\u001b[43m)\u001b[49m[\u001b[38;5;241m0\u001b[39m]\n\u001b[1;32m     15\u001b[0m     summary \u001b[38;5;241m=\u001b[39m tokenizer\u001b[38;5;241m.\u001b[39mdecode(output_ids, skip_special_tokens\u001b[38;5;241m=\u001b[39m\u001b[38;5;28;01mTrue\u001b[39;00m)\n\u001b[1;32m     16\u001b[0m     \u001b[38;5;28;01mreturn\u001b[39;00m summary\n",
      "File \u001b[0;32m~/miniconda3/lib/python3.9/site-packages/torch/autograd/grad_mode.py:28\u001b[0m, in \u001b[0;36m_DecoratorContextManager.__call__.<locals>.decorate_context\u001b[0;34m(*args, **kwargs)\u001b[0m\n\u001b[1;32m     25\u001b[0m \u001b[38;5;129m@functools\u001b[39m\u001b[38;5;241m.\u001b[39mwraps(func)\n\u001b[1;32m     26\u001b[0m \u001b[38;5;28;01mdef\u001b[39;00m \u001b[38;5;21mdecorate_context\u001b[39m(\u001b[38;5;241m*\u001b[39margs, \u001b[38;5;241m*\u001b[39m\u001b[38;5;241m*\u001b[39mkwargs):\n\u001b[1;32m     27\u001b[0m     \u001b[38;5;28;01mwith\u001b[39;00m \u001b[38;5;28mself\u001b[39m\u001b[38;5;241m.\u001b[39m\u001b[38;5;18m__class__\u001b[39m():\n\u001b[0;32m---> 28\u001b[0m         \u001b[38;5;28;01mreturn\u001b[39;00m \u001b[43mfunc\u001b[49m\u001b[43m(\u001b[49m\u001b[38;5;241;43m*\u001b[39;49m\u001b[43margs\u001b[49m\u001b[43m,\u001b[49m\u001b[43m \u001b[49m\u001b[38;5;241;43m*\u001b[39;49m\u001b[38;5;241;43m*\u001b[39;49m\u001b[43mkwargs\u001b[49m\u001b[43m)\u001b[49m\n",
      "File \u001b[0;32m~/miniconda3/lib/python3.9/site-packages/transformers/generation_utils.py:1344\u001b[0m, in \u001b[0;36mGenerationMixin.generate\u001b[0;34m(self, inputs, max_length, min_length, do_sample, early_stopping, num_beams, temperature, top_k, top_p, typical_p, repetition_penalty, bad_words_ids, force_words_ids, bos_token_id, pad_token_id, eos_token_id, length_penalty, no_repeat_ngram_size, encoder_no_repeat_ngram_size, num_return_sequences, max_time, max_new_tokens, decoder_start_token_id, use_cache, num_beam_groups, diversity_penalty, prefix_allowed_tokens_fn, logits_processor, renormalize_logits, stopping_criteria, constraints, output_attentions, output_hidden_states, output_scores, return_dict_in_generate, forced_bos_token_id, forced_eos_token_id, remove_invalid_values, synced_gpus, exponential_decay_length_penalty, **model_kwargs)\u001b[0m\n\u001b[1;32m   1340\u001b[0m     input_ids, model_kwargs \u001b[38;5;241m=\u001b[39m \u001b[38;5;28mself\u001b[39m\u001b[38;5;241m.\u001b[39m_expand_inputs_for_generation(\n\u001b[1;32m   1341\u001b[0m         input_ids, expand_size\u001b[38;5;241m=\u001b[39mnum_beams, is_encoder_decoder\u001b[38;5;241m=\u001b[39m\u001b[38;5;28mself\u001b[39m\u001b[38;5;241m.\u001b[39mconfig\u001b[38;5;241m.\u001b[39mis_encoder_decoder, \u001b[38;5;241m*\u001b[39m\u001b[38;5;241m*\u001b[39mmodel_kwargs\n\u001b[1;32m   1342\u001b[0m     )\n\u001b[1;32m   1343\u001b[0m     \u001b[38;5;66;03m# 12. run beam search\u001b[39;00m\n\u001b[0;32m-> 1344\u001b[0m     \u001b[38;5;28;01mreturn\u001b[39;00m \u001b[38;5;28;43mself\u001b[39;49m\u001b[38;5;241;43m.\u001b[39;49m\u001b[43mbeam_search\u001b[49m\u001b[43m(\u001b[49m\n\u001b[1;32m   1345\u001b[0m \u001b[43m        \u001b[49m\u001b[43minput_ids\u001b[49m\u001b[43m,\u001b[49m\n\u001b[1;32m   1346\u001b[0m \u001b[43m        \u001b[49m\u001b[43mbeam_scorer\u001b[49m\u001b[43m,\u001b[49m\n\u001b[1;32m   1347\u001b[0m \u001b[43m        \u001b[49m\u001b[43mlogits_processor\u001b[49m\u001b[38;5;241;43m=\u001b[39;49m\u001b[43mlogits_processor\u001b[49m\u001b[43m,\u001b[49m\n\u001b[1;32m   1348\u001b[0m \u001b[43m        \u001b[49m\u001b[43mstopping_criteria\u001b[49m\u001b[38;5;241;43m=\u001b[39;49m\u001b[43mstopping_criteria\u001b[49m\u001b[43m,\u001b[49m\n\u001b[1;32m   1349\u001b[0m \u001b[43m        \u001b[49m\u001b[43mpad_token_id\u001b[49m\u001b[38;5;241;43m=\u001b[39;49m\u001b[43mpad_token_id\u001b[49m\u001b[43m,\u001b[49m\n\u001b[1;32m   1350\u001b[0m \u001b[43m        \u001b[49m\u001b[43meos_token_id\u001b[49m\u001b[38;5;241;43m=\u001b[39;49m\u001b[43meos_token_id\u001b[49m\u001b[43m,\u001b[49m\n\u001b[1;32m   1351\u001b[0m \u001b[43m        \u001b[49m\u001b[43moutput_scores\u001b[49m\u001b[38;5;241;43m=\u001b[39;49m\u001b[43moutput_scores\u001b[49m\u001b[43m,\u001b[49m\n\u001b[1;32m   1352\u001b[0m \u001b[43m        \u001b[49m\u001b[43mreturn_dict_in_generate\u001b[49m\u001b[38;5;241;43m=\u001b[39;49m\u001b[43mreturn_dict_in_generate\u001b[49m\u001b[43m,\u001b[49m\n\u001b[1;32m   1353\u001b[0m \u001b[43m        \u001b[49m\u001b[43msynced_gpus\u001b[49m\u001b[38;5;241;43m=\u001b[39;49m\u001b[43msynced_gpus\u001b[49m\u001b[43m,\u001b[49m\n\u001b[1;32m   1354\u001b[0m \u001b[43m        \u001b[49m\u001b[38;5;241;43m*\u001b[39;49m\u001b[38;5;241;43m*\u001b[39;49m\u001b[43mmodel_kwargs\u001b[49m\u001b[43m,\u001b[49m\n\u001b[1;32m   1355\u001b[0m \u001b[43m    \u001b[49m\u001b[43m)\u001b[49m\n\u001b[1;32m   1357\u001b[0m \u001b[38;5;28;01melif\u001b[39;00m is_beam_sample_gen_mode:\n\u001b[1;32m   1358\u001b[0m     \u001b[38;5;66;03m# 10. prepare logits warper\u001b[39;00m\n\u001b[1;32m   1359\u001b[0m     logits_warper \u001b[38;5;241m=\u001b[39m \u001b[38;5;28mself\u001b[39m\u001b[38;5;241m.\u001b[39m_get_logits_warper(\n\u001b[1;32m   1360\u001b[0m         top_k\u001b[38;5;241m=\u001b[39mtop_k,\n\u001b[1;32m   1361\u001b[0m         top_p\u001b[38;5;241m=\u001b[39mtop_p,\n\u001b[0;32m   (...)\u001b[0m\n\u001b[1;32m   1365\u001b[0m         renormalize_logits\u001b[38;5;241m=\u001b[39mrenormalize_logits,\n\u001b[1;32m   1366\u001b[0m     )\n",
      "File \u001b[0;32m~/miniconda3/lib/python3.9/site-packages/transformers/generation_utils.py:2192\u001b[0m, in \u001b[0;36mGenerationMixin.beam_search\u001b[0;34m(self, input_ids, beam_scorer, logits_processor, stopping_criteria, max_length, pad_token_id, eos_token_id, output_attentions, output_hidden_states, output_scores, return_dict_in_generate, synced_gpus, **model_kwargs)\u001b[0m\n\u001b[1;32m   2188\u001b[0m         \u001b[38;5;28;01mbreak\u001b[39;00m\n\u001b[1;32m   2190\u001b[0m model_inputs \u001b[38;5;241m=\u001b[39m \u001b[38;5;28mself\u001b[39m\u001b[38;5;241m.\u001b[39mprepare_inputs_for_generation(input_ids, \u001b[38;5;241m*\u001b[39m\u001b[38;5;241m*\u001b[39mmodel_kwargs)\n\u001b[0;32m-> 2192\u001b[0m outputs \u001b[38;5;241m=\u001b[39m \u001b[38;5;28;43mself\u001b[39;49m\u001b[43m(\u001b[49m\n\u001b[1;32m   2193\u001b[0m \u001b[43m    \u001b[49m\u001b[38;5;241;43m*\u001b[39;49m\u001b[38;5;241;43m*\u001b[39;49m\u001b[43mmodel_inputs\u001b[49m\u001b[43m,\u001b[49m\n\u001b[1;32m   2194\u001b[0m \u001b[43m    \u001b[49m\u001b[43mreturn_dict\u001b[49m\u001b[38;5;241;43m=\u001b[39;49m\u001b[38;5;28;43;01mTrue\u001b[39;49;00m\u001b[43m,\u001b[49m\n\u001b[1;32m   2195\u001b[0m \u001b[43m    \u001b[49m\u001b[43moutput_attentions\u001b[49m\u001b[38;5;241;43m=\u001b[39;49m\u001b[43moutput_attentions\u001b[49m\u001b[43m,\u001b[49m\n\u001b[1;32m   2196\u001b[0m \u001b[43m    \u001b[49m\u001b[43moutput_hidden_states\u001b[49m\u001b[38;5;241;43m=\u001b[39;49m\u001b[43moutput_hidden_states\u001b[49m\u001b[43m,\u001b[49m\n\u001b[1;32m   2197\u001b[0m \u001b[43m\u001b[49m\u001b[43m)\u001b[49m\n\u001b[1;32m   2199\u001b[0m \u001b[38;5;28;01mif\u001b[39;00m synced_gpus \u001b[38;5;129;01mand\u001b[39;00m this_peer_finished:\n\u001b[1;32m   2200\u001b[0m     cur_len \u001b[38;5;241m=\u001b[39m cur_len \u001b[38;5;241m+\u001b[39m \u001b[38;5;241m1\u001b[39m\n",
      "File \u001b[0;32m~/miniconda3/lib/python3.9/site-packages/torch/nn/modules/module.py:1051\u001b[0m, in \u001b[0;36mModule._call_impl\u001b[0;34m(self, *input, **kwargs)\u001b[0m\n\u001b[1;32m   1047\u001b[0m \u001b[38;5;66;03m# If we don't have any hooks, we want to skip the rest of the logic in\u001b[39;00m\n\u001b[1;32m   1048\u001b[0m \u001b[38;5;66;03m# this function, and just call forward.\u001b[39;00m\n\u001b[1;32m   1049\u001b[0m \u001b[38;5;28;01mif\u001b[39;00m \u001b[38;5;129;01mnot\u001b[39;00m (\u001b[38;5;28mself\u001b[39m\u001b[38;5;241m.\u001b[39m_backward_hooks \u001b[38;5;129;01mor\u001b[39;00m \u001b[38;5;28mself\u001b[39m\u001b[38;5;241m.\u001b[39m_forward_hooks \u001b[38;5;129;01mor\u001b[39;00m \u001b[38;5;28mself\u001b[39m\u001b[38;5;241m.\u001b[39m_forward_pre_hooks \u001b[38;5;129;01mor\u001b[39;00m _global_backward_hooks\n\u001b[1;32m   1050\u001b[0m         \u001b[38;5;129;01mor\u001b[39;00m _global_forward_hooks \u001b[38;5;129;01mor\u001b[39;00m _global_forward_pre_hooks):\n\u001b[0;32m-> 1051\u001b[0m     \u001b[38;5;28;01mreturn\u001b[39;00m \u001b[43mforward_call\u001b[49m\u001b[43m(\u001b[49m\u001b[38;5;241;43m*\u001b[39;49m\u001b[38;5;28;43minput\u001b[39;49m\u001b[43m,\u001b[49m\u001b[43m \u001b[49m\u001b[38;5;241;43m*\u001b[39;49m\u001b[38;5;241;43m*\u001b[39;49m\u001b[43mkwargs\u001b[49m\u001b[43m)\u001b[49m\n\u001b[1;32m   1052\u001b[0m \u001b[38;5;66;03m# Do not call functions when jit is used\u001b[39;00m\n\u001b[1;32m   1053\u001b[0m full_backward_hooks, non_full_backward_hooks \u001b[38;5;241m=\u001b[39m [], []\n",
      "File \u001b[0;32m~/miniconda3/lib/python3.9/site-packages/transformers/models/mbart/modeling_mbart.py:1341\u001b[0m, in \u001b[0;36mMBartForConditionalGeneration.forward\u001b[0;34m(self, input_ids, attention_mask, decoder_input_ids, decoder_attention_mask, head_mask, decoder_head_mask, cross_attn_head_mask, encoder_outputs, past_key_values, inputs_embeds, decoder_inputs_embeds, labels, use_cache, output_attentions, output_hidden_states, return_dict)\u001b[0m\n\u001b[1;32m   1338\u001b[0m     \u001b[38;5;28;01mif\u001b[39;00m decoder_input_ids \u001b[38;5;129;01mis\u001b[39;00m \u001b[38;5;28;01mNone\u001b[39;00m:\n\u001b[1;32m   1339\u001b[0m         decoder_input_ids \u001b[38;5;241m=\u001b[39m shift_tokens_right(labels, \u001b[38;5;28mself\u001b[39m\u001b[38;5;241m.\u001b[39mconfig\u001b[38;5;241m.\u001b[39mpad_token_id)\n\u001b[0;32m-> 1341\u001b[0m outputs \u001b[38;5;241m=\u001b[39m \u001b[38;5;28;43mself\u001b[39;49m\u001b[38;5;241;43m.\u001b[39;49m\u001b[43mmodel\u001b[49m\u001b[43m(\u001b[49m\n\u001b[1;32m   1342\u001b[0m \u001b[43m    \u001b[49m\u001b[43minput_ids\u001b[49m\u001b[43m,\u001b[49m\n\u001b[1;32m   1343\u001b[0m \u001b[43m    \u001b[49m\u001b[43mattention_mask\u001b[49m\u001b[38;5;241;43m=\u001b[39;49m\u001b[43mattention_mask\u001b[49m\u001b[43m,\u001b[49m\n\u001b[1;32m   1344\u001b[0m \u001b[43m    \u001b[49m\u001b[43mdecoder_input_ids\u001b[49m\u001b[38;5;241;43m=\u001b[39;49m\u001b[43mdecoder_input_ids\u001b[49m\u001b[43m,\u001b[49m\n\u001b[1;32m   1345\u001b[0m \u001b[43m    \u001b[49m\u001b[43mencoder_outputs\u001b[49m\u001b[38;5;241;43m=\u001b[39;49m\u001b[43mencoder_outputs\u001b[49m\u001b[43m,\u001b[49m\n\u001b[1;32m   1346\u001b[0m \u001b[43m    \u001b[49m\u001b[43mdecoder_attention_mask\u001b[49m\u001b[38;5;241;43m=\u001b[39;49m\u001b[43mdecoder_attention_mask\u001b[49m\u001b[43m,\u001b[49m\n\u001b[1;32m   1347\u001b[0m \u001b[43m    \u001b[49m\u001b[43mhead_mask\u001b[49m\u001b[38;5;241;43m=\u001b[39;49m\u001b[43mhead_mask\u001b[49m\u001b[43m,\u001b[49m\n\u001b[1;32m   1348\u001b[0m \u001b[43m    \u001b[49m\u001b[43mdecoder_head_mask\u001b[49m\u001b[38;5;241;43m=\u001b[39;49m\u001b[43mdecoder_head_mask\u001b[49m\u001b[43m,\u001b[49m\n\u001b[1;32m   1349\u001b[0m \u001b[43m    \u001b[49m\u001b[43mcross_attn_head_mask\u001b[49m\u001b[38;5;241;43m=\u001b[39;49m\u001b[43mcross_attn_head_mask\u001b[49m\u001b[43m,\u001b[49m\n\u001b[1;32m   1350\u001b[0m \u001b[43m    \u001b[49m\u001b[43mpast_key_values\u001b[49m\u001b[38;5;241;43m=\u001b[39;49m\u001b[43mpast_key_values\u001b[49m\u001b[43m,\u001b[49m\n\u001b[1;32m   1351\u001b[0m \u001b[43m    \u001b[49m\u001b[43minputs_embeds\u001b[49m\u001b[38;5;241;43m=\u001b[39;49m\u001b[43minputs_embeds\u001b[49m\u001b[43m,\u001b[49m\n\u001b[1;32m   1352\u001b[0m \u001b[43m    \u001b[49m\u001b[43mdecoder_inputs_embeds\u001b[49m\u001b[38;5;241;43m=\u001b[39;49m\u001b[43mdecoder_inputs_embeds\u001b[49m\u001b[43m,\u001b[49m\n\u001b[1;32m   1353\u001b[0m \u001b[43m    \u001b[49m\u001b[43muse_cache\u001b[49m\u001b[38;5;241;43m=\u001b[39;49m\u001b[43muse_cache\u001b[49m\u001b[43m,\u001b[49m\n\u001b[1;32m   1354\u001b[0m \u001b[43m    \u001b[49m\u001b[43moutput_attentions\u001b[49m\u001b[38;5;241;43m=\u001b[39;49m\u001b[43moutput_attentions\u001b[49m\u001b[43m,\u001b[49m\n\u001b[1;32m   1355\u001b[0m \u001b[43m    \u001b[49m\u001b[43moutput_hidden_states\u001b[49m\u001b[38;5;241;43m=\u001b[39;49m\u001b[43moutput_hidden_states\u001b[49m\u001b[43m,\u001b[49m\n\u001b[1;32m   1356\u001b[0m \u001b[43m    \u001b[49m\u001b[43mreturn_dict\u001b[49m\u001b[38;5;241;43m=\u001b[39;49m\u001b[43mreturn_dict\u001b[49m\u001b[43m,\u001b[49m\n\u001b[1;32m   1357\u001b[0m \u001b[43m\u001b[49m\u001b[43m)\u001b[49m\n\u001b[1;32m   1358\u001b[0m lm_logits \u001b[38;5;241m=\u001b[39m \u001b[38;5;28mself\u001b[39m\u001b[38;5;241m.\u001b[39mlm_head(outputs[\u001b[38;5;241m0\u001b[39m]) \u001b[38;5;241m+\u001b[39m \u001b[38;5;28mself\u001b[39m\u001b[38;5;241m.\u001b[39mfinal_logits_bias\n\u001b[1;32m   1360\u001b[0m masked_lm_loss \u001b[38;5;241m=\u001b[39m \u001b[38;5;28;01mNone\u001b[39;00m\n",
      "File \u001b[0;32m~/miniconda3/lib/python3.9/site-packages/torch/nn/modules/module.py:1051\u001b[0m, in \u001b[0;36mModule._call_impl\u001b[0;34m(self, *input, **kwargs)\u001b[0m\n\u001b[1;32m   1047\u001b[0m \u001b[38;5;66;03m# If we don't have any hooks, we want to skip the rest of the logic in\u001b[39;00m\n\u001b[1;32m   1048\u001b[0m \u001b[38;5;66;03m# this function, and just call forward.\u001b[39;00m\n\u001b[1;32m   1049\u001b[0m \u001b[38;5;28;01mif\u001b[39;00m \u001b[38;5;129;01mnot\u001b[39;00m (\u001b[38;5;28mself\u001b[39m\u001b[38;5;241m.\u001b[39m_backward_hooks \u001b[38;5;129;01mor\u001b[39;00m \u001b[38;5;28mself\u001b[39m\u001b[38;5;241m.\u001b[39m_forward_hooks \u001b[38;5;129;01mor\u001b[39;00m \u001b[38;5;28mself\u001b[39m\u001b[38;5;241m.\u001b[39m_forward_pre_hooks \u001b[38;5;129;01mor\u001b[39;00m _global_backward_hooks\n\u001b[1;32m   1050\u001b[0m         \u001b[38;5;129;01mor\u001b[39;00m _global_forward_hooks \u001b[38;5;129;01mor\u001b[39;00m _global_forward_pre_hooks):\n\u001b[0;32m-> 1051\u001b[0m     \u001b[38;5;28;01mreturn\u001b[39;00m \u001b[43mforward_call\u001b[49m\u001b[43m(\u001b[49m\u001b[38;5;241;43m*\u001b[39;49m\u001b[38;5;28;43minput\u001b[39;49m\u001b[43m,\u001b[49m\u001b[43m \u001b[49m\u001b[38;5;241;43m*\u001b[39;49m\u001b[38;5;241;43m*\u001b[39;49m\u001b[43mkwargs\u001b[49m\u001b[43m)\u001b[49m\n\u001b[1;32m   1052\u001b[0m \u001b[38;5;66;03m# Do not call functions when jit is used\u001b[39;00m\n\u001b[1;32m   1053\u001b[0m full_backward_hooks, non_full_backward_hooks \u001b[38;5;241m=\u001b[39m [], []\n",
      "File \u001b[0;32m~/miniconda3/lib/python3.9/site-packages/transformers/models/mbart/modeling_mbart.py:1224\u001b[0m, in \u001b[0;36mMBartModel.forward\u001b[0;34m(self, input_ids, attention_mask, decoder_input_ids, decoder_attention_mask, head_mask, decoder_head_mask, cross_attn_head_mask, encoder_outputs, past_key_values, inputs_embeds, decoder_inputs_embeds, use_cache, output_attentions, output_hidden_states, return_dict)\u001b[0m\n\u001b[1;32m   1217\u001b[0m     encoder_outputs \u001b[38;5;241m=\u001b[39m BaseModelOutput(\n\u001b[1;32m   1218\u001b[0m         last_hidden_state\u001b[38;5;241m=\u001b[39mencoder_outputs[\u001b[38;5;241m0\u001b[39m],\n\u001b[1;32m   1219\u001b[0m         hidden_states\u001b[38;5;241m=\u001b[39mencoder_outputs[\u001b[38;5;241m1\u001b[39m] \u001b[38;5;28;01mif\u001b[39;00m \u001b[38;5;28mlen\u001b[39m(encoder_outputs) \u001b[38;5;241m>\u001b[39m \u001b[38;5;241m1\u001b[39m \u001b[38;5;28;01melse\u001b[39;00m \u001b[38;5;28;01mNone\u001b[39;00m,\n\u001b[1;32m   1220\u001b[0m         attentions\u001b[38;5;241m=\u001b[39mencoder_outputs[\u001b[38;5;241m2\u001b[39m] \u001b[38;5;28;01mif\u001b[39;00m \u001b[38;5;28mlen\u001b[39m(encoder_outputs) \u001b[38;5;241m>\u001b[39m \u001b[38;5;241m2\u001b[39m \u001b[38;5;28;01melse\u001b[39;00m \u001b[38;5;28;01mNone\u001b[39;00m,\n\u001b[1;32m   1221\u001b[0m     )\n\u001b[1;32m   1223\u001b[0m \u001b[38;5;66;03m# decoder outputs consists of (dec_features, past_key_value, dec_hidden, dec_attn)\u001b[39;00m\n\u001b[0;32m-> 1224\u001b[0m decoder_outputs \u001b[38;5;241m=\u001b[39m \u001b[38;5;28;43mself\u001b[39;49m\u001b[38;5;241;43m.\u001b[39;49m\u001b[43mdecoder\u001b[49m\u001b[43m(\u001b[49m\n\u001b[1;32m   1225\u001b[0m \u001b[43m    \u001b[49m\u001b[43minput_ids\u001b[49m\u001b[38;5;241;43m=\u001b[39;49m\u001b[43mdecoder_input_ids\u001b[49m\u001b[43m,\u001b[49m\n\u001b[1;32m   1226\u001b[0m \u001b[43m    \u001b[49m\u001b[43mattention_mask\u001b[49m\u001b[38;5;241;43m=\u001b[39;49m\u001b[43mdecoder_attention_mask\u001b[49m\u001b[43m,\u001b[49m\n\u001b[1;32m   1227\u001b[0m \u001b[43m    \u001b[49m\u001b[43mencoder_hidden_states\u001b[49m\u001b[38;5;241;43m=\u001b[39;49m\u001b[43mencoder_outputs\u001b[49m\u001b[43m[\u001b[49m\u001b[38;5;241;43m0\u001b[39;49m\u001b[43m]\u001b[49m\u001b[43m,\u001b[49m\n\u001b[1;32m   1228\u001b[0m \u001b[43m    \u001b[49m\u001b[43mencoder_attention_mask\u001b[49m\u001b[38;5;241;43m=\u001b[39;49m\u001b[43mattention_mask\u001b[49m\u001b[43m,\u001b[49m\n\u001b[1;32m   1229\u001b[0m \u001b[43m    \u001b[49m\u001b[43mhead_mask\u001b[49m\u001b[38;5;241;43m=\u001b[39;49m\u001b[43mdecoder_head_mask\u001b[49m\u001b[43m,\u001b[49m\n\u001b[1;32m   1230\u001b[0m \u001b[43m    \u001b[49m\u001b[43mcross_attn_head_mask\u001b[49m\u001b[38;5;241;43m=\u001b[39;49m\u001b[43mcross_attn_head_mask\u001b[49m\u001b[43m,\u001b[49m\n\u001b[1;32m   1231\u001b[0m \u001b[43m    \u001b[49m\u001b[43mpast_key_values\u001b[49m\u001b[38;5;241;43m=\u001b[39;49m\u001b[43mpast_key_values\u001b[49m\u001b[43m,\u001b[49m\n\u001b[1;32m   1232\u001b[0m \u001b[43m    \u001b[49m\u001b[43minputs_embeds\u001b[49m\u001b[38;5;241;43m=\u001b[39;49m\u001b[43mdecoder_inputs_embeds\u001b[49m\u001b[43m,\u001b[49m\n\u001b[1;32m   1233\u001b[0m \u001b[43m    \u001b[49m\u001b[43muse_cache\u001b[49m\u001b[38;5;241;43m=\u001b[39;49m\u001b[43muse_cache\u001b[49m\u001b[43m,\u001b[49m\n\u001b[1;32m   1234\u001b[0m \u001b[43m    \u001b[49m\u001b[43moutput_attentions\u001b[49m\u001b[38;5;241;43m=\u001b[39;49m\u001b[43moutput_attentions\u001b[49m\u001b[43m,\u001b[49m\n\u001b[1;32m   1235\u001b[0m \u001b[43m    \u001b[49m\u001b[43moutput_hidden_states\u001b[49m\u001b[38;5;241;43m=\u001b[39;49m\u001b[43moutput_hidden_states\u001b[49m\u001b[43m,\u001b[49m\n\u001b[1;32m   1236\u001b[0m \u001b[43m    \u001b[49m\u001b[43mreturn_dict\u001b[49m\u001b[38;5;241;43m=\u001b[39;49m\u001b[43mreturn_dict\u001b[49m\u001b[43m,\u001b[49m\n\u001b[1;32m   1237\u001b[0m \u001b[43m\u001b[49m\u001b[43m)\u001b[49m\n\u001b[1;32m   1239\u001b[0m \u001b[38;5;28;01mif\u001b[39;00m \u001b[38;5;129;01mnot\u001b[39;00m return_dict:\n\u001b[1;32m   1240\u001b[0m     \u001b[38;5;28;01mreturn\u001b[39;00m decoder_outputs \u001b[38;5;241m+\u001b[39m encoder_outputs\n",
      "File \u001b[0;32m~/miniconda3/lib/python3.9/site-packages/torch/nn/modules/module.py:1051\u001b[0m, in \u001b[0;36mModule._call_impl\u001b[0;34m(self, *input, **kwargs)\u001b[0m\n\u001b[1;32m   1047\u001b[0m \u001b[38;5;66;03m# If we don't have any hooks, we want to skip the rest of the logic in\u001b[39;00m\n\u001b[1;32m   1048\u001b[0m \u001b[38;5;66;03m# this function, and just call forward.\u001b[39;00m\n\u001b[1;32m   1049\u001b[0m \u001b[38;5;28;01mif\u001b[39;00m \u001b[38;5;129;01mnot\u001b[39;00m (\u001b[38;5;28mself\u001b[39m\u001b[38;5;241m.\u001b[39m_backward_hooks \u001b[38;5;129;01mor\u001b[39;00m \u001b[38;5;28mself\u001b[39m\u001b[38;5;241m.\u001b[39m_forward_hooks \u001b[38;5;129;01mor\u001b[39;00m \u001b[38;5;28mself\u001b[39m\u001b[38;5;241m.\u001b[39m_forward_pre_hooks \u001b[38;5;129;01mor\u001b[39;00m _global_backward_hooks\n\u001b[1;32m   1050\u001b[0m         \u001b[38;5;129;01mor\u001b[39;00m _global_forward_hooks \u001b[38;5;129;01mor\u001b[39;00m _global_forward_pre_hooks):\n\u001b[0;32m-> 1051\u001b[0m     \u001b[38;5;28;01mreturn\u001b[39;00m \u001b[43mforward_call\u001b[49m\u001b[43m(\u001b[49m\u001b[38;5;241;43m*\u001b[39;49m\u001b[38;5;28;43minput\u001b[39;49m\u001b[43m,\u001b[49m\u001b[43m \u001b[49m\u001b[38;5;241;43m*\u001b[39;49m\u001b[38;5;241;43m*\u001b[39;49m\u001b[43mkwargs\u001b[49m\u001b[43m)\u001b[49m\n\u001b[1;32m   1052\u001b[0m \u001b[38;5;66;03m# Do not call functions when jit is used\u001b[39;00m\n\u001b[1;32m   1053\u001b[0m full_backward_hooks, non_full_backward_hooks \u001b[38;5;241m=\u001b[39m [], []\n",
      "File \u001b[0;32m~/miniconda3/lib/python3.9/site-packages/transformers/models/mbart/modeling_mbart.py:1090\u001b[0m, in \u001b[0;36mMBartDecoder.forward\u001b[0;34m(self, input_ids, attention_mask, encoder_hidden_states, encoder_attention_mask, head_mask, cross_attn_head_mask, past_key_values, inputs_embeds, use_cache, output_attentions, output_hidden_states, return_dict)\u001b[0m\n\u001b[1;32m   1078\u001b[0m     layer_outputs \u001b[38;5;241m=\u001b[39m torch\u001b[38;5;241m.\u001b[39mutils\u001b[38;5;241m.\u001b[39mcheckpoint\u001b[38;5;241m.\u001b[39mcheckpoint(\n\u001b[1;32m   1079\u001b[0m         create_custom_forward(decoder_layer),\n\u001b[1;32m   1080\u001b[0m         hidden_states,\n\u001b[0;32m   (...)\u001b[0m\n\u001b[1;32m   1086\u001b[0m         \u001b[38;5;28;01mNone\u001b[39;00m,\n\u001b[1;32m   1087\u001b[0m     )\n\u001b[1;32m   1088\u001b[0m \u001b[38;5;28;01melse\u001b[39;00m:\n\u001b[0;32m-> 1090\u001b[0m     layer_outputs \u001b[38;5;241m=\u001b[39m \u001b[43mdecoder_layer\u001b[49m\u001b[43m(\u001b[49m\n\u001b[1;32m   1091\u001b[0m \u001b[43m        \u001b[49m\u001b[43mhidden_states\u001b[49m\u001b[43m,\u001b[49m\n\u001b[1;32m   1092\u001b[0m \u001b[43m        \u001b[49m\u001b[43mattention_mask\u001b[49m\u001b[38;5;241;43m=\u001b[39;49m\u001b[43mattention_mask\u001b[49m\u001b[43m,\u001b[49m\n\u001b[1;32m   1093\u001b[0m \u001b[43m        \u001b[49m\u001b[43mencoder_hidden_states\u001b[49m\u001b[38;5;241;43m=\u001b[39;49m\u001b[43mencoder_hidden_states\u001b[49m\u001b[43m,\u001b[49m\n\u001b[1;32m   1094\u001b[0m \u001b[43m        \u001b[49m\u001b[43mencoder_attention_mask\u001b[49m\u001b[38;5;241;43m=\u001b[39;49m\u001b[43mencoder_attention_mask\u001b[49m\u001b[43m,\u001b[49m\n\u001b[1;32m   1095\u001b[0m \u001b[43m        \u001b[49m\u001b[43mlayer_head_mask\u001b[49m\u001b[38;5;241;43m=\u001b[39;49m\u001b[43m(\u001b[49m\u001b[43mhead_mask\u001b[49m\u001b[43m[\u001b[49m\u001b[43midx\u001b[49m\u001b[43m]\u001b[49m\u001b[43m \u001b[49m\u001b[38;5;28;43;01mif\u001b[39;49;00m\u001b[43m \u001b[49m\u001b[43mhead_mask\u001b[49m\u001b[43m \u001b[49m\u001b[38;5;129;43;01mis\u001b[39;49;00m\u001b[43m \u001b[49m\u001b[38;5;129;43;01mnot\u001b[39;49;00m\u001b[43m \u001b[49m\u001b[38;5;28;43;01mNone\u001b[39;49;00m\u001b[43m \u001b[49m\u001b[38;5;28;43;01melse\u001b[39;49;00m\u001b[43m \u001b[49m\u001b[38;5;28;43;01mNone\u001b[39;49;00m\u001b[43m)\u001b[49m\u001b[43m,\u001b[49m\n\u001b[1;32m   1096\u001b[0m \u001b[43m        \u001b[49m\u001b[43mcross_attn_layer_head_mask\u001b[49m\u001b[38;5;241;43m=\u001b[39;49m\u001b[43m(\u001b[49m\n\u001b[1;32m   1097\u001b[0m \u001b[43m            \u001b[49m\u001b[43mcross_attn_head_mask\u001b[49m\u001b[43m[\u001b[49m\u001b[43midx\u001b[49m\u001b[43m]\u001b[49m\u001b[43m \u001b[49m\u001b[38;5;28;43;01mif\u001b[39;49;00m\u001b[43m \u001b[49m\u001b[43mcross_attn_head_mask\u001b[49m\u001b[43m \u001b[49m\u001b[38;5;129;43;01mis\u001b[39;49;00m\u001b[43m \u001b[49m\u001b[38;5;129;43;01mnot\u001b[39;49;00m\u001b[43m \u001b[49m\u001b[38;5;28;43;01mNone\u001b[39;49;00m\u001b[43m \u001b[49m\u001b[38;5;28;43;01melse\u001b[39;49;00m\u001b[43m \u001b[49m\u001b[38;5;28;43;01mNone\u001b[39;49;00m\n\u001b[1;32m   1098\u001b[0m \u001b[43m        \u001b[49m\u001b[43m)\u001b[49m\u001b[43m,\u001b[49m\n\u001b[1;32m   1099\u001b[0m \u001b[43m        \u001b[49m\u001b[43mpast_key_value\u001b[49m\u001b[38;5;241;43m=\u001b[39;49m\u001b[43mpast_key_value\u001b[49m\u001b[43m,\u001b[49m\n\u001b[1;32m   1100\u001b[0m \u001b[43m        \u001b[49m\u001b[43moutput_attentions\u001b[49m\u001b[38;5;241;43m=\u001b[39;49m\u001b[43moutput_attentions\u001b[49m\u001b[43m,\u001b[49m\n\u001b[1;32m   1101\u001b[0m \u001b[43m        \u001b[49m\u001b[43muse_cache\u001b[49m\u001b[38;5;241;43m=\u001b[39;49m\u001b[43muse_cache\u001b[49m\u001b[43m,\u001b[49m\n\u001b[1;32m   1102\u001b[0m \u001b[43m    \u001b[49m\u001b[43m)\u001b[49m\n\u001b[1;32m   1103\u001b[0m hidden_states \u001b[38;5;241m=\u001b[39m layer_outputs[\u001b[38;5;241m0\u001b[39m]\n\u001b[1;32m   1105\u001b[0m \u001b[38;5;28;01mif\u001b[39;00m use_cache:\n",
      "File \u001b[0;32m~/miniconda3/lib/python3.9/site-packages/torch/nn/modules/module.py:1051\u001b[0m, in \u001b[0;36mModule._call_impl\u001b[0;34m(self, *input, **kwargs)\u001b[0m\n\u001b[1;32m   1047\u001b[0m \u001b[38;5;66;03m# If we don't have any hooks, we want to skip the rest of the logic in\u001b[39;00m\n\u001b[1;32m   1048\u001b[0m \u001b[38;5;66;03m# this function, and just call forward.\u001b[39;00m\n\u001b[1;32m   1049\u001b[0m \u001b[38;5;28;01mif\u001b[39;00m \u001b[38;5;129;01mnot\u001b[39;00m (\u001b[38;5;28mself\u001b[39m\u001b[38;5;241m.\u001b[39m_backward_hooks \u001b[38;5;129;01mor\u001b[39;00m \u001b[38;5;28mself\u001b[39m\u001b[38;5;241m.\u001b[39m_forward_hooks \u001b[38;5;129;01mor\u001b[39;00m \u001b[38;5;28mself\u001b[39m\u001b[38;5;241m.\u001b[39m_forward_pre_hooks \u001b[38;5;129;01mor\u001b[39;00m _global_backward_hooks\n\u001b[1;32m   1050\u001b[0m         \u001b[38;5;129;01mor\u001b[39;00m _global_forward_hooks \u001b[38;5;129;01mor\u001b[39;00m _global_forward_pre_hooks):\n\u001b[0;32m-> 1051\u001b[0m     \u001b[38;5;28;01mreturn\u001b[39;00m \u001b[43mforward_call\u001b[49m\u001b[43m(\u001b[49m\u001b[38;5;241;43m*\u001b[39;49m\u001b[38;5;28;43minput\u001b[39;49m\u001b[43m,\u001b[49m\u001b[43m \u001b[49m\u001b[38;5;241;43m*\u001b[39;49m\u001b[38;5;241;43m*\u001b[39;49m\u001b[43mkwargs\u001b[49m\u001b[43m)\u001b[49m\n\u001b[1;32m   1052\u001b[0m \u001b[38;5;66;03m# Do not call functions when jit is used\u001b[39;00m\n\u001b[1;32m   1053\u001b[0m full_backward_hooks, non_full_backward_hooks \u001b[38;5;241m=\u001b[39m [], []\n",
      "File \u001b[0;32m~/miniconda3/lib/python3.9/site-packages/transformers/models/mbart/modeling_mbart.py:442\u001b[0m, in \u001b[0;36mMBartDecoderLayer.forward\u001b[0;34m(self, hidden_states, attention_mask, encoder_hidden_states, encoder_attention_mask, layer_head_mask, cross_attn_layer_head_mask, past_key_value, output_attentions, use_cache)\u001b[0m\n\u001b[1;32m    440\u001b[0m \u001b[38;5;66;03m# cross_attn cached key/values tuple is at positions 3,4 of present_key_value tuple\u001b[39;00m\n\u001b[1;32m    441\u001b[0m cross_attn_past_key_value \u001b[38;5;241m=\u001b[39m past_key_value[\u001b[38;5;241m-\u001b[39m\u001b[38;5;241m2\u001b[39m:] \u001b[38;5;28;01mif\u001b[39;00m past_key_value \u001b[38;5;129;01mis\u001b[39;00m \u001b[38;5;129;01mnot\u001b[39;00m \u001b[38;5;28;01mNone\u001b[39;00m \u001b[38;5;28;01melse\u001b[39;00m \u001b[38;5;28;01mNone\u001b[39;00m\n\u001b[0;32m--> 442\u001b[0m hidden_states, cross_attn_weights, cross_attn_present_key_value \u001b[38;5;241m=\u001b[39m \u001b[38;5;28;43mself\u001b[39;49m\u001b[38;5;241;43m.\u001b[39;49m\u001b[43mencoder_attn\u001b[49m\u001b[43m(\u001b[49m\n\u001b[1;32m    443\u001b[0m \u001b[43m    \u001b[49m\u001b[43mhidden_states\u001b[49m\u001b[38;5;241;43m=\u001b[39;49m\u001b[43mhidden_states\u001b[49m\u001b[43m,\u001b[49m\n\u001b[1;32m    444\u001b[0m \u001b[43m    \u001b[49m\u001b[43mkey_value_states\u001b[49m\u001b[38;5;241;43m=\u001b[39;49m\u001b[43mencoder_hidden_states\u001b[49m\u001b[43m,\u001b[49m\n\u001b[1;32m    445\u001b[0m \u001b[43m    \u001b[49m\u001b[43mattention_mask\u001b[49m\u001b[38;5;241;43m=\u001b[39;49m\u001b[43mencoder_attention_mask\u001b[49m\u001b[43m,\u001b[49m\n\u001b[1;32m    446\u001b[0m \u001b[43m    \u001b[49m\u001b[43mlayer_head_mask\u001b[49m\u001b[38;5;241;43m=\u001b[39;49m\u001b[43mcross_attn_layer_head_mask\u001b[49m\u001b[43m,\u001b[49m\n\u001b[1;32m    447\u001b[0m \u001b[43m    \u001b[49m\u001b[43mpast_key_value\u001b[49m\u001b[38;5;241;43m=\u001b[39;49m\u001b[43mcross_attn_past_key_value\u001b[49m\u001b[43m,\u001b[49m\n\u001b[1;32m    448\u001b[0m \u001b[43m    \u001b[49m\u001b[43moutput_attentions\u001b[49m\u001b[38;5;241;43m=\u001b[39;49m\u001b[43moutput_attentions\u001b[49m\u001b[43m,\u001b[49m\n\u001b[1;32m    449\u001b[0m \u001b[43m\u001b[49m\u001b[43m)\u001b[49m\n\u001b[1;32m    450\u001b[0m hidden_states \u001b[38;5;241m=\u001b[39m nn\u001b[38;5;241m.\u001b[39mfunctional\u001b[38;5;241m.\u001b[39mdropout(hidden_states, p\u001b[38;5;241m=\u001b[39m\u001b[38;5;28mself\u001b[39m\u001b[38;5;241m.\u001b[39mdropout, training\u001b[38;5;241m=\u001b[39m\u001b[38;5;28mself\u001b[39m\u001b[38;5;241m.\u001b[39mtraining)\n\u001b[1;32m    451\u001b[0m hidden_states \u001b[38;5;241m=\u001b[39m residual \u001b[38;5;241m+\u001b[39m hidden_states\n",
      "File \u001b[0;32m~/miniconda3/lib/python3.9/site-packages/torch/nn/modules/module.py:1051\u001b[0m, in \u001b[0;36mModule._call_impl\u001b[0;34m(self, *input, **kwargs)\u001b[0m\n\u001b[1;32m   1047\u001b[0m \u001b[38;5;66;03m# If we don't have any hooks, we want to skip the rest of the logic in\u001b[39;00m\n\u001b[1;32m   1048\u001b[0m \u001b[38;5;66;03m# this function, and just call forward.\u001b[39;00m\n\u001b[1;32m   1049\u001b[0m \u001b[38;5;28;01mif\u001b[39;00m \u001b[38;5;129;01mnot\u001b[39;00m (\u001b[38;5;28mself\u001b[39m\u001b[38;5;241m.\u001b[39m_backward_hooks \u001b[38;5;129;01mor\u001b[39;00m \u001b[38;5;28mself\u001b[39m\u001b[38;5;241m.\u001b[39m_forward_hooks \u001b[38;5;129;01mor\u001b[39;00m \u001b[38;5;28mself\u001b[39m\u001b[38;5;241m.\u001b[39m_forward_pre_hooks \u001b[38;5;129;01mor\u001b[39;00m _global_backward_hooks\n\u001b[1;32m   1050\u001b[0m         \u001b[38;5;129;01mor\u001b[39;00m _global_forward_hooks \u001b[38;5;129;01mor\u001b[39;00m _global_forward_pre_hooks):\n\u001b[0;32m-> 1051\u001b[0m     \u001b[38;5;28;01mreturn\u001b[39;00m \u001b[43mforward_call\u001b[49m\u001b[43m(\u001b[49m\u001b[38;5;241;43m*\u001b[39;49m\u001b[38;5;28;43minput\u001b[39;49m\u001b[43m,\u001b[49m\u001b[43m \u001b[49m\u001b[38;5;241;43m*\u001b[39;49m\u001b[38;5;241;43m*\u001b[39;49m\u001b[43mkwargs\u001b[49m\u001b[43m)\u001b[49m\n\u001b[1;32m   1052\u001b[0m \u001b[38;5;66;03m# Do not call functions when jit is used\u001b[39;00m\n\u001b[1;32m   1053\u001b[0m full_backward_hooks, non_full_backward_hooks \u001b[38;5;241m=\u001b[39m [], []\n",
      "File \u001b[0;32m~/miniconda3/lib/python3.9/site-packages/transformers/models/mbart/modeling_mbart.py:207\u001b[0m, in \u001b[0;36mMBartAttention.forward\u001b[0;34m(self, hidden_states, key_value_states, past_key_value, attention_mask, layer_head_mask, output_attentions)\u001b[0m\n\u001b[1;32m    204\u001b[0m \u001b[38;5;28;01melif\u001b[39;00m is_cross_attention:\n\u001b[1;32m    205\u001b[0m     \u001b[38;5;66;03m# cross_attentions\u001b[39;00m\n\u001b[1;32m    206\u001b[0m     key_states \u001b[38;5;241m=\u001b[39m \u001b[38;5;28mself\u001b[39m\u001b[38;5;241m.\u001b[39m_shape(\u001b[38;5;28mself\u001b[39m\u001b[38;5;241m.\u001b[39mk_proj(key_value_states), \u001b[38;5;241m-\u001b[39m\u001b[38;5;241m1\u001b[39m, bsz)\n\u001b[0;32m--> 207\u001b[0m     value_states \u001b[38;5;241m=\u001b[39m \u001b[38;5;28mself\u001b[39m\u001b[38;5;241m.\u001b[39m_shape(\u001b[38;5;28;43mself\u001b[39;49m\u001b[38;5;241;43m.\u001b[39;49m\u001b[43mv_proj\u001b[49m\u001b[43m(\u001b[49m\u001b[43mkey_value_states\u001b[49m\u001b[43m)\u001b[49m, \u001b[38;5;241m-\u001b[39m\u001b[38;5;241m1\u001b[39m, bsz)\n\u001b[1;32m    208\u001b[0m \u001b[38;5;28;01melif\u001b[39;00m past_key_value \u001b[38;5;129;01mis\u001b[39;00m \u001b[38;5;129;01mnot\u001b[39;00m \u001b[38;5;28;01mNone\u001b[39;00m:\n\u001b[1;32m    209\u001b[0m     \u001b[38;5;66;03m# reuse k, v, self_attention\u001b[39;00m\n\u001b[1;32m    210\u001b[0m     key_states \u001b[38;5;241m=\u001b[39m \u001b[38;5;28mself\u001b[39m\u001b[38;5;241m.\u001b[39m_shape(\u001b[38;5;28mself\u001b[39m\u001b[38;5;241m.\u001b[39mk_proj(hidden_states), \u001b[38;5;241m-\u001b[39m\u001b[38;5;241m1\u001b[39m, bsz)\n",
      "File \u001b[0;32m~/miniconda3/lib/python3.9/site-packages/torch/nn/modules/module.py:1051\u001b[0m, in \u001b[0;36mModule._call_impl\u001b[0;34m(self, *input, **kwargs)\u001b[0m\n\u001b[1;32m   1047\u001b[0m \u001b[38;5;66;03m# If we don't have any hooks, we want to skip the rest of the logic in\u001b[39;00m\n\u001b[1;32m   1048\u001b[0m \u001b[38;5;66;03m# this function, and just call forward.\u001b[39;00m\n\u001b[1;32m   1049\u001b[0m \u001b[38;5;28;01mif\u001b[39;00m \u001b[38;5;129;01mnot\u001b[39;00m (\u001b[38;5;28mself\u001b[39m\u001b[38;5;241m.\u001b[39m_backward_hooks \u001b[38;5;129;01mor\u001b[39;00m \u001b[38;5;28mself\u001b[39m\u001b[38;5;241m.\u001b[39m_forward_hooks \u001b[38;5;129;01mor\u001b[39;00m \u001b[38;5;28mself\u001b[39m\u001b[38;5;241m.\u001b[39m_forward_pre_hooks \u001b[38;5;129;01mor\u001b[39;00m _global_backward_hooks\n\u001b[1;32m   1050\u001b[0m         \u001b[38;5;129;01mor\u001b[39;00m _global_forward_hooks \u001b[38;5;129;01mor\u001b[39;00m _global_forward_pre_hooks):\n\u001b[0;32m-> 1051\u001b[0m     \u001b[38;5;28;01mreturn\u001b[39;00m \u001b[43mforward_call\u001b[49m\u001b[43m(\u001b[49m\u001b[38;5;241;43m*\u001b[39;49m\u001b[38;5;28;43minput\u001b[39;49m\u001b[43m,\u001b[49m\u001b[43m \u001b[49m\u001b[38;5;241;43m*\u001b[39;49m\u001b[38;5;241;43m*\u001b[39;49m\u001b[43mkwargs\u001b[49m\u001b[43m)\u001b[49m\n\u001b[1;32m   1052\u001b[0m \u001b[38;5;66;03m# Do not call functions when jit is used\u001b[39;00m\n\u001b[1;32m   1053\u001b[0m full_backward_hooks, non_full_backward_hooks \u001b[38;5;241m=\u001b[39m [], []\n",
      "File \u001b[0;32m~/miniconda3/lib/python3.9/site-packages/torch/nn/modules/linear.py:96\u001b[0m, in \u001b[0;36mLinear.forward\u001b[0;34m(self, input)\u001b[0m\n\u001b[1;32m     95\u001b[0m \u001b[38;5;28;01mdef\u001b[39;00m \u001b[38;5;21mforward\u001b[39m(\u001b[38;5;28mself\u001b[39m, \u001b[38;5;28minput\u001b[39m: Tensor) \u001b[38;5;241m-\u001b[39m\u001b[38;5;241m>\u001b[39m Tensor:\n\u001b[0;32m---> 96\u001b[0m     \u001b[38;5;28;01mreturn\u001b[39;00m \u001b[43mF\u001b[49m\u001b[38;5;241;43m.\u001b[39;49m\u001b[43mlinear\u001b[49m\u001b[43m(\u001b[49m\u001b[38;5;28;43minput\u001b[39;49m\u001b[43m,\u001b[49m\u001b[43m \u001b[49m\u001b[38;5;28;43mself\u001b[39;49m\u001b[38;5;241;43m.\u001b[39;49m\u001b[43mweight\u001b[49m\u001b[43m,\u001b[49m\u001b[43m \u001b[49m\u001b[38;5;28;43mself\u001b[39;49m\u001b[38;5;241;43m.\u001b[39;49m\u001b[43mbias\u001b[49m\u001b[43m)\u001b[49m\n",
      "File \u001b[0;32m~/miniconda3/lib/python3.9/site-packages/torch/nn/functional.py:1847\u001b[0m, in \u001b[0;36mlinear\u001b[0;34m(input, weight, bias)\u001b[0m\n\u001b[1;32m   1845\u001b[0m \u001b[38;5;28;01mif\u001b[39;00m has_torch_function_variadic(\u001b[38;5;28minput\u001b[39m, weight):\n\u001b[1;32m   1846\u001b[0m     \u001b[38;5;28;01mreturn\u001b[39;00m handle_torch_function(linear, (\u001b[38;5;28minput\u001b[39m, weight), \u001b[38;5;28minput\u001b[39m, weight, bias\u001b[38;5;241m=\u001b[39mbias)\n\u001b[0;32m-> 1847\u001b[0m \u001b[38;5;28;01mreturn\u001b[39;00m \u001b[43mtorch\u001b[49m\u001b[38;5;241;43m.\u001b[39;49m\u001b[43m_C\u001b[49m\u001b[38;5;241;43m.\u001b[39;49m\u001b[43m_nn\u001b[49m\u001b[38;5;241;43m.\u001b[39;49m\u001b[43mlinear\u001b[49m\u001b[43m(\u001b[49m\u001b[38;5;28;43minput\u001b[39;49m\u001b[43m,\u001b[49m\u001b[43m \u001b[49m\u001b[43mweight\u001b[49m\u001b[43m,\u001b[49m\u001b[43m \u001b[49m\u001b[43mbias\u001b[49m\u001b[43m)\u001b[49m\n",
      "\u001b[0;31mKeyboardInterrupt\u001b[0m: "
     ]
    }
   ],
   "source": [
    "summarizations = []\n",
    "for i in range(df.shape[0]):\n",
    "    if df['О себе'].iloc[i] != '---' and df['is_eng?'].iloc[i] == 'RU' and (not pd.isna(df['О себе'].iloc[i])):\n",
    "        text_to_summarize = df['О себе'].iloc[i]\n",
    "        summarizations.append(summarize(text_to_summarize))\n",
    "    else:\n",
    "        summarizations.append(df['О себе'].iloc[i])\n",
    "    \n",
    "    if len(summarizations) % 5 == 0:\n",
    "        print(len(summarizations), '/', df.shape[0])"
   ]
  },
  {
   "cell_type": "code",
   "execution_count": 121,
   "id": "53009263-c5bb-4046-b15e-49f412ff5995",
   "metadata": {
    "tags": []
   },
   "outputs": [
    {
     "name": "stderr",
     "output_type": "stream",
     "text": [
      "/var/folders/0k/pk7zyw6x2sqcjpbqvgf0ssh80000gn/T/ipykernel_9946/1096740388.py:1: SettingWithCopyWarning: \n",
      "A value is trying to be set on a copy of a slice from a DataFrame.\n",
      "Try using .loc[row_indexer,col_indexer] = value instead\n",
      "\n",
      "See the caveats in the documentation: https://pandas.pydata.org/pandas-docs/stable/user_guide/indexing.html#returning-a-view-versus-a-copy\n",
      "  df['О себе, summarized'] = summarizations\n"
     ]
    }
   ],
   "source": [
    "df['О себе, summarized'] = summarizations"
   ]
  },
  {
   "cell_type": "code",
   "execution_count": 123,
   "id": "123a1e87-4e22-466b-902b-3fb40f2cdf40",
   "metadata": {},
   "outputs": [],
   "source": [
    "df.to_csv('resumes_features.csv')"
   ]
  },
  {
   "cell_type": "markdown",
   "id": "06695bc9-1e6e-477e-8310-6a20855b0605",
   "metadata": {},
   "source": [
    "Дальше: article_text = `df['О себе'][0]`; мб надо будет по частям обрабатывать ибо это будет долго и затратно по памяти чтобы ничего не упало и не испортило всю работу"
   ]
  },
  {
   "cell_type": "markdown",
   "id": "f911583b-1f82-41cc-8dac-1f7f65855632",
   "metadata": {},
   "source": [
    "Итак, мы извлекли сущности и привели данные к деиному формату. Теперь займемся дальнейшей предобработкой (этапом): токенизация."
   ]
  },
  {
   "cell_type": "markdown",
   "id": "17be9ef3-85c1-4ec5-a342-585713561a16",
   "metadata": {},
   "source": [
    "Мы будем осущесвлять ее с помощью следующего алгоритма. Берем ..."
   ]
  },
  {
   "cell_type": "markdown",
   "id": "557caee0-e4e1-42a1-9ee0-d500b62d2c7c",
   "metadata": {},
   "source": [
    "**Токенизация раздела \"О себе\" на 1-граммы:**"
   ]
  },
  {
   "cell_type": "code",
   "execution_count": 125,
   "id": "1500f2db-4c60-4d22-a4d7-50f733adfb52",
   "metadata": {},
   "outputs": [],
   "source": [
    "df = pd.read_csv('resumes_features.csv')"
   ]
  },
  {
   "cell_type": "code",
   "execution_count": 126,
   "id": "0cbc7164-674f-479b-9076-c70d99ef0ab2",
   "metadata": {},
   "outputs": [],
   "source": [
    "import nltk\n",
    "# nltk.download('stopwords')\n",
    "\n",
    "import re\n",
    "from pymorphy2 import MorphAnalyzer\n",
    "from nltk.corpus import stopwords\n",
    "patterns = \"[0-9!#$%&'()*+,./:;<=>?@[\\]^_`{|}~—\\\"\\-]+\"\n",
    "stopwords_ru = stopwords.words(\"russian\")\n",
    "morph = MorphAnalyzer()\n",
    "def lemmatize(doc):\n",
    "    # print(doc)\n",
    "    doc = re.sub(patterns, ' ', doc)\n",
    "    tokens = []\n",
    "    for token in doc.split():\n",
    "        if token and token not in stopwords_ru and morph.normal_forms(token)[0] not in stopwords_ru:  # ВОТ откуда там стоп-слвоа — В not in stopwords_ru -> normal(В) = в\n",
    "            # print(token)\n",
    "            token = token.strip()\n",
    "            token = morph.normal_forms(token)[0]\n",
    "            tokens.append(token)\n",
    "    if len(tokens) > 2:\n",
    "        return tokens\n",
    "    return None\n",
    "\n",
    "df2 = pd.DataFrame(df['О себе'])\n",
    "\n",
    "for col_ind in df2.index:\n",
    "    col = df2.iloc[col_ind]['О себе']\n",
    "    if col:\n",
    "        df2.iloc[col_ind]['О себе'] = lemmatize(str(col))\n",
    "        #print(lemmatize(str(col)))\n",
    "        \n",
    "data = df2['О себе']\n",
    "\n",
    "from collections import defaultdict\n",
    "word_freq = defaultdict(int)\n",
    "for tokens in data.iloc[:]:\n",
    "    if tokens:\n",
    "        for token in tokens:\n",
    "            word_freq[token] += 1"
   ]
  },
  {
   "cell_type": "code",
   "execution_count": 127,
   "id": "73390bf9-6326-4f55-a57e-06b183a265e0",
   "metadata": {},
   "outputs": [
    {
     "data": {
      "text/html": [
       "<div>\n",
       "<style scoped>\n",
       "    .dataframe tbody tr th:only-of-type {\n",
       "        vertical-align: middle;\n",
       "    }\n",
       "\n",
       "    .dataframe tbody tr th {\n",
       "        vertical-align: top;\n",
       "    }\n",
       "\n",
       "    .dataframe thead th {\n",
       "        text-align: right;\n",
       "    }\n",
       "</style>\n",
       "<table border=\"1\" class=\"dataframe\">\n",
       "  <thead>\n",
       "    <tr style=\"text-align: right;\">\n",
       "      <th></th>\n",
       "      <th>О себе</th>\n",
       "    </tr>\n",
       "  </thead>\n",
       "  <tbody>\n",
       "    <tr>\n",
       "      <th>15</th>\n",
       "      <td>None</td>\n",
       "    </tr>\n",
       "    <tr>\n",
       "      <th>55</th>\n",
       "      <td>None</td>\n",
       "    </tr>\n",
       "    <tr>\n",
       "      <th>24</th>\n",
       "      <td>[курс, экономический, факультет, ниу, вшэ, сре...</td>\n",
       "    </tr>\n",
       "  </tbody>\n",
       "</table>\n",
       "</div>"
      ],
      "text/plain": [
       "                                               О себе\n",
       "15                                               None\n",
       "55                                               None\n",
       "24  [курс, экономический, факультет, ниу, вшэ, сре..."
      ]
     },
     "execution_count": 127,
     "metadata": {},
     "output_type": "execute_result"
    }
   ],
   "source": [
    "df2.sample(3)"
   ]
  },
  {
   "cell_type": "markdown",
   "id": "b3f2ccc7-0b12-418f-9b7a-37bced42a43e",
   "metadata": {},
   "source": [
    "^ Стоп-слова убраны, все в нормальной форме => их не будет и дальше."
   ]
  },
  {
   "cell_type": "markdown",
   "id": "41f07bfe-e2fd-4fa3-a84a-1c0648d7c3e5",
   "metadata": {},
   "source": [
    "На 2-граммы:"
   ]
  },
  {
   "cell_type": "markdown",
   "id": "a4960103-1553-42ca-a177-7f7074377c85",
   "metadata": {},
   "source": [
    "В соответствии с задачей работы, мы разобьем на 3-граммы. Но сначала на 2-граммы. Для этого будем перебирать все 1-граммы (изначальные токены) и соединять."
   ]
  },
  {
   "cell_type": "code",
   "execution_count": 128,
   "id": "f548dd5e-4670-44da-b608-db94447bd6bc",
   "metadata": {},
   "outputs": [],
   "source": [
    "from nltk.util import ngrams\n",
    "from nltk import word_tokenize \n",
    "\n",
    "tokens2 = []\n",
    "\n",
    "for x in df2['О себе']:\n",
    "    if x is not None:\n",
    "        bigrams = []\n",
    "        for bg in list(ngrams(x, 2)):\n",
    "            bigrams.append(' '.join(bg))\n",
    "        tokens2.append(bigrams)\n",
    "    else:\n",
    "        tokens2.append(None)\n",
    "        \n",
    "df2['О себе 2'] = tokens2"
   ]
  },
  {
   "cell_type": "code",
   "execution_count": 129,
   "id": "0540b1fd-8a08-4abc-bd86-ec38b2f7bc4e",
   "metadata": {},
   "outputs": [
    {
     "data": {
      "text/html": [
       "<div>\n",
       "<style scoped>\n",
       "    .dataframe tbody tr th:only-of-type {\n",
       "        vertical-align: middle;\n",
       "    }\n",
       "\n",
       "    .dataframe tbody tr th {\n",
       "        vertical-align: top;\n",
       "    }\n",
       "\n",
       "    .dataframe thead th {\n",
       "        text-align: right;\n",
       "    }\n",
       "</style>\n",
       "<table border=\"1\" class=\"dataframe\">\n",
       "  <thead>\n",
       "    <tr style=\"text-align: right;\">\n",
       "      <th></th>\n",
       "      <th>О себе</th>\n",
       "      <th>О себе 2</th>\n",
       "    </tr>\n",
       "  </thead>\n",
       "  <tbody>\n",
       "    <tr>\n",
       "      <th>46</th>\n",
       "      <td>[уметь, работать, sql, запрос, написание, алго...</td>\n",
       "      <td>[уметь работать, работать sql, sql запрос, зап...</td>\n",
       "    </tr>\n",
       "    <tr>\n",
       "      <th>1</th>\n",
       "      <td>None</td>\n",
       "      <td>None</td>\n",
       "    </tr>\n",
       "    <tr>\n",
       "      <th>18</th>\n",
       "      <td>[навык, умение, business, intelligence, сбор, ...</td>\n",
       "      <td>[навык умение, умение business, business intel...</td>\n",
       "    </tr>\n",
       "  </tbody>\n",
       "</table>\n",
       "</div>"
      ],
      "text/plain": [
       "                                               О себе  \\\n",
       "46  [уметь, работать, sql, запрос, написание, алго...   \n",
       "1                                                None   \n",
       "18  [навык, умение, business, intelligence, сбор, ...   \n",
       "\n",
       "                                             О себе 2  \n",
       "46  [уметь работать, работать sql, sql запрос, зап...  \n",
       "1                                                None  \n",
       "18  [навык умение, умение business, business intel...  "
      ]
     },
     "execution_count": 129,
     "metadata": {},
     "output_type": "execute_result"
    }
   ],
   "source": [
    "df2.sample(3)"
   ]
  },
  {
   "cell_type": "markdown",
   "id": "2f3a3190-1d34-485c-8e5e-8ec2c4a2668a",
   "metadata": {},
   "source": [
    "На 3-граммы:\n",
    "\n",
    "Все аналогично."
   ]
  },
  {
   "cell_type": "code",
   "execution_count": 130,
   "id": "750789e2-8dd6-45d8-b503-d5e43bc4e03e",
   "metadata": {},
   "outputs": [],
   "source": [
    "from nltk.util import ngrams\n",
    "from nltk import word_tokenize \n",
    "\n",
    "tokens3 = []\n",
    "\n",
    "for x in df2['О себе']:\n",
    "    if x is not None:\n",
    "        trigrams = []\n",
    "        for tg in list(ngrams(x, 3)):\n",
    "            trigrams.append(' '.join(tg))\n",
    "        tokens3.append(trigrams)\n",
    "    else:\n",
    "        tokens3.append(None)\n",
    "        \n",
    "df2['О себе 3'] = tokens3"
   ]
  },
  {
   "cell_type": "code",
   "execution_count": 131,
   "id": "d0f92ebe-da54-471d-a90e-e09100a1f709",
   "metadata": {},
   "outputs": [
    {
     "data": {
      "text/html": [
       "<div>\n",
       "<style scoped>\n",
       "    .dataframe tbody tr th:only-of-type {\n",
       "        vertical-align: middle;\n",
       "    }\n",
       "\n",
       "    .dataframe tbody tr th {\n",
       "        vertical-align: top;\n",
       "    }\n",
       "\n",
       "    .dataframe thead th {\n",
       "        text-align: right;\n",
       "    }\n",
       "</style>\n",
       "<table border=\"1\" class=\"dataframe\">\n",
       "  <thead>\n",
       "    <tr style=\"text-align: right;\">\n",
       "      <th></th>\n",
       "      <th>О себе</th>\n",
       "      <th>О себе 2</th>\n",
       "      <th>О себе 3</th>\n",
       "    </tr>\n",
       "  </thead>\n",
       "  <tbody>\n",
       "    <tr>\n",
       "      <th>37</th>\n",
       "      <td>[высокий, степень, ответственность, целеустрем...</td>\n",
       "      <td>[высокий степень, степень ответственность, отв...</td>\n",
       "      <td>[высокий степень ответственность, степень отве...</td>\n",
       "    </tr>\n",
       "    <tr>\n",
       "      <th>9</th>\n",
       "      <td>[свободный, владение, компьютер, ms, office, e...</td>\n",
       "      <td>[свободный владение, владение компьютер, компь...</td>\n",
       "      <td>[свободный владение компьютер, владение компью...</td>\n",
       "    </tr>\n",
       "    <tr>\n",
       "      <th>5</th>\n",
       "      <td>None</td>\n",
       "      <td>None</td>\n",
       "      <td>None</td>\n",
       "    </tr>\n",
       "  </tbody>\n",
       "</table>\n",
       "</div>"
      ],
      "text/plain": [
       "                                               О себе  \\\n",
       "37  [высокий, степень, ответственность, целеустрем...   \n",
       "9   [свободный, владение, компьютер, ms, office, e...   \n",
       "5                                                None   \n",
       "\n",
       "                                             О себе 2  \\\n",
       "37  [высокий степень, степень ответственность, отв...   \n",
       "9   [свободный владение, владение компьютер, компь...   \n",
       "5                                                None   \n",
       "\n",
       "                                             О себе 3  \n",
       "37  [высокий степень ответственность, степень отве...  \n",
       "9   [свободный владение компьютер, владение компью...  \n",
       "5                                                None  "
      ]
     },
     "execution_count": 131,
     "metadata": {},
     "output_type": "execute_result"
    }
   ],
   "source": [
    "df2.sample(3)"
   ]
  },
  {
   "cell_type": "markdown",
   "id": "ccc5b313-bd1b-4751-910a-b35d94ce1d89",
   "metadata": {},
   "source": [
    "Строим эмбеддинги с помощью среднего word2vec-вектора токенов (но сначала надо заденойзить `О себе` и вообще использовать все данные!!):"
   ]
  },
  {
   "cell_type": "code",
   "execution_count": 132,
   "id": "35c00715-b96d-4c50-baed-bfef4d0dc8ff",
   "metadata": {},
   "outputs": [],
   "source": [
    "from gensim.test.utils import common_texts\n",
    "from gensim.models import Word2Vec"
   ]
  },
  {
   "cell_type": "markdown",
   "id": "aec99e8a-42a7-4759-ae7f-80d9b623b212",
   "metadata": {},
   "source": [
    "Избавились от пропусков:"
   ]
  },
  {
   "cell_type": "code",
   "execution_count": 133,
   "id": "b4782634-6eb8-4c52-bca7-373cb380d0c7",
   "metadata": {},
   "outputs": [],
   "source": [
    "df2.loc[df2['О себе 3'].isna(), 'О себе 3'] = '-'"
   ]
  },
  {
   "cell_type": "code",
   "execution_count": 134,
   "id": "e757c7e2-4795-4dd0-aedf-1edc6ba4e397",
   "metadata": {},
   "outputs": [
    {
     "data": {
      "text/plain": [
       "Series([], Name: О себе 3, dtype: object)"
      ]
     },
     "execution_count": 134,
     "metadata": {},
     "output_type": "execute_result"
    }
   ],
   "source": [
    "df2[df2['О себе 3'].isna()]['О себе 3']"
   ]
  },
  {
   "cell_type": "code",
   "execution_count": 135,
   "id": "cb95faf8-c155-4a72-a348-2f73e04de303",
   "metadata": {},
   "outputs": [],
   "source": [
    "model = Word2Vec(sentences=df2['О себе 3'], vector_size=100, window=5, min_count=1, workers=4)\n",
    "model.save(\"word2vec.model\")"
   ]
  },
  {
   "cell_type": "code",
   "execution_count": 136,
   "id": "b4d96206-0361-4bf7-b3fe-303ce618be2f",
   "metadata": {},
   "outputs": [],
   "source": [
    "model = Word2Vec.load(\"word2vec.model\")"
   ]
  },
  {
   "cell_type": "code",
   "execution_count": 137,
   "id": "09598585-b831-43b5-a7c9-c370b522b689",
   "metadata": {},
   "outputs": [
    {
     "data": {
      "text/plain": [
       "<gensim.models.word2vec.Word2Vec at 0x7fba8c4987c0>"
      ]
     },
     "execution_count": 137,
     "metadata": {},
     "output_type": "execute_result"
    }
   ],
   "source": [
    "model"
   ]
  },
  {
   "cell_type": "code",
   "execution_count": 138,
   "id": "9f1d0d8d-387c-42e4-a35f-e7fbebb19d5d",
   "metadata": {},
   "outputs": [
    {
     "data": {
      "text/plain": [
       "(3373, 3379)"
      ]
     },
     "execution_count": 138,
     "metadata": {},
     "output_type": "execute_result"
    }
   ],
   "source": [
    "model.train(df2['О себе 3'], total_examples=len(df2['О себе 3']), epochs=1)"
   ]
  },
  {
   "cell_type": "markdown",
   "id": "5936e3bc-9ace-4071-8c92-4acc092d5b36",
   "metadata": {},
   "source": [
    "^ наверное лучше еще привести все токены в тексте к норм. форме?"
   ]
  },
  {
   "cell_type": "code",
   "execution_count": 139,
   "id": "5a6ed394-0c4a-4fd1-89b4-99c166565db5",
   "metadata": {},
   "outputs": [
    {
     "data": {
      "text/plain": [
       "0     [последний год проходить, год проходить обучен...\n",
       "1                                                     -\n",
       "2     [иметь экономический образование, экономически...\n",
       "3     [иметься опыт создание, опыт создание android,...\n",
       "4     [уверенный пользователь желание, пользователь ...\n",
       "                            ...                        \n",
       "62    [последний год проходить, год проходить обучен...\n",
       "63    [владеть инструментарий обработка, инструмента...\n",
       "64    [победитель стипендиальный конкурс, стипендиал...\n",
       "65    [добрый день звать, день звать константин, зва...\n",
       "66    [опыт web разработка, web разработка использов...\n",
       "Name: О себе 3, Length: 67, dtype: object"
      ]
     },
     "execution_count": 139,
     "metadata": {},
     "output_type": "execute_result"
    }
   ],
   "source": [
    "df2['О себе 3']"
   ]
  },
  {
   "cell_type": "code",
   "execution_count": 140,
   "id": "98fb9efd-f63e-44df-b7bc-4d451568f7d9",
   "metadata": {},
   "outputs": [],
   "source": [
    "vector = model.wv['последний год проходить']  # get numpy vector of a word\n",
    "sims = model.wv.most_similar('последний год проходить', topn=10)  # get other similar words"
   ]
  },
  {
   "cell_type": "code",
   "execution_count": 141,
   "id": "609357e5-6369-4d9d-a230-6ba8fe2a905b",
   "metadata": {},
   "outputs": [
    {
     "data": {
      "text/plain": [
       "[('который первый год', 0.3447602093219757),\n",
       " ('помимо университетский дисциплина', 0.32323339581489563),\n",
       " ('sf education осень', 0.3145250678062439),\n",
       " ('проект поставщик luxoft', 0.2966373860836029),\n",
       " ('аналитик компания внедрять', 0.28306668996810913),\n",
       " ('работа аналитический система', 0.2808486223220825),\n",
       " ('позволять осуществлять проект', 0.27972176671028137),\n",
       " ('искусство лето закончить', 0.27328839898109436),\n",
       " ('global management challenge', 0.27294981479644775),\n",
       " ('закончить курс профессиональный', 0.2656009793281555)]"
      ]
     },
     "execution_count": 141,
     "metadata": {},
     "output_type": "execute_result"
    }
   ],
   "source": [
    "sims"
   ]
  },
  {
   "cell_type": "code",
   "execution_count": 142,
   "id": "613dad87-9bbe-45cd-afe5-1b138df08c73",
   "metadata": {},
   "outputs": [
    {
     "data": {
      "text/plain": [
       "array([ 4.2191329e-03,  3.8639535e-04, -8.7988045e-04, -3.2099015e-03,\n",
       "        4.9834154e-03, -9.1659417e-03,  5.0880262e-03,  5.7413573e-03,\n",
       "       -2.4297498e-03, -4.2949175e-03, -7.4386951e-03, -6.4669657e-03,\n",
       "       -5.1392550e-03,  3.1431972e-03, -4.8158299e-03, -1.1919099e-03,\n",
       "       -8.9776153e-03, -3.5633948e-03, -7.2716450e-04, -7.9507641e-03,\n",
       "        3.1933037e-03,  9.7603686e-03,  4.3936232e-03,  1.8984299e-03,\n",
       "       -4.8812316e-03, -1.0939811e-03,  2.2118050e-03,  1.7161242e-03,\n",
       "        8.7872315e-03, -9.4179786e-04,  6.9992980e-03,  5.7946197e-03,\n",
       "        3.0359959e-03,  7.3704869e-03, -4.9583632e-03, -3.9206040e-03,\n",
       "        6.9923629e-03,  8.5658487e-03,  3.1426456e-03, -4.1517466e-03,\n",
       "        7.6696882e-03,  2.7365047e-03, -2.2905457e-04,  8.8905348e-03,\n",
       "        4.2693964e-03,  3.9646570e-03, -8.5953310e-05, -8.9292033e-03,\n",
       "       -3.1199013e-03,  2.4929452e-03, -5.6297285e-03,  7.1631474e-03,\n",
       "        7.4526034e-03, -8.9817978e-03, -5.4336186e-03, -6.0272841e-03,\n",
       "       -6.1100471e-04, -1.8483140e-03, -2.0657389e-03, -2.2480176e-03,\n",
       "        3.6233934e-03,  9.6598370e-03, -4.6528294e-03, -8.2842624e-03,\n",
       "        3.7644089e-03, -6.4161555e-03,  6.7530563e-03,  2.6748374e-03,\n",
       "       -7.9163983e-03, -7.7072512e-03, -9.2761321e-03,  2.3092087e-03,\n",
       "        2.7472009e-03,  2.6169298e-03,  2.1345718e-04,  1.0161261e-03,\n",
       "        3.0272845e-03, -1.5786011e-03, -8.0390107e-03, -6.4386585e-04,\n",
       "        3.7286726e-03, -2.6007118e-03, -2.1245778e-03, -2.2237825e-03,\n",
       "        7.2674751e-03, -3.1052427e-03,  9.4447816e-03, -3.9289775e-03,\n",
       "       -9.9624051e-03, -6.6222991e-03, -4.3547885e-03,  1.2427231e-03,\n",
       "        5.1405220e-03,  2.2084706e-03,  9.0814112e-03,  9.3012600e-04,\n",
       "        5.7062078e-03,  1.4787234e-04, -2.1749635e-03,  6.2553594e-03],\n",
       "      dtype=float32)"
      ]
     },
     "execution_count": 142,
     "metadata": {},
     "output_type": "execute_result"
    }
   ],
   "source": [
    "vector"
   ]
  },
  {
   "cell_type": "markdown",
   "id": "1a2b622c-98a8-4c02-ad0f-ba24f943ac15",
   "metadata": {},
   "source": [
    "Итак, мы построили эмбеддинги. Теперь кластеризуем. Для этого сначала строим новую табличку:"
   ]
  },
  {
   "cell_type": "code",
   "execution_count": 143,
   "id": "fd126e51-fb36-4c4a-8631-7959b5210a32",
   "metadata": {},
   "outputs": [
    {
     "data": {
      "text/plain": [
       "<gensim.models.keyedvectors.KeyedVectors at 0x7fbb4b570430>"
      ]
     },
     "execution_count": 143,
     "metadata": {},
     "output_type": "execute_result"
    }
   ],
   "source": [
    "model.wv"
   ]
  },
  {
   "cell_type": "code",
   "execution_count": 144,
   "id": "ba573ce5-3488-424a-944f-e1568686e0ad",
   "metadata": {},
   "outputs": [],
   "source": [
    "our_data = pd.DataFrame(df2['О себе 3'])"
   ]
  },
  {
   "cell_type": "code",
   "execution_count": 145,
   "id": "3c42defb-624b-4e07-adf0-43364e9cc9c9",
   "metadata": {},
   "outputs": [],
   "source": [
    "our_data['emb'] = 0"
   ]
  },
  {
   "cell_type": "code",
   "execution_count": 146,
   "id": "78a8f266-9693-47b2-a1d3-6c61e1aee4d5",
   "metadata": {},
   "outputs": [
    {
     "data": {
      "text/html": [
       "<div>\n",
       "<style scoped>\n",
       "    .dataframe tbody tr th:only-of-type {\n",
       "        vertical-align: middle;\n",
       "    }\n",
       "\n",
       "    .dataframe tbody tr th {\n",
       "        vertical-align: top;\n",
       "    }\n",
       "\n",
       "    .dataframe thead th {\n",
       "        text-align: right;\n",
       "    }\n",
       "</style>\n",
       "<table border=\"1\" class=\"dataframe\">\n",
       "  <thead>\n",
       "    <tr style=\"text-align: right;\">\n",
       "      <th></th>\n",
       "      <th>О себе 3</th>\n",
       "      <th>emb</th>\n",
       "    </tr>\n",
       "  </thead>\n",
       "  <tbody>\n",
       "    <tr>\n",
       "      <th>0</th>\n",
       "      <td>[последний год проходить, год проходить обучен...</td>\n",
       "      <td>0</td>\n",
       "    </tr>\n",
       "    <tr>\n",
       "      <th>1</th>\n",
       "      <td>-</td>\n",
       "      <td>0</td>\n",
       "    </tr>\n",
       "    <tr>\n",
       "      <th>2</th>\n",
       "      <td>[иметь экономический образование, экономически...</td>\n",
       "      <td>0</td>\n",
       "    </tr>\n",
       "    <tr>\n",
       "      <th>3</th>\n",
       "      <td>[иметься опыт создание, опыт создание android,...</td>\n",
       "      <td>0</td>\n",
       "    </tr>\n",
       "    <tr>\n",
       "      <th>4</th>\n",
       "      <td>[уверенный пользователь желание, пользователь ...</td>\n",
       "      <td>0</td>\n",
       "    </tr>\n",
       "    <tr>\n",
       "      <th>...</th>\n",
       "      <td>...</td>\n",
       "      <td>...</td>\n",
       "    </tr>\n",
       "    <tr>\n",
       "      <th>62</th>\n",
       "      <td>[последний год проходить, год проходить обучен...</td>\n",
       "      <td>0</td>\n",
       "    </tr>\n",
       "    <tr>\n",
       "      <th>63</th>\n",
       "      <td>[владеть инструментарий обработка, инструмента...</td>\n",
       "      <td>0</td>\n",
       "    </tr>\n",
       "    <tr>\n",
       "      <th>64</th>\n",
       "      <td>[победитель стипендиальный конкурс, стипендиал...</td>\n",
       "      <td>0</td>\n",
       "    </tr>\n",
       "    <tr>\n",
       "      <th>65</th>\n",
       "      <td>[добрый день звать, день звать константин, зва...</td>\n",
       "      <td>0</td>\n",
       "    </tr>\n",
       "    <tr>\n",
       "      <th>66</th>\n",
       "      <td>[опыт web разработка, web разработка использов...</td>\n",
       "      <td>0</td>\n",
       "    </tr>\n",
       "  </tbody>\n",
       "</table>\n",
       "<p>67 rows × 2 columns</p>\n",
       "</div>"
      ],
      "text/plain": [
       "                                             О себе 3  emb\n",
       "0   [последний год проходить, год проходить обучен...    0\n",
       "1                                                   -    0\n",
       "2   [иметь экономический образование, экономически...    0\n",
       "3   [иметься опыт создание, опыт создание android,...    0\n",
       "4   [уверенный пользователь желание, пользователь ...    0\n",
       "..                                                ...  ...\n",
       "62  [последний год проходить, год проходить обучен...    0\n",
       "63  [владеть инструментарий обработка, инструмента...    0\n",
       "64  [победитель стипендиальный конкурс, стипендиал...    0\n",
       "65  [добрый день звать, день звать константин, зва...    0\n",
       "66  [опыт web разработка, web разработка использов...    0\n",
       "\n",
       "[67 rows x 2 columns]"
      ]
     },
     "execution_count": 146,
     "metadata": {},
     "output_type": "execute_result"
    }
   ],
   "source": [
    "our_data"
   ]
  },
  {
   "cell_type": "code",
   "execution_count": 147,
   "id": "7ace3d1f-a9e0-4be5-98fd-d85ad70cabfb",
   "metadata": {},
   "outputs": [],
   "source": [
    "embs = []\n",
    "for x in our_data['О себе 3']:\n",
    "    cur_embs = []\n",
    "    for y in x:\n",
    "        cur_embs.append(model.wv[y])\n",
    "    embs.append(cur_embs)"
   ]
  },
  {
   "cell_type": "code",
   "execution_count": 148,
   "id": "cfc19af7-73b7-4d7d-a6f0-ae709977fe55",
   "metadata": {},
   "outputs": [],
   "source": [
    "our_data['emb'] = embs"
   ]
  },
  {
   "cell_type": "markdown",
   "id": "ced7984b-c01e-415e-a4f9-0fb9267b6b88",
   "metadata": {},
   "source": [
    "теперь надо построить `flat_emb` — по векторам эмбеддингов построить единый вектор эмбеддингов."
   ]
  },
  {
   "cell_type": "markdown",
   "id": "2aa54c03-6fd9-44e9-a5d5-3f79d73bad51",
   "metadata": {},
   "source": [
    "2ая попытка:"
   ]
  },
  {
   "cell_type": "code",
   "execution_count": 149,
   "id": "dccca717-33e0-4f6e-88b8-1d39e27f5766",
   "metadata": {},
   "outputs": [],
   "source": [
    "# буду использовать среднее\n",
    "\n",
    "embs_flattened = []\n",
    "for x in our_data['emb']:\n",
    "    x_flat = np.array(x[0])\n",
    "    for z in x[1:]:\n",
    "        x_flat += np.array(z)\n",
    "    embs_flattened.append(x_flat / len(x))"
   ]
  },
  {
   "cell_type": "code",
   "execution_count": 150,
   "id": "79517384-2268-4932-8e47-09b42d349b98",
   "metadata": {},
   "outputs": [
    {
     "data": {
      "text/plain": [
       "100"
      ]
     },
     "execution_count": 150,
     "metadata": {},
     "output_type": "execute_result"
    }
   ],
   "source": [
    "embs_flattened[4].size"
   ]
  },
  {
   "cell_type": "markdown",
   "id": "82afa701-200c-466f-ae2b-fe6e72e7d6c5",
   "metadata": {},
   "source": [
    "почему это работает: Для ВКР и IR одновременно: https://stats.stackexchange.com/questions/318882/what-does-average-of-word2vec-vector-mean"
   ]
  },
  {
   "cell_type": "markdown",
   "id": "5378cd5f-e2c5-452d-8369-fe3acdb259c5",
   "metadata": {},
   "source": [
    "1ая попытка:\n",
    "\n",
    "```\n",
    "embs_flattened = []\n",
    "for x in our_data['emb']:\n",
    "    x_flat = []\n",
    "    for z in x:\n",
    "        x_flat += list(z)\n",
    "    embs_flattened.append(x_flat)\n",
    "```"
   ]
  },
  {
   "cell_type": "markdown",
   "id": "539deced-aa8d-41a4-ad3e-93109c042bec",
   "metadata": {},
   "source": [
    "после поаытки:"
   ]
  },
  {
   "cell_type": "code",
   "execution_count": 151,
   "id": "dd6bf60b-f88a-4631-a263-1aa51a538203",
   "metadata": {},
   "outputs": [],
   "source": [
    "our_data['flat_emb'] = embs_flattened"
   ]
  },
  {
   "cell_type": "markdown",
   "id": "069ef1cc-3849-4d11-902e-f541c866b65e",
   "metadata": {},
   "source": [
    "в чем проблема с `flat_emb` как эмбеддингами??? именно поэтому не работает kmeans.\n",
    "\n",
    "Итак, у меня для каждого токена в тексте есть эмбеддинг. Как из этого получить что-то адекватное?"
   ]
  },
  {
   "cell_type": "code",
   "execution_count": 152,
   "id": "4d4618fd-c9e1-4cef-a374-e558eeb3bb45",
   "metadata": {
    "tags": []
   },
   "outputs": [
    {
     "data": {
      "text/plain": [
       "array([ 2.95168342e-04, -1.54395448e-03, -1.38613814e-03, -9.72507230e-04,\n",
       "        1.15804060e-03, -1.65132154e-03, -1.30809122e-03,  1.68300045e-04,\n",
       "        6.33979682e-04, -5.52685000e-04, -3.46425048e-04, -1.96835026e-03,\n",
       "       -4.65927005e-04, -1.04350016e-04, -2.10811268e-04, -5.57828054e-04,\n",
       "       -1.20974914e-03, -8.23530194e-04, -9.68457549e-04, -1.87526247e-03,\n",
       "       -1.47328584e-03, -2.93521851e-04,  1.04553299e-04,  1.60692690e-03,\n",
       "        8.10740967e-05,  1.31653636e-04,  7.93572035e-05,  4.58291688e-05,\n",
       "       -2.51170772e-04,  1.39464828e-04,  8.84371344e-04, -4.17852541e-04,\n",
       "       -1.78421120e-04, -2.19719048e-04, -3.30868410e-04, -6.14361605e-04,\n",
       "        1.18277618e-04,  2.18484172e-04,  1.57382136e-04,  4.52921871e-04,\n",
       "        1.20168820e-03,  1.97265137e-04,  6.45224354e-04, -3.41328676e-04,\n",
       "        3.97570606e-04, -1.13717723e-03,  1.53014145e-03, -1.96184446e-05,\n",
       "        2.31549959e-03, -2.36989319e-04,  1.12825153e-04, -2.76852574e-04,\n",
       "       -8.87530099e-04, -1.09533616e-03, -1.62559375e-03,  1.67263774e-04,\n",
       "        1.46832177e-03,  5.45659685e-04, -9.81984893e-04, -5.89069794e-04,\n",
       "        2.84509675e-04,  9.51263297e-04, -1.02986651e-03,  1.22529152e-03,\n",
       "       -7.41313852e-04,  1.97731843e-03,  9.81671968e-04,  1.23330334e-03,\n",
       "        1.47196712e-04,  1.28448452e-03, -6.98489719e-04, -1.79005018e-03,\n",
       "        6.64480263e-04, -4.73880908e-04, -3.22689710e-04, -4.20707045e-04,\n",
       "        5.43043308e-04, -5.12917351e-04,  9.68249049e-04, -6.12068907e-05,\n",
       "       -9.82993515e-04, -2.07069842e-03, -1.81025243e-03,  2.64171837e-03,\n",
       "       -5.01081231e-04, -1.82339252e-04, -1.69391904e-04, -2.79030610e-05,\n",
       "        2.85024551e-04,  7.12717447e-05, -1.83343817e-03, -1.37713534e-04,\n",
       "        9.44309053e-04,  7.43254728e-04, -1.97938149e-04,  2.11762410e-04,\n",
       "        1.08180242e-03, -1.33554486e-03, -9.94559145e-04, -7.42765376e-04],\n",
       "      dtype=float32)"
      ]
     },
     "execution_count": 152,
     "metadata": {},
     "output_type": "execute_result"
    }
   ],
   "source": [
    "our_data['flat_emb'][0]"
   ]
  },
  {
   "cell_type": "code",
   "execution_count": 153,
   "id": "fd2d5f11-a7de-42a6-bcb9-a0dd83415c4b",
   "metadata": {},
   "outputs": [
    {
     "data": {
      "text/plain": [
       "0     [0.00029516834, -0.0015439545, -0.0013861381, ...\n",
       "1     [-0.0086196875, 0.003665738, 0.0051898835, 0.0...\n",
       "2     [-0.0011685997, 0.0012998827, -0.0025936777, 0...\n",
       "3     [-0.0004074424, 0.0005873837, 0.0008515791, 0....\n",
       "4     [-0.00037161107, 0.00023680142, -0.00016213297...\n",
       "                            ...                        \n",
       "62    [-0.00049789756, -0.00054419227, -0.0025611392...\n",
       "63    [-0.0021155155, -0.0005143842, 0.0004572586, -...\n",
       "64    [7.965116e-06, 2.841573e-05, 0.00020546571, 0....\n",
       "65    [0.0008847946, 0.0004886352, 0.00014909195, 0....\n",
       "66    [-6.5130975e-05, -0.00063547277, -0.000924198,...\n",
       "Name: flat_emb, Length: 67, dtype: object"
      ]
     },
     "execution_count": 153,
     "metadata": {},
     "output_type": "execute_result"
    }
   ],
   "source": [
    "our_data['flat_emb'].dropna()"
   ]
  },
  {
   "cell_type": "code",
   "execution_count": 154,
   "id": "1b03e82b-c5e7-42e1-b559-b0d90f214166",
   "metadata": {},
   "outputs": [
    {
     "data": {
      "text/plain": [
       "0     [0.0005903367, -0.003087909, -0.0027722763, -0...\n",
       "1     [-0.017239375, 0.007331476, 0.010379767, 0.011...\n",
       "2     [-0.0023371994, 0.0025997653, -0.0051873554, 0...\n",
       "3     [-0.0008148848, 0.0011747674, 0.0017031583, 0....\n",
       "4     [-0.00074322213, 0.00047360285, -0.00032426594...\n",
       "                            ...                        \n",
       "62    [-0.0009957951, -0.0010883845, -0.0051222784, ...\n",
       "63    [-0.004231031, -0.0010287684, 0.0009145172, -0...\n",
       "64    [1.5930233e-05, 5.683146e-05, 0.00041093142, 0...\n",
       "65    [0.0017695891, 0.0009772704, 0.0002981839, 0.0...\n",
       "66    [-0.00013026195, -0.0012709455, -0.001848396, ...\n",
       "Name: flat_emb, Length: 67, dtype: object"
      ]
     },
     "execution_count": 154,
     "metadata": {},
     "output_type": "execute_result"
    }
   ],
   "source": [
    "our_data['flat_emb'] * 2"
   ]
  },
  {
   "cell_type": "code",
   "execution_count": 155,
   "id": "2dd0410e-1ff6-4140-aeea-1f855a4d95b1",
   "metadata": {},
   "outputs": [
    {
     "data": {
      "text/plain": [
       "0     [0.00029516834, -0.0015439545, -0.0013861381, ...\n",
       "1     [-0.0086196875, 0.003665738, 0.0051898835, 0.0...\n",
       "2     [-0.0011685997, 0.0012998827, -0.0025936777, 0...\n",
       "3     [-0.0004074424, 0.0005873837, 0.0008515791, 0....\n",
       "4     [-0.00037161107, 0.00023680142, -0.00016213297...\n",
       "                            ...                        \n",
       "62    [-0.00049789756, -0.00054419227, -0.0025611392...\n",
       "63    [-0.0021155155, -0.0005143842, 0.0004572586, -...\n",
       "64    [7.965116e-06, 2.841573e-05, 0.00020546571, 0....\n",
       "65    [0.0008847946, 0.0004886352, 0.00014909195, 0....\n",
       "66    [-6.5130975e-05, -0.00063547277, -0.000924198,...\n",
       "Name: flat_emb, Length: 67, dtype: object"
      ]
     },
     "execution_count": 155,
     "metadata": {},
     "output_type": "execute_result"
    }
   ],
   "source": [
    "our_data['flat_emb']"
   ]
  },
  {
   "cell_type": "code",
   "execution_count": 156,
   "id": "9abf52ad-af10-40a8-a61c-590be1b5b288",
   "metadata": {},
   "outputs": [],
   "source": [
    "X = list(our_data['flat_emb'].dropna())"
   ]
  },
  {
   "cell_type": "code",
   "execution_count": 157,
   "id": "48ca9a2d-99f7-4355-af44-0dd1b4e255ec",
   "metadata": {},
   "outputs": [],
   "source": [
    "X = np.asarray(X)"
   ]
  },
  {
   "cell_type": "code",
   "execution_count": 158,
   "id": "e6c21502-7af4-4602-80d6-634441e719c9",
   "metadata": {},
   "outputs": [
    {
     "data": {
      "text/plain": [
       "array([[ 2.9516834e-04, -1.5439545e-03, -1.3861381e-03, ...,\n",
       "        -1.3355449e-03, -9.9455914e-04, -7.4276538e-04],\n",
       "       [-8.6196875e-03,  3.6657380e-03,  5.1898835e-03, ...,\n",
       "        -2.3915148e-03, -9.5100952e-03,  4.5058774e-03],\n",
       "       [-1.1685997e-03,  1.2998827e-03, -2.5936777e-03, ...,\n",
       "        -7.4811236e-05,  6.1857427e-04, -3.5170032e-04],\n",
       "       ...,\n",
       "       [ 7.9651163e-06,  2.8415730e-05,  2.0546571e-04, ...,\n",
       "        -1.4128849e-04, -6.5393321e-04,  1.0128486e-03],\n",
       "       [ 8.8479457e-04,  4.8863521e-04,  1.4909195e-04, ...,\n",
       "        -8.6324412e-04, -1.2545983e-03,  7.0064142e-04],\n",
       "       [-6.5130975e-05, -6.3547277e-04, -9.2419802e-04, ...,\n",
       "         6.9236971e-04, -5.9665169e-04, -7.2573387e-04]], dtype=float32)"
      ]
     },
     "execution_count": 158,
     "metadata": {},
     "output_type": "execute_result"
    }
   ],
   "source": [
    "X"
   ]
  },
  {
   "cell_type": "code",
   "execution_count": 159,
   "id": "910e1327-9db3-4c2f-ace0-7d57c43043b3",
   "metadata": {
    "tags": []
   },
   "outputs": [
    {
     "ename": "IndentationError",
     "evalue": "expected an indented block (1027233577.py, line 1)",
     "output_type": "error",
     "traceback": [
      "\u001b[0;36m  Cell \u001b[0;32mIn[159], line 1\u001b[0;36m\u001b[0m\n\u001b[0;31m    for x in X:\u001b[0m\n\u001b[0m               ^\u001b[0m\n\u001b[0;31mIndentationError\u001b[0m\u001b[0;31m:\u001b[0m expected an indented block\n"
     ]
    }
   ],
   "source": [
    "for x in X:"
   ]
  },
  {
   "cell_type": "code",
   "execution_count": 211,
   "id": "32573a45-7abe-4f8c-b88f-dca638849f89",
   "metadata": {},
   "outputs": [],
   "source": [
    "X = np.array([np.array([1, 2, 3]), np.array([2, 3, 4]), np.array([5, 6, 7])])"
   ]
  },
  {
   "cell_type": "code",
   "execution_count": 161,
   "id": "9d757774-a8bf-40c8-b153-88212620040d",
   "metadata": {
    "tags": []
   },
   "outputs": [
    {
     "data": {
      "text/plain": [
       "array([ 2.95168342e-04, -1.54395448e-03, -1.38613814e-03, -9.72507230e-04,\n",
       "        1.15804060e-03, -1.65132154e-03, -1.30809122e-03,  1.68300045e-04,\n",
       "        6.33979682e-04, -5.52685000e-04, -3.46425048e-04, -1.96835026e-03,\n",
       "       -4.65927005e-04, -1.04350016e-04, -2.10811268e-04, -5.57828054e-04,\n",
       "       -1.20974914e-03, -8.23530194e-04, -9.68457549e-04, -1.87526247e-03,\n",
       "       -1.47328584e-03, -2.93521851e-04,  1.04553299e-04,  1.60692690e-03,\n",
       "        8.10740967e-05,  1.31653636e-04,  7.93572035e-05,  4.58291688e-05,\n",
       "       -2.51170772e-04,  1.39464828e-04,  8.84371344e-04, -4.17852541e-04,\n",
       "       -1.78421120e-04, -2.19719048e-04, -3.30868410e-04, -6.14361605e-04,\n",
       "        1.18277618e-04,  2.18484172e-04,  1.57382136e-04,  4.52921871e-04,\n",
       "        1.20168820e-03,  1.97265137e-04,  6.45224354e-04, -3.41328676e-04,\n",
       "        3.97570606e-04, -1.13717723e-03,  1.53014145e-03, -1.96184446e-05,\n",
       "        2.31549959e-03, -2.36989319e-04,  1.12825153e-04, -2.76852574e-04,\n",
       "       -8.87530099e-04, -1.09533616e-03, -1.62559375e-03,  1.67263774e-04,\n",
       "        1.46832177e-03,  5.45659685e-04, -9.81984893e-04, -5.89069794e-04,\n",
       "        2.84509675e-04,  9.51263297e-04, -1.02986651e-03,  1.22529152e-03,\n",
       "       -7.41313852e-04,  1.97731843e-03,  9.81671968e-04,  1.23330334e-03,\n",
       "        1.47196712e-04,  1.28448452e-03, -6.98489719e-04, -1.79005018e-03,\n",
       "        6.64480263e-04, -4.73880908e-04, -3.22689710e-04, -4.20707045e-04,\n",
       "        5.43043308e-04, -5.12917351e-04,  9.68249049e-04, -6.12068907e-05,\n",
       "       -9.82993515e-04, -2.07069842e-03, -1.81025243e-03,  2.64171837e-03,\n",
       "       -5.01081231e-04, -1.82339252e-04, -1.69391904e-04, -2.79030610e-05,\n",
       "        2.85024551e-04,  7.12717447e-05, -1.83343817e-03, -1.37713534e-04,\n",
       "        9.44309053e-04,  7.43254728e-04, -1.97938149e-04,  2.11762410e-04,\n",
       "        1.08180242e-03, -1.33554486e-03, -9.94559145e-04, -7.42765376e-04],\n",
       "      dtype=float32)"
      ]
     },
     "execution_count": 161,
     "metadata": {},
     "output_type": "execute_result"
    }
   ],
   "source": [
    "embs_flattened[0]"
   ]
  },
  {
   "cell_type": "code",
   "execution_count": 162,
   "id": "df75a77f-8170-484a-87c0-344cb6f4a2f1",
   "metadata": {},
   "outputs": [
    {
     "data": {
      "text/plain": [
       "100"
      ]
     },
     "execution_count": 162,
     "metadata": {},
     "output_type": "execute_result"
    }
   ],
   "source": [
    "len(embs_flattened[0])"
   ]
  },
  {
   "cell_type": "code",
   "execution_count": 233,
   "id": "4b431088-d999-4b9a-802f-d310e21779a8",
   "metadata": {},
   "outputs": [],
   "source": [
    "X = embs_flattened"
   ]
  },
  {
   "cell_type": "code",
   "execution_count": 50,
   "id": "1260fe29-8071-4203-bfda-6561d8ba4820",
   "metadata": {},
   "outputs": [
    {
     "name": "stdout",
     "output_type": "stream",
     "text": [
      "100\n",
      "100\n",
      "100\n",
      "100\n",
      "100\n"
     ]
    }
   ],
   "source": [
    "for x in our_data['emb'][0]:\n",
    "    print(len(x))"
   ]
  },
  {
   "cell_type": "code",
   "execution_count": 163,
   "id": "dc1c1454-812c-4640-8964-219091394789",
   "metadata": {},
   "outputs": [
    {
     "data": {
      "text/plain": [
       "0     [[0.004219133, 0.00038639535, -0.00087988045, ...\n",
       "1     [[-0.0086196875, 0.003665738, 0.0051898835, 0....\n",
       "2     [[-0.005774332, -0.0029801906, 0.006394581, 0....\n",
       "3     [[-0.008720077, 0.009953186, -0.0023454358, 0....\n",
       "4     [[0.0062332065, -0.0016407053, 0.005968472, -2...\n",
       "                            ...                        \n",
       "62    [[0.004219133, 0.00038639535, -0.00087988045, ...\n",
       "63    [[0.0021670053, 0.0050119366, 0.006372746, -0....\n",
       "64    [[0.0063795494, 0.0014176572, 0.006802543, 0.0...\n",
       "65    [[-0.0007966944, -0.0015513458, 0.00490522, -0...\n",
       "66    [[-0.006899624, 0.009475157, 0.009700476, -0.0...\n",
       "Name: emb, Length: 67, dtype: object"
      ]
     },
     "execution_count": 163,
     "metadata": {},
     "output_type": "execute_result"
    }
   ],
   "source": [
    "our_data['emb']"
   ]
  },
  {
   "cell_type": "markdown",
   "id": "bad5ba7b-ffbd-4717-9b3d-e69982441f01",
   "metadata": {},
   "source": [
    "**ЭТО ТОЖЕ НАДО БУДЕТ СОХРАНИТЬ В RESUMES_FEATURES** в уже более аккуратном окончательном виде\n",
    "\n",
    "Но непонятно, как это сделать :("
   ]
  },
  {
   "cell_type": "code",
   "execution_count": 166,
   "id": "dcc9d614-f342-4365-b3e7-4206f44ec398",
   "metadata": {},
   "outputs": [],
   "source": [
    "df['О себе, tokens'] = our_data['emb']"
   ]
  },
  {
   "cell_type": "code",
   "execution_count": 167,
   "id": "78257fa9-3ad7-4d41-becb-2ecc5771a8cd",
   "metadata": {},
   "outputs": [
    {
     "data": {
      "text/plain": [
       "0     [[0.004219133, 0.00038639535, -0.00087988045, ...\n",
       "1     [[-0.0086196875, 0.003665738, 0.0051898835, 0....\n",
       "2     [[-0.005774332, -0.0029801906, 0.006394581, 0....\n",
       "3     [[-0.008720077, 0.009953186, -0.0023454358, 0....\n",
       "4     [[0.0062332065, -0.0016407053, 0.005968472, -2...\n",
       "                            ...                        \n",
       "62    [[0.004219133, 0.00038639535, -0.00087988045, ...\n",
       "63    [[0.0021670053, 0.0050119366, 0.006372746, -0....\n",
       "64    [[0.0063795494, 0.0014176572, 0.006802543, 0.0...\n",
       "65    [[-0.0007966944, -0.0015513458, 0.00490522, -0...\n",
       "66    [[-0.006899624, 0.009475157, 0.009700476, -0.0...\n",
       "Name: emb, Length: 67, dtype: object"
      ]
     },
     "execution_count": 167,
     "metadata": {},
     "output_type": "execute_result"
    }
   ],
   "source": [
    "our_data['emb']"
   ]
  },
  {
   "cell_type": "code",
   "execution_count": 205,
   "id": "2781ec6e-6f4b-41f6-8617-9733ea8d97ac",
   "metadata": {},
   "outputs": [],
   "source": [
    "our_data['flat_emb_avg'] = ''\n",
    "flat_emb_avg = []"
   ]
  },
  {
   "cell_type": "code",
   "execution_count": 206,
   "id": "af95030a-b147-4888-8d3d-33088c604ee6",
   "metadata": {},
   "outputs": [
    {
     "data": {
      "text/plain": [
       "0    -0.000129\n",
       "1     0.000681\n",
       "2    -0.000146\n",
       "3     0.000049\n",
       "4    -0.000058\n",
       "        ...   \n",
       "62   -0.000504\n",
       "63   -0.000174\n",
       "64    0.000066\n",
       "65   -0.000009\n",
       "66   -0.000126\n",
       "Name: flat_emb_avg, Length: 67, dtype: float64"
      ]
     },
     "execution_count": 206,
     "metadata": {},
     "output_type": "execute_result"
    }
   ],
   "source": [
    "for x in our_data['flat_emb']:\n",
    "    flat_emb_avg.append(np.mean(x))\n",
    "our_data['flat_emb_avg'] = flat_emb_avg\n",
    "our_data['flat_emb_avg']"
   ]
  },
  {
   "cell_type": "code",
   "execution_count": 207,
   "id": "5a6077b8-5f5b-495c-b73a-0c24c5d5075d",
   "metadata": {},
   "outputs": [
    {
     "data": {
      "text/plain": [
       "-0.0001285661"
      ]
     },
     "execution_count": 207,
     "metadata": {},
     "output_type": "execute_result"
    }
   ],
   "source": [
    "np.mean(our_data['flat_emb'][0])"
   ]
  },
  {
   "cell_type": "markdown",
   "id": "f572bb4a-0eab-4603-843f-7479a907a1ae",
   "metadata": {},
   "source": [
    "вот это НН:"
   ]
  },
  {
   "cell_type": "code",
   "execution_count": 208,
   "id": "3d9f64c9-7837-4c8c-9728-ecf281edfaf1",
   "metadata": {},
   "outputs": [],
   "source": [
    "df['О себе, avg_tokens'] = our_data['flat_emb_avg']"
   ]
  },
  {
   "cell_type": "code",
   "execution_count": 209,
   "id": "23a9bd5a-4656-4f7c-8f38-d0c57b593401",
   "metadata": {},
   "outputs": [],
   "source": [
    "df['О себе, 3-grams'] = our_data['О себе 3']"
   ]
  },
  {
   "cell_type": "code",
   "execution_count": 210,
   "id": "5dee8de6-9421-4c67-ab46-9ff6d5c6cc78",
   "metadata": {},
   "outputs": [],
   "source": [
    "df.to_csv('resumes_features.csv')"
   ]
  },
  {
   "cell_type": "code",
   "execution_count": null,
   "id": "1ef5eb2f-1da7-4fc0-a1a4-8ee7be7b9d30",
   "metadata": {},
   "outputs": [],
   "source": []
  },
  {
   "cell_type": "markdown",
   "id": "5544e964-48ae-4e32-96a9-1f35bf31eb58",
   "metadata": {},
   "source": [
    "Вот эту штуку мы загружаем в алгоритм кластеризации, надо тоже ее сохранить в таблицу: "
   ]
  },
  {
   "cell_type": "code",
   "execution_count": 308,
   "id": "d82f6827-b346-4681-b7a4-a6b3e3673c8c",
   "metadata": {},
   "outputs": [
    {
     "data": {
      "text/html": [
       "<div>\n",
       "<style scoped>\n",
       "    .dataframe tbody tr th:only-of-type {\n",
       "        vertical-align: middle;\n",
       "    }\n",
       "\n",
       "    .dataframe tbody tr th {\n",
       "        vertical-align: top;\n",
       "    }\n",
       "\n",
       "    .dataframe thead th {\n",
       "        text-align: right;\n",
       "    }\n",
       "</style>\n",
       "<table border=\"1\" class=\"dataframe\">\n",
       "  <thead>\n",
       "    <tr style=\"text-align: right;\">\n",
       "      <th></th>\n",
       "      <th>0</th>\n",
       "      <th>1</th>\n",
       "      <th>2</th>\n",
       "      <th>3</th>\n",
       "      <th>4</th>\n",
       "      <th>5</th>\n",
       "      <th>6</th>\n",
       "      <th>7</th>\n",
       "      <th>8</th>\n",
       "      <th>9</th>\n",
       "      <th>...</th>\n",
       "      <th>90</th>\n",
       "      <th>91</th>\n",
       "      <th>92</th>\n",
       "      <th>93</th>\n",
       "      <th>94</th>\n",
       "      <th>95</th>\n",
       "      <th>96</th>\n",
       "      <th>97</th>\n",
       "      <th>98</th>\n",
       "      <th>99</th>\n",
       "    </tr>\n",
       "  </thead>\n",
       "  <tbody>\n",
       "    <tr>\n",
       "      <th>0</th>\n",
       "      <td>0.000295</td>\n",
       "      <td>-0.001544</td>\n",
       "      <td>-0.001386</td>\n",
       "      <td>-0.000973</td>\n",
       "      <td>0.001158</td>\n",
       "      <td>-0.001651</td>\n",
       "      <td>-0.001308</td>\n",
       "      <td>0.000168</td>\n",
       "      <td>0.000634</td>\n",
       "      <td>-0.000553</td>\n",
       "      <td>...</td>\n",
       "      <td>-0.001833</td>\n",
       "      <td>-0.000138</td>\n",
       "      <td>0.000944</td>\n",
       "      <td>0.000743</td>\n",
       "      <td>-0.000198</td>\n",
       "      <td>0.000212</td>\n",
       "      <td>1.081802e-03</td>\n",
       "      <td>-0.001336</td>\n",
       "      <td>-0.000995</td>\n",
       "      <td>-0.000743</td>\n",
       "    </tr>\n",
       "    <tr>\n",
       "      <th>1</th>\n",
       "      <td>-0.008620</td>\n",
       "      <td>0.003666</td>\n",
       "      <td>0.005190</td>\n",
       "      <td>0.005742</td>\n",
       "      <td>0.007467</td>\n",
       "      <td>-0.006168</td>\n",
       "      <td>0.001106</td>\n",
       "      <td>0.006047</td>\n",
       "      <td>-0.002840</td>\n",
       "      <td>-0.006174</td>\n",
       "      <td>...</td>\n",
       "      <td>0.001088</td>\n",
       "      <td>-0.001576</td>\n",
       "      <td>0.002197</td>\n",
       "      <td>-0.007882</td>\n",
       "      <td>-0.002717</td>\n",
       "      <td>0.002663</td>\n",
       "      <td>5.346682e-03</td>\n",
       "      <td>-0.002392</td>\n",
       "      <td>-0.009510</td>\n",
       "      <td>0.004506</td>\n",
       "    </tr>\n",
       "    <tr>\n",
       "      <th>2</th>\n",
       "      <td>-0.001169</td>\n",
       "      <td>0.001300</td>\n",
       "      <td>-0.002594</td>\n",
       "      <td>0.000370</td>\n",
       "      <td>0.000996</td>\n",
       "      <td>-0.003299</td>\n",
       "      <td>0.000349</td>\n",
       "      <td>0.000345</td>\n",
       "      <td>-0.000463</td>\n",
       "      <td>-0.000644</td>\n",
       "      <td>...</td>\n",
       "      <td>-0.002032</td>\n",
       "      <td>-0.000797</td>\n",
       "      <td>0.000857</td>\n",
       "      <td>0.001121</td>\n",
       "      <td>0.000713</td>\n",
       "      <td>0.001256</td>\n",
       "      <td>2.744928e-07</td>\n",
       "      <td>-0.000075</td>\n",
       "      <td>0.000619</td>\n",
       "      <td>-0.000352</td>\n",
       "    </tr>\n",
       "    <tr>\n",
       "      <th>3</th>\n",
       "      <td>-0.000407</td>\n",
       "      <td>0.000587</td>\n",
       "      <td>0.000852</td>\n",
       "      <td>0.000703</td>\n",
       "      <td>-0.000880</td>\n",
       "      <td>0.000500</td>\n",
       "      <td>-0.000126</td>\n",
       "      <td>0.000755</td>\n",
       "      <td>0.000299</td>\n",
       "      <td>0.000519</td>\n",
       "      <td>...</td>\n",
       "      <td>0.001694</td>\n",
       "      <td>0.001077</td>\n",
       "      <td>0.001228</td>\n",
       "      <td>-0.000574</td>\n",
       "      <td>0.000283</td>\n",
       "      <td>-0.001303</td>\n",
       "      <td>-1.152844e-04</td>\n",
       "      <td>0.000962</td>\n",
       "      <td>0.000771</td>\n",
       "      <td>-0.000796</td>\n",
       "    </tr>\n",
       "    <tr>\n",
       "      <th>4</th>\n",
       "      <td>-0.000372</td>\n",
       "      <td>0.000237</td>\n",
       "      <td>-0.000162</td>\n",
       "      <td>-0.000195</td>\n",
       "      <td>-0.000445</td>\n",
       "      <td>0.000184</td>\n",
       "      <td>-0.000011</td>\n",
       "      <td>-0.000585</td>\n",
       "      <td>-0.000691</td>\n",
       "      <td>-0.000110</td>\n",
       "      <td>...</td>\n",
       "      <td>-0.000880</td>\n",
       "      <td>0.000244</td>\n",
       "      <td>0.000685</td>\n",
       "      <td>-0.000700</td>\n",
       "      <td>-0.000378</td>\n",
       "      <td>0.000316</td>\n",
       "      <td>3.890419e-04</td>\n",
       "      <td>-0.000418</td>\n",
       "      <td>-0.000869</td>\n",
       "      <td>-0.000259</td>\n",
       "    </tr>\n",
       "    <tr>\n",
       "      <th>...</th>\n",
       "      <td>...</td>\n",
       "      <td>...</td>\n",
       "      <td>...</td>\n",
       "      <td>...</td>\n",
       "      <td>...</td>\n",
       "      <td>...</td>\n",
       "      <td>...</td>\n",
       "      <td>...</td>\n",
       "      <td>...</td>\n",
       "      <td>...</td>\n",
       "      <td>...</td>\n",
       "      <td>...</td>\n",
       "      <td>...</td>\n",
       "      <td>...</td>\n",
       "      <td>...</td>\n",
       "      <td>...</td>\n",
       "      <td>...</td>\n",
       "      <td>...</td>\n",
       "      <td>...</td>\n",
       "      <td>...</td>\n",
       "      <td>...</td>\n",
       "    </tr>\n",
       "    <tr>\n",
       "      <th>62</th>\n",
       "      <td>-0.000498</td>\n",
       "      <td>-0.000544</td>\n",
       "      <td>-0.002561</td>\n",
       "      <td>0.001359</td>\n",
       "      <td>0.000329</td>\n",
       "      <td>-0.005534</td>\n",
       "      <td>-0.001044</td>\n",
       "      <td>0.002980</td>\n",
       "      <td>-0.003545</td>\n",
       "      <td>-0.007325</td>\n",
       "      <td>...</td>\n",
       "      <td>0.001095</td>\n",
       "      <td>-0.001868</td>\n",
       "      <td>-0.000197</td>\n",
       "      <td>0.004056</td>\n",
       "      <td>-0.000613</td>\n",
       "      <td>0.004742</td>\n",
       "      <td>3.581134e-03</td>\n",
       "      <td>-0.001931</td>\n",
       "      <td>-0.005528</td>\n",
       "      <td>0.002591</td>\n",
       "    </tr>\n",
       "    <tr>\n",
       "      <th>63</th>\n",
       "      <td>-0.002116</td>\n",
       "      <td>-0.000514</td>\n",
       "      <td>0.000457</td>\n",
       "      <td>-0.000912</td>\n",
       "      <td>-0.000279</td>\n",
       "      <td>-0.001034</td>\n",
       "      <td>0.000015</td>\n",
       "      <td>-0.002101</td>\n",
       "      <td>0.000427</td>\n",
       "      <td>-0.000185</td>\n",
       "      <td>...</td>\n",
       "      <td>-0.001381</td>\n",
       "      <td>-0.000462</td>\n",
       "      <td>-0.000876</td>\n",
       "      <td>-0.002568</td>\n",
       "      <td>0.000448</td>\n",
       "      <td>-0.003808</td>\n",
       "      <td>4.142171e-04</td>\n",
       "      <td>0.002105</td>\n",
       "      <td>-0.002256</td>\n",
       "      <td>-0.000658</td>\n",
       "    </tr>\n",
       "    <tr>\n",
       "      <th>64</th>\n",
       "      <td>0.000008</td>\n",
       "      <td>0.000028</td>\n",
       "      <td>0.000205</td>\n",
       "      <td>0.000259</td>\n",
       "      <td>0.000265</td>\n",
       "      <td>0.000270</td>\n",
       "      <td>0.000110</td>\n",
       "      <td>0.000886</td>\n",
       "      <td>0.000519</td>\n",
       "      <td>0.000684</td>\n",
       "      <td>...</td>\n",
       "      <td>-0.000178</td>\n",
       "      <td>-0.000481</td>\n",
       "      <td>0.000166</td>\n",
       "      <td>0.000323</td>\n",
       "      <td>-0.000305</td>\n",
       "      <td>-0.000398</td>\n",
       "      <td>6.580245e-04</td>\n",
       "      <td>-0.000141</td>\n",
       "      <td>-0.000654</td>\n",
       "      <td>0.001013</td>\n",
       "    </tr>\n",
       "    <tr>\n",
       "      <th>65</th>\n",
       "      <td>0.000885</td>\n",
       "      <td>0.000489</td>\n",
       "      <td>0.000149</td>\n",
       "      <td>0.000421</td>\n",
       "      <td>-0.001353</td>\n",
       "      <td>0.000044</td>\n",
       "      <td>0.001128</td>\n",
       "      <td>0.000413</td>\n",
       "      <td>-0.000123</td>\n",
       "      <td>-0.001166</td>\n",
       "      <td>...</td>\n",
       "      <td>-0.001279</td>\n",
       "      <td>-0.000413</td>\n",
       "      <td>0.000310</td>\n",
       "      <td>0.000159</td>\n",
       "      <td>0.000438</td>\n",
       "      <td>-0.000380</td>\n",
       "      <td>9.543705e-04</td>\n",
       "      <td>-0.000863</td>\n",
       "      <td>-0.001255</td>\n",
       "      <td>0.000701</td>\n",
       "    </tr>\n",
       "    <tr>\n",
       "      <th>66</th>\n",
       "      <td>-0.000065</td>\n",
       "      <td>-0.000635</td>\n",
       "      <td>-0.000924</td>\n",
       "      <td>-0.000580</td>\n",
       "      <td>-0.000803</td>\n",
       "      <td>-0.000038</td>\n",
       "      <td>0.000095</td>\n",
       "      <td>-0.000299</td>\n",
       "      <td>-0.000569</td>\n",
       "      <td>-0.000912</td>\n",
       "      <td>...</td>\n",
       "      <td>-0.000310</td>\n",
       "      <td>0.001121</td>\n",
       "      <td>-0.000797</td>\n",
       "      <td>-0.000613</td>\n",
       "      <td>-0.000095</td>\n",
       "      <td>-0.000204</td>\n",
       "      <td>-1.179475e-03</td>\n",
       "      <td>0.000692</td>\n",
       "      <td>-0.000597</td>\n",
       "      <td>-0.000726</td>\n",
       "    </tr>\n",
       "  </tbody>\n",
       "</table>\n",
       "<p>67 rows × 100 columns</p>\n",
       "</div>"
      ],
      "text/plain": [
       "          0         1         2         3         4         5         6   \\\n",
       "0   0.000295 -0.001544 -0.001386 -0.000973  0.001158 -0.001651 -0.001308   \n",
       "1  -0.008620  0.003666  0.005190  0.005742  0.007467 -0.006168  0.001106   \n",
       "2  -0.001169  0.001300 -0.002594  0.000370  0.000996 -0.003299  0.000349   \n",
       "3  -0.000407  0.000587  0.000852  0.000703 -0.000880  0.000500 -0.000126   \n",
       "4  -0.000372  0.000237 -0.000162 -0.000195 -0.000445  0.000184 -0.000011   \n",
       "..       ...       ...       ...       ...       ...       ...       ...   \n",
       "62 -0.000498 -0.000544 -0.002561  0.001359  0.000329 -0.005534 -0.001044   \n",
       "63 -0.002116 -0.000514  0.000457 -0.000912 -0.000279 -0.001034  0.000015   \n",
       "64  0.000008  0.000028  0.000205  0.000259  0.000265  0.000270  0.000110   \n",
       "65  0.000885  0.000489  0.000149  0.000421 -0.001353  0.000044  0.001128   \n",
       "66 -0.000065 -0.000635 -0.000924 -0.000580 -0.000803 -0.000038  0.000095   \n",
       "\n",
       "          7         8         9   ...        90        91        92        93  \\\n",
       "0   0.000168  0.000634 -0.000553  ... -0.001833 -0.000138  0.000944  0.000743   \n",
       "1   0.006047 -0.002840 -0.006174  ...  0.001088 -0.001576  0.002197 -0.007882   \n",
       "2   0.000345 -0.000463 -0.000644  ... -0.002032 -0.000797  0.000857  0.001121   \n",
       "3   0.000755  0.000299  0.000519  ...  0.001694  0.001077  0.001228 -0.000574   \n",
       "4  -0.000585 -0.000691 -0.000110  ... -0.000880  0.000244  0.000685 -0.000700   \n",
       "..       ...       ...       ...  ...       ...       ...       ...       ...   \n",
       "62  0.002980 -0.003545 -0.007325  ...  0.001095 -0.001868 -0.000197  0.004056   \n",
       "63 -0.002101  0.000427 -0.000185  ... -0.001381 -0.000462 -0.000876 -0.002568   \n",
       "64  0.000886  0.000519  0.000684  ... -0.000178 -0.000481  0.000166  0.000323   \n",
       "65  0.000413 -0.000123 -0.001166  ... -0.001279 -0.000413  0.000310  0.000159   \n",
       "66 -0.000299 -0.000569 -0.000912  ... -0.000310  0.001121 -0.000797 -0.000613   \n",
       "\n",
       "          94        95            96        97        98        99  \n",
       "0  -0.000198  0.000212  1.081802e-03 -0.001336 -0.000995 -0.000743  \n",
       "1  -0.002717  0.002663  5.346682e-03 -0.002392 -0.009510  0.004506  \n",
       "2   0.000713  0.001256  2.744928e-07 -0.000075  0.000619 -0.000352  \n",
       "3   0.000283 -0.001303 -1.152844e-04  0.000962  0.000771 -0.000796  \n",
       "4  -0.000378  0.000316  3.890419e-04 -0.000418 -0.000869 -0.000259  \n",
       "..       ...       ...           ...       ...       ...       ...  \n",
       "62 -0.000613  0.004742  3.581134e-03 -0.001931 -0.005528  0.002591  \n",
       "63  0.000448 -0.003808  4.142171e-04  0.002105 -0.002256 -0.000658  \n",
       "64 -0.000305 -0.000398  6.580245e-04 -0.000141 -0.000654  0.001013  \n",
       "65  0.000438 -0.000380  9.543705e-04 -0.000863 -0.001255  0.000701  \n",
       "66 -0.000095 -0.000204 -1.179475e-03  0.000692 -0.000597 -0.000726  \n",
       "\n",
       "[67 rows x 100 columns]"
      ]
     },
     "execution_count": 308,
     "metadata": {},
     "output_type": "execute_result"
    }
   ],
   "source": [
    "pd.DataFrame(X)"
   ]
  },
  {
   "cell_type": "markdown",
   "id": "99a4fe5b-04a6-4471-b328-a603e9126297",
   "metadata": {},
   "source": [
    "Займусь этим позже, когда приступлю к анализу данных."
   ]
  },
  {
   "cell_type": "code",
   "execution_count": null,
   "id": "6b91e50f-fa96-448d-8ca5-9455e0acba58",
   "metadata": {},
   "outputs": [],
   "source": []
  }
 ],
 "metadata": {
  "kernelspec": {
   "display_name": "Python 3 (ipykernel)",
   "language": "python",
   "name": "python3"
  },
  "language_info": {
   "codemirror_mode": {
    "name": "ipython",
    "version": 3
   },
   "file_extension": ".py",
   "mimetype": "text/x-python",
   "name": "python",
   "nbconvert_exporter": "python",
   "pygments_lexer": "ipython3",
   "version": "3.9.5"
  }
 },
 "nbformat": 4,
 "nbformat_minor": 5
}
