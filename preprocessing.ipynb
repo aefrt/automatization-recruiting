{
 "cells": [
  {
   "cell_type": "markdown",
   "id": "721249dc-5ee6-46df-9db4-40797eee0987",
   "metadata": {},
   "source": [
    "## ВКР: обработка данных"
   ]
  },
  {
   "cell_type": "markdown",
   "id": "1fb0d0c3-f00d-4f52-8dba-8ad52683c69d",
   "metadata": {},
   "source": [
    "Автоматизация подбора персонала\n",
    "\n",
    "Копчев Владислав, БПМИ197"
   ]
  },
  {
   "cell_type": "markdown",
   "id": "acf9b8cf-09a1-435f-a6f2-6100d0d4d45f",
   "metadata": {},
   "source": [
    "### Пост-обработка"
   ]
  },
  {
   "cell_type": "code",
   "execution_count": 100,
   "id": "2771b68c-ecbc-462c-95b3-64f93b083a7d",
   "metadata": {},
   "outputs": [],
   "source": [
    "df = pd.read_csv('resumes_features.csv')"
   ]
  },
  {
   "cell_type": "markdown",
   "id": "ecb99021-10da-411c-9c4b-764074c6df44",
   "metadata": {},
   "source": [
    "**Перевод опыта работы в числовое значение:**"
   ]
  },
  {
   "cell_type": "code",
   "execution_count": 101,
   "id": "32af93d1-caa6-46dc-a7ce-1fedab76ba13",
   "metadata": {
    "tags": []
   },
   "outputs": [
    {
     "ename": "KeyError",
     "evalue": "'Опыт работы, лет'",
     "output_type": "error",
     "traceback": [
      "\u001b[0;31m---------------------------------------------------------------------------\u001b[0m",
      "\u001b[0;31mKeyError\u001b[0m                                  Traceback (most recent call last)",
      "\u001b[0;32m~/miniconda3/lib/python3.9/site-packages/pandas/core/indexes/base.py\u001b[0m in \u001b[0;36mget_loc\u001b[0;34m(self, key, method, tolerance)\u001b[0m\n\u001b[1;32m   3079\u001b[0m             \u001b[0;32mtry\u001b[0m\u001b[0;34m:\u001b[0m\u001b[0;34m\u001b[0m\u001b[0;34m\u001b[0m\u001b[0m\n\u001b[0;32m-> 3080\u001b[0;31m                 \u001b[0;32mreturn\u001b[0m \u001b[0mself\u001b[0m\u001b[0;34m.\u001b[0m\u001b[0m_engine\u001b[0m\u001b[0;34m.\u001b[0m\u001b[0mget_loc\u001b[0m\u001b[0;34m(\u001b[0m\u001b[0mcasted_key\u001b[0m\u001b[0;34m)\u001b[0m\u001b[0;34m\u001b[0m\u001b[0;34m\u001b[0m\u001b[0m\n\u001b[0m\u001b[1;32m   3081\u001b[0m             \u001b[0;32mexcept\u001b[0m \u001b[0mKeyError\u001b[0m \u001b[0;32mas\u001b[0m \u001b[0merr\u001b[0m\u001b[0;34m:\u001b[0m\u001b[0;34m\u001b[0m\u001b[0;34m\u001b[0m\u001b[0m\n",
      "\u001b[0;32mpandas/_libs/index.pyx\u001b[0m in \u001b[0;36mpandas._libs.index.IndexEngine.get_loc\u001b[0;34m()\u001b[0m\n",
      "\u001b[0;32mpandas/_libs/index.pyx\u001b[0m in \u001b[0;36mpandas._libs.index.IndexEngine.get_loc\u001b[0;34m()\u001b[0m\n",
      "\u001b[0;32mpandas/_libs/hashtable_class_helper.pxi\u001b[0m in \u001b[0;36mpandas._libs.hashtable.PyObjectHashTable.get_item\u001b[0;34m()\u001b[0m\n",
      "\u001b[0;32mpandas/_libs/hashtable_class_helper.pxi\u001b[0m in \u001b[0;36mpandas._libs.hashtable.PyObjectHashTable.get_item\u001b[0;34m()\u001b[0m\n",
      "\u001b[0;31mKeyError\u001b[0m: 'Опыт работы, лет'",
      "\nThe above exception was the direct cause of the following exception:\n",
      "\u001b[0;31mKeyError\u001b[0m                                  Traceback (most recent call last)",
      "\u001b[0;32m<ipython-input-101-c68711bdf154>\u001b[0m in \u001b[0;36m<module>\u001b[0;34m\u001b[0m\n\u001b[0;32m----> 1\u001b[0;31m \u001b[0mdf\u001b[0m\u001b[0;34m[\u001b[0m\u001b[0;34m'Опыт работы, лет'\u001b[0m\u001b[0;34m]\u001b[0m\u001b[0;34m[\u001b[0m\u001b[0;36m2\u001b[0m\u001b[0;34m]\u001b[0m\u001b[0;34m\u001b[0m\u001b[0;34m\u001b[0m\u001b[0m\n\u001b[0m\u001b[1;32m      2\u001b[0m \u001b[0mopyt_normalized\u001b[0m \u001b[0;34m=\u001b[0m \u001b[0;34m[\u001b[0m\u001b[0;34m]\u001b[0m\u001b[0;34m\u001b[0m\u001b[0;34m\u001b[0m\u001b[0m\n\u001b[1;32m      3\u001b[0m \u001b[0;32mfor\u001b[0m \u001b[0mx\u001b[0m \u001b[0;32min\u001b[0m \u001b[0mdf\u001b[0m\u001b[0;34m[\u001b[0m\u001b[0;34m'Опыт работы, лет'\u001b[0m\u001b[0;34m]\u001b[0m\u001b[0;34m:\u001b[0m\u001b[0;34m\u001b[0m\u001b[0;34m\u001b[0m\u001b[0m\n\u001b[1;32m      4\u001b[0m     \u001b[0mx\u001b[0m\u001b[0;34m=\u001b[0m\u001b[0mx\u001b[0m\u001b[0;34m.\u001b[0m\u001b[0mremoveprefix\u001b[0m\u001b[0;34m(\u001b[0m\u001b[0;34m'Work experience '\u001b[0m\u001b[0;34m)\u001b[0m\u001b[0;34m.\u001b[0m\u001b[0mremoveprefix\u001b[0m\u001b[0;34m(\u001b[0m\u001b[0;34m'Опыт работы '\u001b[0m\u001b[0;34m)\u001b[0m\u001b[0;34m\u001b[0m\u001b[0;34m\u001b[0m\u001b[0m\n\u001b[1;32m      5\u001b[0m     \u001b[0mx\u001b[0m\u001b[0;34m=\u001b[0m\u001b[0mx\u001b[0m\u001b[0;34m.\u001b[0m\u001b[0mreplace\u001b[0m\u001b[0;34m(\u001b[0m\u001b[0;34m'years'\u001b[0m\u001b[0;34m,\u001b[0m \u001b[0;34m';'\u001b[0m\u001b[0;34m)\u001b[0m\u001b[0;34m\u001b[0m\u001b[0;34m\u001b[0m\u001b[0m\n",
      "\u001b[0;32m~/miniconda3/lib/python3.9/site-packages/pandas/core/frame.py\u001b[0m in \u001b[0;36m__getitem__\u001b[0;34m(self, key)\u001b[0m\n\u001b[1;32m   3022\u001b[0m             \u001b[0;32mif\u001b[0m \u001b[0mself\u001b[0m\u001b[0;34m.\u001b[0m\u001b[0mcolumns\u001b[0m\u001b[0;34m.\u001b[0m\u001b[0mnlevels\u001b[0m \u001b[0;34m>\u001b[0m \u001b[0;36m1\u001b[0m\u001b[0;34m:\u001b[0m\u001b[0;34m\u001b[0m\u001b[0;34m\u001b[0m\u001b[0m\n\u001b[1;32m   3023\u001b[0m                 \u001b[0;32mreturn\u001b[0m \u001b[0mself\u001b[0m\u001b[0;34m.\u001b[0m\u001b[0m_getitem_multilevel\u001b[0m\u001b[0;34m(\u001b[0m\u001b[0mkey\u001b[0m\u001b[0;34m)\u001b[0m\u001b[0;34m\u001b[0m\u001b[0;34m\u001b[0m\u001b[0m\n\u001b[0;32m-> 3024\u001b[0;31m             \u001b[0mindexer\u001b[0m \u001b[0;34m=\u001b[0m \u001b[0mself\u001b[0m\u001b[0;34m.\u001b[0m\u001b[0mcolumns\u001b[0m\u001b[0;34m.\u001b[0m\u001b[0mget_loc\u001b[0m\u001b[0;34m(\u001b[0m\u001b[0mkey\u001b[0m\u001b[0;34m)\u001b[0m\u001b[0;34m\u001b[0m\u001b[0;34m\u001b[0m\u001b[0m\n\u001b[0m\u001b[1;32m   3025\u001b[0m             \u001b[0;32mif\u001b[0m \u001b[0mis_integer\u001b[0m\u001b[0;34m(\u001b[0m\u001b[0mindexer\u001b[0m\u001b[0;34m)\u001b[0m\u001b[0;34m:\u001b[0m\u001b[0;34m\u001b[0m\u001b[0;34m\u001b[0m\u001b[0m\n\u001b[1;32m   3026\u001b[0m                 \u001b[0mindexer\u001b[0m \u001b[0;34m=\u001b[0m \u001b[0;34m[\u001b[0m\u001b[0mindexer\u001b[0m\u001b[0;34m]\u001b[0m\u001b[0;34m\u001b[0m\u001b[0;34m\u001b[0m\u001b[0m\n",
      "\u001b[0;32m~/miniconda3/lib/python3.9/site-packages/pandas/core/indexes/base.py\u001b[0m in \u001b[0;36mget_loc\u001b[0;34m(self, key, method, tolerance)\u001b[0m\n\u001b[1;32m   3080\u001b[0m                 \u001b[0;32mreturn\u001b[0m \u001b[0mself\u001b[0m\u001b[0;34m.\u001b[0m\u001b[0m_engine\u001b[0m\u001b[0;34m.\u001b[0m\u001b[0mget_loc\u001b[0m\u001b[0;34m(\u001b[0m\u001b[0mcasted_key\u001b[0m\u001b[0;34m)\u001b[0m\u001b[0;34m\u001b[0m\u001b[0;34m\u001b[0m\u001b[0m\n\u001b[1;32m   3081\u001b[0m             \u001b[0;32mexcept\u001b[0m \u001b[0mKeyError\u001b[0m \u001b[0;32mas\u001b[0m \u001b[0merr\u001b[0m\u001b[0;34m:\u001b[0m\u001b[0;34m\u001b[0m\u001b[0;34m\u001b[0m\u001b[0m\n\u001b[0;32m-> 3082\u001b[0;31m                 \u001b[0;32mraise\u001b[0m \u001b[0mKeyError\u001b[0m\u001b[0;34m(\u001b[0m\u001b[0mkey\u001b[0m\u001b[0;34m)\u001b[0m \u001b[0;32mfrom\u001b[0m \u001b[0merr\u001b[0m\u001b[0;34m\u001b[0m\u001b[0;34m\u001b[0m\u001b[0m\n\u001b[0m\u001b[1;32m   3083\u001b[0m \u001b[0;34m\u001b[0m\u001b[0m\n\u001b[1;32m   3084\u001b[0m         \u001b[0;32mif\u001b[0m \u001b[0mtolerance\u001b[0m \u001b[0;32mis\u001b[0m \u001b[0;32mnot\u001b[0m \u001b[0;32mNone\u001b[0m\u001b[0;34m:\u001b[0m\u001b[0;34m\u001b[0m\u001b[0;34m\u001b[0m\u001b[0m\n",
      "\u001b[0;31mKeyError\u001b[0m: 'Опыт работы, лет'"
     ]
    }
   ],
   "source": [
    "df['Опыт работы, лет'][2]\n",
    "opyt_normalized = []\n",
    "for x in df['Опыт работы, лет']:\n",
    "    x=x.removeprefix('Work experience ').removeprefix('Опыт работы ')\n",
    "    x=x.replace('years', ';')\n",
    "    x=x.replace('year', ';')\n",
    "    x=x.replace('года', ';')  # ВСЕГДА д. б. раньше\n",
    "    x=x.replace('год', ';')\n",
    "    x=x.replace('лет', ';')\n",
    "    \n",
    "    if x.find(';') == -1:\n",
    "        x = '0;' + x\n",
    "    x=x.removesuffix('months')\n",
    "    x=x.removesuffix('month')\n",
    "    x=x.removesuffix('месяцев')\n",
    "    x=x.removesuffix('месяц')\n",
    "    x=x.removesuffix('месяца')\n",
    "     \n",
    "    x=x.replace(' ', '')\n",
    "    if re.search('[а–Я]+|[a–Z]+', x):\n",
    "        x='---'\n",
    "    opyt_normalized.append(x)\n",
    "    \n",
    "df['Опыт нормализованный'] = opyt_normalized\n",
    "df.drop(list(df)[0], axis=1)"
   ]
  },
  {
   "cell_type": "markdown",
   "id": "a0bd7df3-16f7-4fda-b032-53d14ec74cff",
   "metadata": {},
   "source": [
    "**Словарь образования:**"
   ]
  },
  {
   "cell_type": "code",
   "execution_count": 102,
   "id": "35829367-4bc7-4cc3-a774-d95173a63a09",
   "metadata": {},
   "outputs": [],
   "source": [
    "edu_list = pd.concat([df['Образование-1'], df['Образование-2']], axis=0).drop_duplicates().reset_index().drop('index', axis=1)\n",
    "edu_list = list(edu_list[list(edu_list)[0]])\n",
    "len(edu_list)\n",
    "\n",
    "ys=[]\n",
    "\n",
    "for x in edu_list:\n",
    "    s=str(x)\n",
    "    l = s.find(',')+1\n",
    "    y=s[l:].lstrip(' ')\n",
    "    print(end='')\n",
    "    ys.append(y)\n",
    "    \n",
    "for i in range(len(ys)):\n",
    "    y = ys[i]\n",
    "    is_space = re.fullmatch('[А-я]+[ ][А-я ()-]+', y)\n",
    "    if is_space:\n",
    "        #print(y)\n",
    "        1==1\n",
    "    is_m = re.fullmatch('Mosc.*', y) or re.fullmatch('Моск.*', y) or re.fullmatch('Петерб.*', y) or re.fullmatch('Peters.*', y) or re.fullmatch('СПб.*', y) or re.fullmatch('Новосиб.*', y) or re.fullmatch('Novosib.*', y) or re.fullmatch('Томск.*', y) or re.fullmatch('Tomsk.*', y)\n",
    "    if not is_space and not is_m:\n",
    "        ys[i] = 'NO'\n",
    "#ys\n",
    "\n",
    "cnt=0\n",
    "for y in ys:\n",
    "    if y != 'NO':\n",
    "        cnt+=1\n",
    "cnt\n",
    "\n",
    "import numpy as np\n",
    "ys = np.array(ys)\n",
    "ys=np.unique(ys)\n",
    "ys=list(ys)\n",
    "len(ys)\n",
    "\n",
    "\"\"\"\n",
    "Топ-10 IT-вузов России по версии QS (Quacquarelli Symonds)\n",
    "\n",
    "1. Московский государственный университет им. М. В. Ломоносова;\n",
    "2. Университет ИТМО;\n",
    "3. Московский физико-технологический институт (МФТИ);\n",
    "4. Высшая школа экономики;\n",
    "5. Санкт-Петербургский политехнический университет Петра Великого; \n",
    "6. Московский государственный технический университета (МГТУ) имени Н.Э. Баумана;\n",
    "7. Санкт-Петербургский политехнический университет Петра Великого; \n",
    "8. Новосибирский государственный университет;\n",
    "9. Московский инженерно-физический институт (МИФИ);\n",
    "10. Томский политехнический университет.\n",
    "\n",
    "https://propostuplenie.ru/article/spisok-luchshih-informacionnyh-vuzov-rossii/\n",
    "\"\"\"\n",
    "\n",
    "def is_top(y):\n",
    "    if re.search('ВШЭ', y) or re.search('Высшая школа экономики', y) or re.search('HSE', y):\n",
    "        y='ВШЭ'\n",
    "    elif re.search('Московский Государственный Университет$', y) or re.search('Московский Государственный Университет им[.  ени] (М.|Л)', y) or re.search('МГУ[^ А-я]|\\(МГУ\\)', y) or re.search('Moscow state University', y) or re.search('MSU', y):\n",
    "        y='МГУ'\n",
    "    elif re.search('ИТМО', y):\n",
    "        y='ИТМО'\n",
    "    elif re.search('МФТИ', y) or re.search('Московский физико-технологический институт', y):\n",
    "        y='Физтех'\n",
    "        # ЗФТШ при МФТИ\n",
    "        # - Физтех\n",
    "    elif re.search('СПБ Политех', y) or re.search('Санкт-Петербургский политехнический университет', y):\n",
    "        y='Политех СПб'\n",
    "    elif re.search('Бауман', y):\n",
    "        y='Бауманка'\n",
    "    elif re.search('НГУ', y) or re.search('Новосибирский государственный университет', y):\n",
    "        y='НГУ'\n",
    "        # НГУ Наталии Нестеровой\n",
    "    elif re.search('МИФИ', y) or re.search('Московский инженерно-физический институт', y):\n",
    "        y='МИФИ'\n",
    "        # Какие-то Техникум ДИТИ НИЯУ МИФИ и прочее...\n",
    "    elif re.search('ТомГУ', y) or re.search('Томский политехнический университет', y):\n",
    "        y='ТомГУ'\n",
    "    else:\n",
    "        y='NO'\n",
    "    return y != 'NO'\n",
    "        \n",
    "# Дальше завожу колонку: parsed_uni по этому правилу -- 1 если хотя бы 1 уник топовый\n",
    "# И там заменяю значения и вывожу равно ли МГУ / етц.\n",
    "\n",
    "xs = []\n",
    "for x in df.index:\n",
    "    stroke = df.iloc[x].loc[['Образование-1', 'Образование-2']]\n",
    "    k2 = False\n",
    "    if type(stroke[0]) != float:\n",
    "        k1 = is_top(stroke[0])\n",
    "    if type(stroke[1]) != float:\n",
    "        k2 = is_top(stroke[1])\n",
    "    xs.append(k1 or k2)\n",
    "    \n",
    "df['Топовость образования']=xs"
   ]
  },
  {
   "cell_type": "markdown",
   "id": "7c45a673-647c-4b44-93ae-c3886489ea0b",
   "metadata": {},
   "source": [
    "Необходимо еще доделать правила:"
   ]
  },
  {
   "cell_type": "code",
   "execution_count": 103,
   "id": "ad074a72-8250-4c18-ab89-ae0c8937edd9",
   "metadata": {},
   "outputs": [
    {
     "data": {
      "text/plain": [
       "False"
      ]
     },
     "execution_count": 103,
     "metadata": {},
     "output_type": "execute_result"
    }
   ],
   "source": [
    "is_top('МГУ') # почему-то не работает\n",
    "# for x in "
   ]
  },
  {
   "cell_type": "markdown",
   "id": "b04c4f13-a5df-4ab9-bce2-ab3382c85d3a",
   "metadata": {},
   "source": [
    "**Флаг, что текст на eng:**"
   ]
  },
  {
   "cell_type": "code",
   "execution_count": 104,
   "id": "4586fc1d-292c-4e13-a40b-a7be01ed01a1",
   "metadata": {
    "tags": []
   },
   "outputs": [],
   "source": [
    "df['О себе']\n",
    "cnt=0\n",
    "\n",
    "for y in df['О себе']:\n",
    "    if type(y)!=float:  # not nan\n",
    "        if re.search('[a–Z]+', y):  # более точно: у английских резюме интересы тоже будут на англ итд, потом подумаю над этим\n",
    "            cnt+=1\n",
    "cnt, df.shape[0]-cnt\n",
    "\n",
    "ts=[]\n",
    "for x in df['О себе']:\n",
    "    t = 'NOT ENG, NOT RU'\n",
    "    if type(x)!=float:  # not nan\n",
    "        t = re.search('[a–Z]+', x)\n",
    "        if t:\n",
    "            t = 'ENG'\n",
    "        else:\n",
    "            t = 'RU'\n",
    "    ts.append(t)\n",
    "df['is_eng?'] = ts"
   ]
  },
  {
   "cell_type": "markdown",
   "id": "ae9bdbb5-b7e5-4a9b-afd2-7922eea84c45",
   "metadata": {},
   "source": [
    "**Справочник по интересам:**"
   ]
  },
  {
   "cell_type": "code",
   "execution_count": 105,
   "id": "56b4a5f8-bc4a-4078-8aa2-a8c910b8c151",
   "metadata": {
    "tags": []
   },
   "outputs": [],
   "source": [
    "inter_list = []\n",
    "\n",
    "for inter in df['Интересы']:\n",
    "    intr = inter.split('\\n')\n",
    "    if re.search('(Analyst)|(Аналитик данных)|(аналитик)|(Аналитик)', inter):\n",
    "        inter_list.append('found smt by rule (Analyst)|(Аналитик данных)|(аналитик)|(Аналитик)')\n",
    "    else:\n",
    "        inter_list.append('---')\n",
    "        \n",
    "df['Справочник по интересам']= inter_list"
   ]
  },
  {
   "cell_type": "markdown",
   "id": "1cbbdfab-1c22-4bf8-bcdc-b17a7593731f",
   "metadata": {},
   "source": [
    "**Извлечение сущностей:**"
   ]
  },
  {
   "cell_type": "code",
   "execution_count": 106,
   "id": "6524a243-c113-4d0d-887a-7cc49f660bc7",
   "metadata": {},
   "outputs": [
    {
     "name": "stdout",
     "output_type": "stream",
     "text": [
      "Moscow, not willing to relocate, prepared for business trips\n",
      "<re.Match object; span=(0, 6), match='Moscow'>\n",
      "<re.Match object; span=(7, 31), match=' not willing to relocate'>\n",
      "<re.Match object; span=(32, 60), match=' prepared for business trips'>\n",
      "Moscow, willing to relocate, prepared for occasional business trips\n",
      "<re.Match object; span=(0, 6), match='Moscow'>\n",
      "<re.Match object; span=(7, 27), match=' willing to relocate'>\n",
      "<re.Match object; span=(28, 67), match=' prepared for occasional business trips'>\n"
     ]
    },
    {
     "ename": "KeyError",
     "evalue": "'Где работал?'",
     "output_type": "error",
     "traceback": [
      "\u001b[0;31m---------------------------------------------------------------------------\u001b[0m",
      "\u001b[0;31mKeyError\u001b[0m                                  Traceback (most recent call last)",
      "\u001b[0;32m~/miniconda3/lib/python3.9/site-packages/pandas/core/indexes/base.py\u001b[0m in \u001b[0;36mget_loc\u001b[0;34m(self, key, method, tolerance)\u001b[0m\n\u001b[1;32m   3079\u001b[0m             \u001b[0;32mtry\u001b[0m\u001b[0;34m:\u001b[0m\u001b[0;34m\u001b[0m\u001b[0;34m\u001b[0m\u001b[0m\n\u001b[0;32m-> 3080\u001b[0;31m                 \u001b[0;32mreturn\u001b[0m \u001b[0mself\u001b[0m\u001b[0;34m.\u001b[0m\u001b[0m_engine\u001b[0m\u001b[0;34m.\u001b[0m\u001b[0mget_loc\u001b[0m\u001b[0;34m(\u001b[0m\u001b[0mcasted_key\u001b[0m\u001b[0;34m)\u001b[0m\u001b[0;34m\u001b[0m\u001b[0;34m\u001b[0m\u001b[0m\n\u001b[0m\u001b[1;32m   3081\u001b[0m             \u001b[0;32mexcept\u001b[0m \u001b[0mKeyError\u001b[0m \u001b[0;32mas\u001b[0m \u001b[0merr\u001b[0m\u001b[0;34m:\u001b[0m\u001b[0;34m\u001b[0m\u001b[0;34m\u001b[0m\u001b[0m\n",
      "\u001b[0;32mpandas/_libs/index.pyx\u001b[0m in \u001b[0;36mpandas._libs.index.IndexEngine.get_loc\u001b[0;34m()\u001b[0m\n",
      "\u001b[0;32mpandas/_libs/index.pyx\u001b[0m in \u001b[0;36mpandas._libs.index.IndexEngine.get_loc\u001b[0;34m()\u001b[0m\n",
      "\u001b[0;32mpandas/_libs/hashtable_class_helper.pxi\u001b[0m in \u001b[0;36mpandas._libs.hashtable.PyObjectHashTable.get_item\u001b[0;34m()\u001b[0m\n",
      "\u001b[0;32mpandas/_libs/hashtable_class_helper.pxi\u001b[0m in \u001b[0;36mpandas._libs.hashtable.PyObjectHashTable.get_item\u001b[0;34m()\u001b[0m\n",
      "\u001b[0;31mKeyError\u001b[0m: 'Где работал?'",
      "\nThe above exception was the direct cause of the following exception:\n",
      "\u001b[0;31mKeyError\u001b[0m                                  Traceback (most recent call last)",
      "\u001b[0;32m<ipython-input-106-fab77f54915f>\u001b[0m in \u001b[0;36m<module>\u001b[0;34m\u001b[0m\n\u001b[1;32m     93\u001b[0m \u001b[0;31m# Кол-во работ сделано. Итак:\u001b[0m\u001b[0;34m\u001b[0m\u001b[0;34m\u001b[0m\u001b[0;34m\u001b[0m\u001b[0m\n\u001b[1;32m     94\u001b[0m \u001b[0;34m\u001b[0m\u001b[0m\n\u001b[0;32m---> 95\u001b[0;31m \u001b[0mwork_list\u001b[0m \u001b[0;34m=\u001b[0m \u001b[0mdf\u001b[0m\u001b[0;34m[\u001b[0m\u001b[0;34m'Где работал?'\u001b[0m\u001b[0;34m]\u001b[0m\u001b[0;34m\u001b[0m\u001b[0;34m\u001b[0m\u001b[0m\n\u001b[0m\u001b[1;32m     96\u001b[0m \u001b[0manalytics_words\u001b[0m \u001b[0;34m=\u001b[0m \u001b[0;34m[\u001b[0m\u001b[0;34m]\u001b[0m\u001b[0;34m\u001b[0m\u001b[0;34m\u001b[0m\u001b[0m\n\u001b[1;32m     97\u001b[0m \u001b[0;32mfor\u001b[0m \u001b[0mwork\u001b[0m \u001b[0;32min\u001b[0m \u001b[0mwork_list\u001b[0m\u001b[0;34m:\u001b[0m\u001b[0;34m\u001b[0m\u001b[0;34m\u001b[0m\u001b[0m\n",
      "\u001b[0;32m~/miniconda3/lib/python3.9/site-packages/pandas/core/frame.py\u001b[0m in \u001b[0;36m__getitem__\u001b[0;34m(self, key)\u001b[0m\n\u001b[1;32m   3022\u001b[0m             \u001b[0;32mif\u001b[0m \u001b[0mself\u001b[0m\u001b[0;34m.\u001b[0m\u001b[0mcolumns\u001b[0m\u001b[0;34m.\u001b[0m\u001b[0mnlevels\u001b[0m \u001b[0;34m>\u001b[0m \u001b[0;36m1\u001b[0m\u001b[0;34m:\u001b[0m\u001b[0;34m\u001b[0m\u001b[0;34m\u001b[0m\u001b[0m\n\u001b[1;32m   3023\u001b[0m                 \u001b[0;32mreturn\u001b[0m \u001b[0mself\u001b[0m\u001b[0;34m.\u001b[0m\u001b[0m_getitem_multilevel\u001b[0m\u001b[0;34m(\u001b[0m\u001b[0mkey\u001b[0m\u001b[0;34m)\u001b[0m\u001b[0;34m\u001b[0m\u001b[0;34m\u001b[0m\u001b[0m\n\u001b[0;32m-> 3024\u001b[0;31m             \u001b[0mindexer\u001b[0m \u001b[0;34m=\u001b[0m \u001b[0mself\u001b[0m\u001b[0;34m.\u001b[0m\u001b[0mcolumns\u001b[0m\u001b[0;34m.\u001b[0m\u001b[0mget_loc\u001b[0m\u001b[0;34m(\u001b[0m\u001b[0mkey\u001b[0m\u001b[0;34m)\u001b[0m\u001b[0;34m\u001b[0m\u001b[0;34m\u001b[0m\u001b[0m\n\u001b[0m\u001b[1;32m   3025\u001b[0m             \u001b[0;32mif\u001b[0m \u001b[0mis_integer\u001b[0m\u001b[0;34m(\u001b[0m\u001b[0mindexer\u001b[0m\u001b[0;34m)\u001b[0m\u001b[0;34m:\u001b[0m\u001b[0;34m\u001b[0m\u001b[0;34m\u001b[0m\u001b[0m\n\u001b[1;32m   3026\u001b[0m                 \u001b[0mindexer\u001b[0m \u001b[0;34m=\u001b[0m \u001b[0;34m[\u001b[0m\u001b[0mindexer\u001b[0m\u001b[0;34m]\u001b[0m\u001b[0;34m\u001b[0m\u001b[0;34m\u001b[0m\u001b[0m\n",
      "\u001b[0;32m~/miniconda3/lib/python3.9/site-packages/pandas/core/indexes/base.py\u001b[0m in \u001b[0;36mget_loc\u001b[0;34m(self, key, method, tolerance)\u001b[0m\n\u001b[1;32m   3080\u001b[0m                 \u001b[0;32mreturn\u001b[0m \u001b[0mself\u001b[0m\u001b[0;34m.\u001b[0m\u001b[0m_engine\u001b[0m\u001b[0;34m.\u001b[0m\u001b[0mget_loc\u001b[0m\u001b[0;34m(\u001b[0m\u001b[0mcasted_key\u001b[0m\u001b[0;34m)\u001b[0m\u001b[0;34m\u001b[0m\u001b[0;34m\u001b[0m\u001b[0m\n\u001b[1;32m   3081\u001b[0m             \u001b[0;32mexcept\u001b[0m \u001b[0mKeyError\u001b[0m \u001b[0;32mas\u001b[0m \u001b[0merr\u001b[0m\u001b[0;34m:\u001b[0m\u001b[0;34m\u001b[0m\u001b[0;34m\u001b[0m\u001b[0m\n\u001b[0;32m-> 3082\u001b[0;31m                 \u001b[0;32mraise\u001b[0m \u001b[0mKeyError\u001b[0m\u001b[0;34m(\u001b[0m\u001b[0mkey\u001b[0m\u001b[0;34m)\u001b[0m \u001b[0;32mfrom\u001b[0m \u001b[0merr\u001b[0m\u001b[0;34m\u001b[0m\u001b[0;34m\u001b[0m\u001b[0m\n\u001b[0m\u001b[1;32m   3083\u001b[0m \u001b[0;34m\u001b[0m\u001b[0m\n\u001b[1;32m   3084\u001b[0m         \u001b[0;32mif\u001b[0m \u001b[0mtolerance\u001b[0m \u001b[0;32mis\u001b[0m \u001b[0;32mnot\u001b[0m \u001b[0;32mNone\u001b[0m\u001b[0;34m:\u001b[0m\u001b[0;34m\u001b[0m\u001b[0;34m\u001b[0m\u001b[0m\n",
      "\u001b[0;31mKeyError\u001b[0m: 'Где работал?'"
     ]
    }
   ],
   "source": [
    "xs1 = []\n",
    "xs2=[]\n",
    "xs3=[]\n",
    "for x in df['Коммандировка']:\n",
    "    # english\n",
    "    x1 = re.search('[A-z]+', x)\n",
    "    x2 = re.search('[a-z ]*willing to relocate', x)\n",
    "    x3 = re.search('[a-z ]*prepared for [a-z]* business trips', x)\n",
    "    if x1:\n",
    "        x1=x1[0]\n",
    "    if x2:\n",
    "        x2=x2[0]\n",
    "    if x3:\n",
    "        x3=x3[0]\n",
    "    \n",
    "    if x1 or x2 or x3:  # if found smt in engish — is it not wrong way to do it?\n",
    "        xs1.append(x1)\n",
    "        xs2.append(x2)\n",
    "        xs3.append(x3)\n",
    "    else:\n",
    "        # russian — work in progress\n",
    "        # Москва, не готова к переезду, готова к редким командировкам\n",
    "        # Санкт-Петербург, м. Гражданский проспект, готов к переезду (Москва), готов к командировкам\n",
    "        # Москва, готов к переезду (Нидерланды, Испания, Франция, Италия, Австрия, Германия, Швейцария), готов к командировкам\n",
    "        # Москва, хочу переехать, готов к командировкам\n",
    "        # Москва, м. Ясенево, не готов к переезду, готов к редким командировкам\n",
    "        x1 = re.search('[А-я]+', x)  # is it correct?\n",
    "        x2 = re.search('[А-я]*[ не]*готов[а]* к переезду', x)\n",
    "        x3 = re.search('[А-я]*[ не]*готов[а]* к[ а-я]* командировкам', x)  # черновое правило\n",
    "        if x1:\n",
    "            x1=x1[0]\n",
    "        if x2:\n",
    "            x2=x2[0]\n",
    "        if x3:\n",
    "            x3=x3[0]\n",
    "        xs1.append(x1)\n",
    "        xs2.append(x2)\n",
    "        xs3.append(x3)\n",
    "\n",
    "zs = []\n",
    "for z in df['Навыки']:\n",
    "    zzz = z.split('\\n')\n",
    "    zs.append(zzz)\n",
    "    \n",
    "df['Навыки списком'] = zs\n",
    "df['Релокация?'] = xs3\n",
    "df['Коммандировка?'] = xs2\n",
    "df['Город?'] = xs1\n",
    "\n",
    "\"\"\"\n",
    "1. Коммандировка \n",
    "2. Навыки\n",
    "3. Кол-во работ\n",
    "4. Наличие аналитических комбинаций слов в работе — новый столбец\n",
    "\"\"\"\n",
    "\n",
    "import numpy as np\n",
    "df['Коммандировка'][8]\n",
    "\n",
    "# (не) готов -> (не) готова\n",
    "# (not) willing, (not) preprared\n",
    "\n",
    "# City, (not willing)., (not) prepared\n",
    "\n",
    "import re\n",
    "\n",
    "print(df['Коммандировка'][8])\n",
    "print(re.search('[A-z]+', df['Коммандировка'][8]))\n",
    "print(re.search('[a-z ]*willing to relocate', df['Коммандировка'][8]))\n",
    "print(re.search('[a-z ]*prepared for business trips', df['Коммандировка'][8]))\n",
    "\n",
    "print(df['Коммандировка'][0])\n",
    "print(re.search('[A-z]+', df['Коммандировка'][0]))\n",
    "print(re.search('[a-z ]*willing to relocate', df['Коммандировка'][0]))\n",
    "print(re.search('[a-z ]*prepared for [a-z]* business trips', df['Коммандировка'][0]))\n",
    "# ^ оказывается есть еще occasional\n",
    "# тогда для eng-коммандировки готово!\n",
    "\n",
    "# Коммандировка более-менее есть. Теперь навыки. \n",
    "\n",
    "df['Навыки'][0].split('\\n')  # вот так?\n",
    "\n",
    "# Навыки есть. Теперь кол-во работ. Для этого соскрейпить все работы и их кол-во\n",
    "\n",
    "df\n",
    "\n",
    "# У меня уже скрейпится список всех работ. Надо его добавить просто а не только 12!!\n",
    "\n",
    "# Все вроде я это собрал\n",
    "\n",
    "# Теперь наличие аналитических комбинаций слов в работе. Для этого сначала сделать 3 пункт!!\n",
    "\n",
    "# Кол-во работ сделано. Итак:\n",
    "\n",
    "work_list = df['Где работал?']\n",
    "analytics_words = []\n",
    "for work in work_list:\n",
    "    # пока супер примитивное правило:\n",
    "    if re.search('(SQL)|(Excel)|(Python)|(Tableau)|(Power BI)', work):\n",
    "        analytics_words.append('found smt by rule (SQL)|(Excel)|(Python)|(Tableau)|(Power BI)')\n",
    "    else:\n",
    "        analytics_words.append('---')\n",
    "df['Аналитические комбинации слов'] = analytics_words"
   ]
  },
  {
   "cell_type": "markdown",
   "id": "dc848740-d3e2-4f73-8eb6-d626f1093d62",
   "metadata": {},
   "source": [
    "**Перевод уровня образования:**"
   ]
  },
  {
   "cell_type": "code",
   "execution_count": 107,
   "id": "9c9537c7-6703-4d0c-bffc-e7db696f2384",
   "metadata": {
    "tags": []
   },
   "outputs": [
    {
     "name": "stdout",
     "output_type": "stream",
     "text": [
      "Высшее образование\n",
      "Доктор наук\n",
      "Доктор наук\n",
      "Бакалавр\n",
      "Магистр\n",
      "Неоконченное высшее образование\n",
      "Среднее образование\n",
      "Среднее специальное образование\n",
      "nan\n",
      "Высшее образование\n",
      "Бакалавр\n",
      "Доктор наук\n",
      "Кандидат наук\n",
      "Магистр\n",
      "Неоконченное высшее образование\n",
      "Образование\n",
      "Среднее образование\n",
      "Среднее специальное образование\n"
     ]
    },
    {
     "ename": "AttributeError",
     "evalue": "'float' object has no attribute 'removeprefix'",
     "output_type": "error",
     "traceback": [
      "\u001b[0;31m---------------------------------------------------------------------------\u001b[0m",
      "\u001b[0;31mAttributeError\u001b[0m                            Traceback (most recent call last)",
      "\u001b[0;32m<ipython-input-107-1b2ed7063df0>\u001b[0m in \u001b[0;36m<module>\u001b[0;34m\u001b[0m\n\u001b[1;32m     16\u001b[0m \u001b[0mys\u001b[0m\u001b[0;34m=\u001b[0m\u001b[0;34m[\u001b[0m\u001b[0;34m]\u001b[0m\u001b[0;34m\u001b[0m\u001b[0;34m\u001b[0m\u001b[0m\n\u001b[1;32m     17\u001b[0m \u001b[0;32mfor\u001b[0m \u001b[0my\u001b[0m \u001b[0;32min\u001b[0m \u001b[0mdf\u001b[0m\u001b[0;34m[\u001b[0m\u001b[0;34m'Уровень образование'\u001b[0m\u001b[0;34m]\u001b[0m\u001b[0;34m:\u001b[0m\u001b[0;34m\u001b[0m\u001b[0;34m\u001b[0m\u001b[0m\n\u001b[0;32m---> 18\u001b[0;31m     \u001b[0my\u001b[0m\u001b[0;34m=\u001b[0m\u001b[0my\u001b[0m\u001b[0;34m.\u001b[0m\u001b[0mremoveprefix\u001b[0m\u001b[0;34m(\u001b[0m\u001b[0;34m'Higher education '\u001b[0m\u001b[0;34m)\u001b[0m\u001b[0;34m\u001b[0m\u001b[0;34m\u001b[0m\u001b[0m\n\u001b[0m\u001b[1;32m     19\u001b[0m     \u001b[0my\u001b[0m\u001b[0;34m=\u001b[0m\u001b[0my\u001b[0m\u001b[0;34m.\u001b[0m\u001b[0mreplace\u001b[0m\u001b[0;34m(\u001b[0m\u001b[0;34m'('\u001b[0m\u001b[0;34m,\u001b[0m \u001b[0;34m''\u001b[0m\u001b[0;34m)\u001b[0m\u001b[0;34m.\u001b[0m\u001b[0mreplace\u001b[0m\u001b[0;34m(\u001b[0m\u001b[0;34m')'\u001b[0m\u001b[0;34m,\u001b[0m \u001b[0;34m''\u001b[0m\u001b[0;34m)\u001b[0m\u001b[0;34m\u001b[0m\u001b[0;34m\u001b[0m\u001b[0m\n\u001b[1;32m     20\u001b[0m     \u001b[0my\u001b[0m\u001b[0;34m=\u001b[0m\u001b[0my\u001b[0m\u001b[0;34m.\u001b[0m\u001b[0mreplace\u001b[0m\u001b[0;34m(\u001b[0m\u001b[0;34m'bachelor'\u001b[0m\u001b[0;34m,\u001b[0m \u001b[0;34m'Бакалавр'\u001b[0m\u001b[0;34m)\u001b[0m\u001b[0;34m.\u001b[0m\u001b[0mreplace\u001b[0m\u001b[0;34m(\u001b[0m\u001b[0;34m'master'\u001b[0m\u001b[0;34m,\u001b[0m \u001b[0;34m'Магистр'\u001b[0m\u001b[0;34m)\u001b[0m\u001b[0;34m\u001b[0m\u001b[0;34m\u001b[0m\u001b[0m\n",
      "\u001b[0;31mAttributeError\u001b[0m: 'float' object has no attribute 'removeprefix'"
     ]
    }
   ],
   "source": [
    "z = list(np.unique(list(df['Уровень образование'])))\n",
    "\n",
    "for y in z:\n",
    "    y=y.removeprefix('Higher education ')\n",
    "    y=y.replace('(', '').replace(')', '')\n",
    "    y=y.replace('bachelor', 'Бакалавр').replace('master', 'Магистр')\n",
    "    y=y.replace('Doctor of Science', 'PhD').replace('PhD', 'Доктор наук')\n",
    "    \n",
    "    y=y.removeprefix('Высшее образование ')\n",
    "    y=y.replace('Higher education', 'Высшее образование')\n",
    "    y=y.replace('Incomplete higher education', 'Неоконченное высшее образование')\n",
    "    y=y.replace('Secondary education', 'Среднее образование')\n",
    "    y=y.replace('Secondary special education', 'Среднее специальное образование')\n",
    "    print(y)\n",
    "    \n",
    "ys=[]\n",
    "for y in df['Уровень образование']:\n",
    "    y=y.removeprefix('Higher education ')\n",
    "    y=y.replace('(', '').replace(')', '')\n",
    "    y=y.replace('bachelor', 'Бакалавр').replace('master', 'Магистр')\n",
    "    y=y.replace('Doctor of Science', 'PhD').replace('PhD', 'Доктор наук')\n",
    "    \n",
    "    y=y.removeprefix('Высшее образование ')\n",
    "    y=y.replace('Higher education', 'Высшее образование')\n",
    "    y=y.replace('Incomplete higher education', 'Неоконченное высшее образование')\n",
    "    y=y.replace('Secondary education', 'Среднее образование')\n",
    "    y=y.replace('Secondary special education', 'Среднее специальное образование')\n",
    "    ys.append(y)\n",
    "df['Уровень оборазования нормализованный'] = ys"
   ]
  },
  {
   "cell_type": "markdown",
   "id": "071bd9fd-310c-432a-a6fa-20ab5c30d354",
   "metadata": {},
   "source": [
    "**Сохранение результатов:**"
   ]
  },
  {
   "cell_type": "code",
   "execution_count": 92,
   "id": "3ac3ef42-96b0-4eb5-afd1-50b71cf3553c",
   "metadata": {},
   "outputs": [
    {
     "data": {
      "text/plain": [
       "['Unnamed: 0',\n",
       " 'Ссылка',\n",
       " 'Название',\n",
       " 'Коммандировка',\n",
       " 'Опыт работы, лет',\n",
       " 'О себе']"
      ]
     },
     "execution_count": 92,
     "metadata": {},
     "output_type": "execute_result"
    }
   ],
   "source": [
    "list(df)[:6]"
   ]
  },
  {
   "cell_type": "code",
   "execution_count": 93,
   "id": "4cdf0bdb-efbb-40dc-bf47-1727f95be1f2",
   "metadata": {},
   "outputs": [],
   "source": [
    "# df=df.drop(list(df)[0], axis=1)"
   ]
  },
  {
   "cell_type": "code",
   "execution_count": 108,
   "id": "0e09cef9-5ca8-48fd-aa74-e14f7f61a759",
   "metadata": {},
   "outputs": [],
   "source": [
    "df.to_csv('resumes_features.csv')"
   ]
  },
  {
   "cell_type": "markdown",
   "id": "79da3846-3f25-4a8c-ade8-962a5830dd88",
   "metadata": {},
   "source": [
    "### Что дальше? (Раньше было частью черновика)"
   ]
  },
  {
   "cell_type": "markdown",
   "id": "b3658015-fd13-4f35-a032-e4c1ff5255c7",
   "metadata": {},
   "source": [
    "Осталось доделать справочник по образованию еще лучше, а также справочник по интересам и наличие аналитчиеских комбинаций слов (см черновик, что сделать)"
   ]
  },
  {
   "cell_type": "code",
   "execution_count": 95,
   "id": "93314d1e-b2e5-4f28-86e2-03290d4f3cf1",
   "metadata": {},
   "outputs": [],
   "source": [
    "# concatennate tables\n",
    "\n",
    "# df1 = read_csv(resumes_features)\n",
    "\n",
    "# df2 = gather_data(driver)\n",
    "\n",
    "# df3 = pd.concat([df1, df2]).drop_duplicates\n",
    "\n",
    "# !mv resumes_features/backup/cur_date/resumes_features\n",
    "\n",
    "# df3.to_csv(resumes_features)"
   ]
  },
  {
   "cell_type": "markdown",
   "id": "290d29f3-bed3-4815-91c5-1b896320d858",
   "metadata": {},
   "source": [
    "**начинаем АД:**"
   ]
  },
  {
   "cell_type": "markdown",
   "id": "4ffc51b5-4c41-448b-98fb-aae68be2c8e2",
   "metadata": {},
   "source": [
    "норм RU/ENG:"
   ]
  },
  {
   "cell_type": "code",
   "execution_count": 143,
   "id": "8be5833e-e4f7-4cb5-9621-64a04b697793",
   "metadata": {},
   "outputs": [],
   "source": [
    "# old : df = pd.read_csv('resumes_features.csv')\n",
    "df = pd.read_csv('backup/16.11/resumes_features.csv')\n",
    "#df = pd.read_csv('resumes_features.csv')"
   ]
  },
  {
   "cell_type": "code",
   "execution_count": 144,
   "id": "a9453e14-c6f9-4e88-921f-e40ca92c72f9",
   "metadata": {},
   "outputs": [],
   "source": [
    "ts = []\n",
    "\n",
    "for i in range(df.shape[0]):\n",
    "    if type(df['Город?'][i])!=float and type(df['Релокация?'][i])!=float and type(df['Коммандировка?'][i])!=float:  # not nan\\\n",
    "        t = re.search('[A-z]+', df['Город?'][i]) or re.search('[A-z]+', df['Релокация?'][i]) or re.search('[A-z]+', df['Коммандировка?'][i])\n",
    "        if t:\n",
    "            t = 'ENG'\n",
    "        else:\n",
    "            t = 'RU'\n",
    "\n",
    "    # print(x, t)\n",
    "    else:\n",
    "        t = '---'\n",
    "    ts.append(t)\n",
    "        \n",
    "df['is_eng?'] = ts"
   ]
  },
  {
   "cell_type": "code",
   "execution_count": 145,
   "id": "37bee043-de8a-473f-8c9a-6add14b9ddd1",
   "metadata": {},
   "outputs": [],
   "source": [
    "about = df['О себе'].loc[df['is_eng?'] == 'RU']"
   ]
  },
  {
   "cell_type": "code",
   "execution_count": 146,
   "id": "54adcc12-109c-4f6d-adbc-077873243efd",
   "metadata": {},
   "outputs": [],
   "source": [
    "df = df.loc[df['is_eng?'] == 'RU']"
   ]
  },
  {
   "cell_type": "code",
   "execution_count": 147,
   "id": "64e0e38b-fa74-4797-a4b2-8afb2d7cc3c5",
   "metadata": {},
   "outputs": [
    {
     "data": {
      "text/plain": [
       "1        В последние годы проходила обучение без возмож...\n",
       "2                                                      ---\n",
       "3        Имею экономическое образование. Продвинутый по...\n",
       "4        Имеется опыт в создании Android-приложений на ...\n",
       "5        Уверенный пользователь.\\nЖелание оптимизации и...\n",
       "                               ...                        \n",
       "19813    Высокая работоспособность, вдумчивость, уравно...\n",
       "19814    Увлекаюсь спортом, вредные привычки отсутствую...\n",
       "19815    Уверенный пользователь ПК, работа с оргтехнико...\n",
       "19816    Я абсолютно честен и очень ответственен. Люблю...\n",
       "19817    I. ОБЩАЯ ПОДГОТОВЛЕННОСТЬ И ОПЫТ РАБОТЫ\\n\\nДел...\n",
       "Name: О себе, Length: 18236, dtype: object"
      ]
     },
     "execution_count": 147,
     "metadata": {},
     "output_type": "execute_result"
    }
   ],
   "source": [
    "about"
   ]
  },
  {
   "cell_type": "code",
   "execution_count": 148,
   "id": "05c06a4d-cfe7-4d53-882a-906938c13549",
   "metadata": {},
   "outputs": [
    {
     "data": {
      "text/html": [
       "<div>\n",
       "<style scoped>\n",
       "    .dataframe tbody tr th:only-of-type {\n",
       "        vertical-align: middle;\n",
       "    }\n",
       "\n",
       "    .dataframe tbody tr th {\n",
       "        vertical-align: top;\n",
       "    }\n",
       "\n",
       "    .dataframe thead th {\n",
       "        text-align: right;\n",
       "    }\n",
       "</style>\n",
       "<table border=\"1\" class=\"dataframe\">\n",
       "  <thead>\n",
       "    <tr style=\"text-align: right;\">\n",
       "      <th></th>\n",
       "      <th>Unnamed: 0</th>\n",
       "      <th>Unnamed: 0.1</th>\n",
       "      <th>Ссылка</th>\n",
       "      <th>Название</th>\n",
       "      <th>Коммандировка</th>\n",
       "      <th>Опыт</th>\n",
       "      <th>О себе</th>\n",
       "      <th>Образование</th>\n",
       "      <th>Интересы</th>\n",
       "      <th>Навыки</th>\n",
       "      <th>...</th>\n",
       "      <th>Кол-во образований</th>\n",
       "      <th>Работа 1</th>\n",
       "      <th>Работа 2</th>\n",
       "      <th>Топовость образования</th>\n",
       "      <th>is_eng?</th>\n",
       "      <th>Справочник по интересам</th>\n",
       "      <th>Навыки списком</th>\n",
       "      <th>Релокация?</th>\n",
       "      <th>Коммандировка?</th>\n",
       "      <th>Город?</th>\n",
       "    </tr>\n",
       "  </thead>\n",
       "  <tbody>\n",
       "    <tr>\n",
       "      <th>1</th>\n",
       "      <td>1</td>\n",
       "      <td>1</td>\n",
       "      <td>https://hh.ru/resume/628596ac000657935b0039ed1...</td>\n",
       "      <td>BI аналитик</td>\n",
       "      <td>Москва, не готова к переезду, готова к редким ...</td>\n",
       "      <td>Опыт работы 1 год 5 месяцев</td>\n",
       "      <td>В последние годы проходила обучение без возмож...</td>\n",
       "      <td>Высшее образование (Бакалавр)\\n2022\\nНациональ...</td>\n",
       "      <td>Специализации:\\nBI-аналитик, аналитик данных\\n...</td>\n",
       "      <td>Работа с компьютерными программами, программы ...</td>\n",
       "      <td>...</td>\n",
       "      <td>1</td>\n",
       "      <td>Ozon\\nМладший аналитик\\nСоздание, поддержка и ...</td>\n",
       "      <td>OZON\\nСтажер группы BI аналитики и отчетности\\...</td>\n",
       "      <td>True</td>\n",
       "      <td>RU</td>\n",
       "      <td>found smt by rule (Analyst)|(Аналитик данных)|...</td>\n",
       "      <td>['Работа с компьютерными программами, программ...</td>\n",
       "      <td>готова к редким командировкам</td>\n",
       "      <td>не готова к переезду</td>\n",
       "      <td>Москва</td>\n",
       "    </tr>\n",
       "    <tr>\n",
       "      <th>2</th>\n",
       "      <td>2</td>\n",
       "      <td>2</td>\n",
       "      <td>https://hh.ru/resume/dfbcae000004342d8f0039ed1...</td>\n",
       "      <td>BI аналитик</td>\n",
       "      <td>Москва, не готова к переезду, готова к команди...</td>\n",
       "      <td>Опыт работы 3 года 3 месяца</td>\n",
       "      <td>---</td>\n",
       "      <td>Высшее образование (Бакалавр)\\n2019\\nСамарский...</td>\n",
       "      <td>Специализации:\\nАналитик\\nBI-аналитик, аналити...</td>\n",
       "      <td>Другое\\nPython\\nSQL\\nУмение работать в коллект...</td>\n",
       "      <td>...</td>\n",
       "      <td>1</td>\n",
       "      <td>Банк ВТБ (ПАО)\\nМосква, www.vtbcareer.com\\nФин...</td>\n",
       "      <td>---</td>\n",
       "      <td>False</td>\n",
       "      <td>RU</td>\n",
       "      <td>found smt by rule (Analyst)|(Аналитик данных)|...</td>\n",
       "      <td>['Другое', 'Python', 'SQL', 'Умение работать в...</td>\n",
       "      <td>готова к командировкам</td>\n",
       "      <td>не готова к переезду</td>\n",
       "      <td>Москва</td>\n",
       "    </tr>\n",
       "    <tr>\n",
       "      <th>3</th>\n",
       "      <td>3</td>\n",
       "      <td>3</td>\n",
       "      <td>https://hh.ru/resume/bebf6a630008069d8c0039ed1...</td>\n",
       "      <td>Аналитик</td>\n",
       "      <td>Санкт-Петербург, м. Гражданский проспект, гото...</td>\n",
       "      <td>Опыт работы 7 лет 2 месяца</td>\n",
       "      <td>Имею экономическое образование. Продвинутый по...</td>\n",
       "      <td>Высшее образование (Бакалавр)\\n2015\\nСанкт-Пет...</td>\n",
       "      <td>Специализации:\\nАналитик\\nЗанятость: полная за...</td>\n",
       "      <td>Работа с компьютерными программами, программы ...</td>\n",
       "      <td>...</td>\n",
       "      <td>1</td>\n",
       "      <td>A&amp;D Mortgage\\nСтарший BI аналитик\\nСоздание Po...</td>\n",
       "      <td>Сбер\\nСанкт-Петербург, rabota.sber.ru/\\nФинанс...</td>\n",
       "      <td>False</td>\n",
       "      <td>RU</td>\n",
       "      <td>found smt by rule (Analyst)|(Аналитик данных)|...</td>\n",
       "      <td>['Работа с компьютерными программами, программ...</td>\n",
       "      <td>готов к командировкам</td>\n",
       "      <td>готов к переезду</td>\n",
       "      <td>Санкт</td>\n",
       "    </tr>\n",
       "    <tr>\n",
       "      <th>4</th>\n",
       "      <td>4</td>\n",
       "      <td>4</td>\n",
       "      <td>https://hh.ru/resume/8606f37b000773de980039ed1...</td>\n",
       "      <td>Программист-разработчик</td>\n",
       "      <td>Москва, м. Петровско-Разумовская, не готов к п...</td>\n",
       "      <td>Опыт работы 1 год 1 месяц</td>\n",
       "      <td>Имеется опыт в создании Android-приложений на ...</td>\n",
       "      <td>Высшее образование (Бакалавр)\\n2022\\nЧелябинск...</td>\n",
       "      <td>Специализации:\\nПрограммист, разработчик\\nЗаня...</td>\n",
       "      <td>Применение стека технологий/Цифровые навыки\\nL...</td>\n",
       "      <td>...</td>\n",
       "      <td>1</td>\n",
       "      <td>MoneyCare\\nBI-аналитик\\nРабота с big data(Pyth...</td>\n",
       "      <td>---</td>\n",
       "      <td>False</td>\n",
       "      <td>RU</td>\n",
       "      <td>---</td>\n",
       "      <td>['Применение стека технологий/Цифровые навыки'...</td>\n",
       "      <td>не готов к командировкам</td>\n",
       "      <td>не готов к переезду</td>\n",
       "      <td>Москва</td>\n",
       "    </tr>\n",
       "    <tr>\n",
       "      <th>5</th>\n",
       "      <td>5</td>\n",
       "      <td>5</td>\n",
       "      <td>https://hh.ru/resume/993bd0980002dd6cff0039ed1...</td>\n",
       "      <td>Аналитик Bi</td>\n",
       "      <td>Москва, м. Сокол, готов к переезду, готов к ко...</td>\n",
       "      <td>Опыт работы 10 лет 7 месяцев</td>\n",
       "      <td>Уверенный пользователь.\\nЖелание оптимизации и...</td>\n",
       "      <td>Высшее образование\\n2010\\nДальневосточный госу...</td>\n",
       "      <td>Специализации:\\nBI-аналитик, аналитик данных\\n...</td>\n",
       "      <td>Работа с компьютерными программами, программы ...</td>\n",
       "      <td>...</td>\n",
       "      <td>1</td>\n",
       "      <td>Brixo\\nАналитик отдела продаж\\nФормирование и ...</td>\n",
       "      <td>Смарт индастриз\\nМеталлургия, металлообработка...</td>\n",
       "      <td>False</td>\n",
       "      <td>RU</td>\n",
       "      <td>found smt by rule (Analyst)|(Аналитик данных)|...</td>\n",
       "      <td>['Работа с компьютерными программами, программ...</td>\n",
       "      <td>готов к командировкам</td>\n",
       "      <td>готов к переезду</td>\n",
       "      <td>Москва</td>\n",
       "    </tr>\n",
       "    <tr>\n",
       "      <th>...</th>\n",
       "      <td>...</td>\n",
       "      <td>...</td>\n",
       "      <td>...</td>\n",
       "      <td>...</td>\n",
       "      <td>...</td>\n",
       "      <td>...</td>\n",
       "      <td>...</td>\n",
       "      <td>...</td>\n",
       "      <td>...</td>\n",
       "      <td>...</td>\n",
       "      <td>...</td>\n",
       "      <td>...</td>\n",
       "      <td>...</td>\n",
       "      <td>...</td>\n",
       "      <td>...</td>\n",
       "      <td>...</td>\n",
       "      <td>...</td>\n",
       "      <td>...</td>\n",
       "      <td>...</td>\n",
       "      <td>...</td>\n",
       "      <td>...</td>\n",
       "    </tr>\n",
       "    <tr>\n",
       "      <th>19813</th>\n",
       "      <td>19813</td>\n",
       "      <td>19813</td>\n",
       "      <td>https://hh.ru/resume/57e8fd3c000211f20a0039ed1...</td>\n",
       "      <td>Финансовый директор</td>\n",
       "      <td>Москва, м. Тушинская, не готов к переезду, гот...</td>\n",
       "      <td>Опыт работы 25 лет 3 месяца</td>\n",
       "      <td>Высокая работоспособность, вдумчивость, уравно...</td>\n",
       "      <td>Высшее образование\\n2013\\nЕдиная Аттестационна...</td>\n",
       "      <td>Специализации:\\nФинансовый менеджер\\nЗанятость...</td>\n",
       "      <td>---</td>\n",
       "      <td>...</td>\n",
       "      <td>2</td>\n",
       "      <td>ЗАО \"Аудит БОС\"\\nМосква, audit-bos.ru\\nФинансо...</td>\n",
       "      <td>---</td>\n",
       "      <td>False</td>\n",
       "      <td>RU</td>\n",
       "      <td>---</td>\n",
       "      <td>['---']</td>\n",
       "      <td>готов к редким командировкам</td>\n",
       "      <td>не готов к переезду</td>\n",
       "      <td>Москва</td>\n",
       "    </tr>\n",
       "    <tr>\n",
       "      <th>19814</th>\n",
       "      <td>19814</td>\n",
       "      <td>19814</td>\n",
       "      <td>https://hh.ru/resume/bd1a048a0002633bc20039ed1...</td>\n",
       "      <td>Аналитик</td>\n",
       "      <td>Оренбург, готов к переезду (Москва), не готов ...</td>\n",
       "      <td>Опыт работы 10 лет 8 месяцев</td>\n",
       "      <td>Увлекаюсь спортом, вредные привычки отсутствую...</td>\n",
       "      <td>Высшее образование\\n2011\\nОГАУ\\nЭкономический,...</td>\n",
       "      <td>Специализации:\\nАналитик\\nЗанятость: полная за...</td>\n",
       "      <td>Другое\\nАналитический склад ума\\nОтветственнос...</td>\n",
       "      <td>...</td>\n",
       "      <td>1</td>\n",
       "      <td>Сбербанк России\\nМосква, www.sbrf.ru\\nФинансов...</td>\n",
       "      <td>---</td>\n",
       "      <td>False</td>\n",
       "      <td>RU</td>\n",
       "      <td>found smt by rule (Analyst)|(Аналитик данных)|...</td>\n",
       "      <td>['Другое', 'Аналитический склад ума', 'Ответст...</td>\n",
       "      <td>не готов к командировкам</td>\n",
       "      <td>готов к переезду</td>\n",
       "      <td>Оренбург</td>\n",
       "    </tr>\n",
       "    <tr>\n",
       "      <th>19815</th>\n",
       "      <td>19815</td>\n",
       "      <td>19815</td>\n",
       "      <td>https://hh.ru/resume/516fa73d0002e26ab40039ed1...</td>\n",
       "      <td>Главный бухгалтер, финансовый директор</td>\n",
       "      <td>Москва, м. Котельники, не готова к переезду, н...</td>\n",
       "      <td>Опыт работы 32 года 9 месяцев</td>\n",
       "      <td>Уверенный пользователь ПК, работа с оргтехнико...</td>\n",
       "      <td>Высшее образование\\n2009\\nМосковский финансово...</td>\n",
       "      <td>Специализации:\\nБухгалтер\\nЗанятость: полная з...</td>\n",
       "      <td>---</td>\n",
       "      <td>...</td>\n",
       "      <td>2</td>\n",
       "      <td>ООО \"МонтажСтрой\"\\nМосква\\nСтроительство, недв...</td>\n",
       "      <td>Группа компаний недвижимости\\nМосква\\nФинансов...</td>\n",
       "      <td>False</td>\n",
       "      <td>RU</td>\n",
       "      <td>---</td>\n",
       "      <td>['---']</td>\n",
       "      <td>не готова к командировкам</td>\n",
       "      <td>не готова к переезду</td>\n",
       "      <td>Москва</td>\n",
       "    </tr>\n",
       "    <tr>\n",
       "      <th>19816</th>\n",
       "      <td>19816</td>\n",
       "      <td>19816</td>\n",
       "      <td>https://hh.ru/resume/7f8988e20001c8f27a0039ed1...</td>\n",
       "      <td>Финансовый директор</td>\n",
       "      <td>Москва, м. Речной вокзал, готов к переезду, го...</td>\n",
       "      <td>Опыт работы 26 лет</td>\n",
       "      <td>Я абсолютно честен и очень ответственен. Люблю...</td>\n",
       "      <td>Высшее образование (Магистр)\\n2008\\nМосковский...</td>\n",
       "      <td>Специализации:\\nФинансовый менеджер\\nЗанятость...</td>\n",
       "      <td>---</td>\n",
       "      <td>...</td>\n",
       "      <td>2</td>\n",
       "      <td>ООО Инрус\\nМосква\\nУслуги для бизнеса... Показ...</td>\n",
       "      <td>Ландрин\\nСанкт-Петербург, www.landrin.ru\\nРозн...</td>\n",
       "      <td>False</td>\n",
       "      <td>RU</td>\n",
       "      <td>---</td>\n",
       "      <td>['---']</td>\n",
       "      <td>готов к командировкам</td>\n",
       "      <td>готов к переезду</td>\n",
       "      <td>Москва</td>\n",
       "    </tr>\n",
       "    <tr>\n",
       "      <th>19817</th>\n",
       "      <td>19817</td>\n",
       "      <td>19817</td>\n",
       "      <td>https://hh.ru/resume/769a12b60006c6ead50039ed1...</td>\n",
       "      <td>Руководитель направления (Координация бизнеса,...</td>\n",
       "      <td>Москва, м. Улица 1905 года, готов к переезду (...</td>\n",
       "      <td>Опыт работы 30 лет 6 месяцев</td>\n",
       "      <td>I. ОБЩАЯ ПОДГОТОВЛЕННОСТЬ И ОПЫТ РАБОТЫ\\n\\nДел...</td>\n",
       "      <td>Высшее образование\\n2004\\nРоссийская Экономиче...</td>\n",
       "      <td>Специализации:\\nЭкономист\\nАналитик\\nМенеджер/...</td>\n",
       "      <td>Проектное управление\\nУправление проектами\\nВе...</td>\n",
       "      <td>...</td>\n",
       "      <td>4</td>\n",
       "      <td>Европейский Инвестиционный Банк (Люксембург, В...</td>\n",
       "      <td>Европейский Инвестиционный Банк (Люксембург, В...</td>\n",
       "      <td>False</td>\n",
       "      <td>RU</td>\n",
       "      <td>found smt by rule (Analyst)|(Аналитик данных)|...</td>\n",
       "      <td>['Проектное управление', 'Управление проектами...</td>\n",
       "      <td>готов к редким командировкам</td>\n",
       "      <td>готов к переезду</td>\n",
       "      <td>Москва</td>\n",
       "    </tr>\n",
       "  </tbody>\n",
       "</table>\n",
       "<p>18236 rows × 23 columns</p>\n",
       "</div>"
      ],
      "text/plain": [
       "       Unnamed: 0  Unnamed: 0.1  \\\n",
       "1               1             1   \n",
       "2               2             2   \n",
       "3               3             3   \n",
       "4               4             4   \n",
       "5               5             5   \n",
       "...           ...           ...   \n",
       "19813       19813         19813   \n",
       "19814       19814         19814   \n",
       "19815       19815         19815   \n",
       "19816       19816         19816   \n",
       "19817       19817         19817   \n",
       "\n",
       "                                                  Ссылка  \\\n",
       "1      https://hh.ru/resume/628596ac000657935b0039ed1...   \n",
       "2      https://hh.ru/resume/dfbcae000004342d8f0039ed1...   \n",
       "3      https://hh.ru/resume/bebf6a630008069d8c0039ed1...   \n",
       "4      https://hh.ru/resume/8606f37b000773de980039ed1...   \n",
       "5      https://hh.ru/resume/993bd0980002dd6cff0039ed1...   \n",
       "...                                                  ...   \n",
       "19813  https://hh.ru/resume/57e8fd3c000211f20a0039ed1...   \n",
       "19814  https://hh.ru/resume/bd1a048a0002633bc20039ed1...   \n",
       "19815  https://hh.ru/resume/516fa73d0002e26ab40039ed1...   \n",
       "19816  https://hh.ru/resume/7f8988e20001c8f27a0039ed1...   \n",
       "19817  https://hh.ru/resume/769a12b60006c6ead50039ed1...   \n",
       "\n",
       "                                                Название  \\\n",
       "1                                            BI аналитик   \n",
       "2                                            BI аналитик   \n",
       "3                                               Аналитик   \n",
       "4                                Программист-разработчик   \n",
       "5                                            Аналитик Bi   \n",
       "...                                                  ...   \n",
       "19813                                Финансовый директор   \n",
       "19814                                           Аналитик   \n",
       "19815             Главный бухгалтер, финансовый директор   \n",
       "19816                                Финансовый директор   \n",
       "19817  Руководитель направления (Координация бизнеса,...   \n",
       "\n",
       "                                           Коммандировка  \\\n",
       "1      Москва, не готова к переезду, готова к редким ...   \n",
       "2      Москва, не готова к переезду, готова к команди...   \n",
       "3      Санкт-Петербург, м. Гражданский проспект, гото...   \n",
       "4      Москва, м. Петровско-Разумовская, не готов к п...   \n",
       "5      Москва, м. Сокол, готов к переезду, готов к ко...   \n",
       "...                                                  ...   \n",
       "19813  Москва, м. Тушинская, не готов к переезду, гот...   \n",
       "19814  Оренбург, готов к переезду (Москва), не готов ...   \n",
       "19815  Москва, м. Котельники, не готова к переезду, н...   \n",
       "19816  Москва, м. Речной вокзал, готов к переезду, го...   \n",
       "19817  Москва, м. Улица 1905 года, готов к переезду (...   \n",
       "\n",
       "                                Опыт  \\\n",
       "1        Опыт работы 1 год 5 месяцев   \n",
       "2        Опыт работы 3 года 3 месяца   \n",
       "3         Опыт работы 7 лет 2 месяца   \n",
       "4          Опыт работы 1 год 1 месяц   \n",
       "5       Опыт работы 10 лет 7 месяцев   \n",
       "...                              ...   \n",
       "19813    Опыт работы 25 лет 3 месяца   \n",
       "19814   Опыт работы 10 лет 8 месяцев   \n",
       "19815  Опыт работы 32 года 9 месяцев   \n",
       "19816             Опыт работы 26 лет   \n",
       "19817   Опыт работы 30 лет 6 месяцев   \n",
       "\n",
       "                                                  О себе  \\\n",
       "1      В последние годы проходила обучение без возмож...   \n",
       "2                                                    ---   \n",
       "3      Имею экономическое образование. Продвинутый по...   \n",
       "4      Имеется опыт в создании Android-приложений на ...   \n",
       "5      Уверенный пользователь.\\nЖелание оптимизации и...   \n",
       "...                                                  ...   \n",
       "19813  Высокая работоспособность, вдумчивость, уравно...   \n",
       "19814  Увлекаюсь спортом, вредные привычки отсутствую...   \n",
       "19815  Уверенный пользователь ПК, работа с оргтехнико...   \n",
       "19816  Я абсолютно честен и очень ответственен. Люблю...   \n",
       "19817  I. ОБЩАЯ ПОДГОТОВЛЕННОСТЬ И ОПЫТ РАБОТЫ\\n\\nДел...   \n",
       "\n",
       "                                             Образование  \\\n",
       "1      Высшее образование (Бакалавр)\\n2022\\nНациональ...   \n",
       "2      Высшее образование (Бакалавр)\\n2019\\nСамарский...   \n",
       "3      Высшее образование (Бакалавр)\\n2015\\nСанкт-Пет...   \n",
       "4      Высшее образование (Бакалавр)\\n2022\\nЧелябинск...   \n",
       "5      Высшее образование\\n2010\\nДальневосточный госу...   \n",
       "...                                                  ...   \n",
       "19813  Высшее образование\\n2013\\nЕдиная Аттестационна...   \n",
       "19814  Высшее образование\\n2011\\nОГАУ\\nЭкономический,...   \n",
       "19815  Высшее образование\\n2009\\nМосковский финансово...   \n",
       "19816  Высшее образование (Магистр)\\n2008\\nМосковский...   \n",
       "19817  Высшее образование\\n2004\\nРоссийская Экономиче...   \n",
       "\n",
       "                                                Интересы  \\\n",
       "1      Специализации:\\nBI-аналитик, аналитик данных\\n...   \n",
       "2      Специализации:\\nАналитик\\nBI-аналитик, аналити...   \n",
       "3      Специализации:\\nАналитик\\nЗанятость: полная за...   \n",
       "4      Специализации:\\nПрограммист, разработчик\\nЗаня...   \n",
       "5      Специализации:\\nBI-аналитик, аналитик данных\\n...   \n",
       "...                                                  ...   \n",
       "19813  Специализации:\\nФинансовый менеджер\\nЗанятость...   \n",
       "19814  Специализации:\\nАналитик\\nЗанятость: полная за...   \n",
       "19815  Специализации:\\nБухгалтер\\nЗанятость: полная з...   \n",
       "19816  Специализации:\\nФинансовый менеджер\\nЗанятость...   \n",
       "19817  Специализации:\\nЭкономист\\nАналитик\\nМенеджер/...   \n",
       "\n",
       "                                                  Навыки  ...  \\\n",
       "1      Работа с компьютерными программами, программы ...  ...   \n",
       "2      Другое\\nPython\\nSQL\\nУмение работать в коллект...  ...   \n",
       "3      Работа с компьютерными программами, программы ...  ...   \n",
       "4      Применение стека технологий/Цифровые навыки\\nL...  ...   \n",
       "5      Работа с компьютерными программами, программы ...  ...   \n",
       "...                                                  ...  ...   \n",
       "19813                                                ---  ...   \n",
       "19814  Другое\\nАналитический склад ума\\nОтветственнос...  ...   \n",
       "19815                                                ---  ...   \n",
       "19816                                                ---  ...   \n",
       "19817  Проектное управление\\nУправление проектами\\nВе...  ...   \n",
       "\n",
       "      Кол-во образований                                           Работа 1  \\\n",
       "1                      1  Ozon\\nМладший аналитик\\nСоздание, поддержка и ...   \n",
       "2                      1  Банк ВТБ (ПАО)\\nМосква, www.vtbcareer.com\\nФин...   \n",
       "3                      1  A&D Mortgage\\nСтарший BI аналитик\\nСоздание Po...   \n",
       "4                      1  MoneyCare\\nBI-аналитик\\nРабота с big data(Pyth...   \n",
       "5                      1  Brixo\\nАналитик отдела продаж\\nФормирование и ...   \n",
       "...                  ...                                                ...   \n",
       "19813                  2  ЗАО \"Аудит БОС\"\\nМосква, audit-bos.ru\\nФинансо...   \n",
       "19814                  1  Сбербанк России\\nМосква, www.sbrf.ru\\nФинансов...   \n",
       "19815                  2  ООО \"МонтажСтрой\"\\nМосква\\nСтроительство, недв...   \n",
       "19816                  2  ООО Инрус\\nМосква\\nУслуги для бизнеса... Показ...   \n",
       "19817                  4  Европейский Инвестиционный Банк (Люксембург, В...   \n",
       "\n",
       "                                                Работа 2  \\\n",
       "1      OZON\\nСтажер группы BI аналитики и отчетности\\...   \n",
       "2                                                    ---   \n",
       "3      Сбер\\nСанкт-Петербург, rabota.sber.ru/\\nФинанс...   \n",
       "4                                                    ---   \n",
       "5      Смарт индастриз\\nМеталлургия, металлообработка...   \n",
       "...                                                  ...   \n",
       "19813                                                ---   \n",
       "19814                                                ---   \n",
       "19815  Группа компаний недвижимости\\nМосква\\nФинансов...   \n",
       "19816  Ландрин\\nСанкт-Петербург, www.landrin.ru\\nРозн...   \n",
       "19817  Европейский Инвестиционный Банк (Люксембург, В...   \n",
       "\n",
       "       Топовость образования is_eng?  \\\n",
       "1                       True      RU   \n",
       "2                      False      RU   \n",
       "3                      False      RU   \n",
       "4                      False      RU   \n",
       "5                      False      RU   \n",
       "...                      ...     ...   \n",
       "19813                  False      RU   \n",
       "19814                  False      RU   \n",
       "19815                  False      RU   \n",
       "19816                  False      RU   \n",
       "19817                  False      RU   \n",
       "\n",
       "                                 Справочник по интересам  \\\n",
       "1      found smt by rule (Analyst)|(Аналитик данных)|...   \n",
       "2      found smt by rule (Analyst)|(Аналитик данных)|...   \n",
       "3      found smt by rule (Analyst)|(Аналитик данных)|...   \n",
       "4                                                    ---   \n",
       "5      found smt by rule (Analyst)|(Аналитик данных)|...   \n",
       "...                                                  ...   \n",
       "19813                                                ---   \n",
       "19814  found smt by rule (Analyst)|(Аналитик данных)|...   \n",
       "19815                                                ---   \n",
       "19816                                                ---   \n",
       "19817  found smt by rule (Analyst)|(Аналитик данных)|...   \n",
       "\n",
       "                                          Навыки списком  \\\n",
       "1      ['Работа с компьютерными программами, программ...   \n",
       "2      ['Другое', 'Python', 'SQL', 'Умение работать в...   \n",
       "3      ['Работа с компьютерными программами, программ...   \n",
       "4      ['Применение стека технологий/Цифровые навыки'...   \n",
       "5      ['Работа с компьютерными программами, программ...   \n",
       "...                                                  ...   \n",
       "19813                                            ['---']   \n",
       "19814  ['Другое', 'Аналитический склад ума', 'Ответст...   \n",
       "19815                                            ['---']   \n",
       "19816                                            ['---']   \n",
       "19817  ['Проектное управление', 'Управление проектами...   \n",
       "\n",
       "                           Релокация?         Коммандировка?    Город?  \n",
       "1       готова к редким командировкам   не готова к переезду    Москва  \n",
       "2              готова к командировкам   не готова к переезду    Москва  \n",
       "3               готов к командировкам       готов к переезду     Санкт  \n",
       "4            не готов к командировкам    не готов к переезду    Москва  \n",
       "5               готов к командировкам       готов к переезду    Москва  \n",
       "...                               ...                    ...       ...  \n",
       "19813    готов к редким командировкам    не готов к переезду    Москва  \n",
       "19814        не готов к командировкам       готов к переезду  Оренбург  \n",
       "19815       не готова к командировкам   не готова к переезду    Москва  \n",
       "19816           готов к командировкам       готов к переезду    Москва  \n",
       "19817    готов к редким командировкам       готов к переезду    Москва  \n",
       "\n",
       "[18236 rows x 23 columns]"
      ]
     },
     "execution_count": 148,
     "metadata": {},
     "output_type": "execute_result"
    }
   ],
   "source": [
    "df"
   ]
  },
  {
   "cell_type": "markdown",
   "id": "f87f7b77-66a9-42a5-8451-7451e6af103a",
   "metadata": {},
   "source": [
    "ключевые совпадения см л34 она скинула"
   ]
  },
  {
   "cell_type": "markdown",
   "id": "c00b4553-d1c4-4b86-905d-44fbc9f87b78",
   "metadata": {},
   "source": [
    "**Извлечение сущностей: более соершенные правила.** ВКР. Если город и коммандировка на английском то резюме точно на английском. Какие-то такие правила еще поискать. Посмотрю только в каком таком точном поле меньше всего пропусков. ВКР: позже вычленяю ещё сущности как мы обсуждали см prev call в 7.12. См github: допилить еще справочник образования и прочее, чтобы все в этом плане было идеально"
   ]
  },
  {
   "cell_type": "markdown",
   "id": "a725fd65-19f9-48ef-85ee-d5a2268f97af",
   "metadata": {},
   "source": [
    "В `scraping.ipynb` были собраны и подготовлены данные. Возможно, стоит еще доработать (в разделе \"пост-обработка\"):\n",
    "- Словарь образования\n",
    "- Справочник по интересам\n",
    "- Аналитические комбинации слов"
   ]
  },
  {
   "cell_type": "markdown",
   "id": "0010ffaf-566c-4ef9-a0a7-4bf4085233b4",
   "metadata": {},
   "source": [
    "**теперь немного про данные:**"
   ]
  },
  {
   "cell_type": "markdown",
   "id": "4a2d7e73-bfab-440e-ab1e-08613aae410a",
   "metadata": {},
   "source": [
    "```\n",
    "#df['Работа']\n",
    "list(df)\n",
    "```\n",
    "\n",
    "для списка карьерного роста надо будет собрать список компаний где был и найти там совпадения, на текущих данных так сделать нельзя"
   ]
  },
  {
   "cell_type": "code",
   "execution_count": 40,
   "id": "b246b29f-7c73-4ff8-860b-16133f63b42f",
   "metadata": {},
   "outputs": [],
   "source": [
    "from bs4 import BeautifulSoup\n",
    "import requests\n",
    "import pandas as pd\n",
    "from selenium import webdriver\n",
    "from selenium.webdriver.common.keys import Keys\n",
    "from selenium.webdriver.common.by import By\n",
    "from selenium.webdriver.support.ui import Select\n",
    "# !pip install transliterate\n",
    "from transliterate import translit\n",
    "import re\n",
    "import numpy as np"
   ]
  },
  {
   "cell_type": "code",
   "execution_count": 41,
   "id": "9df3859f-8cda-4345-8564-ed6c5ca56b26",
   "metadata": {},
   "outputs": [],
   "source": [
    "import nltk\n",
    "# nltk.download('stopwords')\n",
    "import re\n",
    "from pymorphy2 import MorphAnalyzer\n",
    "from nltk.corpus import stopwords\n",
    "morph = MorphAnalyzer()"
   ]
  },
  {
   "cell_type": "code",
   "execution_count": 48,
   "id": "d11a7f53-fb63-425d-ae34-a1f9bb943c07",
   "metadata": {},
   "outputs": [
    {
     "name": "stderr",
     "output_type": "stream",
     "text": [
      "/var/folders/0k/pk7zyw6x2sqcjpbqvgf0ssh80000gn/T/ipykernel_27753/2299280398.py:1: DeprecationWarning: executable_path has been deprecated, please pass in a Service object\n",
      "  driver = webdriver.Chrome('./chromedriver')\n"
     ]
    }
   ],
   "source": [
    "driver = webdriver.Chrome('./chromedriver')"
   ]
  },
  {
   "cell_type": "code",
   "execution_count": 49,
   "id": "09712314-4b7d-4bbf-bf91-5868347352ac",
   "metadata": {},
   "outputs": [],
   "source": [
    "repet = []"
   ]
  },
  {
   "cell_type": "code",
   "execution_count": 50,
   "id": "775151b7-132a-416f-82f8-28a5cb6c9c4e",
   "metadata": {
    "collapsed": true,
    "jupyter": {
     "outputs_hidden": true
    },
    "tags": []
   },
   "outputs": [
    {
     "ename": "KeyboardInterrupt",
     "evalue": "",
     "output_type": "error",
     "traceback": [
      "\u001b[0;31m---------------------------------------------------------------------------\u001b[0m",
      "\u001b[0;31mKeyboardInterrupt\u001b[0m                         Traceback (most recent call last)",
      "Cell \u001b[0;32mIn[50], line 2\u001b[0m\n\u001b[1;32m      1\u001b[0m \u001b[38;5;28;01mfor\u001b[39;00m i \u001b[38;5;129;01min\u001b[39;00m \u001b[38;5;28mrange\u001b[39m(df\u001b[38;5;241m.\u001b[39mshape[\u001b[38;5;241m0\u001b[39m]):\n\u001b[0;32m----> 2\u001b[0m     \u001b[43mdriver\u001b[49m\u001b[38;5;241;43m.\u001b[39;49m\u001b[43mget\u001b[49m\u001b[43m(\u001b[49m\u001b[43mdf\u001b[49m\u001b[38;5;241;43m.\u001b[39;49m\u001b[43miloc\u001b[49m\u001b[43m[\u001b[49m\u001b[43mi\u001b[49m\u001b[43m]\u001b[49m\u001b[43m[\u001b[49m\u001b[38;5;124;43m'\u001b[39;49m\u001b[38;5;124;43mСсылка\u001b[39;49m\u001b[38;5;124;43m'\u001b[39;49m\u001b[43m]\u001b[49m\u001b[43m)\u001b[49m\n\u001b[1;32m      3\u001b[0m     work \u001b[38;5;241m=\u001b[39m driver\u001b[38;5;241m.\u001b[39mfind_elements(by\u001b[38;5;241m=\u001b[39mBy\u001b[38;5;241m.\u001b[39mXPATH, \n\u001b[1;32m      4\u001b[0m                              value\u001b[38;5;241m=\u001b[39m\u001b[38;5;124m'\u001b[39m\u001b[38;5;124m//div[@data-qa=\u001b[39m\u001b[38;5;124m\"\u001b[39m\u001b[38;5;124mresume-block-experience\u001b[39m\u001b[38;5;124m\"\u001b[39m\u001b[38;5;124m][@class=\u001b[39m\u001b[38;5;124m\"\u001b[39m\u001b[38;5;124mresume-block\u001b[39m\u001b[38;5;124m\"\u001b[39m\u001b[38;5;124m]//div[@class=\u001b[39m\u001b[38;5;124m\"\u001b[39m\u001b[38;5;124mresume-block-container\u001b[39m\u001b[38;5;124m\"\u001b[39m\u001b[38;5;124m]\u001b[39m\u001b[38;5;124m'\u001b[39m)\n\u001b[1;32m      5\u001b[0m     w \u001b[38;5;241m=\u001b[39m driver\u001b[38;5;241m.\u001b[39mfind_elements(by\u001b[38;5;241m=\u001b[39mBy\u001b[38;5;241m.\u001b[39mXPATH, \n\u001b[1;32m      6\u001b[0m                              value\u001b[38;5;241m=\u001b[39m\u001b[38;5;124m'\u001b[39m\u001b[38;5;124m//div[@data-qa=\u001b[39m\u001b[38;5;124m\"\u001b[39m\u001b[38;5;124mresume-block-experience\u001b[39m\u001b[38;5;124m\"\u001b[39m\u001b[38;5;124m][@class=\u001b[39m\u001b[38;5;124m\"\u001b[39m\u001b[38;5;124mresume-block\u001b[39m\u001b[38;5;124m\"\u001b[39m\u001b[38;5;124m]//div[@class=\u001b[39m\u001b[38;5;124m\"\u001b[39m\u001b[38;5;124mresume-block-container\u001b[39m\u001b[38;5;124m\"\u001b[39m\u001b[38;5;124m]/div[@class=\u001b[39m\u001b[38;5;124m\"\u001b[39m\u001b[38;5;124mbloko-text bloko-text_strong\u001b[39m\u001b[38;5;124m\"\u001b[39m\u001b[38;5;124m][not(@data-qa=\u001b[39m\u001b[38;5;124m\"\u001b[39m\u001b[38;5;124mresume-block-experience-position\u001b[39m\u001b[38;5;124m\"\u001b[39m\u001b[38;5;124m)]//span\u001b[39m\u001b[38;5;124m'\u001b[39m)\n",
      "File \u001b[0;32m~/miniconda3/lib/python3.9/site-packages/selenium/webdriver/remote/webdriver.py:442\u001b[0m, in \u001b[0;36mWebDriver.get\u001b[0;34m(self, url)\u001b[0m\n\u001b[1;32m    438\u001b[0m \u001b[38;5;28;01mdef\u001b[39;00m \u001b[38;5;21mget\u001b[39m(\u001b[38;5;28mself\u001b[39m, url: \u001b[38;5;28mstr\u001b[39m) \u001b[38;5;241m-\u001b[39m\u001b[38;5;241m>\u001b[39m \u001b[38;5;28;01mNone\u001b[39;00m:\n\u001b[1;32m    439\u001b[0m     \u001b[38;5;124;03m\"\"\"\u001b[39;00m\n\u001b[1;32m    440\u001b[0m \u001b[38;5;124;03m    Loads a web page in the current browser session.\u001b[39;00m\n\u001b[1;32m    441\u001b[0m \u001b[38;5;124;03m    \"\"\"\u001b[39;00m\n\u001b[0;32m--> 442\u001b[0m     \u001b[38;5;28;43mself\u001b[39;49m\u001b[38;5;241;43m.\u001b[39;49m\u001b[43mexecute\u001b[49m\u001b[43m(\u001b[49m\u001b[43mCommand\u001b[49m\u001b[38;5;241;43m.\u001b[39;49m\u001b[43mGET\u001b[49m\u001b[43m,\u001b[49m\u001b[43m \u001b[49m\u001b[43m{\u001b[49m\u001b[38;5;124;43m'\u001b[39;49m\u001b[38;5;124;43murl\u001b[39;49m\u001b[38;5;124;43m'\u001b[39;49m\u001b[43m:\u001b[49m\u001b[43m \u001b[49m\u001b[43murl\u001b[49m\u001b[43m}\u001b[49m\u001b[43m)\u001b[49m\n",
      "File \u001b[0;32m~/miniconda3/lib/python3.9/site-packages/selenium/webdriver/remote/webdriver.py:428\u001b[0m, in \u001b[0;36mWebDriver.execute\u001b[0;34m(self, driver_command, params)\u001b[0m\n\u001b[1;32m    425\u001b[0m         params[\u001b[38;5;124m'\u001b[39m\u001b[38;5;124msessionId\u001b[39m\u001b[38;5;124m'\u001b[39m] \u001b[38;5;241m=\u001b[39m \u001b[38;5;28mself\u001b[39m\u001b[38;5;241m.\u001b[39msession_id\n\u001b[1;32m    427\u001b[0m params \u001b[38;5;241m=\u001b[39m \u001b[38;5;28mself\u001b[39m\u001b[38;5;241m.\u001b[39m_wrap_value(params)\n\u001b[0;32m--> 428\u001b[0m response \u001b[38;5;241m=\u001b[39m \u001b[38;5;28;43mself\u001b[39;49m\u001b[38;5;241;43m.\u001b[39;49m\u001b[43mcommand_executor\u001b[49m\u001b[38;5;241;43m.\u001b[39;49m\u001b[43mexecute\u001b[49m\u001b[43m(\u001b[49m\u001b[43mdriver_command\u001b[49m\u001b[43m,\u001b[49m\u001b[43m \u001b[49m\u001b[43mparams\u001b[49m\u001b[43m)\u001b[49m\n\u001b[1;32m    429\u001b[0m \u001b[38;5;28;01mif\u001b[39;00m response:\n\u001b[1;32m    430\u001b[0m     \u001b[38;5;28mself\u001b[39m\u001b[38;5;241m.\u001b[39merror_handler\u001b[38;5;241m.\u001b[39mcheck_response(response)\n",
      "File \u001b[0;32m~/miniconda3/lib/python3.9/site-packages/selenium/webdriver/remote/remote_connection.py:347\u001b[0m, in \u001b[0;36mRemoteConnection.execute\u001b[0;34m(self, command, params)\u001b[0m\n\u001b[1;32m    345\u001b[0m data \u001b[38;5;241m=\u001b[39m utils\u001b[38;5;241m.\u001b[39mdump_json(params)\n\u001b[1;32m    346\u001b[0m url \u001b[38;5;241m=\u001b[39m \u001b[38;5;124mf\u001b[39m\u001b[38;5;124m\"\u001b[39m\u001b[38;5;132;01m{\u001b[39;00m\u001b[38;5;28mself\u001b[39m\u001b[38;5;241m.\u001b[39m_url\u001b[38;5;132;01m}\u001b[39;00m\u001b[38;5;132;01m{\u001b[39;00mpath\u001b[38;5;132;01m}\u001b[39;00m\u001b[38;5;124m\"\u001b[39m\n\u001b[0;32m--> 347\u001b[0m \u001b[38;5;28;01mreturn\u001b[39;00m \u001b[38;5;28;43mself\u001b[39;49m\u001b[38;5;241;43m.\u001b[39;49m\u001b[43m_request\u001b[49m\u001b[43m(\u001b[49m\u001b[43mcommand_info\u001b[49m\u001b[43m[\u001b[49m\u001b[38;5;241;43m0\u001b[39;49m\u001b[43m]\u001b[49m\u001b[43m,\u001b[49m\u001b[43m \u001b[49m\u001b[43murl\u001b[49m\u001b[43m,\u001b[49m\u001b[43m \u001b[49m\u001b[43mbody\u001b[49m\u001b[38;5;241;43m=\u001b[39;49m\u001b[43mdata\u001b[49m\u001b[43m)\u001b[49m\n",
      "File \u001b[0;32m~/miniconda3/lib/python3.9/site-packages/selenium/webdriver/remote/remote_connection.py:369\u001b[0m, in \u001b[0;36mRemoteConnection._request\u001b[0;34m(self, method, url, body)\u001b[0m\n\u001b[1;32m    366\u001b[0m     body \u001b[38;5;241m=\u001b[39m \u001b[38;5;28;01mNone\u001b[39;00m\n\u001b[1;32m    368\u001b[0m \u001b[38;5;28;01mif\u001b[39;00m \u001b[38;5;28mself\u001b[39m\u001b[38;5;241m.\u001b[39mkeep_alive:\n\u001b[0;32m--> 369\u001b[0m     response \u001b[38;5;241m=\u001b[39m \u001b[38;5;28;43mself\u001b[39;49m\u001b[38;5;241;43m.\u001b[39;49m\u001b[43m_conn\u001b[49m\u001b[38;5;241;43m.\u001b[39;49m\u001b[43mrequest\u001b[49m\u001b[43m(\u001b[49m\u001b[43mmethod\u001b[49m\u001b[43m,\u001b[49m\u001b[43m \u001b[49m\u001b[43murl\u001b[49m\u001b[43m,\u001b[49m\u001b[43m \u001b[49m\u001b[43mbody\u001b[49m\u001b[38;5;241;43m=\u001b[39;49m\u001b[43mbody\u001b[49m\u001b[43m,\u001b[49m\u001b[43m \u001b[49m\u001b[43mheaders\u001b[49m\u001b[38;5;241;43m=\u001b[39;49m\u001b[43mheaders\u001b[49m\u001b[43m)\u001b[49m\n\u001b[1;32m    370\u001b[0m     statuscode \u001b[38;5;241m=\u001b[39m response\u001b[38;5;241m.\u001b[39mstatus\n\u001b[1;32m    371\u001b[0m \u001b[38;5;28;01melse\u001b[39;00m:\n",
      "File \u001b[0;32m~/miniconda3/lib/python3.9/site-packages/urllib3/request.py:78\u001b[0m, in \u001b[0;36mRequestMethods.request\u001b[0;34m(self, method, url, fields, headers, **urlopen_kw)\u001b[0m\n\u001b[1;32m     74\u001b[0m     \u001b[38;5;28;01mreturn\u001b[39;00m \u001b[38;5;28mself\u001b[39m\u001b[38;5;241m.\u001b[39mrequest_encode_url(\n\u001b[1;32m     75\u001b[0m         method, url, fields\u001b[38;5;241m=\u001b[39mfields, headers\u001b[38;5;241m=\u001b[39mheaders, \u001b[38;5;241m*\u001b[39m\u001b[38;5;241m*\u001b[39murlopen_kw\n\u001b[1;32m     76\u001b[0m     )\n\u001b[1;32m     77\u001b[0m \u001b[38;5;28;01melse\u001b[39;00m:\n\u001b[0;32m---> 78\u001b[0m     \u001b[38;5;28;01mreturn\u001b[39;00m \u001b[38;5;28;43mself\u001b[39;49m\u001b[38;5;241;43m.\u001b[39;49m\u001b[43mrequest_encode_body\u001b[49m\u001b[43m(\u001b[49m\n\u001b[1;32m     79\u001b[0m \u001b[43m        \u001b[49m\u001b[43mmethod\u001b[49m\u001b[43m,\u001b[49m\u001b[43m \u001b[49m\u001b[43murl\u001b[49m\u001b[43m,\u001b[49m\u001b[43m \u001b[49m\u001b[43mfields\u001b[49m\u001b[38;5;241;43m=\u001b[39;49m\u001b[43mfields\u001b[49m\u001b[43m,\u001b[49m\u001b[43m \u001b[49m\u001b[43mheaders\u001b[49m\u001b[38;5;241;43m=\u001b[39;49m\u001b[43mheaders\u001b[49m\u001b[43m,\u001b[49m\u001b[43m \u001b[49m\u001b[38;5;241;43m*\u001b[39;49m\u001b[38;5;241;43m*\u001b[39;49m\u001b[43murlopen_kw\u001b[49m\n\u001b[1;32m     80\u001b[0m \u001b[43m    \u001b[49m\u001b[43m)\u001b[49m\n",
      "File \u001b[0;32m~/miniconda3/lib/python3.9/site-packages/urllib3/request.py:170\u001b[0m, in \u001b[0;36mRequestMethods.request_encode_body\u001b[0;34m(self, method, url, fields, headers, encode_multipart, multipart_boundary, **urlopen_kw)\u001b[0m\n\u001b[1;32m    167\u001b[0m extra_kw[\u001b[38;5;124m\"\u001b[39m\u001b[38;5;124mheaders\u001b[39m\u001b[38;5;124m\"\u001b[39m]\u001b[38;5;241m.\u001b[39mupdate(headers)\n\u001b[1;32m    168\u001b[0m extra_kw\u001b[38;5;241m.\u001b[39mupdate(urlopen_kw)\n\u001b[0;32m--> 170\u001b[0m \u001b[38;5;28;01mreturn\u001b[39;00m \u001b[38;5;28;43mself\u001b[39;49m\u001b[38;5;241;43m.\u001b[39;49m\u001b[43murlopen\u001b[49m\u001b[43m(\u001b[49m\u001b[43mmethod\u001b[49m\u001b[43m,\u001b[49m\u001b[43m \u001b[49m\u001b[43murl\u001b[49m\u001b[43m,\u001b[49m\u001b[43m \u001b[49m\u001b[38;5;241;43m*\u001b[39;49m\u001b[38;5;241;43m*\u001b[39;49m\u001b[43mextra_kw\u001b[49m\u001b[43m)\u001b[49m\n",
      "File \u001b[0;32m~/miniconda3/lib/python3.9/site-packages/urllib3/poolmanager.py:376\u001b[0m, in \u001b[0;36mPoolManager.urlopen\u001b[0;34m(self, method, url, redirect, **kw)\u001b[0m\n\u001b[1;32m    374\u001b[0m     response \u001b[38;5;241m=\u001b[39m conn\u001b[38;5;241m.\u001b[39murlopen(method, url, \u001b[38;5;241m*\u001b[39m\u001b[38;5;241m*\u001b[39mkw)\n\u001b[1;32m    375\u001b[0m \u001b[38;5;28;01melse\u001b[39;00m:\n\u001b[0;32m--> 376\u001b[0m     response \u001b[38;5;241m=\u001b[39m \u001b[43mconn\u001b[49m\u001b[38;5;241;43m.\u001b[39;49m\u001b[43murlopen\u001b[49m\u001b[43m(\u001b[49m\u001b[43mmethod\u001b[49m\u001b[43m,\u001b[49m\u001b[43m \u001b[49m\u001b[43mu\u001b[49m\u001b[38;5;241;43m.\u001b[39;49m\u001b[43mrequest_uri\u001b[49m\u001b[43m,\u001b[49m\u001b[43m \u001b[49m\u001b[38;5;241;43m*\u001b[39;49m\u001b[38;5;241;43m*\u001b[39;49m\u001b[43mkw\u001b[49m\u001b[43m)\u001b[49m\n\u001b[1;32m    378\u001b[0m redirect_location \u001b[38;5;241m=\u001b[39m redirect \u001b[38;5;129;01mand\u001b[39;00m response\u001b[38;5;241m.\u001b[39mget_redirect_location()\n\u001b[1;32m    379\u001b[0m \u001b[38;5;28;01mif\u001b[39;00m \u001b[38;5;129;01mnot\u001b[39;00m redirect_location:\n",
      "File \u001b[0;32m~/miniconda3/lib/python3.9/site-packages/urllib3/connectionpool.py:703\u001b[0m, in \u001b[0;36mHTTPConnectionPool.urlopen\u001b[0;34m(self, method, url, body, headers, retries, redirect, assert_same_host, timeout, pool_timeout, release_conn, chunked, body_pos, **response_kw)\u001b[0m\n\u001b[1;32m    700\u001b[0m     \u001b[38;5;28mself\u001b[39m\u001b[38;5;241m.\u001b[39m_prepare_proxy(conn)\n\u001b[1;32m    702\u001b[0m \u001b[38;5;66;03m# Make the request on the httplib connection object.\u001b[39;00m\n\u001b[0;32m--> 703\u001b[0m httplib_response \u001b[38;5;241m=\u001b[39m \u001b[38;5;28;43mself\u001b[39;49m\u001b[38;5;241;43m.\u001b[39;49m\u001b[43m_make_request\u001b[49m\u001b[43m(\u001b[49m\n\u001b[1;32m    704\u001b[0m \u001b[43m    \u001b[49m\u001b[43mconn\u001b[49m\u001b[43m,\u001b[49m\n\u001b[1;32m    705\u001b[0m \u001b[43m    \u001b[49m\u001b[43mmethod\u001b[49m\u001b[43m,\u001b[49m\n\u001b[1;32m    706\u001b[0m \u001b[43m    \u001b[49m\u001b[43murl\u001b[49m\u001b[43m,\u001b[49m\n\u001b[1;32m    707\u001b[0m \u001b[43m    \u001b[49m\u001b[43mtimeout\u001b[49m\u001b[38;5;241;43m=\u001b[39;49m\u001b[43mtimeout_obj\u001b[49m\u001b[43m,\u001b[49m\n\u001b[1;32m    708\u001b[0m \u001b[43m    \u001b[49m\u001b[43mbody\u001b[49m\u001b[38;5;241;43m=\u001b[39;49m\u001b[43mbody\u001b[49m\u001b[43m,\u001b[49m\n\u001b[1;32m    709\u001b[0m \u001b[43m    \u001b[49m\u001b[43mheaders\u001b[49m\u001b[38;5;241;43m=\u001b[39;49m\u001b[43mheaders\u001b[49m\u001b[43m,\u001b[49m\n\u001b[1;32m    710\u001b[0m \u001b[43m    \u001b[49m\u001b[43mchunked\u001b[49m\u001b[38;5;241;43m=\u001b[39;49m\u001b[43mchunked\u001b[49m\u001b[43m,\u001b[49m\n\u001b[1;32m    711\u001b[0m \u001b[43m\u001b[49m\u001b[43m)\u001b[49m\n\u001b[1;32m    713\u001b[0m \u001b[38;5;66;03m# If we're going to release the connection in ``finally:``, then\u001b[39;00m\n\u001b[1;32m    714\u001b[0m \u001b[38;5;66;03m# the response doesn't need to know about the connection. Otherwise\u001b[39;00m\n\u001b[1;32m    715\u001b[0m \u001b[38;5;66;03m# it will also try to release it and we'll have a double-release\u001b[39;00m\n\u001b[1;32m    716\u001b[0m \u001b[38;5;66;03m# mess.\u001b[39;00m\n\u001b[1;32m    717\u001b[0m response_conn \u001b[38;5;241m=\u001b[39m conn \u001b[38;5;28;01mif\u001b[39;00m \u001b[38;5;129;01mnot\u001b[39;00m release_conn \u001b[38;5;28;01melse\u001b[39;00m \u001b[38;5;28;01mNone\u001b[39;00m\n",
      "File \u001b[0;32m~/miniconda3/lib/python3.9/site-packages/urllib3/connectionpool.py:449\u001b[0m, in \u001b[0;36mHTTPConnectionPool._make_request\u001b[0;34m(self, conn, method, url, timeout, chunked, **httplib_request_kw)\u001b[0m\n\u001b[1;32m    444\u001b[0m             httplib_response \u001b[38;5;241m=\u001b[39m conn\u001b[38;5;241m.\u001b[39mgetresponse()\n\u001b[1;32m    445\u001b[0m         \u001b[38;5;28;01mexcept\u001b[39;00m \u001b[38;5;167;01mBaseException\u001b[39;00m \u001b[38;5;28;01mas\u001b[39;00m e:\n\u001b[1;32m    446\u001b[0m             \u001b[38;5;66;03m# Remove the TypeError from the exception chain in\u001b[39;00m\n\u001b[1;32m    447\u001b[0m             \u001b[38;5;66;03m# Python 3 (including for exceptions like SystemExit).\u001b[39;00m\n\u001b[1;32m    448\u001b[0m             \u001b[38;5;66;03m# Otherwise it looks like a bug in the code.\u001b[39;00m\n\u001b[0;32m--> 449\u001b[0m             \u001b[43msix\u001b[49m\u001b[38;5;241;43m.\u001b[39;49m\u001b[43mraise_from\u001b[49m\u001b[43m(\u001b[49m\u001b[43me\u001b[49m\u001b[43m,\u001b[49m\u001b[43m \u001b[49m\u001b[38;5;28;43;01mNone\u001b[39;49;00m\u001b[43m)\u001b[49m\n\u001b[1;32m    450\u001b[0m \u001b[38;5;28;01mexcept\u001b[39;00m (SocketTimeout, BaseSSLError, SocketError) \u001b[38;5;28;01mas\u001b[39;00m e:\n\u001b[1;32m    451\u001b[0m     \u001b[38;5;28mself\u001b[39m\u001b[38;5;241m.\u001b[39m_raise_timeout(err\u001b[38;5;241m=\u001b[39me, url\u001b[38;5;241m=\u001b[39murl, timeout_value\u001b[38;5;241m=\u001b[39mread_timeout)\n",
      "File \u001b[0;32m<string>:3\u001b[0m, in \u001b[0;36mraise_from\u001b[0;34m(value, from_value)\u001b[0m\n",
      "File \u001b[0;32m~/miniconda3/lib/python3.9/site-packages/urllib3/connectionpool.py:444\u001b[0m, in \u001b[0;36mHTTPConnectionPool._make_request\u001b[0;34m(self, conn, method, url, timeout, chunked, **httplib_request_kw)\u001b[0m\n\u001b[1;32m    441\u001b[0m \u001b[38;5;28;01mexcept\u001b[39;00m \u001b[38;5;167;01mTypeError\u001b[39;00m:\n\u001b[1;32m    442\u001b[0m     \u001b[38;5;66;03m# Python 3\u001b[39;00m\n\u001b[1;32m    443\u001b[0m     \u001b[38;5;28;01mtry\u001b[39;00m:\n\u001b[0;32m--> 444\u001b[0m         httplib_response \u001b[38;5;241m=\u001b[39m \u001b[43mconn\u001b[49m\u001b[38;5;241;43m.\u001b[39;49m\u001b[43mgetresponse\u001b[49m\u001b[43m(\u001b[49m\u001b[43m)\u001b[49m\n\u001b[1;32m    445\u001b[0m     \u001b[38;5;28;01mexcept\u001b[39;00m \u001b[38;5;167;01mBaseException\u001b[39;00m \u001b[38;5;28;01mas\u001b[39;00m e:\n\u001b[1;32m    446\u001b[0m         \u001b[38;5;66;03m# Remove the TypeError from the exception chain in\u001b[39;00m\n\u001b[1;32m    447\u001b[0m         \u001b[38;5;66;03m# Python 3 (including for exceptions like SystemExit).\u001b[39;00m\n\u001b[1;32m    448\u001b[0m         \u001b[38;5;66;03m# Otherwise it looks like a bug in the code.\u001b[39;00m\n\u001b[1;32m    449\u001b[0m         six\u001b[38;5;241m.\u001b[39mraise_from(e, \u001b[38;5;28;01mNone\u001b[39;00m)\n",
      "File \u001b[0;32m~/miniconda3/lib/python3.9/http/client.py:1345\u001b[0m, in \u001b[0;36mHTTPConnection.getresponse\u001b[0;34m(self)\u001b[0m\n\u001b[1;32m   1343\u001b[0m \u001b[38;5;28;01mtry\u001b[39;00m:\n\u001b[1;32m   1344\u001b[0m     \u001b[38;5;28;01mtry\u001b[39;00m:\n\u001b[0;32m-> 1345\u001b[0m         \u001b[43mresponse\u001b[49m\u001b[38;5;241;43m.\u001b[39;49m\u001b[43mbegin\u001b[49m\u001b[43m(\u001b[49m\u001b[43m)\u001b[49m\n\u001b[1;32m   1346\u001b[0m     \u001b[38;5;28;01mexcept\u001b[39;00m \u001b[38;5;167;01mConnectionError\u001b[39;00m:\n\u001b[1;32m   1347\u001b[0m         \u001b[38;5;28mself\u001b[39m\u001b[38;5;241m.\u001b[39mclose()\n",
      "File \u001b[0;32m~/miniconda3/lib/python3.9/http/client.py:307\u001b[0m, in \u001b[0;36mHTTPResponse.begin\u001b[0;34m(self)\u001b[0m\n\u001b[1;32m    305\u001b[0m \u001b[38;5;66;03m# read until we get a non-100 response\u001b[39;00m\n\u001b[1;32m    306\u001b[0m \u001b[38;5;28;01mwhile\u001b[39;00m \u001b[38;5;28;01mTrue\u001b[39;00m:\n\u001b[0;32m--> 307\u001b[0m     version, status, reason \u001b[38;5;241m=\u001b[39m \u001b[38;5;28;43mself\u001b[39;49m\u001b[38;5;241;43m.\u001b[39;49m\u001b[43m_read_status\u001b[49m\u001b[43m(\u001b[49m\u001b[43m)\u001b[49m\n\u001b[1;32m    308\u001b[0m     \u001b[38;5;28;01mif\u001b[39;00m status \u001b[38;5;241m!=\u001b[39m CONTINUE:\n\u001b[1;32m    309\u001b[0m         \u001b[38;5;28;01mbreak\u001b[39;00m\n",
      "File \u001b[0;32m~/miniconda3/lib/python3.9/http/client.py:268\u001b[0m, in \u001b[0;36mHTTPResponse._read_status\u001b[0;34m(self)\u001b[0m\n\u001b[1;32m    267\u001b[0m \u001b[38;5;28;01mdef\u001b[39;00m \u001b[38;5;21m_read_status\u001b[39m(\u001b[38;5;28mself\u001b[39m):\n\u001b[0;32m--> 268\u001b[0m     line \u001b[38;5;241m=\u001b[39m \u001b[38;5;28mstr\u001b[39m(\u001b[38;5;28;43mself\u001b[39;49m\u001b[38;5;241;43m.\u001b[39;49m\u001b[43mfp\u001b[49m\u001b[38;5;241;43m.\u001b[39;49m\u001b[43mreadline\u001b[49m\u001b[43m(\u001b[49m\u001b[43m_MAXLINE\u001b[49m\u001b[43m \u001b[49m\u001b[38;5;241;43m+\u001b[39;49m\u001b[43m \u001b[49m\u001b[38;5;241;43m1\u001b[39;49m\u001b[43m)\u001b[49m, \u001b[38;5;124m\"\u001b[39m\u001b[38;5;124miso-8859-1\u001b[39m\u001b[38;5;124m\"\u001b[39m)\n\u001b[1;32m    269\u001b[0m     \u001b[38;5;28;01mif\u001b[39;00m \u001b[38;5;28mlen\u001b[39m(line) \u001b[38;5;241m>\u001b[39m _MAXLINE:\n\u001b[1;32m    270\u001b[0m         \u001b[38;5;28;01mraise\u001b[39;00m LineTooLong(\u001b[38;5;124m\"\u001b[39m\u001b[38;5;124mstatus line\u001b[39m\u001b[38;5;124m\"\u001b[39m)\n",
      "File \u001b[0;32m~/miniconda3/lib/python3.9/socket.py:704\u001b[0m, in \u001b[0;36mSocketIO.readinto\u001b[0;34m(self, b)\u001b[0m\n\u001b[1;32m    702\u001b[0m \u001b[38;5;28;01mwhile\u001b[39;00m \u001b[38;5;28;01mTrue\u001b[39;00m:\n\u001b[1;32m    703\u001b[0m     \u001b[38;5;28;01mtry\u001b[39;00m:\n\u001b[0;32m--> 704\u001b[0m         \u001b[38;5;28;01mreturn\u001b[39;00m \u001b[38;5;28;43mself\u001b[39;49m\u001b[38;5;241;43m.\u001b[39;49m\u001b[43m_sock\u001b[49m\u001b[38;5;241;43m.\u001b[39;49m\u001b[43mrecv_into\u001b[49m\u001b[43m(\u001b[49m\u001b[43mb\u001b[49m\u001b[43m)\u001b[49m\n\u001b[1;32m    705\u001b[0m     \u001b[38;5;28;01mexcept\u001b[39;00m timeout:\n\u001b[1;32m    706\u001b[0m         \u001b[38;5;28mself\u001b[39m\u001b[38;5;241m.\u001b[39m_timeout_occurred \u001b[38;5;241m=\u001b[39m \u001b[38;5;28;01mTrue\u001b[39;00m\n",
      "\u001b[0;31mKeyboardInterrupt\u001b[0m: "
     ]
    }
   ],
   "source": [
    "for i in range(df.shape[0]):\n",
    "    driver.get(df.iloc[i]['Ссылка'])\n",
    "    work = driver.find_elements(by=By.XPATH, \n",
    "                             value='//div[@data-qa=\"resume-block-experience\"][@class=\"resume-block\"]//div[@class=\"resume-block-container\"]')\n",
    "    w = driver.find_elements(by=By.XPATH, \n",
    "                             value='//div[@data-qa=\"resume-block-experience\"][@class=\"resume-block\"]//div[@class=\"resume-block-container\"]/div[@class=\"bloko-text bloko-text_strong\"][not(@data-qa=\"resume-block-experience-position\")]//span')\n",
    "    \n",
    "    works = []\n",
    "    for ww in w:\n",
    "        works.append(ww.text)\n",
    "    \n",
    "    works_normilized = []\n",
    "    for w in works:\n",
    "        works_normilized.append(morph.normal_forms(w)[0])\n",
    "    \n",
    "    repet.append(len(set(works_normilized)) - len(works_normilized) < 0)"
   ]
  },
  {
   "cell_type": "markdown",
   "id": "959947f7-3d5b-4fce-b585-e02699c56527",
   "metadata": {},
   "source": [
    "проверить, правда ли так много людей с повышениями:"
   ]
  },
  {
   "cell_type": "code",
   "execution_count": 51,
   "id": "3d3772ad-e93d-4fae-be36-136f26b6c1e4",
   "metadata": {},
   "outputs": [
    {
     "data": {
      "text/plain": [
       "[True,\n",
       " True,\n",
       " False,\n",
       " False,\n",
       " False,\n",
       " False,\n",
       " True,\n",
       " False,\n",
       " True,\n",
       " False,\n",
       " False,\n",
       " False,\n",
       " False,\n",
       " True,\n",
       " False,\n",
       " False,\n",
       " False,\n",
       " True,\n",
       " False,\n",
       " False,\n",
       " False,\n",
       " True,\n",
       " True,\n",
       " False,\n",
       " False,\n",
       " False,\n",
       " False,\n",
       " True,\n",
       " False,\n",
       " False]"
      ]
     },
     "execution_count": 51,
     "metadata": {},
     "output_type": "execute_result"
    }
   ],
   "source": [
    "repet"
   ]
  },
  {
   "cell_type": "markdown",
   "id": "4b830596-ac4a-46dd-8d73-68a35bbde2c5",
   "metadata": {},
   "source": [
    "теперь для нормализованных названий найти повторения: `len(set(works)) - len(works) > 0` — и чекнуть адекватность такого определения"
   ]
  },
  {
   "cell_type": "markdown",
   "id": "eadd96fd-838b-4cb7-a45c-7011095ed8b0",
   "metadata": {},
   "source": [
    "^ почти готово"
   ]
  },
  {
   "cell_type": "markdown",
   "id": "75f149e2-2071-418e-8db4-50f81759406e",
   "metadata": {},
   "source": [
    "_куда-то надо сохранить этот новый датасет в приличное место (или вообще туда же, просто старую версию датасета переместить в backup)_:"
   ]
  },
  {
   "cell_type": "code",
   "execution_count": null,
   "id": "47caa240-9d07-403a-b81f-6c4cabc81cc5",
   "metadata": {},
   "outputs": [],
   "source": [
    "# dataset.save()"
   ]
  },
  {
   "cell_type": "markdown",
   "id": "d272de3d-96ee-49bc-85ea-0b8188dd0d73",
   "metadata": {},
   "source": [
    "а также я давно хотел заняться топовостью обоазования"
   ]
  },
  {
   "cell_type": "markdown",
   "id": "aa70ab80-8a0c-4220-b29a-c7af7dc52e77",
   "metadata": {},
   "source": [
    "вообще там вроде все ок, тогда посмотрю вручную при разметке есть ли проблемы и почему, составлю список прямо"
   ]
  },
  {
   "cell_type": "markdown",
   "id": "c67dd87d-ece8-498f-9589-24ed7b13ae95",
   "metadata": {},
   "source": [
    "**Какой был план:**\n",
    "    \n",
    "    ВКР: размечу данные x100 -> соберу ещё признаки нормально x2 -> обучу регрессию и получу результат + проинтерпретирую кластеры -> дальше бустинг -> semi-supervised, сложные методы кластеризации. Что еще можно?"
   ]
  },
  {
   "cell_type": "markdown",
   "id": "b34c9a18-1e09-468a-ab09-a8fff9bd381c",
   "metadata": {},
   "source": [
    "#### Предобработка полученных данных для анализа"
   ]
  },
  {
   "cell_type": "code",
   "execution_count": null,
   "id": "a9c054eb-c804-4fbf-aa3d-3dc522eba6d5",
   "metadata": {},
   "outputs": [],
   "source": []
  },
  {
   "cell_type": "markdown",
   "id": "557caee0-e4e1-42a1-9ee0-d500b62d2c7c",
   "metadata": {},
   "source": [
    "Токенизация раздела \"О себе\" на 1-граммы:"
   ]
  },
  {
   "cell_type": "code",
   "execution_count": 12,
   "id": "0cbc7164-674f-479b-9076-c70d99ef0ab2",
   "metadata": {},
   "outputs": [],
   "source": [
    "import nltk\n",
    "# nltk.download('stopwords')\n",
    "\n",
    "import re\n",
    "from pymorphy2 import MorphAnalyzer\n",
    "from nltk.corpus import stopwords\n",
    "patterns = \"[0-9!#$%&'()*+,./:;<=>?@[\\]^_`{|}~—\\\"\\-]+\"\n",
    "stopwords_ru = stopwords.words(\"russian\")\n",
    "morph = MorphAnalyzer()\n",
    "def lemmatize(doc):\n",
    "    # print(doc)\n",
    "    doc = re.sub(patterns, ' ', doc)\n",
    "    tokens = []\n",
    "    for token in doc.split():\n",
    "        if token and token not in stopwords_ru and morph.normal_forms(token)[0] not in stopwords_ru:  # ВОТ откуда там стоп-слвоа — В not in stopwords_ru -> normal(В) = в\n",
    "            # print(token)\n",
    "            token = token.strip()\n",
    "            token = morph.normal_forms(token)[0]\n",
    "            tokens.append(token)\n",
    "    if len(tokens) > 2:\n",
    "        return tokens\n",
    "    return None\n",
    "\n",
    "df2 = pd.DataFrame(df['О себе'])\n",
    "\n",
    "for col_ind in df2.index:\n",
    "    col = df2.iloc[col_ind]['О себе']\n",
    "    if col:\n",
    "        df2.iloc[col_ind]['О себе'] = lemmatize(str(col))\n",
    "        #print(lemmatize(str(col)))\n",
    "        \n",
    "data = df2['О себе']\n",
    "\n",
    "from collections import defaultdict\n",
    "word_freq = defaultdict(int)\n",
    "for tokens in data.iloc[:]:\n",
    "    if tokens:\n",
    "        for token in tokens:\n",
    "            word_freq[token] += 1"
   ]
  },
  {
   "cell_type": "code",
   "execution_count": 13,
   "id": "73390bf9-6326-4f55-a57e-06b183a265e0",
   "metadata": {},
   "outputs": [
    {
     "data": {
      "text/html": [
       "<div>\n",
       "<style scoped>\n",
       "    .dataframe tbody tr th:only-of-type {\n",
       "        vertical-align: middle;\n",
       "    }\n",
       "\n",
       "    .dataframe tbody tr th {\n",
       "        vertical-align: top;\n",
       "    }\n",
       "\n",
       "    .dataframe thead th {\n",
       "        text-align: right;\n",
       "    }\n",
       "</style>\n",
       "<table border=\"1\" class=\"dataframe\">\n",
       "  <thead>\n",
       "    <tr style=\"text-align: right;\">\n",
       "      <th></th>\n",
       "      <th>О себе</th>\n",
       "    </tr>\n",
       "  </thead>\n",
       "  <tbody>\n",
       "    <tr>\n",
       "      <th>166</th>\n",
       "      <td>[усидчивый, целеустремлённый, адекватный, поль...</td>\n",
       "    </tr>\n",
       "    <tr>\n",
       "      <th>19257</th>\n",
       "      <td>[владеть, навык, финансовый, анализ, банк, ком...</td>\n",
       "    </tr>\n",
       "    <tr>\n",
       "      <th>9120</th>\n",
       "      <td>[management, and, business, skills, project, m...</td>\n",
       "    </tr>\n",
       "  </tbody>\n",
       "</table>\n",
       "</div>"
      ],
      "text/plain": [
       "                                                  О себе\n",
       "166    [усидчивый, целеустремлённый, адекватный, поль...\n",
       "19257  [владеть, навык, финансовый, анализ, банк, ком...\n",
       "9120   [management, and, business, skills, project, m..."
      ]
     },
     "execution_count": 13,
     "metadata": {},
     "output_type": "execute_result"
    }
   ],
   "source": [
    "df2.sample(3)"
   ]
  },
  {
   "cell_type": "markdown",
   "id": "b3f2ccc7-0b12-418f-9b7a-37bced42a43e",
   "metadata": {},
   "source": [
    "^ Стоп-слова убраны, все в нормальной форме => их не будет и дальше."
   ]
  },
  {
   "cell_type": "markdown",
   "id": "41f07bfe-e2fd-4fa3-a84a-1c0648d7c3e5",
   "metadata": {},
   "source": [
    "На 2-граммы:"
   ]
  },
  {
   "cell_type": "code",
   "execution_count": 14,
   "id": "f548dd5e-4670-44da-b608-db94447bd6bc",
   "metadata": {},
   "outputs": [],
   "source": [
    "from nltk.util import ngrams\n",
    "from nltk import word_tokenize \n",
    "\n",
    "tokens2 = []\n",
    "\n",
    "for x in df2['О себе']:\n",
    "    if x is not None:\n",
    "        bigrams = []\n",
    "        for bg in list(ngrams(x, 2)):\n",
    "            bigrams.append(' '.join(bg))\n",
    "        tokens2.append(bigrams)\n",
    "    else:\n",
    "        tokens2.append(None)\n",
    "        \n",
    "df2['О себе 2'] = tokens2"
   ]
  },
  {
   "cell_type": "code",
   "execution_count": 15,
   "id": "0540b1fd-8a08-4abc-bd86-ec38b2f7bc4e",
   "metadata": {},
   "outputs": [
    {
     "data": {
      "text/html": [
       "<div>\n",
       "<style scoped>\n",
       "    .dataframe tbody tr th:only-of-type {\n",
       "        vertical-align: middle;\n",
       "    }\n",
       "\n",
       "    .dataframe tbody tr th {\n",
       "        vertical-align: top;\n",
       "    }\n",
       "\n",
       "    .dataframe thead th {\n",
       "        text-align: right;\n",
       "    }\n",
       "</style>\n",
       "<table border=\"1\" class=\"dataframe\">\n",
       "  <thead>\n",
       "    <tr style=\"text-align: right;\">\n",
       "      <th></th>\n",
       "      <th>О себе</th>\n",
       "      <th>О себе 2</th>\n",
       "    </tr>\n",
       "  </thead>\n",
       "  <tbody>\n",
       "    <tr>\n",
       "      <th>13151</th>\n",
       "      <td>[•, готовность, активный, работа, •, стремлени...</td>\n",
       "      <td>[• готовность, готовность активный, активный р...</td>\n",
       "    </tr>\n",
       "    <tr>\n",
       "      <th>15309</th>\n",
       "      <td>[отсутствие, вредный, привычка, энергичность, ...</td>\n",
       "      <td>[отсутствие вредный, вредный привычка, привычк...</td>\n",
       "    </tr>\n",
       "    <tr>\n",
       "      <th>11546</th>\n",
       "      <td>[уверенный, пользователь, пк, word, excel, out...</td>\n",
       "      <td>[уверенный пользователь, пользователь пк, пк w...</td>\n",
       "    </tr>\n",
       "  </tbody>\n",
       "</table>\n",
       "</div>"
      ],
      "text/plain": [
       "                                                  О себе  \\\n",
       "13151  [•, готовность, активный, работа, •, стремлени...   \n",
       "15309  [отсутствие, вредный, привычка, энергичность, ...   \n",
       "11546  [уверенный, пользователь, пк, word, excel, out...   \n",
       "\n",
       "                                                О себе 2  \n",
       "13151  [• готовность, готовность активный, активный р...  \n",
       "15309  [отсутствие вредный, вредный привычка, привычк...  \n",
       "11546  [уверенный пользователь, пользователь пк, пк w...  "
      ]
     },
     "execution_count": 15,
     "metadata": {},
     "output_type": "execute_result"
    }
   ],
   "source": [
    "df2.sample(3)"
   ]
  },
  {
   "cell_type": "markdown",
   "id": "2f3a3190-1d34-485c-8e5e-8ec2c4a2668a",
   "metadata": {},
   "source": [
    "На 3-граммы:"
   ]
  },
  {
   "cell_type": "code",
   "execution_count": 16,
   "id": "750789e2-8dd6-45d8-b503-d5e43bc4e03e",
   "metadata": {},
   "outputs": [],
   "source": [
    "from nltk.util import ngrams\n",
    "from nltk import word_tokenize \n",
    "\n",
    "tokens3 = []\n",
    "\n",
    "for x in df2['О себе']:\n",
    "    if x is not None:\n",
    "        trigrams = []\n",
    "        for tg in list(ngrams(x, 3)):\n",
    "            trigrams.append(' '.join(tg))\n",
    "        tokens3.append(trigrams)\n",
    "    else:\n",
    "        tokens3.append(None)\n",
    "        \n",
    "df2['О себе 3'] = tokens3"
   ]
  },
  {
   "cell_type": "code",
   "execution_count": 17,
   "id": "d0f92ebe-da54-471d-a90e-e09100a1f709",
   "metadata": {},
   "outputs": [
    {
     "data": {
      "text/html": [
       "<div>\n",
       "<style scoped>\n",
       "    .dataframe tbody tr th:only-of-type {\n",
       "        vertical-align: middle;\n",
       "    }\n",
       "\n",
       "    .dataframe tbody tr th {\n",
       "        vertical-align: top;\n",
       "    }\n",
       "\n",
       "    .dataframe thead th {\n",
       "        text-align: right;\n",
       "    }\n",
       "</style>\n",
       "<table border=\"1\" class=\"dataframe\">\n",
       "  <thead>\n",
       "    <tr style=\"text-align: right;\">\n",
       "      <th></th>\n",
       "      <th>О себе</th>\n",
       "      <th>О себе 2</th>\n",
       "      <th>О себе 3</th>\n",
       "    </tr>\n",
       "  </thead>\n",
       "  <tbody>\n",
       "    <tr>\n",
       "      <th>11691</th>\n",
       "      <td>[любить, музыка, достигать, поставить, результ...</td>\n",
       "      <td>[любить музыка, музыка достигать, достигать по...</td>\n",
       "      <td>[любить музыка достигать, музыка достигать пос...</td>\n",
       "    </tr>\n",
       "    <tr>\n",
       "      <th>11665</th>\n",
       "      <td>[хобби, спорт, доброжелательный, чувство, юмор...</td>\n",
       "      <td>[хобби спорт, спорт доброжелательный, доброжел...</td>\n",
       "      <td>[хобби спорт доброжелательный, спорт доброжела...</td>\n",
       "    </tr>\n",
       "    <tr>\n",
       "      <th>13230</th>\n",
       "      <td>None</td>\n",
       "      <td>None</td>\n",
       "      <td>None</td>\n",
       "    </tr>\n",
       "  </tbody>\n",
       "</table>\n",
       "</div>"
      ],
      "text/plain": [
       "                                                  О себе  \\\n",
       "11691  [любить, музыка, достигать, поставить, результ...   \n",
       "11665  [хобби, спорт, доброжелательный, чувство, юмор...   \n",
       "13230                                               None   \n",
       "\n",
       "                                                О себе 2  \\\n",
       "11691  [любить музыка, музыка достигать, достигать по...   \n",
       "11665  [хобби спорт, спорт доброжелательный, доброжел...   \n",
       "13230                                               None   \n",
       "\n",
       "                                                О себе 3  \n",
       "11691  [любить музыка достигать, музыка достигать пос...  \n",
       "11665  [хобби спорт доброжелательный, спорт доброжела...  \n",
       "13230                                               None  "
      ]
     },
     "execution_count": 17,
     "metadata": {},
     "output_type": "execute_result"
    }
   ],
   "source": [
    "df2.sample(3)"
   ]
  },
  {
   "cell_type": "markdown",
   "id": "ccc5b313-bd1b-4751-910a-b35d94ce1d89",
   "metadata": {},
   "source": [
    "Строим эмбеддинги:"
   ]
  },
  {
   "cell_type": "code",
   "execution_count": 18,
   "id": "35c00715-b96d-4c50-baed-bfef4d0dc8ff",
   "metadata": {},
   "outputs": [],
   "source": [
    "from gensim.test.utils import common_texts\n",
    "from gensim.models import Word2Vec"
   ]
  },
  {
   "cell_type": "markdown",
   "id": "aec99e8a-42a7-4759-ae7f-80d9b623b212",
   "metadata": {},
   "source": [
    "Избавились от пропусков:"
   ]
  },
  {
   "cell_type": "code",
   "execution_count": 19,
   "id": "b4782634-6eb8-4c52-bca7-373cb380d0c7",
   "metadata": {},
   "outputs": [],
   "source": [
    "df2.loc[df2['О себе 3'].isna(), 'О себе 3'] = '-'"
   ]
  },
  {
   "cell_type": "code",
   "execution_count": 20,
   "id": "e757c7e2-4795-4dd0-aedf-1edc6ba4e397",
   "metadata": {},
   "outputs": [
    {
     "data": {
      "text/plain": [
       "Series([], Name: О себе 3, dtype: object)"
      ]
     },
     "execution_count": 20,
     "metadata": {},
     "output_type": "execute_result"
    }
   ],
   "source": [
    "df2[df2['О себе 3'].isna()]['О себе 3']"
   ]
  },
  {
   "cell_type": "code",
   "execution_count": 21,
   "id": "cb95faf8-c155-4a72-a348-2f73e04de303",
   "metadata": {},
   "outputs": [],
   "source": [
    "model = Word2Vec(sentences=df2['О себе 3'], vector_size=100, window=5, min_count=1, workers=4)\n",
    "model.save(\"word2vec.model\")"
   ]
  },
  {
   "cell_type": "code",
   "execution_count": 22,
   "id": "b4d96206-0361-4bf7-b3fe-303ce618be2f",
   "metadata": {},
   "outputs": [],
   "source": [
    "model = Word2Vec.load(\"word2vec.model\")"
   ]
  },
  {
   "cell_type": "code",
   "execution_count": 23,
   "id": "09598585-b831-43b5-a7c9-c370b522b689",
   "metadata": {},
   "outputs": [
    {
     "data": {
      "text/plain": [
       "<gensim.models.word2vec.Word2Vec at 0x7fed30131b50>"
      ]
     },
     "execution_count": 23,
     "metadata": {},
     "output_type": "execute_result"
    }
   ],
   "source": [
    "model"
   ]
  },
  {
   "cell_type": "code",
   "execution_count": 24,
   "id": "9f1d0d8d-387c-42e4-a35f-e7fbebb19d5d",
   "metadata": {},
   "outputs": [
    {
     "data": {
      "text/plain": [
       "(956003, 956134)"
      ]
     },
     "execution_count": 24,
     "metadata": {},
     "output_type": "execute_result"
    }
   ],
   "source": [
    "model.train(df2['О себе 3'], total_examples=len(df2['О себе 3']), epochs=1)"
   ]
  },
  {
   "cell_type": "markdown",
   "id": "5936e3bc-9ace-4071-8c92-4acc092d5b36",
   "metadata": {},
   "source": [
    "^ наверное лучше еще привести все токены в тексте к норм. форме?"
   ]
  },
  {
   "cell_type": "code",
   "execution_count": 25,
   "id": "5a6ed394-0c4a-4fd1-89b4-99c166565db5",
   "metadata": {},
   "outputs": [
    {
     "data": {
      "text/plain": [
       "0        [responsible communicable quick, communicable ...\n",
       "1        [последний год проходить, год проходить обучен...\n",
       "2                                                        -\n",
       "3        [иметь экономический образование, экономически...\n",
       "4        [иметься опыт создание, опыт создание android,...\n",
       "                               ...                        \n",
       "19813    [высокий работоспособность вдумчивость, работо...\n",
       "19814    [увлекаться спорт вредный, спорт вредный привы...\n",
       "19815    [уверенный пользователь пк, пользователь пк ра...\n",
       "19816    [абсолютно честный очень, честный очень ответс...\n",
       "19817    [i общий подготовленность, общий подготовленно...\n",
       "Name: О себе 3, Length: 19818, dtype: object"
      ]
     },
     "execution_count": 25,
     "metadata": {},
     "output_type": "execute_result"
    }
   ],
   "source": [
    "df2['О себе 3']"
   ]
  },
  {
   "cell_type": "code",
   "execution_count": 26,
   "id": "98fb9efd-f63e-44df-b7bc-4d451568f7d9",
   "metadata": {},
   "outputs": [],
   "source": [
    "vector = model.wv['последний год проходить']  # get numpy vector of a word\n",
    "sims = model.wv.most_similar('последний год проходить', topn=10)  # get other similar words"
   ]
  },
  {
   "cell_type": "code",
   "execution_count": 27,
   "id": "609357e5-6369-4d9d-a230-6ba8fe2a905b",
   "metadata": {},
   "outputs": [
    {
     "data": {
      "text/plain": [
       "[('обучение возможность работать', 0.9961733818054199),\n",
       " ('проходить обучение возможность', 0.9960487484931946),\n",
       " ('год проходить обучение', 0.9890427589416504),\n",
       " ('возможность работать проходить', 0.9108878374099731),\n",
       " ('возможность работать заниматься', 0.8885632753372192),\n",
       " ('проходить обучение университет', 0.8795680999755859),\n",
       " ('год проходить служба', 0.8522109389305115),\n",
       " ('возможность работать специальность', 0.8485803008079529),\n",
       " ('возможность работать последний', 0.8074821829795837),\n",
       " ('привычка последний год', 0.7890995144844055)]"
      ]
     },
     "execution_count": 27,
     "metadata": {},
     "output_type": "execute_result"
    }
   ],
   "source": [
    "sims"
   ]
  },
  {
   "cell_type": "code",
   "execution_count": 28,
   "id": "613dad87-9bbe-45cd-afe5-1b138df08c73",
   "metadata": {},
   "outputs": [
    {
     "data": {
      "text/plain": [
       "array([-3.60620886e-01, -1.19415365e-01, -2.84469426e-01, -2.48883486e-01,\n",
       "       -2.51464814e-01, -6.08071610e-02, -1.04758432e-02, -6.53371438e-02,\n",
       "        2.79351324e-01,  1.10671245e-01, -5.84037781e-01,  1.16823658e-01,\n",
       "        3.39617103e-01, -2.68100441e-01, -7.64075592e-02, -3.73274088e-01,\n",
       "       -1.50579855e-01, -7.40459114e-02, -2.17869386e-01,  1.18627539e-02,\n",
       "        2.96194434e-01,  2.87683606e-01,  8.75545591e-02, -1.33229315e-01,\n",
       "        4.55688417e-01, -1.57081485e-01,  6.04974568e-01,  1.45652384e-01,\n",
       "       -3.84899855e-01, -1.49883494e-01, -7.66195580e-02,  2.68475786e-02,\n",
       "        1.03311688e-01, -3.54715645e-01,  4.29094881e-02,  8.73202682e-02,\n",
       "       -2.88378000e-01,  1.41304672e-01,  2.00332776e-02,  9.77834966e-03,\n",
       "       -1.14594050e-01,  3.36564153e-01, -1.43547893e-01, -5.12990296e-01,\n",
       "       -1.30183131e-01, -1.10521860e-01,  4.48991805e-02, -8.41734558e-02,\n",
       "        9.48970169e-02, -2.32677042e-01,  6.44028544e-01, -3.39331627e-01,\n",
       "       -2.12573841e-01,  2.20185053e-02,  2.38666194e-03,  1.02122426e-01,\n",
       "       -7.15876892e-02, -3.68739009e-01, -3.58740479e-01,  4.00482789e-02,\n",
       "       -1.07808739e-01,  8.67166445e-02, -3.23743403e-01, -1.57238349e-01,\n",
       "        1.45971688e-04, -1.40704125e-01, -5.65667748e-01,  6.31263033e-02,\n",
       "       -1.97096780e-01,  4.62277174e-01,  1.23155802e-01,  2.23569945e-01,\n",
       "        4.99734044e-01,  4.25198711e-02,  1.71404853e-01, -5.61259031e-01,\n",
       "        3.19901258e-01, -3.38601053e-01, -2.94794112e-01, -1.62922814e-01,\n",
       "       -1.58170879e-01,  4.17276472e-01, -3.75748903e-01, -8.46660212e-02,\n",
       "       -2.57343411e-01, -4.24576700e-01, -5.02856195e-01,  2.90556610e-01,\n",
       "       -2.41930529e-01, -3.73596214e-02,  6.79440856e-01, -1.45463169e-01,\n",
       "        5.99949241e-01, -7.80148134e-02,  6.97060302e-02,  6.76063895e-02,\n",
       "        4.45851982e-02, -9.05165970e-02, -3.28395158e-01, -1.65646061e-01],\n",
       "      dtype=float32)"
      ]
     },
     "execution_count": 28,
     "metadata": {},
     "output_type": "execute_result"
    }
   ],
   "source": [
    "vector"
   ]
  },
  {
   "cell_type": "markdown",
   "id": "1a2b622c-98a8-4c02-ad0f-ba24f943ac15",
   "metadata": {},
   "source": [
    "Итак, мы построили эмбеддинги. Теперь кластеризуем. Для этого сначала строим новую табличку:"
   ]
  },
  {
   "cell_type": "code",
   "execution_count": 29,
   "id": "fd126e51-fb36-4c4a-8631-7959b5210a32",
   "metadata": {},
   "outputs": [
    {
     "data": {
      "text/plain": [
       "<gensim.models.keyedvectors.KeyedVectors at 0x7fed301318e0>"
      ]
     },
     "execution_count": 29,
     "metadata": {},
     "output_type": "execute_result"
    }
   ],
   "source": [
    "model.wv"
   ]
  },
  {
   "cell_type": "code",
   "execution_count": 30,
   "id": "ba573ce5-3488-424a-944f-e1568686e0ad",
   "metadata": {},
   "outputs": [],
   "source": [
    "our_data = pd.DataFrame(df2['О себе 3'])"
   ]
  },
  {
   "cell_type": "code",
   "execution_count": 31,
   "id": "3c42defb-624b-4e07-adf0-43364e9cc9c9",
   "metadata": {},
   "outputs": [],
   "source": [
    "our_data['emb'] = 0"
   ]
  },
  {
   "cell_type": "code",
   "execution_count": 32,
   "id": "78a8f266-9693-47b2-a1d3-6c61e1aee4d5",
   "metadata": {},
   "outputs": [
    {
     "data": {
      "text/html": [
       "<div>\n",
       "<style scoped>\n",
       "    .dataframe tbody tr th:only-of-type {\n",
       "        vertical-align: middle;\n",
       "    }\n",
       "\n",
       "    .dataframe tbody tr th {\n",
       "        vertical-align: top;\n",
       "    }\n",
       "\n",
       "    .dataframe thead th {\n",
       "        text-align: right;\n",
       "    }\n",
       "</style>\n",
       "<table border=\"1\" class=\"dataframe\">\n",
       "  <thead>\n",
       "    <tr style=\"text-align: right;\">\n",
       "      <th></th>\n",
       "      <th>О себе 3</th>\n",
       "      <th>emb</th>\n",
       "    </tr>\n",
       "  </thead>\n",
       "  <tbody>\n",
       "    <tr>\n",
       "      <th>0</th>\n",
       "      <td>[responsible communicable quick, communicable ...</td>\n",
       "      <td>0</td>\n",
       "    </tr>\n",
       "    <tr>\n",
       "      <th>1</th>\n",
       "      <td>[последний год проходить, год проходить обучен...</td>\n",
       "      <td>0</td>\n",
       "    </tr>\n",
       "    <tr>\n",
       "      <th>2</th>\n",
       "      <td>-</td>\n",
       "      <td>0</td>\n",
       "    </tr>\n",
       "    <tr>\n",
       "      <th>3</th>\n",
       "      <td>[иметь экономический образование, экономически...</td>\n",
       "      <td>0</td>\n",
       "    </tr>\n",
       "    <tr>\n",
       "      <th>4</th>\n",
       "      <td>[иметься опыт создание, опыт создание android,...</td>\n",
       "      <td>0</td>\n",
       "    </tr>\n",
       "    <tr>\n",
       "      <th>...</th>\n",
       "      <td>...</td>\n",
       "      <td>...</td>\n",
       "    </tr>\n",
       "    <tr>\n",
       "      <th>19813</th>\n",
       "      <td>[высокий работоспособность вдумчивость, работо...</td>\n",
       "      <td>0</td>\n",
       "    </tr>\n",
       "    <tr>\n",
       "      <th>19814</th>\n",
       "      <td>[увлекаться спорт вредный, спорт вредный привы...</td>\n",
       "      <td>0</td>\n",
       "    </tr>\n",
       "    <tr>\n",
       "      <th>19815</th>\n",
       "      <td>[уверенный пользователь пк, пользователь пк ра...</td>\n",
       "      <td>0</td>\n",
       "    </tr>\n",
       "    <tr>\n",
       "      <th>19816</th>\n",
       "      <td>[абсолютно честный очень, честный очень ответс...</td>\n",
       "      <td>0</td>\n",
       "    </tr>\n",
       "    <tr>\n",
       "      <th>19817</th>\n",
       "      <td>[i общий подготовленность, общий подготовленно...</td>\n",
       "      <td>0</td>\n",
       "    </tr>\n",
       "  </tbody>\n",
       "</table>\n",
       "<p>19818 rows × 2 columns</p>\n",
       "</div>"
      ],
      "text/plain": [
       "                                                О себе 3  emb\n",
       "0      [responsible communicable quick, communicable ...    0\n",
       "1      [последний год проходить, год проходить обучен...    0\n",
       "2                                                      -    0\n",
       "3      [иметь экономический образование, экономически...    0\n",
       "4      [иметься опыт создание, опыт создание android,...    0\n",
       "...                                                  ...  ...\n",
       "19813  [высокий работоспособность вдумчивость, работо...    0\n",
       "19814  [увлекаться спорт вредный, спорт вредный привы...    0\n",
       "19815  [уверенный пользователь пк, пользователь пк ра...    0\n",
       "19816  [абсолютно честный очень, честный очень ответс...    0\n",
       "19817  [i общий подготовленность, общий подготовленно...    0\n",
       "\n",
       "[19818 rows x 2 columns]"
      ]
     },
     "execution_count": 32,
     "metadata": {},
     "output_type": "execute_result"
    }
   ],
   "source": [
    "our_data"
   ]
  },
  {
   "cell_type": "code",
   "execution_count": 33,
   "id": "7ace3d1f-a9e0-4be5-98fd-d85ad70cabfb",
   "metadata": {},
   "outputs": [],
   "source": [
    "embs = []\n",
    "for x in our_data['О себе 3']:\n",
    "    cur_embs = []\n",
    "    for y in x:\n",
    "        cur_embs.append(model.wv[y])\n",
    "    embs.append(cur_embs)"
   ]
  },
  {
   "cell_type": "code",
   "execution_count": 34,
   "id": "cfc19af7-73b7-4d7d-a6f0-ae709977fe55",
   "metadata": {},
   "outputs": [],
   "source": [
    "our_data['emb'] = embs"
   ]
  },
  {
   "cell_type": "markdown",
   "id": "ced7984b-c01e-415e-a4f9-0fb9267b6b88",
   "metadata": {},
   "source": [
    "теперь надо построить `flat_emb` — по векторам эмбеддингов построить единый вектор эмбеддингов."
   ]
  },
  {
   "cell_type": "markdown",
   "id": "2aa54c03-6fd9-44e9-a5d5-3f79d73bad51",
   "metadata": {},
   "source": [
    "2ая попытка:"
   ]
  },
  {
   "cell_type": "code",
   "execution_count": 35,
   "id": "dccca717-33e0-4f6e-88b8-1d39e27f5766",
   "metadata": {},
   "outputs": [],
   "source": [
    "# буду использовать среднее\n",
    "\n",
    "embs_flattened = []\n",
    "for x in our_data['emb']:\n",
    "    x_flat = np.array(x[0])\n",
    "    for z in x[1:]:\n",
    "        x_flat += np.array(z)\n",
    "    embs_flattened.append(x_flat / len(x))"
   ]
  },
  {
   "cell_type": "code",
   "execution_count": 36,
   "id": "79517384-2268-4932-8e47-09b42d349b98",
   "metadata": {},
   "outputs": [
    {
     "data": {
      "text/plain": [
       "100"
      ]
     },
     "execution_count": 36,
     "metadata": {},
     "output_type": "execute_result"
    }
   ],
   "source": [
    "embs_flattened[4].size"
   ]
  },
  {
   "cell_type": "markdown",
   "id": "82afa701-200c-466f-ae2b-fe6e72e7d6c5",
   "metadata": {},
   "source": [
    "почему это работает: Для ВКР и IR одновременно: https://stats.stackexchange.com/questions/318882/what-does-average-of-word2vec-vector-mean"
   ]
  },
  {
   "cell_type": "markdown",
   "id": "5378cd5f-e2c5-452d-8369-fe3acdb259c5",
   "metadata": {},
   "source": [
    "1ая попытка:\n",
    "\n",
    "```\n",
    "embs_flattened = []\n",
    "for x in our_data['emb']:\n",
    "    x_flat = []\n",
    "    for z in x:\n",
    "        x_flat += list(z)\n",
    "    embs_flattened.append(x_flat)\n",
    "```"
   ]
  },
  {
   "cell_type": "markdown",
   "id": "539deced-aa8d-41a4-ad3e-93109c042bec",
   "metadata": {},
   "source": [
    "после поаытки:"
   ]
  },
  {
   "cell_type": "code",
   "execution_count": 37,
   "id": "dd6bf60b-f88a-4631-a263-1aa51a538203",
   "metadata": {},
   "outputs": [],
   "source": [
    "our_data['flat_emb'] = embs_flattened"
   ]
  },
  {
   "cell_type": "markdown",
   "id": "069ef1cc-3849-4d11-902e-f541c866b65e",
   "metadata": {},
   "source": [
    "в чем проблема с `flat_emb` как эмбеддингами??? именно поэтому не работает kmeans.\n",
    "\n",
    "Итак, у меня для каждого токена в тексте есть эмбеддинг. Как из этого получить что-то адекватное?"
   ]
  },
  {
   "cell_type": "code",
   "execution_count": 38,
   "id": "4d4618fd-c9e1-4cef-a374-e558eeb3bb45",
   "metadata": {
    "tags": []
   },
   "outputs": [
    {
     "data": {
      "text/plain": [
       "array([-1.0651934e-03, -9.5223321e-04, -2.6917730e-03,  2.1369762e-03,\n",
       "       -5.8708451e-04, -2.7602646e-03,  5.7263573e-04,  5.7984889e-04,\n",
       "        3.4672272e-04, -2.4817343e-04, -2.1509365e-03, -1.0595277e-03,\n",
       "        2.2162371e-03,  4.3668365e-03, -1.9517433e-03, -1.6647292e-03,\n",
       "        9.2457375e-04, -4.3015121e-04,  7.9902558e-04, -1.8386915e-03,\n",
       "       -1.9029748e-03, -4.1571790e-03, -1.4351994e-03, -8.0903992e-04,\n",
       "       -4.2714077e-04,  1.2432009e-03,  2.4210550e-03,  1.8813036e-03,\n",
       "        6.1120614e-03,  1.8388812e-03, -4.6735100e-04, -2.8745071e-03,\n",
       "       -1.2642957e-03, -5.9631222e-04, -1.0154785e-03,  2.3797858e-03,\n",
       "       -1.9074589e-03,  1.8787604e-03, -1.1865874e-03, -1.1884656e-04,\n",
       "        1.5889053e-04,  2.5906737e-03, -5.7543819e-03,  2.9124215e-04,\n",
       "        3.0745247e-03, -1.2872546e-03, -2.3613067e-03, -2.7564031e-03,\n",
       "       -5.0969948e-03,  9.5343683e-05,  2.4627807e-04,  5.7958264e-04,\n",
       "        7.2839612e-04, -4.5149151e-04,  1.7596272e-04, -1.5821084e-04,\n",
       "       -1.0375982e-03, -2.7763457e-03,  3.8437552e-03, -2.7626813e-03,\n",
       "        2.1631480e-03,  1.0192280e-03, -2.1673561e-04, -2.9236567e-03,\n",
       "       -3.3192630e-03,  2.4301016e-03, -4.7832066e-03,  2.3943856e-03,\n",
       "        2.3490656e-03, -5.7222258e-04, -5.0569950e-03, -4.2807129e-03,\n",
       "       -4.2841118e-04, -2.3527660e-03, -6.5826939e-04,  2.6976534e-03,\n",
       "        2.3062234e-03,  2.6724148e-03,  6.9542701e-04, -4.8635104e-03,\n",
       "       -6.6684076e-04,  1.0660901e-03, -1.9683484e-03,  2.3560431e-03,\n",
       "       -2.5478527e-03,  1.2007353e-03,  3.5540513e-03,  5.0869399e-05,\n",
       "       -3.8886678e-03,  2.8039641e-03, -7.5427565e-04, -3.4548838e-03,\n",
       "       -1.0689783e-03, -4.7506993e-03, -2.9324172e-03, -1.5272798e-03,\n",
       "       -2.0850769e-03,  3.3453261e-03,  4.5004482e-03, -1.8676680e-03],\n",
       "      dtype=float32)"
      ]
     },
     "execution_count": 38,
     "metadata": {},
     "output_type": "execute_result"
    }
   ],
   "source": [
    "our_data['flat_emb'][0]"
   ]
  },
  {
   "cell_type": "code",
   "execution_count": 39,
   "id": "fd2d5f11-a7de-42a6-bcb9-a0dd83415c4b",
   "metadata": {},
   "outputs": [
    {
     "data": {
      "text/plain": [
       "0        [-0.0010651934, -0.0009522332, -0.002691773, 0...\n",
       "1        [-0.037309267, -0.009970679, -0.027855689, -0....\n",
       "2        [-0.00053622725, 0.00023643016, 0.0051033497, ...\n",
       "3        [0.0060664425, 0.0068842797, -0.002567386, 0.0...\n",
       "4        [-0.0017125845, -0.0012229249, 0.0008647318, -...\n",
       "                               ...                        \n",
       "19813    [0.000529979, -0.0016210346, -7.6403834e-05, -...\n",
       "19814    [-0.00094596954, -0.004241648, -0.001166377, -...\n",
       "19815    [0.00011770878, 0.033511918, 0.009846648, -0.0...\n",
       "19816    [-0.0011689814, -0.00021927932, -0.0011205778,...\n",
       "19817    [-0.0006386235, -0.0001438265, 0.00010306096, ...\n",
       "Name: flat_emb, Length: 19818, dtype: object"
      ]
     },
     "execution_count": 39,
     "metadata": {},
     "output_type": "execute_result"
    }
   ],
   "source": [
    "our_data['flat_emb'].dropna()"
   ]
  },
  {
   "cell_type": "code",
   "execution_count": 40,
   "id": "1b03e82b-c5e7-42e1-b559-b0d90f214166",
   "metadata": {},
   "outputs": [
    {
     "data": {
      "text/plain": [
       "0        [-0.002130387, -0.0019044664, -0.005383546, 0....\n",
       "1        [-0.07461853, -0.019941358, -0.055711377, -0.0...\n",
       "2        [-0.0010724545, 0.00047286032, 0.010206699, 0....\n",
       "3        [0.012132885, 0.013768559, -0.005134772, 0.005...\n",
       "4        [-0.003425169, -0.0024458498, 0.0017294636, -0...\n",
       "                               ...                        \n",
       "19813    [0.001059958, -0.0032420692, -0.00015280767, -...\n",
       "19814    [-0.0018919391, -0.008483296, -0.002332754, -0...\n",
       "19815    [0.00023541757, 0.067023836, 0.019693296, -0.0...\n",
       "19816    [-0.0023379629, -0.00043855864, -0.0022411556,...\n",
       "19817    [-0.001277247, -0.000287653, 0.00020612191, 0....\n",
       "Name: flat_emb, Length: 19818, dtype: object"
      ]
     },
     "execution_count": 40,
     "metadata": {},
     "output_type": "execute_result"
    }
   ],
   "source": [
    "our_data['flat_emb'] * 2"
   ]
  },
  {
   "cell_type": "code",
   "execution_count": 41,
   "id": "2dd0410e-1ff6-4140-aeea-1f855a4d95b1",
   "metadata": {},
   "outputs": [
    {
     "data": {
      "text/plain": [
       "0        [-0.0010651934, -0.0009522332, -0.002691773, 0...\n",
       "1        [-0.037309267, -0.009970679, -0.027855689, -0....\n",
       "2        [-0.00053622725, 0.00023643016, 0.0051033497, ...\n",
       "3        [0.0060664425, 0.0068842797, -0.002567386, 0.0...\n",
       "4        [-0.0017125845, -0.0012229249, 0.0008647318, -...\n",
       "                               ...                        \n",
       "19813    [0.000529979, -0.0016210346, -7.6403834e-05, -...\n",
       "19814    [-0.00094596954, -0.004241648, -0.001166377, -...\n",
       "19815    [0.00011770878, 0.033511918, 0.009846648, -0.0...\n",
       "19816    [-0.0011689814, -0.00021927932, -0.0011205778,...\n",
       "19817    [-0.0006386235, -0.0001438265, 0.00010306096, ...\n",
       "Name: flat_emb, Length: 19818, dtype: object"
      ]
     },
     "execution_count": 41,
     "metadata": {},
     "output_type": "execute_result"
    }
   ],
   "source": [
    "our_data['flat_emb']"
   ]
  },
  {
   "cell_type": "code",
   "execution_count": 42,
   "id": "9abf52ad-af10-40a8-a61c-590be1b5b288",
   "metadata": {},
   "outputs": [],
   "source": [
    "X = list(our_data['flat_emb'].dropna())"
   ]
  },
  {
   "cell_type": "code",
   "execution_count": 43,
   "id": "48ca9a2d-99f7-4355-af44-0dd1b4e255ec",
   "metadata": {},
   "outputs": [],
   "source": [
    "X = np.asarray(X)"
   ]
  },
  {
   "cell_type": "code",
   "execution_count": 44,
   "id": "e6c21502-7af4-4602-80d6-634441e719c9",
   "metadata": {},
   "outputs": [
    {
     "data": {
      "text/plain": [
       "array([[-0.00106519, -0.00095223, -0.00269177, ...,  0.00334533,\n",
       "         0.00450045, -0.00186767],\n",
       "       [-0.03730927, -0.00997068, -0.02785569, ..., -0.01067496,\n",
       "        -0.03065858, -0.01643043],\n",
       "       [-0.00053623,  0.00023643,  0.00510335, ..., -0.00704156,\n",
       "         0.00090146,  0.00639253],\n",
       "       ...,\n",
       "       [ 0.00011771,  0.03351192,  0.00984665, ..., -0.04232645,\n",
       "        -0.01937321, -0.00379713],\n",
       "       [-0.00116898, -0.00021928, -0.00112058, ...,  0.00060235,\n",
       "        -0.0007945 , -0.00159538],\n",
       "       [-0.00063862, -0.00014383,  0.00010306, ..., -0.00021724,\n",
       "         0.00031917, -0.00088251]], dtype=float32)"
      ]
     },
     "execution_count": 44,
     "metadata": {},
     "output_type": "execute_result"
    }
   ],
   "source": [
    "X"
   ]
  },
  {
   "cell_type": "code",
   "execution_count": 45,
   "id": "910e1327-9db3-4c2f-ace0-7d57c43043b3",
   "metadata": {
    "tags": []
   },
   "outputs": [
    {
     "ename": "IndentationError",
     "evalue": "expected an indented block (1027233577.py, line 1)",
     "output_type": "error",
     "traceback": [
      "\u001b[0;36m  Cell \u001b[0;32mIn[45], line 1\u001b[0;36m\u001b[0m\n\u001b[0;31m    for x in X:\u001b[0m\n\u001b[0m               ^\u001b[0m\n\u001b[0;31mIndentationError\u001b[0m\u001b[0;31m:\u001b[0m expected an indented block\n"
     ]
    }
   ],
   "source": [
    "for x in X:"
   ]
  },
  {
   "cell_type": "code",
   "execution_count": 46,
   "id": "32573a45-7abe-4f8c-b88f-dca638849f89",
   "metadata": {},
   "outputs": [],
   "source": [
    "X = np.array([np.array([1, 2, 3]), np.array([2, 3, 4]), np.array([5, 6, 7])])"
   ]
  },
  {
   "cell_type": "code",
   "execution_count": 47,
   "id": "9d757774-a8bf-40c8-b153-88212620040d",
   "metadata": {
    "tags": []
   },
   "outputs": [
    {
     "data": {
      "text/plain": [
       "array([-1.0651934e-03, -9.5223321e-04, -2.6917730e-03,  2.1369762e-03,\n",
       "       -5.8708451e-04, -2.7602646e-03,  5.7263573e-04,  5.7984889e-04,\n",
       "        3.4672272e-04, -2.4817343e-04, -2.1509365e-03, -1.0595277e-03,\n",
       "        2.2162371e-03,  4.3668365e-03, -1.9517433e-03, -1.6647292e-03,\n",
       "        9.2457375e-04, -4.3015121e-04,  7.9902558e-04, -1.8386915e-03,\n",
       "       -1.9029748e-03, -4.1571790e-03, -1.4351994e-03, -8.0903992e-04,\n",
       "       -4.2714077e-04,  1.2432009e-03,  2.4210550e-03,  1.8813036e-03,\n",
       "        6.1120614e-03,  1.8388812e-03, -4.6735100e-04, -2.8745071e-03,\n",
       "       -1.2642957e-03, -5.9631222e-04, -1.0154785e-03,  2.3797858e-03,\n",
       "       -1.9074589e-03,  1.8787604e-03, -1.1865874e-03, -1.1884656e-04,\n",
       "        1.5889053e-04,  2.5906737e-03, -5.7543819e-03,  2.9124215e-04,\n",
       "        3.0745247e-03, -1.2872546e-03, -2.3613067e-03, -2.7564031e-03,\n",
       "       -5.0969948e-03,  9.5343683e-05,  2.4627807e-04,  5.7958264e-04,\n",
       "        7.2839612e-04, -4.5149151e-04,  1.7596272e-04, -1.5821084e-04,\n",
       "       -1.0375982e-03, -2.7763457e-03,  3.8437552e-03, -2.7626813e-03,\n",
       "        2.1631480e-03,  1.0192280e-03, -2.1673561e-04, -2.9236567e-03,\n",
       "       -3.3192630e-03,  2.4301016e-03, -4.7832066e-03,  2.3943856e-03,\n",
       "        2.3490656e-03, -5.7222258e-04, -5.0569950e-03, -4.2807129e-03,\n",
       "       -4.2841118e-04, -2.3527660e-03, -6.5826939e-04,  2.6976534e-03,\n",
       "        2.3062234e-03,  2.6724148e-03,  6.9542701e-04, -4.8635104e-03,\n",
       "       -6.6684076e-04,  1.0660901e-03, -1.9683484e-03,  2.3560431e-03,\n",
       "       -2.5478527e-03,  1.2007353e-03,  3.5540513e-03,  5.0869399e-05,\n",
       "       -3.8886678e-03,  2.8039641e-03, -7.5427565e-04, -3.4548838e-03,\n",
       "       -1.0689783e-03, -4.7506993e-03, -2.9324172e-03, -1.5272798e-03,\n",
       "       -2.0850769e-03,  3.3453261e-03,  4.5004482e-03, -1.8676680e-03],\n",
       "      dtype=float32)"
      ]
     },
     "execution_count": 47,
     "metadata": {},
     "output_type": "execute_result"
    }
   ],
   "source": [
    "embs_flattened[0]"
   ]
  },
  {
   "cell_type": "code",
   "execution_count": 48,
   "id": "df75a77f-8170-484a-87c0-344cb6f4a2f1",
   "metadata": {},
   "outputs": [
    {
     "data": {
      "text/plain": [
       "100"
      ]
     },
     "execution_count": 48,
     "metadata": {},
     "output_type": "execute_result"
    }
   ],
   "source": [
    "len(embs_flattened[0])"
   ]
  },
  {
   "cell_type": "code",
   "execution_count": 49,
   "id": "4b431088-d999-4b9a-802f-d310e21779a8",
   "metadata": {},
   "outputs": [],
   "source": [
    "X = embs_flattened"
   ]
  },
  {
   "cell_type": "code",
   "execution_count": 50,
   "id": "1260fe29-8071-4203-bfda-6561d8ba4820",
   "metadata": {},
   "outputs": [
    {
     "name": "stdout",
     "output_type": "stream",
     "text": [
      "100\n",
      "100\n",
      "100\n",
      "100\n",
      "100\n"
     ]
    }
   ],
   "source": [
    "for x in our_data['emb'][0]:\n",
    "    print(len(x))"
   ]
  },
  {
   "cell_type": "markdown",
   "id": "f9065ecc-1b41-4dc4-b4e8-8efe8949db53",
   "metadata": {},
   "source": [
    "Теперь осталось обработать mBART -> это анаизировать в `analysis.ipynb`"
   ]
  },
  {
   "cell_type": "code",
   "execution_count": null,
   "id": "e1c3b408-ed1d-4091-8a09-dd37b59259f3",
   "metadata": {},
   "outputs": [],
   "source": []
  },
  {
   "cell_type": "markdown",
   "id": "67606510-ab7f-4655-9970-26ce535fe8c4",
   "metadata": {},
   "source": [
    "**mBART**\n",
    "\n",
    "https://huggingface.co/IlyaGusev/mbart_ru_sum_gazeta?text=%D0%97%D0%B0+%D0%B2%D1%80%D0%B5%D0%BC%D1%8F+%D1%80%D0%B0%D0%B1%D0%BE%D1%82%D1%8B+%D0%B8+%D1%83%D1%87%D1%91%D0%B1%D1%8B%2C+%D1%8F+%D0%BE%D0%B2%D0%BB%D0%B0%D0%B4%D0%B5%D0%BB+%D0%BA%D0%BE%D0%BC%D0%BF%D0%B5%D1%82%D0%B5%D0%BD%D1%86%D0%B8%D1%8F%D0%BC%D0%B8%2C+%D0%BD%D0%B5%D0%BE%D0%B1%D1%85%D0%BE%D0%B4%D0%B8%D0%BC%D1%8B%D0%BC%D0%B8+%D0%B4%D0%BB%D1%8F+%D0%B8%D1%81%D1%81%D0%BB%D0%B5%D0%B4%D0%BE%D0%B2%D0%B0%D0%BD%D0%B8%D1%8F%2C+%D1%81%D0%BE%D0%B7%D0%B4%D0%B0%D0%BD%D0%B8%D1%8F+%D0%B8+%D1%83%D1%81%D0%BF%D0%B5%D1%88%D0%BD%D0%BE%D0%B3%D0%BE+%D0%B8%D1%81%D0%BF%D0%BE%D0%BB%D1%8C%D0%B7%D0%BE%D0%B2%D0%B0%D0%BD%D0%B8%D1%8F+%D1%86%D0%B8%D1%84%D1%80%D0%BE%D0%B2%D1%8B%D1%85+%D1%82%D0%B5%D1%85%D0%BD%D0%BE%D0%BB%D0%BE%D0%B3%D0%B8%D0%B9+%D0%BC%D0%BE%D0%B4%D0%B5%D0%BB%D0%B8%D1%80%D0%BE%D0%B2%D0%B0%D0%BD%D0%B8%D1%8F%2C+%D1%83%D0%BF%D1%80%D0%B0%D0%B2%D0%BB%D0%B5%D0%BD%D0%B8%D1%8F%2C+%D0%B0%D0%BD%D0%B0%D0%BB%D0%B8%D0%B7%D0%B0+%D0%B8+%D1%81%D0%B8%D0%BD%D1%82%D0%B5%D0%B7%D0%B0+%D1%81%D0%B8%D1%81%D1%82%D0%B5%D0%BC%D0%BD%D1%8B%D1%85+%D1%80%D0%B5%D1%88%D0%B5%D0%BD%D0%B8%D0%B9+%D0%B2+%D0%B8%D0%BD%D1%82%D0%B5%D1%80%D0%B5%D1%81%D0%B0%D1%85+%D1%81%D0%BE%D0%B7%D0%B4%D0%B0%D0%BD%D0%B8%D1%8F+%D1%81%D0%BB%D0%BE%D0%B6%D0%BD%D0%BE%D0%B9+%D0%BF%D1%80%D0%BE%D0%B4%D1%83%D0%BA%D1%86%D0%B8%D0%B8.%0A%D0%AF+%D0%BE%D0%B1%D0%BB%D0%B0%D0%B4%D0%B0%D1%8E+%D1%88%D0%B8%D1%80%D0%BE%D0%BA%D0%B8%D0%BC+%D1%84%D1%83%D0%BD%D0%BA%D1%86%D0%B8%D0%BE%D0%BD%D0%B0%D0%BB%D0%BE%D0%BC+%D0%B2+%D0%BF%D0%BE%D1%81%D1%82%D1%80%D0%BE%D0%B5%D0%BD%D0%B8%D0%B8+BI+%D0%BE%D1%82%D1%87%D1%91%D1%82%D0%BD%D0%BE%D1%81%D1%82%D0%B8%2C+%D0%BC%D0%BE%D0%B4%D0%B5%D0%BB%D0%B8%D1%80%D0%BE%D0%B2%D0%B0%D0%BD%D0%B8%D0%B8%2C+%D1%81%D0%B2%D1%8F%D0%B7%D1%8F%D1%85%2C+%D0%BA%D0%BE%D1%80%D1%80%D0%B5%D0%BA%D1%82%D0%B8%D1%80%D0%BE%D0%B2%D0%B0%D0%BD%D0%B8%D0%B8+%D0%B4%D0%B0%D0%BD%D0%BD%D1%8B%D1%85+%D0%B2+Power+Qwery+%D0%B8+%D1%80%D0%B0%D0%B1%D0%BE%D1%82%D1%8B+%D1%81+%D0%B1%D0%B0%D0%B7%D0%B0%D0%BC%D0%B8+%D0%B4%D0%B0%D0%BD%D0%BD%D1%8B%D1%85.%0A%D0%A3%D1%87%D0%B0%D1%81%D1%82%D0%B2%D0%BE%D0%B2%D0%B0%D0%BB+%D0%B2+%D0%BF%D1%80%D0%BE%D0%B5%D0%BA%D1%82%D0%B0%D1%85+%D0%BF%D0%BE+%D0%BE%D0%BF%D1%82%D0%B8%D0%BC%D0%B8%D0%B7%D0%B0%D1%86%D0%B8%D0%B8+%D0%B8+%D0%B0%D0%B2%D1%82%D0%BE%D0%BC%D0%B0%D1%82%D0%B8%D0%B7%D0%B0%D1%86%D0%B8%D0%B8+%D0%B1%D0%B8%D0%B7%D0%BD%D0%B5%D1%81-%D0%BF%D1%80%D0%BE%D1%86%D0%B5%D1%81%D1%81%D0%BE%D0%B2+%D0%B8+%D0%BE%D1%82%D1%87%D1%91%D1%82%D0%BD%D0%BE%D1%81%D1%82%D0%B8.%0A%D0%A0%D0%B0%D0%B1%D0%BE%D1%82%D0%B0%D0%BB+%D0%B2+%D0%BA%D0%BE%D0%BC%D0%BF%D0%B0%D0%BD%D0%B8%D1%8F%D1%85+%D1%81+%D1%82%D0%B0%D0%BA%D0%B8%D0%BC%D0%B8+%D0%BF%D1%80%D0%BE%D0%B3%D1%80%D0%B0%D0%BC%D0%BC%D0%B0%D0%BC%D0%B8+%D0%BA%D0%B0%D0%BA+%3A+Power+BI%2C+Excel%2C+MS+Office%2C+VipPlanner.%0A%D0%97%D0%BD%D0%B0%D0%BA%D0%BE%D0%BC+%D1%81+%D1%82%D0%B0%D0%BA%D0%B8%D0%BC%D0%B8+%D0%BF%D1%80%D0%BE%D0%B3%D1%80%D0%B0%D0%BC%D0%BC%D0%BD%D1%8B%D0%BC%D0%B8+%D0%B8%D0%BD%D1%81%D1%82%D1%80%D1%83%D0%BC%D0%B5%D0%BD%D1%82%D0%B0%D0%BC%D0%B8+%D0%BA%D0%B0%D0%BA+%3A+Jira%2C+kanban%2C+confluence.%0A%D0%9F%D1%80%D0%B8%D0%BC%D0%B5%D1%80%D1%8B+%D0%B4%D0%B0%D1%88%D0%B1%D0%BE%D1%80%D0%B4%D0%BE%D0%B2+%D0%BC%D0%BE%D0%B3%D1%83+%D0%B2%D1%8B%D1%81%D0%BB%D0%B0%D1%82%D1%8C+%D0%BB%D0%B8%D1%87%D0%BD%D0%BE.%0A%D0%91%D1%83%D0%B4%D1%83+%D1%80%D0%B0%D0%B4+%D0%B2+%D1%80%D0%B0%D0%BC%D0%BA%D0%B0%D1%85+%D1%81%D0%BE%D0%B1%D0%B5%D1%81%D0%B5%D0%B4%D0%BE%D0%B2%D0%B0%D0%BD%D0%B8%D1%8F+%D0%BE%D1%82%D0%B2%D0%B5%D1%82%D0%B8%D1%82%D1%8C+%D0%BD%D0%B0+%D0%B2%D1%81%D0%B5+%D0%B8%D0%BD%D1%82%D0%B5%D1%80%D0%B5%D1%81%D1%83%D1%8E%D1%89%D0%B8%D0%B5+%D0%92%D0%B0%D1%81+%D0%B2%D0%BE%D0%BF%D1%80%D0%BE%D1%81%D1%8B.%0A%D0%97%D0%B0%D1%80%D0%B0%D0%BD%D0%B5%D0%B5+%D0%B1%D0%BB%D0%B0%D0%B3%D0%BE%D0%B4%D0%B0%D1%80%D1%8E+%D0%92%D0%B0%D1%81+%D0%B7%D0%B0+%D1%83%D0%B4%D0%B5%D0%BB%D1%91%D0%BD%D0%BD%D0%BE%D0%B5+%D0%BC%D0%BE%D0%B5%D0%B9+%D0%BA%D0%B0%D0%BD%D0%B4%D0%B8%D0%B4%D0%B0%D1%82%D1%83%D1%80%D0%B5+%D0%B2%D1%80%D0%B5%D0%BC%D1%8F.%0A%D0%92%D0%BB%D0%B0%D0%B4%D0%B5%D1%8E+%D0%BD%D0%B0%D0%B2%D1%8B%D0%BA%D0%BE%D0%BC+%22%D0%94%D0%B5%D0%BB%D0%BE%D0%B2%D0%B0%D1%8F+%D0%BF%D0%B5%D1%80%D0%B5%"
   ]
  },
  {
   "cell_type": "markdown",
   "id": "081369e3-1bbe-4c8b-9e73-bb5a84ae9ea5",
   "metadata": {},
   "source": [
    "попробуем:"
   ]
  },
  {
   "cell_type": "code",
   "execution_count": 8,
   "id": "89cc4bf3-cd25-4056-a2fc-adc2dfcadfda",
   "metadata": {},
   "outputs": [
    {
     "name": "stdout",
     "output_type": "stream",
     "text": [
      "За время работы и учёбы, я овладел компетенциями, необходимыми для исследования, создания и успешного использования цифровых технологий моделирования, управления, анализа и синтеза системных решений в интересах создания сложной продукции.\n",
      "Я обладаю широким функционалом в построении BI отчётности, моделировании, связях, корректировании данных в Power Qwery и работы с базами данных.\n",
      "Участвовал в проектах по оптимизации и автоматизации бизнес-процессов и отчётности.\n",
      "Работал в компаниях с такими программами как : Power BI, Excel, MS Office, VipPlanner.\n",
      "Знаком с такими программными инструментами как : Jira, kanban, confluence.\n",
      "Примеры дашбордов могу выслать лично.\n",
      "Буду рад в рамках собеседования ответить на все интересующие Вас вопросы.\n",
      "Заранее благодарю Вас за уделённое моей кандидатуре время.\n",
      "Владею навыком \"Деловая переписка\".\n",
      "Управление проектами PMBOK.\n",
      "\n",
      "Я люблю читать книги по самосовершенствованию (\"год личной эффективности\", \"Scrum. Революционный метод управления проектами\", \"Пять уровней лидерства\", \"Agile оценка и планирование проектов\", \"Думай и богатей\".\n",
      "Правильно рассчитываю свое время, чтобы все успевать , записываю сразу все в умные заметки , чтобы всегда мои задачи были перед моими глазами.\n",
      "\n",
      "В работе мне помогает: быстрая обучаемость , высокая работоспособность и стрессоустойчивость.\n",
      "\n",
      "Жду интересных проектов и возможность профессионального роста и развития.\n"
     ]
    }
   ],
   "source": [
    "print(df['О себе'][14])"
   ]
  },
  {
   "cell_type": "code",
   "execution_count": 4,
   "id": "bf2485a0-b3bb-4c84-ada8-abf54f1d0b84",
   "metadata": {},
   "outputs": [],
   "source": [
    "from transformers import MBartTokenizer, MBartForConditionalGeneration"
   ]
  },
  {
   "cell_type": "code",
   "execution_count": 5,
   "id": "0a650c9e-1d72-4c01-b935-0cbdd7b40f1d",
   "metadata": {},
   "outputs": [],
   "source": [
    "model_name = \"IlyaGusev/mbart_ru_sum_gazeta\"\n",
    "tokenizer = MBartTokenizer.from_pretrained(model_name)\n",
    "model = MBartForConditionalGeneration.from_pretrained(model_name)"
   ]
  },
  {
   "cell_type": "markdown",
   "id": "4eec79ad-f507-4241-8bba-0d515adaa2d5",
   "metadata": {},
   "source": [
    "^ ок, снизу ... просто тест"
   ]
  },
  {
   "cell_type": "code",
   "execution_count": 6,
   "id": "3efa4bbe-ffe9-4392-94f5-9a31a0fb9a20",
   "metadata": {},
   "outputs": [
    {
     "name": "stdout",
     "output_type": "stream",
     "text": [
      "una Очередной flash-drive-drive-by-drive-in-the-backs-of-background-of-the-drive-back-by-back-up-for-back-back-of-unside-back-without-backpacking-driven-back-for-driving-back-in-back-to-back-out-of-of-Backpacking-with-back-on-backback-with-with-out-backbackback-ofback-back.\n"
     ]
    }
   ],
   "source": [
    "article_text = \"...\"\n",
    "\n",
    "input_ids = tokenizer(\n",
    "    [article_text],\n",
    "    max_length=600,\n",
    "    padding=\"max_length\",\n",
    "    truncation=True,\n",
    "    return_tensors=\"pt\",\n",
    ")[\"input_ids\"]\n",
    "\n",
    "output_ids = model.generate(\n",
    "    input_ids=input_ids,\n",
    "    no_repeat_ngram_size=4\n",
    ")[0]\n",
    "\n",
    "summary = tokenizer.decode(output_ids, skip_special_tokens=True)\n",
    "print(summary)"
   ]
  },
  {
   "cell_type": "markdown",
   "id": "13f9f806-867a-4a99-9309-22c08f048ff0",
   "metadata": {},
   "source": [
    "Дальше: article_text = `df['О себе'][0]`; мб надо будет по частям обрабатывать ибо это будет долго и затратно по памяти чтобы ничего не упало и не испортило всю работу"
   ]
  }
 ],
 "metadata": {
  "kernelspec": {
   "display_name": "Python 3 (ipykernel)",
   "language": "python",
   "name": "python3"
  },
  "language_info": {
   "codemirror_mode": {
    "name": "ipython",
    "version": 3
   },
   "file_extension": ".py",
   "mimetype": "text/x-python",
   "name": "python",
   "nbconvert_exporter": "python",
   "pygments_lexer": "ipython3",
   "version": "3.9.5"
  }
 },
 "nbformat": 4,
 "nbformat_minor": 5
}
