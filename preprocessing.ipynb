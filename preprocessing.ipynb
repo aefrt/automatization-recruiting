{
 "cells": [
  {
   "cell_type": "markdown",
   "id": "721249dc-5ee6-46df-9db4-40797eee0987",
   "metadata": {},
   "source": [
    "## ВКР: обработка данных"
   ]
  },
  {
   "cell_type": "markdown",
   "id": "1fb0d0c3-f00d-4f52-8dba-8ad52683c69d",
   "metadata": {},
   "source": [
    "**Автоматизация подбора персонала**\n",
    "\n",
    "**Копчев Владислав, БПМИ197**"
   ]
  },
  {
   "cell_type": "markdown",
   "id": "11fc3464-79f7-4a40-8203-bb50ef2cf4a3",
   "metadata": {},
   "source": [
    "В результате работы данного ноутбука мы предобоработаем собранные признаки: приведем их к единому виду, разобьем некоторые признаки на более мелкие, суммаризуем раздел \"О себе\" с помощью нейросети mBART."
   ]
  },
  {
   "cell_type": "markdown",
   "id": "6847aca2-a90b-4eb9-9861-195c4da40a9c",
   "metadata": {},
   "source": [
    "Импортируем необходимые нам библиотеки:"
   ]
  },
  {
   "cell_type": "code",
   "execution_count": 1,
   "id": "32473c33-b154-4498-8742-5ddbd85b77bc",
   "metadata": {},
   "outputs": [],
   "source": [
    "from bs4 import BeautifulSoup\n",
    "import requests\n",
    "import pandas as pd\n",
    "from selenium import webdriver\n",
    "from selenium.webdriver.common.keys import Keys\n",
    "from selenium.webdriver.common.by import By\n",
    "from selenium.webdriver.support.ui import Select\n",
    "# !pip install transliterate\n",
    "from transliterate import translit\n",
    "import re\n",
    "import numpy as np"
   ]
  },
  {
   "cell_type": "code",
   "execution_count": 2,
   "id": "bd41e922-fd8e-4bd4-9954-f596c1f0f97e",
   "metadata": {},
   "outputs": [],
   "source": [
    "import nltk\n",
    "# nltk.download('stopwords')\n",
    "import re\n",
    "from pymorphy2 import MorphAnalyzer\n",
    "from nltk.corpus import stopwords\n",
    "morph = MorphAnalyzer()"
   ]
  },
  {
   "cell_type": "markdown",
   "id": "acf9b8cf-09a1-435f-a6f2-6100d0d4d45f",
   "metadata": {},
   "source": [
    "### Пост-обработка"
   ]
  },
  {
   "cell_type": "markdown",
   "id": "fc7a580c-5638-4ee4-a2ce-f46ac5131af2",
   "metadata": {},
   "source": [
    "Импорт данных:"
   ]
  },
  {
   "cell_type": "markdown",
   "id": "dcddfb5d-fa34-4394-8406-ce74ab375e1c",
   "metadata": {},
   "source": [
    "Поскольку mBART обучается очень долго (ожидаемое время — около 150–180 часов для всех данных), для уменьшения объема работы, но с сохранением репрезентативности данных при этом, было решено взять случайную выборку размером 3000 и работать с ней. "
   ]
  },
  {
   "cell_type": "code",
   "execution_count": 3,
   "id": "2771b68c-ecbc-462c-95b3-64f93b083a7d",
   "metadata": {},
   "outputs": [],
   "source": [
    "df = pd.read_csv('resumes_features.csv')\n",
    "# df = pd.read_csv('resumes_features.csv').sample(3000)\n",
    "# df = pd.read_csv('backup/16.11/resumes_features.csv').sample(3000)  # <- после 18.04"
   ]
  },
  {
   "cell_type": "markdown",
   "id": "e72b852d-24b3-4478-ae17-2bb926dfef34",
   "metadata": {},
   "source": [
    "Поскльку `df` может импортироваться с лишним столбцом в начале или неправильным индексом, запустим следующий код:"
   ]
  },
  {
   "cell_type": "code",
   "execution_count": 4,
   "id": "552dc404-08c4-425c-9db1-8626fc5ccd0d",
   "metadata": {},
   "outputs": [],
   "source": [
    "df.drop(list(df)[0], axis=1, inplace=True)\n",
    "df.reset_index(inplace=True)\n",
    "df.drop(list(df)[0], axis=1, inplace=True)"
   ]
  },
  {
   "cell_type": "markdown",
   "id": "36aa0b65-da74-4927-ab4a-9fa86946ed74",
   "metadata": {},
   "source": [
    "Проверим, что с таблицей и индексом все в порядке:"
   ]
  },
  {
   "cell_type": "code",
   "execution_count": 5,
   "id": "5d5397e7-0563-4b54-952d-86e476d1fd36",
   "metadata": {},
   "outputs": [
    {
     "data": {
      "text/html": [
       "<div>\n",
       "<style scoped>\n",
       "    .dataframe tbody tr th:only-of-type {\n",
       "        vertical-align: middle;\n",
       "    }\n",
       "\n",
       "    .dataframe tbody tr th {\n",
       "        vertical-align: top;\n",
       "    }\n",
       "\n",
       "    .dataframe thead th {\n",
       "        text-align: right;\n",
       "    }\n",
       "</style>\n",
       "<table border=\"1\" class=\"dataframe\">\n",
       "  <thead>\n",
       "    <tr style=\"text-align: right;\">\n",
       "      <th></th>\n",
       "      <th>Ссылка</th>\n",
       "      <th>Название</th>\n",
       "      <th>Коммандировка</th>\n",
       "      <th>Опыт</th>\n",
       "      <th>О себе</th>\n",
       "      <th>Образование</th>\n",
       "      <th>Интересы</th>\n",
       "      <th>Навыки</th>\n",
       "      <th>Образование-1</th>\n",
       "      <th>Образование-2</th>\n",
       "      <th>...</th>\n",
       "      <th>91</th>\n",
       "      <th>92</th>\n",
       "      <th>93</th>\n",
       "      <th>94</th>\n",
       "      <th>95</th>\n",
       "      <th>96</th>\n",
       "      <th>97</th>\n",
       "      <th>98</th>\n",
       "      <th>99</th>\n",
       "      <th>clust</th>\n",
       "    </tr>\n",
       "  </thead>\n",
       "  <tbody>\n",
       "    <tr>\n",
       "      <th>1109</th>\n",
       "      <td>https://hh.ru/resume/5cf55f5300051380170039ed1...</td>\n",
       "      <td>Начинающий специалист</td>\n",
       "      <td>Москва, не готов к переезду, готов к командиро...</td>\n",
       "      <td>Ключевые навыки</td>\n",
       "      <td>На данный момент имеются следующие теоретическ...</td>\n",
       "      <td>Высшее образование (Бакалавр)\\n2019\\nСанкт-Пет...</td>\n",
       "      <td>Специализации:\\nДругое\\nЗанятость: полная заня...</td>\n",
       "      <td>---</td>\n",
       "      <td>Санкт-Петербургский государственный технологич...</td>\n",
       "      <td>NaN</td>\n",
       "      <td>...</td>\n",
       "      <td>-0.001156</td>\n",
       "      <td>0.001366</td>\n",
       "      <td>-0.000280</td>\n",
       "      <td>0.000224</td>\n",
       "      <td>-0.000075</td>\n",
       "      <td>0.000588</td>\n",
       "      <td>0.000045</td>\n",
       "      <td>0.000758</td>\n",
       "      <td>-0.000920</td>\n",
       "      <td>0</td>\n",
       "    </tr>\n",
       "    <tr>\n",
       "      <th>215</th>\n",
       "      <td>https://hh.ru/resume/45fd28c400016731170039ed1...</td>\n",
       "      <td>Аналитик данных</td>\n",
       "      <td>Москва, м. Курская, готов к переезду (Москва),...</td>\n",
       "      <td>Опыт работы 6 лет 8 месяцев</td>\n",
       "      <td>Мои хобби: инвестиции, автомобили, математика,...</td>\n",
       "      <td>Высшее образование\\n2016\\nМосковский государст...</td>\n",
       "      <td>Специализации:\\nАналитик\\nBI-аналитик, аналити...</td>\n",
       "      <td>Работа с компьютерными программами, программы ...</td>\n",
       "      <td>Московский государственный технический универс...</td>\n",
       "      <td>NaN</td>\n",
       "      <td>...</td>\n",
       "      <td>-0.002009</td>\n",
       "      <td>0.002615</td>\n",
       "      <td>0.002877</td>\n",
       "      <td>-0.001430</td>\n",
       "      <td>0.003984</td>\n",
       "      <td>-0.002134</td>\n",
       "      <td>0.003607</td>\n",
       "      <td>0.001726</td>\n",
       "      <td>0.003098</td>\n",
       "      <td>0</td>\n",
       "    </tr>\n",
       "  </tbody>\n",
       "</table>\n",
       "<p>2 rows × 138 columns</p>\n",
       "</div>"
      ],
      "text/plain": [
       "                                                 Ссылка  \\\n",
       "1109  https://hh.ru/resume/5cf55f5300051380170039ed1...   \n",
       "215   https://hh.ru/resume/45fd28c400016731170039ed1...   \n",
       "\n",
       "                   Название  \\\n",
       "1109  Начинающий специалист   \n",
       "215         Аналитик данных   \n",
       "\n",
       "                                          Коммандировка  \\\n",
       "1109  Москва, не готов к переезду, готов к командиро...   \n",
       "215   Москва, м. Курская, готов к переезду (Москва),...   \n",
       "\n",
       "                             Опыт  \\\n",
       "1109              Ключевые навыки   \n",
       "215   Опыт работы 6 лет 8 месяцев   \n",
       "\n",
       "                                                 О себе  \\\n",
       "1109  На данный момент имеются следующие теоретическ...   \n",
       "215   Мои хобби: инвестиции, автомобили, математика,...   \n",
       "\n",
       "                                            Образование  \\\n",
       "1109  Высшее образование (Бакалавр)\\n2019\\nСанкт-Пет...   \n",
       "215   Высшее образование\\n2016\\nМосковский государст...   \n",
       "\n",
       "                                               Интересы  \\\n",
       "1109  Специализации:\\nДругое\\nЗанятость: полная заня...   \n",
       "215   Специализации:\\nАналитик\\nBI-аналитик, аналити...   \n",
       "\n",
       "                                                 Навыки  \\\n",
       "1109                                                ---   \n",
       "215   Работа с компьютерными программами, программы ...   \n",
       "\n",
       "                                          Образование-1 Образование-2  ...  \\\n",
       "1109  Санкт-Петербургский государственный технологич...           NaN  ...   \n",
       "215   Московский государственный технический универс...           NaN  ...   \n",
       "\n",
       "            91        92        93        94        95        96        97  \\\n",
       "1109 -0.001156  0.001366 -0.000280  0.000224 -0.000075  0.000588  0.000045   \n",
       "215  -0.002009  0.002615  0.002877 -0.001430  0.003984 -0.002134  0.003607   \n",
       "\n",
       "            98        99 clust  \n",
       "1109  0.000758 -0.000920     0  \n",
       "215   0.001726  0.003098     0  \n",
       "\n",
       "[2 rows x 138 columns]"
      ]
     },
     "execution_count": 5,
     "metadata": {},
     "output_type": "execute_result"
    }
   ],
   "source": [
    "df.sample(2)"
   ]
  },
  {
   "cell_type": "code",
   "execution_count": 9,
   "id": "8c8b14d5-182a-4603-bf78-b8494e8e917f",
   "metadata": {},
   "outputs": [
    {
     "data": {
      "text/plain": [
       "RangeIndex(start=0, stop=2725, step=1)"
      ]
     },
     "execution_count": 9,
     "metadata": {},
     "output_type": "execute_result"
    }
   ],
   "source": [
    "df.index"
   ]
  },
  {
   "cell_type": "markdown",
   "id": "ecb99021-10da-411c-9c4b-764074c6df44",
   "metadata": {},
   "source": [
    "**Перевод опыта работы в числовое значение:**"
   ]
  },
  {
   "cell_type": "markdown",
   "id": "d3a964fe-614b-48ca-846d-fcc666e0ca0a",
   "metadata": {},
   "source": [
    "В данной функции мы приводим к единому виду опыт работы. Были найдены различные значения: years, year, months, лет, года и т. д. Мы учтем все найденные значения в коде."
   ]
  },
  {
   "cell_type": "code",
   "execution_count": 5,
   "id": "0d87eafd-1b30-4085-a936-c660c1af9238",
   "metadata": {},
   "outputs": [],
   "source": [
    "#df.drop(list(df)[0], axis=1, inplace=True)\n",
    "#df.drop(list(df)[0], axis=1, inplace=True)\n",
    "#df.reset_index(inplace=True)\n",
    "#df.drop(list(df)[0], axis=1, inplace=True)"
   ]
  },
  {
   "cell_type": "code",
   "execution_count": 22,
   "id": "32af93d1-caa6-46dc-a7ce-1fedab76ba13",
   "metadata": {
    "tags": []
   },
   "outputs": [],
   "source": [
    "df['Опыт'][2]\n",
    "opyt_normalized = []\n",
    "for x in df['Опыт']:\n",
    "    x=x.removeprefix('Work experience ').removeprefix('Опыт работы')\n",
    "    x=x.replace('years', ';')\n",
    "    x=x.replace('year', ';')\n",
    "    x=x.replace('года', ';')  # ВСЕГДА д. б. раньше\n",
    "    x=x.replace('год', ';')\n",
    "    x=x.replace('лет', ';')\n",
    "    \n",
    "    if x.find(';') == -1:\n",
    "        x = '0;' + x\n",
    "    x=x.removesuffix('months')\n",
    "    x=x.removesuffix('month')\n",
    "    x=x.removesuffix('месяцев')\n",
    "    x=x.removesuffix('месяц')\n",
    "    x=x.removesuffix('месяца')\n",
    "     \n",
    "    x=x.replace(' ', '')\n",
    "    \n",
    "    if re.search('[а–Я]+[a–Z]+', x):\n",
    "        x='---'\n",
    "    opyt_normalized.append(x)\n",
    "    \n",
    "df['Опыт нормализованный'] = opyt_normalized"
   ]
  },
  {
   "cell_type": "code",
   "execution_count": 23,
   "id": "88d42898-8fef-4843-9bc8-cc66adafea89",
   "metadata": {},
   "outputs": [
    {
     "data": {
      "text/plain": [
       "777     12;5\n",
       "1809    37;8\n",
       "Name: Опыт нормализованный, dtype: object"
      ]
     },
     "execution_count": 23,
     "metadata": {},
     "output_type": "execute_result"
    }
   ],
   "source": [
    "df.loc[:, 'Опыт нормализованный'].sample(2)"
   ]
  },
  {
   "cell_type": "markdown",
   "id": "f9d70dbf-b733-4b29-81d8-de31ed9d28bc",
   "metadata": {},
   "source": [
    "**Сбор недостающих признаков:**"
   ]
  },
  {
   "cell_type": "markdown",
   "id": "feb9279c-6f09-4e80-b55e-e4327155a62c",
   "metadata": {},
   "source": [
    "После сбора данных в ходе работы были придуманы еще некоторые признаки. Чтобы не запускать весь скрейпер заново, решено было добавить возможность их сбора не только в `scraping.ipynb`, но и в данный ноутбук. Код ниже собирает все недостающие признаки (\"Где работал?\", \"Карьерный рост\")."
   ]
  },
  {
   "cell_type": "markdown",
   "id": "00e8a1a0-0c69-4c97-ad1e-35c75c1e9b4b",
   "metadata": {},
   "source": [
    "Соберем признак \"Где работал?\". Он реализован в `scraping.ipynb`, но был добавлен позже, чем были собраны данные, с которыми мы работаем."
   ]
  },
  {
   "cell_type": "code",
   "execution_count": 21,
   "id": "1ae93d71-1069-4405-ab0f-48280c2649a1",
   "metadata": {
    "tags": []
   },
   "outputs": [
    {
     "name": "stderr",
     "output_type": "stream",
     "text": [
      "/var/folders/0k/pk7zyw6x2sqcjpbqvgf0ssh80000gn/T/ipykernel_90561/3157379002.py:1: DeprecationWarning: executable_path has been deprecated, please pass in a Service object\n",
      "  driver = webdriver.Chrome('./chromedriver')\n"
     ]
    }
   ],
   "source": [
    "driver = webdriver.Chrome('./chromedriver')\n",
    "repet = []\n",
    "for i in range(df.shape[0]):\n",
    "    driver.get(df.iloc[i]['Ссылка'])\n",
    "    work = driver.find_elements(by=By.XPATH, \n",
    "                             value='//div[@data-qa=\"resume-block-experience\"][@class=\"resume-block\"]//div[@class=\"resume-block-container\"]')\n",
    "    w = driver.find_elements(by=By.XPATH, \n",
    "                             value='//div[@data-qa=\"resume-block-experience\"][@class=\"resume-block\"]//div[@class=\"resume-block-container\"]/div[@class=\"bloko-text bloko-text_strong\"][not(@data-qa=\"resume-block-experience-position\")]//span')\n",
    "    \n",
    "    work_list = []\n",
    "    for ww in w:\n",
    "        try:\n",
    "            work_list.append(ww.text)\n",
    "        except:\n",
    "            1==1\n",
    "    work_count = len(work)\n",
    "    repet.append(work_list)"
   ]
  },
  {
   "cell_type": "code",
   "execution_count": 26,
   "id": "ccb8a138-6416-4709-82b0-51f48cfbbf03",
   "metadata": {},
   "outputs": [],
   "source": [
    "df['Где работал?'] = repet"
   ]
  },
  {
   "cell_type": "markdown",
   "id": "cecaf79f-a1d3-413a-a8ea-5df2d9380449",
   "metadata": {},
   "source": [
    "Добавим еще один признак — карьерный рост: есть ли повторения в опыте работы? (Тоже наверх это)"
   ]
  },
  {
   "cell_type": "code",
   "execution_count": 45,
   "id": "7634e6ff-c4e1-4ff4-896c-8b54ac32be8b",
   "metadata": {
    "tags": []
   },
   "outputs": [],
   "source": [
    "driver = webdriver.Chrome('./chromedriver')\n",
    "repet = []\n",
    "\n",
    "for i in range(df.shape[0]):\n",
    "    driver.get(df.iloc[i]['Ссылка'])\n",
    "    work = driver.find_elements(by=By.XPATH, \n",
    "                             value='//div[@data-qa=\"resume-block-experience\"][@class=\"resume-block\"]//div[@class=\"resume-block-container\"]')\n",
    "    w = driver.find_elements(by=By.XPATH, \n",
    "                             value='//div[@data-qa=\"resume-block-experience\"][@class=\"resume-block\"]//div[@class=\"resume-block-container\"]/div[@class=\"bloko-text bloko-text_strong\"][not(@data-qa=\"resume-block-experience-position\")]//span')\n",
    "    \n",
    "    works = []\n",
    "    for ww in w:\n",
    "        try:\n",
    "            works.append(ww.text)\n",
    "        except:\n",
    "            1==1\n",
    "    \n",
    "    works_normilized = []\n",
    "    for w in works:\n",
    "        works_normilized.append(morph.normal_forms(w)[0])\n",
    "    \n",
    "    repet.append(len(set(works_normilized)) - len(works_normilized) < 0)"
   ]
  },
  {
   "cell_type": "markdown",
   "id": "08234bdb-277f-44c9-95c1-eeb2dabba6c7",
   "metadata": {},
   "source": [
    "проверить, правда ли так много людей с повышениями:"
   ]
  },
  {
   "cell_type": "code",
   "execution_count": 46,
   "id": "b9ba5fb6-8e01-4417-86df-d3d2f0c95582",
   "metadata": {},
   "outputs": [
    {
     "data": {
      "text/plain": [
       "[False, False, False]"
      ]
     },
     "execution_count": 46,
     "metadata": {},
     "output_type": "execute_result"
    }
   ],
   "source": [
    "repet[:3]"
   ]
  },
  {
   "cell_type": "markdown",
   "id": "a3b0c3df-bead-4454-81cc-e4947f6d3be0",
   "metadata": {},
   "source": [
    "теперь для нормализованных названий найти повторения: `len(set(works)) - len(works) > 0` — и чекнуть адекватность такого определения"
   ]
  },
  {
   "cell_type": "code",
   "execution_count": 47,
   "id": "ebc4842d-32c8-46c0-837a-beeadb0b326f",
   "metadata": {},
   "outputs": [
    {
     "name": "stderr",
     "output_type": "stream",
     "text": [
      "/var/folders/0k/pk7zyw6x2sqcjpbqvgf0ssh80000gn/T/ipykernel_37832/1520391026.py:1: SettingWithCopyWarning: \n",
      "A value is trying to be set on a copy of a slice from a DataFrame.\n",
      "Try using .loc[row_indexer,col_indexer] = value instead\n",
      "\n",
      "See the caveats in the documentation: https://pandas.pydata.org/pandas-docs/stable/user_guide/indexing.html#returning-a-view-versus-a-copy\n",
      "  df['Карьерный рост'] = repet\n"
     ]
    }
   ],
   "source": [
    "df['Карьерный рост'] = repet"
   ]
  },
  {
   "cell_type": "markdown",
   "id": "a0bd7df3-16f7-4fda-b032-53d14ec74cff",
   "metadata": {},
   "source": [
    "**Словарь образования:**"
   ]
  },
  {
   "cell_type": "markdown",
   "id": "b074f342-b57c-463f-aecb-17f2e2739442",
   "metadata": {},
   "source": [
    "В данной функции мы составляем словарь образования для создания бинарного признака \"ВУЗ входит/не входит в топ\". Возможна небольшая погрешность (сложно учесть все возможные варианты написания вузов), однако эта погрешность будет скомпенсирована большим количеством других, более простых признаков. Поэтому на результат это не повлияет."
   ]
  },
  {
   "cell_type": "code",
   "execution_count": 13,
   "id": "35829367-4bc7-4cc3-a774-d95173a63a09",
   "metadata": {},
   "outputs": [],
   "source": [
    "edu_list = pd.concat([df['Образование-1'], df['Образование-2']], axis=0).drop_duplicates().reset_index().drop('index', axis=1)\n",
    "edu_list = list(edu_list[list(edu_list)[0]])\n",
    "len(edu_list)\n",
    "\n",
    "ys=[]\n",
    "\n",
    "for x in edu_list:\n",
    "    s=str(x)\n",
    "    l = s.find(',')+1\n",
    "    y=s[l:].lstrip(' ')\n",
    "    print(end='')\n",
    "    ys.append(y)\n",
    "    \n",
    "for i in range(len(ys)):\n",
    "    y = ys[i]\n",
    "    is_space = re.fullmatch('[А-я]+[ ][А-я ()-]+', y)\n",
    "    if is_space:\n",
    "        #print(y)\n",
    "        1==1\n",
    "    is_m = re.fullmatch('Mosc.*', y) or re.fullmatch('Моск.*', y) or re.fullmatch('Петерб.*', y) or re.fullmatch('Peters.*', y) or re.fullmatch('СПб.*', y) or re.fullmatch('Новосиб.*', y) or re.fullmatch('Novosib.*', y) or re.fullmatch('Томск.*', y) or re.fullmatch('Tomsk.*', y)\n",
    "    if not is_space and not is_m:\n",
    "        ys[i] = 'NO'\n",
    "#ys\n",
    "\n",
    "cnt=0\n",
    "for y in ys:\n",
    "    if y != 'NO':\n",
    "        cnt+=1\n",
    "cnt\n",
    "\n",
    "import numpy as np\n",
    "ys = np.array(ys)\n",
    "ys=np.unique(ys)\n",
    "ys=list(ys)\n",
    "len(ys)\n",
    "\n",
    "\"\"\"\n",
    "Топ-10 IT-вузов России по версии QS (Quacquarelli Symonds)\n",
    "\n",
    "1. Московский государственный университет им. М. В. Ломоносова;\n",
    "2. Университет ИТМО;\n",
    "3. Московский физико-технологический институт (МФТИ);\n",
    "4. Высшая школа экономики;\n",
    "5. Санкт-Петербургский политехнический университет Петра Великого; \n",
    "6. Московский государственный технический университета (МГТУ) имени Н.Э. Баумана;\n",
    "7. Санкт-Петербургский политехнический университет Петра Великого; \n",
    "8. Новосибирский государственный университет;\n",
    "9. Московский инженерно-физический институт (МИФИ);\n",
    "10. Томский политехнический университет.\n",
    "\n",
    "https://propostuplenie.ru/article/spisok-luchshih-informacionnyh-vuzov-rossii/\n",
    "\"\"\"\n",
    "\n",
    "def is_top(y):\n",
    "    if re.search('ВШЭ', y) or re.search('Высшая школа экономики', y) or re.search('HSE', y):\n",
    "        y='ВШЭ'\n",
    "    elif re.search('Московский Государственный Университет$', y) or re.search('Московский Государственный Университет им[.  ени] (М.|Л)', y) or re.search('МГУ[^ А-я]|\\(МГУ\\)', y) or re.search('Moscow state University', y) or re.search('MSU', y) or re.search('МГУ', y):\n",
    "        y='МГУ'\n",
    "    elif re.search('ИТМО', y):\n",
    "        y='ИТМО'\n",
    "    elif re.search('МФТИ', y) or re.search('Московский физико-технологический институт', y):\n",
    "        y='Физтех'\n",
    "        # ЗФТШ при МФТИ\n",
    "        # - Физтех\n",
    "    elif re.search('СПБ Политех', y) or re.search('Санкт-Петербургский политехнический университет', y):\n",
    "        y='Политех СПб'\n",
    "    elif re.search('Бауман', y):\n",
    "        y='Бауманка'\n",
    "    elif re.search('НГУ', y) or re.search('Новосибирский государственный университет', y):\n",
    "        y='НГУ'\n",
    "        # НГУ Наталии Нестеровой\n",
    "    elif re.search('МИФИ', y) or re.search('Московский инженерно-физический институт', y):\n",
    "        y='МИФИ'\n",
    "        # Какие-то Техникум ДИТИ НИЯУ МИФИ и прочее...\n",
    "    elif re.search('ТомГУ', y) or re.search('Томский политехнический университет', y):\n",
    "        y='ТомГУ'\n",
    "    else:\n",
    "        y='NO'\n",
    "    return y != 'NO'\n",
    "        \n",
    "# Дальше завожу колонку: parsed_uni по этому правилу -- 1 если хотя бы 1 уник топовый\n",
    "# И там заменяю значения и вывожу равно ли МГУ / етц.\n",
    "\n",
    "xs = []\n",
    "for x in df.index:\n",
    "    stroke = df.iloc[x].loc[['Образование-1', 'Образование-2']]\n",
    "    k2 = False\n",
    "    if type(stroke[0]) != float:\n",
    "        k1 = is_top(stroke[0])\n",
    "    if type(stroke[1]) != float:\n",
    "        k2 = is_top(stroke[1])\n",
    "    xs.append(k1 or k2)\n",
    "    \n",
    "df['Топовость образования']=xs"
   ]
  },
  {
   "cell_type": "markdown",
   "id": "e1a867f5-1739-46b3-9a58-559adcd47d2f",
   "metadata": {},
   "source": [
    "Посмотрим на распределение признаков:"
   ]
  },
  {
   "cell_type": "code",
   "execution_count": 14,
   "id": "6971cd12-41cc-46fb-b4d4-45a816ea10d6",
   "metadata": {},
   "outputs": [
    {
     "data": {
      "text/plain": [
       "False    2430\n",
       "True      295\n",
       "Name: Топовость образования, dtype: int64"
      ]
     },
     "execution_count": 14,
     "metadata": {},
     "output_type": "execute_result"
    }
   ],
   "source": [
    "df['Топовость образования'].value_counts()"
   ]
  },
  {
   "cell_type": "markdown",
   "id": "b04c4f13-a5df-4ab9-bce2-ab3382c85d3a",
   "metadata": {},
   "source": [
    "**Флаг, что текст на eng:**"
   ]
  },
  {
   "cell_type": "markdown",
   "id": "84f6d317-33b4-42f2-a694-ef5e0f29747e",
   "metadata": {},
   "source": [
    "Здесь мы определим, написан ли текст на английском языке. Сделаем это по разделам \"Релокация?\", \"Коммандировка?\", \"Город?\". Если эти признаки написаны на английском языке, то и все резюме будет на английском языке"
   ]
  },
  {
   "cell_type": "code",
   "execution_count": 15,
   "id": "7d0cc12c-0c80-4e84-a001-868d9111fe39",
   "metadata": {},
   "outputs": [],
   "source": [
    "ts = []\n",
    "\n",
    "for i in range(df.shape[0]):\n",
    "    if type(df['Город?'][i])!=float and type(df['Релокация?'][i])!=float and type(df['Коммандировка?'][i])!=float:  # not nan\\\n",
    "        t = re.search('[A-z]+', df['Город?'][i]) or re.search('[A-z]+', df['Релокация?'][i]) or re.search('[A-z]+', df['Коммандировка?'][i])\n",
    "        if t:\n",
    "            t = 'ENG'\n",
    "        else:\n",
    "            t = 'RU'\n",
    "\n",
    "    # print(x, t)\n",
    "    else:\n",
    "        t = '---'\n",
    "    ts.append(t)\n",
    "        \n",
    "df['is_eng?'] = ts"
   ]
  },
  {
   "cell_type": "code",
   "execution_count": 16,
   "id": "65933918-39bd-4558-8280-822498f94a7c",
   "metadata": {},
   "outputs": [],
   "source": [
    "about = df['О себе'].loc[df['is_eng?'] == 'RU']"
   ]
  },
  {
   "cell_type": "code",
   "execution_count": 17,
   "id": "2f11321d-893a-40c4-a6db-0ffa4a626062",
   "metadata": {},
   "outputs": [],
   "source": [
    "df = df.loc[df['is_eng?'] == 'RU']"
   ]
  },
  {
   "cell_type": "markdown",
   "id": "76b6e4ab-6f21-4f82-971a-36b4a7aaef97",
   "metadata": {},
   "source": [
    "Посмотрим, что получилось:"
   ]
  },
  {
   "cell_type": "code",
   "execution_count": 18,
   "id": "4934fa76-1b7a-4465-81c4-c32adef5a214",
   "metadata": {},
   "outputs": [
    {
     "data": {
      "text/plain": [
       "0       Уверенный пользователь ПК, Ms Word, Ms Excel, ...\n",
       "1       Энергична, активна, в поиске новых возможносте...\n",
       "2       опыт прямых продаж, ведение коммерческих перег...\n",
       "3       Коммуникабелен\\nУмение работать с возражениями...\n",
       "4       Дисциплина - умение выполнять поставленные зад...\n",
       "                              ...                        \n",
       "2720    Уверенный пользователь ПК: MS Office (Word, Ex...\n",
       "2721    Моя потребность в постоянном улучшении себя на...\n",
       "2722                                                    .\n",
       "2723                                                  ---\n",
       "2724                                                  ---\n",
       "Name: О себе, Length: 2725, dtype: object"
      ]
     },
     "execution_count": 18,
     "metadata": {},
     "output_type": "execute_result"
    }
   ],
   "source": [
    "about"
   ]
  },
  {
   "cell_type": "markdown",
   "id": "ee393688-87c2-4692-a57e-9ae5d9ad375a",
   "metadata": {},
   "source": [
    "Действительно, мы видим, что все было обработано верно."
   ]
  },
  {
   "cell_type": "markdown",
   "id": "ae9bdbb5-b7e5-4a9b-afd2-7922eea84c45",
   "metadata": {},
   "source": [
    "**Справочник по интересам:**"
   ]
  },
  {
   "cell_type": "markdown",
   "id": "c05d56dc-12e8-40db-bb98-f3cae8656a3f",
   "metadata": {},
   "source": [
    "Есть ли аналитические комбинации слов в интересах? То есть, есть ли слова \"аналитик\", \"данные\" и т. д. в разделе \"Интересы\". Используем простое правило и получаем бинарный признак."
   ]
  },
  {
   "cell_type": "code",
   "execution_count": 19,
   "id": "56b4a5f8-bc4a-4078-8aa2-a8c910b8c151",
   "metadata": {
    "tags": []
   },
   "outputs": [],
   "source": [
    "inter_list = []\n",
    "\n",
    "for inter in df['Интересы']:\n",
    "    intr = inter.split('\\n')\n",
    "    if re.search('(Analyst)|(Аналитик данных)|(аналитик)|(Аналитик)', inter):\n",
    "        inter_list.append('found smt by rule (Analyst)|(Аналитик данных)|(аналитик)|(Аналитик)')\n",
    "    else:\n",
    "        inter_list.append('---')\n",
    "        \n",
    "df['Справочник по интересам']= inter_list"
   ]
  },
  {
   "cell_type": "markdown",
   "id": "1cbbdfab-1c22-4bf8-bcdc-b17a7593731f",
   "metadata": {},
   "source": [
    "**Извлечение сущностей \"Коммандировка\", \"Навыки\", \"Кол-во работ\", \"Наличие комбинаций\":**"
   ]
  },
  {
   "cell_type": "markdown",
   "id": "989787d7-a218-465e-93e2-b06fc6d3aa4e",
   "metadata": {},
   "source": [
    "На сайте hh.ru единое поле для трех объектов сразу. Разъединим их с учетом разных знаяений и того, что они перечислены просто через запятую. "
   ]
  },
  {
   "cell_type": "code",
   "execution_count": 68,
   "id": "6524a243-c113-4d0d-887a-7cc49f660bc7",
   "metadata": {},
   "outputs": [],
   "source": [
    "xs1 = []\n",
    "xs2=[]\n",
    "xs3=[]\n",
    "for x in df['Коммандировка']:\n",
    "    # english\n",
    "    x1 = re.search('[A-z]+', x)\n",
    "    x2 = re.search('[a-z ]*willing to relocate', x)\n",
    "    x3 = re.search('[a-z ]*prepared for [a-z]* business trips', x)\n",
    "    if x1:\n",
    "        x1=x1[0]\n",
    "    if x2:\n",
    "        x2=x2[0]\n",
    "    if x3:\n",
    "        x3=x3[0]\n",
    "    \n",
    "    if x1 or x2 or x3:  # if found smt in engish — is it not wrong way to do it?\n",
    "        xs1.append(x1)\n",
    "        xs2.append(x2)\n",
    "        xs3.append(x3)\n",
    "    else:\n",
    "        # russian — work in progress\n",
    "        # Москва, не готова к переезду, готова к редким командировкам\n",
    "        # Санкт-Петербург, м. Гражданский проспект, готов к переезду (Москва), готов к командировкам\n",
    "        # Москва, готов к переезду (Нидерланды, Испания, Франция, Италия, Австрия, Германия, Швейцария), готов к командировкам\n",
    "        # Москва, хочу переехать, готов к командировкам\n",
    "        # Москва, м. Ясенево, не готов к переезду, готов к редким командировкам\n",
    "        x1 = re.search('[А-я]+', x)  # is it correct?\n",
    "        x2 = re.search('[А-я]*[ не]*готов[а]* к переезду', x)\n",
    "        x3 = re.search('[А-я]*[ не]*готов[а]* к[ а-я]* командировкам', x)  # черновое правило\n",
    "        if x1:\n",
    "            x1=x1[0]\n",
    "        if x2:\n",
    "            x2=x2[0]\n",
    "        if x3:\n",
    "            x3=x3[0]\n",
    "        xs1.append(x1)\n",
    "        xs2.append(x2)\n",
    "        xs3.append(x3)\n",
    "\n",
    "zs = []\n",
    "for z in df['Навыки']:\n",
    "    zzz = z.split('\\n')\n",
    "    zs.append(zzz)\n",
    "    \n",
    "df['Навыки списком'] = zs\n",
    "df['Релокация?'] = xs3\n",
    "df['Коммандировка?'] = xs2\n",
    "df['Город?'] = xs1\n",
    "\n",
    "\"\"\"\n",
    "1. Коммандировка \n",
    "2. Навыки\n",
    "3. Кол-во работ\n",
    "4. Наличие аналитических комбинаций слов в работе — новый столбец\n",
    "\"\"\"\n",
    "\n",
    "import numpy as np\n",
    "import re\n",
    "\n",
    "#print(df['Коммандировка'][0])\n",
    "#print(re.search('[A-z]+', df['Коммандировка'][0Z]))\n",
    "#print(re.search('[a-z ]*willing to relocate', df['Коммандировка'][8]))\n",
    "#print(re.search('[a-z ]*prepared for business trips', df['Коммандировка'][8]))\n",
    "\n",
    "#print(df['Коммандировка'][0])\n",
    "#print(re.search('[A-z]+', df['Коммандировка'][0]))\n",
    "#print(re.search('[a-z ]*willing to relocate', df['Коммандировка'][0]))\n",
    "#print(re.search('[a-z ]*prepared for [a-z]* business trips', df['Коммандировка'][0]))\n",
    "\n",
    "df['Навыки'].iloc[0].split('\\n')  # вот так?\n",
    "\n",
    "work_list = df['Где работал?']\n",
    "analytics_words = []\n",
    "works_cnt = []\n",
    "skills_list = df['Навыки']\n",
    "\n",
    "for work in skills_list:\n",
    "    # пока супер примитивное правило:\n",
    "    if re.search('(SQL)|(Excel)|(Python)|(Tableau)|(Power BI)', str(work)):\n",
    "        analytics_words.append('found smt by rule (SQL)|(Excel)|(Python)|(Tableau)|(Power BI)')\n",
    "    else:\n",
    "        analytics_words.append('---')\n",
    "\n",
    "for work in work_list:\n",
    "    works_cnt.append(len(work))\n",
    "df['Кол-во работ'] = works_cnt\n",
    "    \n",
    "df['Аналитические комбинации слов в навыках'] = analytics_words"
   ]
  },
  {
   "cell_type": "markdown",
   "id": "38f2c364-34ff-4f30-819b-afc894eb33aa",
   "metadata": {},
   "source": [
    "Посмотрим, к примеру, сколько было найдено аналитических комбинаций:"
   ]
  },
  {
   "cell_type": "code",
   "execution_count": 70,
   "id": "b6b94527-a77f-437c-aa6f-facbdec1c7fd",
   "metadata": {},
   "outputs": [
    {
     "data": {
      "text/plain": [
       "---                                                              2241\n",
       "found smt by rule (SQL)|(Excel)|(Python)|(Tableau)|(Power BI)     484\n",
       "Name: Аналитические комбинации слов в навыках, dtype: int64"
      ]
     },
     "execution_count": 70,
     "metadata": {},
     "output_type": "execute_result"
    }
   ],
   "source": [
    "df['Аналитические комбинации слов в навыках'].value_counts()"
   ]
  },
  {
   "cell_type": "markdown",
   "id": "dc848740-d3e2-4f73-8eb6-d626f1093d62",
   "metadata": {},
   "source": [
    "**Перевод уровня образования:**"
   ]
  },
  {
   "cell_type": "markdown",
   "id": "5ac18168-d606-4f37-acab-8733e27f6d83",
   "metadata": {},
   "source": [
    "Определим уровень образования, исходя из выделенных возможных значений: Бакалавр, bachelor, Secondary education и т. д."
   ]
  },
  {
   "cell_type": "code",
   "execution_count": 32,
   "id": "9c9537c7-6703-4d0c-bffc-e7db696f2384",
   "metadata": {
    "tags": []
   },
   "outputs": [
    {
     "name": "stdout",
     "output_type": "stream",
     "text": [
      "Высшее образование\n",
      "Бакалавр\n",
      "Доктор наук\n",
      "Кандидат наук\n",
      "Магистр\n",
      "Неоконченное высшее образование\n",
      "Образование\n",
      "Среднее образование\n",
      "Среднее специальное образование\n"
     ]
    }
   ],
   "source": [
    "z = list(np.unique(list(df['Уровень образование'])))\n",
    "\n",
    "for y in z:\n",
    "    y=y.removeprefix('Higher education ')\n",
    "    y=y.replace('(', '').replace(')', '')\n",
    "    y=y.replace('bachelor', 'Бакалавр').replace('master', 'Магистр')\n",
    "    y=y.replace('Doctor of Science', 'PhD').replace('PhD', 'Доктор наук')\n",
    "    \n",
    "    y=y.removeprefix('Высшее образование ')\n",
    "    y=y.replace('Higher education', 'Высшее образование')\n",
    "    y=y.replace('Incomplete higher education', 'Неоконченное высшее образование')\n",
    "    y=y.replace('Secondary education', 'Среднее образование')\n",
    "    y=y.replace('Secondary special education', 'Среднее специальное образование')\n",
    "    print(y)\n",
    "    \n",
    "ys=[]\n",
    "for y in df['Уровень образование']:\n",
    "    y=y.removeprefix('Higher education ')\n",
    "    y=y.replace('(', '').replace(')', '')\n",
    "    y=y.replace('bachelor', 'Бакалавр').replace('master', 'Магистр')\n",
    "    y=y.replace('Doctor of Science', 'PhD').replace('PhD', 'Доктор наук')\n",
    "    \n",
    "    y=y.removeprefix('Высшее образование ')\n",
    "    y=y.replace('Higher education', 'Высшее образование')\n",
    "    y=y.replace('Incomplete higher education', 'Неоконченное высшее образование')\n",
    "    y=y.replace('Secondary education', 'Среднее образование')\n",
    "    y=y.replace('Secondary special education', 'Среднее специальное образование')\n",
    "    ys.append(y)\n",
    "df['Уровень оборазования нормализованный'] = ys"
   ]
  },
  {
   "cell_type": "markdown",
   "id": "071bd9fd-310c-432a-a6fa-20ab5c30d354",
   "metadata": {},
   "source": [
    "**Сохранение результатов:**"
   ]
  },
  {
   "cell_type": "markdown",
   "id": "99daa848-aa15-4e42-9b67-2d9e38375b57",
   "metadata": {},
   "source": [
    "Сохраним полученные результаты:"
   ]
  },
  {
   "cell_type": "code",
   "execution_count": 65,
   "id": "0e09cef9-5ca8-48fd-aa74-e14f7f61a759",
   "metadata": {},
   "outputs": [],
   "source": [
    "df.to_csv('resumes_features.csv')"
   ]
  },
  {
   "cell_type": "markdown",
   "id": "6c83fa44-8f43-461c-8f76-9177b6888863",
   "metadata": {},
   "source": [
    "**mBART перед построением токенов в \"О себе\"**\n",
    "\n",
    "Перед токенизацией суммаризуем текст, чтобы выделить основную мысль и убрать \"шум\" — так будет проще работать с ним. Для этого воспользуемся алгоритмом [mBART](https://huggingface.co/IlyaGusev/mbart_ru_sum_gazeta?text=%D0%97%D0%B0+%D0%B2%D1%80%D0%B5%D0%BC%D1%8F+%D1%80%D0%B0%D0%B1%D0%BE%D1%82%D1%8B+%D0%B8+%D1%83%D1%87%D1%91%D0%B1%D1%8B%2C+%D1%8F+%D0%BE%D0%B2%D0%BB%D0%B0%D0%B4%D0%B5%D0%BB+%D0%BA%D0%BE%D0%BC%D0%BF%D0%B5%D1%82%D0%B5%D0%BD%D1%86%D0%B8%D1%8F%D0%BC%D0%B8%2C+%D0%BD%D0%B5%D0%BE%D0%B1%D1%85%D0%BE%D0%B4%D0%B8%D0%BC%D1%8B%D0%BC%D0%B8+%D0%B4%D0%BB%D1%8F+%D0%B8%D1%81%D1%81%D0%BB%D0%B5%D0%B4%D0%BE%D0%B2%D0%B0%D0%BD%D0%B8%D1%8F%2C+%D1%81%D0%BE%D0%B7%D0%B4%D0%B0%D0%BD%D0%B8%D1%8F+%D0%B8+%D1%83%D1%81%D0%BF%D0%B5%D1%88%D0%BD%D0%BE%D0%B3%D0%BE+%D0%B8%D1%81%D0%BF%D0%BE%D0%BB%D1%8C%D0%B7%D0%BE%D0%B2%D0%B0%D0%BD%D0%B8%D1%8F+%D1%86%D0%B8%D1%84%D1%80%D0%BE%D0%B2%D1%8B%D1%85+%D1%82%D0%B5%D1%85%D0%BD%D0%BE%D0%BB%D0%BE%D0%B3%D0%B8%D0%B9+%D0%BC%D0%BE%D0%B4%D0%B5%D0%BB%D0%B8%D1%80%D0%BE%D0%B2%D0%B0%D0%BD%D0%B8%D1%8F%2C+%D1%83%D0%BF%D1%80%D0%B0%D0%B2%D0%BB%D0%B5%D0%BD%D0%B8%D1%8F%2C+%D0%B0%D0%BD%D0%B0%D0%BB%D0%B8%D0%B7%D0%B0+%D0%B8+%D1%81%D0%B8%D0%BD%D1%82%D0%B5%D0%B7%D0%B0+%D1%81%D0%B8%D1%81%D1%82%D0%B5%D0%BC%D0%BD%D1%8B%D1%85+%D1%80%D0%B5%D1%88%D0%B5%D0%BD%D0%B8%D0%B9+%D0%B2+%D0%B8%D0%BD%D1%82%D0%B5%D1%80%D0%B5%D1%81%D0%B0%D1%85+%D1%81%D0%BE%D0%B7%D0%B4%D0%B0%D0%BD%D0%B8%D1%8F+%D1%81%D0%BB%D0%BE%D0%B6%D0%BD%D0%BE%D0%B9+%D0%BF%D1%80%D0%BE%D0%B4%D1%83%D0%BA%D1%86%D0%B8%D0%B8.%0A%D0%AF+%D0%BE%D0%B1%D0%BB%D0%B0%D0%B4%D0%B0%D1%8E+%D1%88%D0%B8%D1%80%D0%BE%D0%BA%D0%B8%D0%BC+%D1%84%D1%83%D0%BD%D0%BA%D1%86%D0%B8%D0%BE%D0%BD%D0%B0%D0%BB%D0%BE%D0%BC+%D0%B2+%D0%BF%D0%BE%D1%81%D1%82%D1%80%D0%BE%D0%B5%D0%BD%D0%B8%D0%B8+BI+%D0%BE%D1%82%D1%87%D1%91%D1%82%D0%BD%D0%BE%D1%81%D1%82%D0%B8%2C+%D0%BC%D0%BE%D0%B4%D0%B5%D0%BB%D0%B8%D1%80%D0%BE%D0%B2%D0%B0%D0%BD%D0%B8%D0%B8%2C+%D1%81%D0%B2%D1%8F%D0%B7%D1%8F%D1%85%2C+%D0%BA%D0%BE%D1%80%D1%80%D0%B5%D0%BA%D1%82%D0%B8%D1%80%D0%BE%D0%B2%D0%B0%D0%BD%D0%B8%D0%B8+%D0%B4%D0%B0%D0%BD%D0%BD%D1%8B%D1%85+%D0%B2+Power+Qwery+%D0%B8+%D1%80%D0%B0%D0%B1%D0%BE%D1%82%D1%8B+%D1%81+%D0%B1%D0%B0%D0%B7%D0%B0%D0%BC%D0%B8+%D0%B4%D0%B0%D0%BD%D0%BD%D1%8B%D1%85.%0A%D0%A3%D1%87%D0%B0%D1%81%D1%82%D0%B2%D0%BE%D0%B2%D0%B0%D0%BB+%D0%B2+%D0%BF%D1%80%D0%BE%D0%B5%D0%BA%D1%82%D0%B0%D1%85+%D0%BF%D0%BE+%D0%BE%D0%BF%D1%82%D0%B8%D0%BC%D0%B8%D0%B7%D0%B0%D1%86%D0%B8%D0%B8+%D0%B8+%D0%B0%D0%B2%D1%82%D0%BE%D0%BC%D0%B0%D1%82%D0%B8%D0%B7%D0%B0%D1%86%D0%B8%D0%B8+%D0%B1%D0%B8%D0%B7%D0%BD%D0%B5%D1%81-%D0%BF%D1%80%D0%BE%D1%86%D0%B5%D1%81%D1%81%D0%BE%D0%B2+%D0%B8+%D0%BE%D1%82%D1%87%D1%91%D1%82%D0%BD%D0%BE%D1%81%D1%82%D0%B8.%0A%D0%A0%D0%B0%D0%B1%D0%BE%D1%82%D0%B0%D0%BB+%D0%B2+%D0%BA%D0%BE%D0%BC%D0%BF%D0%B0%D0%BD%D0%B8%D1%8F%D1%85+%D1%81+%D1%82%D0%B0%D0%BA%D0%B8%D0%BC%D0%B8+%D0%BF%D1%80%D0%BE%D0%B3%D1%80%D0%B0%D0%BC%D0%BC%D0%B0%D0%BC%D0%B8+%D0%BA%D0%B0%D0%BA+%3A+Power+BI%2C+Excel%2C+MS+Office%2C+VipPlanner.%0A%D0%97%D0%BD%D0%B0%D0%BA%D0%BE%D0%BC+%D1%81+%D1%82%D0%B0%D0%BA%D0%B8%D0%BC%D0%B8+%D0%BF%D1%80%D0%BE%D0%B3%D1%80%D0%B0%D0%BC%D0%BC%D0%BD%D1%8B%D0%BC%D0%B8+%D0%B8%D0%BD%D1%81%D1%82%D1%80%D1%83%D0%BC%D0%B5%D0%BD%D1%82%D0%B0%D0%BC%D0%B8+%D0%BA%D0%B0%D0%BA+%3A+Jira%2C+kanban%2C+confluence.%0A%D0%9F%D1%80%D0%B8%D0%BC%D0%B5%D1%80%D1%8B+%D0%B4%D0%B0%D1%88%D0%B1%D0%BE%D1%80%D0%B4%D0%BE%D0%B2+%D0%BC%D0%BE%D0%B3%D1%83+%D0%B2%D1%8B%D1%81%D0%BB%D0%B0%D1%82%D1%8C+%D0%BB%D0%B8%D1%87%D0%BD%D0%BE.%0A%D0%91%D1%83%D0%B4%D1%83+%D1%80%D0%B0%D0%B4+%D0%B2+%D1%80%D0%B0%D0%BC%D0%BA%D0%B0%D1%85+%D1%81%D0%BE%D0%B1%D0%B5%D1%81%D0%B5%D0%B4%D0%BE%D0%B2%D0%B0%D0%BD%D0%B8%D1%8F+%D0%BE%D1%82%D0%B2%D0%B5%D1%82%D0%B8%D1%82%D1%8C+%D0%BD%D0%B0+%D0%B2%D1%81%D0%B5+%D0%B8%D0%BD%D1%82%D0%B5%D1%80%D0%B5%D1%81%D1%83%D1%8E%D1%89%D0%B8%D0%B5+%D0%92%D0%B0%D1%81+%D0%B2%D0%BE%D0%BF%D1%80%D0%BE%D1%81%D1%8B.%0A%D0%97%D0%B0%D1%80%D0%B0%D0%BD%D0%B5%D0%B5+%D0%B1%D0%BB%D0%B0%D0%B3%D0%BE%D0%B4%D0%B0%D1%80%D1%8E+%D0%92%D0%B0%D1%81+%D0%B7%D0%B0+%D1%83%D0%B4%D0%B5%D0%BB%D1%91%D0%BD%D0%BD%D0%BE%D0%B5+%D0%BC%D0%BE%D0%B5%D0%B9+%D0%BA%D0%B0%D0%BD%D0%B4%D0%B8%D0%B4%D0%B0%D1%82%D1%83%D1%80%D0%B5+%D0%B2%D1%80%D0%B5%D0%BC%D1%8F.%0A%D0%92%D0%BB%D0%B0%D0%B4%D0%B5%D1%8E+%D0%BD%D0%B0%D0%B2%D1%8B%D0%BA%D0%BE%D0%BC+%22%D0%94%D0%B5%D0%BB%D0%BE%D0%B2%D0%B0%D1%8F+%D0%BF%D0%B5%D1%80%D0%B5%), предобученном на датасете Gazeta."
   ]
  },
  {
   "cell_type": "markdown",
   "id": "cb4a1426-b3dc-4424-9e9a-23e9666d17b0",
   "metadata": {},
   "source": [
    "Импорт модели:"
   ]
  },
  {
   "cell_type": "code",
   "execution_count": 53,
   "id": "49575f3d-8e21-4dca-af51-ec1d755057d5",
   "metadata": {},
   "outputs": [],
   "source": [
    "from transformers import MBartTokenizer, MBartForConditionalGeneration"
   ]
  },
  {
   "cell_type": "code",
   "execution_count": 54,
   "id": "ebf06967-9cf6-49f8-bbe6-9c74d006b0c7",
   "metadata": {},
   "outputs": [],
   "source": [
    "model_name = \"IlyaGusev/mbart_ru_sum_gazeta\"\n",
    "tokenizer = MBartTokenizer.from_pretrained(model_name)\n",
    "model = MBartForConditionalGeneration.from_pretrained(model_name)"
   ]
  },
  {
   "cell_type": "markdown",
   "id": "1b9017ad-fbb2-46c6-a934-fab54f82dd94",
   "metadata": {},
   "source": [
    "Функция для суммаризации текста с использованием модели:"
   ]
  },
  {
   "cell_type": "code",
   "execution_count": 55,
   "id": "996d72a0-0872-4d24-9385-e9ee0064496a",
   "metadata": {},
   "outputs": [],
   "source": [
    "def summarize(article_text):\n",
    "    input_ids = tokenizer(\n",
    "        [article_text],\n",
    "        max_length=600,\n",
    "        padding=\"max_length\",\n",
    "        truncation=True,\n",
    "        return_tensors=\"pt\",\n",
    "    )[\"input_ids\"]\n",
    "\n",
    "    output_ids = model.generate(\n",
    "        input_ids=input_ids,\n",
    "        no_repeat_ngram_size=4\n",
    "    )[0]\n",
    "\n",
    "    summary = tokenizer.decode(output_ids, skip_special_tokens=True)\n",
    "    return summary"
   ]
  },
  {
   "cell_type": "markdown",
   "id": "ec81f46c-faed-4e2d-acf8-f2efabd73f57",
   "metadata": {},
   "source": [
    "Запускаем функцию:"
   ]
  },
  {
   "cell_type": "code",
   "execution_count": 62,
   "id": "d334d128-92c3-47ad-871c-b5a037432087",
   "metadata": {
    "collapsed": true,
    "jupyter": {
     "outputs_hidden": true
    },
    "tags": []
   },
   "outputs": [
    {
     "name": "stdout",
     "output_type": "stream",
     "text": [
      "5 / 2725\n",
      "10 / 2725\n",
      "15 / 2725\n",
      "20 / 2725\n",
      "25 / 2725\n",
      "30 / 2725\n",
      "35 / 2725\n",
      "40 / 2725\n",
      "45 / 2725\n",
      "50 / 2725\n",
      "55 / 2725\n",
      "60 / 2725\n",
      "65 / 2725\n",
      "70 / 2725\n",
      "75 / 2725\n",
      "80 / 2725\n",
      "85 / 2725\n",
      "90 / 2725\n",
      "95 / 2725\n",
      "100 / 2725\n",
      "105 / 2725\n",
      "110 / 2725\n",
      "115 / 2725\n",
      "120 / 2725\n",
      "125 / 2725\n",
      "130 / 2725\n",
      "135 / 2725\n",
      "140 / 2725\n",
      "145 / 2725\n",
      "150 / 2725\n",
      "155 / 2725\n",
      "160 / 2725\n",
      "165 / 2725\n",
      "170 / 2725\n",
      "175 / 2725\n",
      "180 / 2725\n",
      "185 / 2725\n",
      "190 / 2725\n",
      "195 / 2725\n",
      "200 / 2725\n",
      "205 / 2725\n",
      "210 / 2725\n",
      "215 / 2725\n",
      "220 / 2725\n",
      "225 / 2725\n",
      "230 / 2725\n",
      "235 / 2725\n",
      "240 / 2725\n",
      "245 / 2725\n",
      "250 / 2725\n",
      "255 / 2725\n",
      "260 / 2725\n",
      "265 / 2725\n",
      "270 / 2725\n",
      "275 / 2725\n",
      "280 / 2725\n",
      "285 / 2725\n",
      "290 / 2725\n",
      "295 / 2725\n",
      "300 / 2725\n",
      "305 / 2725\n",
      "310 / 2725\n",
      "315 / 2725\n",
      "320 / 2725\n",
      "325 / 2725\n",
      "330 / 2725\n",
      "335 / 2725\n",
      "340 / 2725\n",
      "345 / 2725\n",
      "350 / 2725\n",
      "355 / 2725\n",
      "360 / 2725\n",
      "365 / 2725\n",
      "370 / 2725\n",
      "375 / 2725\n",
      "380 / 2725\n",
      "385 / 2725\n",
      "390 / 2725\n",
      "395 / 2725\n",
      "400 / 2725\n",
      "405 / 2725\n",
      "410 / 2725\n",
      "415 / 2725\n",
      "420 / 2725\n",
      "425 / 2725\n",
      "430 / 2725\n",
      "435 / 2725\n",
      "440 / 2725\n",
      "445 / 2725\n",
      "450 / 2725\n",
      "455 / 2725\n",
      "460 / 2725\n",
      "465 / 2725\n",
      "470 / 2725\n",
      "475 / 2725\n",
      "480 / 2725\n",
      "485 / 2725\n",
      "490 / 2725\n",
      "495 / 2725\n",
      "500 / 2725\n",
      "505 / 2725\n",
      "510 / 2725\n",
      "515 / 2725\n",
      "520 / 2725\n",
      "525 / 2725\n",
      "530 / 2725\n",
      "535 / 2725\n",
      "540 / 2725\n",
      "545 / 2725\n",
      "550 / 2725\n",
      "555 / 2725\n",
      "560 / 2725\n",
      "565 / 2725\n",
      "570 / 2725\n",
      "575 / 2725\n",
      "580 / 2725\n",
      "585 / 2725\n",
      "590 / 2725\n",
      "595 / 2725\n",
      "600 / 2725\n",
      "605 / 2725\n",
      "610 / 2725\n",
      "615 / 2725\n",
      "620 / 2725\n",
      "625 / 2725\n",
      "630 / 2725\n",
      "635 / 2725\n",
      "640 / 2725\n",
      "645 / 2725\n",
      "650 / 2725\n",
      "655 / 2725\n",
      "660 / 2725\n",
      "665 / 2725\n",
      "670 / 2725\n",
      "675 / 2725\n",
      "680 / 2725\n",
      "685 / 2725\n",
      "690 / 2725\n",
      "695 / 2725\n",
      "700 / 2725\n",
      "705 / 2725\n",
      "710 / 2725\n",
      "715 / 2725\n",
      "720 / 2725\n",
      "725 / 2725\n",
      "730 / 2725\n",
      "735 / 2725\n",
      "740 / 2725\n",
      "745 / 2725\n",
      "750 / 2725\n",
      "755 / 2725\n",
      "760 / 2725\n",
      "765 / 2725\n",
      "770 / 2725\n",
      "775 / 2725\n",
      "780 / 2725\n",
      "785 / 2725\n",
      "790 / 2725\n",
      "795 / 2725\n",
      "800 / 2725\n",
      "805 / 2725\n",
      "810 / 2725\n",
      "815 / 2725\n",
      "820 / 2725\n",
      "825 / 2725\n",
      "830 / 2725\n",
      "835 / 2725\n",
      "840 / 2725\n",
      "845 / 2725\n",
      "850 / 2725\n",
      "855 / 2725\n",
      "860 / 2725\n",
      "865 / 2725\n",
      "870 / 2725\n",
      "875 / 2725\n",
      "880 / 2725\n",
      "885 / 2725\n",
      "890 / 2725\n",
      "895 / 2725\n",
      "900 / 2725\n",
      "905 / 2725\n",
      "910 / 2725\n",
      "915 / 2725\n",
      "920 / 2725\n",
      "925 / 2725\n",
      "930 / 2725\n",
      "935 / 2725\n",
      "940 / 2725\n",
      "945 / 2725\n",
      "950 / 2725\n",
      "955 / 2725\n",
      "960 / 2725\n",
      "965 / 2725\n",
      "970 / 2725\n",
      "975 / 2725\n",
      "980 / 2725\n",
      "985 / 2725\n",
      "990 / 2725\n",
      "995 / 2725\n",
      "1000 / 2725\n",
      "1005 / 2725\n",
      "1010 / 2725\n",
      "1015 / 2725\n",
      "1020 / 2725\n",
      "1025 / 2725\n",
      "1030 / 2725\n",
      "1035 / 2725\n",
      "1040 / 2725\n",
      "1045 / 2725\n",
      "1050 / 2725\n",
      "1055 / 2725\n",
      "1060 / 2725\n",
      "1065 / 2725\n",
      "1070 / 2725\n",
      "1075 / 2725\n",
      "1080 / 2725\n",
      "1085 / 2725\n",
      "1090 / 2725\n",
      "1095 / 2725\n",
      "1100 / 2725\n",
      "1105 / 2725\n",
      "1110 / 2725\n",
      "1115 / 2725\n",
      "1120 / 2725\n",
      "1125 / 2725\n",
      "1130 / 2725\n",
      "1135 / 2725\n",
      "1140 / 2725\n",
      "1145 / 2725\n",
      "1150 / 2725\n",
      "1155 / 2725\n",
      "1160 / 2725\n",
      "1165 / 2725\n",
      "1170 / 2725\n",
      "1175 / 2725\n",
      "1180 / 2725\n",
      "1185 / 2725\n",
      "1190 / 2725\n",
      "1195 / 2725\n",
      "1200 / 2725\n",
      "1205 / 2725\n",
      "1210 / 2725\n",
      "1215 / 2725\n",
      "1220 / 2725\n",
      "1225 / 2725\n",
      "1230 / 2725\n",
      "1235 / 2725\n",
      "1240 / 2725\n",
      "1245 / 2725\n",
      "1250 / 2725\n",
      "1255 / 2725\n",
      "1260 / 2725\n",
      "1265 / 2725\n",
      "1270 / 2725\n",
      "1275 / 2725\n",
      "1280 / 2725\n",
      "1285 / 2725\n",
      "1290 / 2725\n",
      "1295 / 2725\n",
      "1300 / 2725\n",
      "1305 / 2725\n",
      "1310 / 2725\n",
      "1315 / 2725\n",
      "1320 / 2725\n",
      "1325 / 2725\n",
      "1330 / 2725\n",
      "1335 / 2725\n",
      "1340 / 2725\n",
      "1345 / 2725\n",
      "1350 / 2725\n",
      "1355 / 2725\n",
      "1360 / 2725\n",
      "1365 / 2725\n",
      "1370 / 2725\n",
      "1375 / 2725\n",
      "1380 / 2725\n",
      "1385 / 2725\n",
      "1390 / 2725\n",
      "1395 / 2725\n",
      "1400 / 2725\n",
      "1405 / 2725\n",
      "1410 / 2725\n",
      "1415 / 2725\n",
      "1420 / 2725\n",
      "1425 / 2725\n",
      "1430 / 2725\n",
      "1435 / 2725\n",
      "1440 / 2725\n",
      "1445 / 2725\n",
      "1450 / 2725\n",
      "1455 / 2725\n",
      "1460 / 2725\n",
      "1465 / 2725\n",
      "1470 / 2725\n",
      "1475 / 2725\n",
      "1480 / 2725\n",
      "1485 / 2725\n",
      "1490 / 2725\n",
      "1495 / 2725\n",
      "1500 / 2725\n",
      "1505 / 2725\n",
      "1510 / 2725\n",
      "1515 / 2725\n",
      "1520 / 2725\n",
      "1525 / 2725\n",
      "1530 / 2725\n",
      "1535 / 2725\n",
      "1540 / 2725\n",
      "1545 / 2725\n",
      "1550 / 2725\n",
      "1555 / 2725\n",
      "1560 / 2725\n",
      "1565 / 2725\n",
      "1570 / 2725\n",
      "1575 / 2725\n",
      "1580 / 2725\n",
      "1585 / 2725\n",
      "1590 / 2725\n",
      "1595 / 2725\n",
      "1600 / 2725\n",
      "1605 / 2725\n",
      "1610 / 2725\n",
      "1615 / 2725\n",
      "1620 / 2725\n",
      "1625 / 2725\n",
      "1630 / 2725\n",
      "1635 / 2725\n",
      "1640 / 2725\n",
      "1645 / 2725\n",
      "1650 / 2725\n",
      "1655 / 2725\n",
      "1660 / 2725\n",
      "1665 / 2725\n",
      "1670 / 2725\n",
      "1675 / 2725\n",
      "1680 / 2725\n",
      "1685 / 2725\n",
      "1690 / 2725\n",
      "1695 / 2725\n",
      "1700 / 2725\n",
      "1705 / 2725\n",
      "1710 / 2725\n",
      "1715 / 2725\n",
      "1720 / 2725\n",
      "1725 / 2725\n",
      "1730 / 2725\n",
      "1735 / 2725\n",
      "1740 / 2725\n",
      "1745 / 2725\n",
      "1750 / 2725\n",
      "1755 / 2725\n",
      "1760 / 2725\n",
      "1765 / 2725\n",
      "1770 / 2725\n",
      "1775 / 2725\n",
      "1780 / 2725\n",
      "1785 / 2725\n",
      "1790 / 2725\n",
      "1795 / 2725\n",
      "1800 / 2725\n",
      "1805 / 2725\n",
      "1810 / 2725\n",
      "1815 / 2725\n",
      "1820 / 2725\n",
      "1825 / 2725\n",
      "1830 / 2725\n",
      "1835 / 2725\n",
      "1840 / 2725\n",
      "1845 / 2725\n",
      "1850 / 2725\n",
      "1855 / 2725\n",
      "1860 / 2725\n",
      "1865 / 2725\n",
      "1870 / 2725\n",
      "1875 / 2725\n",
      "1880 / 2725\n",
      "1885 / 2725\n",
      "1890 / 2725\n",
      "1895 / 2725\n",
      "1900 / 2725\n",
      "1905 / 2725\n",
      "1910 / 2725\n",
      "1915 / 2725\n",
      "1920 / 2725\n",
      "1925 / 2725\n",
      "1930 / 2725\n",
      "1935 / 2725\n",
      "1940 / 2725\n",
      "1945 / 2725\n",
      "1950 / 2725\n",
      "1955 / 2725\n",
      "1960 / 2725\n",
      "1965 / 2725\n",
      "1970 / 2725\n",
      "1975 / 2725\n",
      "1980 / 2725\n",
      "1985 / 2725\n",
      "1990 / 2725\n",
      "1995 / 2725\n",
      "2000 / 2725\n",
      "2005 / 2725\n",
      "2010 / 2725\n",
      "2015 / 2725\n",
      "2020 / 2725\n",
      "2025 / 2725\n",
      "2030 / 2725\n",
      "2035 / 2725\n",
      "2040 / 2725\n",
      "2045 / 2725\n",
      "2050 / 2725\n",
      "2055 / 2725\n",
      "2060 / 2725\n",
      "2065 / 2725\n",
      "2070 / 2725\n",
      "2075 / 2725\n",
      "2080 / 2725\n",
      "2085 / 2725\n",
      "2090 / 2725\n",
      "2095 / 2725\n",
      "2100 / 2725\n",
      "2105 / 2725\n",
      "2110 / 2725\n",
      "2115 / 2725\n",
      "2120 / 2725\n",
      "2125 / 2725\n",
      "2130 / 2725\n",
      "2135 / 2725\n",
      "2140 / 2725\n",
      "2145 / 2725\n",
      "2150 / 2725\n",
      "2155 / 2725\n",
      "2160 / 2725\n",
      "2165 / 2725\n",
      "2170 / 2725\n",
      "2175 / 2725\n",
      "2180 / 2725\n",
      "2185 / 2725\n",
      "2190 / 2725\n",
      "2195 / 2725\n",
      "2200 / 2725\n",
      "2205 / 2725\n",
      "2210 / 2725\n",
      "2215 / 2725\n",
      "2220 / 2725\n",
      "2225 / 2725\n",
      "2230 / 2725\n",
      "2235 / 2725\n",
      "2240 / 2725\n",
      "2245 / 2725\n",
      "2250 / 2725\n",
      "2255 / 2725\n",
      "2260 / 2725\n",
      "2265 / 2725\n",
      "2270 / 2725\n",
      "2275 / 2725\n",
      "2280 / 2725\n",
      "2285 / 2725\n",
      "2290 / 2725\n",
      "2295 / 2725\n",
      "2300 / 2725\n",
      "2305 / 2725\n",
      "2310 / 2725\n",
      "2315 / 2725\n",
      "2320 / 2725\n",
      "2325 / 2725\n",
      "2330 / 2725\n",
      "2335 / 2725\n",
      "2340 / 2725\n",
      "2345 / 2725\n",
      "2350 / 2725\n",
      "2355 / 2725\n",
      "2360 / 2725\n",
      "2365 / 2725\n",
      "2370 / 2725\n",
      "2375 / 2725\n",
      "2380 / 2725\n",
      "2385 / 2725\n",
      "2390 / 2725\n",
      "2395 / 2725\n",
      "2400 / 2725\n",
      "2405 / 2725\n",
      "2410 / 2725\n",
      "2415 / 2725\n",
      "2420 / 2725\n",
      "2425 / 2725\n",
      "2430 / 2725\n",
      "2435 / 2725\n",
      "2440 / 2725\n",
      "2445 / 2725\n",
      "2450 / 2725\n",
      "2455 / 2725\n",
      "2460 / 2725\n",
      "2465 / 2725\n",
      "2470 / 2725\n",
      "2475 / 2725\n",
      "2480 / 2725\n",
      "2485 / 2725\n",
      "2490 / 2725\n",
      "2495 / 2725\n",
      "2500 / 2725\n",
      "2505 / 2725\n",
      "2510 / 2725\n",
      "2515 / 2725\n",
      "2520 / 2725\n",
      "2525 / 2725\n",
      "2530 / 2725\n",
      "2535 / 2725\n",
      "2540 / 2725\n",
      "2545 / 2725\n",
      "2550 / 2725\n",
      "2555 / 2725\n",
      "2560 / 2725\n",
      "2565 / 2725\n",
      "2570 / 2725\n",
      "2575 / 2725\n",
      "2580 / 2725\n",
      "2585 / 2725\n",
      "2590 / 2725\n",
      "2595 / 2725\n",
      "2600 / 2725\n",
      "2605 / 2725\n",
      "2610 / 2725\n",
      "2615 / 2725\n",
      "2620 / 2725\n",
      "2625 / 2725\n",
      "2630 / 2725\n",
      "2635 / 2725\n",
      "2640 / 2725\n",
      "2645 / 2725\n",
      "2650 / 2725\n",
      "2655 / 2725\n",
      "2660 / 2725\n",
      "2665 / 2725\n",
      "2670 / 2725\n",
      "2675 / 2725\n",
      "2680 / 2725\n",
      "2685 / 2725\n",
      "2690 / 2725\n",
      "2695 / 2725\n",
      "2700 / 2725\n",
      "2705 / 2725\n",
      "2710 / 2725\n",
      "2715 / 2725\n",
      "2720 / 2725\n",
      "2725 / 2725\n"
     ]
    }
   ],
   "source": [
    "summarizations = []\n",
    "for i in range(df.shape[0]):\n",
    "    if df['О себе'].iloc[i] != '---' and df['is_eng?'].iloc[i] == 'RU' and (not pd.isna(df['О себе'].iloc[i])):\n",
    "        text_to_summarize = df['О себе'].iloc[i]\n",
    "        summarizations.append(summarize(text_to_summarize))\n",
    "    else:\n",
    "        summarizations.append(df['О себе'].iloc[i])\n",
    "    \n",
    "    if len(summarizations) % 5 == 0:\n",
    "        print(len(summarizations), '/', df.shape[0])"
   ]
  },
  {
   "cell_type": "markdown",
   "id": "59eba840-d51c-4d0c-b1c2-764a072a569f",
   "metadata": {},
   "source": [
    "Сохраняем результат:"
   ]
  },
  {
   "cell_type": "code",
   "execution_count": 63,
   "id": "53009263-c5bb-4046-b15e-49f412ff5995",
   "metadata": {
    "tags": []
   },
   "outputs": [
    {
     "name": "stderr",
     "output_type": "stream",
     "text": [
      "/var/folders/0k/pk7zyw6x2sqcjpbqvgf0ssh80000gn/T/ipykernel_37832/1096740388.py:1: SettingWithCopyWarning: \n",
      "A value is trying to be set on a copy of a slice from a DataFrame.\n",
      "Try using .loc[row_indexer,col_indexer] = value instead\n",
      "\n",
      "See the caveats in the documentation: https://pandas.pydata.org/pandas-docs/stable/user_guide/indexing.html#returning-a-view-versus-a-copy\n",
      "  df['О себе, summarized'] = summarizations\n"
     ]
    }
   ],
   "source": [
    "df['О себе, summarized'] = summarizations"
   ]
  },
  {
   "cell_type": "code",
   "execution_count": 71,
   "id": "123a1e87-4e22-466b-902b-3fb40f2cdf40",
   "metadata": {},
   "outputs": [],
   "source": [
    "df.to_csv('resumes_features.csv')"
   ]
  },
  {
   "cell_type": "markdown",
   "id": "4af5e99d-ecc6-49d3-a2ce-9738fdf1d30d",
   "metadata": {},
   "source": [
    "**Разметка данных:**"
   ]
  },
  {
   "cell_type": "markdown",
   "id": "f84cc040-6806-47d7-8dda-dcacd977aaf0",
   "metadata": {},
   "source": [
    "Буду выбирать случайное резюме и оценивать. Всего планируется оценить ~4% резюме, то есть, ~100 штук. "
   ]
  },
  {
   "cell_type": "code",
   "execution_count": null,
   "id": "1d6221ea-6aee-47e6-820f-0571714c6ec2",
   "metadata": {
    "tags": []
   },
   "outputs": [],
   "source": [
    "df = pd.read_csv('resumes_features.csv')"
   ]
  },
  {
   "cell_type": "code",
   "execution_count": 32,
   "id": "7df2bc53-25c8-4d77-aa55-9b41fcc13037",
   "metadata": {
    "tags": []
   },
   "outputs": [],
   "source": [
    "df['DA'] = np.nan\n",
    "df['DS'] = np.nan"
   ]
  },
  {
   "cell_type": "code",
   "execution_count": 33,
   "id": "28a58e66-06c7-4ba7-9ce9-cde1f0516ca7",
   "metadata": {
    "tags": []
   },
   "outputs": [
    {
     "name": "stdout",
     "output_type": "stream",
     "text": [
      "reset true, false\n"
     ]
    }
   ],
   "source": [
    "right_count = 0\n",
    "false_count = 0\n",
    "print('reset true, false')"
   ]
  },
  {
   "cell_type": "markdown",
   "id": "cb530dfa-ff68-4ea4-b1f3-e7c28d8ee174",
   "metadata": {},
   "source": [
    "**!!** Смотрим на случайное резюме:"
   ]
  },
  {
   "cell_type": "code",
   "execution_count": 1681,
   "id": "24d594db-9eba-4017-b84f-20a3add84e6d",
   "metadata": {},
   "outputs": [
    {
     "name": "stdout",
     "output_type": "stream",
     "text": [
      "https://hh.ru/resume/54f904d500081af3870039ed1f6b6479456253?query=%D0%B0%D0%BD%D0%B0%D0%BB%D0%B8%D1%82%D0%B8%D0%BA+%D0%BF%D1%80%D0%BE%D0%B4%D0%B0%D0%B6&source=search&hhtmFrom=resumes_catalog\n",
      "Менеджер по работе с маркетплейсами\n"
     ]
    }
   ],
   "source": [
    "df_sample = df.sample(1).loc[:, ['Ссылка', 'Название', 'DA', 'DS']]\n",
    "print(df_sample['Ссылка'].iloc[0])\n",
    "print(df_sample['Название'].iloc[0])"
   ]
  },
  {
   "cell_type": "markdown",
   "id": "0359f22a-8565-4e7e-8da8-b06a3fa6fb75",
   "metadata": {},
   "source": [
    "Размечаем:"
   ]
  },
  {
   "cell_type": "code",
   "execution_count": 1682,
   "id": "31323c22-a9d9-4a39-9412-b35688cb7f3c",
   "metadata": {},
   "outputs": [],
   "source": [
    "df_sample['DA'] = 0"
   ]
  },
  {
   "cell_type": "code",
   "execution_count": 1683,
   "id": "1b6a5246-9140-40fc-a2ac-999a4c721631",
   "metadata": {},
   "outputs": [],
   "source": [
    "df_sample['DS'] = 0"
   ]
  },
  {
   "cell_type": "code",
   "execution_count": 1684,
   "id": "1fcecf99-f591-4888-baaf-364d24bed8a2",
   "metadata": {},
   "outputs": [],
   "source": [
    "df.loc[df_sample.index[0], 'DA'] = 0\n",
    "df.loc[df_sample.index[0], 'DS'] = 0"
   ]
  },
  {
   "cell_type": "markdown",
   "id": "d767b0b9-6e1a-4c14-a5c1-d7c5e8bb680c",
   "metadata": {},
   "source": [
    "Проверка:"
   ]
  },
  {
   "cell_type": "code",
   "execution_count": 1685,
   "id": "bb60c105-4534-41c0-81a5-5c078b4f38b7",
   "metadata": {},
   "outputs": [
    {
     "data": {
      "text/plain": [
       "Название    Менеджер по работе с маркетплейсами\n",
       "DA                                            0\n",
       "DS                                            0\n",
       "Name: 1951, dtype: object"
      ]
     },
     "execution_count": 1685,
     "metadata": {},
     "output_type": "execute_result"
    }
   ],
   "source": [
    "df_sample.iloc[0].loc[['Название', 'DA', 'DS']]"
   ]
  },
  {
   "cell_type": "code",
   "execution_count": 1686,
   "id": "f67e3b0f-dc7c-466a-8ede-d22ae70b4d07",
   "metadata": {},
   "outputs": [
    {
     "data": {
      "text/plain": [
       "Название    Менеджер по работе с маркетплейсами\n",
       "DA                                          0.0\n",
       "DS                                          0.0\n",
       "Name: 1951, dtype: object"
      ]
     },
     "execution_count": 1686,
     "metadata": {},
     "output_type": "execute_result"
    }
   ],
   "source": [
    "df.loc[df_sample.index[0], ['Название', 'DA', 'DS']]"
   ]
  },
  {
   "cell_type": "code",
   "execution_count": 1687,
   "id": "c597da31-4840-4405-bab1-e7fcac6bf8dd",
   "metadata": {},
   "outputs": [
    {
     "name": "stdout",
     "output_type": "stream",
     "text": [
      "false: 67 -> 68\n"
     ]
    }
   ],
   "source": [
    "print('false:', false_count, '->', end=' ')\n",
    "false_count += 1\n",
    "print(false_count)"
   ]
  },
  {
   "cell_type": "markdown",
   "id": "3cf0bf58-596a-46c3-a4ef-eef2c36c2e14",
   "metadata": {},
   "source": [
    "Отмечаем (False ~ not DA and not BA):"
   ]
  },
  {
   "cell_type": "code",
   "execution_count": 1663,
   "id": "70f52c8a-9f98-4ed6-bded-b61916e41312",
   "metadata": {},
   "outputs": [
    {
     "name": "stdout",
     "output_type": "stream",
     "text": [
      "true: 32 -> 33\n"
     ]
    }
   ],
   "source": [
    "print('true:', right_count, '->', end=' ')\n",
    "right_count += 1\n",
    "print(right_count)"
   ]
  },
  {
   "cell_type": "code",
   "execution_count": 1688,
   "id": "a038ac22-ef22-49d9-84ef-d55ef09897f6",
   "metadata": {},
   "outputs": [
    {
     "name": "stdout",
     "output_type": "stream",
     "text": [
      "101\n"
     ]
    }
   ],
   "source": [
    "print(right_count + false_count)"
   ]
  },
  {
   "cell_type": "code",
   "execution_count": 24,
   "id": "4a840b3c-d9ec-4438-b392-c0cc3ed67a5b",
   "metadata": {},
   "outputs": [],
   "source": [
    "df.to_csv('resumes_features.csv')"
   ]
  },
  {
   "cell_type": "markdown",
   "id": "c55699ea-7cbe-4f63-9dda-8e90db2a93d2",
   "metadata": {},
   "source": [
    "Проверим, сколько мы разметили в итоге:"
   ]
  },
  {
   "cell_type": "code",
   "execution_count": 1692,
   "id": "2b112e63-a034-4ec4-be38-11915517b3b0",
   "metadata": {},
   "outputs": [
    {
     "data": {
      "text/plain": [
       "100"
      ]
     },
     "execution_count": 1692,
     "metadata": {},
     "output_type": "execute_result"
    }
   ],
   "source": [
    "df.loc[:, ['DA', 'DS']].value_counts().sum()"
   ]
  },
  {
   "cell_type": "code",
   "execution_count": null,
   "id": "ae09ac3f-e2b8-4c36-b7b4-dc7be7585228",
   "metadata": {},
   "outputs": [],
   "source": []
  }
 ],
 "metadata": {
  "kernelspec": {
   "display_name": "Python 3 (ipykernel)",
   "language": "python",
   "name": "python3"
  },
  "language_info": {
   "codemirror_mode": {
    "name": "ipython",
    "version": 3
   },
   "file_extension": ".py",
   "mimetype": "text/x-python",
   "name": "python",
   "nbconvert_exporter": "python",
   "pygments_lexer": "ipython3",
   "version": "3.9.5"
  }
 },
 "nbformat": 4,
 "nbformat_minor": 5
}
